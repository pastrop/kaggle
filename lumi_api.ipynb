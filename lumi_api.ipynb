{
  "nbformat": 4,
  "nbformat_minor": 0,
  "metadata": {
    "colab": {
      "name": "lumi_api.ipynb",
      "provenance": [],
      "authorship_tag": "ABX9TyNc2CPbJMcmG/gHoKkC1HGx",
      "include_colab_link": true
    },
    "kernelspec": {
      "name": "python3",
      "display_name": "Python 3"
    },
    "language_info": {
      "name": "python"
    }
  },
  "cells": [
    {
      "cell_type": "markdown",
      "metadata": {
        "id": "view-in-github",
        "colab_type": "text"
      },
      "source": [
        "<a href=\"https://colab.research.google.com/github/pastrop/kaggle/blob/master/lumi_api.ipynb\" target=\"_parent\"><img src=\"https://colab.research.google.com/assets/colab-badge.svg\" alt=\"Open In Colab\"/></a>"
      ]
    },
    {
      "cell_type": "code",
      "metadata": {
        "colab": {
          "base_uri": "https://localhost:8080/"
        },
        "id": "Kfjjd3MgAo64",
        "outputId": "b5268672-efb3-4966-9a2c-01d58b2120e0"
      },
      "source": [
        "!pip install luminoso_api"
      ],
      "execution_count": null,
      "outputs": [
        {
          "output_type": "stream",
          "text": [
            "Collecting luminoso_api\n",
            "  Downloading https://files.pythonhosted.org/packages/9c/08/4a96c45ff4f80b377f8f2ea09ab800cd3d63aa3b762457344f5c80c6554a/luminoso-api-3.1.0.tar.gz\n",
            "Requirement already satisfied: requests<3.0,>=1.2.1 in /usr/local/lib/python3.7/dist-packages (from luminoso_api) (2.23.0)\n",
            "Requirement already satisfied: tqdm in /usr/local/lib/python3.7/dist-packages (from luminoso_api) (4.41.1)\n",
            "Requirement already satisfied: certifi>=2017.4.17 in /usr/local/lib/python3.7/dist-packages (from requests<3.0,>=1.2.1->luminoso_api) (2021.5.30)\n",
            "Requirement already satisfied: chardet<4,>=3.0.2 in /usr/local/lib/python3.7/dist-packages (from requests<3.0,>=1.2.1->luminoso_api) (3.0.4)\n",
            "Requirement already satisfied: idna<3,>=2.5 in /usr/local/lib/python3.7/dist-packages (from requests<3.0,>=1.2.1->luminoso_api) (2.10)\n",
            "Requirement already satisfied: urllib3!=1.25.0,!=1.25.1,<1.26,>=1.21.1 in /usr/local/lib/python3.7/dist-packages (from requests<3.0,>=1.2.1->luminoso_api) (1.24.3)\n",
            "Building wheels for collected packages: luminoso-api\n",
            "  Building wheel for luminoso-api (setup.py) ... \u001b[?25l\u001b[?25hdone\n",
            "  Created wheel for luminoso-api: filename=luminoso_api-3.1.0-cp37-none-any.whl size=18021 sha256=fb36bc92240cc0570195135608bfcec6ac911d99dc0414e77a109c113f16a8b3\n",
            "  Stored in directory: /root/.cache/pip/wheels/74/61/27/fdba509867c6dc344f81db232f0ff3059a5d0eae606c6d43e7\n",
            "Successfully built luminoso-api\n",
            "Installing collected packages: luminoso-api\n",
            "Successfully installed luminoso-api-3.1.0\n"
          ],
          "name": "stdout"
        }
      ]
    },
    {
      "cell_type": "code",
      "metadata": {
        "colab": {
          "base_uri": "https://localhost:8080/"
        },
        "id": "tYFcOBx3A5E7",
        "outputId": "6712ddf3-e80b-42ab-cff7-f05f60f2a14c"
      },
      "source": [
        "from luminoso_api.v5_client import LuminosoClient\n",
        "c = LuminosoClient.connect(url='http://daylight-master.dev.int.luminoso.com/', token='5LO_DoYBCfP1ZyEuh-1G9uz17fAxAks5')"
      ],
      "execution_count": null,
      "outputs": [
        {
          "output_type": "stream",
          "text": [
            "Using http://daylight-master.dev.int.luminoso.com/api/v5 as the root url\n"
          ],
          "name": "stderr"
        }
      ]
    },
    {
      "cell_type": "code",
      "metadata": {
        "id": "bomonm_PBAfh"
      },
      "source": [
        "#c.get('/api/v5/projects/prxvqnc7/terms', term_ids=['hop|en'])\n",
        "#c.get('api/v5/projects/project_id/concepts', concept_selector='{\"type\": \"top\"}')"
      ],
      "execution_count": null,
      "outputs": []
    }
  ]
}