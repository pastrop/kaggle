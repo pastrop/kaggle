{
  "nbformat": 4,
  "nbformat_minor": 0,
  "metadata": {
    "colab": {
      "name": "fraud_dection.ipynb",
      "provenance": [],
      "authorship_tag": "ABX9TyNsIdDv++mqzay7VGyoGcT+",
      "include_colab_link": true
    },
    "kernelspec": {
      "name": "python3",
      "display_name": "Python 3"
    }
  },
  "cells": [
    {
      "cell_type": "markdown",
      "metadata": {
        "id": "view-in-github",
        "colab_type": "text"
      },
      "source": [
        "<a href=\"https://colab.research.google.com/github/pastrop/kaggle/blob/master/fraud_dection.ipynb\" target=\"_parent\"><img src=\"https://colab.research.google.com/assets/colab-badge.svg\" alt=\"Open In Colab\"/></a>"
      ]
    },
    {
      "cell_type": "markdown",
      "metadata": {
        "id": "XNk3udGiC603",
        "colab_type": "text"
      },
      "source": [
        "# Fraud Detection Notebook Using Isolation Forest"
      ]
    },
    {
      "cell_type": "code",
      "metadata": {
        "id": "aC88aAXhC50o",
        "colab_type": "code",
        "colab": {}
      },
      "source": [
        "# Use seaborn for the correlation heatmap\n",
        "!pip install seaborn"
      ],
      "execution_count": 0,
      "outputs": []
    },
    {
      "cell_type": "code",
      "metadata": {
        "id": "PbVATTXoCo84",
        "colab_type": "code",
        "colab": {
          "base_uri": "https://localhost:8080/",
          "height": 71
        },
        "outputId": "563c8394-28d1-4050-90f9-b99602668dda"
      },
      "source": [
        "from __future__ import absolute_import, division, print_function, unicode_literals\n",
        "\n",
        "import pathlib\n",
        "\n",
        "import matplotlib\n",
        "import matplotlib.pyplot as plt\n",
        "from matplotlib import cm\n",
        "from matplotlib import gridspec\n",
        "\n",
        "import pandas as pd\n",
        "import seaborn as sns\n",
        "\n",
        "import numpy as np\n",
        "from sklearn.ensemble import IsolationForest\n",
        "from sklearn.cluster import KMeans\n",
        "\n",
        "# Datetime related libraries\n",
        "import time\n",
        "import datetime\n",
        "import dateutil.parser"
      ],
      "execution_count": 1,
      "outputs": [
        {
          "output_type": "stream",
          "text": [
            "/usr/local/lib/python3.6/dist-packages/statsmodels/tools/_testing.py:19: FutureWarning: pandas.util.testing is deprecated. Use the functions in the public API at pandas.testing instead.\n",
            "  import pandas.util.testing as tm\n"
          ],
          "name": "stderr"
        }
      ]
    },
    {
      "cell_type": "code",
      "metadata": {
        "id": "O_RTfm4yDN62",
        "colab_type": "code",
        "colab": {
          "resources": {
            "http://localhost:8080/nbextensions/google.colab/files.js": {
              "data": "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",
              "ok": true,
              "headers": [
                [
                  "content-type",
                  "application/javascript"
                ]
              ],
              "status": 200,
              "status_text": ""
            }
          },
          "base_uri": "https://localhost:8080/",
          "height": 71
        },
        "outputId": "d488e129-f4e6-4f97-b1d9-9d2237fa7660"
      },
      "source": [
        "# file upload while using Google Colab\n",
        "from google.colab import files\n",
        "uploaded = files.upload()"
      ],
      "execution_count": 3,
      "outputs": [
        {
          "output_type": "display_data",
          "data": {
            "text/html": [
              "\n",
              "     <input type=\"file\" id=\"files-0b89433f-efbd-43b0-a499-1c952833113d\" name=\"files[]\" multiple disabled />\n",
              "     <output id=\"result-0b89433f-efbd-43b0-a499-1c952833113d\">\n",
              "      Upload widget is only available when the cell has been executed in the\n",
              "      current browser session. Please rerun this cell to enable.\n",
              "      </output>\n",
              "      <script src=\"/nbextensions/google.colab/files.js\"></script> "
            ],
            "text/plain": [
              "<IPython.core.display.HTML object>"
            ]
          },
          "metadata": {
            "tags": []
          }
        },
        {
          "output_type": "stream",
          "text": [
            "Saving creditcardfraud.zip to creditcardfraud.zip\n"
          ],
          "name": "stdout"
        }
      ]
    },
    {
      "cell_type": "code",
      "metadata": {
        "id": "zXgtvBaEDOow",
        "colab_type": "code",
        "colab": {
          "base_uri": "https://localhost:8080/",
          "height": 51
        },
        "outputId": "6521557f-fe60-4fe2-b192-9d9f848364f4"
      },
      "source": [
        "#Unzipping if needed\n",
        "!unzip creditcardfraud.zip"
      ],
      "execution_count": 4,
      "outputs": [
        {
          "output_type": "stream",
          "text": [
            "Archive:  creditcardfraud.zip\n",
            "  inflating: creditcard.csv          "
          ],
          "name": "stdout"
        }
      ]
    },
    {
      "cell_type": "code",
      "metadata": {
        "id": "ff92NmwjDT7I",
        "colab_type": "code",
        "colab": {
          "base_uri": "https://localhost:8080/",
          "height": 317
        },
        "outputId": "b55cd2dc-8b25-4f4b-e3fa-4a9a8cd7ec2a"
      },
      "source": [
        "start = time.time()\n",
        "df = pd.read_csv('creditcard.csv')\n",
        "df.describe()\n",
        "#print(\"Running time in seconds =\", time.time() - start)"
      ],
      "execution_count": 7,
      "outputs": [
        {
          "output_type": "execute_result",
          "data": {
            "text/html": [
              "<div>\n",
              "<style scoped>\n",
              "    .dataframe tbody tr th:only-of-type {\n",
              "        vertical-align: middle;\n",
              "    }\n",
              "\n",
              "    .dataframe tbody tr th {\n",
              "        vertical-align: top;\n",
              "    }\n",
              "\n",
              "    .dataframe thead th {\n",
              "        text-align: right;\n",
              "    }\n",
              "</style>\n",
              "<table border=\"1\" class=\"dataframe\">\n",
              "  <thead>\n",
              "    <tr style=\"text-align: right;\">\n",
              "      <th></th>\n",
              "      <th>Time</th>\n",
              "      <th>V1</th>\n",
              "      <th>V2</th>\n",
              "      <th>V3</th>\n",
              "      <th>V4</th>\n",
              "      <th>V5</th>\n",
              "      <th>V6</th>\n",
              "      <th>V7</th>\n",
              "      <th>V8</th>\n",
              "      <th>V9</th>\n",
              "      <th>V10</th>\n",
              "      <th>V11</th>\n",
              "      <th>V12</th>\n",
              "      <th>V13</th>\n",
              "      <th>V14</th>\n",
              "      <th>V15</th>\n",
              "      <th>V16</th>\n",
              "      <th>V17</th>\n",
              "      <th>V18</th>\n",
              "      <th>V19</th>\n",
              "      <th>V20</th>\n",
              "      <th>V21</th>\n",
              "      <th>V22</th>\n",
              "      <th>V23</th>\n",
              "      <th>V24</th>\n",
              "      <th>V25</th>\n",
              "      <th>V26</th>\n",
              "      <th>V27</th>\n",
              "      <th>V28</th>\n",
              "      <th>Amount</th>\n",
              "      <th>Class</th>\n",
              "    </tr>\n",
              "  </thead>\n",
              "  <tbody>\n",
              "    <tr>\n",
              "      <th>count</th>\n",
              "      <td>35865.000000</td>\n",
              "      <td>35865.000000</td>\n",
              "      <td>35865.000000</td>\n",
              "      <td>35865.000000</td>\n",
              "      <td>35865.000000</td>\n",
              "      <td>35865.000000</td>\n",
              "      <td>35865.000000</td>\n",
              "      <td>35865.000000</td>\n",
              "      <td>35865.000000</td>\n",
              "      <td>35865.000000</td>\n",
              "      <td>35865.000000</td>\n",
              "      <td>35865.000000</td>\n",
              "      <td>35865.000000</td>\n",
              "      <td>35865.000000</td>\n",
              "      <td>35865.000000</td>\n",
              "      <td>35865.000000</td>\n",
              "      <td>35865.000000</td>\n",
              "      <td>35865.000000</td>\n",
              "      <td>35865.000000</td>\n",
              "      <td>35865.000000</td>\n",
              "      <td>35865.000000</td>\n",
              "      <td>35865.000000</td>\n",
              "      <td>35865.000000</td>\n",
              "      <td>35865.000000</td>\n",
              "      <td>35865.000000</td>\n",
              "      <td>35865.000000</td>\n",
              "      <td>35864.000000</td>\n",
              "      <td>35864.000000</td>\n",
              "      <td>35864.000000</td>\n",
              "      <td>35864.000000</td>\n",
              "      <td>35864.000000</td>\n",
              "    </tr>\n",
              "    <tr>\n",
              "      <th>mean</th>\n",
              "      <td>24046.255095</td>\n",
              "      <td>-0.208441</td>\n",
              "      <td>0.072071</td>\n",
              "      <td>0.718784</td>\n",
              "      <td>0.195531</td>\n",
              "      <td>-0.217138</td>\n",
              "      <td>0.096022</td>\n",
              "      <td>-0.116966</td>\n",
              "      <td>0.033112</td>\n",
              "      <td>0.257749</td>\n",
              "      <td>-0.085977</td>\n",
              "      <td>0.454607</td>\n",
              "      <td>-0.537405</td>\n",
              "      <td>0.293419</td>\n",
              "      <td>0.267774</td>\n",
              "      <td>0.083327</td>\n",
              "      <td>-0.001043</td>\n",
              "      <td>0.165243</td>\n",
              "      <td>-0.087745</td>\n",
              "      <td>-0.037002</td>\n",
              "      <td>0.044854</td>\n",
              "      <td>-0.030933</td>\n",
              "      <td>-0.113353</td>\n",
              "      <td>-0.041582</td>\n",
              "      <td>0.007556</td>\n",
              "      <td>0.135935</td>\n",
              "      <td>0.021804</td>\n",
              "      <td>0.010620</td>\n",
              "      <td>0.003868</td>\n",
              "      <td>84.234999</td>\n",
              "      <td>0.002872</td>\n",
              "    </tr>\n",
              "    <tr>\n",
              "      <th>std</th>\n",
              "      <td>12430.375810</td>\n",
              "      <td>1.835596</td>\n",
              "      <td>1.539390</td>\n",
              "      <td>1.539467</td>\n",
              "      <td>1.408688</td>\n",
              "      <td>1.387536</td>\n",
              "      <td>1.310437</td>\n",
              "      <td>1.256348</td>\n",
              "      <td>1.240914</td>\n",
              "      <td>1.237668</td>\n",
              "      <td>1.136330</td>\n",
              "      <td>1.136421</td>\n",
              "      <td>1.416542</td>\n",
              "      <td>1.159540</td>\n",
              "      <td>1.166093</td>\n",
              "      <td>0.958393</td>\n",
              "      <td>0.933253</td>\n",
              "      <td>1.069565</td>\n",
              "      <td>0.858461</td>\n",
              "      <td>0.816341</td>\n",
              "      <td>0.673701</td>\n",
              "      <td>0.768819</td>\n",
              "      <td>0.640294</td>\n",
              "      <td>0.544625</td>\n",
              "      <td>0.593310</td>\n",
              "      <td>0.435901</td>\n",
              "      <td>0.506545</td>\n",
              "      <td>0.389179</td>\n",
              "      <td>0.301702</td>\n",
              "      <td>227.051922</td>\n",
              "      <td>0.053514</td>\n",
              "    </tr>\n",
              "    <tr>\n",
              "      <th>min</th>\n",
              "      <td>0.000000</td>\n",
              "      <td>-30.552380</td>\n",
              "      <td>-40.978852</td>\n",
              "      <td>-31.103685</td>\n",
              "      <td>-5.172595</td>\n",
              "      <td>-42.147898</td>\n",
              "      <td>-23.496714</td>\n",
              "      <td>-26.548144</td>\n",
              "      <td>-41.484823</td>\n",
              "      <td>-7.175097</td>\n",
              "      <td>-14.166795</td>\n",
              "      <td>-2.985309</td>\n",
              "      <td>-17.769143</td>\n",
              "      <td>-3.808724</td>\n",
              "      <td>-19.214325</td>\n",
              "      <td>-4.152532</td>\n",
              "      <td>-12.227189</td>\n",
              "      <td>-18.587366</td>\n",
              "      <td>-8.061208</td>\n",
              "      <td>-4.932733</td>\n",
              "      <td>-13.694584</td>\n",
              "      <td>-20.262054</td>\n",
              "      <td>-8.593642</td>\n",
              "      <td>-26.751119</td>\n",
              "      <td>-2.836627</td>\n",
              "      <td>-7.495741</td>\n",
              "      <td>-1.438650</td>\n",
              "      <td>-8.567638</td>\n",
              "      <td>-9.617915</td>\n",
              "      <td>0.000000</td>\n",
              "      <td>0.000000</td>\n",
              "    </tr>\n",
              "    <tr>\n",
              "      <th>25%</th>\n",
              "      <td>12365.000000</td>\n",
              "      <td>-0.960307</td>\n",
              "      <td>-0.500439</td>\n",
              "      <td>0.244644</td>\n",
              "      <td>-0.714691</td>\n",
              "      <td>-0.819569</td>\n",
              "      <td>-0.644998</td>\n",
              "      <td>-0.598057</td>\n",
              "      <td>-0.155525</td>\n",
              "      <td>-0.524577</td>\n",
              "      <td>-0.565374</td>\n",
              "      <td>-0.363475</td>\n",
              "      <td>-1.526641</td>\n",
              "      <td>-0.493591</td>\n",
              "      <td>-0.246655</td>\n",
              "      <td>-0.478372</td>\n",
              "      <td>-0.490076</td>\n",
              "      <td>-0.331509</td>\n",
              "      <td>-0.563253</td>\n",
              "      <td>-0.527465</td>\n",
              "      <td>-0.161541</td>\n",
              "      <td>-0.239535</td>\n",
              "      <td>-0.536436</td>\n",
              "      <td>-0.178540</td>\n",
              "      <td>-0.326904</td>\n",
              "      <td>-0.127244</td>\n",
              "      <td>-0.331731</td>\n",
              "      <td>-0.063197</td>\n",
              "      <td>-0.007233</td>\n",
              "      <td>6.990000</td>\n",
              "      <td>0.000000</td>\n",
              "    </tr>\n",
              "    <tr>\n",
              "      <th>50%</th>\n",
              "      <td>29042.000000</td>\n",
              "      <td>-0.234411</td>\n",
              "      <td>0.113232</td>\n",
              "      <td>0.827482</td>\n",
              "      <td>0.188445</td>\n",
              "      <td>-0.256224</td>\n",
              "      <td>-0.162715</td>\n",
              "      <td>-0.073143</td>\n",
              "      <td>0.043626</td>\n",
              "      <td>0.133530</td>\n",
              "      <td>-0.141490</td>\n",
              "      <td>0.426968</td>\n",
              "      <td>-0.169977</td>\n",
              "      <td>0.216019</td>\n",
              "      <td>0.220231</td>\n",
              "      <td>0.206071</td>\n",
              "      <td>0.063504</td>\n",
              "      <td>0.108132</td>\n",
              "      <td>-0.069379</td>\n",
              "      <td>-0.035345</td>\n",
              "      <td>-0.022248</td>\n",
              "      <td>-0.081470</td>\n",
              "      <td>-0.087315</td>\n",
              "      <td>-0.051998</td>\n",
              "      <td>0.061889</td>\n",
              "      <td>0.175722</td>\n",
              "      <td>-0.063465</td>\n",
              "      <td>0.008837</td>\n",
              "      <td>0.021115</td>\n",
              "      <td>22.000000</td>\n",
              "      <td>0.000000</td>\n",
              "    </tr>\n",
              "    <tr>\n",
              "      <th>75%</th>\n",
              "      <td>34300.000000</td>\n",
              "      <td>1.162162</td>\n",
              "      <td>0.754596</td>\n",
              "      <td>1.456477</td>\n",
              "      <td>1.078566</td>\n",
              "      <td>0.302760</td>\n",
              "      <td>0.485900</td>\n",
              "      <td>0.436217</td>\n",
              "      <td>0.307942</td>\n",
              "      <td>0.989833</td>\n",
              "      <td>0.359002</td>\n",
              "      <td>1.235437</td>\n",
              "      <td>0.461918</td>\n",
              "      <td>1.056416</td>\n",
              "      <td>0.910341</td>\n",
              "      <td>0.764064</td>\n",
              "      <td>0.560196</td>\n",
              "      <td>0.601313</td>\n",
              "      <td>0.408374</td>\n",
              "      <td>0.472320</td>\n",
              "      <td>0.166725</td>\n",
              "      <td>0.095121</td>\n",
              "      <td>0.297263</td>\n",
              "      <td>0.076212</td>\n",
              "      <td>0.398932</td>\n",
              "      <td>0.421051</td>\n",
              "      <td>0.301191</td>\n",
              "      <td>0.086582</td>\n",
              "      <td>0.076000</td>\n",
              "      <td>76.062500</td>\n",
              "      <td>0.000000</td>\n",
              "    </tr>\n",
              "    <tr>\n",
              "      <th>max</th>\n",
              "      <td>38300.000000</td>\n",
              "      <td>1.960497</td>\n",
              "      <td>16.713389</td>\n",
              "      <td>4.101716</td>\n",
              "      <td>13.143668</td>\n",
              "      <td>34.099309</td>\n",
              "      <td>22.529298</td>\n",
              "      <td>36.677268</td>\n",
              "      <td>20.007208</td>\n",
              "      <td>10.392889</td>\n",
              "      <td>12.701539</td>\n",
              "      <td>12.018913</td>\n",
              "      <td>4.846452</td>\n",
              "      <td>4.465413</td>\n",
              "      <td>7.692209</td>\n",
              "      <td>3.832930</td>\n",
              "      <td>6.098529</td>\n",
              "      <td>9.253526</td>\n",
              "      <td>4.295648</td>\n",
              "      <td>4.555359</td>\n",
              "      <td>17.281859</td>\n",
              "      <td>22.614889</td>\n",
              "      <td>5.805795</td>\n",
              "      <td>13.876221</td>\n",
              "      <td>4.014444</td>\n",
              "      <td>5.525093</td>\n",
              "      <td>3.517346</td>\n",
              "      <td>11.135740</td>\n",
              "      <td>5.678671</td>\n",
              "      <td>7879.420000</td>\n",
              "      <td>1.000000</td>\n",
              "    </tr>\n",
              "  </tbody>\n",
              "</table>\n",
              "</div>"
            ],
            "text/plain": [
              "               Time            V1  ...        Amount         Class\n",
              "count  35865.000000  35865.000000  ...  35864.000000  35864.000000\n",
              "mean   24046.255095     -0.208441  ...     84.234999      0.002872\n",
              "std    12430.375810      1.835596  ...    227.051922      0.053514\n",
              "min        0.000000    -30.552380  ...      0.000000      0.000000\n",
              "25%    12365.000000     -0.960307  ...      6.990000      0.000000\n",
              "50%    29042.000000     -0.234411  ...     22.000000      0.000000\n",
              "75%    34300.000000      1.162162  ...     76.062500      0.000000\n",
              "max    38300.000000      1.960497  ...   7879.420000      1.000000\n",
              "\n",
              "[8 rows x 31 columns]"
            ]
          },
          "metadata": {
            "tags": []
          },
          "execution_count": 7
        }
      ]
    },
    {
      "cell_type": "code",
      "metadata": {
        "id": "-T_-yfit5zvL",
        "colab_type": "code",
        "colab": {}
      },
      "source": [
        "df.head()"
      ],
      "execution_count": 0,
      "outputs": []
    },
    {
      "cell_type": "code",
      "metadata": {
        "id": "00JFm5IqDojk",
        "colab_type": "code",
        "colab": {
          "base_uri": "https://localhost:8080/",
          "height": 34
        },
        "outputId": "61131c28-84c9-4204-f80a-1afb402d5e16"
      },
      "source": [
        "data_shape = df.shape\n",
        "print(data_shape)"
      ],
      "execution_count": 9,
      "outputs": [
        {
          "output_type": "stream",
          "text": [
            "(35865, 31)\n"
          ],
          "name": "stdout"
        }
      ]
    },
    {
      "cell_type": "code",
      "metadata": {
        "id": "0GKnmF1XDwY0",
        "colab_type": "code",
        "colab": {
          "base_uri": "https://localhost:8080/",
          "height": 51
        },
        "outputId": "21f51a9f-967e-4726-c523-276f46346aef"
      },
      "source": [
        "unknown_count = df.isna().sum().drop_duplicates()\n",
        "unknown_count[unknown_count>0]"
      ],
      "execution_count": 11,
      "outputs": [
        {
          "output_type": "execute_result",
          "data": {
            "text/plain": [
              "V26    1\n",
              "dtype: int64"
            ]
          },
          "metadata": {
            "tags": []
          },
          "execution_count": 11
        }
      ]
    },
    {
      "cell_type": "code",
      "metadata": {
        "id": "OYq3wf0DEO0p",
        "colab_type": "code",
        "colab": {
          "base_uri": "https://localhost:8080/",
          "height": 1000
        },
        "outputId": "ea9b7587-8821-4ff6-9fbd-c1e7ee03d335"
      },
      "source": [
        "# Correlation Analysis - NEEDS REFACTORING\n",
        "# Parameters\n",
        "THRESHOLD = 0.7 # Correlation Coefficient Threshold of Interest\n",
        "#printing formats\n",
        "pd.set_option('display.max_rows', 500)\n",
        "pd.set_option('display.max_columns', 500)\n",
        "pd.set_option('display.width', 1000)\n",
        "\n",
        "# Sample to calculate correlations (using filtered set of column, run exlusion calculation first)\n",
        "#df_model1_sample = measurements_filtered.sample(frac=0.3, random_state=42)\n",
        "df_sample = df.drop(['Class'],axis=1).sample(frac=0.3, random_state=42)\n",
        "\n",
        "#List of columns after fitering numeric geo columns out\n",
        "#df_model1_sample_filtered = df_model1_sample.filter(column_geo_include).columns\n",
        "\n",
        "start = time.time()\n",
        "\n",
        "# Correlations, positive and negative. Round to 2 decimals and filling NaN with 0\n",
        "df_corr = round(df_sample.corr(),6).fillna(0)\n",
        "\n",
        "print(\"CORRELATION MATRIX\")\n",
        "np.set_printoptions(suppress=True, precision=3, linewidth=1000)\n",
        "print(df_corr)\n",
        "\n",
        "n_columns = df_corr.shape[1]\n",
        "column_list = list(df_corr.columns)\n",
        "\n",
        "#Upper triangle matrix of correlation coefficients\n",
        "corr_matrix = df_corr.values\n",
        "triu_corr_matrix = np.triu(corr_matrix, k=1)\n",
        "\n",
        "#printing technical data that is used in follow-up calculations or/and troubleshooting\n",
        "print(\"TRIANGILATED CORRELATION MATRIX\")\n",
        "print(triu_corr_matrix)\n",
        "\n",
        "i=0\n",
        "corr_ranking=[] # initializing array of correlated pairs\n",
        "for i in range(n_columns):\n",
        "  for j in range(i):\n",
        "    #if abs(triu_corr_matrix[j][i]) > THRESHOLD and abs(triu_corr_matrix[j][i]) <= 1:\n",
        "    temp=triu_corr_matrix[j][i],column_list[i], column_list[j]\n",
        "    corr_ranking.append(temp)\n",
        "\n",
        "#Ranked Correlation Coeff Array - High to Low\n",
        "corr_ranking.sort(reverse=True)\n",
        "print(\"ranked correlation array\")\n",
        "print(corr_ranking)\n",
        " \n",
        "print(\"Running time in seconds =\", time.time() - start)"
      ],
      "execution_count": 18,
      "outputs": [
        {
          "output_type": "stream",
          "text": [
            "CORRELATION MATRIX\n",
            "            Time        V1        V2        V3        V4        V5        V6        V7        V8        V9       V10       V11       V12       V13       V14       V15       V16       V17       V18       V19       V20       V21       V22       V23       V24       V25       V26       V27       V28    Amount\n",
            "Time    1.000000  0.029940 -0.104778 -0.065330 -0.025826 -0.072031 -0.011080 -0.001927  0.044300 -0.342389  0.096488 -0.203497  0.376249 -0.355613 -0.257949  0.155284  0.024641 -0.107867 -0.044503  0.037064  0.004034  0.016977  0.056629 -0.014188 -0.009184  0.042173 -0.031342 -0.009256  0.005645  0.073550\n",
            "V1      0.029940  1.000000 -0.064781  0.293029 -0.119176  0.026239  0.151697  0.230955 -0.097817 -0.047863  0.040809 -0.041156  0.067102 -0.000814  0.145804  0.045542  0.121470  0.122376  0.014432  0.002373 -0.073024 -0.081197  0.012403  0.002610 -0.016292  0.192656  0.016592 -0.194261  0.243920 -0.208332\n",
            "V2     -0.104778 -0.064781  1.000000 -0.248106  0.093824 -0.208008  0.046330  0.033067  0.056696 -0.036276 -0.028903  0.125940 -0.149551  0.071897 -0.108654  0.039267 -0.067776 -0.122245 -0.025661 -0.014211 -0.064331  0.055385 -0.097256  0.040345 -0.032785 -0.074261 -0.045718  0.036531  0.119005 -0.475674\n",
            "V3     -0.065330  0.293029 -0.248106  1.000000 -0.165778  0.286628  0.014965  0.379327 -0.299579  0.175790  0.226673 -0.151765  0.162108 -0.013430  0.257981 -0.162686  0.067537  0.227330  0.063864 -0.054937 -0.091448 -0.012441  0.237151  0.041244  0.023082 -0.197517  0.062537 -0.197595  0.071806 -0.141821\n",
            "V4     -0.025826 -0.119176  0.093824 -0.165778  1.000000 -0.051730 -0.080437 -0.148860  0.092507 -0.039519 -0.096058  0.069858 -0.099205  0.023398 -0.078410 -0.083351 -0.164980 -0.032650 -0.053509 -0.021218  0.015292 -0.004737 -0.017547 -0.024142 -0.023149 -0.032382  0.029179  0.087568 -0.051888  0.092834\n",
            "V5     -0.072031  0.026239 -0.208008  0.286628 -0.051730  1.000000  0.057700  0.035264 -0.117596  0.054388  0.149035 -0.068779  0.059195  0.045396  0.100758  0.095214  0.137259  0.059732  0.088364  0.004139 -0.001829 -0.061444 -0.082275 -0.040559 -0.004213 -0.070630 -0.049517 -0.065139 -0.014213 -0.325321\n",
            "V6     -0.011080  0.151697  0.046330  0.014965 -0.080437  0.057700  1.000000  0.128305 -0.070828  0.059940  0.042530 -0.101816  0.015722  0.018528  0.069665 -0.125014  0.024490  0.053108  0.049664  0.081045 -0.010571  0.076512  0.014128  0.024596  0.028559  0.075259  0.009346 -0.068951  0.009026  0.185209\n",
            "V7     -0.001927  0.230955  0.033067  0.379327 -0.148860  0.035264  0.128305  1.000000 -0.163487  0.050589  0.188655 -0.139195  0.196887 -0.024544  0.130337  0.071748  0.158386  0.170021  0.104414 -0.056904  0.052576 -0.108323  0.045236  0.143120 -0.012272 -0.105607 -0.050009 -0.226234 -0.027818  0.282747\n",
            "V8      0.044300 -0.097817  0.056696 -0.299579  0.092507 -0.117596 -0.070828 -0.163487  1.000000 -0.083675 -0.176653  0.051275 -0.084603 -0.027323 -0.064386 -0.036741 -0.066186 -0.104925 -0.033242  0.018321  0.121590 -0.236678  0.096625 -0.000779 -0.002412  0.047001  0.002777  0.057702  0.102868 -0.084773\n",
            "V9     -0.342389 -0.047863 -0.036276  0.175790 -0.039519  0.054388  0.059940  0.050589 -0.083675  1.000000 -0.021544  0.085855 -0.224755  0.238755  0.271422 -0.207358 -0.058517  0.235656  0.106958 -0.060068  0.017489 -0.028888  0.001572 -0.043852  0.010815  0.089469  0.090686 -0.033044 -0.078089 -0.002044\n",
            "V10     0.096488  0.040809 -0.028903  0.226673 -0.096058  0.149035  0.042530  0.188655 -0.176653 -0.021544  1.000000 -0.126109  0.223010 -0.082146  0.062952  0.074477  0.208908  0.219345  0.071560 -0.000528  0.026971 -0.031953 -0.026652 -0.008667  0.028998 -0.040219  0.000055 -0.121168 -0.079973 -0.106081\n",
            "V11    -0.203497 -0.041156  0.125940 -0.151765  0.069858 -0.068779 -0.101816 -0.139195  0.051275  0.085855 -0.126109  1.000000 -0.310663  0.172964  0.007184 -0.105534 -0.129135 -0.122577 -0.058375 -0.066487  0.028554  0.019727  0.049692  0.035570  0.015394 -0.085557  0.030334  0.046628  0.015400 -0.053956\n",
            "V12     0.376249  0.067102 -0.149551  0.162108 -0.099205  0.059195  0.015722  0.196887 -0.084603 -0.224755  0.223010 -0.310663  1.000000 -0.345340 -0.078115  0.121454  0.101173  0.086936  0.045263  0.013428 -0.020991  0.040585  0.074851 -0.027530  0.024951  0.016924 -0.011344 -0.030838 -0.027946  0.056016\n",
            "V13    -0.355613 -0.000814  0.071897 -0.013430  0.023398  0.045396  0.018528 -0.024544 -0.027323  0.238755 -0.082146  0.172964 -0.345340  1.000000  0.234243 -0.116712  0.032389  0.126778  0.045772 -0.022509  0.020004 -0.031004 -0.039406 -0.004121 -0.015786  0.026374  0.024557  0.001153 -0.027342 -0.029134\n",
            "V14    -0.257949  0.145804 -0.108654  0.257981 -0.078410  0.100758  0.069665  0.130337 -0.064386  0.271422  0.062952  0.007184 -0.078115  0.234243  1.000000 -0.045312  0.275357  0.414204  0.185069 -0.068373 -0.120149 -0.035523 -0.082356  0.029846  0.045509 -0.056657  0.030467 -0.077674 -0.004184 -0.012396\n",
            "V15     0.155284  0.045542  0.039267 -0.162686 -0.083351  0.095214 -0.125014  0.071748 -0.036741 -0.207358  0.074477 -0.105534  0.121454 -0.116712 -0.045312  1.000000  0.064437 -0.077883  0.003150 -0.023511 -0.004481  0.018907  0.009286  0.007390  0.003859 -0.095705 -0.033913  0.006039 -0.062007 -0.035260\n",
            "V16     0.024641  0.121470 -0.067776  0.067537 -0.164980  0.137259  0.024490  0.158386 -0.066186 -0.058517  0.208908 -0.129135  0.101173  0.032389  0.275357  0.064437  1.000000  0.202304  0.160301 -0.021931 -0.005260 -0.012133  0.000913 -0.015697  0.012332  0.069100  0.052186 -0.070090 -0.056189 -0.010756\n",
            "V17    -0.107867  0.122376 -0.122245  0.227330 -0.032650  0.059732  0.053108  0.170021 -0.104925  0.235656  0.219345 -0.122577  0.086936  0.126778  0.414204 -0.077883  0.202304  1.000000  0.128418 -0.080150 -0.096933 -0.042341  0.020457  0.029421  0.004019 -0.097818 -0.062468 -0.095676 -0.063986  0.015095\n",
            "V18    -0.044503  0.014432 -0.025661  0.063864 -0.053509  0.088364  0.049664  0.104414 -0.033242  0.106958  0.071560 -0.058375  0.045263  0.045772  0.185069  0.003150  0.160301  0.128418  1.000000  0.040916 -0.018692 -0.022351 -0.096143  0.023200  0.000215  0.022836  0.029571 -0.043770 -0.001627  0.036830\n",
            "V19     0.037064  0.002373 -0.014211 -0.054937 -0.021218  0.004139  0.081045 -0.056904  0.018321 -0.060068 -0.000528 -0.066487  0.013428 -0.022509 -0.068373 -0.023511 -0.021931 -0.080150  0.040916  1.000000  0.031472  0.007727  0.005282 -0.038774  0.006145 -0.009821 -0.032276  0.035298 -0.035181 -0.036842\n",
            "V20     0.004034 -0.073024 -0.064331 -0.091448  0.015292 -0.001829 -0.010571  0.052576  0.121590  0.017489  0.026971  0.028554 -0.020991  0.020004 -0.120149 -0.004481 -0.005260 -0.096933 -0.018692  0.031472  1.000000 -0.101907  0.038236  0.115103 -0.017549  0.047429  0.020629 -0.078924  0.248352  0.366924\n",
            "V21     0.016977 -0.081197  0.055385 -0.012441 -0.004737 -0.061444  0.076512 -0.108323 -0.236678 -0.028888 -0.031953  0.019727  0.040585 -0.031004 -0.035523  0.018907 -0.012133 -0.042341 -0.022351  0.007727 -0.101907  1.000000 -0.170057  0.053652 -0.011026  0.007740 -0.015934 -0.006878  0.122925  0.120762\n",
            "V22     0.056629  0.012403 -0.097256  0.237151 -0.017547 -0.082275  0.014128  0.045236  0.096625  0.001572 -0.026652  0.049692  0.074851 -0.039406 -0.082356  0.009286  0.000913  0.020457 -0.096143  0.005282  0.038236 -0.170057  1.000000  0.014135 -0.006958 -0.029319 -0.068298 -0.057580 -0.044559 -0.048056\n",
            "V23    -0.014188  0.002610  0.040345  0.041244 -0.024142 -0.040559  0.024596  0.143120 -0.000779 -0.043852 -0.008667  0.035570 -0.027530 -0.004121  0.029846  0.007390 -0.015697  0.029421  0.023200 -0.038774  0.115103  0.053652  0.014135  1.000000  0.009781  0.109830  0.020906 -0.152922  0.131003 -0.103571\n",
            "V24    -0.009184 -0.016292 -0.032785  0.023082 -0.023149 -0.004213  0.028559 -0.012272 -0.002412  0.010815  0.028998  0.015394  0.024951 -0.015786  0.045509  0.003859  0.012332  0.004019  0.000215  0.006145 -0.017549 -0.011026 -0.006958  0.009781  1.000000 -0.031005 -0.001461  0.033630 -0.029100  0.016128\n",
            "V25     0.042173  0.192656 -0.074261 -0.197517 -0.032382 -0.070630  0.075259 -0.105607  0.047001  0.089469 -0.040219 -0.085557  0.016924  0.026374 -0.056657 -0.095705  0.069100 -0.097818  0.022836 -0.009821  0.047429  0.007740 -0.029319  0.109830 -0.031005  1.000000 -0.125854  0.014190  0.077119 -0.038016\n",
            "V26    -0.031342  0.016592 -0.045718  0.062537  0.029179 -0.049517  0.009346 -0.050009  0.002777  0.090686  0.000055  0.030334 -0.011344  0.024557  0.030467 -0.033913  0.052186 -0.062468  0.029571 -0.032276  0.020629 -0.015934 -0.068298  0.020906 -0.001461 -0.125854  1.000000 -0.010386  0.016752  0.028639\n",
            "V27    -0.009256 -0.194261  0.036531 -0.197595  0.087568 -0.065139 -0.068951 -0.226234  0.057702 -0.033044 -0.121168  0.046628 -0.030838  0.001153 -0.077674  0.006039 -0.070090 -0.095676 -0.043770  0.035298 -0.078924 -0.006878 -0.057580 -0.152922  0.033630  0.014190 -0.010386  1.000000 -0.109457  0.001815\n",
            "V28     0.005645  0.243920  0.119005  0.071806 -0.051888 -0.014213  0.009026 -0.027818  0.102868 -0.078089 -0.079973  0.015400 -0.027946 -0.027342 -0.004184 -0.062007 -0.056189 -0.063986 -0.001627 -0.035181  0.248352  0.122925 -0.044559  0.131003 -0.029100  0.077119  0.016752 -0.109457  1.000000 -0.015996\n",
            "Amount  0.073550 -0.208332 -0.475674 -0.141821  0.092834 -0.325321  0.185209  0.282747 -0.084773 -0.002044 -0.106081 -0.053956  0.056016 -0.029134 -0.012396 -0.035260 -0.010756  0.015095  0.036830 -0.036842  0.366924  0.120762 -0.048056 -0.103571  0.016128 -0.038016  0.028639  0.001815 -0.015996  1.000000\n",
            "TRIANGILATED CORRELATION MATRIX\n",
            "[[ 0.     0.03  -0.105 -0.065 -0.026 -0.072 -0.011 -0.002  0.044 -0.342  0.096 -0.203  0.376 -0.356 -0.258  0.155  0.025 -0.108 -0.045  0.037  0.004  0.017  0.057 -0.014 -0.009  0.042 -0.031 -0.009  0.006  0.074]\n",
            " [ 0.     0.    -0.065  0.293 -0.119  0.026  0.152  0.231 -0.098 -0.048  0.041 -0.041  0.067 -0.001  0.146  0.046  0.121  0.122  0.014  0.002 -0.073 -0.081  0.012  0.003 -0.016  0.193  0.017 -0.194  0.244 -0.208]\n",
            " [ 0.     0.     0.    -0.248  0.094 -0.208  0.046  0.033  0.057 -0.036 -0.029  0.126 -0.15   0.072 -0.109  0.039 -0.068 -0.122 -0.026 -0.014 -0.064  0.055 -0.097  0.04  -0.033 -0.074 -0.046  0.037  0.119 -0.476]\n",
            " [ 0.     0.     0.     0.    -0.166  0.287  0.015  0.379 -0.3    0.176  0.227 -0.152  0.162 -0.013  0.258 -0.163  0.068  0.227  0.064 -0.055 -0.091 -0.012  0.237  0.041  0.023 -0.198  0.063 -0.198  0.072 -0.142]\n",
            " [ 0.     0.     0.     0.     0.    -0.052 -0.08  -0.149  0.093 -0.04  -0.096  0.07  -0.099  0.023 -0.078 -0.083 -0.165 -0.033 -0.054 -0.021  0.015 -0.005 -0.018 -0.024 -0.023 -0.032  0.029  0.088 -0.052  0.093]\n",
            " [ 0.     0.     0.     0.     0.     0.     0.058  0.035 -0.118  0.054  0.149 -0.069  0.059  0.045  0.101  0.095  0.137  0.06   0.088  0.004 -0.002 -0.061 -0.082 -0.041 -0.004 -0.071 -0.05  -0.065 -0.014 -0.325]\n",
            " [ 0.     0.     0.     0.     0.     0.     0.     0.128 -0.071  0.06   0.043 -0.102  0.016  0.019  0.07  -0.125  0.024  0.053  0.05   0.081 -0.011  0.077  0.014  0.025  0.029  0.075  0.009 -0.069  0.009  0.185]\n",
            " [ 0.     0.     0.     0.     0.     0.     0.     0.    -0.163  0.051  0.189 -0.139  0.197 -0.025  0.13   0.072  0.158  0.17   0.104 -0.057  0.053 -0.108  0.045  0.143 -0.012 -0.106 -0.05  -0.226 -0.028  0.283]\n",
            " [ 0.     0.     0.     0.     0.     0.     0.     0.     0.    -0.084 -0.177  0.051 -0.085 -0.027 -0.064 -0.037 -0.066 -0.105 -0.033  0.018  0.122 -0.237  0.097 -0.001 -0.002  0.047  0.003  0.058  0.103 -0.085]\n",
            " [ 0.     0.     0.     0.     0.     0.     0.     0.     0.     0.    -0.022  0.086 -0.225  0.239  0.271 -0.207 -0.059  0.236  0.107 -0.06   0.017 -0.029  0.002 -0.044  0.011  0.089  0.091 -0.033 -0.078 -0.002]\n",
            " [ 0.     0.     0.     0.     0.     0.     0.     0.     0.     0.     0.    -0.126  0.223 -0.082  0.063  0.074  0.209  0.219  0.072 -0.001  0.027 -0.032 -0.027 -0.009  0.029 -0.04   0.    -0.121 -0.08  -0.106]\n",
            " [ 0.     0.     0.     0.     0.     0.     0.     0.     0.     0.     0.     0.    -0.311  0.173  0.007 -0.106 -0.129 -0.123 -0.058 -0.066  0.029  0.02   0.05   0.036  0.015 -0.086  0.03   0.047  0.015 -0.054]\n",
            " [ 0.     0.     0.     0.     0.     0.     0.     0.     0.     0.     0.     0.     0.    -0.345 -0.078  0.121  0.101  0.087  0.045  0.013 -0.021  0.041  0.075 -0.028  0.025  0.017 -0.011 -0.031 -0.028  0.056]\n",
            " [ 0.     0.     0.     0.     0.     0.     0.     0.     0.     0.     0.     0.     0.     0.     0.234 -0.117  0.032  0.127  0.046 -0.023  0.02  -0.031 -0.039 -0.004 -0.016  0.026  0.025  0.001 -0.027 -0.029]\n",
            " [ 0.     0.     0.     0.     0.     0.     0.     0.     0.     0.     0.     0.     0.     0.     0.    -0.045  0.275  0.414  0.185 -0.068 -0.12  -0.036 -0.082  0.03   0.046 -0.057  0.03  -0.078 -0.004 -0.012]\n",
            " [ 0.     0.     0.     0.     0.     0.     0.     0.     0.     0.     0.     0.     0.     0.     0.     0.     0.064 -0.078  0.003 -0.024 -0.004  0.019  0.009  0.007  0.004 -0.096 -0.034  0.006 -0.062 -0.035]\n",
            " [ 0.     0.     0.     0.     0.     0.     0.     0.     0.     0.     0.     0.     0.     0.     0.     0.     0.     0.202  0.16  -0.022 -0.005 -0.012  0.001 -0.016  0.012  0.069  0.052 -0.07  -0.056 -0.011]\n",
            " [ 0.     0.     0.     0.     0.     0.     0.     0.     0.     0.     0.     0.     0.     0.     0.     0.     0.     0.     0.128 -0.08  -0.097 -0.042  0.02   0.029  0.004 -0.098 -0.062 -0.096 -0.064  0.015]\n",
            " [ 0.     0.     0.     0.     0.     0.     0.     0.     0.     0.     0.     0.     0.     0.     0.     0.     0.     0.     0.     0.041 -0.019 -0.022 -0.096  0.023  0.     0.023  0.03  -0.044 -0.002  0.037]\n",
            " [ 0.     0.     0.     0.     0.     0.     0.     0.     0.     0.     0.     0.     0.     0.     0.     0.     0.     0.     0.     0.     0.031  0.008  0.005 -0.039  0.006 -0.01  -0.032  0.035 -0.035 -0.037]\n",
            " [ 0.     0.     0.     0.     0.     0.     0.     0.     0.     0.     0.     0.     0.     0.     0.     0.     0.     0.     0.     0.     0.    -0.102  0.038  0.115 -0.018  0.047  0.021 -0.079  0.248  0.367]\n",
            " [ 0.     0.     0.     0.     0.     0.     0.     0.     0.     0.     0.     0.     0.     0.     0.     0.     0.     0.     0.     0.     0.     0.    -0.17   0.054 -0.011  0.008 -0.016 -0.007  0.123  0.121]\n",
            " [ 0.     0.     0.     0.     0.     0.     0.     0.     0.     0.     0.     0.     0.     0.     0.     0.     0.     0.     0.     0.     0.     0.     0.     0.014 -0.007 -0.029 -0.068 -0.058 -0.045 -0.048]\n",
            " [ 0.     0.     0.     0.     0.     0.     0.     0.     0.     0.     0.     0.     0.     0.     0.     0.     0.     0.     0.     0.     0.     0.     0.     0.     0.01   0.11   0.021 -0.153  0.131 -0.104]\n",
            " [ 0.     0.     0.     0.     0.     0.     0.     0.     0.     0.     0.     0.     0.     0.     0.     0.     0.     0.     0.     0.     0.     0.     0.     0.     0.    -0.031 -0.001  0.034 -0.029  0.016]\n",
            " [ 0.     0.     0.     0.     0.     0.     0.     0.     0.     0.     0.     0.     0.     0.     0.     0.     0.     0.     0.     0.     0.     0.     0.     0.     0.     0.    -0.126  0.014  0.077 -0.038]\n",
            " [ 0.     0.     0.     0.     0.     0.     0.     0.     0.     0.     0.     0.     0.     0.     0.     0.     0.     0.     0.     0.     0.     0.     0.     0.     0.     0.     0.    -0.01   0.017  0.029]\n",
            " [ 0.     0.     0.     0.     0.     0.     0.     0.     0.     0.     0.     0.     0.     0.     0.     0.     0.     0.     0.     0.     0.     0.     0.     0.     0.     0.     0.     0.    -0.109  0.002]\n",
            " [ 0.     0.     0.     0.     0.     0.     0.     0.     0.     0.     0.     0.     0.     0.     0.     0.     0.     0.     0.     0.     0.     0.     0.     0.     0.     0.     0.     0.     0.    -0.016]\n",
            " [ 0.     0.     0.     0.     0.     0.     0.     0.     0.     0.     0.     0.     0.     0.     0.     0.     0.     0.     0.     0.     0.     0.     0.     0.     0.     0.     0.     0.     0.     0.   ]]\n",
            "ranked correlation array\n",
            "[(0.414204, 'V17', 'V14'), (0.379327, 'V7', 'V3'), (0.376249, 'V12', 'Time'), (0.366924, 'Amount', 'V20'), (0.293029, 'V3', 'V1'), (0.286628, 'V5', 'V3'), (0.282747, 'Amount', 'V7'), (0.275357, 'V16', 'V14'), (0.271422, 'V14', 'V9'), (0.257981, 'V14', 'V3'), (0.248352, 'V28', 'V20'), (0.24392, 'V28', 'V1'), (0.238755, 'V13', 'V9'), (0.237151, 'V22', 'V3'), (0.235656, 'V17', 'V9'), (0.234243, 'V14', 'V13'), (0.230955, 'V7', 'V1'), (0.22733, 'V17', 'V3'), (0.226673, 'V10', 'V3'), (0.22301, 'V12', 'V10'), (0.219345, 'V17', 'V10'), (0.208908, 'V16', 'V10'), (0.202304, 'V17', 'V16'), (0.196887, 'V12', 'V7'), (0.192656, 'V25', 'V1'), (0.188655, 'V10', 'V7'), (0.185209, 'Amount', 'V6'), (0.185069, 'V18', 'V14'), (0.17579, 'V9', 'V3'), (0.172964, 'V13', 'V11'), (0.170021, 'V17', 'V7'), (0.162108, 'V12', 'V3'), (0.160301, 'V18', 'V16'), (0.158386, 'V16', 'V7'), (0.155284, 'V15', 'Time'), (0.151697, 'V6', 'V1'), (0.149035, 'V10', 'V5'), (0.145804, 'V14', 'V1'), (0.14312, 'V23', 'V7'), (0.137259, 'V16', 'V5'), (0.131003, 'V28', 'V23'), (0.130337, 'V14', 'V7'), (0.128418, 'V18', 'V17'), (0.128305, 'V7', 'V6'), (0.126778, 'V17', 'V13'), (0.12594, 'V11', 'V2'), (0.122925, 'V28', 'V21'), (0.122376, 'V17', 'V1'), (0.12159, 'V20', 'V8'), (0.12147, 'V16', 'V1'), (0.121454, 'V15', 'V12'), (0.120762, 'Amount', 'V21'), (0.119005, 'V28', 'V2'), (0.115103, 'V23', 'V20'), (0.10983, 'V25', 'V23'), (0.106958, 'V18', 'V9'), (0.104414, 'V18', 'V7'), (0.102868, 'V28', 'V8'), (0.101173, 'V16', 'V12'), (0.100758, 'V14', 'V5'), (0.096625, 'V22', 'V8'), (0.096488, 'V10', 'Time'), (0.095214, 'V15', 'V5'), (0.093824, 'V4', 'V2'), (0.092834, 'Amount', 'V4'), (0.092507, 'V8', 'V4'), (0.090686, 'V26', 'V9'), (0.089469, 'V25', 'V9'), (0.088364, 'V18', 'V5'), (0.087568, 'V27', 'V4'), (0.086936, 'V17', 'V12'), (0.085855, 'V11', 'V9'), (0.081045, 'V19', 'V6'), (0.077119, 'V28', 'V25'), (0.076512, 'V21', 'V6'), (0.075259, 'V25', 'V6'), (0.074851, 'V22', 'V12'), (0.074477, 'V15', 'V10'), (0.07355, 'Amount', 'Time'), (0.071897, 'V13', 'V2'), (0.071806, 'V28', 'V3'), (0.071748, 'V15', 'V7'), (0.07156, 'V18', 'V10'), (0.069858, 'V11', 'V4'), (0.069665, 'V14', 'V6'), (0.0691, 'V25', 'V16'), (0.067537, 'V16', 'V3'), (0.067102, 'V12', 'V1'), (0.064437, 'V16', 'V15'), (0.063864, 'V18', 'V3'), (0.062952, 'V14', 'V10'), (0.062537, 'V26', 'V3'), (0.05994, 'V9', 'V6'), (0.059732, 'V17', 'V5'), (0.059195, 'V12', 'V5'), (0.057702, 'V27', 'V8'), (0.0577, 'V6', 'V5'), (0.056696, 'V8', 'V2'), (0.056629, 'V22', 'Time'), (0.056016, 'Amount', 'V12'), (0.055385, 'V21', 'V2'), (0.054388, 'V9', 'V5'), (0.053652, 'V23', 'V21'), (0.053108, 'V17', 'V6'), (0.052576, 'V20', 'V7'), (0.052186, 'V26', 'V16'), (0.051275, 'V11', 'V8'), (0.050589, 'V9', 'V7'), (0.049692, 'V22', 'V11'), (0.049664, 'V18', 'V6'), (0.047429, 'V25', 'V20'), (0.047001, 'V25', 'V8'), (0.046628, 'V27', 'V11'), (0.04633, 'V6', 'V2'), (0.045772, 'V18', 'V13'), (0.045542, 'V15', 'V1'), (0.045509, 'V24', 'V14'), (0.045396, 'V13', 'V5'), (0.045263, 'V18', 'V12'), (0.045236, 'V22', 'V7'), (0.0443, 'V8', 'Time'), (0.04253, 'V10', 'V6'), (0.042173, 'V25', 'Time'), (0.041244, 'V23', 'V3'), (0.040916, 'V19', 'V18'), (0.040809, 'V10', 'V1'), (0.040585, 'V21', 'V12'), (0.040345, 'V23', 'V2'), (0.039267, 'V15', 'V2'), (0.038236, 'V22', 'V20'), (0.037064, 'V19', 'Time'), (0.03683, 'Amount', 'V18'), (0.036531, 'V27', 'V2'), (0.03557, 'V23', 'V11'), (0.035298, 'V27', 'V19'), (0.035264, 'V7', 'V5'), (0.03363, 'V27', 'V24'), (0.033067, 'V7', 'V2'), (0.032389, 'V16', 'V13'), (0.031472, 'V20', 'V19'), (0.030467, 'V26', 'V14'), (0.030334, 'V26', 'V11'), (0.02994, 'V1', 'Time'), (0.029846, 'V23', 'V14'), (0.029571, 'V26', 'V18'), (0.029421, 'V23', 'V17'), (0.029179, 'V26', 'V4'), (0.028998, 'V24', 'V10'), (0.028639, 'Amount', 'V26'), (0.028559, 'V24', 'V6'), (0.028554, 'V20', 'V11'), (0.026971, 'V20', 'V10'), (0.026374, 'V25', 'V13'), (0.026239, 'V5', 'V1'), (0.024951, 'V24', 'V12'), (0.024641, 'V16', 'Time'), (0.024596, 'V23', 'V6'), (0.024557, 'V26', 'V13'), (0.02449, 'V16', 'V6'), (0.023398, 'V13', 'V4'), (0.0232, 'V23', 'V18'), (0.023082, 'V24', 'V3'), (0.022836, 'V25', 'V18'), (0.020906, 'V26', 'V23'), (0.020629, 'V26', 'V20'), (0.020457, 'V22', 'V17'), (0.020004, 'V20', 'V13'), (0.019727, 'V21', 'V11'), (0.018907, 'V21', 'V15'), (0.018528, 'V13', 'V6'), (0.018321, 'V19', 'V8'), (0.017489, 'V20', 'V9'), (0.016977, 'V21', 'Time'), (0.016924, 'V25', 'V12'), (0.016752, 'V28', 'V26'), (0.016592, 'V26', 'V1'), (0.016128, 'Amount', 'V24'), (0.015722, 'V12', 'V6'), (0.0154, 'V28', 'V11'), (0.015394, 'V24', 'V11'), (0.015292, 'V20', 'V4'), (0.015095, 'Amount', 'V17'), (0.014965, 'V6', 'V3'), (0.014432, 'V18', 'V1'), (0.01419, 'V27', 'V25'), (0.014135, 'V23', 'V22'), (0.014128, 'V22', 'V6'), (0.013428, 'V19', 'V12'), (0.012403, 'V22', 'V1'), (0.012332, 'V24', 'V16'), (0.010815, 'V24', 'V9'), (0.009781, 'V24', 'V23'), (0.009346, 'V26', 'V6'), (0.009286, 'V22', 'V15'), (0.009026, 'V28', 'V6'), (0.00774, 'V25', 'V21'), (0.007727, 'V21', 'V19'), (0.00739, 'V23', 'V15'), (0.007184, 'V14', 'V11'), (0.006145, 'V24', 'V19'), (0.006039, 'V27', 'V15'), (0.005645, 'V28', 'Time'), (0.005282, 'V22', 'V19'), (0.004139, 'V19', 'V5'), (0.004034, 'V20', 'Time'), (0.004019, 'V24', 'V17'), (0.003859, 'V24', 'V15'), (0.00315, 'V18', 'V15'), (0.002777, 'V26', 'V8'), (0.00261, 'V23', 'V1'), (0.002373, 'V19', 'V1'), (0.001815, 'Amount', 'V27'), (0.001572, 'V22', 'V9'), (0.001153, 'V27', 'V13'), (0.000913, 'V22', 'V16'), (0.000215, 'V24', 'V18'), (5.5e-05, 'V26', 'V10'), (-0.000528, 'V19', 'V10'), (-0.000779, 'V23', 'V8'), (-0.000814, 'V13', 'V1'), (-0.001461, 'V26', 'V24'), (-0.001627, 'V28', 'V18'), (-0.001829, 'V20', 'V5'), (-0.001927, 'V7', 'Time'), (-0.002044, 'Amount', 'V9'), (-0.002412, 'V24', 'V8'), (-0.004121, 'V23', 'V13'), (-0.004184, 'V28', 'V14'), (-0.004213, 'V24', 'V5'), (-0.004481, 'V20', 'V15'), (-0.004737, 'V21', 'V4'), (-0.00526, 'V20', 'V16'), (-0.006878, 'V27', 'V21'), (-0.006958, 'V24', 'V22'), (-0.008667, 'V23', 'V10'), (-0.009184, 'V24', 'Time'), (-0.009256, 'V27', 'Time'), (-0.009821, 'V25', 'V19'), (-0.010386, 'V27', 'V26'), (-0.010571, 'V20', 'V6'), (-0.010756, 'Amount', 'V16'), (-0.011026, 'V24', 'V21'), (-0.01108, 'V6', 'Time'), (-0.011344, 'V26', 'V12'), (-0.012133, 'V21', 'V16'), (-0.012272, 'V24', 'V7'), (-0.012396, 'Amount', 'V14'), (-0.012441, 'V21', 'V3'), (-0.01343, 'V13', 'V3'), (-0.014188, 'V23', 'Time'), (-0.014211, 'V19', 'V2'), (-0.014213, 'V28', 'V5'), (-0.015697, 'V23', 'V16'), (-0.015786, 'V24', 'V13'), (-0.015934, 'V26', 'V21'), (-0.015996, 'Amount', 'V28'), (-0.016292, 'V24', 'V1'), (-0.017547, 'V22', 'V4'), (-0.017549, 'V24', 'V20'), (-0.018692, 'V20', 'V18'), (-0.020991, 'V20', 'V12'), (-0.021218, 'V19', 'V4'), (-0.021544, 'V10', 'V9'), (-0.021931, 'V19', 'V16'), (-0.022351, 'V21', 'V18'), (-0.022509, 'V19', 'V13'), (-0.023149, 'V24', 'V4'), (-0.023511, 'V19', 'V15'), (-0.024142, 'V23', 'V4'), (-0.024544, 'V13', 'V7'), (-0.025661, 'V18', 'V2'), (-0.025826, 'V4', 'Time'), (-0.026652, 'V22', 'V10'), (-0.027323, 'V13', 'V8'), (-0.027342, 'V28', 'V13'), (-0.02753, 'V23', 'V12'), (-0.027818, 'V28', 'V7'), (-0.027946, 'V28', 'V12'), (-0.028888, 'V21', 'V9'), (-0.028903, 'V10', 'V2'), (-0.0291, 'V28', 'V24'), (-0.029134, 'Amount', 'V13'), (-0.029319, 'V25', 'V22'), (-0.030838, 'V27', 'V12'), (-0.031004, 'V21', 'V13'), (-0.031005, 'V25', 'V24'), (-0.031342, 'V26', 'Time'), (-0.031953, 'V21', 'V10'), (-0.032276, 'V26', 'V19'), (-0.032382, 'V25', 'V4'), (-0.03265, 'V17', 'V4'), (-0.032785, 'V24', 'V2'), (-0.033044, 'V27', 'V9'), (-0.033242, 'V18', 'V8'), (-0.033913, 'V26', 'V15'), (-0.035181, 'V28', 'V19'), (-0.03526, 'Amount', 'V15'), (-0.035523, 'V21', 'V14'), (-0.036276, 'V9', 'V2'), (-0.036741, 'V15', 'V8'), (-0.036842, 'Amount', 'V19'), (-0.038016, 'Amount', 'V25'), (-0.038774, 'V23', 'V19'), (-0.039406, 'V22', 'V13'), (-0.039519, 'V9', 'V4'), (-0.040219, 'V25', 'V10'), (-0.040559, 'V23', 'V5'), (-0.041156, 'V11', 'V1'), (-0.042341, 'V21', 'V17'), (-0.04377, 'V27', 'V18'), (-0.043852, 'V23', 'V9'), (-0.044503, 'V18', 'Time'), (-0.044559, 'V28', 'V22'), (-0.045312, 'V15', 'V14'), (-0.045718, 'V26', 'V2'), (-0.047863, 'V9', 'V1'), (-0.048056, 'Amount', 'V22'), (-0.049517, 'V26', 'V5'), (-0.050009, 'V26', 'V7'), (-0.05173, 'V5', 'V4'), (-0.051888, 'V28', 'V4'), (-0.053509, 'V18', 'V4'), (-0.053956, 'Amount', 'V11'), (-0.054937, 'V19', 'V3'), (-0.056189, 'V28', 'V16'), (-0.056657, 'V25', 'V14'), (-0.056904, 'V19', 'V7'), (-0.05758, 'V27', 'V22'), (-0.058375, 'V18', 'V11'), (-0.058517, 'V16', 'V9'), (-0.060068, 'V19', 'V9'), (-0.061444, 'V21', 'V5'), (-0.062007, 'V28', 'V15'), (-0.062468, 'V26', 'V17'), (-0.063986, 'V28', 'V17'), (-0.064331, 'V20', 'V2'), (-0.064386, 'V14', 'V8'), (-0.064781, 'V2', 'V1'), (-0.065139, 'V27', 'V5'), (-0.06533, 'V3', 'Time'), (-0.066186, 'V16', 'V8'), (-0.066487, 'V19', 'V11'), (-0.067776, 'V16', 'V2'), (-0.068298, 'V26', 'V22'), (-0.068373, 'V19', 'V14'), (-0.068779, 'V11', 'V5'), (-0.068951, 'V27', 'V6'), (-0.07009, 'V27', 'V16'), (-0.07063, 'V25', 'V5'), (-0.070828, 'V8', 'V6'), (-0.072031, 'V5', 'Time'), (-0.073024, 'V20', 'V1'), (-0.074261, 'V25', 'V2'), (-0.077674, 'V27', 'V14'), (-0.077883, 'V17', 'V15'), (-0.078089, 'V28', 'V9'), (-0.078115, 'V14', 'V12'), (-0.07841, 'V14', 'V4'), (-0.078924, 'V27', 'V20'), (-0.079973, 'V28', 'V10'), (-0.08015, 'V19', 'V17'), (-0.080437, 'V6', 'V4'), (-0.081197, 'V21', 'V1'), (-0.082146, 'V13', 'V10'), (-0.082275, 'V22', 'V5'), (-0.082356, 'V22', 'V14'), (-0.083351, 'V15', 'V4'), (-0.083675, 'V9', 'V8'), (-0.084603, 'V12', 'V8'), (-0.084773, 'Amount', 'V8'), (-0.085557, 'V25', 'V11'), (-0.091448, 'V20', 'V3'), (-0.095676, 'V27', 'V17'), (-0.095705, 'V25', 'V15'), (-0.096058, 'V10', 'V4'), (-0.096143, 'V22', 'V18'), (-0.096933, 'V20', 'V17'), (-0.097256, 'V22', 'V2'), (-0.097817, 'V8', 'V1'), (-0.097818, 'V25', 'V17'), (-0.099205, 'V12', 'V4'), (-0.101816, 'V11', 'V6'), (-0.101907, 'V21', 'V20'), (-0.103571, 'Amount', 'V23'), (-0.104778, 'V2', 'Time'), (-0.104925, 'V17', 'V8'), (-0.105534, 'V15', 'V11'), (-0.105607, 'V25', 'V7'), (-0.106081, 'Amount', 'V10'), (-0.107867, 'V17', 'Time'), (-0.108323, 'V21', 'V7'), (-0.108654, 'V14', 'V2'), (-0.109457, 'V28', 'V27'), (-0.116712, 'V15', 'V13'), (-0.117596, 'V8', 'V5'), (-0.119176, 'V4', 'V1'), (-0.120149, 'V20', 'V14'), (-0.121168, 'V27', 'V10'), (-0.122245, 'V17', 'V2'), (-0.122577, 'V17', 'V11'), (-0.125014, 'V15', 'V6'), (-0.125854, 'V26', 'V25'), (-0.126109, 'V11', 'V10'), (-0.129135, 'V16', 'V11'), (-0.139195, 'V11', 'V7'), (-0.141821, 'Amount', 'V3'), (-0.14886, 'V7', 'V4'), (-0.149551, 'V12', 'V2'), (-0.151765, 'V11', 'V3'), (-0.152922, 'V27', 'V23'), (-0.162686, 'V15', 'V3'), (-0.163487, 'V8', 'V7'), (-0.16498, 'V16', 'V4'), (-0.165778, 'V4', 'V3'), (-0.170057, 'V22', 'V21'), (-0.176653, 'V10', 'V8'), (-0.194261, 'V27', 'V1'), (-0.197517, 'V25', 'V3'), (-0.197595, 'V27', 'V3'), (-0.203497, 'V11', 'Time'), (-0.207358, 'V15', 'V9'), (-0.208008, 'V5', 'V2'), (-0.208332, 'Amount', 'V1'), (-0.224755, 'V12', 'V9'), (-0.226234, 'V27', 'V7'), (-0.236678, 'V21', 'V8'), (-0.248106, 'V3', 'V2'), (-0.257949, 'V14', 'Time'), (-0.299579, 'V8', 'V3'), (-0.310663, 'V12', 'V11'), (-0.325321, 'Amount', 'V5'), (-0.342389, 'V9', 'Time'), (-0.34534, 'V13', 'V12'), (-0.355613, 'V13', 'Time'), (-0.475674, 'Amount', 'V2')]\n",
            "Running time in seconds = 0.05522775650024414\n"
          ],
          "name": "stdout"
        }
      ]
    },
    {
      "cell_type": "code",
      "metadata": {
        "id": "C09kQqy38BdZ",
        "colab_type": "code",
        "colab": {}
      },
      "source": [
        "#Selecting least correlated columns\n",
        "l=0\n",
        "corr_ranking_smallest=[] #initializing array of least correlated pairs\n",
        "for l in range(n_columns):\n",
        "  for k in range(l):\n",
        "    if abs(triu_corr_matrix[k][l]) < THRESHOLD and abs(triu_corr_matrix[k][l]) >= 0:\n",
        "      temp=triu_corr_matrix[k][l],column_list[l], column_list[k]\n",
        "      corr_ranking_smallest.append(temp)\n",
        "sorted(corr_ranking_smallest,key=lambda item: abs(item[0]))\n",
        "if len(corr_ranking_smallest) == 0:\n",
        "  corr_ranking_smallest = corr_ranking[:]\n",
        "\n",
        "#printing technical data that is used in follow-up calculations or/and troubleshooting\n",
        "print(\"most uncorrelated\")\n",
        "print(corr_ranking_smallest)\n",
        "\n",
        "#Select top 10 correlated set by absolute value of the correlation coefficient\n",
        "top_10_corr = [(abs(item[0]),item[1],item[2]) for item in corr_ranking]\n",
        "\n",
        "#printing technical data that is used in follow-up calculations or/and troubleshooting\n",
        "print(\"top 10 coeff by value - {}\".format(top_10_corr))"
      ],
      "execution_count": 0,
      "outputs": []
    },
    {
      "cell_type": "code",
      "metadata": {
        "id": "9YWEomu5EY2J",
        "colab_type": "code",
        "colab": {}
      },
      "source": [
        "    # Correlation plot related parameters calculation\n",
        "    col_corr = [] # Set of all the names of highly correlated columns\n",
        "    for i in range(len(df_model1_corr.columns)):\n",
        "        for j in range(len(df_model1_corr.columns)):\n",
        "            if (abs(df_model1_corr.iloc[j, i]) > 0.5) and (abs(df_model1_corr.iloc[j, i]) < 0.9) and (df_model1_corr.columns[i] not in col_corr) and i != j:\n",
        "                colname = df_model1_corr.columns[i] # getting the name of column\n",
        "                col_corr.append(colname)\n",
        "    print(col_corr)\n",
        "    top_ten_set = set()\n",
        "    for item in top_10_corr:\n",
        "      for i in range(1,len(item)):\n",
        "        top_ten_set.add(item[i])\n",
        "    print(\"top_ten_set: {}\".format(top_ten_set))\n",
        "    if len(top_ten_set)>0:\n",
        "      df_model1_filtered = df_model1.filter(top_ten_set)\n",
        "    else:\n",
        "      df_model1_filtered=df_model1"
      ],
      "execution_count": 0,
      "outputs": []
    },
    {
      "cell_type": "code",
      "metadata": {
        "id": "UqhB1eDxEZ9g",
        "colab_type": "code",
        "colab": {}
      },
      "source": [
        "# HeatMap Using Seaborn\n",
        "sns.set()\n",
        "# this scales up all text, but does not affect annot (see annot_kws={'size':1.4})\n",
        "sns.set(font_scale=1.4)\n",
        "# compute the correlation matrix\n",
        "corr = df_model1_filtered.corr()\n",
        "fig = plt.subplots(figsize=(15,15))\n",
        "cmap = sns.diverging_palette(0, 359, as_cmap=True)\n",
        "# annot controls the correlation values display, bizarre shrink-value properly scales the colorbar \n",
        "ax = sns.heatmap(corr, square=True, cbar_kws={'shrink': 0.82}, annot=True, annot_kws={'size': 14})\n",
        "# take care of the labels printing\n",
        "labels_list = df_model1_filtered.columns\n",
        "# this centers and prints horizontally the y labels\n",
        "ax.set_yticklabels(labels_list, rotation=0, va='center')\n",
        "# this rotates the x labels\n",
        "ax.set_xticklabels(labels_list, rotation=45, va='top')\n",
        "ax.collections[0].colorbar.set_label('Absolute value of the correlation', rotation=-90, va='bottom')\n",
        "plt.show()"
      ],
      "execution_count": 0,
      "outputs": []
    }
  ]
}