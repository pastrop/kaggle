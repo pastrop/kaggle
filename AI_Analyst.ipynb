{
  "nbformat": 4,
  "nbformat_minor": 0,
  "metadata": {
    "colab": {
      "provenance": [],
      "authorship_tag": "ABX9TyOdr69QI1HIDr4OZJcbh6Fq",
      "include_colab_link": true
    },
    "kernelspec": {
      "name": "python3",
      "display_name": "Python 3"
    },
    "language_info": {
      "name": "python"
    }
  },
  "cells": [
    {
      "cell_type": "markdown",
      "metadata": {
        "id": "view-in-github",
        "colab_type": "text"
      },
      "source": [
        "<a href=\"https://colab.research.google.com/github/pastrop/kaggle/blob/master/AI_Analyst.ipynb\" target=\"_parent\"><img src=\"https://colab.research.google.com/assets/colab-badge.svg\" alt=\"Open In Colab\"/></a>"
      ]
    },
    {
      "cell_type": "code",
      "execution_count": 1,
      "metadata": {
        "id": "PlV1Nb7RhoQ1"
      },
      "outputs": [],
      "source": [
        "from google.colab import userdata\n",
        "openai_api_key = userdata.get('OpenAI')"
      ]
    },
    {
      "cell_type": "code",
      "source": [
        "# Warning control\n",
        "import warnings\n",
        "warnings.filterwarnings('ignore')"
      ],
      "metadata": {
        "id": "A8qE9VAWhx_7"
      },
      "execution_count": 2,
      "outputs": []
    },
    {
      "cell_type": "code",
      "source": [
        "import copy\n",
        "import json\n",
        "from openai import OpenAI\n",
        "from openai import ChatCompletion\n",
        "\n",
        "#from utils_local import o1_tools\n",
        "\n",
        "client = OpenAI(api_key=openai_api_key)\n",
        "#O1_MODEL = 'o1-mini'\n",
        "GPT_MODEL = 'gpt-4o-mini'"
      ],
      "metadata": {
        "id": "0MPbyOQ3h2lN"
      },
      "execution_count": 3,
      "outputs": []
    },
    {
      "cell_type": "code",
      "source": [],
      "metadata": {
        "id": "rkv-T4r2iPan"
      },
      "execution_count": null,
      "outputs": []
    },
    {
      "cell_type": "code",
      "source": [
        "# System prompt for the execution model\n",
        "gpt4o_system_prompt = \"\"\"\n",
        "You are a helpful data analyst responsible for analysis provided data file using the tools provided.\n",
        "You must explain your decision-making process across various steps. if ask to read data, you should read the\n",
        "data file and using the provided tool and summurize the infomation in in the first 5 rows.  If you are not asked to read\n",
        "data, you should answer a user question to the best of your ability.\n",
        "\n",
        "\"\"\""
      ],
      "metadata": {
        "id": "I1epDXRJiPn2"
      },
      "execution_count": 4,
      "outputs": []
    },
    {
      "cell_type": "code",
      "source": [
        "tool_metadata = {\n",
        "    \"name\": \"read_csv_to_dataframe\",\n",
        "    \"description\": \"Reads a CSV file and returns the DataFrame.\",\n",
        "    \"parameters\": {\n",
        "        \"type\": \"object\",\n",
        "        \"properties\": {\n",
        "            \"file_path\": {\"type\": \"string\", \"description\": \"Path to the CSV file.\"}\n",
        "        },\n",
        "        \"required\": [\"file_path\"]\n",
        "    }\n",
        "}"
      ],
      "metadata": {
        "id": "4qpWrOWvrMTY"
      },
      "execution_count": 5,
      "outputs": []
    },
    {
      "cell_type": "code",
      "source": [
        "tools = [tool_metadata]"
      ],
      "metadata": {
        "id": "QozZsN6dqK2P"
      },
      "execution_count": 6,
      "outputs": []
    },
    {
      "cell_type": "code",
      "source": [
        "tools"
      ],
      "metadata": {
        "colab": {
          "base_uri": "https://localhost:8080/"
        },
        "id": "75mzTQ3mqI8U",
        "outputId": "3b090dd6-b12b-4e72-9142-68143a845c40"
      },
      "execution_count": 26,
      "outputs": [
        {
          "output_type": "execute_result",
          "data": {
            "text/plain": [
              "[{'name': 'read_csv_to_dataframe',\n",
              "  'description': 'Reads a CSV file and returns the DataFrame.',\n",
              "  'parameters': {'type': 'object',\n",
              "   'properties': {'file_path': {'type': 'string',\n",
              "     'description': 'Path to the CSV file.'}},\n",
              "   'required': ['file_path']}}]"
            ]
          },
          "metadata": {},
          "execution_count": 26
        }
      ]
    },
    {
      "cell_type": "code",
      "source": [
        "# Tools\n",
        "def read_csv_to_dataframe(file_path: str) -> str:\n",
        "    import pandas as pd\n",
        "    try:\n",
        "        df = pd.read_csv(file_path)\n",
        "        return df\n",
        "    except Exception as e:\n",
        "        return f\"Error reading CSV file: {e}\""
      ],
      "metadata": {
        "id": "8Etqznnsraqp"
      },
      "execution_count": 7,
      "outputs": []
    },
    {
      "cell_type": "code",
      "source": [
        "# Map function names to actual functions\n",
        "function_mapping = {\n",
        "    'read_csv_to_dataframe': read_csv_to_dataframe\n",
        "}"
      ],
      "metadata": {
        "id": "AhUr-aMsrzdf"
      },
      "execution_count": 8,
      "outputs": []
    },
    {
      "cell_type": "code",
      "source": [
        "data = '/content/Beer_small_test.csv'\n",
        "messages = [\n",
        "    {\"role\": \"system\", \"content\": 'you are helful data analyst reading the data files'},\n",
        "    {\"role\": \"user\", \"content\": f\"Can you read the {data} and summurize first 5 rows\"}\n",
        "]\n",
        "# User query\n",
        "response = client.chat.completions.create(\n",
        "    model=\"gpt-4o\",\n",
        "    messages=messages,\n",
        "    functions=tools,\n",
        "    function_call={\"name\": \"read_csv_to_dataframe\"}\n",
        ")"
      ],
      "metadata": {
        "id": "J5isWU0NU_ya"
      },
      "execution_count": 28,
      "outputs": []
    },
    {
      "cell_type": "code",
      "source": [
        "response.choices[0].message"
      ],
      "metadata": {
        "colab": {
          "base_uri": "https://localhost:8080/"
        },
        "id": "w5vvwdC4hQur",
        "outputId": "0d0dac0d-ab39-46cb-acbf-22b8277b4fe9"
      },
      "execution_count": 29,
      "outputs": [
        {
          "output_type": "execute_result",
          "data": {
            "text/plain": [
              "ChatCompletionMessage(content=None, refusal=None, role='assistant', audio=None, function_call=FunctionCall(arguments='{\"file_path\":\"/content/Beer_small_test.csv\"}', name='read_csv_to_dataframe'), tool_calls=None)"
            ]
          },
          "metadata": {},
          "execution_count": 29
        }
      ]
    },
    {
      "cell_type": "code",
      "source": [
        "def call_gpt4o(plan):\n",
        "    gpt4o_policy_prompt = gpt4o_system_prompt.replace(\"{policy}\", plan)\n",
        "    messages = [\n",
        "        {'role': 'system', 'content': gpt4o_policy_prompt},\n",
        "    ]\n",
        "\n",
        "    while True:\n",
        "        response = client.chat.completions.create(\n",
        "            model=GPT_MODEL,\n",
        "            messages=messages,\n",
        "            tools=TOOLS,\n",
        "            parallel_tool_calls=False\n",
        "        )\n",
        "\n",
        "        assistant_message = response.choices[0].message.to_dict()\n",
        "        print(assistant_message)\n",
        "        messages.append(assistant_message)\n",
        "\n",
        "        append_message({'type': 'assistant', 'content': assistant_message.get('content', '')})\n",
        "\n",
        "        if (response.choices[0].message.tool_calls and\n",
        "            response.choices[0].message.tool_calls[0].function.name == 'instructions_complete'):\n",
        "            break\n",
        "\n",
        "        if not response.choices[0].message.tool_calls:\n",
        "            continue\n",
        "\n",
        "        for tool in response.choices[0].message.tool_calls:\n",
        "            tool_id = tool.id\n",
        "            function_name = tool.function.name\n",
        "            input_arguments_str = tool.function.arguments\n",
        "\n",
        "            append_message({'type': 'tool_call', 'function_name': function_name, 'arguments': input_arguments_str})\n",
        "\n",
        "            try:\n",
        "                input_arguments = json.loads(input_arguments_str)\n",
        "            except (ValueError, json.JSONDecodeError):\n",
        "                continue\n",
        "\n",
        "            if function_name in function_mapping:\n",
        "                try:\n",
        "                    function_response = function_mapping[function_name](**input_arguments)\n",
        "                except Exception as e:\n",
        "                    function_response = {'error': str(e)}\n",
        "            else:\n",
        "                function_response = {'error': f\"Function '{function_name}' not implemented.\"}\n",
        "\n",
        "            try:\n",
        "                serialized_output = json.dumps(function_response)\n",
        "            except (TypeError, ValueError):\n",
        "                serialized_output = str(function_response)\n",
        "\n",
        "            messages.append({\n",
        "                \"role\": \"tool\",\n",
        "                \"tool_call_id\": tool_id,\n",
        "                \"content\": serialized_output\n",
        "            })\n",
        "\n",
        "            append_message({'type': 'tool_response', 'function_name': function_name, 'response': serialized_output})\n",
        "\n",
        "    return messages"
      ],
      "metadata": {
        "id": "5VPyaAWpVkbf"
      },
      "execution_count": null,
      "outputs": []
    },
    {
      "cell_type": "code",
      "source": [
        "#test block 1\n",
        "\n",
        "import json\n",
        "import pandas as pd\n",
        "\n",
        "# Define the tool (function metadata)\n",
        "tools = [\n",
        "    {\n",
        "        \"name\": \"read_csv_to_dataframe\",\n",
        "        \"description\": \"Reads a CSV file and converts it into a pandas DataFrame.\",\n",
        "        \"parameters\": {\n",
        "            \"type\": \"object\",\n",
        "            \"properties\": {\n",
        "                \"file_path\": {\"type\": \"string\", \"description\": \"Path to the CSV file to read.\"}\n",
        "            },\n",
        "            \"required\": [\"file_path\"]\n",
        "        }\n",
        "    }\n",
        "]\n",
        "\n",
        "# Define the function to read the CSV\n",
        "def read_csv_to_dataframe(file_path: str):\n",
        "    try:\n",
        "        df = pd.read_csv(file_path)\n",
        "        return {\n",
        "            \"rows\": len(df),\n",
        "            \"columns\": list(df.columns),\n",
        "            \"head\": df.head(3).to_dict(orient=\"records\")\n",
        "        }\n",
        "    except Exception as e:\n",
        "        return {\"error\": str(e)}\n",
        "\n",
        "# Define the messages for the assistant\n",
        "messages = [\n",
        "    {\"role\": \"system\", \"content\": \"You are an assistant that can process CSV files.\"},\n",
        "    {\"role\": \"user\", \"content\": \"Can you read the file /content/Beer_small_test.csv and tell me about it?\"}\n",
        "]\n",
        "\n",
        "# Simulate the GPT-4o response (mock client)\n",
        "class MockGPT4oClient:\n",
        "    def chat(self, completions):\n",
        "        # Simulate what the GPT-4o would return\n",
        "        return {\n",
        "            \"choices\": [\n",
        "                {\n",
        "                    \"message\": {\n",
        "                        \"function_call\": {\n",
        "                            \"name\": \"read_csv_to_dataframe\",\n",
        "                            \"arguments\": json.dumps({\"file_path\": \"/content/Beer_small_test.csv\"})\n",
        "                        }\n",
        "                    }\n",
        "                }\n",
        "            ]\n",
        "        }\n",
        "\n",
        "# Instantiate the client\n",
        "client = MockGPT4oClient()\n",
        "\n",
        "# Generate the response\n",
        "response = client.chat(\n",
        "    completions={\n",
        "        \"model\": \"gpt-4o\",\n",
        "        \"messages\": messages,\n",
        "        \"functions\": tools,\n",
        "        \"function_call\": {\"name\": \"read_csv_to_dataframe\"}\n",
        "    }\n",
        ")\n",
        "\n",
        "# Process the response\n",
        "if response[\"choices\"][0][\"message\"].get(\"function_call\"):\n",
        "    function_call = response[\"choices\"][0][\"message\"][\"function_call\"]\n",
        "    function_name = function_call[\"name\"]\n",
        "    function_arguments = json.loads(function_call[\"arguments\"])\n",
        "\n",
        "    if function_name == \"read_csv_to_dataframe\":\n",
        "        file_path = function_arguments[\"file_path\"]\n",
        "\n",
        "        # Call the function and handle the output\n",
        "        result = read_csv_to_dataframe(file_path)\n",
        "\n",
        "        # Display the result\n",
        "        print(f\"Function Output: {result}\")\n",
        "else:\n",
        "    print(\"No function call found in the response.\")"
      ],
      "metadata": {
        "colab": {
          "base_uri": "https://localhost:8080/"
        },
        "id": "fchVp-UXqbLf",
        "outputId": "cf79ece5-394a-4afd-fc57-3e21adda0bd3"
      },
      "execution_count": 30,
      "outputs": [
        {
          "output_type": "stream",
          "name": "stdout",
          "text": [
            "Function Output: {'rows': 781, 'columns': ['string_name', 'string_beer_id', 'string_brewer_id', 'number_abv', 'string_style', 'number_appearance', 'number_aroma', 'number_palate', 'number_taste', 'ratings', 'date_time', 'string_profile_name', 'text'], 'head': [{'string_name': 'Sausa Weizen', 'string_beer_id': 47986, 'string_brewer_id': 10325, 'number_abv': 5.0, 'string_style': 'Hefeweizen', 'number_appearance': 2.5, 'number_aroma': 2.0, 'number_palate': 1.5, 'number_taste': 1.5, 'ratings': 1.5, 'date_time': '2009-02-16T15:57:03Z', 'string_profile_name': 'stcules', 'text': 'A lot of foam. But a lot.\\tIn the smell some banana, and then lactic and tart. Not a good start.\\tQuite dark orange in color, with a lively carbonation (now visible, under the foam).\\tAgain tending to lactic sourness.\\tSame for the taste. With some yeast and banana.'}, {'string_name': 'Red Moon', 'string_beer_id': 48213, 'string_brewer_id': 10325, 'number_abv': 6.2, 'string_style': 'English Strong Ale', 'number_appearance': 3.0, 'number_aroma': 2.5, 'number_palate': 3.0, 'number_taste': 3.0, 'ratings': 3.0, 'date_time': '2009-03-01T08:44:57Z', 'string_profile_name': 'stcules', 'text': 'Dark red color, light beige foam, average.\\tIn the smell malt and caramel, not really light.\\tAgain malt and caramel in the taste, not bad in the end.\\tMaybe a note of honey in teh back, and a light fruitiness.\\tAverage body.\\tIn the aftertaste a light bitterness, with the malt and red fruit.\\tNothing exceptional, but not bad, drinkable beer.'}, {'string_name': 'Black Horse Black Beer', 'string_beer_id': 48215, 'string_brewer_id': 10325, 'number_abv': 6.5, 'string_style': 'Foreign / Export Stout', 'number_appearance': 3.0, 'number_aroma': 2.5, 'number_palate': 3.0, 'number_taste': 3.0, 'ratings': 3.0, 'date_time': '2009-03-01T09:10:04Z', 'string_profile_name': 'stcules', 'text': 'Almost totally black. Beige foam, quite compact, not bad.\\tLight smell, just a bit of roast, and some hop. A bit too light.\\tThe taste is light oo, and drinkable, with some malt, roast, hints of coffee.\\tNothing exceptional, but after all drinkable and pleasant.\\tLight to average body.\\tIn the aftertaste some dust, somr roast, hint of caramel, and a bit of bitterness.\\tNo defect, drinkable, not bad.'}]}\n"
          ]
        }
      ]
    },
    {
      "cell_type": "code",
      "source": [
        "response"
      ],
      "metadata": {
        "colab": {
          "base_uri": "https://localhost:8080/"
        },
        "id": "kfFzR8VaxZKR",
        "outputId": "48fd056d-71c5-4480-90b2-fd786764e335"
      },
      "execution_count": 31,
      "outputs": [
        {
          "output_type": "execute_result",
          "data": {
            "text/plain": [
              "{'choices': [{'message': {'function_call': {'name': 'read_csv_to_dataframe',\n",
              "     'arguments': '{\"file_path\": \"/content/Beer_small_test.csv\"}'}}}]}"
            ]
          },
          "metadata": {},
          "execution_count": 31
        }
      ]
    },
    {
      "cell_type": "code",
      "source": [
        "#test block 2\n",
        "import json\n",
        "import pandas as pd\n",
        "\n",
        "# Define the tool for reading the CSV\n",
        "tools = [\n",
        "    {\n",
        "        \"name\": \"read_csv_to_dataframe\",\n",
        "        \"description\": \"Reads a CSV file and extracts the requested column data.\",\n",
        "        \"parameters\": {\n",
        "            \"type\": \"object\",\n",
        "            \"properties\": {\n",
        "                \"file_path\": {\"type\": \"string\", \"description\": \"Path to the CSV file to read.\"},\n",
        "                \"column_name\": {\"type\": \"string\", \"description\": \"Name of the column to extract.\"},\n",
        "                \"num_entries\": {\"type\": \"integer\", \"description\": \"Number of entries to retrieve from the column.\"}\n",
        "            },\n",
        "            \"required\": [\"file_path\", \"column_name\", \"num_entries\"]\n",
        "        }\n",
        "    }\n",
        "]\n",
        "\n",
        "# Define the function to read the CSV and extract data\n",
        "def read_csv_to_dataframe(file_path: str, column_name: str, num_entries: int):\n",
        "    try:\n",
        "        df = pd.read_csv(file_path)\n",
        "        if column_name not in df.columns:\n",
        "            return {\"error\": f\"Column '{column_name}' not found in the file.\"}\n",
        "        return {\n",
        "            \"data\": df[column_name].head(num_entries).tolist(),\n",
        "            \"column_name\": column_name\n",
        "        }\n",
        "    except Exception as e:\n",
        "        return {\"error\": str(e)}\n",
        "\n",
        "# Define the initial query\n",
        "messages = [\n",
        "    {\"role\": \"system\", \"content\": \"You are an assistant that can process CSV files and analyze data.\"},\n",
        "    {\"role\": \"user\", \"content\": \"Please summarize the first 5 entries in the 'text' column of the file '/content/Beer_small_test.csv'.\"}\n",
        "]\n",
        "\n",
        "# Simulate the GPT-4o response (mock client)\n",
        "class MockGPT4oClient:\n",
        "    def chat(self, completions):\n",
        "        # Simulate the GPT-4o model suggesting a function call\n",
        "        return {\n",
        "            \"choices\": [\n",
        "                {\n",
        "                    \"message\": {\n",
        "                        \"function_call\": {\n",
        "                            \"name\": \"read_csv_to_dataframe\",\n",
        "                            \"arguments\": json.dumps({\n",
        "                                \"file_path\": \"/content/Beer_small_test.csv\",\n",
        "                                \"column_name\": \"text\",\n",
        "                                \"num_entries\": 5\n",
        "                            })\n",
        "                        }\n",
        "                    }\n",
        "                }\n",
        "            ]\n",
        "        }\n",
        "\n",
        "# Instantiate the client\n",
        "client = MockGPT4oClient()\n",
        "\n",
        "# Generate the response\n",
        "response = client.chat(\n",
        "    completions={\n",
        "        \"model\": \"gpt-4o\",\n",
        "        \"messages\": messages,\n",
        "        \"functions\": tools,\n",
        "        \"function_call\": {\"name\": \"read_csv_to_dataframe\"}\n",
        "    }\n",
        ")\n",
        "\n",
        "# Process the response\n",
        "if response[\"choices\"][0][\"message\"].get(\"function_call\"):\n",
        "    function_call = response[\"choices\"][0][\"message\"][\"function_call\"]\n",
        "    function_name = function_call[\"name\"]\n",
        "    function_arguments = json.loads(function_call[\"arguments\"])\n",
        "\n",
        "    if function_name == \"read_csv_to_dataframe\":\n",
        "        # Call the function\n",
        "        result = read_csv_to_dataframe(\n",
        "            file_path=function_arguments[\"file_path\"],\n",
        "            column_name=function_arguments[\"column_name\"],\n",
        "            num_entries=function_arguments[\"num_entries\"]\n",
        "        )\n",
        "\n",
        "        # Check for errors\n",
        "        if \"error\" in result:\n",
        "            user_answer = f\"I tried to read the file, but encountered an error: {result['error']}\"\n",
        "        else:\n",
        "            # Extracted data\n",
        "            extracted_data = result[\"data\"]\n",
        "            column_name = result[\"column_name\"]\n",
        "\n",
        "            # Craft a new prompt for summarization\n",
        "            new_messages = [\n",
        "                {\"role\": \"system\", \"content\": \"You are an assistant that analyzes text data.\"},\n",
        "                {\"role\": \"user\", \"content\": f\"Please summarize the following data from the '{column_name}' column: {extracted_data}\"}\n",
        "            ]\n",
        "\n",
        "            # Simulate the model summarizing the text\n",
        "            summary_response = client.chat(\n",
        "                completions={\n",
        "                    \"model\": \"gpt-4o\",\n",
        "                    \"messages\": new_messages\n",
        "                }\n",
        "            )\n",
        "\n",
        "            # Mock summary response\n",
        "            summary = (\n",
        "                \"The extracted entries discuss various aspects, including the flavor, texture, and uniqueness \"\n",
        "                \"of different beers. Common themes include customer preferences and the distinct character of each beer.\"\n",
        "            )\n",
        "\n",
        "            user_answer = f\"Summary of the '{column_name}' column:\\n{summary}\"\n",
        "\n",
        "        # Print the response\n",
        "        print(user_answer)\n",
        "else:\n",
        "    print(\"No function call found in the response.\")"
      ],
      "metadata": {
        "id": "u8u4jmGUv1lc"
      },
      "execution_count": null,
      "outputs": []
    }
  ]
}