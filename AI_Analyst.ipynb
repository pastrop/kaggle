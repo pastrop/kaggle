{
  "nbformat": 4,
  "nbformat_minor": 0,
  "metadata": {
    "colab": {
      "provenance": [],
      "authorship_tag": "ABX9TyO3b2xan2vXJVvoZV4LXLZJ",
      "include_colab_link": true
    },
    "kernelspec": {
      "name": "python3",
      "display_name": "Python 3"
    },
    "language_info": {
      "name": "python"
    }
  },
  "cells": [
    {
      "cell_type": "markdown",
      "metadata": {
        "id": "view-in-github",
        "colab_type": "text"
      },
      "source": [
        "<a href=\"https://colab.research.google.com/github/pastrop/kaggle/blob/master/AI_Analyst.ipynb\" target=\"_parent\"><img src=\"https://colab.research.google.com/assets/colab-badge.svg\" alt=\"Open In Colab\"/></a>"
      ]
    },
    {
      "cell_type": "markdown",
      "source": [
        "### **Work in Porgress. A template for the AI Analyst pipeline.  The genral idea is to analyse set of documents (product reviews, emails, etc.,)**"
      ],
      "metadata": {
        "id": "0s2gZXDNpPDt"
      }
    },
    {
      "cell_type": "code",
      "execution_count": null,
      "metadata": {
        "id": "PlV1Nb7RhoQ1"
      },
      "outputs": [],
      "source": [
        "from google.colab import userdata\n",
        "openai_api_key = userdata.get('OpenAI')"
      ]
    },
    {
      "cell_type": "code",
      "source": [
        "# Warning control\n",
        "import warnings\n",
        "warnings.filterwarnings('ignore')"
      ],
      "metadata": {
        "id": "A8qE9VAWhx_7"
      },
      "execution_count": null,
      "outputs": []
    },
    {
      "cell_type": "code",
      "source": [
        "import pandas as pd\n",
        "import copy\n",
        "import json\n",
        "from openai import OpenAI\n",
        "#from openai import ChatCompletion\n",
        "\n",
        "#from utils_local import o1_tools\n",
        "\n",
        "client = OpenAI(api_key=openai_api_key)\n",
        "#O1_MODEL = 'o1-mini'\n",
        "GPT_MODEL = 'gpt-4o-mini'"
      ],
      "metadata": {
        "id": "0MPbyOQ3h2lN"
      },
      "execution_count": null,
      "outputs": []
    },
    {
      "cell_type": "code",
      "source": [],
      "metadata": {
        "id": "rkv-T4r2iPan"
      },
      "execution_count": null,
      "outputs": []
    },
    {
      "cell_type": "code",
      "source": [
        "# System prompt for the execution model\n",
        "gpt4o_system_prompt = \"\"\"\n",
        "You are a helpful data analyst responsible for analysis provided data file using the tools provided.\n",
        "You must explain your decision-making process across various steps. if ask to read data, you should read the\n",
        "data file using the tool provided. The data file is located at /content/Beer_small_test.csv\n",
        "If you are not asked to read the data file, you should answer a user question to the best of your ability.\n",
        "\n",
        "\"\"\""
      ],
      "metadata": {
        "id": "I1epDXRJiPn2"
      },
      "execution_count": null,
      "outputs": []
    },
    {
      "cell_type": "code",
      "source": [
        "# Tools\n",
        "def read_csv_to_dataframe(file_path: str):\n",
        "    import pandas as pd\n",
        "    try:\n",
        "        df = pd.read_csv(file_path)\n",
        "        return df\n",
        "    except Exception as e:\n",
        "        return f\"Error reading CSV file: {e}\""
      ],
      "metadata": {
        "id": "8Etqznnsraqp"
      },
      "execution_count": null,
      "outputs": []
    },
    {
      "cell_type": "code",
      "source": [
        "TOOLS_test = [\n",
        "    {\n",
        "        \"type\": \"function\",\n",
        "        \"function\": {\n",
        "            \"name\": \"read_csv_to_dataframe\",\n",
        "            \"description\":\"Reads a CSV file and returns the DataFrame\",\n",
        "            \"parameters\": {\n",
        "                \"type\": \"object\",\n",
        "                \"properties\": {\n",
        "                    \"file_path\": {\"type\": \"string\", \"description\": \"Path to the CSV file.\"}\n",
        "                },\n",
        "                \"required\": [\"file_path\"],\n",
        "                \"additionalProperties\": False,\n",
        "            },\n",
        "        },\n",
        "    }]"
      ],
      "metadata": {
        "id": "9rk9cj_GNg73"
      },
      "execution_count": null,
      "outputs": []
    },
    {
      "cell_type": "code",
      "source": [
        "data = '/content/Beer_small_test.csv'\n",
        "\n",
        "messages = [\n",
        "    {\"role\": \"system\", \"content\": 'you are helful data analyst reading the data files'},\n",
        "    {\"role\": \"user\", \"content\": f\"please read the data file\"}]"
      ],
      "metadata": {
        "id": "cxQcy2SEq3Tj"
      },
      "execution_count": null,
      "outputs": []
    },
    {
      "cell_type": "code",
      "source": [
        "content = '''You are an assistant that uses tools if asked anything that can be addressed by a tool.\n",
        "              or directly answer user questions as asked\n",
        "'''\n",
        "response = client.chat.completions.create(\n",
        "    model=\"gpt-4o\",\n",
        "    messages=[\n",
        "        {\"role\": \"system\", \"content\": gpt4o_system_prompt},\n",
        "        {\"role\": \"user\", \"content\": f\"please read the data file\"}\n",
        "    ],\n",
        "    tools=TOOLS_test,\n",
        "    tool_choice=\"auto\"\n",
        ")"
      ],
      "metadata": {
        "id": "pRw4BqCME5gG"
      },
      "execution_count": null,
      "outputs": []
    },
    {
      "cell_type": "code",
      "source": [
        "response.choices[0].message.tool_calls"
      ],
      "metadata": {
        "colab": {
          "base_uri": "https://localhost:8080/"
        },
        "id": "-kyOEeedVfRa",
        "outputId": "e6b94ada-c62d-4ced-ca49-17a6fc1b436a"
      },
      "execution_count": null,
      "outputs": [
        {
          "output_type": "execute_result",
          "data": {
            "text/plain": [
              "[ChatCompletionMessageToolCall(id='call_JvES3EhPvvp72lNLgybB6hYS', function=Function(arguments='{\"file_path\":\"/content/Beer_small_test.csv\"}', name='read_csv_to_dataframe'), type='function')]"
            ]
          },
          "metadata": {},
          "execution_count": 66
        }
      ]
    },
    {
      "cell_type": "code",
      "source": [
        "response.choices[0].message.tool_calls[0].function.name"
      ],
      "metadata": {
        "colab": {
          "base_uri": "https://localhost:8080/",
          "height": 35
        },
        "id": "jR2YchO0l0Cz",
        "outputId": "f30f81ae-be87-4e8b-feb3-84133cdc20e5"
      },
      "execution_count": null,
      "outputs": [
        {
          "output_type": "execute_result",
          "data": {
            "text/plain": [
              "'read_csv_to_dataframe'"
            ],
            "application/vnd.google.colaboratory.intrinsic+json": {
              "type": "string"
            }
          },
          "metadata": {},
          "execution_count": 37
        }
      ]
    },
    {
      "cell_type": "code",
      "source": [
        "response.choices[0].message.tool_calls[0].function.arguments"
      ],
      "metadata": {
        "colab": {
          "base_uri": "https://localhost:8080/",
          "height": 35
        },
        "id": "F1XbITnVkfDC",
        "outputId": "d85147c0-f9df-408b-b8df-a1c0c2379699"
      },
      "execution_count": null,
      "outputs": [
        {
          "output_type": "execute_result",
          "data": {
            "text/plain": [
              "'{\"file_path\":\"/content/Beer_small_test.csv\"}'"
            ],
            "application/vnd.google.colaboratory.intrinsic+json": {
              "type": "string"
            }
          },
          "metadata": {},
          "execution_count": 40
        }
      ]
    },
    {
      "cell_type": "code",
      "source": [
        "if response.choices[0].message.tool_calls:\n",
        "  # Assuming response.choices[0].message.tool_calls[0] is stored in a variable `tool_call`\n",
        "  tool_call = response.choices[0].message.tool_calls[0]\n",
        "\n",
        "  # Extract the function name and arguments\n",
        "  function_name = tool_call.function.name  # Access the function name\n",
        "  function_arguments = tool_call.function.arguments  # Access the function arguments\n",
        "\n",
        "  # Parse the JSON string\n",
        "  parsed_arguments = json.loads(function_arguments)\n",
        "\n",
        "  print(\"Function Name:\", function_name)\n",
        "  print(\"Function Arguments:\", function_arguments)\n",
        "\n",
        "  file_path = parsed_arguments.get(\"file_path\")\n",
        "\n",
        "  print(\"File Path:\", file_path)\n",
        "  #function_callable = globals().get(function_name)\n",
        "  #df = function_callable(function_arguments)\n",
        "else:\n",
        "  print(f'model response: {response.choices[0].message.content}')"
      ],
      "metadata": {
        "colab": {
          "base_uri": "https://localhost:8080/"
        },
        "id": "d_Wz033DhVYU",
        "outputId": "951e130b-2562-4f85-f978-086c1e6c98c1"
      },
      "execution_count": null,
      "outputs": [
        {
          "output_type": "stream",
          "name": "stdout",
          "text": [
            "Function Name: read_csv_to_dataframe\n",
            "Function Arguments: {\"file_path\":\"/content/Beer_small_test.csv\"}\n",
            "File Path: /content/Beer_small_test.csv\n"
          ]
        }
      ]
    },
    {
      "cell_type": "code",
      "source": [
        "function_callable = globals().get(function_name)\n",
        "df = function_callable(file_path)\n",
        "df.head()"
      ],
      "metadata": {
        "colab": {
          "base_uri": "https://localhost:8080/",
          "height": 504
        },
        "id": "R9T6h4yW36w5",
        "outputId": "fb908865-3e05-4327-f750-eab6db48233f"
      },
      "execution_count": null,
      "outputs": [
        {
          "output_type": "execute_result",
          "data": {
            "text/plain": [
              "              string_name  string_beer_id  string_brewer_id  number_abv  \\\n",
              "0            Sausa Weizen           47986             10325         5.0   \n",
              "1                Red Moon           48213             10325         6.2   \n",
              "2  Black Horse Black Beer           48215             10325         6.5   \n",
              "3              Sausa Pils           47969             10325         5.0   \n",
              "4           Cauldron DIPA           64883              1075         7.7   \n",
              "\n",
              "                     string_style  number_appearance  number_aroma  \\\n",
              "0                      Hefeweizen                2.5           2.0   \n",
              "1              English Strong Ale                3.0           2.5   \n",
              "2          Foreign / Export Stout                3.0           2.5   \n",
              "3                 German Pilsener                3.5           3.0   \n",
              "4  American Double / Imperial IPA                4.0           4.5   \n",
              "\n",
              "   number_palate  number_taste  ratings             date_time  \\\n",
              "0            1.5           1.5      1.5  2009-02-16T15:57:03Z   \n",
              "1            3.0           3.0      3.0  2009-03-01T08:44:57Z   \n",
              "2            3.0           3.0      3.0  2009-03-01T09:10:04Z   \n",
              "3            2.5           3.0      3.0  2009-02-15T14:12:25Z   \n",
              "4            4.0           4.5      4.0  2010-12-30T13:53:26Z   \n",
              "\n",
              "  string_profile_name                                               text  \n",
              "0             stcules  A lot of foam. But a lot.\\tIn the smell some b...  \n",
              "1             stcules  Dark red color, light beige foam, average.\\tIn...  \n",
              "2             stcules  Almost totally black. Beige foam, quite compac...  \n",
              "3             stcules  Golden yellow color. White, compact foam, quit...  \n",
              "4      johnmichaelsen  According to the website, the style for the Ca...  "
            ],
            "text/html": [
              "\n",
              "  <div id=\"df-68946f2e-0bf7-4c02-a0a6-f1b3473009e8\" class=\"colab-df-container\">\n",
              "    <div>\n",
              "<style scoped>\n",
              "    .dataframe tbody tr th:only-of-type {\n",
              "        vertical-align: middle;\n",
              "    }\n",
              "\n",
              "    .dataframe tbody tr th {\n",
              "        vertical-align: top;\n",
              "    }\n",
              "\n",
              "    .dataframe thead th {\n",
              "        text-align: right;\n",
              "    }\n",
              "</style>\n",
              "<table border=\"1\" class=\"dataframe\">\n",
              "  <thead>\n",
              "    <tr style=\"text-align: right;\">\n",
              "      <th></th>\n",
              "      <th>string_name</th>\n",
              "      <th>string_beer_id</th>\n",
              "      <th>string_brewer_id</th>\n",
              "      <th>number_abv</th>\n",
              "      <th>string_style</th>\n",
              "      <th>number_appearance</th>\n",
              "      <th>number_aroma</th>\n",
              "      <th>number_palate</th>\n",
              "      <th>number_taste</th>\n",
              "      <th>ratings</th>\n",
              "      <th>date_time</th>\n",
              "      <th>string_profile_name</th>\n",
              "      <th>text</th>\n",
              "    </tr>\n",
              "  </thead>\n",
              "  <tbody>\n",
              "    <tr>\n",
              "      <th>0</th>\n",
              "      <td>Sausa Weizen</td>\n",
              "      <td>47986</td>\n",
              "      <td>10325</td>\n",
              "      <td>5.0</td>\n",
              "      <td>Hefeweizen</td>\n",
              "      <td>2.5</td>\n",
              "      <td>2.0</td>\n",
              "      <td>1.5</td>\n",
              "      <td>1.5</td>\n",
              "      <td>1.5</td>\n",
              "      <td>2009-02-16T15:57:03Z</td>\n",
              "      <td>stcules</td>\n",
              "      <td>A lot of foam. But a lot.\\tIn the smell some b...</td>\n",
              "    </tr>\n",
              "    <tr>\n",
              "      <th>1</th>\n",
              "      <td>Red Moon</td>\n",
              "      <td>48213</td>\n",
              "      <td>10325</td>\n",
              "      <td>6.2</td>\n",
              "      <td>English Strong Ale</td>\n",
              "      <td>3.0</td>\n",
              "      <td>2.5</td>\n",
              "      <td>3.0</td>\n",
              "      <td>3.0</td>\n",
              "      <td>3.0</td>\n",
              "      <td>2009-03-01T08:44:57Z</td>\n",
              "      <td>stcules</td>\n",
              "      <td>Dark red color, light beige foam, average.\\tIn...</td>\n",
              "    </tr>\n",
              "    <tr>\n",
              "      <th>2</th>\n",
              "      <td>Black Horse Black Beer</td>\n",
              "      <td>48215</td>\n",
              "      <td>10325</td>\n",
              "      <td>6.5</td>\n",
              "      <td>Foreign / Export Stout</td>\n",
              "      <td>3.0</td>\n",
              "      <td>2.5</td>\n",
              "      <td>3.0</td>\n",
              "      <td>3.0</td>\n",
              "      <td>3.0</td>\n",
              "      <td>2009-03-01T09:10:04Z</td>\n",
              "      <td>stcules</td>\n",
              "      <td>Almost totally black. Beige foam, quite compac...</td>\n",
              "    </tr>\n",
              "    <tr>\n",
              "      <th>3</th>\n",
              "      <td>Sausa Pils</td>\n",
              "      <td>47969</td>\n",
              "      <td>10325</td>\n",
              "      <td>5.0</td>\n",
              "      <td>German Pilsener</td>\n",
              "      <td>3.5</td>\n",
              "      <td>3.0</td>\n",
              "      <td>2.5</td>\n",
              "      <td>3.0</td>\n",
              "      <td>3.0</td>\n",
              "      <td>2009-02-15T14:12:25Z</td>\n",
              "      <td>stcules</td>\n",
              "      <td>Golden yellow color. White, compact foam, quit...</td>\n",
              "    </tr>\n",
              "    <tr>\n",
              "      <th>4</th>\n",
              "      <td>Cauldron DIPA</td>\n",
              "      <td>64883</td>\n",
              "      <td>1075</td>\n",
              "      <td>7.7</td>\n",
              "      <td>American Double / Imperial IPA</td>\n",
              "      <td>4.0</td>\n",
              "      <td>4.5</td>\n",
              "      <td>4.0</td>\n",
              "      <td>4.5</td>\n",
              "      <td>4.0</td>\n",
              "      <td>2010-12-30T13:53:26Z</td>\n",
              "      <td>johnmichaelsen</td>\n",
              "      <td>According to the website, the style for the Ca...</td>\n",
              "    </tr>\n",
              "  </tbody>\n",
              "</table>\n",
              "</div>\n",
              "    <div class=\"colab-df-buttons\">\n",
              "\n",
              "  <div class=\"colab-df-container\">\n",
              "    <button class=\"colab-df-convert\" onclick=\"convertToInteractive('df-68946f2e-0bf7-4c02-a0a6-f1b3473009e8')\"\n",
              "            title=\"Convert this dataframe to an interactive table.\"\n",
              "            style=\"display:none;\">\n",
              "\n",
              "  <svg xmlns=\"http://www.w3.org/2000/svg\" height=\"24px\" viewBox=\"0 -960 960 960\">\n",
              "    <path d=\"M120-120v-720h720v720H120Zm60-500h600v-160H180v160Zm220 220h160v-160H400v160Zm0 220h160v-160H400v160ZM180-400h160v-160H180v160Zm440 0h160v-160H620v160ZM180-180h160v-160H180v160Zm440 0h160v-160H620v160Z\"/>\n",
              "  </svg>\n",
              "    </button>\n",
              "\n",
              "  <style>\n",
              "    .colab-df-container {\n",
              "      display:flex;\n",
              "      gap: 12px;\n",
              "    }\n",
              "\n",
              "    .colab-df-convert {\n",
              "      background-color: #E8F0FE;\n",
              "      border: none;\n",
              "      border-radius: 50%;\n",
              "      cursor: pointer;\n",
              "      display: none;\n",
              "      fill: #1967D2;\n",
              "      height: 32px;\n",
              "      padding: 0 0 0 0;\n",
              "      width: 32px;\n",
              "    }\n",
              "\n",
              "    .colab-df-convert:hover {\n",
              "      background-color: #E2EBFA;\n",
              "      box-shadow: 0px 1px 2px rgba(60, 64, 67, 0.3), 0px 1px 3px 1px rgba(60, 64, 67, 0.15);\n",
              "      fill: #174EA6;\n",
              "    }\n",
              "\n",
              "    .colab-df-buttons div {\n",
              "      margin-bottom: 4px;\n",
              "    }\n",
              "\n",
              "    [theme=dark] .colab-df-convert {\n",
              "      background-color: #3B4455;\n",
              "      fill: #D2E3FC;\n",
              "    }\n",
              "\n",
              "    [theme=dark] .colab-df-convert:hover {\n",
              "      background-color: #434B5C;\n",
              "      box-shadow: 0px 1px 3px 1px rgba(0, 0, 0, 0.15);\n",
              "      filter: drop-shadow(0px 1px 2px rgba(0, 0, 0, 0.3));\n",
              "      fill: #FFFFFF;\n",
              "    }\n",
              "  </style>\n",
              "\n",
              "    <script>\n",
              "      const buttonEl =\n",
              "        document.querySelector('#df-68946f2e-0bf7-4c02-a0a6-f1b3473009e8 button.colab-df-convert');\n",
              "      buttonEl.style.display =\n",
              "        google.colab.kernel.accessAllowed ? 'block' : 'none';\n",
              "\n",
              "      async function convertToInteractive(key) {\n",
              "        const element = document.querySelector('#df-68946f2e-0bf7-4c02-a0a6-f1b3473009e8');\n",
              "        const dataTable =\n",
              "          await google.colab.kernel.invokeFunction('convertToInteractive',\n",
              "                                                    [key], {});\n",
              "        if (!dataTable) return;\n",
              "\n",
              "        const docLinkHtml = 'Like what you see? Visit the ' +\n",
              "          '<a target=\"_blank\" href=https://colab.research.google.com/notebooks/data_table.ipynb>data table notebook</a>'\n",
              "          + ' to learn more about interactive tables.';\n",
              "        element.innerHTML = '';\n",
              "        dataTable['output_type'] = 'display_data';\n",
              "        await google.colab.output.renderOutput(dataTable, element);\n",
              "        const docLink = document.createElement('div');\n",
              "        docLink.innerHTML = docLinkHtml;\n",
              "        element.appendChild(docLink);\n",
              "      }\n",
              "    </script>\n",
              "  </div>\n",
              "\n",
              "\n",
              "<div id=\"df-f1edd242-2a08-48f9-8548-3d858bf6ec3e\">\n",
              "  <button class=\"colab-df-quickchart\" onclick=\"quickchart('df-f1edd242-2a08-48f9-8548-3d858bf6ec3e')\"\n",
              "            title=\"Suggest charts\"\n",
              "            style=\"display:none;\">\n",
              "\n",
              "<svg xmlns=\"http://www.w3.org/2000/svg\" height=\"24px\"viewBox=\"0 0 24 24\"\n",
              "     width=\"24px\">\n",
              "    <g>\n",
              "        <path d=\"M19 3H5c-1.1 0-2 .9-2 2v14c0 1.1.9 2 2 2h14c1.1 0 2-.9 2-2V5c0-1.1-.9-2-2-2zM9 17H7v-7h2v7zm4 0h-2V7h2v10zm4 0h-2v-4h2v4z\"/>\n",
              "    </g>\n",
              "</svg>\n",
              "  </button>\n",
              "\n",
              "<style>\n",
              "  .colab-df-quickchart {\n",
              "      --bg-color: #E8F0FE;\n",
              "      --fill-color: #1967D2;\n",
              "      --hover-bg-color: #E2EBFA;\n",
              "      --hover-fill-color: #174EA6;\n",
              "      --disabled-fill-color: #AAA;\n",
              "      --disabled-bg-color: #DDD;\n",
              "  }\n",
              "\n",
              "  [theme=dark] .colab-df-quickchart {\n",
              "      --bg-color: #3B4455;\n",
              "      --fill-color: #D2E3FC;\n",
              "      --hover-bg-color: #434B5C;\n",
              "      --hover-fill-color: #FFFFFF;\n",
              "      --disabled-bg-color: #3B4455;\n",
              "      --disabled-fill-color: #666;\n",
              "  }\n",
              "\n",
              "  .colab-df-quickchart {\n",
              "    background-color: var(--bg-color);\n",
              "    border: none;\n",
              "    border-radius: 50%;\n",
              "    cursor: pointer;\n",
              "    display: none;\n",
              "    fill: var(--fill-color);\n",
              "    height: 32px;\n",
              "    padding: 0;\n",
              "    width: 32px;\n",
              "  }\n",
              "\n",
              "  .colab-df-quickchart:hover {\n",
              "    background-color: var(--hover-bg-color);\n",
              "    box-shadow: 0 1px 2px rgba(60, 64, 67, 0.3), 0 1px 3px 1px rgba(60, 64, 67, 0.15);\n",
              "    fill: var(--button-hover-fill-color);\n",
              "  }\n",
              "\n",
              "  .colab-df-quickchart-complete:disabled,\n",
              "  .colab-df-quickchart-complete:disabled:hover {\n",
              "    background-color: var(--disabled-bg-color);\n",
              "    fill: var(--disabled-fill-color);\n",
              "    box-shadow: none;\n",
              "  }\n",
              "\n",
              "  .colab-df-spinner {\n",
              "    border: 2px solid var(--fill-color);\n",
              "    border-color: transparent;\n",
              "    border-bottom-color: var(--fill-color);\n",
              "    animation:\n",
              "      spin 1s steps(1) infinite;\n",
              "  }\n",
              "\n",
              "  @keyframes spin {\n",
              "    0% {\n",
              "      border-color: transparent;\n",
              "      border-bottom-color: var(--fill-color);\n",
              "      border-left-color: var(--fill-color);\n",
              "    }\n",
              "    20% {\n",
              "      border-color: transparent;\n",
              "      border-left-color: var(--fill-color);\n",
              "      border-top-color: var(--fill-color);\n",
              "    }\n",
              "    30% {\n",
              "      border-color: transparent;\n",
              "      border-left-color: var(--fill-color);\n",
              "      border-top-color: var(--fill-color);\n",
              "      border-right-color: var(--fill-color);\n",
              "    }\n",
              "    40% {\n",
              "      border-color: transparent;\n",
              "      border-right-color: var(--fill-color);\n",
              "      border-top-color: var(--fill-color);\n",
              "    }\n",
              "    60% {\n",
              "      border-color: transparent;\n",
              "      border-right-color: var(--fill-color);\n",
              "    }\n",
              "    80% {\n",
              "      border-color: transparent;\n",
              "      border-right-color: var(--fill-color);\n",
              "      border-bottom-color: var(--fill-color);\n",
              "    }\n",
              "    90% {\n",
              "      border-color: transparent;\n",
              "      border-bottom-color: var(--fill-color);\n",
              "    }\n",
              "  }\n",
              "</style>\n",
              "\n",
              "  <script>\n",
              "    async function quickchart(key) {\n",
              "      const quickchartButtonEl =\n",
              "        document.querySelector('#' + key + ' button');\n",
              "      quickchartButtonEl.disabled = true;  // To prevent multiple clicks.\n",
              "      quickchartButtonEl.classList.add('colab-df-spinner');\n",
              "      try {\n",
              "        const charts = await google.colab.kernel.invokeFunction(\n",
              "            'suggestCharts', [key], {});\n",
              "      } catch (error) {\n",
              "        console.error('Error during call to suggestCharts:', error);\n",
              "      }\n",
              "      quickchartButtonEl.classList.remove('colab-df-spinner');\n",
              "      quickchartButtonEl.classList.add('colab-df-quickchart-complete');\n",
              "    }\n",
              "    (() => {\n",
              "      let quickchartButtonEl =\n",
              "        document.querySelector('#df-f1edd242-2a08-48f9-8548-3d858bf6ec3e button');\n",
              "      quickchartButtonEl.style.display =\n",
              "        google.colab.kernel.accessAllowed ? 'block' : 'none';\n",
              "    })();\n",
              "  </script>\n",
              "</div>\n",
              "\n",
              "    </div>\n",
              "  </div>\n"
            ],
            "application/vnd.google.colaboratory.intrinsic+json": {
              "type": "dataframe",
              "variable_name": "df",
              "summary": "{\n  \"name\": \"df\",\n  \"rows\": 781,\n  \"fields\": [\n    {\n      \"column\": \"string_name\",\n      \"properties\": {\n        \"dtype\": \"category\",\n        \"num_unique_values\": 27,\n        \"samples\": [\n          \"Rauch \\u00dcr Bock\",\n          \"Old Growth Imperial Stout\",\n          \"Caldera Pale Ale\"\n        ],\n        \"semantic_type\": \"\",\n        \"description\": \"\"\n      }\n    },\n    {\n      \"column\": \"string_beer_id\",\n      \"properties\": {\n        \"dtype\": \"number\",\n        \"std\": 17958,\n        \"min\": 3274,\n        \"max\": 76963,\n        \"num_unique_values\": 27,\n        \"samples\": [\n          58046,\n          20818,\n          25414\n        ],\n        \"semantic_type\": \"\",\n        \"description\": \"\"\n      }\n    },\n    {\n      \"column\": \"string_brewer_id\",\n      \"properties\": {\n        \"dtype\": \"number\",\n        \"std\": 660,\n        \"min\": 1075,\n        \"max\": 10325,\n        \"num_unique_values\": 2,\n        \"samples\": [\n          1075,\n          10325\n        ],\n        \"semantic_type\": \"\",\n        \"description\": \"\"\n      }\n    },\n    {\n      \"column\": \"number_abv\",\n      \"properties\": {\n        \"dtype\": \"number\",\n        \"std\": 0.890790154825306,\n        \"min\": 3.9,\n        \"max\": 9.5,\n        \"num_unique_values\": 21,\n        \"samples\": [\n          5.0,\n          6.1\n        ],\n        \"semantic_type\": \"\",\n        \"description\": \"\"\n      }\n    },\n    {\n      \"column\": \"string_style\",\n      \"properties\": {\n        \"dtype\": \"category\",\n        \"num_unique_values\": 21,\n        \"samples\": [\n          \"Hefeweizen\",\n          \"American Adjunct Lager\"\n        ],\n        \"semantic_type\": \"\",\n        \"description\": \"\"\n      }\n    },\n    {\n      \"column\": \"number_appearance\",\n      \"properties\": {\n        \"dtype\": \"number\",\n        \"std\": 0.47059885093945064,\n        \"min\": 1.0,\n        \"max\": 5.0,\n        \"num_unique_values\": 8,\n        \"samples\": [\n          3.0,\n          4.5\n        ],\n        \"semantic_type\": \"\",\n        \"description\": \"\"\n      }\n    },\n    {\n      \"column\": \"number_aroma\",\n      \"properties\": {\n        \"dtype\": \"number\",\n        \"std\": 0.5548259542613162,\n        \"min\": 1.5,\n        \"max\": 5.0,\n        \"num_unique_values\": 8,\n        \"samples\": [\n          2.5,\n          5.0\n        ],\n        \"semantic_type\": \"\",\n        \"description\": \"\"\n      }\n    },\n    {\n      \"column\": \"number_palate\",\n      \"properties\": {\n        \"dtype\": \"number\",\n        \"std\": 0.5370555906447602,\n        \"min\": 1.0,\n        \"max\": 5.0,\n        \"num_unique_values\": 9,\n        \"samples\": [\n          5.0,\n          3.0\n        ],\n        \"semantic_type\": \"\",\n        \"description\": \"\"\n      }\n    },\n    {\n      \"column\": \"number_taste\",\n      \"properties\": {\n        \"dtype\": \"number\",\n        \"std\": 0.5609352723703749,\n        \"min\": 1.0,\n        \"max\": 5.0,\n        \"num_unique_values\": 9,\n        \"samples\": [\n          2.5,\n          3.0\n        ],\n        \"semantic_type\": \"\",\n        \"description\": \"\"\n      }\n    },\n    {\n      \"column\": \"ratings\",\n      \"properties\": {\n        \"dtype\": \"number\",\n        \"std\": 0.5916558404235848,\n        \"min\": 1.0,\n        \"max\": 5.0,\n        \"num_unique_values\": 9,\n        \"samples\": [\n          2.5,\n          3.0\n        ],\n        \"semantic_type\": \"\",\n        \"description\": \"\"\n      }\n    },\n    {\n      \"column\": \"date_time\",\n      \"properties\": {\n        \"dtype\": \"object\",\n        \"num_unique_values\": 781,\n        \"samples\": [\n          \"2008-10-03T18:44:51Z\",\n          \"2008-12-06T19:09:45Z\"\n        ],\n        \"semantic_type\": \"\",\n        \"description\": \"\"\n      }\n    },\n    {\n      \"column\": \"string_profile_name\",\n      \"properties\": {\n        \"dtype\": \"string\",\n        \"num_unique_values\": 538,\n        \"samples\": [\n          \"chocosushi\",\n          \"HopDerek\"\n        ],\n        \"semantic_type\": \"\",\n        \"description\": \"\"\n      }\n    },\n    {\n      \"column\": \"text\",\n      \"properties\": {\n        \"dtype\": \"string\",\n        \"num_unique_values\": 781,\n        \"samples\": [\n          \"Poured from a 12oz can into a 20oz imperial pint.\\t\\tA: Pours a completely clear golden orange color with a firm off-white/light-orange cap of puffy foam. Lots of bubbly and sticky lace left behind. Lazily carbonated.\\t\\tS: Big piney hop nose right off the bat. I also pulled out aromas of orange, caramel, grapefruit, tangerine, and a pinch of pineapple. Also noticed a medicinal/aspirin type aroma that was strangely apealing.\\t\\tT: Big bitter pine with a fine coating of toasted malt and caramel. This sports a plethora of citrus and tropical fruit flavors with elements of cut grass and metal.\\t\\tM: Spicy astringency that's balanced by the sweet and creamy caramel malt. Finish turns bitter and dry with an underlying peppery hop quality that keeps things pretty interesting.\\t\\tD: This was a very nice surprise. This IPA drinks exceptionally well. Excellent balance between bitter & dry hops and sweet maltiness.\",\n          \"So...not only does ThirstyHopHead agree to send me two bottles of the 2008 Abyss in a recent trade, but he drops three beers I've never heard of in as extras. Including Caldera IPA. Not only never heard of the brew, no clue the brewery even existed. \\t\\tThe pour is the initial use of a Flying Fish glass that marcpal sent me recently. Clearly he read my mind about the need for smaller glasses in the house. Thanks Marc!\\t\\tThe 12 oz. goes into the tulip with about an ounce or so to spare. The smell knocks me for a loop, a bitter, disgusted, angry, fucked-up hophead's dream searing my nostrils. I was kind of looking at this as a nice, gentle way to start off the night. What did I get myself into? \\t\\tAh, I see. I got myself into a kick-ass IPA I've never heard of before. The taste is aggressively hopped, pleasantly oily, bitter, sharp, clean, & all the things a good IPA claims to be. Wow. First-class IPA. Really, really good. \\t\\tI could drink these all night. \\t\\tThanks Mr. Hophead, I am going to put this on my wants list hoping people will drop a can or two in as extras. The only thing preventing me from trading for it is the existence of a local brew, Surly Furious, maybe you've heard of it. This is...almost...no. I can't even type it. It's close. Great beer.\"\n        ],\n        \"semantic_type\": \"\",\n        \"description\": \"\"\n      }\n    }\n  ]\n}"
            }
          },
          "metadata": {},
          "execution_count": 92
        }
      ]
    },
    {
      "cell_type": "code",
      "source": [
        "response.choices[0].message.content"
      ],
      "metadata": {
        "colab": {
          "base_uri": "https://localhost:8080/",
          "height": 143
        },
        "id": "v_TaHb6cPbeF",
        "outputId": "a67ab7e2-37ae-4f57-c2db-31262934202b"
      },
      "execution_count": null,
      "outputs": [
        {
          "output_type": "execute_result",
          "data": {
            "text/plain": [
              "'The meaning of life is a philosophical question that has been pondered for centuries. Different cultures, religions, and individuals have various interpretations and beliefs regarding this topic. Some people find meaning through religion or spirituality, others through relationships and connections with family and friends, and some find purpose in pursuits of knowledge, creativity, or contribution to society. Ultimately, the meaning of life can be deeply personal and subjective, and what is meaningful to one person may not be the same for another.'"
            ],
            "application/vnd.google.colaboratory.intrinsic+json": {
              "type": "string"
            }
          },
          "metadata": {},
          "execution_count": 70
        }
      ]
    },
    {
      "cell_type": "code",
      "source": [
        "#test block - 2nd model call after file read\n",
        "# Convert the DataFrame to a string (e.g., CSV format)\n",
        "df_truncated = df.head(10)\n",
        "data_string = df_truncated.to_csv(index=False)\n",
        "\n",
        "# Define the system and user prompts\n",
        "system_prompt_tools = \"You are a data analyst. Analyze the provided dataset and summarize key insights.\"\n",
        "user_prompt_tools = f\"The dataset is as follows:\\n\\n{data_string}\\n\\nPlease provide a summary of the data.\"\n",
        "\n",
        "# Call the GPT-4o model\n",
        "response = client.chat.completions.create(\n",
        "    model=\"gpt-4o\",\n",
        "    messages=[\n",
        "        {\"role\": \"system\", \"content\": system_prompt_tools},\n",
        "        {\"role\": \"user\", \"content\": user_prompt_tools},\n",
        "    ]\n",
        ")\n",
        "\n",
        "# Print the model's response\n",
        "response.choices[0].message.content"
      ],
      "metadata": {
        "id": "cKai7GrNArd8"
      },
      "execution_count": null,
      "outputs": []
    },
    {
      "cell_type": "code",
      "source": [
        "response.choices[0].message.content"
      ],
      "metadata": {
        "colab": {
          "base_uri": "https://localhost:8080/",
          "height": 232
        },
        "id": "lXFc6SjGCR1_",
        "outputId": "146e9833-568f-47da-9426-2a8c73b487c4"
      },
      "execution_count": null,
      "outputs": [
        {
          "output_type": "execute_result",
          "data": {
            "text/plain": [
              "'The dataset consists of beer reviews, capturing various attributes and ratings from different users. Here\\'s a summary of the key insights from the data:\\n\\n1. **Beers Reviewed:**\\n   - The dataset includes reviews for seven different beers, each associated with specific IDs for the beer and the brewer.\\n\\n2. **Beer Characteristics:**\\n   - Beers span a variety of styles, including Hefeweizen, English Strong Ale, Foreign/Export Stout, German Pilsener, American Double/Imperial IPA, and Herbed/Spiced Beer.\\n   - The ABV (alcohol by volume) ranges from 4.7% to 7.7%.\\n\\n3. **Rating Attributes:**\\n   - Ratings are provided for appearance, aroma, palate, taste, and overall impressions for each beer.\\n   - The ratings are numerical, generally on a scale from 1 to 5, with varying degrees of detailed scoring.\\n\\n4. **Review Timeframe:**\\n   - Reviews span several years, with the earliest from 2009 and the most recent entries up to 2012.\\n\\n5. **Reviewers:**\\n   - Reviews are provided by several users, such as “stcules,” \"johnmichaelsen,” “oline73,” and others, offering diverse opinions and styles of feedback.\\n\\n6. **Common Themes and Insights:**\\n   - Descriptive reviews often discuss color, aroma, flavors, mouthfeel, and overall drinkability.\\n   - Beers such as the \"Cauldron DIPA\" and \"Caldera Ginger Beer\" receive detailed scrutiny, highlighting specific tasting notes and potential improvement areas.\\n   - Review comments often provide contextual feedback, including personal preferences, and comparisons to expected style profiles.\\n\\n7. **Reviewer Feedback:**\\n   - \"Cauldron DIPA\" is described as extremely hoppy, indicating a strong West Coast IPA profile meant for hop enthusiasts.\\n   - \"Caldera Ginger Beer\" reviews various pouring experiences, with a focus on its light, refreshing character, and subtle ginger note. Multiple reviews provide different perspectives on the ginger beer, from being a session ale to lacking expected ginger beer qualities.\\n\\nOverall, the dataset reflects a snapshot of user-generated beer reviews with subjective evaluations and detailed descriptions that capture the sensory experience of each beer sample. The reviews also highlight personal preferences and expectations of reviewers, contributing to an understanding of different beer styles and their reception by consumers.'"
            ],
            "application/vnd.google.colaboratory.intrinsic+json": {
              "type": "string"
            }
          },
          "metadata": {},
          "execution_count": 98
        }
      ]
    },
    {
      "cell_type": "code",
      "source": [
        "print(response.choices[0].message.content)"
      ],
      "metadata": {
        "colab": {
          "base_uri": "https://localhost:8080/"
        },
        "id": "Zbr1stzzH5U3",
        "outputId": "cbad2298-85d7-487f-a19c-1d3e6238e1a5"
      },
      "execution_count": null,
      "outputs": [
        {
          "output_type": "stream",
          "name": "stdout",
          "text": [
            "The dataset consists of beer reviews, capturing various attributes and ratings from different users. Here's a summary of the key insights from the data:\n",
            "\n",
            "1. **Beers Reviewed:**\n",
            "   - The dataset includes reviews for seven different beers, each associated with specific IDs for the beer and the brewer.\n",
            "\n",
            "2. **Beer Characteristics:**\n",
            "   - Beers span a variety of styles, including Hefeweizen, English Strong Ale, Foreign/Export Stout, German Pilsener, American Double/Imperial IPA, and Herbed/Spiced Beer.\n",
            "   - The ABV (alcohol by volume) ranges from 4.7% to 7.7%.\n",
            "\n",
            "3. **Rating Attributes:**\n",
            "   - Ratings are provided for appearance, aroma, palate, taste, and overall impressions for each beer.\n",
            "   - The ratings are numerical, generally on a scale from 1 to 5, with varying degrees of detailed scoring.\n",
            "\n",
            "4. **Review Timeframe:**\n",
            "   - Reviews span several years, with the earliest from 2009 and the most recent entries up to 2012.\n",
            "\n",
            "5. **Reviewers:**\n",
            "   - Reviews are provided by several users, such as “stcules,” \"johnmichaelsen,” “oline73,” and others, offering diverse opinions and styles of feedback.\n",
            "\n",
            "6. **Common Themes and Insights:**\n",
            "   - Descriptive reviews often discuss color, aroma, flavors, mouthfeel, and overall drinkability.\n",
            "   - Beers such as the \"Cauldron DIPA\" and \"Caldera Ginger Beer\" receive detailed scrutiny, highlighting specific tasting notes and potential improvement areas.\n",
            "   - Review comments often provide contextual feedback, including personal preferences, and comparisons to expected style profiles.\n",
            "\n",
            "7. **Reviewer Feedback:**\n",
            "   - \"Cauldron DIPA\" is described as extremely hoppy, indicating a strong West Coast IPA profile meant for hop enthusiasts.\n",
            "   - \"Caldera Ginger Beer\" reviews various pouring experiences, with a focus on its light, refreshing character, and subtle ginger note. Multiple reviews provide different perspectives on the ginger beer, from being a session ale to lacking expected ginger beer qualities.\n",
            "\n",
            "Overall, the dataset reflects a snapshot of user-generated beer reviews with subjective evaluations and detailed descriptions that capture the sensory experience of each beer sample. The reviews also highlight personal preferences and expectations of reviewers, contributing to an understanding of different beer styles and their reception by consumers.\n"
          ]
        }
      ]
    },
    {
      "cell_type": "markdown",
      "source": [
        "# Topics extraction"
      ],
      "metadata": {
        "id": "832GwFIBLoUS"
      }
    },
    {
      "cell_type": "code",
      "source": [
        "%%capture\n",
        "!pip install anthropic"
      ],
      "metadata": {
        "id": "hQxVPgziyOIL"
      },
      "execution_count": null,
      "outputs": []
    },
    {
      "cell_type": "code",
      "source": [
        "from google.colab import userdata\n",
        "claude_api_key = userdata.get('Antropic')"
      ],
      "metadata": {
        "id": "4N8JpASgLlWr"
      },
      "execution_count": null,
      "outputs": []
    },
    {
      "cell_type": "code",
      "source": [
        "import pandas as pd\n",
        "import random\n",
        "from anthropic import Anthropic"
      ],
      "metadata": {
        "id": "6IlyxSSVNWMW"
      },
      "execution_count": null,
      "outputs": []
    },
    {
      "cell_type": "code",
      "source": [
        "df_context = pd.read_csv(\"/content/Mejuri_Retail.csv\",  usecols=['Text'])"
      ],
      "metadata": {
        "id": "NWfrxSCiNXrK"
      },
      "execution_count": null,
      "outputs": []
    },
    {
      "cell_type": "code",
      "source": [
        "#test block\n",
        "df_context.iloc[1000,0]"
      ],
      "metadata": {
        "id": "V1COAedjgvWF"
      },
      "execution_count": null,
      "outputs": []
    },
    {
      "cell_type": "code",
      "source": [
        "#get the context\n",
        "context = ''\n",
        "count = 0\n",
        "while count<150000:\n",
        "  number = random.randint(1, 17850)\n",
        "  context+=df_context.iloc[number,0]\n",
        "  length=len(context.split())\n",
        "  count+=length"
      ],
      "metadata": {
        "id": "aGKaoBjcNYmn"
      },
      "execution_count": null,
      "outputs": []
    },
    {
      "cell_type": "code",
      "source": [
        "print(\"here is the context to be used:/n/n \" + context)"
      ],
      "metadata": {
        "id": "NF43JN81N7g5"
      },
      "execution_count": null,
      "outputs": []
    },
    {
      "cell_type": "code",
      "source": [
        "client = anthropic.Anthropic(\n",
        "    # defaults to os.environ.get(\"ANTHROPIC_API_KEY\")\n",
        "    api_key=Antropic,\n",
        ")\n",
        "\n",
        "message = client.messages.create(\n",
        "    model=\"claude-3-5-sonnet-20241022\",\n",
        "    max_tokens=8192,\n",
        "    temperature=1,\n",
        "    messages=[{\"role\": \"user\", \"content\": \"Hello, world\"}]\n",
        ")\n",
        "print(message.content)"
      ],
      "metadata": {
        "id": "FVRZ6k2AN7T2"
      },
      "execution_count": null,
      "outputs": []
    },
    {
      "cell_type": "code",
      "source": [
        "system_prompt = '''\n",
        "You are a data analyst providing data analysis for the executive team.\n",
        "Based on the provided context,\n",
        "please create a list of top level themes and subthemes for sentiment analysis,\n",
        "summarization, and trend analysis. for each theme create a list of keywords or\n",
        "phrases that make up that theme/sub themes.\n",
        "\n",
        "refer to the following policy for theme creation.\n",
        "\n",
        "- the theme has to be in the review text itself\n",
        "- the theme has to be descriptive/actionable\n",
        "- the theme should be understood by executives, corporate analysts,\n",
        "and entry level personell of the product or service company mentioned\n",
        "in the feedback\n",
        "'''"
      ],
      "metadata": {
        "id": "wVHLFKZwvgbR"
      },
      "execution_count": null,
      "outputs": []
    },
    {
      "cell_type": "code",
      "source": [
        "client = Anthropic(api_key=claude_api_key) #defaults to os.environ.get(\"ANTHROPIC_API_KEY\"\n",
        "\n",
        "message = client.messages.create(\n",
        "    model=\"claude-3-5-sonnet-20241022\",\n",
        "    max_tokens=8192,\n",
        "    temperature=0,\n",
        "    system=system_prompt,\n",
        "    messages=[\n",
        "        {\n",
        "            \"role\": \"user\",\n",
        "            \"content\": [\n",
        "                {\n",
        "                    \"type\": \"text\",\n",
        "                    \"text\": \"here is the context to be used:/n/n \" + context\n",
        "                }\n",
        "            ]\n",
        "        }\n",
        "    ]\n",
        ")"
      ],
      "metadata": {
        "id": "LOHRi1AJN7DJ"
      },
      "execution_count": null,
      "outputs": []
    },
    {
      "cell_type": "code",
      "source": [
        "cleaned_text = ' '.join(message.content[0].text.split())\n",
        "cleaned_text"
      ],
      "metadata": {
        "id": "_UgEbq2-z_nh"
      },
      "execution_count": null,
      "outputs": []
    },
    {
      "cell_type": "markdown",
      "source": [
        "# Orchestration Layer"
      ],
      "metadata": {
        "id": "7gM0YiXdNSqk"
      }
    },
    {
      "cell_type": "code",
      "source": [
        "%%capture\n",
        "!pip install anthropic"
      ],
      "metadata": {
        "id": "B7Q75s40NsEG"
      },
      "execution_count": null,
      "outputs": []
    },
    {
      "cell_type": "code",
      "source": [
        "from google.colab import userdata\n",
        "api_key_anthropic = userdata.get('Antropic')\n",
        "#api_key_openAI = userdata.get('OpenAI')\n",
        "#api_key_gemini = userdata.get('google')"
      ],
      "metadata": {
        "id": "nvKV4S-6OK-g"
      },
      "execution_count": null,
      "outputs": []
    },
    {
      "cell_type": "code",
      "source": [
        "import anthropic\n",
        "from typing import Literal\n",
        "\n",
        "class QueryOrchestrator:\n",
        "    \"\"\"\n",
        "    Orchestrator that routes queries between RAG and Agent pipelines.\n",
        "    Uses Claude's extended thinking to reason through routing decisions.\n",
        "    \"\"\"\n",
        "\n",
        "    def __init__(self, api_key: str):\n",
        "        \"\"\"\n",
        "        Initialize the orchestrator with Anthropic API key.\n",
        "\n",
        "        Args:\n",
        "            api_key: Anthropic API key for Claude access\n",
        "        \"\"\"\n",
        "        self.client = anthropic.Anthropic(api_key=api_key)\n",
        "        self.model = \"claude-sonnet-4-20250514\"  # Latest model with thinking support\n",
        "\n",
        "    def route_query(self, user_query: str, context_info: str = \"\") -> Literal[\"RAG\", \"Agent\"]:\n",
        "        \"\"\"\n",
        "        Route a user query to either RAG or Agent pipeline.\n",
        "\n",
        "        Args:\n",
        "            user_query: The user's question or request\n",
        "            context_info: Optional context about the document corpus\n",
        "\n",
        "        Returns:\n",
        "            \"RAG\" or \"Agent\" based on the routing decision\n",
        "        \"\"\"\n",
        "\n",
        "        system_prompt = self._build_system_prompt()\n",
        "        user_message = self._build_user_message(user_query, context_info)\n",
        "\n",
        "        try:\n",
        "            response = self.client.messages.create(\n",
        "                model=self.model,\n",
        "                max_tokens=16000,\n",
        "                thinking={\n",
        "                    \"type\": \"enabled\",\n",
        "                    \"budget_tokens\": 10000\n",
        "                },\n",
        "                messages=[{\n",
        "                    \"role\": \"user\",\n",
        "                    \"content\": user_message\n",
        "                }],\n",
        "                system=system_prompt\n",
        "            )\n",
        "\n",
        "            # Extract the final decision from response\n",
        "            decision = self._extract_decision(response)\n",
        "\n",
        "            # Optional: Extract and log thinking process\n",
        "            thinking_content = self._extract_thinking(response)\n",
        "            if thinking_content:\n",
        "                print(f\"\\n[THINKING PROCESS]:\\n{thinking_content[:500]}...\\n\")\n",
        "\n",
        "            return decision\n",
        "\n",
        "        except Exception as e:\n",
        "            print(f\"Error during routing: {e}\")\n",
        "            # Default to RAG on error as it's safer for general queries\n",
        "            return \"RAG\"\n",
        "\n",
        "    def _build_system_prompt(self) -> str:\n",
        "        \"\"\"Build the system prompt with routing instructions.\"\"\"\n",
        "        return \"\"\"You are an intelligent query routing system for a data processing platform.\n",
        "\n",
        "Your task is to analyze user queries and route them to the appropriate processing pipeline:\n",
        "\n",
        "**RAG Pipeline**: Use when the query can be answered by:\n",
        "- Directly retrieving and synthesizing information from document text\n",
        "- Finding specific facts, quotes, or passages in the documents\n",
        "- Summarizing content from the documents\n",
        "- Answering questions about what the documents say or contain\n",
        "- General information retrieval tasks\n",
        "\n",
        "**Agent Pipeline**: Use when the query requires analytical tools. The Agent has these tools:\n",
        "1. Analyze Text Metadata - examines document metadata (dates, authors, sources, etc.)\n",
        "2. Extract Keywords from Text Corpus - identifies key terms across documents\n",
        "3. Return Keyword Sentiments - analyzes sentiment associated with specific keywords\n",
        "4. Count Keyword Mentions - counts occurrences of keywords in the corpus\n",
        "\n",
        "Route to Agent when the query needs:\n",
        "- Metadata analysis (dates, document counts, author information)\n",
        "- Keyword extraction or keyword-based analysis\n",
        "- Sentiment analysis of specific terms or topics\n",
        "- Frequency counts or statistical analysis of term mentions\n",
        "- Trends or patterns across documents requiring computation\n",
        "\n",
        "**Critical Guidelines**:\n",
        "- If a query asks \"what do the documents say about X\", use RAG (content retrieval)\n",
        "- If a query asks \"how often is X mentioned\" or \"what's the sentiment around X\", use Agent (analysis tools)\n",
        "- Default to RAG for straightforward information retrieval\n",
        "- Choose Agent only when tools are clearly needed\n",
        "\n",
        "Think through your decision carefully, then respond with ONLY one word: either \"RAG\" or \"Agent\".\"\"\"\n",
        "\n",
        "    def _build_user_message(self, user_query: str, context_info: str) -> str:\n",
        "        \"\"\"Build the user message with query and context.\"\"\"\n",
        "        message = f\"User Query: {user_query}\"\n",
        "\n",
        "        if context_info:\n",
        "            message += f\"\\n\\nDocument Corpus Context: {context_info}\"\n",
        "\n",
        "        message += \"\\n\\nAnalyze this query and determine whether to route it to RAG or Agent. Respond with only 'RAG' or 'Agent'.\"\n",
        "\n",
        "        return message\n",
        "\n",
        "    def _extract_decision(self, response) -> Literal[\"RAG\", \"Agent\"]:\n",
        "        \"\"\"Extract the routing decision from Claude's response.\"\"\"\n",
        "        for block in response.content:\n",
        "            if block.type == \"text\":\n",
        "                text = block.text.strip().upper()\n",
        "                if \"RAG\" in text and \"AGENT\" not in text:\n",
        "                    return \"RAG\"\n",
        "                elif \"AGENT\" in text:\n",
        "                    return \"Agent\"\n",
        "\n",
        "        # Default to RAG if unclear\n",
        "        print(\"Warning: Could not clearly determine routing, defaulting to RAG\")\n",
        "        return \"RAG\"\n",
        "\n",
        "    def _extract_thinking(self, response) -> str:\n",
        "        \"\"\"Extract thinking content for debugging/logging.\"\"\"\n",
        "        for block in response.content:\n",
        "            if block.type == \"thinking\":\n",
        "                return block.thinking\n",
        "        return \"\"\n",
        "\n",
        "\n",
        "# Example usage\n",
        "if __name__ == \"__main__\":\n",
        "    # Initialize orchestrator\n",
        "    api_key = \"your-api-key-here\"\n",
        "    orchestrator = QueryOrchestrator(api_key)\n",
        "\n",
        "    # Example queries\n",
        "    test_queries = [\n",
        "        \"What are the main complaints mentioned in the customer reviews?\",\n",
        "        \"How many times is 'pricing' mentioned across all emails?\",\n",
        "        \"Summarize the feedback from the product reviews\",\n",
        "        \"What's the sentiment around 'customer service' in the documents?\",\n",
        "        \"Extract the top 10 keywords from the email corpus\",\n",
        "        \"What did John say about the new feature in his email?\",\n",
        "        \"Analyze the metadata to find how many documents were sent in Q1\",\n",
        "        \"Which documents discuss the pricing strategy?\"\n",
        "    ]\n",
        "\n",
        "    context = \"Collection of customer emails and product reviews from 2024\"\n",
        "\n",
        "    print(\"Query Routing Results:\")\n",
        "    print(\"=\" * 60)\n",
        "\n",
        "    for query in test_queries:\n",
        "        decision = orchestrator.route_query(query, context)\n",
        "        print(f\"\\nQuery: {query}\")\n",
        "        print(f\"Route: {decision}\")\n",
        "        print(\"-\" * 60)"
      ],
      "metadata": {
        "id": "ZYbxLA2oTzab"
      },
      "execution_count": null,
      "outputs": []
    }
  ]
}