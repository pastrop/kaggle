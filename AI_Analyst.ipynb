{
  "nbformat": 4,
  "nbformat_minor": 0,
  "metadata": {
    "colab": {
      "provenance": [],
      "authorship_tag": "ABX9TyNEtYgUTuyNGlML4/tjta+d",
      "include_colab_link": true
    },
    "kernelspec": {
      "name": "python3",
      "display_name": "Python 3"
    },
    "language_info": {
      "name": "python"
    }
  },
  "cells": [
    {
      "cell_type": "markdown",
      "metadata": {
        "id": "view-in-github",
        "colab_type": "text"
      },
      "source": [
        "<a href=\"https://colab.research.google.com/github/pastrop/kaggle/blob/master/AI_Analyst.ipynb\" target=\"_parent\"><img src=\"https://colab.research.google.com/assets/colab-badge.svg\" alt=\"Open In Colab\"/></a>"
      ]
    },
    {
      "cell_type": "code",
      "execution_count": null,
      "metadata": {
        "id": "PlV1Nb7RhoQ1"
      },
      "outputs": [],
      "source": [
        "from google.colab import userdata\n",
        "openai_api_key = userdata.get('OpenAI')"
      ]
    },
    {
      "cell_type": "code",
      "source": [
        "# Warning control\n",
        "import warnings\n",
        "warnings.filterwarnings('ignore')"
      ],
      "metadata": {
        "id": "A8qE9VAWhx_7"
      },
      "execution_count": null,
      "outputs": []
    },
    {
      "cell_type": "code",
      "source": [
        "import copy\n",
        "import json\n",
        "from openai import OpenAI\n",
        "\n",
        "#from utils_local import o1_tools\n",
        "\n",
        "client = OpenAI(api_key=openai_api_key)\n",
        "#O1_MODEL = 'o1-mini'\n",
        "GPT_MODEL = 'gpt-4o-mini'"
      ],
      "metadata": {
        "id": "0MPbyOQ3h2lN"
      },
      "execution_count": null,
      "outputs": []
    },
    {
      "cell_type": "code",
      "source": [],
      "metadata": {
        "id": "rkv-T4r2iPan"
      },
      "execution_count": null,
      "outputs": []
    },
    {
      "cell_type": "code",
      "source": [
        "# System prompt for the execution model\n",
        "gpt4o_system_prompt = \"\"\"\n",
        "You are a helpful data analyst responsible for analysis provided data set using the tools provided.\n",
        "You must explain your decision-making process across various steps.\n",
        "\n",
        "# Steps\n",
        "\n",
        "\n",
        "POLICY:\n",
        "{policy}\n",
        "\n",
        "\"\"\""
      ],
      "metadata": {
        "id": "I1epDXRJiPn2"
      },
      "execution_count": null,
      "outputs": []
    },
    {
      "cell_type": "code",
      "source": [
        "tool_metadata = {\n",
        "    \"name\": \"read_csv_to_dataframe\",\n",
        "    \"description\": \"Reads a CSV file and returns the DataFrame.\",\n",
        "    \"parameters\": {\n",
        "        \"type\": \"object\",\n",
        "        \"properties\": {\n",
        "            \"file_path\": {\"type\": \"string\", \"description\": \"Path to the CSV file.\"}\n",
        "        },\n",
        "        \"required\": [\"file_path\"]\n",
        "    }\n",
        "}"
      ],
      "metadata": {
        "id": "4qpWrOWvrMTY"
      },
      "execution_count": null,
      "outputs": []
    },
    {
      "cell_type": "code",
      "source": [
        "tools = [tool_metadata]"
      ],
      "metadata": {
        "id": "QozZsN6dqK2P"
      },
      "execution_count": null,
      "outputs": []
    },
    {
      "cell_type": "code",
      "source": [
        "# Tools\n",
        "def read_csv_to_dataframe(file_path: str) -> str:\n",
        "    import pandas as pd\n",
        "    try:\n",
        "        df = pd.read_csv(file_path)\n",
        "        return df\n",
        "    except Exception as e:\n",
        "        return f\"Error reading CSV file: {e}\""
      ],
      "metadata": {
        "id": "8Etqznnsraqp"
      },
      "execution_count": null,
      "outputs": []
    },
    {
      "cell_type": "code",
      "source": [],
      "metadata": {
        "id": "AhUr-aMsrzdf"
      },
      "execution_count": null,
      "outputs": []
    }
  ]
}