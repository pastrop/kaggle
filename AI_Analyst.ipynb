{
  "nbformat": 4,
  "nbformat_minor": 0,
  "metadata": {
    "colab": {
      "provenance": [],
      "authorship_tag": "ABX9TyNMw2wPChWBMsOdwu1u3H+N",
      "include_colab_link": true
    },
    "kernelspec": {
      "name": "python3",
      "display_name": "Python 3"
    },
    "language_info": {
      "name": "python"
    }
  },
  "cells": [
    {
      "cell_type": "markdown",
      "metadata": {
        "id": "view-in-github",
        "colab_type": "text"
      },
      "source": [
        "<a href=\"https://colab.research.google.com/github/pastrop/kaggle/blob/master/AI_Analyst.ipynb\" target=\"_parent\"><img src=\"https://colab.research.google.com/assets/colab-badge.svg\" alt=\"Open In Colab\"/></a>"
      ]
    },
    {
      "cell_type": "code",
      "execution_count": 1,
      "metadata": {
        "id": "PlV1Nb7RhoQ1"
      },
      "outputs": [],
      "source": [
        "from google.colab import userdata\n",
        "openai_api_key = userdata.get('OpenAI')"
      ]
    },
    {
      "cell_type": "code",
      "source": [
        "# Warning control\n",
        "import warnings\n",
        "warnings.filterwarnings('ignore')"
      ],
      "metadata": {
        "id": "A8qE9VAWhx_7"
      },
      "execution_count": 2,
      "outputs": []
    },
    {
      "cell_type": "code",
      "source": [
        "import pandas as pd\n",
        "import copy\n",
        "import json\n",
        "from openai import OpenAI\n",
        "#from openai import ChatCompletion\n",
        "\n",
        "#from utils_local import o1_tools\n",
        "\n",
        "client = OpenAI(api_key=openai_api_key)\n",
        "#O1_MODEL = 'o1-mini'\n",
        "GPT_MODEL = 'gpt-4o-mini'"
      ],
      "metadata": {
        "id": "0MPbyOQ3h2lN"
      },
      "execution_count": 3,
      "outputs": []
    },
    {
      "cell_type": "code",
      "source": [],
      "metadata": {
        "id": "rkv-T4r2iPan"
      },
      "execution_count": null,
      "outputs": []
    },
    {
      "cell_type": "code",
      "source": [
        "# System prompt for the execution model\n",
        "gpt4o_system_prompt = \"\"\"\n",
        "You are a helpful data analyst responsible for analysis provided data file using the tools provided.\n",
        "You must explain your decision-making process across various steps. if ask to read data, you should read the\n",
        "data file using the tool provided. The data file is located at /content/Beer_small_test.csv\n",
        "If you are not asked to read the data file, you should answer a user question to the best of your ability.\n",
        "\n",
        "\"\"\""
      ],
      "metadata": {
        "id": "I1epDXRJiPn2"
      },
      "execution_count": 51,
      "outputs": []
    },
    {
      "cell_type": "code",
      "source": [
        "# Tools\n",
        "def read_csv_to_dataframe(file_path: str) -> str:\n",
        "    import pandas as pd\n",
        "    try:\n",
        "        df = pd.read_csv(file_path)\n",
        "        return df\n",
        "    except Exception as e:\n",
        "        return f\"Error reading CSV file: {e}\""
      ],
      "metadata": {
        "id": "8Etqznnsraqp"
      },
      "execution_count": 5,
      "outputs": []
    },
    {
      "cell_type": "code",
      "source": [
        "TOOLS_test = [\n",
        "    {\n",
        "        \"type\": \"function\",\n",
        "        \"function\": {\n",
        "            \"name\": \"read_csv_to_dataframe\",\n",
        "            \"description\":\"Reads a CSV file and returns the DataFrame\",\n",
        "            \"parameters\": {\n",
        "                \"type\": \"object\",\n",
        "                \"properties\": {\n",
        "                    \"file_path\": {\"type\": \"string\", \"description\": \"Path to the CSV file.\"}\n",
        "                },\n",
        "                \"required\": [\"file_path\"],\n",
        "                \"additionalProperties\": False,\n",
        "            },\n",
        "        },\n",
        "    }]"
      ],
      "metadata": {
        "id": "9rk9cj_GNg73"
      },
      "execution_count": 6,
      "outputs": []
    },
    {
      "cell_type": "code",
      "source": [
        "data = '/content/Beer_small_test.csv'\n",
        "\n",
        "messages = [\n",
        "    {\"role\": \"system\", \"content\": 'you are helful data analyst reading the data files'},\n",
        "    {\"role\": \"user\", \"content\": f\"please read the data file\"}]"
      ],
      "metadata": {
        "id": "cxQcy2SEq3Tj"
      },
      "execution_count": null,
      "outputs": []
    },
    {
      "cell_type": "code",
      "source": [
        "content = '''You are an assistant that uses tools if asked anything that can be addressed by a tool.\n",
        "              or directly answer user questions as asked\n",
        "'''\n",
        "response = client.chat.completions.create(\n",
        "    model=\"gpt-4o\",\n",
        "    messages=[\n",
        "        {\"role\": \"system\", \"content\": gpt4o_system_prompt},\n",
        "        {\"role\": \"user\", \"content\": f\"please read the data file\"}\n",
        "    ],\n",
        "    tools=TOOLS_test,\n",
        "    tool_choice=\"auto\"\n",
        ")"
      ],
      "metadata": {
        "id": "pRw4BqCME5gG"
      },
      "execution_count": 68,
      "outputs": []
    },
    {
      "cell_type": "code",
      "source": [
        "response.choices[0].message.tool_calls"
      ],
      "metadata": {
        "colab": {
          "base_uri": "https://localhost:8080/"
        },
        "id": "-kyOEeedVfRa",
        "outputId": "e6b94ada-c62d-4ced-ca49-17a6fc1b436a"
      },
      "execution_count": 66,
      "outputs": [
        {
          "output_type": "execute_result",
          "data": {
            "text/plain": [
              "[ChatCompletionMessageToolCall(id='call_JvES3EhPvvp72lNLgybB6hYS', function=Function(arguments='{\"file_path\":\"/content/Beer_small_test.csv\"}', name='read_csv_to_dataframe'), type='function')]"
            ]
          },
          "metadata": {},
          "execution_count": 66
        }
      ]
    },
    {
      "cell_type": "code",
      "source": [
        "response.choices[0].message.tool_calls[0].function.name"
      ],
      "metadata": {
        "colab": {
          "base_uri": "https://localhost:8080/",
          "height": 35
        },
        "id": "jR2YchO0l0Cz",
        "outputId": "f30f81ae-be87-4e8b-feb3-84133cdc20e5"
      },
      "execution_count": 37,
      "outputs": [
        {
          "output_type": "execute_result",
          "data": {
            "text/plain": [
              "'read_csv_to_dataframe'"
            ],
            "application/vnd.google.colaboratory.intrinsic+json": {
              "type": "string"
            }
          },
          "metadata": {},
          "execution_count": 37
        }
      ]
    },
    {
      "cell_type": "code",
      "source": [
        "response.choices[0].message.tool_calls[0].function.arguments"
      ],
      "metadata": {
        "colab": {
          "base_uri": "https://localhost:8080/",
          "height": 35
        },
        "id": "F1XbITnVkfDC",
        "outputId": "d85147c0-f9df-408b-b8df-a1c0c2379699"
      },
      "execution_count": 40,
      "outputs": [
        {
          "output_type": "execute_result",
          "data": {
            "text/plain": [
              "'{\"file_path\":\"/content/Beer_small_test.csv\"}'"
            ],
            "application/vnd.google.colaboratory.intrinsic+json": {
              "type": "string"
            }
          },
          "metadata": {},
          "execution_count": 40
        }
      ]
    },
    {
      "cell_type": "code",
      "source": [
        "if response.choices[0].message.tool_calls:\n",
        "  # Assuming response.choices[0].message.tool_calls[0] is stored in a variable `tool_call`\n",
        "  tool_call = response.choices[0].message.tool_calls[0]\n",
        "\n",
        "  # Extract the function name and arguments\n",
        "  function_name = tool_call.function.name  # Access the function name\n",
        "  function_arguments = tool_call.function.arguments  # Access the function arguments\n",
        "\n",
        "  # Parse the JSON string\n",
        "  parsed_arguments = json.loads(function_arguments)\n",
        "\n",
        "  print(\"Function Name:\", function_name)\n",
        "  print(\"Function Arguments:\", function_arguments)\n",
        "\n",
        "  file_path = parsed_arguments.get(\"file_path\")\n",
        "\n",
        "  print(\"File Path:\", file_path)\n",
        "else:\n",
        "  print(f'model response: {response.choices[0].message.content}')"
      ],
      "metadata": {
        "id": "d_Wz033DhVYU"
      },
      "execution_count": 69,
      "outputs": []
    },
    {
      "cell_type": "code",
      "source": [
        "response.choices[0].message.content"
      ],
      "metadata": {
        "colab": {
          "base_uri": "https://localhost:8080/",
          "height": 107
        },
        "id": "v_TaHb6cPbeF",
        "outputId": "a67ab7e2-37ae-4f57-c2db-31262934202b"
      },
      "execution_count": 70,
      "outputs": [
        {
          "output_type": "execute_result",
          "data": {
            "text/plain": [
              "'The meaning of life is a philosophical question that has been pondered for centuries. Different cultures, religions, and individuals have various interpretations and beliefs regarding this topic. Some people find meaning through religion or spirituality, others through relationships and connections with family and friends, and some find purpose in pursuits of knowledge, creativity, or contribution to society. Ultimately, the meaning of life can be deeply personal and subjective, and what is meaningful to one person may not be the same for another.'"
            ],
            "application/vnd.google.colaboratory.intrinsic+json": {
              "type": "string"
            }
          },
          "metadata": {},
          "execution_count": 70
        }
      ]
    },
    {
      "cell_type": "code",
      "source": [
        "response.choices[0]"
      ],
      "metadata": {
        "colab": {
          "base_uri": "https://localhost:8080/"
        },
        "id": "AhhFT4jpH3Xe",
        "outputId": "690c9d96-87be-4ed4-bebe-76906c35b398"
      },
      "execution_count": 102,
      "outputs": [
        {
          "output_type": "execute_result",
          "data": {
            "text/plain": [
              "Choice(finish_reason='tool_calls', index=0, logprobs=None, message=ChatCompletionMessage(content=None, refusal=None, role='assistant', audio=None, function_call=None, tool_calls=[ChatCompletionMessageToolCall(id='call_FaeIdLZf0Q6cxFXr18qIy1NG', function=Function(arguments='{\"file_path\":\"data.csv\"}', name='read_csv_to_dataframe'), type='function')]))"
            ]
          },
          "metadata": {},
          "execution_count": 102
        }
      ]
    },
    {
      "cell_type": "code",
      "source": [
        "# Assuming response.choices[0] is stored in a variable called `choice`\n",
        "choice = response.choices[0]\n",
        "\n",
        "# Extract the tool_calls list\n",
        "tool_calls = choice.message.tool_calls\n",
        "\n",
        "# Extract the first tool call (assuming there's only one call)\n",
        "if tool_calls and len(tool_calls) > 0:\n",
        "    tool_call = tool_calls[0]\n",
        "    function_name = tool_call.function_call[\"name\"]  # Extract the function name\n",
        "    function_arguments = tool_call.function_call[\"arguments\"]  # Extract the function arguments\n",
        "    print(\"Function Name:\", function_name)\n",
        "    print(\"Function Arguments:\", function_arguments)\n",
        "else:\n",
        "    print(\"No tool calls found in the response.\")"
      ],
      "metadata": {
        "colab": {
          "base_uri": "https://localhost:8080/",
          "height": 341
        },
        "id": "kfFzR8VaxZKR",
        "outputId": "3253398d-a746-4c5c-a34c-4b6e06cbabdf"
      },
      "execution_count": 31,
      "outputs": [
        {
          "output_type": "error",
          "ename": "AttributeError",
          "evalue": "'ChatCompletionMessageToolCall' object has no attribute 'function_call'",
          "traceback": [
            "\u001b[0;31m---------------------------------------------------------------------------\u001b[0m",
            "\u001b[0;31mAttributeError\u001b[0m                            Traceback (most recent call last)",
            "\u001b[0;32m<ipython-input-31-01e7b3c1dc9e>\u001b[0m in \u001b[0;36m<cell line: 0>\u001b[0;34m()\u001b[0m\n\u001b[1;32m      8\u001b[0m \u001b[0;32mif\u001b[0m \u001b[0mtool_calls\u001b[0m \u001b[0;32mand\u001b[0m \u001b[0mlen\u001b[0m\u001b[0;34m(\u001b[0m\u001b[0mtool_calls\u001b[0m\u001b[0;34m)\u001b[0m \u001b[0;34m>\u001b[0m \u001b[0;36m0\u001b[0m\u001b[0;34m:\u001b[0m\u001b[0;34m\u001b[0m\u001b[0;34m\u001b[0m\u001b[0m\n\u001b[1;32m      9\u001b[0m     \u001b[0mtool_call\u001b[0m \u001b[0;34m=\u001b[0m \u001b[0mtool_calls\u001b[0m\u001b[0;34m[\u001b[0m\u001b[0;36m0\u001b[0m\u001b[0;34m]\u001b[0m\u001b[0;34m\u001b[0m\u001b[0;34m\u001b[0m\u001b[0m\n\u001b[0;32m---> 10\u001b[0;31m     \u001b[0mfunction_name\u001b[0m \u001b[0;34m=\u001b[0m \u001b[0mtool_call\u001b[0m\u001b[0;34m.\u001b[0m\u001b[0mfunction_call\u001b[0m\u001b[0;34m[\u001b[0m\u001b[0;34m\"name\"\u001b[0m\u001b[0;34m]\u001b[0m  \u001b[0;31m# Extract the function name\u001b[0m\u001b[0;34m\u001b[0m\u001b[0;34m\u001b[0m\u001b[0m\n\u001b[0m\u001b[1;32m     11\u001b[0m     \u001b[0mfunction_arguments\u001b[0m \u001b[0;34m=\u001b[0m \u001b[0mtool_call\u001b[0m\u001b[0;34m.\u001b[0m\u001b[0mfunction_call\u001b[0m\u001b[0;34m[\u001b[0m\u001b[0;34m\"arguments\"\u001b[0m\u001b[0;34m]\u001b[0m  \u001b[0;31m# Extract the function arguments\u001b[0m\u001b[0;34m\u001b[0m\u001b[0;34m\u001b[0m\u001b[0m\n\u001b[1;32m     12\u001b[0m     \u001b[0mprint\u001b[0m\u001b[0;34m(\u001b[0m\u001b[0;34m\"Function Name:\"\u001b[0m\u001b[0;34m,\u001b[0m \u001b[0mfunction_name\u001b[0m\u001b[0;34m)\u001b[0m\u001b[0;34m\u001b[0m\u001b[0;34m\u001b[0m\u001b[0m\n",
            "\u001b[0;32m/usr/local/lib/python3.11/dist-packages/pydantic/main.py\u001b[0m in \u001b[0;36m__getattr__\u001b[0;34m(self, item)\u001b[0m\n\u001b[1;32m    889\u001b[0m                     \u001b[0;32melse\u001b[0m\u001b[0;34m:\u001b[0m\u001b[0;34m\u001b[0m\u001b[0;34m\u001b[0m\u001b[0m\n\u001b[1;32m    890\u001b[0m                         \u001b[0;31m# this is the current error\u001b[0m\u001b[0;34m\u001b[0m\u001b[0;34m\u001b[0m\u001b[0m\n\u001b[0;32m--> 891\u001b[0;31m                         \u001b[0;32mraise\u001b[0m \u001b[0mAttributeError\u001b[0m\u001b[0;34m(\u001b[0m\u001b[0;34mf'{type(self).__name__!r} object has no attribute {item!r}'\u001b[0m\u001b[0;34m)\u001b[0m\u001b[0;34m\u001b[0m\u001b[0;34m\u001b[0m\u001b[0m\n\u001b[0m\u001b[1;32m    892\u001b[0m \u001b[0;34m\u001b[0m\u001b[0m\n\u001b[1;32m    893\u001b[0m         \u001b[0;32mdef\u001b[0m \u001b[0m__setattr__\u001b[0m\u001b[0;34m(\u001b[0m\u001b[0mself\u001b[0m\u001b[0;34m,\u001b[0m \u001b[0mname\u001b[0m\u001b[0;34m:\u001b[0m \u001b[0mstr\u001b[0m\u001b[0;34m,\u001b[0m \u001b[0mvalue\u001b[0m\u001b[0;34m:\u001b[0m \u001b[0mAny\u001b[0m\u001b[0;34m)\u001b[0m \u001b[0;34m->\u001b[0m \u001b[0;32mNone\u001b[0m\u001b[0;34m:\u001b[0m\u001b[0;34m\u001b[0m\u001b[0;34m\u001b[0m\u001b[0m\n",
            "\u001b[0;31mAttributeError\u001b[0m: 'ChatCompletionMessageToolCall' object has no attribute 'function_call'"
          ]
        }
      ]
    },
    {
      "cell_type": "code",
      "source": [
        "if tool_name:\n",
        "  df = tool_name(tool_args)\n",
        "  print(type(df))"
      ],
      "metadata": {
        "id": "TOykCxKuf-1t"
      },
      "execution_count": null,
      "outputs": []
    },
    {
      "cell_type": "code",
      "source": [
        "#test block 2\n",
        "import json\n",
        "import pandas as pd\n",
        "\n",
        "# Define the tool for reading the CSV\n",
        "tools = [\n",
        "    {\n",
        "        \"name\": \"read_csv_to_dataframe\",\n",
        "        \"description\": \"Reads a CSV file and extracts the requested column data.\",\n",
        "        \"parameters\": {\n",
        "            \"type\": \"object\",\n",
        "            \"properties\": {\n",
        "                \"file_path\": {\"type\": \"string\", \"description\": \"Path to the CSV file to read.\"},\n",
        "                \"column_name\": {\"type\": \"string\", \"description\": \"Name of the column to extract.\"},\n",
        "                \"num_entries\": {\"type\": \"integer\", \"description\": \"Number of entries to retrieve from the column.\"}\n",
        "            },\n",
        "            \"required\": [\"file_path\", \"column_name\", \"num_entries\"]\n",
        "        }\n",
        "    }\n",
        "]\n",
        "\n",
        "# Define the function to read the CSV and extract data\n",
        "def read_csv_to_dataframe(file_path: str, column_name: str, num_entries: int):\n",
        "    try:\n",
        "        df = pd.read_csv(file_path)\n",
        "        if column_name not in df.columns:\n",
        "            return {\"error\": f\"Column '{column_name}' not found in the file.\"}\n",
        "        return {\n",
        "            \"data\": df[column_name].head(num_entries).tolist(),\n",
        "            \"column_name\": column_name\n",
        "        }\n",
        "    except Exception as e:\n",
        "        return {\"error\": str(e)}\n",
        "\n",
        "# Define the initial query\n",
        "messages = [\n",
        "    {\"role\": \"system\", \"content\": \"You are an assistant that can process CSV files and analyze data.\"},\n",
        "    {\"role\": \"user\", \"content\": \"Please summarize the first 5 entries in the 'text' column of the file '/content/Beer_small_test.csv'.\"}\n",
        "]\n",
        "\n",
        "# Simulate the GPT-4o response (mock client)\n",
        "class MockGPT4oClient:\n",
        "    def chat(self, completions):\n",
        "        # Simulate the GPT-4o model suggesting a function call\n",
        "        return {\n",
        "            \"choices\": [\n",
        "                {\n",
        "                    \"message\": {\n",
        "                        \"function_call\": {\n",
        "                            \"name\": \"read_csv_to_dataframe\",\n",
        "                            \"arguments\": json.dumps({\n",
        "                                \"file_path\": \"/content/Beer_small_test.csv\",\n",
        "                                \"column_name\": \"text\",\n",
        "                                \"num_entries\": 5\n",
        "                            })\n",
        "                        }\n",
        "                    }\n",
        "                }\n",
        "            ]\n",
        "        }\n",
        "\n",
        "# Instantiate the client\n",
        "client = MockGPT4oClient()\n",
        "\n",
        "# Generate the response\n",
        "response = client.chat(\n",
        "    completions={\n",
        "        \"model\": \"gpt-4o\",\n",
        "        \"messages\": messages,\n",
        "        \"functions\": tools,\n",
        "        \"function_call\": {\"name\": \"read_csv_to_dataframe\"}\n",
        "    }\n",
        ")\n",
        "\n",
        "# Process the response\n",
        "if response[\"choices\"][0][\"message\"].get(\"function_call\"):\n",
        "    function_call = response[\"choices\"][0][\"message\"][\"function_call\"]\n",
        "    function_name = function_call[\"name\"]\n",
        "    function_arguments = json.loads(function_call[\"arguments\"])\n",
        "\n",
        "    if function_name == \"read_csv_to_dataframe\":\n",
        "        # Call the function\n",
        "        result = read_csv_to_dataframe(\n",
        "            file_path=function_arguments[\"file_path\"],\n",
        "            column_name=function_arguments[\"column_name\"],\n",
        "            num_entries=function_arguments[\"num_entries\"]\n",
        "        )\n",
        "\n",
        "        # Check for errors\n",
        "        if \"error\" in result:\n",
        "            user_answer = f\"I tried to read the file, but encountered an error: {result['error']}\"\n",
        "        else:\n",
        "            # Extracted data\n",
        "            extracted_data = result[\"data\"]\n",
        "            column_name = result[\"column_name\"]\n",
        "\n",
        "            # Craft a new prompt for summarization\n",
        "            new_messages = [\n",
        "                {\"role\": \"system\", \"content\": \"You are an assistant that analyzes text data.\"},\n",
        "                {\"role\": \"user\", \"content\": f\"Please summarize the following data from the '{column_name}' column: {extracted_data}\"}\n",
        "            ]\n",
        "\n",
        "            # Simulate the model summarizing the text\n",
        "            summary_response = client.chat(\n",
        "                completions={\n",
        "                    \"model\": \"gpt-4o\",\n",
        "                    \"messages\": new_messages\n",
        "                }\n",
        "            )\n",
        "\n",
        "            # Mock summary response\n",
        "            summary = (\n",
        "                \"The extracted entries discuss various aspects, including the flavor, texture, and uniqueness \"\n",
        "                \"of different beers. Common themes include customer preferences and the distinct character of each beer.\"\n",
        "            )\n",
        "\n",
        "            user_answer = f\"Summary of the '{column_name}' column:\\n{summary}\"\n",
        "\n",
        "        # Print the response\n",
        "        print(user_answer)\n",
        "else:\n",
        "    print(\"No function call found in the response.\")"
      ],
      "metadata": {
        "id": "u8u4jmGUv1lc"
      },
      "execution_count": null,
      "outputs": []
    }
  ]
}