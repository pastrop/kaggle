{
  "nbformat": 4,
  "nbformat_minor": 0,
  "metadata": {
    "colab": {
      "provenance": [],
      "authorship_tag": "ABX9TyPWMagt0tDKg0nUff8ovieM",
      "include_colab_link": true
    },
    "kernelspec": {
      "name": "python3",
      "display_name": "Python 3"
    },
    "language_info": {
      "name": "python"
    }
  },
  "cells": [
    {
      "cell_type": "markdown",
      "metadata": {
        "id": "view-in-github",
        "colab_type": "text"
      },
      "source": [
        "<a href=\"https://colab.research.google.com/github/pastrop/kaggle/blob/master/AI_Analyst.ipynb\" target=\"_parent\"><img src=\"https://colab.research.google.com/assets/colab-badge.svg\" alt=\"Open In Colab\"/></a>"
      ]
    },
    {
      "cell_type": "code",
      "execution_count": 1,
      "metadata": {
        "id": "PlV1Nb7RhoQ1"
      },
      "outputs": [],
      "source": [
        "from google.colab import userdata\n",
        "openai_api_key = userdata.get('OpenAI')"
      ]
    },
    {
      "cell_type": "code",
      "source": [
        "# Warning control\n",
        "import warnings\n",
        "warnings.filterwarnings('ignore')"
      ],
      "metadata": {
        "id": "A8qE9VAWhx_7"
      },
      "execution_count": 34,
      "outputs": []
    },
    {
      "cell_type": "code",
      "source": [
        "import copy\n",
        "import json\n",
        "from openai import OpenAI\n",
        "#from openai import ChatCompletion\n",
        "\n",
        "#from utils_local import o1_tools\n",
        "\n",
        "client = OpenAI(api_key=openai_api_key)\n",
        "#O1_MODEL = 'o1-mini'\n",
        "GPT_MODEL = 'gpt-4o-mini'"
      ],
      "metadata": {
        "id": "0MPbyOQ3h2lN"
      },
      "execution_count": 35,
      "outputs": []
    },
    {
      "cell_type": "code",
      "source": [],
      "metadata": {
        "id": "rkv-T4r2iPan"
      },
      "execution_count": null,
      "outputs": []
    },
    {
      "cell_type": "code",
      "source": [
        "# System prompt for the execution model\n",
        "gpt4o_system_prompt = \"\"\"\n",
        "You are a helpful data analyst responsible for analysis provided data file using the tools provided.\n",
        "You must explain your decision-making process across various steps. if ask to read data, you should read the\n",
        "data file and give the text in the first cell of the file text column s a response.  If you are not asked to read\n",
        "the data file, you should answer a user question to the best of your ability.\n",
        "\n",
        "\"\"\""
      ],
      "metadata": {
        "id": "I1epDXRJiPn2"
      },
      "execution_count": 106,
      "outputs": []
    },
    {
      "cell_type": "code",
      "source": [
        "# Tools\n",
        "data = '/content/Beer_small_test.csv'\n",
        "\n",
        "messages = [\n",
        "    {\"role\": \"system\", \"content\": 'you are helful data analyst reading the data files'},\n",
        "    {\"role\": \"user\", \"content\": f\"Can you read the {data} and summurize first 5 rows\"}\n",
        "]\n",
        "\n",
        "def read_csv_to_dataframe(file_path: str) -> str:\n",
        "    import pandas as pd\n",
        "    try:\n",
        "        df = pd.read_csv(file_path)\n",
        "        return df\n",
        "    except Exception as e:\n",
        "        return f\"Error reading CSV file: {e}\""
      ],
      "metadata": {
        "id": "8Etqznnsraqp"
      },
      "execution_count": 40,
      "outputs": []
    },
    {
      "cell_type": "code",
      "source": [
        "TOOLS_test = [\n",
        "    {\n",
        "        \"type\": \"function\",\n",
        "        \"function\": {\n",
        "            \"name\": \"read_csv_to_dataframe\",\n",
        "            \"description\":\"Reads a CSV file and returns the DataFrame\",\n",
        "            \"parameters\": {\n",
        "                \"type\": \"object\",\n",
        "                \"properties\": {\n",
        "                    \"file_path\": {\"type\": \"string\", \"description\": \"Path to the CSV file.\"}\n",
        "                },\n",
        "                \"required\": [\"file_path\"],\n",
        "                \"additionalProperties\": False,\n",
        "            },\n",
        "        },\n",
        "    }]"
      ],
      "metadata": {
        "id": "9rk9cj_GNg73"
      },
      "execution_count": 96,
      "outputs": []
    },
    {
      "cell_type": "code",
      "source": [
        "content = '''You are an assistant that uses tools if asked anything that can be addressed by a tool.\n",
        "              or directly answer user questions as asked\n",
        "'''\n",
        "response = client.chat.completions.create(\n",
        "    model=\"gpt-4o\",\n",
        "    messages=[\n",
        "        {\"role\": \"system\", \"content\": gpt4o_system_prompt},\n",
        "        {\"role\": \"user\", \"content\": f\"please read the data file from the following path: {data}\"}\n",
        "    ],\n",
        "    tools=TOOLS_test,\n",
        "    tool_choice=\"auto\"\n",
        ")"
      ],
      "metadata": {
        "id": "pRw4BqCME5gG"
      },
      "execution_count": 113,
      "outputs": []
    },
    {
      "cell_type": "code",
      "source": [
        "response.choices[0]"
      ],
      "metadata": {
        "colab": {
          "base_uri": "https://localhost:8080/"
        },
        "id": "-kyOEeedVfRa",
        "outputId": "099e7748-db38-4f3d-afe3-7ed26dfe6a2e"
      },
      "execution_count": 114,
      "outputs": [
        {
          "output_type": "execute_result",
          "data": {
            "text/plain": [
              "Choice(finish_reason='tool_calls', index=0, logprobs=None, message=ChatCompletionMessage(content=None, refusal=None, role='assistant', audio=None, function_call=None, tool_calls=[ChatCompletionMessageToolCall(id='call_QeNLgjValagXKgrXkbSNQGXK', function=Function(arguments='{\"file_path\":\"/content/Beer_small_test.csv\"}', name='read_csv_to_dataframe'), type='function')]))"
            ]
          },
          "metadata": {},
          "execution_count": 114
        }
      ]
    },
    {
      "cell_type": "code",
      "source": [
        "response.choices[0]"
      ],
      "metadata": {
        "colab": {
          "base_uri": "https://localhost:8080/"
        },
        "id": "v_TaHb6cPbeF",
        "outputId": "4949cd6b-6980-4aa6-a887-6f09c9a67625"
      },
      "execution_count": 104,
      "outputs": [
        {
          "output_type": "execute_result",
          "data": {
            "text/plain": [
              "Choice(finish_reason='stop', index=0, logprobs=None, message=ChatCompletionMessage(content='The meaning of life is a philosophical question concerning the significance or purpose of life in general. It has been explored throughout history in a variety of ways, often influenced by religious, philosophical, and cultural perspectives.\\n\\nSome common interpretations include:\\n\\n1. **Religious viewpoints**: Many religions offer an explanation or purpose for life, often centering around beliefs in a higher power or purpose.\\n   \\n2. **Philosophical perspectives**: Philosophers have pondered the meaning of life for centuries, suggesting it could be about seeking happiness, understanding, knowledge, or living a virtuous life.\\n\\n3. **Scientific approach**: Some view life as a product of natural processes, where meaning is a human construct.\\n\\n4. **Individual interpretation**: For many, the meaning of life is a personal journey and may involve finding fulfillment, love, creativity, or making a positive impact on the world.\\n\\nUltimately, the meaning of life is subjective and can vary greatly from person to person. It can often involve a combination of factors, including personal values, goals, and experiences.', refusal=None, role='assistant', audio=None, function_call=None, tool_calls=None))"
            ]
          },
          "metadata": {},
          "execution_count": 104
        }
      ]
    },
    {
      "cell_type": "code",
      "source": [
        "response.choices[0]"
      ],
      "metadata": {
        "colab": {
          "base_uri": "https://localhost:8080/"
        },
        "id": "AhhFT4jpH3Xe",
        "outputId": "690c9d96-87be-4ed4-bebe-76906c35b398"
      },
      "execution_count": 102,
      "outputs": [
        {
          "output_type": "execute_result",
          "data": {
            "text/plain": [
              "Choice(finish_reason='tool_calls', index=0, logprobs=None, message=ChatCompletionMessage(content=None, refusal=None, role='assistant', audio=None, function_call=None, tool_calls=[ChatCompletionMessageToolCall(id='call_FaeIdLZf0Q6cxFXr18qIy1NG', function=Function(arguments='{\"file_path\":\"data.csv\"}', name='read_csv_to_dataframe'), type='function')]))"
            ]
          },
          "metadata": {},
          "execution_count": 102
        }
      ]
    },
    {
      "cell_type": "code",
      "source": [
        "# Process the tool call\n",
        "tool_call = response[\"choices\"][0][\"message\"][\"function_call\"]\n",
        "if tool_call:\n",
        "    tool_name = tool_call[\"name\"]\n",
        "    tool_args = json.loads(tool_call[\"arguments\"])\n",
        "    tool_result = handle_tool_call(tool_name, tool_args)\n",
        "    print(f\"Tool Result:\\n{tool_result}\")"
      ],
      "metadata": {
        "colab": {
          "base_uri": "https://localhost:8080/",
          "height": 216
        },
        "id": "kfFzR8VaxZKR",
        "outputId": "77e29c9a-78be-4822-f4e1-c7426cdb54b8"
      },
      "execution_count": 45,
      "outputs": [
        {
          "output_type": "error",
          "ename": "TypeError",
          "evalue": "'ChatCompletion' object is not subscriptable",
          "traceback": [
            "\u001b[0;31m---------------------------------------------------------------------------\u001b[0m",
            "\u001b[0;31mTypeError\u001b[0m                                 Traceback (most recent call last)",
            "\u001b[0;32m<ipython-input-45-de08f398ed96>\u001b[0m in \u001b[0;36m<cell line: 2>\u001b[0;34m()\u001b[0m\n\u001b[1;32m      1\u001b[0m \u001b[0;31m# Process the tool call\u001b[0m\u001b[0;34m\u001b[0m\u001b[0;34m\u001b[0m\u001b[0m\n\u001b[0;32m----> 2\u001b[0;31m \u001b[0mtool_call\u001b[0m \u001b[0;34m=\u001b[0m \u001b[0mresponse\u001b[0m\u001b[0;34m[\u001b[0m\u001b[0;34m\"choices\"\u001b[0m\u001b[0;34m]\u001b[0m\u001b[0;34m[\u001b[0m\u001b[0;36m0\u001b[0m\u001b[0;34m]\u001b[0m\u001b[0;34m[\u001b[0m\u001b[0;34m\"message\"\u001b[0m\u001b[0;34m]\u001b[0m\u001b[0;34m[\u001b[0m\u001b[0;34m\"function_call\"\u001b[0m\u001b[0;34m]\u001b[0m\u001b[0;34m\u001b[0m\u001b[0;34m\u001b[0m\u001b[0m\n\u001b[0m\u001b[1;32m      3\u001b[0m \u001b[0;32mif\u001b[0m \u001b[0mtool_call\u001b[0m\u001b[0;34m:\u001b[0m\u001b[0;34m\u001b[0m\u001b[0;34m\u001b[0m\u001b[0m\n\u001b[1;32m      4\u001b[0m     \u001b[0mtool_name\u001b[0m \u001b[0;34m=\u001b[0m \u001b[0mtool_call\u001b[0m\u001b[0;34m[\u001b[0m\u001b[0;34m\"name\"\u001b[0m\u001b[0;34m]\u001b[0m\u001b[0;34m\u001b[0m\u001b[0;34m\u001b[0m\u001b[0m\n\u001b[1;32m      5\u001b[0m     \u001b[0mtool_args\u001b[0m \u001b[0;34m=\u001b[0m \u001b[0mjson\u001b[0m\u001b[0;34m.\u001b[0m\u001b[0mloads\u001b[0m\u001b[0;34m(\u001b[0m\u001b[0mtool_call\u001b[0m\u001b[0;34m[\u001b[0m\u001b[0;34m\"arguments\"\u001b[0m\u001b[0;34m]\u001b[0m\u001b[0;34m)\u001b[0m\u001b[0;34m\u001b[0m\u001b[0;34m\u001b[0m\u001b[0m\n",
            "\u001b[0;31mTypeError\u001b[0m: 'ChatCompletion' object is not subscriptable"
          ]
        }
      ]
    },
    {
      "cell_type": "code",
      "source": [
        "#test block 2\n",
        "import json\n",
        "import pandas as pd\n",
        "\n",
        "# Define the tool for reading the CSV\n",
        "tools = [\n",
        "    {\n",
        "        \"name\": \"read_csv_to_dataframe\",\n",
        "        \"description\": \"Reads a CSV file and extracts the requested column data.\",\n",
        "        \"parameters\": {\n",
        "            \"type\": \"object\",\n",
        "            \"properties\": {\n",
        "                \"file_path\": {\"type\": \"string\", \"description\": \"Path to the CSV file to read.\"},\n",
        "                \"column_name\": {\"type\": \"string\", \"description\": \"Name of the column to extract.\"},\n",
        "                \"num_entries\": {\"type\": \"integer\", \"description\": \"Number of entries to retrieve from the column.\"}\n",
        "            },\n",
        "            \"required\": [\"file_path\", \"column_name\", \"num_entries\"]\n",
        "        }\n",
        "    }\n",
        "]\n",
        "\n",
        "# Define the function to read the CSV and extract data\n",
        "def read_csv_to_dataframe(file_path: str, column_name: str, num_entries: int):\n",
        "    try:\n",
        "        df = pd.read_csv(file_path)\n",
        "        if column_name not in df.columns:\n",
        "            return {\"error\": f\"Column '{column_name}' not found in the file.\"}\n",
        "        return {\n",
        "            \"data\": df[column_name].head(num_entries).tolist(),\n",
        "            \"column_name\": column_name\n",
        "        }\n",
        "    except Exception as e:\n",
        "        return {\"error\": str(e)}\n",
        "\n",
        "# Define the initial query\n",
        "messages = [\n",
        "    {\"role\": \"system\", \"content\": \"You are an assistant that can process CSV files and analyze data.\"},\n",
        "    {\"role\": \"user\", \"content\": \"Please summarize the first 5 entries in the 'text' column of the file '/content/Beer_small_test.csv'.\"}\n",
        "]\n",
        "\n",
        "# Simulate the GPT-4o response (mock client)\n",
        "class MockGPT4oClient:\n",
        "    def chat(self, completions):\n",
        "        # Simulate the GPT-4o model suggesting a function call\n",
        "        return {\n",
        "            \"choices\": [\n",
        "                {\n",
        "                    \"message\": {\n",
        "                        \"function_call\": {\n",
        "                            \"name\": \"read_csv_to_dataframe\",\n",
        "                            \"arguments\": json.dumps({\n",
        "                                \"file_path\": \"/content/Beer_small_test.csv\",\n",
        "                                \"column_name\": \"text\",\n",
        "                                \"num_entries\": 5\n",
        "                            })\n",
        "                        }\n",
        "                    }\n",
        "                }\n",
        "            ]\n",
        "        }\n",
        "\n",
        "# Instantiate the client\n",
        "client = MockGPT4oClient()\n",
        "\n",
        "# Generate the response\n",
        "response = client.chat(\n",
        "    completions={\n",
        "        \"model\": \"gpt-4o\",\n",
        "        \"messages\": messages,\n",
        "        \"functions\": tools,\n",
        "        \"function_call\": {\"name\": \"read_csv_to_dataframe\"}\n",
        "    }\n",
        ")\n",
        "\n",
        "# Process the response\n",
        "if response[\"choices\"][0][\"message\"].get(\"function_call\"):\n",
        "    function_call = response[\"choices\"][0][\"message\"][\"function_call\"]\n",
        "    function_name = function_call[\"name\"]\n",
        "    function_arguments = json.loads(function_call[\"arguments\"])\n",
        "\n",
        "    if function_name == \"read_csv_to_dataframe\":\n",
        "        # Call the function\n",
        "        result = read_csv_to_dataframe(\n",
        "            file_path=function_arguments[\"file_path\"],\n",
        "            column_name=function_arguments[\"column_name\"],\n",
        "            num_entries=function_arguments[\"num_entries\"]\n",
        "        )\n",
        "\n",
        "        # Check for errors\n",
        "        if \"error\" in result:\n",
        "            user_answer = f\"I tried to read the file, but encountered an error: {result['error']}\"\n",
        "        else:\n",
        "            # Extracted data\n",
        "            extracted_data = result[\"data\"]\n",
        "            column_name = result[\"column_name\"]\n",
        "\n",
        "            # Craft a new prompt for summarization\n",
        "            new_messages = [\n",
        "                {\"role\": \"system\", \"content\": \"You are an assistant that analyzes text data.\"},\n",
        "                {\"role\": \"user\", \"content\": f\"Please summarize the following data from the '{column_name}' column: {extracted_data}\"}\n",
        "            ]\n",
        "\n",
        "            # Simulate the model summarizing the text\n",
        "            summary_response = client.chat(\n",
        "                completions={\n",
        "                    \"model\": \"gpt-4o\",\n",
        "                    \"messages\": new_messages\n",
        "                }\n",
        "            )\n",
        "\n",
        "            # Mock summary response\n",
        "            summary = (\n",
        "                \"The extracted entries discuss various aspects, including the flavor, texture, and uniqueness \"\n",
        "                \"of different beers. Common themes include customer preferences and the distinct character of each beer.\"\n",
        "            )\n",
        "\n",
        "            user_answer = f\"Summary of the '{column_name}' column:\\n{summary}\"\n",
        "\n",
        "        # Print the response\n",
        "        print(user_answer)\n",
        "else:\n",
        "    print(\"No function call found in the response.\")"
      ],
      "metadata": {
        "id": "u8u4jmGUv1lc"
      },
      "execution_count": null,
      "outputs": []
    }
  ]
}