{
  "nbformat": 4,
  "nbformat_minor": 0,
  "metadata": {
    "colab": {
      "provenance": [],
      "authorship_tag": "ABX9TyPLKvVHl5QL0LBSeZFPbbWS",
      "include_colab_link": true
    },
    "kernelspec": {
      "name": "python3",
      "display_name": "Python 3"
    },
    "language_info": {
      "name": "python"
    }
  },
  "cells": [
    {
      "cell_type": "markdown",
      "metadata": {
        "id": "view-in-github",
        "colab_type": "text"
      },
      "source": [
        "<a href=\"https://colab.research.google.com/github/pastrop/kaggle/blob/master/genAI_data_prep.ipynb\" target=\"_parent\"><img src=\"https://colab.research.google.com/assets/colab-badge.svg\" alt=\"Open In Colab\"/></a>"
      ]
    },
    {
      "cell_type": "code",
      "execution_count": null,
      "metadata": {
        "id": "fiOek36Nz1lR"
      },
      "outputs": [],
      "source": [
        "# file upload while using Google Colab\n",
        "from google.colab import files\n",
        "uploaded = files.upload()"
      ]
    },
    {
      "cell_type": "code",
      "source": [
        "import pandas as pd"
      ],
      "metadata": {
        "id": "Gkt1-9EOz8v8"
      },
      "execution_count": null,
      "outputs": []
    },
    {
      "cell_type": "code",
      "source": [
        "df = pd.read_csv('daylight_scores.csv')"
      ],
      "metadata": {
        "id": "KFbAxw8z0KJO"
      },
      "execution_count": null,
      "outputs": []
    },
    {
      "cell_type": "code",
      "source": [
        "df.head()"
      ],
      "metadata": {
        "id": "WYWKspkz2yFI"
      },
      "execution_count": null,
      "outputs": []
    },
    {
      "cell_type": "code",
      "source": [
        "dct = {'text':[]}\n",
        "for _, row in df.iterrows():\n",
        "  tmp = row['concept']+ ' relevance='+ str(row['relevance'])+ ' posive sentiment=' + str(row['positive sentiment percentage'])\\\n",
        "   + ' neutral sentiment='+ str(row['neutral sentiment percentage']) + ' negative sentiment='+str(row['negative sentiment percentage'])\\\n",
        "   +'positive feedbacks='+str(row['positive_feedback'])+'neutral feedbacks='+str(row['netral_feedback'])\\\n",
        "   +'negative feedbacks='+str(row['negative_feedback'])+'total feedbacks='+str(row['total_sentiment'])\n",
        "  dct['text'].append(tmp)"
      ],
      "metadata": {
        "id": "4ZVhn6Es0UfN"
      },
      "execution_count": null,
      "outputs": []
    },
    {
      "cell_type": "code",
      "source": [
        "out = pd.DataFrame.from_dict(dct)"
      ],
      "metadata": {
        "id": "vxnBCX06-0CE"
      },
      "execution_count": null,
      "outputs": []
    },
    {
      "cell_type": "code",
      "source": [
        "out.head()"
      ],
      "metadata": {
        "id": "qZWivbAL_yXq"
      },
      "execution_count": null,
      "outputs": []
    },
    {
      "cell_type": "code",
      "source": [
        "out.to_csv('daylight_results_laptop_data.csv')"
      ],
      "metadata": {
        "id": "VosQNXzF_U8U"
      },
      "execution_count": null,
      "outputs": []
    }
  ]
}