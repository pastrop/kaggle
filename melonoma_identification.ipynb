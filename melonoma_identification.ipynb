{
  "nbformat": 4,
  "nbformat_minor": 0,
  "metadata": {
    "kernelspec": {
      "name": "python3",
      "display_name": "Python 3",
      "language": "python"
    },
    "language_info": {
      "name": "python",
      "version": "3.7.6",
      "mimetype": "text/x-python",
      "codemirror_mode": {
        "name": "ipython",
        "version": 3
      },
      "pygments_lexer": "ipython3",
      "nbconvert_exporter": "python",
      "file_extension": ".py"
    },
    "colab": {
      "name": "melonoma_identification.ipynb",
      "provenance": [],
      "include_colab_link": true
    }
  },
  "cells": [
    {
      "cell_type": "markdown",
      "metadata": {
        "id": "view-in-github",
        "colab_type": "text"
      },
      "source": [
        "<a href=\"https://colab.research.google.com/github/pastrop/kaggle/blob/master/melonoma_identification.ipynb\" target=\"_parent\"><img src=\"https://colab.research.google.com/assets/colab-badge.svg\" alt=\"Open In Colab\"/></a>"
      ]
    },
    {
      "cell_type": "markdown",
      "metadata": {
        "id": "nW4thhXHDvUn",
        "colab_type": "text"
      },
      "source": [
        "**WORK IN PROGRESS** (melonoma identification)"
      ]
    },
    {
      "cell_type": "code",
      "metadata": {
        "_uuid": "8f2839f25d086af736a60e9eeb907d3b93b6e0e5",
        "_cell_guid": "b1076dfc-b9ad-4769-8c92-a6c4dae69d19",
        "trusted": true,
        "id": "9fWjnuS1ClU4",
        "colab_type": "code",
        "colab": {}
      },
      "source": [
        "# This Python 3 environment comes with many helpful analytics libraries installed\n",
        "# It is defined by the kaggle/python Docker image: https://github.com/kaggle/docker-python\n",
        "# For example, here's several helpful packages to load\n",
        "\n",
        "import numpy as np # linear algebra\n",
        "import pandas as pd # data processing, CSV file I/O (e.g. pd.read_csv)\n",
        "\n",
        "# Input data files are available in the read-only \"../input/\" directory\n",
        "# For example, running this (by clicking run or pressing Shift+Enter) will list all files under the input directory\n",
        "\n",
        "import os\n",
        "for dirname, _, filenames in os.walk('/kaggle/input'):\n",
        "    for filename in filenames:\n",
        "        print(os.path.join(dirname, filename))\n",
        "\n",
        "# You can write up to 5GB to the current directory (/kaggle/working/) that gets preserved as output when you create a version using \"Save & Run All\" \n",
        "# You can also write temporary files to /kaggle/temp/, but they won't be saved outside of the current session"
      ],
      "execution_count": null,
      "outputs": []
    },
    {
      "cell_type": "code",
      "metadata": {
        "trusted": true,
        "id": "I547zQfKClVT",
        "colab_type": "code",
        "colab": {}
      },
      "source": [
        "import tensorflow as tf\n",
        "#import tensorflow_datasets as tfds\n",
        "import matplotlib.pyplot as plt\n",
        "from shutil import copyfile"
      ],
      "execution_count": null,
      "outputs": []
    },
    {
      "cell_type": "code",
      "metadata": {
        "trusted": true,
        "id": "w6tbY7bRClVl",
        "colab_type": "code",
        "colab": {}
      },
      "source": [
        "import os\n",
        "import numpy as np \n",
        "import pandas as pd "
      ],
      "execution_count": null,
      "outputs": []
    },
    {
      "cell_type": "code",
      "metadata": {
        "trusted": true,
        "id": "pctvU1ZsClV1",
        "colab_type": "code",
        "colab": {},
        "outputId": "61d44acd-0c5a-4f06-a432-60dcb97c6faa"
      },
      "source": [
        "tf.__version__"
      ],
      "execution_count": null,
      "outputs": [
        {
          "output_type": "execute_result",
          "data": {
            "text/plain": [
              "'2.2.0'"
            ]
          },
          "metadata": {
            "tags": []
          },
          "execution_count": 4
        }
      ]
    },
    {
      "cell_type": "code",
      "metadata": {
        "trusted": true,
        "id": "u1LDsAdnClV8",
        "colab_type": "code",
        "colab": {},
        "outputId": "b6865827-b0fb-43ba-a981-b21b61ad3a44"
      },
      "source": [
        "# CONFIGURE GPUs\n",
        "#os.environ[\"CUDA_VISIBLE_DEVICES\"]=\"0\"\n",
        "gpus = tf.config.list_physical_devices('GPU'); print(gpus)\n",
        "if len(gpus)==1: strategy = tf.distribute.OneDeviceStrategy(device=\"/gpu:0\")\n",
        "else: strategy = tf.distribute.MirroredStrategy()"
      ],
      "execution_count": null,
      "outputs": [
        {
          "output_type": "stream",
          "text": [
            "[PhysicalDevice(name='/physical_device:GPU:0', device_type='GPU')]\n"
          ],
          "name": "stdout"
        }
      ]
    },
    {
      "cell_type": "code",
      "metadata": {
        "trusted": true,
        "id": "gN8YwRBRClWJ",
        "colab_type": "code",
        "colab": {}
      },
      "source": [
        "import IPython.display as display\n",
        "from PIL import Image"
      ],
      "execution_count": null,
      "outputs": []
    },
    {
      "cell_type": "code",
      "metadata": {
        "trusted": true,
        "id": "rIc3PgORClWS",
        "colab_type": "code",
        "colab": {}
      },
      "source": [
        "import pathlib\n",
        "data_dir = pathlib.Path('/kaggle/input/siim-isic-melanoma-classification/jpeg/train/')\n",
        "image_count = len(list(data_dir.glob('*.jpg')))\n",
        "image_count"
      ],
      "execution_count": null,
      "outputs": []
    },
    {
      "cell_type": "code",
      "metadata": {
        "trusted": true,
        "id": "1Y6amDoaClWf",
        "colab_type": "code",
        "colab": {}
      },
      "source": [
        "df = pd.read_csv('/kaggle/input/siim-isic-melanoma-classification/train.csv')\n",
        "df.head()"
      ],
      "execution_count": null,
      "outputs": []
    },
    {
      "cell_type": "code",
      "metadata": {
        "trusted": true,
        "id": "zBKfIF0FClWu",
        "colab_type": "code",
        "colab": {}
      },
      "source": [
        "df_sorted = df.sort_values(by='target', ascending=False)\n",
        "df_sorted.head()"
      ],
      "execution_count": null,
      "outputs": []
    },
    {
      "cell_type": "code",
      "metadata": {
        "trusted": true,
        "id": "UBtkRnpbClW8",
        "colab_type": "code",
        "colab": {}
      },
      "source": [
        "import shutil\n",
        "ex = list(data_dir.glob('*.jpg'))\n",
        "\n",
        "#for image_path in ex[:3]:\n",
        "    #display.display(Image.open(str(image_path)))"
      ],
      "execution_count": null,
      "outputs": []
    },
    {
      "cell_type": "code",
      "metadata": {
        "trusted": true,
        "id": "XwY7wB-GClXJ",
        "colab_type": "code",
        "colab": {}
      },
      "source": [
        "str(ex[1])"
      ],
      "execution_count": null,
      "outputs": []
    },
    {
      "cell_type": "code",
      "metadata": {
        "trusted": true,
        "id": "SWFQjvDUClXa",
        "colab_type": "code",
        "colab": {}
      },
      "source": [
        "# create a list of labels (0 - benign, 1 - cancer)\n",
        "labels = []\n",
        "filenames = []\n",
        "counter = 0\n",
        "for item in ex:\n",
        "    tmp = df.loc[df['image_name'] == item.stem,'target'].iloc[0]\n",
        "    labels.append(tmp)\n",
        "    filenames.append(str(item))\n",
        "    if tmp == 1:\n",
        "        counter+=1\n",
        "counter        "
      ],
      "execution_count": null,
      "outputs": []
    },
    {
      "cell_type": "code",
      "metadata": {
        "trusted": true,
        "id": "DdH_Wzo6ClXg",
        "colab_type": "code",
        "colab": {}
      },
      "source": [
        "AUTOTUNE = tf.data.experimental.AUTOTUNE"
      ],
      "execution_count": null,
      "outputs": []
    },
    {
      "cell_type": "code",
      "metadata": {
        "trusted": true,
        "id": "AcUoNUfaClXo",
        "colab_type": "code",
        "colab": {}
      },
      "source": [
        "train_data = tf.data.Dataset.from_tensor_slices((tf.constant(filenames), tf.constant(labels)))"
      ],
      "execution_count": null,
      "outputs": []
    },
    {
      "cell_type": "code",
      "metadata": {
        "trusted": true,
        "id": "988K1ol-ClXu",
        "colab_type": "code",
        "colab": {}
      },
      "source": [
        "next(iter(train_data))"
      ],
      "execution_count": null,
      "outputs": []
    },
    {
      "cell_type": "code",
      "metadata": {
        "trusted": true,
        "id": "JmPR3SfXClX2",
        "colab_type": "code",
        "colab": {}
      },
      "source": [
        "# Function to load and preprocess each image\n",
        "def _parse_fn(filename, label):\n",
        "    img = tf.io.read_file(filename)\n",
        "    img = tf.image.decode_jpeg(img)\n",
        "    img = (tf.cast(img, tf.float32)/127.5) - 1\n",
        "    img = tf.image.resize(img, (IMAGE_SIZE, IMAGE_SIZE))\n",
        "    return img, label"
      ],
      "execution_count": null,
      "outputs": []
    },
    {
      "cell_type": "code",
      "metadata": {
        "trusted": true,
        "id": "PejTcolvClYD",
        "colab_type": "code",
        "colab": {}
      },
      "source": [
        "IMAGE_SIZE = 224 # Minimum image size for use with MobileNetV2\n",
        "BATCH_SIZE = 32\n",
        "train_data = train_data.map(_parse_fn)"
      ],
      "execution_count": null,
      "outputs": []
    },
    {
      "cell_type": "code",
      "metadata": {
        "trusted": true,
        "id": "L3eGFSx_ClYL",
        "colab_type": "code",
        "colab": {}
      },
      "source": [
        "for image, label in train_data.take(1):\n",
        "    print(\"Image shape: \", image.numpy().shape)\n",
        "    print(\"Label: \", label.numpy())"
      ],
      "execution_count": null,
      "outputs": []
    },
    {
      "cell_type": "code",
      "metadata": {
        "trusted": true,
        "id": "zuR-kd2xClYX",
        "colab_type": "code",
        "colab": {}
      },
      "source": [
        "def prepare_for_training(ds, cache=False, shuffle_buffer_size=1000):\n",
        "    # This is a small dataset, only load it once, and keep it in memory.\n",
        "    # use `.cache(filename)` to cache preprocessing work for datasets that don't\n",
        "    # fit in memory.\n",
        "    if cache:\n",
        "        if isinstance(cache, str):\n",
        "            ds = ds.cache(cache)\n",
        "        else:\n",
        "            ds = ds.cache()\n",
        "    ds = ds.shuffle(buffer_size=shuffle_buffer_size)\n",
        "\n",
        "    # Repeat forever\n",
        "    #ds = ds.repeat()\n",
        "\n",
        "    ds = ds.batch(BATCH_SIZE)\n",
        "\n",
        "    # `prefetch` lets the dataset fetch batches in the background while the model\n",
        "    # is training.\n",
        "    ds = ds.prefetch(buffer_size=AUTOTUNE)\n",
        "\n",
        "    return ds"
      ],
      "execution_count": null,
      "outputs": []
    },
    {
      "cell_type": "code",
      "metadata": {
        "trusted": true,
        "id": "8eOp29FPClYe",
        "colab_type": "code",
        "colab": {}
      },
      "source": [
        "train_ds_batched = prepare_for_training(train_data)"
      ],
      "execution_count": null,
      "outputs": []
    },
    {
      "cell_type": "code",
      "metadata": {
        "trusted": true,
        "id": "8fTB86dMClYl",
        "colab_type": "code",
        "colab": {}
      },
      "source": [
        "for image, label in train_data.take(1):\n",
        "    print(\"Image shape: \", image.numpy().shape)\n",
        "    print(\"Label: \", label.numpy())"
      ],
      "execution_count": null,
      "outputs": []
    },
    {
      "cell_type": "code",
      "metadata": {
        "trusted": true,
        "id": "rSvecxoQClYr",
        "colab_type": "code",
        "colab": {}
      },
      "source": [
        "next(iter(train_ds_batched))"
      ],
      "execution_count": null,
      "outputs": []
    },
    {
      "cell_type": "markdown",
      "metadata": {
        "id": "964jxRd5ClYw",
        "colab_type": "text"
      },
      "source": [
        "# Model"
      ]
    },
    {
      "cell_type": "code",
      "metadata": {
        "trusted": true,
        "id": "gwMoJkE1ClYx",
        "colab_type": "code",
        "colab": {}
      },
      "source": [
        "from tensorflow.keras.models import Sequential\n",
        "from tensorflow.keras.layers import Dense, Conv2D, Flatten, Dropout, MaxPooling2D\n",
        "from tensorflow.keras.optimizers import Adam"
      ],
      "execution_count": null,
      "outputs": []
    },
    {
      "cell_type": "code",
      "metadata": {
        "trusted": true,
        "id": "W6X6-rJ9ClY3",
        "colab_type": "code",
        "colab": {}
      },
      "source": [
        "METRICS = [\n",
        "      #tf.keras.metrics.TruePositives(name='tp'),\n",
        "      #tf.keras.metrics.FalsePositives(name='fp'),\n",
        "      #tf.keras.metrics.TrueNegatives(name='tn'),\n",
        "      #tf.keras.metrics.FalseNegatives(name='fn'), \n",
        "      tf.keras.metrics.BinaryAccuracy(name='accuracy'),\n",
        "      #tf.keras.metrics.Precision(name='precision'),\n",
        "      #tf.keras.metrics.Recall(name='recall'),\n",
        "      tf.keras.metrics.AUC(name='auc'),\n",
        "]"
      ],
      "execution_count": null,
      "outputs": []
    },
    {
      "cell_type": "markdown",
      "metadata": {
        "id": "5BAztDz8C15G",
        "colab_type": "text"
      },
      "source": [
        "**Basic Model to check that the pipeline works**"
      ]
    },
    {
      "cell_type": "code",
      "metadata": {
        "trusted": true,
        "id": "anUu8YlNClY-",
        "colab_type": "code",
        "colab": {}
      },
      "source": [
        "model = Sequential([\n",
        "    Conv2D(16, 3, padding='same', activation='relu', input_shape=(224, 224 ,3)),\n",
        "    MaxPooling2D(),\n",
        "    Conv2D(32, 3, padding='same', activation='relu'),\n",
        "    MaxPooling2D(),\n",
        "    Conv2D(64, 3, padding='same', activation='relu'),\n",
        "    MaxPooling2D(),\n",
        "    Flatten(),\n",
        "    Dense(512, activation='relu'),\n",
        "    Dense(1)\n",
        "])\n",
        "\n",
        "model.summary()"
      ],
      "execution_count": null,
      "outputs": []
    },
    {
      "cell_type": "code",
      "metadata": {
        "trusted": true,
        "id": "BeTjZAIJClZF",
        "colab_type": "code",
        "colab": {}
      },
      "source": [
        "class_weight = {0: 1.,\n",
        "                1: 1.}"
      ],
      "execution_count": null,
      "outputs": []
    },
    {
      "cell_type": "code",
      "metadata": {
        "trusted": true,
        "id": "LZTBv7_YClZO",
        "colab_type": "code",
        "colab": {}
      },
      "source": [
        "# Compile the model\n",
        "model.compile(optimizer=tf.keras.optimizers.Adam(learning_rate=0.001), \n",
        "              loss='binary_crossentropy',\n",
        "              metrics=[tf.keras.metrics.Accuracy()])"
      ],
      "execution_count": null,
      "outputs": []
    },
    {
      "cell_type": "code",
      "metadata": {
        "trusted": true,
        "id": "X1Zx2cPHClZV",
        "colab_type": "code",
        "colab": {}
      },
      "source": [
        "model.fit(train_ds_batched,\n",
        "          epochs=20,\n",
        "          class_weight=class_weight,\n",
        "          steps_per_epoch = 100)"
      ],
      "execution_count": null,
      "outputs": []
    },
    {
      "cell_type": "markdown",
      "metadata": {
        "id": "MDypv2VTDGkp",
        "colab_type": "text"
      },
      "source": [
        "**Model with training from scratch**"
      ]
    },
    {
      "cell_type": "code",
      "metadata": {
        "trusted": true,
        "id": "GJ6JmA3RClZd",
        "colab_type": "code",
        "colab": {}
      },
      "source": [
        "alt_model = Sequential()\n",
        "alt_model.add(Conv2D(32,3, activation='relu', input_shape=(224, 224 ,3)))\n",
        "alt_model.add(Dropout(0.5))\n",
        "alt_model.add(MaxPooling2D())\n",
        "alt_model.add(BatchNormalization())\n",
        "alt_model.add(Conv2D(64,3, activation='relu'))\n",
        "alt_model.add(Dropout(0.5))\n",
        "alt_model.add(MaxPooling2D())\n",
        "alt_model.add(BatchNormalization())\n",
        "alt_model.add(Conv2D(128,3,activation='relu'))\n",
        "alt_model.add(MaxPooling2D())\n",
        "alt_model.add(Flatten())\n",
        "alt_model.add(Dropout(0.5))\n",
        "alt_model.add(BatchNormalization())\n",
        "alt_model.add(Dense(512, activation='relu'))\n",
        "alt_model.add(Dense(1,activation='softmax'))\n",
        "\n",
        "alt_model.summary()"
      ],
      "execution_count": null,
      "outputs": []
    },
    {
      "cell_type": "code",
      "metadata": {
        "trusted": true,
        "id": "9ASlnBvDClZm",
        "colab_type": "code",
        "colab": {}
      },
      "source": [
        "# Compile the model\n",
        "alt_model.compile(optimizer=tf.keras.optimizers.Adam(learning_rate=0.001), \n",
        "              loss='binary_crossentropy',\n",
        "              metrics=['accuracy'])"
      ],
      "execution_count": null,
      "outputs": []
    },
    {
      "cell_type": "code",
      "metadata": {
        "trusted": true,
        "id": "R6jgi5q_ClZs",
        "colab_type": "code",
        "colab": {}
      },
      "source": [
        "alt_model.fit(train_ds_batched,\n",
        "          epochs=10,\n",
        "          class_weight=class_weight,\n",
        "          steps_per_epoch = 20)"
      ],
      "execution_count": null,
      "outputs": []
    },
    {
      "cell_type": "markdown",
      "metadata": {
        "id": "UUqO_O7gDPK3",
        "colab_type": "text"
      },
      "source": [
        "**Using Pretrained ImageNet**"
      ]
    },
    {
      "cell_type": "code",
      "metadata": {
        "trusted": true,
        "id": "Sq08qcFoClZy",
        "colab_type": "code",
        "colab": {}
      },
      "source": [
        "IMAGE_SIZE = 224\n",
        "IMG_SHAPE = (IMAGE_SIZE, IMAGE_SIZE, 3)\n",
        "# Pre-trained model with MobileNetV2\n",
        "base_model = tf.keras.applications.MobileNetV2(\n",
        "    input_shape=IMG_SHAPE,\n",
        "    include_top=False,\n",
        "    weights='imagenet'\n",
        ")\n",
        "# Freeze the pre-trained model weights\n",
        "base_model.trainable = True\n",
        "# Trainable classification head\n",
        "maxpool_layer = tf.keras.layers.GlobalMaxPooling2D()\n",
        "prediction_layer = tf.keras.layers.Dense(1, activation='sigmoid')\n",
        "# Layer classification head with feature detector\n",
        "model_mobileNet = tf.keras.Sequential([\n",
        "    base_model,\n",
        "    maxpool_layer,\n",
        "    prediction_layer\n",
        "])\n",
        "\n",
        "\n",
        "model_mobileNet.summary()"
      ],
      "execution_count": null,
      "outputs": []
    },
    {
      "cell_type": "code",
      "metadata": {
        "trusted": true,
        "id": "UaP7puN3ClZ3",
        "colab_type": "code",
        "colab": {}
      },
      "source": [
        "learning_rate = 0.0005\n",
        "model_mobileNet.compile(optimizer=tf.keras.optimizers.Adam(lr=learning_rate), \n",
        "              loss='binary_crossentropy',\n",
        "              metrics=METRICS\n",
        ")"
      ],
      "execution_count": null,
      "outputs": []
    },
    {
      "cell_type": "code",
      "metadata": {
        "trusted": true,
        "id": "FzdzYWFjClZ9",
        "colab_type": "code",
        "colab": {}
      },
      "source": [
        "model_mobileNet.fit(train_ds_batched,\n",
        "          epochs=5,\n",
        "          steps_per_epoch = 50)"
      ],
      "execution_count": null,
      "outputs": []
    },
    {
      "cell_type": "markdown",
      "metadata": {
        "id": "rtF6XVEHClaC",
        "colab_type": "text"
      },
      "source": [
        "Models while using GPU (using the base model to check that everything runs)"
      ]
    },
    {
      "cell_type": "code",
      "metadata": {
        "trusted": true,
        "id": "3CMokI0PClaD",
        "colab_type": "code",
        "colab": {}
      },
      "source": [
        "with strategy.scope():\n",
        "    #Using pretrained ImageNet\n",
        "    IMAGE_SIZE = 224\n",
        "    IMG_SHAPE = (IMAGE_SIZE, IMAGE_SIZE, 3)\n",
        "    # Pre-trained model with MobileNetV2\n",
        "    base_model = tf.keras.applications.MobileNetV2(\n",
        "        input_shape=IMG_SHAPE,\n",
        "        include_top=False,\n",
        "        weights='imagenet'\n",
        "    )\n",
        "    # Freeze the pre-trained model weights\n",
        "    base_model.trainable = True\n",
        "    # Trainable classification head\n",
        "    maxpool_layer = tf.keras.layers.GlobalMaxPooling2D()\n",
        "    prediction_layer = tf.keras.layers.Dense(1, activation='sigmoid')\n",
        "    # Layer classification head with feature detector\n",
        "    model_mobileNet = tf.keras.Sequential([\n",
        "        base_model,\n",
        "        maxpool_layer,\n",
        "        prediction_layer\n",
        "    ])\n",
        "    \n",
        "    # Compile the model\n",
        "    base_model.compile(optimizer=tf.keras.optimizers.Adam(learning_rate=0.001), \n",
        "              loss='binary_crossentropy',\n",
        "              metrics=['accuracy'])\n",
        "\n",
        "base_model.summary()"
      ],
      "execution_count": null,
      "outputs": []
    }
  ]
}