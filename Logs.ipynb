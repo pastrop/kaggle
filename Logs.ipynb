{
  "nbformat": 4,
  "nbformat_minor": 0,
  "metadata": {
    "colab": {
      "name": "Logs.ipynb",
      "provenance": [],
      "authorship_tag": "ABX9TyNr4A+FE99HoqqjI+L4cS93",
      "include_colab_link": true
    },
    "kernelspec": {
      "name": "python3",
      "display_name": "Python 3"
    }
  },
  "cells": [
    {
      "cell_type": "markdown",
      "metadata": {
        "id": "view-in-github",
        "colab_type": "text"
      },
      "source": [
        "<a href=\"https://colab.research.google.com/github/pastrop/kaggle/blob/master/Logs.ipynb\" target=\"_parent\"><img src=\"https://colab.research.google.com/assets/colab-badge.svg\" alt=\"Open In Colab\"/></a>"
      ]
    },
    {
      "cell_type": "code",
      "metadata": {
        "id": "gQJgXhmdYO9C"
      },
      "source": [
        "import json\n",
        "import math\n",
        "from sklearn.feature_extraction.text import HashingVectorizer"
      ],
      "execution_count": 1,
      "outputs": []
    },
    {
      "cell_type": "code",
      "metadata": {
        "colab": {
          "resources": {
            "http://localhost:8080/nbextensions/google.colab/files.js": {
              "data": "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",
              "ok": true,
              "headers": [
                [
                  "content-type",
                  "application/javascript"
                ]
              ],
              "status": 200,
              "status_text": ""
            }
          },
          "base_uri": "https://localhost:8080/",
          "height": 72
        },
        "id": "_jrQecogYHSP",
        "outputId": "9f1615b1-7f79-4094-8207-12279ded70f4"
      },
      "source": [
        "# file upload while using Google Colab\n",
        "from google.colab import files\n",
        "uploaded = files.upload()"
      ],
      "execution_count": 3,
      "outputs": [
        {
          "output_type": "display_data",
          "data": {
            "text/html": [
              "\n",
              "     <input type=\"file\" id=\"files-1dc406eb-dee2-4a0d-ae59-b1ec554e494b\" name=\"files[]\" multiple disabled\n",
              "        style=\"border:none\" />\n",
              "     <output id=\"result-1dc406eb-dee2-4a0d-ae59-b1ec554e494b\">\n",
              "      Upload widget is only available when the cell has been executed in the\n",
              "      current browser session. Please rerun this cell to enable.\n",
              "      </output>\n",
              "      <script src=\"/nbextensions/google.colab/files.js\"></script> "
            ],
            "text/plain": [
              "<IPython.core.display.HTML object>"
            ]
          },
          "metadata": {
            "tags": []
          }
        },
        {
          "output_type": "stream",
          "text": [
            "Saving event_example.txt to event_example.txt\n"
          ],
          "name": "stdout"
        }
      ]
    },
    {
      "cell_type": "code",
      "metadata": {
        "colab": {
          "base_uri": "https://localhost:8080/"
        },
        "id": "K4C6ratnXvCJ",
        "outputId": "8748b3f5-ba34-490d-b753-5f0a76496823"
      },
      "source": [
        "!unzip events.zip"
      ],
      "execution_count": null,
      "outputs": [
        {
          "output_type": "stream",
          "text": [
            "Archive:  events.zip\n",
            "  inflating: events.jsonl            \n"
          ],
          "name": "stdout"
        }
      ]
    },
    {
      "cell_type": "code",
      "metadata": {
        "id": "_o-QrZ8pYQ_r"
      },
      "source": [
        "data = []\n",
        "with open('event_example.txt') as json_file: \n",
        "  for item in json_file:\n",
        "    data.append(json.dumps(item))"
      ],
      "execution_count": 4,
      "outputs": []
    },
    {
      "cell_type": "code",
      "metadata": {
        "id": "XOVXl1LEREss"
      },
      "source": [
        "test = json.loads(data[0])"
      ],
      "execution_count": 5,
      "outputs": []
    },
    {
      "cell_type": "code",
      "metadata": {
        "colab": {
          "base_uri": "https://localhost:8080/"
        },
        "id": "lrxilOqRRxa2",
        "outputId": "e8da5ad2-497b-4417-b366-8b442e1e61c3"
      },
      "source": [
        "example = json.loads(test); example['actorProcess']['backingFile']"
      ],
      "execution_count": 6,
      "outputs": [
        {
          "output_type": "execute_result",
          "data": {
            "text/plain": [
              "{'attributes': 32,\n",
              " 'eid': 'eid://file:1775327444',\n",
              " 'hashes': {'md5': '4c66f09586e44b8b150a262cea150c74'},\n",
              " 'path': {'basename': 'Code',\n",
              "  'dir': '\\\\Program Files\\\\Microsoft VS Code\\\\',\n",
              "  'drive': 'C:',\n",
              "  'ext': '.exe',\n",
              "  'full': 'C:\\\\Program Files\\\\Microsoft VS Code\\\\Code.exe'},\n",
              " 'resources': {'company': 'Microsoft Corporatio',\n",
              "  'description': 'Visual Studio Code',\n",
              "  'originalFileName': 'electron.exe',\n",
              "  'version': '1.45.1.0'},\n",
              " 'size': 100484992,\n",
              " 'times': {'change': 1590427535586537,\n",
              "  'create': 1590427526462693,\n",
              "  'read': 1590427530077907,\n",
              "  'write': 1589445564000000}}"
            ]
          },
          "metadata": {
            "tags": []
          },
          "execution_count": 6
        }
      ]
    },
    {
      "cell_type": "code",
      "metadata": {
        "colab": {
          "base_uri": "https://localhost:8080/",
          "height": 35
        },
        "id": "fCLAit7ONbQ9",
        "outputId": "7fcaa876-4539-4ff8-c11f-0d4ff68d73eb"
      },
      "source": [
        "str(round(math.log(example['actorProcess']['backingFile']['size'],2)))"
      ],
      "execution_count": null,
      "outputs": [
        {
          "output_type": "execute_result",
          "data": {
            "application/vnd.google.colaboratory.intrinsic+json": {
              "type": "string"
            },
            "text/plain": [
              "'27'"
            ]
          },
          "metadata": {
            "tags": []
          },
          "execution_count": 25
        }
      ]
    },
    {
      "cell_type": "code",
      "metadata": {
        "colab": {
          "base_uri": "https://localhost:8080/"
        },
        "id": "C4ZJ_eNubKyS",
        "outputId": "5d68ac96-67b8-4cbb-d5a6-32023d193e68"
      },
      "source": [
        "example"
      ],
      "execution_count": 7,
      "outputs": [
        {
          "output_type": "execute_result",
          "data": {
            "text/plain": [
              "{'actorProcess': {'backingFile': {'attributes': 32,\n",
              "   'eid': 'eid://file:1775327444',\n",
              "   'hashes': {'md5': '4c66f09586e44b8b150a262cea150c74'},\n",
              "   'path': {'basename': 'Code',\n",
              "    'dir': '\\\\Program Files\\\\Microsoft VS Code\\\\',\n",
              "    'drive': 'C:',\n",
              "    'ext': '.exe',\n",
              "    'full': 'C:\\\\Program Files\\\\Microsoft VS Code\\\\Code.exe'},\n",
              "   'resources': {'company': 'Microsoft Corporatio',\n",
              "    'description': 'Visual Studio Code',\n",
              "    'originalFileName': 'electron.exe',\n",
              "    'version': '1.45.1.0'},\n",
              "   'size': 100484992,\n",
              "   'times': {'change': 1590427535586537,\n",
              "    'create': 1590427526462693,\n",
              "    'read': 1590427530077907,\n",
              "    'write': 1589445564000000}},\n",
              "  'bitness': 64,\n",
              "  'commandLine': '\"C:\\\\Program Files\\\\Microsoft VS Code\\\\Code.exe\" --type=renderer --disable-color-correct-rendering --field-trial-handle=1876,16548434252086067677,4593684243205720682,131072 --disable-features=LayoutNG,PictureInPicture,SpareRendererForSitePerProcess --lang=en-US --standard-schemes --secure-schemes=vscode-resource --bypasscsp-schemes --cors-schemes=vscode-resource --fetch-schemes=vscode-resource --service-worker-schemes --app-user-model-id=Microsoft.VisualStudioCode --app-path=\"C:\\\\Program Files\\\\Microsoft VS Code\\\\resources\\\\app\" --node-integration --webview-tag --no-sandbox --no-zygote --background-color=#1e1e1e --device-scale-factor=2.5 --num-raster-threads=1 --service-request-channel-token=15453005767426223723 --renderer-client-id=5 --no-v8-untrusted-code-mitigations --mojo-platform-channel-handle=2424 /prefetch:1',\n",
              "  'createTime': 1614695201842160,\n",
              "  'domain': 'EC2AMAZ-4H286EV',\n",
              "  'eid': 'eid://process:621435357',\n",
              "  'pid': 4240,\n",
              "  'policies': {'alr': 1,\n",
              "   'binarySignature': 0,\n",
              "   'dep': 1,\n",
              "   'prohibitDynamicCode': 0},\n",
              "  'ppid': 6492,\n",
              "  'user': 'Administrator'},\n",
              " 'agent_name': 'Demo1',\n",
              " 'file': {'attributes': 32,\n",
              "  'eid': 'eid://file:3119903075',\n",
              "  'path': {'basename': 'rapid_render',\n",
              "   'dir': '\\\\Users\\\\Administrator\\\\AppData\\\\Roaming\\\\Code\\\\',\n",
              "   'drive': 'C:',\n",
              "   'ext': '.json',\n",
              "   'full': 'C:\\\\Users\\\\Administrator\\\\AppData\\\\Roaming\\\\Code\\\\rapid_render.json'},\n",
              "  'size': 445,\n",
              "  'times': {'change': 1612521451257222,\n",
              "   'create': 1612521444332550,\n",
              "   'read': 1612521451257222,\n",
              "   'write': 1612521451257222}},\n",
              " 'name': 'FileOpenForWriteEvent',\n",
              " 'uuid': 'a3dc2afa-32ea-555d-c0eb-f98cb56f6b96'}"
            ]
          },
          "metadata": {
            "tags": []
          },
          "execution_count": 7
        }
      ]
    },
    {
      "cell_type": "code",
      "metadata": {
        "id": "L0kC3BfmsGs4"
      },
      "source": [
        "# looping through nested dict:\n",
        "def dict_walk(d, out = []):\n",
        "  for k, v in d.items():\n",
        "    if isinstance(v, dict) and k not in ['times', 'eid', 'pid', 'ppid', 'bitness', 'size', 'attributes', 'policies']:\n",
        "      dict_walk(v,out)\n",
        "    else:\n",
        "      if k not in ['times', 'eid', 'pid', 'ppid', 'bitness', 'size', 'attributes','policies','createTime' ]:\n",
        "        print(\"{0} : {1}\".format(k, v))\n",
        "        out.append(v)\n",
        "  return out"
      ],
      "execution_count": 22,
      "outputs": []
    },
    {
      "cell_type": "code",
      "metadata": {
        "colab": {
          "base_uri": "https://localhost:8080/"
        },
        "id": "y90nt8Xt3eHA",
        "outputId": "48be6b46-340b-408d-85c2-f7ea733e4553"
      },
      "source": [
        "res = dict_walk(example)"
      ],
      "execution_count": 54,
      "outputs": [
        {
          "output_type": "stream",
          "text": [
            "md5 : 4c66f09586e44b8b150a262cea150c74\n",
            "basename : Code\n",
            "dir : \\Program Files\\Microsoft VS Code\\\n",
            "drive : C:\n",
            "ext : .exe\n",
            "full : C:\\Program Files\\Microsoft VS Code\\Code.exe\n",
            "company : Microsoft Corporatio\n",
            "description : Visual Studio Code\n",
            "originalFileName : electron.exe\n",
            "version : 1.45.1.0\n",
            "commandLine : \"C:\\Program Files\\Microsoft VS Code\\Code.exe\" --type=renderer --disable-color-correct-rendering --field-trial-handle=1876,16548434252086067677,4593684243205720682,131072 --disable-features=LayoutNG,PictureInPicture,SpareRendererForSitePerProcess --lang=en-US --standard-schemes --secure-schemes=vscode-resource --bypasscsp-schemes --cors-schemes=vscode-resource --fetch-schemes=vscode-resource --service-worker-schemes --app-user-model-id=Microsoft.VisualStudioCode --app-path=\"C:\\Program Files\\Microsoft VS Code\\resources\\app\" --node-integration --webview-tag --no-sandbox --no-zygote --background-color=#1e1e1e --device-scale-factor=2.5 --num-raster-threads=1 --service-request-channel-token=15453005767426223723 --renderer-client-id=5 --no-v8-untrusted-code-mitigations --mojo-platform-channel-handle=2424 /prefetch:1\n",
            "domain : EC2AMAZ-4H286EV\n",
            "user : Administrator\n",
            "agent_name : Demo1\n",
            "basename : rapid_render\n",
            "dir : \\Users\\Administrator\\AppData\\Roaming\\Code\\\n",
            "drive : C:\n",
            "ext : .json\n",
            "full : C:\\Users\\Administrator\\AppData\\Roaming\\Code\\rapid_render.json\n",
            "name : FileOpenForWriteEvent\n",
            "uuid : a3dc2afa-32ea-555d-c0eb-f98cb56f6b96\n"
          ],
          "name": "stdout"
        }
      ]
    },
    {
      "cell_type": "code",
      "metadata": {
        "colab": {
          "base_uri": "https://localhost:8080/",
          "height": 137
        },
        "id": "5K1B8yJU5ck2",
        "outputId": "cdbc6002-6d00-4fbe-d38f-5e4676091817"
      },
      "source": [
        "res = ' '.join(res); res"
      ],
      "execution_count": 55,
      "outputs": [
        {
          "output_type": "execute_result",
          "data": {
            "application/vnd.google.colaboratory.intrinsic+json": {
              "type": "string"
            },
            "text/plain": [
              "'4c66f09586e44b8b150a262cea150c74 Code \\\\Program Files\\\\Microsoft VS Code\\\\ C: .exe C:\\\\Program Files\\\\Microsoft VS Code\\\\Code.exe Microsoft Corporatio Visual Studio Code electron.exe 1.45.1.0 \"C:\\\\Program Files\\\\Microsoft VS Code\\\\Code.exe\" --type=renderer --disable-color-correct-rendering --field-trial-handle=1876,16548434252086067677,4593684243205720682,131072 --disable-features=LayoutNG,PictureInPicture,SpareRendererForSitePerProcess --lang=en-US --standard-schemes --secure-schemes=vscode-resource --bypasscsp-schemes --cors-schemes=vscode-resource --fetch-schemes=vscode-resource --service-worker-schemes --app-user-model-id=Microsoft.VisualStudioCode --app-path=\"C:\\\\Program Files\\\\Microsoft VS Code\\\\resources\\\\app\" --node-integration --webview-tag --no-sandbox --no-zygote --background-color=#1e1e1e --device-scale-factor=2.5 --num-raster-threads=1 --service-request-channel-token=15453005767426223723 --renderer-client-id=5 --no-v8-untrusted-code-mitigations --mojo-platform-channel-handle=2424 /prefetch:1 EC2AMAZ-4H286EV Administrator Demo1 rapid_render \\\\Users\\\\Administrator\\\\AppData\\\\Roaming\\\\Code\\\\ C: .json C:\\\\Users\\\\Administrator\\\\AppData\\\\Roaming\\\\Code\\\\rapid_render.json FileOpenForWriteEvent a3dc2afa-32ea-555d-c0eb-f98cb56f6b96 4c66f09586e44b8b150a262cea150c74 Code \\\\Program Files\\\\Microsoft VS Code\\\\ C: .exe C:\\\\Program Files\\\\Microsoft VS Code\\\\Code.exe Microsoft Corporatio Visual Studio Code electron.exe 1.45.1.0 \"C:\\\\Program Files\\\\Microsoft VS Code\\\\Code.exe\" --type=renderer --disable-color-correct-rendering --field-trial-handle=1876,16548434252086067677,4593684243205720682,131072 --disable-features=LayoutNG,PictureInPicture,SpareRendererForSitePerProcess --lang=en-US --standard-schemes --secure-schemes=vscode-resource --bypasscsp-schemes --cors-schemes=vscode-resource --fetch-schemes=vscode-resource --service-worker-schemes --app-user-model-id=Microsoft.VisualStudioCode --app-path=\"C:\\\\Program Files\\\\Microsoft VS Code\\\\resources\\\\app\" --node-integration --webview-tag --no-sandbox --no-zygote --background-color=#1e1e1e --device-scale-factor=2.5 --num-raster-threads=1 --service-request-channel-token=15453005767426223723 --renderer-client-id=5 --no-v8-untrusted-code-mitigations --mojo-platform-channel-handle=2424 /prefetch:1 EC2AMAZ-4H286EV Administrator Demo1 rapid_render \\\\Users\\\\Administrator\\\\AppData\\\\Roaming\\\\Code\\\\ C: .json C:\\\\Users\\\\Administrator\\\\AppData\\\\Roaming\\\\Code\\\\rapid_render.json FileOpenForWriteEvent a3dc2afa-32ea-555d-c0eb-f98cb56f6b96 4c66f09586e44b8b150a262cea150c74 Code \\\\Program Files\\\\Microsoft VS Code\\\\ C: .exe C:\\\\Program Files\\\\Microsoft VS Code\\\\Code.exe Microsoft Corporatio Visual Studio Code electron.exe 1.45.1.0 \"C:\\\\Program Files\\\\Microsoft VS Code\\\\Code.exe\" --type=renderer --disable-color-correct-rendering --field-trial-handle=1876,16548434252086067677,4593684243205720682,131072 --disable-features=LayoutNG,PictureInPicture,SpareRendererForSitePerProcess --lang=en-US --standard-schemes --secure-schemes=vscode-resource --bypasscsp-schemes --cors-schemes=vscode-resource --fetch-schemes=vscode-resource --service-worker-schemes --app-user-model-id=Microsoft.VisualStudioCode --app-path=\"C:\\\\Program Files\\\\Microsoft VS Code\\\\resources\\\\app\" --node-integration --webview-tag --no-sandbox --no-zygote --background-color=#1e1e1e --device-scale-factor=2.5 --num-raster-threads=1 --service-request-channel-token=15453005767426223723 --renderer-client-id=5 --no-v8-untrusted-code-mitigations --mojo-platform-channel-handle=2424 /prefetch:1 EC2AMAZ-4H286EV Administrator Demo1 rapid_render \\\\Users\\\\Administrator\\\\AppData\\\\Roaming\\\\Code\\\\ C: .json C:\\\\Users\\\\Administrator\\\\AppData\\\\Roaming\\\\Code\\\\rapid_render.json FileOpenForWriteEvent a3dc2afa-32ea-555d-c0eb-f98cb56f6b96 4c66f09586e44b8b150a262cea150c74 Code \\\\Program Files\\\\Microsoft VS Code\\\\ C: .exe C:\\\\Program Files\\\\Microsoft VS Code\\\\Code.exe Microsoft Corporatio Visual Studio Code electron.exe 1.45.1.0 \"C:\\\\Program Files\\\\Microsoft VS Code\\\\Code.exe\" --type=renderer --disable-color-correct-rendering --field-trial-handle=1876,16548434252086067677,4593684243205720682,131072 --disable-features=LayoutNG,PictureInPicture,SpareRendererForSitePerProcess --lang=en-US --standard-schemes --secure-schemes=vscode-resource --bypasscsp-schemes --cors-schemes=vscode-resource --fetch-schemes=vscode-resource --service-worker-schemes --app-user-model-id=Microsoft.VisualStudioCode --app-path=\"C:\\\\Program Files\\\\Microsoft VS Code\\\\resources\\\\app\" --node-integration --webview-tag --no-sandbox --no-zygote --background-color=#1e1e1e --device-scale-factor=2.5 --num-raster-threads=1 --service-request-channel-token=15453005767426223723 --renderer-client-id=5 --no-v8-untrusted-code-mitigations --mojo-platform-channel-handle=2424 /prefetch:1 EC2AMAZ-4H286EV Administrator Demo1 rapid_render \\\\Users\\\\Administrator\\\\AppData\\\\Roaming\\\\Code\\\\ C: .json C:\\\\Users\\\\Administrator\\\\AppData\\\\Roaming\\\\Code\\\\rapid_render.json FileOpenForWriteEvent a3dc2afa-32ea-555d-c0eb-f98cb56f6b96 4c66f09586e44b8b150a262cea150c74 Code \\\\Program Files\\\\Microsoft VS Code\\\\ C: .exe C:\\\\Program Files\\\\Microsoft VS Code\\\\Code.exe Microsoft Corporatio Visual Studio Code electron.exe 1.45.1.0 \"C:\\\\Program Files\\\\Microsoft VS Code\\\\Code.exe\" --type=renderer --disable-color-correct-rendering --field-trial-handle=1876,16548434252086067677,4593684243205720682,131072 --disable-features=LayoutNG,PictureInPicture,SpareRendererForSitePerProcess --lang=en-US --standard-schemes --secure-schemes=vscode-resource --bypasscsp-schemes --cors-schemes=vscode-resource --fetch-schemes=vscode-resource --service-worker-schemes --app-user-model-id=Microsoft.VisualStudioCode --app-path=\"C:\\\\Program Files\\\\Microsoft VS Code\\\\resources\\\\app\" --node-integration --webview-tag --no-sandbox --no-zygote --background-color=#1e1e1e --device-scale-factor=2.5 --num-raster-threads=1 --service-request-channel-token=15453005767426223723 --renderer-client-id=5 --no-v8-untrusted-code-mitigations --mojo-platform-channel-handle=2424 /prefetch:1 EC2AMAZ-4H286EV Administrator Demo1 rapid_render \\\\Users\\\\Administrator\\\\AppData\\\\Roaming\\\\Code\\\\ C: .json C:\\\\Users\\\\Administrator\\\\AppData\\\\Roaming\\\\Code\\\\rapid_render.json FileOpenForWriteEvent a3dc2afa-32ea-555d-c0eb-f98cb56f6b96 4c66f09586e44b8b150a262cea150c74 Code \\\\Program Files\\\\Microsoft VS Code\\\\ C: .exe C:\\\\Program Files\\\\Microsoft VS Code\\\\Code.exe Microsoft Corporatio Visual Studio Code electron.exe 1.45.1.0 \"C:\\\\Program Files\\\\Microsoft VS Code\\\\Code.exe\" --type=renderer --disable-color-correct-rendering --field-trial-handle=1876,16548434252086067677,4593684243205720682,131072 --disable-features=LayoutNG,PictureInPicture,SpareRendererForSitePerProcess --lang=en-US --standard-schemes --secure-schemes=vscode-resource --bypasscsp-schemes --cors-schemes=vscode-resource --fetch-schemes=vscode-resource --service-worker-schemes --app-user-model-id=Microsoft.VisualStudioCode --app-path=\"C:\\\\Program Files\\\\Microsoft VS Code\\\\resources\\\\app\" --node-integration --webview-tag --no-sandbox --no-zygote --background-color=#1e1e1e --device-scale-factor=2.5 --num-raster-threads=1 --service-request-channel-token=15453005767426223723 --renderer-client-id=5 --no-v8-untrusted-code-mitigations --mojo-platform-channel-handle=2424 /prefetch:1 EC2AMAZ-4H286EV Administrator Demo1 rapid_render \\\\Users\\\\Administrator\\\\AppData\\\\Roaming\\\\Code\\\\ C: .json C:\\\\Users\\\\Administrator\\\\AppData\\\\Roaming\\\\Code\\\\rapid_render.json FileOpenForWriteEvent a3dc2afa-32ea-555d-c0eb-f98cb56f6b96'"
            ]
          },
          "metadata": {
            "tags": []
          },
          "execution_count": 55
        }
      ]
    },
    {
      "cell_type": "code",
      "metadata": {
        "id": "UsYMqh7w9AeW"
      },
      "source": [
        "bad_chars = ['.', ':', '\\\\', '\\'','-','--', '\"']"
      ],
      "execution_count": 56,
      "outputs": []
    },
    {
      "cell_type": "code",
      "metadata": {
        "colab": {
          "base_uri": "https://localhost:8080/",
          "height": 137
        },
        "id": "7g_GR01u35hg",
        "outputId": "02b90757-cfbb-4509-9bd6-c0378fa64b28"
      },
      "source": [
        "for item in bad_chars:\n",
        "  res = res.replace(item, '')\n",
        "res"
      ],
      "execution_count": 57,
      "outputs": [
        {
          "output_type": "execute_result",
          "data": {
            "application/vnd.google.colaboratory.intrinsic+json": {
              "type": "string"
            },
            "text/plain": [
              "'4c66f09586e44b8b150a262cea150c74 Code Program FilesMicrosoft VS Code C exe CProgram FilesMicrosoft VS CodeCodeexe Microsoft Corporatio Visual Studio Code electronexe 14510 CProgram FilesMicrosoft VS CodeCodeexe type=renderer disablecolorcorrectrendering fieldtrialhandle=1876,16548434252086067677,4593684243205720682,131072 disablefeatures=LayoutNG,PictureInPicture,SpareRendererForSitePerProcess lang=enUS standardschemes secureschemes=vscoderesource bypasscspschemes corsschemes=vscoderesource fetchschemes=vscoderesource serviceworkerschemes appusermodelid=MicrosoftVisualStudioCode apppath=CProgram FilesMicrosoft VS Coderesourcesapp nodeintegration webviewtag nosandbox nozygote backgroundcolor=#1e1e1e devicescalefactor=25 numrasterthreads=1 servicerequestchanneltoken=15453005767426223723 rendererclientid=5 nov8untrustedcodemitigations mojoplatformchannelhandle=2424 /prefetch1 EC2AMAZ4H286EV Administrator Demo1 rapid_render UsersAdministratorAppDataRoamingCode C json CUsersAdministratorAppDataRoamingCoderapid_renderjson FileOpenForWriteEvent a3dc2afa32ea555dc0ebf98cb56f6b96 4c66f09586e44b8b150a262cea150c74 Code Program FilesMicrosoft VS Code C exe CProgram FilesMicrosoft VS CodeCodeexe Microsoft Corporatio Visual Studio Code electronexe 14510 CProgram FilesMicrosoft VS CodeCodeexe type=renderer disablecolorcorrectrendering fieldtrialhandle=1876,16548434252086067677,4593684243205720682,131072 disablefeatures=LayoutNG,PictureInPicture,SpareRendererForSitePerProcess lang=enUS standardschemes secureschemes=vscoderesource bypasscspschemes corsschemes=vscoderesource fetchschemes=vscoderesource serviceworkerschemes appusermodelid=MicrosoftVisualStudioCode apppath=CProgram FilesMicrosoft VS Coderesourcesapp nodeintegration webviewtag nosandbox nozygote backgroundcolor=#1e1e1e devicescalefactor=25 numrasterthreads=1 servicerequestchanneltoken=15453005767426223723 rendererclientid=5 nov8untrustedcodemitigations mojoplatformchannelhandle=2424 /prefetch1 EC2AMAZ4H286EV Administrator Demo1 rapid_render UsersAdministratorAppDataRoamingCode C json CUsersAdministratorAppDataRoamingCoderapid_renderjson FileOpenForWriteEvent a3dc2afa32ea555dc0ebf98cb56f6b96 4c66f09586e44b8b150a262cea150c74 Code Program FilesMicrosoft VS Code C exe CProgram FilesMicrosoft VS CodeCodeexe Microsoft Corporatio Visual Studio Code electronexe 14510 CProgram FilesMicrosoft VS CodeCodeexe type=renderer disablecolorcorrectrendering fieldtrialhandle=1876,16548434252086067677,4593684243205720682,131072 disablefeatures=LayoutNG,PictureInPicture,SpareRendererForSitePerProcess lang=enUS standardschemes secureschemes=vscoderesource bypasscspschemes corsschemes=vscoderesource fetchschemes=vscoderesource serviceworkerschemes appusermodelid=MicrosoftVisualStudioCode apppath=CProgram FilesMicrosoft VS Coderesourcesapp nodeintegration webviewtag nosandbox nozygote backgroundcolor=#1e1e1e devicescalefactor=25 numrasterthreads=1 servicerequestchanneltoken=15453005767426223723 rendererclientid=5 nov8untrustedcodemitigations mojoplatformchannelhandle=2424 /prefetch1 EC2AMAZ4H286EV Administrator Demo1 rapid_render UsersAdministratorAppDataRoamingCode C json CUsersAdministratorAppDataRoamingCoderapid_renderjson FileOpenForWriteEvent a3dc2afa32ea555dc0ebf98cb56f6b96 4c66f09586e44b8b150a262cea150c74 Code Program FilesMicrosoft VS Code C exe CProgram FilesMicrosoft VS CodeCodeexe Microsoft Corporatio Visual Studio Code electronexe 14510 CProgram FilesMicrosoft VS CodeCodeexe type=renderer disablecolorcorrectrendering fieldtrialhandle=1876,16548434252086067677,4593684243205720682,131072 disablefeatures=LayoutNG,PictureInPicture,SpareRendererForSitePerProcess lang=enUS standardschemes secureschemes=vscoderesource bypasscspschemes corsschemes=vscoderesource fetchschemes=vscoderesource serviceworkerschemes appusermodelid=MicrosoftVisualStudioCode apppath=CProgram FilesMicrosoft VS Coderesourcesapp nodeintegration webviewtag nosandbox nozygote backgroundcolor=#1e1e1e devicescalefactor=25 numrasterthreads=1 servicerequestchanneltoken=15453005767426223723 rendererclientid=5 nov8untrustedcodemitigations mojoplatformchannelhandle=2424 /prefetch1 EC2AMAZ4H286EV Administrator Demo1 rapid_render UsersAdministratorAppDataRoamingCode C json CUsersAdministratorAppDataRoamingCoderapid_renderjson FileOpenForWriteEvent a3dc2afa32ea555dc0ebf98cb56f6b96 4c66f09586e44b8b150a262cea150c74 Code Program FilesMicrosoft VS Code C exe CProgram FilesMicrosoft VS CodeCodeexe Microsoft Corporatio Visual Studio Code electronexe 14510 CProgram FilesMicrosoft VS CodeCodeexe type=renderer disablecolorcorrectrendering fieldtrialhandle=1876,16548434252086067677,4593684243205720682,131072 disablefeatures=LayoutNG,PictureInPicture,SpareRendererForSitePerProcess lang=enUS standardschemes secureschemes=vscoderesource bypasscspschemes corsschemes=vscoderesource fetchschemes=vscoderesource serviceworkerschemes appusermodelid=MicrosoftVisualStudioCode apppath=CProgram FilesMicrosoft VS Coderesourcesapp nodeintegration webviewtag nosandbox nozygote backgroundcolor=#1e1e1e devicescalefactor=25 numrasterthreads=1 servicerequestchanneltoken=15453005767426223723 rendererclientid=5 nov8untrustedcodemitigations mojoplatformchannelhandle=2424 /prefetch1 EC2AMAZ4H286EV Administrator Demo1 rapid_render UsersAdministratorAppDataRoamingCode C json CUsersAdministratorAppDataRoamingCoderapid_renderjson FileOpenForWriteEvent a3dc2afa32ea555dc0ebf98cb56f6b96 4c66f09586e44b8b150a262cea150c74 Code Program FilesMicrosoft VS Code C exe CProgram FilesMicrosoft VS CodeCodeexe Microsoft Corporatio Visual Studio Code electronexe 14510 CProgram FilesMicrosoft VS CodeCodeexe type=renderer disablecolorcorrectrendering fieldtrialhandle=1876,16548434252086067677,4593684243205720682,131072 disablefeatures=LayoutNG,PictureInPicture,SpareRendererForSitePerProcess lang=enUS standardschemes secureschemes=vscoderesource bypasscspschemes corsschemes=vscoderesource fetchschemes=vscoderesource serviceworkerschemes appusermodelid=MicrosoftVisualStudioCode apppath=CProgram FilesMicrosoft VS Coderesourcesapp nodeintegration webviewtag nosandbox nozygote backgroundcolor=#1e1e1e devicescalefactor=25 numrasterthreads=1 servicerequestchanneltoken=15453005767426223723 rendererclientid=5 nov8untrustedcodemitigations mojoplatformchannelhandle=2424 /prefetch1 EC2AMAZ4H286EV Administrator Demo1 rapid_render UsersAdministratorAppDataRoamingCode C json CUsersAdministratorAppDataRoamingCoderapid_renderjson FileOpenForWriteEvent a3dc2afa32ea555dc0ebf98cb56f6b96'"
            ]
          },
          "metadata": {
            "tags": []
          },
          "execution_count": 57
        }
      ]
    },
    {
      "cell_type": "code",
      "metadata": {
        "id": "P-GgtBJt3Bkq"
      },
      "source": [
        "# list of text documents\n",
        "text = res\n",
        "# create the transform\n",
        "vectorizer = HashingVectorizer(n_features=20)\n",
        "# encode document\n",
        "vector = vectorizer.transform(text)\n",
        "# summarize encoded vector\n",
        "print(vector.shape)\n",
        "print(vector.toarray())"
      ],
      "execution_count": null,
      "outputs": []
    },
    {
      "cell_type": "code",
      "metadata": {
        "colab": {
          "base_uri": "https://localhost:8080/"
        },
        "id": "Jodpie25Yl-g",
        "outputId": "f1fddc3c-c773-4166-d689-7f56da53dc0a"
      },
      "source": [
        "test = data[0].replace('\\\\', ' '); type(test)"
      ],
      "execution_count": null,
      "outputs": [
        {
          "output_type": "execute_result",
          "data": {
            "text/plain": [
              "str"
            ]
          },
          "metadata": {
            "tags": []
          },
          "execution_count": 32
        }
      ]
    },
    {
      "cell_type": "code",
      "metadata": {
        "colab": {
          "base_uri": "https://localhost:8080/"
        },
        "id": "mjXU3EdPYlq_",
        "outputId": "dd0765c5-37ac-443c-8726-8a039ff2f3ed"
      },
      "source": [
        "example['actorProcess']['backingFile']['times']"
      ],
      "execution_count": null,
      "outputs": [
        {
          "output_type": "execute_result",
          "data": {
            "text/plain": [
              "{'change': 1590427535586537,\n",
              " 'create': 1590427526462693,\n",
              " 'read': 1590427530077907,\n",
              " 'write': 1589445564000000}"
            ]
          },
          "metadata": {
            "tags": []
          },
          "execution_count": 16
        }
      ]
    },
    {
      "cell_type": "code",
      "metadata": {
        "id": "aPdDmVsoy36n"
      },
      "source": [
        "lst_of_dict = []\n",
        "for item in data:\n",
        "  lst_of_dict.append(json.loads(json.loads(item)))"
      ],
      "execution_count": null,
      "outputs": []
    },
    {
      "cell_type": "code",
      "metadata": {
        "colab": {
          "base_uri": "https://localhost:8080/",
          "height": 35
        },
        "id": "1SDb9IbaZSgb",
        "outputId": "0bdf4358-45cc-4736-990a-08902abda80f"
      },
      "source": [
        "lst_of_dict[0]['name']"
      ],
      "execution_count": null,
      "outputs": [
        {
          "output_type": "execute_result",
          "data": {
            "application/vnd.google.colaboratory.intrinsic+json": {
              "type": "string"
            },
            "text/plain": [
              "'FileOpenForWriteEvent'"
            ]
          },
          "metadata": {
            "tags": []
          },
          "execution_count": 7
        }
      ]
    },
    {
      "cell_type": "code",
      "metadata": {
        "id": "i15pb-M2xUrd"
      },
      "source": [
        "from itertools import groupby "
      ],
      "execution_count": null,
      "outputs": []
    },
    {
      "cell_type": "code",
      "metadata": {
        "colab": {
          "base_uri": "https://localhost:8080/"
        },
        "id": "yCLvldSFx-Kw",
        "outputId": "4af0157b-c6df-4081-9354-dd52fd71147e"
      },
      "source": [
        "# define a fuction for key \n",
        "def key_func(k): \n",
        "    return k['actorProcess']['pid']\n",
        "  \n",
        "# sort lst_of_dict data by key. \n",
        "#lst_of_dict = sorted(lst_of_dict, key=key_func) \n",
        "  \n",
        "for key, value in groupby(lst_of_dict, key_func): \n",
        "    print(key) \n",
        "    print(list(value))"
      ],
      "execution_count": null,
      "outputs": [
        {
          "output_type": "stream",
          "text": [
            "4240\n",
            "[{'actorProcess': {'backingFile': {'attributes': 32, 'eid': 'eid://file:1775327444', 'hashes': {'md5': '4c66f09586e44b8b150a262cea150c74'}, 'path': {'basename': 'Code', 'dir': '\\\\Program Files\\\\Microsoft VS Code\\\\', 'drive': 'C:', 'ext': '.exe', 'full': 'C:\\\\Program Files\\\\Microsoft VS Code\\\\Code.exe'}, 'resources': {'company': 'Microsoft Corporatio', 'description': 'Visual Studio Code', 'originalFileName': 'electron.exe', 'version': '1.45.1.0'}, 'size': 100484992, 'times': {'change': 1590427535586537, 'create': 1590427526462693, 'read': 1590427530077907, 'write': 1589445564000000}}, 'bitness': 64, 'commandLine': '\"C:\\\\Program Files\\\\Microsoft VS Code\\\\Code.exe\" --type=renderer --disable-color-correct-rendering --field-trial-handle=1876,16548434252086067677,4593684243205720682,131072 --disable-features=LayoutNG,PictureInPicture,SpareRendererForSitePerProcess --lang=en-US --standard-schemes --secure-schemes=vscode-resource --bypasscsp-schemes --cors-schemes=vscode-resource --fetch-schemes=vscode-resource --service-worker-schemes --app-user-model-id=Microsoft.VisualStudioCode --app-path=\"C:\\\\Program Files\\\\Microsoft VS Code\\\\resources\\\\app\" --node-integration --webview-tag --no-sandbox --no-zygote --background-color=#1e1e1e --device-scale-factor=2.5 --num-raster-threads=1 --service-request-channel-token=15453005767426223723 --renderer-client-id=5 --no-v8-untrusted-code-mitigations --mojo-platform-channel-handle=2424 /prefetch:1', 'createTime': 1614695201842160, 'domain': 'EC2AMAZ-4H286EV', 'eid': 'eid://process:621435357', 'pid': 4240, 'policies': {'alr': 1, 'binarySignature': 0, 'dep': 1, 'prohibitDynamicCode': 0}, 'ppid': 6492, 'user': 'Administrator'}, 'agent_name': 'Demo1', 'file': {'attributes': 32, 'eid': 'eid://file:3119903075', 'path': {'basename': 'rapid_render', 'dir': '\\\\Users\\\\Administrator\\\\AppData\\\\Roaming\\\\Code\\\\', 'drive': 'C:', 'ext': '.json', 'full': 'C:\\\\Users\\\\Administrator\\\\AppData\\\\Roaming\\\\Code\\\\rapid_render.json'}, 'size': 445, 'times': {'change': 1612521451257222, 'create': 1612521444332550, 'read': 1612521451257222, 'write': 1612521451257222}}, 'name': 'FileOpenForWriteEvent', 'uuid': 'a3dc2afa-32ea-555d-c0eb-f98cb56f6b96'}, {'actorProcess': {'backingFile': {'attributes': 32, 'eid': 'eid://file:1775327444', 'hashes': {'md5': '4c66f09586e44b8b150a262cea150c74'}, 'path': {'basename': 'Code', 'dir': '\\\\Program Files\\\\Microsoft VS Code\\\\', 'drive': 'C:', 'ext': '.exe', 'full': 'C:\\\\Program Files\\\\Microsoft VS Code\\\\Code.exe'}, 'resources': {'company': 'Microsoft Corporatio', 'description': 'Visual Studio Code', 'originalFileName': 'electron.exe', 'version': '1.45.1.0'}, 'size': 100484992, 'times': {'change': 1590427535586537, 'create': 1590427526462693, 'read': 1590427530077907, 'write': 1589445564000000}}, 'bitness': 64, 'commandLine': '\"C:\\\\Program Files\\\\Microsoft VS Code\\\\Code.exe\" --type=renderer --disable-color-correct-rendering --field-trial-handle=1876,16548434252086067677,4593684243205720682,131072 --disable-features=LayoutNG,PictureInPicture,SpareRendererForSitePerProcess --lang=en-US --standard-schemes --secure-schemes=vscode-resource --bypasscsp-schemes --cors-schemes=vscode-resource --fetch-schemes=vscode-resource --service-worker-schemes --app-user-model-id=Microsoft.VisualStudioCode --app-path=\"C:\\\\Program Files\\\\Microsoft VS Code\\\\resources\\\\app\" --node-integration --webview-tag --no-sandbox --no-zygote --background-color=#1e1e1e --device-scale-factor=2.5 --num-raster-threads=1 --service-request-channel-token=15453005767426223723 --renderer-client-id=5 --no-v8-untrusted-code-mitigations --mojo-platform-channel-handle=2424 /prefetch:1', 'createTime': 1614695201842160, 'domain': 'EC2AMAZ-4H286EV', 'eid': 'eid://process:621435357', 'pid': 4240, 'policies': {'alr': 1, 'binarySignature': 0, 'dep': 1, 'prohibitDynamicCode': 0}, 'ppid': 6492, 'user': 'Administrator'}, 'agent_name': 'Demo1', 'file': {'attributes': 32, 'eid': 'eid://file:3119903075', 'path': {'basename': 'rapid_render', 'dir': '\\\\Users\\\\Administrator\\\\AppData\\\\Roaming\\\\Code\\\\', 'drive': 'C:', 'ext': '.json', 'full': 'C:\\\\Users\\\\Administrator\\\\AppData\\\\Roaming\\\\Code\\\\rapid_render.json'}, 'size': 0, 'times': {'change': 1614695205021576, 'create': 1612521444332550, 'read': 1614695205021576, 'write': 1614695205021576}}, 'name': 'FileOpenForWriteEvent', 'uuid': 'a3dc2afa-32ea-555d-c0eb-f98cb56f6b96'}]\n",
            "4241\n",
            "[{'actorProcess': {'backingFile': {'attributes': 32, 'eid': 'eid://file:1775327444', 'hashes': {'md5': '4c66f09586e44b8b150a262cea150c74'}, 'path': {'basename': 'Code', 'dir': '\\\\Program Files\\\\Microsoft VS Code\\\\', 'drive': 'C:', 'ext': '.exe', 'full': 'C:\\\\Program Files\\\\Microsoft VS Code\\\\Code.exe'}, 'resources': {'company': 'Microsoft Corporatio', 'description': 'Visual Studio Code', 'originalFileName': 'electron.exe', 'version': '1.45.1.0'}, 'size': 100484992, 'times': {'change': 1590427535586537, 'create': 1590427526462693, 'read': 1590427530077907, 'write': 1589445564000000}}, 'bitness': 64, 'commandLine': '\"C:\\\\Program Files\\\\Microsoft VS Code\\\\Code.exe\" --type=renderer --disable-color-correct-rendering --field-trial-handle=1876,16548434252086067677,4593684243205720682,131072 --disable-features=LayoutNG,PictureInPicture,SpareRendererForSitePerProcess --lang=en-US --standard-schemes --secure-schemes=vscode-resource --bypasscsp-schemes --cors-schemes=vscode-resource --fetch-schemes=vscode-resource --service-worker-schemes --app-user-model-id=Microsoft.VisualStudioCode --app-path=\"C:\\\\Program Files\\\\Microsoft VS Code\\\\resources\\\\app\" --node-integration --webview-tag --no-sandbox --no-zygote --background-color=#1e1e1e --device-scale-factor=2.5 --num-raster-threads=1 --service-request-channel-token=15453005767426223723 --renderer-client-id=5 --no-v8-untrusted-code-mitigations --mojo-platform-channel-handle=2424 /prefetch:1', 'createTime': 1614695201842160, 'domain': 'EC2AMAZ-4H286EV', 'eid': 'eid://process:621435357', 'pid': 4241, 'policies': {'alr': 1, 'binarySignature': 0, 'dep': 1, 'prohibitDynamicCode': 0}, 'ppid': 6492, 'user': 'Administrator'}, 'agent_name': 'Demo1', 'file': {'attributes': 32, 'eid': 'eid://file:3119903075', 'path': {'basename': 'rapid_render', 'dir': '\\\\Users\\\\Administrator\\\\AppData\\\\Roaming\\\\Code\\\\', 'drive': 'C:', 'ext': '.json', 'full': 'C:\\\\Users\\\\Administrator\\\\AppData\\\\Roaming\\\\Code\\\\rapid_render.json'}, 'size': 0, 'times': {'change': 1614695205021576, 'create': 1612521444332550, 'read': 1614695205021576, 'write': 1614695205021576}}, 'name': 'FileWriteEvent', 'uuid': 'a3dc2afa-32ea-555d-c0eb-f98cb56f6b96'}]\n"
          ],
          "name": "stdout"
        }
      ]
    },
    {
      "cell_type": "code",
      "metadata": {
        "id": "L2QXQCNAXoc0"
      },
      "source": [
        "from itertools import groupby\n",
        "import pprint \n",
        "pp = pprint.PrettyPrinter(indent=1, width = 80)"
      ],
      "execution_count": null,
      "outputs": []
    },
    {
      "cell_type": "code",
      "metadata": {
        "id": "12F6mNz4kGFg"
      },
      "source": [
        "pp.pprint(test)"
      ],
      "execution_count": null,
      "outputs": []
    },
    {
      "cell_type": "code",
      "metadata": {
        "id": "LHkDQavUg9H9"
      },
      "source": [
        "data_dict = []\n",
        "with open('event_example.txt') as json_file: \n",
        "  for item in json_file:\n",
        "    data_dict.append(json.loads(item))"
      ],
      "execution_count": null,
      "outputs": []
    },
    {
      "cell_type": "markdown",
      "metadata": {
        "id": "JmI9MKSCjvb2"
      },
      "source": [
        "# Entire Log File"
      ]
    },
    {
      "cell_type": "code",
      "metadata": {
        "id": "6lA7Ba6ajdzn"
      },
      "source": [
        "!unzip events.zip"
      ],
      "execution_count": null,
      "outputs": []
    },
    {
      "cell_type": "code",
      "metadata": {
        "id": "ktPzGquWjhyW"
      },
      "source": [
        "logs = []\n",
        "with open('events.jsonl') as json_file: \n",
        "  for item in json_file:\n",
        "    logs.append(json.dumps(item))"
      ],
      "execution_count": null,
      "outputs": []
    },
    {
      "cell_type": "code",
      "metadata": {
        "id": "eHdN24qEkkVo"
      },
      "source": [
        "log_dict = []\n",
        "for item in logs:\n",
        "  log_dict.append(json.loads(json.loads(item)))"
      ],
      "execution_count": null,
      "outputs": []
    },
    {
      "cell_type": "code",
      "metadata": {
        "id": "7jN0XXxZkARC"
      },
      "source": [
        "event_types = set()\n",
        "for item in log_dict:\n",
        "  event_types.add(item['name'])"
      ],
      "execution_count": null,
      "outputs": []
    },
    {
      "cell_type": "code",
      "metadata": {
        "colab": {
          "base_uri": "https://localhost:8080/"
        },
        "id": "24wERzbLlhZ9",
        "outputId": "d356e0a1-5574-4910-e370-e4fb44c230e6"
      },
      "source": [
        "event_types"
      ],
      "execution_count": null,
      "outputs": [
        {
          "output_type": "execute_result",
          "data": {
            "text/plain": [
              "{'ADSCreateEvent',\n",
              " 'CryptoKeyExportEvent',\n",
              " 'CryptoKeyImportEvent',\n",
              " 'FileCopyEvent',\n",
              " 'FileCreateForWriteEvent',\n",
              " 'FileCreationTimeModificationEvent',\n",
              " 'FileDeleteEvent',\n",
              " 'FileDownloadEvent',\n",
              " 'FileLastWriteTimeModificationEvent',\n",
              " 'FileMoveEvent',\n",
              " 'FileOpenForWriteEvent',\n",
              " 'FileWriteEvent',\n",
              " 'ProcessCreateEvent',\n",
              " 'ProcessCreateFromDownloadedFileEvent',\n",
              " 'RansomwareDetectedEvent',\n",
              " 'RansomwareProcessTerminatedEvent'}"
            ]
          },
          "metadata": {
            "tags": []
          },
          "execution_count": 18
        }
      ]
    }
  ]
}