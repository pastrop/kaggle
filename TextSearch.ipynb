{
  "nbformat": 4,
  "nbformat_minor": 0,
  "metadata": {
    "colab": {
      "name": "TextSearch.ipynb",
      "provenance": [],
      "authorship_tag": "ABX9TyPyxAzYUH/E0NH+iME+fQRX",
      "include_colab_link": true
    },
    "kernelspec": {
      "name": "python3",
      "display_name": "Python 3"
    },
    "language_info": {
      "name": "python"
    }
  },
  "cells": [
    {
      "cell_type": "markdown",
      "metadata": {
        "id": "view-in-github",
        "colab_type": "text"
      },
      "source": [
        "<a href=\"https://colab.research.google.com/github/pastrop/kaggle/blob/master/TextSearch.ipynb\" target=\"_parent\"><img src=\"https://colab.research.google.com/assets/colab-badge.svg\" alt=\"Open In Colab\"/></a>"
      ]
    },
    {
      "cell_type": "code",
      "source": [
        "# file upload while using Google Colab\n",
        "from google.colab import files\n",
        "uploaded = files.upload()"
      ],
      "metadata": {
        "colab": {
          "resources": {
            "http://localhost:8080/nbextensions/google.colab/files.js": {
              "data": "Ly8gQ29weXJpZ2h0IDIwMTcgR29vZ2xlIExMQwovLwovLyBMaWNlbnNlZCB1bmRlciB0aGUgQXBhY2hlIExpY2Vuc2UsIFZlcnNpb24gMi4wICh0aGUgIkxpY2Vuc2UiKTsKLy8geW91IG1heSBub3QgdXNlIHRoaXMgZmlsZSBleGNlcHQgaW4gY29tcGxpYW5jZSB3aXRoIHRoZSBMaWNlbnNlLgovLyBZb3UgbWF5IG9idGFpbiBhIGNvcHkgb2YgdGhlIExpY2Vuc2UgYXQKLy8KLy8gICAgICBodHRwOi8vd3d3LmFwYWNoZS5vcmcvbGljZW5zZXMvTElDRU5TRS0yLjAKLy8KLy8gVW5sZXNzIHJlcXVpcmVkIGJ5IGFwcGxpY2FibGUgbGF3IG9yIGFncmVlZCB0byBpbiB3cml0aW5nLCBzb2Z0d2FyZQovLyBkaXN0cmlidXRlZCB1bmRlciB0aGUgTGljZW5zZSBpcyBkaXN0cmlidXRlZCBvbiBhbiAiQVMgSVMiIEJBU0lTLAovLyBXSVRIT1VUIFdBUlJBTlRJRVMgT1IgQ09ORElUSU9OUyBPRiBBTlkgS0lORCwgZWl0aGVyIGV4cHJlc3Mgb3IgaW1wbGllZC4KLy8gU2VlIHRoZSBMaWNlbnNlIGZvciB0aGUgc3BlY2lmaWMgbGFuZ3VhZ2UgZ292ZXJuaW5nIHBlcm1pc3Npb25zIGFuZAovLyBsaW1pdGF0aW9ucyB1bmRlciB0aGUgTGljZW5zZS4KCi8qKgogKiBAZmlsZW92ZXJ2aWV3IEhlbHBlcnMgZm9yIGdvb2dsZS5jb2xhYiBQeXRob24gbW9kdWxlLgogKi8KKGZ1bmN0aW9uKHNjb3BlKSB7CmZ1bmN0aW9uIHNwYW4odGV4dCwgc3R5bGVBdHRyaWJ1dGVzID0ge30pIHsKICBjb25zdCBlbGVtZW50ID0gZG9jdW1lbnQuY3JlYXRlRWxlbWVudCgnc3BhbicpOwogIGVsZW1lbnQudGV4dENvbnRlbnQgPSB0ZXh0OwogIGZvciAoY29uc3Qga2V5IG9mIE9iamVjdC5rZXlzKHN0eWxlQXR0cmlidXRlcykpIHsKICAgIGVsZW1lbnQuc3R5bGVba2V5XSA9IHN0eWxlQXR0cmlidXRlc1trZXldOwogIH0KICByZXR1cm4gZWxlbWVudDsKfQoKLy8gTWF4IG51bWJlciBvZiBieXRlcyB3aGljaCB3aWxsIGJlIHVwbG9hZGVkIGF0IGEgdGltZS4KY29uc3QgTUFYX1BBWUxPQURfU0laRSA9IDEwMCAqIDEwMjQ7CgpmdW5jdGlvbiBfdXBsb2FkRmlsZXMoaW5wdXRJZCwgb3V0cHV0SWQpIHsKICBjb25zdCBzdGVwcyA9IHVwbG9hZEZpbGVzU3RlcChpbnB1dElkLCBvdXRwdXRJZCk7CiAgY29uc3Qgb3V0cHV0RWxlbWVudCA9IGRvY3VtZW50LmdldEVsZW1lbnRCeUlkKG91dHB1dElkKTsKICAvLyBDYWNoZSBzdGVwcyBvbiB0aGUgb3V0cHV0RWxlbWVudCB0byBtYWtlIGl0IGF2YWlsYWJsZSBmb3IgdGhlIG5leHQgY2FsbAogIC8vIHRvIHVwbG9hZEZpbGVzQ29udGludWUgZnJvbSBQeXRob24uCiAgb3V0cHV0RWxlbWVudC5zdGVwcyA9IHN0ZXBzOwoKICByZXR1cm4gX3VwbG9hZEZpbGVzQ29udGludWUob3V0cHV0SWQpOwp9CgovLyBUaGlzIGlzIHJvdWdobHkgYW4gYXN5bmMgZ2VuZXJhdG9yIChub3Qgc3VwcG9ydGVkIGluIHRoZSBicm93c2VyIHlldCksCi8vIHdoZXJlIHRoZXJlIGFyZSBtdWx0aXBsZSBhc3luY2hyb25vdXMgc3RlcHMgYW5kIHRoZSBQeXRob24gc2lkZSBpcyBnb2luZwovLyB0byBwb2xsIGZvciBjb21wbGV0aW9uIG9mIGVhY2ggc3RlcC4KLy8gVGhpcyB1c2VzIGEgUHJvbWlzZSB0byBibG9jayB0aGUgcHl0aG9uIHNpZGUgb24gY29tcGxldGlvbiBvZiBlYWNoIHN0ZXAsCi8vIHRoZW4gcGFzc2VzIHRoZSByZXN1bHQgb2YgdGhlIHByZXZpb3VzIHN0ZXAgYXMgdGhlIGlucHV0IHRvIHRoZSBuZXh0IHN0ZXAuCmZ1bmN0aW9uIF91cGxvYWRGaWxlc0NvbnRpbnVlKG91dHB1dElkKSB7CiAgY29uc3Qgb3V0cHV0RWxlbWVudCA9IGRvY3VtZW50LmdldEVsZW1lbnRCeUlkKG91dHB1dElkKTsKICBjb25zdCBzdGVwcyA9IG91dHB1dEVsZW1lbnQuc3RlcHM7CgogIGNvbnN0IG5leHQgPSBzdGVwcy5uZXh0KG91dHB1dEVsZW1lbnQubGFzdFByb21pc2VWYWx1ZSk7CiAgcmV0dXJuIFByb21pc2UucmVzb2x2ZShuZXh0LnZhbHVlLnByb21pc2UpLnRoZW4oKHZhbHVlKSA9PiB7CiAgICAvLyBDYWNoZSB0aGUgbGFzdCBwcm9taXNlIHZhbHVlIHRvIG1ha2UgaXQgYXZhaWxhYmxlIHRvIHRoZSBuZXh0CiAgICAvLyBzdGVwIG9mIHRoZSBnZW5lcmF0b3IuCiAgICBvdXRwdXRFbGVtZW50Lmxhc3RQcm9taXNlVmFsdWUgPSB2YWx1ZTsKICAgIHJldHVybiBuZXh0LnZhbHVlLnJlc3BvbnNlOwogIH0pOwp9CgovKioKICogR2VuZXJhdG9yIGZ1bmN0aW9uIHdoaWNoIGlzIGNhbGxlZCBiZXR3ZWVuIGVhY2ggYXN5bmMgc3RlcCBvZiB0aGUgdXBsb2FkCiAqIHByb2Nlc3MuCiAqIEBwYXJhbSB7c3RyaW5nfSBpbnB1dElkIEVsZW1lbnQgSUQgb2YgdGhlIGlucHV0IGZpbGUgcGlja2VyIGVsZW1lbnQuCiAqIEBwYXJhbSB7c3RyaW5nfSBvdXRwdXRJZCBFbGVtZW50IElEIG9mIHRoZSBvdXRwdXQgZGlzcGxheS4KICogQHJldHVybiB7IUl0ZXJhYmxlPCFPYmplY3Q+fSBJdGVyYWJsZSBvZiBuZXh0IHN0ZXBzLgogKi8KZnVuY3Rpb24qIHVwbG9hZEZpbGVzU3RlcChpbnB1dElkLCBvdXRwdXRJZCkgewogIGNvbnN0IGlucHV0RWxlbWVudCA9IGRvY3VtZW50LmdldEVsZW1lbnRCeUlkKGlucHV0SWQpOwogIGlucHV0RWxlbWVudC5kaXNhYmxlZCA9IGZhbHNlOwoKICBjb25zdCBvdXRwdXRFbGVtZW50ID0gZG9jdW1lbnQuZ2V0RWxlbWVudEJ5SWQob3V0cHV0SWQpOwogIG91dHB1dEVsZW1lbnQuaW5uZXJIVE1MID0gJyc7CgogIGNvbnN0IHBpY2tlZFByb21pc2UgPSBuZXcgUHJvbWlzZSgocmVzb2x2ZSkgPT4gewogICAgaW5wdXRFbGVtZW50LmFkZEV2ZW50TGlzdGVuZXIoJ2NoYW5nZScsIChlKSA9PiB7CiAgICAgIHJlc29sdmUoZS50YXJnZXQuZmlsZXMpOwogICAgfSk7CiAgfSk7CgogIGNvbnN0IGNhbmNlbCA9IGRvY3VtZW50LmNyZWF0ZUVsZW1lbnQoJ2J1dHRvbicpOwogIGlucHV0RWxlbWVudC5wYXJlbnRFbGVtZW50LmFwcGVuZENoaWxkKGNhbmNlbCk7CiAgY2FuY2VsLnRleHRDb250ZW50ID0gJ0NhbmNlbCB1cGxvYWQnOwogIGNvbnN0IGNhbmNlbFByb21pc2UgPSBuZXcgUHJvbWlzZSgocmVzb2x2ZSkgPT4gewogICAgY2FuY2VsLm9uY2xpY2sgPSAoKSA9PiB7CiAgICAgIHJlc29sdmUobnVsbCk7CiAgICB9OwogIH0pOwoKICAvLyBXYWl0IGZvciB0aGUgdXNlciB0byBwaWNrIHRoZSBmaWxlcy4KICBjb25zdCBmaWxlcyA9IHlpZWxkIHsKICAgIHByb21pc2U6IFByb21pc2UucmFjZShbcGlja2VkUHJvbWlzZSwgY2FuY2VsUHJvbWlzZV0pLAogICAgcmVzcG9uc2U6IHsKICAgICAgYWN0aW9uOiAnc3RhcnRpbmcnLAogICAgfQogIH07CgogIGNhbmNlbC5yZW1vdmUoKTsKCiAgLy8gRGlzYWJsZSB0aGUgaW5wdXQgZWxlbWVudCBzaW5jZSBmdXJ0aGVyIHBpY2tzIGFyZSBub3QgYWxsb3dlZC4KICBpbnB1dEVsZW1lbnQuZGlzYWJsZWQgPSB0cnVlOwoKICBpZiAoIWZpbGVzKSB7CiAgICByZXR1cm4gewogICAgICByZXNwb25zZTogewogICAgICAgIGFjdGlvbjogJ2NvbXBsZXRlJywKICAgICAgfQogICAgfTsKICB9CgogIGZvciAoY29uc3QgZmlsZSBvZiBmaWxlcykgewogICAgY29uc3QgbGkgPSBkb2N1bWVudC5jcmVhdGVFbGVtZW50KCdsaScpOwogICAgbGkuYXBwZW5kKHNwYW4oZmlsZS5uYW1lLCB7Zm9udFdlaWdodDogJ2JvbGQnfSkpOwogICAgbGkuYXBwZW5kKHNwYW4oCiAgICAgICAgYCgke2ZpbGUudHlwZSB8fCAnbi9hJ30pIC0gJHtmaWxlLnNpemV9IGJ5dGVzLCBgICsKICAgICAgICBgbGFzdCBtb2RpZmllZDogJHsKICAgICAgICAgICAgZmlsZS5sYXN0TW9kaWZpZWREYXRlID8gZmlsZS5sYXN0TW9kaWZpZWREYXRlLnRvTG9jYWxlRGF0ZVN0cmluZygpIDoKICAgICAgICAgICAgICAgICAgICAgICAgICAgICAgICAgICAgJ24vYSd9IC0gYCkpOwogICAgY29uc3QgcGVyY2VudCA9IHNwYW4oJzAlIGRvbmUnKTsKICAgIGxpLmFwcGVuZENoaWxkKHBlcmNlbnQpOwoKICAgIG91dHB1dEVsZW1lbnQuYXBwZW5kQ2hpbGQobGkpOwoKICAgIGNvbnN0IGZpbGVEYXRhUHJvbWlzZSA9IG5ldyBQcm9taXNlKChyZXNvbHZlKSA9PiB7CiAgICAgIGNvbnN0IHJlYWRlciA9IG5ldyBGaWxlUmVhZGVyKCk7CiAgICAgIHJlYWRlci5vbmxvYWQgPSAoZSkgPT4gewogICAgICAgIHJlc29sdmUoZS50YXJnZXQucmVzdWx0KTsKICAgICAgfTsKICAgICAgcmVhZGVyLnJlYWRBc0FycmF5QnVmZmVyKGZpbGUpOwogICAgfSk7CiAgICAvLyBXYWl0IGZvciB0aGUgZGF0YSB0byBiZSByZWFkeS4KICAgIGxldCBmaWxlRGF0YSA9IHlpZWxkIHsKICAgICAgcHJvbWlzZTogZmlsZURhdGFQcm9taXNlLAogICAgICByZXNwb25zZTogewogICAgICAgIGFjdGlvbjogJ2NvbnRpbnVlJywKICAgICAgfQogICAgfTsKCiAgICAvLyBVc2UgYSBjaHVua2VkIHNlbmRpbmcgdG8gYXZvaWQgbWVzc2FnZSBzaXplIGxpbWl0cy4gU2VlIGIvNjIxMTU2NjAuCiAgICBsZXQgcG9zaXRpb24gPSAwOwogICAgZG8gewogICAgICBjb25zdCBsZW5ndGggPSBNYXRoLm1pbihmaWxlRGF0YS5ieXRlTGVuZ3RoIC0gcG9zaXRpb24sIE1BWF9QQVlMT0FEX1NJWkUpOwogICAgICBjb25zdCBjaHVuayA9IG5ldyBVaW50OEFycmF5KGZpbGVEYXRhLCBwb3NpdGlvbiwgbGVuZ3RoKTsKICAgICAgcG9zaXRpb24gKz0gbGVuZ3RoOwoKICAgICAgY29uc3QgYmFzZTY0ID0gYnRvYShTdHJpbmcuZnJvbUNoYXJDb2RlLmFwcGx5KG51bGwsIGNodW5rKSk7CiAgICAgIHlpZWxkIHsKICAgICAgICByZXNwb25zZTogewogICAgICAgICAgYWN0aW9uOiAnYXBwZW5kJywKICAgICAgICAgIGZpbGU6IGZpbGUubmFtZSwKICAgICAgICAgIGRhdGE6IGJhc2U2NCwKICAgICAgICB9LAogICAgICB9OwoKICAgICAgbGV0IHBlcmNlbnREb25lID0gZmlsZURhdGEuYnl0ZUxlbmd0aCA9PT0gMCA/CiAgICAgICAgICAxMDAgOgogICAgICAgICAgTWF0aC5yb3VuZCgocG9zaXRpb24gLyBmaWxlRGF0YS5ieXRlTGVuZ3RoKSAqIDEwMCk7CiAgICAgIHBlcmNlbnQudGV4dENvbnRlbnQgPSBgJHtwZXJjZW50RG9uZX0lIGRvbmVgOwoKICAgIH0gd2hpbGUgKHBvc2l0aW9uIDwgZmlsZURhdGEuYnl0ZUxlbmd0aCk7CiAgfQoKICAvLyBBbGwgZG9uZS4KICB5aWVsZCB7CiAgICByZXNwb25zZTogewogICAgICBhY3Rpb246ICdjb21wbGV0ZScsCiAgICB9CiAgfTsKfQoKc2NvcGUuZ29vZ2xlID0gc2NvcGUuZ29vZ2xlIHx8IHt9OwpzY29wZS5nb29nbGUuY29sYWIgPSBzY29wZS5nb29nbGUuY29sYWIgfHwge307CnNjb3BlLmdvb2dsZS5jb2xhYi5fZmlsZXMgPSB7CiAgX3VwbG9hZEZpbGVzLAogIF91cGxvYWRGaWxlc0NvbnRpbnVlLAp9Owp9KShzZWxmKTsK",
              "ok": true,
              "headers": [
                [
                  "content-type",
                  "application/javascript"
                ]
              ],
              "status": 200,
              "status_text": ""
            }
          },
          "base_uri": "https://localhost:8080/",
          "height": 74
        },
        "id": "zSFDv5LB-Mfl",
        "outputId": "313fada3-a26f-4f26-ee12-3498359eb2e6"
      },
      "execution_count": 12,
      "outputs": [
        {
          "output_type": "display_data",
          "data": {
            "text/plain": [
              "<IPython.core.display.HTML object>"
            ],
            "text/html": [
              "\n",
              "     <input type=\"file\" id=\"files-2dd38fbd-34c3-47ec-a56d-ab5bec20adbd\" name=\"files[]\" multiple disabled\n",
              "        style=\"border:none\" />\n",
              "     <output id=\"result-2dd38fbd-34c3-47ec-a56d-ab5bec20adbd\">\n",
              "      Upload widget is only available when the cell has been executed in the\n",
              "      current browser session. Please rerun this cell to enable.\n",
              "      </output>\n",
              "      <script src=\"/nbextensions/google.colab/files.js\"></script> "
            ]
          },
          "metadata": {}
        },
        {
          "output_type": "stream",
          "name": "stdout",
          "text": [
            "Saving beer_concept_500_8777docs.json to beer_concept_500_8777docs.json\n"
          ]
        }
      ]
    },
    {
      "cell_type": "code",
      "execution_count": 13,
      "metadata": {
        "id": "N-_y2uyN9EPn"
      },
      "outputs": [],
      "source": [
        "import json\n",
        "with open('beer_concept_500_8777docs.json') as f:\n",
        "    inp = json.load(f)"
      ]
    },
    {
      "cell_type": "code",
      "source": [
        "concepts = []\n",
        "for item in inp:\n",
        "  concepts.append(item['texts'][0])"
      ],
      "metadata": {
        "id": "iYohCx41QP_P"
      },
      "execution_count": 38,
      "outputs": []
    },
    {
      "cell_type": "code",
      "source": [
        "concepts[100]"
      ],
      "metadata": {
        "colab": {
          "base_uri": "https://localhost:8080/",
          "height": 35
        },
        "id": "PVlrWPqKMF-t",
        "outputId": "6dcf9ac8-65fc-4c6d-9769-f497fb735c11"
      },
      "execution_count": 39,
      "outputs": [
        {
          "output_type": "execute_result",
          "data": {
            "text/plain": [
              "'sour'"
            ],
            "application/vnd.google.colaboratory.intrinsic+json": {
              "type": "string"
            }
          },
          "metadata": {},
          "execution_count": 39
        }
      ]
    },
    {
      "cell_type": "markdown",
      "source": [
        "**SBERT**"
      ],
      "metadata": {
        "id": "WMKcycZhPVmH"
      }
    },
    {
      "cell_type": "code",
      "source": [
        "%pip install -U sentence-transformers"
      ],
      "metadata": {
        "id": "1QWrDmOxPbXQ"
      },
      "execution_count": null,
      "outputs": []
    },
    {
      "cell_type": "code",
      "source": [
        "from sentence_transformers import SentenceTransformer, util"
      ],
      "metadata": {
        "id": "VlzNKoKqPVK2"
      },
      "execution_count": 25,
      "outputs": []
    },
    {
      "cell_type": "code",
      "source": [
        "model = SentenceTransformer('paraphrase-MiniLM-L6-v2')"
      ],
      "metadata": {
        "id": "I1KVFGwYQAxv"
      },
      "execution_count": null,
      "outputs": []
    },
    {
      "cell_type": "code",
      "source": [
        "target = 'cocao'\n",
        "corpus = concepts[:50]\n",
        "emb_target = model.encode(target, convert_to_tensor=True)\n",
        "emb_corpus = model.encode(concepts, convert_to_tensor=True)\n",
        "cosine_scores = util.cos_sim(emb_target, emb_corpus)\n",
        "simularity = []\n",
        "for ind, item in enumerate(corpus):\n",
        "  tmp =cosine_scores[ind],item\n",
        "  simularity.append(tmp)"
      ],
      "metadata": {
        "id": "_eRPVX03QGlb"
      },
      "execution_count": null,
      "outputs": []
    },
    {
      "cell_type": "code",
      "source": [
        "cosine_scores"
      ],
      "metadata": {
        "colab": {
          "base_uri": "https://localhost:8080/"
        },
        "id": "2R8S8lQ8TuMS",
        "outputId": "2182e95e-d781-4477-f2fa-dd8667017050"
      },
      "execution_count": 43,
      "outputs": [
        {
          "output_type": "execute_result",
          "data": {
            "text/plain": [
              "tensor([[ 2.1886e-01,  9.0034e-02,  1.2303e-01,  1.6778e-01,  1.8824e-01,\n",
              "          2.2067e-01,  1.8826e-01, -3.4568e-02,  1.8054e-01,  1.0239e-01,\n",
              "          9.4627e-02,  3.0840e-01, -1.1356e-01,  2.2628e-01,  3.1877e-02,\n",
              "          1.7253e-01,  1.2288e-01,  2.1978e-01,  4.8141e-02,  4.1829e-02,\n",
              "          2.9801e-01,  2.0268e-01,  2.0936e-01,  1.7126e-01,  7.5171e-02,\n",
              "          3.9626e-02,  5.4970e-02,  4.6859e-01,  1.7868e-01,  2.1464e-01,\n",
              "          1.1554e-01,  1.9004e-01, -6.4743e-02, -2.5682e-02,  1.7415e-01,\n",
              "          7.7819e-02,  4.0164e-01, -1.6263e-02,  2.1260e-01,  3.6854e-01,\n",
              "          6.5898e-03,  9.8367e-02,  5.0349e-03, -1.0716e-01,  1.6923e-01,\n",
              "          6.2211e-02,  1.3568e-01,  1.9255e-01,  4.1779e-01,  1.1843e-01,\n",
              "          2.0078e-02,  5.8961e-02,  4.3625e-02,  2.9023e-02,  2.5758e-01,\n",
              "          4.7683e-02,  9.8814e-02,  1.4095e-01,  2.4327e-01,  1.1529e-01,\n",
              "          1.0360e-01,  2.9356e-01,  1.4606e-01,  8.6482e-02,  3.8473e-01,\n",
              "          1.0305e-01,  3.0625e-01,  8.5889e-02,  9.5285e-02,  1.8598e-01,\n",
              "          3.3568e-02,  1.4704e-01,  6.8078e-02,  2.2451e-01,  1.2596e-02,\n",
              "          1.8504e-01,  1.1338e-01,  3.1332e-01,  3.7030e-01,  1.0213e-02,\n",
              "          1.9959e-01,  1.4740e-01,  2.2334e-01,  1.4481e-01,  2.3736e-01,\n",
              "          1.4841e-01,  1.3595e-01,  1.9127e-01, -9.6047e-03,  1.6435e-01,\n",
              "          1.8289e-01,  1.4166e-01,  4.2408e-02,  6.1746e-02,  2.1486e-01,\n",
              "          6.3436e-02,  2.1828e-01,  2.5335e-01,  1.4278e-01,  3.0626e-02,\n",
              "          1.7075e-01,  3.1335e-01,  1.6356e-01,  8.9014e-02,  8.3044e-02,\n",
              "          3.9072e-01,  2.4141e-03,  2.3391e-01,  5.7305e-02,  2.2940e-01,\n",
              "          1.7971e-01,  1.3446e-01,  6.8250e-02,  2.5759e-02,  8.8231e-02,\n",
              "          1.0167e-01,  8.6072e-02,  1.4953e-01,  1.9723e-01,  1.5370e-01,\n",
              "          3.9580e-02, -2.6589e-02,  1.8381e-01,  1.5609e-01,  2.1525e-02,\n",
              "          1.7641e-01,  1.1601e-01,  2.5241e-02,  4.2675e-01,  1.5795e-01,\n",
              "          1.7698e-01,  1.1475e-01,  1.6120e-01,  5.8363e-02,  2.1148e-01,\n",
              "          1.1339e-01,  4.9835e-02,  6.8157e-02,  1.0657e-01,  9.8073e-02,\n",
              "          8.9351e-02,  1.0317e-01,  1.3036e-01, -6.8617e-02,  8.0331e-02,\n",
              "          2.2547e-01,  3.9370e-01,  3.2887e-01,  2.1487e-02,  1.4901e-01,\n",
              "          1.4150e-01,  1.3055e-01, -8.6945e-03,  2.3850e-01,  1.0470e-01,\n",
              "          1.4013e-01,  9.8676e-02,  7.8674e-02,  2.9474e-02, -5.8206e-02,\n",
              "          2.3843e-01,  1.1093e-01,  1.9169e-01,  1.5056e-01,  7.7645e-02,\n",
              "          2.6648e-02,  1.1801e-01,  1.3075e-01,  2.3110e-01,  1.2593e-01,\n",
              "          6.2177e-02,  7.5188e-03,  7.6440e-02,  2.1405e-01,  1.1084e-01,\n",
              "          1.0224e-01,  1.2260e-01,  1.3325e-01,  9.3772e-02,  1.8794e-01,\n",
              "          1.5202e-01,  3.0077e-01,  3.4048e-01,  1.6395e-01,  1.4943e-01,\n",
              "          1.3276e-01,  2.9303e-01,  9.7083e-02,  1.6460e-01,  1.8558e-01,\n",
              "          2.1343e-01,  2.2522e-01,  5.1493e-02,  4.6824e-02,  1.2814e-01,\n",
              "          7.5092e-02,  1.8336e-01,  1.6372e-01,  2.3544e-01,  1.4165e-01,\n",
              "          5.1382e-02,  6.7261e-02,  3.7153e-02,  7.8081e-02,  4.6175e-02,\n",
              "          1.3925e-01,  1.2470e-01,  2.2416e-01,  1.7862e-02,  1.5536e-01,\n",
              "          1.7449e-01,  2.4215e-02,  1.3340e-01,  1.2474e-01,  7.0531e-02,\n",
              "          4.0355e-01,  1.1353e-01,  3.2918e-01,  1.1653e-01,  1.9248e-01,\n",
              "         -7.3164e-02,  1.3603e-01,  2.2461e-02,  3.8198e-02,  3.8939e-02,\n",
              "          1.4752e-02,  1.9389e-01,  5.2986e-02,  1.5578e-01,  3.1106e-01,\n",
              "          2.0221e-01,  1.4594e-01,  1.9207e-01,  1.7391e-01,  1.2287e-01,\n",
              "          2.0181e-01,  1.6706e-01,  1.1100e-01,  2.3292e-01,  9.6898e-02,\n",
              "         -1.1793e-01,  4.8987e-01,  2.7268e-01,  8.1653e-02,  5.5345e-02,\n",
              "          1.1358e-01,  2.4874e-01,  6.8404e-02,  9.2446e-02,  1.4402e-02,\n",
              "          4.3346e-02,  7.3126e-02,  1.4151e-01,  4.6706e-02,  2.5014e-01,\n",
              "          2.4851e-01,  6.6708e-02,  1.5009e-01,  2.8553e-01,  1.8583e-01,\n",
              "          1.4098e-01,  1.2036e-01,  1.9898e-01,  1.3616e-01,  7.0458e-02,\n",
              "         -1.7463e-02,  1.6467e-01,  2.4138e-01,  1.0872e-01,  1.8705e-01,\n",
              "          3.4667e-02,  4.0952e-02,  3.9243e-02,  7.3828e-02,  3.5826e-01,\n",
              "          5.0535e-03,  1.3816e-01,  3.9545e-02,  1.0449e-01,  1.3026e-01,\n",
              "          1.3152e-01,  2.8033e-01,  6.5743e-02,  1.8683e-01,  8.1621e-02,\n",
              "          1.0828e-01,  6.7175e-02,  1.8813e-01, -8.3574e-03,  1.8090e-01,\n",
              "          4.0065e-01,  1.2414e-01,  2.0559e-01,  1.1532e-01,  1.6912e-03,\n",
              "          5.8374e-02,  2.0463e-01,  1.1139e-01,  8.7909e-02,  3.7566e-01,\n",
              "          2.0612e-01,  1.2767e-01,  5.8658e-02, -5.7794e-02,  1.3195e-01,\n",
              "         -3.4520e-02,  1.8173e-01,  1.7739e-01,  1.8209e-01,  2.4845e-01,\n",
              "          9.0505e-02,  2.1538e-01,  4.1831e-01,  1.9189e-01,  2.4651e-01,\n",
              "         -1.0050e-01,  3.8917e-02,  2.1163e-01,  1.7020e-01,  1.1723e-01,\n",
              "         -5.7527e-03,  2.2564e-02,  3.5524e-01,  3.2794e-01,  2.1839e-02,\n",
              "          3.6414e-01,  1.4531e-01,  1.5905e-01,  7.1313e-02,  4.4261e-02,\n",
              "          1.9407e-01,  1.4253e-01,  2.4928e-01,  1.9556e-01,  1.9430e-01,\n",
              "          1.7589e-01,  9.8120e-02,  1.5291e-01,  5.0644e-02,  1.4782e-02,\n",
              "          1.5792e-01,  6.2052e-02,  1.9698e-01,  2.0634e-01,  5.9169e-02,\n",
              "          1.5014e-01,  2.3508e-01,  1.4622e-01, -1.3869e-01,  1.3209e-01,\n",
              "          2.3707e-01,  7.9624e-02,  2.1175e-01, -9.5375e-03,  7.2048e-03,\n",
              "          1.3551e-01,  1.2272e-01,  9.0941e-02,  5.9205e-02,  3.5129e-02,\n",
              "          1.3739e-01,  2.4087e-01,  2.5767e-02,  1.8618e-01,  1.6063e-01,\n",
              "          2.6257e-01,  7.3630e-02,  2.8494e-02,  1.0283e-01,  7.3734e-02,\n",
              "          2.0257e-01,  6.6195e-02,  1.3583e-01,  1.4682e-01,  2.5839e-01,\n",
              "          1.7461e-01,  1.8992e-01,  5.9585e-02,  1.4923e-01,  6.3705e-02,\n",
              "          1.1231e-01,  1.9651e-01,  1.4843e-01,  8.8739e-02,  1.3338e-01,\n",
              "          1.9988e-01,  1.9642e-01,  8.7529e-02,  1.2769e-01,  1.3993e-01,\n",
              "          3.0907e-01,  2.4748e-01,  6.9224e-02,  2.5419e-01,  1.2768e-01,\n",
              "          4.1850e-01, -6.6057e-02,  1.1123e-01,  1.6301e-01,  9.9898e-02,\n",
              "          1.1447e-01, -3.1373e-02,  1.4256e-01,  1.0149e-01,  6.1196e-02,\n",
              "          1.0156e-01,  1.6210e-01,  6.2824e-02,  4.9144e-02,  1.9205e-02,\n",
              "          8.1569e-02,  3.0905e-02,  1.0220e-01,  1.9236e-01,  2.6752e-01,\n",
              "         -2.1245e-02,  2.8810e-01,  1.0441e-01,  1.6509e-01,  1.2409e-01,\n",
              "          2.3042e-01,  1.5815e-01,  1.1798e-01,  1.1346e-01,  9.0780e-02,\n",
              "          1.0526e-01,  1.5723e-01,  5.7840e-02,  1.5810e-01,  5.1939e-02,\n",
              "          2.9316e-01,  1.8441e-01,  7.0750e-02,  1.0587e-01,  1.5794e-02,\n",
              "          5.2836e-02,  3.2223e-02,  2.0312e-01,  1.5855e-01,  2.1072e-01,\n",
              "         -1.6360e-02,  2.1532e-01,  2.7917e-02,  1.1396e-01,  1.8604e-01,\n",
              "          3.1432e-01,  9.0044e-02,  1.6528e-01,  4.6041e-01,  6.3774e-02,\n",
              "          2.2994e-01,  7.7358e-02,  1.1659e-01,  9.6571e-02,  2.8415e-01,\n",
              "          1.7592e-02,  9.5210e-02,  2.1271e-01,  2.6980e-01,  6.4492e-02,\n",
              "          4.1522e-02,  3.6385e-02,  6.4806e-02,  2.3534e-02,  1.2964e-01,\n",
              "          4.1593e-01,  5.2918e-02,  1.3687e-01,  1.2497e-01,  1.3144e-01,\n",
              "          8.2117e-02,  6.2173e-02,  3.4568e-03,  6.6162e-02,  1.6190e-01,\n",
              "          7.5187e-02,  2.1111e-01,  6.0968e-02,  4.4569e-02, -1.9051e-04,\n",
              "          3.0018e-01, -4.3300e-03,  1.5124e-01,  1.4244e-01,  2.0389e-01,\n",
              "          1.4107e-01,  2.1007e-01,  4.8680e-02,  9.6532e-02,  3.0163e-01,\n",
              "          2.3147e-01,  1.3116e-01, -8.2235e-02, -1.8318e-02,  1.2207e-01,\n",
              "         -6.9722e-02,  3.1063e-01,  1.8164e-01,  2.5894e-01,  9.9270e-02]])"
            ]
          },
          "metadata": {},
          "execution_count": 43
        }
      ]
    },
    {
      "cell_type": "code",
      "source": [
        "# Two lists of sentences\n",
        "sentences1 = ['The cat sits outside']\n",
        "\n",
        "sentences2 = ['The dog plays in the garden',\n",
        "              'A woman watches TV',\n",
        "              'The new movie is so great']\n",
        "\n",
        "#Compute embedding for both lists\n",
        "embeddings1 = model.encode(sentences1, convert_to_tensor=True)\n",
        "embeddings2 = model.encode(sentences2, convert_to_tensor=True)"
      ],
      "metadata": {
        "id": "SvG-qIcQTjB0"
      },
      "execution_count": 33,
      "outputs": []
    },
    {
      "cell_type": "code",
      "source": [
        "simularity.sort()[:5]"
      ],
      "metadata": {
        "id": "XlVgRPcnS7dE"
      },
      "execution_count": null,
      "outputs": []
    },
    {
      "cell_type": "markdown",
      "source": [
        "Useful code snippets"
      ],
      "metadata": {
        "id": "RE3QGDun9mXp"
      }
    },
    {
      "cell_type": "code",
      "source": [
        "import json\n",
        "with open('beer_concept_500.json', 'w', encoding='utf-8') as f:\n",
        "    json.dump(res_['result'], f, ensure_ascii=False, indent=4)"
      ],
      "metadata": {
        "id": "BYTMdhbi9qWn"
      },
      "execution_count": null,
      "outputs": []
    },
    {
      "cell_type": "code",
      "source": [
        "from scipy.spatial import distance\n",
        "\n",
        "distance.cosine(item,target)"
      ],
      "metadata": {
        "id": "gkOWTYew_Vch"
      },
      "execution_count": null,
      "outputs": []
    },
    {
      "cell_type": "code",
      "source": [
        "pip install -U sentence-transformers"
      ],
      "metadata": {
        "id": "_yZWfHWg_2QV"
      },
      "execution_count": null,
      "outputs": []
    },
    {
      "cell_type": "code",
      "source": [
        "from sentence_transformers import SentenceTransformer\n",
        "model = SentenceTransformer('paraphrase-MiniLM-L6-v2')\n",
        "\n",
        "#Our sentences we like to encode\n",
        "sentences = ['This framework generates embeddings for each input sentence',\n",
        "    'Sentences are passed as a list of string.',\n",
        "    'The quick brown fox jumps over the lazy dog.']\n",
        "\n",
        "#Sentences are encoded by calling model.encode()\n",
        "embeddings = model.encode(sentences)\n",
        "\n",
        "#Print the embeddings\n",
        "for sentence, embedding in zip(sentences, embeddings):\n",
        "    print(\"Sentence:\", sentence)\n",
        "    print(\"Embedding:\", embedding)\n",
        "    print(\"\")"
      ],
      "metadata": {
        "id": "0D65MwY2_4Xe"
      },
      "execution_count": null,
      "outputs": []
    },
    {
      "cell_type": "code",
      "source": [
        "from sentence_transformers import SentenceTransformer, util\n",
        "model = SentenceTransformer('all-MiniLM-L6-v2')\n",
        "\n",
        "# Two lists of sentences\n",
        "sentences1 = ['The cat sits outside',\n",
        "             'A man is playing guitar',\n",
        "             'The new movie is awesome']\n",
        "\n",
        "sentences2 = ['The dog plays in the garden',\n",
        "              'A woman watches TV',\n",
        "              'The new movie is so great']\n",
        "\n",
        "#Compute embedding for both lists\n",
        "embeddings1 = model.encode(sentences1, convert_to_tensor=True)\n",
        "embeddings2 = model.encode(sentences2, convert_to_tensor=True)\n",
        "\n",
        "#Compute cosine-similarits\n",
        "cosine_scores = util.cos_sim(embeddings1, embeddings2)\n",
        "\n",
        "#Output the pairs with their score\n",
        "for i in range(len(sentences1)):\n",
        "    print(\"{} \\t\\t {} \\t\\t Score: {:.4f}\".format(sentences1[i], sentences2[i], cosine_scores[i][i]))"
      ],
      "metadata": {
        "id": "UD2zhnpXAcHf"
      },
      "execution_count": null,
      "outputs": []
    }
  ]
}