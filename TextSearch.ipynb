{
  "nbformat": 4,
  "nbformat_minor": 0,
  "metadata": {
    "colab": {
      "name": "TextSearch.ipynb",
      "provenance": [],
      "authorship_tag": "ABX9TyNBnwhz9y2X7IcMrOKkL+Jl",
      "include_colab_link": true
    },
    "kernelspec": {
      "name": "python3",
      "display_name": "Python 3"
    },
    "language_info": {
      "name": "python"
    }
  },
  "cells": [
    {
      "cell_type": "markdown",
      "metadata": {
        "id": "view-in-github",
        "colab_type": "text"
      },
      "source": [
        "<a href=\"https://colab.research.google.com/github/pastrop/kaggle/blob/master/TextSearch.ipynb\" target=\"_parent\"><img src=\"https://colab.research.google.com/assets/colab-badge.svg\" alt=\"Open In Colab\"/></a>"
      ]
    },
    {
      "cell_type": "code",
      "source": [
        "# file upload while using Google Colab\n",
        "from google.colab import files\n",
        "uploaded = files.upload()"
      ],
      "metadata": {
        "colab": {
          "resources": {
            "http://localhost:8080/nbextensions/google.colab/files.js": {
              "data": "Ly8gQ29weXJpZ2h0IDIwMTcgR29vZ2xlIExMQwovLwovLyBMaWNlbnNlZCB1bmRlciB0aGUgQXBhY2hlIExpY2Vuc2UsIFZlcnNpb24gMi4wICh0aGUgIkxpY2Vuc2UiKTsKLy8geW91IG1heSBub3QgdXNlIHRoaXMgZmlsZSBleGNlcHQgaW4gY29tcGxpYW5jZSB3aXRoIHRoZSBMaWNlbnNlLgovLyBZb3UgbWF5IG9idGFpbiBhIGNvcHkgb2YgdGhlIExpY2Vuc2UgYXQKLy8KLy8gICAgICBodHRwOi8vd3d3LmFwYWNoZS5vcmcvbGljZW5zZXMvTElDRU5TRS0yLjAKLy8KLy8gVW5sZXNzIHJlcXVpcmVkIGJ5IGFwcGxpY2FibGUgbGF3IG9yIGFncmVlZCB0byBpbiB3cml0aW5nLCBzb2Z0d2FyZQovLyBkaXN0cmlidXRlZCB1bmRlciB0aGUgTGljZW5zZSBpcyBkaXN0cmlidXRlZCBvbiBhbiAiQVMgSVMiIEJBU0lTLAovLyBXSVRIT1VUIFdBUlJBTlRJRVMgT1IgQ09ORElUSU9OUyBPRiBBTlkgS0lORCwgZWl0aGVyIGV4cHJlc3Mgb3IgaW1wbGllZC4KLy8gU2VlIHRoZSBMaWNlbnNlIGZvciB0aGUgc3BlY2lmaWMgbGFuZ3VhZ2UgZ292ZXJuaW5nIHBlcm1pc3Npb25zIGFuZAovLyBsaW1pdGF0aW9ucyB1bmRlciB0aGUgTGljZW5zZS4KCi8qKgogKiBAZmlsZW92ZXJ2aWV3IEhlbHBlcnMgZm9yIGdvb2dsZS5jb2xhYiBQeXRob24gbW9kdWxlLgogKi8KKGZ1bmN0aW9uKHNjb3BlKSB7CmZ1bmN0aW9uIHNwYW4odGV4dCwgc3R5bGVBdHRyaWJ1dGVzID0ge30pIHsKICBjb25zdCBlbGVtZW50ID0gZG9jdW1lbnQuY3JlYXRlRWxlbWVudCgnc3BhbicpOwogIGVsZW1lbnQudGV4dENvbnRlbnQgPSB0ZXh0OwogIGZvciAoY29uc3Qga2V5IG9mIE9iamVjdC5rZXlzKHN0eWxlQXR0cmlidXRlcykpIHsKICAgIGVsZW1lbnQuc3R5bGVba2V5XSA9IHN0eWxlQXR0cmlidXRlc1trZXldOwogIH0KICByZXR1cm4gZWxlbWVudDsKfQoKLy8gTWF4IG51bWJlciBvZiBieXRlcyB3aGljaCB3aWxsIGJlIHVwbG9hZGVkIGF0IGEgdGltZS4KY29uc3QgTUFYX1BBWUxPQURfU0laRSA9IDEwMCAqIDEwMjQ7CgpmdW5jdGlvbiBfdXBsb2FkRmlsZXMoaW5wdXRJZCwgb3V0cHV0SWQpIHsKICBjb25zdCBzdGVwcyA9IHVwbG9hZEZpbGVzU3RlcChpbnB1dElkLCBvdXRwdXRJZCk7CiAgY29uc3Qgb3V0cHV0RWxlbWVudCA9IGRvY3VtZW50LmdldEVsZW1lbnRCeUlkKG91dHB1dElkKTsKICAvLyBDYWNoZSBzdGVwcyBvbiB0aGUgb3V0cHV0RWxlbWVudCB0byBtYWtlIGl0IGF2YWlsYWJsZSBmb3IgdGhlIG5leHQgY2FsbAogIC8vIHRvIHVwbG9hZEZpbGVzQ29udGludWUgZnJvbSBQeXRob24uCiAgb3V0cHV0RWxlbWVudC5zdGVwcyA9IHN0ZXBzOwoKICByZXR1cm4gX3VwbG9hZEZpbGVzQ29udGludWUob3V0cHV0SWQpOwp9CgovLyBUaGlzIGlzIHJvdWdobHkgYW4gYXN5bmMgZ2VuZXJhdG9yIChub3Qgc3VwcG9ydGVkIGluIHRoZSBicm93c2VyIHlldCksCi8vIHdoZXJlIHRoZXJlIGFyZSBtdWx0aXBsZSBhc3luY2hyb25vdXMgc3RlcHMgYW5kIHRoZSBQeXRob24gc2lkZSBpcyBnb2luZwovLyB0byBwb2xsIGZvciBjb21wbGV0aW9uIG9mIGVhY2ggc3RlcC4KLy8gVGhpcyB1c2VzIGEgUHJvbWlzZSB0byBibG9jayB0aGUgcHl0aG9uIHNpZGUgb24gY29tcGxldGlvbiBvZiBlYWNoIHN0ZXAsCi8vIHRoZW4gcGFzc2VzIHRoZSByZXN1bHQgb2YgdGhlIHByZXZpb3VzIHN0ZXAgYXMgdGhlIGlucHV0IHRvIHRoZSBuZXh0IHN0ZXAuCmZ1bmN0aW9uIF91cGxvYWRGaWxlc0NvbnRpbnVlKG91dHB1dElkKSB7CiAgY29uc3Qgb3V0cHV0RWxlbWVudCA9IGRvY3VtZW50LmdldEVsZW1lbnRCeUlkKG91dHB1dElkKTsKICBjb25zdCBzdGVwcyA9IG91dHB1dEVsZW1lbnQuc3RlcHM7CgogIGNvbnN0IG5leHQgPSBzdGVwcy5uZXh0KG91dHB1dEVsZW1lbnQubGFzdFByb21pc2VWYWx1ZSk7CiAgcmV0dXJuIFByb21pc2UucmVzb2x2ZShuZXh0LnZhbHVlLnByb21pc2UpLnRoZW4oKHZhbHVlKSA9PiB7CiAgICAvLyBDYWNoZSB0aGUgbGFzdCBwcm9taXNlIHZhbHVlIHRvIG1ha2UgaXQgYXZhaWxhYmxlIHRvIHRoZSBuZXh0CiAgICAvLyBzdGVwIG9mIHRoZSBnZW5lcmF0b3IuCiAgICBvdXRwdXRFbGVtZW50Lmxhc3RQcm9taXNlVmFsdWUgPSB2YWx1ZTsKICAgIHJldHVybiBuZXh0LnZhbHVlLnJlc3BvbnNlOwogIH0pOwp9CgovKioKICogR2VuZXJhdG9yIGZ1bmN0aW9uIHdoaWNoIGlzIGNhbGxlZCBiZXR3ZWVuIGVhY2ggYXN5bmMgc3RlcCBvZiB0aGUgdXBsb2FkCiAqIHByb2Nlc3MuCiAqIEBwYXJhbSB7c3RyaW5nfSBpbnB1dElkIEVsZW1lbnQgSUQgb2YgdGhlIGlucHV0IGZpbGUgcGlja2VyIGVsZW1lbnQuCiAqIEBwYXJhbSB7c3RyaW5nfSBvdXRwdXRJZCBFbGVtZW50IElEIG9mIHRoZSBvdXRwdXQgZGlzcGxheS4KICogQHJldHVybiB7IUl0ZXJhYmxlPCFPYmplY3Q+fSBJdGVyYWJsZSBvZiBuZXh0IHN0ZXBzLgogKi8KZnVuY3Rpb24qIHVwbG9hZEZpbGVzU3RlcChpbnB1dElkLCBvdXRwdXRJZCkgewogIGNvbnN0IGlucHV0RWxlbWVudCA9IGRvY3VtZW50LmdldEVsZW1lbnRCeUlkKGlucHV0SWQpOwogIGlucHV0RWxlbWVudC5kaXNhYmxlZCA9IGZhbHNlOwoKICBjb25zdCBvdXRwdXRFbGVtZW50ID0gZG9jdW1lbnQuZ2V0RWxlbWVudEJ5SWQob3V0cHV0SWQpOwogIG91dHB1dEVsZW1lbnQuaW5uZXJIVE1MID0gJyc7CgogIGNvbnN0IHBpY2tlZFByb21pc2UgPSBuZXcgUHJvbWlzZSgocmVzb2x2ZSkgPT4gewogICAgaW5wdXRFbGVtZW50LmFkZEV2ZW50TGlzdGVuZXIoJ2NoYW5nZScsIChlKSA9PiB7CiAgICAgIHJlc29sdmUoZS50YXJnZXQuZmlsZXMpOwogICAgfSk7CiAgfSk7CgogIGNvbnN0IGNhbmNlbCA9IGRvY3VtZW50LmNyZWF0ZUVsZW1lbnQoJ2J1dHRvbicpOwogIGlucHV0RWxlbWVudC5wYXJlbnRFbGVtZW50LmFwcGVuZENoaWxkKGNhbmNlbCk7CiAgY2FuY2VsLnRleHRDb250ZW50ID0gJ0NhbmNlbCB1cGxvYWQnOwogIGNvbnN0IGNhbmNlbFByb21pc2UgPSBuZXcgUHJvbWlzZSgocmVzb2x2ZSkgPT4gewogICAgY2FuY2VsLm9uY2xpY2sgPSAoKSA9PiB7CiAgICAgIHJlc29sdmUobnVsbCk7CiAgICB9OwogIH0pOwoKICAvLyBXYWl0IGZvciB0aGUgdXNlciB0byBwaWNrIHRoZSBmaWxlcy4KICBjb25zdCBmaWxlcyA9IHlpZWxkIHsKICAgIHByb21pc2U6IFByb21pc2UucmFjZShbcGlja2VkUHJvbWlzZSwgY2FuY2VsUHJvbWlzZV0pLAogICAgcmVzcG9uc2U6IHsKICAgICAgYWN0aW9uOiAnc3RhcnRpbmcnLAogICAgfQogIH07CgogIGNhbmNlbC5yZW1vdmUoKTsKCiAgLy8gRGlzYWJsZSB0aGUgaW5wdXQgZWxlbWVudCBzaW5jZSBmdXJ0aGVyIHBpY2tzIGFyZSBub3QgYWxsb3dlZC4KICBpbnB1dEVsZW1lbnQuZGlzYWJsZWQgPSB0cnVlOwoKICBpZiAoIWZpbGVzKSB7CiAgICByZXR1cm4gewogICAgICByZXNwb25zZTogewogICAgICAgIGFjdGlvbjogJ2NvbXBsZXRlJywKICAgICAgfQogICAgfTsKICB9CgogIGZvciAoY29uc3QgZmlsZSBvZiBmaWxlcykgewogICAgY29uc3QgbGkgPSBkb2N1bWVudC5jcmVhdGVFbGVtZW50KCdsaScpOwogICAgbGkuYXBwZW5kKHNwYW4oZmlsZS5uYW1lLCB7Zm9udFdlaWdodDogJ2JvbGQnfSkpOwogICAgbGkuYXBwZW5kKHNwYW4oCiAgICAgICAgYCgke2ZpbGUudHlwZSB8fCAnbi9hJ30pIC0gJHtmaWxlLnNpemV9IGJ5dGVzLCBgICsKICAgICAgICBgbGFzdCBtb2RpZmllZDogJHsKICAgICAgICAgICAgZmlsZS5sYXN0TW9kaWZpZWREYXRlID8gZmlsZS5sYXN0TW9kaWZpZWREYXRlLnRvTG9jYWxlRGF0ZVN0cmluZygpIDoKICAgICAgICAgICAgICAgICAgICAgICAgICAgICAgICAgICAgJ24vYSd9IC0gYCkpOwogICAgY29uc3QgcGVyY2VudCA9IHNwYW4oJzAlIGRvbmUnKTsKICAgIGxpLmFwcGVuZENoaWxkKHBlcmNlbnQpOwoKICAgIG91dHB1dEVsZW1lbnQuYXBwZW5kQ2hpbGQobGkpOwoKICAgIGNvbnN0IGZpbGVEYXRhUHJvbWlzZSA9IG5ldyBQcm9taXNlKChyZXNvbHZlKSA9PiB7CiAgICAgIGNvbnN0IHJlYWRlciA9IG5ldyBGaWxlUmVhZGVyKCk7CiAgICAgIHJlYWRlci5vbmxvYWQgPSAoZSkgPT4gewogICAgICAgIHJlc29sdmUoZS50YXJnZXQucmVzdWx0KTsKICAgICAgfTsKICAgICAgcmVhZGVyLnJlYWRBc0FycmF5QnVmZmVyKGZpbGUpOwogICAgfSk7CiAgICAvLyBXYWl0IGZvciB0aGUgZGF0YSB0byBiZSByZWFkeS4KICAgIGxldCBmaWxlRGF0YSA9IHlpZWxkIHsKICAgICAgcHJvbWlzZTogZmlsZURhdGFQcm9taXNlLAogICAgICByZXNwb25zZTogewogICAgICAgIGFjdGlvbjogJ2NvbnRpbnVlJywKICAgICAgfQogICAgfTsKCiAgICAvLyBVc2UgYSBjaHVua2VkIHNlbmRpbmcgdG8gYXZvaWQgbWVzc2FnZSBzaXplIGxpbWl0cy4gU2VlIGIvNjIxMTU2NjAuCiAgICBsZXQgcG9zaXRpb24gPSAwOwogICAgZG8gewogICAgICBjb25zdCBsZW5ndGggPSBNYXRoLm1pbihmaWxlRGF0YS5ieXRlTGVuZ3RoIC0gcG9zaXRpb24sIE1BWF9QQVlMT0FEX1NJWkUpOwogICAgICBjb25zdCBjaHVuayA9IG5ldyBVaW50OEFycmF5KGZpbGVEYXRhLCBwb3NpdGlvbiwgbGVuZ3RoKTsKICAgICAgcG9zaXRpb24gKz0gbGVuZ3RoOwoKICAgICAgY29uc3QgYmFzZTY0ID0gYnRvYShTdHJpbmcuZnJvbUNoYXJDb2RlLmFwcGx5KG51bGwsIGNodW5rKSk7CiAgICAgIHlpZWxkIHsKICAgICAgICByZXNwb25zZTogewogICAgICAgICAgYWN0aW9uOiAnYXBwZW5kJywKICAgICAgICAgIGZpbGU6IGZpbGUubmFtZSwKICAgICAgICAgIGRhdGE6IGJhc2U2NCwKICAgICAgICB9LAogICAgICB9OwoKICAgICAgbGV0IHBlcmNlbnREb25lID0gZmlsZURhdGEuYnl0ZUxlbmd0aCA9PT0gMCA/CiAgICAgICAgICAxMDAgOgogICAgICAgICAgTWF0aC5yb3VuZCgocG9zaXRpb24gLyBmaWxlRGF0YS5ieXRlTGVuZ3RoKSAqIDEwMCk7CiAgICAgIHBlcmNlbnQudGV4dENvbnRlbnQgPSBgJHtwZXJjZW50RG9uZX0lIGRvbmVgOwoKICAgIH0gd2hpbGUgKHBvc2l0aW9uIDwgZmlsZURhdGEuYnl0ZUxlbmd0aCk7CiAgfQoKICAvLyBBbGwgZG9uZS4KICB5aWVsZCB7CiAgICByZXNwb25zZTogewogICAgICBhY3Rpb246ICdjb21wbGV0ZScsCiAgICB9CiAgfTsKfQoKc2NvcGUuZ29vZ2xlID0gc2NvcGUuZ29vZ2xlIHx8IHt9OwpzY29wZS5nb29nbGUuY29sYWIgPSBzY29wZS5nb29nbGUuY29sYWIgfHwge307CnNjb3BlLmdvb2dsZS5jb2xhYi5fZmlsZXMgPSB7CiAgX3VwbG9hZEZpbGVzLAogIF91cGxvYWRGaWxlc0NvbnRpbnVlLAp9Owp9KShzZWxmKTsK",
              "ok": true,
              "headers": [
                [
                  "content-type",
                  "application/javascript"
                ]
              ],
              "status": 200,
              "status_text": ""
            }
          },
          "base_uri": "https://localhost:8080/",
          "height": 74
        },
        "id": "zSFDv5LB-Mfl",
        "outputId": "313fada3-a26f-4f26-ee12-3498359eb2e6"
      },
      "execution_count": 12,
      "outputs": [
        {
          "output_type": "display_data",
          "data": {
            "text/plain": [
              "<IPython.core.display.HTML object>"
            ],
            "text/html": [
              "\n",
              "     <input type=\"file\" id=\"files-2dd38fbd-34c3-47ec-a56d-ab5bec20adbd\" name=\"files[]\" multiple disabled\n",
              "        style=\"border:none\" />\n",
              "     <output id=\"result-2dd38fbd-34c3-47ec-a56d-ab5bec20adbd\">\n",
              "      Upload widget is only available when the cell has been executed in the\n",
              "      current browser session. Please rerun this cell to enable.\n",
              "      </output>\n",
              "      <script src=\"/nbextensions/google.colab/files.js\"></script> "
            ]
          },
          "metadata": {}
        },
        {
          "output_type": "stream",
          "name": "stdout",
          "text": [
            "Saving beer_concept_500_8777docs.json to beer_concept_500_8777docs.json\n"
          ]
        }
      ]
    },
    {
      "cell_type": "code",
      "execution_count": 13,
      "metadata": {
        "id": "N-_y2uyN9EPn"
      },
      "outputs": [],
      "source": [
        "import json\n",
        "with open('beer_concept_500_8777docs.json') as f:\n",
        "    inp = json.load(f)"
      ]
    },
    {
      "cell_type": "code",
      "source": [
        "concepts = []\n",
        "for item in inp:\n",
        "  concepts.append(item['texts'][0])"
      ],
      "metadata": {
        "id": "iYohCx41QP_P"
      },
      "execution_count": 38,
      "outputs": []
    },
    {
      "cell_type": "code",
      "source": [
        "concepts[100]"
      ],
      "metadata": {
        "colab": {
          "base_uri": "https://localhost:8080/",
          "height": 35
        },
        "id": "PVlrWPqKMF-t",
        "outputId": "6dcf9ac8-65fc-4c6d-9769-f497fb735c11"
      },
      "execution_count": 39,
      "outputs": [
        {
          "output_type": "execute_result",
          "data": {
            "text/plain": [
              "'sour'"
            ],
            "application/vnd.google.colaboratory.intrinsic+json": {
              "type": "string"
            }
          },
          "metadata": {},
          "execution_count": 39
        }
      ]
    },
    {
      "cell_type": "markdown",
      "source": [
        "**SBERT**"
      ],
      "metadata": {
        "id": "WMKcycZhPVmH"
      }
    },
    {
      "cell_type": "code",
      "source": [
        "%pip install -U sentence-transformers"
      ],
      "metadata": {
        "id": "1QWrDmOxPbXQ"
      },
      "execution_count": null,
      "outputs": []
    },
    {
      "cell_type": "code",
      "source": [
        "from sentence_transformers import SentenceTransformer, util"
      ],
      "metadata": {
        "id": "VlzNKoKqPVK2"
      },
      "execution_count": 25,
      "outputs": []
    },
    {
      "cell_type": "code",
      "source": [
        "model = SentenceTransformer('paraphrase-MiniLM-L6-v2')"
      ],
      "metadata": {
        "id": "I1KVFGwYQAxv"
      },
      "execution_count": null,
      "outputs": []
    },
    {
      "cell_type": "code",
      "source": [
        "target = 'Pike'\n",
        "emb_target = model.encode(target)\n",
        "emb_corpus = model.encode(concepts)\n",
        "cosine_scores = util.cos_sim(emb_target, emb_corpus)\n",
        "arr = cosine_scores.numpy().flatten().tolist()"
      ],
      "metadata": {
        "id": "_eRPVX03QGlb"
      },
      "execution_count": 95,
      "outputs": []
    },
    {
      "cell_type": "code",
      "source": [
        "arr = cosine_scores.numpy().flatten().tolist()\n",
        "simularity = list(zip(arr,concepts))\n",
        "sorted(simularity, reverse = True)"
      ],
      "metadata": {
        "colab": {
          "base_uri": "https://localhost:8080/"
        },
        "id": "djydWb2S0ddk",
        "outputId": "d23c68b5-e1fe-4852-dacb-1300d798cc48"
      },
      "execution_count": 96,
      "outputs": [
        {
          "output_type": "execute_result",
          "data": {
            "text/plain": [
              "[(1.000000238418579, 'Pike'),\n",
              " (0.4149668216705322, 'sharp'),\n",
              " (0.37748605012893677, 'plum'),\n",
              " (0.36252593994140625, 'crisp'),\n",
              " (0.3494024872779846, 'clings'),\n",
              " (0.3363867998123169, 'straw'),\n",
              " (0.3316863179206848, 'fluffy'),\n",
              " (0.3310807943344116, 'brown'),\n",
              " (0.3309513330459595, 'silky'),\n",
              " (0.32846519351005554, 'cherry'),\n",
              " (0.32598525285720825, 'skunky'),\n",
              " (0.3255994915962219, 'tangy'),\n",
              " (0.3152592182159424, 'sticks'),\n",
              " (0.31470900774002075, 'slick'),\n",
              " (0.31454527378082275, 'tulip'),\n",
              " (0.3142644762992859, 'cloying'),\n",
              " (0.3038010001182556, 'earthy'),\n",
              " (0.29893457889556885, 'ring'),\n",
              " (0.29884567856788635, 'followed'),\n",
              " (0.29805994033813477, 'spot'),\n",
              " (0.29779407382011414, 'CBC'),\n",
              " (0.2976797819137573, 'oak'),\n",
              " (0.296328067779541, 'golden'),\n",
              " (0.29468291997909546, 'seems'),\n",
              " (0.29191774129867554, 'T'),\n",
              " (0.29116106033325195, 'edges'),\n",
              " (0.2907593548297882, 'rye'),\n",
              " (0.28789567947387695, 'tart'),\n",
              " (0.286456823348999, 'tan'),\n",
              " (0.28012827038764954, 'juicy'),\n",
              " (0.2764251232147217, 'Served'),\n",
              " (0.2736895978450775, 'D'),\n",
              " (0.2716345191001892, 'pepper'),\n",
              " (0.27061113715171814, 'cream'),\n",
              " (0.26960301399230957, 'interesting'),\n",
              " (0.26471078395843506, 'nicely'),\n",
              " (0.26463109254837036, 'peppery'),\n",
              " (0.2623502016067505, 'grassy'),\n",
              " (0.262175589799881, 'highlights'),\n",
              " (0.261128306388855, 'copper'),\n",
              " (0.2610399127006531, 'stout'),\n",
              " (0.25995320081710815, 'oily'),\n",
              " (0.25922366976737976, 'strong'),\n",
              " (0.2587983012199402, 'solid'),\n",
              " (0.25874456763267517, 'punch'),\n",
              " (0.2584744393825531, 'retains'),\n",
              " (0.2570185959339142, 'tasty'),\n",
              " (0.25600534677505493, 'depth'),\n",
              " (0.25571802258491516, 'nutty'),\n",
              " (0.2534251809120178, 'piney'),\n",
              " (0.2532922029495239, 'fairly'),\n",
              " (0.25233086943626404, 'cap'),\n",
              " (0.24993208050727844, 'dominant'),\n",
              " (0.2489440143108368, 'a bit'),\n",
              " (0.24890978634357452, 'caramel'),\n",
              " (0.24688702821731567, 'rose'),\n",
              " (0.24623577296733856, 'little'),\n",
              " (0.24605242908000946, 'try'),\n",
              " (0.24496006965637207, 'odd'),\n",
              " (0.24495263397693634, 'earthy hops'),\n",
              " (0.24365952610969543, 'texture'),\n",
              " (0.2428005337715149, 'impressive'),\n",
              " (0.2426372766494751, 'pretty'),\n",
              " (0.24261990189552307, 'O'),\n",
              " (0.24244943261146545, 'character'),\n",
              " (0.24177494645118713, 'roasty'),\n",
              " (0.241720512509346, 'Imperial Stout'),\n",
              " (0.24131721258163452, 'pick'),\n",
              " (0.24112726747989655, 'RIS'),\n",
              " (0.24045094847679138, 'soft'),\n",
              " (0.24040886759757996, 'rich'),\n",
              " (0.23963545262813568, 'pine'),\n",
              " (0.2383371889591217, 'rind'),\n",
              " (0.23808550834655762, 'clove'),\n",
              " (0.2368059754371643, 'roasted'),\n",
              " (0.23438760638237, 'craft'),\n",
              " (0.233555868268013, 'backbone'),\n",
              " (0.2321743220090866, 'hop presence'),\n",
              " (0.2303653210401535, 'Appearance'),\n",
              " (0.2303447276353836, 'hops'),\n",
              " (0.22920630872249603, 'orange peel'),\n",
              " (0.22836628556251526, 'medium bodied'),\n",
              " (0.22811442613601685, 'spicy'),\n",
              " (0.2244473695755005, 'tartness'),\n",
              " (0.2229006290435791, 'well balanced'),\n",
              " (0.2225818932056427, 'comes'),\n",
              " (0.2223750501871109, 'pink'),\n",
              " (0.22237280011177063, 'barrel'),\n",
              " (0.22133785486221313, 'review'),\n",
              " (0.22031153738498688, 'pilsner'),\n",
              " (0.2202092707157135, 'piney hops'),\n",
              " (0.2187674641609192, 'creamy'),\n",
              " (0.21847060322761536, 'lightly'),\n",
              " (0.21776311099529266, 'delicious'),\n",
              " (0.21769963204860687, 'bright'),\n",
              " (0.21643216907978058, 'surprisingly'),\n",
              " (0.21611231565475464, 'grass'),\n",
              " (0.21415415406227112, 'citric'),\n",
              " (0.21240802109241486, 'reminds'),\n",
              " (0.21094509959220886, 'imperial'),\n",
              " (0.210897296667099, 'bland'),\n",
              " (0.21011777222156525, 'impression'),\n",
              " (0.20966766774654388, 'nice'),\n",
              " (0.20950181782245636, 'on-tap'),\n",
              " (0.20939093828201294, 'tulip glass'),\n",
              " (0.20864468812942505, 'lots'),\n",
              " (0.20851290225982666, 'pear'),\n",
              " (0.20748001337051392, 'presence'),\n",
              " (0.20745888352394104, 'notes'),\n",
              " (0.2073926329612732, 'dark brown'),\n",
              " (0.2073010802268982, 'hidden'),\n",
              " (0.2070152461528778, 'tan head'),\n",
              " (0.20545485615730286, 'finish'),\n",
              " (0.2042691856622696, 'aspect'),\n",
              " (0.20375099778175354, 'front'),\n",
              " (0.20295771956443787, 'swallow'),\n",
              " (0.20180849730968475, 'ripe'),\n",
              " (0.20113492012023926, 'label'),\n",
              " (0.2005201280117035, 'figs'),\n",
              " (0.20037925243377686, 'bready'),\n",
              " (0.199391707777977, 'tart cherries'),\n",
              " (0.19914941489696503, 'present'),\n",
              " (0.19791540503501892, 'medium'),\n",
              " (0.1978708803653717, 'sticky'),\n",
              " (0.1971915066242218, 'sweet caramel'),\n",
              " (0.19702236354351044, 'thin'),\n",
              " (0.1963934600353241, 'carbonated'),\n",
              " (0.1948898881673813, 'coriander'),\n",
              " (0.1947655975818634, 'sediment'),\n",
              " (0.19471153616905212, 'tongue'),\n",
              " (0.1945328265428543, 'excellent'),\n",
              " (0.19444003701210022, 'porter'),\n",
              " (0.19428548216819763, 'lager'),\n",
              " (0.19406498968601227, 'fresh'),\n",
              " (0.1931358277797699, 'bite'),\n",
              " (0.19221898913383484, 'quickly'),\n",
              " (0.19126446545124054, 'chewy'),\n",
              " (0.19122907519340515, 'candy'),\n",
              " (0.18982192873954773, 'sitting'),\n",
              " (0.1897268295288086, 'plenty'),\n",
              " (0.18946513533592224, 'hint'),\n",
              " (0.18850255012512207, 'slightly'),\n",
              " (0.18765124678611755, 'hoppy'),\n",
              " (0.18759389221668243, 'Belgian'),\n",
              " (0.18742138147354126, 'collar'),\n",
              " (0.1870967596769333, 'full bodied'),\n",
              " (0.1865827739238739, 'tint'),\n",
              " (0.18598756194114685, 'characteristics'),\n",
              " (0.18454015254974365, 'smooth and creamy'),\n",
              " (0.18380597233772278, 'caramel malt'),\n",
              " (0.18351155519485474, 'flavor'),\n",
              " (0.1834927797317505, 'adds'),\n",
              " (0.1833348125219345, 'reddish'),\n",
              " (0.18314436078071594, 'soapy'),\n",
              " (0.18289723992347717, 'smokiness'),\n",
              " (0.18262621760368347, 'impressed'),\n",
              " (0.1825602501630783, 'pineapple'),\n",
              " (0.1816663146018982, 'background'),\n",
              " (0.18126019835472107, 'layer'),\n",
              " (0.1812601089477539, 'balance'),\n",
              " (0.1807405799627304, 'enjoy'),\n",
              " (0.17952394485473633, 'pair'),\n",
              " (0.17951901257038116, 'pint'),\n",
              " (0.17851437628269196, 'corn'),\n",
              " (0.17829486727714539, 'masked'),\n",
              " (0.1778755486011505, 'decent'),\n",
              " (0.1776103377342224, 'DIPA'),\n",
              " (0.1764678955078125, 'sweet'),\n",
              " (0.17475199699401855, 'head'),\n",
              " (0.17419439554214478, 'grainy'),\n",
              " (0.17264488339424133, 'pungent'),\n",
              " (0.17223738133907318, 'taste'),\n",
              " (0.17213204503059387, 'ABV'),\n",
              " (0.17210066318511963, 'nose'),\n",
              " (0.17139074206352234, 'prefer'),\n",
              " (0.1712380051612854, 'high ABV'),\n",
              " (0.17123402655124664, 'dominate'),\n",
              " (0.1710452288389206, 'lacking'),\n",
              " (0.17064693570137024, 'spiciness'),\n",
              " (0.17056378722190857, 'Trafalgar'),\n",
              " (0.1704055666923523, 'smooth'),\n",
              " (0.17017440497875214, 'bomber'),\n",
              " (0.16972117125988007, 'bubbles'),\n",
              " (0.16890527307987213, 'opaque'),\n",
              " (0.1686846911907196, 'hop bitterness'),\n",
              " (0.16861167550086975, 'apricot'),\n",
              " (0.16851375997066498, 'yellow'),\n",
              " (0.16835850477218628, 'bread'),\n",
              " (0.1680898219347, 'tap'),\n",
              " (0.16663126647472382, 'throat'),\n",
              " (0.16440343856811523, 'tad'),\n",
              " (0.16396334767341614, 'esters'),\n",
              " (0.16392424702644348, 'flavorful'),\n",
              " (0.16330163180828094, 'bitter hops'),\n",
              " (0.1630193591117859, 'barely'),\n",
              " (0.16300320625305176, 'enjoyable'),\n",
              " (0.162150040268898, 'chocolate'),\n",
              " (0.1620987504720688, 'aggressive'),\n",
              " (0.16151279211044312, 'hop flavor'),\n",
              " (0.16115596890449524, 'grain'),\n",
              " (0.16096100211143494, 'malt and hops'),\n",
              " (0.1605874001979828, 'brown color'),\n",
              " (0.15977264940738678, 'tons'),\n",
              " (0.15919408202171326, 'fruit'),\n",
              " (0.15895766019821167, 'initially'),\n",
              " (0.15872164070606232, 'growler'),\n",
              " (0.15827426314353943, 'quality'),\n",
              " (0.158270001411438, 'orange'),\n",
              " (0.15740282833576202, 'murky'),\n",
              " (0.1571987420320511, 'robust'),\n",
              " (0.15679314732551575, '1 finger'),\n",
              " (0.1559125930070877, 'weak'),\n",
              " (0.15556935966014862, 'Overall'),\n",
              " (0.15423373878002167, 'copper color'),\n",
              " (0.15412001311779022, 'vanilla'),\n",
              " (0.15388143062591553, 'tiny'),\n",
              " (0.15348827838897705, 'clarity'),\n",
              " (0.15240606665611267, 'disappointing'),\n",
              " (0.15050235390663147, 'golden color'),\n",
              " (0.1490955948829651, 'overpowering'),\n",
              " (0.1486431360244751, 'spice'),\n",
              " (0.1480514109134674, 'Yazoo'),\n",
              " (0.14780907332897186, 'mostly'),\n",
              " (0.14664226770401, 'viscous'),\n",
              " (0.1466255486011505, 'whiff'),\n",
              " (0.1461046040058136, 'two finger'),\n",
              " (0.14442229270935059, 'purchased'),\n",
              " (0.1443558633327484, 'brown ale'),\n",
              " (0.1424378752708435, 'thick'),\n",
              " (0.14238899946212769, 'hue'),\n",
              " (0.1422029286623001, 'M'),\n",
              " (0.14192292094230652, 'retention'),\n",
              " (0.1418849229812622, 'apparent'),\n",
              " (0.14115549623966217, 'expected'),\n",
              " (0.14113138616085052, 'flavor profile'),\n",
              " (0.14076471328735352, 'inch'),\n",
              " (0.1402939409017563, 'body'),\n",
              " (0.13938693702220917, 'complex'),\n",
              " (0.13937786221504211, 'mahogany'),\n",
              " (0.13934510946273804, 'deep'),\n",
              " (0.1388929933309555, 'evident'),\n",
              " (0.1388721764087677, 'considering'),\n",
              " (0.1373554766178131, 'disappears'),\n",
              " (0.136404350399971, 'foam'),\n",
              " (0.13636881113052368, 'wood'),\n",
              " (0.1354900300502777, 'falls'),\n",
              " (0.13548511266708374, 'detect'),\n",
              " (0.13529855012893677, 'pleasant'),\n",
              " (0.13529103994369507, 'biscuity'),\n",
              " (0.13513147830963135, 'liquid'),\n",
              " (0.13485875725746155, 'pack'),\n",
              " (0.13460993766784668, 'pronounced'),\n",
              " (0.13448823988437653, 'subdued'),\n",
              " (0.13439416885375977, 'buttery'),\n",
              " (0.13365764915943146, 'roasted malt'),\n",
              " (0.13347406685352325, 'bitter finish'),\n",
              " (0.13309267163276672, 'licorice'),\n",
              " (0.1326640546321869, 'resinous'),\n",
              " (0.13239851593971252, 'not overly'),\n",
              " (0.13177871704101562, 'filling'),\n",
              " (0.13173359632492065, 'malty'),\n",
              " (0.13127198815345764, 'dry finish'),\n",
              " (0.13042448461055756, 'sweetness'),\n",
              " (0.13012564182281494, 'finger'),\n",
              " (0.1294982135295868, 'metallic'),\n",
              " (0.12944601476192474, 'batch'),\n",
              " (0.12925495207309723, 'dense'),\n",
              " (0.12895753979682922, 'initial'),\n",
              " (0.12810757756233215, 'molasses'),\n",
              " (0.12807951867580414, 'aroma'),\n",
              " (0.1277965009212494, 'mellow'),\n",
              " (0.12756572663784027, 'hop aroma'),\n",
              " (0.12693512439727783, 'not overwhelming'),\n",
              " (0.12626373767852783, 'incredibly'),\n",
              " (0.12573352456092834, 'woody'),\n",
              " (0.12566956877708435, 'extremely'),\n",
              " (0.12565281987190247, 'cloudy'),\n",
              " (0.12562473118305206, 'ounce'),\n",
              " (0.12409521639347076, 'cellar'),\n",
              " (0.12372923642396927, 'harsh'),\n",
              " (0.12369047105312347, 'fruity'),\n",
              " (0.1232418343424797, 'biscuit'),\n",
              " (0.12273074686527252, 'swirl'),\n",
              " (0.12255022674798965, 'bubbly'),\n",
              " (0.12234422564506531, 'palate'),\n",
              " (0.12129069864749908, 'bold'),\n",
              " (0.1211976483464241, 'tones'),\n",
              " (0.12109704315662384, 'slowly'),\n",
              " (0.12049037963151932, 'bitterness'),\n",
              " (0.12005513161420822, 'undertones'),\n",
              " (0.1195414662361145, 'light bodied'),\n",
              " (0.11953219771385193, 'heavy'),\n",
              " (0.11949072778224945, 'coating'),\n",
              " (0.11933064460754395, 'amber'),\n",
              " (0.11860346794128418, 'blend'),\n",
              " (0.1171545535326004, 'style'),\n",
              " (0.11673343181610107, 'clean'),\n",
              " (0.116580531001091, 'dose'),\n",
              " (0.11623366177082062, 'complexity'),\n",
              " (0.11617214232683182, 'lingering'),\n",
              " (0.11611422151327133, 'offering'),\n",
              " (0.11589133739471436, 'Pours a cloudy'),\n",
              " (0.1146027073264122, 'charred'),\n",
              " (0.11445337533950806, 'wheat'),\n",
              " (0.11434003710746765, 'sour'),\n",
              " (0.11420973390340805, 'foamy'),\n",
              " (0.1133040115237236, 'nice lacing'),\n",
              " (0.1132722795009613, 'recedes'),\n",
              " (0.11318361759185791, 'white head'),\n",
              " (0.11293414235115051, 'colored head'),\n",
              " (0.11285293847322464, 'mildly'),\n",
              " (0.1123543381690979, 'citrus and pine'),\n",
              " (0.11132544279098511, 'minimal'),\n",
              " (0.11129089444875717, 'ruby'),\n",
              " (0.11084350943565369, 'bourbon'),\n",
              " (0.11072736978530884, 'scent'),\n",
              " (0.11030256748199463, 'smell'),\n",
              " (0.1101289764046669, 'dark chocolate'),\n",
              " (0.11000661551952362, 'upfront'),\n",
              " (0.10867790877819061, 'resiny'),\n",
              " (0.10850999504327774, 'fizzy'),\n",
              " (0.10838648676872253, 'surprised'),\n",
              " (0.1066565066576004, 'bitter chocolate'),\n",
              " (0.10506755113601685, 'Pours a dark brown'),\n",
              " (0.10453464090824127, 'fruitiness'),\n",
              " (0.10436957329511642, 'smoky'),\n",
              " (0.10415083169937134, 'overwhelming'),\n",
              " (0.10355398803949356, 'snifter'),\n",
              " (0.10351903736591339, 'resin'),\n",
              " (0.10323169827461243, 'peach'),\n",
              " (0.10278329998254776, 'toasty'),\n",
              " (0.10276874154806137, 'fades'),\n",
              " (0.10237304121255875, 'certainly'),\n",
              " (0.10169699043035507, 'subtle'),\n",
              " (0.10052770376205444, 'mix'),\n",
              " (0.1000358909368515, 'frothy'),\n",
              " (0.09995824098587036, 'finger head'),\n",
              " (0.09954682737588882, 'foamy head'),\n",
              " (0.09916762262582779, 'yellow color'),\n",
              " (0.09900947660207748, 'wine'),\n",
              " (0.09897492825984955, 'triple IPA'),\n",
              " (0.09828454256057739, 'ale'),\n",
              " (0.09803678840398788, 'lemon'),\n",
              " (0.09722113609313965, 'slight'),\n",
              " (0.09676112234592438, 'IPA'),\n",
              " (0.0962398499250412, 'malty sweetness'),\n",
              " (0.09601479768753052, 'watery'),\n",
              " (0.09571970999240875, 'Cheers'),\n",
              " (0.09461083263158798, 'not overpowering'),\n",
              " (0.09302537143230438, 'color'),\n",
              " (0.09251932054758072, 'residual'),\n",
              " (0.0924605205655098, 'clear'),\n",
              " (0.09206283092498779, 'good retention'),\n",
              " (0.0911838561296463, 'citrus hops'),\n",
              " (0.09074169397354126, 'sticky lacing'),\n",
              " (0.09067074954509735, 'sides of the glass'),\n",
              " (0.09063765406608582, 'lacing'),\n",
              " (0.09005502611398697, 'bready malts'),\n",
              " (0.0880511999130249, 'dark'),\n",
              " (0.08642678707838058, 'sample'),\n",
              " (0.08616234362125397, 'nuts'),\n",
              " (0.08600087463855743, 'sourness'),\n",
              " (0.08312829583883286, 'glass'),\n",
              " (0.08274146914482117, 'moderately'),\n",
              " (0.08192482590675354, 'white foam'),\n",
              " (0.08189431577920914, 'floral hops'),\n",
              " (0.08149035274982452, 'hazy'),\n",
              " (0.08121216297149658, 'sweet malt'),\n",
              " (0.08092489838600159, 'orange color'),\n",
              " (0.08084635436534882, 'mouth'),\n",
              " (0.07955987751483917, 'black'),\n",
              " (0.07865792512893677, 'recommend'),\n",
              " (0.07852894067764282, 'malt backbone'),\n",
              " (0.07751177251338959, 'pint glass'),\n",
              " (0.07743481546640396, 'definitely'),\n",
              " (0.07672645151615143, 'lacing on the glass'),\n",
              " (0.0761498287320137, 'bitter'),\n",
              " (0.07492442429065704, 'loads'),\n",
              " (0.07481010258197784, 'dark amber'),\n",
              " (0.07423609495162964, 'huge'),\n",
              " (0.07193723320960999, 'pale'),\n",
              " (0.07076113671064377, 'smokey'),\n",
              " (0.07062172889709473, 'medicinal'),\n",
              " (0.07060123980045319, 'raisins'),\n",
              " (0.07020731270313263, 'buds'),\n",
              " (0.06895192712545395, 'IPAs'),\n",
              " (0.06891484558582306, 'apple'),\n",
              " (0.06826206296682358, 'typical'),\n",
              " (0.06709782779216766, 'Pours'),\n",
              " (0.06562309712171555, 'liquor'),\n",
              " (0.06510797142982483, 'astringent'),\n",
              " (0.06500762701034546, 'juice'),\n",
              " (0.06379196047782898, 'herbal'),\n",
              " (0.06370645761489868, 'kick'),\n",
              " (0.0632488876581192, 'malt sweetness'),\n",
              " (0.06271141767501831, 'definite'),\n",
              " (0.06233922392129898, 'citrusy'),\n",
              " (0.062116317451000214, 'touch'),\n",
              " (0.06200157478451729, 'Founders'),\n",
              " (0.06191426143050194, 'profile'),\n",
              " (0.060705505311489105, 'aged'),\n",
              " (0.06033262237906456, 'barleywine'),\n",
              " (0.0602300763130188, 'citrus'),\n",
              " (0.05919688940048218, 'maltiness'),\n",
              " (0.058859534561634064, 'head retention'),\n",
              " (0.05813434347510338, 'leaves'),\n",
              " (0.05674290657043457, 'aftertaste'),\n",
              " (0.055668905377388, 'sipper'),\n",
              " (0.05533638596534729, 'honey'),\n",
              " (0.05523648113012314, 'toasted'),\n",
              " (0.054033853113651276, 'amber color'),\n",
              " (0.05354135483503342, 'dry'),\n",
              " (0.05350416898727417, 'malt flavor'),\n",
              " (0.05347317457199097, 'dark fruit'),\n",
              " (0.05333245173096657, 'floral'),\n",
              " (0.053307004272937775, 'intense'),\n",
              " (0.05323895439505577, 'no lacing'),\n",
              " (0.05288587510585785, 'tropical fruit'),\n",
              " (0.050592586398124695, 'malt'),\n",
              " (0.05038890242576599, 'muted'),\n",
              " (0.05011395364999771, 'light'),\n",
              " (0.048156753182411194, 'brew'),\n",
              " (0.04737456887960434, 'BA'),\n",
              " (0.04658029228448868, 'pale malt'),\n",
              " (0.044617149978876114, 'warmth'),\n",
              " (0.044547319412231445, 'noticeable'),\n",
              " (0.04433179646730423, 'mango'),\n",
              " (0.04225076735019684, 'hoppiness'),\n",
              " (0.04177132993936539, 'poured into a pint glass'),\n",
              " (0.04156655818223953, 'finishes dry'),\n",
              " (0.0402771532535553, 'Poured into a snifter'),\n",
              " (0.039292264729738235, 'brewer'),\n",
              " (0.039242252707481384, 'sip'),\n",
              " (0.039040014147758484, 'slightly hazy'),\n",
              " (0.03696860373020172, 'Devil Dancer'),\n",
              " (0.03688602149486542, 'moderate'),\n",
              " (0.035939838737249374, 'dryness'),\n",
              " (0.03515380993485451, 'Pours a hazy'),\n",
              " (0.0333826020359993, 'refreshing'),\n",
              " (0.03295491263270378, 'IBU'),\n",
              " (0.03280568867921829, 'burnt'),\n",
              " (0.03159096837043762, 'settles'),\n",
              " (0.03040844202041626, 'pale ale'),\n",
              " (0.030279546976089478, 'mild'),\n",
              " (0.027160033583641052, 'toffee'),\n",
              " (0.02682078443467617, 'brown sugar'),\n",
              " (0.026286140084266663, 'smoke'),\n",
              " (0.024999484419822693, 'mocha'),\n",
              " (0.023718709126114845, 'chocolate and coffee'),\n",
              " (0.023654386401176453, 'drink'),\n",
              " (0.020837072283029556, 'Pours a clear'),\n",
              " (0.017338793724775314, 'toasted malt'),\n",
              " (0.011721331626176834, 'Pours a dark'),\n",
              " (0.010242659598588943, 'brewpub'),\n",
              " (0.00995447114109993, 'Pours a deep'),\n",
              " (0.006686411798000336, 'drinkable'),\n",
              " (0.0040725842118263245, 'syrup'),\n",
              " (0.0010746568441390991, 'roasted coffee'),\n",
              " (-0.0009667724370956421, 'drinker'),\n",
              " (-0.0037334412336349487, 'banana'),\n",
              " (-0.004246380180120468, 'tinge'),\n",
              " (-0.004931546747684479, 'haze'),\n",
              " (-0.006093064323067665, 'fruit beer'),\n",
              " (-0.006468556821346283, 'syrupy'),\n",
              " (-0.008947307243943214, 'faint'),\n",
              " (-0.010090810246765614, 'medium carbonation'),\n",
              " (-0.010440662503242493, 'cinnamon'),\n",
              " (-0.011665359139442444, 'low carbonation'),\n",
              " (-0.013150161132216454, 'beer'),\n",
              " (-0.013510312885046005, 'easy to drink'),\n",
              " (-0.01874912530183792, 'warms'),\n",
              " (-0.022379674017429352, 'barley'),\n",
              " (-0.023605870082974434, 'Drinkability'),\n",
              " (-0.024186434224247932, 'alcoholic'),\n",
              " (-0.024741094559431076, 'grape'),\n",
              " (-0.024834534153342247, 'carbonation'),\n",
              " (-0.02490144968032837, 'dissipates'),\n",
              " (-0.033092204481363297, 'sugary'),\n",
              " (-0.036116670817136765, '12oz'),\n",
              " (-0.036225900053977966, 'brewery'),\n",
              " (-0.04127873480319977, 'Belgian yeast'),\n",
              " (-0.053141072392463684, 'mouthfeel'),\n",
              " (-0.05785311758518219, 'yeasty'),\n",
              " (-0.06038620322942734, 'alcohol'),\n",
              " (-0.06391067802906036, 'bottle'),\n",
              " (-0.06547044217586517, 'moderate carbonation'),\n",
              " (-0.06574544310569763, 'coffee'),\n",
              " (-0.0719393864274025, 'sugar'),\n",
              " (-0.07568414509296417, 'amount of carbonation'),\n",
              " (-0.09131330996751785, 'boozy'),\n",
              " (-0.09189751744270325, 'yeast'),\n",
              " (-0.10435289144515991, '12 oz. bottle'),\n",
              " (-0.10797141492366791, 'beer pours'),\n",
              " (-0.11076346039772034, '12 oz bottle'),\n",
              " (-0.11230698227882385, 'cocoa'),\n",
              " (-0.12164052575826645, 'session beer'),\n",
              " (-0.1396997570991516, 'grapefruit'),\n",
              " (-0.14285996556282043, 'booze'),\n",
              " (-0.1773417890071869, '12oz bottle'),\n",
              " (-0.21548637747764587, 'espresso')]"
            ]
          },
          "metadata": {},
          "execution_count": 96
        }
      ]
    },
    {
      "cell_type": "code",
      "source": [
        "arr = cosine_scores.numpy().flatten().tolist()\n",
        "len(arr)"
      ],
      "metadata": {
        "colab": {
          "base_uri": "https://localhost:8080/"
        },
        "id": "2R8S8lQ8TuMS",
        "outputId": "474bbc8c-2911-4b7e-eedd-957e43a1fd49"
      },
      "execution_count": 67,
      "outputs": [
        {
          "output_type": "execute_result",
          "data": {
            "text/plain": [
              "500"
            ]
          },
          "metadata": {},
          "execution_count": 67
        }
      ]
    },
    {
      "cell_type": "code",
      "source": [
        "# Two lists of sentences\n",
        "sentences1 = ['The cat sits outside']\n",
        "\n",
        "sentences2 = ['The dog plays in the garden',\n",
        "              'A woman watches TV',\n",
        "              'The new movie is so great']\n",
        "\n",
        "#Compute embedding for both lists\n",
        "embeddings1 = model.encode(sentences1, convert_to_tensor=True)\n",
        "embeddings2 = model.encode(sentences2, convert_to_tensor=True)"
      ],
      "metadata": {
        "id": "SvG-qIcQTjB0"
      },
      "execution_count": 33,
      "outputs": []
    },
    {
      "cell_type": "code",
      "source": [
        "simularity.sort()[:5]"
      ],
      "metadata": {
        "id": "XlVgRPcnS7dE"
      },
      "execution_count": null,
      "outputs": []
    },
    {
      "cell_type": "markdown",
      "source": [
        "Useful code snippets"
      ],
      "metadata": {
        "id": "RE3QGDun9mXp"
      }
    },
    {
      "cell_type": "code",
      "source": [
        "import json\n",
        "with open('beer_concept_500.json', 'w', encoding='utf-8') as f:\n",
        "    json.dump(res_['result'], f, ensure_ascii=False, indent=4)"
      ],
      "metadata": {
        "id": "BYTMdhbi9qWn"
      },
      "execution_count": null,
      "outputs": []
    },
    {
      "cell_type": "code",
      "source": [
        "from scipy.spatial import distance\n",
        "\n",
        "distance.cosine(item,target)"
      ],
      "metadata": {
        "id": "gkOWTYew_Vch"
      },
      "execution_count": null,
      "outputs": []
    },
    {
      "cell_type": "code",
      "source": [
        "pip install -U sentence-transformers"
      ],
      "metadata": {
        "id": "_yZWfHWg_2QV"
      },
      "execution_count": null,
      "outputs": []
    },
    {
      "cell_type": "code",
      "source": [
        "from sentence_transformers import SentenceTransformer\n",
        "model = SentenceTransformer('paraphrase-MiniLM-L6-v2')\n",
        "\n",
        "#Our sentences we like to encode\n",
        "sentences = ['This framework generates embeddings for each input sentence',\n",
        "    'Sentences are passed as a list of string.',\n",
        "    'The quick brown fox jumps over the lazy dog.']\n",
        "\n",
        "#Sentences are encoded by calling model.encode()\n",
        "embeddings = model.encode(sentences)\n",
        "\n",
        "#Print the embeddings\n",
        "for sentence, embedding in zip(sentences, embeddings):\n",
        "    print(\"Sentence:\", sentence)\n",
        "    print(\"Embedding:\", embedding)\n",
        "    print(\"\")"
      ],
      "metadata": {
        "id": "0D65MwY2_4Xe"
      },
      "execution_count": null,
      "outputs": []
    },
    {
      "cell_type": "code",
      "source": [
        "from sentence_transformers import SentenceTransformer, util\n",
        "model = SentenceTransformer('all-MiniLM-L6-v2')\n",
        "\n",
        "# Two lists of sentences\n",
        "sentences1 = ['The cat sits outside',\n",
        "             'A man is playing guitar',\n",
        "             'The new movie is awesome']\n",
        "\n",
        "sentences2 = ['The dog plays in the garden',\n",
        "              'A woman watches TV',\n",
        "              'The new movie is so great']\n",
        "\n",
        "#Compute embedding for both lists\n",
        "embeddings1 = model.encode(sentences1, convert_to_tensor=True)\n",
        "embeddings2 = model.encode(sentences2, convert_to_tensor=True)\n",
        "\n",
        "#Compute cosine-similarits\n",
        "cosine_scores = util.cos_sim(embeddings1, embeddings2)\n",
        "\n",
        "#Output the pairs with their score\n",
        "for i in range(len(sentences1)):\n",
        "    print(\"{} \\t\\t {} \\t\\t Score: {:.4f}\".format(sentences1[i], sentences2[i], cosine_scores[i][i]))"
      ],
      "metadata": {
        "id": "UD2zhnpXAcHf"
      },
      "execution_count": null,
      "outputs": []
    }
  ]
}