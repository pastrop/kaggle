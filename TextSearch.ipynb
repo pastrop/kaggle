{
  "nbformat": 4,
  "nbformat_minor": 0,
  "metadata": {
    "colab": {
      "provenance": [],
      "authorship_tag": "ABX9TyN8HXHeEOAojaWsbORfm3kY",
      "include_colab_link": true
    },
    "kernelspec": {
      "name": "python3",
      "display_name": "Python 3"
    },
    "language_info": {
      "name": "python"
    },
    "accelerator": "GPU",
    "gpuClass": "standard"
  },
  "cells": [
    {
      "cell_type": "markdown",
      "metadata": {
        "id": "view-in-github",
        "colab_type": "text"
      },
      "source": [
        "<a href=\"https://colab.research.google.com/github/pastrop/kaggle/blob/master/TextSearch.ipynb\" target=\"_parent\"><img src=\"https://colab.research.google.com/assets/colab-badge.svg\" alt=\"Open In Colab\"/></a>"
      ]
    },
    {
      "cell_type": "code",
      "source": [
        "# file upload while using Google Colab\n",
        "from google.colab import files\n",
        "uploaded = files.upload()"
      ],
      "metadata": {
        "colab": {
          "resources": {
            "http://localhost:8080/nbextensions/google.colab/files.js": {
              "data": "Ly8gQ29weXJpZ2h0IDIwMTcgR29vZ2xlIExMQwovLwovLyBMaWNlbnNlZCB1bmRlciB0aGUgQXBhY2hlIExpY2Vuc2UsIFZlcnNpb24gMi4wICh0aGUgIkxpY2Vuc2UiKTsKLy8geW91IG1heSBub3QgdXNlIHRoaXMgZmlsZSBleGNlcHQgaW4gY29tcGxpYW5jZSB3aXRoIHRoZSBMaWNlbnNlLgovLyBZb3UgbWF5IG9idGFpbiBhIGNvcHkgb2YgdGhlIExpY2Vuc2UgYXQKLy8KLy8gICAgICBodHRwOi8vd3d3LmFwYWNoZS5vcmcvbGljZW5zZXMvTElDRU5TRS0yLjAKLy8KLy8gVW5sZXNzIHJlcXVpcmVkIGJ5IGFwcGxpY2FibGUgbGF3IG9yIGFncmVlZCB0byBpbiB3cml0aW5nLCBzb2Z0d2FyZQovLyBkaXN0cmlidXRlZCB1bmRlciB0aGUgTGljZW5zZSBpcyBkaXN0cmlidXRlZCBvbiBhbiAiQVMgSVMiIEJBU0lTLAovLyBXSVRIT1VUIFdBUlJBTlRJRVMgT1IgQ09ORElUSU9OUyBPRiBBTlkgS0lORCwgZWl0aGVyIGV4cHJlc3Mgb3IgaW1wbGllZC4KLy8gU2VlIHRoZSBMaWNlbnNlIGZvciB0aGUgc3BlY2lmaWMgbGFuZ3VhZ2UgZ292ZXJuaW5nIHBlcm1pc3Npb25zIGFuZAovLyBsaW1pdGF0aW9ucyB1bmRlciB0aGUgTGljZW5zZS4KCi8qKgogKiBAZmlsZW92ZXJ2aWV3IEhlbHBlcnMgZm9yIGdvb2dsZS5jb2xhYiBQeXRob24gbW9kdWxlLgogKi8KKGZ1bmN0aW9uKHNjb3BlKSB7CmZ1bmN0aW9uIHNwYW4odGV4dCwgc3R5bGVBdHRyaWJ1dGVzID0ge30pIHsKICBjb25zdCBlbGVtZW50ID0gZG9jdW1lbnQuY3JlYXRlRWxlbWVudCgnc3BhbicpOwogIGVsZW1lbnQudGV4dENvbnRlbnQgPSB0ZXh0OwogIGZvciAoY29uc3Qga2V5IG9mIE9iamVjdC5rZXlzKHN0eWxlQXR0cmlidXRlcykpIHsKICAgIGVsZW1lbnQuc3R5bGVba2V5XSA9IHN0eWxlQXR0cmlidXRlc1trZXldOwogIH0KICByZXR1cm4gZWxlbWVudDsKfQoKLy8gTWF4IG51bWJlciBvZiBieXRlcyB3aGljaCB3aWxsIGJlIHVwbG9hZGVkIGF0IGEgdGltZS4KY29uc3QgTUFYX1BBWUxPQURfU0laRSA9IDEwMCAqIDEwMjQ7CgpmdW5jdGlvbiBfdXBsb2FkRmlsZXMoaW5wdXRJZCwgb3V0cHV0SWQpIHsKICBjb25zdCBzdGVwcyA9IHVwbG9hZEZpbGVzU3RlcChpbnB1dElkLCBvdXRwdXRJZCk7CiAgY29uc3Qgb3V0cHV0RWxlbWVudCA9IGRvY3VtZW50LmdldEVsZW1lbnRCeUlkKG91dHB1dElkKTsKICAvLyBDYWNoZSBzdGVwcyBvbiB0aGUgb3V0cHV0RWxlbWVudCB0byBtYWtlIGl0IGF2YWlsYWJsZSBmb3IgdGhlIG5leHQgY2FsbAogIC8vIHRvIHVwbG9hZEZpbGVzQ29udGludWUgZnJvbSBQeXRob24uCiAgb3V0cHV0RWxlbWVudC5zdGVwcyA9IHN0ZXBzOwoKICByZXR1cm4gX3VwbG9hZEZpbGVzQ29udGludWUob3V0cHV0SWQpOwp9CgovLyBUaGlzIGlzIHJvdWdobHkgYW4gYXN5bmMgZ2VuZXJhdG9yIChub3Qgc3VwcG9ydGVkIGluIHRoZSBicm93c2VyIHlldCksCi8vIHdoZXJlIHRoZXJlIGFyZSBtdWx0aXBsZSBhc3luY2hyb25vdXMgc3RlcHMgYW5kIHRoZSBQeXRob24gc2lkZSBpcyBnb2luZwovLyB0byBwb2xsIGZvciBjb21wbGV0aW9uIG9mIGVhY2ggc3RlcC4KLy8gVGhpcyB1c2VzIGEgUHJvbWlzZSB0byBibG9jayB0aGUgcHl0aG9uIHNpZGUgb24gY29tcGxldGlvbiBvZiBlYWNoIHN0ZXAsCi8vIHRoZW4gcGFzc2VzIHRoZSByZXN1bHQgb2YgdGhlIHByZXZpb3VzIHN0ZXAgYXMgdGhlIGlucHV0IHRvIHRoZSBuZXh0IHN0ZXAuCmZ1bmN0aW9uIF91cGxvYWRGaWxlc0NvbnRpbnVlKG91dHB1dElkKSB7CiAgY29uc3Qgb3V0cHV0RWxlbWVudCA9IGRvY3VtZW50LmdldEVsZW1lbnRCeUlkKG91dHB1dElkKTsKICBjb25zdCBzdGVwcyA9IG91dHB1dEVsZW1lbnQuc3RlcHM7CgogIGNvbnN0IG5leHQgPSBzdGVwcy5uZXh0KG91dHB1dEVsZW1lbnQubGFzdFByb21pc2VWYWx1ZSk7CiAgcmV0dXJuIFByb21pc2UucmVzb2x2ZShuZXh0LnZhbHVlLnByb21pc2UpLnRoZW4oKHZhbHVlKSA9PiB7CiAgICAvLyBDYWNoZSB0aGUgbGFzdCBwcm9taXNlIHZhbHVlIHRvIG1ha2UgaXQgYXZhaWxhYmxlIHRvIHRoZSBuZXh0CiAgICAvLyBzdGVwIG9mIHRoZSBnZW5lcmF0b3IuCiAgICBvdXRwdXRFbGVtZW50Lmxhc3RQcm9taXNlVmFsdWUgPSB2YWx1ZTsKICAgIHJldHVybiBuZXh0LnZhbHVlLnJlc3BvbnNlOwogIH0pOwp9CgovKioKICogR2VuZXJhdG9yIGZ1bmN0aW9uIHdoaWNoIGlzIGNhbGxlZCBiZXR3ZWVuIGVhY2ggYXN5bmMgc3RlcCBvZiB0aGUgdXBsb2FkCiAqIHByb2Nlc3MuCiAqIEBwYXJhbSB7c3RyaW5nfSBpbnB1dElkIEVsZW1lbnQgSUQgb2YgdGhlIGlucHV0IGZpbGUgcGlja2VyIGVsZW1lbnQuCiAqIEBwYXJhbSB7c3RyaW5nfSBvdXRwdXRJZCBFbGVtZW50IElEIG9mIHRoZSBvdXRwdXQgZGlzcGxheS4KICogQHJldHVybiB7IUl0ZXJhYmxlPCFPYmplY3Q+fSBJdGVyYWJsZSBvZiBuZXh0IHN0ZXBzLgogKi8KZnVuY3Rpb24qIHVwbG9hZEZpbGVzU3RlcChpbnB1dElkLCBvdXRwdXRJZCkgewogIGNvbnN0IGlucHV0RWxlbWVudCA9IGRvY3VtZW50LmdldEVsZW1lbnRCeUlkKGlucHV0SWQpOwogIGlucHV0RWxlbWVudC5kaXNhYmxlZCA9IGZhbHNlOwoKICBjb25zdCBvdXRwdXRFbGVtZW50ID0gZG9jdW1lbnQuZ2V0RWxlbWVudEJ5SWQob3V0cHV0SWQpOwogIG91dHB1dEVsZW1lbnQuaW5uZXJIVE1MID0gJyc7CgogIGNvbnN0IHBpY2tlZFByb21pc2UgPSBuZXcgUHJvbWlzZSgocmVzb2x2ZSkgPT4gewogICAgaW5wdXRFbGVtZW50LmFkZEV2ZW50TGlzdGVuZXIoJ2NoYW5nZScsIChlKSA9PiB7CiAgICAgIHJlc29sdmUoZS50YXJnZXQuZmlsZXMpOwogICAgfSk7CiAgfSk7CgogIGNvbnN0IGNhbmNlbCA9IGRvY3VtZW50LmNyZWF0ZUVsZW1lbnQoJ2J1dHRvbicpOwogIGlucHV0RWxlbWVudC5wYXJlbnRFbGVtZW50LmFwcGVuZENoaWxkKGNhbmNlbCk7CiAgY2FuY2VsLnRleHRDb250ZW50ID0gJ0NhbmNlbCB1cGxvYWQnOwogIGNvbnN0IGNhbmNlbFByb21pc2UgPSBuZXcgUHJvbWlzZSgocmVzb2x2ZSkgPT4gewogICAgY2FuY2VsLm9uY2xpY2sgPSAoKSA9PiB7CiAgICAgIHJlc29sdmUobnVsbCk7CiAgICB9OwogIH0pOwoKICAvLyBXYWl0IGZvciB0aGUgdXNlciB0byBwaWNrIHRoZSBmaWxlcy4KICBjb25zdCBmaWxlcyA9IHlpZWxkIHsKICAgIHByb21pc2U6IFByb21pc2UucmFjZShbcGlja2VkUHJvbWlzZSwgY2FuY2VsUHJvbWlzZV0pLAogICAgcmVzcG9uc2U6IHsKICAgICAgYWN0aW9uOiAnc3RhcnRpbmcnLAogICAgfQogIH07CgogIGNhbmNlbC5yZW1vdmUoKTsKCiAgLy8gRGlzYWJsZSB0aGUgaW5wdXQgZWxlbWVudCBzaW5jZSBmdXJ0aGVyIHBpY2tzIGFyZSBub3QgYWxsb3dlZC4KICBpbnB1dEVsZW1lbnQuZGlzYWJsZWQgPSB0cnVlOwoKICBpZiAoIWZpbGVzKSB7CiAgICByZXR1cm4gewogICAgICByZXNwb25zZTogewogICAgICAgIGFjdGlvbjogJ2NvbXBsZXRlJywKICAgICAgfQogICAgfTsKICB9CgogIGZvciAoY29uc3QgZmlsZSBvZiBmaWxlcykgewogICAgY29uc3QgbGkgPSBkb2N1bWVudC5jcmVhdGVFbGVtZW50KCdsaScpOwogICAgbGkuYXBwZW5kKHNwYW4oZmlsZS5uYW1lLCB7Zm9udFdlaWdodDogJ2JvbGQnfSkpOwogICAgbGkuYXBwZW5kKHNwYW4oCiAgICAgICAgYCgke2ZpbGUudHlwZSB8fCAnbi9hJ30pIC0gJHtmaWxlLnNpemV9IGJ5dGVzLCBgICsKICAgICAgICBgbGFzdCBtb2RpZmllZDogJHsKICAgICAgICAgICAgZmlsZS5sYXN0TW9kaWZpZWREYXRlID8gZmlsZS5sYXN0TW9kaWZpZWREYXRlLnRvTG9jYWxlRGF0ZVN0cmluZygpIDoKICAgICAgICAgICAgICAgICAgICAgICAgICAgICAgICAgICAgJ24vYSd9IC0gYCkpOwogICAgY29uc3QgcGVyY2VudCA9IHNwYW4oJzAlIGRvbmUnKTsKICAgIGxpLmFwcGVuZENoaWxkKHBlcmNlbnQpOwoKICAgIG91dHB1dEVsZW1lbnQuYXBwZW5kQ2hpbGQobGkpOwoKICAgIGNvbnN0IGZpbGVEYXRhUHJvbWlzZSA9IG5ldyBQcm9taXNlKChyZXNvbHZlKSA9PiB7CiAgICAgIGNvbnN0IHJlYWRlciA9IG5ldyBGaWxlUmVhZGVyKCk7CiAgICAgIHJlYWRlci5vbmxvYWQgPSAoZSkgPT4gewogICAgICAgIHJlc29sdmUoZS50YXJnZXQucmVzdWx0KTsKICAgICAgfTsKICAgICAgcmVhZGVyLnJlYWRBc0FycmF5QnVmZmVyKGZpbGUpOwogICAgfSk7CiAgICAvLyBXYWl0IGZvciB0aGUgZGF0YSB0byBiZSByZWFkeS4KICAgIGxldCBmaWxlRGF0YSA9IHlpZWxkIHsKICAgICAgcHJvbWlzZTogZmlsZURhdGFQcm9taXNlLAogICAgICByZXNwb25zZTogewogICAgICAgIGFjdGlvbjogJ2NvbnRpbnVlJywKICAgICAgfQogICAgfTsKCiAgICAvLyBVc2UgYSBjaHVua2VkIHNlbmRpbmcgdG8gYXZvaWQgbWVzc2FnZSBzaXplIGxpbWl0cy4gU2VlIGIvNjIxMTU2NjAuCiAgICBsZXQgcG9zaXRpb24gPSAwOwogICAgZG8gewogICAgICBjb25zdCBsZW5ndGggPSBNYXRoLm1pbihmaWxlRGF0YS5ieXRlTGVuZ3RoIC0gcG9zaXRpb24sIE1BWF9QQVlMT0FEX1NJWkUpOwogICAgICBjb25zdCBjaHVuayA9IG5ldyBVaW50OEFycmF5KGZpbGVEYXRhLCBwb3NpdGlvbiwgbGVuZ3RoKTsKICAgICAgcG9zaXRpb24gKz0gbGVuZ3RoOwoKICAgICAgY29uc3QgYmFzZTY0ID0gYnRvYShTdHJpbmcuZnJvbUNoYXJDb2RlLmFwcGx5KG51bGwsIGNodW5rKSk7CiAgICAgIHlpZWxkIHsKICAgICAgICByZXNwb25zZTogewogICAgICAgICAgYWN0aW9uOiAnYXBwZW5kJywKICAgICAgICAgIGZpbGU6IGZpbGUubmFtZSwKICAgICAgICAgIGRhdGE6IGJhc2U2NCwKICAgICAgICB9LAogICAgICB9OwoKICAgICAgbGV0IHBlcmNlbnREb25lID0gZmlsZURhdGEuYnl0ZUxlbmd0aCA9PT0gMCA/CiAgICAgICAgICAxMDAgOgogICAgICAgICAgTWF0aC5yb3VuZCgocG9zaXRpb24gLyBmaWxlRGF0YS5ieXRlTGVuZ3RoKSAqIDEwMCk7CiAgICAgIHBlcmNlbnQudGV4dENvbnRlbnQgPSBgJHtwZXJjZW50RG9uZX0lIGRvbmVgOwoKICAgIH0gd2hpbGUgKHBvc2l0aW9uIDwgZmlsZURhdGEuYnl0ZUxlbmd0aCk7CiAgfQoKICAvLyBBbGwgZG9uZS4KICB5aWVsZCB7CiAgICByZXNwb25zZTogewogICAgICBhY3Rpb246ICdjb21wbGV0ZScsCiAgICB9CiAgfTsKfQoKc2NvcGUuZ29vZ2xlID0gc2NvcGUuZ29vZ2xlIHx8IHt9OwpzY29wZS5nb29nbGUuY29sYWIgPSBzY29wZS5nb29nbGUuY29sYWIgfHwge307CnNjb3BlLmdvb2dsZS5jb2xhYi5fZmlsZXMgPSB7CiAgX3VwbG9hZEZpbGVzLAogIF91cGxvYWRGaWxlc0NvbnRpbnVlLAp9Owp9KShzZWxmKTsK",
              "ok": true,
              "headers": [
                [
                  "content-type",
                  "application/javascript"
                ]
              ],
              "status": 200,
              "status_text": ""
            }
          },
          "base_uri": "https://localhost:8080/",
          "height": 74
        },
        "id": "zSFDv5LB-Mfl",
        "outputId": "70b1ed7c-c97d-4ce1-a728-972434885995"
      },
      "execution_count": null,
      "outputs": [
        {
          "output_type": "display_data",
          "data": {
            "text/plain": [
              "<IPython.core.display.HTML object>"
            ],
            "text/html": [
              "\n",
              "     <input type=\"file\" id=\"files-69aaab26-6fee-47f2-a9e4-67e7536471b2\" name=\"files[]\" multiple disabled\n",
              "        style=\"border:none\" />\n",
              "     <output id=\"result-69aaab26-6fee-47f2-a9e4-67e7536471b2\">\n",
              "      Upload widget is only available when the cell has been executed in the\n",
              "      current browser session. Please rerun this cell to enable.\n",
              "      </output>\n",
              "      <script src=\"/nbextensions/google.colab/files.js\"></script> "
            ]
          },
          "metadata": {}
        },
        {
          "output_type": "stream",
          "name": "stdout",
          "text": [
            "Saving beer_concept_500_8777docs.json to beer_concept_500_8777docs.json\n"
          ]
        }
      ]
    },
    {
      "cell_type": "code",
      "execution_count": null,
      "metadata": {
        "id": "N-_y2uyN9EPn"
      },
      "outputs": [],
      "source": [
        "import json\n",
        "with open('beer_concept_500_8777docs.json') as f:\n",
        "    inp = json.load(f)"
      ]
    },
    {
      "cell_type": "code",
      "source": [
        "concepts = []\n",
        "for item in inp:\n",
        "  concepts.append(item['texts'][0])"
      ],
      "metadata": {
        "id": "iYohCx41QP_P"
      },
      "execution_count": null,
      "outputs": []
    },
    {
      "cell_type": "code",
      "source": [
        "#Test code - Concept Search\n",
        "for item in concepts:\n",
        "  if item == 'coffee':\n",
        "    print('Yes')"
      ],
      "metadata": {
        "colab": {
          "base_uri": "https://localhost:8080/"
        },
        "id": "PVlrWPqKMF-t",
        "outputId": "67cea60f-9b09-4e49-c703-59c1f0f71879"
      },
      "execution_count": null,
      "outputs": [
        {
          "output_type": "stream",
          "name": "stdout",
          "text": [
            "Yes\n"
          ]
        }
      ]
    },
    {
      "cell_type": "markdown",
      "source": [
        "**SBERT**"
      ],
      "metadata": {
        "id": "WMKcycZhPVmH"
      }
    },
    {
      "cell_type": "code",
      "source": [
        "%pip install -U sentence-transformers"
      ],
      "metadata": {
        "colab": {
          "base_uri": "https://localhost:8080/"
        },
        "id": "1QWrDmOxPbXQ",
        "outputId": "349d6b56-6195-4b9f-aeb9-04d198906a6d"
      },
      "execution_count": 1,
      "outputs": [
        {
          "output_type": "stream",
          "name": "stdout",
          "text": [
            "Looking in indexes: https://pypi.org/simple, https://us-python.pkg.dev/colab-wheels/public/simple/\n",
            "Collecting sentence-transformers\n",
            "  Downloading sentence-transformers-2.2.2.tar.gz (85 kB)\n",
            "\u001b[K     |████████████████████████████████| 85 kB 3.1 MB/s \n",
            "\u001b[?25hCollecting transformers<5.0.0,>=4.6.0\n",
            "  Downloading transformers-4.24.0-py3-none-any.whl (5.5 MB)\n",
            "\u001b[K     |████████████████████████████████| 5.5 MB 23.2 MB/s \n",
            "\u001b[?25hRequirement already satisfied: tqdm in /usr/local/lib/python3.7/dist-packages (from sentence-transformers) (4.64.1)\n",
            "Requirement already satisfied: torch>=1.6.0 in /usr/local/lib/python3.7/dist-packages (from sentence-transformers) (1.12.1+cu113)\n",
            "Requirement already satisfied: torchvision in /usr/local/lib/python3.7/dist-packages (from sentence-transformers) (0.13.1+cu113)\n",
            "Requirement already satisfied: numpy in /usr/local/lib/python3.7/dist-packages (from sentence-transformers) (1.21.6)\n",
            "Requirement already satisfied: scikit-learn in /usr/local/lib/python3.7/dist-packages (from sentence-transformers) (1.0.2)\n",
            "Requirement already satisfied: scipy in /usr/local/lib/python3.7/dist-packages (from sentence-transformers) (1.7.3)\n",
            "Requirement already satisfied: nltk in /usr/local/lib/python3.7/dist-packages (from sentence-transformers) (3.7)\n",
            "Collecting sentencepiece\n",
            "  Downloading sentencepiece-0.1.97-cp37-cp37m-manylinux_2_17_x86_64.manylinux2014_x86_64.whl (1.3 MB)\n",
            "\u001b[K     |████████████████████████████████| 1.3 MB 56.6 MB/s \n",
            "\u001b[?25hCollecting huggingface-hub>=0.4.0\n",
            "  Downloading huggingface_hub-0.11.1-py3-none-any.whl (182 kB)\n",
            "\u001b[K     |████████████████████████████████| 182 kB 69.6 MB/s \n",
            "\u001b[?25hRequirement already satisfied: packaging>=20.9 in /usr/local/lib/python3.7/dist-packages (from huggingface-hub>=0.4.0->sentence-transformers) (21.3)\n",
            "Requirement already satisfied: pyyaml>=5.1 in /usr/local/lib/python3.7/dist-packages (from huggingface-hub>=0.4.0->sentence-transformers) (6.0)\n",
            "Requirement already satisfied: typing-extensions>=3.7.4.3 in /usr/local/lib/python3.7/dist-packages (from huggingface-hub>=0.4.0->sentence-transformers) (4.1.1)\n",
            "Requirement already satisfied: requests in /usr/local/lib/python3.7/dist-packages (from huggingface-hub>=0.4.0->sentence-transformers) (2.23.0)\n",
            "Requirement already satisfied: filelock in /usr/local/lib/python3.7/dist-packages (from huggingface-hub>=0.4.0->sentence-transformers) (3.8.0)\n",
            "Requirement already satisfied: importlib-metadata in /usr/local/lib/python3.7/dist-packages (from huggingface-hub>=0.4.0->sentence-transformers) (4.13.0)\n",
            "Requirement already satisfied: pyparsing!=3.0.5,>=2.0.2 in /usr/local/lib/python3.7/dist-packages (from packaging>=20.9->huggingface-hub>=0.4.0->sentence-transformers) (3.0.9)\n",
            "Requirement already satisfied: regex!=2019.12.17 in /usr/local/lib/python3.7/dist-packages (from transformers<5.0.0,>=4.6.0->sentence-transformers) (2022.6.2)\n",
            "Collecting tokenizers!=0.11.3,<0.14,>=0.11.1\n",
            "  Downloading tokenizers-0.13.2-cp37-cp37m-manylinux_2_17_x86_64.manylinux2014_x86_64.whl (7.6 MB)\n",
            "\u001b[K     |████████████████████████████████| 7.6 MB 51.1 MB/s \n",
            "\u001b[?25hRequirement already satisfied: zipp>=0.5 in /usr/local/lib/python3.7/dist-packages (from importlib-metadata->huggingface-hub>=0.4.0->sentence-transformers) (3.10.0)\n",
            "Requirement already satisfied: click in /usr/local/lib/python3.7/dist-packages (from nltk->sentence-transformers) (7.1.2)\n",
            "Requirement already satisfied: joblib in /usr/local/lib/python3.7/dist-packages (from nltk->sentence-transformers) (1.2.0)\n",
            "Requirement already satisfied: certifi>=2017.4.17 in /usr/local/lib/python3.7/dist-packages (from requests->huggingface-hub>=0.4.0->sentence-transformers) (2022.9.24)\n",
            "Requirement already satisfied: chardet<4,>=3.0.2 in /usr/local/lib/python3.7/dist-packages (from requests->huggingface-hub>=0.4.0->sentence-transformers) (3.0.4)\n",
            "Requirement already satisfied: idna<3,>=2.5 in /usr/local/lib/python3.7/dist-packages (from requests->huggingface-hub>=0.4.0->sentence-transformers) (2.10)\n",
            "Requirement already satisfied: urllib3!=1.25.0,!=1.25.1,<1.26,>=1.21.1 in /usr/local/lib/python3.7/dist-packages (from requests->huggingface-hub>=0.4.0->sentence-transformers) (1.24.3)\n",
            "Requirement already satisfied: threadpoolctl>=2.0.0 in /usr/local/lib/python3.7/dist-packages (from scikit-learn->sentence-transformers) (3.1.0)\n",
            "Requirement already satisfied: pillow!=8.3.*,>=5.3.0 in /usr/local/lib/python3.7/dist-packages (from torchvision->sentence-transformers) (7.1.2)\n",
            "Building wheels for collected packages: sentence-transformers\n",
            "  Building wheel for sentence-transformers (setup.py) ... \u001b[?25l\u001b[?25hdone\n",
            "  Created wheel for sentence-transformers: filename=sentence_transformers-2.2.2-py3-none-any.whl size=125938 sha256=6797691eb62c1a1482ee0bb052fff9e5342e2749f34797fd89c3dae0f6ff7d58\n",
            "  Stored in directory: /root/.cache/pip/wheels/bf/06/fb/d59c1e5bd1dac7f6cf61ec0036cc3a10ab8fecaa6b2c3d3ee9\n",
            "Successfully built sentence-transformers\n",
            "Installing collected packages: tokenizers, huggingface-hub, transformers, sentencepiece, sentence-transformers\n",
            "Successfully installed huggingface-hub-0.11.1 sentence-transformers-2.2.2 sentencepiece-0.1.97 tokenizers-0.13.2 transformers-4.24.0\n"
          ]
        }
      ]
    },
    {
      "cell_type": "code",
      "source": [
        "from sentence_transformers import SentenceTransformer, util"
      ],
      "metadata": {
        "id": "VlzNKoKqPVK2"
      },
      "execution_count": null,
      "outputs": []
    },
    {
      "cell_type": "code",
      "source": [
        "%%capture\n",
        "model = SentenceTransformer('paraphrase-MiniLM-L6-v2')"
      ],
      "metadata": {
        "id": "I1KVFGwYQAxv"
      },
      "execution_count": null,
      "outputs": []
    },
    {
      "cell_type": "code",
      "source": [
        "\"2009 12oz. bottle served into a Gulden Draak tulip Pours burnt orange/copper with a one-finger sized porcelain-white head. The beer laces well, with sudsy patterns. Attractive and well-executed. The nose opens with a grenade blast of hops. Devil Dancer doesn't really smell floral like many heavily hopped beers do. The hop bouquet is more resiny and oily. This beer smells bitter, if that makes any sense. Its almost as if I'm experiencing the strength of a normal IPA's hop flavors on the tongue... only I'm experiencing that level of strength purely through my nose. This beer was also less boozy than I expected, but the alcohol is present nonetheless. The word doesn't do Devil Dancer justice. Not quite. This beer is sublimely hoppy. Mango and pineapple are strong initially\" "
      ],
      "metadata": {
        "id": "ZH7p1IDZk4ib"
      },
      "execution_count": null,
      "outputs": []
    },
    {
      "cell_type": "code",
      "source": [
        "target = 'coffee'\n",
        "emb_target = model.encode(target)"
      ],
      "metadata": {
        "id": "3v9Q4y2-fDAg"
      },
      "execution_count": null,
      "outputs": []
    },
    {
      "cell_type": "code",
      "source": [
        "emb_target"
      ],
      "metadata": {
        "id": "MDgId44kzJA4"
      },
      "execution_count": null,
      "outputs": []
    },
    {
      "cell_type": "code",
      "source": [
        "emb_corpus = model.encode(concepts)\n",
        "cosine_scores = util.cos_sim(emb_target, emb_corpus)\n",
        "arr = cosine_scores.numpy().flatten().tolist()"
      ],
      "metadata": {
        "id": "_eRPVX03QGlb"
      },
      "execution_count": null,
      "outputs": []
    },
    {
      "cell_type": "code",
      "source": [
        "emb_corpus.shape"
      ],
      "metadata": {
        "colab": {
          "base_uri": "https://localhost:8080/"
        },
        "id": "5rMCrLn9woI7",
        "outputId": "3828eb22-ca01-49ff-e816-49a6badcf311"
      },
      "execution_count": null,
      "outputs": [
        {
          "output_type": "execute_result",
          "data": {
            "text/plain": [
              "(500, 384)"
            ]
          },
          "metadata": {},
          "execution_count": 12
        }
      ]
    },
    {
      "cell_type": "code",
      "source": [
        "arr = cosine_scores.numpy().flatten().tolist()\n",
        "simularity = list(zip(arr,concepts))\n",
        "sorted(simularity, reverse = True)[:20]"
      ],
      "metadata": {
        "colab": {
          "base_uri": "https://localhost:8080/"
        },
        "id": "djydWb2S0ddk",
        "outputId": "3baae32d-03ca-4312-f03c-635cc2afb907"
      },
      "execution_count": null,
      "outputs": [
        {
          "output_type": "execute_result",
          "data": {
            "text/plain": [
              "[(1.0, 'coffee'),\n",
              " (0.8155989646911621, 'roasted coffee'),\n",
              " (0.764582633972168, 'chocolate and coffee'),\n",
              " (0.5764206051826477, 'drink'),\n",
              " (0.5076597332954407, 'brew'),\n",
              " (0.5041046142578125, 'cocoa'),\n",
              " (0.5009302496910095, 'sip'),\n",
              " (0.4966921806335449, 'juice'),\n",
              " (0.4879511296749115, 'espresso'),\n",
              " (0.4644039273262024, 'drinkable'),\n",
              " (0.4570234715938568, 'session beer'),\n",
              " (0.4553448557853699, 'brewpub'),\n",
              " (0.4476625919342041, 'cream'),\n",
              " (0.4450848400592804, 'refreshing'),\n",
              " (0.437473326921463, 'easy to drink'),\n",
              " (0.4294916093349457, 'vanilla'),\n",
              " (0.421149343252182, 'sipper'),\n",
              " (0.4197905659675598, 'dark chocolate'),\n",
              " (0.4186149835586548, 'Drinkability'),\n",
              " (0.414207398891449, 'buttery')]"
            ]
          },
          "metadata": {},
          "execution_count": 15
        }
      ]
    },
    {
      "cell_type": "code",
      "source": [
        "arr = cosine_scores.numpy().flatten().tolist()\n",
        "len(arr)"
      ],
      "metadata": {
        "colab": {
          "base_uri": "https://localhost:8080/"
        },
        "id": "2R8S8lQ8TuMS",
        "outputId": "474bbc8c-2911-4b7e-eedd-957e43a1fd49"
      },
      "execution_count": null,
      "outputs": [
        {
          "output_type": "execute_result",
          "data": {
            "text/plain": [
              "500"
            ]
          },
          "metadata": {},
          "execution_count": 67
        }
      ]
    },
    {
      "cell_type": "markdown",
      "source": [
        "# PCA Experiments"
      ],
      "metadata": {
        "id": "9_CHRw-Fc5Ug"
      }
    },
    {
      "cell_type": "code",
      "source": [
        "import matplotlib.pyplot as plt\n",
        "%matplotlib inline\n",
        "from sklearn.decomposition import PCA\n",
        "import pandas as pd\n",
        "import numpy as np"
      ],
      "metadata": {
        "id": "u9Dcjb7MdCWu"
      },
      "execution_count": null,
      "outputs": []
    },
    {
      "cell_type": "code",
      "source": [
        "# visualization code - PCA\n",
        "def PCA_plot(emb):\n",
        "  pca = PCA(n_components=2)\n",
        "  #Creates and PCA model and plots it\n",
        "  principal_comp = pca.fit_transform(emb)\n",
        "\n",
        "  x = []\n",
        "  y = []\n",
        "  for value in principal_comp:\n",
        "    x.append(value[0])\n",
        "    y.append(value[1])"
      ],
      "metadata": {
        "id": "3xCkqBCtdILm"
      },
      "execution_count": null,
      "outputs": []
    },
    {
      "cell_type": "code",
      "source": [],
      "metadata": {
        "id": "uIgCkDKcdonl"
      },
      "execution_count": null,
      "outputs": []
    },
    {
      "cell_type": "code",
      "source": [
        "  plt.figure(figsize=(16, 16)) \n",
        "  #Outputting all the embeddings\n",
        "  for i in range(len(x)):\n",
        "    plt.scatter(x[i],y[i])\n",
        "  plt.show()"
      ],
      "metadata": {
        "id": "qEqcYG34dYip"
      },
      "execution_count": null,
      "outputs": []
    },
    {
      "cell_type": "code",
      "source": [
        "#PCA\n",
        "pca = PCA(n_components=2)"
      ],
      "metadata": {
        "id": "JxmQPrD1xSVs"
      },
      "execution_count": null,
      "outputs": []
    },
    {
      "cell_type": "code",
      "source": [
        "#PCA\n",
        "principal_comp = pca.fit_transform(emb_corpus)"
      ],
      "metadata": {
        "colab": {
          "base_uri": "https://localhost:8080/",
          "height": 187
        },
        "id": "JZV4nghzpQLQ",
        "outputId": "d3ac36e5-aa78-4a9b-9df5-5cb8f75b554b"
      },
      "execution_count": null,
      "outputs": [
        {
          "output_type": "error",
          "ename": "NameError",
          "evalue": "ignored",
          "traceback": [
            "\u001b[0;31m---------------------------------------------------------------------------\u001b[0m",
            "\u001b[0;31mNameError\u001b[0m                                 Traceback (most recent call last)",
            "\u001b[0;32m<ipython-input-24-7facc2de8cb2>\u001b[0m in \u001b[0;36m<module>\u001b[0;34m()\u001b[0m\n\u001b[1;32m      1\u001b[0m \u001b[0;31m#PCA\u001b[0m\u001b[0;34m\u001b[0m\u001b[0;34m\u001b[0m\u001b[0;34m\u001b[0m\u001b[0m\n\u001b[0;32m----> 2\u001b[0;31m \u001b[0mprincipal_comp\u001b[0m \u001b[0;34m=\u001b[0m \u001b[0mpca\u001b[0m\u001b[0;34m.\u001b[0m\u001b[0mfit_transform\u001b[0m\u001b[0;34m(\u001b[0m\u001b[0memb_corpus\u001b[0m\u001b[0;34m)\u001b[0m\u001b[0;34m\u001b[0m\u001b[0;34m\u001b[0m\u001b[0m\n\u001b[0m",
            "\u001b[0;31mNameError\u001b[0m: name 'emb_corpus' is not defined"
          ]
        }
      ]
    },
    {
      "cell_type": "code",
      "source": [
        "concepts_PCA_dict = {}\n",
        "for ind, item in enumerate(concepts):\n",
        "  concepts_PCA_dict[item] = principal_comp[ind]"
      ],
      "metadata": {
        "colab": {
          "base_uri": "https://localhost:8080/",
          "height": 204
        },
        "id": "ufwOa6aqxc1Z",
        "outputId": "d1caa5fc-0ccf-4b4d-b825-c6c9b62b5974"
      },
      "execution_count": null,
      "outputs": [
        {
          "output_type": "error",
          "ename": "NameError",
          "evalue": "ignored",
          "traceback": [
            "\u001b[0;31m---------------------------------------------------------------------------\u001b[0m",
            "\u001b[0;31mNameError\u001b[0m                                 Traceback (most recent call last)",
            "\u001b[0;32m<ipython-input-25-168dc73e4241>\u001b[0m in \u001b[0;36m<module>\u001b[0;34m()\u001b[0m\n\u001b[1;32m      1\u001b[0m \u001b[0mconcepts_PCA_dict\u001b[0m \u001b[0;34m=\u001b[0m \u001b[0;34m{\u001b[0m\u001b[0;34m}\u001b[0m\u001b[0;34m\u001b[0m\u001b[0;34m\u001b[0m\u001b[0m\n\u001b[1;32m      2\u001b[0m \u001b[0;32mfor\u001b[0m \u001b[0mind\u001b[0m\u001b[0;34m,\u001b[0m \u001b[0mitem\u001b[0m \u001b[0;32min\u001b[0m \u001b[0menumerate\u001b[0m\u001b[0;34m(\u001b[0m\u001b[0mconcepts\u001b[0m\u001b[0;34m)\u001b[0m\u001b[0;34m:\u001b[0m\u001b[0;34m\u001b[0m\u001b[0;34m\u001b[0m\u001b[0m\n\u001b[0;32m----> 3\u001b[0;31m   \u001b[0mconcepts_PCA_dict\u001b[0m\u001b[0;34m[\u001b[0m\u001b[0mitem\u001b[0m\u001b[0;34m]\u001b[0m \u001b[0;34m=\u001b[0m \u001b[0mprincipal_comp\u001b[0m\u001b[0;34m[\u001b[0m\u001b[0mind\u001b[0m\u001b[0;34m]\u001b[0m\u001b[0;34m\u001b[0m\u001b[0;34m\u001b[0m\u001b[0m\n\u001b[0m",
            "\u001b[0;31mNameError\u001b[0m: name 'principal_comp' is not defined"
          ]
        }
      ]
    },
    {
      "cell_type": "code",
      "source": [
        "cosine_scores_PCA = util.cos_sim(concepts_PCA_dict['coffee'], principal_comp)\n",
        "simm_PCA = cosine_scores_PCA.numpy().flatten().tolist()"
      ],
      "metadata": {
        "id": "GE9qmwZxy9i9"
      },
      "execution_count": null,
      "outputs": []
    },
    {
      "cell_type": "code",
      "source": [
        "simularity = list(zip(simm_PCA,concepts))\n",
        "sorted(simularity, reverse = True)[:20]"
      ],
      "metadata": {
        "colab": {
          "base_uri": "https://localhost:8080/"
        },
        "id": "gyA39jirz89x",
        "outputId": "c5dc7d63-c2cc-4a82-d27d-282b7f95eb32"
      },
      "execution_count": null,
      "outputs": [
        {
          "output_type": "execute_result",
          "data": {
            "text/plain": [
              "[(1.0000001192092896, 'coffee'),\n",
              " (0.9999927282333374, 'mouth'),\n",
              " (0.9999885559082031, 'licorice'),\n",
              " (0.9997669458389282, 'brown ale'),\n",
              " (0.9997032284736633, 'barleywine'),\n",
              " (0.9996111392974854, 'bitter'),\n",
              " (0.999382734298706, 'toasted malt'),\n",
              " (0.998779296875, 'nice lacing'),\n",
              " (0.9975904822349548, 'bite'),\n",
              " (0.997313380241394, 'lacing on the glass'),\n",
              " (0.9953543543815613, 'blend'),\n",
              " (0.9925642013549805, 'wine'),\n",
              " (0.9917826056480408, 'sticky lacing'),\n",
              " (0.9883390069007874, 'toasted'),\n",
              " (0.9883090257644653, 'resin'),\n",
              " (0.9881381988525391, 'medicinal'),\n",
              " (0.988008975982666, 'charred'),\n",
              " (0.9877126216888428, 'Belgian yeast'),\n",
              " (0.9873654842376709, 'mouthfeel'),\n",
              " (0.987271785736084, 'boozy')]"
            ]
          },
          "metadata": {},
          "execution_count": 28
        }
      ]
    },
    {
      "cell_type": "markdown",
      "source": [
        "**Using Lumi Embeddings**"
      ],
      "metadata": {
        "id": "IhkTKP-Q1DSY"
      }
    },
    {
      "cell_type": "code",
      "source": [
        "emb_lumi = []\n",
        "for item in inp:\n",
        "  emb_lumi.append(item['vect_unpacked'])"
      ],
      "metadata": {
        "id": "Q443gSdc1Kfq"
      },
      "execution_count": null,
      "outputs": []
    },
    {
      "cell_type": "code",
      "source": [
        "emb_lumi_np = np.array(emb_lumi)"
      ],
      "metadata": {
        "id": "gGcXcPX5hkcG"
      },
      "execution_count": null,
      "outputs": []
    },
    {
      "cell_type": "code",
      "source": [
        "principal_comp_lumi = pca.fit_transform(emb_lumi)"
      ],
      "metadata": {
        "id": "B1A49SQX1WPF"
      },
      "execution_count": null,
      "outputs": []
    },
    {
      "cell_type": "code",
      "source": [
        "concepts_PCA_dict_lumi = {}\n",
        "for ind, item in enumerate(concepts):\n",
        "  concepts_PCA_dict_lumi[item] = principal_comp_lumi[ind]"
      ],
      "metadata": {
        "id": "85acLNiT1e2k"
      },
      "execution_count": null,
      "outputs": []
    },
    {
      "cell_type": "code",
      "source": [
        "cosine_scores_PCA_lumi = util.cos_sim(concepts_PCA_dict_lumi['coffee'], principal_comp_lumi)\n",
        "simm_PCA_lumi = cosine_scores_PCA_lumi.numpy().flatten().tolist()"
      ],
      "metadata": {
        "id": "UB-KaW8S1wie"
      },
      "execution_count": null,
      "outputs": []
    },
    {
      "cell_type": "code",
      "source": [
        "cosine_coffee_flavor = util.cos_sim(concepts_PCA_dict_lumi['flavor'], concepts_PCA_dict_lumi['taste'])"
      ],
      "metadata": {
        "id": "llWGyxV6cXMT"
      },
      "execution_count": null,
      "outputs": []
    },
    {
      "cell_type": "code",
      "source": [
        "cosine_coffee_flavor"
      ],
      "metadata": {
        "colab": {
          "base_uri": "https://localhost:8080/"
        },
        "id": "e9kQj0DLc6ja",
        "outputId": "ff3f41ee-0fe4-4839-eb5f-e651c233a2a6"
      },
      "execution_count": null,
      "outputs": [
        {
          "output_type": "execute_result",
          "data": {
            "text/plain": [
              "tensor([[0.9652]], dtype=torch.float64)"
            ]
          },
          "metadata": {},
          "execution_count": 30
        }
      ]
    },
    {
      "cell_type": "code",
      "source": [
        "simularity_lumi = list(zip(simm_PCA_lumi,concepts))\n",
        "sorted(simularity_lumi, reverse = True)[:100]"
      ],
      "metadata": {
        "colab": {
          "base_uri": "https://localhost:8080/"
        },
        "id": "Tdgghzo82Etl",
        "outputId": "21a4c3df-09dc-4af8-dc6d-3121e84a2a13"
      },
      "execution_count": null,
      "outputs": [
        {
          "output_type": "execute_result",
          "data": {
            "text/plain": [
              "[(1.0, 'coffee'),\n",
              " (0.9999999735019952, 'sweet caramel'),\n",
              " (0.9999986180673385, 'molasses'),\n",
              " (0.9999983630024668, 'toffee'),\n",
              " (0.9999895939722754, 'juice'),\n",
              " (0.9999893426717319, 'raisins'),\n",
              " (0.9999726020504714, 'toasted'),\n",
              " (0.9999197298688025, 'skunky'),\n",
              " (0.999764850430487, 'pine'),\n",
              " (0.9997203223434928, 'watery'),\n",
              " (0.9994789928346032, 'floral'),\n",
              " (0.999439472863176, 'lemon'),\n",
              " (0.9992786755260546, 'ripe'),\n",
              " (0.9990144230955154, 'rind'),\n",
              " (0.9989942644308821, 'brown sugar'),\n",
              " (0.9989744923354216, 'charred'),\n",
              " (0.9985956816196454, 'smoky'),\n",
              " (0.9984359233790073, 'candy'),\n",
              " (0.9983895132245233, 'grass'),\n",
              " (0.9982901086876159, 'cinnamon'),\n",
              " (0.9982191526422795, 'pear'),\n",
              " (0.9980217153340366, 'resin'),\n",
              " (0.9978706435460704, 'grape'),\n",
              " (0.9978599932336913, 'grainy'),\n",
              " (0.9977404400121644, 'soft'),\n",
              " (0.9975225730156455, 'roasted coffee'),\n",
              " (0.9972853839109034, 'caramel'),\n",
              " (0.9965410483910768, 'honey'),\n",
              " (0.9961946087854918, 'mango'),\n",
              " (0.9958798263900134, 'nuts'),\n",
              " (0.9958136865064282, 'figs'),\n",
              " (0.9956710718088845, 'wood'),\n",
              " (0.9944923488841567, 'floral hops'),\n",
              " (0.9944834197596237, 'grapefruit'),\n",
              " (0.9933807834047463, 'syrup'),\n",
              " (0.9933059244511117, 'dark chocolate'),\n",
              " (0.9928432729122759, 'cocoa'),\n",
              " (0.9922607341168295, 'apricot'),\n",
              " (0.9919348685814702, 'corn'),\n",
              " (0.9917975811087573, 'toasted malt'),\n",
              " (0.9916309578340813, 'banana'),\n",
              " (0.9916120155800975, 'pineapple'),\n",
              " (0.9898537918955878, 'biscuit'),\n",
              " (0.9895461275490265, 'orange peel'),\n",
              " (0.9894045255102208, 'bread'),\n",
              " (0.9893462278180256, 'sugar'),\n",
              " (0.9880199042459888, 'apple'),\n",
              " (0.9880147456938362, 'tart cherries'),\n",
              " (0.9879504923740186, 'chocolate'),\n",
              " (0.987647745197728, 'tropical fruit'),\n",
              " (0.9863983766491148, 'vanilla'),\n",
              " (0.9855739247627334, 'cherry'),\n",
              " (0.9846886234930387, 'woody'),\n",
              " (0.9844041705579474, 'citrus hops'),\n",
              " (0.9843618118897801, 'pepper'),\n",
              " (0.9828882628216188, 'plum'),\n",
              " (0.9819762961611262, 'yeasty'),\n",
              " (0.9813912075929727, 'grassy'),\n",
              " (0.9808257235899217, 'bready'),\n",
              " (0.9726488728432221, 'citrus and pine'),\n",
              " (0.9712188671564964, 'nose'),\n",
              " (0.9706637852414997, 'biscuity'),\n",
              " (0.9698457736982978, 'juicy'),\n",
              " (0.9694771620146199, 'dark fruit'),\n",
              " (0.9664129771431382, 'smokey'),\n",
              " (0.9657132607797169, 'burnt'),\n",
              " (0.9651170908956765, 'citrus'),\n",
              " (0.9629427768406692, 'hop aroma'),\n",
              " (0.9624735735943, 'sugary'),\n",
              " (0.9621277240291441, 'coriander'),\n",
              " (0.9620472349174146, 'lightly'),\n",
              " (0.9609711155973055, 'buttery'),\n",
              " (0.9605097809843328, 'nutty'),\n",
              " (0.9594774997357113, 'fruit'),\n",
              " (0.9560503108907606, 'smoke'),\n",
              " (0.9546609462093749, 'peach'),\n",
              " (0.9537228820570172, 'grain'),\n",
              " (0.9504546084662044, 'licorice'),\n",
              " (0.9503379394181962, 'slight'),\n",
              " (0.9501294864376504, 'caramel malt'),\n",
              " (0.9499368581303683, 'bready malts'),\n",
              " (0.9491567588138169, 'piney hops'),\n",
              " (0.9484463115670145, 'roasty'),\n",
              " (0.9467370980436643, 'sweet malt'),\n",
              " (0.946514036522233, 'faint'),\n",
              " (0.9454378935805877, 'smell'),\n",
              " (0.9438898397144118, 'oak'),\n",
              " (0.9421571271570619, 'wheat'),\n",
              " (0.9415242571317092, 'sticky'),\n",
              " (0.9389128361852985, 'citrusy'),\n",
              " (0.938141504662723, 'clove'),\n",
              " (0.9379049333550975, 'barley'),\n",
              " (0.9367298936740265, 'oily'),\n",
              " (0.9357829324381055, 'hint'),\n",
              " (0.9348044257085129, 'aroma'),\n",
              " (0.9340321064640493, 'bitter chocolate'),\n",
              " (0.9307281631209835, 'piney'),\n",
              " (0.9281941127396016, 'citric'),\n",
              " (0.9276882455342426, 'pale malt'),\n",
              " (0.9276554360102846, 'fruitiness')]"
            ]
          },
          "metadata": {},
          "execution_count": 28
        }
      ]
    },
    {
      "cell_type": "markdown",
      "source": [
        "**UMAP Projection & KNN Clustering**"
      ],
      "metadata": {
        "id": "fMxbFci5qNFk"
      }
    },
    {
      "cell_type": "code",
      "source": [
        "!pip install umap-learn"
      ],
      "metadata": {
        "id": "XXldmuJkbp5s"
      },
      "execution_count": null,
      "outputs": []
    },
    {
      "cell_type": "code",
      "source": [
        "import umap"
      ],
      "metadata": {
        "id": "8C1-oWhMqVU4"
      },
      "execution_count": null,
      "outputs": []
    },
    {
      "cell_type": "code",
      "source": [
        "def umap_reducer(neighbors, emb):\n",
        "  reducer = umap.UMAP(n_neighbors=10) \n",
        "  return reducer.fit_transform(emb)"
      ],
      "metadata": {
        "id": "jw0e_f1LqqJ8"
      },
      "execution_count": null,
      "outputs": []
    },
    {
      "cell_type": "code",
      "source": [
        "emb_umap = umap_reducer(10, emb_lumi_np)"
      ],
      "metadata": {
        "colab": {
          "base_uri": "https://localhost:8080/"
        },
        "id": "rFQwHFLBiq7P",
        "outputId": "54923b2f-250c-4ae7-eef8-273b36cc044f"
      },
      "execution_count": null,
      "outputs": [
        {
          "output_type": "stream",
          "name": "stderr",
          "text": [
            "/usr/local/lib/python3.7/dist-packages/numba/np/ufunc/parallel.py:363: NumbaWarning: The TBB threading layer requires TBB version 2019.5 or later i.e., TBB_INTERFACE_VERSION >= 11005. Found TBB_INTERFACE_VERSION = 9107. The TBB threading layer is disabled.\n",
            "  warnings.warn(problem)\n"
          ]
        }
      ]
    },
    {
      "cell_type": "code",
      "source": [
        "from sklearn.cluster import KMeans"
      ],
      "metadata": {
        "id": "7MyZikoJrbaC"
      },
      "execution_count": null,
      "outputs": []
    },
    {
      "cell_type": "code",
      "source": [
        "# Pick the number of clusters\n",
        "n_clusters=8\n",
        "\n",
        "# Cluster the embeddings\n",
        "kmeans_model = KMeans(n_clusters=n_clusters, random_state=0)\n",
        "classes = kmeans_model.fit_predict(principal_comp_lumi)"
      ],
      "metadata": {
        "id": "yfTItzEEcIaH"
      },
      "execution_count": null,
      "outputs": []
    },
    {
      "cell_type": "code",
      "source": [
        "len(classes)"
      ],
      "metadata": {
        "colab": {
          "base_uri": "https://localhost:8080/"
        },
        "id": "euilMEWJgJNX",
        "outputId": "ac69a915-2e72-48f7-89c5-092b1fab5a32"
      },
      "execution_count": null,
      "outputs": [
        {
          "output_type": "execute_result",
          "data": {
            "text/plain": [
              "500"
            ]
          },
          "metadata": {},
          "execution_count": 12
        }
      ]
    },
    {
      "cell_type": "code",
      "source": [
        "labels = classes.tolist()\n",
        "clusters = ['smell','pours','carbonation','aroma','brewery','lacing','flavor','brew']"
      ],
      "metadata": {
        "id": "P2DXo0Eafdgn"
      },
      "execution_count": null,
      "outputs": []
    },
    {
      "cell_type": "code",
      "source": [
        "# PCA Cluster labels\n",
        "df_PCA = pd.DataFrame({'CONCEPT': concepts, 'LABEL': labels})"
      ],
      "metadata": {
        "id": "UxxjniDDosTV"
      },
      "execution_count": null,
      "outputs": []
    },
    {
      "cell_type": "code",
      "source": [
        "df_PCA.loc[df_PCA['LABEL'] == 7]"
      ],
      "metadata": {
        "id": "PLBhpqb1o7wQ"
      },
      "execution_count": null,
      "outputs": []
    },
    {
      "cell_type": "code",
      "source": [
        "#Scatter plot PCA\n",
        "#plt.figure(figsize=(16, 16)) \n",
        "scatter = plt.scatter(x=principal_comp_lumi[:,0],\n",
        "            y=principal_comp_lumi[:,1],\n",
        "            c=labels)\n",
        "plt.legend(handles=scatter.legend_elements()[0],labels=clusters)"
      ],
      "metadata": {
        "colab": {
          "base_uri": "https://localhost:8080/",
          "height": 283
        },
        "id": "_N90NdBMf8cv",
        "outputId": "2c43ad80-9b74-498e-c9ce-f69f520bc633"
      },
      "execution_count": null,
      "outputs": [
        {
          "output_type": "execute_result",
          "data": {
            "text/plain": [
              "<matplotlib.legend.Legend at 0x7f39d91c6250>"
            ]
          },
          "metadata": {},
          "execution_count": 15
        },
        {
          "output_type": "display_data",
          "data": {
            "text/plain": [
              "<Figure size 432x288 with 1 Axes>"
            ],
            "image/png": "[encoded data removed]"
          },
          "metadata": {
            "needs_background": "light"
          }
        }
      ]
    },
    {
      "cell_type": "code",
      "source": [
        "# Pick the number of clusters\n",
        "n_clusters=8\n",
        "\n",
        "# Cluster the embeddings UMAP\n",
        "kmeans_model = KMeans(n_clusters=n_clusters, random_state=0)\n",
        "classes_UMAP = kmeans_model.fit_predict(emb_umap)"
      ],
      "metadata": {
        "id": "MaUIfkCKjkCt"
      },
      "execution_count": null,
      "outputs": []
    },
    {
      "cell_type": "code",
      "source": [
        "labels_UMAP = classes_UMAP.tolist()"
      ],
      "metadata": {
        "id": "B06Ljao7jx4H"
      },
      "execution_count": null,
      "outputs": []
    },
    {
      "cell_type": "code",
      "source": [
        "#Scatter Plot UMAP\n",
        "plt.scatter(x=emb_umap[:,0],\n",
        "            y=emb_umap[:,1],\n",
        "            c=labels_UMAP)"
      ],
      "metadata": {
        "colab": {
          "base_uri": "https://localhost:8080/",
          "height": 285
        },
        "id": "M7ni8_jrjOdL",
        "outputId": "9eb5ed69-e742-4dd5-9f36-947ba009b54d"
      },
      "execution_count": null,
      "outputs": [
        {
          "output_type": "execute_result",
          "data": {
            "text/plain": [
              "<matplotlib.collections.PathCollection at 0x7f34b1bdc910>"
            ]
          },
          "metadata": {},
          "execution_count": 44
        },
        {
          "output_type": "display_data",
          "data": {
            "text/plain": [
              "<Figure size 432x288 with 1 Axes>"
            ],
            "image/png": "[encoded data removed]"
          },
          "metadata": {
            "needs_background": "light"
          }
        }
      ]
    },
    {
      "cell_type": "code",
      "source": [
        "# Cluster labels\n",
        "df_umap = pd.DataFrame({'CONCEPT': concepts, 'LABEL': labels_UMAP})"
      ],
      "metadata": {
        "id": "v_-EGPGloOSa"
      },
      "execution_count": null,
      "outputs": []
    },
    {
      "cell_type": "code",
      "source": [
        "df_umap.loc[df_umap['LABEL'] == 2]"
      ],
      "metadata": {
        "id": "vgw4zefMoqXH"
      },
      "execution_count": null,
      "outputs": []
    },
    {
      "cell_type": "markdown",
      "source": [
        "# Sentiment Analysis - SieBert"
      ],
      "metadata": {
        "id": "qQNDnkXJTkf2"
      }
    },
    {
      "cell_type": "code",
      "source": [
        "# file upload while using Google Colab\n",
        "from google.colab import files\n",
        "uploaded = files.upload()"
      ],
      "metadata": {
        "colab": {
          "base_uri": "https://localhost:8080/",
          "height": 74
        },
        "id": "N9t6dW5mT7Hv",
        "outputId": "4b334595-1261-47ab-9694-4fec95ef4aed"
      },
      "execution_count": 5,
      "outputs": [
        {
          "output_type": "display_data",
          "data": {
            "text/plain": [
              "<IPython.core.display.HTML object>"
            ],
            "text/html": [
              "\n",
              "     <input type=\"file\" id=\"files-16c82161-c7d4-45f8-be9e-0dbd76b62397\" name=\"files[]\" multiple disabled\n",
              "        style=\"border:none\" />\n",
              "     <output id=\"result-16c82161-c7d4-45f8-be9e-0dbd76b62397\">\n",
              "      Upload widget is only available when the cell has been executed in the\n",
              "      current browser session. Please rerun this cell to enable.\n",
              "      </output>\n",
              "      <script>// Copyright 2017 Google LLC\n",
              "//\n",
              "// Licensed under the Apache License, Version 2.0 (the \"License\");\n",
              "// you may not use this file except in compliance with the License.\n",
              "// You may obtain a copy of the License at\n",
              "//\n",
              "//      http://www.apache.org/licenses/LICENSE-2.0\n",
              "//\n",
              "// Unless required by applicable law or agreed to in writing, software\n",
              "// distributed under the License is distributed on an \"AS IS\" BASIS,\n",
              "// WITHOUT WARRANTIES OR CONDITIONS OF ANY KIND, either express or implied.\n",
              "// See the License for the specific language governing permissions and\n",
              "// limitations under the License.\n",
              "\n",
              "/**\n",
              " * @fileoverview Helpers for google.colab Python module.\n",
              " */\n",
              "(function(scope) {\n",
              "function span(text, styleAttributes = {}) {\n",
              "  const element = document.createElement('span');\n",
              "  element.textContent = text;\n",
              "  for (const key of Object.keys(styleAttributes)) {\n",
              "    element.style[key] = styleAttributes[key];\n",
              "  }\n",
              "  return element;\n",
              "}\n",
              "\n",
              "// Max number of bytes which will be uploaded at a time.\n",
              "const MAX_PAYLOAD_SIZE = 100 * 1024;\n",
              "\n",
              "function _uploadFiles(inputId, outputId) {\n",
              "  const steps = uploadFilesStep(inputId, outputId);\n",
              "  const outputElement = document.getElementById(outputId);\n",
              "  // Cache steps on the outputElement to make it available for the next call\n",
              "  // to uploadFilesContinue from Python.\n",
              "  outputElement.steps = steps;\n",
              "\n",
              "  return _uploadFilesContinue(outputId);\n",
              "}\n",
              "\n",
              "// This is roughly an async generator (not supported in the browser yet),\n",
              "// where there are multiple asynchronous steps and the Python side is going\n",
              "// to poll for completion of each step.\n",
              "// This uses a Promise to block the python side on completion of each step,\n",
              "// then passes the result of the previous step as the input to the next step.\n",
              "function _uploadFilesContinue(outputId) {\n",
              "  const outputElement = document.getElementById(outputId);\n",
              "  const steps = outputElement.steps;\n",
              "\n",
              "  const next = steps.next(outputElement.lastPromiseValue);\n",
              "  return Promise.resolve(next.value.promise).then((value) => {\n",
              "    // Cache the last promise value to make it available to the next\n",
              "    // step of the generator.\n",
              "    outputElement.lastPromiseValue = value;\n",
              "    return next.value.response;\n",
              "  });\n",
              "}\n",
              "\n",
              "/**\n",
              " * Generator function which is called between each async step of the upload\n",
              " * process.\n",
              " * @param {string} inputId Element ID of the input file picker element.\n",
              " * @param {string} outputId Element ID of the output display.\n",
              " * @return {!Iterable<!Object>} Iterable of next steps.\n",
              " */\n",
              "function* uploadFilesStep(inputId, outputId) {\n",
              "  const inputElement = document.getElementById(inputId);\n",
              "  inputElement.disabled = false;\n",
              "\n",
              "  const outputElement = document.getElementById(outputId);\n",
              "  outputElement.innerHTML = '';\n",
              "\n",
              "  const pickedPromise = new Promise((resolve) => {\n",
              "    inputElement.addEventListener('change', (e) => {\n",
              "      resolve(e.target.files);\n",
              "    });\n",
              "  });\n",
              "\n",
              "  const cancel = document.createElement('button');\n",
              "  inputElement.parentElement.appendChild(cancel);\n",
              "  cancel.textContent = 'Cancel upload';\n",
              "  const cancelPromise = new Promise((resolve) => {\n",
              "    cancel.onclick = () => {\n",
              "      resolve(null);\n",
              "    };\n",
              "  });\n",
              "\n",
              "  // Wait for the user to pick the files.\n",
              "  const files = yield {\n",
              "    promise: Promise.race([pickedPromise, cancelPromise]),\n",
              "    response: {\n",
              "      action: 'starting',\n",
              "    }\n",
              "  };\n",
              "\n",
              "  cancel.remove();\n",
              "\n",
              "  // Disable the input element since further picks are not allowed.\n",
              "  inputElement.disabled = true;\n",
              "\n",
              "  if (!files) {\n",
              "    return {\n",
              "      response: {\n",
              "        action: 'complete',\n",
              "      }\n",
              "    };\n",
              "  }\n",
              "\n",
              "  for (const file of files) {\n",
              "    const li = document.createElement('li');\n",
              "    li.append(span(file.name, {fontWeight: 'bold'}));\n",
              "    li.append(span(\n",
              "        `(${file.type || 'n/a'}) - ${file.size} bytes, ` +\n",
              "        `last modified: ${\n",
              "            file.lastModifiedDate ? file.lastModifiedDate.toLocaleDateString() :\n",
              "                                    'n/a'} - `));\n",
              "    const percent = span('0% done');\n",
              "    li.appendChild(percent);\n",
              "\n",
              "    outputElement.appendChild(li);\n",
              "\n",
              "    const fileDataPromise = new Promise((resolve) => {\n",
              "      const reader = new FileReader();\n",
              "      reader.onload = (e) => {\n",
              "        resolve(e.target.result);\n",
              "      };\n",
              "      reader.readAsArrayBuffer(file);\n",
              "    });\n",
              "    // Wait for the data to be ready.\n",
              "    let fileData = yield {\n",
              "      promise: fileDataPromise,\n",
              "      response: {\n",
              "        action: 'continue',\n",
              "      }\n",
              "    };\n",
              "\n",
              "    // Use a chunked sending to avoid message size limits. See b/62115660.\n",
              "    let position = 0;\n",
              "    do {\n",
              "      const length = Math.min(fileData.byteLength - position, MAX_PAYLOAD_SIZE);\n",
              "      const chunk = new Uint8Array(fileData, position, length);\n",
              "      position += length;\n",
              "\n",
              "      const base64 = btoa(String.fromCharCode.apply(null, chunk));\n",
              "      yield {\n",
              "        response: {\n",
              "          action: 'append',\n",
              "          file: file.name,\n",
              "          data: base64,\n",
              "        },\n",
              "      };\n",
              "\n",
              "      let percentDone = fileData.byteLength === 0 ?\n",
              "          100 :\n",
              "          Math.round((position / fileData.byteLength) * 100);\n",
              "      percent.textContent = `${percentDone}% done`;\n",
              "\n",
              "    } while (position < fileData.byteLength);\n",
              "  }\n",
              "\n",
              "  // All done.\n",
              "  yield {\n",
              "    response: {\n",
              "      action: 'complete',\n",
              "    }\n",
              "  };\n",
              "}\n",
              "\n",
              "scope.google = scope.google || {};\n",
              "scope.google.colab = scope.google.colab || {};\n",
              "scope.google.colab._files = {\n",
              "  _uploadFiles,\n",
              "  _uploadFilesContinue,\n",
              "};\n",
              "})(self);\n",
              "</script> "
            ]
          },
          "metadata": {}
        },
        {
          "output_type": "stream",
          "name": "stdout",
          "text": [
            "Saving beer_5k.csv to beer_5k.csv\n"
          ]
        }
      ]
    },
    {
      "cell_type": "code",
      "source": [
        "import pandas as pd"
      ],
      "metadata": {
        "id": "IH_yF1ZzT8yI"
      },
      "execution_count": null,
      "outputs": []
    },
    {
      "cell_type": "code",
      "source": [
        "import nltk\n",
        "nltk.download('punkt')"
      ],
      "metadata": {
        "colab": {
          "base_uri": "https://localhost:8080/"
        },
        "id": "zAqN7jkvTsbL",
        "outputId": "d15de0c1-c523-45b9-9e3b-2e5d984a3ce6"
      },
      "execution_count": null,
      "outputs": [
        {
          "output_type": "stream",
          "name": "stderr",
          "text": [
            "[nltk_data] Downloading package punkt to /root/nltk_data...\n",
            "[nltk_data]   Unzipping tokenizers/punkt.zip.\n"
          ]
        },
        {
          "output_type": "execute_result",
          "data": {
            "text/plain": [
              "True"
            ]
          },
          "metadata": {},
          "execution_count": 19
        }
      ]
    },
    {
      "cell_type": "code",
      "source": [
        "df = pd.read_csv(\"beer_5k.csv\")\n",
        "df.head()"
      ],
      "metadata": {
        "id": "9myoLQGgU958"
      },
      "execution_count": null,
      "outputs": []
    },
    {
      "cell_type": "code",
      "source": [
        "texts = []"
      ],
      "metadata": {
        "id": "u3zC-Yv68KiP"
      },
      "execution_count": null,
      "outputs": []
    },
    {
      "cell_type": "code",
      "source": [
        "df['text'][1].replace(\"\\t\", \" \")"
      ],
      "metadata": {
        "colab": {
          "base_uri": "https://localhost:8080/",
          "height": 53
        },
        "id": "wfFWzvpMWBgB",
        "outputId": "2744e6d7-db63-4051-a61f-9f0312d19ea9"
      },
      "execution_count": null,
      "outputs": [
        {
          "output_type": "execute_result",
          "data": {
            "text/plain": [
              "'Dark red color, light beige foam, average. In the smell malt and caramel, not really light. Again malt and caramel in the taste, not bad in the end. Maybe a note of honey in teh back, and a light fruitiness. Average body. In the aftertaste a light bitterness, with the malt and red fruit. Nothing exceptional, but not bad, drinkable beer.'"
            ],
            "application/vnd.google.colaboratory.intrinsic+json": {
              "type": "string"
            }
          },
          "metadata": {},
          "execution_count": 16
        }
      ]
    },
    {
      "cell_type": "code",
      "source": [
        "for i in range(100):\n",
        "  texts.append(df['text'][i].replace(\"\\t\", \" \"))"
      ],
      "metadata": {
        "id": "nzLvSJQC8oO4"
      },
      "execution_count": null,
      "outputs": []
    },
    {
      "cell_type": "code",
      "source": [
        "concepts = ['aroma','smell','beer']"
      ],
      "metadata": {
        "id": "jzeyrgFOnpWa"
      },
      "execution_count": null,
      "outputs": []
    },
    {
      "cell_type": "code",
      "source": [
        "def doc_to_sent(doc):\n",
        "  tokens = nltk.sent_tokenize(doc)\n",
        "  return tokens"
      ],
      "metadata": {
        "id": "cSvX0raASeE0"
      },
      "execution_count": null,
      "outputs": []
    },
    {
      "cell_type": "code",
      "source": [
        "concepts_dict = {}\n",
        "for concept in concepts:\n",
        "  concepts_dict[concept] = []"
      ],
      "metadata": {
        "id": "doy7ICw_T8NQ"
      },
      "execution_count": null,
      "outputs": []
    },
    {
      "cell_type": "code",
      "source": [
        "for k, doc in enumerate(texts[:10]):\n",
        "  sentences = doc_to_sent(doc)\n",
        "  for concept in concepts:\n",
        "    for i, sentence in enumerate(sentences):\n",
        "      if (sentence.find(concept) != -1):\n",
        "        concepts_dict[concept].append((k,i))      "
      ],
      "metadata": {
        "id": "cLwj_BNdS1iw"
      },
      "execution_count": null,
      "outputs": []
    },
    {
      "cell_type": "code",
      "source": [
        "concepts_dict"
      ],
      "metadata": {
        "colab": {
          "base_uri": "https://localhost:8080/"
        },
        "id": "JviLsnxA9pne",
        "outputId": "694c56dc-e734-471a-b456-900eb71f80c1"
      },
      "execution_count": null,
      "outputs": [
        {
          "output_type": "execute_result",
          "data": {
            "text/plain": [
              "{'aroma': [(4, 4), (6, 2), (7, 3)],\n",
              " 'smell': [(0, 2), (1, 1), (2, 2), (3, 3)],\n",
              " 'beer': [(1, 6),\n",
              "  (4, 3),\n",
              "  (4, 7),\n",
              "  (4, 9),\n",
              "  (4, 10),\n",
              "  (4, 11),\n",
              "  (5, 10),\n",
              "  (6, 1),\n",
              "  (7, 2),\n",
              "  (7, 7),\n",
              "  (7, 10),\n",
              "  (8, 1),\n",
              "  (9, 8)]}"
            ]
          },
          "metadata": {},
          "execution_count": 75
        }
      ]
    },
    {
      "cell_type": "code",
      "source": [
        "%%capture\n",
        "!pip install transformers"
      ],
      "metadata": {
        "id": "3xgkQUjQW_WA"
      },
      "execution_count": 2,
      "outputs": []
    },
    {
      "cell_type": "code",
      "source": [
        "from transformers import pipeline\n",
        "sentiment_analysis = pipeline(\"text-classification\", model=\"j-hartmann/sentiment-roberta-large-english-3-classes\", return_all_scores=True)\n",
        "#print(sentiment_analysis(\"Smokey and spicy summer sausage is all I can smell no matter how I try.\"))"
      ],
      "metadata": {
        "id": "Yav8Q-FNWyzW"
      },
      "execution_count": null,
      "outputs": []
    },
    {
      "cell_type": "code",
      "source": [
        "print(sentiment_analysis(\"This band aids worked great overall. I loved the XL size, which worked well for our current needs. The removing of band aids is always painful for the whole family. This process was much less painful. I would definitely repurchase this product to have on hand.\"))"
      ],
      "metadata": {
        "colab": {
          "base_uri": "https://localhost:8080/"
        },
        "id": "DLJwa7Iuiy-I",
        "outputId": "cf82ef30-8ecc-405f-ba43-28be97fc4be0"
      },
      "execution_count": 20,
      "outputs": [
        {
          "output_type": "stream",
          "name": "stdout",
          "text": [
            "[[{'label': 'negative', 'score': 0.00033986219204962254}, {'label': 'neutral', 'score': 0.0003540195757523179}, {'label': 'positive', 'score': 0.9993060827255249}]]\n"
          ]
        }
      ]
    },
    {
      "cell_type": "code",
      "source": [
        "print(sentiment_analysis(\"It may be good or may be bad\")[0])"
      ],
      "metadata": {
        "colab": {
          "base_uri": "https://localhost:8080/"
        },
        "id": "8MbfhdgGZAXe",
        "outputId": "a8e7c103-dbc7-4754-8c7a-87233081455a"
      },
      "execution_count": 7,
      "outputs": [
        {
          "output_type": "stream",
          "name": "stdout",
          "text": [
            "[{'label': 'negative', 'score': 0.03651849925518036}, {'label': 'neutral', 'score': 0.9624488353729248}, {'label': 'positive', 'score': 0.0010325562907382846}]\n"
          ]
        }
      ]
    },
    {
      "cell_type": "code",
      "source": [
        "print(sentiment_analysis(\"It may be bad or may be very good\")[0])"
      ],
      "metadata": {
        "colab": {
          "base_uri": "https://localhost:8080/"
        },
        "id": "MxVs2IWfsciR",
        "outputId": "783a346d-c3b6-4f7b-dcec-a98d729bbc90"
      },
      "execution_count": 8,
      "outputs": [
        {
          "output_type": "stream",
          "name": "stdout",
          "text": [
            "[{'label': 'negative', 'score': 0.9843611717224121}, {'label': 'neutral', 'score': 0.014101230539381504}, {'label': 'positive', 'score': 0.0015376234659925103}]\n"
          ]
        }
      ]
    },
    {
      "cell_type": "code",
      "source": [
        "print(sentiment_analysis(\"It may be either bad or good\"))"
      ],
      "metadata": {
        "colab": {
          "base_uri": "https://localhost:8080/"
        },
        "id": "Lc61iycpsmk9",
        "outputId": "12437d53-9f18-4900-a6f8-c40b27b3359f"
      },
      "execution_count": null,
      "outputs": [
        {
          "output_type": "stream",
          "name": "stdout",
          "text": [
            "[[{'label': 'negative', 'score': 0.5826348662376404}, {'label': 'neutral', 'score': 0.4156332015991211}, {'label': 'positive', 'score': 0.0017319732578471303}]]\n"
          ]
        }
      ]
    },
    {
      "cell_type": "code",
      "source": [
        "sentiment_analysis_siebert = pipeline(\"sentiment-analysis\",model=\"siebert/sentiment-roberta-large-english\")"
      ],
      "metadata": {
        "id": "t6a-g1k0KD-V"
      },
      "execution_count": null,
      "outputs": []
    },
    {
      "cell_type": "code",
      "source": [
        "print(sentiment_analysis_siebert(\"It may be good or may be bad\")[0])\n",
        "print(sentiment_analysis_siebert(\"It may be bad or may be good\")[0])"
      ],
      "metadata": {
        "id": "JRQFe_n0KSfi",
        "outputId": "a2b80986-7293-4e76-9af4-807ab560245a",
        "colab": {
          "base_uri": "https://localhost:8080/"
        }
      },
      "execution_count": 10,
      "outputs": [
        {
          "output_type": "stream",
          "name": "stdout",
          "text": [
            "{'label': 'NEGATIVE', 'score': 0.9592878818511963}\n",
            "{'label': 'POSITIVE', 'score': 0.9914030432701111}\n"
          ]
        }
      ]
    },
    {
      "cell_type": "code",
      "source": [
        "concepts = ['bacon','aroma']"
      ],
      "metadata": {
        "id": "rK6REeDK_eXX"
      },
      "execution_count": null,
      "outputs": []
    },
    {
      "cell_type": "code",
      "source": [
        "tokens = nltk.sent_tokenize(texts[50])\n",
        "for t in tokens:\n",
        "  print (t, \"\\n\")"
      ],
      "metadata": {
        "colab": {
          "base_uri": "https://localhost:8080/"
        },
        "id": "kp-Clrh2Bcht",
        "outputId": "158b1441-3ad8-4aac-de6f-3e0e26649054"
      },
      "execution_count": null,
      "outputs": [
        {
          "output_type": "stream",
          "name": "stdout",
          "text": [
            "Deep cherry body with a faint beige head the recedes to nothing. \n",
            "\n",
            "No cap, no wisp ring, no lacing. \n",
            "\n",
            "Can't say this looks like anything special. \n",
            "\n",
            "Smokey and spicy summer sausage is all I can smell no matter how I try. \n",
            "\n",
            "It is however a wonderful aroma that I really enjoy. \n",
            "\n",
            "Wow! \n",
            "\n",
            "We have liquid bacon in a glass here! \n",
            "\n",
            "Although initially the cured meat taste is so intense I can't look past it, I was finally able to pick on its other dynamics half way through the bomber. \n",
            "\n",
            "Sweet stone fruits and a touch of orange zest add their nuances to the flavor. \n",
            "\n",
            "Its more complex than I usually find smoked beers to be and I can really enjoy it! \n",
            "\n",
            "Semi-thin in body with fine prickly carbonation is a nice contrast to such a powerful flavor profile. \n",
            "\n",
            "Anything heavier may have been too much. \n",
            "\n",
            "Finishes clean. \n",
            "\n",
            "I found this a little difficult to drink at first due to its uniqueness, but grew accustomed to the pungency. \n",
            "\n",
            "This is a nice sipper if given a chance and I'm really glad I tried it. \n",
            "\n",
            "Recommended. \n",
            "\n"
          ]
        }
      ]
    },
    {
      "cell_type": "code",
      "source": [
        "concept_loc = []\n",
        "sentences = nltk.sent_tokenize(texts[50])\n",
        "for i, sentence in enumerate(sentences):\n",
        "  for concept in concepts:\n",
        "    if (sentence.find(concept) != -1):\n",
        "      print(sentence.find(concept))\n",
        "      concept_loc.append((i,concept))"
      ],
      "metadata": {
        "colab": {
          "base_uri": "https://localhost:8080/"
        },
        "id": "gH6ZJVtQ99fT",
        "outputId": "ac5b919d-69a4-4e17-d341-126bf654b978"
      },
      "execution_count": null,
      "outputs": [
        {
          "output_type": "stream",
          "name": "stdout",
          "text": [
            "26\n",
            "15\n"
          ]
        }
      ]
    },
    {
      "cell_type": "code",
      "source": [
        "concept_loc"
      ],
      "metadata": {
        "colab": {
          "base_uri": "https://localhost:8080/"
        },
        "id": "Ferrk61mB0ef",
        "outputId": "b6981928-8010-46fd-a202-b609367e792b"
      },
      "execution_count": null,
      "outputs": [
        {
          "output_type": "execute_result",
          "data": {
            "text/plain": [
              "[(4, 'aroma'), (6, 'bacon')]"
            ]
          },
          "metadata": {},
          "execution_count": 41
        }
      ]
    },
    {
      "cell_type": "markdown",
      "source": [
        "# Sentiment Analysis investigation "
      ],
      "metadata": {
        "id": "ZDvChc-nWmwb"
      }
    },
    {
      "cell_type": "code",
      "source": [
        "from transformers import pipeline"
      ],
      "metadata": {
        "id": "EJLJO4BhWyl6"
      },
      "execution_count": 2,
      "outputs": []
    },
    {
      "cell_type": "code",
      "source": [
        "%%capture\n",
        "sentiment_analysis = pipeline(\"text-classification\", model=\"j-hartmann/sentiment-roberta-large-english-3-classes\", return_all_scores=True, device=0)"
      ],
      "metadata": {
        "colab": {
          "base_uri": "https://localhost:8080/"
        },
        "id": "wjyhE48ux85e",
        "outputId": "67b718e1-4fc6-4c38-9c94-4e5caad11bb6"
      },
      "execution_count": 9,
      "outputs": [
        {
          "output_type": "stream",
          "name": "stderr",
          "text": [
            "Some weights of the model checkpoint at j-hartmann/sentiment-roberta-large-english-3-classes were not used when initializing RobertaForSequenceClassification: ['roberta.pooler.dense.bias', 'roberta.pooler.dense.weight']\n",
            "- This IS expected if you are initializing RobertaForSequenceClassification from the checkpoint of a model trained on another task or with another architecture (e.g. initializing a BertForSequenceClassification model from a BertForPreTraining model).\n",
            "- This IS NOT expected if you are initializing RobertaForSequenceClassification from the checkpoint of a model that you expect to be exactly identical (initializing a BertForSequenceClassification model from a BertForSequenceClassification model).\n"
          ]
        }
      ]
    },
    {
      "cell_type": "code",
      "source": [
        "import time\n",
        "import pandas as pd"
      ],
      "metadata": {
        "id": "4SZFw_70XJnj"
      },
      "execution_count": 4,
      "outputs": []
    },
    {
      "cell_type": "code",
      "source": [
        "df = pd.read_csv(\"beer_5k.csv\")\n",
        "#df.head()"
      ],
      "metadata": {
        "id": "WRHNgQVYYIjM"
      },
      "execution_count": 6,
      "outputs": []
    },
    {
      "cell_type": "code",
      "source": [
        "texts = [item.replace(\"\\t\", \" \")[:1000] for item in df['text'] [:3000]]"
      ],
      "metadata": {
        "id": "cMFIqZYKlenX"
      },
      "execution_count": 7,
      "outputs": []
    },
    {
      "cell_type": "code",
      "source": [
        "texts[484]"
      ],
      "metadata": {
        "colab": {
          "base_uri": "https://localhost:8080/",
          "height": 89
        },
        "id": "-D41AviBxhiZ",
        "outputId": "bf538743-1231-4a25-8a5c-9b1ff0daf0ee"
      },
      "execution_count": 50,
      "outputs": [
        {
          "output_type": "execute_result",
          "data": {
            "text/plain": [
              "'Always interested in a can.  Appearance - A deep copper/amber color. Very clear. Half inch of white soapy head. Laces well.   Smell - Some grapefruit hops, with a touch of pine. Also a little sweet malt. The hops are a little subdued.   Taste - Follows the smell. There is some nice hops up front, but the malt really comes through at the end. There is a real sweetness, and a little burnt maltiness on the finish.   Mouthfeel - A little on the thin side. Nice carbonation.   Drinkability - Pretty decent, it\\'s a nice beer, but nothing special.   This is a maltier \"east coast\" style ipa. It\\'s a pretty good beer, but not necessarily my favorite.'"
            ],
            "application/vnd.google.colaboratory.intrinsic+json": {
              "type": "string"
            }
          },
          "metadata": {},
          "execution_count": 50
        }
      ]
    },
    {
      "cell_type": "code",
      "source": [
        "sentiment_analysis(texts[485])"
      ],
      "metadata": {
        "colab": {
          "base_uri": "https://localhost:8080/"
        },
        "id": "_Llzkclwy1R_",
        "outputId": "08d024a4-4b92-40c4-d305-4737e5e6c02f"
      },
      "execution_count": 51,
      "outputs": [
        {
          "output_type": "execute_result",
          "data": {
            "text/plain": [
              "[[{'label': 'NEGATIVE', 'score': 0.0015217895852401853},\n",
              "  {'label': 'POSITIVE', 'score': 0.9984782338142395}]]"
            ]
          },
          "metadata": {},
          "execution_count": 51
        }
      ]
    },
    {
      "cell_type": "code",
      "source": [
        "#bcs data is dirty\n",
        "texts_alt = []\n",
        "for i in range(4999):\n",
        "  if type(df['text'][i]) == str:\n",
        "    texts_alt.append(df['text'][i].replace(\"\\t\", \" \"))"
      ],
      "metadata": {
        "id": "cQ9WPs2wqxLs"
      },
      "execution_count": 53,
      "outputs": []
    },
    {
      "cell_type": "code",
      "source": [
        "texts_alt[10]"
      ],
      "metadata": {
        "id": "QgApKkkI7yvM"
      },
      "execution_count": null,
      "outputs": []
    },
    {
      "cell_type": "code",
      "source": [
        "#test code to check counting\n",
        "e = []\n",
        "for item in texts_alt:\n",
        "  if item.find(\" thin \") != -1:\n",
        "    e.append(item)"
      ],
      "metadata": {
        "id": "Wi36b6SQZmV9"
      },
      "execution_count": 67,
      "outputs": []
    },
    {
      "cell_type": "code",
      "source": [
        "len(e)"
      ],
      "metadata": {
        "id": "O5ZMK8TkZ4ji",
        "outputId": "5cd7acbc-1294-45bb-87fa-ccbf2e7f3f75",
        "colab": {
          "base_uri": "https://localhost:8080/"
        }
      },
      "execution_count": 68,
      "outputs": [
        {
          "output_type": "execute_result",
          "data": {
            "text/plain": [
              "667"
            ]
          },
          "metadata": {},
          "execution_count": 68
        }
      ]
    },
    {
      "cell_type": "code",
      "source": [
        "sentiments = []\n",
        "start_time = time.time()\n",
        "for item in texts:\n",
        "  tmp = (item, sentiment_analysis(item)[0])\n",
        "  sentiments.append(tmp)\n",
        "print(\"--- %s seconds ---\" % (time.time() - start_time))  "
      ],
      "metadata": {
        "colab": {
          "base_uri": "https://localhost:8080/"
        },
        "id": "K6-Cm1PfW5x_",
        "outputId": "3e389057-c029-42f8-a7ba-0f505626edd4"
      },
      "execution_count": 10,
      "outputs": [
        {
          "output_type": "stream",
          "name": "stderr",
          "text": [
            "/usr/local/lib/python3.7/dist-packages/transformers/pipelines/base.py:1046: UserWarning: You seem to be using the pipelines sequentially on GPU. In order to maximize efficiency please use a dataset\n",
            "  UserWarning,\n"
          ]
        },
        {
          "output_type": "stream",
          "name": "stdout",
          "text": [
            "--- 109.70648455619812 seconds ---\n"
          ]
        }
      ]
    },
    {
      "cell_type": "code",
      "source": [
        "ex[5][1]"
      ],
      "metadata": {
        "colab": {
          "base_uri": "https://localhost:8080/"
        },
        "id": "8kdOhyjhRWty",
        "outputId": "b5e797d1-1815-4c10-a652-72e88caae59a"
      },
      "execution_count": 21,
      "outputs": [
        {
          "output_type": "execute_result",
          "data": {
            "text/plain": [
              "[{'label': 'negative', 'score': 0.00028445824864320457},\n",
              " {'label': 'neutral', 'score': 0.003205050015822053},\n",
              " {'label': 'positive', 'score': 0.9965104460716248}]"
            ]
          },
          "metadata": {},
          "execution_count": 21
        }
      ]
    },
    {
      "cell_type": "code",
      "source": [
        "ex = []\n",
        "for item in sentiments:\n",
        "  if item[0].find(\" thin \") != -1:\n",
        "    ex.append(item)"
      ],
      "metadata": {
        "id": "gErddyRbyPDO"
      },
      "execution_count": 43,
      "outputs": []
    },
    {
      "cell_type": "code",
      "source": [
        "len(ex)"
      ],
      "metadata": {
        "id": "ciyL1dYyYBeh"
      },
      "execution_count": null,
      "outputs": []
    },
    {
      "cell_type": "code",
      "source": [
        "pos = 0\n",
        "neg = 0\n",
        "neut = 0\n",
        "pos_reviews =  []\n",
        "def util(e):\n",
        "  return e['score']\n",
        "\n",
        "for item in ex:\n",
        "  item[1].sort(key=util)\n",
        "  if item[1][2]['label'] == 'negative':\n",
        "    neg+=1\n",
        "  if item[1][2]['label'] == 'positive':\n",
        "    pos+=1\n",
        "    pos_reviews.append(item)\n",
        "  if item[1][2]['label'] == 'neutral':\n",
        "    neut+=1"
      ],
      "metadata": {
        "id": "QHIImAYXRIgx"
      },
      "execution_count": 45,
      "outputs": []
    },
    {
      "cell_type": "code",
      "source": [
        "print(f\"postive = {pos} - negative = {neg} - neutral = {neut}\")"
      ],
      "metadata": {
        "colab": {
          "base_uri": "https://localhost:8080/"
        },
        "id": "rOe8fEMnV5mS",
        "outputId": "37a1d512-4572-428b-aeb5-0a0a2015ae3a"
      },
      "execution_count": 46,
      "outputs": [
        {
          "output_type": "stream",
          "name": "stdout",
          "text": [
            "postive = 139 - negative = 102 - neutral = 129\n"
          ]
        }
      ]
    },
    {
      "cell_type": "code",
      "source": [
        "len(pos_reviews[50][0].split(' '))"
      ],
      "metadata": {
        "colab": {
          "base_uri": "https://localhost:8080/"
        },
        "id": "sWNhRNa0U1me",
        "outputId": "390708b0-fa66-4368-8116-c2a4c200f90c"
      },
      "execution_count": 51,
      "outputs": [
        {
          "output_type": "execute_result",
          "data": {
            "text/plain": [
              "128"
            ]
          },
          "metadata": {},
          "execution_count": 51
        }
      ]
    },
    {
      "cell_type": "markdown",
      "source": [
        "# Useful code snippets"
      ],
      "metadata": {
        "id": "RE3QGDun9mXp"
      }
    },
    {
      "cell_type": "code",
      "source": [
        "from sklearn.datasets import load_digits\n",
        "digits = load_digits()\n",
        "type(digits.data)"
      ],
      "metadata": {
        "id": "Q28xQcrbtwyj"
      },
      "execution_count": null,
      "outputs": []
    },
    {
      "cell_type": "code",
      "source": [
        "import json\n",
        "with open('beer_concept_500.json', 'w', encoding='utf-8') as f:\n",
        "    json.dump(res_['result'], f, ensure_ascii=False, indent=4)"
      ],
      "metadata": {
        "id": "BYTMdhbi9qWn"
      },
      "execution_count": null,
      "outputs": []
    },
    {
      "cell_type": "code",
      "source": [
        "from scipy.spatial import distance\n",
        "\n",
        "distance.cosine(item,target)"
      ],
      "metadata": {
        "id": "gkOWTYew_Vch"
      },
      "execution_count": null,
      "outputs": []
    },
    {
      "cell_type": "code",
      "source": [
        "pip install -U sentence-transformers"
      ],
      "metadata": {
        "id": "_yZWfHWg_2QV"
      },
      "execution_count": null,
      "outputs": []
    },
    {
      "cell_type": "code",
      "source": [
        "from sentence_transformers import SentenceTransformer\n",
        "model = SentenceTransformer('paraphrase-MiniLM-L6-v2')\n",
        "\n",
        "#Our sentences we like to encode\n",
        "sentences = ['This framework generates embeddings for each input sentence',\n",
        "    'Sentences are passed as a list of string.',\n",
        "    'The quick brown fox jumps over the lazy dog.']\n",
        "\n",
        "#Sentences are encoded by calling model.encode()\n",
        "embeddings = model.encode(sentences)\n",
        "\n",
        "#Print the embeddings\n",
        "for sentence, embedding in zip(sentences, embeddings):\n",
        "    print(\"Sentence:\", sentence)\n",
        "    print(\"Embedding:\", embedding)\n",
        "    print(\"\")"
      ],
      "metadata": {
        "id": "0D65MwY2_4Xe"
      },
      "execution_count": null,
      "outputs": []
    },
    {
      "cell_type": "code",
      "source": [
        "from sentence_transformers import SentenceTransformer, util\n",
        "model = SentenceTransformer('all-MiniLM-L6-v2')\n",
        "\n",
        "# Two lists of sentences\n",
        "sentences1 = ['The cat sits outside',\n",
        "             'A man is playing guitar',\n",
        "             'The new movie is awesome']\n",
        "\n",
        "sentences2 = ['The dog plays in the garden',\n",
        "              'A woman watches TV',\n",
        "              'The new movie is so great']\n",
        "\n",
        "#Compute embedding for both lists\n",
        "embeddings1 = model.encode(sentences1, convert_to_tensor=True)\n",
        "embeddings2 = model.encode(sentences2, convert_to_tensor=True)\n",
        "\n",
        "#Compute cosine-similarits\n",
        "cosine_scores = util.cos_sim(embeddings1, embeddings2)\n",
        "\n",
        "#Output the pairs with their score\n",
        "for i in range(len(sentences1)):\n",
        "    print(\"{} \\t\\t {} \\t\\t Score: {:.4f}\".format(sentences1[i], sentences2[i], cosine_scores[i][i]))"
      ],
      "metadata": {
        "id": "UD2zhnpXAcHf"
      },
      "execution_count": null,
      "outputs": []
    },
    {
      "cell_type": "code",
      "source": [
        "# importing the module\n",
        "import pandas as pd"
      ],
      "metadata": {
        "id": "MpaLdxTMREby"
      },
      "execution_count": null,
      "outputs": []
    },
    {
      "cell_type": "code",
      "source": [
        "#dataframe to TSV\n",
        "  \n",
        "# creating some sample data\n",
        "sample = {'text': concepts,\n",
        "         'embedding': emb_corpus.tolist()}"
      ],
      "metadata": {
        "id": "kLAvNZbMQdv8"
      },
      "execution_count": null,
      "outputs": []
    },
    {
      "cell_type": "code",
      "source": [
        "# creating the DataFrame\n",
        "df = pd.DataFrame(sample)\n",
        "  \n",
        "# displaying the DataFrame\n",
        "df.head()"
      ],
      "metadata": {
        "id": "7stWl7hQRbxE"
      },
      "execution_count": null,
      "outputs": []
    },
    {
      "cell_type": "code",
      "source": [
        "df.to_csv('beer_500.tsv', sep=\"\\t\")"
      ],
      "metadata": {
        "id": "b8XfMVqhSppg"
      },
      "execution_count": null,
      "outputs": []
    },
    {
      "cell_type": "code",
      "source": [
        "import csv"
      ],
      "metadata": {
        "id": "rMiF0ruJPkMX"
      },
      "execution_count": null,
      "outputs": []
    },
    {
      "cell_type": "code",
      "source": [
        "with open('output.tsv', 'w', newline='') as f_output:\n",
        "    tsv_output = csv.writer(f_output, delimiter='\\t')\n",
        "    for item in emb_corpus.tolist():\n",
        "      tsv_output.writerow(item)"
      ],
      "metadata": {
        "id": "_95HDFFBUVvk"
      },
      "execution_count": null,
      "outputs": []
    },
    {
      "cell_type": "code",
      "source": [
        "with open('meta.tsv', 'w') as f_output:\n",
        "    for item in concepts:\n",
        "      f_output.write(\"{}\\n\".format(item))"
      ],
      "metadata": {
        "id": "YfEDkctWOh8y"
      },
      "execution_count": null,
      "outputs": []
    },
    {
      "cell_type": "code",
      "source": [
        "texts = []\n",
        "for i in range(4999):\n",
        "  texts.append(df['text'][i].replace(\"\\t\", \" \"))"
      ],
      "metadata": {
        "id": "HRzM-VaeYfTv"
      },
      "execution_count": null,
      "outputs": []
    }
  ]
}