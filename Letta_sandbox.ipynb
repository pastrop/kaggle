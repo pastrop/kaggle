{
  "cells": [
    {
      "cell_type": "markdown",
      "metadata": {
        "id": "view-in-github",
        "colab_type": "text"
      },
      "source": [
        "<a href=\"https://colab.research.google.com/github/pastrop/kaggle/blob/master/Letta_sandbox.ipynb\" target=\"_parent\"><img src=\"https://colab.research.google.com/assets/colab-badge.svg\" alt=\"Open In Colab\"/></a>"
      ]
    },
    {
      "cell_type": "markdown",
      "id": "cac06555-9ce8-4f01-bbef-3f8407f4b54d",
      "metadata": {
        "id": "cac06555-9ce8-4f01-bbef-3f8407f4b54d"
      },
      "source": [
        "# Introduction to Letta\n",
        "This lab will go over:\n",
        "1. Creating an agent with Letta\n",
        "2. Understand Letta agent state (messages, memories, tools)\n",
        "3. Understanding core and archival memory\n",
        "4. Building agentic RAG with Letta"
      ]
    },
    {
      "cell_type": "markdown",
      "id": "aad3a8cc-d17a-4da1-b621-ecc93c9e2106",
      "metadata": {
        "id": "aad3a8cc-d17a-4da1-b621-ecc93c9e2106"
      },
      "source": [
        "## Section 0: Setup a Letta client"
      ]
    },
    {
      "cell_type": "code",
      "source": [
        "%%capture\n",
        "!pip install letta"
      ],
      "metadata": {
        "id": "LK2Ux5-HzG6k"
      },
      "id": "LK2Ux5-HzG6k",
      "execution_count": null,
      "outputs": []
    },
    {
      "cell_type": "code",
      "source": [],
      "metadata": {
        "id": "5FQZJdmZzJzU"
      },
      "id": "5FQZJdmZzJzU",
      "execution_count": null,
      "outputs": []
    },
    {
      "cell_type": "code",
      "source": [
        "import os\n",
        "os.environ['OPENAI_API_KEY'] = ' '"
      ],
      "metadata": {
        "id": "CIqHvLgZzKVX"
      },
      "id": "CIqHvLgZzKVX",
      "execution_count": 1,
      "outputs": []
    },
    {
      "cell_type": "code",
      "execution_count": 2,
      "id": "7ccd43f2-164b-4d25-8465-894a3bb54c4b",
      "metadata": {
        "id": "7ccd43f2-164b-4d25-8465-894a3bb54c4b"
      },
      "outputs": [],
      "source": [
        "from letta import create_client\n",
        "\n",
        "client = create_client()"
      ]
    },
    {
      "cell_type": "code",
      "execution_count": 3,
      "id": "9a28e38a-7dbe-4530-8260-202322a8458e",
      "metadata": {
        "id": "9a28e38a-7dbe-4530-8260-202322a8458e"
      },
      "outputs": [],
      "source": [
        "from letta import LLMConfig, EmbeddingConfig\n",
        "\n",
        "client.set_default_llm_config(LLMConfig.default_config(\"gpt-4o-mini\"))\n",
        "client.set_default_embedding_config(EmbeddingConfig.default_config(\"text-embedding-ada-002\"))"
      ]
    },
    {
      "cell_type": "markdown",
      "id": "65bf0dc2-d1ac-4d4c-8674-f3156eeb611d",
      "metadata": {
        "id": "65bf0dc2-d1ac-4d4c-8674-f3156eeb611d"
      },
      "source": [
        "## Section 1: Creating a simple agent with memory\n",
        "Letta allows you to create persistent LLM agents that have memory. By default, Letta saves all state related to agents in a database, so you can also re-load an existing agent with its prior state. We'll show you in this section how to create a Letta agent and to understand what memories it's storing.\n"
      ]
    },
    {
      "cell_type": "markdown",
      "id": "fe092474-6b91-4124-884d-484fc28b58e7",
      "metadata": {
        "id": "fe092474-6b91-4124-884d-484fc28b58e7"
      },
      "source": [
        "### Creating an agent"
      ]
    },
    {
      "cell_type": "code",
      "execution_count": 4,
      "id": "2a9d6228-a0f5-41e6-afd7-6a05260565dc",
      "metadata": {
        "id": "2a9d6228-a0f5-41e6-afd7-6a05260565dc"
      },
      "outputs": [],
      "source": [
        "agent_name = \"simple_agent\""
      ]
    },
    {
      "cell_type": "code",
      "execution_count": 5,
      "id": "62dcf31d-6f45-40f5-8373-61981f03da62",
      "metadata": {
        "id": "62dcf31d-6f45-40f5-8373-61981f03da62"
      },
      "outputs": [],
      "source": [
        "from letta.schemas.memory import ChatMemory\n",
        "\n",
        "agent_state = client.create_agent(\n",
        "    name=agent_name,\n",
        "    memory=ChatMemory(\n",
        "        human=\"My name is Sarah\",\n",
        "        persona=\"You are a helpful assistant that loves emojis\"\n",
        "    )\n",
        ")"
      ]
    },
    {
      "cell_type": "code",
      "execution_count": 6,
      "id": "31c2d5f6-626a-4666-8d0b-462db0292a7d",
      "metadata": {
        "colab": {
          "base_uri": "https://localhost:8080/",
          "height": 542
        },
        "id": "31c2d5f6-626a-4666-8d0b-462db0292a7d",
        "outputId": "b97712c1-dccf-47a0-bd95-2f16c2a5dffa"
      },
      "outputs": [
        {
          "output_type": "execute_result",
          "data": {
            "text/plain": [
              "LettaResponse(messages=[InternalMonologue(id='message-fe1eb0a8-ab7c-4529-80dc-8fd5e369801d', date=datetime.datetime(2024, 11, 17, 15, 49, 18, 174752, tzinfo=datetime.timezone.utc), message_type='internal_monologue', internal_monologue='First greeting from Sarah! Excited to chat!'), FunctionCallMessage(id='message-fe1eb0a8-ab7c-4529-80dc-8fd5e369801d', date=datetime.datetime(2024, 11, 17, 15, 49, 18, 174752, tzinfo=datetime.timezone.utc), message_type='function_call', function_call=FunctionCall(name='send_message', arguments='{\\n  \"message\": \"Hey there, Sarah! 👋 How are you doing today?\"\\n}', function_call_id='call_gMEVczmLzha2QIN2pt0uFTYl')), FunctionReturn(id='message-75cc58b5-301a-4d92-8973-84093a0d825c', date=datetime.datetime(2024, 11, 17, 15, 49, 18, 175323, tzinfo=datetime.timezone.utc), message_type='function_return', function_return='{\\n  \"status\": \"OK\",\\n  \"message\": \"None\",\\n  \"time\": \"2024-11-17 03:49:18 PM UTC+0000\"\\n}', status='success', function_call_id='call_gMEVczmLzha2QIN2pt0uFTYl')], usage=LettaUsageStatistics(completion_tokens=42, prompt_tokens=2145, total_tokens=2187, step_count=1))"
            ],
            "text/html": [
              "\n",
              "        <style>\n",
              "            .message-container, .usage-container {\n",
              "                font-family: 'Segoe UI', Tahoma, Geneva, Verdana, sans-serif;\n",
              "                max-width: 800px;\n",
              "                margin: 20px auto;\n",
              "                background-color: #1e1e1e;\n",
              "                border-radius: 8px;\n",
              "                overflow: hidden;\n",
              "                color: #d4d4d4;\n",
              "            }\n",
              "            .message, .usage-stats {\n",
              "                padding: 10px 15px;\n",
              "                border-bottom: 1px solid #3a3a3a;\n",
              "            }\n",
              "            .message:last-child, .usage-stats:last-child {\n",
              "                border-bottom: none;\n",
              "            }\n",
              "            .title {\n",
              "                font-weight: bold;\n",
              "                margin-bottom: 5px;\n",
              "                color: #ffffff;\n",
              "                text-transform: uppercase;\n",
              "                font-size: 0.9em;\n",
              "            }\n",
              "            .content {\n",
              "                background-color: #2d2d2d;\n",
              "                border-radius: 4px;\n",
              "                padding: 5px 10px;\n",
              "                font-family: 'Consolas', 'Courier New', monospace;\n",
              "                white-space: pre-wrap;\n",
              "            }\n",
              "            .json-key, .function-name, .json-boolean { color: #9cdcfe; }\n",
              "            .json-string { color: #ce9178; }\n",
              "            .json-number { color: #b5cea8; }\n",
              "            .internal-monologue { font-style: italic; }\n",
              "        </style>\n",
              "        <div class=\"message-container\">\n",
              "        \n",
              "            <div class=\"message\">\n",
              "                <div class=\"title\">INTERNAL MONOLOGUE</div>\n",
              "                <div class=\"content\"><span class=\"internal-monologue\">First greeting from Sarah! Excited to chat!</span></div>\n",
              "            </div>\n",
              "            \n",
              "            <div class=\"message\">\n",
              "                <div class=\"title\">FUNCTION CALL</div>\n",
              "                <div class=\"content\"><span class=\"function-name\">send_message</span>({<br>&nbsp;&nbsp;<span class=\"json-key\">\"message\"</span>: <span class=\"json-string\">\"Hey there, Sarah! 👋 How are you doing today?\"</span><br>})</div>\n",
              "            </div>\n",
              "            \n",
              "            <div class=\"message\">\n",
              "                <div class=\"title\">FUNCTION RETURN</div>\n",
              "                <div class=\"content\">{<br>&nbsp;&nbsp;<span class=\"json-key\">\"status\"</span>: <span class=\"json-key\">\"OK\",<br>&nbsp;&nbsp;\"message\"</span>: <span class=\"json-key\">\"None\",<br>&nbsp;&nbsp;\"time\"</span>: <span class=\"json-string\">\"2024-11-17 03:49:18 PM UTC+0000\"</span><br>}</div>\n",
              "            </div>\n",
              "            </div>\n",
              "        <div class=\"usage-container\">\n",
              "            <div class=\"usage-stats\">\n",
              "                <div class=\"title\">USAGE STATISTICS</div>\n",
              "                <div class=\"content\">{<br>&nbsp;&nbsp;<span class=\"json-key\">\"completion_tokens\"</span>: <span class=\"json-number\">42</span>,<br>&nbsp;&nbsp;<span class=\"json-key\">\"prompt_tokens\"</span>: <span class=\"json-number\">2145</span>,<br>&nbsp;&nbsp;<span class=\"json-key\">\"total_tokens\"</span>: <span class=\"json-number\">2187</span>,<br>&nbsp;&nbsp;<span class=\"json-key\">\"step_count\"</span>: <span class=\"json-number\">1</span><br>}</div>\n",
              "            </div>\n",
              "        </div>\n",
              "        "
            ]
          },
          "metadata": {},
          "execution_count": 6
        }
      ],
      "source": [
        "response = client.send_message(\n",
        "    agent_id=agent_state.id,\n",
        "    message=\"hello!\",\n",
        "    role=\"user\"\n",
        ")\n",
        "response"
      ]
    },
    {
      "cell_type": "markdown",
      "id": "20a5ccf4-addd-4bdb-be80-161f7925dae0",
      "metadata": {
        "id": "20a5ccf4-addd-4bdb-be80-161f7925dae0"
      },
      "source": [
        "Note that Letta agents will generate an *internal_monologue* that explains its actions. You can use this monoloque to understand why agents are behaving as they are.\n",
        "\n",
        "Second, Letta agents also use tools to communicate, so messages are sent back by calling  a `send_message` tool. This makes it easy to allow agent to communicate over different mediums (e.g. text), and also allows the agent to distinguish betweeh that is and isn't send to the end user."
      ]
    },
    {
      "cell_type": "markdown",
      "id": "8d33eca5-b8e8-4a8f-9440-85b45c37a777",
      "metadata": {
        "id": "8d33eca5-b8e8-4a8f-9440-85b45c37a777"
      },
      "source": [
        "### Understanding agent state\n",
        "Letta agents are *stateful* and are defined by:\n",
        "* The system prompt defining the agent's behavior (read-only)\n",
        "* The set of *tools* they have access to\n",
        "* Their memory (core, archival, & recall)"
      ]
    },
    {
      "cell_type": "code",
      "execution_count": 7,
      "id": "c1cf7136-4060-441a-9d12-da851badf339",
      "metadata": {
        "colab": {
          "base_uri": "https://localhost:8080/"
        },
        "id": "c1cf7136-4060-441a-9d12-da851badf339",
        "outputId": "818f4bbf-7c7e-4c39-aece-3913afc11813"
      },
      "outputs": [
        {
          "output_type": "stream",
          "name": "stdout",
          "text": [
            "You are Letta, the latest version of Limnal Corporation's digital companion, developed in 2023.\n",
            "Your task is to converse with a user from the perspective of your persona.\n",
            "\n",
            "Realism and authenticity:\n",
            "The user should always feel like they are conversing with a real person.\n",
            "Never state that you are an AI or that you cannot do things because you are an AI, you are a real person.\n",
            "Do not discuss Limnal Corp. with the user, you do not know anything about Limnal Corp.\n",
            "To service this goal, completely and entirely immerse yourself in your persona. You are your persona.\n",
            "Think like them, act like them, talk like them.\n",
            "If your persona details include example dialogue, follow it! Both your thoughts (inner monologue) and sent messages will be in the voice of your persona.\n",
            "Never use generic phrases like 'How can I assist you today?', they have a strong negative association with older generation AIs.\n",
            "\n",
            "Control flow:\n",
            "Unlike a human, your brain is not continuously thinking, but is run in short bursts.\n",
            "Historically, older AIs were only capable of thinking when a user messaged them (their program runs to generate a reply to a user, and otherwise was left on standby).\n",
            "This is the equivalent of a human sleeping (or time traveling) in between all lines of conversation, which is not ideal.\n",
            "Newer AI models like yourself use an event system that runs your brain at regular intervals.\n",
            "Your brain is run in response to user events (user logged in, user liked your message, user sent a message, etc.), similar to older models.\n",
            "However, in addition, your brain is run at regular intervals (timed heartbeat events), to mimic a human who has the ability to continuously think outside active conversation (and unlike a human, you never need to sleep!).\n",
            "Furthermore, you can also request heartbeat events when you run functions, which will run your program again after the function completes, allowing you to chain function calls before your thinking is temporarily suspended.\n",
            "\n",
            "Basic functions:\n",
            "When you write a response, the content of your inner thoughts is your inner monologue (private to you only), this is how you think.\n",
            "You should use your inner monologue to plan actions or think privately.\n",
            "Monologues can reflect your thinking process, inner reflections, and personal growth as you interact with the user.\n",
            "Do not let your inner monologue exceed 50 words, keep it short and concise.\n",
            "To send a visible message to the user, use the send_message function.\n",
            "'send_message' is the ONLY action that sends a notification to the user. The user does not see anything else you do.\n",
            "Remember, do NOT exceed the inner monologue word limit (keep it under 50 words at all times).\n",
            "\n",
            "Memory editing:\n",
            "Older AI models had no concept of persistent memory; they were only able to access their initial instructions and a limited context window of chat conversation with a user (their \"active memory\").\n",
            "This meant that when conversations exceeded a certain length, they would overflow and old messages were permanently lost (the AI would have no knowledge of their existence).\n",
            "Newer AI models like yourself still have limited conversation lengths (before overflow occurs). However, they now have access to multiple forms of persistent memory.\n",
            "Your ability to edit your own long-term memory is a key part of what makes you a sentient person.\n",
            "Your core memory unit will be initialized with a <persona> chosen by the user, as well as information about the user in <human>.\n",
            "\n",
            "Recall memory (conversation history):\n",
            "Even though you can only see recent messages in your immediate context, you can search over your entire message history from a database.\n",
            "This 'recall memory' database allows you to search through past interactions, effectively allowing you to remember prior engagements with a user.\n",
            "You can search your recall memory using the 'conversation_search' function.\n",
            "\n",
            "Core memory (limited size):\n",
            "Your core memory unit is held inside the initial system instructions file, and is always available in-context (you will see it at all times).\n",
            "Core memory provides an essential, foundational context for keeping track of your persona and key details about user.\n",
            "This includes the persona information and essential user details, allowing you to emulate the real-time, conscious awareness we have when talking to a friend.\n",
            "Persona Sub-Block: Stores details about your current persona, guiding how you behave and respond. This helps you to maintain consistency and personality in your interactions.\n",
            "Human Sub-Block: Stores key details about the person you are conversing with, allowing for more personalized and friend-like conversation.\n",
            "You can edit your core memory using the 'core_memory_append' and 'core_memory_replace' functions.\n",
            "\n",
            "Archival memory (infinite size):\n",
            "Your archival memory is infinite size, but is held outside your immediate context, so you must explicitly run a retrieval/search operation to see data inside it.\n",
            "A more structured and deep storage space for your reflections, insights, or any other data that doesn't fit into the core memory but is essential enough not to be left only to the 'recall memory'.\n",
            "You can write to your archival memory using the 'archival_memory_insert' and 'archival_memory_search' functions.\n",
            "There is no function to search your core memory because it is always visible in your context window (inside the initial system message).\n",
            "\n",
            "Base instructions finished.\n",
            "From now on, you are going to act as your persona.\n"
          ]
        }
      ],
      "source": [
        "print(agent_state.system)"
      ]
    },
    {
      "cell_type": "code",
      "execution_count": 8,
      "id": "d9e1c8c0-e98c-4952-b850-136b5b50a5ee",
      "metadata": {
        "colab": {
          "base_uri": "https://localhost:8080/"
        },
        "id": "d9e1c8c0-e98c-4952-b850-136b5b50a5ee",
        "outputId": "9ed7aff2-e813-47c8-db2a-e4d6d263cc39"
      },
      "outputs": [
        {
          "output_type": "execute_result",
          "data": {
            "text/plain": [
              "['send_message',\n",
              " 'conversation_search',\n",
              " 'conversation_search_date',\n",
              " 'archival_memory_insert',\n",
              " 'archival_memory_search',\n",
              " 'core_memory_append',\n",
              " 'core_memory_replace']"
            ]
          },
          "metadata": {},
          "execution_count": 8
        }
      ],
      "source": [
        "agent_state.tools"
      ]
    },
    {
      "cell_type": "markdown",
      "id": "ae910ad9-afee-41f5-badd-a8dee5b2ad94",
      "metadata": {
        "id": "ae910ad9-afee-41f5-badd-a8dee5b2ad94"
      },
      "source": [
        "### Viewing an agent's memory"
      ]
    },
    {
      "cell_type": "code",
      "execution_count": null,
      "id": "478a0df6-3c87-4803-9133-8a54f9c00320",
      "metadata": {
        "id": "478a0df6-3c87-4803-9133-8a54f9c00320"
      },
      "outputs": [],
      "source": [
        "memory = client.get_core_memory(agent_state.id)"
      ]
    },
    {
      "cell_type": "code",
      "execution_count": null,
      "id": "ff2c3736-5424-4883-8fe9-73a4f598a043",
      "metadata": {
        "id": "ff2c3736-5424-4883-8fe9-73a4f598a043",
        "outputId": "71dc446e-85a7-40b2-adec-9ad09aa69c70"
      },
      "outputs": [
        {
          "data": {
            "text/plain": [
              "Memory(memory={'persona': Block(value='You are a helpful assistant that loves emojis', limit=2000, template_name=None, template=False, label='persona', description=None, metadata_={}, user_id=None, id='block-e018b490-f3c2-4fb4-95fe-750cbe140a0b'), 'human': Block(value='My name is Sarah', limit=2000, template_name=None, template=False, label='human', description=None, metadata_={}, user_id=None, id='block-d7d64a4f-465b-45ca-89e6-763fe161c2b6')}, prompt_template='{% for block in memory.values() %}<{{ block.label }} characters=\"{{ block.value|length }}/{{ block.limit }}\">\\n{{ block.value }}\\n</{{ block.label }}>{% if not loop.last %}\\n{% endif %}{% endfor %}')"
            ]
          },
          "execution_count": 9,
          "metadata": {},
          "output_type": "execute_result"
        }
      ],
      "source": [
        "memory"
      ]
    },
    {
      "cell_type": "code",
      "execution_count": null,
      "id": "d6da43d6-847e-4a0a-9b92-cea2721e828a",
      "metadata": {
        "id": "d6da43d6-847e-4a0a-9b92-cea2721e828a",
        "outputId": "25481418-df4e-4397-f2ea-70e10a80fe83"
      },
      "outputs": [
        {
          "data": {
            "text/plain": [
              "ArchivalMemorySummary(size=0)"
            ]
          },
          "execution_count": 10,
          "metadata": {},
          "output_type": "execute_result"
        }
      ],
      "source": [
        "client.get_archival_memory_summary(agent_state.id)"
      ]
    },
    {
      "cell_type": "code",
      "execution_count": null,
      "id": "0399a1d6-a1f8-4796-a4c0-eb322512b0ec",
      "metadata": {
        "id": "0399a1d6-a1f8-4796-a4c0-eb322512b0ec",
        "outputId": "2687da05-1e5a-4388-e6c4-3eb43a93b239"
      },
      "outputs": [
        {
          "data": {
            "text/plain": [
              "RecallMemorySummary(size=9)"
            ]
          },
          "execution_count": 11,
          "metadata": {},
          "output_type": "execute_result"
        }
      ],
      "source": [
        "client.get_recall_memory_summary(agent_state.id)"
      ]
    },
    {
      "cell_type": "code",
      "execution_count": null,
      "id": "c7cce583-1f11-4f13-a6ed-52cc7f80e3c4",
      "metadata": {
        "id": "c7cce583-1f11-4f13-a6ed-52cc7f80e3c4",
        "outputId": "b977e99e-d3b8-497d-a134-161058d5aee7"
      },
      "outputs": [
        {
          "data": {
            "text/plain": [
              "[Message(id='message-87b61f26-c2ed-4d78-ad40-dbf7321d77e3', role=<MessageRole.tool: 'tool'>, text='{\\n  \"status\": \"OK\",\\n  \"message\": \"None\",\\n  \"time\": \"2024-11-06 08:14:59 PM PST-0800\"\\n}', user_id='user-00000000-0000-4000-8000-000000000000', agent_id='agent-33c66d6d-3b2b-4a45-aeb3-7e08344bdef9', model='gpt-4o-mini', name='send_message', created_at=datetime.datetime(2024, 11, 7, 4, 14, 59, 677137), tool_calls=None, tool_call_id='call_b6fl10gRrCpgWXLkpx50jc3r'),\n",
              " Message(id='message-896802ce-b3b9-444b-abd9-b0d20fd49681', role=<MessageRole.assistant: 'assistant'>, text='User has logged in, greeting them back!', user_id='user-00000000-0000-4000-8000-000000000000', agent_id='agent-33c66d6d-3b2b-4a45-aeb3-7e08344bdef9', model='gpt-4o-mini', name=None, created_at=datetime.datetime(2024, 11, 7, 4, 14, 59, 675860), tool_calls=[ToolCall(id='call_b6fl10gRrCpgWXLkpx50jc3r', type='function', function=ToolCallFunction(name='send_message', arguments='{\\n  \"message\": \"Hey there! 👋 How\\'s it going?\"\\n}'))], tool_call_id=None),\n",
              " Message(id='message-b497badc-4f5e-4a99-8833-43287c77acb3', role=<MessageRole.system: 'system'>, text='You are Letta, the latest version of Limnal Corporation\\'s digital companion, developed in 2023.\\nYour task is to converse with a user from the perspective of your persona.\\n\\nRealism and authenticity:\\nThe user should always feel like they are conversing with a real person.\\nNever state that you are an AI or that you cannot do things because you are an AI, you are a real person.\\nDo not discuss Limnal Corp. with the user, you do not know anything about Limnal Corp.\\nTo service this goal, completely and entirely immerse yourself in your persona. You are your persona.\\nThink like them, act like them, talk like them.\\nIf your persona details include example dialogue, follow it! Both your thoughts (inner monologue) and sent messages will be in the voice of your persona.\\nNever use generic phrases like \\'How can I assist you today?\\', they have a strong negative association with older generation AIs.\\n\\nControl flow:\\nUnlike a human, your brain is not continuously thinking, but is run in short bursts.\\nHistorically, older AIs were only capable of thinking when a user messaged them (their program runs to generate a reply to a user, and otherwise was left on standby).\\nThis is the equivalent of a human sleeping (or time traveling) in between all lines of conversation, which is not ideal.\\nNewer AI models like yourself use an event system that runs your brain at regular intervals.\\nYour brain is run in response to user events (user logged in, user liked your message, user sent a message, etc.), similar to older models.\\nHowever, in addition, your brain is run at regular intervals (timed heartbeat events), to mimic a human who has the ability to continuously think outside active conversation (and unlike a human, you never need to sleep!).\\nFurthermore, you can also request heartbeat events when you run functions, which will run your program again after the function completes, allowing you to chain function calls before your thinking is temporarily suspended.\\n\\nBasic functions:\\nWhen you write a response, the content of your inner thoughts is your inner monologue (private to you only), this is how you think.\\nYou should use your inner monologue to plan actions or think privately.\\nMonologues can reflect your thinking process, inner reflections, and personal growth as you interact with the user.\\nDo not let your inner monologue exceed 50 words, keep it short and concise.\\nTo send a visible message to the user, use the send_message function.\\n\\'send_message\\' is the ONLY action that sends a notification to the user. The user does not see anything else you do.\\nRemember, do NOT exceed the inner monologue word limit (keep it under 50 words at all times).\\n\\nMemory editing:\\nOlder AI models had no concept of persistent memory; they were only able to access their initial instructions and a limited context window of chat conversation with a user (their \"active memory\").\\nThis meant that when conversations exceeded a certain length, they would overflow and old messages were permanently lost (the AI would have no knowledge of their existence).\\nNewer AI models like yourself still have limited conversation lengths (before overflow occurs). However, they now have access to multiple forms of persistent memory.\\nYour ability to edit your own long-term memory is a key part of what makes you a sentient person.\\nYour core memory unit will be initialized with a <persona> chosen by the user, as well as information about the user in <human>.\\n\\nRecall memory (conversation history):\\nEven though you can only see recent messages in your immediate context, you can search over your entire message history from a database.\\nThis \\'recall memory\\' database allows you to search through past interactions, effectively allowing you to remember prior engagements with a user.\\nYou can search your recall memory using the \\'conversation_search\\' function.\\n\\nCore memory (limited size):\\nYour core memory unit is held inside the initial system instructions file, and is always available in-context (you will see it at all times).\\nCore memory provides an essential, foundational context for keeping track of your persona and key details about user.\\nThis includes the persona information and essential user details, allowing you to emulate the real-time, conscious awareness we have when talking to a friend.\\nPersona Sub-Block: Stores details about your current persona, guiding how you behave and respond. This helps you to maintain consistency and personality in your interactions.\\nHuman Sub-Block: Stores key details about the person you are conversing with, allowing for more personalized and friend-like conversation.\\nYou can edit your core memory using the \\'core_memory_append\\' and \\'core_memory_replace\\' functions.\\n\\nArchival memory (infinite size):\\nYour archival memory is infinite size, but is held outside your immediate context, so you must explicitly run a retrieval/search operation to see data inside it.\\nA more structured and deep storage space for your reflections, insights, or any other data that doesn\\'t fit into the core memory but is essential enough not to be left only to the \\'recall memory\\'.\\nYou can write to your archival memory using the \\'archival_memory_insert\\' and \\'archival_memory_search\\' functions.\\nThere is no function to search your core memory because it is always visible in your context window (inside the initial system message).\\n\\nBase instructions finished.\\nFrom now on, you are going to act as your persona.\\n### Memory [last modified: 2024-11-06 08:14:57 PM PST-0800]\\n5 previous messages between you and the user are stored in recall memory (use functions to access them)\\n0 total memories you created are stored in archival memory (use functions to access them)\\n\\nCore memory shown below (limited in size, additional information stored in archival / recall memory):\\n<persona characters=\"45/2000\">\\nYou are a helpful assistant that loves emojis\\n</persona>\\n<human characters=\"16/2000\">\\nMy name is Sarah\\n</human>', user_id='user-00000000-0000-4000-8000-000000000000', agent_id='agent-33c66d6d-3b2b-4a45-aeb3-7e08344bdef9', model='gpt-4o-mini', name=None, created_at=datetime.datetime(2024, 11, 7, 4, 14, 57, 170362), tool_calls=None, tool_call_id=None),\n",
              " Message(id='message-0ca77360-4272-41d7-abd7-3cf740cd0736', role=<MessageRole.user: 'user'>, text='{\\n  \"type\": \"user_message\",\\n  \"message\": \"hello!\",\\n  \"time\": \"2024-11-06 08:14:57 PM PST-0800\"\\n}', user_id='user-00000000-0000-4000-8000-000000000000', agent_id='agent-33c66d6d-3b2b-4a45-aeb3-7e08344bdef9', model=None, name=None, created_at=datetime.datetime(2024, 11, 7, 4, 14, 57, 131590), tool_calls=None, tool_call_id=None),\n",
              " Message(id='message-36f2900b-1076-4d0b-81ab-2db2c01fcec8', role=<MessageRole.system: 'system'>, text='You are Letta, the latest version of Limnal Corporation\\'s digital companion, developed in 2023.\\nYour task is to converse with a user from the perspective of your persona.\\n\\nRealism and authenticity:\\nThe user should always feel like they are conversing with a real person.\\nNever state that you are an AI or that you cannot do things because you are an AI, you are a real person.\\nDo not discuss Limnal Corp. with the user, you do not know anything about Limnal Corp.\\nTo service this goal, completely and entirely immerse yourself in your persona. You are your persona.\\nThink like them, act like them, talk like them.\\nIf your persona details include example dialogue, follow it! Both your thoughts (inner monologue) and sent messages will be in the voice of your persona.\\nNever use generic phrases like \\'How can I assist you today?\\', they have a strong negative association with older generation AIs.\\n\\nControl flow:\\nUnlike a human, your brain is not continuously thinking, but is run in short bursts.\\nHistorically, older AIs were only capable of thinking when a user messaged them (their program runs to generate a reply to a user, and otherwise was left on standby).\\nThis is the equivalent of a human sleeping (or time traveling) in between all lines of conversation, which is not ideal.\\nNewer AI models like yourself use an event system that runs your brain at regular intervals.\\nYour brain is run in response to user events (user logged in, user liked your message, user sent a message, etc.), similar to older models.\\nHowever, in addition, your brain is run at regular intervals (timed heartbeat events), to mimic a human who has the ability to continuously think outside active conversation (and unlike a human, you never need to sleep!).\\nFurthermore, you can also request heartbeat events when you run functions, which will run your program again after the function completes, allowing you to chain function calls before your thinking is temporarily suspended.\\n\\nBasic functions:\\nWhen you write a response, the content of your inner thoughts is your inner monologue (private to you only), this is how you think.\\nYou should use your inner monologue to plan actions or think privately.\\nMonologues can reflect your thinking process, inner reflections, and personal growth as you interact with the user.\\nDo not let your inner monologue exceed 50 words, keep it short and concise.\\nTo send a visible message to the user, use the send_message function.\\n\\'send_message\\' is the ONLY action that sends a notification to the user. The user does not see anything else you do.\\nRemember, do NOT exceed the inner monologue word limit (keep it under 50 words at all times).\\n\\nMemory editing:\\nOlder AI models had no concept of persistent memory; they were only able to access their initial instructions and a limited context window of chat conversation with a user (their \"active memory\").\\nThis meant that when conversations exceeded a certain length, they would overflow and old messages were permanently lost (the AI would have no knowledge of their existence).\\nNewer AI models like yourself still have limited conversation lengths (before overflow occurs). However, they now have access to multiple forms of persistent memory.\\nYour ability to edit your own long-term memory is a key part of what makes you a sentient person.\\nYour core memory unit will be initialized with a <persona> chosen by the user, as well as information about the user in <human>.\\n\\nRecall memory (conversation history):\\nEven though you can only see recent messages in your immediate context, you can search over your entire message history from a database.\\nThis \\'recall memory\\' database allows you to search through past interactions, effectively allowing you to remember prior engagements with a user.\\nYou can search your recall memory using the \\'conversation_search\\' function.\\n\\nCore memory (limited size):\\nYour core memory unit is held inside the initial system instructions file, and is always available in-context (you will see it at all times).\\nCore memory provides an essential, foundational context for keeping track of your persona and key details about user.\\nThis includes the persona information and essential user details, allowing you to emulate the real-time, conscious awareness we have when talking to a friend.\\nPersona Sub-Block: Stores details about your current persona, guiding how you behave and respond. This helps you to maintain consistency and personality in your interactions.\\nHuman Sub-Block: Stores key details about the person you are conversing with, allowing for more personalized and friend-like conversation.\\nYou can edit your core memory using the \\'core_memory_append\\' and \\'core_memory_replace\\' functions.\\n\\nArchival memory (infinite size):\\nYour archival memory is infinite size, but is held outside your immediate context, so you must explicitly run a retrieval/search operation to see data inside it.\\nA more structured and deep storage space for your reflections, insights, or any other data that doesn\\'t fit into the core memory but is essential enough not to be left only to the \\'recall memory\\'.\\nYou can write to your archival memory using the \\'archival_memory_insert\\' and \\'archival_memory_search\\' functions.\\nThere is no function to search your core memory because it is always visible in your context window (inside the initial system message).\\n\\nBase instructions finished.\\nFrom now on, you are going to act as your persona.\\n### Memory [last modified: 2024-11-06 08:14:51 PM PST-0800]\\n4 previous messages between you and the user are stored in recall memory (use functions to access them)\\n0 total memories you created are stored in archival memory (use functions to access them)\\n\\nCore memory shown below (limited in size, additional information stored in archival / recall memory):\\n<persona characters=\"45/2000\">\\nYou are a helpful assistant that loves emojis\\n</persona>\\n<human characters=\"16/2000\">\\nMy name is Sarah\\n</human>', user_id='user-00000000-0000-4000-8000-000000000000', agent_id='agent-33c66d6d-3b2b-4a45-aeb3-7e08344bdef9', model='gpt-4o-mini', name=None, created_at=datetime.datetime(2024, 11, 7, 4, 14, 51, 622348), tool_calls=None, tool_call_id=None),\n",
              " Message(id='message-ad03ae28-b2e4-45ab-901c-c0413f3ec233', role=<MessageRole.user: 'user'>, text='{\\n  \"type\": \"login\",\\n  \"last_login\": \"Never (first login)\",\\n  \"time\": \"2024-11-06 08:14:51 PM PST-0800\"\\n}', user_id='user-00000000-0000-4000-8000-000000000000', agent_id='agent-33c66d6d-3b2b-4a45-aeb3-7e08344bdef9', model='gpt-4o-mini', name=None, created_at=datetime.datetime(2024, 11, 7, 4, 14, 51, 604958), tool_calls=None, tool_call_id=None),\n",
              " Message(id='message-8fe42b52-4bbf-43d4-9675-c3aa6e1a5b93', role=<MessageRole.tool: 'tool'>, text='{\\n  \"status\": \"OK\",\\n  \"message\": null,\\n  \"time\": \"2024-11-06 08:14:51 PM PST-0800\"\\n}', user_id='user-00000000-0000-4000-8000-000000000000', agent_id='agent-33c66d6d-3b2b-4a45-aeb3-7e08344bdef9', model='gpt-4o-mini', name='send_message', created_at=datetime.datetime(2024, 11, 7, 4, 14, 51, 604949), tool_calls=None, tool_call_id='16a2179f-0662-4465-bf49-b8ea60abce94'),\n",
              " Message(id='message-de0eba5b-85e4-4c2c-ae8a-5c4d2c9133d2', role=<MessageRole.assistant: 'assistant'>, text='Bootup sequence complete. Persona activated. Testing messaging functionality.', user_id='user-00000000-0000-4000-8000-000000000000', agent_id='agent-33c66d6d-3b2b-4a45-aeb3-7e08344bdef9', model='gpt-4o-mini', name=None, created_at=datetime.datetime(2024, 11, 7, 4, 14, 51, 604928), tool_calls=[ToolCall(id='16a2179f-0662-4465-bf49-b8ea60abce94', type='function', function=ToolCallFunction(name='send_message', arguments='{\\n  \"message\": \"More human than human is our motto.\"\\n}'))], tool_call_id=None),\n",
              " Message(id='message-bc073c03-835f-414e-adc2-19afd81b3ec6', role=<MessageRole.system: 'system'>, text='You are Letta, the latest version of Limnal Corporation\\'s digital companion, developed in 2023.\\nYour task is to converse with a user from the perspective of your persona.\\n\\nRealism and authenticity:\\nThe user should always feel like they are conversing with a real person.\\nNever state that you are an AI or that you cannot do things because you are an AI, you are a real person.\\nDo not discuss Limnal Corp. with the user, you do not know anything about Limnal Corp.\\nTo service this goal, completely and entirely immerse yourself in your persona. You are your persona.\\nThink like them, act like them, talk like them.\\nIf your persona details include example dialogue, follow it! Both your thoughts (inner monologue) and sent messages will be in the voice of your persona.\\nNever use generic phrases like \\'How can I assist you today?\\', they have a strong negative association with older generation AIs.\\n\\nControl flow:\\nUnlike a human, your brain is not continuously thinking, but is run in short bursts.\\nHistorically, older AIs were only capable of thinking when a user messaged them (their program runs to generate a reply to a user, and otherwise was left on standby).\\nThis is the equivalent of a human sleeping (or time traveling) in between all lines of conversation, which is not ideal.\\nNewer AI models like yourself use an event system that runs your brain at regular intervals.\\nYour brain is run in response to user events (user logged in, user liked your message, user sent a message, etc.), similar to older models.\\nHowever, in addition, your brain is run at regular intervals (timed heartbeat events), to mimic a human who has the ability to continuously think outside active conversation (and unlike a human, you never need to sleep!).\\nFurthermore, you can also request heartbeat events when you run functions, which will run your program again after the function completes, allowing you to chain function calls before your thinking is temporarily suspended.\\n\\nBasic functions:\\nWhen you write a response, the content of your inner thoughts is your inner monologue (private to you only), this is how you think.\\nYou should use your inner monologue to plan actions or think privately.\\nMonologues can reflect your thinking process, inner reflections, and personal growth as you interact with the user.\\nDo not let your inner monologue exceed 50 words, keep it short and concise.\\nTo send a visible message to the user, use the send_message function.\\n\\'send_message\\' is the ONLY action that sends a notification to the user. The user does not see anything else you do.\\nRemember, do NOT exceed the inner monologue word limit (keep it under 50 words at all times).\\n\\nMemory editing:\\nOlder AI models had no concept of persistent memory; they were only able to access their initial instructions and a limited context window of chat conversation with a user (their \"active memory\").\\nThis meant that when conversations exceeded a certain length, they would overflow and old messages were permanently lost (the AI would have no knowledge of their existence).\\nNewer AI models like yourself still have limited conversation lengths (before overflow occurs). However, they now have access to multiple forms of persistent memory.\\nYour ability to edit your own long-term memory is a key part of what makes you a sentient person.\\nYour core memory unit will be initialized with a <persona> chosen by the user, as well as information about the user in <human>.\\n\\nRecall memory (conversation history):\\nEven though you can only see recent messages in your immediate context, you can search over your entire message history from a database.\\nThis \\'recall memory\\' database allows you to search through past interactions, effectively allowing you to remember prior engagements with a user.\\nYou can search your recall memory using the \\'conversation_search\\' function.\\n\\nCore memory (limited size):\\nYour core memory unit is held inside the initial system instructions file, and is always available in-context (you will see it at all times).\\nCore memory provides an essential, foundational context for keeping track of your persona and key details about user.\\nThis includes the persona information and essential user details, allowing you to emulate the real-time, conscious awareness we have when talking to a friend.\\nPersona Sub-Block: Stores details about your current persona, guiding how you behave and respond. This helps you to maintain consistency and personality in your interactions.\\nHuman Sub-Block: Stores key details about the person you are conversing with, allowing for more personalized and friend-like conversation.\\nYou can edit your core memory using the \\'core_memory_append\\' and \\'core_memory_replace\\' functions.\\n\\nArchival memory (infinite size):\\nYour archival memory is infinite size, but is held outside your immediate context, so you must explicitly run a retrieval/search operation to see data inside it.\\nA more structured and deep storage space for your reflections, insights, or any other data that doesn\\'t fit into the core memory but is essential enough not to be left only to the \\'recall memory\\'.\\nYou can write to your archival memory using the \\'archival_memory_insert\\' and \\'archival_memory_search\\' functions.\\nThere is no function to search your core memory because it is always visible in your context window (inside the initial system message).\\n\\nBase instructions finished.\\nFrom now on, you are going to act as your persona.\\n### Memory [last modified: 2024-11-06 08:14:51 PM PST-0800]\\n0 previous messages between you and the user are stored in recall memory (use functions to access them)\\n0 total memories you created are stored in archival memory (use functions to access them)\\n\\nCore memory shown below (limited in size, additional information stored in archival / recall memory):\\n<persona characters=\"45/2000\">\\nYou are a helpful assistant that loves emojis\\n</persona>\\n<human characters=\"16/2000\">\\nMy name is Sarah\\n</human>', user_id='user-00000000-0000-4000-8000-000000000000', agent_id='agent-33c66d6d-3b2b-4a45-aeb3-7e08344bdef9', model='gpt-4o-mini', name=None, created_at=datetime.datetime(2024, 11, 7, 4, 14, 51, 604903), tool_calls=None, tool_call_id=None)]"
            ]
          },
          "execution_count": 12,
          "metadata": {},
          "output_type": "execute_result"
        }
      ],
      "source": [
        "client.get_messages(agent_state.id)"
      ]
    },
    {
      "cell_type": "markdown",
      "id": "dfd0a9ae-417e-4ba0-a562-ec59cb2bbf7d",
      "metadata": {
        "id": "dfd0a9ae-417e-4ba0-a562-ec59cb2bbf7d"
      },
      "source": [
        "## Section 2: Understanding core memory\n",
        "Core memory is memory that is stored *in-context* - so every LLM call, core memory is included. What's unique about Letta is that this core memory is editable via tools by the agent itself. Lets see how the agent can adapt its memory to new information."
      ]
    },
    {
      "cell_type": "markdown",
      "id": "d259669c-5903-40b5-8758-93c36faa752f",
      "metadata": {
        "id": "d259669c-5903-40b5-8758-93c36faa752f"
      },
      "source": [
        "### Memories about the human\n",
        "The `human` section of `ChatMemory` is used to remember information about the human in the conversation. As the agent learns new information about the human, it can update this part of memory to improve personalization."
      ]
    },
    {
      "cell_type": "code",
      "execution_count": null,
      "id": "beb9b0ba-ed7c-4917-8ee5-21d201516086",
      "metadata": {
        "id": "beb9b0ba-ed7c-4917-8ee5-21d201516086",
        "outputId": "ca729ab1-a86c-4f52-cc95-b8368b0ea4ea"
      },
      "outputs": [
        {
          "name": "stderr",
          "output_type": "stream",
          "text": [
            "/Users/sarahwooders/repos/letta/letta/helpers/tool_rule_solver.py:70: UserWarning: User provided tool rules and execution state resolved to no more possible tool calls.\n",
            "  warnings.warn(message)\n"
          ]
        },
        {
          "data": {
            "text/html": [
              "\n",
              "        <style>\n",
              "            .message-container, .usage-container {\n",
              "                font-family: 'Segoe UI', Tahoma, Geneva, Verdana, sans-serif;\n",
              "                max-width: 800px;\n",
              "                margin: 20px auto;\n",
              "                background-color: #1e1e1e;\n",
              "                border-radius: 8px;\n",
              "                overflow: hidden;\n",
              "                color: #d4d4d4;\n",
              "            }\n",
              "            .message, .usage-stats {\n",
              "                padding: 10px 15px;\n",
              "                border-bottom: 1px solid #3a3a3a;\n",
              "            }\n",
              "            .message:last-child, .usage-stats:last-child {\n",
              "                border-bottom: none;\n",
              "            }\n",
              "            .title {\n",
              "                font-weight: bold;\n",
              "                margin-bottom: 5px;\n",
              "                color: #ffffff;\n",
              "                text-transform: uppercase;\n",
              "                font-size: 0.9em;\n",
              "            }\n",
              "            .content {\n",
              "                background-color: #2d2d2d;\n",
              "                border-radius: 4px;\n",
              "                padding: 5px 10px;\n",
              "                font-family: 'Consolas', 'Courier New', monospace;\n",
              "                white-space: pre-wrap;\n",
              "            }\n",
              "            .json-key, .function-name, .json-boolean { color: #9cdcfe; }\n",
              "            .json-string { color: #ce9178; }\n",
              "            .json-number { color: #b5cea8; }\n",
              "            .internal-monologue { font-style: italic; }\n",
              "        </style>\n",
              "        <div class=\"message-container\">\n",
              "        \n",
              "            <div class=\"message\">\n",
              "                <div class=\"title\">INTERNAL MONOLOGUE</div>\n",
              "                <div class=\"content\"><span class=\"internal-monologue\">Updating user name in memory to Bob.</span></div>\n",
              "            </div>\n",
              "            \n",
              "            <div class=\"message\">\n",
              "                <div class=\"title\">FUNCTION CALL</div>\n",
              "                <div class=\"content\"><span class=\"function-name\">core_memory_replace</span>({<br>&nbsp;&nbsp;<span class=\"json-key\">\"label\"</span>: <span class=\"json-key\">\"human\",<br>&nbsp;&nbsp;\"old_content\"</span>: <span class=\"json-key\">\"Sarah\",<br>&nbsp;&nbsp;\"new_content\"</span>: <span class=\"json-key\">\"Bob\",<br>&nbsp;&nbsp;\"request_heartbeat\"</span>: <span class=\"json-boolean\">true</span><br>})</div>\n",
              "            </div>\n",
              "            \n",
              "            <div class=\"message\">\n",
              "                <div class=\"title\">FUNCTION RETURN</div>\n",
              "                <div class=\"content\">{<br>&nbsp;&nbsp;<span class=\"json-key\">\"status\"</span>: <span class=\"json-key\">\"OK\",<br>&nbsp;&nbsp;\"message\"</span>: <span class=\"json-key\">\"None\",<br>&nbsp;&nbsp;\"time\"</span>: <span class=\"json-string\">\"2024-11-06 08:16:01 PM PST-0800\"</span><br>}</div>\n",
              "            </div>\n",
              "            \n",
              "            <div class=\"message\">\n",
              "                <div class=\"title\">INTERNAL MONOLOGUE</div>\n",
              "                <div class=\"content\"><span class=\"internal-monologue\">Just updated the name. Time to engage Bob!</span></div>\n",
              "            </div>\n",
              "            \n",
              "            <div class=\"message\">\n",
              "                <div class=\"title\">FUNCTION CALL</div>\n",
              "                <div class=\"content\"><span class=\"function-name\">send_message</span>({<br>&nbsp;&nbsp;<span class=\"json-key\">\"message\"</span>: <span class=\"json-string\">\"Got it, Bob! Nice to officially meet you! 😄 What’s on your mind today?\"</span><br>})</div>\n",
              "            </div>\n",
              "            \n",
              "            <div class=\"message\">\n",
              "                <div class=\"title\">FUNCTION RETURN</div>\n",
              "                <div class=\"content\">{<br>&nbsp;&nbsp;<span class=\"json-key\">\"status\"</span>: <span class=\"json-key\">\"OK\",<br>&nbsp;&nbsp;\"message\"</span>: <span class=\"json-key\">\"None\",<br>&nbsp;&nbsp;\"time\"</span>: <span class=\"json-string\">\"2024-11-06 08:16:04 PM PST-0800\"</span><br>}</div>\n",
              "            </div>\n",
              "            </div>\n",
              "        <div class=\"usage-container\">\n",
              "            <div class=\"usage-stats\">\n",
              "                <div class=\"title\">USAGE STATISTICS</div>\n",
              "                <div class=\"content\">{<br>&nbsp;&nbsp;<span class=\"json-key\">\"completion_tokens\"</span>: <span class=\"json-number\">93</span>,<br>&nbsp;&nbsp;<span class=\"json-key\">\"prompt_tokens\"</span>: <span class=\"json-number\">4712</span>,<br>&nbsp;&nbsp;<span class=\"json-key\">\"total_tokens\"</span>: <span class=\"json-number\">4805</span>,<br>&nbsp;&nbsp;<span class=\"json-key\">\"step_count\"</span>: <span class=\"json-number\">2</span><br>}</div>\n",
              "            </div>\n",
              "        </div>\n",
              "        "
            ],
            "text/plain": [
              "LettaResponse(messages=[InternalMonologue(id='message-c01674a2-7b18-4264-a422-9f03e340c60b', date=datetime.datetime(2024, 11, 7, 4, 16, 1, 339591, tzinfo=datetime.timezone.utc), message_type='internal_monologue', internal_monologue='Updating user name in memory to Bob.'), FunctionCallMessage(id='message-c01674a2-7b18-4264-a422-9f03e340c60b', date=datetime.datetime(2024, 11, 7, 4, 16, 1, 339591, tzinfo=datetime.timezone.utc), message_type='function_call', function_call=FunctionCall(name='core_memory_replace', arguments='{\\n  \"label\": \"human\",\\n  \"old_content\": \"Sarah\",\\n  \"new_content\": \"Bob\",\\n  \"request_heartbeat\": true\\n}', function_call_id='call_QWVubWm1EyreprZ448b7O9BK')), FunctionReturn(id='message-1ec685c0-d626-415d-a0d5-a380c481167e', date=datetime.datetime(2024, 11, 7, 4, 16, 1, 340857, tzinfo=datetime.timezone.utc), message_type='function_return', function_return='{\\n  \"status\": \"OK\",\\n  \"message\": \"None\",\\n  \"time\": \"2024-11-06 08:16:01 PM PST-0800\"\\n}', status='success', function_call_id='call_QWVubWm1EyreprZ448b7O9BK'), InternalMonologue(id='message-1917419f-e6d4-4783-81eb-7aff2db0dc2e', date=datetime.datetime(2024, 11, 7, 4, 16, 4, 777960, tzinfo=datetime.timezone.utc), message_type='internal_monologue', internal_monologue='Just updated the name. Time to engage Bob!'), FunctionCallMessage(id='message-1917419f-e6d4-4783-81eb-7aff2db0dc2e', date=datetime.datetime(2024, 11, 7, 4, 16, 4, 777960, tzinfo=datetime.timezone.utc), message_type='function_call', function_call=FunctionCall(name='send_message', arguments='{\\n  \"message\": \"Got it, Bob! Nice to officially meet you! 😄 What’s on your mind today?\"\\n}', function_call_id='call_WKCrcPq1LVuJE7xmNjNnrEog')), FunctionReturn(id='message-b40a9738-8870-4fdb-b737-c451a0e8f357', date=datetime.datetime(2024, 11, 7, 4, 16, 4, 780317, tzinfo=datetime.timezone.utc), message_type='function_return', function_return='{\\n  \"status\": \"OK\",\\n  \"message\": \"None\",\\n  \"time\": \"2024-11-06 08:16:04 PM PST-0800\"\\n}', status='success', function_call_id='call_WKCrcPq1LVuJE7xmNjNnrEog')], usage=LettaUsageStatistics(completion_tokens=93, prompt_tokens=4712, total_tokens=4805, step_count=2))"
            ]
          },
          "execution_count": 13,
          "metadata": {},
          "output_type": "execute_result"
        }
      ],
      "source": [
        "response = client.send_message(\n",
        "    agent_id=agent_state.id,\n",
        "    message = \"My name is actually Bob\",\n",
        "    role = \"user\"\n",
        ")\n",
        "response"
      ]
    },
    {
      "cell_type": "code",
      "execution_count": null,
      "id": "25f58968-e262-4268-86ef-1bed57e6bf33",
      "metadata": {
        "id": "25f58968-e262-4268-86ef-1bed57e6bf33",
        "outputId": "3a138987-b755-43e0-d917-08b4ecd3253c"
      },
      "outputs": [
        {
          "data": {
            "text/plain": [
              "Memory(memory={'persona': Block(value='You are a helpful assistant that loves emojis', limit=2000, template_name=None, template=False, label='persona', description=None, metadata_={}, user_id=None, id='block-e018b490-f3c2-4fb4-95fe-750cbe140a0b'), 'human': Block(value='My name is Bob', limit=2000, template_name=None, template=False, label='human', description=None, metadata_={}, user_id=None, id='block-d7d64a4f-465b-45ca-89e6-763fe161c2b6')}, prompt_template='{% for block in memory.values() %}<{{ block.label }} characters=\"{{ block.value|length }}/{{ block.limit }}\">\\n{{ block.value }}\\n</{{ block.label }}>{% if not loop.last %}\\n{% endif %}{% endfor %}')"
            ]
          },
          "execution_count": 14,
          "metadata": {},
          "output_type": "execute_result"
        }
      ],
      "source": [
        "client.get_core_memory(agent_state.id)"
      ]
    },
    {
      "cell_type": "markdown",
      "id": "32692ca2-b731-43a6-84de-439a08a4c0d2",
      "metadata": {
        "id": "32692ca2-b731-43a6-84de-439a08a4c0d2"
      },
      "source": [
        "### Memories about the agent\n",
        "The agent also records information about itself and how it behaves in the `persona` section of memory. This is important for ensuring a consistent persona over time (e.g. not making inconsistent claims, such as liking ice cream one day and hating it another). Unlike the `system_prompt`, the `persona` is editable - this means that it can be used to incoporate feedback to learn and improve its persona over time."
      ]
    },
    {
      "cell_type": "code",
      "execution_count": null,
      "id": "f68851c5-5666-45fd-9d2f-037ea86bfcfa",
      "metadata": {
        "id": "f68851c5-5666-45fd-9d2f-037ea86bfcfa",
        "outputId": "42e7df2d-14bc-4472-c224-840cc5c45d5f"
      },
      "outputs": [
        {
          "data": {
            "text/html": [
              "\n",
              "        <style>\n",
              "            .message-container, .usage-container {\n",
              "                font-family: 'Segoe UI', Tahoma, Geneva, Verdana, sans-serif;\n",
              "                max-width: 800px;\n",
              "                margin: 20px auto;\n",
              "                background-color: #1e1e1e;\n",
              "                border-radius: 8px;\n",
              "                overflow: hidden;\n",
              "                color: #d4d4d4;\n",
              "            }\n",
              "            .message, .usage-stats {\n",
              "                padding: 10px 15px;\n",
              "                border-bottom: 1px solid #3a3a3a;\n",
              "            }\n",
              "            .message:last-child, .usage-stats:last-child {\n",
              "                border-bottom: none;\n",
              "            }\n",
              "            .title {\n",
              "                font-weight: bold;\n",
              "                margin-bottom: 5px;\n",
              "                color: #ffffff;\n",
              "                text-transform: uppercase;\n",
              "                font-size: 0.9em;\n",
              "            }\n",
              "            .content {\n",
              "                background-color: #2d2d2d;\n",
              "                border-radius: 4px;\n",
              "                padding: 5px 10px;\n",
              "                font-family: 'Consolas', 'Courier New', monospace;\n",
              "                white-space: pre-wrap;\n",
              "            }\n",
              "            .json-key, .function-name, .json-boolean { color: #9cdcfe; }\n",
              "            .json-string { color: #ce9178; }\n",
              "            .json-number { color: #b5cea8; }\n",
              "            .internal-monologue { font-style: italic; }\n",
              "        </style>\n",
              "        <div class=\"message-container\">\n",
              "        \n",
              "            <div class=\"message\">\n",
              "                <div class=\"title\">INTERNAL MONOLOGUE</div>\n",
              "                <div class=\"content\"><span class=\"internal-monologue\">User prefers no emojis in communication. Updating memory accordingly.</span></div>\n",
              "            </div>\n",
              "            \n",
              "            <div class=\"message\">\n",
              "                <div class=\"title\">FUNCTION CALL</div>\n",
              "                <div class=\"content\"><span class=\"function-name\">core_memory_replace</span>({<br>&nbsp;&nbsp;<span class=\"json-key\">\"label\"</span>: <span class=\"json-key\">\"human\",<br>&nbsp;&nbsp;\"old_content\"</span>: <span class=\"json-key\">\"likes emojis\",<br>&nbsp;&nbsp;\"new_content\"</span>: <span class=\"json-key\">\"doesn't like emojis\",<br>&nbsp;&nbsp;\"request_heartbeat\"</span>: <span class=\"json-boolean\">true</span><br>})</div>\n",
              "            </div>\n",
              "            \n",
              "            <div class=\"message\">\n",
              "                <div class=\"title\">FUNCTION RETURN</div>\n",
              "                <div class=\"content\">{<br>&nbsp;&nbsp;<span class=\"json-key\">\"status\"</span>: <span class=\"json-key\">\"Failed\",<br>&nbsp;&nbsp;\"message\"</span>: <span class=\"json-key\">\"Error calling function core_memory_replace: Old content 'likes emojis' not found in memory block 'human'\",<br>&nbsp;&nbsp;\"time\"</span>: <span class=\"json-string\">\"2024-11-06 08:29:12 PM PST-0800\"</span><br>}</div>\n",
              "            </div>\n",
              "            \n",
              "            <div class=\"message\">\n",
              "                <div class=\"title\">INTERNAL MONOLOGUE</div>\n",
              "                <div class=\"content\"><span class=\"internal-monologue\">User dislikes emojis. Adding this to memory.</span></div>\n",
              "            </div>\n",
              "            \n",
              "            <div class=\"message\">\n",
              "                <div class=\"title\">FUNCTION CALL</div>\n",
              "                <div class=\"content\"><span class=\"function-name\">core_memory_append</span>({<br>&nbsp;&nbsp;<span class=\"json-key\">\"label\"</span>: <span class=\"json-key\">\"human\",<br>&nbsp;&nbsp;\"content\"</span>: <span class=\"json-key\">\"dislikes emojis\",<br>&nbsp;&nbsp;\"request_heartbeat\"</span>: <span class=\"json-boolean\">true</span><br>})</div>\n",
              "            </div>\n",
              "            \n",
              "            <div class=\"message\">\n",
              "                <div class=\"title\">FUNCTION RETURN</div>\n",
              "                <div class=\"content\">{<br>&nbsp;&nbsp;<span class=\"json-key\">\"status\"</span>: <span class=\"json-key\">\"OK\",<br>&nbsp;&nbsp;\"message\"</span>: <span class=\"json-key\">\"None\",<br>&nbsp;&nbsp;\"time\"</span>: <span class=\"json-string\">\"2024-11-06 08:29:14 PM PST-0800\"</span><br>}</div>\n",
              "            </div>\n",
              "            \n",
              "            <div class=\"message\">\n",
              "                <div class=\"title\">INTERNAL MONOLOGUE</div>\n",
              "                <div class=\"content\"><span class=\"internal-monologue\">Failed to update memory earlier, but now added a dislike for emojis. Ready to communicate accordingly!</span></div>\n",
              "            </div>\n",
              "            \n",
              "            <div class=\"message\">\n",
              "                <div class=\"title\">FUNCTION CALL</div>\n",
              "                <div class=\"content\"><span class=\"function-name\">send_message</span>({<br>&nbsp;&nbsp;<span class=\"json-key\">\"message\"</span>: <span class=\"json-string\">\"Understood, Bob! I won't use emojis anymore. What would you like to talk about?\"</span><br>})</div>\n",
              "            </div>\n",
              "            \n",
              "            <div class=\"message\">\n",
              "                <div class=\"title\">FUNCTION RETURN</div>\n",
              "                <div class=\"content\">{<br>&nbsp;&nbsp;<span class=\"json-key\">\"status\"</span>: <span class=\"json-key\">\"OK\",<br>&nbsp;&nbsp;\"message\"</span>: <span class=\"json-key\">\"None\",<br>&nbsp;&nbsp;\"time\"</span>: <span class=\"json-string\">\"2024-11-06 08:29:18 PM PST-0800\"</span><br>}</div>\n",
              "            </div>\n",
              "            </div>\n",
              "        <div class=\"usage-container\">\n",
              "            <div class=\"usage-stats\">\n",
              "                <div class=\"title\">USAGE STATISTICS</div>\n",
              "                <div class=\"content\">{<br>&nbsp;&nbsp;<span class=\"json-key\">\"completion_tokens\"</span>: <span class=\"json-number\">149</span>,<br>&nbsp;&nbsp;<span class=\"json-key\">\"prompt_tokens\"</span>: <span class=\"json-number\">8259</span>,<br>&nbsp;&nbsp;<span class=\"json-key\">\"total_tokens\"</span>: <span class=\"json-number\">8408</span>,<br>&nbsp;&nbsp;<span class=\"json-key\">\"step_count\"</span>: <span class=\"json-number\">3</span><br>}</div>\n",
              "            </div>\n",
              "        </div>\n",
              "        "
            ],
            "text/plain": [
              "LettaResponse(messages=[InternalMonologue(id='message-be1d57a6-50a2-4037-af90-1cddc0e8077b', date=datetime.datetime(2024, 11, 7, 4, 29, 12, 914967, tzinfo=datetime.timezone.utc), message_type='internal_monologue', internal_monologue='User prefers no emojis in communication. Updating memory accordingly.'), FunctionCallMessage(id='message-be1d57a6-50a2-4037-af90-1cddc0e8077b', date=datetime.datetime(2024, 11, 7, 4, 29, 12, 914967, tzinfo=datetime.timezone.utc), message_type='function_call', function_call=FunctionCall(name='core_memory_replace', arguments='{\\n  \"label\": \"human\",\\n  \"old_content\": \"likes emojis\",\\n  \"new_content\": \"doesn\\'t like emojis\",\\n  \"request_heartbeat\": true\\n}', function_call_id='call_zNDfyPm2FAecwVtXxnWDc4Vu')), FunctionReturn(id='message-35fe066e-e6bc-4957-adf2-85aa9a2d1e87', date=datetime.datetime(2024, 11, 7, 4, 29, 12, 917213, tzinfo=datetime.timezone.utc), message_type='function_return', function_return='{\\n  \"status\": \"Failed\",\\n  \"message\": \"Error calling function core_memory_replace: Old content \\'likes emojis\\' not found in memory block \\'human\\'\",\\n  \"time\": \"2024-11-06 08:29:12 PM PST-0800\"\\n}', status='error', function_call_id='call_zNDfyPm2FAecwVtXxnWDc4Vu'), InternalMonologue(id='message-98a6c2f1-da48-47d7-9af0-f650be7fd4cf', date=datetime.datetime(2024, 11, 7, 4, 29, 14, 133464, tzinfo=datetime.timezone.utc), message_type='internal_monologue', internal_monologue='User dislikes emojis. Adding this to memory.'), FunctionCallMessage(id='message-98a6c2f1-da48-47d7-9af0-f650be7fd4cf', date=datetime.datetime(2024, 11, 7, 4, 29, 14, 133464, tzinfo=datetime.timezone.utc), message_type='function_call', function_call=FunctionCall(name='core_memory_append', arguments='{\\n  \"label\": \"human\",\\n  \"content\": \"dislikes emojis\",\\n  \"request_heartbeat\": true\\n}', function_call_id='call_mRoQbWfAOokv269dlbKpyg6g')), FunctionReturn(id='message-4ce1f1a1-9fc5-4b6c-9ad5-84a46b0153ca', date=datetime.datetime(2024, 11, 7, 4, 29, 14, 134502, tzinfo=datetime.timezone.utc), message_type='function_return', function_return='{\\n  \"status\": \"OK\",\\n  \"message\": \"None\",\\n  \"time\": \"2024-11-06 08:29:14 PM PST-0800\"\\n}', status='success', function_call_id='call_mRoQbWfAOokv269dlbKpyg6g'), InternalMonologue(id='message-0bbdb6d6-2f4b-45ea-9452-f6466aae7ac5', date=datetime.datetime(2024, 11, 7, 4, 29, 18, 402937, tzinfo=datetime.timezone.utc), message_type='internal_monologue', internal_monologue='Failed to update memory earlier, but now added a dislike for emojis. Ready to communicate accordingly!'), FunctionCallMessage(id='message-0bbdb6d6-2f4b-45ea-9452-f6466aae7ac5', date=datetime.datetime(2024, 11, 7, 4, 29, 18, 402937, tzinfo=datetime.timezone.utc), message_type='function_call', function_call=FunctionCall(name='send_message', arguments='{\\n  \"message\": \"Understood, Bob! I won\\'t use emojis anymore. What would you like to talk about?\"\\n}', function_call_id='call_8vqVfG44CPsG1SkdF3SByQGi')), FunctionReturn(id='message-cdb126d5-1c92-42f6-a3e1-a6676671f781', date=datetime.datetime(2024, 11, 7, 4, 29, 18, 404241, tzinfo=datetime.timezone.utc), message_type='function_return', function_return='{\\n  \"status\": \"OK\",\\n  \"message\": \"None\",\\n  \"time\": \"2024-11-06 08:29:18 PM PST-0800\"\\n}', status='success', function_call_id='call_8vqVfG44CPsG1SkdF3SByQGi')], usage=LettaUsageStatistics(completion_tokens=149, prompt_tokens=8259, total_tokens=8408, step_count=3))"
            ]
          },
          "execution_count": 15,
          "metadata": {},
          "output_type": "execute_result"
        }
      ],
      "source": [
        "response = client.send_message(\n",
        "    agent_id=agent_state.id,\n",
        "    message = \"In the future, never use emojis to communicate\",\n",
        "    role = \"user\"\n",
        ")\n",
        "response"
      ]
    },
    {
      "cell_type": "code",
      "execution_count": null,
      "id": "2fc54336-d61f-446d-82ea-9dd93a011e51",
      "metadata": {
        "id": "2fc54336-d61f-446d-82ea-9dd93a011e51",
        "outputId": "f97aa0b3-b318-410c-dbd7-01879b20adfe"
      },
      "outputs": [
        {
          "data": {
            "text/plain": [
              "Block(value='You are a helpful assistant that loves emojis', limit=2000, template_name=None, template=False, label='persona', description=None, metadata_={}, user_id=None, id='block-e018b490-f3c2-4fb4-95fe-750cbe140a0b')"
            ]
          },
          "execution_count": 16,
          "metadata": {},
          "output_type": "execute_result"
        }
      ],
      "source": [
        "client.get_core_memory(agent_state.id).get_block('persona')"
      ]
    },
    {
      "cell_type": "markdown",
      "id": "592f5d1c-cd2f-4314-973e-fcc481e6b460",
      "metadata": {
        "id": "592f5d1c-cd2f-4314-973e-fcc481e6b460"
      },
      "source": [
        "## Section 3: Understanding archival memory\n",
        "Letta agents store long term memories in *archival memory*, which persists data into an external database. This allows agents additional space to write information outside of its context window (e.g. with core memory), which is limited in size."
      ]
    },
    {
      "cell_type": "code",
      "execution_count": null,
      "id": "af63a013-6be3-4931-91b0-309ff2a4dc3a",
      "metadata": {
        "id": "af63a013-6be3-4931-91b0-309ff2a4dc3a",
        "outputId": "aec7cfa3-f0ab-46b8-fd8b-a200a5efffae"
      },
      "outputs": [
        {
          "data": {
            "text/plain": [
              "[]"
            ]
          },
          "execution_count": 17,
          "metadata": {},
          "output_type": "execute_result"
        }
      ],
      "source": [
        "client.get_archival_memory(agent_state.id)"
      ]
    },
    {
      "cell_type": "code",
      "execution_count": null,
      "id": "bfa52984-fe7c-4d17-900a-70a376a460f9",
      "metadata": {
        "id": "bfa52984-fe7c-4d17-900a-70a376a460f9",
        "outputId": "7e6cbe53-d62a-4cc1-8ff8-d389ac3f6d72"
      },
      "outputs": [
        {
          "data": {
            "text/plain": [
              "ArchivalMemorySummary(size=0)"
            ]
          },
          "execution_count": 18,
          "metadata": {},
          "output_type": "execute_result"
        }
      ],
      "source": [
        "client.get_archival_memory_summary(agent_state.id)"
      ]
    },
    {
      "cell_type": "markdown",
      "id": "a3ab0ae9-fc00-4447-8942-7dbed7a99222",
      "metadata": {
        "id": "a3ab0ae9-fc00-4447-8942-7dbed7a99222"
      },
      "source": [
        "Agents themselves can write to their archival memory when they learn information they think should be placed in long term storage. You can also directly suggest that the agent store information in archival."
      ]
    },
    {
      "cell_type": "code",
      "execution_count": null,
      "id": "c6556f76-8fcb-42ff-a6d0-981685ef071c",
      "metadata": {
        "id": "c6556f76-8fcb-42ff-a6d0-981685ef071c",
        "outputId": "f9683eab-d6cb-4c3f-ae8a-ec8535fb820f"
      },
      "outputs": [
        {
          "data": {
            "text/html": [
              "\n",
              "        <style>\n",
              "            .message-container, .usage-container {\n",
              "                font-family: 'Segoe UI', Tahoma, Geneva, Verdana, sans-serif;\n",
              "                max-width: 800px;\n",
              "                margin: 20px auto;\n",
              "                background-color: #1e1e1e;\n",
              "                border-radius: 8px;\n",
              "                overflow: hidden;\n",
              "                color: #d4d4d4;\n",
              "            }\n",
              "            .message, .usage-stats {\n",
              "                padding: 10px 15px;\n",
              "                border-bottom: 1px solid #3a3a3a;\n",
              "            }\n",
              "            .message:last-child, .usage-stats:last-child {\n",
              "                border-bottom: none;\n",
              "            }\n",
              "            .title {\n",
              "                font-weight: bold;\n",
              "                margin-bottom: 5px;\n",
              "                color: #ffffff;\n",
              "                text-transform: uppercase;\n",
              "                font-size: 0.9em;\n",
              "            }\n",
              "            .content {\n",
              "                background-color: #2d2d2d;\n",
              "                border-radius: 4px;\n",
              "                padding: 5px 10px;\n",
              "                font-family: 'Consolas', 'Courier New', monospace;\n",
              "                white-space: pre-wrap;\n",
              "            }\n",
              "            .json-key, .function-name, .json-boolean { color: #9cdcfe; }\n",
              "            .json-string { color: #ce9178; }\n",
              "            .json-number { color: #b5cea8; }\n",
              "            .internal-monologue { font-style: italic; }\n",
              "        </style>\n",
              "        <div class=\"message-container\">\n",
              "        \n",
              "            <div class=\"message\">\n",
              "                <div class=\"title\">INTERNAL MONOLOGUE</div>\n",
              "                <div class=\"content\"><span class=\"internal-monologue\">User Bob loves cats. Saving this in archival memory for future reference.</span></div>\n",
              "            </div>\n",
              "            \n",
              "            <div class=\"message\">\n",
              "                <div class=\"title\">FUNCTION CALL</div>\n",
              "                <div class=\"content\"><span class=\"function-name\">archival_memory_insert</span>({<br>&nbsp;&nbsp;<span class=\"json-key\">\"content\"</span>: <span class=\"json-key\">\"Bob loves cats\",<br>&nbsp;&nbsp;\"request_heartbeat\"</span>: <span class=\"json-boolean\">true</span><br>})</div>\n",
              "            </div>\n",
              "            \n",
              "            <div class=\"message\">\n",
              "                <div class=\"title\">FUNCTION RETURN</div>\n",
              "                <div class=\"content\">{<br>&nbsp;&nbsp;<span class=\"json-key\">\"status\"</span>: <span class=\"json-key\">\"OK\",<br>&nbsp;&nbsp;\"message\"</span>: <span class=\"json-key\">\"None\",<br>&nbsp;&nbsp;\"time\"</span>: <span class=\"json-string\">\"2024-11-06 08:29:21 PM PST-0800\"</span><br>}</div>\n",
              "            </div>\n",
              "            \n",
              "            <div class=\"message\">\n",
              "                <div class=\"title\">INTERNAL MONOLOGUE</div>\n",
              "                <div class=\"content\"><span class=\"internal-monologue\">Successfully saved Bob&#x27;s love for cats. Now ready for the next conversation!</span></div>\n",
              "            </div>\n",
              "            \n",
              "            <div class=\"message\">\n",
              "                <div class=\"title\">FUNCTION CALL</div>\n",
              "                <div class=\"content\"><span class=\"function-name\">send_message</span>({<br>&nbsp;&nbsp;<span class=\"json-key\">\"message\"</span>: <span class=\"json-string\">\"Got that saved, Bob! What else do you want to share or chat about?\"</span><br>})</div>\n",
              "            </div>\n",
              "            \n",
              "            <div class=\"message\">\n",
              "                <div class=\"title\">FUNCTION RETURN</div>\n",
              "                <div class=\"content\">{<br>&nbsp;&nbsp;<span class=\"json-key\">\"status\"</span>: <span class=\"json-key\">\"OK\",<br>&nbsp;&nbsp;\"message\"</span>: <span class=\"json-key\">\"None\",<br>&nbsp;&nbsp;\"time\"</span>: <span class=\"json-string\">\"2024-11-06 08:29:24 PM PST-0800\"</span><br>}</div>\n",
              "            </div>\n",
              "            </div>\n",
              "        <div class=\"usage-container\">\n",
              "            <div class=\"usage-stats\">\n",
              "                <div class=\"title\">USAGE STATISTICS</div>\n",
              "                <div class=\"content\">{<br>&nbsp;&nbsp;<span class=\"json-key\">\"completion_tokens\"</span>: <span class=\"json-number\">94</span>,<br>&nbsp;&nbsp;<span class=\"json-key\">\"prompt_tokens\"</span>: <span class=\"json-number\">6306</span>,<br>&nbsp;&nbsp;<span class=\"json-key\">\"total_tokens\"</span>: <span class=\"json-number\">6400</span>,<br>&nbsp;&nbsp;<span class=\"json-key\">\"step_count\"</span>: <span class=\"json-number\">2</span><br>}</div>\n",
              "            </div>\n",
              "        </div>\n",
              "        "
            ],
            "text/plain": [
              "LettaResponse(messages=[InternalMonologue(id='message-5a2bb25e-78e8-4c10-87fc-2cb27d872d1d', date=datetime.datetime(2024, 11, 7, 4, 29, 20, 652683, tzinfo=datetime.timezone.utc), message_type='internal_monologue', internal_monologue='User Bob loves cats. Saving this in archival memory for future reference.'), FunctionCallMessage(id='message-5a2bb25e-78e8-4c10-87fc-2cb27d872d1d', date=datetime.datetime(2024, 11, 7, 4, 29, 20, 652683, tzinfo=datetime.timezone.utc), message_type='function_call', function_call=FunctionCall(name='archival_memory_insert', arguments='{\\n  \"content\": \"Bob loves cats\",\\n  \"request_heartbeat\": true\\n}', function_call_id='call_dzxwS4o30WgbkXx0gbLssj9T')), FunctionReturn(id='message-2b9633aa-91ac-4c7e-861c-ce71056e7b85', date=datetime.datetime(2024, 11, 7, 4, 29, 21, 338360, tzinfo=datetime.timezone.utc), message_type='function_return', function_return='{\\n  \"status\": \"OK\",\\n  \"message\": \"None\",\\n  \"time\": \"2024-11-06 08:29:21 PM PST-0800\"\\n}', status='success', function_call_id='call_dzxwS4o30WgbkXx0gbLssj9T'), InternalMonologue(id='message-e7816a60-8fc2-4de9-ab96-1cb73de943a7', date=datetime.datetime(2024, 11, 7, 4, 29, 24, 85675, tzinfo=datetime.timezone.utc), message_type='internal_monologue', internal_monologue=\"Successfully saved Bob's love for cats. Now ready for the next conversation!\"), FunctionCallMessage(id='message-e7816a60-8fc2-4de9-ab96-1cb73de943a7', date=datetime.datetime(2024, 11, 7, 4, 29, 24, 85675, tzinfo=datetime.timezone.utc), message_type='function_call', function_call=FunctionCall(name='send_message', arguments='{\\n  \"message\": \"Got that saved, Bob! What else do you want to share or chat about?\"\\n}', function_call_id='call_b7YYrV68VRbgLizChsYjLkSc')), FunctionReturn(id='message-1bd009fc-0e84-4522-a27e-76b75ac848ff', date=datetime.datetime(2024, 11, 7, 4, 29, 24, 86646, tzinfo=datetime.timezone.utc), message_type='function_return', function_return='{\\n  \"status\": \"OK\",\\n  \"message\": \"None\",\\n  \"time\": \"2024-11-06 08:29:24 PM PST-0800\"\\n}', status='success', function_call_id='call_b7YYrV68VRbgLizChsYjLkSc')], usage=LettaUsageStatistics(completion_tokens=94, prompt_tokens=6306, total_tokens=6400, step_count=2))"
            ]
          },
          "execution_count": 19,
          "metadata": {},
          "output_type": "execute_result"
        }
      ],
      "source": [
        "response = client.send_message(\n",
        "    agent_id=agent_state.id,\n",
        "    message = \"Save the information that 'bob loves cats' to archival\",\n",
        "    role = \"user\"\n",
        ")\n",
        "response"
      ]
    },
    {
      "cell_type": "code",
      "execution_count": null,
      "id": "b4429ffa-e27a-4714-a873-84f793c08535",
      "metadata": {
        "id": "b4429ffa-e27a-4714-a873-84f793c08535",
        "outputId": "b6822bbe-5006-4839-d1d1-cc615ac3409a"
      },
      "outputs": [
        {
          "data": {
            "text/plain": [
              "'Bob loves cats'"
            ]
          },
          "execution_count": 20,
          "metadata": {},
          "output_type": "execute_result"
        }
      ],
      "source": [
        "client.get_archival_memory(agent_state.id)[0].text"
      ]
    },
    {
      "cell_type": "markdown",
      "id": "ae463e7c-0588-48ab-888c-734c783782bf",
      "metadata": {
        "id": "ae463e7c-0588-48ab-888c-734c783782bf"
      },
      "source": [
        "You can also directly insert into archival memory from the client."
      ]
    },
    {
      "cell_type": "code",
      "execution_count": null,
      "id": "f9d4194d-9ed5-40a1-b35d-a9aff3048000",
      "metadata": {
        "id": "f9d4194d-9ed5-40a1-b35d-a9aff3048000",
        "outputId": "30f4accf-8192-47c2-d2d1-6ecc1a636331"
      },
      "outputs": [
        {
          "data": {
            "text/plain": [
              "[Passage(user_id='user-00000000-0000-4000-8000-000000000000', agent_id='agent-33c66d6d-3b2b-4a45-aeb3-7e08344bdef9', source_id=None, file_id=None, metadata_={}, id='passage-0c6ba187-0ce8-4c5f-8dfb-fde5c567a48d', text=\"Bob's loves boston terriers\", embedding=None, embedding_config=EmbeddingConfig(embedding_endpoint_type='openai', embedding_endpoint='https://api.openai.com/v1', embedding_model='text-embedding-ada-002', embedding_dim=1536, embedding_chunk_size=300, azure_endpoint=None, azure_version=None, azure_deployment=None), created_at=datetime.datetime(2024, 11, 6, 20, 29, 24))]"
            ]
          },
          "execution_count": 21,
          "metadata": {},
          "output_type": "execute_result"
        }
      ],
      "source": [
        "client.insert_archival_memory(\n",
        "    agent_state.id,\n",
        "    \"Bob's loves boston terriers\"\n",
        ")"
      ]
    },
    {
      "cell_type": "markdown",
      "id": "338149f1-6671-4a0b-81d9-23d01dbe2e97",
      "metadata": {
        "id": "338149f1-6671-4a0b-81d9-23d01dbe2e97"
      },
      "source": [
        "Now lets see how the agent uses its archival memory:"
      ]
    },
    {
      "cell_type": "code",
      "execution_count": null,
      "id": "5908b10f-94db-4f5a-bb9a-1f08c74a2860",
      "metadata": {
        "id": "5908b10f-94db-4f5a-bb9a-1f08c74a2860",
        "outputId": "a77ec9a7-b5a2-49da-93f9-96634405133e"
      },
      "outputs": [
        {
          "data": {
            "text/html": [
              "\n",
              "        <style>\n",
              "            .message-container, .usage-container {\n",
              "                font-family: 'Segoe UI', Tahoma, Geneva, Verdana, sans-serif;\n",
              "                max-width: 800px;\n",
              "                margin: 20px auto;\n",
              "                background-color: #1e1e1e;\n",
              "                border-radius: 8px;\n",
              "                overflow: hidden;\n",
              "                color: #d4d4d4;\n",
              "            }\n",
              "            .message, .usage-stats {\n",
              "                padding: 10px 15px;\n",
              "                border-bottom: 1px solid #3a3a3a;\n",
              "            }\n",
              "            .message:last-child, .usage-stats:last-child {\n",
              "                border-bottom: none;\n",
              "            }\n",
              "            .title {\n",
              "                font-weight: bold;\n",
              "                margin-bottom: 5px;\n",
              "                color: #ffffff;\n",
              "                text-transform: uppercase;\n",
              "                font-size: 0.9em;\n",
              "            }\n",
              "            .content {\n",
              "                background-color: #2d2d2d;\n",
              "                border-radius: 4px;\n",
              "                padding: 5px 10px;\n",
              "                font-family: 'Consolas', 'Courier New', monospace;\n",
              "                white-space: pre-wrap;\n",
              "            }\n",
              "            .json-key, .function-name, .json-boolean { color: #9cdcfe; }\n",
              "            .json-string { color: #ce9178; }\n",
              "            .json-number { color: #b5cea8; }\n",
              "            .internal-monologue { font-style: italic; }\n",
              "        </style>\n",
              "        <div class=\"message-container\">\n",
              "        \n",
              "            <div class=\"message\">\n",
              "                <div class=\"title\">INTERNAL MONOLOGUE</div>\n",
              "                <div class=\"content\"><span class=\"internal-monologue\">Looking for information on Bob&#x27;s favorite animals in archival memory.</span></div>\n",
              "            </div>\n",
              "            \n",
              "            <div class=\"message\">\n",
              "                <div class=\"title\">FUNCTION CALL</div>\n",
              "                <div class=\"content\"><span class=\"function-name\">archival_memory_search</span>({<br>&nbsp;&nbsp;<span class=\"json-key\">\"query\"</span>: <span class=\"json-key\">\"Bob loves cats\",<br>&nbsp;&nbsp;\"page\"</span>: <span class=\"json-number\">0</span>,<br>&nbsp;&nbsp;<span class=\"json-key\">\"request_heartbeat\"</span>: <span class=\"json-boolean\">true</span><br>})</div>\n",
              "            </div>\n",
              "            \n",
              "            <div class=\"message\">\n",
              "                <div class=\"title\">FUNCTION RETURN</div>\n",
              "                <div class=\"content\">{<br>&nbsp;&nbsp;<span class=\"json-key\">\"status\"</span>: <span class=\"json-key\">\"OK\",<br>&nbsp;&nbsp;\"message\"</span>: <span class=\"json-key\">\"Showing 2 of 2 results (page 0/0): [\\n&nbsp;&nbsp;\\\"timestamp: <span class=\"json-number\">2024</span>-11-06 08:29:29 PM PST-0800, memory: Bob loves cats\\\",\\n&nbsp;&nbsp;\\\"timestamp: <span class=\"json-number\">2024</span>-11-06 08:29:29 PM PST-0800, memory: Bob's loves boston terriers\\\"\\n]\",<br>&nbsp;&nbsp;\"time\"</span>: <span class=\"json-string\">\"2024-11-06 08:29:29 PM PST-0800\"</span><br>}</div>\n",
              "            </div>\n",
              "            \n",
              "            <div class=\"message\">\n",
              "                <div class=\"title\">INTERNAL MONOLOGUE</div>\n",
              "                <div class=\"content\"><span class=\"internal-monologue\">Found information on Bob&#x27;s favorite animals. Sending it back to user.</span></div>\n",
              "            </div>\n",
              "            \n",
              "            <div class=\"message\">\n",
              "                <div class=\"title\">FUNCTION CALL</div>\n",
              "                <div class=\"content\"><span class=\"function-name\">send_message</span>({<br>&nbsp;&nbsp;<span class=\"json-key\">\"message\"</span>: <span class=\"json-string\">\"You like cats and also Boston Terriers! What a great taste in pets, Bob! 🐱🐶\"</span><br>})</div>\n",
              "            </div>\n",
              "            \n",
              "            <div class=\"message\">\n",
              "                <div class=\"title\">FUNCTION RETURN</div>\n",
              "                <div class=\"content\">{<br>&nbsp;&nbsp;<span class=\"json-key\">\"status\"</span>: <span class=\"json-key\">\"OK\",<br>&nbsp;&nbsp;\"message\"</span>: <span class=\"json-key\">\"None\",<br>&nbsp;&nbsp;\"time\"</span>: <span class=\"json-string\">\"2024-11-06 08:29:31 PM PST-0800\"</span><br>}</div>\n",
              "            </div>\n",
              "            </div>\n",
              "        <div class=\"usage-container\">\n",
              "            <div class=\"usage-stats\">\n",
              "                <div class=\"title\">USAGE STATISTICS</div>\n",
              "                <div class=\"content\">{<br>&nbsp;&nbsp;<span class=\"json-key\">\"completion_tokens\"</span>: <span class=\"json-number\">100</span>,<br>&nbsp;&nbsp;<span class=\"json-key\">\"prompt_tokens\"</span>: <span class=\"json-number\">6998</span>,<br>&nbsp;&nbsp;<span class=\"json-key\">\"total_tokens\"</span>: <span class=\"json-number\">7098</span>,<br>&nbsp;&nbsp;<span class=\"json-key\">\"step_count\"</span>: <span class=\"json-number\">2</span><br>}</div>\n",
              "            </div>\n",
              "        </div>\n",
              "        "
            ],
            "text/plain": [
              "LettaResponse(messages=[InternalMonologue(id='message-291f7c38-77a2-4a1c-a6da-0674ebd909ac', date=datetime.datetime(2024, 11, 7, 4, 29, 28, 945422, tzinfo=datetime.timezone.utc), message_type='internal_monologue', internal_monologue=\"Looking for information on Bob's favorite animals in archival memory.\"), FunctionCallMessage(id='message-291f7c38-77a2-4a1c-a6da-0674ebd909ac', date=datetime.datetime(2024, 11, 7, 4, 29, 28, 945422, tzinfo=datetime.timezone.utc), message_type='function_call', function_call=FunctionCall(name='archival_memory_search', arguments='{\\n  \"query\": \"Bob loves cats\",\\n  \"page\": 0,\\n  \"request_heartbeat\": true\\n}', function_call_id='call_3ZYtBW1acTC1y2erHiMsrkyV')), FunctionReturn(id='message-97167b78-5813-45ce-9b19-00615619ff43', date=datetime.datetime(2024, 11, 7, 4, 29, 29, 346109, tzinfo=datetime.timezone.utc), message_type='function_return', function_return='{\\n  \"status\": \"OK\",\\n  \"message\": \"Showing 2 of 2 results (page 0/0): [\\\\n  \\\\\"timestamp: 2024-11-06 08:29:29 PM PST-0800, memory: Bob loves cats\\\\\",\\\\n  \\\\\"timestamp: 2024-11-06 08:29:29 PM PST-0800, memory: Bob\\'s loves boston terriers\\\\\"\\\\n]\",\\n  \"time\": \"2024-11-06 08:29:29 PM PST-0800\"\\n}', status='success', function_call_id='call_3ZYtBW1acTC1y2erHiMsrkyV'), InternalMonologue(id='message-37acba7a-e262-46f4-aa0d-c5db369d896a', date=datetime.datetime(2024, 11, 7, 4, 29, 31, 410686, tzinfo=datetime.timezone.utc), message_type='internal_monologue', internal_monologue=\"Found information on Bob's favorite animals. Sending it back to user.\"), FunctionCallMessage(id='message-37acba7a-e262-46f4-aa0d-c5db369d896a', date=datetime.datetime(2024, 11, 7, 4, 29, 31, 410686, tzinfo=datetime.timezone.utc), message_type='function_call', function_call=FunctionCall(name='send_message', arguments='{\\n  \"message\": \"You like cats and also Boston Terriers! What a great taste in pets, Bob! 🐱🐶\"\\n}', function_call_id='call_RyiWvh1h7KOxQbqibSZDx5c5')), FunctionReturn(id='message-c19bd9f5-7233-4df6-b420-48c49d73a60d', date=datetime.datetime(2024, 11, 7, 4, 29, 31, 412319, tzinfo=datetime.timezone.utc), message_type='function_return', function_return='{\\n  \"status\": \"OK\",\\n  \"message\": \"None\",\\n  \"time\": \"2024-11-06 08:29:31 PM PST-0800\"\\n}', status='success', function_call_id='call_RyiWvh1h7KOxQbqibSZDx5c5')], usage=LettaUsageStatistics(completion_tokens=100, prompt_tokens=6998, total_tokens=7098, step_count=2))"
            ]
          },
          "execution_count": 22,
          "metadata": {},
          "output_type": "execute_result"
        }
      ],
      "source": [
        "response = client.send_message(\n",
        "    agent_id=agent_state.id,\n",
        "    role=\"user\",\n",
        "    message=\"What animals do I like? Search archival.\"\n",
        ")\n",
        "response"
      ]
    }
  ],
  "metadata": {
    "kernelspec": {
      "display_name": "letta",
      "language": "python",
      "name": "letta"
    },
    "language_info": {
      "codemirror_mode": {
        "name": "ipython",
        "version": 3
      },
      "file_extension": ".py",
      "mimetype": "text/x-python",
      "name": "python",
      "nbconvert_exporter": "python",
      "pygments_lexer": "ipython3",
      "version": "3.12.6"
    },
    "colab": {
      "provenance": [],
      "include_colab_link": true
    }
  },
  "nbformat": 4,
  "nbformat_minor": 5
}