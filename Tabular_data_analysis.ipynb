{
  "nbformat": 4,
  "nbformat_minor": 0,
  "metadata": {
    "colab": {
      "name": "Tabular_data_analysis.ipynb",
      "provenance": [],
      "authorship_tag": "ABX9TyMY/rKGPwfFKd80KzLq74nb",
      "include_colab_link": true
    },
    "kernelspec": {
      "name": "python3",
      "display_name": "Python 3"
    },
    "accelerator": "GPU",
    "widgets": {
      "application/vnd.jupyter.widget-state+json": {
        "e736ea0572884d24bdf0fc5f5ebf8a03": {
          "model_module": "@jupyter-widgets/controls",
          "model_name": "HBoxModel",
          "state": {
            "_view_name": "HBoxView",
            "_dom_classes": [],
            "_model_name": "HBoxModel",
            "_view_module": "@jupyter-widgets/controls",
            "_model_module_version": "1.5.0",
            "_view_count": null,
            "_view_module_version": "1.5.0",
            "box_style": "",
            "layout": "IPY_MODEL_47ff0a99ab294573944c96c0b88d98ec",
            "_model_module": "@jupyter-widgets/controls",
            "children": [
              "IPY_MODEL_4db2c89a8c91427897073e12050aa80d",
              "IPY_MODEL_7f72426bead64ca29534e51b1cba2c5b"
            ]
          }
        },
        "47ff0a99ab294573944c96c0b88d98ec": {
          "model_module": "@jupyter-widgets/base",
          "model_name": "LayoutModel",
          "state": {
            "_view_name": "LayoutView",
            "grid_template_rows": null,
            "right": null,
            "justify_content": null,
            "_view_module": "@jupyter-widgets/base",
            "overflow": null,
            "_model_module_version": "1.2.0",
            "_view_count": null,
            "flex_flow": null,
            "width": null,
            "min_width": null,
            "border": null,
            "align_items": null,
            "bottom": null,
            "_model_module": "@jupyter-widgets/base",
            "top": null,
            "grid_column": null,
            "overflow_y": null,
            "overflow_x": null,
            "grid_auto_flow": null,
            "grid_area": null,
            "grid_template_columns": null,
            "flex": null,
            "_model_name": "LayoutModel",
            "justify_items": null,
            "grid_row": null,
            "max_height": null,
            "align_content": null,
            "visibility": null,
            "align_self": null,
            "height": null,
            "min_height": null,
            "padding": null,
            "grid_auto_rows": null,
            "grid_gap": null,
            "max_width": null,
            "order": null,
            "_view_module_version": "1.2.0",
            "grid_template_areas": null,
            "object_position": null,
            "object_fit": null,
            "grid_auto_columns": null,
            "margin": null,
            "display": null,
            "left": null
          }
        },
        "4db2c89a8c91427897073e12050aa80d": {
          "model_module": "@jupyter-widgets/controls",
          "model_name": "FloatProgressModel",
          "state": {
            "_view_name": "ProgressView",
            "style": "IPY_MODEL_22aad9b5a2fa4b9e89baf0d5365d5d20",
            "_dom_classes": [],
            "description": "Downloading: 100%",
            "_model_name": "FloatProgressModel",
            "bar_style": "success",
            "max": 213450,
            "_view_module": "@jupyter-widgets/controls",
            "_model_module_version": "1.5.0",
            "value": 213450,
            "_view_count": null,
            "_view_module_version": "1.5.0",
            "orientation": "horizontal",
            "min": 0,
            "description_tooltip": null,
            "_model_module": "@jupyter-widgets/controls",
            "layout": "IPY_MODEL_6ad75cc4fdeb400c9f6b5dba2284e4ea"
          }
        },
        "7f72426bead64ca29534e51b1cba2c5b": {
          "model_module": "@jupyter-widgets/controls",
          "model_name": "HTMLModel",
          "state": {
            "_view_name": "HTMLView",
            "style": "IPY_MODEL_206c36b19f8742e09b4ce7728041b731",
            "_dom_classes": [],
            "description": "",
            "_model_name": "HTMLModel",
            "placeholder": "​",
            "_view_module": "@jupyter-widgets/controls",
            "_model_module_version": "1.5.0",
            "value": " 213k/213k [00:00&lt;00:00, 3.13MB/s]",
            "_view_count": null,
            "_view_module_version": "1.5.0",
            "description_tooltip": null,
            "_model_module": "@jupyter-widgets/controls",
            "layout": "IPY_MODEL_05e428644d624f5b92252b6be03f1346"
          }
        },
        "22aad9b5a2fa4b9e89baf0d5365d5d20": {
          "model_module": "@jupyter-widgets/controls",
          "model_name": "ProgressStyleModel",
          "state": {
            "_view_name": "StyleView",
            "_model_name": "ProgressStyleModel",
            "description_width": "initial",
            "_view_module": "@jupyter-widgets/base",
            "_model_module_version": "1.5.0",
            "_view_count": null,
            "_view_module_version": "1.2.0",
            "bar_color": null,
            "_model_module": "@jupyter-widgets/controls"
          }
        },
        "6ad75cc4fdeb400c9f6b5dba2284e4ea": {
          "model_module": "@jupyter-widgets/base",
          "model_name": "LayoutModel",
          "state": {
            "_view_name": "LayoutView",
            "grid_template_rows": null,
            "right": null,
            "justify_content": null,
            "_view_module": "@jupyter-widgets/base",
            "overflow": null,
            "_model_module_version": "1.2.0",
            "_view_count": null,
            "flex_flow": null,
            "width": null,
            "min_width": null,
            "border": null,
            "align_items": null,
            "bottom": null,
            "_model_module": "@jupyter-widgets/base",
            "top": null,
            "grid_column": null,
            "overflow_y": null,
            "overflow_x": null,
            "grid_auto_flow": null,
            "grid_area": null,
            "grid_template_columns": null,
            "flex": null,
            "_model_name": "LayoutModel",
            "justify_items": null,
            "grid_row": null,
            "max_height": null,
            "align_content": null,
            "visibility": null,
            "align_self": null,
            "height": null,
            "min_height": null,
            "padding": null,
            "grid_auto_rows": null,
            "grid_gap": null,
            "max_width": null,
            "order": null,
            "_view_module_version": "1.2.0",
            "grid_template_areas": null,
            "object_position": null,
            "object_fit": null,
            "grid_auto_columns": null,
            "margin": null,
            "display": null,
            "left": null
          }
        },
        "206c36b19f8742e09b4ce7728041b731": {
          "model_module": "@jupyter-widgets/controls",
          "model_name": "DescriptionStyleModel",
          "state": {
            "_view_name": "StyleView",
            "_model_name": "DescriptionStyleModel",
            "description_width": "",
            "_view_module": "@jupyter-widgets/base",
            "_model_module_version": "1.5.0",
            "_view_count": null,
            "_view_module_version": "1.2.0",
            "_model_module": "@jupyter-widgets/controls"
          }
        },
        "05e428644d624f5b92252b6be03f1346": {
          "model_module": "@jupyter-widgets/base",
          "model_name": "LayoutModel",
          "state": {
            "_view_name": "LayoutView",
            "grid_template_rows": null,
            "right": null,
            "justify_content": null,
            "_view_module": "@jupyter-widgets/base",
            "overflow": null,
            "_model_module_version": "1.2.0",
            "_view_count": null,
            "flex_flow": null,
            "width": null,
            "min_width": null,
            "border": null,
            "align_items": null,
            "bottom": null,
            "_model_module": "@jupyter-widgets/base",
            "top": null,
            "grid_column": null,
            "overflow_y": null,
            "overflow_x": null,
            "grid_auto_flow": null,
            "grid_area": null,
            "grid_template_columns": null,
            "flex": null,
            "_model_name": "LayoutModel",
            "justify_items": null,
            "grid_row": null,
            "max_height": null,
            "align_content": null,
            "visibility": null,
            "align_self": null,
            "height": null,
            "min_height": null,
            "padding": null,
            "grid_auto_rows": null,
            "grid_gap": null,
            "max_width": null,
            "order": null,
            "_view_module_version": "1.2.0",
            "grid_template_areas": null,
            "object_position": null,
            "object_fit": null,
            "grid_auto_columns": null,
            "margin": null,
            "display": null,
            "left": null
          }
        },
        "d51bbbf9cb4f4362b313c1461baac00a": {
          "model_module": "@jupyter-widgets/controls",
          "model_name": "HBoxModel",
          "state": {
            "_view_name": "HBoxView",
            "_dom_classes": [],
            "_model_name": "HBoxModel",
            "_view_module": "@jupyter-widgets/controls",
            "_model_module_version": "1.5.0",
            "_view_count": null,
            "_view_module_version": "1.5.0",
            "box_style": "",
            "layout": "IPY_MODEL_3266e418b3324aacba02d1ba84dcd975",
            "_model_module": "@jupyter-widgets/controls",
            "children": [
              "IPY_MODEL_6b02b160b06649749a5d810ef5b15e8c",
              "IPY_MODEL_04d9e7aefad6403988461935a51bd07c"
            ]
          }
        },
        "3266e418b3324aacba02d1ba84dcd975": {
          "model_module": "@jupyter-widgets/base",
          "model_name": "LayoutModel",
          "state": {
            "_view_name": "LayoutView",
            "grid_template_rows": null,
            "right": null,
            "justify_content": null,
            "_view_module": "@jupyter-widgets/base",
            "overflow": null,
            "_model_module_version": "1.2.0",
            "_view_count": null,
            "flex_flow": null,
            "width": null,
            "min_width": null,
            "border": null,
            "align_items": null,
            "bottom": null,
            "_model_module": "@jupyter-widgets/base",
            "top": null,
            "grid_column": null,
            "overflow_y": null,
            "overflow_x": null,
            "grid_auto_flow": null,
            "grid_area": null,
            "grid_template_columns": null,
            "flex": null,
            "_model_name": "LayoutModel",
            "justify_items": null,
            "grid_row": null,
            "max_height": null,
            "align_content": null,
            "visibility": null,
            "align_self": null,
            "height": null,
            "min_height": null,
            "padding": null,
            "grid_auto_rows": null,
            "grid_gap": null,
            "max_width": null,
            "order": null,
            "_view_module_version": "1.2.0",
            "grid_template_areas": null,
            "object_position": null,
            "object_fit": null,
            "grid_auto_columns": null,
            "margin": null,
            "display": null,
            "left": null
          }
        },
        "6b02b160b06649749a5d810ef5b15e8c": {
          "model_module": "@jupyter-widgets/controls",
          "model_name": "FloatProgressModel",
          "state": {
            "_view_name": "ProgressView",
            "style": "IPY_MODEL_eb1f99c57b6b4b4aaa2c73d3cb791ce3",
            "_dom_classes": [],
            "description": "Downloading: 100%",
            "_model_name": "FloatProgressModel",
            "bar_style": "success",
            "max": 433,
            "_view_module": "@jupyter-widgets/controls",
            "_model_module_version": "1.5.0",
            "value": 433,
            "_view_count": null,
            "_view_module_version": "1.5.0",
            "orientation": "horizontal",
            "min": 0,
            "description_tooltip": null,
            "_model_module": "@jupyter-widgets/controls",
            "layout": "IPY_MODEL_0d2a5a585ee74619a546b2290c63e35d"
          }
        },
        "04d9e7aefad6403988461935a51bd07c": {
          "model_module": "@jupyter-widgets/controls",
          "model_name": "HTMLModel",
          "state": {
            "_view_name": "HTMLView",
            "style": "IPY_MODEL_8dacff57eaf844308fd9944b9d911235",
            "_dom_classes": [],
            "description": "",
            "_model_name": "HTMLModel",
            "placeholder": "​",
            "_view_module": "@jupyter-widgets/controls",
            "_model_module_version": "1.5.0",
            "value": " 433/433 [00:00&lt;00:00, 2.32kB/s]",
            "_view_count": null,
            "_view_module_version": "1.5.0",
            "description_tooltip": null,
            "_model_module": "@jupyter-widgets/controls",
            "layout": "IPY_MODEL_74b5a462b32e45c7ad514b8b0815cd62"
          }
        },
        "eb1f99c57b6b4b4aaa2c73d3cb791ce3": {
          "model_module": "@jupyter-widgets/controls",
          "model_name": "ProgressStyleModel",
          "state": {
            "_view_name": "StyleView",
            "_model_name": "ProgressStyleModel",
            "description_width": "initial",
            "_view_module": "@jupyter-widgets/base",
            "_model_module_version": "1.5.0",
            "_view_count": null,
            "_view_module_version": "1.2.0",
            "bar_color": null,
            "_model_module": "@jupyter-widgets/controls"
          }
        },
        "0d2a5a585ee74619a546b2290c63e35d": {
          "model_module": "@jupyter-widgets/base",
          "model_name": "LayoutModel",
          "state": {
            "_view_name": "LayoutView",
            "grid_template_rows": null,
            "right": null,
            "justify_content": null,
            "_view_module": "@jupyter-widgets/base",
            "overflow": null,
            "_model_module_version": "1.2.0",
            "_view_count": null,
            "flex_flow": null,
            "width": null,
            "min_width": null,
            "border": null,
            "align_items": null,
            "bottom": null,
            "_model_module": "@jupyter-widgets/base",
            "top": null,
            "grid_column": null,
            "overflow_y": null,
            "overflow_x": null,
            "grid_auto_flow": null,
            "grid_area": null,
            "grid_template_columns": null,
            "flex": null,
            "_model_name": "LayoutModel",
            "justify_items": null,
            "grid_row": null,
            "max_height": null,
            "align_content": null,
            "visibility": null,
            "align_self": null,
            "height": null,
            "min_height": null,
            "padding": null,
            "grid_auto_rows": null,
            "grid_gap": null,
            "max_width": null,
            "order": null,
            "_view_module_version": "1.2.0",
            "grid_template_areas": null,
            "object_position": null,
            "object_fit": null,
            "grid_auto_columns": null,
            "margin": null,
            "display": null,
            "left": null
          }
        },
        "8dacff57eaf844308fd9944b9d911235": {
          "model_module": "@jupyter-widgets/controls",
          "model_name": "DescriptionStyleModel",
          "state": {
            "_view_name": "StyleView",
            "_model_name": "DescriptionStyleModel",
            "description_width": "",
            "_view_module": "@jupyter-widgets/base",
            "_model_module_version": "1.5.0",
            "_view_count": null,
            "_view_module_version": "1.2.0",
            "_model_module": "@jupyter-widgets/controls"
          }
        },
        "74b5a462b32e45c7ad514b8b0815cd62": {
          "model_module": "@jupyter-widgets/base",
          "model_name": "LayoutModel",
          "state": {
            "_view_name": "LayoutView",
            "grid_template_rows": null,
            "right": null,
            "justify_content": null,
            "_view_module": "@jupyter-widgets/base",
            "overflow": null,
            "_model_module_version": "1.2.0",
            "_view_count": null,
            "flex_flow": null,
            "width": null,
            "min_width": null,
            "border": null,
            "align_items": null,
            "bottom": null,
            "_model_module": "@jupyter-widgets/base",
            "top": null,
            "grid_column": null,
            "overflow_y": null,
            "overflow_x": null,
            "grid_auto_flow": null,
            "grid_area": null,
            "grid_template_columns": null,
            "flex": null,
            "_model_name": "LayoutModel",
            "justify_items": null,
            "grid_row": null,
            "max_height": null,
            "align_content": null,
            "visibility": null,
            "align_self": null,
            "height": null,
            "min_height": null,
            "padding": null,
            "grid_auto_rows": null,
            "grid_gap": null,
            "max_width": null,
            "order": null,
            "_view_module_version": "1.2.0",
            "grid_template_areas": null,
            "object_position": null,
            "object_fit": null,
            "grid_auto_columns": null,
            "margin": null,
            "display": null,
            "left": null
          }
        },
        "7a6794daf78f473eae71bae6358b8f4d": {
          "model_module": "@jupyter-widgets/controls",
          "model_name": "HBoxModel",
          "state": {
            "_view_name": "HBoxView",
            "_dom_classes": [],
            "_model_name": "HBoxModel",
            "_view_module": "@jupyter-widgets/controls",
            "_model_module_version": "1.5.0",
            "_view_count": null,
            "_view_module_version": "1.5.0",
            "box_style": "",
            "layout": "IPY_MODEL_40b444bc7e894d24a178fd0052fded8d",
            "_model_module": "@jupyter-widgets/controls",
            "children": [
              "IPY_MODEL_158d91fe16724b31a6a8da49fd714f85",
              "IPY_MODEL_37ce7ff57e4e4a19b94b255e968f1a2b"
            ]
          }
        },
        "40b444bc7e894d24a178fd0052fded8d": {
          "model_module": "@jupyter-widgets/base",
          "model_name": "LayoutModel",
          "state": {
            "_view_name": "LayoutView",
            "grid_template_rows": null,
            "right": null,
            "justify_content": null,
            "_view_module": "@jupyter-widgets/base",
            "overflow": null,
            "_model_module_version": "1.2.0",
            "_view_count": null,
            "flex_flow": null,
            "width": null,
            "min_width": null,
            "border": null,
            "align_items": null,
            "bottom": null,
            "_model_module": "@jupyter-widgets/base",
            "top": null,
            "grid_column": null,
            "overflow_y": null,
            "overflow_x": null,
            "grid_auto_flow": null,
            "grid_area": null,
            "grid_template_columns": null,
            "flex": null,
            "_model_name": "LayoutModel",
            "justify_items": null,
            "grid_row": null,
            "max_height": null,
            "align_content": null,
            "visibility": null,
            "align_self": null,
            "height": null,
            "min_height": null,
            "padding": null,
            "grid_auto_rows": null,
            "grid_gap": null,
            "max_width": null,
            "order": null,
            "_view_module_version": "1.2.0",
            "grid_template_areas": null,
            "object_position": null,
            "object_fit": null,
            "grid_auto_columns": null,
            "margin": null,
            "display": null,
            "left": null
          }
        },
        "158d91fe16724b31a6a8da49fd714f85": {
          "model_module": "@jupyter-widgets/controls",
          "model_name": "FloatProgressModel",
          "state": {
            "_view_name": "ProgressView",
            "style": "IPY_MODEL_5c505c737cee44c8a5c537ed63f2cc25",
            "_dom_classes": [],
            "description": "Downloading: 100%",
            "_model_name": "FloatProgressModel",
            "bar_style": "success",
            "max": 440473133,
            "_view_module": "@jupyter-widgets/controls",
            "_model_module_version": "1.5.0",
            "value": 440473133,
            "_view_count": null,
            "_view_module_version": "1.5.0",
            "orientation": "horizontal",
            "min": 0,
            "description_tooltip": null,
            "_model_module": "@jupyter-widgets/controls",
            "layout": "IPY_MODEL_a8d5c1a11f1a4f9e8889536b58168031"
          }
        },
        "37ce7ff57e4e4a19b94b255e968f1a2b": {
          "model_module": "@jupyter-widgets/controls",
          "model_name": "HTMLModel",
          "state": {
            "_view_name": "HTMLView",
            "style": "IPY_MODEL_24452d824078442583fa123b3a755cca",
            "_dom_classes": [],
            "description": "",
            "_model_name": "HTMLModel",
            "placeholder": "​",
            "_view_module": "@jupyter-widgets/controls",
            "_model_module_version": "1.5.0",
            "value": " 440M/440M [00:06&lt;00:00, 70.4MB/s]",
            "_view_count": null,
            "_view_module_version": "1.5.0",
            "description_tooltip": null,
            "_model_module": "@jupyter-widgets/controls",
            "layout": "IPY_MODEL_22e55b7fd50a461088d8122a722bda2e"
          }
        },
        "5c505c737cee44c8a5c537ed63f2cc25": {
          "model_module": "@jupyter-widgets/controls",
          "model_name": "ProgressStyleModel",
          "state": {
            "_view_name": "StyleView",
            "_model_name": "ProgressStyleModel",
            "description_width": "initial",
            "_view_module": "@jupyter-widgets/base",
            "_model_module_version": "1.5.0",
            "_view_count": null,
            "_view_module_version": "1.2.0",
            "bar_color": null,
            "_model_module": "@jupyter-widgets/controls"
          }
        },
        "a8d5c1a11f1a4f9e8889536b58168031": {
          "model_module": "@jupyter-widgets/base",
          "model_name": "LayoutModel",
          "state": {
            "_view_name": "LayoutView",
            "grid_template_rows": null,
            "right": null,
            "justify_content": null,
            "_view_module": "@jupyter-widgets/base",
            "overflow": null,
            "_model_module_version": "1.2.0",
            "_view_count": null,
            "flex_flow": null,
            "width": null,
            "min_width": null,
            "border": null,
            "align_items": null,
            "bottom": null,
            "_model_module": "@jupyter-widgets/base",
            "top": null,
            "grid_column": null,
            "overflow_y": null,
            "overflow_x": null,
            "grid_auto_flow": null,
            "grid_area": null,
            "grid_template_columns": null,
            "flex": null,
            "_model_name": "LayoutModel",
            "justify_items": null,
            "grid_row": null,
            "max_height": null,
            "align_content": null,
            "visibility": null,
            "align_self": null,
            "height": null,
            "min_height": null,
            "padding": null,
            "grid_auto_rows": null,
            "grid_gap": null,
            "max_width": null,
            "order": null,
            "_view_module_version": "1.2.0",
            "grid_template_areas": null,
            "object_position": null,
            "object_fit": null,
            "grid_auto_columns": null,
            "margin": null,
            "display": null,
            "left": null
          }
        },
        "24452d824078442583fa123b3a755cca": {
          "model_module": "@jupyter-widgets/controls",
          "model_name": "DescriptionStyleModel",
          "state": {
            "_view_name": "StyleView",
            "_model_name": "DescriptionStyleModel",
            "description_width": "",
            "_view_module": "@jupyter-widgets/base",
            "_model_module_version": "1.5.0",
            "_view_count": null,
            "_view_module_version": "1.2.0",
            "_model_module": "@jupyter-widgets/controls"
          }
        },
        "22e55b7fd50a461088d8122a722bda2e": {
          "model_module": "@jupyter-widgets/base",
          "model_name": "LayoutModel",
          "state": {
            "_view_name": "LayoutView",
            "grid_template_rows": null,
            "right": null,
            "justify_content": null,
            "_view_module": "@jupyter-widgets/base",
            "overflow": null,
            "_model_module_version": "1.2.0",
            "_view_count": null,
            "flex_flow": null,
            "width": null,
            "min_width": null,
            "border": null,
            "align_items": null,
            "bottom": null,
            "_model_module": "@jupyter-widgets/base",
            "top": null,
            "grid_column": null,
            "overflow_y": null,
            "overflow_x": null,
            "grid_auto_flow": null,
            "grid_area": null,
            "grid_template_columns": null,
            "flex": null,
            "_model_name": "LayoutModel",
            "justify_items": null,
            "grid_row": null,
            "max_height": null,
            "align_content": null,
            "visibility": null,
            "align_self": null,
            "height": null,
            "min_height": null,
            "padding": null,
            "grid_auto_rows": null,
            "grid_gap": null,
            "max_width": null,
            "order": null,
            "_view_module_version": "1.2.0",
            "grid_template_areas": null,
            "object_position": null,
            "object_fit": null,
            "grid_auto_columns": null,
            "margin": null,
            "display": null,
            "left": null
          }
        },
        "e7153063c0b6445aa6757aa0cbf962c3": {
          "model_module": "@jupyter-widgets/controls",
          "model_name": "HBoxModel",
          "state": {
            "_view_name": "HBoxView",
            "_dom_classes": [],
            "_model_name": "HBoxModel",
            "_view_module": "@jupyter-widgets/controls",
            "_model_module_version": "1.5.0",
            "_view_count": null,
            "_view_module_version": "1.5.0",
            "box_style": "",
            "layout": "IPY_MODEL_f49fb94a9c8c4035be9300ce9fed1e50",
            "_model_module": "@jupyter-widgets/controls",
            "children": [
              "IPY_MODEL_b3030cf186b045938ba725f19db5236d",
              "IPY_MODEL_67b27d00ae1a4b95bb1d8881cde54548"
            ]
          }
        },
        "f49fb94a9c8c4035be9300ce9fed1e50": {
          "model_module": "@jupyter-widgets/base",
          "model_name": "LayoutModel",
          "state": {
            "_view_name": "LayoutView",
            "grid_template_rows": null,
            "right": null,
            "justify_content": null,
            "_view_module": "@jupyter-widgets/base",
            "overflow": null,
            "_model_module_version": "1.2.0",
            "_view_count": null,
            "flex_flow": "row wrap",
            "width": "100%",
            "min_width": null,
            "border": null,
            "align_items": null,
            "bottom": null,
            "_model_module": "@jupyter-widgets/base",
            "top": null,
            "grid_column": null,
            "overflow_y": null,
            "overflow_x": null,
            "grid_auto_flow": null,
            "grid_area": null,
            "grid_template_columns": null,
            "flex": null,
            "_model_name": "LayoutModel",
            "justify_items": null,
            "grid_row": null,
            "max_height": null,
            "align_content": null,
            "visibility": null,
            "align_self": null,
            "height": null,
            "min_height": null,
            "padding": null,
            "grid_auto_rows": null,
            "grid_gap": null,
            "max_width": null,
            "order": null,
            "_view_module_version": "1.2.0",
            "grid_template_areas": null,
            "object_position": null,
            "object_fit": null,
            "grid_auto_columns": null,
            "margin": null,
            "display": "inline-flex",
            "left": null
          }
        },
        "b3030cf186b045938ba725f19db5236d": {
          "model_module": "@jupyter-widgets/controls",
          "model_name": "FloatProgressModel",
          "state": {
            "_view_name": "ProgressView",
            "style": "IPY_MODEL_cde01ccd40b14e04a37755a84eccfb9b",
            "_dom_classes": [],
            "description": "Validation sanity check: 100%",
            "_model_name": "FloatProgressModel",
            "bar_style": "info",
            "max": 1,
            "_view_module": "@jupyter-widgets/controls",
            "_model_module_version": "1.5.0",
            "value": 1,
            "_view_count": null,
            "_view_module_version": "1.5.0",
            "orientation": "horizontal",
            "min": 0,
            "description_tooltip": null,
            "_model_module": "@jupyter-widgets/controls",
            "layout": "IPY_MODEL_cea24c6c3dba47a99cf17293455370eb"
          }
        },
        "67b27d00ae1a4b95bb1d8881cde54548": {
          "model_module": "@jupyter-widgets/controls",
          "model_name": "HTMLModel",
          "state": {
            "_view_name": "HTMLView",
            "style": "IPY_MODEL_0e37cd0a47d24545974912d06b2d7085",
            "_dom_classes": [],
            "description": "",
            "_model_name": "HTMLModel",
            "placeholder": "​",
            "_view_module": "@jupyter-widgets/controls",
            "_model_module_version": "1.5.0",
            "value": " 2/2 [00:00&lt;00:00,  4.74it/s]",
            "_view_count": null,
            "_view_module_version": "1.5.0",
            "description_tooltip": null,
            "_model_module": "@jupyter-widgets/controls",
            "layout": "IPY_MODEL_51923eb6289c4deea247417debd162ee"
          }
        },
        "cde01ccd40b14e04a37755a84eccfb9b": {
          "model_module": "@jupyter-widgets/controls",
          "model_name": "ProgressStyleModel",
          "state": {
            "_view_name": "StyleView",
            "_model_name": "ProgressStyleModel",
            "description_width": "initial",
            "_view_module": "@jupyter-widgets/base",
            "_model_module_version": "1.5.0",
            "_view_count": null,
            "_view_module_version": "1.2.0",
            "bar_color": null,
            "_model_module": "@jupyter-widgets/controls"
          }
        },
        "cea24c6c3dba47a99cf17293455370eb": {
          "model_module": "@jupyter-widgets/base",
          "model_name": "LayoutModel",
          "state": {
            "_view_name": "LayoutView",
            "grid_template_rows": null,
            "right": null,
            "justify_content": null,
            "_view_module": "@jupyter-widgets/base",
            "overflow": null,
            "_model_module_version": "1.2.0",
            "_view_count": null,
            "flex_flow": null,
            "width": null,
            "min_width": null,
            "border": null,
            "align_items": null,
            "bottom": null,
            "_model_module": "@jupyter-widgets/base",
            "top": null,
            "grid_column": null,
            "overflow_y": null,
            "overflow_x": null,
            "grid_auto_flow": null,
            "grid_area": null,
            "grid_template_columns": null,
            "flex": "2",
            "_model_name": "LayoutModel",
            "justify_items": null,
            "grid_row": null,
            "max_height": null,
            "align_content": null,
            "visibility": null,
            "align_self": null,
            "height": null,
            "min_height": null,
            "padding": null,
            "grid_auto_rows": null,
            "grid_gap": null,
            "max_width": null,
            "order": null,
            "_view_module_version": "1.2.0",
            "grid_template_areas": null,
            "object_position": null,
            "object_fit": null,
            "grid_auto_columns": null,
            "margin": null,
            "display": null,
            "left": null
          }
        },
        "0e37cd0a47d24545974912d06b2d7085": {
          "model_module": "@jupyter-widgets/controls",
          "model_name": "DescriptionStyleModel",
          "state": {
            "_view_name": "StyleView",
            "_model_name": "DescriptionStyleModel",
            "description_width": "",
            "_view_module": "@jupyter-widgets/base",
            "_model_module_version": "1.5.0",
            "_view_count": null,
            "_view_module_version": "1.2.0",
            "_model_module": "@jupyter-widgets/controls"
          }
        },
        "51923eb6289c4deea247417debd162ee": {
          "model_module": "@jupyter-widgets/base",
          "model_name": "LayoutModel",
          "state": {
            "_view_name": "LayoutView",
            "grid_template_rows": null,
            "right": null,
            "justify_content": null,
            "_view_module": "@jupyter-widgets/base",
            "overflow": null,
            "_model_module_version": "1.2.0",
            "_view_count": null,
            "flex_flow": null,
            "width": null,
            "min_width": null,
            "border": null,
            "align_items": null,
            "bottom": null,
            "_model_module": "@jupyter-widgets/base",
            "top": null,
            "grid_column": null,
            "overflow_y": null,
            "overflow_x": null,
            "grid_auto_flow": null,
            "grid_area": null,
            "grid_template_columns": null,
            "flex": null,
            "_model_name": "LayoutModel",
            "justify_items": null,
            "grid_row": null,
            "max_height": null,
            "align_content": null,
            "visibility": null,
            "align_self": null,
            "height": null,
            "min_height": null,
            "padding": null,
            "grid_auto_rows": null,
            "grid_gap": null,
            "max_width": null,
            "order": null,
            "_view_module_version": "1.2.0",
            "grid_template_areas": null,
            "object_position": null,
            "object_fit": null,
            "grid_auto_columns": null,
            "margin": null,
            "display": null,
            "left": null
          }
        },
        "d2499fa3831a4c7fb31ba0e82e82c076": {
          "model_module": "@jupyter-widgets/controls",
          "model_name": "HBoxModel",
          "state": {
            "_view_name": "HBoxView",
            "_dom_classes": [],
            "_model_name": "HBoxModel",
            "_view_module": "@jupyter-widgets/controls",
            "_model_module_version": "1.5.0",
            "_view_count": null,
            "_view_module_version": "1.5.0",
            "box_style": "",
            "layout": "IPY_MODEL_83e3e30fb34c4a4bb2138b908ea811b8",
            "_model_module": "@jupyter-widgets/controls",
            "children": [
              "IPY_MODEL_856faee5351a4286a6c8f97ecdc8ceb8",
              "IPY_MODEL_92451ceab04f4fb7b33bdded0f5d34ff"
            ]
          }
        },
        "83e3e30fb34c4a4bb2138b908ea811b8": {
          "model_module": "@jupyter-widgets/base",
          "model_name": "LayoutModel",
          "state": {
            "_view_name": "LayoutView",
            "grid_template_rows": null,
            "right": null,
            "justify_content": null,
            "_view_module": "@jupyter-widgets/base",
            "overflow": null,
            "_model_module_version": "1.2.0",
            "_view_count": null,
            "flex_flow": "row wrap",
            "width": "100%",
            "min_width": null,
            "border": null,
            "align_items": null,
            "bottom": null,
            "_model_module": "@jupyter-widgets/base",
            "top": null,
            "grid_column": null,
            "overflow_y": null,
            "overflow_x": null,
            "grid_auto_flow": null,
            "grid_area": null,
            "grid_template_columns": null,
            "flex": null,
            "_model_name": "LayoutModel",
            "justify_items": null,
            "grid_row": null,
            "max_height": null,
            "align_content": null,
            "visibility": null,
            "align_self": null,
            "height": null,
            "min_height": null,
            "padding": null,
            "grid_auto_rows": null,
            "grid_gap": null,
            "max_width": null,
            "order": null,
            "_view_module_version": "1.2.0",
            "grid_template_areas": null,
            "object_position": null,
            "object_fit": null,
            "grid_auto_columns": null,
            "margin": null,
            "display": "inline-flex",
            "left": null
          }
        },
        "856faee5351a4286a6c8f97ecdc8ceb8": {
          "model_module": "@jupyter-widgets/controls",
          "model_name": "FloatProgressModel",
          "state": {
            "_view_name": "ProgressView",
            "style": "IPY_MODEL_707dc3b1ea1a4e7d8c4d9e44a9c7222a",
            "_dom_classes": [],
            "description": "Epoch 0: 100%",
            "_model_name": "FloatProgressModel",
            "bar_style": "success",
            "max": 59,
            "_view_module": "@jupyter-widgets/controls",
            "_model_module_version": "1.5.0",
            "value": 59,
            "_view_count": null,
            "_view_module_version": "1.5.0",
            "orientation": "horizontal",
            "min": 0,
            "description_tooltip": null,
            "_model_module": "@jupyter-widgets/controls",
            "layout": "IPY_MODEL_418ddf7338a940a89145fe36a08762dc"
          }
        },
        "92451ceab04f4fb7b33bdded0f5d34ff": {
          "model_module": "@jupyter-widgets/controls",
          "model_name": "HTMLModel",
          "state": {
            "_view_name": "HTMLView",
            "style": "IPY_MODEL_ce014d853c324883b9e4d3e0d2ce8c32",
            "_dom_classes": [],
            "description": "",
            "_model_name": "HTMLModel",
            "placeholder": "​",
            "_view_module": "@jupyter-widgets/controls",
            "_model_module_version": "1.5.0",
            "value": " 59/59 [00:26&lt;00:00,  2.24it/s, loss=0.599, v_num=12]",
            "_view_count": null,
            "_view_module_version": "1.5.0",
            "description_tooltip": null,
            "_model_module": "@jupyter-widgets/controls",
            "layout": "IPY_MODEL_78bf050ddd644420b9f672eca8039fe5"
          }
        },
        "707dc3b1ea1a4e7d8c4d9e44a9c7222a": {
          "model_module": "@jupyter-widgets/controls",
          "model_name": "ProgressStyleModel",
          "state": {
            "_view_name": "StyleView",
            "_model_name": "ProgressStyleModel",
            "description_width": "initial",
            "_view_module": "@jupyter-widgets/base",
            "_model_module_version": "1.5.0",
            "_view_count": null,
            "_view_module_version": "1.2.0",
            "bar_color": null,
            "_model_module": "@jupyter-widgets/controls"
          }
        },
        "418ddf7338a940a89145fe36a08762dc": {
          "model_module": "@jupyter-widgets/base",
          "model_name": "LayoutModel",
          "state": {
            "_view_name": "LayoutView",
            "grid_template_rows": null,
            "right": null,
            "justify_content": null,
            "_view_module": "@jupyter-widgets/base",
            "overflow": null,
            "_model_module_version": "1.2.0",
            "_view_count": null,
            "flex_flow": null,
            "width": null,
            "min_width": null,
            "border": null,
            "align_items": null,
            "bottom": null,
            "_model_module": "@jupyter-widgets/base",
            "top": null,
            "grid_column": null,
            "overflow_y": null,
            "overflow_x": null,
            "grid_auto_flow": null,
            "grid_area": null,
            "grid_template_columns": null,
            "flex": "2",
            "_model_name": "LayoutModel",
            "justify_items": null,
            "grid_row": null,
            "max_height": null,
            "align_content": null,
            "visibility": null,
            "align_self": null,
            "height": null,
            "min_height": null,
            "padding": null,
            "grid_auto_rows": null,
            "grid_gap": null,
            "max_width": null,
            "order": null,
            "_view_module_version": "1.2.0",
            "grid_template_areas": null,
            "object_position": null,
            "object_fit": null,
            "grid_auto_columns": null,
            "margin": null,
            "display": null,
            "left": null
          }
        },
        "ce014d853c324883b9e4d3e0d2ce8c32": {
          "model_module": "@jupyter-widgets/controls",
          "model_name": "DescriptionStyleModel",
          "state": {
            "_view_name": "StyleView",
            "_model_name": "DescriptionStyleModel",
            "description_width": "",
            "_view_module": "@jupyter-widgets/base",
            "_model_module_version": "1.5.0",
            "_view_count": null,
            "_view_module_version": "1.2.0",
            "_model_module": "@jupyter-widgets/controls"
          }
        },
        "78bf050ddd644420b9f672eca8039fe5": {
          "model_module": "@jupyter-widgets/base",
          "model_name": "LayoutModel",
          "state": {
            "_view_name": "LayoutView",
            "grid_template_rows": null,
            "right": null,
            "justify_content": null,
            "_view_module": "@jupyter-widgets/base",
            "overflow": null,
            "_model_module_version": "1.2.0",
            "_view_count": null,
            "flex_flow": null,
            "width": null,
            "min_width": null,
            "border": null,
            "align_items": null,
            "bottom": null,
            "_model_module": "@jupyter-widgets/base",
            "top": null,
            "grid_column": null,
            "overflow_y": null,
            "overflow_x": null,
            "grid_auto_flow": null,
            "grid_area": null,
            "grid_template_columns": null,
            "flex": null,
            "_model_name": "LayoutModel",
            "justify_items": null,
            "grid_row": null,
            "max_height": null,
            "align_content": null,
            "visibility": null,
            "align_self": null,
            "height": null,
            "min_height": null,
            "padding": null,
            "grid_auto_rows": null,
            "grid_gap": null,
            "max_width": null,
            "order": null,
            "_view_module_version": "1.2.0",
            "grid_template_areas": null,
            "object_position": null,
            "object_fit": null,
            "grid_auto_columns": null,
            "margin": null,
            "display": null,
            "left": null
          }
        },
        "834603b782f045dfa274ad6fb129a69f": {
          "model_module": "@jupyter-widgets/controls",
          "model_name": "HBoxModel",
          "state": {
            "_view_name": "HBoxView",
            "_dom_classes": [],
            "_model_name": "HBoxModel",
            "_view_module": "@jupyter-widgets/controls",
            "_model_module_version": "1.5.0",
            "_view_count": null,
            "_view_module_version": "1.5.0",
            "box_style": "",
            "layout": "IPY_MODEL_7d5fd3bb122c48288d0df23643dd78ea",
            "_model_module": "@jupyter-widgets/controls",
            "children": [
              "IPY_MODEL_51d076e1cdfd4eb8909b5c0b22d7dd20",
              "IPY_MODEL_5b7f74559a7a418ea21513afbb4d6804"
            ]
          }
        },
        "7d5fd3bb122c48288d0df23643dd78ea": {
          "model_module": "@jupyter-widgets/base",
          "model_name": "LayoutModel",
          "state": {
            "_view_name": "LayoutView",
            "grid_template_rows": null,
            "right": null,
            "justify_content": null,
            "_view_module": "@jupyter-widgets/base",
            "overflow": null,
            "_model_module_version": "1.2.0",
            "_view_count": null,
            "flex_flow": "row wrap",
            "width": "100%",
            "min_width": null,
            "border": null,
            "align_items": null,
            "bottom": null,
            "_model_module": "@jupyter-widgets/base",
            "top": null,
            "grid_column": null,
            "overflow_y": null,
            "overflow_x": null,
            "grid_auto_flow": null,
            "grid_area": null,
            "grid_template_columns": null,
            "flex": null,
            "_model_name": "LayoutModel",
            "justify_items": null,
            "grid_row": null,
            "max_height": null,
            "align_content": null,
            "visibility": null,
            "align_self": null,
            "height": null,
            "min_height": null,
            "padding": null,
            "grid_auto_rows": null,
            "grid_gap": null,
            "max_width": null,
            "order": null,
            "_view_module_version": "1.2.0",
            "grid_template_areas": null,
            "object_position": null,
            "object_fit": null,
            "grid_auto_columns": null,
            "margin": null,
            "display": "inline-flex",
            "left": null
          }
        },
        "51d076e1cdfd4eb8909b5c0b22d7dd20": {
          "model_module": "@jupyter-widgets/controls",
          "model_name": "FloatProgressModel",
          "state": {
            "_view_name": "ProgressView",
            "style": "IPY_MODEL_4283408da3dc436d8305bfe45a188ce5",
            "_dom_classes": [],
            "description": "Validating: 100%",
            "_model_name": "FloatProgressModel",
            "bar_style": "info",
            "max": 1,
            "_view_module": "@jupyter-widgets/controls",
            "_model_module_version": "1.5.0",
            "value": 1,
            "_view_count": null,
            "_view_module_version": "1.5.0",
            "orientation": "horizontal",
            "min": 0,
            "description_tooltip": null,
            "_model_module": "@jupyter-widgets/controls",
            "layout": "IPY_MODEL_94e43ec091744af29c8f086eaac1261b"
          }
        },
        "5b7f74559a7a418ea21513afbb4d6804": {
          "model_module": "@jupyter-widgets/controls",
          "model_name": "HTMLModel",
          "state": {
            "_view_name": "HTMLView",
            "style": "IPY_MODEL_bf61b25895fb4e80a40947451c9fef2b",
            "_dom_classes": [],
            "description": "",
            "_model_name": "HTMLModel",
            "placeholder": "​",
            "_view_module": "@jupyter-widgets/controls",
            "_model_module_version": "1.5.0",
            "value": " 3/3 [00:06&lt;00:00,  6.67it/s]",
            "_view_count": null,
            "_view_module_version": "1.5.0",
            "description_tooltip": null,
            "_model_module": "@jupyter-widgets/controls",
            "layout": "IPY_MODEL_e0599aa00bde45cb814756feae18446e"
          }
        },
        "4283408da3dc436d8305bfe45a188ce5": {
          "model_module": "@jupyter-widgets/controls",
          "model_name": "ProgressStyleModel",
          "state": {
            "_view_name": "StyleView",
            "_model_name": "ProgressStyleModel",
            "description_width": "initial",
            "_view_module": "@jupyter-widgets/base",
            "_model_module_version": "1.5.0",
            "_view_count": null,
            "_view_module_version": "1.2.0",
            "bar_color": null,
            "_model_module": "@jupyter-widgets/controls"
          }
        },
        "94e43ec091744af29c8f086eaac1261b": {
          "model_module": "@jupyter-widgets/base",
          "model_name": "LayoutModel",
          "state": {
            "_view_name": "LayoutView",
            "grid_template_rows": null,
            "right": null,
            "justify_content": null,
            "_view_module": "@jupyter-widgets/base",
            "overflow": null,
            "_model_module_version": "1.2.0",
            "_view_count": null,
            "flex_flow": null,
            "width": null,
            "min_width": null,
            "border": null,
            "align_items": null,
            "bottom": null,
            "_model_module": "@jupyter-widgets/base",
            "top": null,
            "grid_column": null,
            "overflow_y": null,
            "overflow_x": null,
            "grid_auto_flow": null,
            "grid_area": null,
            "grid_template_columns": null,
            "flex": "2",
            "_model_name": "LayoutModel",
            "justify_items": null,
            "grid_row": null,
            "max_height": null,
            "align_content": null,
            "visibility": null,
            "align_self": null,
            "height": null,
            "min_height": null,
            "padding": null,
            "grid_auto_rows": null,
            "grid_gap": null,
            "max_width": null,
            "order": null,
            "_view_module_version": "1.2.0",
            "grid_template_areas": null,
            "object_position": null,
            "object_fit": null,
            "grid_auto_columns": null,
            "margin": null,
            "display": null,
            "left": null
          }
        },
        "bf61b25895fb4e80a40947451c9fef2b": {
          "model_module": "@jupyter-widgets/controls",
          "model_name": "DescriptionStyleModel",
          "state": {
            "_view_name": "StyleView",
            "_model_name": "DescriptionStyleModel",
            "description_width": "",
            "_view_module": "@jupyter-widgets/base",
            "_model_module_version": "1.5.0",
            "_view_count": null,
            "_view_module_version": "1.2.0",
            "_model_module": "@jupyter-widgets/controls"
          }
        },
        "e0599aa00bde45cb814756feae18446e": {
          "model_module": "@jupyter-widgets/base",
          "model_name": "LayoutModel",
          "state": {
            "_view_name": "LayoutView",
            "grid_template_rows": null,
            "right": null,
            "justify_content": null,
            "_view_module": "@jupyter-widgets/base",
            "overflow": null,
            "_model_module_version": "1.2.0",
            "_view_count": null,
            "flex_flow": null,
            "width": null,
            "min_width": null,
            "border": null,
            "align_items": null,
            "bottom": null,
            "_model_module": "@jupyter-widgets/base",
            "top": null,
            "grid_column": null,
            "overflow_y": null,
            "overflow_x": null,
            "grid_auto_flow": null,
            "grid_area": null,
            "grid_template_columns": null,
            "flex": null,
            "_model_name": "LayoutModel",
            "justify_items": null,
            "grid_row": null,
            "max_height": null,
            "align_content": null,
            "visibility": null,
            "align_self": null,
            "height": null,
            "min_height": null,
            "padding": null,
            "grid_auto_rows": null,
            "grid_gap": null,
            "max_width": null,
            "order": null,
            "_view_module_version": "1.2.0",
            "grid_template_areas": null,
            "object_position": null,
            "object_fit": null,
            "grid_auto_columns": null,
            "margin": null,
            "display": null,
            "left": null
          }
        }
      }
    }
  },
  "cells": [
    {
      "cell_type": "markdown",
      "metadata": {
        "id": "view-in-github",
        "colab_type": "text"
      },
      "source": [
        "<a href=\"https://colab.research.google.com/github/pastrop/kaggle/blob/master/Tabular_data_analysis.ipynb\" target=\"_parent\"><img src=\"https://colab.research.google.com/assets/colab-badge.svg\" alt=\"Open In Colab\"/></a>"
      ]
    },
    {
      "cell_type": "code",
      "metadata": {
        "id": "9d1Dgr3nRV5W"
      },
      "source": [
        "#package for the data profiling\r\n",
        "%%capture\r\n",
        "! pip install https://github.com/pandas-profiling/pandas-profiling/archive/master.zip"
      ],
      "execution_count": null,
      "outputs": []
    },
    {
      "cell_type": "code",
      "metadata": {
        "id": "4_x2JyLtGEwk"
      },
      "source": [
        "#package for encoding categorical predictors\r\n",
        "%%capture\r\n",
        "pip install category_encoders"
      ],
      "execution_count": 9,
      "outputs": []
    },
    {
      "cell_type": "code",
      "metadata": {
        "id": "kPcHlsWsYj1N"
      },
      "source": [
        "#require pip install above\r\n",
        "from pandas_profiling import ProfileReport"
      ],
      "execution_count": null,
      "outputs": []
    },
    {
      "cell_type": "code",
      "metadata": {
        "id": "cgBtc4lvKiWT"
      },
      "source": [
        "import pandas as pd\r\n",
        "import numpy as np\r\n",
        "import matplotlib.pyplot as plt\r\n",
        "import seaborn as sns\r\n",
        "import category_encoders as ce #require pip install above\r\n",
        "from sklearn.model_selection import train_test_split\r\n",
        "from sklearn.preprocessing import StandardScaler, MinMaxScaler"
      ],
      "execution_count": 10,
      "outputs": []
    },
    {
      "cell_type": "markdown",
      "metadata": {
        "id": "TH6nE7r25Vs3"
      },
      "source": [
        "# Data Prep"
      ]
    },
    {
      "cell_type": "markdown",
      "metadata": {
        "id": "5VLkx8Thb_qJ"
      },
      "source": [
        "**Run the utulity functions defined below**\r\n",
        "\r\n",
        "\r\n",
        "\r\n",
        "*   def get_dummies_col(df, col)\r\n",
        "*   def get_hushes(df, cols)\r\n",
        "*   def train_test_split_custom(X,Y)\r\n",
        "\r\n",
        "\r\n",
        "\r\n",
        "\r\n"
      ]
    },
    {
      "cell_type": "code",
      "metadata": {
        "colab": {
          "resources": {
            "http://localhost:8080/nbextensions/google.colab/files.js": {
              "data": "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",
              "ok": true,
              "headers": [
                [
                  "content-type",
                  "application/javascript"
                ]
              ],
              "status": 200,
              "status_text": ""
            }
          },
          "base_uri": "https://localhost:8080/",
          "height": 73
        },
        "id": "h9d2GV20KmNi",
        "outputId": "a565bbd2-71a8-4763-86cd-d28f76793ac9"
      },
      "source": [
        "# file upload while using Google Colab\r\n",
        "from google.colab import files\r\n",
        "uploaded = files.upload()"
      ],
      "execution_count": 3,
      "outputs": [
        {
          "output_type": "display_data",
          "data": {
            "text/html": [
              "\n",
              "     <input type=\"file\" id=\"files-ac7b1197-fae4-4970-bf4d-37d652bc7d77\" name=\"files[]\" multiple disabled\n",
              "        style=\"border:none\" />\n",
              "     <output id=\"result-ac7b1197-fae4-4970-bf4d-37d652bc7d77\">\n",
              "      Upload widget is only available when the cell has been executed in the\n",
              "      current browser session. Please rerun this cell to enable.\n",
              "      </output>\n",
              "      <script src=\"/nbextensions/google.colab/files.js\"></script> "
            ],
            "text/plain": [
              "<IPython.core.display.HTML object>"
            ]
          },
          "metadata": {
            "tags": []
          }
        },
        {
          "output_type": "stream",
          "text": [
            "Saving nomad.csv to nomad.csv\n"
          ],
          "name": "stdout"
        }
      ]
    },
    {
      "cell_type": "code",
      "metadata": {
        "id": "y4bSgsCpKzVg",
        "colab": {
          "base_uri": "https://localhost:8080/",
          "height": 366
        },
        "outputId": "a0af9693-46a0-4f85-8b5d-93234a87891b"
      },
      "source": [
        "# Load Dataframe Test Set: assume nomad.csv as input file name\r\n",
        "df = pd.read_csv('nomad.csv')\r\n",
        "df.head(3)"
      ],
      "execution_count": 4,
      "outputs": [
        {
          "output_type": "execute_result",
          "data": {
            "text/html": [
              "<div>\n",
              "<style scoped>\n",
              "    .dataframe tbody tr th:only-of-type {\n",
              "        vertical-align: middle;\n",
              "    }\n",
              "\n",
              "    .dataframe tbody tr th {\n",
              "        vertical-align: top;\n",
              "    }\n",
              "\n",
              "    .dataframe thead th {\n",
              "        text-align: right;\n",
              "    }\n",
              "</style>\n",
              "<table border=\"1\" class=\"dataframe\">\n",
              "  <thead>\n",
              "    <tr style=\"text-align: right;\">\n",
              "      <th></th>\n",
              "      <th>User  ID</th>\n",
              "      <th>User Registered Date</th>\n",
              "      <th>User Num References</th>\n",
              "      <th>User Num Qualified References</th>\n",
              "      <th>User Num Completed PCLs</th>\n",
              "      <th>User Num State Licenses</th>\n",
              "      <th>User Has Compact License (Yes / No)</th>\n",
              "      <th>User Count Applications Completed last 7 Days</th>\n",
              "      <th>User Count Applications Completed last 30 Days</th>\n",
              "      <th>User Count Applications Completed</th>\n",
              "      <th>User Count Jobs Viewed, last 30 Days</th>\n",
              "      <th>User Certifications</th>\n",
              "      <th>User EHR Systems</th>\n",
              "      <th>User Specialization List</th>\n",
              "      <th>User Age Bucket</th>\n",
              "      <th>User Years Nursing Exp</th>\n",
              "      <th>User Years Travel Exp</th>\n",
              "      <th>User First Application Date</th>\n",
              "      <th>User Last Application Date</th>\n",
              "      <th>User Count Offered</th>\n",
              "    </tr>\n",
              "  </thead>\n",
              "  <tbody>\n",
              "    <tr>\n",
              "      <th>0</th>\n",
              "      <td>5f75431f88dc8fa23a15ba1c</td>\n",
              "      <td>2020-09-30</td>\n",
              "      <td>3</td>\n",
              "      <td>2</td>\n",
              "      <td>1</td>\n",
              "      <td>1</td>\n",
              "      <td>Yes</td>\n",
              "      <td>0.0</td>\n",
              "      <td>0.0</td>\n",
              "      <td>1.0</td>\n",
              "      <td>18</td>\n",
              "      <td>ACLS-BLS</td>\n",
              "      <td>Epic-Matrix AOD</td>\n",
              "      <td>Medical Surgical - Telemetry, Medical-Surgical</td>\n",
              "      <td>35-39</td>\n",
              "      <td>11.0</td>\n",
              "      <td>0.0</td>\n",
              "      <td>2020-10-01</td>\n",
              "      <td>2020-10-01</td>\n",
              "      <td>1</td>\n",
              "    </tr>\n",
              "    <tr>\n",
              "      <th>1</th>\n",
              "      <td>5f75395acc3fc01efb9224c7</td>\n",
              "      <td>2020-09-30</td>\n",
              "      <td>3</td>\n",
              "      <td>2</td>\n",
              "      <td>1</td>\n",
              "      <td>1</td>\n",
              "      <td>Yes</td>\n",
              "      <td>0.0</td>\n",
              "      <td>0.0</td>\n",
              "      <td>1.0</td>\n",
              "      <td>1</td>\n",
              "      <td>ACLS</td>\n",
              "      <td>Cerner-Meditech-Soarian</td>\n",
              "      <td>Medical Surgical - Telemetry, Long Term Care</td>\n",
              "      <td>40s</td>\n",
              "      <td>6.0</td>\n",
              "      <td>0.0</td>\n",
              "      <td>2020-10-07</td>\n",
              "      <td>2020-10-07</td>\n",
              "      <td>0</td>\n",
              "    </tr>\n",
              "    <tr>\n",
              "      <th>2</th>\n",
              "      <td>5f751230008c3f36cc830320</td>\n",
              "      <td>2020-09-30</td>\n",
              "      <td>4</td>\n",
              "      <td>3</td>\n",
              "      <td>3</td>\n",
              "      <td>2</td>\n",
              "      <td>Yes</td>\n",
              "      <td>0.0</td>\n",
              "      <td>0.0</td>\n",
              "      <td>6.0</td>\n",
              "      <td>0</td>\n",
              "      <td>ACLS-BLS-NIHSS</td>\n",
              "      <td>Cerner-Epic-HMS-Meditech</td>\n",
              "      <td>Cardiac ICU, Telemetry, Critical Care, Medical...</td>\n",
              "      <td>35-39</td>\n",
              "      <td>14.0</td>\n",
              "      <td>3.0</td>\n",
              "      <td>2020-09-30</td>\n",
              "      <td>2020-10-14</td>\n",
              "      <td>0</td>\n",
              "    </tr>\n",
              "  </tbody>\n",
              "</table>\n",
              "</div>"
            ],
            "text/plain": [
              "                   User  ID  ... User Count Offered\n",
              "0  5f75431f88dc8fa23a15ba1c  ...                  1\n",
              "1  5f75395acc3fc01efb9224c7  ...                  0\n",
              "2  5f751230008c3f36cc830320  ...                  0\n",
              "\n",
              "[3 rows x 20 columns]"
            ]
          },
          "metadata": {
            "tags": []
          },
          "execution_count": 4
        }
      ]
    },
    {
      "cell_type": "code",
      "metadata": {
        "id": "_FRb_xuOK5S2",
        "colab": {
          "base_uri": "https://localhost:8080/"
        },
        "outputId": "3527bf31-1e8c-4d39-8a6b-5b78c9a09c8f"
      },
      "source": [
        " #Dataframe Stats - Test Set\r\n",
        " print(f'df.shape - {df.shape}')\r\n",
        " #df.describe() "
      ],
      "execution_count": 5,
      "outputs": [
        {
          "output_type": "stream",
          "text": [
            "df.shape - (4813, 20)\n"
          ],
          "name": "stdout"
        }
      ]
    },
    {
      "cell_type": "code",
      "metadata": {
        "colab": {
          "base_uri": "https://localhost:8080/"
        },
        "id": "rSldOxxHLTOO",
        "outputId": "0c038794-3d19-4872-936f-a9394540af5b"
      },
      "source": [
        "# Basic Data Quality Check - Test Set\r\n",
        "df.isnull().sum()"
      ],
      "execution_count": null,
      "outputs": [
        {
          "output_type": "execute_result",
          "data": {
            "text/plain": [
              "User  ID                                            0\n",
              "User Registered Date                                0\n",
              "User Num References                                 0\n",
              "User Num Qualified References                       0\n",
              "User Num Completed PCLs                             0\n",
              "User Num State Licenses                             0\n",
              "User Has Compact License (Yes / No)                 0\n",
              "User Count Applications Completed last 7 Days     179\n",
              "User Count Applications Completed last 30 Days    179\n",
              "User Count Applications Completed                 179\n",
              "User Count Jobs Viewed, last 30 Days                0\n",
              "User Certifications                                 9\n",
              "User EHR Systems                                   22\n",
              "User Specialization List                          376\n",
              "User Age Bucket                                     0\n",
              "User Years Nursing Exp                            115\n",
              "User Years Travel Exp                             564\n",
              "User First Application Date                       180\n",
              "User Last Application Date                        180\n",
              "User Count Offered                                  0\n",
              "dtype: int64"
            ]
          },
          "metadata": {
            "tags": []
          },
          "execution_count": 7
        }
      ]
    },
    {
      "cell_type": "code",
      "metadata": {
        "colab": {
          "base_uri": "https://localhost:8080/"
        },
        "id": "7PTYVZpbNLgI",
        "outputId": "00ca05a3-1819-405b-b878-6a1d5a28214d"
      },
      "source": [
        "# I made a decision to drop all rows with NaN values since it is unclear how to impute those - Test Set\r\n",
        "df_cleaned = df.dropna()\r\n",
        "df_cleaned.shape"
      ],
      "execution_count": 6,
      "outputs": [
        {
          "output_type": "execute_result",
          "data": {
            "text/plain": [
              "(3761, 20)"
            ]
          },
          "metadata": {
            "tags": []
          },
          "execution_count": 6
        }
      ]
    },
    {
      "cell_type": "code",
      "metadata": {
        "id": "TBWeUeWLCKrY"
      },
      "source": [
        "#df_cleaned[df_cleaned['User Count Offered']==1].count()"
      ],
      "execution_count": null,
      "outputs": []
    },
    {
      "cell_type": "code",
      "metadata": {
        "id": "U2zaR3f-SIk5"
      },
      "source": [
        "# Data Profiling for the In-depth Exploration\r\n",
        "#profile = ProfileReport(df_cleaned, title='Data Profiling Report', html={'style':{'full_width':False}})\r\n",
        "#profile.to_notebook_iframe()"
      ],
      "execution_count": null,
      "outputs": []
    },
    {
      "cell_type": "code",
      "metadata": {
        "colab": {
          "base_uri": "https://localhost:8080/"
        },
        "id": "31EfXiTPOuVB",
        "outputId": "7a4e3ae3-6d03-4894-a161-5720ca5392ca"
      },
      "source": [
        "df_cleaned.columns #service code to get a list of column, for cut and paste, not needed for anything else"
      ],
      "execution_count": null,
      "outputs": [
        {
          "output_type": "execute_result",
          "data": {
            "text/plain": [
              "Index(['User  ID', 'User Registered Date', 'User Num References',\n",
              "       'User Num Qualified References', 'User Num Completed PCLs',\n",
              "       'User Num State Licenses', 'User Has Compact License (Yes / No)',\n",
              "       'User Count Applications Completed last 7 Days',\n",
              "       'User Count Applications Completed last 30 Days',\n",
              "       'User Count Applications Completed',\n",
              "       'User Count Jobs Viewed, last 30 Days', 'User Certifications',\n",
              "       'User EHR Systems', 'User Specialization List', 'User Age Bucket',\n",
              "       'User Years Nursing Exp', 'User Years Travel Exp',\n",
              "       'User First Application Date', 'User Last Application Date',\n",
              "       'User Count Offered'],\n",
              "      dtype='object')"
            ]
          },
          "metadata": {
            "tags": []
          },
          "execution_count": 44
        }
      ]
    },
    {
      "cell_type": "code",
      "metadata": {
        "id": "zEtKnTkGJOwj",
        "colab": {
          "base_uri": "https://localhost:8080/"
        },
        "outputId": "89614d72-e717-4be8-9a77-8702edf5142c"
      },
      "source": [
        "# Dataframe of Original Numeric Predictors (dropping all categorical data & target for the follow-up processing):\r\n",
        "X_original = df_cleaned.drop(['User  ID', 'User Registered Date','User Has Compact License (Yes / No)','User Certifications', \r\n",
        "                              'User EHR Systems','User Specialization List','User Age Bucket', 'User First Application Date', \r\n",
        "                              'User Last Application Date','User Count Offered' ], axis=1) \r\n",
        "X_original.shape #sanity check"
      ],
      "execution_count": null,
      "outputs": [
        {
          "output_type": "execute_result",
          "data": {
            "text/plain": [
              "(3761, 10)"
            ]
          },
          "metadata": {
            "tags": []
          },
          "execution_count": 8
        }
      ]
    },
    {
      "cell_type": "code",
      "metadata": {
        "id": "Zq-sEPBnKAC-"
      },
      "source": [
        "#Target Dataframe:\r\n",
        "Y = df_cleaned['User Count Offered']"
      ],
      "execution_count": null,
      "outputs": []
    },
    {
      "cell_type": "code",
      "metadata": {
        "id": "Ari2MChKKVKF"
      },
      "source": [
        "df_dummies = get_dummies_col(df_cleaned, col = 'User Has Compact License (Yes / No)')\r\n",
        "df_hash_encoded = get_hushes(df_cleaned, cols = ['User Certifications', 'User EHR Systems','User Specialization List'])"
      ],
      "execution_count": null,
      "outputs": []
    },
    {
      "cell_type": "code",
      "metadata": {
        "id": "mkyDt-g3UQTo"
      },
      "source": [
        "# new numeric parameters frame\r\n",
        "df_new_variables = pd.concat([df_hash_encoded,df_dummies],axis=1)"
      ],
      "execution_count": null,
      "outputs": []
    },
    {
      "cell_type": "code",
      "metadata": {
        "id": "W1HhxBaxUbWM",
        "colab": {
          "base_uri": "https://localhost:8080/",
          "height": 247
        },
        "outputId": "f95ec53c-21bb-4e00-aeb1-8c249039dc27"
      },
      "source": [
        "# Dataframe of Predictors:\r\n",
        "X = pd.concat([X_original,df_new_variables], axis=1)\r\n",
        "X.head(3)\r\n",
        "# col_0 through Col_7 are the result of hashing 'User Certifications', 'User EHR Systems' and 'User Specialization List'\r\n",
        "# categorical series, those parameters can not be interpreted independentaly, these are embeddings via hashing\r\n",
        "# this element of data paremetrization should be researched further as a part of the feature engineering for the any model \r\n",
        "# planned for Prod"
      ],
      "execution_count": null,
      "outputs": [
        {
          "output_type": "execute_result",
          "data": {
            "text/html": [
              "<div>\n",
              "<style scoped>\n",
              "    .dataframe tbody tr th:only-of-type {\n",
              "        vertical-align: middle;\n",
              "    }\n",
              "\n",
              "    .dataframe tbody tr th {\n",
              "        vertical-align: top;\n",
              "    }\n",
              "\n",
              "    .dataframe thead th {\n",
              "        text-align: right;\n",
              "    }\n",
              "</style>\n",
              "<table border=\"1\" class=\"dataframe\">\n",
              "  <thead>\n",
              "    <tr style=\"text-align: right;\">\n",
              "      <th></th>\n",
              "      <th>User Num References</th>\n",
              "      <th>User Num Qualified References</th>\n",
              "      <th>User Num Completed PCLs</th>\n",
              "      <th>User Num State Licenses</th>\n",
              "      <th>User Count Applications Completed last 7 Days</th>\n",
              "      <th>User Count Applications Completed last 30 Days</th>\n",
              "      <th>User Count Applications Completed</th>\n",
              "      <th>User Count Jobs Viewed, last 30 Days</th>\n",
              "      <th>User Years Nursing Exp</th>\n",
              "      <th>User Years Travel Exp</th>\n",
              "      <th>col_0</th>\n",
              "      <th>col_1</th>\n",
              "      <th>col_2</th>\n",
              "      <th>col_3</th>\n",
              "      <th>col_4</th>\n",
              "      <th>col_5</th>\n",
              "      <th>col_6</th>\n",
              "      <th>col_7</th>\n",
              "      <th>No</th>\n",
              "      <th>Yes</th>\n",
              "    </tr>\n",
              "  </thead>\n",
              "  <tbody>\n",
              "    <tr>\n",
              "      <th>0</th>\n",
              "      <td>3</td>\n",
              "      <td>2</td>\n",
              "      <td>1</td>\n",
              "      <td>1</td>\n",
              "      <td>0.0</td>\n",
              "      <td>0.0</td>\n",
              "      <td>1.0</td>\n",
              "      <td>18</td>\n",
              "      <td>11.0</td>\n",
              "      <td>0.0</td>\n",
              "      <td>1</td>\n",
              "      <td>1</td>\n",
              "      <td>0</td>\n",
              "      <td>0</td>\n",
              "      <td>0</td>\n",
              "      <td>0</td>\n",
              "      <td>0</td>\n",
              "      <td>1</td>\n",
              "      <td>0</td>\n",
              "      <td>1</td>\n",
              "    </tr>\n",
              "    <tr>\n",
              "      <th>1</th>\n",
              "      <td>3</td>\n",
              "      <td>2</td>\n",
              "      <td>1</td>\n",
              "      <td>1</td>\n",
              "      <td>0.0</td>\n",
              "      <td>0.0</td>\n",
              "      <td>1.0</td>\n",
              "      <td>1</td>\n",
              "      <td>6.0</td>\n",
              "      <td>0.0</td>\n",
              "      <td>0</td>\n",
              "      <td>1</td>\n",
              "      <td>0</td>\n",
              "      <td>0</td>\n",
              "      <td>0</td>\n",
              "      <td>0</td>\n",
              "      <td>2</td>\n",
              "      <td>0</td>\n",
              "      <td>0</td>\n",
              "      <td>1</td>\n",
              "    </tr>\n",
              "    <tr>\n",
              "      <th>2</th>\n",
              "      <td>4</td>\n",
              "      <td>3</td>\n",
              "      <td>3</td>\n",
              "      <td>2</td>\n",
              "      <td>0.0</td>\n",
              "      <td>0.0</td>\n",
              "      <td>6.0</td>\n",
              "      <td>0</td>\n",
              "      <td>14.0</td>\n",
              "      <td>3.0</td>\n",
              "      <td>2</td>\n",
              "      <td>1</td>\n",
              "      <td>0</td>\n",
              "      <td>0</td>\n",
              "      <td>0</td>\n",
              "      <td>0</td>\n",
              "      <td>0</td>\n",
              "      <td>0</td>\n",
              "      <td>0</td>\n",
              "      <td>1</td>\n",
              "    </tr>\n",
              "  </tbody>\n",
              "</table>\n",
              "</div>"
            ],
            "text/plain": [
              "   User Num References  User Num Qualified References  ...  No  Yes\n",
              "0                    3                              2  ...   0    1\n",
              "1                    3                              2  ...   0    1\n",
              "2                    4                              3  ...   0    1\n",
              "\n",
              "[3 rows x 20 columns]"
            ]
          },
          "metadata": {
            "tags": []
          },
          "execution_count": 16
        }
      ]
    },
    {
      "cell_type": "code",
      "metadata": {
        "colab": {
          "base_uri": "https://localhost:8080/"
        },
        "id": "eAkGLRn-aA-W",
        "outputId": "e7956094-99b3-4ce3-9391-b8766a0e0d4a"
      },
      "source": [
        "X.shape"
      ],
      "execution_count": null,
      "outputs": [
        {
          "output_type": "execute_result",
          "data": {
            "text/plain": [
              "(3761, 20)"
            ]
          },
          "metadata": {
            "tags": []
          },
          "execution_count": 17
        }
      ]
    },
    {
      "cell_type": "code",
      "metadata": {
        "id": "xnBZ5NtlX103"
      },
      "source": [
        " X_train_rescaled, X_test_rescaled, y_train, y_test = train_test_split_custom(X,Y)"
      ],
      "execution_count": null,
      "outputs": []
    },
    {
      "cell_type": "code",
      "metadata": {
        "colab": {
          "base_uri": "https://localhost:8080/"
        },
        "id": "5gGWtJ7zbRJ0",
        "outputId": "6ac74797-b759-4ed0-8e48-740e9254a7dd"
      },
      "source": [
        "X_train_rescaled.shape # sanity check"
      ],
      "execution_count": null,
      "outputs": [
        {
          "output_type": "execute_result",
          "data": {
            "text/plain": [
              "(3572, 20)"
            ]
          },
          "metadata": {
            "tags": []
          },
          "execution_count": 19
        }
      ]
    },
    {
      "cell_type": "markdown",
      "metadata": {
        "id": "Pc2vtauc5iWt"
      },
      "source": [
        "**Data Prep Findings**\r\n",
        "\r\n",
        "\r\n",
        "*   The Target - 'User Count Offered' appears to  have only 2 classes [0,1].  Therefore the below model is a binary classifier.  It won't be difficult to change it to the multi-class  \r\n",
        "*   The following data series are excluded from the model parameters: 'User  ID', 'User Registered Date' (for obvious reasons, these 2 shouldn't affect the result), 'User Age Bucket' (I hope it doesn't affect the result. if it does,  there is an age-bias in this industry, it is an example of a \"protected variable\", models should in insensitive to it), 'User First Application Date', 'User Last Application Date' (it may be researched further, in a real world scenario, I would talk to the product management to understand how this data may influence the classification, without this knowledge it is not clear to me what is the most appropriate way of casting these parameters into numeric values.  Without this understanding it may skew the results)\r\n",
        "\r\n"
      ]
    },
    {
      "cell_type": "markdown",
      "metadata": {
        "id": "FBn8XpfFYs3e"
      },
      "source": [
        "# Modelling"
      ]
    },
    {
      "cell_type": "code",
      "metadata": {
        "id": "95sd9iYJY0C2"
      },
      "source": [
        "from sklearn import preprocessing\r\n",
        "from sklearn.linear_model import LogisticRegression\r\n",
        "from sklearn.metrics import accuracy_score\r\n",
        "from xgboost import XGBClassifier"
      ],
      "execution_count": null,
      "outputs": []
    },
    {
      "cell_type": "code",
      "metadata": {
        "id": "Gm09W7w7CrRE"
      },
      "source": [
        "# Imports for Kfold cross validation \r\n",
        "from sklearn.model_selection import KFold\r\n",
        "from sklearn.model_selection import cross_val_score"
      ],
      "execution_count": null,
      "outputs": []
    },
    {
      "cell_type": "markdown",
      "metadata": {
        "id": "eRN4Wu8AbQTn"
      },
      "source": [
        "*XGBoost*"
      ]
    },
    {
      "cell_type": "code",
      "metadata": {
        "colab": {
          "base_uri": "https://localhost:8080/"
        },
        "id": "R5L9vWYicHQN",
        "outputId": "5478190c-4ec6-4ea5-8902-3aaccc52a3f1"
      },
      "source": [
        "# fit model to training data\r\n",
        "model_XGB = XGBClassifier()\r\n",
        "model_XGB.fit(X_train_rescaled, y_train)\r\n",
        "# feature importance\r\n",
        "features_xgb = model_XGB.feature_importances_\r\n",
        "print(features_xgb) # Relative importance of the features"
      ],
      "execution_count": null,
      "outputs": [
        {
          "output_type": "stream",
          "text": [
            "[0.0269777  0.16255695 0.07531682 0.03323105 0.0265331  0.01949844\n",
            " 0.28515694 0.09012117 0.02345294 0.0334481  0.02912311 0.03162127\n",
            " 0.01557791 0.03620308 0.01792753 0.0294485  0.02695657 0.01936318\n",
            " 0.01748566 0.        ]\n"
          ],
          "name": "stdout"
        }
      ]
    },
    {
      "cell_type": "code",
      "metadata": {
        "id": "1kqpN9WnRn5b"
      },
      "source": [
        "%matplotlib inline"
      ],
      "execution_count": null,
      "outputs": []
    },
    {
      "cell_type": "code",
      "metadata": {
        "colab": {
          "base_uri": "https://localhost:8080/",
          "height": 295
        },
        "id": "9LKyP9780Z6c",
        "outputId": "f5278a6e-f015-4127-ddb2-4574ed500820"
      },
      "source": [
        "feature_importances = sorted(zip(features_xgb,list(X.columns)), reverse = True)[:5]; feature_importances\r\n",
        "# Plotting Feature Importances\r\n",
        "feature_imp = [item[0] for item in feature_importances]\r\n",
        "feature_imp_index = [item[1] for item in feature_importances]\r\n",
        "sns.barplot(x=feature_imp, y=feature_imp_index)\r\n",
        "# Add labels to your graph\r\n",
        "plt.xlabel('Feature Importance Score')\r\n",
        "plt.ylabel('Features')\r\n",
        "plt.title(\"Visualizing Important Features\")\r\n",
        "#plt.legend()\r\n",
        "plt.show()\r\n",
        "# Features titled as col_X are hashes of the categircal features (see above).  The embedding methods should be tested further \r\n",
        "# for Production models to determine its impact on model performance "
      ],
      "execution_count": null,
      "outputs": [
        {
          "output_type": "display_data",
          "data": {
            "image/png": "[encoded data removed]",
            "text/plain": [
              "<Figure size 432x288 with 1 Axes>"
            ]
          },
          "metadata": {
            "tags": [],
            "needs_background": "light"
          }
        }
      ]
    },
    {
      "cell_type": "markdown",
      "metadata": {
        "id": "2iIL90mySXlp"
      },
      "source": [
        "*Prediction & Accuracy. <br> Preprocess & Scale parameters before running model predictions*"
      ]
    },
    {
      "cell_type": "code",
      "metadata": {
        "colab": {
          "base_uri": "https://localhost:8080/"
        },
        "id": "QGzHOSUr_Kei",
        "outputId": "446e25be-6d0f-4146-940a-2e5c6f0cbaab"
      },
      "source": [
        "# make predictions for test data\r\n",
        "y_pred = model_XGB.predict(X_test_rescaled)\r\n",
        "accuracy = accuracy_score(y_test, y_pred); accuracy"
      ],
      "execution_count": null,
      "outputs": [
        {
          "output_type": "execute_result",
          "data": {
            "text/plain": [
              "0.8465608465608465"
            ]
          },
          "metadata": {
            "tags": []
          },
          "execution_count": 27
        }
      ]
    },
    {
      "cell_type": "markdown",
      "metadata": {
        "id": "t0aB1ubBC6MY"
      },
      "source": [
        "*K-folds Cross Valiation (making sure that 85% accuracy is not too good to be true...)*"
      ]
    },
    {
      "cell_type": "code",
      "metadata": {
        "id": "l8WDv59LDxzP"
      },
      "source": [
        "# Data Prep for K-folds Cross Validation\r\n",
        "scaler = StandardScaler().fit(X.values)\r\n",
        "X_kfolds_rescaled = scaler.transform(X.values)\r\n",
        "\r\n",
        "#X_kfolds_rescaled = scaler.transform(X_with_time.values)\r\n",
        "\r\n",
        "y_kfold = Y.values"
      ],
      "execution_count": null,
      "outputs": []
    },
    {
      "cell_type": "code",
      "metadata": {
        "id": "NdFa4a6NC5Rv"
      },
      "source": [
        "%%capture\r\n",
        "kfold = KFold(n_splits=10, random_state=42)\r\n",
        "results = cross_val_score(model_XGB, X_kfolds_rescaled, y_kfold, cv=kfold)"
      ],
      "execution_count": null,
      "outputs": []
    },
    {
      "cell_type": "code",
      "metadata": {
        "colab": {
          "base_uri": "https://localhost:8080/"
        },
        "id": "oiYBRZT1wP-U",
        "outputId": "8b90c43e-9635-4c5e-cd78-90e740284145"
      },
      "source": [
        "print(\"Accuracy: %.2f%% (%.2f%%)\" % (results.mean()*100, results.std()*100))"
      ],
      "execution_count": null,
      "outputs": [
        {
          "output_type": "stream",
          "text": [
            "Accuracy: 81.86% (6.07%)\n"
          ],
          "name": "stdout"
        }
      ]
    },
    {
      "cell_type": "markdown",
      "metadata": {
        "id": "JSFShOeM8bEC"
      },
      "source": [
        "*Random Forest*"
      ]
    },
    {
      "cell_type": "code",
      "metadata": {
        "id": "YmcrEqwt7mwt"
      },
      "source": [
        "from sklearn.ensemble import RandomForestClassifier"
      ],
      "execution_count": null,
      "outputs": []
    },
    {
      "cell_type": "code",
      "metadata": {
        "colab": {
          "base_uri": "https://localhost:8080/"
        },
        "id": "BE6EwSNU7txX",
        "outputId": "8918c108-58d9-4eaf-9128-f7b91803240e"
      },
      "source": [
        "clf = RandomForestClassifier(max_depth=10, random_state=42)\r\n",
        "clf.fit(X_train_rescaled, y_train)"
      ],
      "execution_count": null,
      "outputs": [
        {
          "output_type": "execute_result",
          "data": {
            "text/plain": [
              "RandomForestClassifier(bootstrap=True, ccp_alpha=0.0, class_weight=None,\n",
              "                       criterion='gini', max_depth=10, max_features='auto',\n",
              "                       max_leaf_nodes=None, max_samples=None,\n",
              "                       min_impurity_decrease=0.0, min_impurity_split=None,\n",
              "                       min_samples_leaf=1, min_samples_split=2,\n",
              "                       min_weight_fraction_leaf=0.0, n_estimators=100,\n",
              "                       n_jobs=None, oob_score=False, random_state=42, verbose=0,\n",
              "                       warm_start=False)"
            ]
          },
          "metadata": {
            "tags": []
          },
          "execution_count": 33
        }
      ]
    },
    {
      "cell_type": "code",
      "metadata": {
        "colab": {
          "base_uri": "https://localhost:8080/"
        },
        "id": "LwhJtnw2DFkT",
        "outputId": "0d7c53f6-f4c5-479a-8f84-b9230db6af6c"
      },
      "source": [
        "y_pred_clf = clf.predict(X_test_rescaled)\r\n",
        "accuracy = accuracy_score(y_test, y_pred_clf); accuracy"
      ],
      "execution_count": null,
      "outputs": [
        {
          "output_type": "execute_result",
          "data": {
            "text/plain": [
              "0.8518518518518519"
            ]
          },
          "metadata": {
            "tags": []
          },
          "execution_count": 34
        }
      ]
    },
    {
      "cell_type": "code",
      "metadata": {
        "colab": {
          "base_uri": "https://localhost:8080/"
        },
        "id": "syXhUqyyENZh",
        "outputId": "4a0ea259-8363-448c-a094-7485cb53f305"
      },
      "source": [
        "# feature importance\r\n",
        "features_clf = clf.feature_importances_\r\n",
        "print(features_clf) # Relative importance of the features"
      ],
      "execution_count": null,
      "outputs": [
        {
          "output_type": "stream",
          "text": [
            "[0.05582591 0.11999596 0.11338952 0.03429352 0.00680144 0.031601\n",
            " 0.28782463 0.11379947 0.05573012 0.04315291 0.01527735 0.0150033\n",
            " 0.01773135 0.01694974 0.0144776  0.01362007 0.01648423 0.01424182\n",
            " 0.00617282 0.00762722]\n"
          ],
          "name": "stdout"
        }
      ]
    },
    {
      "cell_type": "code",
      "metadata": {
        "colab": {
          "base_uri": "https://localhost:8080/",
          "height": 295
        },
        "id": "_7IFrvwgEemo",
        "outputId": "6cf852ee-11a9-4dde-f3af-b4d995b2464d"
      },
      "source": [
        "feature_importances = sorted(zip(features_clf,list(X.columns)), reverse = True)[:5]; feature_importances\r\n",
        "# Plotting Feature Importances\r\n",
        "feature_imp = [item[0] for item in feature_importances]\r\n",
        "feature_imp_index = [item[1] for item in feature_importances]\r\n",
        "sns.barplot(x=feature_imp, y=feature_imp_index)\r\n",
        "# Add labels to your graph\r\n",
        "plt.xlabel('Feature Importance Score')\r\n",
        "plt.ylabel('Features')\r\n",
        "plt.title(\"Visualizing Important Features\")#plt.legend()\r\n",
        "plt.show()\r\n",
        "# Features titled as col_X are hashes of the categircal features (see above).  The embedding methods should be tested further \r\n",
        "# for Production models to determine its impact on model performance "
      ],
      "execution_count": null,
      "outputs": [
        {
          "output_type": "display_data",
          "data": {
            "image/png": "[encoded data removed]",
            "text/plain": [
              "<Figure size 432x288 with 1 Axes>"
            ]
          },
          "metadata": {
            "tags": [],
            "needs_background": "light"
          }
        }
      ]
    },
    {
      "cell_type": "markdown",
      "metadata": {
        "id": "4h3WxIdVZYTA"
      },
      "source": [
        "# Processing the Validation Dataset"
      ]
    },
    {
      "cell_type": "code",
      "metadata": {
        "id": "FSalqaoTC-O5"
      },
      "source": [
        "# Load Dataframe Validation Set: assume nomad.csv as input file name\r\n",
        "df_val = pd.read_csv('Validation _ Q4_2020.csv')"
      ],
      "execution_count": null,
      "outputs": []
    },
    {
      "cell_type": "code",
      "metadata": {
        "colab": {
          "base_uri": "https://localhost:8080/",
          "height": 365
        },
        "id": "zWSAaK56EUzv",
        "outputId": "c588ad65-5299-4785-c47c-1fab50106ba9"
      },
      "source": [
        " #Dataframe Stats - Validation Set\r\n",
        " df_val=df_val.drop(['User Count Offered'],axis = 1)\r\n",
        " print(f'df.shape - {df_val.shape}')\r\n",
        " df_val.describe()"
      ],
      "execution_count": null,
      "outputs": [
        {
          "output_type": "stream",
          "text": [
            "df.shape - (479, 19)\n"
          ],
          "name": "stdout"
        },
        {
          "output_type": "execute_result",
          "data": {
            "text/html": [
              "<div>\n",
              "<style scoped>\n",
              "    .dataframe tbody tr th:only-of-type {\n",
              "        vertical-align: middle;\n",
              "    }\n",
              "\n",
              "    .dataframe tbody tr th {\n",
              "        vertical-align: top;\n",
              "    }\n",
              "\n",
              "    .dataframe thead th {\n",
              "        text-align: right;\n",
              "    }\n",
              "</style>\n",
              "<table border=\"1\" class=\"dataframe\">\n",
              "  <thead>\n",
              "    <tr style=\"text-align: right;\">\n",
              "      <th></th>\n",
              "      <th>User Num References</th>\n",
              "      <th>User Num Qualified References</th>\n",
              "      <th>User Num Completed PCLs</th>\n",
              "      <th>User Num State Licenses</th>\n",
              "      <th>User Count Applications Completed last 7 Days</th>\n",
              "      <th>User Count Applications Completed last 30 Days</th>\n",
              "      <th>User Count Applications Completed</th>\n",
              "      <th>User Count Jobs Viewed, last 30 Days</th>\n",
              "      <th>User Years Nursing Exp</th>\n",
              "      <th>User Years Travel Exp</th>\n",
              "    </tr>\n",
              "  </thead>\n",
              "  <tbody>\n",
              "    <tr>\n",
              "      <th>count</th>\n",
              "      <td>479.000000</td>\n",
              "      <td>479.000000</td>\n",
              "      <td>479.000000</td>\n",
              "      <td>479.000000</td>\n",
              "      <td>457.000000</td>\n",
              "      <td>457.000000</td>\n",
              "      <td>457.000000</td>\n",
              "      <td>479.000000</td>\n",
              "      <td>460.000000</td>\n",
              "      <td>421.000000</td>\n",
              "    </tr>\n",
              "    <tr>\n",
              "      <th>mean</th>\n",
              "      <td>3.482255</td>\n",
              "      <td>1.812109</td>\n",
              "      <td>0.931106</td>\n",
              "      <td>1.405010</td>\n",
              "      <td>0.048140</td>\n",
              "      <td>1.017505</td>\n",
              "      <td>2.671772</td>\n",
              "      <td>3.716075</td>\n",
              "      <td>12.334783</td>\n",
              "      <td>1.123515</td>\n",
              "    </tr>\n",
              "    <tr>\n",
              "      <th>std</th>\n",
              "      <td>0.939152</td>\n",
              "      <td>1.191927</td>\n",
              "      <td>0.949264</td>\n",
              "      <td>1.780548</td>\n",
              "      <td>0.340732</td>\n",
              "      <td>2.009768</td>\n",
              "      <td>2.959065</td>\n",
              "      <td>6.906941</td>\n",
              "      <td>93.559651</td>\n",
              "      <td>1.873104</td>\n",
              "    </tr>\n",
              "    <tr>\n",
              "      <th>min</th>\n",
              "      <td>3.000000</td>\n",
              "      <td>0.000000</td>\n",
              "      <td>0.000000</td>\n",
              "      <td>0.000000</td>\n",
              "      <td>0.000000</td>\n",
              "      <td>0.000000</td>\n",
              "      <td>1.000000</td>\n",
              "      <td>0.000000</td>\n",
              "      <td>1.000000</td>\n",
              "      <td>0.000000</td>\n",
              "    </tr>\n",
              "    <tr>\n",
              "      <th>25%</th>\n",
              "      <td>3.000000</td>\n",
              "      <td>1.000000</td>\n",
              "      <td>0.000000</td>\n",
              "      <td>1.000000</td>\n",
              "      <td>0.000000</td>\n",
              "      <td>0.000000</td>\n",
              "      <td>1.000000</td>\n",
              "      <td>0.000000</td>\n",
              "      <td>3.000000</td>\n",
              "      <td>0.000000</td>\n",
              "    </tr>\n",
              "    <tr>\n",
              "      <th>50%</th>\n",
              "      <td>3.000000</td>\n",
              "      <td>2.000000</td>\n",
              "      <td>1.000000</td>\n",
              "      <td>1.000000</td>\n",
              "      <td>0.000000</td>\n",
              "      <td>0.000000</td>\n",
              "      <td>1.000000</td>\n",
              "      <td>1.000000</td>\n",
              "      <td>6.000000</td>\n",
              "      <td>0.000000</td>\n",
              "    </tr>\n",
              "    <tr>\n",
              "      <th>75%</th>\n",
              "      <td>4.000000</td>\n",
              "      <td>3.000000</td>\n",
              "      <td>1.000000</td>\n",
              "      <td>1.000000</td>\n",
              "      <td>0.000000</td>\n",
              "      <td>1.000000</td>\n",
              "      <td>3.000000</td>\n",
              "      <td>5.000000</td>\n",
              "      <td>10.000000</td>\n",
              "      <td>1.000000</td>\n",
              "    </tr>\n",
              "    <tr>\n",
              "      <th>max</th>\n",
              "      <td>11.000000</td>\n",
              "      <td>6.000000</td>\n",
              "      <td>8.000000</td>\n",
              "      <td>36.000000</td>\n",
              "      <td>5.000000</td>\n",
              "      <td>14.000000</td>\n",
              "      <td>27.000000</td>\n",
              "      <td>54.000000</td>\n",
              "      <td>2009.000000</td>\n",
              "      <td>14.000000</td>\n",
              "    </tr>\n",
              "  </tbody>\n",
              "</table>\n",
              "</div>"
            ],
            "text/plain": [
              "       User Num References  ...  User Years Travel Exp\n",
              "count           479.000000  ...             421.000000\n",
              "mean              3.482255  ...               1.123515\n",
              "std               0.939152  ...               1.873104\n",
              "min               3.000000  ...               0.000000\n",
              "25%               3.000000  ...               0.000000\n",
              "50%               3.000000  ...               0.000000\n",
              "75%               4.000000  ...               1.000000\n",
              "max              11.000000  ...              14.000000\n",
              "\n",
              "[8 rows x 10 columns]"
            ]
          },
          "metadata": {
            "tags": []
          },
          "execution_count": 93
        }
      ]
    },
    {
      "cell_type": "code",
      "metadata": {
        "colab": {
          "base_uri": "https://localhost:8080/"
        },
        "id": "KQYWYBleUSzY",
        "outputId": "e72a4b5c-4ded-4f98-d431-abbfe05ba1d3"
      },
      "source": [
        "# Basic Data Quality Check - Test Set\r\n",
        "df_val.isnull().sum()"
      ],
      "execution_count": null,
      "outputs": [
        {
          "output_type": "execute_result",
          "data": {
            "text/plain": [
              "User  ID                                           0\n",
              "User Registered Date                               0\n",
              "User Num References                                0\n",
              "User Num Qualified References                      0\n",
              "User Num Completed PCLs                            0\n",
              "User Num State Licenses                            0\n",
              "User Has Compact License (Yes / No)                0\n",
              "User Count Applications Completed last 7 Days     22\n",
              "User Count Applications Completed last 30 Days    22\n",
              "User Count Applications Completed                 22\n",
              "User Count Jobs Viewed, last 30 Days               0\n",
              "User Certifications                                2\n",
              "User EHR Systems                                   1\n",
              "User Specialization List                          74\n",
              "User Age Bucket                                    0\n",
              "User Years Nursing Exp                            19\n",
              "User Years Travel Exp                             58\n",
              "User First Application Date                       22\n",
              "User Last Application Date                        22\n",
              "dtype: int64"
            ]
          },
          "metadata": {
            "tags": []
          },
          "execution_count": 94
        }
      ]
    },
    {
      "cell_type": "code",
      "metadata": {
        "colab": {
          "base_uri": "https://localhost:8080/"
        },
        "id": "RqJ0iVbEUcPh",
        "outputId": "0a68cd05-dd07-4d75-f987-794521ffa22e"
      },
      "source": [
        "# I made a decision to drop all rows with NaN values since it is unclear how to impute those Valdation Set\r\n",
        "df_val_cleaned = df_val.dropna()\r\n",
        "df_val_cleaned.shape"
      ],
      "execution_count": null,
      "outputs": [
        {
          "output_type": "execute_result",
          "data": {
            "text/plain": [
              "(332, 19)"
            ]
          },
          "metadata": {
            "tags": []
          },
          "execution_count": 95
        }
      ]
    },
    {
      "cell_type": "code",
      "metadata": {
        "colab": {
          "base_uri": "https://localhost:8080/",
          "height": 332
        },
        "id": "fzGN_rSAZmCl",
        "outputId": "35c7aad9-c5bb-48ad-80d0-04937c21d1a5"
      },
      "source": [
        "df_val_cleaned.head(3)"
      ],
      "execution_count": null,
      "outputs": [
        {
          "output_type": "execute_result",
          "data": {
            "text/html": [
              "<div>\n",
              "<style scoped>\n",
              "    .dataframe tbody tr th:only-of-type {\n",
              "        vertical-align: middle;\n",
              "    }\n",
              "\n",
              "    .dataframe tbody tr th {\n",
              "        vertical-align: top;\n",
              "    }\n",
              "\n",
              "    .dataframe thead th {\n",
              "        text-align: right;\n",
              "    }\n",
              "</style>\n",
              "<table border=\"1\" class=\"dataframe\">\n",
              "  <thead>\n",
              "    <tr style=\"text-align: right;\">\n",
              "      <th></th>\n",
              "      <th>User  ID</th>\n",
              "      <th>User Registered Date</th>\n",
              "      <th>User Num References</th>\n",
              "      <th>User Num Qualified References</th>\n",
              "      <th>User Num Completed PCLs</th>\n",
              "      <th>User Num State Licenses</th>\n",
              "      <th>User Has Compact License (Yes / No)</th>\n",
              "      <th>User Count Applications Completed last 7 Days</th>\n",
              "      <th>User Count Applications Completed last 30 Days</th>\n",
              "      <th>User Count Applications Completed</th>\n",
              "      <th>User Count Jobs Viewed, last 30 Days</th>\n",
              "      <th>User Certifications</th>\n",
              "      <th>User EHR Systems</th>\n",
              "      <th>User Specialization List</th>\n",
              "      <th>User Age Bucket</th>\n",
              "      <th>User Years Nursing Exp</th>\n",
              "      <th>User Years Travel Exp</th>\n",
              "      <th>User First Application Date</th>\n",
              "      <th>User Last Application Date</th>\n",
              "    </tr>\n",
              "  </thead>\n",
              "  <tbody>\n",
              "    <tr>\n",
              "      <th>0</th>\n",
              "      <td>5fb0706c76c4db4bc50a5341</td>\n",
              "      <td>2020-11-14</td>\n",
              "      <td>4</td>\n",
              "      <td>3</td>\n",
              "      <td>1</td>\n",
              "      <td>1</td>\n",
              "      <td>Yes</td>\n",
              "      <td>0.0</td>\n",
              "      <td>3.0</td>\n",
              "      <td>3.0</td>\n",
              "      <td>3</td>\n",
              "      <td>ACLS-BLS</td>\n",
              "      <td>Cerner-Meditech</td>\n",
              "      <td>Medical Surgical - Telemetry</td>\n",
              "      <td>35-39</td>\n",
              "      <td>11.0</td>\n",
              "      <td>1.0</td>\n",
              "      <td>2020-11-14</td>\n",
              "      <td>2020-11-24</td>\n",
              "    </tr>\n",
              "    <tr>\n",
              "      <th>1</th>\n",
              "      <td>5fafdb72c636ae9a743d0868</td>\n",
              "      <td>2020-11-14</td>\n",
              "      <td>4</td>\n",
              "      <td>3</td>\n",
              "      <td>1</td>\n",
              "      <td>1</td>\n",
              "      <td>No</td>\n",
              "      <td>0.0</td>\n",
              "      <td>1.0</td>\n",
              "      <td>1.0</td>\n",
              "      <td>12</td>\n",
              "      <td>ACLS-BLS-PALS</td>\n",
              "      <td>Epic-Meditech</td>\n",
              "      <td>Medical Surgical - Telemetry, Step-Down</td>\n",
              "      <td>Minus 25</td>\n",
              "      <td>1.0</td>\n",
              "      <td>0.0</td>\n",
              "      <td>2020-11-14</td>\n",
              "      <td>2020-11-14</td>\n",
              "    </tr>\n",
              "    <tr>\n",
              "      <th>2</th>\n",
              "      <td>5faf7dba0db563f8031a975b</td>\n",
              "      <td>2020-11-14</td>\n",
              "      <td>3</td>\n",
              "      <td>1</td>\n",
              "      <td>0</td>\n",
              "      <td>1</td>\n",
              "      <td>Yes</td>\n",
              "      <td>0.0</td>\n",
              "      <td>1.0</td>\n",
              "      <td>1.0</td>\n",
              "      <td>5</td>\n",
              "      <td>ACLS</td>\n",
              "      <td>Cerner</td>\n",
              "      <td>Step-Down, Medical-Surgical, Intermediate Care</td>\n",
              "      <td>30-34</td>\n",
              "      <td>1.0</td>\n",
              "      <td>0.0</td>\n",
              "      <td>2020-11-14</td>\n",
              "      <td>2020-11-14</td>\n",
              "    </tr>\n",
              "  </tbody>\n",
              "</table>\n",
              "</div>"
            ],
            "text/plain": [
              "                   User  ID  ... User Last Application Date\n",
              "0  5fb0706c76c4db4bc50a5341  ...                 2020-11-24\n",
              "1  5fafdb72c636ae9a743d0868  ...                 2020-11-14\n",
              "2  5faf7dba0db563f8031a975b  ...                 2020-11-14\n",
              "\n",
              "[3 rows x 19 columns]"
            ]
          },
          "metadata": {
            "tags": []
          },
          "execution_count": 96
        }
      ]
    },
    {
      "cell_type": "markdown",
      "metadata": {
        "id": "veXR38g2bgeD"
      },
      "source": [
        "**Validation Data Prep**"
      ]
    },
    {
      "cell_type": "code",
      "metadata": {
        "id": "L8M8Wtd2bnea"
      },
      "source": [
        "# Dataframe of Original Numeric Predictors (dropping all categorical data & target for the follow-up processing) - Validation Set:\r\n",
        "X_original_val = df_val_cleaned.drop(['User  ID', 'User Registered Date','User Has Compact License (Yes / No)','User Certifications', \r\n",
        "                              'User EHR Systems','User Specialization List','User Age Bucket', 'User First Application Date', \r\n",
        "                              'User Last Application Date'], axis=1) "
      ],
      "execution_count": null,
      "outputs": []
    },
    {
      "cell_type": "code",
      "metadata": {
        "colab": {
          "base_uri": "https://localhost:8080/"
        },
        "id": "62hb_JEfkv8y",
        "outputId": "491d0bcf-dbc9-443f-ec3f-2486242e9ce5"
      },
      "source": [
        "X_original_val.shape"
      ],
      "execution_count": null,
      "outputs": [
        {
          "output_type": "execute_result",
          "data": {
            "text/plain": [
              "(332, 10)"
            ]
          },
          "metadata": {
            "tags": []
          },
          "execution_count": 106
        }
      ]
    },
    {
      "cell_type": "code",
      "metadata": {
        "id": "kv8dt0zpbtib"
      },
      "source": [
        "df_dummies_val = get_dummies_col(df_val_cleaned, col = 'User Has Compact License (Yes / No)')\r\n",
        "df_hash_encoded_val = get_hushes(df_val_cleaned, cols = ['User Certifications', 'User EHR Systems','User Specialization List'])\r\n",
        "df_new_variables_val = pd.concat([df_hash_encoded_val,df_dummies_val],axis=1)"
      ],
      "execution_count": null,
      "outputs": []
    },
    {
      "cell_type": "code",
      "metadata": {
        "colab": {
          "base_uri": "https://localhost:8080/",
          "height": 247
        },
        "id": "LycXYZw8dq_j",
        "outputId": "be96a13e-df29-45ea-e9d4-f985ab39d8f3"
      },
      "source": [
        "# Dataframe of Predictors - Validation Set:\r\n",
        "X_val = pd.concat([X_original_val,df_new_variables_val], axis=1)\r\n",
        "X_val.head(3)\r\n",
        "# col_0 through Col_7 are the result of hashing 'User Certifications', 'User EHR Systems' and 'User Specialization List'\r\n",
        "# categorical series, those parameters can not be interpreted independentaly, these are embeddings via hashing\r\n",
        "# this element of data paremetrization should be researched further as a part of the feature engineering for the any model \r\n",
        "# planned for Prod"
      ],
      "execution_count": null,
      "outputs": [
        {
          "output_type": "execute_result",
          "data": {
            "text/html": [
              "<div>\n",
              "<style scoped>\n",
              "    .dataframe tbody tr th:only-of-type {\n",
              "        vertical-align: middle;\n",
              "    }\n",
              "\n",
              "    .dataframe tbody tr th {\n",
              "        vertical-align: top;\n",
              "    }\n",
              "\n",
              "    .dataframe thead th {\n",
              "        text-align: right;\n",
              "    }\n",
              "</style>\n",
              "<table border=\"1\" class=\"dataframe\">\n",
              "  <thead>\n",
              "    <tr style=\"text-align: right;\">\n",
              "      <th></th>\n",
              "      <th>User Num References</th>\n",
              "      <th>User Num Qualified References</th>\n",
              "      <th>User Num Completed PCLs</th>\n",
              "      <th>User Num State Licenses</th>\n",
              "      <th>User Count Applications Completed last 7 Days</th>\n",
              "      <th>User Count Applications Completed last 30 Days</th>\n",
              "      <th>User Count Applications Completed</th>\n",
              "      <th>User Count Jobs Viewed, last 30 Days</th>\n",
              "      <th>User Years Nursing Exp</th>\n",
              "      <th>User Years Travel Exp</th>\n",
              "      <th>col_0</th>\n",
              "      <th>col_1</th>\n",
              "      <th>col_2</th>\n",
              "      <th>col_3</th>\n",
              "      <th>col_4</th>\n",
              "      <th>col_5</th>\n",
              "      <th>col_6</th>\n",
              "      <th>col_7</th>\n",
              "      <th>No</th>\n",
              "      <th>Yes</th>\n",
              "    </tr>\n",
              "  </thead>\n",
              "  <tbody>\n",
              "    <tr>\n",
              "      <th>0</th>\n",
              "      <td>4</td>\n",
              "      <td>3</td>\n",
              "      <td>1</td>\n",
              "      <td>1</td>\n",
              "      <td>0.0</td>\n",
              "      <td>3.0</td>\n",
              "      <td>3.0</td>\n",
              "      <td>3</td>\n",
              "      <td>11.0</td>\n",
              "      <td>1.0</td>\n",
              "      <td>0</td>\n",
              "      <td>0</td>\n",
              "      <td>1</td>\n",
              "      <td>1</td>\n",
              "      <td>0</td>\n",
              "      <td>0</td>\n",
              "      <td>0</td>\n",
              "      <td>1</td>\n",
              "      <td>0</td>\n",
              "      <td>1</td>\n",
              "    </tr>\n",
              "    <tr>\n",
              "      <th>1</th>\n",
              "      <td>4</td>\n",
              "      <td>3</td>\n",
              "      <td>1</td>\n",
              "      <td>1</td>\n",
              "      <td>0.0</td>\n",
              "      <td>1.0</td>\n",
              "      <td>1.0</td>\n",
              "      <td>12</td>\n",
              "      <td>1.0</td>\n",
              "      <td>0.0</td>\n",
              "      <td>1</td>\n",
              "      <td>0</td>\n",
              "      <td>0</td>\n",
              "      <td>1</td>\n",
              "      <td>0</td>\n",
              "      <td>0</td>\n",
              "      <td>1</td>\n",
              "      <td>0</td>\n",
              "      <td>1</td>\n",
              "      <td>0</td>\n",
              "    </tr>\n",
              "    <tr>\n",
              "      <th>2</th>\n",
              "      <td>3</td>\n",
              "      <td>1</td>\n",
              "      <td>0</td>\n",
              "      <td>1</td>\n",
              "      <td>0.0</td>\n",
              "      <td>1.0</td>\n",
              "      <td>1.0</td>\n",
              "      <td>5</td>\n",
              "      <td>1.0</td>\n",
              "      <td>0.0</td>\n",
              "      <td>0</td>\n",
              "      <td>0</td>\n",
              "      <td>1</td>\n",
              "      <td>0</td>\n",
              "      <td>0</td>\n",
              "      <td>0</td>\n",
              "      <td>2</td>\n",
              "      <td>0</td>\n",
              "      <td>0</td>\n",
              "      <td>1</td>\n",
              "    </tr>\n",
              "  </tbody>\n",
              "</table>\n",
              "</div>"
            ],
            "text/plain": [
              "   User Num References  User Num Qualified References  ...  No  Yes\n",
              "0                    4                              3  ...   0    1\n",
              "1                    4                              3  ...   1    0\n",
              "2                    3                              1  ...   0    1\n",
              "\n",
              "[3 rows x 20 columns]"
            ]
          },
          "metadata": {
            "tags": []
          },
          "execution_count": 113
        }
      ]
    },
    {
      "cell_type": "code",
      "metadata": {
        "id": "at7oGUrpfWn_"
      },
      "source": [
        "# Data Prep for K-folds Cross Validation\r\n",
        "# the scaler is trained on the test set under the assumption that the validation set probability distrbution is the same\r\n",
        "# as the training set so,  there is no data drft\r\n",
        "scaler = StandardScaler().fit(X.values)  \r\n",
        "X_val_rescaled = scaler.transform(X_val.values)"
      ],
      "execution_count": null,
      "outputs": []
    },
    {
      "cell_type": "code",
      "metadata": {
        "colab": {
          "base_uri": "https://localhost:8080/"
        },
        "id": "TBePQbLkiSIr",
        "outputId": "915c5e9f-ca11-4849-a4bf-3b7833675a5a"
      },
      "source": [
        "X_val_rescaled.shape"
      ],
      "execution_count": null,
      "outputs": [
        {
          "output_type": "execute_result",
          "data": {
            "text/plain": [
              "(332, 20)"
            ]
          },
          "metadata": {
            "tags": []
          },
          "execution_count": 115
        }
      ]
    },
    {
      "cell_type": "code",
      "metadata": {
        "colab": {
          "base_uri": "https://localhost:8080/"
        },
        "id": "STqIaV4zlvdj",
        "outputId": "0175cf91-b69b-4dab-ed8b-11fa54c685cb"
      },
      "source": [
        "y_pred_validation = model_XGB.predict(X_val_rescaled); y_pred_validation"
      ],
      "execution_count": null,
      "outputs": [
        {
          "output_type": "execute_result",
          "data": {
            "text/plain": [
              "array([0, 0, 0, 0, 1, 0, 0, 0, 0, 1, 0, 0, 0, 0, 0, 0, 0, 0, 0, 0, 0, 1,\n",
              "       0, 0, 0, 1, 1, 0, 0, 0, 0, 0, 0, 1, 0, 0, 0, 0, 0, 1, 0, 0, 0, 0,\n",
              "       0, 0, 0, 0, 0, 1, 0, 0, 0, 0, 0, 0, 0, 1, 0, 0, 0, 0, 0, 0, 0, 0,\n",
              "       0, 0, 0, 0, 0, 1, 1, 0, 0, 0, 0, 0, 0, 1, 1, 0, 0, 0, 0, 0, 0, 0,\n",
              "       0, 0, 0, 0, 0, 0, 0, 0, 0, 0, 0, 0, 0, 0, 0, 0, 0, 0, 0, 0, 0, 0,\n",
              "       0, 0, 0, 1, 0, 0, 0, 0, 1, 0, 0, 0, 0, 0, 0, 0, 0, 0, 0, 0, 0, 1,\n",
              "       0, 0, 0, 0, 0, 0, 0, 0, 0, 0, 0, 0, 0, 0, 0, 1, 0, 0, 0, 0, 0, 0,\n",
              "       0, 0, 0, 0, 0, 0, 0, 0, 0, 0, 0, 0, 0, 0, 0, 0, 0, 0, 0, 0, 0, 0,\n",
              "       0, 0, 0, 0, 0, 0, 1, 0, 0, 0, 0, 0, 0, 0, 0, 0, 0, 0, 0, 0, 0, 1,\n",
              "       0, 1, 0, 0, 0, 0, 0, 0, 0, 0, 0, 0, 0, 0, 0, 0, 0, 0, 0, 0, 0, 0,\n",
              "       0, 0, 0, 0, 0, 0, 0, 0, 0, 0, 0, 0, 0, 0, 0, 0, 0, 0, 0, 0, 0, 1,\n",
              "       0, 0, 0, 0, 0, 0, 0, 1, 1, 0, 0, 0, 0, 0, 0, 0, 0, 0, 0, 0, 0, 0,\n",
              "       0, 0, 0, 0, 0, 0, 0, 0, 0, 0, 0, 0, 0, 0, 0, 0, 0, 0, 1, 0, 0, 0,\n",
              "       0, 0, 0, 0, 0, 0, 0, 0, 0, 0, 0, 1, 0, 0, 0, 0, 0, 0, 0, 0, 0, 0,\n",
              "       0, 0, 0, 0, 0, 0, 0, 0, 0, 1, 1, 0, 0, 0, 0, 0, 0, 0, 0, 0, 0, 0,\n",
              "       0, 0])"
            ]
          },
          "metadata": {
            "tags": []
          },
          "execution_count": 117
        }
      ]
    },
    {
      "cell_type": "code",
      "metadata": {
        "id": "HviudUdFrr6s",
        "colab": {
          "base_uri": "https://localhost:8080/"
        },
        "outputId": "6863c88c-4473-40d8-b1a4-e9b047b7afcc"
      },
      "source": [
        "y_pred_validation_clf = clf.predict(X_val_rescaled); y_pred_validation_clf"
      ],
      "execution_count": null,
      "outputs": [
        {
          "output_type": "execute_result",
          "data": {
            "text/plain": [
              "array([0, 0, 0, 0, 1, 0, 0, 0, 0, 1, 0, 0, 0, 0, 0, 0, 0, 0, 0, 0, 0, 0,\n",
              "       0, 0, 0, 0, 1, 0, 0, 0, 0, 0, 0, 1, 0, 0, 0, 0, 0, 1, 0, 0, 0, 0,\n",
              "       0, 0, 0, 0, 0, 1, 0, 1, 0, 0, 0, 0, 0, 1, 0, 0, 0, 0, 0, 0, 0, 0,\n",
              "       0, 0, 0, 0, 0, 1, 1, 0, 0, 0, 0, 0, 0, 1, 0, 0, 0, 0, 0, 0, 0, 0,\n",
              "       0, 0, 0, 0, 0, 0, 0, 0, 0, 0, 0, 1, 0, 0, 0, 0, 0, 0, 0, 0, 0, 0,\n",
              "       0, 0, 0, 1, 0, 0, 0, 0, 1, 0, 0, 0, 0, 0, 0, 0, 0, 0, 0, 0, 0, 1,\n",
              "       0, 0, 0, 0, 0, 0, 0, 0, 0, 0, 0, 0, 0, 0, 0, 1, 0, 0, 0, 0, 0, 0,\n",
              "       0, 0, 1, 0, 0, 0, 0, 0, 0, 0, 0, 0, 0, 0, 0, 0, 0, 0, 0, 0, 0, 0,\n",
              "       0, 0, 0, 0, 0, 0, 0, 0, 0, 0, 0, 0, 0, 0, 0, 0, 0, 0, 0, 0, 0, 0,\n",
              "       0, 1, 0, 0, 0, 0, 0, 0, 0, 0, 0, 0, 0, 0, 0, 0, 0, 0, 0, 0, 0, 0,\n",
              "       0, 0, 0, 0, 0, 0, 0, 0, 0, 0, 0, 0, 0, 0, 0, 0, 0, 0, 0, 0, 0, 1,\n",
              "       0, 0, 0, 0, 0, 1, 0, 1, 1, 0, 0, 0, 0, 0, 0, 0, 0, 0, 0, 0, 0, 0,\n",
              "       0, 0, 0, 0, 0, 0, 0, 0, 0, 0, 0, 0, 0, 0, 0, 0, 0, 0, 0, 0, 0, 0,\n",
              "       0, 0, 0, 0, 0, 0, 0, 0, 0, 0, 0, 1, 0, 0, 0, 0, 0, 0, 0, 0, 0, 0,\n",
              "       0, 0, 0, 0, 0, 0, 1, 0, 0, 1, 1, 0, 0, 0, 0, 0, 0, 0, 0, 0, 0, 0,\n",
              "       0, 0])"
            ]
          },
          "metadata": {
            "tags": []
          },
          "execution_count": 118
        }
      ]
    },
    {
      "cell_type": "code",
      "metadata": {
        "id": "CR4yLRVMsj5w",
        "colab": {
          "base_uri": "https://localhost:8080/"
        },
        "outputId": "1c86cfac-280f-4af3-9d01-4f6502856a63"
      },
      "source": [
        "#comparing XGB and Random Forest\r\n",
        "accuracy = accuracy_score(y_pred_validation, y_pred_validation_clf); accuracy"
      ],
      "execution_count": null,
      "outputs": [
        {
          "output_type": "execute_result",
          "data": {
            "text/plain": [
              "0.9668674698795181"
            ]
          },
          "metadata": {
            "tags": []
          },
          "execution_count": 119
        }
      ]
    },
    {
      "cell_type": "markdown",
      "metadata": {
        "id": "1Zidj6w5eiQj"
      },
      "source": [
        "# Utility Functions"
      ]
    },
    {
      "cell_type": "code",
      "metadata": {
        "id": "s3lT3Q1feoCp"
      },
      "source": [
        "def get_dummies_col(df, col = None):\r\n",
        "  # conversion to dummies for low cardinality variables\r\n",
        "  df_to_dummies = df[col]\r\n",
        "  df_dummies = pd.get_dummies(df_to_dummies, columns=[col])\r\n",
        "  return df_dummies"
      ],
      "execution_count": null,
      "outputs": []
    },
    {
      "cell_type": "code",
      "metadata": {
        "id": "ozST5ETqf7dt"
      },
      "source": [
        "def get_hushes(df, cols = []):\r\n",
        "  # conversion to hashes for high cordinality variables \r\n",
        "  df_to_hush_transform = df[cols]\r\n",
        "  hash_encoder = ce.HashingEncoder()\r\n",
        "  df_hash_encoded = hash_encoder.fit_transform(df_to_hush_transform)\r\n",
        "  # new numeric parameters frame\r\n",
        "  return df_hash_encoded"
      ],
      "execution_count": null,
      "outputs": []
    },
    {
      "cell_type": "code",
      "metadata": {
        "id": "ehbK7X0DgiPS"
      },
      "source": [
        "def train_test_split_custom(X,Y):\r\n",
        "  # Predictors variables to Numpy arrays following by scaling\r\n",
        "  #Train-Test Split\r\n",
        "  X_train, X_test, y_train, y_test = train_test_split(X.values, Y.values, test_size=0.05, random_state=42)\r\n",
        "  #X_train, X_test, y_train, y_test = train_test_split(X_with_time.values, Y.values, test_size=0.05, random_state=42)\r\n",
        "\r\n",
        "  # Using Standard Scaler \r\n",
        "  scaler = StandardScaler().fit(X.values)\r\n",
        "  #scaler = StandardScaler().fit(X_with_time.values)\r\n",
        "\r\n",
        "  X_train_rescaled = scaler.transform(X_train)\r\n",
        "  X_test_rescaled = scaler.transform(X_test)\r\n",
        "  return X_train_rescaled, X_test_rescaled, y_train, y_test"
      ],
      "execution_count": null,
      "outputs": []
    },
    {
      "cell_type": "markdown",
      "metadata": {
        "id": "Q5Gvb_EEw_9X"
      },
      "source": [
        "# Study of the Text Columns Importance <br> (work in progress)"
      ]
    },
    {
      "cell_type": "markdown",
      "metadata": {
        "id": "Gv3BMVb20dnI"
      },
      "source": [
        ""
      ]
    },
    {
      "cell_type": "code",
      "metadata": {
        "id": "oOYLgN-G01rg"
      },
      "source": [
        "%%capture\r\n",
        "!pip install pytorch_lightning\r\n",
        "!pip install transformers\r\n",
        "!pip install nlp"
      ],
      "execution_count": null,
      "outputs": []
    },
    {
      "cell_type": "code",
      "metadata": {
        "id": "wedqfNG-0xL2"
      },
      "source": [
        "import transformers\r\n",
        "from transformers import BertModel, BertTokenizer, AdamW, get_linear_schedule_with_warmup\r\n",
        "import torch\r\n",
        "import torch.utils.data as tr_data"
      ],
      "execution_count": null,
      "outputs": []
    },
    {
      "cell_type": "code",
      "metadata": {
        "id": "MuFy5Qxezs6f"
      },
      "source": [
        "from tqdm import tqdm"
      ],
      "execution_count": null,
      "outputs": []
    },
    {
      "cell_type": "code",
      "metadata": {
        "id": "JijyI8SVxRfj"
      },
      "source": [
        "#Text Datafame - starting with the list of licenses\r\n",
        "X_df = df_cleaned['User Specialization List']\r\n",
        "#Target Dataframe:\r\n",
        "Y = df_cleaned['User Count Offered']"
      ],
      "execution_count": 11,
      "outputs": []
    },
    {
      "cell_type": "code",
      "metadata": {
        "id": "cRA9soiszf2n"
      },
      "source": [
        " X_train_txt, X_test_txt, y_train_txt, y_test_txt = train_test_split(X_df.values, Y.values, test_size=0.05, random_state=15)"
      ],
      "execution_count": null,
      "outputs": []
    },
    {
      "cell_type": "code",
      "metadata": {
        "colab": {
          "base_uri": "https://localhost:8080/",
          "height": 66,
          "referenced_widgets": [
            "e736ea0572884d24bdf0fc5f5ebf8a03",
            "47ff0a99ab294573944c96c0b88d98ec",
            "4db2c89a8c91427897073e12050aa80d",
            "7f72426bead64ca29534e51b1cba2c5b",
            "22aad9b5a2fa4b9e89baf0d5365d5d20",
            "6ad75cc4fdeb400c9f6b5dba2284e4ea",
            "206c36b19f8742e09b4ce7728041b731",
            "05e428644d624f5b92252b6be03f1346"
          ]
        },
        "id": "5yhcslTB8BX1",
        "outputId": "e24cd64c-52f4-4932-f8ea-18ae2a1f2b88"
      },
      "source": [
        "tokenizer = BertTokenizer.from_pretrained('bert-base-cased')"
      ],
      "execution_count": null,
      "outputs": [
        {
          "output_type": "display_data",
          "data": {
            "application/vnd.jupyter.widget-view+json": {
              "model_id": "e736ea0572884d24bdf0fc5f5ebf8a03",
              "version_minor": 0,
              "version_major": 2
            },
            "text/plain": [
              "HBox(children=(FloatProgress(value=0.0, description='Downloading', max=213450.0, style=ProgressStyle(descripti…"
            ]
          },
          "metadata": {
            "tags": []
          }
        },
        {
          "output_type": "stream",
          "text": [
            "\n"
          ],
          "name": "stdout"
        }
      ]
    },
    {
      "cell_type": "code",
      "metadata": {
        "id": "Ffi7zNqO8Mqe"
      },
      "source": [
        "# Text data pre-processing\r\n",
        "class DATA(tr_data.Dataset):\r\n",
        "  def __init__(self, texts, targets, tokenizer, max_len):\r\n",
        "    self.texts = texts\r\n",
        "    self.targets = targets\r\n",
        "    self.tokenizer = tokenizer\r\n",
        "    self.max_len = max_len\r\n",
        "  def __len__(self):\r\n",
        "    return len(self.texts)\r\n",
        "  def __getitem__(self, item):\r\n",
        "    text = str(self.texts[item])\r\n",
        "    target = self.targets[item]\r\n",
        "    encoding = self.tokenizer.encode_plus(\r\n",
        "      text,\r\n",
        "      add_special_tokens=True,\r\n",
        "      max_length=self.max_len,\r\n",
        "      truncation=True,\r\n",
        "      return_token_type_ids=False,\r\n",
        "      padding='max_length',\r\n",
        "      return_attention_mask=True,\r\n",
        "      return_tensors='pt',\r\n",
        "    )\r\n",
        "    return {\r\n",
        "      'text': text,\r\n",
        "      'input_ids': encoding['input_ids'].flatten(),\r\n",
        "      'attention_mask': encoding['attention_mask'].flatten(),\r\n",
        "      'targets': torch.tensor(target, dtype=torch.long)\r\n",
        "    }"
      ],
      "execution_count": null,
      "outputs": []
    },
    {
      "cell_type": "code",
      "metadata": {
        "id": "LhzmMhj9BdpM"
      },
      "source": [
        "# Couple sanity tests\r\n",
        "test_data = DATA(X_train_txt[:5],y_train_txt[:5], tokenizer, 16)\r\n",
        "print(test_data[0])"
      ],
      "execution_count": null,
      "outputs": []
    },
    {
      "cell_type": "code",
      "metadata": {
        "id": "oXgpc6CD-KKT"
      },
      "source": [
        "def create_data_loader(X, y, tokenizer, max_len, batch_size):\r\n",
        "  ds = DATA(\r\n",
        "    texts=X,\r\n",
        "    targets=y,\r\n",
        "    tokenizer=tokenizer,\r\n",
        "    max_len=max_len\r\n",
        "  )\r\n",
        "  return tr_data.DataLoader(\r\n",
        "    ds,\r\n",
        "    batch_size=batch_size,\r\n",
        "    shuffle=True\r\n",
        "  )\r\n",
        "BATCH_SIZE = 128\r\n",
        "MAX_LEN = 32\r\n",
        "train_data_loader = create_data_loader(X_train_txt,y_train_txt, tokenizer, MAX_LEN, BATCH_SIZE)\r\n",
        "test_data_loader = create_data_loader(X_test_txt,y_test_txt, tokenizer, MAX_LEN, 189)"
      ],
      "execution_count": null,
      "outputs": []
    },
    {
      "cell_type": "code",
      "metadata": {
        "colab": {
          "base_uri": "https://localhost:8080/"
        },
        "id": "bFRmvyII4-l8",
        "outputId": "943e9cb0-103a-4a35-bc3e-2f0824038457"
      },
      "source": [
        "len(test_data_loader.dataset)"
      ],
      "execution_count": null,
      "outputs": [
        {
          "output_type": "execute_result",
          "data": {
            "text/plain": [
              "189"
            ]
          },
          "metadata": {
            "tags": []
          },
          "execution_count": 43
        }
      ]
    },
    {
      "cell_type": "code",
      "metadata": {
        "id": "Y6GQEaiJGlL0"
      },
      "source": [
        "#sanity checks\r\n",
        "next(iter(train_data_loader))"
      ],
      "execution_count": null,
      "outputs": []
    },
    {
      "cell_type": "code",
      "metadata": {
        "colab": {
          "base_uri": "https://localhost:8080/",
          "height": 220,
          "referenced_widgets": [
            "d51bbbf9cb4f4362b313c1461baac00a",
            "3266e418b3324aacba02d1ba84dcd975",
            "6b02b160b06649749a5d810ef5b15e8c",
            "04d9e7aefad6403988461935a51bd07c",
            "eb1f99c57b6b4b4aaa2c73d3cb791ce3",
            "0d2a5a585ee74619a546b2290c63e35d",
            "8dacff57eaf844308fd9944b9d911235",
            "74b5a462b32e45c7ad514b8b0815cd62",
            "7a6794daf78f473eae71bae6358b8f4d",
            "40b444bc7e894d24a178fd0052fded8d",
            "158d91fe16724b31a6a8da49fd714f85",
            "37ce7ff57e4e4a19b94b255e968f1a2b",
            "5c505c737cee44c8a5c537ed63f2cc25",
            "a8d5c1a11f1a4f9e8889536b58168031",
            "24452d824078442583fa123b3a755cca",
            "22e55b7fd50a461088d8122a722bda2e"
          ]
        },
        "id": "Gauw3MrNTnCs",
        "outputId": "58ff21cd-9a3b-4478-beaf-02dd9cd6fab8"
      },
      "source": [
        "device = torch.device('cuda') if torch.cuda.is_available() else torch.device('cpu')\r\n",
        "# Using BERT model: If the model is changed, consider changing the tokenizer\r\n",
        "model = transformers.BertForSequenceClassification.from_pretrained('bert-base-uncased')\r\n",
        "#model output object:\r\n",
        "#output[0] - loss\r\n",
        "#output[1] - logits\r\n",
        "#output[2] - hidden states (requires flagto turn it on)\r\n",
        "#output[3] - attention (requires flagto turn it on)\r\n",
        "model.to(device)\r\n",
        "model.train()\r\n",
        "\r\n",
        "optim = AdamW(model.parameters(), lr=5e-5)"
      ],
      "execution_count": null,
      "outputs": [
        {
          "output_type": "display_data",
          "data": {
            "application/vnd.jupyter.widget-view+json": {
              "model_id": "d51bbbf9cb4f4362b313c1461baac00a",
              "version_minor": 0,
              "version_major": 2
            },
            "text/plain": [
              "HBox(children=(FloatProgress(value=0.0, description='Downloading', max=433.0, style=ProgressStyle(description_…"
            ]
          },
          "metadata": {
            "tags": []
          }
        },
        {
          "output_type": "stream",
          "text": [
            "\n"
          ],
          "name": "stdout"
        },
        {
          "output_type": "display_data",
          "data": {
            "application/vnd.jupyter.widget-view+json": {
              "model_id": "7a6794daf78f473eae71bae6358b8f4d",
              "version_minor": 0,
              "version_major": 2
            },
            "text/plain": [
              "HBox(children=(FloatProgress(value=0.0, description='Downloading', max=440473133.0, style=ProgressStyle(descri…"
            ]
          },
          "metadata": {
            "tags": []
          }
        },
        {
          "output_type": "stream",
          "text": [
            "\n"
          ],
          "name": "stdout"
        },
        {
          "output_type": "stream",
          "text": [
            "Some weights of the model checkpoint at bert-base-uncased were not used when initializing BertForSequenceClassification: ['cls.predictions.bias', 'cls.predictions.transform.dense.weight', 'cls.predictions.transform.dense.bias', 'cls.predictions.decoder.weight', 'cls.seq_relationship.weight', 'cls.seq_relationship.bias', 'cls.predictions.transform.LayerNorm.weight', 'cls.predictions.transform.LayerNorm.bias']\n",
            "- This IS expected if you are initializing BertForSequenceClassification from the checkpoint of a model trained on another task or with another architecture (e.g. initializing a BertForSequenceClassification model from a BertForPreTraining model).\n",
            "- This IS NOT expected if you are initializing BertForSequenceClassification from the checkpoint of a model that you expect to be exactly identical (initializing a BertForSequenceClassification model from a BertForSequenceClassification model).\n",
            "Some weights of BertForSequenceClassification were not initialized from the model checkpoint at bert-base-uncased and are newly initialized: ['classifier.weight', 'classifier.bias']\n",
            "You should probably TRAIN this model on a down-stream task to be able to use it for predictions and inference.\n"
          ],
          "name": "stderr"
        }
      ]
    },
    {
      "cell_type": "code",
      "metadata": {
        "colab": {
          "base_uri": "https://localhost:8080/",
          "height": 367
        },
        "id": "S5AfGTQAXrTM",
        "outputId": "d3e5efc8-0429-4687-fb14-9ba7288ecb91"
      },
      "source": [
        "#Training Loop\r\n",
        "loss_list = []\r\n",
        "for epoch in range(5):\r\n",
        "    for batch in train_data_loader:\r\n",
        "        optim.zero_grad()\r\n",
        "        input_ids = batch['input_ids'].to(device)\r\n",
        "        attention_mask = batch['attention_mask'].to(device)\r\n",
        "        labels = batch['targets'].to(device)\r\n",
        "        outputs = model(input_ids, attention_mask=attention_mask, labels=labels)\r\n",
        "        loss = outputs[0]\r\n",
        "        acc = torch.sum((outputs[1].argmax(-1) == labels).float())/128\r\n",
        "        loss.backward()\r\n",
        "        optim.step()\r\n",
        "    loss_list.append(loss)\r\n",
        "    print (f'Epoch [{epoch}], Loss: {loss:.4f}, acuracy - {acc:.2f}')        \r\n",
        "plt.plot(loss_list)"
      ],
      "execution_count": null,
      "outputs": [
        {
          "output_type": "stream",
          "text": [
            "Epoch [0], Loss: 0.5519, acuracy - 0.70\n",
            "Epoch [1], Loss: 0.5298, acuracy - 0.70\n",
            "Epoch [2], Loss: 0.5157, acuracy - 0.72\n",
            "Epoch [3], Loss: 0.4866, acuracy - 0.73\n",
            "Epoch [4], Loss: 0.5038, acuracy - 0.72\n"
          ],
          "name": "stdout"
        },
        {
          "output_type": "execute_result",
          "data": {
            "text/plain": [
              "[<matplotlib.lines.Line2D at 0x7f6bc21f6c88>]"
            ]
          },
          "metadata": {
            "tags": []
          },
          "execution_count": 34
        },
        {
          "output_type": "display_data",
          "data": {
            "image/png": "[encoded data removed]",
            "text/plain": [
              "<Figure size 432x288 with 1 Axes>"
            ]
          },
          "metadata": {
            "tags": [],
            "needs_background": "light"
          }
        }
      ]
    },
    {
      "cell_type": "code",
      "metadata": {
        "id": "DJ8RqpYSzydy"
      },
      "source": [
        "#Validation Loop - TESTING CODE TO BE CHANGED\r\n",
        "model.eval()\r\n",
        "for epoch in tqdm(range(5)):\r\n",
        "    for batch in test_data_loader:\r\n",
        "        optim.zero_grad()\r\n",
        "        input_ids = batch['input_ids'].to(device)\r\n",
        "        attention_mask = batch['attention_mask'].to(device)\r\n",
        "        labels = batch['targets'].to(device)\r\n",
        "        outputs = model(input_ids, attention_mask=attention_mask, labels=labels)\r\n",
        "        loss = outputs[0]\r\n",
        "        acc = torch.sum((outputs[1].argmax(-1) == labels).float())/128\r\n",
        "        loss.backward()\r\n",
        "        optim.step()\r\n",
        "    loss_list.append(loss)\r\n",
        "    print (f'Epoch [{epoch}], Loss: {loss:.4f}, acuracy - {acc:.2f}') "
      ],
      "execution_count": null,
      "outputs": []
    },
    {
      "cell_type": "code",
      "metadata": {
        "colab": {
          "base_uri": "https://localhost:8080/"
        },
        "id": "4A59ycrS2g0e",
        "outputId": "e86ee99f-17d7-44aa-e37e-ae1a011710c2"
      },
      "source": [
        "#Validation Loop (used as a check on the trained model -- prototyping only)\r\n",
        "model.eval()\r\n",
        "with torch.no_grad():\r\n",
        "  for batch in test_data_loader:\r\n",
        "        optim.zero_grad()\r\n",
        "        input_ids = batch['input_ids'].to(device)\r\n",
        "        attention_mask = batch['attention_mask'].to(device)\r\n",
        "        labels = batch['targets'].to(device)\r\n",
        "        outputs = model(input_ids, attention_mask=attention_mask, labels=labels)\r\n",
        "        loss = outputs[0]\r\n",
        "        acc = torch.sum((outputs[1].argmax(-1) == labels).float())/189\r\n",
        "        print (f'Loss: {loss:.4f}, acuracy - {acc:.2f}') \r\n"
      ],
      "execution_count": null,
      "outputs": [
        {
          "output_type": "stream",
          "text": [
            "Loss: 0.4645, acuracy - 0.78\n"
          ],
          "name": "stdout"
        }
      ]
    },
    {
      "cell_type": "markdown",
      "metadata": {
        "id": "jvUgb83Z694W"
      },
      "source": [
        "**PyTorch Lightning based Implementation**<br>*work in progress*"
      ]
    },
    {
      "cell_type": "code",
      "metadata": {
        "id": "K59A3uYlDufK"
      },
      "source": [
        "import pytorch_lightning as pl"
      ],
      "execution_count": null,
      "outputs": []
    },
    {
      "cell_type": "code",
      "metadata": {
        "id": "y2A8Xu-ztd-n"
      },
      "source": [
        "# Data Prep\r\n",
        "class DataModule(pl.LightningDataModule):\r\n",
        "\r\n",
        "    def __init__(self, texts, targets, batch_size, max_len):\r\n",
        "        super().__init__()\r\n",
        "        self.batch_size = batch_size\r\n",
        "        self.texts = texts\r\n",
        "        self.targets = targets\r\n",
        "        self.tokenizer = BertTokenizer.from_pretrained('bert-base-cased')\r\n",
        "        self.max_len = max_len\r\n",
        "        self.X_train, self.X_test, self.y_train, self.y_test = train_test_split(self.texts.values, self.targets.values, \r\n",
        "                                                                test_size=0.05, random_state=42)\r\n",
        "        \r\n",
        "    def train_dataloader(self):\r\n",
        "        ds = DATA(\r\n",
        "          texts=self.X_train,\r\n",
        "          targets=self.y_train,\r\n",
        "          tokenizer=self.tokenizer,\r\n",
        "          max_len=self.max_len\r\n",
        "          )\r\n",
        "        return tr_data.DataLoader(ds,batch_size=self.batch_size,shuffle=True)\r\n",
        "\r\n",
        "    def val_dataloader(self):\r\n",
        "        ds = DATA(\r\n",
        "          texts=self.X_test,\r\n",
        "          targets=self.y_test,\r\n",
        "          tokenizer=self.tokenizer,\r\n",
        "          max_len=self.max_len\r\n",
        "          )\r\n",
        "        return tr_data.DataLoader(ds,batch_size=self.batch_size,shuffle=True)"
      ],
      "execution_count": null,
      "outputs": []
    },
    {
      "cell_type": "code",
      "metadata": {
        "colab": {
          "base_uri": "https://localhost:8080/"
        },
        "id": "el9QNl9WPKV9",
        "outputId": "423ec0af-021a-40bf-dc36-d3f226bfe7b8"
      },
      "source": [
        "#data module check:\r\n",
        "test = DataModule(X_df[:5],Y[:5], 1, 32)\r\n",
        "next(iter(test.val_dataloader()))"
      ],
      "execution_count": null,
      "outputs": [
        {
          "output_type": "execute_result",
          "data": {
            "text/plain": [
              "{'attention_mask': tensor([[1, 1, 1, 1, 1, 1, 1, 1, 1, 1, 1, 1, 1, 1, 1, 0, 0, 0, 0, 0, 0, 0, 0, 0,\n",
              "          0, 0, 0, 0, 0, 0, 0, 0]]),\n",
              " 'input_ids': tensor([[  101,  3875, 17078, 20851,   118, 11341,  5521,  2105,  1616,   117,\n",
              "           3261, 12008,  9019,  8396,   102,     0,     0,     0,     0,     0,\n",
              "              0,     0,     0,     0,     0,     0,     0,     0,     0,     0,\n",
              "              0,     0]]),\n",
              " 'targets': tensor([0]),\n",
              " 'text': ['Medical Surgical - Telemetry, Long Term Care']}"
            ]
          },
          "metadata": {
            "tags": []
          },
          "execution_count": 18
        }
      ]
    },
    {
      "cell_type": "code",
      "metadata": {
        "id": "SKX4FuLVD3-O"
      },
      "source": [
        "class License_Classifier(pl.LightningModule):\r\n",
        "    def __init__(self):\r\n",
        "        super().__init__()\r\n",
        "        self.model = transformers.BertForSequenceClassification.from_pretrained('bert-base-uncased')\r\n",
        "\r\n",
        "    def forward(self, input_ids, masks, labels):\r\n",
        "        return self.model(input_ids, attention_mask=masks, labels=labels)\r\n",
        "\r\n",
        "    def training_step(self, batch, batch_idx):\r\n",
        "        outputs = self.forward(batch['input_ids'],batch['attention_mask'], batch['targets'])\r\n",
        "        return {'loss': outputs[0]}\r\n",
        "\r\n",
        "    def validation_step(self, batch, batch_idx):\r\n",
        "        outputs = self.forward(batch['input_ids'], batch['attention_mask'], batch['targets'])\r\n",
        "        acc = torch.mean((outputs[1].argmax(-1) == batch['targets']).float())\r\n",
        "        print(f'acc - {acc}')\r\n",
        "        return {'loss': outputs[0], 'acc': acc}\r\n",
        "\r\n",
        "    def validation_epoch_end(self, outputs):\r\n",
        "        print(f'val_epoch_end -- {outputs}')\r\n",
        "\r\n",
        "    def configure_optimizers(self):\r\n",
        "        return torch.optim.SGD(\r\n",
        "            self.parameters(),\r\n",
        "            lr=0.01,\r\n",
        "            momentum=0.9,\r\n",
        "        )"
      ],
      "execution_count": null,
      "outputs": []
    },
    {
      "cell_type": "code",
      "metadata": {
        "colab": {
          "base_uri": "https://localhost:8080/",
          "height": 647,
          "referenced_widgets": [
            "e7153063c0b6445aa6757aa0cbf962c3",
            "f49fb94a9c8c4035be9300ce9fed1e50",
            "b3030cf186b045938ba725f19db5236d",
            "67b27d00ae1a4b95bb1d8881cde54548",
            "cde01ccd40b14e04a37755a84eccfb9b",
            "cea24c6c3dba47a99cf17293455370eb",
            "0e37cd0a47d24545974912d06b2d7085",
            "51923eb6289c4deea247417debd162ee",
            "d2499fa3831a4c7fb31ba0e82e82c076",
            "83e3e30fb34c4a4bb2138b908ea811b8",
            "856faee5351a4286a6c8f97ecdc8ceb8",
            "92451ceab04f4fb7b33bdded0f5d34ff",
            "707dc3b1ea1a4e7d8c4d9e44a9c7222a",
            "418ddf7338a940a89145fe36a08762dc",
            "ce014d853c324883b9e4d3e0d2ce8c32",
            "78bf050ddd644420b9f672eca8039fe5",
            "834603b782f045dfa274ad6fb129a69f",
            "7d5fd3bb122c48288d0df23643dd78ea",
            "51d076e1cdfd4eb8909b5c0b22d7dd20",
            "5b7f74559a7a418ea21513afbb4d6804",
            "4283408da3dc436d8305bfe45a188ce5",
            "94e43ec091744af29c8f086eaac1261b",
            "bf61b25895fb4e80a40947451c9fef2b",
            "e0599aa00bde45cb814756feae18446e"
          ]
        },
        "id": "c5nIcDpdfb6z",
        "outputId": "c73e0866-39e3-40b1-c34d-a90a33bca68a"
      },
      "source": [
        "text_data = DataModule(X_df,Y, 64, 32)\r\n",
        "model = License_Classifier()\r\n",
        "\r\n",
        "trainer = pl.Trainer(\r\n",
        "    gpus=(1 if torch.cuda.is_available() else 0),\r\n",
        "    max_epochs=1,\r\n",
        "    fast_dev_run=False,\r\n",
        ")\r\n",
        "trainer.fit(model, text_data)"
      ],
      "execution_count": null,
      "outputs": [
        {
          "output_type": "stream",
          "text": [
            "Some weights of the model checkpoint at bert-base-uncased were not used when initializing BertForSequenceClassification: ['cls.predictions.bias', 'cls.predictions.transform.dense.weight', 'cls.predictions.transform.dense.bias', 'cls.predictions.decoder.weight', 'cls.seq_relationship.weight', 'cls.seq_relationship.bias', 'cls.predictions.transform.LayerNorm.weight', 'cls.predictions.transform.LayerNorm.bias']\n",
            "- This IS expected if you are initializing BertForSequenceClassification from the checkpoint of a model trained on another task or with another architecture (e.g. initializing a BertForSequenceClassification model from a BertForPreTraining model).\n",
            "- This IS NOT expected if you are initializing BertForSequenceClassification from the checkpoint of a model that you expect to be exactly identical (initializing a BertForSequenceClassification model from a BertForSequenceClassification model).\n",
            "Some weights of BertForSequenceClassification were not initialized from the model checkpoint at bert-base-uncased and are newly initialized: ['classifier.weight', 'classifier.bias']\n",
            "You should probably TRAIN this model on a down-stream task to be able to use it for predictions and inference.\n",
            "/usr/local/lib/python3.6/dist-packages/pytorch_lightning/utilities/distributed.py:49: UserWarning: You have set progress_bar_refresh_rate < 20 on Google Colab. This may crash. Consider using progress_bar_refresh_rate >= 20 in Trainer.\n",
            "  warnings.warn(*args, **kwargs)\n",
            "GPU available: True, used: True\n",
            "TPU available: None, using: 0 TPU cores\n",
            "LOCAL_RANK: 0 - CUDA_VISIBLE_DEVICES: [0]\n",
            "\n",
            "  | Name  | Type                          | Params\n",
            "--------------------------------------------------------\n",
            "0 | model | BertForSequenceClassification | 109 M \n",
            "--------------------------------------------------------\n",
            "109 M     Trainable params\n",
            "0         Non-trainable params\n",
            "109 M     Total params\n",
            "/usr/local/lib/python3.6/dist-packages/pytorch_lightning/utilities/distributed.py:49: UserWarning: Your val_dataloader has `shuffle=True`, it is best practice to turn this off for validation and test dataloaders.\n",
            "  warnings.warn(*args, **kwargs)\n"
          ],
          "name": "stderr"
        },
        {
          "output_type": "display_data",
          "data": {
            "application/vnd.jupyter.widget-view+json": {
              "model_id": "e7153063c0b6445aa6757aa0cbf962c3",
              "version_minor": 0,
              "version_major": 2
            },
            "text/plain": [
              "HBox(children=(FloatProgress(value=1.0, bar_style='info', description='Validation sanity check', layout=Layout…"
            ]
          },
          "metadata": {
            "tags": []
          }
        },
        {
          "output_type": "stream",
          "text": [
            "I am validating!!!!!\n",
            "acc - 0.46875\n",
            "I am validating!!!!!\n",
            "acc - 0.609375\n",
            "val_epoch_end -- [{'loss': tensor(0.6851, device='cuda:0'), 'acc': tensor(0.4688, device='cuda:0')}, {'loss': tensor(0.6790, device='cuda:0'), 'acc': tensor(0.6094, device='cuda:0')}]\n"
          ],
          "name": "stdout"
        },
        {
          "output_type": "display_data",
          "data": {
            "application/vnd.jupyter.widget-view+json": {
              "model_id": "d2499fa3831a4c7fb31ba0e82e82c076",
              "version_minor": 0,
              "version_major": 2
            },
            "text/plain": [
              "HBox(children=(FloatProgress(value=1.0, bar_style='info', description='Training', layout=Layout(flex='2'), max…"
            ]
          },
          "metadata": {
            "tags": []
          }
        },
        {
          "output_type": "display_data",
          "data": {
            "application/vnd.jupyter.widget-view+json": {
              "model_id": "834603b782f045dfa274ad6fb129a69f",
              "version_minor": 0,
              "version_major": 2
            },
            "text/plain": [
              "HBox(children=(FloatProgress(value=1.0, bar_style='info', description='Validating', layout=Layout(flex='2'), m…"
            ]
          },
          "metadata": {
            "tags": []
          }
        },
        {
          "output_type": "stream",
          "text": [
            "I am validating!!!!!\n",
            "acc - 0.765625\n",
            "I am validating!!!!!\n",
            "acc - 0.84375\n",
            "I am validating!!!!!\n",
            "acc - 0.8524589538574219\n",
            "val_epoch_end -- [{'loss': tensor(0.9137, device='cuda:0'), 'acc': tensor(0.7656, device='cuda:0')}, {'loss': tensor(0.6165, device='cuda:0'), 'acc': tensor(0.8438, device='cuda:0')}, {'loss': tensor(0.5834, device='cuda:0'), 'acc': tensor(0.8525, device='cuda:0')}]\n",
            "\n"
          ],
          "name": "stdout"
        },
        {
          "output_type": "execute_result",
          "data": {
            "text/plain": [
              "1"
            ]
          },
          "metadata": {
            "tags": []
          },
          "execution_count": 30
        }
      ]
    },
    {
      "cell_type": "markdown",
      "metadata": {
        "id": "L0WwxcbdJcVK"
      },
      "source": [
        "**Text Data Custering Analysis**"
      ]
    },
    {
      "cell_type": "code",
      "metadata": {
        "id": "3hGeenreNfpj"
      },
      "source": [
        "!pip install -q tensorflow-hub\r\n",
        "import tensorflow_hub as hub"
      ],
      "execution_count": 13,
      "outputs": []
    },
    {
      "cell_type": "code",
      "metadata": {
        "colab": {
          "base_uri": "https://localhost:8080/"
        },
        "id": "FoxlGdK3JkSW",
        "outputId": "158c999d-37cf-4779-937c-2e7e8a26954b"
      },
      "source": [
        "#using universal sentence encoder to get sentence encodings\r\n",
        "#title Load the Universal Sentence Encoder's TF Hub module\r\n",
        "#param [\"https://tfhub.dev/google/universal-sentence-encoder/4\", \"https://tfhub.dev/google/universal-sentence-encoder-large/5\"]\r\n",
        "module_url = \"https://tfhub.dev/google/universal-sentence-encoder/4\" \r\n",
        "print (\"module {} loaded\".format(module_url))\r\n",
        "model = hub.load(module_url)\r\n",
        "def embed(input):\r\n",
        "  return model(input)"
      ],
      "execution_count": 14,
      "outputs": [
        {
          "output_type": "stream",
          "text": [
            "module https://tfhub.dev/google/universal-sentence-encoder/4 loaded\n"
          ],
          "name": "stdout"
        }
      ]
    },
    {
      "cell_type": "code",
      "metadata": {
        "id": "XAPD2ycGLgYi"
      },
      "source": [
        "model_input = X_df.tolist()"
      ],
      "execution_count": 15,
      "outputs": []
    },
    {
      "cell_type": "code",
      "metadata": {
        "id": "UmgYBrynK2BL"
      },
      "source": [
        "embedding_tuples = []\r\n",
        "for item in model_input:\r\n",
        "  tmp = embed([item])[0].numpy(),item\r\n",
        "  embedding_tuples.append(tmp)"
      ],
      "execution_count": 19,
      "outputs": []
    },
    {
      "cell_type": "code",
      "metadata": {
        "id": "MpFMstsANBpN"
      },
      "source": [
        "# data visualization:\r\n",
        "from sklearn.manifold import TSNE\r\n",
        "import matplotlib.pyplot as plt\r\n",
        "import random\r\n",
        "%matplotlib inline"
      ],
      "execution_count": 24,
      "outputs": []
    },
    {
      "cell_type": "code",
      "metadata": {
        "id": "JZqUcx7tNSjM"
      },
      "source": [
        "# visualization code\r\n",
        "def tsne_plot(emb):\r\n",
        "    \"Creates and TSNE model and plots it\"\r\n",
        "    labels = []\r\n",
        "    tokens = []\r\n",
        "    #print(sentences[0])\r\n",
        "    #print(emb[0][0])\r\n",
        "    for i in range(len(emb)):\r\n",
        "        tokens.append(emb[i][0])\r\n",
        "        labels.append(emb[i][1])\r\n",
        "    \r\n",
        "    tsne_model = TSNE(perplexity=30, n_components=2, init='pca', n_iter=2500, random_state=23)\r\n",
        "    new_values = tsne_model.fit_transform(tokens)\r\n",
        "\r\n",
        "    x = []\r\n",
        "    y = []\r\n",
        "    for value in new_values:\r\n",
        "        x.append(value[0])\r\n",
        "        y.append(value[1])\r\n",
        "        \r\n",
        "    plt.figure(figsize=(16, 16)) \r\n",
        "    #Outputting all the embeddings\r\n",
        "    for i in range(len(x)):\r\n",
        "        plt.scatter(x[i],y[i])\r\n",
        "    plt.show()"
      ],
      "execution_count": 25,
      "outputs": []
    },
    {
      "cell_type": "code",
      "metadata": {
        "colab": {
          "base_uri": "https://localhost:8080/",
          "height": 918
        },
        "id": "Xz3d2_xANjZt",
        "outputId": "7fe04d56-5535-4efa-fe23-51d33d023781"
      },
      "source": [
        "tsne_plot(embedding_tuples)"
      ],
      "execution_count": 26,
      "outputs": [
        {
          "output_type": "display_data",
          "data": {
            "image/png": "[encoded data removed]",
            "text/plain": [
              "<Figure size 1152x1152 with 1 Axes>"
            ]
          },
          "metadata": {
            "tags": [],
            "needs_background": "light"
          }
        }
      ]
    },
    {
      "cell_type": "markdown",
      "metadata": {
        "id": "bLc_1HcgSDOp"
      },
      "source": [
        "# Test & Debugging Related Code Snippets"
      ]
    },
    {
      "cell_type": "code",
      "metadata": {
        "id": "sVF3Dw9-WPJo"
      },
      "source": [
        "#datetime columns experimentation:\r\n",
        "%%capture\r\n",
        "df_time = df_cleaned[['User Registered Date','User First Application Date','User Last Application Date']]\r\n",
        "df_time['User Registered Date'] = pd.to_datetime(df_time['User Registered Date'])\r\n",
        "df_time['User First Application Date'] = pd.to_datetime(df_time['User First Application Date'])\r\n",
        "df_time['User Last Application Date'] = pd.to_datetime(df_time['User Last Application Date'])\r\n",
        "df_time['1st_time_delta'] = (df_time['User First Application Date']-df_time['User Registered Date']).astype('timedelta64[D]')\r\n",
        "df_time['2nd_time_delta'] = (df_time['User Last Application Date']-df_time['User First Application Date']).astype('timedelta64[D]')\r\n",
        "df_time_deltas = df_time[['1st_time_delta','2nd_time_delta']]\r\n",
        "df_time_deltas.shape"
      ],
      "execution_count": null,
      "outputs": []
    },
    {
      "cell_type": "code",
      "metadata": {
        "id": "oDn7M_K2pP96"
      },
      "source": [
        "#X_with_time = pd.concat([X,df_time_deltas],axis = 1)"
      ],
      "execution_count": null,
      "outputs": []
    },
    {
      "cell_type": "code",
      "metadata": {
        "id": "VEQ-SfFDhgKv"
      },
      "source": [
        "# transforming categorical data\r\n",
        "# conversion to dummies for low cardinality variables\r\n",
        "df_to_dummies = df_cleaned['User Has Compact License (Yes / No)']\r\n",
        "df_dummies = pd.get_dummies(df_to_dummies, columns=['User Has Compact License (Yes / No)'])\r\n",
        "# conversion to hashes for high cordinality variables\r\n",
        "# default settings are used. Depending the relative business importance of these parameters it may be refined further during feature engineering \r\n",
        "df_to_hush_transform = df_cleaned[['User Certifications', 'User EHR Systems','User Specialization List']]\r\n",
        "hash_encoder = ce.HashingEncoder()\r\n",
        "df_hash_encoded = hash_encoder.fit_transform(df_to_hush_transform)\r\n",
        "# new numeric parameters frame\r\n",
        "df_new_variables = pd.concat([df_hash_encoded,df_dummies],axis=1)"
      ],
      "execution_count": null,
      "outputs": []
    },
    {
      "cell_type": "code",
      "metadata": {
        "id": "l2A9l6_0Zx7J"
      },
      "source": [
        "# Predictors variables to Numpy arrays following by scaling\r\n",
        "#Train-Test Split\r\n",
        "X_train, X_test, y_train, y_test = train_test_split(X.values, Y.values, test_size=0.05, random_state=42)\r\n",
        "\r\n",
        "#X_train, X_test, y_train, y_test = train_test_split(X_with_time.values, Y.values, test_size=0.05, random_state=42)\r\n",
        "\r\n",
        "# Using Standard Scaler \r\n",
        "scaler = StandardScaler().fit(X.values)\r\n",
        "\r\n",
        "#scaler = StandardScaler().fit(X_with_time.values)\r\n",
        "\r\n",
        "X_train_rescaled = scaler.transform(X_train)\r\n",
        "X_test_rescaled = scaler.transform(X_test)"
      ],
      "execution_count": null,
      "outputs": []
    }
  ]
}