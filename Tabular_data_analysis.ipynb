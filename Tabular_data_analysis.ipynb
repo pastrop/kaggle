{
  "nbformat": 4,
  "nbformat_minor": 0,
  "metadata": {
    "colab": {
      "name": "Tabular_data_analysis.ipynb",
      "provenance": [],
      "authorship_tag": "ABX9TyM8xW9+LQx5LACIpmy28xeo",
      "include_colab_link": true
    },
    "kernelspec": {
      "name": "python3",
      "display_name": "Python 3"
    }
  },
  "cells": [
    {
      "cell_type": "markdown",
      "metadata": {
        "id": "view-in-github",
        "colab_type": "text"
      },
      "source": [
        "<a href=\"https://colab.research.google.com/github/pastrop/kaggle/blob/master/Tabular_data_analysis.ipynb\" target=\"_parent\"><img src=\"https://colab.research.google.com/assets/colab-badge.svg\" alt=\"Open In Colab\"/></a>"
      ]
    },
    {
      "cell_type": "code",
      "metadata": {
        "id": "9d1Dgr3nRV5W"
      },
      "source": [
        "#package for the data profiling\r\n",
        "%%capture\r\n",
        "! pip install https://github.com/pandas-profiling/pandas-profiling/archive/master.zip"
      ],
      "execution_count": null,
      "outputs": []
    },
    {
      "cell_type": "code",
      "metadata": {
        "id": "4_x2JyLtGEwk"
      },
      "source": [
        "#package for encoding categorical predictors\r\n",
        "%%capture\r\n",
        "pip install category_encoders"
      ],
      "execution_count": 1,
      "outputs": []
    },
    {
      "cell_type": "code",
      "metadata": {
        "id": "kPcHlsWsYj1N"
      },
      "source": [
        "from pandas_profiling import ProfileReport"
      ],
      "execution_count": null,
      "outputs": []
    },
    {
      "cell_type": "code",
      "metadata": {
        "id": "cgBtc4lvKiWT",
        "colab": {
          "base_uri": "https://localhost:8080/"
        },
        "outputId": "d076de15-3cdd-4d4c-c098-c34791d47e5a"
      },
      "source": [
        "import pandas as pd\r\n",
        "import numpy as np\r\n",
        "import matplotlib.pyplot as plt\r\n",
        "import seaborn as sns\r\n",
        "import category_encoders as ce\r\n",
        "from sklearn.model_selection import train_test_split\r\n",
        "from sklearn.preprocessing import StandardScaler, MinMaxScaler"
      ],
      "execution_count": 2,
      "outputs": [
        {
          "output_type": "stream",
          "text": [
            "/usr/local/lib/python3.6/dist-packages/statsmodels/tools/_testing.py:19: FutureWarning: pandas.util.testing is deprecated. Use the functions in the public API at pandas.testing instead.\n",
            "  import pandas.util.testing as tm\n"
          ],
          "name": "stderr"
        }
      ]
    },
    {
      "cell_type": "markdown",
      "metadata": {
        "id": "TH6nE7r25Vs3"
      },
      "source": [
        "# Data Prep"
      ]
    },
    {
      "cell_type": "code",
      "metadata": {
        "colab": {
          "resources": {
            "http://localhost:8080/nbextensions/google.colab/files.js": {
              "data": "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",
              "ok": true,
              "headers": [
                [
                  "content-type",
                  "application/javascript"
                ]
              ],
              "status": 200,
              "status_text": ""
            }
          },
          "base_uri": "https://localhost:8080/",
          "height": 73
        },
        "id": "h9d2GV20KmNi",
        "outputId": "d675d388-3ce1-4c53-e5af-8c4c7c843a39"
      },
      "source": [
        "# file upload while using Google Colab\r\n",
        "from google.colab import files\r\n",
        "uploaded = files.upload()"
      ],
      "execution_count": 3,
      "outputs": [
        {
          "output_type": "display_data",
          "data": {
            "text/html": [
              "\n",
              "     <input type=\"file\" id=\"files-053ab9d8-dc80-4f0a-95e5-29980393552f\" name=\"files[]\" multiple disabled\n",
              "        style=\"border:none\" />\n",
              "     <output id=\"result-053ab9d8-dc80-4f0a-95e5-29980393552f\">\n",
              "      Upload widget is only available when the cell has been executed in the\n",
              "      current browser session. Please rerun this cell to enable.\n",
              "      </output>\n",
              "      <script src=\"/nbextensions/google.colab/files.js\"></script> "
            ],
            "text/plain": [
              "<IPython.core.display.HTML object>"
            ]
          },
          "metadata": {
            "tags": []
          }
        },
        {
          "output_type": "stream",
          "text": [
            "Saving nomad.csv to nomad.csv\n"
          ],
          "name": "stdout"
        }
      ]
    },
    {
      "cell_type": "code",
      "metadata": {
        "colab": {
          "base_uri": "https://localhost:8080/",
          "height": 366
        },
        "id": "y4bSgsCpKzVg",
        "outputId": "7da6bdfd-9d94-4d4a-a047-333832b096f9"
      },
      "source": [
        "# Load Dataframe Dataframe \r\n",
        "df = pd.read_csv('nomad.csv')\r\n",
        "df.head(3)"
      ],
      "execution_count": 4,
      "outputs": [
        {
          "output_type": "execute_result",
          "data": {
            "text/html": [
              "<div>\n",
              "<style scoped>\n",
              "    .dataframe tbody tr th:only-of-type {\n",
              "        vertical-align: middle;\n",
              "    }\n",
              "\n",
              "    .dataframe tbody tr th {\n",
              "        vertical-align: top;\n",
              "    }\n",
              "\n",
              "    .dataframe thead th {\n",
              "        text-align: right;\n",
              "    }\n",
              "</style>\n",
              "<table border=\"1\" class=\"dataframe\">\n",
              "  <thead>\n",
              "    <tr style=\"text-align: right;\">\n",
              "      <th></th>\n",
              "      <th>User  ID</th>\n",
              "      <th>User Registered Date</th>\n",
              "      <th>User Num References</th>\n",
              "      <th>User Num Qualified References</th>\n",
              "      <th>User Num Completed PCLs</th>\n",
              "      <th>User Num State Licenses</th>\n",
              "      <th>User Has Compact License (Yes / No)</th>\n",
              "      <th>User Count Applications Completed last 7 Days</th>\n",
              "      <th>User Count Applications Completed last 30 Days</th>\n",
              "      <th>User Count Applications Completed</th>\n",
              "      <th>User Count Jobs Viewed, last 30 Days</th>\n",
              "      <th>User Certifications</th>\n",
              "      <th>User EHR Systems</th>\n",
              "      <th>User Specialization List</th>\n",
              "      <th>User Age Bucket</th>\n",
              "      <th>User Years Nursing Exp</th>\n",
              "      <th>User Years Travel Exp</th>\n",
              "      <th>User First Application Date</th>\n",
              "      <th>User Last Application Date</th>\n",
              "      <th>User Count Offered</th>\n",
              "    </tr>\n",
              "  </thead>\n",
              "  <tbody>\n",
              "    <tr>\n",
              "      <th>0</th>\n",
              "      <td>5f75431f88dc8fa23a15ba1c</td>\n",
              "      <td>2020-09-30</td>\n",
              "      <td>3</td>\n",
              "      <td>2</td>\n",
              "      <td>1</td>\n",
              "      <td>1</td>\n",
              "      <td>Yes</td>\n",
              "      <td>0.0</td>\n",
              "      <td>0.0</td>\n",
              "      <td>1.0</td>\n",
              "      <td>18</td>\n",
              "      <td>ACLS-BLS</td>\n",
              "      <td>Epic-Matrix AOD</td>\n",
              "      <td>Medical Surgical - Telemetry, Medical-Surgical</td>\n",
              "      <td>35-39</td>\n",
              "      <td>11.0</td>\n",
              "      <td>0.0</td>\n",
              "      <td>2020-10-01</td>\n",
              "      <td>2020-10-01</td>\n",
              "      <td>1</td>\n",
              "    </tr>\n",
              "    <tr>\n",
              "      <th>1</th>\n",
              "      <td>5f75395acc3fc01efb9224c7</td>\n",
              "      <td>2020-09-30</td>\n",
              "      <td>3</td>\n",
              "      <td>2</td>\n",
              "      <td>1</td>\n",
              "      <td>1</td>\n",
              "      <td>Yes</td>\n",
              "      <td>0.0</td>\n",
              "      <td>0.0</td>\n",
              "      <td>1.0</td>\n",
              "      <td>1</td>\n",
              "      <td>ACLS</td>\n",
              "      <td>Cerner-Meditech-Soarian</td>\n",
              "      <td>Medical Surgical - Telemetry, Long Term Care</td>\n",
              "      <td>40s</td>\n",
              "      <td>6.0</td>\n",
              "      <td>0.0</td>\n",
              "      <td>2020-10-07</td>\n",
              "      <td>2020-10-07</td>\n",
              "      <td>0</td>\n",
              "    </tr>\n",
              "    <tr>\n",
              "      <th>2</th>\n",
              "      <td>5f751230008c3f36cc830320</td>\n",
              "      <td>2020-09-30</td>\n",
              "      <td>4</td>\n",
              "      <td>3</td>\n",
              "      <td>3</td>\n",
              "      <td>2</td>\n",
              "      <td>Yes</td>\n",
              "      <td>0.0</td>\n",
              "      <td>0.0</td>\n",
              "      <td>6.0</td>\n",
              "      <td>0</td>\n",
              "      <td>ACLS-BLS-NIHSS</td>\n",
              "      <td>Cerner-Epic-HMS-Meditech</td>\n",
              "      <td>Cardiac ICU, Telemetry, Critical Care, Medical...</td>\n",
              "      <td>35-39</td>\n",
              "      <td>14.0</td>\n",
              "      <td>3.0</td>\n",
              "      <td>2020-09-30</td>\n",
              "      <td>2020-10-14</td>\n",
              "      <td>0</td>\n",
              "    </tr>\n",
              "  </tbody>\n",
              "</table>\n",
              "</div>"
            ],
            "text/plain": [
              "                   User  ID  ... User Count Offered\n",
              "0  5f75431f88dc8fa23a15ba1c  ...                  1\n",
              "1  5f75395acc3fc01efb9224c7  ...                  0\n",
              "2  5f751230008c3f36cc830320  ...                  0\n",
              "\n",
              "[3 rows x 20 columns]"
            ]
          },
          "metadata": {
            "tags": []
          },
          "execution_count": 4
        }
      ]
    },
    {
      "cell_type": "code",
      "metadata": {
        "id": "_FRb_xuOK5S2"
      },
      "source": [
        " #Dataframe Stats\r\n",
        " print(f'df.shape - {df.shape}')\r\n",
        " df.describe()"
      ],
      "execution_count": null,
      "outputs": []
    },
    {
      "cell_type": "code",
      "metadata": {
        "colab": {
          "base_uri": "https://localhost:8080/"
        },
        "id": "rSldOxxHLTOO",
        "outputId": "3c0a40b1-b4b7-46a8-9469-4680f037ff7c"
      },
      "source": [
        "# Basic Data Quality Check\r\n",
        "df.isnull().sum()"
      ],
      "execution_count": 6,
      "outputs": [
        {
          "output_type": "execute_result",
          "data": {
            "text/plain": [
              "User  ID                                            0\n",
              "User Registered Date                                0\n",
              "User Num References                                 0\n",
              "User Num Qualified References                       0\n",
              "User Num Completed PCLs                             0\n",
              "User Num State Licenses                             0\n",
              "User Has Compact License (Yes / No)                 0\n",
              "User Count Applications Completed last 7 Days     179\n",
              "User Count Applications Completed last 30 Days    179\n",
              "User Count Applications Completed                 179\n",
              "User Count Jobs Viewed, last 30 Days                0\n",
              "User Certifications                                 9\n",
              "User EHR Systems                                   22\n",
              "User Specialization List                          376\n",
              "User Age Bucket                                     0\n",
              "User Years Nursing Exp                            115\n",
              "User Years Travel Exp                             564\n",
              "User First Application Date                       180\n",
              "User Last Application Date                        180\n",
              "User Count Offered                                  0\n",
              "dtype: int64"
            ]
          },
          "metadata": {
            "tags": []
          },
          "execution_count": 6
        }
      ]
    },
    {
      "cell_type": "code",
      "metadata": {
        "colab": {
          "base_uri": "https://localhost:8080/"
        },
        "id": "7PTYVZpbNLgI",
        "outputId": "70ba5e32-4829-4c9a-e600-9453cc9e8b58"
      },
      "source": [
        "# I made a decion to drop all rows with NaN values since it is unclear how to impute those \r\n",
        "df_cleaned = df.dropna()\r\n",
        "df_cleaned.shape"
      ],
      "execution_count": 7,
      "outputs": [
        {
          "output_type": "execute_result",
          "data": {
            "text/plain": [
              "(3761, 20)"
            ]
          },
          "metadata": {
            "tags": []
          },
          "execution_count": 7
        }
      ]
    },
    {
      "cell_type": "code",
      "metadata": {
        "id": "U2zaR3f-SIk5"
      },
      "source": [
        "# Data Profiling for the Exploration\r\n",
        "profile = ProfileReport(df_cleaned, title='Data Profiling Report', html={'style':{'full_width':False}})"
      ],
      "execution_count": null,
      "outputs": []
    },
    {
      "cell_type": "code",
      "metadata": {
        "id": "vov-sU4iSYme"
      },
      "source": [
        "profile.to_notebook_iframe()"
      ],
      "execution_count": null,
      "outputs": []
    },
    {
      "cell_type": "code",
      "metadata": {
        "colab": {
          "base_uri": "https://localhost:8080/"
        },
        "id": "31EfXiTPOuVB",
        "outputId": "2adfa9a4-22cb-45cf-b379-71a6ba29718f"
      },
      "source": [
        "df_cleaned.columns #service code to get a list of column, delete before deployment"
      ],
      "execution_count": null,
      "outputs": [
        {
          "output_type": "execute_result",
          "data": {
            "text/plain": [
              "Index(['User  ID', 'User Registered Date', 'User Num References',\n",
              "       'User Num Qualified References', 'User Num Completed PCLs',\n",
              "       'User Num State Licenses', 'User Has Compact License (Yes / No)',\n",
              "       'User Count Applications Completed last 7 Days',\n",
              "       'User Count Applications Completed last 30 Days',\n",
              "       'User Count Applications Completed',\n",
              "       'User Count Jobs Viewed, last 30 Days', 'User Certifications',\n",
              "       'User EHR Systems', 'User Specialization List', 'User Age Bucket',\n",
              "       'User Years Nursing Exp', 'User Years Travel Exp',\n",
              "       'User First Application Date', 'User Last Application Date',\n",
              "       'User Count Offered'],\n",
              "      dtype='object')"
            ]
          },
          "metadata": {
            "tags": []
          },
          "execution_count": 19
        }
      ]
    },
    {
      "cell_type": "code",
      "metadata": {
        "id": "zEtKnTkGJOwj"
      },
      "source": [
        "# Dataframe of Original Numeric Predictors (dropping all categorical data & target for follow-up processing):\r\n",
        "X_original = df_cleaned.drop(['User  ID', 'User Registered Date','User Has Compact License (Yes / No)','User Certifications', \r\n",
        "                              'User EHR Systems','User Specialization List','User Age Bucket', 'User First Application Date', \r\n",
        "                              'User Last Application Date','User Count Offered' ], axis=1) "
      ],
      "execution_count": 8,
      "outputs": []
    },
    {
      "cell_type": "code",
      "metadata": {
        "colab": {
          "base_uri": "https://localhost:8080/"
        },
        "id": "lNlL5FWOWohB",
        "outputId": "dc33e000-c74a-4f18-ea1c-e1b3e548d232"
      },
      "source": [
        "X_original.shape"
      ],
      "execution_count": 9,
      "outputs": [
        {
          "output_type": "execute_result",
          "data": {
            "text/plain": [
              "(3761, 10)"
            ]
          },
          "metadata": {
            "tags": []
          },
          "execution_count": 9
        }
      ]
    },
    {
      "cell_type": "code",
      "metadata": {
        "id": "Zq-sEPBnKAC-"
      },
      "source": [
        "#Target Dataframe:\r\n",
        "Y = df_cleaned['User Count Offered']"
      ],
      "execution_count": 10,
      "outputs": []
    },
    {
      "cell_type": "code",
      "metadata": {
        "colab": {
          "base_uri": "https://localhost:8080/"
        },
        "id": "y4ux--pfN_yj",
        "outputId": "07fa570b-2990-4705-e50f-852351841a4a"
      },
      "source": [
        "#SERVICE CODE TO BE DELETED\r\n",
        "df_cleaned = df_cleaned.drop(['User  ID', 'User Registered Date'], axis=1)\r\n",
        "df_cleaned.shape "
      ],
      "execution_count": 11,
      "outputs": [
        {
          "output_type": "execute_result",
          "data": {
            "text/plain": [
              "(3761, 18)"
            ]
          },
          "metadata": {
            "tags": []
          },
          "execution_count": 11
        }
      ]
    },
    {
      "cell_type": "code",
      "metadata": {
        "id": "VEQ-SfFDhgKv"
      },
      "source": [
        "# transforming categorical data\r\n",
        "# conversion to dummies for low cardinality variables\r\n",
        "df_to_dummies = df_cleaned['User Has Compact License (Yes / No)']\r\n",
        "df_dummies = pd.get_dummies(df_to_dummies, columns=['User Has Compact License (Yes / No)'])\r\n",
        "# conversion to hashes for high cordinality variables\r\n",
        "# default settings are used. Depending the realtive business importance of these parameters it may be refined further during feature engineering \r\n",
        "df_to_hush_transform = df_cleaned[['User Certifications', 'User EHR Systems','User Specialization List']]\r\n",
        "hash_encoder = ce.HashingEncoder()\r\n",
        "df_hash_encoded = hash_encoder.fit_transform(df_to_hush_transform)"
      ],
      "execution_count": 12,
      "outputs": []
    },
    {
      "cell_type": "code",
      "metadata": {
        "id": "iMtWt4euPeyK"
      },
      "source": [
        "# new numeric parameters frame\r\n",
        "df_new_variables = pd.concat([df_hash_encoded,df_dummies],axis=1)"
      ],
      "execution_count": 13,
      "outputs": []
    },
    {
      "cell_type": "code",
      "metadata": {
        "id": "W1HhxBaxUbWM"
      },
      "source": [
        "# Dataframe of Predictors:\r\n",
        "X = pd.concat([X_original,df_new_variables], axis=1)"
      ],
      "execution_count": 14,
      "outputs": []
    },
    {
      "cell_type": "code",
      "metadata": {
        "colab": {
          "base_uri": "https://localhost:8080/",
          "height": 247
        },
        "id": "Eq8EqkbFX3go",
        "outputId": "af20d50f-4052-4e7f-ab4e-b38d04ccf39e"
      },
      "source": [
        "X.head(3)\r\n",
        "# col_0 through Col_7 are the result of hashing 'User Certifications', 'User EHR Systems' and 'User Specialization List'\r\n",
        "# categorical series, those parameters can not be interpreted independentaly, these are embeddings via hashing\r\n",
        "# this element of data paremetrization should be researched further as a part of the feature engineering for the any model \r\n",
        "# planned for Prod"
      ],
      "execution_count": 17,
      "outputs": [
        {
          "output_type": "execute_result",
          "data": {
            "text/html": [
              "<div>\n",
              "<style scoped>\n",
              "    .dataframe tbody tr th:only-of-type {\n",
              "        vertical-align: middle;\n",
              "    }\n",
              "\n",
              "    .dataframe tbody tr th {\n",
              "        vertical-align: top;\n",
              "    }\n",
              "\n",
              "    .dataframe thead th {\n",
              "        text-align: right;\n",
              "    }\n",
              "</style>\n",
              "<table border=\"1\" class=\"dataframe\">\n",
              "  <thead>\n",
              "    <tr style=\"text-align: right;\">\n",
              "      <th></th>\n",
              "      <th>User Num References</th>\n",
              "      <th>User Num Qualified References</th>\n",
              "      <th>User Num Completed PCLs</th>\n",
              "      <th>User Num State Licenses</th>\n",
              "      <th>User Count Applications Completed last 7 Days</th>\n",
              "      <th>User Count Applications Completed last 30 Days</th>\n",
              "      <th>User Count Applications Completed</th>\n",
              "      <th>User Count Jobs Viewed, last 30 Days</th>\n",
              "      <th>User Years Nursing Exp</th>\n",
              "      <th>User Years Travel Exp</th>\n",
              "      <th>col_0</th>\n",
              "      <th>col_1</th>\n",
              "      <th>col_2</th>\n",
              "      <th>col_3</th>\n",
              "      <th>col_4</th>\n",
              "      <th>col_5</th>\n",
              "      <th>col_6</th>\n",
              "      <th>col_7</th>\n",
              "      <th>No</th>\n",
              "      <th>Yes</th>\n",
              "    </tr>\n",
              "  </thead>\n",
              "  <tbody>\n",
              "    <tr>\n",
              "      <th>0</th>\n",
              "      <td>3</td>\n",
              "      <td>2</td>\n",
              "      <td>1</td>\n",
              "      <td>1</td>\n",
              "      <td>0.0</td>\n",
              "      <td>0.0</td>\n",
              "      <td>1.0</td>\n",
              "      <td>18</td>\n",
              "      <td>11.0</td>\n",
              "      <td>0.0</td>\n",
              "      <td>1</td>\n",
              "      <td>1</td>\n",
              "      <td>0</td>\n",
              "      <td>0</td>\n",
              "      <td>0</td>\n",
              "      <td>0</td>\n",
              "      <td>0</td>\n",
              "      <td>1</td>\n",
              "      <td>0</td>\n",
              "      <td>1</td>\n",
              "    </tr>\n",
              "    <tr>\n",
              "      <th>1</th>\n",
              "      <td>3</td>\n",
              "      <td>2</td>\n",
              "      <td>1</td>\n",
              "      <td>1</td>\n",
              "      <td>0.0</td>\n",
              "      <td>0.0</td>\n",
              "      <td>1.0</td>\n",
              "      <td>1</td>\n",
              "      <td>6.0</td>\n",
              "      <td>0.0</td>\n",
              "      <td>0</td>\n",
              "      <td>1</td>\n",
              "      <td>0</td>\n",
              "      <td>0</td>\n",
              "      <td>0</td>\n",
              "      <td>0</td>\n",
              "      <td>2</td>\n",
              "      <td>0</td>\n",
              "      <td>0</td>\n",
              "      <td>1</td>\n",
              "    </tr>\n",
              "    <tr>\n",
              "      <th>2</th>\n",
              "      <td>4</td>\n",
              "      <td>3</td>\n",
              "      <td>3</td>\n",
              "      <td>2</td>\n",
              "      <td>0.0</td>\n",
              "      <td>0.0</td>\n",
              "      <td>6.0</td>\n",
              "      <td>0</td>\n",
              "      <td>14.0</td>\n",
              "      <td>3.0</td>\n",
              "      <td>2</td>\n",
              "      <td>1</td>\n",
              "      <td>0</td>\n",
              "      <td>0</td>\n",
              "      <td>0</td>\n",
              "      <td>0</td>\n",
              "      <td>0</td>\n",
              "      <td>0</td>\n",
              "      <td>0</td>\n",
              "      <td>1</td>\n",
              "    </tr>\n",
              "  </tbody>\n",
              "</table>\n",
              "</div>"
            ],
            "text/plain": [
              "   User Num References  User Num Qualified References  ...  No  Yes\n",
              "0                    3                              2  ...   0    1\n",
              "1                    3                              2  ...   0    1\n",
              "2                    4                              3  ...   0    1\n",
              "\n",
              "[3 rows x 20 columns]"
            ]
          },
          "metadata": {
            "tags": []
          },
          "execution_count": 17
        }
      ]
    },
    {
      "cell_type": "code",
      "metadata": {
        "id": "l2A9l6_0Zx7J"
      },
      "source": [
        "# Predictors variables to Numpy arrays following by scaling\r\n",
        "#Train-Test Split\r\n",
        "X_train, X_test, y_train, y_test = train_test_split(X.values, Y.values, test_size=0.05, random_state=42)\r\n",
        "# Using Standard Scaler\r\n",
        "scaler = StandardScaler().fit(X.values)\r\n",
        "X_train_rescaled = scaler.transform(X_train)\r\n",
        "X_test_rescaled = scaler.transform(X_test)"
      ],
      "execution_count": 37,
      "outputs": []
    },
    {
      "cell_type": "code",
      "metadata": {
        "colab": {
          "base_uri": "https://localhost:8080/"
        },
        "id": "5gGWtJ7zbRJ0",
        "outputId": "4cac5970-5b9e-4311-d532-0a88c7e38080"
      },
      "source": [
        "X_test_rescaled"
      ],
      "execution_count": 38,
      "outputs": [
        {
          "output_type": "execute_result",
          "data": {
            "text/plain": [
              "array([[-0.62838288, -0.87692182, -0.92948719, ..., -0.76460892,\n",
              "        -0.42917823,  0.42917823],\n",
              "       [ 0.1143412 ,  0.72799446,  0.47079373, ..., -0.76460892,\n",
              "        -0.42917823,  0.42917823],\n",
              "       [-0.62838288, -0.07446368, -0.22934673, ...,  2.57146317,\n",
              "        -0.42917823,  0.42917823],\n",
              "       ...,\n",
              "       [-0.62838288, -0.07446368,  1.1709342 , ..., -0.76460892,\n",
              "         2.3300343 , -2.3300343 ],\n",
              "       [ 0.1143412 ,  0.72799446,  0.47079373, ..., -0.76460892,\n",
              "        -0.42917823,  0.42917823],\n",
              "       [-0.62838288, -0.87692182, -0.22934673, ..., -0.76460892,\n",
              "        -0.42917823,  0.42917823]])"
            ]
          },
          "metadata": {
            "tags": []
          },
          "execution_count": 38
        }
      ]
    },
    {
      "cell_type": "markdown",
      "metadata": {
        "id": "Pc2vtauc5iWt"
      },
      "source": [
        "**Data Prep Findings**\r\n",
        "\r\n",
        "\r\n",
        "*   The Target - 'User Count Offered' appears to  have only 2 classes [0,1].  Therefore the below model is a binary classifier.  It won't be difficult to change it to the multi-class  \r\n",
        "*   The following data series are excluded from the model parameters: 'User  ID', 'User Registered Date' (for obvious reasons, these 2 shouldn't affect the result), 'User Age Bucket' (I hope it doesn't affect the result. if it does,  there is an age-bias in this industry, it is an example of a \"protected variable\", models should in insensitive to it), 'User First Application Date', 'User Last Application Date' (it may be researched further, in a real world scenario, I would talk to the product management to understand how this data may influence the classification, without this knowledge it is not clear to me what is the most appropriate way of casting these parameters into numeric values.  Without this understanding it may skew the results)\r\n",
        "\r\n"
      ]
    },
    {
      "cell_type": "markdown",
      "metadata": {
        "id": "FBn8XpfFYs3e"
      },
      "source": [
        "# Modelling"
      ]
    },
    {
      "cell_type": "code",
      "metadata": {
        "id": "95sd9iYJY0C2"
      },
      "source": [
        "from sklearn import preprocessing\r\n",
        "from sklearn.linear_model import LogisticRegression\r\n",
        "from sklearn.metrics import accuracy_score\r\n",
        "from xgboost import XGBClassifier"
      ],
      "execution_count": 21,
      "outputs": []
    },
    {
      "cell_type": "code",
      "metadata": {
        "id": "Gm09W7w7CrRE"
      },
      "source": [
        "# Imports for Kfold cross validation \r\n",
        "from sklearn.model_selection import KFold\r\n",
        "from sklearn.model_selection import cross_val_score"
      ],
      "execution_count": 46,
      "outputs": []
    },
    {
      "cell_type": "markdown",
      "metadata": {
        "id": "eRN4Wu8AbQTn"
      },
      "source": [
        "*XGBoost*"
      ]
    },
    {
      "cell_type": "code",
      "metadata": {
        "colab": {
          "base_uri": "https://localhost:8080/"
        },
        "id": "R5L9vWYicHQN",
        "outputId": "cc8c9151-f40e-4060-99bd-e00b3f1c8943"
      },
      "source": [
        "# fit model no training data\r\n",
        "model_XGB = XGBClassifier()\r\n",
        "model_XGB.fit(X_train_rescaled, y_train)\r\n",
        "# feature importance\r\n",
        "features_xgb = model_XGB.feature_importances_\r\n",
        "print(features_xgb) # Relative imporance of the features"
      ],
      "execution_count": 22,
      "outputs": [
        {
          "output_type": "stream",
          "text": [
            "[0.0269777  0.16255695 0.07531682 0.03323105 0.0265331  0.01949844\n",
            " 0.28515694 0.09012117 0.02345294 0.0334481  0.02912311 0.03162127\n",
            " 0.01557791 0.03620308 0.01792753 0.0294485  0.02695657 0.01936318\n",
            " 0.01748566 0.        ]\n"
          ],
          "name": "stdout"
        }
      ]
    },
    {
      "cell_type": "code",
      "metadata": {
        "colab": {
          "base_uri": "https://localhost:8080/",
          "height": 295
        },
        "id": "9LKyP9780Z6c",
        "outputId": "d06eca99-f485-489d-a6cd-97650bd97cb3"
      },
      "source": [
        "feature_importances = sorted(zip(features_xgb,list(X.columns)), reverse = True)[:5]; feature_importances\r\n",
        "# Plotting Feature Importances\r\n",
        "feature_imp = [item[0] for item in feature_importances]\r\n",
        "feature_imp_index = [item[1] for item in feature_importances]\r\n",
        "sns.barplot(x=feature_imp, y=feature_imp_index)\r\n",
        "# Add labels to your graph\r\n",
        "plt.xlabel('Feature Importance Score')\r\n",
        "plt.ylabel('Features')\r\n",
        "plt.title(\"Visualizing Important Features\")\r\n",
        "#plt.legend()\r\n",
        "plt.show()"
      ],
      "execution_count": 23,
      "outputs": [
        {
          "output_type": "display_data",
          "data": {
            "image/png": "[encoded data removed]",
            "text/plain": [
              "<Figure size 432x288 with 1 Axes>"
            ]
          },
          "metadata": {
            "tags": [],
            "needs_background": "light"
          }
        }
      ]
    },
    {
      "cell_type": "markdown",
      "metadata": {
        "id": "2iIL90mySXlp"
      },
      "source": [
        "*Prediction & Accuracy. <br> Preprocess & Scale parameters before running model predictions*"
      ]
    },
    {
      "cell_type": "code",
      "metadata": {
        "id": "QGzHOSUr_Kei"
      },
      "source": [
        "# make predictions for test data\r\n",
        "y_pred = model_XGB.predict(X_test_rescaled)\r\n",
        "accuracy = accuracy_score(y_test, y_pred)"
      ],
      "execution_count": 44,
      "outputs": []
    },
    {
      "cell_type": "code",
      "metadata": {
        "colab": {
          "base_uri": "https://localhost:8080/"
        },
        "id": "vvlbuon2AHEo",
        "outputId": "a5d40ef7-4047-417b-8fdb-c1eff87c030c"
      },
      "source": [
        "accuracy"
      ],
      "execution_count": 45,
      "outputs": [
        {
          "output_type": "execute_result",
          "data": {
            "text/plain": [
              "0.8465608465608465"
            ]
          },
          "metadata": {
            "tags": []
          },
          "execution_count": 45
        }
      ]
    },
    {
      "cell_type": "markdown",
      "metadata": {
        "id": "t0aB1ubBC6MY"
      },
      "source": [
        "*K-folds Cross Valiation (making sure that 85% is not too good to be true...)*"
      ]
    },
    {
      "cell_type": "code",
      "metadata": {
        "id": "l8WDv59LDxzP"
      },
      "source": [
        "# Data Prep for K-folds Cross Validation\r\n",
        "X_kfolds_rescaled = scaler.transform(X.values)\r\n",
        "y_kfold = Y.values"
      ],
      "execution_count": 48,
      "outputs": []
    },
    {
      "cell_type": "code",
      "metadata": {
        "colab": {
          "base_uri": "https://localhost:8080/"
        },
        "id": "NdFa4a6NC5Rv",
        "outputId": "45ee4531-ba95-4849-e60f-4448e10ca9cf"
      },
      "source": [
        "kfold = KFold(n_splits=10, random_state=42)\r\n",
        "results = cross_val_score(model_XGB, X, Y, cv=kfold)\r\n",
        "print(\"Accuracy: %.2f%% (%.2f%%)\" % (results.mean()*100, results.std()*100))"
      ],
      "execution_count": 52,
      "outputs": [
        {
          "output_type": "stream",
          "text": [
            "/usr/local/lib/python3.6/dist-packages/sklearn/model_selection/_split.py:296: FutureWarning: Setting a random_state has no effect since shuffle is False. This will raise an error in 0.24. You should leave random_state to its default (None), or set shuffle=True.\n",
            "  FutureWarning\n"
          ],
          "name": "stderr"
        },
        {
          "output_type": "stream",
          "text": [
            "Accuracy: 81.86% (6.07%)\n"
          ],
          "name": "stdout"
        }
      ]
    }
  ]
}