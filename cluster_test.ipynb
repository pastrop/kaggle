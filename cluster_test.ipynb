{
  "cells": [
    {
      "cell_type": "markdown",
      "metadata": {
        "id": "view-in-github",
        "colab_type": "text"
      },
      "source": [
        "<a href=\"https://colab.research.google.com/github/pastrop/kaggle/blob/master/cluster_test.ipynb\" target=\"_parent\"><img src=\"https://colab.research.google.com/assets/colab-badge.svg\" alt=\"Open In Colab\"/></a>"
      ]
    },
    {
      "cell_type": "markdown",
      "id": "e9f1c00c",
      "metadata": {
        "id": "e9f1c00c"
      },
      "source": [
        "clustering exploration"
      ]
    },
    {
      "cell_type": "code",
      "source": [
        "!pip install luminoso-api"
      ],
      "metadata": {
        "colab": {
          "base_uri": "https://localhost:8080/"
        },
        "id": "yjdI2uJC9J4c",
        "outputId": "2f4c393a-d737-421f-9034-58f3b75a45e9"
      },
      "id": "yjdI2uJC9J4c",
      "execution_count": null,
      "outputs": [
        {
          "output_type": "stream",
          "name": "stdout",
          "text": [
            "Looking in indexes: https://pypi.org/simple, https://us-python.pkg.dev/colab-wheels/public/simple/\n",
            "Collecting luminoso-api\n",
            "  Downloading luminoso-api-3.1.1.tar.gz (17 kB)\n",
            "Requirement already satisfied: requests<3.0,>=1.2.1 in /usr/local/lib/python3.7/dist-packages (from luminoso-api) (2.23.0)\n",
            "Requirement already satisfied: tqdm in /usr/local/lib/python3.7/dist-packages (from luminoso-api) (4.64.1)\n",
            "Requirement already satisfied: urllib3!=1.25.0,!=1.25.1,<1.26,>=1.21.1 in /usr/local/lib/python3.7/dist-packages (from requests<3.0,>=1.2.1->luminoso-api) (1.24.3)\n",
            "Requirement already satisfied: chardet<4,>=3.0.2 in /usr/local/lib/python3.7/dist-packages (from requests<3.0,>=1.2.1->luminoso-api) (3.0.4)\n",
            "Requirement already satisfied: idna<3,>=2.5 in /usr/local/lib/python3.7/dist-packages (from requests<3.0,>=1.2.1->luminoso-api) (2.10)\n",
            "Requirement already satisfied: certifi>=2017.4.17 in /usr/local/lib/python3.7/dist-packages (from requests<3.0,>=1.2.1->luminoso-api) (2022.9.24)\n",
            "Building wheels for collected packages: luminoso-api\n",
            "  Building wheel for luminoso-api (setup.py) ... \u001b[?25l\u001b[?25hdone\n",
            "  Created wheel for luminoso-api: filename=luminoso_api-3.1.1-py3-none-any.whl size=18911 sha256=c5e9bfb8e7baec758b7a19c1073033a807679ea2f9b946d4c128cd4ba88d0eec\n",
            "  Stored in directory: /root/.cache/pip/wheels/00/bc/ea/3e9bbb4d8c1c903ca3847d012a8ab947cfa4e0c8f44fd9b462\n",
            "Successfully built luminoso-api\n",
            "Installing collected packages: luminoso-api\n",
            "Successfully installed luminoso-api-3.1.1\n"
          ]
        }
      ]
    },
    {
      "cell_type": "code",
      "execution_count": null,
      "id": "fdb13188",
      "metadata": {
        "id": "fdb13188"
      },
      "outputs": [],
      "source": [
        "from luminoso_api.v5_client import LuminosoClient\n",
        "import json\n",
        "import numpy as np\n",
        "#from pack64 import pack64, unpack64"
      ]
    },
    {
      "cell_type": "code",
      "execution_count": null,
      "id": "a2908e99",
      "metadata": {
        "id": "a2908e99",
        "outputId": "7d560a07-7206-4bdd-ccca-dbdfea82ba1f"
      },
      "outputs": [
        {
          "name": "stdout",
          "output_type": "stream",
          "text": [
            "usage: lumi-upload [-h] [-b BASE_URL] [-f TOKEN_FILE] [-w WORKSPACE_ID]\r\n",
            "                   [-l LANGUAGE]\r\n",
            "                   input_filename [project_name]\r\n",
            "\r\n",
            "Create a Luminoso project from documents in a file.\r\n",
            "\r\n",
            "positional arguments:\r\n",
            "  input_filename        The JSON-lines (.jsons) file of documents to upload\r\n",
            "  project_name          What the project should be called\r\n",
            "\r\n",
            "optional arguments:\r\n",
            "  -h, --help            show this help message and exit\r\n",
            "  -b BASE_URL, --base-url BASE_URL\r\n",
            "                        API root url, default:\r\n",
            "                        https://daylight.luminoso.com/api/v5\r\n",
            "  -f TOKEN_FILE, --token-file TOKEN_FILE\r\n",
            "                        file where an API token was saved\r\n",
            "  -w WORKSPACE_ID, --workspace-id WORKSPACE_ID\r\n",
            "                        Workspace ID that should own the project, if not the\r\n",
            "                        default\r\n",
            "  -l LANGUAGE, --language LANGUAGE\r\n",
            "                        The language code for the language the text is in.\r\n",
            "                        Default: en\r\n"
          ]
        }
      ],
      "source": [
        "!lumi-upload -h"
      ]
    },
    {
      "cell_type": "code",
      "execution_count": null,
      "id": "5c65ab3e",
      "metadata": {
        "id": "5c65ab3e",
        "outputId": "89b9f68c-5a6e-42c4-aa44-67b0db409c3a"
      },
      "outputs": [
        {
          "name": "stdout",
          "output_type": "stream",
          "text": [
            "Using http://daylight-master.dev.int.luminoso.com/api/v5 as the root url\r\n",
            "Traceback (most recent call last):\r\n",
            "  File \"/Users/asmirnoff/opt/anaconda3/lib/python3.8/site-packages/luminoso_api/v5_client.py\", line 110, in connect\r\n",
            "    with open(token_file) as tf:\r\n",
            "FileNotFoundError: [Errno 2] No such file or directory: '/Users/asmirnoff/.luminoso/tokens.json'\r\n",
            "\r\n",
            "During handling of the above exception, another exception occurred:\r\n",
            "\r\n",
            "Traceback (most recent call last):\r\n",
            "  File \"/Users/asmirnoff/opt/anaconda3/bin/lumi-download\", line 8, in <module>\r\n",
            "    sys.exit(main())\r\n",
            "  File \"/Users/asmirnoff/opt/anaconda3/lib/python3.8/site-packages/luminoso_api/v5_download.py\", line 131, in main\r\n",
            "    _main(sys.argv[1:])\r\n",
            "  File \"/Users/asmirnoff/opt/anaconda3/lib/python3.8/site-packages/luminoso_api/v5_download.py\", line 119, in _main\r\n",
            "    client = LuminosoClient.connect(\r\n",
            "  File \"/Users/asmirnoff/opt/anaconda3/lib/python3.8/site-packages/luminoso_api/v5_client.py\", line 113, in connect\r\n",
            "    raise LuminosoAuthError('No token file at %s' % token_file)\r\n",
            "luminoso_api.errors.LuminosoAuthError: No token file at /Users/asmirnoff/.luminoso/tokens.json\r\n"
          ]
        }
      ],
      "source": [
        "!lumi-download -b 'http://daylight-master.dev.int.luminoso.com/' 'prhknxcz' "
      ]
    },
    {
      "cell_type": "code",
      "execution_count": null,
      "id": "728acef6",
      "metadata": {
        "id": "728acef6",
        "outputId": "cf01bb3d-a81b-445f-df37-784832ddb441"
      },
      "outputs": [
        {
          "name": "stderr",
          "output_type": "stream",
          "text": [
            "Using http://daylight-master.dev.int.luminoso.com/api/v5 as the root url\n"
          ]
        }
      ],
      "source": [
        "c = LuminosoClient.connect(url='http://daylight-master.dev.int.luminoso.com/', \n",
        "                           token='')"
      ]
    },
    {
      "cell_type": "code",
      "execution_count": null,
      "id": "afc66715",
      "metadata": {
        "id": "afc66715",
        "outputId": "0de276b3-d923-4f6e-e694-2a0fdf8afe4e"
      },
      "outputs": [
        {
          "name": "stderr",
          "output_type": "stream",
          "text": [
            "Using https://biglight.int.luminoso.com/api/v5 as the root url\n"
          ]
        }
      ],
      "source": [
        "c_biglight = LuminosoClient.connect(url='https://biglight.int.luminoso.com', \n",
        "                           token='')"
      ]
    },
    {
      "cell_type": "code",
      "source": [
        "c_gcp = LuminosoClient.connect(url='https://daylight2.luminoso.com', \n",
        "                           token='')"
      ],
      "metadata": {
        "colab": {
          "base_uri": "https://localhost:8080/"
        },
        "id": "xND73JXx8dQ1",
        "outputId": "3d231126-6ae0-47e3-a5ee-0ddf62bbd46f"
      },
      "id": "xND73JXx8dQ1",
      "execution_count": null,
      "outputs": [
        {
          "output_type": "stream",
          "name": "stderr",
          "text": [
            "WARNING:luminoso_api.v5_client:Using https://daylight2.luminoso.com/api/v5 as the root url\n"
          ]
        }
      ]
    },
    {
      "cell_type": "code",
      "execution_count": null,
      "id": "a0a40996",
      "metadata": {
        "colab": {
          "base_uri": "https://localhost:8080/"
        },
        "id": "a0a40996",
        "outputId": "235909a9-6a93-4afd-eddd-b372845cfc6b"
      },
      "outputs": [
        {
          "output_type": "stream",
          "name": "stdout",
          "text": [
            "{'workspace_id': 'd28u442s', 'creation_date': 1664420373.9536865, 'creator': 'rmoses@luminoso.com', 'description': '', 'document_count': 5110, 'language': 'en', 'next_build_language': 'en', 'last_metaupdate': 1664421248.1481304, 'last_build_info': {'number': 1, 'language': 'en', 'science_version': '2.2.4', 'start_time': 1664420379.3619637, 'stop_time': 1664420504.1614366, 'sentiment': {'start_time': 1664420506.1277292, 'stop_time': 1664421248.1481304, 'success': True}, 'success': True}, 'last_successful_build_time': 1664420504.1614366, 'name': 'Kindle Fire Phone.csv - 1', 'project_id': 'prx5fjdg', 'permissions': ['create', 'read', 'write']}\n",
            "{'workspace_id': 'd28u442s', 'creation_date': 1664247488.151726, 'creator': 'asmirnoff@luminoso.com', 'description': '', 'document_count': 6956, 'language': 'en', 'next_build_language': 'en', 'last_metaupdate': 1664248879.247752, 'last_build_info': {'number': 1, 'language': 'en', 'science_version': '2.2.4', 'start_time': 1664247501.196503, 'stop_time': 1664247663.5240467, 'sentiment': {'start_time': 1664247666.4206448, 'stop_time': 1664248879.247752, 'success': True}, 'success': True}, 'last_successful_build_time': 1664247663.5240467, 'name': 'Project Zoo_ Kindle Fire.csv', 'project_id': 'prkb5nxp', 'permissions': ['create', 'read', 'write']}\n",
            "{'workspace_id': 'd28u442s', 'creation_date': 1664496438.6717894, 'creator': 'asmirnoff@luminoso.com', 'description': '', 'document_count': 6956, 'language': 'en', 'next_build_language': 'en', 'last_metaupdate': 1664498349.197086, 'last_build_info': {'number': 1, 'language': 'en', 'science_version': '2.2.4', 'start_time': 1664496451.6305249, 'stop_time': 1664496611.469222, 'sentiment': {'start_time': 1664496614.1500418, 'stop_time': 1664498349.197086, 'success': True}, 'success': True}, 'last_successful_build_time': 1664496611.469222, 'name': 'Project Zoo_ Kindle Fire.csv - 1', 'project_id': 'prg768nq', 'permissions': ['create', 'read', 'write']}\n",
            "{'workspace_id': 'd28u442s', 'creation_date': 1664248964.0331714, 'creator': 'asmirnoff@luminoso.com', 'description': '', 'document_count': 8777, 'language': 'en', 'next_build_language': 'en', 'last_metaupdate': 1664252133.0550508, 'last_build_info': {'number': 1, 'language': 'en', 'science_version': '2.2.4', 'start_time': 1664248995.5084977, 'stop_time': 1664249241.559669, 'sentiment': {'start_time': 1664249247.146414, 'stop_time': 1664252133.0550508, 'success': True}, 'success': True}, 'last_successful_build_time': 1664249241.559669, 'name': 'beer_advocate_testing_data.csv - beer_advocate_testing_data.csv.csv', 'project_id': 'prz5fkw7', 'permissions': ['create', 'read', 'write']}\n",
            "{'workspace_id': 'd28u442s', 'creation_date': 1665412270.725225, 'creator': 'asmirnoff@luminoso.com', 'description': '', 'document_count': 5995, 'language': 'ru', 'next_build_language': 'ru', 'last_metaupdate': 1665416499.1458986, 'last_build_info': {'number': 1, 'language': 'ru', 'science_version': '2.2.4', 'start_time': 1665412308.1702569, 'stop_time': 1665412831.3948183, 'sentiment': {'start_time': 1665412838.7456498, 'stop_time': 1665416499.1458986, 'success': True}, 'success': True}, 'last_successful_build_time': 1665412831.3948183, 'name': 'Кёрлинг.csv', 'project_id': 'prs5v8wm', 'permissions': ['create', 'read', 'write']}\n",
            "{'workspace_id': 'j48f473w', 'creation_date': 1663878810.6692579, 'creator': 'jsrour@luminoso.com', 'description': '', 'document_count': 4998, 'language': 'en', 'next_build_language': 'en', 'last_metaupdate': 1664421462.9607778, 'last_build_info': {'number': 1, 'language': 'en', 'science_version': '2.2.4', 'start_time': 1663878892.2021127, 'stop_time': 1663878990.766813, 'sentiment': {'start_time': 1663878993.0923517, 'stop_time': 1663879379.7234464, 'success': True}, 'success': True}, 'last_successful_build_time': 1663878990.766813, 'name': 'AMZ 5k.csv', 'project_id': 'prm9g326', 'permissions': ['create', 'read', 'write']}\n",
            "{'workspace_id': 'j48f473w', 'creation_date': 1663877335.89883, 'creator': 'jsrour@luminoso.com', 'description': '', 'document_count': 159527, 'language': 'en', 'last_metaupdate': 1663959264.5753164, 'last_build_info': {'number': 40, 'language': 'en', 'science_version': '2.2.4', 'start_time': 1663877432.7578583, 'stop_time': 1663878477.7037992, 'sentiment': {'start_time': 1663878499.4936388, 'stop_time': 1663959051.8977773, 'success': True}, 'success': True}, 'last_successful_build_time': 1663878477.7037992, 'name': 'Copy of CET and Customer Care Comments', 'next_build_language': 'en', 'project_id': 'pr4b2m3w', 'permissions': ['create', 'read', 'write']}\n",
            "{'workspace_id': 'j48f473w', 'creation_date': 1663857188.2284517, 'creator': 'jsrour@luminoso.com', 'description': '', 'document_count': 14997, 'language': 'en', 'next_build_language': 'en', 'last_metaupdate': 1663880136.6664085, 'last_build_info': {'number': 2, 'language': 'en', 'science_version': '2.2.4', 'start_time': 1663878363.404333, 'stop_time': 1663878518.1872668, 'sentiment': {'start_time': 1663878520.6107936, 'stop_time': 1663880136.6664085, 'success': True}, 'success': True}, 'last_successful_build_time': 1663878518.1872668, 'name': 'GSK 10k.csv', 'project_id': 'pr82r9zb', 'permissions': ['create', 'read', 'write']}\n",
            "{'workspace_id': 'j48f473w', 'creation_date': 1663877825.17096, 'creator': 'jsrour@luminoso.com', 'description': 'yup', 'document_count': 6, 'language': 'en', 'next_build_language': 'en', 'last_metaupdate': 1663878632.7294137, 'last_build_info': {'number': 1, 'language': 'en', 'science_version': '2.2.4', 'start_time': 1663877825.3689215, 'stop_time': 1663877838.234886, 'sentiment': {'start_time': 1663877838.5190828, 'stop_time': 1663878632.7294137, 'success': True}, 'success': True}, 'last_successful_build_time': 1663877838.234886, 'name': 'Partial copy of woohoo', 'project_id': 'prdb8s7w', 'permissions': ['create', 'read', 'write']}\n",
            "{'workspace_id': 'j48f473w', 'creation_date': 1663877487.194654, 'creator': 'jsrour@luminoso.com', 'description': 'yup', 'document_count': 156958, 'language': 'en', 'last_metaupdate': 1663878534.260746, 'last_build_info': {'number': 39, 'language': 'en', 'science_version': '2.2.4', 'start_time': 1662475321.3051302, 'stop_time': 1662476321.574881, 'sentiment': {'start_time': 1662476335.127919, 'stop_time': 1662476491.9378498, 'success': True}, 'success': True}, 'last_successful_build_time': 1662476321.574881, 'name': 'woohoo', 'next_build_language': 'en', 'project_id': 'prtqcnvw', 'permissions': ['create', 'read', 'write']}\n",
            "{'workspace_id': 'j62b565t', 'creation_date': 1664459214.3521543, 'creator': 'hzaid+gcp@luminoso.com', 'description': '', 'document_count': 100, 'language': 'en', 'next_build_language': 'en', 'last_metaupdate': 1664459600.8183658, 'last_build_info': {'number': 1, 'language': 'en', 'science_version': '2.2.4', 'start_time': 1664459214.6797514, 'stop_time': 1664459268.0840344, 'sentiment': {'start_time': 1664459268.2183406, 'stop_time': 1664459465.4677634, 'success': True}, 'success': True}, 'last_successful_build_time': 1664459268.0840344, 'name': 'epson_reviews.csv', 'project_id': 'pr8ds73b', 'permissions': ['create', 'read', 'write']}\n",
            "{'workspace_id': 'lumi-test', 'creation_date': 1664496797.9435122, 'creator': 'lumi-test', 'description': '', 'document_count': 5110, 'language': 'en', 'next_build_language': 'en', 'last_metaupdate': 1664497575.6533892, 'last_build_info': {'number': 1, 'language': 'en', 'science_version': '2.2.4', 'start_time': 1664496805.8073149, 'stop_time': 1664496933.194125, 'sentiment': {'start_time': 1664496935.1186965, 'stop_time': 1664497575.6533892, 'success': True}, 'success': True}, 'last_successful_build_time': 1664496933.194125, 'name': 'Kindle Fire Phone.csv 1', 'project_id': 'pr59zmxg', 'permissions': ['create', 'read', 'write']}\n",
            "{'workspace_id': 'lumi-test', 'creation_date': 1663767805.9807403, 'creator': 'lumi-test-1', 'description': '', 'document_count': 6956, 'language': 'en', 'next_build_language': 'en', 'last_metaupdate': 1663770059.5928807, 'last_build_info': {'number': 1, 'language': 'en', 'science_version': '2.2.4', 'start_time': 1663767818.5337114, 'stop_time': 1663767984.165354, 'sentiment': {'start_time': 1663767987.2920809, 'stop_time': 1663770059.5928807, 'success': True}, 'success': True}, 'last_successful_build_time': 1663767984.165354, 'name': 'Project Zoo_ Kindle Fire.csv', 'project_id': 'prz36tmc', 'permissions': ['create', 'read', 'write']}\n",
            "{'workspace_id': 'lumi-test', 'creation_date': 1663964592.185058, 'creator': 'mr.saiful.azad@gmail.com', 'description': '', 'document_count': 6956, 'language': 'en', 'next_build_language': 'en', 'last_metaupdate': 1663966091.2660637, 'last_build_info': {'number': 1, 'language': 'en', 'science_version': '2.2.4', 'start_time': 1663964608.9937348, 'stop_time': 1663964777.8325238, 'sentiment': {'start_time': 1663964780.6241448, 'stop_time': 1663966091.2660637, 'success': True}, 'success': True}, 'last_successful_build_time': 1663964777.8325238, 'name': 'Project Zoo_ Kindle Fire.csv - 1', 'project_id': 'prphxcm8', 'permissions': ['create', 'read', 'write']}\n",
            "{'workspace_id': 'lumi-test', 'creation_date': 1663964616.4287972, 'creator': 'mr.saiful.azad@gmail.com', 'description': '', 'document_count': 10991, 'language': 'en', 'next_build_language': 'en', 'last_metaupdate': 1663965148.5711925, 'last_build_info': {'number': 1, 'language': 'en', 'science_version': '2.2.4', 'start_time': 1663964627.7835484, 'stop_time': 1663964764.296996, 'sentiment': {'start_time': 1663964766.594153, 'stop_time': 1663965148.5711925, 'success': True}, 'success': True}, 'last_successful_build_time': 1663964764.296996, 'name': 'Reddit - Bill Gates AMA w - Documents matching filter (2).csv', 'project_id': 'prfkctzs', 'permissions': ['create', 'read', 'write']}\n",
            "{'workspace_id': 'lumi-test', 'creation_date': 1663739887.1435173, 'creator': 'lumi-test-1', 'description': '', 'document_count': 8777, 'language': 'en', 'next_build_language': 'en', 'last_metaupdate': 1663743552.0542352, 'last_build_info': {'number': 1, 'language': 'en', 'science_version': '2.2.4', 'start_time': 1663739925.2252731, 'stop_time': 1663740165.840624, 'sentiment': {'start_time': 1663740171.5204966, 'stop_time': 1663743145.5957522, 'success': True}, 'success': True}, 'last_successful_build_time': 1663740165.840624, 'name': 'Test 1', 'project_id': 'prmphxbn', 'permissions': ['create', 'read', 'write']}\n",
            "{'workspace_id': 'lumi-test', 'creation_date': 1663962147.5599563, 'creator': 'mr.saiful.azad@gmail.com', 'description': '', 'document_count': 8777, 'language': 'en', 'next_build_language': 'en', 'last_metaupdate': 1663964417.476502, 'last_build_info': {'number': 1, 'language': 'en', 'science_version': '2.2.4', 'start_time': 1663962185.2799242, 'stop_time': 1663962427.730591, 'sentiment': {'start_time': 1663962433.2768924, 'stop_time': 1663964417.476502, 'success': True}, 'success': True}, 'last_successful_build_time': 1663962427.730591, 'name': 'Test 15', 'project_id': 'prjckg6d', 'permissions': ['create', 'read', 'write']}\n",
            "{'workspace_id': 'lumi-test', 'creation_date': 1663743948.5943294, 'creator': 'lumi-test-1', 'description': '', 'document_count': 8777, 'language': 'en', 'next_build_language': 'en', 'last_metaupdate': 1663746327.4057708, 'last_build_info': {'number': 1, 'language': 'en', 'science_version': '2.2.4', 'start_time': 1663743986.6336436, 'stop_time': 1663744235.7179286, 'sentiment': {'start_time': 1663744241.1957104, 'stop_time': 1663746327.4057708, 'success': True}, 'success': True}, 'last_successful_build_time': 1663744235.7179286, 'name': 'Test 2', 'project_id': 'pr2dtg6f', 'permissions': ['create', 'read', 'write']}\n",
            "{'workspace_id': 'lumi-test', 'creation_date': 1663756292.2743034, 'creator': 'lumi-test-1', 'description': '', 'document_count': 17554, 'language': 'en', 'next_build_language': 'en', 'last_metaupdate': 1663757596.5671215, 'last_build_info': {'number': 2, 'language': 'en', 'science_version': '2.2.4', 'start_time': 1663757046.1180742, 'stop_time': 1663757497.4803684, 'sentiment': {'start_time': 1663757508.7036731, 'stop_time': 1663757596.5671215, 'success': False}, 'success': True}, 'last_successful_build_time': 1663757497.4803684, 'name': 'Test 4', 'project_id': 'prvtc9p3', 'permissions': ['create', 'read', 'write']}\n",
            "{'workspace_id': 'lumi-test', 'creation_date': 1663758779.418348, 'creator': 'lumi-test-1', 'description': '', 'document_count': 8777, 'language': 'en', 'next_build_language': 'en', 'last_metaupdate': 1663761087.8298101, 'last_build_info': {'number': 1, 'language': 'en', 'science_version': '2.2.4', 'start_time': 1663758820.0139718, 'stop_time': 1663759071.4088025, 'sentiment': {'start_time': 1663759077.0725908, 'stop_time': 1663761087.8298101, 'success': True}, 'success': True}, 'last_successful_build_time': 1663759071.4088025, 'name': 'Test 6', 'project_id': 'pr2m6zqw', 'permissions': ['create', 'read', 'write']}\n",
            "{'workspace_id': 'lumi-test', 'creation_date': 1664245966.1516988, 'creator': 'mr.saiful.azad@gmail.com', 'description': '', 'document_count': 8777, 'language': 'en', 'next_build_language': 'en', 'last_metaupdate': 1664249971.94728, 'last_build_info': {'number': 1, 'language': 'en', 'science_version': '2.2.4', 'start_time': 1664246004.2077324, 'stop_time': 1664246247.3325164, 'sentiment': {'start_time': 1664246252.7870579, 'stop_time': 1664249971.94728, 'success': True}, 'success': True}, 'last_successful_build_time': 1664246247.3325164, 'name': 'beer_advocate.csv', 'project_id': 'pr8v4bmh', 'permissions': ['create', 'read', 'write']}\n",
            "{'workspace_id': 'lumi-test', 'creation_date': 1664417286.3990812, 'creator': 'mr.saiful.azad@gmail.com', 'description': '', 'document_count': 8777, 'language': 'en', 'next_build_language': 'en', 'last_metaupdate': 1664419572.5717788, 'last_build_info': {'number': 1, 'language': 'en', 'science_version': '2.2.4', 'start_time': 1664417326.555808, 'stop_time': 1664417555.193543, 'sentiment': {'start_time': 1664417560.4514384, 'stop_time': 1664419572.5717788, 'success': True}, 'success': True}, 'last_successful_build_time': 1664417555.193543, 'name': 'beer_advocate.csv - 1', 'project_id': 'prc8bvm5', 'permissions': ['create', 'read', 'write']}\n",
            "{'workspace_id': 'lumi-test', 'creation_date': 1664504222.750656, 'creator': 'mr.saiful.azad@gmail.com', 'description': '', 'document_count': 8777, 'language': 'en', 'next_build_language': 'en', 'last_metaupdate': 1664506551.858321, 'last_build_info': {'number': 1, 'language': 'en', 'science_version': '2.2.4', 'start_time': 1664504261.2774663, 'stop_time': 1664504495.6912756, 'sentiment': {'start_time': 1664504501.0078669, 'stop_time': 1664506551.858321, 'success': True}, 'success': True}, 'last_successful_build_time': 1664504495.6912756, 'name': 'beer_advocate.csv - 2', 'project_id': 'prgxzmrs', 'permissions': ['create', 'read', 'write']}\n",
            "{'workspace_id': 'lumi-test', 'creation_date': 1664505291.8523753, 'creator': 'mr.saiful.azad@gmail.com', 'description': '', 'document_count': 8777, 'language': 'en', 'next_build_language': 'en', 'last_metaupdate': 1664508629.3172145, 'last_build_info': {'number': 1, 'language': 'en', 'science_version': '2.2.4', 'start_time': 1664505330.3072574, 'stop_time': 1664505565.4995184, 'sentiment': {'start_time': 1664505570.6828163, 'stop_time': 1664508629.3172145, 'success': True}, 'success': True}, 'last_successful_build_time': 1664505565.4995184, 'name': 'beer_advocate.csv - 3', 'project_id': 'pr87jwsb', 'permissions': ['create', 'read', 'write']}\n",
            "{'workspace_id': 'lumi-test', 'creation_date': 1664530744.1111414, 'creator': 'mr.saiful.azad@gmail.com', 'description': '', 'document_count': 8777, 'language': 'en', 'next_build_language': 'en', 'last_metaupdate': 1664533083.3725796, 'last_build_info': {'number': 1, 'language': 'en', 'science_version': '2.2.4', 'start_time': 1664530782.6498184, 'stop_time': 1664531041.0693676, 'sentiment': {'start_time': 1664531047.1485853, 'stop_time': 1664533083.3725796, 'success': True}, 'success': True}, 'last_successful_build_time': 1664531041.0693676, 'name': 'beer_advocate.csv - 4', 'project_id': 'prfxdk9s', 'permissions': ['create', 'read', 'write']}\n",
            "{'workspace_id': 'lumi-test', 'creation_date': 1664558633.0445542, 'creator': 'mr.saiful.azad@gmail.com', 'description': '', 'document_count': 8777, 'language': 'en', 'next_build_language': 'en', 'last_metaupdate': 1664561019.46439, 'last_build_info': {'number': 1, 'language': 'en', 'science_version': '2.2.4', 'start_time': 1664558671.137383, 'stop_time': 1664558919.6832123, 'sentiment': {'start_time': 1664558927.9355667, 'stop_time': 1664561019.46439, 'success': True}, 'success': True}, 'last_successful_build_time': 1664558919.6832123, 'name': 'beer_advocate.csv - 5', 'project_id': 'pr5qdhxz', 'permissions': ['create', 'read', 'write']}\n",
            "{'workspace_id': 'lumi-test', 'creation_date': 1663800915.8082414, 'creator': 'lumi-test-1', 'description': '', 'document_count': 8777, 'language': 'en', 'next_build_language': 'en', 'last_metaupdate': 1663803262.6725554, 'last_build_info': {'number': 1, 'language': 'en', 'science_version': '2.2.4', 'start_time': 1663800947.7515318, 'stop_time': 1663801185.7860687, 'sentiment': {'start_time': 1663801191.0491693, 'stop_time': 1663803262.6725554, 'success': True}, 'success': True}, 'last_successful_build_time': 1663801185.7860687, 'name': 'beer_advocate_testing_data.csv - beer_advocate_testing_data.csv.csv', 'project_id': 'prp246bw', 'permissions': ['create', 'read', 'write']}\n",
            "{'workspace_id': 'lumi-test', 'creation_date': 1663855477.3236759, 'creator': 'lumi-test-2', 'description': '', 'document_count': 8777, 'language': 'en', 'next_build_language': 'en', 'last_metaupdate': 1663857747.8732936, 'last_build_info': {'number': 1, 'language': 'en', 'science_version': '2.2.4', 'start_time': 1663855509.150889, 'stop_time': 1663855762.396688, 'sentiment': {'start_time': 1663855768.0313087, 'stop_time': 1663857747.8732936, 'success': True}, 'success': True}, 'last_successful_build_time': 1663855762.396688, 'name': 'beer_advocate_testing_data.csv - beer_advocate_testing_data.csv.csv - 1', 'project_id': 'prq4tvd6', 'permissions': ['create', 'read', 'write']}\n",
            "{'workspace_id': 'lumi-test', 'creation_date': 1663765639.8981383, 'creator': 'lumi-test-1', 'description': '', 'document_count': 8777, 'language': 'en', 'next_build_language': 'en', 'last_metaupdate': 1663767961.462806, 'last_build_info': {'number': 1, 'language': 'en', 'science_version': '2.2.4', 'start_time': 1663765679.1203241, 'stop_time': 1663765924.354605, 'sentiment': {'start_time': 1663765930.2062058, 'stop_time': 1663767961.462806, 'success': True}, 'success': True}, 'last_successful_build_time': 1663765924.354605, 'name': 'final test 5', 'project_id': 'prwq3pc9', 'permissions': ['create', 'read', 'write']}\n",
            "{'workspace_id': 'lumi-test', 'creation_date': 1663869132.1000705, 'creator': 'mr.saiful.azad@gmail.com', 'description': '', 'document_count': 8777, 'language': 'en', 'next_build_language': 'en', 'last_metaupdate': 1663873046.33362, 'last_build_info': {'number': 1, 'language': 'en', 'science_version': '2.2.4', 'start_time': 1663869172.9707298, 'stop_time': 1663869422.4374359, 'sentiment': {'start_time': 1663869428.2155645, 'stop_time': 1663873046.33362, 'success': True}, 'success': True}, 'last_successful_build_time': 1663869422.4374359, 'name': 'load test', 'project_id': 'prdc5rp2', 'permissions': ['create', 'read', 'write']}\n",
            "{'workspace_id': 'lumi-test', 'creation_date': 1663847152.3444448, 'creator': 'lumi-test-1', 'description': '', 'document_count': 0, 'language': 'en', 'next_build_language': 'en', 'last_metaupdate': 1663847216.9568202, 'last_build_info': {'number': 1, 'language': 'en', 'science_version': None, 'start_time': 1663847216.9568202, 'stop_time': None, 'sentiment': {'start_time': None, 'stop_time': None}}, 'last_successful_build_time': None, 'name': 'test 10', 'project_id': 'pr7zns5b', 'permissions': ['create', 'read', 'write']}\n",
            "{'workspace_id': 'lumi-test', 'creation_date': 1663849213.6993165, 'creator': 'mr.saiful.azad@gmail.com', 'description': '', 'document_count': 8777, 'language': 'en', 'next_build_language': 'en', 'last_metaupdate': 1663851555.8505197, 'last_build_info': {'number': 1, 'language': 'en', 'science_version': '2.2.4', 'start_time': 1663849253.1655755, 'stop_time': 1663849503.061304, 'sentiment': {'start_time': 1663849508.7578907, 'stop_time': 1663851555.8505197, 'success': True}, 'success': True}, 'last_successful_build_time': 1663849503.061304, 'name': 'test 11', 'project_id': 'przr6ptf', 'permissions': ['create', 'read', 'write']}\n",
            "{'workspace_id': 'lumi-test', 'creation_date': 1663747582.0846398, 'creator': 'lumi-test-1', 'description': '', 'document_count': 8777, 'language': 'en', 'next_build_language': 'en', 'last_metaupdate': 1663749928.2071867, 'last_build_info': {'number': 1, 'language': 'en', 'science_version': '2.2.4', 'start_time': 1663747624.3829641, 'stop_time': 1663747861.4505584, 'sentiment': {'start_time': 1663747867.0935538, 'stop_time': 1663749928.2071867, 'success': True}, 'success': True}, 'last_successful_build_time': 1663747861.4505584, 'name': 'test 3', 'project_id': 'prd4w8nq', 'permissions': ['create', 'read', 'write']}\n",
            "{'workspace_id': 'lumi-test', 'creation_date': 1663757841.9403899, 'creator': 'lumi-test-1', 'description': '', 'document_count': 8777, 'language': 'en', 'next_build_language': 'en', 'last_metaupdate': 1663758161.4935162, 'last_build_info': {'number': 1, 'language': 'en', 'science_version': '2.2.4', 'start_time': 1663757881.9706197, 'stop_time': 1663758149.1845691, 'sentiment': {'start_time': 1663758159.8704967, 'stop_time': 1663758161.4935162, 'success': False}, 'success': True}, 'last_successful_build_time': 1663758149.1845691, 'name': 'test 5', 'project_id': 'prxwsbgn', 'permissions': ['create', 'read', 'write']}\n",
            "{'workspace_id': 's74w378v', 'creation_date': 1664559297.9192512, 'creator': 'tworthey@luminoso.com', 'description': '', 'document_count': 6984, 'language': 'en', 'next_build_language': 'en', 'last_metaupdate': 1664559585.6687734, 'last_build_info': {'number': 2, 'language': 'en', 'science_version': '2.2.4', 'start_time': 1664559410.6473103, 'stop_time': 1664559582.7857933, 'sentiment': {'start_time': 1664559583.927119, 'stop_time': 1664559585.6687734, 'success': True}, 'success': True}, 'last_successful_build_time': 1664559582.7857933, 'name': 'Copy of Project Zoo_ Kindle Fire.csv', 'project_id': 'prc9r3tp', 'permissions': ['create', 'read', 'write']}\n",
            "{'workspace_id': 'zoo', 'creation_date': 1663873772.3315363, 'creator': 'asmirnoff@luminoso.com', 'description': '', 'document_count': 5110, 'language': 'en', 'next_build_language': 'en', 'last_metaupdate': 1663879301.8571312, 'last_build_info': {'number': 1, 'language': 'en', 'science_version': '2.2.4', 'start_time': 1663873783.0924816, 'stop_time': 1663873912.172882, 'sentiment': {'start_time': 1663873914.4924474, 'stop_time': 1663879301.8571312, 'success': True}, 'success': True}, 'last_successful_build_time': 1663873912.172882, 'name': 'Kindle Fire Phone.csv', 'project_id': 'pr4rfm7d', 'permissions': ['create', 'read', 'write']}\n"
          ]
        }
      ],
      "source": [
        "project_info_list = c_gcp.get('/api/v5/projects/')\n",
        "for item in project_info_list:\n",
        "    print(item)"
      ]
    },
    {
      "cell_type": "code",
      "execution_count": null,
      "id": "bdcdc23a",
      "metadata": {
        "scrolled": true,
        "id": "bdcdc23a"
      },
      "outputs": [],
      "source": [
        "#res = c.get('/api/v5/projects/prxvqnc7/concepts')\n",
        "res_ = c_gcp.get('/api/v5/projects/prs5v8wm/concepts', concept_selector='{\"type\": \"top\",\"limit\": 10}')\n",
        "#res_test = c.get('/api/v5/projects/prncd5rv/concepts', concept_selector='{\"type\": \"top\",\"limit\": 10}')"
      ]
    },
    {
      "cell_type": "code",
      "execution_count": null,
      "id": "4edc4d99",
      "metadata": {
        "colab": {
          "base_uri": "https://localhost:8080/"
        },
        "id": "4edc4d99",
        "outputId": "dd19200c-c116-4e45-be32-ab87a119ffba"
      },
      "outputs": [
        {
          "output_type": "execute_result",
          "data": {
            "text/plain": [
              "{'relevance': 2990.740740740741,\n",
              " 'texts': ['англ'],\n",
              " 'exact_term_ids': ['англ|ru'],\n",
              " 'excluded_term_ids': [],\n",
              " 'vectors': ['XC0c8Wx4RzDKkCftDOhAu0BJHJzhDEXC0aQI79JJBYc_nwB1O_1X-aD_50DoQ9GwAqBBbbBUw928_iRBUh_VxAf-DTX_OX7O-Dha-hc-8r9DZCzj_gfAQb_J4BR8_rN7yD72ADXg-fo_dTAx3BJj-0BB5B-0o-I39PrAyuDAQ-naBnxEEC-zo_Cn9eq_X_-UDB5TARF-7v-bmAHT_P2_DGBB8_rMAfK_nDCKV_Xm9MHBuX__Y-Df_3JBt5-wT_36B9_CQmBhu-0qA6hCQV_KIDjUBJZ_yk_xt9wp_od_5sB57-6e_zLBwoBCI_JNDBg-kPCQjBtg_GQA7K9w1CbQ-27AB7ACB_j0AcKAOI-kFADA_SX-x2Dv7DZk_Il_Fh-_hBHsB-uArM_vA_TO_-2BAJB8MBHUAl4_2p-JtALoA42BZdBAl_F8_Z7BP-_x9_cE__KAItAXq_S2_5LCB7A1HBYs-2oCCoBSfAvXBRVA5jCKM-L0AmZ_8g_rp_8zBAM_rj-doA1a-45AlS_YRADsAfoATAAOB-_u_s-AHp_QfAI6_hE_kLAM3AXgAyXAMP_7g_ug_OOBJw-NhArQ_cVBAM_4oAuwAsA-ZOAuDBlMA33_3aAMU-FzBv2_ZOAHB-6R_WjASd_s7AXp9_2_Ug-l0_AcAh_AN2-U5_G4_-DARG__--_WAH59gkCWLA7sAgk_JACTB-HIBQFAWCBU4AGF_Bx_Pw_nn-5k_Dh_I7_mf_GbAeS-BI_y0Apq_XL_1fBDfBO3-nbBkC_iI_qqCGo_4aBniBQi_X1AtxAyQ_N1Agv_3r_Os_p7Apa_tF_0O_jo_0RAecAEQ_hTAir_syAIYA2x_fmABAADK_6AA9r-sdA1p_WUA0BAAbCI2_GaAkJALHAgt'],\n",
              " 'name': 'англ'}"
            ]
          },
          "metadata": {},
          "execution_count": 8
        }
      ],
      "source": [
        "res_['result'][0]"
      ]
    },
    {
      "cell_type": "code",
      "execution_count": null,
      "id": "8c953a4d",
      "metadata": {
        "id": "8c953a4d",
        "outputId": "38b91675-d6e6-4178-c5bd-dc92b7aa6b99"
      },
      "outputs": [
        {
          "data": {
            "text/plain": [
              "500"
            ]
          },
          "execution_count": 6,
          "metadata": {},
          "output_type": "execute_result"
        }
      ],
      "source": [
        "len(res_['result'])"
      ]
    },
    {
      "cell_type": "code",
      "execution_count": null,
      "id": "cc56c468",
      "metadata": {
        "id": "cc56c468"
      },
      "outputs": [],
      "source": [
        "#get the array of term ids\n",
        "ids = []\n",
        "term_ids = [item['exact_term_ids'] for item in res_['result']]\n",
        "for item in term_ids:\n",
        "    ids.append(item[0])"
      ]
    },
    {
      "cell_type": "code",
      "execution_count": null,
      "id": "7c86fb50",
      "metadata": {
        "id": "7c86fb50",
        "outputId": "e712fdb7-c26a-43c3-d0e7-f5d3c2712ca3"
      },
      "outputs": [
        {
          "data": {
            "text/plain": [
              "['flavor|en',\n",
              " 'smell|en',\n",
              " 'taste|en',\n",
              " 'pour|en',\n",
              " 'aroma|en',\n",
              " 'beer|en',\n",
              " 'hop|en',\n",
              " 'malt|en']"
            ]
          },
          "execution_count": 16,
          "metadata": {},
          "output_type": "execute_result"
        }
      ],
      "source": [
        "ids[:8]"
      ]
    },
    {
      "cell_type": "code",
      "execution_count": null,
      "id": "2c069903",
      "metadata": {
        "id": "2c069903"
      },
      "outputs": [],
      "source": [
        "#result['vectors'] = [unpack64(item['vectors'][0] for item in result['vectors']]\n",
        "#out = list(map(lambda x: unpack64(x['vectors'][0]), res['result']))\n",
        "for item in res_['result']:\n",
        "    item['vect_unpacked'] = unpack64(item['vectors'][0]).tolist()"
      ]
    },
    {
      "cell_type": "code",
      "execution_count": null,
      "id": "ec1ba5fe",
      "metadata": {
        "id": "ec1ba5fe"
      },
      "outputs": [],
      "source": [
        "import json\n",
        "with open('beer_concept_500.json', 'w', encoding='utf-8') as f:\n",
        "    json.dump(res_['result'], f, ensure_ascii=False, indent=4)"
      ]
    },
    {
      "cell_type": "code",
      "execution_count": null,
      "id": "42401395",
      "metadata": {
        "id": "42401395"
      },
      "outputs": [],
      "source": [
        "with open('beer_concept.json') as f:\n",
        "    inp = json.load(f)"
      ]
    },
    {
      "cell_type": "code",
      "execution_count": null,
      "id": "f5d7c432",
      "metadata": {
        "id": "f5d7c432"
      },
      "outputs": [],
      "source": [
        "inp[0]"
      ]
    },
    {
      "cell_type": "code",
      "execution_count": null,
      "id": "c3f5a4d3",
      "metadata": {
        "id": "c3f5a4d3",
        "outputId": "0fdf25e5-36d0-4646-eea4-e8a464bbb200"
      },
      "outputs": [
        {
          "data": {
            "text/plain": [
              "'XTbTEvrA82AnbAt4_Hu_LV-rB-mn-uZArPByHEpSAZQ8kXAOj867AZEAhlFw7-Cz_dmAaTB4mCF9_VI5srCpwACl86V-JTDyK_BLBRW9-kB5X-HkBjTA9i-dr-6RBUtCrIDoq_2C7gd-bw-GPCLL_th_3Q-TcBB1-prAriBHlAfEBQ4BNWA2DAX-AtUDKoAGiAgoA3-Bev-ML-rjAv9-9r9y9AM6AIV9Zb-haAvy-Yn_y--q8-F59QQ_W5_2KAQW_K5AuhA11_CLAoI_vk9_LAuNAZg-hyBCbAABCHLB-x-XQ9Y572BEPy_XkASu_q4BDyBLU_t9-khBxn-oi_cM_aiBQbAYPC9t-Lf_NhAkD_6GApm-5rBM_CepAHAAtXAPA_TBATMCPJBiABXwA4QAZYArrAcVACT-8j_PuCYR_8P_2qCOzAnD-su_cX-33BuB-oaCfs-8aDVvCVk90yBYJAOK_F0_Bl_A__FeBM3A_MA6lCcNCPBAEVBHk_Yn_vxBk9AgJ__BCOKEGLBgSAFT_NLAGVAU4-_B_Rq_YfANUB-7_4QA4K_7hBUh-KMAoSAX3Aiy_h6ABH-1P-fE_Ok_NZ97N_6iBi_-9w_aVAn6BRS-k5CzGA3B-lF-4SCLAASa_Q4AJI_nXA0SASP-Kx_n-_kI_mdAQgA70AAt-wX_uRA3u9-U_yfAvE_8d_UK_lfAAYBO_AG1-jCB7wAyb_U2-4O_7G-4y-gZ_zY_VQABy_9u_6k_47An_Ajh_PVA2tCJR_4s_7cAfVAEtA3BA4b_BF_wKAuyBz2AK1_TRAi4AY2_1-AZUA6r_bJBE_AJN_DI_hqAxIA0QBZ2BY8Afi_uN__1BE6_zQA1U_af_mX_v9Aep_Y7AT1AoI_TqAI3_Z7_eN_-m'"
            ]
          },
          "execution_count": 43,
          "metadata": {},
          "output_type": "execute_result"
        }
      ],
      "source": [
        "res_['result'][0]['vectors'][0]"
      ]
    },
    {
      "cell_type": "code",
      "execution_count": null,
      "id": "d2fd37a9",
      "metadata": {
        "id": "d2fd37a9"
      },
      "outputs": [],
      "source": [
        "concept_vectors =  []\n",
        "for item in res_['result']:\n",
        "    concept_vectors.append(unpack64(item['vectors'][0]).tolist())\n",
        "concept_vectors_np = np.array(concept_vectors)    "
      ]
    },
    {
      "cell_type": "code",
      "execution_count": null,
      "id": "40d2f1bc",
      "metadata": {
        "id": "40d2f1bc"
      },
      "outputs": [],
      "source": [
        "np.savez_compressed('concept_vector.npz', vect=concept_vectors_np)"
      ]
    },
    {
      "cell_type": "code",
      "execution_count": null,
      "id": "a438dca6",
      "metadata": {
        "id": "a438dca6"
      },
      "outputs": [],
      "source": [
        "import json"
      ]
    },
    {
      "cell_type": "code",
      "execution_count": null,
      "id": "713559f8",
      "metadata": {
        "id": "713559f8"
      },
      "outputs": [],
      "source": [
        "json_concepts = json.dumps(res_['result'])"
      ]
    },
    {
      "cell_type": "code",
      "execution_count": null,
      "id": "9c4c3165",
      "metadata": {
        "id": "9c4c3165",
        "outputId": "e6aeac04-c435-4a0a-bba6-de8e2462d2a4"
      },
      "outputs": [
        {
          "data": {
            "text/plain": [
              "500"
            ]
          },
          "execution_count": 17,
          "metadata": {},
          "output_type": "execute_result"
        }
      ],
      "source": [
        "#res_terms = c.get('/api/v5/projects/prxvqnc7/terms',term_ids=['caramel|en malt|en']); res_terms\n",
        "res_terms = c.get('/api/v5/projects/prxvqnc7/terms',term_ids=ids); len(res_terms)"
      ]
    },
    {
      "cell_type": "code",
      "execution_count": null,
      "id": "d554fc70",
      "metadata": {
        "scrolled": true,
        "id": "d554fc70"
      },
      "outputs": [],
      "source": [
        "#res_docs = c.get('/api/v5/projects/prxvqnc7/docs')\n",
        "res_docs = c.get('/api/v5/projects/pr2zgrv4/docs', limit=6995)"
      ]
    },
    {
      "cell_type": "code",
      "execution_count": null,
      "id": "2935abb7",
      "metadata": {
        "id": "2935abb7",
        "outputId": "d1cf1482-8d9c-43c7-f22c-7017ee50c860"
      },
      "outputs": [
        {
          "data": {
            "text/plain": [
              "dict_keys(['result', 'filter_count', 'total_count', 'result_count', 'search'])"
            ]
          },
          "execution_count": 4,
          "metadata": {},
          "output_type": "execute_result"
        }
      ],
      "source": [
        "res_docs.keys()"
      ]
    },
    {
      "cell_type": "code",
      "execution_count": null,
      "id": "96896076",
      "metadata": {
        "id": "96896076",
        "outputId": "416bbf23-da21-4722-9a26-0c10c80a3392"
      },
      "outputs": [
        {
          "data": {
            "text/plain": [
              "'Xb5eFs493V-8eICO9so9KEC2AA0vBW8BUiAewBsA__FAMIAH-_yHBZl_90Cbz_uGAyJAZyATPBKG-_R_itAyf_enACV-WtAL-AOlBwPA6IAV-AEEBJ1BpSAshBZtADBAmb_Wo_kwAe0A5qAP0AKQ_-XBKvBuU_18_Tb_xYAy2Adx_07AaJBP7A-JBgb_3NAPKAuS_cn_hYAqSARFAhHAEL_ZWBL3_yQALf-oF_Wo_eyAeR_Q1_6-AmxBtyBChAZZ_rA_Y5_gR_5tAYhAg9A1k_wR_9PAVlAhFAKbBO0_5eAiMAtYADj_-z_Ik_0A_y7AF-_AIAMn_9g_fmBiVApAABq_xqAO0BNr_MLACgBC_AZGBLhA1MAPdAo-BUH_0m_VF_qLAIM_yg_hRASOAtZ_miBnaAXhAIxA1jAV8AjF_iBAjOBEYA6z_oDAT_AJRBUUAHOA24_68AYMAOPAlA_jbAAfAt__GY_68At9_7YBAuAW3ASuBIY_-AAsRApIA5kAmXAHyAB3ARtA1xAAeAg7_o8AXaAWEANVAZpAm6AedA7C_0aAbUBKTADkAbkAccAI_AIeAUT_i0AS-AG7Ar5_sRAHVAZkBFh_-iAGe_1zAPW__3_uRAh1AVEAUuAhg_N4_74AbvAGPAYoAdzA6x_dN_8G_3bBCAAAO_3RA62AnvAJlAtEARjAYkAQI__v_iTAAdADVAG8__n_3OAiN_zfAGzARr_M7_mKAfBARGALsAdQARmAMpAhh__3AzQAvyAGfANm_VjASHAFKBEKAY_AmwAe2_t8AoS_-DAliBy7AlTAMA_T8ABE_tPAqj_6zAY2AVxAvL_8vAkrAWUAbMAPEApsABnAf_ApZAPsAMLAPd_mVACl_-mAVbAh9AHAAVkANZACB'"
            ]
          },
          "execution_count": 10,
          "metadata": {},
          "output_type": "execute_result"
        }
      ],
      "source": [
        "res_docs['result'][1]['vector']"
      ]
    },
    {
      "cell_type": "code",
      "execution_count": null,
      "id": "383423fd",
      "metadata": {
        "id": "383423fd"
      },
      "outputs": [],
      "source": [
        "import json\n",
        "with open('terms.json', 'w', encoding='utf-8') as f:\n",
        "    json.dump(res_terms, f, ensure_ascii=False, indent=4)"
      ]
    },
    {
      "cell_type": "code",
      "execution_count": null,
      "id": "6043012d",
      "metadata": {
        "id": "6043012d"
      },
      "outputs": [],
      "source": [
        "with open('data.json') as f:\n",
        "    inp = json.load(f)"
      ]
    },
    {
      "cell_type": "code",
      "execution_count": null,
      "id": "c8c9c90b",
      "metadata": {
        "id": "c8c9c90b",
        "outputId": "5bfce748-7d90-4e11-998d-dc21a7f0859e"
      },
      "outputs": [
        {
          "data": {
            "text/plain": [
              "'Pours'"
            ]
          },
          "execution_count": 22,
          "metadata": {},
          "output_type": "execute_result"
        }
      ],
      "source": [
        "inp[3]['texts'][0]"
      ]
    },
    {
      "cell_type": "code",
      "execution_count": null,
      "id": "5689266e",
      "metadata": {
        "id": "5689266e"
      },
      "outputs": [],
      "source": [
        "from pack64 import pack64, unpack64"
      ]
    },
    {
      "cell_type": "code",
      "execution_count": null,
      "id": "2da75ca2",
      "metadata": {
        "id": "2da75ca2"
      },
      "outputs": [],
      "source": [
        "vectors =  []\n",
        "for item in res_docs['result']:\n",
        "    vectors.append(unpack64(item['vector']).tolist())"
      ]
    },
    {
      "cell_type": "code",
      "execution_count": null,
      "id": "94c38043",
      "metadata": {
        "id": "94c38043"
      },
      "outputs": [],
      "source": [
        "vector_np = np.array(vectors)"
      ]
    },
    {
      "cell_type": "code",
      "execution_count": null,
      "id": "91e60d57",
      "metadata": {
        "id": "91e60d57"
      },
      "outputs": [],
      "source": [
        "with open('vector.npy', 'wb') as f:\n",
        "    np.save(f,vector_np)"
      ]
    },
    {
      "cell_type": "code",
      "execution_count": null,
      "id": "1cf366bf",
      "metadata": {
        "id": "1cf366bf"
      },
      "outputs": [],
      "source": [
        "np.savez_compressed('vector.npz', vect=vector_np)"
      ]
    },
    {
      "cell_type": "code",
      "execution_count": null,
      "id": "993e4c82",
      "metadata": {
        "id": "993e4c82"
      },
      "outputs": [],
      "source": [
        "test_data = np.load('vector.npz')"
      ]
    },
    {
      "cell_type": "code",
      "execution_count": null,
      "id": "5cdab8e2",
      "metadata": {
        "scrolled": true,
        "id": "5cdab8e2",
        "outputId": "3dd06ea7-5cdd-4892-fcae-03f8027d8fa7"
      },
      "outputs": [
        {
          "data": {
            "text/plain": [
              "array([ 9.42451477e-01,  1.32087708e-01,  5.73883057e-02,  1.91345215e-02,\n",
              "        5.01708984e-02, -3.99398804e-02, -6.59179688e-03,  7.68356323e-02,\n",
              "        1.18026733e-02,  1.69448853e-02, -2.39562988e-03,  5.36575317e-02,\n",
              "       -1.98745728e-02,  1.65557861e-03,  6.31713867e-03,  3.68652344e-02,\n",
              "       -3.45077515e-02,  1.83868408e-02, -2.95639038e-02,  7.03582764e-02,\n",
              "       -2.13317871e-02,  5.89294434e-02, -1.29699707e-04, -2.31246948e-02,\n",
              "        3.83758545e-03, -2.14614868e-02,  7.90405273e-03,  6.28890991e-02,\n",
              "        2.33383179e-02, -3.36532593e-02, -5.47027588e-03,  2.70843506e-03,\n",
              "        2.76870728e-02,  3.19595337e-02, -2.83050537e-03,  1.27639771e-02,\n",
              "       -3.67660522e-02,  9.50622559e-03,  2.04162598e-02,  1.35726929e-02,\n",
              "        2.51464844e-02,  2.29644775e-03,  2.17971802e-02,  2.47344971e-02,\n",
              "       -4.80651855e-03,  7.79724121e-03,  2.87399292e-02,  3.43704224e-02,\n",
              "        4.80651855e-04, -2.46276855e-02,  3.24325562e-02, -1.90505981e-02,\n",
              "       -1.29318237e-02,  8.52966309e-03,  1.72653198e-02,  4.14581299e-02,\n",
              "        1.22375488e-02,  1.84631348e-02,  1.94396973e-02,  1.58615112e-02,\n",
              "        2.04467773e-02,  7.05718994e-03,  7.87353516e-03, -2.55584717e-03,\n",
              "       -5.19561768e-03,  1.08871460e-02,  2.13165283e-02,  2.46124268e-02,\n",
              "       -1.98898315e-02, -1.43432617e-03,  9.91821289e-04,  2.33306885e-02,\n",
              "        1.30920410e-02,  3.35311890e-02,  5.64575195e-04, -1.28326416e-02,\n",
              "       -8.00323486e-03,  1.04751587e-02, -1.50299072e-03,  1.54266357e-02,\n",
              "        1.34506226e-02,  5.63812256e-03,  1.53732300e-02,  7.17926025e-03,\n",
              "        8.38470459e-03,  2.31170654e-03,  1.78375244e-02,  1.28936768e-03,\n",
              "       -1.48239136e-02,  1.92947388e-02,  9.48333740e-03,  1.42974854e-02,\n",
              "        8.74328613e-03, -1.79290771e-03, -1.02767944e-02,  1.95541382e-02,\n",
              "        1.34277344e-03,  1.86233521e-02,  3.89099121e-04,  1.15509033e-02,\n",
              "        2.04391479e-02, -1.19018555e-03,  8.50677490e-03,  1.58691406e-03,\n",
              "        1.96838379e-02,  1.69372559e-02,  7.85827637e-03,  1.29699707e-04,\n",
              "        9.87243652e-03, -8.53729248e-03,  1.15966797e-03,  1.37252808e-02,\n",
              "        2.79922485e-02, -1.13677979e-03,  1.87377930e-02,  9.62829590e-03,\n",
              "        1.82113647e-02,  6.85882568e-03,  2.23999023e-02,  6.43920898e-03,\n",
              "        1.04904175e-02, -2.44140625e-04,  7.99560547e-03, -6.97326660e-03,\n",
              "        1.18408203e-02,  1.46789551e-02,  6.08825684e-03,  1.38397217e-02,\n",
              "        1.38626099e-02, -1.14517212e-02,  4.67681885e-03,  4.73022461e-04,\n",
              "        4.98199463e-03, -1.93023682e-03,  4.79125977e-03,  8.88061523e-03,\n",
              "        1.38320923e-02,  4.61578369e-03,  1.19247437e-02, -1.09100342e-03,\n",
              "        2.66265869e-03, -2.96783447e-03,  1.94091797e-02,  4.66918945e-03,\n",
              "        2.13088989e-02,  9.07897949e-03,  1.27410889e-03,  6.82830811e-03,\n",
              "        1.04522705e-02, -1.72119141e-02,  1.68991089e-02,  1.04522705e-02,\n",
              "        1.19705200e-02,  2.26440430e-02,  1.56326294e-02, -6.94274902e-04,\n",
              "        1.32064819e-02,  8.84246826e-03, -2.73132324e-03,  6.91223145e-03,\n",
              "        2.34832764e-02,  1.33285522e-02,  1.74331665e-02,  1.24816895e-02,\n",
              "        1.68075562e-02,  2.82821655e-02,  3.28063965e-04,  5.06591797e-03,\n",
              "       -1.63269043e-03,  3.29589844e-03,  2.66265869e-02,  7.59887695e-03,\n",
              "        4.06646729e-03,  2.51235962e-02,  2.64282227e-02, -3.47900391e-03,\n",
              "        4.20379639e-03,  6.60705566e-03, -3.20434570e-04,  1.45492554e-02,\n",
              "        1.43585205e-02,  7.87353516e-03,  1.16424561e-02,  8.88061523e-03,\n",
              "       -6.12640381e-03,  5.49316406e-03,  2.09274292e-02,  1.41677856e-02,\n",
              "        6.95037842e-03,  6.86645508e-05,  2.70919800e-02,  2.49481201e-03,\n",
              "        9.97924805e-03,  2.07595825e-02,  1.39541626e-02, -1.10855103e-02,\n",
              "        2.03628540e-02,  9.25445557e-03,  1.27029419e-02, -3.50189209e-03,\n",
              "        1.08795166e-02,  2.87017822e-02,  1.59912109e-02, -6.34002686e-03,\n",
              "        7.72094727e-03, -5.19561768e-03,  7.93457031e-03,  8.69750977e-04,\n",
              "       -4.80651855e-04,  1.60980225e-03, -5.09643555e-03,  8.96453857e-03,\n",
              "        3.80706787e-03,  8.73565674e-03,  6.65283203e-03, -2.97546387e-03,\n",
              "        3.42559814e-03,  2.31933594e-03,  6.19506836e-03,  1.59378052e-02,\n",
              "        1.87377930e-02,  3.57055664e-03,  1.95312500e-02,  1.43737793e-02,\n",
              "       -2.05993652e-04,  8.30078125e-03,  1.38778687e-02, -8.63647461e-03,\n",
              "        1.61437988e-02,  4.93621826e-03,  2.21252441e-03,  1.38854980e-03,\n",
              "        2.57873535e-03,  1.49459839e-02, -9.94110107e-03, -2.93731689e-03,\n",
              "       -1.03759766e-03,  1.38244629e-02, -1.00402832e-02,  1.64718628e-02,\n",
              "        2.84194946e-02,  1.48086548e-02, -3.46374512e-03,  6.33239746e-04,\n",
              "       -8.81958008e-03,  5.31005859e-03,  7.44628906e-03,  7.81250000e-03,\n",
              "        1.51443481e-02,  5.53131104e-03,  1.37329102e-04,  9.98687744e-03,\n",
              "        2.39486694e-02,  1.84402466e-02,  1.36871338e-02, -7.49206543e-03,\n",
              "        7.70568848e-04, -5.92041016e-03,  1.16424561e-02, -6.56127930e-03,\n",
              "        3.17382812e-02,  3.88336182e-02,  1.48620605e-02,  2.37579346e-02,\n",
              "       -5.69915771e-03,  1.38092041e-02,  4.76074219e-03, -9.62829590e-03,\n",
              "        4.50515747e-02,  6.15692139e-03,  1.96075439e-03, -7.33947754e-03,\n",
              "        6.11877441e-03, -3.54766846e-03,  1.20315552e-02,  1.21841431e-02,\n",
              "        1.41067505e-02,  2.66265869e-02,  4.17022705e-02, -1.17340088e-02,\n",
              "        1.80053711e-02,  1.21154785e-02,  1.61972046e-02,  1.88446045e-03,\n",
              "        3.97491455e-03, -4.08172607e-03,  2.14538574e-02,  2.99072266e-02,\n",
              "        1.25198364e-02,  2.30636597e-02,  1.74713135e-03, -1.14669800e-02,\n",
              "       -3.67736816e-03, -2.01416016e-03,  2.13470459e-02,  9.69696045e-03,\n",
              "        1.55868530e-02,  1.25808716e-02,  7.06481934e-03,  6.48498535e-04])"
            ]
          },
          "execution_count": 32,
          "metadata": {},
          "output_type": "execute_result"
        }
      ],
      "source": [
        "test_data['vect'][0]"
      ]
    },
    {
      "cell_type": "code",
      "execution_count": null,
      "id": "10df72fd",
      "metadata": {
        "id": "10df72fd"
      },
      "outputs": [],
      "source": [
        "emb = unpack64(inp[1]['vectors'][0])"
      ]
    },
    {
      "cell_type": "code",
      "execution_count": null,
      "id": "2b3a428f",
      "metadata": {
        "scrolled": true,
        "id": "2b3a428f",
        "outputId": "1769dd45-27b6-417b-beaa-5883547cf83e"
      },
      "outputs": [
        {
          "data": {
            "text/plain": [
              "array([ 5.10559082e-01,  3.48907471e-01,  2.29988098e-01,  1.71188354e-01,\n",
              "       -4.19769287e-02, -2.42233276e-02,  2.48954773e-01, -1.28646851e-01,\n",
              "       -6.16989136e-02, -9.80072021e-02, -5.48171997e-02, -6.52999878e-02,\n",
              "       -1.15188599e-01,  8.39691162e-02,  4.20303345e-02, -7.10678101e-02,\n",
              "       -3.38821411e-02,  3.81546021e-02,  1.20925903e-01, -1.27182007e-02,\n",
              "        1.41525269e-02,  7.21893311e-02, -1.17675781e-01, -1.14852905e-01,\n",
              "        3.59039307e-02,  1.61209106e-02,  3.02276611e-02, -1.96990967e-02,\n",
              "        2.46582031e-02, -1.34429932e-02,  1.85241699e-02, -9.05990601e-02,\n",
              "        2.28881836e-05, -1.73797607e-02, -3.01361084e-02, -7.14874268e-02,\n",
              "        1.05972290e-02,  7.06100464e-02, -2.63214111e-02, -5.81893921e-02,\n",
              "        4.64324951e-02,  7.53784180e-03,  1.93481445e-02,  3.64532471e-02,\n",
              "       -4.25872803e-02,  3.33633423e-02, -6.30187988e-03, -4.63333130e-02,\n",
              "       -2.66113281e-02,  8.74328613e-03,  2.77862549e-02, -1.13449097e-02,\n",
              "        4.78744507e-02,  2.12783813e-02,  7.34558105e-02,  8.15429688e-02,\n",
              "        4.51126099e-02,  8.86154175e-02,  7.75604248e-02,  2.12173462e-02,\n",
              "        5.98678589e-02, -1.52816772e-02, -3.74069214e-02,  7.51037598e-02,\n",
              "       -2.62680054e-02,  9.93347168e-03, -2.72598267e-02, -8.52966309e-03,\n",
              "       -2.27050781e-02,  1.70211792e-02, -1.69372559e-03,  5.38940430e-02,\n",
              "       -1.95770264e-02,  3.39431763e-02, -5.23910522e-02, -5.14221191e-03,\n",
              "       -8.30078125e-02, -1.50146484e-02,  1.41372681e-02,  3.16848755e-02,\n",
              "        1.81503296e-02, -2.69851685e-02, -6.90460205e-03, -6.08139038e-02,\n",
              "       -5.96389771e-02, -1.63192749e-02,  5.60302734e-02,  4.92095947e-03,\n",
              "       -8.35418701e-03,  2.81524658e-03,  5.85098267e-02, -8.56781006e-03,\n",
              "       -4.18548584e-02, -1.53503418e-02,  2.11334229e-03,  5.98754883e-02,\n",
              "       -2.41165161e-02, -5.06057739e-02,  9.32769775e-02,  2.80609131e-02,\n",
              "        5.52902222e-02, -8.77380371e-03,  2.47039795e-02, -5.48095703e-02,\n",
              "        2.57873535e-02,  5.66558838e-02,  1.72424316e-02, -4.28009033e-03,\n",
              "       -5.49316406e-03, -2.52304077e-02, -9.42153931e-02, -7.27767944e-02,\n",
              "       -5.36651611e-02,  1.43051147e-02,  6.82144165e-02, -2.45437622e-02,\n",
              "       -1.73034668e-02, -9.12933350e-02,  3.79562378e-02,  1.32293701e-02,\n",
              "       -9.04083252e-03,  1.06430054e-02, -6.86721802e-02, -2.89916992e-04,\n",
              "       -8.03756714e-02, -1.89971924e-02,  6.24237061e-02, -1.01837158e-01,\n",
              "        4.69207764e-03, -6.10351562e-05, -1.86462402e-02, -9.99450684e-03,\n",
              "       -6.89315796e-02,  2.24227905e-02, -2.28805542e-02, -4.06646729e-03,\n",
              "       -1.58843994e-02,  3.27987671e-02,  5.06973267e-02, -3.58810425e-02,\n",
              "       -8.62884521e-03,  5.59768677e-02,  4.43878174e-02, -6.00433350e-02,\n",
              "       -1.14212036e-02, -2.50930786e-02,  3.07617188e-02,  3.95584106e-02,\n",
              "        1.05155945e-01, -3.67965698e-02, -2.47268677e-02, -8.94165039e-03,\n",
              "       -2.65121460e-02,  3.59191895e-02,  2.20870972e-02,  4.48913574e-02,\n",
              "        4.23507690e-02, -9.30786133e-03,  6.51092529e-02, -5.06591797e-03,\n",
              "        2.82211304e-02, -3.81622314e-02,  1.07040405e-02, -2.54898071e-02,\n",
              "        2.43988037e-02,  5.24902344e-03, -1.11389160e-03,  6.00814819e-02,\n",
              "       -1.30996704e-02,  5.06362915e-02, -5.31616211e-02, -5.82580566e-02,\n",
              "        2.09350586e-02, -9.69696045e-03,  3.86886597e-02,  2.64739990e-03,\n",
              "       -3.81469727e-05,  4.14428711e-02,  1.52053833e-02,  4.02832031e-03,\n",
              "        2.43835449e-02, -1.44042969e-02,  1.48773193e-02, -1.47705078e-02,\n",
              "        2.24685669e-02, -1.34277344e-03, -2.33001709e-02, -2.02865601e-02,\n",
              "        1.60217285e-04, -4.13131714e-02, -2.65426636e-02,  2.83584595e-02,\n",
              "        1.33666992e-02,  1.29776001e-02, -3.17535400e-02, -8.08715820e-03,\n",
              "        8.97979736e-03,  4.11529541e-02, -1.66778564e-02, -4.50057983e-02,\n",
              "       -1.79595947e-02, -3.86047363e-03,  2.73132324e-02, -1.06201172e-02,\n",
              "        2.07061768e-02, -1.91802979e-02,  2.46276855e-02, -7.55004883e-02,\n",
              "       -1.91116333e-02,  5.25131226e-02,  2.11944580e-02,  4.21905518e-03,\n",
              "        1.96762085e-02,  7.88879395e-03,  3.41796875e-03,  3.25775146e-03,\n",
              "       -4.76760864e-02, -3.24783325e-02, -2.41317749e-02, -1.13754272e-02,\n",
              "        1.63955688e-02, -6.88171387e-03, -3.91387939e-03, -8.13293457e-03,\n",
              "        1.44958496e-04, -7.27386475e-02, -4.30297852e-02,  6.36291504e-02,\n",
              "        7.08007812e-03,  3.51638794e-02,  6.94274902e-04,  5.73730469e-03,\n",
              "        4.40750122e-02, -5.21163940e-02, -2.15148926e-03, -5.50537109e-02,\n",
              "        5.97381592e-03, -1.68228149e-02,  3.06015015e-02,  7.66067505e-02,\n",
              "        1.15051270e-02,  1.07955933e-02,  8.16574097e-02,  1.16424561e-02,\n",
              "        3.91387939e-02,  1.91040039e-02,  2.56118774e-02,  2.47650146e-02,\n",
              "       -1.80587769e-02,  2.17819214e-02, -1.85623169e-02, -2.08282471e-03,\n",
              "       -8.09478760e-03, -1.20391846e-02, -2.51846313e-02,  2.12554932e-02,\n",
              "        3.17230225e-02,  8.91876221e-03,  1.62277222e-02,  6.38580322e-03,\n",
              "       -2.07519531e-03,  1.46560669e-02,  3.61022949e-02, -3.34167480e-03,\n",
              "       -1.56631470e-02, -7.43865967e-03,  1.52587891e-05, -2.99301147e-02,\n",
              "        1.27410889e-03,  3.96575928e-02,  1.18560791e-02,  2.35366821e-02,\n",
              "       -1.25885010e-02,  1.89971924e-03,  2.77252197e-02, -3.60107422e-02,\n",
              "        2.02941895e-03, -2.47955322e-02,  1.21841431e-02,  3.88488770e-02,\n",
              "        1.06277466e-02,  3.22113037e-02,  2.87704468e-02,  3.62701416e-02,\n",
              "        2.28195190e-02, -2.68325806e-02,  2.52914429e-02,  4.98962402e-03,\n",
              "       -6.40106201e-03, -3.07846069e-02,  3.89862061e-03,  3.72619629e-02,\n",
              "        5.05065918e-03,  5.28717041e-03, -5.47790527e-03,  1.52587891e-03,\n",
              "        5.78308105e-03,  3.26538086e-03,  1.12915039e-02,  1.26037598e-02],\n",
              "      dtype=float32)"
            ]
          },
          "execution_count": 12,
          "metadata": {},
          "output_type": "execute_result"
        }
      ],
      "source": [
        "emb"
      ]
    },
    {
      "cell_type": "code",
      "execution_count": null,
      "id": "688ea3b0",
      "metadata": {
        "id": "688ea3b0"
      },
      "outputs": [],
      "source": [
        "from IPython.display import clear_output\n",
        "clear_output(wait=True)"
      ]
    }
  ],
  "metadata": {
    "kernelspec": {
      "display_name": "Python 3",
      "language": "python",
      "name": "python3"
    },
    "language_info": {
      "codemirror_mode": {
        "name": "ipython",
        "version": 3
      },
      "file_extension": ".py",
      "mimetype": "text/x-python",
      "name": "python",
      "nbconvert_exporter": "python",
      "pygments_lexer": "ipython3",
      "version": "3.8.8"
    },
    "colab": {
      "provenance": [],
      "include_colab_link": true
    }
  },
  "nbformat": 4,
  "nbformat_minor": 5
}