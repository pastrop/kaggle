{
  "nbformat": 4,
  "nbformat_minor": 0,
  "metadata": {
    "colab": {
      "provenance": [],
      "authorship_tag": "ABX9TyMiHM+TdByOX2uDQx8nUoi+",
      "include_colab_link": true
    },
    "kernelspec": {
      "name": "python3",
      "display_name": "Python 3"
    },
    "language_info": {
      "name": "python"
    }
  },
  "cells": [
    {
      "cell_type": "markdown",
      "metadata": {
        "id": "view-in-github",
        "colab_type": "text"
      },
      "source": [
        "<a href=\"https://colab.research.google.com/github/pastrop/kaggle/blob/master/text_analytics.ipynb\" target=\"_parent\"><img src=\"https://colab.research.google.com/assets/colab-badge.svg\" alt=\"Open In Colab\"/></a>"
      ]
    },
    {
      "cell_type": "markdown",
      "source": [
        "# Key Words & Documents Clusters"
      ],
      "metadata": {
        "id": "kNC0lDkrwkV2"
      }
    },
    {
      "cell_type": "code",
      "execution_count": null,
      "metadata": {
        "id": "Jbb9e0newipE"
      },
      "outputs": [],
      "source": [
        "import pandas as pd\n",
        "from sklearn.feature_extraction.text import TfidfVectorizer\n",
        "import spacy \n",
        "from spacy.language import Language "
      ]
    },
    {
      "cell_type": "code",
      "source": [
        "# file upload while using Google Colab\n",
        "from google.colab import files\n",
        "uploaded = files.upload()"
      ],
      "metadata": {
        "id": "LpW1-Jk2xKO0"
      },
      "execution_count": null,
      "outputs": []
    },
    {
      "cell_type": "code",
      "source": [
        "dataset = [\n",
        "    \"I enjoy reading about Machine Learning and Machine Learning is my PhD subject\",\n",
        "    \"I would enjoy a walk in the park\",\n",
        "    \"I was reading in the library\"\n",
        "]"
      ],
      "metadata": {
        "id": "O2T2ACPox-M9"
      },
      "execution_count": 8,
      "outputs": []
    },
    {
      "cell_type": "code",
      "source": [
        "tfIdfVectorizer=TfidfVectorizer(use_idf=True)\n",
        "tfIdf = tfIdfVectorizer.fit_transform(dataset)\n",
        "df = pd.DataFrame(tfIdf[0].T.todense(), index=tfIdfVectorizer.get_feature_names(), columns=[\"TF-IDF\"])\n",
        "df = df.sort_values('TF-IDF', ascending=False)\n",
        "print (df.head(25))"
      ],
      "metadata": {
        "id": "IPYabjR4xPmV"
      },
      "execution_count": null,
      "outputs": []
    },
    {
      "cell_type": "code",
      "source": [
        "# text processing      \n",
        "nlp = spacy.load('en_core_web_sm')        \n",
        "#df['Tokens'] = df.Sumcription.apply(lambda x: nlp(x))    \n",
        "spacy_stopwords = spacy.lang.en.stop_words.STOP_WORDS        \n",
        "#spacy_stopwords.add('attach')\n",
        "#df['Lema_Token']  = df.Tokens.apply(lambda x: \" \".join([token.lemma_ for token in x if token not in spacy_stopwords]))"
      ],
      "metadata": {
        "id": "-Wqd8CBGP0Gu"
      },
      "execution_count": 13,
      "outputs": []
    },
    {
      "cell_type": "code",
      "source": [
        "@Language.component(\"info_component\")\n",
        "def my_component(doc):\n",
        "    #print(f\"After tokenization, this doc has {len(doc)} tokens.\")\n",
        "    print(\"The lemmatized tokens are:\", [token.lemma_ for token in doc])\n",
        "    return doc\n",
        "\n",
        "nlp = spacy.load(\"en_core_web_sm\", disable = ['ner'])\n",
        "pipeline = [\"tok2vec\", \"parser\", \"lemmatizer\"]\n",
        "\n",
        "nlp.add_pipe(\"info_component\", name=\"print_info\",last=True)\n",
        "print(nlp.pipe_names)  # ['tagger', 'parser', 'ner', 'print_info']\n",
        "doc = nlp(\"This is a sentence.\")"
      ],
      "metadata": {
        "colab": {
          "base_uri": "https://localhost:8080/"
        },
        "id": "_nmLg6LYSl2u",
        "outputId": "dbec8a9d-5fbd-4c7e-ebcc-bb573dfe6977"
      },
      "execution_count": 32,
      "outputs": [
        {
          "output_type": "stream",
          "name": "stdout",
          "text": [
            "['tok2vec', 'tagger', 'parser', 'attribute_ruler', 'lemmatizer', 'print_info']\n",
            "The lemmatized tokens are: ['this', 'be', 'a', 'sentence', '.']\n"
          ]
        }
      ]
    },
    {
      "cell_type": "code",
      "source": [
        "spacy_stopwords = spacy.lang.en.stop_words.STOP_WORDS\n",
        "tokens = [token.lemma_ for token in doc if token.lemma_ not in spacy_stopwords and not token.is_punct]  "
      ],
      "metadata": {
        "id": "w8linSTQjg75"
      },
      "execution_count": 40,
      "outputs": []
    },
    {
      "cell_type": "code",
      "source": [
        "#tensors\n",
        "vectors = [item.tensor for item in doc]\n",
        "# not lemmatized tokens\n",
        "tokens = [item.text for item in doc]"
      ],
      "metadata": {
        "id": "VwKExqIUqq6m"
      },
      "execution_count": 42,
      "outputs": []
    },
    {
      "cell_type": "code",
      "source": [
        "tokens = [item.text for item in doc]"
      ],
      "metadata": {
        "id": "tok0dsyxq_tJ"
      },
      "execution_count": 47,
      "outputs": []
    },
    {
      "cell_type": "code",
      "source": [
        "# beer dataset investigation\n"
      ],
      "metadata": {
        "id": "f7nyQoAIDJmf"
      },
      "execution_count": null,
      "outputs": []
    },
    {
      "cell_type": "code",
      "source": [
        "# Dataframe processing\n",
        "df = pd.read_csv('beer_5k.csv')\n",
        "texts = [item.replace(\"\\t\", \" \")[:3000] for item in df['text'] [:3000]]\n",
        "#df.head(2)"
      ],
      "metadata": {
        "id": "egPk0LY4x7-g"
      },
      "execution_count": 3,
      "outputs": []
    },
    {
      "cell_type": "code",
      "source": [
        "# NLP Pipelien\n",
        "nlp = spacy.load(\"en_core_web_sm\")\n",
        "doc = nlp(\"This is a sentence.\")\n",
        "print(nlp.pipe_names)"
      ],
      "metadata": {
        "colab": {
          "base_uri": "https://localhost:8080/"
        },
        "id": "HPFNVjurFTeX",
        "outputId": "10f1f49d-894b-4648-892d-68ab4f7ee606"
      },
      "execution_count": 87,
      "outputs": [
        {
          "output_type": "stream",
          "name": "stdout",
          "text": [
            "['tok2vec', 'tagger', 'parser', 'attribute_ruler', 'lemmatizer', 'ner']\n"
          ]
        }
      ]
    },
    {
      "cell_type": "code",
      "source": [
        "for doc in nlp.pipe(texts[:20]):\n",
        "  print(doc.ents)"
      ],
      "metadata": {
        "colab": {
          "base_uri": "https://localhost:8080/"
        },
        "id": "fcY6o5n4PKni",
        "outputId": "2b87b284-8144-45cf-971d-fa227f66801f"
      },
      "execution_count": 89,
      "outputs": [
        {
          "output_type": "stream",
          "name": "stdout",
          "text": [
            "()\n",
            "(caramel, caramel)\n",
            "(caramel,)\n",
            "()\n",
            "(every year, several years, yesterday, IPA, this West Coast, Caldera)\n",
            "(Chimay, half)\n",
            "(22, 3.95, Nice, caramel)\n",
            "(Ginger, Aroma, the warmer days of spring / summer)\n",
            "(MF,)\n",
            "(22, Drie Fonteinen, Pale, asian, APA, first, Light)\n",
            "(Whole Foods, first, Smell, Superb, Bison, 2 22oz'ers, one, Caldera)\n",
            "(Notes, 6/24, Indian, summer)\n",
            "(22, Lawnmower)\n",
            "(first, New Belgium Tulip, S - Smell, M - Medium, the summer, 2, 3, one, 2, one and half, Trade Route's, Ginger Pale Ale, Pick)\n",
            "(Caldera,)\n",
            "(Caldera, 300 miles, Ashland, the Ashland Creek Bar, Grill, Ashland, 300 miles, the Oatmeal Stout, Ashland Amber, the Ashland Creek Bar, Grill, the Oatmeal Stout, mint, Caldera, 10 bbl, Ashland Creek)\n",
            "(2002, Oregon Brewers Festival, summer day)\n",
            "(1 inch, tan head, Caldera, German)\n",
            "(Smokiness,)\n",
            "(Smoky, Sweet caramel, Caldera)\n"
          ]
        }
      ]
    },
    {
      "cell_type": "code",
      "source": [
        "texts_spacy = []\n",
        "for doc in nlp.pipe(texts[:3000]):\n",
        "  tokens = [token.lemma_ for token in doc if token.lemma_ not in spacy_stopwords and not token.is_punct]\n",
        "\n",
        "  texts_spacy.append(' '.join(tokens))"
      ],
      "metadata": {
        "id": "p7SAKBhjHJid"
      },
      "execution_count": 74,
      "outputs": []
    },
    {
      "cell_type": "code",
      "source": [
        "texts_spacy_texts = []\n",
        "for doc in nlp.pipe(texts[:3000]):\n",
        "  tokens = [token.text for token in doc if token.text not in spacy_stopwords and not token.is_punct]\n",
        "  texts_spacy_texts.append(' '.join(tokens))"
      ],
      "metadata": {
        "id": "Wsu5MkrxKWUy"
      },
      "execution_count": 81,
      "outputs": []
    },
    {
      "cell_type": "code",
      "source": [
        "tfIdfVectorizer=TfidfVectorizer(use_idf=True)\n",
        "tfIdf = tfIdfVectorizer.fit_transform(texts[:3000])\n",
        "df = pd.DataFrame(tfIdf[0].T.todense(), index=tfIdfVectorizer.get_feature_names(), columns=[\"TF-IDF\"])\n",
        "df = df.sort_values('TF-IDF', ascending=False)\n",
        "print (df.head(50))"
      ],
      "metadata": {
        "id": "UiEfZnrZDf1f"
      },
      "execution_count": null,
      "outputs": []
    },
    {
      "cell_type": "code",
      "source": [
        "tfIdfVectorizer=TfidfVectorizer(use_idf=True)\n",
        "tfIdf = tfIdfVectorizer.fit_transform(texts_spacy_texts[:3000])\n",
        "df = pd.DataFrame(tfIdf[0].T.todense(), index=tfIdfVectorizer.get_feature_names(), columns=[\"TF-IDF\"])\n",
        "df = df.sort_values('TF-IDF', ascending=False)\n",
        "print (df.head(50))"
      ],
      "metadata": {
        "id": "FD66-Uo3r_py"
      },
      "execution_count": null,
      "outputs": []
    },
    {
      "cell_type": "code",
      "source": [
        "%%capture\n",
        "!pip install rake_nltk"
      ],
      "metadata": {
        "id": "qrG-IMrhZXJ_"
      },
      "execution_count": 6,
      "outputs": []
    },
    {
      "cell_type": "code",
      "source": [
        "from rake_nltk import Rake\n",
        "import nltk"
      ],
      "metadata": {
        "id": "tbjc8ScxY_y6"
      },
      "execution_count": 7,
      "outputs": []
    },
    {
      "cell_type": "code",
      "source": [
        "%%capture\n",
        "nltk.download('stopwords')\n",
        "nltk.download('punkt')"
      ],
      "metadata": {
        "id": "8CkqeSKybNp-"
      },
      "execution_count": null,
      "outputs": []
    },
    {
      "cell_type": "code",
      "source": [
        "long_text = ' '.join(texts[:2000])"
      ],
      "metadata": {
        "id": "fS4vdv2PlYC7"
      },
      "execution_count": 23,
      "outputs": []
    },
    {
      "cell_type": "code",
      "source": [
        "rake_nltk_var = Rake(include_repeated_phrases=False, min_length=1, max_length=3)\n",
        "rake_nltk_var.extract_keywords_from_text(long_text)\n",
        "keyword_extracted = rake_nltk_var.get_ranked_phrases_with_scores()\n",
        "#print(keyword_extracted)"
      ],
      "metadata": {
        "id": "p6u7oC4xZeHn"
      },
      "execution_count": 17,
      "outputs": []
    },
    {
      "cell_type": "code",
      "source": [
        "keyword_extracted[:10]"
      ],
      "metadata": {
        "id": "JBg4RmCwoFdL"
      },
      "execution_count": null,
      "outputs": []
    },
    {
      "cell_type": "code",
      "source": [
        "%%capture\n",
        "!pip install yake"
      ],
      "metadata": {
        "id": "X0jkZhcypKU4"
      },
      "execution_count": 19,
      "outputs": []
    },
    {
      "cell_type": "code",
      "source": [
        "import yake\n",
        "kw_extractor = yake.KeywordExtractor()\n",
        "language = 'en'\n",
        "max_ngram_size = 2\n",
        "deduplication_threshold = 0.9\n",
        "numOfKeywords = 50"
      ],
      "metadata": {
        "id": "bnfpdRJcpUKo"
      },
      "execution_count": 51,
      "outputs": []
    },
    {
      "cell_type": "code",
      "source": [
        "custom_kw_extractor = yake.KeywordExtractor(lan=language, n=max_ngram_size, dedupLim=deduplication_threshold, top=numOfKeywords, features=None)\n",
        "keywords = custom_kw_extractor.extract_keywords(long_text)\n",
        "keywords"
      ],
      "metadata": {
        "colab": {
          "base_uri": "https://localhost:8080/"
        },
        "id": "dDHYClMGpH-E",
        "outputId": "9ffd824e-b076-4dca-d76b-5a531a1ae88d"
      },
      "execution_count": 52,
      "outputs": [
        {
          "output_type": "execute_result",
          "data": {
            "text/plain": [
              "[('light beer', 1.6034322830556493e-05),\n",
              " ('light', 2.657230587719667e-05),\n",
              " ('beer', 2.7175957984043848e-05),\n",
              " ('IPA', 4.0124892218086526e-05),\n",
              " ('Caldera IPA', 4.538608676179158e-05),\n",
              " ('Amstel Light', 5.009371310829628e-05),\n",
              " ('white head', 5.018829494206351e-05),\n",
              " ('Pale Ale', 5.69809419152915e-05),\n",
              " ('head', 5.81114056337689e-05),\n",
              " ('hops', 5.818899391904837e-05),\n",
              " ('taste', 7.028937346439112e-05),\n",
              " ('malt', 8.103745328643015e-05),\n",
              " ('nice', 8.13818017913819e-05),\n",
              " ('beer pours', 8.273590798668032e-05),\n",
              " ('Good IPA', 8.579082839960245e-05),\n",
              " ('hop', 8.931643969246829e-05),\n",
              " ('good', 9.30522757567328e-05),\n",
              " ('good beer', 0.00010609855730677304),\n",
              " ('hop flavor', 0.00010990711317138428),\n",
              " ('pours', 0.00012079848675519449),\n",
              " ('hop aroma', 0.00013273796555321942),\n",
              " ('flavor', 0.00014702099552747476),\n",
              " ('sweet malt', 0.00015327653331629243),\n",
              " ('light malt', 0.00016278553931846386),\n",
              " ('nice IPA', 0.0001702310205171932),\n",
              " ('smell', 0.00017281867359943912),\n",
              " ('AMerican IPA', 0.0001762128477014246),\n",
              " ('pale', 0.0001808596054233126),\n",
              " ('light lager', 0.00018141113201961044),\n",
              " ('aroma', 0.00018238781199807384),\n",
              " ('beers', 0.00020083285358486893),\n",
              " ('Medium', 0.0002024286451702341),\n",
              " ('hop bitterness', 0.00021132109868785936),\n",
              " ('caramel malt', 0.00022273608811311822),\n",
              " ('carbonation', 0.00022383521675330362),\n",
              " ('sweet', 0.00022407252914890752),\n",
              " ('amber color', 0.00022620935057479869),\n",
              " ('light amber', 0.00023060735069371012),\n",
              " ('color', 0.0002435366839039429),\n",
              " ('medium body', 0.0002450614077674032),\n",
              " ('Coast IPA', 0.0002577319752845836),\n",
              " ('Citrus hops', 0.0002627777960680409),\n",
              " ('bit', 0.0002635076030450196),\n",
              " ('malts', 0.0002645695775675226),\n",
              " ('Mouthfeel', 0.000266301315571002),\n",
              " ('Light body', 0.00027168065653825844),\n",
              " ('light hops', 0.0002727562835322782),\n",
              " ('Poured', 0.00027985982593549283),\n",
              " ('ale', 0.000282366350717846),\n",
              " ('Amber', 0.0002927405470421768)]"
            ]
          },
          "metadata": {},
          "execution_count": 52
        }
      ]
    }
  ]
}