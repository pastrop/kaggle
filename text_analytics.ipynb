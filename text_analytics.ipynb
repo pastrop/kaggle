{
  "nbformat": 4,
  "nbformat_minor": 0,
  "metadata": {
    "colab": {
      "provenance": [],
      "authorship_tag": "ABX9TyNm0Dpzdy96ky5uVzcKP60T",
      "include_colab_link": true
    },
    "kernelspec": {
      "name": "python3",
      "display_name": "Python 3"
    },
    "language_info": {
      "name": "python"
    },
    "accelerator": "GPU",
    "gpuClass": "standard",
    "widgets": {
      "application/vnd.jupyter.widget-state+json": {
        "5219c6d1a97a41a5b836225f4bce4ecc": {
          "model_module": "@jupyter-widgets/controls",
          "model_name": "HBoxModel",
          "model_module_version": "1.5.0",
          "state": {
            "_dom_classes": [],
            "_model_module": "@jupyter-widgets/controls",
            "_model_module_version": "1.5.0",
            "_model_name": "HBoxModel",
            "_view_count": null,
            "_view_module": "@jupyter-widgets/controls",
            "_view_module_version": "1.5.0",
            "_view_name": "HBoxView",
            "box_style": "",
            "children": [
              "IPY_MODEL_e324ae1f56ab48b58f202ba0248b46c2",
              "IPY_MODEL_28f62e2acc1f46ebb6750fab386ae586",
              "IPY_MODEL_0d09bc73cce842119c3a64bde63ad49d"
            ],
            "layout": "IPY_MODEL_9e93c1c0cc03404c96ed530b11d51415"
          }
        },
        "e324ae1f56ab48b58f202ba0248b46c2": {
          "model_module": "@jupyter-widgets/controls",
          "model_name": "HTMLModel",
          "model_module_version": "1.5.0",
          "state": {
            "_dom_classes": [],
            "_model_module": "@jupyter-widgets/controls",
            "_model_module_version": "1.5.0",
            "_model_name": "HTMLModel",
            "_view_count": null,
            "_view_module": "@jupyter-widgets/controls",
            "_view_module_version": "1.5.0",
            "_view_name": "HTMLView",
            "description": "",
            "description_tooltip": null,
            "layout": "IPY_MODEL_f20db5a526dd44a69b321406f535ef0f",
            "placeholder": "​",
            "style": "IPY_MODEL_00d82f3c8aa04a189368fc6ade7b3de8",
            "value": "Epoch: 100%"
          }
        },
        "28f62e2acc1f46ebb6750fab386ae586": {
          "model_module": "@jupyter-widgets/controls",
          "model_name": "FloatProgressModel",
          "model_module_version": "1.5.0",
          "state": {
            "_dom_classes": [],
            "_model_module": "@jupyter-widgets/controls",
            "_model_module_version": "1.5.0",
            "_model_name": "FloatProgressModel",
            "_view_count": null,
            "_view_module": "@jupyter-widgets/controls",
            "_view_module_version": "1.5.0",
            "_view_name": "ProgressView",
            "bar_style": "success",
            "description": "",
            "description_tooltip": null,
            "layout": "IPY_MODEL_46ce5dc97431472ba0f2cd3681adde03",
            "max": 1,
            "min": 0,
            "orientation": "horizontal",
            "style": "IPY_MODEL_fb444675e2bb46bcac60ead080c48f9d",
            "value": 1
          }
        },
        "0d09bc73cce842119c3a64bde63ad49d": {
          "model_module": "@jupyter-widgets/controls",
          "model_name": "HTMLModel",
          "model_module_version": "1.5.0",
          "state": {
            "_dom_classes": [],
            "_model_module": "@jupyter-widgets/controls",
            "_model_module_version": "1.5.0",
            "_model_name": "HTMLModel",
            "_view_count": null,
            "_view_module": "@jupyter-widgets/controls",
            "_view_module_version": "1.5.0",
            "_view_name": "HTMLView",
            "description": "",
            "description_tooltip": null,
            "layout": "IPY_MODEL_50b04ab4764742699f2bcde85fc9504c",
            "placeholder": "​",
            "style": "IPY_MODEL_7a0a01e12b3b455dbb05534881e78d83",
            "value": " 1/1 [01:12&lt;00:00, 72.34s/it]"
          }
        },
        "9e93c1c0cc03404c96ed530b11d51415": {
          "model_module": "@jupyter-widgets/base",
          "model_name": "LayoutModel",
          "model_module_version": "1.2.0",
          "state": {
            "_model_module": "@jupyter-widgets/base",
            "_model_module_version": "1.2.0",
            "_model_name": "LayoutModel",
            "_view_count": null,
            "_view_module": "@jupyter-widgets/base",
            "_view_module_version": "1.2.0",
            "_view_name": "LayoutView",
            "align_content": null,
            "align_items": null,
            "align_self": null,
            "border": null,
            "bottom": null,
            "display": null,
            "flex": null,
            "flex_flow": null,
            "grid_area": null,
            "grid_auto_columns": null,
            "grid_auto_flow": null,
            "grid_auto_rows": null,
            "grid_column": null,
            "grid_gap": null,
            "grid_row": null,
            "grid_template_areas": null,
            "grid_template_columns": null,
            "grid_template_rows": null,
            "height": null,
            "justify_content": null,
            "justify_items": null,
            "left": null,
            "margin": null,
            "max_height": null,
            "max_width": null,
            "min_height": null,
            "min_width": null,
            "object_fit": null,
            "object_position": null,
            "order": null,
            "overflow": null,
            "overflow_x": null,
            "overflow_y": null,
            "padding": null,
            "right": null,
            "top": null,
            "visibility": null,
            "width": null
          }
        },
        "f20db5a526dd44a69b321406f535ef0f": {
          "model_module": "@jupyter-widgets/base",
          "model_name": "LayoutModel",
          "model_module_version": "1.2.0",
          "state": {
            "_model_module": "@jupyter-widgets/base",
            "_model_module_version": "1.2.0",
            "_model_name": "LayoutModel",
            "_view_count": null,
            "_view_module": "@jupyter-widgets/base",
            "_view_module_version": "1.2.0",
            "_view_name": "LayoutView",
            "align_content": null,
            "align_items": null,
            "align_self": null,
            "border": null,
            "bottom": null,
            "display": null,
            "flex": null,
            "flex_flow": null,
            "grid_area": null,
            "grid_auto_columns": null,
            "grid_auto_flow": null,
            "grid_auto_rows": null,
            "grid_column": null,
            "grid_gap": null,
            "grid_row": null,
            "grid_template_areas": null,
            "grid_template_columns": null,
            "grid_template_rows": null,
            "height": null,
            "justify_content": null,
            "justify_items": null,
            "left": null,
            "margin": null,
            "max_height": null,
            "max_width": null,
            "min_height": null,
            "min_width": null,
            "object_fit": null,
            "object_position": null,
            "order": null,
            "overflow": null,
            "overflow_x": null,
            "overflow_y": null,
            "padding": null,
            "right": null,
            "top": null,
            "visibility": null,
            "width": null
          }
        },
        "00d82f3c8aa04a189368fc6ade7b3de8": {
          "model_module": "@jupyter-widgets/controls",
          "model_name": "DescriptionStyleModel",
          "model_module_version": "1.5.0",
          "state": {
            "_model_module": "@jupyter-widgets/controls",
            "_model_module_version": "1.5.0",
            "_model_name": "DescriptionStyleModel",
            "_view_count": null,
            "_view_module": "@jupyter-widgets/base",
            "_view_module_version": "1.2.0",
            "_view_name": "StyleView",
            "description_width": ""
          }
        },
        "46ce5dc97431472ba0f2cd3681adde03": {
          "model_module": "@jupyter-widgets/base",
          "model_name": "LayoutModel",
          "model_module_version": "1.2.0",
          "state": {
            "_model_module": "@jupyter-widgets/base",
            "_model_module_version": "1.2.0",
            "_model_name": "LayoutModel",
            "_view_count": null,
            "_view_module": "@jupyter-widgets/base",
            "_view_module_version": "1.2.0",
            "_view_name": "LayoutView",
            "align_content": null,
            "align_items": null,
            "align_self": null,
            "border": null,
            "bottom": null,
            "display": null,
            "flex": null,
            "flex_flow": null,
            "grid_area": null,
            "grid_auto_columns": null,
            "grid_auto_flow": null,
            "grid_auto_rows": null,
            "grid_column": null,
            "grid_gap": null,
            "grid_row": null,
            "grid_template_areas": null,
            "grid_template_columns": null,
            "grid_template_rows": null,
            "height": null,
            "justify_content": null,
            "justify_items": null,
            "left": null,
            "margin": null,
            "max_height": null,
            "max_width": null,
            "min_height": null,
            "min_width": null,
            "object_fit": null,
            "object_position": null,
            "order": null,
            "overflow": null,
            "overflow_x": null,
            "overflow_y": null,
            "padding": null,
            "right": null,
            "top": null,
            "visibility": null,
            "width": null
          }
        },
        "fb444675e2bb46bcac60ead080c48f9d": {
          "model_module": "@jupyter-widgets/controls",
          "model_name": "ProgressStyleModel",
          "model_module_version": "1.5.0",
          "state": {
            "_model_module": "@jupyter-widgets/controls",
            "_model_module_version": "1.5.0",
            "_model_name": "ProgressStyleModel",
            "_view_count": null,
            "_view_module": "@jupyter-widgets/base",
            "_view_module_version": "1.2.0",
            "_view_name": "StyleView",
            "bar_color": null,
            "description_width": ""
          }
        },
        "50b04ab4764742699f2bcde85fc9504c": {
          "model_module": "@jupyter-widgets/base",
          "model_name": "LayoutModel",
          "model_module_version": "1.2.0",
          "state": {
            "_model_module": "@jupyter-widgets/base",
            "_model_module_version": "1.2.0",
            "_model_name": "LayoutModel",
            "_view_count": null,
            "_view_module": "@jupyter-widgets/base",
            "_view_module_version": "1.2.0",
            "_view_name": "LayoutView",
            "align_content": null,
            "align_items": null,
            "align_self": null,
            "border": null,
            "bottom": null,
            "display": null,
            "flex": null,
            "flex_flow": null,
            "grid_area": null,
            "grid_auto_columns": null,
            "grid_auto_flow": null,
            "grid_auto_rows": null,
            "grid_column": null,
            "grid_gap": null,
            "grid_row": null,
            "grid_template_areas": null,
            "grid_template_columns": null,
            "grid_template_rows": null,
            "height": null,
            "justify_content": null,
            "justify_items": null,
            "left": null,
            "margin": null,
            "max_height": null,
            "max_width": null,
            "min_height": null,
            "min_width": null,
            "object_fit": null,
            "object_position": null,
            "order": null,
            "overflow": null,
            "overflow_x": null,
            "overflow_y": null,
            "padding": null,
            "right": null,
            "top": null,
            "visibility": null,
            "width": null
          }
        },
        "7a0a01e12b3b455dbb05534881e78d83": {
          "model_module": "@jupyter-widgets/controls",
          "model_name": "DescriptionStyleModel",
          "model_module_version": "1.5.0",
          "state": {
            "_model_module": "@jupyter-widgets/controls",
            "_model_module_version": "1.5.0",
            "_model_name": "DescriptionStyleModel",
            "_view_count": null,
            "_view_module": "@jupyter-widgets/base",
            "_view_module_version": "1.2.0",
            "_view_name": "StyleView",
            "description_width": ""
          }
        },
        "0ec9b6f53cfa40d9878df59956840c43": {
          "model_module": "@jupyter-widgets/controls",
          "model_name": "HBoxModel",
          "model_module_version": "1.5.0",
          "state": {
            "_dom_classes": [],
            "_model_module": "@jupyter-widgets/controls",
            "_model_module_version": "1.5.0",
            "_model_name": "HBoxModel",
            "_view_count": null,
            "_view_module": "@jupyter-widgets/controls",
            "_view_module_version": "1.5.0",
            "_view_name": "HBoxView",
            "box_style": "",
            "children": [
              "IPY_MODEL_1389910761d348c991766bd059717868",
              "IPY_MODEL_f54806014a1e4b80a64f627cbee7dc3b",
              "IPY_MODEL_18eeab46acb94194a5ed42647a3b5475"
            ],
            "layout": "IPY_MODEL_f7e0533bc5d0408dbc919d306300b9d7"
          }
        },
        "1389910761d348c991766bd059717868": {
          "model_module": "@jupyter-widgets/controls",
          "model_name": "HTMLModel",
          "model_module_version": "1.5.0",
          "state": {
            "_dom_classes": [],
            "_model_module": "@jupyter-widgets/controls",
            "_model_module_version": "1.5.0",
            "_model_name": "HTMLModel",
            "_view_count": null,
            "_view_module": "@jupyter-widgets/controls",
            "_view_module_version": "1.5.0",
            "_view_name": "HTMLView",
            "description": "",
            "description_tooltip": null,
            "layout": "IPY_MODEL_28b2c60aa35249a0ba5d6237857e089d",
            "placeholder": "​",
            "style": "IPY_MODEL_83e062bfcab941b98b40dcca6073e5ea",
            "value": "Iteration: 100%"
          }
        },
        "f54806014a1e4b80a64f627cbee7dc3b": {
          "model_module": "@jupyter-widgets/controls",
          "model_name": "FloatProgressModel",
          "model_module_version": "1.5.0",
          "state": {
            "_dom_classes": [],
            "_model_module": "@jupyter-widgets/controls",
            "_model_module_version": "1.5.0",
            "_model_name": "FloatProgressModel",
            "_view_count": null,
            "_view_module": "@jupyter-widgets/controls",
            "_view_module_version": "1.5.0",
            "_view_name": "ProgressView",
            "bar_style": "success",
            "description": "",
            "description_tooltip": null,
            "layout": "IPY_MODEL_b6612e9d659a4016b34077eff7c76f8d",
            "max": 40,
            "min": 0,
            "orientation": "horizontal",
            "style": "IPY_MODEL_603f3628ff0b4cc4901145912617281d",
            "value": 40
          }
        },
        "18eeab46acb94194a5ed42647a3b5475": {
          "model_module": "@jupyter-widgets/controls",
          "model_name": "HTMLModel",
          "model_module_version": "1.5.0",
          "state": {
            "_dom_classes": [],
            "_model_module": "@jupyter-widgets/controls",
            "_model_module_version": "1.5.0",
            "_model_name": "HTMLModel",
            "_view_count": null,
            "_view_module": "@jupyter-widgets/controls",
            "_view_module_version": "1.5.0",
            "_view_name": "HTMLView",
            "description": "",
            "description_tooltip": null,
            "layout": "IPY_MODEL_3316fe6347fb47858a527b8e679e5368",
            "placeholder": "​",
            "style": "IPY_MODEL_0d13d25566a940d6a97a75df88914ca4",
            "value": " 40/40 [01:12&lt;00:00,  1.77s/it]"
          }
        },
        "f7e0533bc5d0408dbc919d306300b9d7": {
          "model_module": "@jupyter-widgets/base",
          "model_name": "LayoutModel",
          "model_module_version": "1.2.0",
          "state": {
            "_model_module": "@jupyter-widgets/base",
            "_model_module_version": "1.2.0",
            "_model_name": "LayoutModel",
            "_view_count": null,
            "_view_module": "@jupyter-widgets/base",
            "_view_module_version": "1.2.0",
            "_view_name": "LayoutView",
            "align_content": null,
            "align_items": null,
            "align_self": null,
            "border": null,
            "bottom": null,
            "display": null,
            "flex": null,
            "flex_flow": null,
            "grid_area": null,
            "grid_auto_columns": null,
            "grid_auto_flow": null,
            "grid_auto_rows": null,
            "grid_column": null,
            "grid_gap": null,
            "grid_row": null,
            "grid_template_areas": null,
            "grid_template_columns": null,
            "grid_template_rows": null,
            "height": null,
            "justify_content": null,
            "justify_items": null,
            "left": null,
            "margin": null,
            "max_height": null,
            "max_width": null,
            "min_height": null,
            "min_width": null,
            "object_fit": null,
            "object_position": null,
            "order": null,
            "overflow": null,
            "overflow_x": null,
            "overflow_y": null,
            "padding": null,
            "right": null,
            "top": null,
            "visibility": null,
            "width": null
          }
        },
        "28b2c60aa35249a0ba5d6237857e089d": {
          "model_module": "@jupyter-widgets/base",
          "model_name": "LayoutModel",
          "model_module_version": "1.2.0",
          "state": {
            "_model_module": "@jupyter-widgets/base",
            "_model_module_version": "1.2.0",
            "_model_name": "LayoutModel",
            "_view_count": null,
            "_view_module": "@jupyter-widgets/base",
            "_view_module_version": "1.2.0",
            "_view_name": "LayoutView",
            "align_content": null,
            "align_items": null,
            "align_self": null,
            "border": null,
            "bottom": null,
            "display": null,
            "flex": null,
            "flex_flow": null,
            "grid_area": null,
            "grid_auto_columns": null,
            "grid_auto_flow": null,
            "grid_auto_rows": null,
            "grid_column": null,
            "grid_gap": null,
            "grid_row": null,
            "grid_template_areas": null,
            "grid_template_columns": null,
            "grid_template_rows": null,
            "height": null,
            "justify_content": null,
            "justify_items": null,
            "left": null,
            "margin": null,
            "max_height": null,
            "max_width": null,
            "min_height": null,
            "min_width": null,
            "object_fit": null,
            "object_position": null,
            "order": null,
            "overflow": null,
            "overflow_x": null,
            "overflow_y": null,
            "padding": null,
            "right": null,
            "top": null,
            "visibility": null,
            "width": null
          }
        },
        "83e062bfcab941b98b40dcca6073e5ea": {
          "model_module": "@jupyter-widgets/controls",
          "model_name": "DescriptionStyleModel",
          "model_module_version": "1.5.0",
          "state": {
            "_model_module": "@jupyter-widgets/controls",
            "_model_module_version": "1.5.0",
            "_model_name": "DescriptionStyleModel",
            "_view_count": null,
            "_view_module": "@jupyter-widgets/base",
            "_view_module_version": "1.2.0",
            "_view_name": "StyleView",
            "description_width": ""
          }
        },
        "b6612e9d659a4016b34077eff7c76f8d": {
          "model_module": "@jupyter-widgets/base",
          "model_name": "LayoutModel",
          "model_module_version": "1.2.0",
          "state": {
            "_model_module": "@jupyter-widgets/base",
            "_model_module_version": "1.2.0",
            "_model_name": "LayoutModel",
            "_view_count": null,
            "_view_module": "@jupyter-widgets/base",
            "_view_module_version": "1.2.0",
            "_view_name": "LayoutView",
            "align_content": null,
            "align_items": null,
            "align_self": null,
            "border": null,
            "bottom": null,
            "display": null,
            "flex": null,
            "flex_flow": null,
            "grid_area": null,
            "grid_auto_columns": null,
            "grid_auto_flow": null,
            "grid_auto_rows": null,
            "grid_column": null,
            "grid_gap": null,
            "grid_row": null,
            "grid_template_areas": null,
            "grid_template_columns": null,
            "grid_template_rows": null,
            "height": null,
            "justify_content": null,
            "justify_items": null,
            "left": null,
            "margin": null,
            "max_height": null,
            "max_width": null,
            "min_height": null,
            "min_width": null,
            "object_fit": null,
            "object_position": null,
            "order": null,
            "overflow": null,
            "overflow_x": null,
            "overflow_y": null,
            "padding": null,
            "right": null,
            "top": null,
            "visibility": null,
            "width": null
          }
        },
        "603f3628ff0b4cc4901145912617281d": {
          "model_module": "@jupyter-widgets/controls",
          "model_name": "ProgressStyleModel",
          "model_module_version": "1.5.0",
          "state": {
            "_model_module": "@jupyter-widgets/controls",
            "_model_module_version": "1.5.0",
            "_model_name": "ProgressStyleModel",
            "_view_count": null,
            "_view_module": "@jupyter-widgets/base",
            "_view_module_version": "1.2.0",
            "_view_name": "StyleView",
            "bar_color": null,
            "description_width": ""
          }
        },
        "3316fe6347fb47858a527b8e679e5368": {
          "model_module": "@jupyter-widgets/base",
          "model_name": "LayoutModel",
          "model_module_version": "1.2.0",
          "state": {
            "_model_module": "@jupyter-widgets/base",
            "_model_module_version": "1.2.0",
            "_model_name": "LayoutModel",
            "_view_count": null,
            "_view_module": "@jupyter-widgets/base",
            "_view_module_version": "1.2.0",
            "_view_name": "LayoutView",
            "align_content": null,
            "align_items": null,
            "align_self": null,
            "border": null,
            "bottom": null,
            "display": null,
            "flex": null,
            "flex_flow": null,
            "grid_area": null,
            "grid_auto_columns": null,
            "grid_auto_flow": null,
            "grid_auto_rows": null,
            "grid_column": null,
            "grid_gap": null,
            "grid_row": null,
            "grid_template_areas": null,
            "grid_template_columns": null,
            "grid_template_rows": null,
            "height": null,
            "justify_content": null,
            "justify_items": null,
            "left": null,
            "margin": null,
            "max_height": null,
            "max_width": null,
            "min_height": null,
            "min_width": null,
            "object_fit": null,
            "object_position": null,
            "order": null,
            "overflow": null,
            "overflow_x": null,
            "overflow_y": null,
            "padding": null,
            "right": null,
            "top": null,
            "visibility": null,
            "width": null
          }
        },
        "0d13d25566a940d6a97a75df88914ca4": {
          "model_module": "@jupyter-widgets/controls",
          "model_name": "DescriptionStyleModel",
          "model_module_version": "1.5.0",
          "state": {
            "_model_module": "@jupyter-widgets/controls",
            "_model_module_version": "1.5.0",
            "_model_name": "DescriptionStyleModel",
            "_view_count": null,
            "_view_module": "@jupyter-widgets/base",
            "_view_module_version": "1.2.0",
            "_view_name": "StyleView",
            "description_width": ""
          }
        },
        "7d456299de5b43cf9618d74d91dd3549": {
          "model_module": "@jupyter-widgets/controls",
          "model_name": "HBoxModel",
          "model_module_version": "1.5.0",
          "state": {
            "_dom_classes": [],
            "_model_module": "@jupyter-widgets/controls",
            "_model_module_version": "1.5.0",
            "_model_name": "HBoxModel",
            "_view_count": null,
            "_view_module": "@jupyter-widgets/controls",
            "_view_module_version": "1.5.0",
            "_view_name": "HBoxView",
            "box_style": "",
            "children": [
              "IPY_MODEL_2d971284f1a84cea803f4d536dc54530",
              "IPY_MODEL_5d047da4734441a4adc0ff5ac8d3bfdc",
              "IPY_MODEL_1479e3d3afcc453889291b2f51550d5d"
            ],
            "layout": "IPY_MODEL_626743adfe2d473fbe8ee330f50e85c3"
          }
        },
        "2d971284f1a84cea803f4d536dc54530": {
          "model_module": "@jupyter-widgets/controls",
          "model_name": "HTMLModel",
          "model_module_version": "1.5.0",
          "state": {
            "_dom_classes": [],
            "_model_module": "@jupyter-widgets/controls",
            "_model_module_version": "1.5.0",
            "_model_name": "HTMLModel",
            "_view_count": null,
            "_view_module": "@jupyter-widgets/controls",
            "_view_module_version": "1.5.0",
            "_view_name": "HTMLView",
            "description": "",
            "description_tooltip": null,
            "layout": "IPY_MODEL_f09e1c1a289c455da6a4837de5d5a6d4",
            "placeholder": "​",
            "style": "IPY_MODEL_24f7ac6b4c83468eabaab2376104e92b",
            "value": "Downloading builder script: 100%"
          }
        },
        "5d047da4734441a4adc0ff5ac8d3bfdc": {
          "model_module": "@jupyter-widgets/controls",
          "model_name": "FloatProgressModel",
          "model_module_version": "1.5.0",
          "state": {
            "_dom_classes": [],
            "_model_module": "@jupyter-widgets/controls",
            "_model_module_version": "1.5.0",
            "_model_name": "FloatProgressModel",
            "_view_count": null,
            "_view_module": "@jupyter-widgets/controls",
            "_view_module_version": "1.5.0",
            "_view_name": "ProgressView",
            "bar_style": "success",
            "description": "",
            "description_tooltip": null,
            "layout": "IPY_MODEL_1bc7a45b36d44f24bb4b92e6da417218",
            "max": 4203,
            "min": 0,
            "orientation": "horizontal",
            "style": "IPY_MODEL_5b7ab18dad764063899f1b22e9366c8e",
            "value": 4203
          }
        },
        "1479e3d3afcc453889291b2f51550d5d": {
          "model_module": "@jupyter-widgets/controls",
          "model_name": "HTMLModel",
          "model_module_version": "1.5.0",
          "state": {
            "_dom_classes": [],
            "_model_module": "@jupyter-widgets/controls",
            "_model_module_version": "1.5.0",
            "_model_name": "HTMLModel",
            "_view_count": null,
            "_view_module": "@jupyter-widgets/controls",
            "_view_module_version": "1.5.0",
            "_view_name": "HTMLView",
            "description": "",
            "description_tooltip": null,
            "layout": "IPY_MODEL_8b37a843feed4b9896d33cda9ec56588",
            "placeholder": "​",
            "style": "IPY_MODEL_be15de349eb245cc88b78802daffeb7c",
            "value": " 4.20k/4.20k [00:00&lt;00:00, 247kB/s]"
          }
        },
        "626743adfe2d473fbe8ee330f50e85c3": {
          "model_module": "@jupyter-widgets/base",
          "model_name": "LayoutModel",
          "model_module_version": "1.2.0",
          "state": {
            "_model_module": "@jupyter-widgets/base",
            "_model_module_version": "1.2.0",
            "_model_name": "LayoutModel",
            "_view_count": null,
            "_view_module": "@jupyter-widgets/base",
            "_view_module_version": "1.2.0",
            "_view_name": "LayoutView",
            "align_content": null,
            "align_items": null,
            "align_self": null,
            "border": null,
            "bottom": null,
            "display": null,
            "flex": null,
            "flex_flow": null,
            "grid_area": null,
            "grid_auto_columns": null,
            "grid_auto_flow": null,
            "grid_auto_rows": null,
            "grid_column": null,
            "grid_gap": null,
            "grid_row": null,
            "grid_template_areas": null,
            "grid_template_columns": null,
            "grid_template_rows": null,
            "height": null,
            "justify_content": null,
            "justify_items": null,
            "left": null,
            "margin": null,
            "max_height": null,
            "max_width": null,
            "min_height": null,
            "min_width": null,
            "object_fit": null,
            "object_position": null,
            "order": null,
            "overflow": null,
            "overflow_x": null,
            "overflow_y": null,
            "padding": null,
            "right": null,
            "top": null,
            "visibility": null,
            "width": null
          }
        },
        "f09e1c1a289c455da6a4837de5d5a6d4": {
          "model_module": "@jupyter-widgets/base",
          "model_name": "LayoutModel",
          "model_module_version": "1.2.0",
          "state": {
            "_model_module": "@jupyter-widgets/base",
            "_model_module_version": "1.2.0",
            "_model_name": "LayoutModel",
            "_view_count": null,
            "_view_module": "@jupyter-widgets/base",
            "_view_module_version": "1.2.0",
            "_view_name": "LayoutView",
            "align_content": null,
            "align_items": null,
            "align_self": null,
            "border": null,
            "bottom": null,
            "display": null,
            "flex": null,
            "flex_flow": null,
            "grid_area": null,
            "grid_auto_columns": null,
            "grid_auto_flow": null,
            "grid_auto_rows": null,
            "grid_column": null,
            "grid_gap": null,
            "grid_row": null,
            "grid_template_areas": null,
            "grid_template_columns": null,
            "grid_template_rows": null,
            "height": null,
            "justify_content": null,
            "justify_items": null,
            "left": null,
            "margin": null,
            "max_height": null,
            "max_width": null,
            "min_height": null,
            "min_width": null,
            "object_fit": null,
            "object_position": null,
            "order": null,
            "overflow": null,
            "overflow_x": null,
            "overflow_y": null,
            "padding": null,
            "right": null,
            "top": null,
            "visibility": null,
            "width": null
          }
        },
        "24f7ac6b4c83468eabaab2376104e92b": {
          "model_module": "@jupyter-widgets/controls",
          "model_name": "DescriptionStyleModel",
          "model_module_version": "1.5.0",
          "state": {
            "_model_module": "@jupyter-widgets/controls",
            "_model_module_version": "1.5.0",
            "_model_name": "DescriptionStyleModel",
            "_view_count": null,
            "_view_module": "@jupyter-widgets/base",
            "_view_module_version": "1.2.0",
            "_view_name": "StyleView",
            "description_width": ""
          }
        },
        "1bc7a45b36d44f24bb4b92e6da417218": {
          "model_module": "@jupyter-widgets/base",
          "model_name": "LayoutModel",
          "model_module_version": "1.2.0",
          "state": {
            "_model_module": "@jupyter-widgets/base",
            "_model_module_version": "1.2.0",
            "_model_name": "LayoutModel",
            "_view_count": null,
            "_view_module": "@jupyter-widgets/base",
            "_view_module_version": "1.2.0",
            "_view_name": "LayoutView",
            "align_content": null,
            "align_items": null,
            "align_self": null,
            "border": null,
            "bottom": null,
            "display": null,
            "flex": null,
            "flex_flow": null,
            "grid_area": null,
            "grid_auto_columns": null,
            "grid_auto_flow": null,
            "grid_auto_rows": null,
            "grid_column": null,
            "grid_gap": null,
            "grid_row": null,
            "grid_template_areas": null,
            "grid_template_columns": null,
            "grid_template_rows": null,
            "height": null,
            "justify_content": null,
            "justify_items": null,
            "left": null,
            "margin": null,
            "max_height": null,
            "max_width": null,
            "min_height": null,
            "min_width": null,
            "object_fit": null,
            "object_position": null,
            "order": null,
            "overflow": null,
            "overflow_x": null,
            "overflow_y": null,
            "padding": null,
            "right": null,
            "top": null,
            "visibility": null,
            "width": null
          }
        },
        "5b7ab18dad764063899f1b22e9366c8e": {
          "model_module": "@jupyter-widgets/controls",
          "model_name": "ProgressStyleModel",
          "model_module_version": "1.5.0",
          "state": {
            "_model_module": "@jupyter-widgets/controls",
            "_model_module_version": "1.5.0",
            "_model_name": "ProgressStyleModel",
            "_view_count": null,
            "_view_module": "@jupyter-widgets/base",
            "_view_module_version": "1.2.0",
            "_view_name": "StyleView",
            "bar_color": null,
            "description_width": ""
          }
        },
        "8b37a843feed4b9896d33cda9ec56588": {
          "model_module": "@jupyter-widgets/base",
          "model_name": "LayoutModel",
          "model_module_version": "1.2.0",
          "state": {
            "_model_module": "@jupyter-widgets/base",
            "_model_module_version": "1.2.0",
            "_model_name": "LayoutModel",
            "_view_count": null,
            "_view_module": "@jupyter-widgets/base",
            "_view_module_version": "1.2.0",
            "_view_name": "LayoutView",
            "align_content": null,
            "align_items": null,
            "align_self": null,
            "border": null,
            "bottom": null,
            "display": null,
            "flex": null,
            "flex_flow": null,
            "grid_area": null,
            "grid_auto_columns": null,
            "grid_auto_flow": null,
            "grid_auto_rows": null,
            "grid_column": null,
            "grid_gap": null,
            "grid_row": null,
            "grid_template_areas": null,
            "grid_template_columns": null,
            "grid_template_rows": null,
            "height": null,
            "justify_content": null,
            "justify_items": null,
            "left": null,
            "margin": null,
            "max_height": null,
            "max_width": null,
            "min_height": null,
            "min_width": null,
            "object_fit": null,
            "object_position": null,
            "order": null,
            "overflow": null,
            "overflow_x": null,
            "overflow_y": null,
            "padding": null,
            "right": null,
            "top": null,
            "visibility": null,
            "width": null
          }
        },
        "be15de349eb245cc88b78802daffeb7c": {
          "model_module": "@jupyter-widgets/controls",
          "model_name": "DescriptionStyleModel",
          "model_module_version": "1.5.0",
          "state": {
            "_model_module": "@jupyter-widgets/controls",
            "_model_module_version": "1.5.0",
            "_model_name": "DescriptionStyleModel",
            "_view_count": null,
            "_view_module": "@jupyter-widgets/base",
            "_view_module_version": "1.2.0",
            "_view_name": "StyleView",
            "description_width": ""
          }
        },
        "5e544744b18a48a0a3cbe0f97904970c": {
          "model_module": "@jupyter-widgets/controls",
          "model_name": "HBoxModel",
          "model_module_version": "1.5.0",
          "state": {
            "_dom_classes": [],
            "_model_module": "@jupyter-widgets/controls",
            "_model_module_version": "1.5.0",
            "_model_name": "HBoxModel",
            "_view_count": null,
            "_view_module": "@jupyter-widgets/controls",
            "_view_module_version": "1.5.0",
            "_view_name": "HBoxView",
            "box_style": "",
            "children": [
              "IPY_MODEL_412ae2108b904f17af9e8300909cbe38",
              "IPY_MODEL_6af174736dc24243b8e76efb94bc56e8",
              "IPY_MODEL_af32541386f04b9f9d71dfd8c49fe9d3"
            ],
            "layout": "IPY_MODEL_a55d095ecef446ed94745cb305b11805"
          }
        },
        "412ae2108b904f17af9e8300909cbe38": {
          "model_module": "@jupyter-widgets/controls",
          "model_name": "HTMLModel",
          "model_module_version": "1.5.0",
          "state": {
            "_dom_classes": [],
            "_model_module": "@jupyter-widgets/controls",
            "_model_module_version": "1.5.0",
            "_model_name": "HTMLModel",
            "_view_count": null,
            "_view_module": "@jupyter-widgets/controls",
            "_view_module_version": "1.5.0",
            "_view_name": "HTMLView",
            "description": "",
            "description_tooltip": null,
            "layout": "IPY_MODEL_45f46bdc0eaa4eada8b983951c0690c7",
            "placeholder": "​",
            "style": "IPY_MODEL_10e48a34147741c884d9ecaeb81990a2",
            "value": ""
          }
        },
        "6af174736dc24243b8e76efb94bc56e8": {
          "model_module": "@jupyter-widgets/controls",
          "model_name": "FloatProgressModel",
          "model_module_version": "1.5.0",
          "state": {
            "_dom_classes": [],
            "_model_module": "@jupyter-widgets/controls",
            "_model_module_version": "1.5.0",
            "_model_name": "FloatProgressModel",
            "_view_count": null,
            "_view_module": "@jupyter-widgets/controls",
            "_view_module_version": "1.5.0",
            "_view_name": "ProgressView",
            "bar_style": "success",
            "description": "",
            "description_tooltip": null,
            "layout": "IPY_MODEL_949ee5e24ce5409499acd681aba2cc7a",
            "max": 1,
            "min": 0,
            "orientation": "horizontal",
            "style": "IPY_MODEL_661e066a6c694bb9a1917d26288819ec",
            "value": 1
          }
        },
        "af32541386f04b9f9d71dfd8c49fe9d3": {
          "model_module": "@jupyter-widgets/controls",
          "model_name": "HTMLModel",
          "model_module_version": "1.5.0",
          "state": {
            "_dom_classes": [],
            "_model_module": "@jupyter-widgets/controls",
            "_model_module_version": "1.5.0",
            "_model_name": "HTMLModel",
            "_view_count": null,
            "_view_module": "@jupyter-widgets/controls",
            "_view_module_version": "1.5.0",
            "_view_name": "HTMLView",
            "description": "",
            "description_tooltip": null,
            "layout": "IPY_MODEL_337a9571b437432c8af53bbcccf6da5a",
            "placeholder": "​",
            "style": "IPY_MODEL_eefe2ae7e8c94b3796458e184a76aff1",
            "value": " 4/? [00:00&lt;00:00,  6.59it/s]"
          }
        },
        "a55d095ecef446ed94745cb305b11805": {
          "model_module": "@jupyter-widgets/base",
          "model_name": "LayoutModel",
          "model_module_version": "1.2.0",
          "state": {
            "_model_module": "@jupyter-widgets/base",
            "_model_module_version": "1.2.0",
            "_model_name": "LayoutModel",
            "_view_count": null,
            "_view_module": "@jupyter-widgets/base",
            "_view_module_version": "1.2.0",
            "_view_name": "LayoutView",
            "align_content": null,
            "align_items": null,
            "align_self": null,
            "border": null,
            "bottom": null,
            "display": null,
            "flex": null,
            "flex_flow": null,
            "grid_area": null,
            "grid_auto_columns": null,
            "grid_auto_flow": null,
            "grid_auto_rows": null,
            "grid_column": null,
            "grid_gap": null,
            "grid_row": null,
            "grid_template_areas": null,
            "grid_template_columns": null,
            "grid_template_rows": null,
            "height": null,
            "justify_content": null,
            "justify_items": null,
            "left": null,
            "margin": null,
            "max_height": null,
            "max_width": null,
            "min_height": null,
            "min_width": null,
            "object_fit": null,
            "object_position": null,
            "order": null,
            "overflow": null,
            "overflow_x": null,
            "overflow_y": null,
            "padding": null,
            "right": null,
            "top": null,
            "visibility": null,
            "width": null
          }
        },
        "45f46bdc0eaa4eada8b983951c0690c7": {
          "model_module": "@jupyter-widgets/base",
          "model_name": "LayoutModel",
          "model_module_version": "1.2.0",
          "state": {
            "_model_module": "@jupyter-widgets/base",
            "_model_module_version": "1.2.0",
            "_model_name": "LayoutModel",
            "_view_count": null,
            "_view_module": "@jupyter-widgets/base",
            "_view_module_version": "1.2.0",
            "_view_name": "LayoutView",
            "align_content": null,
            "align_items": null,
            "align_self": null,
            "border": null,
            "bottom": null,
            "display": null,
            "flex": null,
            "flex_flow": null,
            "grid_area": null,
            "grid_auto_columns": null,
            "grid_auto_flow": null,
            "grid_auto_rows": null,
            "grid_column": null,
            "grid_gap": null,
            "grid_row": null,
            "grid_template_areas": null,
            "grid_template_columns": null,
            "grid_template_rows": null,
            "height": null,
            "justify_content": null,
            "justify_items": null,
            "left": null,
            "margin": null,
            "max_height": null,
            "max_width": null,
            "min_height": null,
            "min_width": null,
            "object_fit": null,
            "object_position": null,
            "order": null,
            "overflow": null,
            "overflow_x": null,
            "overflow_y": null,
            "padding": null,
            "right": null,
            "top": null,
            "visibility": null,
            "width": null
          }
        },
        "10e48a34147741c884d9ecaeb81990a2": {
          "model_module": "@jupyter-widgets/controls",
          "model_name": "DescriptionStyleModel",
          "model_module_version": "1.5.0",
          "state": {
            "_model_module": "@jupyter-widgets/controls",
            "_model_module_version": "1.5.0",
            "_model_name": "DescriptionStyleModel",
            "_view_count": null,
            "_view_module": "@jupyter-widgets/base",
            "_view_module_version": "1.2.0",
            "_view_name": "StyleView",
            "description_width": ""
          }
        },
        "949ee5e24ce5409499acd681aba2cc7a": {
          "model_module": "@jupyter-widgets/base",
          "model_name": "LayoutModel",
          "model_module_version": "1.2.0",
          "state": {
            "_model_module": "@jupyter-widgets/base",
            "_model_module_version": "1.2.0",
            "_model_name": "LayoutModel",
            "_view_count": null,
            "_view_module": "@jupyter-widgets/base",
            "_view_module_version": "1.2.0",
            "_view_name": "LayoutView",
            "align_content": null,
            "align_items": null,
            "align_self": null,
            "border": null,
            "bottom": null,
            "display": null,
            "flex": null,
            "flex_flow": null,
            "grid_area": null,
            "grid_auto_columns": null,
            "grid_auto_flow": null,
            "grid_auto_rows": null,
            "grid_column": null,
            "grid_gap": null,
            "grid_row": null,
            "grid_template_areas": null,
            "grid_template_columns": null,
            "grid_template_rows": null,
            "height": null,
            "justify_content": null,
            "justify_items": null,
            "left": null,
            "margin": null,
            "max_height": null,
            "max_width": null,
            "min_height": null,
            "min_width": null,
            "object_fit": null,
            "object_position": null,
            "order": null,
            "overflow": null,
            "overflow_x": null,
            "overflow_y": null,
            "padding": null,
            "right": null,
            "top": null,
            "visibility": null,
            "width": null
          }
        },
        "661e066a6c694bb9a1917d26288819ec": {
          "model_module": "@jupyter-widgets/controls",
          "model_name": "ProgressStyleModel",
          "model_module_version": "1.5.0",
          "state": {
            "_model_module": "@jupyter-widgets/controls",
            "_model_module_version": "1.5.0",
            "_model_name": "ProgressStyleModel",
            "_view_count": null,
            "_view_module": "@jupyter-widgets/base",
            "_view_module_version": "1.2.0",
            "_view_name": "StyleView",
            "bar_color": null,
            "description_width": ""
          }
        },
        "337a9571b437432c8af53bbcccf6da5a": {
          "model_module": "@jupyter-widgets/base",
          "model_name": "LayoutModel",
          "model_module_version": "1.2.0",
          "state": {
            "_model_module": "@jupyter-widgets/base",
            "_model_module_version": "1.2.0",
            "_model_name": "LayoutModel",
            "_view_count": null,
            "_view_module": "@jupyter-widgets/base",
            "_view_module_version": "1.2.0",
            "_view_name": "LayoutView",
            "align_content": null,
            "align_items": null,
            "align_self": null,
            "border": null,
            "bottom": null,
            "display": null,
            "flex": null,
            "flex_flow": null,
            "grid_area": null,
            "grid_auto_columns": null,
            "grid_auto_flow": null,
            "grid_auto_rows": null,
            "grid_column": null,
            "grid_gap": null,
            "grid_row": null,
            "grid_template_areas": null,
            "grid_template_columns": null,
            "grid_template_rows": null,
            "height": null,
            "justify_content": null,
            "justify_items": null,
            "left": null,
            "margin": null,
            "max_height": null,
            "max_width": null,
            "min_height": null,
            "min_width": null,
            "object_fit": null,
            "object_position": null,
            "order": null,
            "overflow": null,
            "overflow_x": null,
            "overflow_y": null,
            "padding": null,
            "right": null,
            "top": null,
            "visibility": null,
            "width": null
          }
        },
        "eefe2ae7e8c94b3796458e184a76aff1": {
          "model_module": "@jupyter-widgets/controls",
          "model_name": "DescriptionStyleModel",
          "model_module_version": "1.5.0",
          "state": {
            "_model_module": "@jupyter-widgets/controls",
            "_model_module_version": "1.5.0",
            "_model_name": "DescriptionStyleModel",
            "_view_count": null,
            "_view_module": "@jupyter-widgets/base",
            "_view_module_version": "1.2.0",
            "_view_name": "StyleView",
            "description_width": ""
          }
        },
        "282701d2765d4f649d786f2ef044d1bb": {
          "model_module": "@jupyter-widgets/controls",
          "model_name": "BoundedIntTextModel",
          "model_module_version": "1.5.0",
          "state": {
            "_dom_classes": [],
            "_model_module": "@jupyter-widgets/controls",
            "_model_module_version": "1.5.0",
            "_model_name": "BoundedIntTextModel",
            "_view_count": null,
            "_view_module": "@jupyter-widgets/controls",
            "_view_module_version": "1.5.0",
            "_view_name": "IntTextView",
            "continuous_update": false,
            "description": "# of docs to process:",
            "description_tooltip": null,
            "disabled": false,
            "layout": "IPY_MODEL_fe00d84bc87449b0aa1d13c8392562d7",
            "max": 4999,
            "min": 1,
            "step": 10,
            "style": "IPY_MODEL_6656d521f9e04a58908f35d62e27c959",
            "value": 500
          }
        },
        "fe00d84bc87449b0aa1d13c8392562d7": {
          "model_module": "@jupyter-widgets/base",
          "model_name": "LayoutModel",
          "model_module_version": "1.2.0",
          "state": {
            "_model_module": "@jupyter-widgets/base",
            "_model_module_version": "1.2.0",
            "_model_name": "LayoutModel",
            "_view_count": null,
            "_view_module": "@jupyter-widgets/base",
            "_view_module_version": "1.2.0",
            "_view_name": "LayoutView",
            "align_content": null,
            "align_items": null,
            "align_self": null,
            "border": null,
            "bottom": null,
            "display": null,
            "flex": null,
            "flex_flow": null,
            "grid_area": null,
            "grid_auto_columns": null,
            "grid_auto_flow": null,
            "grid_auto_rows": null,
            "grid_column": null,
            "grid_gap": null,
            "grid_row": null,
            "grid_template_areas": null,
            "grid_template_columns": null,
            "grid_template_rows": null,
            "height": null,
            "justify_content": null,
            "justify_items": null,
            "left": null,
            "margin": null,
            "max_height": null,
            "max_width": null,
            "min_height": null,
            "min_width": null,
            "object_fit": null,
            "object_position": null,
            "order": null,
            "overflow": null,
            "overflow_x": null,
            "overflow_y": null,
            "padding": null,
            "right": null,
            "top": null,
            "visibility": null,
            "width": null
          }
        },
        "6656d521f9e04a58908f35d62e27c959": {
          "model_module": "@jupyter-widgets/controls",
          "model_name": "DescriptionStyleModel",
          "model_module_version": "1.5.0",
          "state": {
            "_model_module": "@jupyter-widgets/controls",
            "_model_module_version": "1.5.0",
            "_model_name": "DescriptionStyleModel",
            "_view_count": null,
            "_view_module": "@jupyter-widgets/base",
            "_view_module_version": "1.2.0",
            "_view_name": "StyleView",
            "description_width": "initial"
          }
        },
        "e6da2dd9d42d4e978de2bbd11b05a932": {
          "model_module": "@jupyter-widgets/controls",
          "model_name": "TextareaModel",
          "model_module_version": "1.5.0",
          "state": {
            "_dom_classes": [],
            "_model_module": "@jupyter-widgets/controls",
            "_model_module_version": "1.5.0",
            "_model_name": "TextareaModel",
            "_view_count": null,
            "_view_module": "@jupyter-widgets/controls",
            "_view_module_version": "1.5.0",
            "_view_name": "TextareaView",
            "continuous_update": true,
            "description": "String:",
            "description_tooltip": null,
            "disabled": false,
            "layout": "IPY_MODEL_417a128d7ce842ee923b701d0fc3d8cc",
            "placeholder": "Type a key word you want to select documents by",
            "rows": null,
            "style": "IPY_MODEL_1648fc4d60a14f6d8bb0b550a3288824",
            "value": "Caldera"
          }
        },
        "417a128d7ce842ee923b701d0fc3d8cc": {
          "model_module": "@jupyter-widgets/base",
          "model_name": "LayoutModel",
          "model_module_version": "1.2.0",
          "state": {
            "_model_module": "@jupyter-widgets/base",
            "_model_module_version": "1.2.0",
            "_model_name": "LayoutModel",
            "_view_count": null,
            "_view_module": "@jupyter-widgets/base",
            "_view_module_version": "1.2.0",
            "_view_name": "LayoutView",
            "align_content": null,
            "align_items": null,
            "align_self": null,
            "border": null,
            "bottom": null,
            "display": null,
            "flex": null,
            "flex_flow": null,
            "grid_area": null,
            "grid_auto_columns": null,
            "grid_auto_flow": null,
            "grid_auto_rows": null,
            "grid_column": null,
            "grid_gap": null,
            "grid_row": null,
            "grid_template_areas": null,
            "grid_template_columns": null,
            "grid_template_rows": null,
            "height": null,
            "justify_content": null,
            "justify_items": null,
            "left": null,
            "margin": null,
            "max_height": null,
            "max_width": null,
            "min_height": null,
            "min_width": null,
            "object_fit": null,
            "object_position": null,
            "order": null,
            "overflow": null,
            "overflow_x": null,
            "overflow_y": null,
            "padding": null,
            "right": null,
            "top": null,
            "visibility": null,
            "width": null
          }
        },
        "1648fc4d60a14f6d8bb0b550a3288824": {
          "model_module": "@jupyter-widgets/controls",
          "model_name": "DescriptionStyleModel",
          "model_module_version": "1.5.0",
          "state": {
            "_model_module": "@jupyter-widgets/controls",
            "_model_module_version": "1.5.0",
            "_model_name": "DescriptionStyleModel",
            "_view_count": null,
            "_view_module": "@jupyter-widgets/base",
            "_view_module_version": "1.2.0",
            "_view_name": "StyleView",
            "description_width": ""
          }
        }
      }
    }
  },
  "cells": [
    {
      "cell_type": "markdown",
      "metadata": {
        "id": "view-in-github",
        "colab_type": "text"
      },
      "source": [
        "<a href=\"https://colab.research.google.com/github/pastrop/kaggle/blob/master/text_analytics.ipynb\" target=\"_parent\"><img src=\"https://colab.research.google.com/assets/colab-badge.svg\" alt=\"Open In Colab\"/></a>"
      ]
    },
    {
      "cell_type": "markdown",
      "source": [
        "# Key Words & Documents Clusters"
      ],
      "metadata": {
        "id": "kNC0lDkrwkV2"
      }
    },
    {
      "cell_type": "markdown",
      "source": [
        "Open-source based set of capabilities allowing to analyze text datasets.  Currently Implemented Functionality:\n",
        "1. Key words indentification for a text corpus (YAKE algorithm)\n",
        "2. Key words identification for each document in the corpus (YAKE algorithms)\n",
        "3. Basic sentiment analysis (currently using Sienbert or J-Hartman models from the Huggingface Hub)\n",
        "4. Advanced Sentiment analysis & text classification (Using SetFit model with few shot training)\n",
        "5. Semantic Search & Clustering (Approximate Nearest Neighbours, ANNOY package)\n",
        "6. Basic vizualization (UMAP or PCA for dimensionality reduction, Altair or Matplotlib for plotting)\n",
        "\n",
        "**Work in Progress!**"
      ],
      "metadata": {
        "id": "2LXo_hZs4PXs"
      }
    },
    {
      "cell_type": "code",
      "execution_count": 1,
      "metadata": {
        "id": "Jbb9e0newipE"
      },
      "outputs": [],
      "source": [
        "import pandas as pd"
      ]
    },
    {
      "cell_type": "code",
      "source": [
        "%%capture\n",
        "!pip install ipywidgets"
      ],
      "metadata": {
        "id": "mJp4I9ZFBR3h"
      },
      "execution_count": 2,
      "outputs": []
    },
    {
      "cell_type": "code",
      "source": [
        "import ipywidgets as widgets\n",
        "from IPython.display import display\n",
        "layout = widgets.Layout(width='auto', height='40px')"
      ],
      "metadata": {
        "id": "8znHJfbRBb-1"
      },
      "execution_count": 3,
      "outputs": []
    },
    {
      "cell_type": "code",
      "source": [
        "# file upload while using Google Colab\n",
        "from google.colab import files\n",
        "uploaded = files.upload()"
      ],
      "metadata": {
        "id": "LpW1-Jk2xKO0",
        "colab": {
          "base_uri": "https://localhost:8080/",
          "height": 73
        },
        "outputId": "19a4ba11-0aa6-42ed-c000-b255a55aad39"
      },
      "execution_count": 4,
      "outputs": [
        {
          "output_type": "display_data",
          "data": {
            "text/plain": [
              "<IPython.core.display.HTML object>"
            ],
            "text/html": [
              "\n",
              "     <input type=\"file\" id=\"files-dfb5f665-b098-4984-ab4f-a6abe42a66f2\" name=\"files[]\" multiple disabled\n",
              "        style=\"border:none\" />\n",
              "     <output id=\"result-dfb5f665-b098-4984-ab4f-a6abe42a66f2\">\n",
              "      Upload widget is only available when the cell has been executed in the\n",
              "      current browser session. Please rerun this cell to enable.\n",
              "      </output>\n",
              "      <script>// Copyright 2017 Google LLC\n",
              "//\n",
              "// Licensed under the Apache License, Version 2.0 (the \"License\");\n",
              "// you may not use this file except in compliance with the License.\n",
              "// You may obtain a copy of the License at\n",
              "//\n",
              "//      http://www.apache.org/licenses/LICENSE-2.0\n",
              "//\n",
              "// Unless required by applicable law or agreed to in writing, software\n",
              "// distributed under the License is distributed on an \"AS IS\" BASIS,\n",
              "// WITHOUT WARRANTIES OR CONDITIONS OF ANY KIND, either express or implied.\n",
              "// See the License for the specific language governing permissions and\n",
              "// limitations under the License.\n",
              "\n",
              "/**\n",
              " * @fileoverview Helpers for google.colab Python module.\n",
              " */\n",
              "(function(scope) {\n",
              "function span(text, styleAttributes = {}) {\n",
              "  const element = document.createElement('span');\n",
              "  element.textContent = text;\n",
              "  for (const key of Object.keys(styleAttributes)) {\n",
              "    element.style[key] = styleAttributes[key];\n",
              "  }\n",
              "  return element;\n",
              "}\n",
              "\n",
              "// Max number of bytes which will be uploaded at a time.\n",
              "const MAX_PAYLOAD_SIZE = 100 * 1024;\n",
              "\n",
              "function _uploadFiles(inputId, outputId) {\n",
              "  const steps = uploadFilesStep(inputId, outputId);\n",
              "  const outputElement = document.getElementById(outputId);\n",
              "  // Cache steps on the outputElement to make it available for the next call\n",
              "  // to uploadFilesContinue from Python.\n",
              "  outputElement.steps = steps;\n",
              "\n",
              "  return _uploadFilesContinue(outputId);\n",
              "}\n",
              "\n",
              "// This is roughly an async generator (not supported in the browser yet),\n",
              "// where there are multiple asynchronous steps and the Python side is going\n",
              "// to poll for completion of each step.\n",
              "// This uses a Promise to block the python side on completion of each step,\n",
              "// then passes the result of the previous step as the input to the next step.\n",
              "function _uploadFilesContinue(outputId) {\n",
              "  const outputElement = document.getElementById(outputId);\n",
              "  const steps = outputElement.steps;\n",
              "\n",
              "  const next = steps.next(outputElement.lastPromiseValue);\n",
              "  return Promise.resolve(next.value.promise).then((value) => {\n",
              "    // Cache the last promise value to make it available to the next\n",
              "    // step of the generator.\n",
              "    outputElement.lastPromiseValue = value;\n",
              "    return next.value.response;\n",
              "  });\n",
              "}\n",
              "\n",
              "/**\n",
              " * Generator function which is called between each async step of the upload\n",
              " * process.\n",
              " * @param {string} inputId Element ID of the input file picker element.\n",
              " * @param {string} outputId Element ID of the output display.\n",
              " * @return {!Iterable<!Object>} Iterable of next steps.\n",
              " */\n",
              "function* uploadFilesStep(inputId, outputId) {\n",
              "  const inputElement = document.getElementById(inputId);\n",
              "  inputElement.disabled = false;\n",
              "\n",
              "  const outputElement = document.getElementById(outputId);\n",
              "  outputElement.innerHTML = '';\n",
              "\n",
              "  const pickedPromise = new Promise((resolve) => {\n",
              "    inputElement.addEventListener('change', (e) => {\n",
              "      resolve(e.target.files);\n",
              "    });\n",
              "  });\n",
              "\n",
              "  const cancel = document.createElement('button');\n",
              "  inputElement.parentElement.appendChild(cancel);\n",
              "  cancel.textContent = 'Cancel upload';\n",
              "  const cancelPromise = new Promise((resolve) => {\n",
              "    cancel.onclick = () => {\n",
              "      resolve(null);\n",
              "    };\n",
              "  });\n",
              "\n",
              "  // Wait for the user to pick the files.\n",
              "  const files = yield {\n",
              "    promise: Promise.race([pickedPromise, cancelPromise]),\n",
              "    response: {\n",
              "      action: 'starting',\n",
              "    }\n",
              "  };\n",
              "\n",
              "  cancel.remove();\n",
              "\n",
              "  // Disable the input element since further picks are not allowed.\n",
              "  inputElement.disabled = true;\n",
              "\n",
              "  if (!files) {\n",
              "    return {\n",
              "      response: {\n",
              "        action: 'complete',\n",
              "      }\n",
              "    };\n",
              "  }\n",
              "\n",
              "  for (const file of files) {\n",
              "    const li = document.createElement('li');\n",
              "    li.append(span(file.name, {fontWeight: 'bold'}));\n",
              "    li.append(span(\n",
              "        `(${file.type || 'n/a'}) - ${file.size} bytes, ` +\n",
              "        `last modified: ${\n",
              "            file.lastModifiedDate ? file.lastModifiedDate.toLocaleDateString() :\n",
              "                                    'n/a'} - `));\n",
              "    const percent = span('0% done');\n",
              "    li.appendChild(percent);\n",
              "\n",
              "    outputElement.appendChild(li);\n",
              "\n",
              "    const fileDataPromise = new Promise((resolve) => {\n",
              "      const reader = new FileReader();\n",
              "      reader.onload = (e) => {\n",
              "        resolve(e.target.result);\n",
              "      };\n",
              "      reader.readAsArrayBuffer(file);\n",
              "    });\n",
              "    // Wait for the data to be ready.\n",
              "    let fileData = yield {\n",
              "      promise: fileDataPromise,\n",
              "      response: {\n",
              "        action: 'continue',\n",
              "      }\n",
              "    };\n",
              "\n",
              "    // Use a chunked sending to avoid message size limits. See b/62115660.\n",
              "    let position = 0;\n",
              "    do {\n",
              "      const length = Math.min(fileData.byteLength - position, MAX_PAYLOAD_SIZE);\n",
              "      const chunk = new Uint8Array(fileData, position, length);\n",
              "      position += length;\n",
              "\n",
              "      const base64 = btoa(String.fromCharCode.apply(null, chunk));\n",
              "      yield {\n",
              "        response: {\n",
              "          action: 'append',\n",
              "          file: file.name,\n",
              "          data: base64,\n",
              "        },\n",
              "      };\n",
              "\n",
              "      let percentDone = fileData.byteLength === 0 ?\n",
              "          100 :\n",
              "          Math.round((position / fileData.byteLength) * 100);\n",
              "      percent.textContent = `${percentDone}% done`;\n",
              "\n",
              "    } while (position < fileData.byteLength);\n",
              "  }\n",
              "\n",
              "  // All done.\n",
              "  yield {\n",
              "    response: {\n",
              "      action: 'complete',\n",
              "    }\n",
              "  };\n",
              "}\n",
              "\n",
              "scope.google = scope.google || {};\n",
              "scope.google.colab = scope.google.colab || {};\n",
              "scope.google.colab._files = {\n",
              "  _uploadFiles,\n",
              "  _uploadFilesContinue,\n",
              "};\n",
              "})(self);\n",
              "</script> "
            ]
          },
          "metadata": {}
        },
        {
          "output_type": "stream",
          "name": "stdout",
          "text": [
            "Saving beer_5k.csv to beer_5k.csv\n"
          ]
        }
      ]
    },
    {
      "cell_type": "code",
      "source": [
        "# Dataframe processing (CSV format is expected, minimal text pre-processing at the moment (write you own if you needed it :) ), change the file name as needed)\n",
        "df = pd.read_csv('beer_5k.csv')"
      ],
      "metadata": {
        "id": "egPk0LY4x7-g"
      },
      "execution_count": 5,
      "outputs": []
    },
    {
      "cell_type": "code",
      "source": [
        "#Widget to pick the number of documents to process\n",
        "style = {'description_width': 'initial'}\n",
        "box = widgets.BoundedIntText(\n",
        "    min=1,\n",
        "    max=df.shape[0],\n",
        "    step=10,\n",
        "    description='# of docs to process:',\n",
        "    value=df.shape[0],\n",
        "    style = style\n",
        ")\n",
        "display(box)"
      ],
      "metadata": {
        "colab": {
          "base_uri": "https://localhost:8080/",
          "height": 49,
          "referenced_widgets": [
            "282701d2765d4f649d786f2ef044d1bb",
            "fe00d84bc87449b0aa1d13c8392562d7",
            "6656d521f9e04a58908f35d62e27c959"
          ]
        },
        "id": "62Gn0ocfB1rN",
        "outputId": "070cf2d3-ba4e-4428-afd0-7768f439a607"
      },
      "execution_count": 6,
      "outputs": [
        {
          "output_type": "display_data",
          "data": {
            "text/plain": [
              "BoundedIntText(value=4999, description='# of docs to process:', max=4999, min=1, step=10, style=DescriptionSty…"
            ],
            "application/vnd.jupyter.widget-view+json": {
              "version_major": 2,
              "version_minor": 0,
              "model_id": "282701d2765d4f649d786f2ef044d1bb"
            }
          },
          "metadata": {}
        }
      ]
    },
    {
      "cell_type": "code",
      "source": [
        "texts = [item.replace(\"\\t\", \" \")[:box.value] for item in df['text'] [:box.value]]\n",
        "#df.head(2)"
      ],
      "metadata": {
        "id": "o4ohKBtnB9oF"
      },
      "execution_count": 7,
      "outputs": []
    },
    {
      "cell_type": "code",
      "source": [
        "#above code wrapped in a function\n",
        "def text_input(file = 'beer_5k.csv'):\n",
        "  df = pd.read_csv(file)\n",
        "  texts = [item.replace(\"\\t\", \" \") for item in df['text']]\n",
        "  return texts"
      ],
      "metadata": {
        "id": "icPChnjm1i_b"
      },
      "execution_count": 8,
      "outputs": []
    },
    {
      "cell_type": "code",
      "source": [
        "texts_acct = text_input('accnt_issues.csv')"
      ],
      "metadata": {
        "id": "3VtqHnfY2KCI"
      },
      "execution_count": null,
      "outputs": []
    },
    {
      "cell_type": "code",
      "source": [
        "#Create a single blob of text\n",
        "corpus = ' '.join(texts)"
      ],
      "metadata": {
        "id": "lqd4MqVqoI3h"
      },
      "execution_count": 9,
      "outputs": []
    },
    {
      "cell_type": "code",
      "source": [
        "corpus_acct = ' '.join(texts_acct)"
      ],
      "metadata": {
        "id": "Um_0z-d32iWw"
      },
      "execution_count": 14,
      "outputs": []
    },
    {
      "cell_type": "markdown",
      "source": [
        "Keywords"
      ],
      "metadata": {
        "id": "s47pzHo3cxVF"
      }
    },
    {
      "cell_type": "code",
      "source": [
        "%%capture\n",
        "!pip install yake"
      ],
      "metadata": {
        "id": "X0jkZhcypKU4"
      },
      "execution_count": 10,
      "outputs": []
    },
    {
      "cell_type": "code",
      "source": [
        "import yake"
      ],
      "metadata": {
        "id": "Y0bDoBIin77D"
      },
      "execution_count": 11,
      "outputs": []
    },
    {
      "cell_type": "code",
      "source": [
        "# YAKE Config\n",
        "kw_extractor = yake.KeywordExtractor()\n",
        "language = 'en'\n",
        "max_ngram_size = 2\n",
        "deduplication_threshold = 0.9\n",
        "numOfKeywords = 50"
      ],
      "metadata": {
        "id": "bnfpdRJcpUKo"
      },
      "execution_count": 12,
      "outputs": []
    },
    {
      "cell_type": "code",
      "source": [
        "#Keyword for the corpus\n",
        "custom_kw_extractor = yake.KeywordExtractor(lan=language, n=max_ngram_size, dedupLim=deduplication_threshold, top=numOfKeywords, features=None)\n",
        "keywords = custom_kw_extractor.extract_keywords(corpus)\n",
        "keywords"
      ],
      "metadata": {
        "id": "dDHYClMGpH-E",
        "colab": {
          "base_uri": "https://localhost:8080/"
        },
        "outputId": "b796eada-2801-4db9-99ce-6ee03e3d92e5"
      },
      "execution_count": 13,
      "outputs": [
        {
          "output_type": "execute_result",
          "data": {
            "text/plain": [
              "[('head', 0.0002999954807086001),\n",
              " ('white head', 0.00030283078816108807),\n",
              " ('hops', 0.0003752855313968149),\n",
              " ('Nice', 0.0004467750112788856),\n",
              " ('pours', 0.000496275880448961),\n",
              " ('malt', 0.0005361782136829841),\n",
              " ('IPA', 0.0005397444143146),\n",
              " ('hop', 0.0005534164518294044),\n",
              " ('beer', 0.000565631055474805),\n",
              " ('Pale Ale', 0.0006210626259602961),\n",
              " ('good', 0.0006224029378651028),\n",
              " ('light', 0.000710041796367628),\n",
              " ('citrus', 0.0008304431235782483),\n",
              " ('hop aroma', 0.0008486200195130992),\n",
              " ('Poured', 0.0008927204180238064),\n",
              " ('Citrus hops', 0.0009808761472823997),\n",
              " ('aroma', 0.0010336525980771285),\n",
              " ('taste', 0.001062330343957436),\n",
              " ('pale', 0.0010837402703984594),\n",
              " ('orange', 0.0011013558615285387),\n",
              " ('beer pours', 0.001176383700046216),\n",
              " ('Caldera IPA', 0.0012096106924508138),\n",
              " ('caramel malt', 0.00127877499441309),\n",
              " ('flavor', 0.0013432987684357338),\n",
              " ('lacing', 0.0013791989676920021),\n",
              " ('color', 0.0014472894321920762),\n",
              " ('hop flavor', 0.001448196123654343),\n",
              " ('White', 0.001527734864325196),\n",
              " ('malts', 0.0015401982020501407),\n",
              " ('glass', 0.0015531154089607417),\n",
              " ('bit', 0.0017279645635991435),\n",
              " ('Pale malt', 0.0017502363843501583),\n",
              " ('caramel', 0.0017618792395239454),\n",
              " ('smell', 0.0017836641929173456),\n",
              " ('sweet', 0.0018288622223216371),\n",
              " ('medium', 0.0019230456419795704),\n",
              " ('pine', 0.0019392936611059449),\n",
              " ('sweet malt', 0.0019718300295826583),\n",
              " ('off-white head', 0.0020108910714519072),\n",
              " ('pint glass', 0.002013702177580452),\n",
              " ('dark', 0.0021052425827864816),\n",
              " ('carbonation', 0.002200907293708726),\n",
              " ('good hop', 0.00233181201551432),\n",
              " ('nice IPA', 0.0023391331613604087),\n",
              " ('floral hops', 0.002444393339682811),\n",
              " ('hop bitterness', 0.0024595810231069328),\n",
              " ('ALE', 0.0024683099623760084),\n",
              " ('pour', 0.002481379402244805),\n",
              " ('bitter', 0.0025226516367505927),\n",
              " ('finger head', 0.002589530662944152)]"
            ]
          },
          "metadata": {},
          "execution_count": 13
        }
      ]
    },
    {
      "cell_type": "code",
      "source": [
        "#Keyword for the individual documents\n",
        "custom_kw_extractor_docs = yake.KeywordExtractor(lan=language, n=max_ngram_size, dedupLim=deduplication_threshold, top=10, features=None)"
      ],
      "metadata": {
        "id": "CjK3E1ldKbaM"
      },
      "execution_count": 14,
      "outputs": []
    },
    {
      "cell_type": "code",
      "source": [
        "#Distilling each document to a set of keywords\n",
        "distilled_docs = []\n",
        "for item in texts:\n",
        "  keywords = custom_kw_extractor_docs.extract_keywords(item)\n",
        "  tmp = [item[0] for item in keywords]\n",
        "  distilled_docs.append(tmp)"
      ],
      "metadata": {
        "id": "IK3f5af_oyub"
      },
      "execution_count": 15,
      "outputs": []
    },
    {
      "cell_type": "code",
      "source": [
        "#test print\n",
        "distilled_docs[30:40]"
      ],
      "metadata": {
        "id": "E7-FFLmopPtH"
      },
      "execution_count": null,
      "outputs": []
    },
    {
      "cell_type": "markdown",
      "source": [
        "Data for a classifier POC"
      ],
      "metadata": {
        "id": "Hu6B9GuIc92J"
      }
    },
    {
      "cell_type": "code",
      "source": [
        "ipa_class = []\n",
        "for ind, item in enumerate(distilled_docs):\n",
        "  if 'IPA' in item:\n",
        "    ipa_class.append((ind,item))"
      ],
      "metadata": {
        "id": "XfiFUVkxLU5F"
      },
      "execution_count": null,
      "outputs": []
    },
    {
      "cell_type": "code",
      "source": [
        "#test print\n",
        "ipa_class[10]"
      ],
      "metadata": {
        "colab": {
          "base_uri": "https://localhost:8080/"
        },
        "id": "K2TGX2r1MXqx",
        "outputId": "f2a3431e-2c79-4d8e-d59e-9da0dba090ad"
      },
      "execution_count": null,
      "outputs": [
        {
          "output_type": "execute_result",
          "data": {
            "text/plain": [
              "(346,\n",
              " ['Reviewed',\n",
              "  'Decent IPA',\n",
              "  'hops',\n",
              "  'citrus',\n",
              "  'bitter',\n",
              "  'IPA',\n",
              "  'off-white head',\n",
              "  'Pours',\n",
              "  'head',\n",
              "  'Aroma'])"
            ]
          },
          "metadata": {},
          "execution_count": 12
        }
      ]
    },
    {
      "cell_type": "code",
      "source": [
        "other = []\n",
        "for ind, item in enumerate(distilled_docs):\n",
        "  if 'IPA' not in item:\n",
        "    other.append((ind,item))"
      ],
      "metadata": {
        "id": "PYWB3pxpNJrx"
      },
      "execution_count": null,
      "outputs": []
    },
    {
      "cell_type": "markdown",
      "source": [
        "Dicts to be used for classification finetuning & sentiment analysis using SetFit Model"
      ],
      "metadata": {
        "id": "vu8QxgQ8XVN7"
      }
    },
    {
      "cell_type": "code",
      "source": [
        "texts_IPA = []\n",
        "for item in ipa_class:\n",
        "  texts_IPA.append(texts[item[0]])"
      ],
      "metadata": {
        "id": "_pcCx7eoYf3n"
      },
      "execution_count": null,
      "outputs": []
    },
    {
      "cell_type": "code",
      "source": [
        "dict_IPA = {'idx': [item for item in range(len(texts_IPA))], 'sentence': texts_IPA, 'label': [0]*len(texts_IPA)}"
      ],
      "metadata": {
        "id": "iCXRpcm4NZn7"
      },
      "execution_count": null,
      "outputs": []
    },
    {
      "cell_type": "code",
      "source": [
        "texts_other = []\n",
        "for item in other[:170]:\n",
        "  texts_other.append(texts[item[0]])"
      ],
      "metadata": {
        "id": "DUE05pcPb_D8"
      },
      "execution_count": null,
      "outputs": []
    },
    {
      "cell_type": "code",
      "source": [
        "dict_other = {'idx': [item for item in range(len(texts_other))], 'sentence': texts_other, 'label': [1]*len(texts_other)}"
      ],
      "metadata": {
        "id": "-RxoVPx2xDS_"
      },
      "execution_count": null,
      "outputs": []
    },
    {
      "cell_type": "code",
      "source": [
        "dict_train = {'idx': [item for item in range(len(texts_other))]+[item for item in range(len(texts_IPA))], \n",
        "              'sentence': texts_other+texts_IPA, 'label': [1]*len(texts_other)+[0]*len(texts_IPA)}"
      ],
      "metadata": {
        "id": "GoeTq5ZhxX6U"
      },
      "execution_count": null,
      "outputs": []
    },
    {
      "cell_type": "code",
      "source": [
        "dataset_train = Dataset.from_dict(dict_train)\n",
        "dataset_train_few = dataset_train.shuffle(seed = 42).select(range(16))"
      ],
      "metadata": {
        "id": "bSdWjgyPyu7v"
      },
      "execution_count": null,
      "outputs": []
    },
    {
      "cell_type": "code",
      "source": [
        "for i in range(10):\n",
        "  print(dataset_train_few[i])"
      ],
      "metadata": {
        "id": "UWRc88tCHqob"
      },
      "execution_count": null,
      "outputs": []
    },
    {
      "cell_type": "code",
      "source": [
        "#dataset for the sentiment analysis POC\n",
        "dict_sentiment = {'idx':list(range(4)), \"text\":texts[:4]}\n",
        "dataset_sentiment = Dataset.from_dict(dict_sentiment)"
      ],
      "metadata": {
        "id": "e66d9gWDih8i"
      },
      "execution_count": null,
      "outputs": []
    },
    {
      "cell_type": "code",
      "source": [
        "dataset_sentiment = Dataset.from_dict(dict_sentiment)"
      ],
      "metadata": {
        "id": "j-8aODw2jOub"
      },
      "execution_count": null,
      "outputs": []
    },
    {
      "cell_type": "markdown",
      "source": [
        "Embeddings for Documents & document distilled to a list of concepts"
      ],
      "metadata": {
        "id": "8YBMTAcxcpRH"
      }
    },
    {
      "cell_type": "code",
      "source": [
        "%%capture\n",
        "!pip install -U sentence-transformers"
      ],
      "metadata": {
        "id": "1DeF6ttk-CgQ"
      },
      "execution_count": 16,
      "outputs": []
    },
    {
      "cell_type": "code",
      "source": [
        "%%capture\n",
        "from sentence_transformers import SentenceTransformer, util\n",
        "model = SentenceTransformer('all-MiniLM-L6-v2')\n",
        "model.max_seq_length = 300"
      ],
      "metadata": {
        "id": "XAv1IOWMESgP"
      },
      "execution_count": 17,
      "outputs": []
    },
    {
      "cell_type": "code",
      "source": [
        "#Embedding Demo code\n",
        "#Compute embedding \n",
        "embeddings1 = model.encode([texts[0]], convert_to_tensor=True)\n",
        "embeddings2 = model.encode([' '.join(distilled_docs[0])], convert_to_tensor=True)\n",
        "\n",
        "#Compute cosine-similarities\n",
        "cosine_score = util.cos_sim(embeddings1, embeddings2)"
      ],
      "metadata": {
        "id": "Bp0ide2CE3-i"
      },
      "execution_count": null,
      "outputs": []
    },
    {
      "cell_type": "code",
      "source": [
        "embeddings1 = model.encode([texts[5]], convert_to_tensor=True)\n",
        "cosine_score = util.cos_sim(embeddings1, embeddings2)"
      ],
      "metadata": {
        "id": "84Qo6FeaGApG"
      },
      "execution_count": null,
      "outputs": []
    },
    {
      "cell_type": "code",
      "source": [
        "cosine_score"
      ],
      "metadata": {
        "colab": {
          "base_uri": "https://localhost:8080/"
        },
        "id": "7t4Mmxk7GP6Q",
        "outputId": "c0665a34-857d-4c17-d745-fb0efed69996"
      },
      "execution_count": null,
      "outputs": [
        {
          "output_type": "execute_result",
          "data": {
            "text/plain": [
              "tensor([[0.2841]], device='cuda:0')"
            ]
          },
          "metadata": {},
          "execution_count": 39
        }
      ]
    },
    {
      "cell_type": "code",
      "source": [
        "cosine_score"
      ],
      "metadata": {
        "colab": {
          "base_uri": "https://localhost:8080/"
        },
        "id": "TxFQhIuGF6BX",
        "outputId": "4698e77c-0544-4dcc-e6a5-ed953b9c88ef"
      },
      "execution_count": null,
      "outputs": [
        {
          "output_type": "execute_result",
          "data": {
            "text/plain": [
              "tensor([[0.6680]], device='cuda:0')"
            ]
          },
          "metadata": {},
          "execution_count": 17
        }
      ]
    },
    {
      "cell_type": "code",
      "source": [
        "# Embeddings for Distilled Docs\n",
        "emb_distilled_input = [' '.join(item) for item in distilled_docs]\n",
        "emb_distilled = model.encode(emb_distilled_input)"
      ],
      "metadata": {
        "id": "aHSLPBwtdNWv"
      },
      "execution_count": 18,
      "outputs": []
    },
    {
      "cell_type": "code",
      "source": [
        "# Embeddings for Original Docs\n",
        "emb_texts = model.encode(texts)"
      ],
      "metadata": {
        "id": "_7xJO_8Wx1MC"
      },
      "execution_count": 19,
      "outputs": []
    },
    {
      "cell_type": "markdown",
      "source": [
        "Clusterning using ANNOY Package (Approximate K-nearest neighbours)"
      ],
      "metadata": {
        "id": "DiQ6YByu4UBz"
      }
    },
    {
      "cell_type": "code",
      "source": [
        "!pip install annoy"
      ],
      "metadata": {
        "id": "bejFfN374odO"
      },
      "execution_count": null,
      "outputs": []
    },
    {
      "cell_type": "code",
      "source": [
        "from annoy import AnnoyIndex"
      ],
      "metadata": {
        "id": "cPkY6FuN4eT9"
      },
      "execution_count": null,
      "outputs": []
    },
    {
      "cell_type": "code",
      "source": [
        "#Template Code\n",
        "# Create the search index, pass the size of embedding\n",
        "search_index = AnnoyIndex(768, 'angular')\n",
        "# Add all the vectors to the search index\n",
        "for i in range(len(embeds)):\n",
        "    search_index.add_item(i, embeds[i])\n",
        "\n",
        "search_index.build(10) # 10 trees\n",
        "#search_index.save('askhn.ann')"
      ],
      "metadata": {
        "id": "QkCIWqiO4wK0"
      },
      "execution_count": null,
      "outputs": []
    },
    {
      "cell_type": "code",
      "source": [
        "#More Template Code\n",
        "# Choose an example (we'll retrieve others similar to it)\n",
        "example_id = 50\n",
        "\n",
        "# Retrieve nearest neighbors\n",
        "similar_item_ids = search_index.get_nns_by_item(example_id,\n",
        "                                                10, # Number of results to retrieve\n",
        "                                                include_distances=True)\n",
        "# Format and print the text and distances\n",
        "results = pd.DataFrame(data={'post titles': texts[similar_item_ids[0]], \n",
        "                             'distance': similar_item_ids[1]}).drop(example_id)\n",
        "\n",
        "#print(f\"Query post:'{df.iloc[example_id]['title']}'\\nNearest neighbors:\")\n",
        "results"
      ],
      "metadata": {
        "id": "Bm3rVR4L462J"
      },
      "execution_count": null,
      "outputs": []
    },
    {
      "cell_type": "markdown",
      "source": [
        "SetFit Model (Idea: a classifier tuned up for a given dataset (8 examples per class))"
      ],
      "metadata": {
        "id": "9JJSWp_mb0UT"
      }
    },
    {
      "cell_type": "code",
      "source": [
        "%%capture\n",
        "!pip install setfit\n",
        "!pip install datasets"
      ],
      "metadata": {
        "id": "MI3u34lRPLEF"
      },
      "execution_count": null,
      "outputs": []
    },
    {
      "cell_type": "code",
      "source": [
        "from datasets import Dataset, load_dataset\n",
        "from sentence_transformers.losses import CosineSimilarityLoss\n",
        "from setfit import SetFitModel, SetFitTrainer"
      ],
      "metadata": {
        "id": "EfxPILB1cdgf"
      },
      "execution_count": null,
      "outputs": []
    },
    {
      "cell_type": "code",
      "source": [
        "# Load a SetFit model from Hub\n",
        "model = SetFitModel.from_pretrained(\"sentence-transformers/paraphrase-mpnet-base-v2\")\n",
        "\n",
        "# Create trainer\n",
        "trainer = SetFitTrainer(\n",
        "    model=model,\n",
        "    train_dataset=dataset_train_few,\n",
        "    eval_dataset=dataset_train,\n",
        "    loss_class=CosineSimilarityLoss,\n",
        "    metric=\"accuracy\",\n",
        "    batch_size=16,\n",
        "    num_iterations=20, # The number of text pairs to generate for contrastive learning\n",
        "    num_epochs=1, # The number of epochs to use for contrastive learning\n",
        "    column_mapping={\"sentence\": \"text\", \"label\": \"label\"} # Map dataset columns to text/label expected by trainer\n",
        ")"
      ],
      "metadata": {
        "id": "RqSeXUfEPeba"
      },
      "execution_count": null,
      "outputs": []
    },
    {
      "cell_type": "code",
      "source": [
        "trainer.train()\n",
        "#metrics = trainer.evaluate()"
      ],
      "metadata": {
        "colab": {
          "base_uri": "https://localhost:8080/",
          "height": 185,
          "referenced_widgets": [
            "5219c6d1a97a41a5b836225f4bce4ecc",
            "e324ae1f56ab48b58f202ba0248b46c2",
            "28f62e2acc1f46ebb6750fab386ae586",
            "0d09bc73cce842119c3a64bde63ad49d",
            "9e93c1c0cc03404c96ed530b11d51415",
            "f20db5a526dd44a69b321406f535ef0f",
            "00d82f3c8aa04a189368fc6ade7b3de8",
            "46ce5dc97431472ba0f2cd3681adde03",
            "fb444675e2bb46bcac60ead080c48f9d",
            "50b04ab4764742699f2bcde85fc9504c",
            "7a0a01e12b3b455dbb05534881e78d83",
            "0ec9b6f53cfa40d9878df59956840c43",
            "1389910761d348c991766bd059717868",
            "f54806014a1e4b80a64f627cbee7dc3b",
            "18eeab46acb94194a5ed42647a3b5475",
            "f7e0533bc5d0408dbc919d306300b9d7",
            "28b2c60aa35249a0ba5d6237857e089d",
            "83e062bfcab941b98b40dcca6073e5ea",
            "b6612e9d659a4016b34077eff7c76f8d",
            "603f3628ff0b4cc4901145912617281d",
            "3316fe6347fb47858a527b8e679e5368",
            "0d13d25566a940d6a97a75df88914ca4"
          ]
        },
        "id": "ue7ctwKaP66a",
        "outputId": "626042ee-4784-4533-90a1-7b9d3bc15a9b"
      },
      "execution_count": null,
      "outputs": [
        {
          "output_type": "stream",
          "name": "stderr",
          "text": [
            "Applying column mapping to training dataset\n",
            "***** Running training *****\n",
            "  Num examples = 640\n",
            "  Num epochs = 1\n",
            "  Total optimization steps = 40\n",
            "  Total train batch size = 16\n"
          ]
        },
        {
          "output_type": "display_data",
          "data": {
            "text/plain": [
              "Epoch:   0%|          | 0/1 [00:00<?, ?it/s]"
            ],
            "application/vnd.jupyter.widget-view+json": {
              "version_major": 2,
              "version_minor": 0,
              "model_id": "5219c6d1a97a41a5b836225f4bce4ecc"
            }
          },
          "metadata": {}
        },
        {
          "output_type": "display_data",
          "data": {
            "text/plain": [
              "Iteration:   0%|          | 0/40 [00:00<?, ?it/s]"
            ],
            "application/vnd.jupyter.widget-view+json": {
              "version_major": 2,
              "version_minor": 0,
              "model_id": "0ec9b6f53cfa40d9878df59956840c43"
            }
          },
          "metadata": {}
        }
      ]
    },
    {
      "cell_type": "code",
      "source": [
        "metrics = trainer.evaluate()"
      ],
      "metadata": {
        "colab": {
          "base_uri": "https://localhost:8080/",
          "height": 84,
          "referenced_widgets": [
            "7d456299de5b43cf9618d74d91dd3549",
            "2d971284f1a84cea803f4d536dc54530",
            "5d047da4734441a4adc0ff5ac8d3bfdc",
            "1479e3d3afcc453889291b2f51550d5d",
            "626743adfe2d473fbe8ee330f50e85c3",
            "f09e1c1a289c455da6a4837de5d5a6d4",
            "24f7ac6b4c83468eabaab2376104e92b",
            "1bc7a45b36d44f24bb4b92e6da417218",
            "5b7ab18dad764063899f1b22e9366c8e",
            "8b37a843feed4b9896d33cda9ec56588",
            "be15de349eb245cc88b78802daffeb7c"
          ]
        },
        "id": "wrSZO-DBWlGE",
        "outputId": "f033d2cf-618d-432d-d004-4041d7049612"
      },
      "execution_count": null,
      "outputs": [
        {
          "output_type": "stream",
          "name": "stderr",
          "text": [
            "Applying column mapping to evaluation dataset\n",
            "***** Running evaluation *****\n"
          ]
        },
        {
          "output_type": "display_data",
          "data": {
            "text/plain": [
              "Downloading builder script:   0%|          | 0.00/4.20k [00:00<?, ?B/s]"
            ],
            "application/vnd.jupyter.widget-view+json": {
              "version_major": 2,
              "version_minor": 0,
              "model_id": "7d456299de5b43cf9618d74d91dd3549"
            }
          },
          "metadata": {}
        }
      ]
    },
    {
      "cell_type": "code",
      "source": [
        "metrics"
      ],
      "metadata": {
        "colab": {
          "base_uri": "https://localhost:8080/"
        },
        "id": "u8zdxA79WxrR",
        "outputId": "8eb8c9bd-416c-4642-a7f4-abb6bc22d5e6"
      },
      "execution_count": null,
      "outputs": [
        {
          "output_type": "execute_result",
          "data": {
            "text/plain": [
              "{'accuracy': 0.9670658682634731}"
            ]
          },
          "metadata": {},
          "execution_count": 30
        }
      ]
    },
    {
      "cell_type": "code",
      "source": [
        "# Push model to the Hub\n",
        "#trainer.push_to_hub(\"my-awesome-setfit-model\")\n",
        "\n",
        "# Download from Hub and run inference\n",
        "#model = SetFitModel.from_pretrained(\"lewtun/my-awesome-setfit-model\")\n",
        "# Run inference\n",
        "preds = trainer.model.predict([\"Pours a clear deep orange with a thick off-white head. Aroma of piney, grassy hops, some citrus and tropical fruits. Flavor of caramel malt and light citrus upfront with a bitter hops finish. Decent IPA, rather on the bitter side.\"])"
      ],
      "metadata": {
        "id": "R0FMLGYv8gEE"
      },
      "execution_count": null,
      "outputs": []
    },
    {
      "cell_type": "markdown",
      "source": [
        "Basic Sentiment Analysis"
      ],
      "metadata": {
        "id": "jkMwPEXtbsUS"
      }
    },
    {
      "cell_type": "code",
      "source": [
        "%%capture\n",
        "!pip install transformers\n",
        "!pip install datasets"
      ],
      "metadata": {
        "id": "wZKjgIWwh_Qx"
      },
      "execution_count": null,
      "outputs": []
    },
    {
      "cell_type": "code",
      "source": [
        "from datasets import Dataset\n",
        "from transformers import pipeline\n",
        "from transformers.pipelines.pt_utils import KeyDataset\n",
        "from tqdm.auto import tqdm"
      ],
      "metadata": {
        "id": "MnKHImFax2u2"
      },
      "execution_count": null,
      "outputs": []
    },
    {
      "cell_type": "code",
      "source": [
        "%%capture\n",
        "#pipe = pipeline(\"sentiment-analysis\",  model=\"j-hartmann/sentiment-roberta-large-english-3-classes\", return_all_scores=True, device=0)\n",
        "pipe = pipeline(\"sentiment-analysis\",  model=\"siebert/sentiment-roberta-large-english\", return_all_scores=True, device=0)"
      ],
      "metadata": {
        "id": "FzkBDvj5oPfP"
      },
      "execution_count": null,
      "outputs": []
    },
    {
      "cell_type": "code",
      "source": [
        "# KeyDataset (only *pt*) will simply return the item in the dict returned by the dataset item\n",
        "# as we're not interested in the *target* part of the dataset. For sentence pair use KeyPairDataset\n",
        "for out in tqdm(pipe(KeyDataset(dataset_sentiment, \"text\"), batch_size=4, truncation=\"longest_first\")): #May or maynot need tto use Key Dataset\n",
        "    print(out)"
      ],
      "metadata": {
        "colab": {
          "base_uri": "https://localhost:8080/",
          "height": 118,
          "referenced_widgets": [
            "5e544744b18a48a0a3cbe0f97904970c",
            "412ae2108b904f17af9e8300909cbe38",
            "6af174736dc24243b8e76efb94bc56e8",
            "af32541386f04b9f9d71dfd8c49fe9d3",
            "a55d095ecef446ed94745cb305b11805",
            "45f46bdc0eaa4eada8b983951c0690c7",
            "10e48a34147741c884d9ecaeb81990a2",
            "949ee5e24ce5409499acd681aba2cc7a",
            "661e066a6c694bb9a1917d26288819ec",
            "337a9571b437432c8af53bbcccf6da5a",
            "eefe2ae7e8c94b3796458e184a76aff1"
          ]
        },
        "id": "4Cg_Ayamx4KQ",
        "outputId": "fc075f12-48a1-4084-a702-12508a1722f8"
      },
      "execution_count": null,
      "outputs": [
        {
          "output_type": "display_data",
          "data": {
            "text/plain": [
              "  0%|          | 0/1 [00:00<?, ?it/s]"
            ],
            "application/vnd.jupyter.widget-view+json": {
              "version_major": 2,
              "version_minor": 0,
              "model_id": "5e544744b18a48a0a3cbe0f97904970c"
            }
          },
          "metadata": {}
        },
        {
          "output_type": "stream",
          "name": "stdout",
          "text": [
            "[{'label': 'NEGATIVE', 'score': 0.9994102716445923}, {'label': 'POSITIVE', 'score': 0.0005896911025047302}]\n",
            "[{'label': 'NEGATIVE', 'score': 0.005144994240254164}, {'label': 'POSITIVE', 'score': 0.9948549270629883}]\n",
            "[{'label': 'NEGATIVE', 'score': 0.0012539081508293748}, {'label': 'POSITIVE', 'score': 0.9987460374832153}]\n",
            "[{'label': 'NEGATIVE', 'score': 0.0012314756168052554}, {'label': 'POSITIVE', 'score': 0.9987685084342957}]\n"
          ]
        }
      ]
    },
    {
      "cell_type": "markdown",
      "source": [
        "Vizualisation Using Altair & UMAP for dimensionality reduction"
      ],
      "metadata": {
        "id": "IxE7KnyMa5yW"
      }
    },
    {
      "cell_type": "code",
      "source": [
        "%%capture\n",
        "!pip install altair\n",
        "!pip install umap-learn"
      ],
      "metadata": {
        "id": "acLI1auXekHD"
      },
      "execution_count": 20,
      "outputs": []
    },
    {
      "cell_type": "code",
      "source": [
        "import umap.umap_ as umap\n",
        "import altair as alt"
      ],
      "metadata": {
        "id": "KTdRR1afbC1E"
      },
      "execution_count": 21,
      "outputs": []
    },
    {
      "cell_type": "code",
      "source": [
        "reducer = umap.UMAP(n_neighbors=20,n_components=2) \n",
        "umap_embeds = reducer.fit_transform(emb_texts)"
      ],
      "metadata": {
        "id": "pXgyUkuUbpQn"
      },
      "execution_count": 22,
      "outputs": []
    },
    {
      "cell_type": "code",
      "source": [
        "distilled_texts = [' '.join(item) for item in distilled_docs]"
      ],
      "metadata": {
        "id": "pRyKS7P-qeD6"
      },
      "execution_count": 23,
      "outputs": []
    },
    {
      "cell_type": "code",
      "source": [
        "#Widget to pick the documents that you want to display in a different color\n",
        "selector = widgets.Textarea(\n",
        "                            value='Select a keyword to interest',\n",
        "                            placeholder='Type a key word you want to select documents by',\n",
        "                            description='String:',\n",
        "                            disabled=False\n",
        "                            )\n",
        "display(selector)"
      ],
      "metadata": {
        "colab": {
          "base_uri": "https://localhost:8080/",
          "height": 62,
          "referenced_widgets": [
            "e6da2dd9d42d4e978de2bbd11b05a932",
            "417a128d7ce842ee923b701d0fc3d8cc",
            "1648fc4d60a14f6d8bb0b550a3288824"
          ]
        },
        "id": "jLozKCeS1Q8r",
        "outputId": "77fa9b01-5cff-4656-a5bf-52961da5ff96"
      },
      "execution_count": 28,
      "outputs": [
        {
          "output_type": "display_data",
          "data": {
            "text/plain": [
              "Textarea(value='Select a keyword to interest', description='String:', placeholder='Type a key word you want to…"
            ],
            "application/vnd.jupyter.widget-view+json": {
              "version_major": 2,
              "version_minor": 0,
              "model_id": "e6da2dd9d42d4e978de2bbd11b05a932"
            }
          },
          "metadata": {}
        }
      ]
    },
    {
      "cell_type": "code",
      "source": [
        "selector.value"
      ],
      "metadata": {
        "colab": {
          "base_uri": "https://localhost:8080/",
          "height": 35
        },
        "id": "P-UdJctU2eL0",
        "outputId": "cec61997-deff-4618-833c-c40d2e892507"
      },
      "execution_count": 29,
      "outputs": [
        {
          "output_type": "execute_result",
          "data": {
            "text/plain": [
              "'Caldera'"
            ],
            "application/vnd.google.colaboratory.intrinsic+json": {
              "type": "string"
            }
          },
          "metadata": {},
          "execution_count": 29
        }
      ]
    },
    {
      "cell_type": "code",
      "source": [
        "#creating groupings to be colored by a different color\n",
        "text_search=[True if item.find(selector.value) != -1 else False for item in distilled_texts]"
      ],
      "metadata": {
        "id": "aEpn_9SX00uG"
      },
      "execution_count": 30,
      "outputs": []
    },
    {
      "cell_type": "code",
      "source": [
        "# Prepare the data to plot and interactive visualization\n",
        "# using Altair\n",
        "df_explore = pd.DataFrame(data={'text': distilled_texts, 'groups':text_search})\n",
        "df_explore['x'] = umap_embeds[:,0]\n",
        "df_explore['y'] = umap_embeds[:,1]\n",
        "\n",
        "# Plot\n",
        "chart = alt.Chart(df_explore).mark_circle(size=60).encode(\n",
        "    x=alt.X('x',scale=alt.Scale(zero=False)),\n",
        "    y=alt.Y('y',scale=alt.Scale(zero=False)),\n",
        "    tooltip=['text'],\n",
        "    color=alt.condition(alt.datum.groups == True, alt.value('red'),alt.value('blue'))\n",
        ").properties(\n",
        "    width=700,\n",
        "    height=400\n",
        ")\n",
        "chart.interactive()"
      ],
      "metadata": {
        "colab": {
          "base_uri": "https://localhost:8080/",
          "height": 468
        },
        "id": "ymAXJi1ja4Qf",
        "outputId": "a2e3a8f7-01da-40b3-b3bc-57113c70f3d0"
      },
      "execution_count": 31,
      "outputs": [
        {
          "output_type": "execute_result",
          "data": {
            "text/html": [
              "\n",
              "<div id=\"altair-viz-3dd16edfb5a242818795c68334558284\"></div>\n",
              "<script type=\"text/javascript\">\n",
              "  var VEGA_DEBUG = (typeof VEGA_DEBUG == \"undefined\") ? {} : VEGA_DEBUG;\n",
              "  (function(spec, embedOpt){\n",
              "    let outputDiv = document.currentScript.previousElementSibling;\n",
              "    if (outputDiv.id !== \"altair-viz-3dd16edfb5a242818795c68334558284\") {\n",
              "      outputDiv = document.getElementById(\"altair-viz-3dd16edfb5a242818795c68334558284\");\n",
              "    }\n",
              "    const paths = {\n",
              "      \"vega\": \"https://cdn.jsdelivr.net/npm//vega@5?noext\",\n",
              "      \"vega-lib\": \"https://cdn.jsdelivr.net/npm//vega-lib?noext\",\n",
              "      \"vega-lite\": \"https://cdn.jsdelivr.net/npm//vega-lite@4.17.0?noext\",\n",
              "      \"vega-embed\": \"https://cdn.jsdelivr.net/npm//vega-embed@6?noext\",\n",
              "    };\n",
              "\n",
              "    function maybeLoadScript(lib, version) {\n",
              "      var key = `${lib.replace(\"-\", \"\")}_version`;\n",
              "      return (VEGA_DEBUG[key] == version) ?\n",
              "        Promise.resolve(paths[lib]) :\n",
              "        new Promise(function(resolve, reject) {\n",
              "          var s = document.createElement('script');\n",
              "          document.getElementsByTagName(\"head\")[0].appendChild(s);\n",
              "          s.async = true;\n",
              "          s.onload = () => {\n",
              "            VEGA_DEBUG[key] = version;\n",
              "            return resolve(paths[lib]);\n",
              "          };\n",
              "          s.onerror = () => reject(`Error loading script: ${paths[lib]}`);\n",
              "          s.src = paths[lib];\n",
              "        });\n",
              "    }\n",
              "\n",
              "    function showError(err) {\n",
              "      outputDiv.innerHTML = `<div class=\"error\" style=\"color:red;\">${err}</div>`;\n",
              "      throw err;\n",
              "    }\n",
              "\n",
              "    function displayChart(vegaEmbed) {\n",
              "      vegaEmbed(outputDiv, spec, embedOpt)\n",
              "        .catch(err => showError(`Javascript Error: ${err.message}<br>This usually means there's a typo in your chart specification. See the javascript console for the full traceback.`));\n",
              "    }\n",
              "\n",
              "    if(typeof define === \"function\" && define.amd) {\n",
              "      requirejs.config({paths});\n",
              "      require([\"vega-embed\"], displayChart, err => showError(`Error loading script: ${err.message}`));\n",
              "    } else {\n",
              "      maybeLoadScript(\"vega\", \"5\")\n",
              "        .then(() => maybeLoadScript(\"vega-lite\", \"4.17.0\"))\n",
              "        .then(() => maybeLoadScript(\"vega-embed\", \"6\"))\n",
              "        .catch(showError)\n",
              "        .then(() => displayChart(vegaEmbed));\n",
              "    }\n",
              "  })({\"config\": {\"view\": {\"continuousWidth\": 400, \"continuousHeight\": 300}}, \"data\": {\"name\": \"data-c7833447e577b4c61de3d4b39b629329\"}, \"mark\": {\"type\": \"circle\", \"size\": 60}, \"encoding\": {\"color\": {\"condition\": {\"value\": \"red\", \"test\": \"(datum.groups === true)\"}, \"value\": \"blue\"}, \"tooltip\": [{\"field\": \"text\", \"type\": \"nominal\"}], \"x\": {\"field\": \"x\", \"scale\": {\"zero\": false}, \"type\": \"quantitative\"}, \"y\": {\"field\": \"y\", \"scale\": {\"zero\": false}, \"type\": \"quantitative\"}}, \"height\": 400, \"selection\": {\"selector002\": {\"type\": \"interval\", \"bind\": \"scales\", \"encodings\": [\"x\", \"y\"]}}, \"width\": 700, \"$schema\": \"https://vega.github.io/schema/vega-lite/v4.17.0.json\", \"datasets\": {\"data-c7833447e577b4c61de3d4b39b629329\": [{\"text\": \"lot foam banana lactic tart good start start color carbonation visible\", \"groups\": false, \"x\": 14.865139961242676, \"y\": 8.182668685913086}, {\"text\": \"beige foam Dark red red color light light beige malt Dark color foam average\", \"groups\": false, \"x\": 14.26156997680664, \"y\": 12.038188934326172}, {\"text\": \"totally black bit Light roast black drinkable bad totally Beige foam Beige\", \"groups\": false, \"x\": 13.428314208984375, \"y\": 11.797000885009766}, {\"text\": \"Golden yellow yellow color Golden color Good hop sweet yellow compact foam Fresh\", \"groups\": false, \"x\": 14.292510032653809, \"y\": 12.089067459106445}, {\"text\": \"Caldera Cauldron Cauldron Caldera years back DIPA Horse Brass website IPA style IPA goodness\", \"groups\": true, \"x\": 15.752412796020508, \"y\": 7.89021110534668}, {\"text\": \"Chimay goblet Chimay Poured goblet bottle cloudy yellow orange color white head head slightly cloudy\", \"groups\": false, \"x\": 13.747308731079102, \"y\": 10.515926361083984}, {\"text\": \"Lifesource Salem Nice ginger simple Taste bottle sized frothy creamy white white head\", \"groups\": false, \"x\": 17.78554916381836, \"y\": 9.26241397857666}, {\"text\": \"Sounds redundant beverage brewed ginger added Sounds Malt beverage Malt Ginger light Bottle added\", \"groups\": false, \"x\": 13.684585571289062, \"y\": 10.255731582641602}, {\"text\": \"bit ginger picked cheap compared smallish head bit fizzy pale golden golden color largely uneventful normal lager\", \"groups\": false, \"x\": 13.72607707977295, \"y\": 8.723252296447754}, {\"text\": \"Drie Fonteinen Fonteinen tumbler Drie Fonteinen Poured bomber tumbler Pale malt Hazy titanium yellow body\", \"groups\": false, \"x\": 14.758779525756836, \"y\": 12.50550651550293}, {\"text\": \"ginger ALE ginger beer beer ALE Foods ginger site reason bought shopping\", \"groups\": false, \"x\": 13.656095504760742, \"y\": 8.960199356079102}, {\"text\": \"Indian dinner Bright golden golden glowing lively white white head feathery fluff glowing beer beer feel Nice clear Bright\", \"groups\": false, \"x\": 13.800310134887695, \"y\": 8.85523509979248}, {\"text\": \"white head mild white good retention Pours Great nose clear yellow bomber head retention good\", \"groups\": false, \"x\": 13.456212997436523, \"y\": 8.695158004760742}, {\"text\": \"novelty product Belgium Tulip bottle product novelty Caldera review Clear golden Tulip Clear\", \"groups\": true, \"x\": 15.11493968963623, \"y\": 8.06387710571289}, {\"text\": \"brown ale Brown color ale Lacking porter lacking flavor flavors Caldera complexity\", \"groups\": true, \"x\": 14.961258888244629, \"y\": 8.246652603149414}, {\"text\": \"Caldera presents doesnt bottle Creek Bar Ashland Ashland Creek Caldera brewpub doesnt located home\", \"groups\": true, \"x\": 15.91474723815918, \"y\": 7.881508827209473}, {\"text\": \"Oregon Brewers Brewers Festival Oregon Festival Brewers dry Orange color lager tasted Orange\", \"groups\": false, \"x\": 13.640094757080078, \"y\": 9.721833229064941}, {\"text\": \"inch fizzy murky light light brown fizzy tan tan head smoked meat campfire smoke beer smoked smoke\", \"groups\": false, \"x\": 12.289920806884766, \"y\": 9.922521591186523}, {\"text\": \"fine surface sudsy head dissipating fine Faint sudsy surface Faint sudsy head dissipating fine\", \"groups\": false, \"x\": 14.249109268188477, \"y\": 12.602781295776367}, {\"text\": \"West area arrival bit lighter Smoky brown ale sweet Pours expecting Good head\", \"groups\": false, \"x\": 11.98806095123291, \"y\": 10.528923988342285}, {\"text\": \"Transferring Sampled notes half finger white head ruby pour smoky finger head Opaque\", \"groups\": false, \"x\": 11.486488342285156, \"y\": 9.762921333312988}, {\"text\": \"meat smoked meat smoked nose burnt amber rauchbier Good head Pours amber Holy smoked\", \"groups\": false, \"x\": 11.442026138305664, \"y\": 9.825700759887695}, {\"text\": \"ruby color Pours clear rich ruby color Smoked off-white head Smoked meat caramel\", \"groups\": false, \"x\": 11.95009708404541, \"y\": 10.280115127563477}, {\"text\": \"mahogany color tan head rich Pours color head bacon rich caramel sided mahogany\", \"groups\": false, \"x\": 11.880085945129395, \"y\": 10.257521629333496}, {\"text\": \"Pours light reddish highlights light caramel caramel brown Pours highlights thin ring light brown reddish\", \"groups\": false, \"x\": 12.128705978393555, \"y\": 10.599452018737793}, {\"text\": \"deep amber red color slightly cloudy cloudy deep thin soap soap ring Rauch goodness pork Rauch Poured amber\", \"groups\": false, \"x\": 11.467206954956055, \"y\": 9.847597122192383}, {\"text\": \"buddy Ryan knocking Ryan stone nonic carbonation Big taste smoke Nice Poured\", \"groups\": false, \"x\": 12.036457061767578, \"y\": 9.826675415039062}, {\"text\": \"Caldera Tap Tap House tap Caldera charred wood night brown color white head wood House\", \"groups\": true, \"x\": 11.967212677001953, \"y\": 9.987601280212402}, {\"text\": \"Oak Park Chicago Binny Binny Oak Park Solid style Chicago Binny Oak peat\", \"groups\": false, \"x\": 17.94556999206543, \"y\": 9.434419631958008}, {\"text\": \"liter stein rich amber time fading.Sweet deep rich finger head sweetish,I found appetizing.Cherry wood wood sweetness light peppery peppery spice\", \"groups\": false, \"x\": 11.850554466247559, \"y\": 10.001978874206543}, {\"text\": \"Semi aggressive nice clarity aggressive pour pour produces light brown brown head rests atop deep copper copper colored Semi\", \"groups\": false, \"x\": 11.924225807189941, \"y\": 9.866652488708496}, {\"text\": \"beer smells Burnt orange lacing Smell burnt oak inch head oak chips Burnt smoked salmon beer salmon Taste\", \"groups\": false, \"x\": 12.408926963806152, \"y\": 9.73876953125}, {\"text\": \"bubbly head Pours hazy reddish reddish brown quick dissipating dissipating bubbly Darthkostrizer BHOBS Holy shit Bottleshare\", \"groups\": false, \"x\": 12.442275047302246, \"y\": 9.710203170776367}, {\"text\": \"expecting darker good degree Amber yeloowcolored darker kind expecting good degree clarity\", \"groups\": false, \"x\": 11.802773475646973, \"y\": 9.814911842346191}, {\"text\": \"tan head brilliant black ruby tones Pours tan head malty brew Weak retention brilliant black\", \"groups\": false, \"x\": 12.239927291870117, \"y\": 10.523883819580078}, {\"text\": \"bbq Taste slight smoke malt smoke deep red deep deep lot smell peated malt bit smoke lot\", \"groups\": false, \"x\": 11.470248222351074, \"y\": 9.810211181640625}, {\"text\": \"intense smoke smoke flavor Warning flavor intense smoke beer ounce bottle cuz overdose\", \"groups\": false, \"x\": 11.566902160644531, \"y\": 9.770133018493652}, {\"text\": \"crystal clear light lace medium tan tan head slowly fades thin cap leaves light A-Bright crystal clear\", \"groups\": false, \"x\": 11.828954696655273, \"y\": 10.382685661315918}, {\"text\": \"interesting nice beer nice beer looked interesting interesting beer shelf brewery looked Figured\", \"groups\": false, \"x\": 14.205855369567871, \"y\": 9.004676818847656}, {\"text\": \"Amber brown nice ring Amber ring Nicely carbonated good brown color head nice\", \"groups\": false, \"x\": 12.584465026855469, \"y\": 10.270124435424805}, {\"text\": \"shaker pint pint glass Poured glass Clear bomber shaker pint dark amber foam head\", \"groups\": false, \"x\": 16.621213912963867, \"y\": 9.612022399902344}, {\"text\": \"Complex enjoyable enjoyable smoked Complex smoked woody,spicey enjoyable Tasty rich rich malt,caramel Tasty malt,caramel\", \"groups\": false, \"x\": 11.916508674621582, \"y\": 10.419638633728027}, {\"text\": \"amber color dispate quickly dark amber perfect size size head beer pours color quickly smoked strongly\", \"groups\": false, \"x\": 12.328622817993164, \"y\": 9.933175086975098}, {\"text\": \"Bier Stein Rauchbier flavor smoky flavor reviewed smoky Eugene Bier Stein smoked bacon\", \"groups\": false, \"x\": 11.476038932800293, \"y\": 9.756265640258789}, {\"text\": \"amber hues deep amber caramel hue burnt caramel rich burnt Pours hue hues burnt deep\", \"groups\": false, \"x\": 11.545422554016113, \"y\": 10.031756401062012}, {\"text\": \"Beer Stein chestnut brown small off-white off-white head Stein Rauch Beer Bock lace cherry\", \"groups\": false, \"x\": 11.5028715133667, \"y\": 9.816426277160645}, {\"text\": \"ounce bomber beer ounce bomber small head deep bright bright brown pretty pretty small smoked kielba\", \"groups\": false, \"x\": 13.492477416992188, \"y\": 8.880860328674316}, {\"text\": \"usual assortment Porters IPA Rauchbier smoked dominance smoked mood usual assortment smoked beer\", \"groups\": false, \"x\": 11.941606521606445, \"y\": 9.842571258544922}, {\"text\": \"bottle Pours clear half inch crisp malt clear amber inch head plenty smoke smoked malts\", \"groups\": false, \"x\": 12.3349609375, \"y\": 10.287199974060059}, {\"text\": \"tulip glass Poured smoke glass rust-red color bottle tulip Smoky malt smoke smoke\", \"groups\": false, \"x\": 12.032073020935059, \"y\": 10.000449180603027}, {\"text\": \"Deep cherry cherry body faint beige beige head Deep wisp ring cherry body faint beige\", \"groups\": false, \"x\": 14.093218803405762, \"y\": 12.628328323364258}, {\"text\": \"Ayinger Celebrator Celebrator Doppelbock Doppelbock glass Ayinger Celebrator Doppelbock Poured bomber glass Brilliantly clear\", \"groups\": false, \"x\": 14.677016258239746, \"y\": 12.562829971313477}, {\"text\": \"Hampden picked Poured chilled shared bottle ruby highlights mild haziness translucent clarity woody smokiness aroma\", \"groups\": false, \"x\": 13.823675155639648, \"y\": 11.143548965454102}, {\"text\": \"brown bomber freshness date brown date dry bomber freshness Decent sized sticky lace bright amber\", \"groups\": false, \"x\": 13.307703018188477, \"y\": 8.832966804504395}, {\"text\": \"red hue ruby red soft glow hue ruby red sandy colour laced poorly deep rich\", \"groups\": false, \"x\": 11.553988456726074, \"y\": 9.801013946533203}, {\"text\": \"Pours dark fades fast dark amber short white white fizzy fizzy head smoked pork sweet malt Pours fast\", \"groups\": false, \"x\": 12.030058860778809, \"y\": 10.066814422607422}, {\"text\": \"attractive shade beer pours ruby brown Traverse City attractive head attractive nice lace beer pours clear\", \"groups\": false, \"x\": 12.302331924438477, \"y\": 9.970603942871094}, {\"text\": \"Pours coppery solid retention medium head Pours Beautiful sweet bomber head solid retention lace\", \"groups\": false, \"x\": 12.180915832519531, \"y\": 10.786933898925781}, {\"text\": \"Bailey Deep auburn surprise finest haziness ivory head nice tap grabbed pour Deep\", \"groups\": false, \"x\": 12.767108917236328, \"y\": 11.362886428833008}, {\"text\": \"Pale Ale Ale Picked Light golden white head Gourmet golden orange small fluffy fluffy white Light Pale\", \"groups\": false, \"x\": 15.24866771697998, \"y\": 8.361656188964844}, {\"text\": \"glass pint glass pint poured pale ales Cool green SoCal green tab beers pale\", \"groups\": false, \"x\": 17.153329849243164, \"y\": 9.550673484802246}, {\"text\": \"head layer cloudy orange crisp white finger head Pours Slightly citrusy layer cloudy orange crisp\", \"groups\": false, \"x\": 15.361162185668945, \"y\": 11.029369354248047}, {\"text\": \"Beer Powerball Powerball Beer Received nice straw-colored beer drinking beer nice half records half centimeter\", \"groups\": false, \"x\": 16.100826263427734, \"y\": 9.04653549194336}, {\"text\": \"Beersofeurope.com light good bought slight haze Poured golden yellow yellow colour grassy light covering\", \"groups\": false, \"x\": 15.626811027526855, \"y\": 12.88158130645752}, {\"text\": \"BIF recently Friday BIF Served cold received recently thing grabbed fridge home\", \"groups\": false, \"x\": 17.44346046447754, \"y\": 9.56821346282959}, {\"text\": \"peach head hoppy Orangeish head peach alot Smell Taste Good flavor\", \"groups\": false, \"x\": 15.220963478088379, \"y\": 11.225882530212402}, {\"text\": \"pint glass clear pint Wine Warehouse Poured glass freshness date clear pint Charlottesville Warehouse\", \"groups\": false, \"x\": 15.561372756958008, \"y\": 11.429360389709473}, {\"text\": \"flavor bore bad beer aroma beer flavor bore strength bad nice lacing hop aroma\", \"groups\": false, \"x\": 14.302107810974121, \"y\": 9.658295631408691}, {\"text\": \"Northern California quality brews California Northern Castle lake enjoying variety quality brews finding\", \"groups\": false, \"x\": 16.23562240600586, \"y\": 8.872515678405762}, {\"text\": \"poured tulip See-thru deep off-white head deep gold gold body finger worth creamy off-white bit Pretty good\", \"groups\": false, \"x\": 17.996383666992188, \"y\": 9.985273361206055}, {\"text\": \"ecru head deep shade fluffy ecru Pours head hops deep shade gold fluffy\", \"groups\": false, \"x\": 14.226544380187988, \"y\": 10.177811622619629}, {\"text\": \"orange hue clear golden golden color slight orange slight slight hop hop presence presence giving nice presence\", \"groups\": false, \"x\": 13.782270431518555, \"y\": 10.544681549072266}, {\"text\": \"gold highlights orange color Poured ale clear highlights pale ale orange color gold\", \"groups\": false, \"x\": 14.868706703186035, \"y\": 8.663064956665039}, {\"text\": \"Liquid Solutions Solutions Liquid pale ale appropriately pale light golden pale golden hue light light color\", \"groups\": false, \"x\": 17.693321228027344, \"y\": 10.191850662231445}, {\"text\": \"pint glass good carbonation hop blast good body Poured glass pretty bitter beer store good pint\", \"groups\": false, \"x\": 15.8070068359375, \"y\": 7.943284511566162}, {\"text\": \"finger head pale straw straw gold frothy light Pours finger head Decent retention pale straw\", \"groups\": false, \"x\": 14.000164031982422, \"y\": 11.543213844299316}, {\"text\": \"crisp clear clear pale pale gold gold color small head Pours quickly citrus smell crisp clear\", \"groups\": false, \"x\": 14.05190658569336, \"y\": 10.86974811553955}, {\"text\": \"State Line Clear light white head Clear State Line Citrus orange light light orange\", \"groups\": false, \"x\": 15.733773231506348, \"y\": 12.333070755004883}, {\"text\": \"white head clear golden golden hue bright white Poured head Good lacing clear golden hue\", \"groups\": false, \"x\": 15.832571029663086, \"y\": 9.317803382873535}, {\"text\": \"amber hues clear gold Pours hues spotty lacing clear gold amber finger width honey\", \"groups\": false, \"x\": 15.08535385131836, \"y\": 12.789480209350586}, {\"text\": \"straw highlights golden hue crystal-clear light light golden light light foamy pours highlights crystal-clear golden\", \"groups\": false, \"x\": 15.51443862915039, \"y\": 12.718116760253906}, {\"text\": \"pint glass Pours clear Poured glass golden color quickly leaves pint Aroma one-finger off-white off-white head\", \"groups\": false, \"x\": 16.699079513549805, \"y\": 11.818414688110352}, {\"text\": \"Caldera IPA subsequent trade IPA Caldera Lost Abbey thirstyhophead threw trade Abbey chalice introduced\", \"groups\": true, \"x\": 15.68991470336914, \"y\": 7.855049133300781}, {\"text\": \"moderate bitterness clear golden white head average retention primarily tropical pretty nice light-medium carbonation simple pale clean citrus citrus bite\", \"groups\": false, \"x\": 14.923469543457031, \"y\": 11.478371620178223}, {\"text\": \"Tidewater Virginia Virginia area Grape Tidewater Virginia Gourmet area average fairly hops\", \"groups\": false, \"x\": 14.421788215637207, \"y\": 10.139269828796387}, {\"text\": \"finger deep white head pale straw deep white Cascade hoppiness flowery Cascade Pours bubbly finger head\", \"groups\": false, \"x\": 14.470617294311523, \"y\": 11.14006519317627}, {\"text\": \"pint glass glass colored head pint clear gold foamy cream cream colored stays strong back smooth retention\", \"groups\": false, \"x\": 17.55112075805664, \"y\": 11.386758804321289}, {\"text\": \"Beer Run Bowl Sunday Super Bowl Charlottesville Run Sunday Beer Super Bowl traditional American\", \"groups\": false, \"x\": 16.78873062133789, \"y\": 9.692200660705566}, {\"text\": \"hopped background pale golden golden hue substantial fluffy fluffy head appetizing sweet sweet spicy spicy malts floral hopped Pours\", \"groups\": false, \"x\": 13.915736198425293, \"y\": 11.167551040649414}, {\"text\": \"light nonic slight haze pale golden golden hue hops light hop flavor light spiciness provide light\", \"groups\": false, \"x\": 17.631820678710938, \"y\": 10.428730010986328}, {\"text\": \"yellowish amber Rolling Rock pale yellowish amber pale yellowish Tropical fruit Rock kinda Rolling\", \"groups\": false, \"x\": 15.21378231048584, \"y\": 11.845126152038574}, {\"text\": \"light white head slightly hazy hazy golden golden color smaller sized citrus wet hay light honey light grapefruit\", \"groups\": false, \"x\": 17.8815860748291, \"y\": 10.476512908935547}, {\"text\": \"Reino poured pint glass Reino glass light good lacing courtesy poured pint decent creamy\", \"groups\": false, \"x\": 17.742460250854492, \"y\": 9.773103713989258}, {\"text\": \"Football LIF Survival Football LIF Survival Football flexabull sending McChouffe tulip golden yellow citrus\", \"groups\": false, \"x\": 13.287637710571289, \"y\": 9.962596893310547}, {\"text\": \"imperial pint Pretty simple Poured imperial pint Pretty bright golden Pours golden color lazy trails\", \"groups\": false, \"x\": 17.312728881835938, \"y\": 10.403525352478027}, {\"text\": \"Ashland beer wanted unique Oregon noticed creative spirit alright boiled vegetables Blech\", \"groups\": false, \"x\": 14.423141479492188, \"y\": 9.092498779296875}, {\"text\": \"Caldera Pale Pale Ale grocery store Caldera Pale Ale store bought six-pack grocery\", \"groups\": true, \"x\": 15.430070877075195, \"y\": 7.953210830688477}, {\"text\": \"Yum craft brews canned craft package beer cools faster brews Decent head Golden color chill hazed events\", \"groups\": false, \"x\": 15.47774887084961, \"y\": 9.085423469543457}, {\"text\": \"golden color Nice golden color golden Nice pale ale slimy hops nice maltyness Feels\", \"groups\": false, \"x\": 14.901196479797363, \"y\": 10.891862869262695}, {\"text\": \"Golden amber finger head slightest haze nice sticky Golden Appearance head Juicy citrus cascade aroma Pale Ale\", \"groups\": false, \"x\": 15.135180473327637, \"y\": 11.942514419555664}, {\"text\": \"Caldera Pale foam head clear orange orange hue finger foam Pale Ale Ale poured Caldera Pale Ale\", \"groups\": true, \"x\": 15.096653938293457, \"y\": 8.169388771057129}, {\"text\": \"Town Pizza pint glass Town Pizza Portland pale ale Solid amber glass Drank pale\", \"groups\": false, \"x\": 15.049450874328613, \"y\": 8.660578727722168}, {\"text\": \"UGLY BIF BIF UGLY flexabull Gotta love canned beers hops pale love craft craft canned\", \"groups\": false, \"x\": 15.201384544372559, \"y\": 9.651264190673828}, {\"text\": \"Slightly dinged-up Bottles Millwood Nigel Tufnel slightly bronzy big fingers Slightly dinged-up fingers white foam\", \"groups\": false, \"x\": 16.18344497680664, \"y\": 8.260954856872559}, {\"text\": \"Oregon Oregon brewed Vacationing aroma nice hop caramel malt bubbles good\", \"groups\": false, \"x\": 15.760066032409668, \"y\": 9.120915412902832}, {\"text\": \"yellow color white head dark golden golden yellow finger creamy creamy white sticky lacing nice nice carbonation lots\", \"groups\": false, \"x\": 14.128992080688477, \"y\": 11.32934284210205}, {\"text\": \"lightly sweet sweet malt,solid caramel base.An standard pint pint glass thinner white white head minmimal lace settled quickly.Fresh quickly.Fresh cascade\", \"groups\": false, \"x\": 15.57932186126709, \"y\": 11.275741577148438}, {\"text\": \"pint glass good citrus notes Poured notes pint glass liquid yellow citrus\", \"groups\": false, \"x\": 17.27417755126953, \"y\": 10.498215675354004}, {\"text\": \"Caldera Pale Pale Ale moderate size tight white white head long lasting leaves thick thick hunks golden yellow Caldera\", \"groups\": true, \"x\": 16.61789321899414, \"y\": 8.21420955657959}, {\"text\": \"opens biscuity taste makes quickly fades pithy grapefrui slightly hazy hazy golden golden color modest head pale ale cat litter\", \"groups\": false, \"x\": 15.46824836730957, \"y\": 10.0923433303833}, {\"text\": \"Clear golden-orange golden-orange color small white white head Clear golden-orange color small white head\", \"groups\": false, \"x\": 14.396018028259277, \"y\": 12.23989486694336}, {\"text\": \"Pours golden eggshell white Slight lemony white head lemony Pours finger good head head retention bit\", \"groups\": false, \"x\": 15.97813892364502, \"y\": 10.283854484558105}, {\"text\": \"glass tumbler Poured tumbler Nice Nice aroma glass yellow appearance Nice fluffy pale yellow appearance\", \"groups\": false, \"x\": 16.014493942260742, \"y\": 9.245696067810059}, {\"text\": \"Hazy yellow Hazy taste bad yellow wouldnt great Light mass-marketed yellow yellow brews\", \"groups\": false, \"x\": 14.868306159973145, \"y\": 9.159271240234375}, {\"text\": \"yellow-orange body wispy white white head Pours Appearance hazy yellow-orange thin wispy head\", \"groups\": false, \"x\": 15.123173713684082, \"y\": 8.295618057250977}, {\"text\": \"CEO BIF pale ale classic pale BIF CEO ale classic pale courtesy unclejedi\", \"groups\": false, \"x\": 15.181071281433105, \"y\": 8.784997940063477}, {\"text\": \"Golden amber white head amber body solid finger thick white hops Pale Golden head tart\", \"groups\": false, \"x\": 14.7744140625, \"y\": 11.958562850952148}, {\"text\": \"Pale Ale Dale Pale road trip recent road time yesterday Dale Pale Ale yesterday trip\", \"groups\": false, \"x\": 14.529163360595703, \"y\": 8.891223907470703}, {\"text\": \"Thoughtfully provided Boston Lager Thoughtfully flexabull provided Aroma floral Re-review Boston Lager\", \"groups\": false, \"x\": 16.264501571655273, \"y\": 9.320172309875488}, {\"text\": \"gold color white head clear gold big impressive impressive white light Pours color head APA\", \"groups\": false, \"x\": 14.360699653625488, \"y\": 10.050128936767578}, {\"text\": \"great trade msbulldog great trade nice hsss nice average nice carbonation trust man\", \"groups\": false, \"x\": 14.512618064880371, \"y\": 10.094670295715332}, {\"text\": \"ounces surface covering carbonation covering oxidation whatsoever sloshed short-filled measured affect flavor\", \"groups\": false, \"x\": 16.852561950683594, \"y\": 10.956568717956543}, {\"text\": \"Hops flavor Wow hops Czech hops time drank beer flavor Pretty crystal sticking lacing\", \"groups\": false, \"x\": 15.30982494354248, \"y\": 9.227142333984375}, {\"text\": \"simple classy classy labeling hop flowers cascade hop beer movement Presentation craft beer simple including beer\", \"groups\": false, \"x\": 16.733877182006836, \"y\": 8.887901306152344}, {\"text\": \"golden color-very color-very clear-a clear-a tad tad deeper Great golden Good pales Great golden color-very\", \"groups\": false, \"x\": 14.874807357788086, \"y\": 9.568957328796387}, {\"text\": \"white head clear golden foamy white nice clear golden pale nice Smells nice Pours head hop aroma\", \"groups\": false, \"x\": 15.064589500427246, \"y\": 8.929944038391113}, {\"text\": \"white white white head thin white head white nice head pour thin bitter sweet malt\", \"groups\": false, \"x\": 14.233598709106445, \"y\": 10.80682373046875}, {\"text\": \"camping beer review sake deep golden foamy cap perfect camping active carbonation lovely white white foamy Pours British IPA\", \"groups\": false, \"x\": 15.931903839111328, \"y\": 9.41712474822998}, {\"text\": \"Pale Ale Caldera Pale Pale Ale nice pale Caldera nice beer neighbor collects\", \"groups\": true, \"x\": 15.350082397460938, \"y\": 8.500871658325195}, {\"text\": \"Craft brew Craft floral hops brew floral hops malt caramel nice reason\", \"groups\": false, \"x\": 16.164567947387695, \"y\": 9.396523475646973}, {\"text\": \"Dark honey slightest suggestion criminal offense Dark orange cream colored honey slightest suggestion colored head\", \"groups\": false, \"x\": 15.469295501708984, \"y\": 8.981894493103027}, {\"text\": \"simple silver calderon surrounded hop leafs excellent lacing simple front coloured ale sizeable chunky white head silver\", \"groups\": false, \"x\": 17.867963790893555, \"y\": 9.667987823486328}, {\"text\": \"light oily piny oily gold yellow shiny body earthy malt grapefruit lemon peel sticky bitter sticky mouth light orange\", \"groups\": false, \"x\": 14.799732208251953, \"y\": 12.38272762298584}, {\"text\": \"pint glass bottle glass off-white head pint slightly hazy hazy deep deep gold gold color notes\", \"groups\": false, \"x\": 14.417396545410156, \"y\": 11.263204574584961}, {\"text\": \"Wine Cellars Costa Mesa Hi-Time Wine past weekend Caldera IPA Wine Cellars Costa Mesa Picked\", \"groups\": true, \"x\": 16.618778228759766, \"y\": 9.209330558776855}, {\"text\": \"copper color clean white white head thick Zombie Dust nice golden copper float. fruity hop\", \"groups\": false, \"x\": 15.022642135620117, \"y\": 10.344667434692383}, {\"text\": \"pint Pours white head hazy golden golden color fluffy white Pours pine head earthy poured\", \"groups\": false, \"x\": 17.34613800048828, \"y\": 9.501107215881348}, {\"text\": \"spotty lacing excellent clarity off-white foam solid sheet pours honey strong spotty sweet malts Canned herbal hops citric hops\", \"groups\": false, \"x\": 15.055142402648926, \"y\": 12.819511413574219}, {\"text\": \"Duvel tulip Duvel tulip in-person trade DLD nice orange body date today Oops\", \"groups\": false, \"x\": 18.011564254760742, \"y\": 10.116305351257324}, {\"text\": \"Glowing orange frothy ring pint glass white head Glowing amber color Poured orange amber ring\", \"groups\": false, \"x\": 16.344446182250977, \"y\": 12.000728607177734}, {\"text\": \"Deschutes Becker pint glass Becker style pale ale Deschutes Becker style pint pale ale Poured\", \"groups\": false, \"x\": 16.920846939086914, \"y\": 9.609599113464355}, {\"text\": \"perfect clarity big foamy foamy white white head Orange-yellow top pine hops citrus color perfect\", \"groups\": false, \"x\": 15.437444686889648, \"y\": 12.044909477233887}, {\"text\": \"Standard lighter foamy head lighter yellow good foamy yellow pale pale ale Standard head good lighter\", \"groups\": false, \"x\": 14.734928131103516, \"y\": 9.222225189208984}, {\"text\": \"Hazy apricot apricot color solid frothy frothy eggshell eggshell colored colored head great retention hop notes Hazy lacing\", \"groups\": false, \"x\": 15.038463592529297, \"y\": 9.612566947937012}, {\"text\": \"Good pale pale ale Good ale pale great golfing fare Tastes great great choice craft beer\", \"groups\": false, \"x\": 14.769493103027344, \"y\": 8.776650428771973}, {\"text\": \"pint glass Clear copper Slightly nutty glass Slightly poured pint Clear nutty floral\", \"groups\": false, \"x\": 17.257123947143555, \"y\": 10.067961692810059}, {\"text\": \"Aggressive pour pour yields Aggressive white head pour yields inch white head Bright citrus\", \"groups\": false, \"x\": 16.015865325927734, \"y\": 11.011919021606445}, {\"text\": \"small snifter Poured snifter small Slightly hazed drops slowly leaving film honking cream-colored cream-colored head big walls\", \"groups\": false, \"x\": 13.994919776916504, \"y\": 11.610126495361328}, {\"text\": \"Virginia Beach Beach Virginia Purchased caramel malts pint glass perfect pint Pale orange nose caramel\", \"groups\": false, \"x\": 17.011438369750977, \"y\": 11.833633422851562}, {\"text\": \"hazy pale pale orange hazy orange pale white head fluffy white slightly bitterness reasonable retention\", \"groups\": false, \"x\": 14.897531509399414, \"y\": 11.709765434265137}, {\"text\": \"Sam Adams Sam Adams Pours straw-colored Pale Ale glass chill haze hops Pours Pleasantly surprised\", \"groups\": false, \"x\": 15.542548179626465, \"y\": 10.737548828125}, {\"text\": \"pale golden pint glass straw liquid white head Nice pale Poured golden head Nice pint\", \"groups\": false, \"x\": 16.279312133789062, \"y\": 9.480751037597656}, {\"text\": \"BBQ beer Mild sweetness crisp grassy summer BBQ golden color piney type medium bodied decent pale hop scent herbal hop\", \"groups\": false, \"x\": 15.00466537475586, \"y\": 10.579717636108398}, {\"text\": \"pours clear pale orange head pours clear pale yellow white head orange palate\", \"groups\": false, \"x\": 14.67078685760498, \"y\": 11.641607284545898}, {\"text\": \"excellent retention lasting cap hazy dark dark golden golden yellow yellow color finger off-white off-white head slowly fading Pours\", \"groups\": false, \"x\": 14.518479347229004, \"y\": 12.320921897888184}, {\"text\": \"DFH pint DFH pint glass Poured pint nose canning date glass nice pale\", \"groups\": false, \"x\": 17.035490036010742, \"y\": 9.7365140914917}, {\"text\": \"pours straw white head straw gold thick white pine slight pine pours head aroma sugar\", \"groups\": false, \"x\": 16.412975311279297, \"y\": 10.73813533782959}, {\"text\": \"bit schmoopsbeer sending good grassy hops Pour yields good off-white bit grainy transparent golden-hued\", \"groups\": false, \"x\": 13.881205558776855, \"y\": 11.058658599853516}, {\"text\": \"Pint App Light yellow light orange orange highlights Light App Pint review highlights medium\", \"groups\": false, \"x\": 16.31986427307129, \"y\": 9.719515800476074}, {\"text\": \"pour great love Sierra Nevada Sierra malt big head vanishes quickly pour Pours HAIR darker\", \"groups\": false, \"x\": 16.323034286499023, \"y\": 8.907751083374023}, {\"text\": \"finger thick white head Pours body Pink grapefruit Slightly hazy grapefruit Nice hazy body dry\", \"groups\": false, \"x\": 17.729503631591797, \"y\": 9.522433280944824}, {\"text\": \"Dark yellow Review notes Hops good head visiting family Dark Bitter great pour malt balances\", \"groups\": false, \"x\": 14.707561492919922, \"y\": 10.309277534484863}, {\"text\": \"style nicely Pale Ale Ale style beer exemplifies caramel maltiness citrusy hops beer pour Pale Ale nicely\", \"groups\": false, \"x\": 14.452081680297852, \"y\": 10.898775100708008}, {\"text\": \"weeks back couple weeks Live Product Calderas times undated buddy back number fresh\", \"groups\": true, \"x\": 16.445663452148438, \"y\": 8.360831260681152}, {\"text\": \"exceptionally creamy cloudy golden yellow body golden yellow creamy head head atop yellow closer lemon yellow yellow body\", \"groups\": false, \"x\": 16.603355407714844, \"y\": 12.225201606750488}, {\"text\": \"pint pot young pint Bright gold Bright pot suspended half gold half poured young\", \"groups\": false, \"x\": 16.628307342529297, \"y\": 10.25686264038086}, {\"text\": \"Love IPA guys give golden yellow light golden IPA available. bit hops malts\", \"groups\": false, \"x\": 15.101350784301758, \"y\": 10.060176849365234}, {\"text\": \"clear golden overly-agressive pour golden color filled half massive head Bright head clear pour Head settles\", \"groups\": false, \"x\": 15.004705429077148, \"y\": 11.811899185180664}, {\"text\": \"LIF pale malt malt putting brought Clear straw yellow body straw yellow head pale\", \"groups\": false, \"x\": 16.64906120300293, \"y\": 12.067910194396973}, {\"text\": \"pint glass imperial pint glass poured imperial pint Sweet canned beer forward citrus\", \"groups\": false, \"x\": 16.767301559448242, \"y\": 11.230140686035156}, {\"text\": \"Ohio Toledo Andersons Grabbed single Pours Bright hop brilliant deep deep straw straw color\", \"groups\": false, \"x\": 17.634763717651367, \"y\": 10.950433731079102}, {\"text\": \"unknown date unknown date orange oranges Pours semi-hazy semi-hazy golden fair cap finger fluffy fluffy white\", \"groups\": false, \"x\": 17.39853286743164, \"y\": 11.579575538635254}, {\"text\": \"care Full Sail pale Sail Pale Pale Ale good decent head good lace orange beer\", \"groups\": false, \"x\": 17.717636108398438, \"y\": 9.19635009765625}, {\"text\": \"golden orange slightly fizzy fizzy brew fluffy off-white off-white head constricts slowly outright fading slight fluffy slight caramel slight\", \"groups\": false, \"x\": 15.59940242767334, \"y\": 12.357913970947266}, {\"text\": \"apricot orange clear apricot Pours honey orange Bready caramel clear apricot hops finger sticky-looking\", \"groups\": false, \"x\": 15.630874633789062, \"y\": 12.09328556060791}, {\"text\": \"fingers foamy white head foamy white Pours clear light light yellow fingers head Lots light\", \"groups\": false, \"x\": 14.44583511352539, \"y\": 11.49764347076416}, {\"text\": \"Floral notes light booze golden color white head biscuity notes Nice feel Floral nice golden Caramel West Coast\", \"groups\": false, \"x\": 14.61845588684082, \"y\": 10.915913581848145}, {\"text\": \"long lasting hazy amber finger offwhite offwhite head head thst amber body lasting Abundant patchy dispenses hazy\", \"groups\": false, \"x\": 17.475772857666016, \"y\": 11.436882019042969}, {\"text\": \"grey market Ohio imported market beer surfaced stumbled surfaced grey beer fresh\", \"groups\": false, \"x\": 15.116131782531738, \"y\": 9.019052505493164}, {\"text\": \"Poured snifter golden body off-white head crystal clear finger worth rest atop head Faint streams sticky crown\", \"groups\": false, \"x\": 17.023639678955078, \"y\": 10.41934871673584}, {\"text\": \"Brewing Company Caldera Brewing Caldera Pale Caldera Company Brewing ABV Pale Ale IBU\", \"groups\": true, \"x\": 16.126575469970703, \"y\": 8.022632598876953}, {\"text\": \"solid APA bit non-descript APA cleanest flavor flavor profile hops bittering non-descript style Nice carbonation hops\", \"groups\": false, \"x\": 14.4317045211792, \"y\": 10.851982116699219}, {\"text\": \"degrees caramel Poured bit tumbler Medium yellow eggshell white finger width width head yellow body\", \"groups\": false, \"x\": 17.45086097717285, \"y\": 11.120942115783691}, {\"text\": \"Mag Oct Beer review Oct Mag craft beers canned beer Beer review surrounds canned color\", \"groups\": false, \"x\": 16.51746368408203, \"y\": 8.958011627197266}, {\"text\": \"nice citrus crisp mouthfeel light bodied citrus hop bready malts hop aroma malt backbone clear orangish orangish rust rust color\", \"groups\": false, \"x\": 15.399593353271484, \"y\": 11.89302921295166}, {\"text\": \"date Poured clear orange white head slightly shown freshness date half-inch white refreshing Poured quickly\", \"groups\": false, \"x\": 17.810373306274414, \"y\": 9.438152313232422}, {\"text\": \"golden color slow dissipating dissipating head leaves decent decent lacing Pours light golden Toasted bready hop profile Appearance\", \"groups\": false, \"x\": 16.59009552001953, \"y\": 12.030645370483398}, {\"text\": \"American West West Coast Light caramel Coast IPA floral notes amber color pale amber nice white white head good carbonation\", \"groups\": false, \"x\": 15.249977111816406, \"y\": 10.523554801940918}, {\"text\": \"vet BIF BIF Flexabull sending vet canned brews brew glass pint glass glass produced\", \"groups\": false, \"x\": 15.644046783447266, \"y\": 9.096391677856445}, {\"text\": \"Pale amber beutifully clear white head nice white Pale Sweet fruit fruit flavor Sweet caramel flavor Sweet\", \"groups\": false, \"x\": 15.1546630859375, \"y\": 11.72153091430664}, {\"text\": \"Golden amber big foamy foamy head Golden top amber big foamy head floats\", \"groups\": false, \"x\": 15.04431438446045, \"y\": 12.242966651916504}, {\"text\": \"received dogfish head head signature lasting head extra remember hazy gold signature glass short lasting interestingly left\", \"groups\": false, \"x\": 16.108766555786133, \"y\": 9.165157318115234}, {\"text\": \"Abe Cold Thai curry good combo couple bucks Cold Beer Abe Cold Thai Picked curry\", \"groups\": false, \"x\": 15.2968111038208, \"y\": 9.208011627197266}, {\"text\": \"dark golden light-colored pale Pour dark golden light-colored pale frothy half half inch bubbly white\", \"groups\": false, \"x\": 14.489657402038574, \"y\": 11.877081871032715}, {\"text\": \"Sam Adams Adams glass Sam Adams Poured glass pale body pale gold date\", \"groups\": false, \"x\": 17.42658233642578, \"y\": 9.757505416870117}, {\"text\": \"received today great trader russpowell received today great trader good Russ Caldera\", \"groups\": true, \"x\": 16.840669631958008, \"y\": 8.73802375793457}, {\"text\": \"Bright golden notes Taste-biscuit glass Bright Poured dense head grapefruit peel drinkable APA-out citrus rind subtle hop hop bite\", \"groups\": false, \"x\": 16.768213272094727, \"y\": 9.91026782989502}, {\"text\": \"Pours golden white foam sized white medium sized Pours foam golden sized white bready\", \"groups\": false, \"x\": 13.964277267456055, \"y\": 10.534536361694336}, {\"text\": \"dense white white head massive cascading carbonation rising herbal hops Golden surface West Coast Pale Ale dense\", \"groups\": false, \"x\": 15.138193130493164, \"y\": 8.5956392288208}, {\"text\": \"nice gold gold color thick frothy frothy white white head slowly fades good beer pours lacing pale\", \"groups\": false, \"x\": 13.822547912597656, \"y\": 9.806535720825195}, {\"text\": \"straight glass Poured IPA light straight glass cloudy yellow pineapple juice minimal lacing thin cap white head\", \"groups\": false, \"x\": 16.853227615356445, \"y\": 10.379312515258789}, {\"text\": \"mixed sixer Abe Tregs shaker ounce sixer Cracked open picked part mixed Tregs\", \"groups\": false, \"x\": 17.510955810546875, \"y\": 9.171499252319336}, {\"text\": \"bronze Big eggshell eggshell head beer bitterness Brilliantly clear malt nice Big head\", \"groups\": false, \"x\": 14.696233749389648, \"y\": 11.927577018737793}, {\"text\": \"regular kitchen kitchen glass Bright white snowstorm Bright nice bright white golden regular kitchen glass\", \"groups\": false, \"x\": 17.256975173950195, \"y\": 8.79053020477295}, {\"text\": \"gold color clear bright bright gold color APA clear bright gold Nice relax\", \"groups\": false, \"x\": 14.765740394592285, \"y\": 11.407752990722656}, {\"text\": \"mark point find limit wondered CANQuest breached realize sky unsolicited BeerMails\", \"groups\": false, \"x\": 16.525651931762695, \"y\": 8.752501487731934}, {\"text\": \"basic blonde decent lacing mild white white head basic blonde mild head decent lacing\", \"groups\": false, \"x\": 15.173007011413574, \"y\": 10.981093406677246}, {\"text\": \"white head quickly dicipating decent lacing yello color frothy white straw yello pale straw Pours head quickly\", \"groups\": false, \"x\": 14.327357292175293, \"y\": 10.796338081359863}, {\"text\": \"home tonight Brewforia tonight Delirium goblet picked home paid Delirium Nose descent\", \"groups\": false, \"x\": 17.350196838378906, \"y\": 8.801878929138184}, {\"text\": \"amazingly clear golden pour fluffy white white head pale ale refreshing citrus clear golden top pale\", \"groups\": false, \"x\": 15.11196517944336, \"y\": 8.780403137207031}, {\"text\": \"Hazy golden golden orange huge off-white off-white head Hazy finger head head slowly head Big citrus golden\", \"groups\": false, \"x\": 15.616471290588379, \"y\": 12.224678039550781}, {\"text\": \"moderate carbonation moderate citrusy golden amber nice backbone biscuity maltiness alcohol evident bright golden perfectly clear two-finger white white head\", \"groups\": false, \"x\": 14.951546669006348, \"y\": 11.396069526672363}, {\"text\": \"Great pale Great pale ale pale ale balanced blahh category category refreshing sticks\", \"groups\": false, \"x\": 14.526456832885742, \"y\": 8.9854736328125}, {\"text\": \"orange side beer pours extremely clear clear yellow yellow leaning Appearance golden orange side clouds forming\", \"groups\": false, \"x\": 13.430180549621582, \"y\": 9.769804954528809}, {\"text\": \"clear gold sticky white white head complex malts glass leafy hop equally bold pours clear gold\", \"groups\": false, \"x\": 14.359668731689453, \"y\": 9.939620971679688}, {\"text\": \"pint glass Poured glass pint Pretty foamy head nice slightly earthy cloudy golden-straw\", \"groups\": false, \"x\": 14.227187156677246, \"y\": 10.475872039794922}, {\"text\": \"glass Pours pint glass bright yellow nice head Pours head lacing Smells slightly slightly hoppy wet greens\", \"groups\": false, \"x\": 17.340980529785156, \"y\": 9.98678970336914}, {\"text\": \"great retention bright orange modest head showed great hops Appearance grain retention light bright\", \"groups\": false, \"x\": 15.770623207092285, \"y\": 12.228919982910156}, {\"text\": \"Outlet Liquors Rehoboth Beach poured chilled half pint Outlet Liquors Rehoboth Beach poured pint\", \"groups\": false, \"x\": 15.888736724853516, \"y\": 11.461421966552734}, {\"text\": \"white head compact fizzy fizzy white head finger compact fizzy white slightly Moderate retention\", \"groups\": false, \"x\": 15.646991729736328, \"y\": 12.592920303344727}, {\"text\": \"Kegatron bite Phoenix Pal Sly Fox Fox Phoenix A-Bright golden spotty lace hop bite hops hop\", \"groups\": false, \"x\": 15.011229515075684, \"y\": 12.117143630981445}, {\"text\": \"Oregon brewer solid lace dark yellow white head guys finally finally showed Southland Pours Oregon yellow\", \"groups\": false, \"x\": 16.464834213256836, \"y\": 8.122963905334473}, {\"text\": \"minimal head opaque deep deep sable head pour Pacific Northwest coffee high-quality coffee Smoky aroma tap\", \"groups\": false, \"x\": 13.316798210144043, \"y\": 10.923556327819824}, {\"text\": \"Red Star Star Tavern Roast House downtown Portland Served on-tap Red Tavern Roast Portland Star\", \"groups\": false, \"x\": 12.810165405273438, \"y\": 11.15604305267334}, {\"text\": \"tan head thin tan black head roasted malt style thin tan nose Good lace\", \"groups\": false, \"x\": 14.72313117980957, \"y\": 11.748509407043457}, {\"text\": \"Horse Brass Brass Pub Portland Horse Brass Pub deep brown tap Slight coffee tan head\", \"groups\": false, \"x\": 12.714153289794922, \"y\": 11.075024604797363}, {\"text\": \"Bailey Taproom Oregon Portland August Bailey Taproom roasted malt coffee tap tan head\", \"groups\": false, \"x\": 12.704000473022461, \"y\": 11.0418119430542}, {\"text\": \"Wonderful fluffy headed porter fluffy full full headed Wonderful porter Great fluffy full headed\", \"groups\": false, \"x\": 13.231661796569824, \"y\": 10.973552703857422}, {\"text\": \"deep black tan colored colored head Appearance deep tan roasted black colored head\", \"groups\": false, \"x\": 13.16887092590332, \"y\": 10.984228134155273}, {\"text\": \"Southeast Portland Pilot Rock Rock Porter Night Light Light Lounge Clinton Street Street Theater Portland Rock Night\", \"groups\": false, \"x\": 12.32381820678711, \"y\": 9.878819465637207}, {\"text\": \"Pilot Rock ruby highlights Rock thin head Pilot lace Siskiyou Pub brown ruby highlights\", \"groups\": false, \"x\": 12.405003547668457, \"y\": 9.85435962677002}, {\"text\": \"pint glass Poured bottle glass dark fruits pint Sweet dark Pours clear garnet garnet color\", \"groups\": false, \"x\": 13.212635040283203, \"y\": 9.630467414855957}, {\"text\": \"khaki head thin ring dark mahogany pours lacing roasted malt mahogany finger khaki head\", \"groups\": false, \"x\": 13.413877487182617, \"y\": 11.59931755065918}, {\"text\": \"cheers John Pours chestnut Nashvillian John Pours tan head Rich dark Average head head retention cheers\", \"groups\": false, \"x\": 15.022464752197266, \"y\": 12.396178245544434}, {\"text\": \"amber hue slightly reddish reddish amber dissipates quickly Drank hue completely good orange chocolate slightly\", \"groups\": false, \"x\": 14.690882682800293, \"y\": 8.58413028717041}, {\"text\": \"tulip glass Roasted malt Deep mahogany chocolate Roasted Poured glass orange malt Deep\", \"groups\": false, \"x\": 13.908830642700195, \"y\": 12.074233055114746}, {\"text\": \"Piraat tulip Piraat dark fruits dark brown body dark copper Poured bottle tulip lazy tan\", \"groups\": false, \"x\": 16.154720306396484, \"y\": 11.280285835266113}, {\"text\": \"left atop bronze type type color nice thin thin layer lace left coppery atop dark Malty\", \"groups\": false, \"x\": 14.568990707397461, \"y\": 11.904031753540039}, {\"text\": \"pint glass Malty Poured glass bottle pint Smell Pours dark redish redish amber\", \"groups\": false, \"x\": 16.266448974609375, \"y\": 12.55803108215332}, {\"text\": \"pours clear clear dark dark brown pours ruby clear dark brown hint hops\", \"groups\": false, \"x\": 15.036126136779785, \"y\": 11.70226001739502}, {\"text\": \"amber highlights dark brown highlights lacing dark malts brown amber head medicine\", \"groups\": false, \"x\": 14.562288284301758, \"y\": 12.502927780151367}, {\"text\": \"taster glasses hard candy poured bottle buddy fading carbonation Dark amber couple taster glasses\", \"groups\": false, \"x\": 14.979443550109863, \"y\": 12.53884506225586}, {\"text\": \"based label give orange glass touch head bit disturbing bit brown\", \"groups\": false, \"x\": 14.304004669189453, \"y\": 12.499140739440918}, {\"text\": \"Grabbed store Belgian yeast orange brown brown color murky orange fluffy tan tan colored colored head bottle\", \"groups\": false, \"x\": 13.365884780883789, \"y\": 9.80390739440918}, {\"text\": \"reddish brown Pours brown reddish Fairly clear white head dark orange Brown sugar Fairly\", \"groups\": false, \"x\": 14.462722778320312, \"y\": 12.365732192993164}, {\"text\": \"dark amber Smell non-existent amber light light head trapped effervescent surface dark head tops\", \"groups\": false, \"x\": 13.10530948638916, \"y\": 10.119237899780273}, {\"text\": \"awesome color small amounts dark brown small amount color edges slight amount awesome dark\", \"groups\": false, \"x\": 13.142141342163086, \"y\": 10.216023445129395}, {\"text\": \"awesome label pie crust Poured label Blood orange brown sugar sugar brown pie crust\", \"groups\": false, \"x\": 14.550856590270996, \"y\": 12.47708797454834}, {\"text\": \"great extra caramel month yeast inflatablechair sending great extra saturday night toasted malt\", \"groups\": false, \"x\": 14.422813415527344, \"y\": 12.57908821105957}, {\"text\": \"BIF Lazerlobe pretty good back good beer orange dark pretty flavors\", \"groups\": false, \"x\": 13.513466835021973, \"y\": 10.999547004699707}, {\"text\": \"Pecan shell cherry red burnt orange Belgian yeast shell dark dark brown dark cherry Pecan backlighting dark\", \"groups\": false, \"x\": 14.120363235473633, \"y\": 12.303574562072754}, {\"text\": \"Magazine Issue BeerAdvocate Magazine disturbing label Jul Issue Crazy Magazine WTF Review disturbing\", \"groups\": false, \"x\": 13.326604843139648, \"y\": 9.941843032836914}, {\"text\": \"Beer beer mug Beer poured citrus mug flavors poured bottle blended beer pours\", \"groups\": false, \"x\": 13.281122207641602, \"y\": 10.160658836364746}, {\"text\": \"brown head dark brown light brown medium light brown head yeast beer flavor dark\", \"groups\": false, \"x\": 13.294194221496582, \"y\": 10.217087745666504}, {\"text\": \"deep ruby brown highlights frothy head Dark fruits Pours Dark translucent deep highlights capped\", \"groups\": false, \"x\": 15.803878784179688, \"y\": 12.413357734680176}, {\"text\": \"brought home Roommates brought home bottle spice green Clear label. tangy Belgian-like\", \"groups\": false, \"x\": 15.207761764526367, \"y\": 12.754265785217285}, {\"text\": \"glass Pours pint glass rich reddish-brown Pours murky amply carbonated bomber pint glass rich\", \"groups\": false, \"x\": 17.134374618530273, \"y\": 9.905842781066895}, {\"text\": \"Chilled bottle Chilled glass bottle generous gift Frank Pours ramnuts tan head generous\", \"groups\": false, \"x\": 16.69768524169922, \"y\": 9.977811813354492}, {\"text\": \"Vas Deferens scattered lace Bomber poured large goblet leaves light dark garnet garnet brown small eggshell eggshell head Vas\", \"groups\": false, \"x\": 13.093791961669922, \"y\": 9.479320526123047}, {\"text\": \"bottle Pours mahogany amber hue half inch inch head malt chocolate-laced malt raisins lacing thoughout Plump malt\", \"groups\": false, \"x\": 17.482881546020508, \"y\": 9.695462226867676}, {\"text\": \"pretty excited Caldera limited Chocolate Orange light end M-watery pretty excited chocolate-Terry Chocolate Orange\", \"groups\": true, \"x\": 14.926777839660645, \"y\": 8.33403205871582}, {\"text\": \"Westmalle chalice partial cover perfectly clear short off-white off-white head falls quickly Westmalle ruby pour chalice\", \"groups\": false, \"x\": 13.7191162109375, \"y\": 10.349139213562012}, {\"text\": \"bottle sharing tan head clear brown brown color toffee beer Medium beer pours head\", \"groups\": false, \"x\": 13.538374900817871, \"y\": 9.81545639038086}, {\"text\": \"time brew rotating beer Kettle Series Seasonal Release Limited Small Caldera Kettle Small Batch Batch Seasonal limited sweet cherry\", \"groups\": true, \"x\": 13.36987018585205, \"y\": 10.110391616821289}, {\"text\": \"Vas Deferens equally interesting Deferens pours bit interesting beer interesting chocolate nice retention equally nice\", \"groups\": false, \"x\": 13.18645191192627, \"y\": 9.461233139038086}, {\"text\": \"Vas Deferens devil ripping vasa deferentia hilarious label Vas Deferens label states label vasectomy snip\", \"groups\": false, \"x\": 13.071206092834473, \"y\": 9.416657447814941}, {\"text\": \"white head ale brewed medium white Pours dark burnt orange orange bitters Definite orange blood orange orange zest\", \"groups\": false, \"x\": 14.871966361999512, \"y\": 12.738239288330078}, {\"text\": \"Strong hop hop bittering bittering married coffee-enhanced roastiness surprising malt malt turnaround Strong finish hop bittering\", \"groups\": false, \"x\": 13.814325332641602, \"y\": 10.283047676086426}, {\"text\": \"bomber poured bomber snifter Dark motor oil poured thick motor Pours licorice tobacco\", \"groups\": false, \"x\": 13.276093482971191, \"y\": 8.857145309448242}, {\"text\": \"roasted malts Received ArchEnemyBrew dark malts trade deep black mahogany head roasted bitter\", \"groups\": false, \"x\": 13.19095516204834, \"y\": 11.324071884155273}, {\"text\": \"snifters Pours Pours black bottle split large snifters Pours bottle head split large snifters\", \"groups\": false, \"x\": 13.121585845947266, \"y\": 11.2951078414917}, {\"text\": \"dark fruit nice American American impy Pours jet fruit dominate jet black retained deep deep mocha mocha colored colored head,even\", \"groups\": false, \"x\": 13.134389877319336, \"y\": 10.615921974182129}, {\"text\": \"cheers John charred grain Nashvillian John charred Imp Stout Baker chocolate grain Chocolate cheers\", \"groups\": false, \"x\": 13.596821784973145, \"y\": 11.495246887207031}, {\"text\": \"Mud black colored head leather colored Mud frothy tan tan leather thick frothy head black\", \"groups\": false, \"x\": 13.588644981384277, \"y\": 11.80094051361084}, {\"text\": \"Pours black good retention tan head Dark chocolate medium frothy frothy tan Pours solid lace Dark RIS\", \"groups\": false, \"x\": 13.542314529418945, \"y\": 8.82376480102539}, {\"text\": \"inch puffy small cap opaque black puffy khaki khaki head roasted malt dark roasted dark Pours inch\", \"groups\": false, \"x\": 13.076330184936523, \"y\": 10.826814651489258}, {\"text\": \"Imperial stout dark beer Imperial stout dark beer black light light brown brown colored\", \"groups\": false, \"x\": 12.972756385803223, \"y\": 10.53451156616211}, {\"text\": \"brown head Pours pitch pitch black roasted malts Pours foamy brown head Great retention pitch\", \"groups\": false, \"x\": 13.070111274719238, \"y\": 10.904224395751953}, {\"text\": \"Black black strap strap molasses abv Light molasses strap black berry Pleasant licorice hints\", \"groups\": false, \"x\": 13.62690258026123, \"y\": 11.671334266662598}, {\"text\": \"Opaque black Poured bottle tulip licorice licorice flavor Opaque Roasted malt Bitter chocolate Dark\", \"groups\": false, \"x\": 13.734139442443848, \"y\": 11.468801498413086}, {\"text\": \"Founders tulip Founders Poured tulip dark read good good things cocoa nibs licorice rich\", \"groups\": false, \"x\": 13.447999000549316, \"y\": 10.813796043395996}, {\"text\": \"absolutely heavenly quality coffee sweet chocolate firm tones molasses licorice Aroma heavenly quality coffee\", \"groups\": false, \"x\": 13.380231857299805, \"y\": 11.050260543823242}, {\"text\": \"bottle split Duvel tulip top oglmcdgl great retention bottle split khaki colored firm inch colored foam\", \"groups\": false, \"x\": 14.241476058959961, \"y\": 11.412288665771484}, {\"text\": \"duvel tulips bottle split big tulips big swath big seam big island bottle split poured\", \"groups\": false, \"x\": 13.16455364227295, \"y\": 11.470072746276855}, {\"text\": \"Pours dark dark brown amber edges decent lacing tan head quickly falls leave decent light tan slight coffee Pours\", \"groups\": false, \"x\": 13.12703800201416, \"y\": 10.59702205657959}, {\"text\": \"tasty jet black black color light light brown nice beer jet black color\", \"groups\": false, \"x\": 13.850310325622559, \"y\": 9.757972717285156}, {\"text\": \"Delicious full full bodied bodied stout sugary fruit Delicious trimmings full bodied stout end\", \"groups\": false, \"x\": 15.832972526550293, \"y\": 7.809939861297607}, {\"text\": \"massive snifter poured snifter thing massive inky black Pours dark burnt dark coffee\", \"groups\": false, \"x\": 12.833206176757812, \"y\": 10.95837688446045}, {\"text\": \"Quarter finger Vintage Good Coffee cocoa Quarter Beer Extra roasty malt dark\", \"groups\": false, \"x\": 13.670352935791016, \"y\": 11.358501434326172}, {\"text\": \"foam head pint glass beige foam beer pours Served head coffee pint glass pours\", \"groups\": false, \"x\": 13.033377647399902, \"y\": 10.629952430725098}, {\"text\": \"glass mug roasted malts light Served mug roasted glass malts good coffee\", \"groups\": false, \"x\": 13.624502182006836, \"y\": 11.428459167480469}, {\"text\": \"bottle snifter notes aroma licorice fairly cocoa fairly quickly Pours black dissipates fairly\", \"groups\": false, \"x\": 12.941937446594238, \"y\": 11.242265701293945}, {\"text\": \"big body Bitter chocolate coffee beans good carbonation booze sting bakers powder light funk nice brown brown cap dark black\", \"groups\": false, \"x\": 13.961846351623535, \"y\": 11.761298179626465}, {\"text\": \"Growth Imperial Imperial Stout scattered lace leaves light tan collar Bailey Growth Imperial Stout light\", \"groups\": false, \"x\": 12.844951629638672, \"y\": 11.156435012817383}, {\"text\": \"Bailey Taproom elusive brew Taproom Bailey Crude oil edition Snagged snifter elusive brew\", \"groups\": false, \"x\": 12.894797325134277, \"y\": 11.34868049621582}, {\"text\": \"Bailey Taproom VINTAGE found delicious glory VINTAGE Taproom Bailey rich rich rich sugars BOOYA found\", \"groups\": false, \"x\": 12.815380096435547, \"y\": 11.367022514343262}, {\"text\": \"drinking Growth imperial stout pepper corns helpful advance Growth suffered pink pepper honey chocolate\", \"groups\": false, \"x\": 12.846120834350586, \"y\": 10.940673828125}, {\"text\": \"standard head red pour light red Copper pour standard red light head ordinary\", \"groups\": false, \"x\": 15.41043758392334, \"y\": 10.7537202835083}, {\"text\": \"Red mahagonny Red mahagonny thick fruit Yellow tinted tinted head stern authority berry Sticky lacing\", \"groups\": false, \"x\": 14.678121566772461, \"y\": 12.330063819885254}, {\"text\": \"Hop Red finger white white head pint glass tap handle orangish amber thick skim skim leaving leaving lots stated Dry\", \"groups\": false, \"x\": 15.11276626586914, \"y\": 9.992630958557129}, {\"text\": \"sturdy head dark clear Ashland Amber clear amber amber color nice sturdy amber Beer pours nice Ashland\", \"groups\": false, \"x\": 14.738545417785645, \"y\": 9.99872875213623}, {\"text\": \"Decidedly crimson lowish retention off-white head slightly off-white clear Decidedly crimson retention finger off-white\", \"groups\": false, \"x\": 14.760157585144043, \"y\": 11.63703441619873}, {\"text\": \"Cascade hop hop smell expect brew ordered hop hop aroma supreme incarnation aroma stripped Cascade\", \"groups\": false, \"x\": 14.176609992980957, \"y\": 9.9515380859375}, {\"text\": \"Wonderful crisp fresh ale dignified brewery Dry Hop hop Hop Orange Dry Wonderful crisp fresh\", \"groups\": false, \"x\": 15.640530586242676, \"y\": 11.06684684753418}, {\"text\": \"Dry Hop Tap handle handle red Dry Orange Juice Tap red alas Hop Orange Orange\", \"groups\": false, \"x\": 15.993879318237305, \"y\": 11.309398651123047}, {\"text\": \"Caldera brew brew Ive fine Caldera Caldera Ive Siskiyou Pub beer fine brew waiting\", \"groups\": true, \"x\": 15.762718200683594, \"y\": 7.908566474914551}, {\"text\": \"Hop Orange Dry Hop tap pull Orange Dry hop aroma Hop citrus hop site thing\", \"groups\": false, \"x\": 15.912473678588867, \"y\": 11.804924011230469}, {\"text\": \"Hawthorne Hophouse opened Hawthorne recently opened Hophouse Hawthorne tap recently opened beer beer tastes\", \"groups\": false, \"x\": 13.363520622253418, \"y\": 9.760343551635742}, {\"text\": \"Bailey Taproom brown sugar Taproom Bailey Sampled golden highlights creamy white sugar pint light brown\", \"groups\": false, \"x\": 16.620756149291992, \"y\": 12.02183723449707}, {\"text\": \"active beer Wow appearance smell Taste active beer haze white lace top forever Smell\", \"groups\": false, \"x\": 13.26643180847168, \"y\": 9.91606616973877}, {\"text\": \"Magazine Issue BeerAdvocate Magazine Jul Issue Magazine Review BeerAdvocate craft brewers flavor bit\", \"groups\": false, \"x\": 14.03085708618164, \"y\": 9.720845222473145}, {\"text\": \"Imperial Pint Shorts Imperial Brewforia big Shorts picked work Pint Kevin home Shorts\", \"groups\": false, \"x\": 17.26553726196289, \"y\": 8.66927719116211}, {\"text\": \"Bomber pours scattered lacing clear straw straw yellow yellow body small vanilla vanilla head quickly drops Bomber lacing\", \"groups\": false, \"x\": 13.520746231079102, \"y\": 9.226797103881836}, {\"text\": \"white head big chunky chunky fizzy fizzy effervescent effervescent pure pure white Adjunct Lager Lager standards head Cracker\", \"groups\": false, \"x\": 14.988510131835938, \"y\": 12.815154075622559}, {\"text\": \"pale golden golden color quickly dissipating dissipating head Pours Light hops Appearance Light grainy malts glass\", \"groups\": false, \"x\": 13.604720115661621, \"y\": 10.701478004455566}, {\"text\": \"bomber poured pint glass Pours yellow lager Smells decent Lawnmower Lager bomber glass poured pint\", \"groups\": false, \"x\": 13.441142082214355, \"y\": 8.770954132080078}, {\"text\": \"weak head strong carbonation light yellow Pours head clear yellow strong carbonation weak\", \"groups\": false, \"x\": 13.826605796813965, \"y\": 10.446432113647461}, {\"text\": \"soft white white head Pours fairly good pale yellow bomber yellow soft head fairly\", \"groups\": false, \"x\": 13.4525146484375, \"y\": 8.730280876159668}, {\"text\": \"great price bottle price bucks style store great picked clear straw yellow\", \"groups\": false, \"x\": 13.537150382995605, \"y\": 9.54261589050293}, {\"text\": \"pale yellow light beer Poured yellow light beer pale head whatsoever ABV whatsoever\", \"groups\": false, \"x\": 13.457240104675293, \"y\": 9.51867389678955}, {\"text\": \"bomber bread Slight aroma light whiffs Taste papery insipid pee pee colour. Macro-lager palate Slight light\", \"groups\": false, \"x\": 13.448636054992676, \"y\": 8.766551971435547}, {\"text\": \"Pours clear white head clear gold fluffy white Pours head Minor lacing clear gold finger\", \"groups\": false, \"x\": 14.158751487731934, \"y\": 9.896084785461426}, {\"text\": \"bottle beer fizzy start sharing side people afraid washing dirt yellow\", \"groups\": false, \"x\": 13.805150032043457, \"y\": 9.404380798339844}, {\"text\": \"head whatsoever pale golden golden color whatsoever Lots pale golden color pretty head\", \"groups\": false, \"x\": 13.478201866149902, \"y\": 9.713911056518555}, {\"text\": \"light winter light glassy winter pine glassy goldeness pine needles delicate floral light small delicate floral hints winter\", \"groups\": false, \"x\": 14.932934761047363, \"y\": 10.048282623291016}, {\"text\": \"Split floral bomber girlfriend picked clear gold white head small white roses rose\", \"groups\": false, \"x\": 13.703198432922363, \"y\": 9.009376525878906}, {\"text\": \"Interesting beer Interesting beer Weird feel taste light cloudy orange white head decent white\", \"groups\": false, \"x\": 13.617788314819336, \"y\": 8.814031600952148}, {\"text\": \"pint glass Pours orange Imperial Golden orange golden golden color Poured bottle glass died instantly golden\", \"groups\": false, \"x\": 17.43655014038086, \"y\": 10.222907066345215}, {\"text\": \"beautiful beer tone beautiful beer floral Pours Pours crystal crystal clear glowing golden Head pours\", \"groups\": false, \"x\": 13.834383964538574, \"y\": 9.321367263793945}, {\"text\": \"drive home work tonight Brewforia Imperial Blonde rose picked rose petals rose water Guardian goblet drive\", \"groups\": false, \"x\": 13.936964988708496, \"y\": 9.336034774780273}, {\"text\": \"Appearance Slightly hazy off-white head good hoppy finish deep amber earthyness Taste Bitter hoppy finish\", \"groups\": false, \"x\": 15.179314613342285, \"y\": 12.526996612548828}, {\"text\": \"Clear light light copper Clear copper Pine floral light Thick offwhite offwhite head sweet caramel\", \"groups\": false, \"x\": 15.321288108825684, \"y\": 11.706766128540039}, {\"text\": \"head sticks cat piss thing strangely nice malt malt back mild carbonation day long bad thing Orange Smells\", \"groups\": false, \"x\": 15.274686813354492, \"y\": 8.253790855407715}, {\"text\": \"sending white head dark amber amber color nice beer pours beer flavor grapefruit pine\", \"groups\": false, \"x\": 14.876018524169922, \"y\": 9.86177921295166}, {\"text\": \"Slightly cloudy cloudy dark cream colored Slightly colored head dark orange Appearance cloudy dark finger\", \"groups\": false, \"x\": 15.376727104187012, \"y\": 12.533653259277344}, {\"text\": \"Midtown Wine Wine Spirits Nashville Midtown quality IPA Purchased IPA hazy caramel caramel color\", \"groups\": false, \"x\": 15.505843162536621, \"y\": 9.404926300048828}, {\"text\": \"Light copper copper color Light Pour red Strong grapefruit front copper color glass nicely\", \"groups\": false, \"x\": 15.708569526672363, \"y\": 12.579333305358887}, {\"text\": \"sunburnt orange nice sunburnt Flavor Pours orange Lots good sunburnt Subtle head nice\", \"groups\": false, \"x\": 15.68584156036377, \"y\": 11.327838897705078}, {\"text\": \"hops citrus hops Good light amber golden clear white head clear color medium sized sized frothy frothy white\", \"groups\": false, \"x\": 15.504524230957031, \"y\": 10.12485408782959}, {\"text\": \"Gotta love Massive pillowy Gotta pint glass love IPA standard pint Big Big hoppy hoppy\", \"groups\": false, \"x\": 15.995855331420898, \"y\": 10.072628021240234}, {\"text\": \"Augustgarage trade head glass Taste heavy pine hop mellow dogfish head\", \"groups\": false, \"x\": 16.717636108398438, \"y\": 10.94875431060791}, {\"text\": \"half-inch thick foamy head slightly hazy hazy golden-amber Caldera IPA IPA pours IPA Caldera thick foamy\", \"groups\": true, \"x\": 15.790520668029785, \"y\": 7.856278419494629}, {\"text\": \"Lovely orange-tan orange-tan color lasting head great lasting fresh hops Lovely color head lacing orange-tan\", \"groups\": false, \"x\": 14.129983901977539, \"y\": 11.285645484924316}, {\"text\": \"golden copper amber color off-white head dark golden dark ruby ruby red red edges edges hen hen held massive frothy\", \"groups\": false, \"x\": 15.842239379882812, \"y\": 12.34213638305664}, {\"text\": \"American Amber Amber Ale sweet side beer definately American Ale firm amber amber color Amber IPA\", \"groups\": false, \"x\": 14.962126731872559, \"y\": 10.187371253967285}, {\"text\": \"big Acquired pint glass TheManiacalOne glass hop notes pineapple Big sticky nice copper\", \"groups\": false, \"x\": 16.513273239135742, \"y\": 10.515764236450195}, {\"text\": \"Reviewed Decent IPA hops citrus bitter IPA off-white head Pours head Aroma\", \"groups\": false, \"x\": 16.091264724731445, \"y\": 11.40798568725586}, {\"text\": \"copper color large offwhite offwhite head dies slow immense ring great copper citric notes citric Pours glass\", \"groups\": false, \"x\": 16.15871810913086, \"y\": 11.91724681854248}, {\"text\": \"Nice amber amber color great head Nice lacing amber color great head outstanding IPA\", \"groups\": false, \"x\": 14.631046295166016, \"y\": 10.495171546936035}, {\"text\": \"pint glass Poured glass pint copper color small head good hazy copper hop drinkable IPA\", \"groups\": false, \"x\": 16.551868438720703, \"y\": 10.185282707214355}, {\"text\": \"HOPS hoppy beer citrus fruity notes beer foamy head Pours head hoppy\", \"groups\": false, \"x\": 15.429122924804688, \"y\": 10.171478271484375}, {\"text\": \"date Pours american pint dusty lace clouded orange deposits sheets inch head Pours Crackery caramel american lace\", \"groups\": false, \"x\": 17.285322189331055, \"y\": 11.501605033874512}, {\"text\": \"creamy foam creamy hop aroma oozed foam poured needledd head soft cloudy caramel\", \"groups\": false, \"x\": 16.76960563659668, \"y\": 11.136503219604492}, {\"text\": \"imperial pint pint glass nice Delicious grassy poured Pours Delicious imperial pint glass\", \"groups\": false, \"x\": 16.84418487548828, \"y\": 11.422140121459961}, {\"text\": \"tan head copper color light tan clean orange-ish Pours head faint pine orange-ish copper color\", \"groups\": false, \"x\": 15.897112846374512, \"y\": 11.244166374206543}, {\"text\": \"Young pint pint pot Young Copper coloured pot poured pint Copper head Buttery\", \"groups\": false, \"x\": 16.2935733795166, \"y\": 8.086994171142578}, {\"text\": \"Hometown BIF Tiklmelmo courtesy BIF Tiklmelmo Hometown pint glass Acquired big glass courtesy\", \"groups\": false, \"x\": 16.86275863647461, \"y\": 9.89632511138916}, {\"text\": \"Northwest Beer Pacific Northwest Alchemist Brewery Beer Micah Pacific Northwest Pours clear Consumed Brewery pint\", \"groups\": false, \"x\": 16.729768753051758, \"y\": 9.637995719909668}, {\"text\": \"tasty brew glass wine glass brew supplying tasty Poured large wine nice Appearance\", \"groups\": false, \"x\": 16.756921768188477, \"y\": 9.416827201843262}, {\"text\": \"whit head nice amber amber color Pours malt finish malt Hops head finish citrus tone\", \"groups\": false, \"x\": 15.119525909423828, \"y\": 11.161718368530273}, {\"text\": \"boastful head high carbonation medium body true oregon highly carbonated transparent golden amber smell slightly dry finish drinkability nice big\", \"groups\": false, \"x\": 15.146479606628418, \"y\": 11.452790260314941}, {\"text\": \"Copper colored orange hues nice sticky sticky off-white off-white head Classic Western Western IPA colored beer Copper hues\", \"groups\": false, \"x\": 15.34257698059082, \"y\": 9.519059181213379}, {\"text\": \"beer Jason citrus rind citrus rind pint glass standard pint slightly hazed bitter citrus glass\", \"groups\": false, \"x\": 17.084421157836914, \"y\": 9.717597007751465}, {\"text\": \"Olive Tree Tree Market Ocean Beach canned beer kinda steep Olive Tree Market Ocean Beach\", \"groups\": false, \"x\": 15.334670066833496, \"y\": 9.493616104125977}, {\"text\": \"frothy head leaving plenty ring formations pint glass hazed burnt burnt orange finger high high frothy Pours BIF\", \"groups\": false, \"x\": 16.942798614501953, \"y\": 9.880257606506348}, {\"text\": \"Wierd tasting tasting IPA Wierd thrown trade IPA tasting hop flavours AMerican IPA residual odd\", \"groups\": false, \"x\": 15.333656311035156, \"y\": 9.88329792022705}, {\"text\": \"uneven lacing tan foamy foamy head big tan big good retention good Amber lacing IPA\", \"groups\": false, \"x\": 15.682865142822266, \"y\": 10.535404205322266}, {\"text\": \"flavor yellow white head bitterness clear amber soapy lookign lookign white nice smell head\", \"groups\": false, \"x\": 17.768199920654297, \"y\": 10.296911239624023}, {\"text\": \"recent trade Picked trade pack recent smallish head nice orange color enjoyable nice orange\", \"groups\": false, \"x\": 15.813841819763184, \"y\": 9.922577857971191}, {\"text\": \"IPA IPA dose good retention dense head thirst quench good grapefruit iron orange nose\", \"groups\": false, \"x\": 15.660843849182129, \"y\": 10.533954620361328}, {\"text\": \"finger head fine layer leaving lots deep gold sticky lacing Pours finger layer leaving glass\", \"groups\": false, \"x\": 14.270414352416992, \"y\": 10.829033851623535}, {\"text\": \"white foam dark orange orange color large amount foam dark orange color large amount\", \"groups\": false, \"x\": 14.686990737915039, \"y\": 11.244171142578125}, {\"text\": \"beige head chill hazed finger beige hazed medium medium amber amber body head pours chill hazed\", \"groups\": false, \"x\": 15.39519214630127, \"y\": 12.193446159362793}, {\"text\": \"Jul Adambrau becker Adambrau Moderate buttery Poured becker Light carbonation Extra large beige head\", \"groups\": false, \"x\": 17.75293731689453, \"y\": 9.6250638961792}, {\"text\": \"Belgium globe Belgium Poured globe Deep amber finger Vince Deep completely translucent orange\", \"groups\": false, \"x\": 17.315414428710938, \"y\": 10.050524711608887}, {\"text\": \"batch code date batch code good foamy orange citrus foamy cap Good strength\", \"groups\": false, \"x\": 17.8868465423584, \"y\": 9.953290939331055}, {\"text\": \"5-10 minutes amber color finder head good 5-10 pours minutes amber color finder head\", \"groups\": false, \"x\": 15.430720329284668, \"y\": 10.408513069152832}, {\"text\": \"bubbly head retention s-nice aroma t-nice grapefruit lingering decent retention slightly hoppy citrus bitterness hoppy aroma s-nice citrus a-light\", \"groups\": false, \"x\": 15.326726913452148, \"y\": 10.924592018127441}, {\"text\": \"corporate programming meh beer Meh Miller associate beer Bud Coors Beer Caldera IPA year\", \"groups\": true, \"x\": 16.577054977416992, \"y\": 9.011743545532227}, {\"text\": \"copperish orange orange color white head light booze nose pretty nice white good carbonation good caramel Poured Taste\", \"groups\": false, \"x\": 14.442152976989746, \"y\": 11.767190933227539}, {\"text\": \"IPA Poured tulip Nice Nice pour Aroma nice medium perfect perfect IPA medium head\", \"groups\": false, \"x\": 16.174421310424805, \"y\": 9.916585922241211}, {\"text\": \"Poured chalice head rind grapefruit citrus copper inch retaining off-white head retaining head\", \"groups\": false, \"x\": 17.207155227661133, \"y\": 10.809386253356934}, {\"text\": \"jamdugan Medium Medium amber amber color tangerine highlights Courtesy Medium Poured highlights inch head snifter\", \"groups\": false, \"x\": 16.02704620361328, \"y\": 12.416327476501465}, {\"text\": \"amber color finger head pillowy white A-Pours orange amber dense head IPA\", \"groups\": false, \"x\": 15.692047119140625, \"y\": 10.587345123291016}, {\"text\": \"burnt orange hazy burnt Pours Big citrus orange finger head malt hazy burnt citrus\", \"groups\": false, \"x\": 15.789640426635742, \"y\": 11.748696327209473}, {\"text\": \"sticky head surprisingly murky bright caramel caramel color Pour aggressive sticky head bit surprisingly\", \"groups\": false, \"x\": 14.110759735107422, \"y\": 10.567401885986328}, {\"text\": \"nice retention hazy tawny amber coloring white head tawny amber pine pint retention hazy coloring\", \"groups\": false, \"x\": 15.95472526550293, \"y\": 10.363166809082031}, {\"text\": \"bubbly head nice clear clear copper copper hue white bubbly Pours pine malt finger head\", \"groups\": false, \"x\": 16.18368911743164, \"y\": 12.275609016418457}, {\"text\": \"off-white head pint glass Amber hop aroma hop bit Poured off-white head pint\", \"groups\": false, \"x\": 15.925585746765137, \"y\": 10.07492446899414}, {\"text\": \"pint glass glass nice light tan head forms poured pint thick nice clarity crisp dark\", \"groups\": false, \"x\": 17.081100463867188, \"y\": 10.710731506347656}, {\"text\": \"San Jose Jose Sharks Sharks tumbler degrees fahrenheit San Jose Sharks Poured degrees fahrenheit\", \"groups\": false, \"x\": 14.586005210876465, \"y\": 9.611658096313477}, {\"text\": \"Uber Tavern standard pint Tavern Uber poured pint nice Amber-gold tap standard\", \"groups\": false, \"x\": 16.270952224731445, \"y\": 10.222312927246094}, {\"text\": \"Sam Adams Adams Sensory Sensory glass Sam Adams Sensory glass Pours clear bright copper ruby hues\", \"groups\": false, \"x\": 16.7423152923584, \"y\": 10.886311531066895}, {\"text\": \"Pale Ale India Pale Brewed India Brewing Company Caldera Brewing Oregon Brewed Ale Caldera Caldera IPA India\", \"groups\": true, \"x\": 15.906676292419434, \"y\": 7.861302852630615}, {\"text\": \"Woody IPA Drinkability copper brew decent lacing faded quickly quickly leaving leaving decent citrus Mouthfeel pine light citrusy\", \"groups\": false, \"x\": 16.508928298950195, \"y\": 10.458213806152344}, {\"text\": \"pint glass glass still-impressive thin copper body poured pint thick mat nearly-white head head collapses dense cap\", \"groups\": false, \"x\": 16.830596923828125, \"y\": 11.353403091430664}, {\"text\": \"Caldera IPA price tag perfect combination Deep orange-amber ABV IPA session beer Caldera found bit\", \"groups\": true, \"x\": 15.745845794677734, \"y\": 7.930263996124268}, {\"text\": \"leathery hue dark orange-brown orange-brown leathery Piney hops pours hue hops dark orange-brown leathery\", \"groups\": false, \"x\": 15.753777503967285, \"y\": 11.117981910705566}, {\"text\": \"IPA Avery IPA canned IPA great IPA Myrtle Beach great smell score beach ABV\", \"groups\": false, \"x\": 15.457341194152832, \"y\": 9.48677921295166}, {\"text\": \"Myrtle Beach piggly wiggly Beach Tasted great Myrtle Found pleasnt treat IPA wich vacation piggly\", \"groups\": false, \"x\": 15.801834106445312, \"y\": 9.692373275756836}, {\"text\": \"solid IPA IPA solid citrus hops orange citrus hops beer brilliantly clear coppery orange\", \"groups\": false, \"x\": 16.08107566833496, \"y\": 10.836934089660645}, {\"text\": \"Good ipa amount Orange color shooting empty empty bottles Great desert Orange color\", \"groups\": false, \"x\": 15.868576049804688, \"y\": 10.14426326751709}, {\"text\": \"canned beer hatch fingered head funny review canned beer appearance directly amber orange\", \"groups\": false, \"x\": 16.561296463012695, \"y\": 9.05505657196045}, {\"text\": \"Grand Cru Europe Cru glass purchased Hoegaarden Beers beer Grand Cru head\", \"groups\": false, \"x\": 16.81403923034668, \"y\": 10.739577293395996}, {\"text\": \"finger head. sweet malts. floral hops copper slight slight haze haze color malts.a bitter bitter finish pretty tasty pney crisp\", \"groups\": false, \"x\": 15.358614921569824, \"y\": 10.355110168457031}, {\"text\": \"Mag Oct Beer review Oct Mag review Beer great craft beer glass canned craft\", \"groups\": false, \"x\": 16.522924423217773, \"y\": 8.929347038269043}, {\"text\": \"Fourth Corner Finally starting hyped brewery brewery show Corner Fourth Finally starting hyped brewery\", \"groups\": false, \"x\": 14.972928047180176, \"y\": 9.494138717651367}, {\"text\": \"moderate head dark amber Pours head nice dark amber moderate Pine pretty\", \"groups\": false, \"x\": 16.960405349731445, \"y\": 10.623090744018555}, {\"text\": \"nice IPA overpoweringly bitter medium bodied decent carbonation slightly citrus major piney deep rust rust orange white foam tasty treat\", \"groups\": false, \"x\": 15.738273620605469, \"y\": 11.166572570800781}, {\"text\": \"Delerium Tremens Tremens tulip Delerium Tremens Served tulip IPA hops hazy red-orange finger off-white\", \"groups\": false, \"x\": 16.001981735229492, \"y\": 9.845664978027344}, {\"text\": \"great retention incredibly large white head retention poured incredibly large white head great\", \"groups\": false, \"x\": 16.17447853088379, \"y\": 10.310808181762695}, {\"text\": \"clear amber dissipates quickly IPA pours amber orange quickly Columbus hops malt nice roasted pours\", \"groups\": false, \"x\": 15.064615249633789, \"y\": 10.689970970153809}, {\"text\": \"Premium Two-Row Amarillo hops Simcoe Centennial Munich Crystal Amarillo Premium hops Two-Row\", \"groups\": false, \"x\": 14.967856407165527, \"y\": 11.609600067138672}, {\"text\": \"slightly off-white off-white head beer pours lovely copper copper amber amber color American IPA caramel malt typical American sticky\", \"groups\": false, \"x\": 14.958416938781738, \"y\": 10.577754020690918}, {\"text\": \"good friend Rich amber stemmed glass good friend mine leaving beer head Rich\", \"groups\": false, \"x\": 16.45022201538086, \"y\": 9.52184009552002}, {\"text\": \"good carbonation citrus notes piney resin carbonation leaving nice white pine notes nice sharp dark amber white head sharp hop\", \"groups\": false, \"x\": 16.722917556762695, \"y\": 10.715569496154785}, {\"text\": \"Duvel tulip Poured Duvel tulip light brown Dark orange Smells fantastic orange Reddish tones Good hop\", \"groups\": false, \"x\": 15.358643531799316, \"y\": 12.0769624710083}, {\"text\": \"Appearance-Deep amber amber orange orange color Rich Orange orange Appearance-Deep sediment hops Grapefruit hops amber\", \"groups\": false, \"x\": 15.595227241516113, \"y\": 12.42858600616455}, {\"text\": \"copper color semi-transparent amber Amarillo hops Simcoe Centennial Pours Amarillo Specs IBUs amber\", \"groups\": false, \"x\": 16.043285369873047, \"y\": 11.743978500366211}, {\"text\": \"tulip glass Poured glass tulip orange color orange light citrus caramel golden orange\", \"groups\": false, \"x\": 16.25731086730957, \"y\": 11.007550239562988}, {\"text\": \"white head amber color light orange orange amber heavy pours head citrus orange good retention\", \"groups\": false, \"x\": 15.912657737731934, \"y\": 12.143145561218262}, {\"text\": \"shimmering honey honey color Pours brilliant shimmering color honey good lacing head fresh\", \"groups\": false, \"x\": 14.030217170715332, \"y\": 10.164258003234863}, {\"text\": \"amber-copper hue off-white head hazy amber-copper rocky off-white Pours West Coast Big hue head share\", \"groups\": false, \"x\": 15.253793716430664, \"y\": 10.45466136932373}, {\"text\": \"tulip glass hops Poured glass tulip lots orange finally rate citrus floral\", \"groups\": false, \"x\": 16.448348999023438, \"y\": 11.111100196838379}, {\"text\": \"Great nose finger creamy golden body spotty cap good lacing combining citrus white head flavors start showed nice nice retention\", \"groups\": false, \"x\": 16.5049991607666, \"y\": 12.22555160522461}, {\"text\": \"canned IPAs Famously Hot South Carolina Pacific Northwest Caldera IPA Wow Caldera canned coming continue\", \"groups\": true, \"x\": 15.75598430633545, \"y\": 7.795835018157959}, {\"text\": \"glass appearance good ruby strawlike color heavy headiness carbonated smell balanced undertones duvel tulip tulip glass malty balanced orange\", \"groups\": false, \"x\": 17.152494430541992, \"y\": 9.01445198059082}, {\"text\": \"Belgium tulip tulip glass Belgium glass tulip Poured cloudy orange-gold slightly appearance hops\", \"groups\": false, \"x\": 17.17424201965332, \"y\": 9.643973350524902}, {\"text\": \"size beer hoppy Enjoy nice drinkable smell moderate IPA Hazy\", \"groups\": false, \"x\": 17.010934829711914, \"y\": 9.257682800292969}, {\"text\": \"Slightly hazy heavy lacing hazy golden golden amber off-white head nice off-white Slightly nice mild Nice mix\", \"groups\": false, \"x\": 15.287219047546387, \"y\": 10.763825416564941}, {\"text\": \"colored head minutes ago nice translucent nice finger nice layer translucent darker nice head Pours caramel colored\", \"groups\": false, \"x\": 15.694911003112793, \"y\": 12.328513145446777}, {\"text\": \"DFH pint pint glass DFH hop IPA glass IPA DIPA pint IPA scents copper poured\", \"groups\": false, \"x\": 16.570114135742188, \"y\": 10.120210647583008}, {\"text\": \"chilled Founders Founders pint pint glass Founders glass scent orange Pours poured chilled\", \"groups\": false, \"x\": 17.093502044677734, \"y\": 10.15599536895752}, {\"text\": \"absolutely amazing deep amber large white huge citrus citrus notes amazing IPA duvel snifter white head citrusy grapefruits perfectly balanced\", \"groups\": false, \"x\": 16.29491424560547, \"y\": 9.784749984741211}, {\"text\": \"tea leaves Deep apricot hop-forward IPA sudsy cream-colored cream-colored head touch thin apricot hue slightly grassy grainy malt malt undertone\", \"groups\": false, \"x\": 15.799150466918945, \"y\": 11.750784873962402}, {\"text\": \"pint glass glass poured pint bottle store bad awhile White inch head Thick\", \"groups\": false, \"x\": 16.918378829956055, \"y\": 9.918166160583496}, {\"text\": \"Poured tulip colored heading lighter golden white colored Color nice malty Taste nice lively\", \"groups\": false, \"x\": 13.832999229431152, \"y\": 11.747961044311523}, {\"text\": \"partners BIF BIF Huge psiweaver hitting perma-want partners colored head fantastic fluffy fluffy cream\", \"groups\": false, \"x\": 15.229683876037598, \"y\": 11.86513900756836}, {\"text\": \"Sam Adams Adams glass bottle poured Sam Adams glass bottle poured Good head deep amber\", \"groups\": false, \"x\": 16.575822830200195, \"y\": 10.54439640045166}, {\"text\": \"cool lookin HOPS cool great lookin beer Picked HOPS HOPS Pours smell\", \"groups\": false, \"x\": 14.433555603027344, \"y\": 9.83201789855957}, {\"text\": \"white head honey golden thick creamy good IPA Pours head West Coast citrusy honey golden\", \"groups\": false, \"x\": 15.726037979125977, \"y\": 10.840250015258789}, {\"text\": \"Jerry Garcia Garcia lives lives inside bright copper bone white white head good retention Jerry Garcia Poured\", \"groups\": false, \"x\": 14.985516548156738, \"y\": 10.737847328186035}, {\"text\": \"pint glass Poured glass cloudy texture pint orangey color citrus hops beer long-lasting head\", \"groups\": false, \"x\": 16.458316802978516, \"y\": 9.19845199584961}, {\"text\": \"Grateful Dead colored Grateful Dead concert deep orange pint glass snowy white pretty quickly brightly colored concert poster-esque shaker pint\", \"groups\": false, \"x\": 16.960840225219727, \"y\": 12.117850303649902}, {\"text\": \"Recently picked day tailgate boss dollar company opening opening day good Recently tailgate time good lace\", \"groups\": false, \"x\": 17.153491973876953, \"y\": 10.488883972167969}, {\"text\": \"Dark amber Dark color amazing head white head amber citrus piney Lots\", \"groups\": false, \"x\": 16.275405883789062, \"y\": 9.029979705810547}, {\"text\": \"nonic pint pint glass Citrus Poured Citrus smells nonic pint glass white head glass lacing\", \"groups\": false, \"x\": 16.160717010498047, \"y\": 11.91750717163086}, {\"text\": \"West Coast Coast BAs awesome West West Coast nice BAs extra awesome smells\", \"groups\": false, \"x\": 14.614447593688965, \"y\": 9.620007514953613}, {\"text\": \"bright glowing orange Pour glowing color yellow orange Wow tropical mandarin orange\", \"groups\": false, \"x\": 15.719650268554688, \"y\": 11.601701736450195}, {\"text\": \"caramel malt malt kicking beer tastes copper color white head medium body higher carbonation nose full hops upfront nose hops\", \"groups\": false, \"x\": 16.20039939880371, \"y\": 10.561079978942871}, {\"text\": \"Sam Adams Adams glass Sam Adams Poured glass bright hops butterscotch yellow date\", \"groups\": false, \"x\": 17.501115798950195, \"y\": 9.96528148651123}, {\"text\": \"Reddish copper pumpkin highlights dense cream leaves sticky sticky lace orange head minty C-hops Reddish glass plenty\", \"groups\": false, \"x\": 16.027040481567383, \"y\": 11.620132446289062}, {\"text\": \"Corsedonk snifter small bright Corsedonk Poured snifter small bright nice head bitter\", \"groups\": false, \"x\": 16.13546371459961, \"y\": 10.002903938293457}, {\"text\": \"great lookin lookin IPA IPA guess great lookin trend hops coast IPA fresh\", \"groups\": false, \"x\": 15.819664001464844, \"y\": 10.0359468460083}, {\"text\": \"Wow added Gil nice Wow SwillinBrew added extra brew canned nice brew\", \"groups\": false, \"x\": 15.644569396972656, \"y\": 9.44455337524414}, {\"text\": \"dark golden amber color hazy dark thick frothy frothy white white head slowly fades beer pours golden amber\", \"groups\": false, \"x\": 13.706216812133789, \"y\": 9.860716819763184}, {\"text\": \"hopped grapefruit pretty nice sounds terrible Tastes grapefruit nice drinks pretty hopped sounds terrible\", \"groups\": false, \"x\": 16.27232551574707, \"y\": 11.085692405700684}, {\"text\": \"bronze-amber body Medium bronze-amber body Medium Large frothy off-white head bitterness bronze-amber finish Moderate\", \"groups\": false, \"x\": 14.713507652282715, \"y\": 11.996540069580078}, {\"text\": \"copper body frothey tan tan head beautiful copper Pours body Excellent lacing frothey tan head\", \"groups\": false, \"x\": 15.641703605651855, \"y\": 10.802306175231934}, {\"text\": \"deep color desert mountainside honey painted sunrise icky lace stunner deep color desert\", \"groups\": false, \"x\": 14.727045059204102, \"y\": 12.3616361618042}, {\"text\": \"Abe Ithaca shaker ounce shaker glass sixer picked Ithaca white foam super clear golden\", \"groups\": false, \"x\": 17.14591407775879, \"y\": 8.940777778625488}, {\"text\": \"white head slightly hazy hazy copper copper orange creamy white Pours head huge slightly hazy\", \"groups\": false, \"x\": 16.327980041503906, \"y\": 12.45401382446289}, {\"text\": \"beer arena canned beer great beer beer arena canned pine great pine flavors nice scent\", \"groups\": false, \"x\": 15.390838623046875, \"y\": 9.292280197143555}, {\"text\": \"A-Full bronze A-Full bronze hop bitterness flavor malt aroma light tan head\", \"groups\": false, \"x\": 14.988649368286133, \"y\": 11.030076026916504}, {\"text\": \"regular kitchen kitchen glass Caldera IPA IPA boasts regular kitchen forward IPA glass kinda bright\", \"groups\": true, \"x\": 16.25878143310547, \"y\": 8.169110298156738}, {\"text\": \"Surly pint pint glass Surly Standard pour Poured cool glass patchy white finger fluffy poor retention\", \"groups\": false, \"x\": 16.580951690673828, \"y\": 9.945157051086426}, {\"text\": \"Stone Levitation Levitation tulip Served Nice aroma Stone Levitation bitter Pours citrus hops\", \"groups\": false, \"x\": 15.440887451171875, \"y\": 12.143506050109863}, {\"text\": \"in-person trade recent in-person pint glass trade glass kels hooking recent in-person pretty full\", \"groups\": false, \"x\": 16.62943458557129, \"y\": 10.067628860473633}, {\"text\": \"Dogfish Head Head shaped original review pint glass server ate shaped pint Poured SAE amber Dogfish Head\", \"groups\": false, \"x\": 16.582792282104492, \"y\": 11.332179069519043}, {\"text\": \"Pours copper off-white head rich off-white Pours head caramel backing copper rich off-white Trailing lace\", \"groups\": false, \"x\": 16.065584182739258, \"y\": 11.881019592285156}, {\"text\": \"beer sticky green love color guy sticky green gave feels good green herbals\", \"groups\": false, \"x\": 14.59370231628418, \"y\": 9.293771743774414}, {\"text\": \"pint glass Poured glass pint nice hoppy sweetness light coast IPA IPA\", \"groups\": false, \"x\": 16.472427368164062, \"y\": 9.862466812133789}, {\"text\": \"Dales Pale Pale Ale augustgarage nice canned IPA good trade FWIW Floral Copper\", \"groups\": false, \"x\": 15.382096290588379, \"y\": 10.171627044677734}, {\"text\": \"Poured light hops Pours semi-hazy Tropical fruit Pours Tropical reddish color life start putting\", \"groups\": false, \"x\": 17.053462982177734, \"y\": 9.458498001098633}, {\"text\": \"Irvine Tustin Foods Hop Stoopid Found Caldera IPA IPA beer Sculpin Racer\", \"groups\": true, \"x\": 15.721925735473633, \"y\": 8.154004096984863}, {\"text\": \"orange malt grapefruit reddish orange golden orange familiar yellowish surprised rating Pours copper\", \"groups\": false, \"x\": 15.608024597167969, \"y\": 10.981942176818848}, {\"text\": \"pint glass Poured glass Tons Pours pint head beautiful fresh golden honey\", \"groups\": false, \"x\": 16.5693359375, \"y\": 10.26241397857666}, {\"text\": \"white head clear amber amber color fluffy white nice fluffy head clear amber color fluffy\", \"groups\": false, \"x\": 14.645060539245605, \"y\": 10.84091567993164}, {\"text\": \"Stunning clarity defect free amber color white head suddy lacing absolutely defect wonderful amber Stunning lemon grass clarity\", \"groups\": false, \"x\": 15.276144027709961, \"y\": 12.397942543029785}, {\"text\": \"past summer summer beer vacation past color grapefruit pine Pours carrot cake\", \"groups\": false, \"x\": 14.829757690429688, \"y\": 10.141139030456543}, {\"text\": \"ruby tint hazy ruby slight hazy deep copper slight citrus slight pour tint copper hazy\", \"groups\": false, \"x\": 15.191308975219727, \"y\": 11.773571968078613}, {\"text\": \"Yellow clear IPA finger white white head Slight Cascade Cascade hops Nice hops refreshing IPA\", \"groups\": false, \"x\": 14.93618106842041, \"y\": 10.915975570678711}, {\"text\": \"COOP Delirium goblet picked today Delirium CCC hops smelling CCC nice eggshell amber brew. hops\", \"groups\": false, \"x\": 17.56438636779785, \"y\": 9.017521858215332}, {\"text\": \"Caldera brews heard good good things Caldera slightly hazy toasted ruby-brown ruby-brown color brews heard good\", \"groups\": true, \"x\": 15.787263870239258, \"y\": 7.853817462921143}, {\"text\": \"amber color interested deep copper hops Smell malt nice Appearance copper amber\", \"groups\": false, \"x\": 15.016151428222656, \"y\": 12.33308219909668}, {\"text\": \"dig phenomenal CANQuest Ashland Amber Amber included Roots Whoops Ashland Amber trading\", \"groups\": false, \"x\": 16.468782424926758, \"y\": 8.707825660705566}, {\"text\": \"amber color cream head Pours nice nice amber Nice Pine IPA average cream Pine Grapefruit hops\", \"groups\": false, \"x\": 15.573659896850586, \"y\": 10.638199806213379}, {\"text\": \"40-45 degrees standard pint pint glass Poured degrees pint white froth standard 40-45 glass\", \"groups\": false, \"x\": 16.40851402282715, \"y\": 11.654242515563965}, {\"text\": \"Super clear impressive appearance clear orange orange body frothy sticky sticky head Super beer appearance Smells sweet\", \"groups\": false, \"x\": 14.994989395141602, \"y\": 10.991905212402344}, {\"text\": \"orange gold light orange modest tightly tightly knit knit bit Nice piney grapefruit bite Medium bodied west coast gold\", \"groups\": false, \"x\": 15.326949119567871, \"y\": 10.733898162841797}, {\"text\": \"standard pint pint glass glass Poured standard pint Beer Aroma good Tight white\", \"groups\": false, \"x\": 15.729013442993164, \"y\": 9.764225006103516}, {\"text\": \"amber color finger head Pours IPA Crisp IPA back end Pretty Good Pine Citrus canned IPA\", \"groups\": false, \"x\": 15.838602066040039, \"y\": 10.525461196899414}, {\"text\": \"Redwood City City Redwood lasting off-white good lacing malt Pours amber color off-white head sweet malt\", \"groups\": false, \"x\": 15.902813911437988, \"y\": 10.379557609558105}, {\"text\": \"Brickskeller Washington hop flavors malt flavors leafy hop pale caramel head malt\", \"groups\": false, \"x\": 16.356718063354492, \"y\": 12.073404312133789}, {\"text\": \"shiny bronze modest head nice lattice lattice work showed good good retention good malty Appearance good glass\", \"groups\": false, \"x\": 14.793478012084961, \"y\": 11.453910827636719}, {\"text\": \"Received adamharbaugh pint glass extra perfect pint Heavy grapefruit head frothy head Heavy nice copper\", \"groups\": false, \"x\": 16.459787368774414, \"y\": 10.386248588562012}, {\"text\": \"pretty lacing pretty amber-golden glass Pours Pours pretty pint glass nice head hoppy lacing Smells delicious\", \"groups\": false, \"x\": 17.096240997314453, \"y\": 9.372448921203613}, {\"text\": \"Kegatron biscuit malt sweet biscuit hooking hop malt A-Bright golden off-white head copious lace biscuit\", \"groups\": false, \"x\": 15.627004623413086, \"y\": 12.062803268432617}, {\"text\": \"PREMISE Oregon IPA Pale Ale Dales Pale beer canned beer edge Dales moving\", \"groups\": false, \"x\": 16.427602767944336, \"y\": 8.792054176330566}, {\"text\": \"Rehoboth Beach Arena Cafe Beach Arena Cafe Rehoboth pint glass crisp rocky headed good lacing\", \"groups\": false, \"x\": 16.349679946899414, \"y\": 11.583460807800293}]}}, {\"mode\": \"vega-lite\"});\n",
              "</script>"
            ],
            "text/plain": [
              "alt.Chart(...)"
            ]
          },
          "metadata": {},
          "execution_count": 31
        }
      ]
    },
    {
      "cell_type": "code",
      "source": [
        "# visualization code - UMAP - 3D\n",
        "import matplotlib.pyplot as plt\n",
        "%matplotlib inline\n",
        "def UMAP_plot_3D(emb):\n",
        "  reducer = umap.UMAP(n_neighbors=20,n_components=3) \n",
        "  principal_comp = reducer.fit_transform(emb)\n",
        "\n",
        "  x = []\n",
        "  y = []\n",
        "  z = []\n",
        "  for value in principal_comp:\n",
        "    x.append(value[0])\n",
        "    y.append(value[1])\n",
        "    z.append(value[2])\n",
        "        \n",
        "  plt.figure(figsize=(16, 16)) \n",
        "  # Creating figure\n",
        "  fig = plt.figure(figsize = (16, 16))\n",
        "  ax = plt.axes(projection =\"3d\")\n",
        "  \n",
        "  # Creating plot\n",
        "  ax.scatter3D(x, y, z, color = \"blue\")\n",
        "  plt.title(\"simple 3D scatter plot\")\n",
        "\n",
        "  plt.show()"
      ],
      "metadata": {
        "id": "oUfSLO60v5Kh"
      },
      "execution_count": 34,
      "outputs": []
    },
    {
      "cell_type": "code",
      "source": [
        "UMAP_plot_3D(emb_texts)"
      ],
      "metadata": {
        "id": "tDuEhYMZ1Ez8",
        "outputId": "16f9053c-a340-424f-ebba-c51532de77d0",
        "colab": {
          "base_uri": "https://localhost:8080/",
          "height": 918
        }
      },
      "execution_count": 36,
      "outputs": [
        {
          "output_type": "display_data",
          "data": {
            "text/plain": [
              "<Figure size 1152x1152 with 0 Axes>"
            ]
          },
          "metadata": {}
        },
        {
          "output_type": "display_data",
          "data": {
            "text/plain": [
              "<Figure size 1152x1152 with 1 Axes>"
            ],
            "image/png": "[encoded data removed]"
          },
          "metadata": {
            "needs_background": "light"
          }
        }
      ]
    },
    {
      "cell_type": "markdown",
      "source": [
        "SetFit Model - Neural Compression"
      ],
      "metadata": {
        "id": "CG1jS3ldPF_M"
      }
    },
    {
      "cell_type": "code",
      "source": [
        "from transformers import pipeline\n",
        "%%capture\n",
        "model = SentenceTransformer('all-MiniLM-L6-v2')"
      ],
      "metadata": {
        "id": "tzAtEAgC4ZB8"
      },
      "execution_count": null,
      "outputs": []
    },
    {
      "cell_type": "code",
      "source": [
        "!pip install setfit neural_compressor optimum[onnxruntime]==1.5.0 onnxruntime_extensions"
      ],
      "metadata": {
        "id": "iOpnFOhxOkcg"
      },
      "execution_count": null,
      "outputs": []
    },
    {
      "cell_type": "markdown",
      "source": [
        "# Useful Code Snippets"
      ],
      "metadata": {
        "id": "6vkDkW16kjmM"
      }
    },
    {
      "cell_type": "markdown",
      "source": [
        "Utilities"
      ],
      "metadata": {
        "id": "fGlEzADmm27f"
      }
    },
    {
      "cell_type": "code",
      "source": [
        "import pprint\n",
        "pp = pprint.PrettyPrinter(width = 80)"
      ],
      "metadata": {
        "id": "BtLiEm6_m2Hk"
      },
      "execution_count": null,
      "outputs": []
    },
    {
      "cell_type": "code",
      "source": [
        "pp.pprint(texts[:4])"
      ],
      "metadata": {
        "id": "MFpUGdvvnMe1",
        "outputId": "dd29f942-6e1a-4bec-fdcc-f26c5a0d764e",
        "colab": {
          "base_uri": "https://localhost:8080/"
        }
      },
      "execution_count": null,
      "outputs": [
        {
          "output_type": "stream",
          "name": "stdout",
          "text": [
            "['A lot of foam. But a lot. In the smell some banana, and then lactic and '\n",
            " 'tart. Not a good start. Quite dark orange in color, with a lively '\n",
            " 'carbonation (now visible, under the foam). Again tending to lactic sourness. '\n",
            " 'Same for the taste. With some yeast and banana.',\n",
            " 'Dark red color, light beige foam, average. In the smell malt and caramel, '\n",
            " 'not really light. Again malt and caramel in the taste, not bad in the end. '\n",
            " 'Maybe a note of honey in teh back, and a light fruitiness. Average body. In '\n",
            " 'the aftertaste a light bitterness, with the malt and red fruit. Nothing '\n",
            " 'exceptional, but not bad, drinkable beer.',\n",
            " 'Almost totally black. Beige foam, quite compact, not bad. Light smell, just '\n",
            " 'a bit of roast, and some hop. A bit too light. The taste is light oo, and '\n",
            " 'drinkable, with some malt, roast, hints of coffee. Nothing exceptional, but '\n",
            " 'after all drinkable and pleasant. Light to average body. In the aftertaste '\n",
            " 'some dust, somr roast, hint of caramel, and a bit of bitterness. No defect, '\n",
            " 'drinkable, not bad.',\n",
            " 'Golden yellow color. White, compact foam, quite creamy. Good appearance. '\n",
            " 'Fresh smell, with good hop. Quite dry, with a good grassy note. Hay. Fresh '\n",
            " 'and pleasant. More sweet in the mouth, with honey. The hop comes back in the '\n",
            " 'end, and in the aftertaste. Not bad, but a bit too sweet for a pils. In the '\n",
            " 'end some vanilla and camomile note. In the aftertaste, too. Though the hop, '\n",
            " 'a bit too sweet. Honest.']\n"
          ]
        }
      ]
    },
    {
      "cell_type": "markdown",
      "source": [
        "Visualization"
      ],
      "metadata": {
        "id": "u3I8Dlw0M6RR"
      }
    },
    {
      "cell_type": "code",
      "source": [
        "import matplotlib.pyplot as plt\n",
        "%matplotlib inline"
      ],
      "metadata": {
        "id": "c3D6_dZqOC1v"
      },
      "execution_count": 32,
      "outputs": []
    },
    {
      "cell_type": "code",
      "source": [
        "# visualization code - PCA\n",
        "from sklearn.decomposition import PCA\n",
        "def PCA_plot(emb):\n",
        "  pca = PCA(n_components=2)\n",
        "  #Creates and PCA model and plots it\n",
        "  principal_comp = pca.fit_transform(emb)\n",
        "\n",
        "  x = []\n",
        "  y = []\n",
        "  for value in principal_comp:\n",
        "    x.append(value[0])\n",
        "    y.append(value[1])\n",
        "        \n",
        "  plt.figure(figsize=(16, 16)) \n",
        "  #Outputting all the embeddings\n",
        "  for i in range(len(x)):\n",
        "    plt.scatter(x[i],y[i])\n",
        "  plt.show()"
      ],
      "metadata": {
        "id": "dHq_Fr14N_Un"
      },
      "execution_count": null,
      "outputs": []
    },
    {
      "cell_type": "code",
      "source": [
        "# visualization code - PCA - 3D\n",
        "from sklearn.decomposition import PCA\n",
        "def PCA_plot_3D(emb):\n",
        "  pca = PCA(n_components=3)\n",
        "  #Creates and PCA model and plots it\n",
        "  principal_comp = pca.fit_transform(emb)\n",
        "\n",
        "  x = []\n",
        "  y = []\n",
        "  z = []\n",
        "  for value in principal_comp:\n",
        "    x.append(value[0])\n",
        "    y.append(value[1])\n",
        "    z.append(value[2])\n",
        "        \n",
        "  plt.figure(figsize=(16, 16)) \n",
        "  # Creating figure\n",
        "  fig = plt.figure(figsize = (16, 16))\n",
        "  ax = plt.axes(projection =\"3d\")\n",
        "  \n",
        "  # Creating plot\n",
        "  ax.scatter3D(x, y, z, color = \"blue\")\n",
        "  plt.title(\"simple 3D scatter plot\")\n",
        "\n",
        "  #Outputting all the embeddings\n",
        "  #for i in range(len(x)):\n",
        "    #plt.scatter(x[i],y[i])\n",
        "  plt.show()"
      ],
      "metadata": {
        "id": "TMYp83xSOOHi"
      },
      "execution_count": 33,
      "outputs": []
    },
    {
      "cell_type": "code",
      "source": [
        "PCA_plot_3D(emb_distilled)"
      ],
      "metadata": {
        "colab": {
          "base_uri": "https://localhost:8080/",
          "height": 918
        },
        "id": "yhM2CVXCm4_S",
        "outputId": "23a25af0-410f-46d5-975c-4aaabe26f339"
      },
      "execution_count": 34,
      "outputs": [
        {
          "output_type": "display_data",
          "data": {
            "text/plain": [
              "<Figure size 1152x1152 with 0 Axes>"
            ]
          },
          "metadata": {}
        },
        {
          "output_type": "display_data",
          "data": {
            "text/plain": [
              "<Figure size 1152x1152 with 1 Axes>"
            ],
            "image/png": "[encoded data removed]"
          },
          "metadata": {
            "needs_background": "light"
          }
        }
      ]
    },
    {
      "cell_type": "markdown",
      "source": [
        "SetFit test code using Hugginface Datasets"
      ],
      "metadata": {
        "id": "O3NRQ7cQdHnl"
      }
    },
    {
      "cell_type": "code",
      "source": [
        "# Load a dataset from the Hugging Face Hub\n",
        "dataset = load_dataset(\"sst2\")\n",
        "\n",
        "# Simulate the few-shot regime by sampling 8 examples per class\n",
        "num_classes = 2\n",
        "train_dataset = dataset[\"train\"].shuffle(seed=42).select(range(8 * num_classes))\n",
        "eval_dataset = dataset[\"validation\"]"
      ],
      "metadata": {
        "id": "NIr20EhKQ6fP"
      },
      "execution_count": null,
      "outputs": []
    },
    {
      "cell_type": "code",
      "source": [
        "# Load a SetFit model from Hub\n",
        "model = SetFitModel.from_pretrained(\"sentence-transformers/paraphrase-mpnet-base-v2\")\n",
        "\n",
        "# Create trainer\n",
        "trainer = SetFitTrainer(\n",
        "    model=model,\n",
        "    train_dataset=train_dataset,\n",
        "    eval_dataset=eval_dataset,\n",
        "    loss_class=CosineSimilarityLoss,\n",
        "    metric=\"accuracy\",\n",
        "    batch_size=16,\n",
        "    num_iterations=20, # The number of text pairs to generate for contrastive learning\n",
        "    num_epochs=1, # The number of epochs to use for contrastive learning\n",
        "    column_mapping={\"sentence\": \"text\", \"label\": \"label\"} # Map dataset columns to text/label expected by trainer\n",
        ")"
      ],
      "metadata": {
        "id": "1ibAd_AY7fTv"
      },
      "execution_count": null,
      "outputs": []
    },
    {
      "cell_type": "code",
      "source": [
        "# Train and evaluate\n",
        "trainer.train()\n",
        "metrics = trainer.evaluate()"
      ],
      "metadata": {
        "id": "gg5kvT5KKOqV"
      },
      "execution_count": null,
      "outputs": []
    },
    {
      "cell_type": "code",
      "source": [
        "metrics"
      ],
      "metadata": {
        "colab": {
          "base_uri": "https://localhost:8080/"
        },
        "id": "Qy2BOOQ9OgWf",
        "outputId": "3816bf9f-1f8c-4dc7-e68e-3306e43b4af4"
      },
      "execution_count": null,
      "outputs": [
        {
          "output_type": "execute_result",
          "data": {
            "text/plain": [
              "{'accuracy': 0.6559633027522935}"
            ]
          },
          "metadata": {},
          "execution_count": 39
        }
      ]
    },
    {
      "cell_type": "markdown",
      "source": [
        "TF-IDF"
      ],
      "metadata": {
        "id": "6kOpJvRkk2Rp"
      }
    },
    {
      "cell_type": "code",
      "source": [
        "from sklearn.feature_extraction.text import TfidfVectorizer\n",
        "dataset = [\n",
        "    \"I enjoy reading about Machine Learning and Machine Learning is my PhD subject\",\n",
        "    \"I would enjoy a walk in the park\",\n",
        "    \"I was reading in the library\"\n",
        "]"
      ],
      "metadata": {
        "id": "O2T2ACPox-M9"
      },
      "execution_count": null,
      "outputs": []
    },
    {
      "cell_type": "code",
      "source": [
        "tfIdfVectorizer=TfidfVectorizer(use_idf=True)\n",
        "tfIdf = tfIdfVectorizer.fit_transform(dataset)\n",
        "df = pd.DataFrame(tfIdf[0].T.todense(), index=tfIdfVectorizer.get_feature_names(), columns=[\"TF-IDF\"])\n",
        "df = df.sort_values('TF-IDF', ascending=False)\n",
        "print (df.head(25))"
      ],
      "metadata": {
        "id": "IPYabjR4xPmV"
      },
      "execution_count": null,
      "outputs": []
    },
    {
      "cell_type": "markdown",
      "source": [
        "spaCY"
      ],
      "metadata": {
        "id": "TLnb9htglChT"
      }
    },
    {
      "cell_type": "code",
      "source": [
        "import spacy \n",
        "from spacy.language import Language "
      ],
      "metadata": {
        "id": "snv20Lm1lQV9"
      },
      "execution_count": null,
      "outputs": []
    },
    {
      "cell_type": "code",
      "source": [
        "# text processing      \n",
        "nlp = spacy.load('en_core_web_sm')        \n",
        "#df['Tokens'] = df.Sumcription.apply(lambda x: nlp(x))    \n",
        "spacy_stopwords = spacy.lang.en.stop_words.STOP_WORDS        \n",
        "#spacy_stopwords.add('attach')\n",
        "#df['Lema_Token']  = df.Tokens.apply(lambda x: \" \".join([token.lemma_ for token in x if token not in spacy_stopwords]))"
      ],
      "metadata": {
        "id": "-Wqd8CBGP0Gu"
      },
      "execution_count": null,
      "outputs": []
    },
    {
      "cell_type": "code",
      "source": [
        "@Language.component(\"info_component\")\n",
        "def my_component(doc):\n",
        "    #print(f\"After tokenization, this doc has {len(doc)} tokens.\")\n",
        "    print(\"The lemmatized tokens are:\", [token.lemma_ for token in doc])\n",
        "    return doc\n",
        "\n",
        "nlp = spacy.load(\"en_core_web_sm\", disable = ['ner'])\n",
        "pipeline = [\"tok2vec\", \"parser\", \"lemmatizer\"]\n",
        "\n",
        "nlp.add_pipe(\"info_component\", name=\"print_info\",last=True)\n",
        "print(nlp.pipe_names)  # ['tagger', 'parser', 'ner', 'print_info']\n",
        "doc = nlp(\"This is a sentence.\")"
      ],
      "metadata": {
        "id": "_nmLg6LYSl2u"
      },
      "execution_count": null,
      "outputs": []
    },
    {
      "cell_type": "code",
      "source": [
        "spacy_stopwords = spacy.lang.en.stop_words.STOP_WORDS\n",
        "tokens = [token.lemma_ for token in doc if token.lemma_ not in spacy_stopwords and not token.is_punct]  "
      ],
      "metadata": {
        "id": "w8linSTQjg75"
      },
      "execution_count": null,
      "outputs": []
    },
    {
      "cell_type": "code",
      "source": [
        "#tensors\n",
        "vectors = [item.tensor for item in doc]\n",
        "# not lemmatized tokens\n",
        "tokens = [item.text for item in doc]"
      ],
      "metadata": {
        "id": "VwKExqIUqq6m"
      },
      "execution_count": null,
      "outputs": []
    },
    {
      "cell_type": "code",
      "source": [
        "# NLP Pipelien\n",
        "nlp = spacy.load(\"en_core_web_sm\")\n",
        "doc = nlp(\"This is a sentence.\")\n",
        "print(nlp.pipe_names)"
      ],
      "metadata": {
        "colab": {
          "base_uri": "https://localhost:8080/"
        },
        "id": "HPFNVjurFTeX",
        "outputId": "10f1f49d-894b-4648-892d-68ab4f7ee606"
      },
      "execution_count": null,
      "outputs": [
        {
          "output_type": "stream",
          "name": "stdout",
          "text": [
            "['tok2vec', 'tagger', 'parser', 'attribute_ruler', 'lemmatizer', 'ner']\n"
          ]
        }
      ]
    },
    {
      "cell_type": "code",
      "source": [
        "for doc in nlp.pipe(texts[:20]):\n",
        "  print(doc.ents)"
      ],
      "metadata": {
        "id": "fcY6o5n4PKni"
      },
      "execution_count": null,
      "outputs": []
    },
    {
      "cell_type": "code",
      "source": [
        "texts_spacy = []\n",
        "for doc in nlp.pipe(texts[:3000]):\n",
        "  tokens = [token.lemma_ for token in doc if token.lemma_ not in spacy_stopwords and not token.is_punct]\n",
        "\n",
        "  texts_spacy.append(' '.join(tokens))"
      ],
      "metadata": {
        "id": "p7SAKBhjHJid"
      },
      "execution_count": null,
      "outputs": []
    },
    {
      "cell_type": "code",
      "source": [
        "texts_spacy_texts = []\n",
        "for doc in nlp.pipe(texts[:3000]):\n",
        "  tokens = [token.text for token in doc if token.text not in spacy_stopwords and not token.is_punct]\n",
        "  texts_spacy_texts.append(' '.join(tokens))"
      ],
      "metadata": {
        "id": "Wsu5MkrxKWUy"
      },
      "execution_count": null,
      "outputs": []
    },
    {
      "cell_type": "code",
      "source": [
        "tfIdfVectorizer=TfidfVectorizer(use_idf=True)\n",
        "tfIdf = tfIdfVectorizer.fit_transform(texts[:3000])\n",
        "df = pd.DataFrame(tfIdf[0].T.todense(), index=tfIdfVectorizer.get_feature_names(), columns=[\"TF-IDF\"])\n",
        "df = df.sort_values('TF-IDF', ascending=False)\n",
        "print (df.head(50))"
      ],
      "metadata": {
        "id": "UiEfZnrZDf1f"
      },
      "execution_count": null,
      "outputs": []
    },
    {
      "cell_type": "markdown",
      "source": [
        "Rake-NLTK"
      ],
      "metadata": {
        "id": "yTyQ6IXhnU8C"
      }
    },
    {
      "cell_type": "code",
      "source": [
        "%%capture\n",
        "!pip install rake_nltk"
      ],
      "metadata": {
        "id": "qrG-IMrhZXJ_"
      },
      "execution_count": null,
      "outputs": []
    },
    {
      "cell_type": "code",
      "source": [
        "from rake_nltk import Rake\n",
        "import nltk\n",
        "%%capture\n",
        "nltk.download('stopwords')\n",
        "nltk.download('punkt')"
      ],
      "metadata": {
        "id": "tbjc8ScxY_y6"
      },
      "execution_count": null,
      "outputs": []
    },
    {
      "cell_type": "code",
      "source": [
        "rake_nltk_var = Rake(include_repeated_phrases=False, min_length=1, max_length=3)\n",
        "rake_nltk_var.extract_keywords_from_text(long_text)\n",
        "keyword_extracted = rake_nltk_var.get_ranked_phrases_with_scores()\n",
        "#print(keyword_extracted)"
      ],
      "metadata": {
        "id": "p6u7oC4xZeHn"
      },
      "execution_count": null,
      "outputs": []
    },
    {
      "cell_type": "markdown",
      "source": [
        "Higging Face SetFit training block (alternative to the above)"
      ],
      "metadata": {
        "id": "Oi_tKI3r-56T"
      }
    },
    {
      "cell_type": "code",
      "source": [
        "# Load a SetFit model from Hub\n",
        "model = SetFitModel.from_pretrained(\n",
        "    \"sentence-transformers/paraphrase-mpnet-base-v2\",\n",
        "    use_differentiable_head=True,\n",
        "    head_params={\"out_features\": num_classes},\n",
        ")\n",
        "\n",
        "# Create trainer\n",
        "trainer = SetFitTrainer(\n",
        "    model=model,\n",
        "    train_dataset=train_dataset,\n",
        "    eval_dataset=eval_dataset,\n",
        "    loss_class=CosineSimilarityLoss,\n",
        "    metric=\"accuracy\",\n",
        "    batch_size=16,\n",
        "    num_iterations=20, # The number of text pairs to generate for contrastive learning\n",
        "    num_epochs=1, # The number of epochs to use for contrastive learning\n",
        "    column_mapping={\"sentence\": \"text\", \"label\": \"label\"} # Map dataset columns to text/label expected by trainer\n",
        ")\n",
        "\n",
        "# Train and evaluate\n",
        "trainer.freeze() # Freeze the head\n",
        "trainer.train() # Train only the body\n",
        "\n",
        "# Unfreeze the head and freeze the body -> head-only training\n",
        "trainer.unfreeze(keep_body_frozen=True)\n",
        "# or\n",
        "# Unfreeze the head and unfreeze the body -> end-to-end training\n",
        "trainer.unfreeze(keep_body_frozen=False)\n",
        "\n",
        "trainer.train(\n",
        "    num_epochs=25, # The number of epochs to train the head or the whole model (body and head)\n",
        "    batch_size=16,\n",
        "    body_learning_rate=1e-5, # The body's learning rate\n",
        "    learning_rate=1e-2, # The head's learning rate\n",
        "    l2_weight=0.0, # Weight decay on **both** the body and head. If `None`, will use 0.01.\n",
        ")\n",
        "metrics = trainer.evaluate()\n",
        "\n",
        "# Push model to the Hub\n",
        "trainer.push_to_hub(\"my-awesome-setfit-model\")\n",
        "\n",
        "# Download from Hub and run inference\n",
        "model = SetFitModel.from_pretrained(\"lewtun/my-awesome-setfit-model\")\n",
        "# Run inference\n",
        "preds = model([\"i loved the spiderman movie!\", \"pineapple on pizza is the worst 🤮\"]) "
      ],
      "metadata": {
        "id": "d-Hdtde-RK2s"
      },
      "execution_count": null,
      "outputs": []
    }
  ]
}