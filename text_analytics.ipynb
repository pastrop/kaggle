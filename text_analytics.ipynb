{
  "nbformat": 4,
  "nbformat_minor": 0,
  "metadata": {
    "colab": {
      "provenance": [],
      "authorship_tag": "ABX9TyNja+E65KrEqdC/WX7JQqlC",
      "include_colab_link": true
    },
    "kernelspec": {
      "name": "python3",
      "display_name": "Python 3"
    },
    "language_info": {
      "name": "python"
    },
    "accelerator": "GPU",
    "gpuClass": "standard",
    "widgets": {
      "application/vnd.jupyter.widget-state+json": {
        "5219c6d1a97a41a5b836225f4bce4ecc": {
          "model_module": "@jupyter-widgets/controls",
          "model_name": "HBoxModel",
          "model_module_version": "1.5.0",
          "state": {
            "_dom_classes": [],
            "_model_module": "@jupyter-widgets/controls",
            "_model_module_version": "1.5.0",
            "_model_name": "HBoxModel",
            "_view_count": null,
            "_view_module": "@jupyter-widgets/controls",
            "_view_module_version": "1.5.0",
            "_view_name": "HBoxView",
            "box_style": "",
            "children": [
              "IPY_MODEL_e324ae1f56ab48b58f202ba0248b46c2",
              "IPY_MODEL_28f62e2acc1f46ebb6750fab386ae586",
              "IPY_MODEL_0d09bc73cce842119c3a64bde63ad49d"
            ],
            "layout": "IPY_MODEL_9e93c1c0cc03404c96ed530b11d51415"
          }
        },
        "e324ae1f56ab48b58f202ba0248b46c2": {
          "model_module": "@jupyter-widgets/controls",
          "model_name": "HTMLModel",
          "model_module_version": "1.5.0",
          "state": {
            "_dom_classes": [],
            "_model_module": "@jupyter-widgets/controls",
            "_model_module_version": "1.5.0",
            "_model_name": "HTMLModel",
            "_view_count": null,
            "_view_module": "@jupyter-widgets/controls",
            "_view_module_version": "1.5.0",
            "_view_name": "HTMLView",
            "description": "",
            "description_tooltip": null,
            "layout": "IPY_MODEL_f20db5a526dd44a69b321406f535ef0f",
            "placeholder": "​",
            "style": "IPY_MODEL_00d82f3c8aa04a189368fc6ade7b3de8",
            "value": "Epoch: 100%"
          }
        },
        "28f62e2acc1f46ebb6750fab386ae586": {
          "model_module": "@jupyter-widgets/controls",
          "model_name": "FloatProgressModel",
          "model_module_version": "1.5.0",
          "state": {
            "_dom_classes": [],
            "_model_module": "@jupyter-widgets/controls",
            "_model_module_version": "1.5.0",
            "_model_name": "FloatProgressModel",
            "_view_count": null,
            "_view_module": "@jupyter-widgets/controls",
            "_view_module_version": "1.5.0",
            "_view_name": "ProgressView",
            "bar_style": "success",
            "description": "",
            "description_tooltip": null,
            "layout": "IPY_MODEL_46ce5dc97431472ba0f2cd3681adde03",
            "max": 1,
            "min": 0,
            "orientation": "horizontal",
            "style": "IPY_MODEL_fb444675e2bb46bcac60ead080c48f9d",
            "value": 1
          }
        },
        "0d09bc73cce842119c3a64bde63ad49d": {
          "model_module": "@jupyter-widgets/controls",
          "model_name": "HTMLModel",
          "model_module_version": "1.5.0",
          "state": {
            "_dom_classes": [],
            "_model_module": "@jupyter-widgets/controls",
            "_model_module_version": "1.5.0",
            "_model_name": "HTMLModel",
            "_view_count": null,
            "_view_module": "@jupyter-widgets/controls",
            "_view_module_version": "1.5.0",
            "_view_name": "HTMLView",
            "description": "",
            "description_tooltip": null,
            "layout": "IPY_MODEL_50b04ab4764742699f2bcde85fc9504c",
            "placeholder": "​",
            "style": "IPY_MODEL_7a0a01e12b3b455dbb05534881e78d83",
            "value": " 1/1 [01:12&lt;00:00, 72.34s/it]"
          }
        },
        "9e93c1c0cc03404c96ed530b11d51415": {
          "model_module": "@jupyter-widgets/base",
          "model_name": "LayoutModel",
          "model_module_version": "1.2.0",
          "state": {
            "_model_module": "@jupyter-widgets/base",
            "_model_module_version": "1.2.0",
            "_model_name": "LayoutModel",
            "_view_count": null,
            "_view_module": "@jupyter-widgets/base",
            "_view_module_version": "1.2.0",
            "_view_name": "LayoutView",
            "align_content": null,
            "align_items": null,
            "align_self": null,
            "border": null,
            "bottom": null,
            "display": null,
            "flex": null,
            "flex_flow": null,
            "grid_area": null,
            "grid_auto_columns": null,
            "grid_auto_flow": null,
            "grid_auto_rows": null,
            "grid_column": null,
            "grid_gap": null,
            "grid_row": null,
            "grid_template_areas": null,
            "grid_template_columns": null,
            "grid_template_rows": null,
            "height": null,
            "justify_content": null,
            "justify_items": null,
            "left": null,
            "margin": null,
            "max_height": null,
            "max_width": null,
            "min_height": null,
            "min_width": null,
            "object_fit": null,
            "object_position": null,
            "order": null,
            "overflow": null,
            "overflow_x": null,
            "overflow_y": null,
            "padding": null,
            "right": null,
            "top": null,
            "visibility": null,
            "width": null
          }
        },
        "f20db5a526dd44a69b321406f535ef0f": {
          "model_module": "@jupyter-widgets/base",
          "model_name": "LayoutModel",
          "model_module_version": "1.2.0",
          "state": {
            "_model_module": "@jupyter-widgets/base",
            "_model_module_version": "1.2.0",
            "_model_name": "LayoutModel",
            "_view_count": null,
            "_view_module": "@jupyter-widgets/base",
            "_view_module_version": "1.2.0",
            "_view_name": "LayoutView",
            "align_content": null,
            "align_items": null,
            "align_self": null,
            "border": null,
            "bottom": null,
            "display": null,
            "flex": null,
            "flex_flow": null,
            "grid_area": null,
            "grid_auto_columns": null,
            "grid_auto_flow": null,
            "grid_auto_rows": null,
            "grid_column": null,
            "grid_gap": null,
            "grid_row": null,
            "grid_template_areas": null,
            "grid_template_columns": null,
            "grid_template_rows": null,
            "height": null,
            "justify_content": null,
            "justify_items": null,
            "left": null,
            "margin": null,
            "max_height": null,
            "max_width": null,
            "min_height": null,
            "min_width": null,
            "object_fit": null,
            "object_position": null,
            "order": null,
            "overflow": null,
            "overflow_x": null,
            "overflow_y": null,
            "padding": null,
            "right": null,
            "top": null,
            "visibility": null,
            "width": null
          }
        },
        "00d82f3c8aa04a189368fc6ade7b3de8": {
          "model_module": "@jupyter-widgets/controls",
          "model_name": "DescriptionStyleModel",
          "model_module_version": "1.5.0",
          "state": {
            "_model_module": "@jupyter-widgets/controls",
            "_model_module_version": "1.5.0",
            "_model_name": "DescriptionStyleModel",
            "_view_count": null,
            "_view_module": "@jupyter-widgets/base",
            "_view_module_version": "1.2.0",
            "_view_name": "StyleView",
            "description_width": ""
          }
        },
        "46ce5dc97431472ba0f2cd3681adde03": {
          "model_module": "@jupyter-widgets/base",
          "model_name": "LayoutModel",
          "model_module_version": "1.2.0",
          "state": {
            "_model_module": "@jupyter-widgets/base",
            "_model_module_version": "1.2.0",
            "_model_name": "LayoutModel",
            "_view_count": null,
            "_view_module": "@jupyter-widgets/base",
            "_view_module_version": "1.2.0",
            "_view_name": "LayoutView",
            "align_content": null,
            "align_items": null,
            "align_self": null,
            "border": null,
            "bottom": null,
            "display": null,
            "flex": null,
            "flex_flow": null,
            "grid_area": null,
            "grid_auto_columns": null,
            "grid_auto_flow": null,
            "grid_auto_rows": null,
            "grid_column": null,
            "grid_gap": null,
            "grid_row": null,
            "grid_template_areas": null,
            "grid_template_columns": null,
            "grid_template_rows": null,
            "height": null,
            "justify_content": null,
            "justify_items": null,
            "left": null,
            "margin": null,
            "max_height": null,
            "max_width": null,
            "min_height": null,
            "min_width": null,
            "object_fit": null,
            "object_position": null,
            "order": null,
            "overflow": null,
            "overflow_x": null,
            "overflow_y": null,
            "padding": null,
            "right": null,
            "top": null,
            "visibility": null,
            "width": null
          }
        },
        "fb444675e2bb46bcac60ead080c48f9d": {
          "model_module": "@jupyter-widgets/controls",
          "model_name": "ProgressStyleModel",
          "model_module_version": "1.5.0",
          "state": {
            "_model_module": "@jupyter-widgets/controls",
            "_model_module_version": "1.5.0",
            "_model_name": "ProgressStyleModel",
            "_view_count": null,
            "_view_module": "@jupyter-widgets/base",
            "_view_module_version": "1.2.0",
            "_view_name": "StyleView",
            "bar_color": null,
            "description_width": ""
          }
        },
        "50b04ab4764742699f2bcde85fc9504c": {
          "model_module": "@jupyter-widgets/base",
          "model_name": "LayoutModel",
          "model_module_version": "1.2.0",
          "state": {
            "_model_module": "@jupyter-widgets/base",
            "_model_module_version": "1.2.0",
            "_model_name": "LayoutModel",
            "_view_count": null,
            "_view_module": "@jupyter-widgets/base",
            "_view_module_version": "1.2.0",
            "_view_name": "LayoutView",
            "align_content": null,
            "align_items": null,
            "align_self": null,
            "border": null,
            "bottom": null,
            "display": null,
            "flex": null,
            "flex_flow": null,
            "grid_area": null,
            "grid_auto_columns": null,
            "grid_auto_flow": null,
            "grid_auto_rows": null,
            "grid_column": null,
            "grid_gap": null,
            "grid_row": null,
            "grid_template_areas": null,
            "grid_template_columns": null,
            "grid_template_rows": null,
            "height": null,
            "justify_content": null,
            "justify_items": null,
            "left": null,
            "margin": null,
            "max_height": null,
            "max_width": null,
            "min_height": null,
            "min_width": null,
            "object_fit": null,
            "object_position": null,
            "order": null,
            "overflow": null,
            "overflow_x": null,
            "overflow_y": null,
            "padding": null,
            "right": null,
            "top": null,
            "visibility": null,
            "width": null
          }
        },
        "7a0a01e12b3b455dbb05534881e78d83": {
          "model_module": "@jupyter-widgets/controls",
          "model_name": "DescriptionStyleModel",
          "model_module_version": "1.5.0",
          "state": {
            "_model_module": "@jupyter-widgets/controls",
            "_model_module_version": "1.5.0",
            "_model_name": "DescriptionStyleModel",
            "_view_count": null,
            "_view_module": "@jupyter-widgets/base",
            "_view_module_version": "1.2.0",
            "_view_name": "StyleView",
            "description_width": ""
          }
        },
        "0ec9b6f53cfa40d9878df59956840c43": {
          "model_module": "@jupyter-widgets/controls",
          "model_name": "HBoxModel",
          "model_module_version": "1.5.0",
          "state": {
            "_dom_classes": [],
            "_model_module": "@jupyter-widgets/controls",
            "_model_module_version": "1.5.0",
            "_model_name": "HBoxModel",
            "_view_count": null,
            "_view_module": "@jupyter-widgets/controls",
            "_view_module_version": "1.5.0",
            "_view_name": "HBoxView",
            "box_style": "",
            "children": [
              "IPY_MODEL_1389910761d348c991766bd059717868",
              "IPY_MODEL_f54806014a1e4b80a64f627cbee7dc3b",
              "IPY_MODEL_18eeab46acb94194a5ed42647a3b5475"
            ],
            "layout": "IPY_MODEL_f7e0533bc5d0408dbc919d306300b9d7"
          }
        },
        "1389910761d348c991766bd059717868": {
          "model_module": "@jupyter-widgets/controls",
          "model_name": "HTMLModel",
          "model_module_version": "1.5.0",
          "state": {
            "_dom_classes": [],
            "_model_module": "@jupyter-widgets/controls",
            "_model_module_version": "1.5.0",
            "_model_name": "HTMLModel",
            "_view_count": null,
            "_view_module": "@jupyter-widgets/controls",
            "_view_module_version": "1.5.0",
            "_view_name": "HTMLView",
            "description": "",
            "description_tooltip": null,
            "layout": "IPY_MODEL_28b2c60aa35249a0ba5d6237857e089d",
            "placeholder": "​",
            "style": "IPY_MODEL_83e062bfcab941b98b40dcca6073e5ea",
            "value": "Iteration: 100%"
          }
        },
        "f54806014a1e4b80a64f627cbee7dc3b": {
          "model_module": "@jupyter-widgets/controls",
          "model_name": "FloatProgressModel",
          "model_module_version": "1.5.0",
          "state": {
            "_dom_classes": [],
            "_model_module": "@jupyter-widgets/controls",
            "_model_module_version": "1.5.0",
            "_model_name": "FloatProgressModel",
            "_view_count": null,
            "_view_module": "@jupyter-widgets/controls",
            "_view_module_version": "1.5.0",
            "_view_name": "ProgressView",
            "bar_style": "success",
            "description": "",
            "description_tooltip": null,
            "layout": "IPY_MODEL_b6612e9d659a4016b34077eff7c76f8d",
            "max": 40,
            "min": 0,
            "orientation": "horizontal",
            "style": "IPY_MODEL_603f3628ff0b4cc4901145912617281d",
            "value": 40
          }
        },
        "18eeab46acb94194a5ed42647a3b5475": {
          "model_module": "@jupyter-widgets/controls",
          "model_name": "HTMLModel",
          "model_module_version": "1.5.0",
          "state": {
            "_dom_classes": [],
            "_model_module": "@jupyter-widgets/controls",
            "_model_module_version": "1.5.0",
            "_model_name": "HTMLModel",
            "_view_count": null,
            "_view_module": "@jupyter-widgets/controls",
            "_view_module_version": "1.5.0",
            "_view_name": "HTMLView",
            "description": "",
            "description_tooltip": null,
            "layout": "IPY_MODEL_3316fe6347fb47858a527b8e679e5368",
            "placeholder": "​",
            "style": "IPY_MODEL_0d13d25566a940d6a97a75df88914ca4",
            "value": " 40/40 [01:12&lt;00:00,  1.77s/it]"
          }
        },
        "f7e0533bc5d0408dbc919d306300b9d7": {
          "model_module": "@jupyter-widgets/base",
          "model_name": "LayoutModel",
          "model_module_version": "1.2.0",
          "state": {
            "_model_module": "@jupyter-widgets/base",
            "_model_module_version": "1.2.0",
            "_model_name": "LayoutModel",
            "_view_count": null,
            "_view_module": "@jupyter-widgets/base",
            "_view_module_version": "1.2.0",
            "_view_name": "LayoutView",
            "align_content": null,
            "align_items": null,
            "align_self": null,
            "border": null,
            "bottom": null,
            "display": null,
            "flex": null,
            "flex_flow": null,
            "grid_area": null,
            "grid_auto_columns": null,
            "grid_auto_flow": null,
            "grid_auto_rows": null,
            "grid_column": null,
            "grid_gap": null,
            "grid_row": null,
            "grid_template_areas": null,
            "grid_template_columns": null,
            "grid_template_rows": null,
            "height": null,
            "justify_content": null,
            "justify_items": null,
            "left": null,
            "margin": null,
            "max_height": null,
            "max_width": null,
            "min_height": null,
            "min_width": null,
            "object_fit": null,
            "object_position": null,
            "order": null,
            "overflow": null,
            "overflow_x": null,
            "overflow_y": null,
            "padding": null,
            "right": null,
            "top": null,
            "visibility": null,
            "width": null
          }
        },
        "28b2c60aa35249a0ba5d6237857e089d": {
          "model_module": "@jupyter-widgets/base",
          "model_name": "LayoutModel",
          "model_module_version": "1.2.0",
          "state": {
            "_model_module": "@jupyter-widgets/base",
            "_model_module_version": "1.2.0",
            "_model_name": "LayoutModel",
            "_view_count": null,
            "_view_module": "@jupyter-widgets/base",
            "_view_module_version": "1.2.0",
            "_view_name": "LayoutView",
            "align_content": null,
            "align_items": null,
            "align_self": null,
            "border": null,
            "bottom": null,
            "display": null,
            "flex": null,
            "flex_flow": null,
            "grid_area": null,
            "grid_auto_columns": null,
            "grid_auto_flow": null,
            "grid_auto_rows": null,
            "grid_column": null,
            "grid_gap": null,
            "grid_row": null,
            "grid_template_areas": null,
            "grid_template_columns": null,
            "grid_template_rows": null,
            "height": null,
            "justify_content": null,
            "justify_items": null,
            "left": null,
            "margin": null,
            "max_height": null,
            "max_width": null,
            "min_height": null,
            "min_width": null,
            "object_fit": null,
            "object_position": null,
            "order": null,
            "overflow": null,
            "overflow_x": null,
            "overflow_y": null,
            "padding": null,
            "right": null,
            "top": null,
            "visibility": null,
            "width": null
          }
        },
        "83e062bfcab941b98b40dcca6073e5ea": {
          "model_module": "@jupyter-widgets/controls",
          "model_name": "DescriptionStyleModel",
          "model_module_version": "1.5.0",
          "state": {
            "_model_module": "@jupyter-widgets/controls",
            "_model_module_version": "1.5.0",
            "_model_name": "DescriptionStyleModel",
            "_view_count": null,
            "_view_module": "@jupyter-widgets/base",
            "_view_module_version": "1.2.0",
            "_view_name": "StyleView",
            "description_width": ""
          }
        },
        "b6612e9d659a4016b34077eff7c76f8d": {
          "model_module": "@jupyter-widgets/base",
          "model_name": "LayoutModel",
          "model_module_version": "1.2.0",
          "state": {
            "_model_module": "@jupyter-widgets/base",
            "_model_module_version": "1.2.0",
            "_model_name": "LayoutModel",
            "_view_count": null,
            "_view_module": "@jupyter-widgets/base",
            "_view_module_version": "1.2.0",
            "_view_name": "LayoutView",
            "align_content": null,
            "align_items": null,
            "align_self": null,
            "border": null,
            "bottom": null,
            "display": null,
            "flex": null,
            "flex_flow": null,
            "grid_area": null,
            "grid_auto_columns": null,
            "grid_auto_flow": null,
            "grid_auto_rows": null,
            "grid_column": null,
            "grid_gap": null,
            "grid_row": null,
            "grid_template_areas": null,
            "grid_template_columns": null,
            "grid_template_rows": null,
            "height": null,
            "justify_content": null,
            "justify_items": null,
            "left": null,
            "margin": null,
            "max_height": null,
            "max_width": null,
            "min_height": null,
            "min_width": null,
            "object_fit": null,
            "object_position": null,
            "order": null,
            "overflow": null,
            "overflow_x": null,
            "overflow_y": null,
            "padding": null,
            "right": null,
            "top": null,
            "visibility": null,
            "width": null
          }
        },
        "603f3628ff0b4cc4901145912617281d": {
          "model_module": "@jupyter-widgets/controls",
          "model_name": "ProgressStyleModel",
          "model_module_version": "1.5.0",
          "state": {
            "_model_module": "@jupyter-widgets/controls",
            "_model_module_version": "1.5.0",
            "_model_name": "ProgressStyleModel",
            "_view_count": null,
            "_view_module": "@jupyter-widgets/base",
            "_view_module_version": "1.2.0",
            "_view_name": "StyleView",
            "bar_color": null,
            "description_width": ""
          }
        },
        "3316fe6347fb47858a527b8e679e5368": {
          "model_module": "@jupyter-widgets/base",
          "model_name": "LayoutModel",
          "model_module_version": "1.2.0",
          "state": {
            "_model_module": "@jupyter-widgets/base",
            "_model_module_version": "1.2.0",
            "_model_name": "LayoutModel",
            "_view_count": null,
            "_view_module": "@jupyter-widgets/base",
            "_view_module_version": "1.2.0",
            "_view_name": "LayoutView",
            "align_content": null,
            "align_items": null,
            "align_self": null,
            "border": null,
            "bottom": null,
            "display": null,
            "flex": null,
            "flex_flow": null,
            "grid_area": null,
            "grid_auto_columns": null,
            "grid_auto_flow": null,
            "grid_auto_rows": null,
            "grid_column": null,
            "grid_gap": null,
            "grid_row": null,
            "grid_template_areas": null,
            "grid_template_columns": null,
            "grid_template_rows": null,
            "height": null,
            "justify_content": null,
            "justify_items": null,
            "left": null,
            "margin": null,
            "max_height": null,
            "max_width": null,
            "min_height": null,
            "min_width": null,
            "object_fit": null,
            "object_position": null,
            "order": null,
            "overflow": null,
            "overflow_x": null,
            "overflow_y": null,
            "padding": null,
            "right": null,
            "top": null,
            "visibility": null,
            "width": null
          }
        },
        "0d13d25566a940d6a97a75df88914ca4": {
          "model_module": "@jupyter-widgets/controls",
          "model_name": "DescriptionStyleModel",
          "model_module_version": "1.5.0",
          "state": {
            "_model_module": "@jupyter-widgets/controls",
            "_model_module_version": "1.5.0",
            "_model_name": "DescriptionStyleModel",
            "_view_count": null,
            "_view_module": "@jupyter-widgets/base",
            "_view_module_version": "1.2.0",
            "_view_name": "StyleView",
            "description_width": ""
          }
        },
        "7d456299de5b43cf9618d74d91dd3549": {
          "model_module": "@jupyter-widgets/controls",
          "model_name": "HBoxModel",
          "model_module_version": "1.5.0",
          "state": {
            "_dom_classes": [],
            "_model_module": "@jupyter-widgets/controls",
            "_model_module_version": "1.5.0",
            "_model_name": "HBoxModel",
            "_view_count": null,
            "_view_module": "@jupyter-widgets/controls",
            "_view_module_version": "1.5.0",
            "_view_name": "HBoxView",
            "box_style": "",
            "children": [
              "IPY_MODEL_2d971284f1a84cea803f4d536dc54530",
              "IPY_MODEL_5d047da4734441a4adc0ff5ac8d3bfdc",
              "IPY_MODEL_1479e3d3afcc453889291b2f51550d5d"
            ],
            "layout": "IPY_MODEL_626743adfe2d473fbe8ee330f50e85c3"
          }
        },
        "2d971284f1a84cea803f4d536dc54530": {
          "model_module": "@jupyter-widgets/controls",
          "model_name": "HTMLModel",
          "model_module_version": "1.5.0",
          "state": {
            "_dom_classes": [],
            "_model_module": "@jupyter-widgets/controls",
            "_model_module_version": "1.5.0",
            "_model_name": "HTMLModel",
            "_view_count": null,
            "_view_module": "@jupyter-widgets/controls",
            "_view_module_version": "1.5.0",
            "_view_name": "HTMLView",
            "description": "",
            "description_tooltip": null,
            "layout": "IPY_MODEL_f09e1c1a289c455da6a4837de5d5a6d4",
            "placeholder": "​",
            "style": "IPY_MODEL_24f7ac6b4c83468eabaab2376104e92b",
            "value": "Downloading builder script: 100%"
          }
        },
        "5d047da4734441a4adc0ff5ac8d3bfdc": {
          "model_module": "@jupyter-widgets/controls",
          "model_name": "FloatProgressModel",
          "model_module_version": "1.5.0",
          "state": {
            "_dom_classes": [],
            "_model_module": "@jupyter-widgets/controls",
            "_model_module_version": "1.5.0",
            "_model_name": "FloatProgressModel",
            "_view_count": null,
            "_view_module": "@jupyter-widgets/controls",
            "_view_module_version": "1.5.0",
            "_view_name": "ProgressView",
            "bar_style": "success",
            "description": "",
            "description_tooltip": null,
            "layout": "IPY_MODEL_1bc7a45b36d44f24bb4b92e6da417218",
            "max": 4203,
            "min": 0,
            "orientation": "horizontal",
            "style": "IPY_MODEL_5b7ab18dad764063899f1b22e9366c8e",
            "value": 4203
          }
        },
        "1479e3d3afcc453889291b2f51550d5d": {
          "model_module": "@jupyter-widgets/controls",
          "model_name": "HTMLModel",
          "model_module_version": "1.5.0",
          "state": {
            "_dom_classes": [],
            "_model_module": "@jupyter-widgets/controls",
            "_model_module_version": "1.5.0",
            "_model_name": "HTMLModel",
            "_view_count": null,
            "_view_module": "@jupyter-widgets/controls",
            "_view_module_version": "1.5.0",
            "_view_name": "HTMLView",
            "description": "",
            "description_tooltip": null,
            "layout": "IPY_MODEL_8b37a843feed4b9896d33cda9ec56588",
            "placeholder": "​",
            "style": "IPY_MODEL_be15de349eb245cc88b78802daffeb7c",
            "value": " 4.20k/4.20k [00:00&lt;00:00, 247kB/s]"
          }
        },
        "626743adfe2d473fbe8ee330f50e85c3": {
          "model_module": "@jupyter-widgets/base",
          "model_name": "LayoutModel",
          "model_module_version": "1.2.0",
          "state": {
            "_model_module": "@jupyter-widgets/base",
            "_model_module_version": "1.2.0",
            "_model_name": "LayoutModel",
            "_view_count": null,
            "_view_module": "@jupyter-widgets/base",
            "_view_module_version": "1.2.0",
            "_view_name": "LayoutView",
            "align_content": null,
            "align_items": null,
            "align_self": null,
            "border": null,
            "bottom": null,
            "display": null,
            "flex": null,
            "flex_flow": null,
            "grid_area": null,
            "grid_auto_columns": null,
            "grid_auto_flow": null,
            "grid_auto_rows": null,
            "grid_column": null,
            "grid_gap": null,
            "grid_row": null,
            "grid_template_areas": null,
            "grid_template_columns": null,
            "grid_template_rows": null,
            "height": null,
            "justify_content": null,
            "justify_items": null,
            "left": null,
            "margin": null,
            "max_height": null,
            "max_width": null,
            "min_height": null,
            "min_width": null,
            "object_fit": null,
            "object_position": null,
            "order": null,
            "overflow": null,
            "overflow_x": null,
            "overflow_y": null,
            "padding": null,
            "right": null,
            "top": null,
            "visibility": null,
            "width": null
          }
        },
        "f09e1c1a289c455da6a4837de5d5a6d4": {
          "model_module": "@jupyter-widgets/base",
          "model_name": "LayoutModel",
          "model_module_version": "1.2.0",
          "state": {
            "_model_module": "@jupyter-widgets/base",
            "_model_module_version": "1.2.0",
            "_model_name": "LayoutModel",
            "_view_count": null,
            "_view_module": "@jupyter-widgets/base",
            "_view_module_version": "1.2.0",
            "_view_name": "LayoutView",
            "align_content": null,
            "align_items": null,
            "align_self": null,
            "border": null,
            "bottom": null,
            "display": null,
            "flex": null,
            "flex_flow": null,
            "grid_area": null,
            "grid_auto_columns": null,
            "grid_auto_flow": null,
            "grid_auto_rows": null,
            "grid_column": null,
            "grid_gap": null,
            "grid_row": null,
            "grid_template_areas": null,
            "grid_template_columns": null,
            "grid_template_rows": null,
            "height": null,
            "justify_content": null,
            "justify_items": null,
            "left": null,
            "margin": null,
            "max_height": null,
            "max_width": null,
            "min_height": null,
            "min_width": null,
            "object_fit": null,
            "object_position": null,
            "order": null,
            "overflow": null,
            "overflow_x": null,
            "overflow_y": null,
            "padding": null,
            "right": null,
            "top": null,
            "visibility": null,
            "width": null
          }
        },
        "24f7ac6b4c83468eabaab2376104e92b": {
          "model_module": "@jupyter-widgets/controls",
          "model_name": "DescriptionStyleModel",
          "model_module_version": "1.5.0",
          "state": {
            "_model_module": "@jupyter-widgets/controls",
            "_model_module_version": "1.5.0",
            "_model_name": "DescriptionStyleModel",
            "_view_count": null,
            "_view_module": "@jupyter-widgets/base",
            "_view_module_version": "1.2.0",
            "_view_name": "StyleView",
            "description_width": ""
          }
        },
        "1bc7a45b36d44f24bb4b92e6da417218": {
          "model_module": "@jupyter-widgets/base",
          "model_name": "LayoutModel",
          "model_module_version": "1.2.0",
          "state": {
            "_model_module": "@jupyter-widgets/base",
            "_model_module_version": "1.2.0",
            "_model_name": "LayoutModel",
            "_view_count": null,
            "_view_module": "@jupyter-widgets/base",
            "_view_module_version": "1.2.0",
            "_view_name": "LayoutView",
            "align_content": null,
            "align_items": null,
            "align_self": null,
            "border": null,
            "bottom": null,
            "display": null,
            "flex": null,
            "flex_flow": null,
            "grid_area": null,
            "grid_auto_columns": null,
            "grid_auto_flow": null,
            "grid_auto_rows": null,
            "grid_column": null,
            "grid_gap": null,
            "grid_row": null,
            "grid_template_areas": null,
            "grid_template_columns": null,
            "grid_template_rows": null,
            "height": null,
            "justify_content": null,
            "justify_items": null,
            "left": null,
            "margin": null,
            "max_height": null,
            "max_width": null,
            "min_height": null,
            "min_width": null,
            "object_fit": null,
            "object_position": null,
            "order": null,
            "overflow": null,
            "overflow_x": null,
            "overflow_y": null,
            "padding": null,
            "right": null,
            "top": null,
            "visibility": null,
            "width": null
          }
        },
        "5b7ab18dad764063899f1b22e9366c8e": {
          "model_module": "@jupyter-widgets/controls",
          "model_name": "ProgressStyleModel",
          "model_module_version": "1.5.0",
          "state": {
            "_model_module": "@jupyter-widgets/controls",
            "_model_module_version": "1.5.0",
            "_model_name": "ProgressStyleModel",
            "_view_count": null,
            "_view_module": "@jupyter-widgets/base",
            "_view_module_version": "1.2.0",
            "_view_name": "StyleView",
            "bar_color": null,
            "description_width": ""
          }
        },
        "8b37a843feed4b9896d33cda9ec56588": {
          "model_module": "@jupyter-widgets/base",
          "model_name": "LayoutModel",
          "model_module_version": "1.2.0",
          "state": {
            "_model_module": "@jupyter-widgets/base",
            "_model_module_version": "1.2.0",
            "_model_name": "LayoutModel",
            "_view_count": null,
            "_view_module": "@jupyter-widgets/base",
            "_view_module_version": "1.2.0",
            "_view_name": "LayoutView",
            "align_content": null,
            "align_items": null,
            "align_self": null,
            "border": null,
            "bottom": null,
            "display": null,
            "flex": null,
            "flex_flow": null,
            "grid_area": null,
            "grid_auto_columns": null,
            "grid_auto_flow": null,
            "grid_auto_rows": null,
            "grid_column": null,
            "grid_gap": null,
            "grid_row": null,
            "grid_template_areas": null,
            "grid_template_columns": null,
            "grid_template_rows": null,
            "height": null,
            "justify_content": null,
            "justify_items": null,
            "left": null,
            "margin": null,
            "max_height": null,
            "max_width": null,
            "min_height": null,
            "min_width": null,
            "object_fit": null,
            "object_position": null,
            "order": null,
            "overflow": null,
            "overflow_x": null,
            "overflow_y": null,
            "padding": null,
            "right": null,
            "top": null,
            "visibility": null,
            "width": null
          }
        },
        "be15de349eb245cc88b78802daffeb7c": {
          "model_module": "@jupyter-widgets/controls",
          "model_name": "DescriptionStyleModel",
          "model_module_version": "1.5.0",
          "state": {
            "_model_module": "@jupyter-widgets/controls",
            "_model_module_version": "1.5.0",
            "_model_name": "DescriptionStyleModel",
            "_view_count": null,
            "_view_module": "@jupyter-widgets/base",
            "_view_module_version": "1.2.0",
            "_view_name": "StyleView",
            "description_width": ""
          }
        },
        "5e544744b18a48a0a3cbe0f97904970c": {
          "model_module": "@jupyter-widgets/controls",
          "model_name": "HBoxModel",
          "model_module_version": "1.5.0",
          "state": {
            "_dom_classes": [],
            "_model_module": "@jupyter-widgets/controls",
            "_model_module_version": "1.5.0",
            "_model_name": "HBoxModel",
            "_view_count": null,
            "_view_module": "@jupyter-widgets/controls",
            "_view_module_version": "1.5.0",
            "_view_name": "HBoxView",
            "box_style": "",
            "children": [
              "IPY_MODEL_412ae2108b904f17af9e8300909cbe38",
              "IPY_MODEL_6af174736dc24243b8e76efb94bc56e8",
              "IPY_MODEL_af32541386f04b9f9d71dfd8c49fe9d3"
            ],
            "layout": "IPY_MODEL_a55d095ecef446ed94745cb305b11805"
          }
        },
        "412ae2108b904f17af9e8300909cbe38": {
          "model_module": "@jupyter-widgets/controls",
          "model_name": "HTMLModel",
          "model_module_version": "1.5.0",
          "state": {
            "_dom_classes": [],
            "_model_module": "@jupyter-widgets/controls",
            "_model_module_version": "1.5.0",
            "_model_name": "HTMLModel",
            "_view_count": null,
            "_view_module": "@jupyter-widgets/controls",
            "_view_module_version": "1.5.0",
            "_view_name": "HTMLView",
            "description": "",
            "description_tooltip": null,
            "layout": "IPY_MODEL_45f46bdc0eaa4eada8b983951c0690c7",
            "placeholder": "​",
            "style": "IPY_MODEL_10e48a34147741c884d9ecaeb81990a2",
            "value": ""
          }
        },
        "6af174736dc24243b8e76efb94bc56e8": {
          "model_module": "@jupyter-widgets/controls",
          "model_name": "FloatProgressModel",
          "model_module_version": "1.5.0",
          "state": {
            "_dom_classes": [],
            "_model_module": "@jupyter-widgets/controls",
            "_model_module_version": "1.5.0",
            "_model_name": "FloatProgressModel",
            "_view_count": null,
            "_view_module": "@jupyter-widgets/controls",
            "_view_module_version": "1.5.0",
            "_view_name": "ProgressView",
            "bar_style": "success",
            "description": "",
            "description_tooltip": null,
            "layout": "IPY_MODEL_949ee5e24ce5409499acd681aba2cc7a",
            "max": 1,
            "min": 0,
            "orientation": "horizontal",
            "style": "IPY_MODEL_661e066a6c694bb9a1917d26288819ec",
            "value": 1
          }
        },
        "af32541386f04b9f9d71dfd8c49fe9d3": {
          "model_module": "@jupyter-widgets/controls",
          "model_name": "HTMLModel",
          "model_module_version": "1.5.0",
          "state": {
            "_dom_classes": [],
            "_model_module": "@jupyter-widgets/controls",
            "_model_module_version": "1.5.0",
            "_model_name": "HTMLModel",
            "_view_count": null,
            "_view_module": "@jupyter-widgets/controls",
            "_view_module_version": "1.5.0",
            "_view_name": "HTMLView",
            "description": "",
            "description_tooltip": null,
            "layout": "IPY_MODEL_337a9571b437432c8af53bbcccf6da5a",
            "placeholder": "​",
            "style": "IPY_MODEL_eefe2ae7e8c94b3796458e184a76aff1",
            "value": " 4/? [00:00&lt;00:00,  6.59it/s]"
          }
        },
        "a55d095ecef446ed94745cb305b11805": {
          "model_module": "@jupyter-widgets/base",
          "model_name": "LayoutModel",
          "model_module_version": "1.2.0",
          "state": {
            "_model_module": "@jupyter-widgets/base",
            "_model_module_version": "1.2.0",
            "_model_name": "LayoutModel",
            "_view_count": null,
            "_view_module": "@jupyter-widgets/base",
            "_view_module_version": "1.2.0",
            "_view_name": "LayoutView",
            "align_content": null,
            "align_items": null,
            "align_self": null,
            "border": null,
            "bottom": null,
            "display": null,
            "flex": null,
            "flex_flow": null,
            "grid_area": null,
            "grid_auto_columns": null,
            "grid_auto_flow": null,
            "grid_auto_rows": null,
            "grid_column": null,
            "grid_gap": null,
            "grid_row": null,
            "grid_template_areas": null,
            "grid_template_columns": null,
            "grid_template_rows": null,
            "height": null,
            "justify_content": null,
            "justify_items": null,
            "left": null,
            "margin": null,
            "max_height": null,
            "max_width": null,
            "min_height": null,
            "min_width": null,
            "object_fit": null,
            "object_position": null,
            "order": null,
            "overflow": null,
            "overflow_x": null,
            "overflow_y": null,
            "padding": null,
            "right": null,
            "top": null,
            "visibility": null,
            "width": null
          }
        },
        "45f46bdc0eaa4eada8b983951c0690c7": {
          "model_module": "@jupyter-widgets/base",
          "model_name": "LayoutModel",
          "model_module_version": "1.2.0",
          "state": {
            "_model_module": "@jupyter-widgets/base",
            "_model_module_version": "1.2.0",
            "_model_name": "LayoutModel",
            "_view_count": null,
            "_view_module": "@jupyter-widgets/base",
            "_view_module_version": "1.2.0",
            "_view_name": "LayoutView",
            "align_content": null,
            "align_items": null,
            "align_self": null,
            "border": null,
            "bottom": null,
            "display": null,
            "flex": null,
            "flex_flow": null,
            "grid_area": null,
            "grid_auto_columns": null,
            "grid_auto_flow": null,
            "grid_auto_rows": null,
            "grid_column": null,
            "grid_gap": null,
            "grid_row": null,
            "grid_template_areas": null,
            "grid_template_columns": null,
            "grid_template_rows": null,
            "height": null,
            "justify_content": null,
            "justify_items": null,
            "left": null,
            "margin": null,
            "max_height": null,
            "max_width": null,
            "min_height": null,
            "min_width": null,
            "object_fit": null,
            "object_position": null,
            "order": null,
            "overflow": null,
            "overflow_x": null,
            "overflow_y": null,
            "padding": null,
            "right": null,
            "top": null,
            "visibility": null,
            "width": null
          }
        },
        "10e48a34147741c884d9ecaeb81990a2": {
          "model_module": "@jupyter-widgets/controls",
          "model_name": "DescriptionStyleModel",
          "model_module_version": "1.5.0",
          "state": {
            "_model_module": "@jupyter-widgets/controls",
            "_model_module_version": "1.5.0",
            "_model_name": "DescriptionStyleModel",
            "_view_count": null,
            "_view_module": "@jupyter-widgets/base",
            "_view_module_version": "1.2.0",
            "_view_name": "StyleView",
            "description_width": ""
          }
        },
        "949ee5e24ce5409499acd681aba2cc7a": {
          "model_module": "@jupyter-widgets/base",
          "model_name": "LayoutModel",
          "model_module_version": "1.2.0",
          "state": {
            "_model_module": "@jupyter-widgets/base",
            "_model_module_version": "1.2.0",
            "_model_name": "LayoutModel",
            "_view_count": null,
            "_view_module": "@jupyter-widgets/base",
            "_view_module_version": "1.2.0",
            "_view_name": "LayoutView",
            "align_content": null,
            "align_items": null,
            "align_self": null,
            "border": null,
            "bottom": null,
            "display": null,
            "flex": null,
            "flex_flow": null,
            "grid_area": null,
            "grid_auto_columns": null,
            "grid_auto_flow": null,
            "grid_auto_rows": null,
            "grid_column": null,
            "grid_gap": null,
            "grid_row": null,
            "grid_template_areas": null,
            "grid_template_columns": null,
            "grid_template_rows": null,
            "height": null,
            "justify_content": null,
            "justify_items": null,
            "left": null,
            "margin": null,
            "max_height": null,
            "max_width": null,
            "min_height": null,
            "min_width": null,
            "object_fit": null,
            "object_position": null,
            "order": null,
            "overflow": null,
            "overflow_x": null,
            "overflow_y": null,
            "padding": null,
            "right": null,
            "top": null,
            "visibility": null,
            "width": null
          }
        },
        "661e066a6c694bb9a1917d26288819ec": {
          "model_module": "@jupyter-widgets/controls",
          "model_name": "ProgressStyleModel",
          "model_module_version": "1.5.0",
          "state": {
            "_model_module": "@jupyter-widgets/controls",
            "_model_module_version": "1.5.0",
            "_model_name": "ProgressStyleModel",
            "_view_count": null,
            "_view_module": "@jupyter-widgets/base",
            "_view_module_version": "1.2.0",
            "_view_name": "StyleView",
            "bar_color": null,
            "description_width": ""
          }
        },
        "337a9571b437432c8af53bbcccf6da5a": {
          "model_module": "@jupyter-widgets/base",
          "model_name": "LayoutModel",
          "model_module_version": "1.2.0",
          "state": {
            "_model_module": "@jupyter-widgets/base",
            "_model_module_version": "1.2.0",
            "_model_name": "LayoutModel",
            "_view_count": null,
            "_view_module": "@jupyter-widgets/base",
            "_view_module_version": "1.2.0",
            "_view_name": "LayoutView",
            "align_content": null,
            "align_items": null,
            "align_self": null,
            "border": null,
            "bottom": null,
            "display": null,
            "flex": null,
            "flex_flow": null,
            "grid_area": null,
            "grid_auto_columns": null,
            "grid_auto_flow": null,
            "grid_auto_rows": null,
            "grid_column": null,
            "grid_gap": null,
            "grid_row": null,
            "grid_template_areas": null,
            "grid_template_columns": null,
            "grid_template_rows": null,
            "height": null,
            "justify_content": null,
            "justify_items": null,
            "left": null,
            "margin": null,
            "max_height": null,
            "max_width": null,
            "min_height": null,
            "min_width": null,
            "object_fit": null,
            "object_position": null,
            "order": null,
            "overflow": null,
            "overflow_x": null,
            "overflow_y": null,
            "padding": null,
            "right": null,
            "top": null,
            "visibility": null,
            "width": null
          }
        },
        "eefe2ae7e8c94b3796458e184a76aff1": {
          "model_module": "@jupyter-widgets/controls",
          "model_name": "DescriptionStyleModel",
          "model_module_version": "1.5.0",
          "state": {
            "_model_module": "@jupyter-widgets/controls",
            "_model_module_version": "1.5.0",
            "_model_name": "DescriptionStyleModel",
            "_view_count": null,
            "_view_module": "@jupyter-widgets/base",
            "_view_module_version": "1.2.0",
            "_view_name": "StyleView",
            "description_width": ""
          }
        },
        "c8b243a38a3f45c18ad54f63436ae358": {
          "model_module": "@jupyter-widgets/controls",
          "model_name": "BoundedIntTextModel",
          "model_module_version": "1.5.0",
          "state": {
            "_dom_classes": [],
            "_model_module": "@jupyter-widgets/controls",
            "_model_module_version": "1.5.0",
            "_model_name": "BoundedIntTextModel",
            "_view_count": null,
            "_view_module": "@jupyter-widgets/controls",
            "_view_module_version": "1.5.0",
            "_view_name": "IntTextView",
            "continuous_update": false,
            "description": "# of docs to process:",
            "description_tooltip": null,
            "disabled": false,
            "layout": "IPY_MODEL_f55c50cf5b7f44539489d35ce2569a21",
            "max": 4999,
            "min": 1,
            "step": 10,
            "style": "IPY_MODEL_1414fa5a84be4110ad0040c629ceea02",
            "value": 4999
          }
        },
        "f55c50cf5b7f44539489d35ce2569a21": {
          "model_module": "@jupyter-widgets/base",
          "model_name": "LayoutModel",
          "model_module_version": "1.2.0",
          "state": {
            "_model_module": "@jupyter-widgets/base",
            "_model_module_version": "1.2.0",
            "_model_name": "LayoutModel",
            "_view_count": null,
            "_view_module": "@jupyter-widgets/base",
            "_view_module_version": "1.2.0",
            "_view_name": "LayoutView",
            "align_content": null,
            "align_items": null,
            "align_self": null,
            "border": null,
            "bottom": null,
            "display": null,
            "flex": null,
            "flex_flow": null,
            "grid_area": null,
            "grid_auto_columns": null,
            "grid_auto_flow": null,
            "grid_auto_rows": null,
            "grid_column": null,
            "grid_gap": null,
            "grid_row": null,
            "grid_template_areas": null,
            "grid_template_columns": null,
            "grid_template_rows": null,
            "height": null,
            "justify_content": null,
            "justify_items": null,
            "left": null,
            "margin": null,
            "max_height": null,
            "max_width": null,
            "min_height": null,
            "min_width": null,
            "object_fit": null,
            "object_position": null,
            "order": null,
            "overflow": null,
            "overflow_x": null,
            "overflow_y": null,
            "padding": null,
            "right": null,
            "top": null,
            "visibility": null,
            "width": null
          }
        },
        "1414fa5a84be4110ad0040c629ceea02": {
          "model_module": "@jupyter-widgets/controls",
          "model_name": "DescriptionStyleModel",
          "model_module_version": "1.5.0",
          "state": {
            "_model_module": "@jupyter-widgets/controls",
            "_model_module_version": "1.5.0",
            "_model_name": "DescriptionStyleModel",
            "_view_count": null,
            "_view_module": "@jupyter-widgets/base",
            "_view_module_version": "1.2.0",
            "_view_name": "StyleView",
            "description_width": "initial"
          }
        }
      }
    }
  },
  "cells": [
    {
      "cell_type": "markdown",
      "metadata": {
        "id": "view-in-github",
        "colab_type": "text"
      },
      "source": [
        "<a href=\"https://colab.research.google.com/github/pastrop/kaggle/blob/master/text_analytics.ipynb\" target=\"_parent\"><img src=\"https://colab.research.google.com/assets/colab-badge.svg\" alt=\"Open In Colab\"/></a>"
      ]
    },
    {
      "cell_type": "markdown",
      "source": [
        "# Key Words & Documents Clusters"
      ],
      "metadata": {
        "id": "kNC0lDkrwkV2"
      }
    },
    {
      "cell_type": "markdown",
      "source": [
        "Open-source based set of capabilities allowing to analyze a text based dataset.  Currently Implemented Functionality:\n",
        "1. Key words indentification for a text corpus (YAKE algorithm)\n",
        "2. Key words identification for each document in the corpus (YAKE algorithms)\n",
        "3. Basic sentiment analysis (currently using Sienbert or J-Hartman models from the Huggingface Hub)\n",
        "4. Advanced Sentiment analysis & text classification (Using SetFit model with few shot training)\n",
        "5. Semantic Search & Clustering (Approximate Nearest Neighbours, ANNOY package)\n",
        "6. Basic vizualization (UMAP or PCA for dimensionality reduction, Altair or Matplotlib for plotting)\n",
        "\n",
        "**Work in Progress!**"
      ],
      "metadata": {
        "id": "2LXo_hZs4PXs"
      }
    },
    {
      "cell_type": "code",
      "execution_count": 1,
      "metadata": {
        "id": "Jbb9e0newipE"
      },
      "outputs": [],
      "source": [
        "import pandas as pd"
      ]
    },
    {
      "cell_type": "code",
      "source": [
        "%%capture\n",
        "!pip install ipywidgets"
      ],
      "metadata": {
        "id": "mJp4I9ZFBR3h"
      },
      "execution_count": null,
      "outputs": []
    },
    {
      "cell_type": "code",
      "source": [
        "import ipywidgets as widgets\n",
        "from IPython.display import display\n",
        "layout = widgets.Layout(width='auto', height='40px')"
      ],
      "metadata": {
        "id": "8znHJfbRBb-1"
      },
      "execution_count": 65,
      "outputs": []
    },
    {
      "cell_type": "code",
      "source": [
        "# file upload while using Google Colab\n",
        "from google.colab import files\n",
        "uploaded = files.upload()"
      ],
      "metadata": {
        "id": "LpW1-Jk2xKO0",
        "colab": {
          "base_uri": "https://localhost:8080/",
          "height": 73
        },
        "outputId": "5cccaed2-016c-4411-d44c-e1898930b34a"
      },
      "execution_count": 2,
      "outputs": [
        {
          "output_type": "display_data",
          "data": {
            "text/plain": [
              "<IPython.core.display.HTML object>"
            ],
            "text/html": [
              "\n",
              "     <input type=\"file\" id=\"files-b1055031-679e-4c5b-b714-a65489a86e6f\" name=\"files[]\" multiple disabled\n",
              "        style=\"border:none\" />\n",
              "     <output id=\"result-b1055031-679e-4c5b-b714-a65489a86e6f\">\n",
              "      Upload widget is only available when the cell has been executed in the\n",
              "      current browser session. Please rerun this cell to enable.\n",
              "      </output>\n",
              "      <script>// Copyright 2017 Google LLC\n",
              "//\n",
              "// Licensed under the Apache License, Version 2.0 (the \"License\");\n",
              "// you may not use this file except in compliance with the License.\n",
              "// You may obtain a copy of the License at\n",
              "//\n",
              "//      http://www.apache.org/licenses/LICENSE-2.0\n",
              "//\n",
              "// Unless required by applicable law or agreed to in writing, software\n",
              "// distributed under the License is distributed on an \"AS IS\" BASIS,\n",
              "// WITHOUT WARRANTIES OR CONDITIONS OF ANY KIND, either express or implied.\n",
              "// See the License for the specific language governing permissions and\n",
              "// limitations under the License.\n",
              "\n",
              "/**\n",
              " * @fileoverview Helpers for google.colab Python module.\n",
              " */\n",
              "(function(scope) {\n",
              "function span(text, styleAttributes = {}) {\n",
              "  const element = document.createElement('span');\n",
              "  element.textContent = text;\n",
              "  for (const key of Object.keys(styleAttributes)) {\n",
              "    element.style[key] = styleAttributes[key];\n",
              "  }\n",
              "  return element;\n",
              "}\n",
              "\n",
              "// Max number of bytes which will be uploaded at a time.\n",
              "const MAX_PAYLOAD_SIZE = 100 * 1024;\n",
              "\n",
              "function _uploadFiles(inputId, outputId) {\n",
              "  const steps = uploadFilesStep(inputId, outputId);\n",
              "  const outputElement = document.getElementById(outputId);\n",
              "  // Cache steps on the outputElement to make it available for the next call\n",
              "  // to uploadFilesContinue from Python.\n",
              "  outputElement.steps = steps;\n",
              "\n",
              "  return _uploadFilesContinue(outputId);\n",
              "}\n",
              "\n",
              "// This is roughly an async generator (not supported in the browser yet),\n",
              "// where there are multiple asynchronous steps and the Python side is going\n",
              "// to poll for completion of each step.\n",
              "// This uses a Promise to block the python side on completion of each step,\n",
              "// then passes the result of the previous step as the input to the next step.\n",
              "function _uploadFilesContinue(outputId) {\n",
              "  const outputElement = document.getElementById(outputId);\n",
              "  const steps = outputElement.steps;\n",
              "\n",
              "  const next = steps.next(outputElement.lastPromiseValue);\n",
              "  return Promise.resolve(next.value.promise).then((value) => {\n",
              "    // Cache the last promise value to make it available to the next\n",
              "    // step of the generator.\n",
              "    outputElement.lastPromiseValue = value;\n",
              "    return next.value.response;\n",
              "  });\n",
              "}\n",
              "\n",
              "/**\n",
              " * Generator function which is called between each async step of the upload\n",
              " * process.\n",
              " * @param {string} inputId Element ID of the input file picker element.\n",
              " * @param {string} outputId Element ID of the output display.\n",
              " * @return {!Iterable<!Object>} Iterable of next steps.\n",
              " */\n",
              "function* uploadFilesStep(inputId, outputId) {\n",
              "  const inputElement = document.getElementById(inputId);\n",
              "  inputElement.disabled = false;\n",
              "\n",
              "  const outputElement = document.getElementById(outputId);\n",
              "  outputElement.innerHTML = '';\n",
              "\n",
              "  const pickedPromise = new Promise((resolve) => {\n",
              "    inputElement.addEventListener('change', (e) => {\n",
              "      resolve(e.target.files);\n",
              "    });\n",
              "  });\n",
              "\n",
              "  const cancel = document.createElement('button');\n",
              "  inputElement.parentElement.appendChild(cancel);\n",
              "  cancel.textContent = 'Cancel upload';\n",
              "  const cancelPromise = new Promise((resolve) => {\n",
              "    cancel.onclick = () => {\n",
              "      resolve(null);\n",
              "    };\n",
              "  });\n",
              "\n",
              "  // Wait for the user to pick the files.\n",
              "  const files = yield {\n",
              "    promise: Promise.race([pickedPromise, cancelPromise]),\n",
              "    response: {\n",
              "      action: 'starting',\n",
              "    }\n",
              "  };\n",
              "\n",
              "  cancel.remove();\n",
              "\n",
              "  // Disable the input element since further picks are not allowed.\n",
              "  inputElement.disabled = true;\n",
              "\n",
              "  if (!files) {\n",
              "    return {\n",
              "      response: {\n",
              "        action: 'complete',\n",
              "      }\n",
              "    };\n",
              "  }\n",
              "\n",
              "  for (const file of files) {\n",
              "    const li = document.createElement('li');\n",
              "    li.append(span(file.name, {fontWeight: 'bold'}));\n",
              "    li.append(span(\n",
              "        `(${file.type || 'n/a'}) - ${file.size} bytes, ` +\n",
              "        `last modified: ${\n",
              "            file.lastModifiedDate ? file.lastModifiedDate.toLocaleDateString() :\n",
              "                                    'n/a'} - `));\n",
              "    const percent = span('0% done');\n",
              "    li.appendChild(percent);\n",
              "\n",
              "    outputElement.appendChild(li);\n",
              "\n",
              "    const fileDataPromise = new Promise((resolve) => {\n",
              "      const reader = new FileReader();\n",
              "      reader.onload = (e) => {\n",
              "        resolve(e.target.result);\n",
              "      };\n",
              "      reader.readAsArrayBuffer(file);\n",
              "    });\n",
              "    // Wait for the data to be ready.\n",
              "    let fileData = yield {\n",
              "      promise: fileDataPromise,\n",
              "      response: {\n",
              "        action: 'continue',\n",
              "      }\n",
              "    };\n",
              "\n",
              "    // Use a chunked sending to avoid message size limits. See b/62115660.\n",
              "    let position = 0;\n",
              "    do {\n",
              "      const length = Math.min(fileData.byteLength - position, MAX_PAYLOAD_SIZE);\n",
              "      const chunk = new Uint8Array(fileData, position, length);\n",
              "      position += length;\n",
              "\n",
              "      const base64 = btoa(String.fromCharCode.apply(null, chunk));\n",
              "      yield {\n",
              "        response: {\n",
              "          action: 'append',\n",
              "          file: file.name,\n",
              "          data: base64,\n",
              "        },\n",
              "      };\n",
              "\n",
              "      let percentDone = fileData.byteLength === 0 ?\n",
              "          100 :\n",
              "          Math.round((position / fileData.byteLength) * 100);\n",
              "      percent.textContent = `${percentDone}% done`;\n",
              "\n",
              "    } while (position < fileData.byteLength);\n",
              "  }\n",
              "\n",
              "  // All done.\n",
              "  yield {\n",
              "    response: {\n",
              "      action: 'complete',\n",
              "    }\n",
              "  };\n",
              "}\n",
              "\n",
              "scope.google = scope.google || {};\n",
              "scope.google.colab = scope.google.colab || {};\n",
              "scope.google.colab._files = {\n",
              "  _uploadFiles,\n",
              "  _uploadFilesContinue,\n",
              "};\n",
              "})(self);\n",
              "</script> "
            ]
          },
          "metadata": {}
        },
        {
          "output_type": "stream",
          "name": "stdout",
          "text": [
            "Saving beer_5k.csv to beer_5k.csv\n"
          ]
        }
      ]
    },
    {
      "cell_type": "code",
      "source": [
        "# Dataframe processing (CSV format is expected, minimal text pre-processing at the moment (write you own if you needed it :) ), change the file name as needed)\n",
        "df = pd.read_csv('beer_5k.csv')"
      ],
      "metadata": {
        "id": "egPk0LY4x7-g"
      },
      "execution_count": 3,
      "outputs": []
    },
    {
      "cell_type": "code",
      "source": [
        "#Widget to pick the number of documents to process\n",
        "style = {'description_width': 'initial'}\n",
        "box = widgets.BoundedIntText(\n",
        "    min=1,\n",
        "    max=df.shape[0],\n",
        "    step=10,\n",
        "    description='# of docs to process:',\n",
        "    value=df.shape[0],\n",
        "    style = style\n",
        ")\n",
        "display(box)"
      ],
      "metadata": {
        "colab": {
          "base_uri": "https://localhost:8080/",
          "height": 49,
          "referenced_widgets": [
            "c8b243a38a3f45c18ad54f63436ae358",
            "f55c50cf5b7f44539489d35ce2569a21",
            "1414fa5a84be4110ad0040c629ceea02"
          ]
        },
        "id": "62Gn0ocfB1rN",
        "outputId": "8e21e1c8-cfdc-4bbd-aa2c-424e7498ff0f"
      },
      "execution_count": 68,
      "outputs": [
        {
          "output_type": "display_data",
          "data": {
            "text/plain": [
              "BoundedIntText(value=4999, description='# of docs to process:', max=4999, min=1, step=10, style=DescriptionSty…"
            ],
            "application/vnd.jupyter.widget-view+json": {
              "version_major": 2,
              "version_minor": 0,
              "model_id": "c8b243a38a3f45c18ad54f63436ae358"
            }
          },
          "metadata": {}
        }
      ]
    },
    {
      "cell_type": "code",
      "source": [
        "texts = [item.replace(\"\\t\", \" \")[:box.value] for item in df['text'] [:box.value]]\n",
        "#df.head(2)"
      ],
      "metadata": {
        "id": "o4ohKBtnB9oF"
      },
      "execution_count": 63,
      "outputs": []
    },
    {
      "cell_type": "code",
      "source": [
        "#above code wrapped in a function\n",
        "def text_input(file = 'beer_5k.csv'):\n",
        "  df = pd.read_csv(file)\n",
        "  texts = [item.replace(\"\\t\", \" \") for item in df['text']]\n",
        "  return texts"
      ],
      "metadata": {
        "id": "icPChnjm1i_b"
      },
      "execution_count": 3,
      "outputs": []
    },
    {
      "cell_type": "code",
      "source": [
        "texts_acct = text_input('accnt_issues.csv')"
      ],
      "metadata": {
        "id": "3VtqHnfY2KCI"
      },
      "execution_count": null,
      "outputs": []
    },
    {
      "cell_type": "code",
      "source": [
        "#Create a single blob of text\n",
        "corpus = ' '.join(texts)"
      ],
      "metadata": {
        "id": "lqd4MqVqoI3h"
      },
      "execution_count": 4,
      "outputs": []
    },
    {
      "cell_type": "code",
      "source": [
        "corpus_acct = ' '.join(texts_acct)"
      ],
      "metadata": {
        "id": "Um_0z-d32iWw"
      },
      "execution_count": 14,
      "outputs": []
    },
    {
      "cell_type": "markdown",
      "source": [
        "Keywords"
      ],
      "metadata": {
        "id": "s47pzHo3cxVF"
      }
    },
    {
      "cell_type": "code",
      "source": [
        "%%capture\n",
        "!pip install yake"
      ],
      "metadata": {
        "id": "X0jkZhcypKU4"
      },
      "execution_count": 5,
      "outputs": []
    },
    {
      "cell_type": "code",
      "source": [
        "import yake"
      ],
      "metadata": {
        "id": "Y0bDoBIin77D"
      },
      "execution_count": 6,
      "outputs": []
    },
    {
      "cell_type": "code",
      "source": [
        "# YAKE Config\n",
        "kw_extractor = yake.KeywordExtractor()\n",
        "language = 'en'\n",
        "max_ngram_size = 2\n",
        "deduplication_threshold = 0.9\n",
        "numOfKeywords = 50"
      ],
      "metadata": {
        "id": "bnfpdRJcpUKo"
      },
      "execution_count": 7,
      "outputs": []
    },
    {
      "cell_type": "code",
      "source": [
        "#Keyword for the corpus\n",
        "custom_kw_extractor = yake.KeywordExtractor(lan=language, n=max_ngram_size, dedupLim=deduplication_threshold, top=numOfKeywords, features=None)\n",
        "keywords = custom_kw_extractor.extract_keywords(corpus)\n",
        "keywords"
      ],
      "metadata": {
        "id": "dDHYClMGpH-E"
      },
      "execution_count": null,
      "outputs": []
    },
    {
      "cell_type": "code",
      "source": [
        "#Keyword for the individual documents\n",
        "custom_kw_extractor_docs = yake.KeywordExtractor(lan=language, n=max_ngram_size, dedupLim=deduplication_threshold, top=10, features=None)"
      ],
      "metadata": {
        "id": "CjK3E1ldKbaM"
      },
      "execution_count": 9,
      "outputs": []
    },
    {
      "cell_type": "code",
      "source": [
        "#Keywords per document\n",
        "distilled_docs = []\n",
        "for item in texts:\n",
        "  keywords = custom_kw_extractor_docs.extract_keywords(item)\n",
        "  tmp = [item[0] for item in keywords]\n",
        "  distilled_docs.append(tmp)"
      ],
      "metadata": {
        "id": "IK3f5af_oyub"
      },
      "execution_count": 10,
      "outputs": []
    },
    {
      "cell_type": "code",
      "source": [
        "distilled_docs[30:40]"
      ],
      "metadata": {
        "id": "E7-FFLmopPtH"
      },
      "execution_count": null,
      "outputs": []
    },
    {
      "cell_type": "markdown",
      "source": [
        "Data for a classifier POC"
      ],
      "metadata": {
        "id": "Hu6B9GuIc92J"
      }
    },
    {
      "cell_type": "code",
      "source": [
        "ipa_class = []\n",
        "for ind, item in enumerate(distilled_docs):\n",
        "  if 'IPA' in item:\n",
        "    ipa_class.append((ind,item))"
      ],
      "metadata": {
        "id": "XfiFUVkxLU5F"
      },
      "execution_count": null,
      "outputs": []
    },
    {
      "cell_type": "code",
      "source": [
        "ipa_class[10]"
      ],
      "metadata": {
        "colab": {
          "base_uri": "https://localhost:8080/"
        },
        "id": "K2TGX2r1MXqx",
        "outputId": "f2a3431e-2c79-4d8e-d59e-9da0dba090ad"
      },
      "execution_count": null,
      "outputs": [
        {
          "output_type": "execute_result",
          "data": {
            "text/plain": [
              "(346,\n",
              " ['Reviewed',\n",
              "  'Decent IPA',\n",
              "  'hops',\n",
              "  'citrus',\n",
              "  'bitter',\n",
              "  'IPA',\n",
              "  'off-white head',\n",
              "  'Pours',\n",
              "  'head',\n",
              "  'Aroma'])"
            ]
          },
          "metadata": {},
          "execution_count": 12
        }
      ]
    },
    {
      "cell_type": "code",
      "source": [
        "print(texts[346])"
      ],
      "metadata": {
        "colab": {
          "base_uri": "https://localhost:8080/"
        },
        "id": "p18To6KgNm6_",
        "outputId": "77c56f0c-1313-42ac-9f6b-49123ce68aee"
      },
      "execution_count": null,
      "outputs": [
        {
          "output_type": "stream",
          "name": "stdout",
          "text": [
            "Reviewed on 1/3/2010. Can. Pours a clear deep orange with a thick off-white head. Aroma of piney, grassy hops, some citrus and tropical fruits. Flavor of caramel malt and light citrus upfront with a bitter hops finish. Decent IPA, rather on the bitter side.\n"
          ]
        }
      ]
    },
    {
      "cell_type": "code",
      "source": [
        "other = []\n",
        "for ind, item in enumerate(distilled_docs):\n",
        "  if 'IPA' not in item:\n",
        "    other.append((ind,item))"
      ],
      "metadata": {
        "id": "PYWB3pxpNJrx"
      },
      "execution_count": null,
      "outputs": []
    },
    {
      "cell_type": "markdown",
      "source": [
        "Dicts to be used for classification finetuning & sentiment analysis using SetFit Model"
      ],
      "metadata": {
        "id": "vu8QxgQ8XVN7"
      }
    },
    {
      "cell_type": "code",
      "source": [
        "texts_IPA = []\n",
        "for item in ipa_class:\n",
        "  texts_IPA.append(texts[item[0]])"
      ],
      "metadata": {
        "id": "_pcCx7eoYf3n"
      },
      "execution_count": null,
      "outputs": []
    },
    {
      "cell_type": "code",
      "source": [
        "dict_IPA = {'idx': [item for item in range(len(texts_IPA))], 'sentence': texts_IPA, 'label': [0]*len(texts_IPA)}"
      ],
      "metadata": {
        "id": "iCXRpcm4NZn7"
      },
      "execution_count": null,
      "outputs": []
    },
    {
      "cell_type": "code",
      "source": [
        "texts_other = []\n",
        "for item in other[:170]:\n",
        "  texts_other.append(texts[item[0]])"
      ],
      "metadata": {
        "id": "DUE05pcPb_D8"
      },
      "execution_count": null,
      "outputs": []
    },
    {
      "cell_type": "code",
      "source": [
        "dict_other = {'idx': [item for item in range(len(texts_other))], 'sentence': texts_other, 'label': [1]*len(texts_other)}"
      ],
      "metadata": {
        "id": "-RxoVPx2xDS_"
      },
      "execution_count": null,
      "outputs": []
    },
    {
      "cell_type": "code",
      "source": [
        "dict_train = {'idx': [item for item in range(len(texts_other))]+[item for item in range(len(texts_IPA))], \n",
        "              'sentence': texts_other+texts_IPA, 'label': [1]*len(texts_other)+[0]*len(texts_IPA)}"
      ],
      "metadata": {
        "id": "GoeTq5ZhxX6U"
      },
      "execution_count": null,
      "outputs": []
    },
    {
      "cell_type": "code",
      "source": [
        "dataset_train = Dataset.from_dict(dict_train)\n",
        "dataset_train_few = dataset_train.shuffle(seed = 42).select(range(16))"
      ],
      "metadata": {
        "id": "bSdWjgyPyu7v"
      },
      "execution_count": null,
      "outputs": []
    },
    {
      "cell_type": "code",
      "source": [
        "for i in range(10):\n",
        "  print(dataset_train_few[i])"
      ],
      "metadata": {
        "id": "UWRc88tCHqob"
      },
      "execution_count": null,
      "outputs": []
    },
    {
      "cell_type": "code",
      "source": [
        "#dataset for the sentiment analysis POC\n",
        "dict_sentiment = {'idx':list(range(4)), \"text\":texts[:4]}\n",
        "dataset_sentiment = Dataset.from_dict(dict_sentiment)"
      ],
      "metadata": {
        "id": "e66d9gWDih8i"
      },
      "execution_count": null,
      "outputs": []
    },
    {
      "cell_type": "code",
      "source": [
        "dataset_sentiment = Dataset.from_dict(dict_sentiment)"
      ],
      "metadata": {
        "id": "j-8aODw2jOub"
      },
      "execution_count": null,
      "outputs": []
    },
    {
      "cell_type": "markdown",
      "source": [
        "Embeddings for Documents & document distilled to a list of concepts"
      ],
      "metadata": {
        "id": "8YBMTAcxcpRH"
      }
    },
    {
      "cell_type": "code",
      "source": [
        "%%capture\n",
        "!pip install -U sentence-transformers"
      ],
      "metadata": {
        "id": "1DeF6ttk-CgQ"
      },
      "execution_count": 15,
      "outputs": []
    },
    {
      "cell_type": "code",
      "source": [
        "%%capture\n",
        "from sentence_transformers import SentenceTransformer, util\n",
        "model = SentenceTransformer('all-MiniLM-L6-v2')\n",
        "model.max_seq_length = 300"
      ],
      "metadata": {
        "id": "XAv1IOWMESgP"
      },
      "execution_count": 16,
      "outputs": []
    },
    {
      "cell_type": "code",
      "source": [
        "#Embedding Demo code\n",
        "#Compute embedding \n",
        "embeddings1 = model.encode([texts[0]], convert_to_tensor=True)\n",
        "embeddings2 = model.encode([' '.join(distilled_docs[0])], convert_to_tensor=True)\n",
        "\n",
        "#Compute cosine-similarities\n",
        "cosine_score = util.cos_sim(embeddings1, embeddings2)"
      ],
      "metadata": {
        "id": "Bp0ide2CE3-i"
      },
      "execution_count": null,
      "outputs": []
    },
    {
      "cell_type": "code",
      "source": [
        "embeddings1 = model.encode([texts[5]], convert_to_tensor=True)\n",
        "cosine_score = util.cos_sim(embeddings1, embeddings2)"
      ],
      "metadata": {
        "id": "84Qo6FeaGApG"
      },
      "execution_count": null,
      "outputs": []
    },
    {
      "cell_type": "code",
      "source": [
        "cosine_score"
      ],
      "metadata": {
        "colab": {
          "base_uri": "https://localhost:8080/"
        },
        "id": "7t4Mmxk7GP6Q",
        "outputId": "c0665a34-857d-4c17-d745-fb0efed69996"
      },
      "execution_count": null,
      "outputs": [
        {
          "output_type": "execute_result",
          "data": {
            "text/plain": [
              "tensor([[0.2841]], device='cuda:0')"
            ]
          },
          "metadata": {},
          "execution_count": 39
        }
      ]
    },
    {
      "cell_type": "code",
      "source": [
        "cosine_score"
      ],
      "metadata": {
        "colab": {
          "base_uri": "https://localhost:8080/"
        },
        "id": "TxFQhIuGF6BX",
        "outputId": "4698e77c-0544-4dcc-e6a5-ed953b9c88ef"
      },
      "execution_count": null,
      "outputs": [
        {
          "output_type": "execute_result",
          "data": {
            "text/plain": [
              "tensor([[0.6680]], device='cuda:0')"
            ]
          },
          "metadata": {},
          "execution_count": 17
        }
      ]
    },
    {
      "cell_type": "code",
      "source": [
        "# Embeddings for Distilled Docs\n",
        "emb_distilled_input = [' '.join(item) for item in distilled_docs]\n",
        "emb_distilled = model.encode(emb_distilled_input)"
      ],
      "metadata": {
        "id": "aHSLPBwtdNWv"
      },
      "execution_count": 17,
      "outputs": []
    },
    {
      "cell_type": "code",
      "source": [
        "# Embeddings for Original Docs\n",
        "emb_texts = model.encode(texts)"
      ],
      "metadata": {
        "id": "_7xJO_8Wx1MC"
      },
      "execution_count": 33,
      "outputs": []
    },
    {
      "cell_type": "markdown",
      "source": [
        "Clusterning using ANNOY Package (Approximate K-nearest neighbours)"
      ],
      "metadata": {
        "id": "DiQ6YByu4UBz"
      }
    },
    {
      "cell_type": "code",
      "source": [
        "!pip install annoy"
      ],
      "metadata": {
        "id": "bejFfN374odO"
      },
      "execution_count": null,
      "outputs": []
    },
    {
      "cell_type": "code",
      "source": [
        "from annoy import AnnoyIndex"
      ],
      "metadata": {
        "id": "cPkY6FuN4eT9"
      },
      "execution_count": null,
      "outputs": []
    },
    {
      "cell_type": "code",
      "source": [
        "#Template Code\n",
        "# Create the search index, pass the size of embedding\n",
        "search_index = AnnoyIndex(768, 'angular')\n",
        "# Add all the vectors to the search index\n",
        "for i in range(len(embeds)):\n",
        "    search_index.add_item(i, embeds[i])\n",
        "\n",
        "search_index.build(10) # 10 trees\n",
        "#search_index.save('askhn.ann')"
      ],
      "metadata": {
        "id": "QkCIWqiO4wK0"
      },
      "execution_count": null,
      "outputs": []
    },
    {
      "cell_type": "code",
      "source": [
        "#More Template Code\n",
        "# Choose an example (we'll retrieve others similar to it)\n",
        "example_id = 50\n",
        "\n",
        "# Retrieve nearest neighbors\n",
        "similar_item_ids = search_index.get_nns_by_item(example_id,\n",
        "                                                10, # Number of results to retrieve\n",
        "                                                include_distances=True)\n",
        "# Format and print the text and distances\n",
        "results = pd.DataFrame(data={'post titles': texts[similar_item_ids[0]], \n",
        "                             'distance': similar_item_ids[1]}).drop(example_id)\n",
        "\n",
        "#print(f\"Query post:'{df.iloc[example_id]['title']}'\\nNearest neighbors:\")\n",
        "results"
      ],
      "metadata": {
        "id": "Bm3rVR4L462J"
      },
      "execution_count": null,
      "outputs": []
    },
    {
      "cell_type": "markdown",
      "source": [
        "SetFit Model (Idea: a classifier tuned up for a given dataset (8 examples per class))"
      ],
      "metadata": {
        "id": "9JJSWp_mb0UT"
      }
    },
    {
      "cell_type": "code",
      "source": [
        "%%capture\n",
        "!pip install setfit\n",
        "!pip install datasets"
      ],
      "metadata": {
        "id": "MI3u34lRPLEF"
      },
      "execution_count": null,
      "outputs": []
    },
    {
      "cell_type": "code",
      "source": [
        "from datasets import Dataset, load_dataset\n",
        "from sentence_transformers.losses import CosineSimilarityLoss\n",
        "from setfit import SetFitModel, SetFitTrainer"
      ],
      "metadata": {
        "id": "EfxPILB1cdgf"
      },
      "execution_count": null,
      "outputs": []
    },
    {
      "cell_type": "code",
      "source": [
        "# Load a SetFit model from Hub\n",
        "model = SetFitModel.from_pretrained(\"sentence-transformers/paraphrase-mpnet-base-v2\")\n",
        "\n",
        "# Create trainer\n",
        "trainer = SetFitTrainer(\n",
        "    model=model,\n",
        "    train_dataset=dataset_train_few,\n",
        "    eval_dataset=dataset_train,\n",
        "    loss_class=CosineSimilarityLoss,\n",
        "    metric=\"accuracy\",\n",
        "    batch_size=16,\n",
        "    num_iterations=20, # The number of text pairs to generate for contrastive learning\n",
        "    num_epochs=1, # The number of epochs to use for contrastive learning\n",
        "    column_mapping={\"sentence\": \"text\", \"label\": \"label\"} # Map dataset columns to text/label expected by trainer\n",
        ")"
      ],
      "metadata": {
        "id": "RqSeXUfEPeba"
      },
      "execution_count": null,
      "outputs": []
    },
    {
      "cell_type": "code",
      "source": [
        "trainer.train()\n",
        "#metrics = trainer.evaluate()"
      ],
      "metadata": {
        "colab": {
          "base_uri": "https://localhost:8080/",
          "height": 185,
          "referenced_widgets": [
            "5219c6d1a97a41a5b836225f4bce4ecc",
            "e324ae1f56ab48b58f202ba0248b46c2",
            "28f62e2acc1f46ebb6750fab386ae586",
            "0d09bc73cce842119c3a64bde63ad49d",
            "9e93c1c0cc03404c96ed530b11d51415",
            "f20db5a526dd44a69b321406f535ef0f",
            "00d82f3c8aa04a189368fc6ade7b3de8",
            "46ce5dc97431472ba0f2cd3681adde03",
            "fb444675e2bb46bcac60ead080c48f9d",
            "50b04ab4764742699f2bcde85fc9504c",
            "7a0a01e12b3b455dbb05534881e78d83",
            "0ec9b6f53cfa40d9878df59956840c43",
            "1389910761d348c991766bd059717868",
            "f54806014a1e4b80a64f627cbee7dc3b",
            "18eeab46acb94194a5ed42647a3b5475",
            "f7e0533bc5d0408dbc919d306300b9d7",
            "28b2c60aa35249a0ba5d6237857e089d",
            "83e062bfcab941b98b40dcca6073e5ea",
            "b6612e9d659a4016b34077eff7c76f8d",
            "603f3628ff0b4cc4901145912617281d",
            "3316fe6347fb47858a527b8e679e5368",
            "0d13d25566a940d6a97a75df88914ca4"
          ]
        },
        "id": "ue7ctwKaP66a",
        "outputId": "626042ee-4784-4533-90a1-7b9d3bc15a9b"
      },
      "execution_count": null,
      "outputs": [
        {
          "output_type": "stream",
          "name": "stderr",
          "text": [
            "Applying column mapping to training dataset\n",
            "***** Running training *****\n",
            "  Num examples = 640\n",
            "  Num epochs = 1\n",
            "  Total optimization steps = 40\n",
            "  Total train batch size = 16\n"
          ]
        },
        {
          "output_type": "display_data",
          "data": {
            "text/plain": [
              "Epoch:   0%|          | 0/1 [00:00<?, ?it/s]"
            ],
            "application/vnd.jupyter.widget-view+json": {
              "version_major": 2,
              "version_minor": 0,
              "model_id": "5219c6d1a97a41a5b836225f4bce4ecc"
            }
          },
          "metadata": {}
        },
        {
          "output_type": "display_data",
          "data": {
            "text/plain": [
              "Iteration:   0%|          | 0/40 [00:00<?, ?it/s]"
            ],
            "application/vnd.jupyter.widget-view+json": {
              "version_major": 2,
              "version_minor": 0,
              "model_id": "0ec9b6f53cfa40d9878df59956840c43"
            }
          },
          "metadata": {}
        }
      ]
    },
    {
      "cell_type": "code",
      "source": [
        "metrics = trainer.evaluate()"
      ],
      "metadata": {
        "colab": {
          "base_uri": "https://localhost:8080/",
          "height": 84,
          "referenced_widgets": [
            "7d456299de5b43cf9618d74d91dd3549",
            "2d971284f1a84cea803f4d536dc54530",
            "5d047da4734441a4adc0ff5ac8d3bfdc",
            "1479e3d3afcc453889291b2f51550d5d",
            "626743adfe2d473fbe8ee330f50e85c3",
            "f09e1c1a289c455da6a4837de5d5a6d4",
            "24f7ac6b4c83468eabaab2376104e92b",
            "1bc7a45b36d44f24bb4b92e6da417218",
            "5b7ab18dad764063899f1b22e9366c8e",
            "8b37a843feed4b9896d33cda9ec56588",
            "be15de349eb245cc88b78802daffeb7c"
          ]
        },
        "id": "wrSZO-DBWlGE",
        "outputId": "f033d2cf-618d-432d-d004-4041d7049612"
      },
      "execution_count": null,
      "outputs": [
        {
          "output_type": "stream",
          "name": "stderr",
          "text": [
            "Applying column mapping to evaluation dataset\n",
            "***** Running evaluation *****\n"
          ]
        },
        {
          "output_type": "display_data",
          "data": {
            "text/plain": [
              "Downloading builder script:   0%|          | 0.00/4.20k [00:00<?, ?B/s]"
            ],
            "application/vnd.jupyter.widget-view+json": {
              "version_major": 2,
              "version_minor": 0,
              "model_id": "7d456299de5b43cf9618d74d91dd3549"
            }
          },
          "metadata": {}
        }
      ]
    },
    {
      "cell_type": "code",
      "source": [
        "metrics"
      ],
      "metadata": {
        "colab": {
          "base_uri": "https://localhost:8080/"
        },
        "id": "u8zdxA79WxrR",
        "outputId": "8eb8c9bd-416c-4642-a7f4-abb6bc22d5e6"
      },
      "execution_count": null,
      "outputs": [
        {
          "output_type": "execute_result",
          "data": {
            "text/plain": [
              "{'accuracy': 0.9670658682634731}"
            ]
          },
          "metadata": {},
          "execution_count": 30
        }
      ]
    },
    {
      "cell_type": "code",
      "source": [
        "# Push model to the Hub\n",
        "#trainer.push_to_hub(\"my-awesome-setfit-model\")\n",
        "\n",
        "# Download from Hub and run inference\n",
        "#model = SetFitModel.from_pretrained(\"lewtun/my-awesome-setfit-model\")\n",
        "# Run inference\n",
        "preds = trainer.model.predict([\"Pours a clear deep orange with a thick off-white head. Aroma of piney, grassy hops, some citrus and tropical fruits. Flavor of caramel malt and light citrus upfront with a bitter hops finish. Decent IPA, rather on the bitter side.\"])"
      ],
      "metadata": {
        "id": "R0FMLGYv8gEE"
      },
      "execution_count": null,
      "outputs": []
    },
    {
      "cell_type": "markdown",
      "source": [
        "Basic Sentiment Analysis"
      ],
      "metadata": {
        "id": "jkMwPEXtbsUS"
      }
    },
    {
      "cell_type": "code",
      "source": [
        "%%capture\n",
        "!pip install transformers\n",
        "!pip install datasets"
      ],
      "metadata": {
        "id": "wZKjgIWwh_Qx"
      },
      "execution_count": null,
      "outputs": []
    },
    {
      "cell_type": "code",
      "source": [
        "from datasets import Dataset\n",
        "from transformers import pipeline\n",
        "from transformers.pipelines.pt_utils import KeyDataset\n",
        "from tqdm.auto import tqdm"
      ],
      "metadata": {
        "id": "MnKHImFax2u2"
      },
      "execution_count": null,
      "outputs": []
    },
    {
      "cell_type": "code",
      "source": [
        "%%capture\n",
        "#pipe = pipeline(\"sentiment-analysis\",  model=\"j-hartmann/sentiment-roberta-large-english-3-classes\", return_all_scores=True, device=0)\n",
        "pipe = pipeline(\"sentiment-analysis\",  model=\"siebert/sentiment-roberta-large-english\", return_all_scores=True, device=0)"
      ],
      "metadata": {
        "id": "FzkBDvj5oPfP"
      },
      "execution_count": null,
      "outputs": []
    },
    {
      "cell_type": "code",
      "source": [
        "# KeyDataset (only *pt*) will simply return the item in the dict returned by the dataset item\n",
        "# as we're not interested in the *target* part of the dataset. For sentence pair use KeyPairDataset\n",
        "for out in tqdm(pipe(KeyDataset(dataset_sentiment, \"text\"), batch_size=4, truncation=\"longest_first\")): #May or maynot need tto use Key Dataset\n",
        "    print(out)"
      ],
      "metadata": {
        "colab": {
          "base_uri": "https://localhost:8080/",
          "height": 118,
          "referenced_widgets": [
            "5e544744b18a48a0a3cbe0f97904970c",
            "412ae2108b904f17af9e8300909cbe38",
            "6af174736dc24243b8e76efb94bc56e8",
            "af32541386f04b9f9d71dfd8c49fe9d3",
            "a55d095ecef446ed94745cb305b11805",
            "45f46bdc0eaa4eada8b983951c0690c7",
            "10e48a34147741c884d9ecaeb81990a2",
            "949ee5e24ce5409499acd681aba2cc7a",
            "661e066a6c694bb9a1917d26288819ec",
            "337a9571b437432c8af53bbcccf6da5a",
            "eefe2ae7e8c94b3796458e184a76aff1"
          ]
        },
        "id": "4Cg_Ayamx4KQ",
        "outputId": "fc075f12-48a1-4084-a702-12508a1722f8"
      },
      "execution_count": null,
      "outputs": [
        {
          "output_type": "display_data",
          "data": {
            "text/plain": [
              "  0%|          | 0/1 [00:00<?, ?it/s]"
            ],
            "application/vnd.jupyter.widget-view+json": {
              "version_major": 2,
              "version_minor": 0,
              "model_id": "5e544744b18a48a0a3cbe0f97904970c"
            }
          },
          "metadata": {}
        },
        {
          "output_type": "stream",
          "name": "stdout",
          "text": [
            "[{'label': 'NEGATIVE', 'score': 0.9994102716445923}, {'label': 'POSITIVE', 'score': 0.0005896911025047302}]\n",
            "[{'label': 'NEGATIVE', 'score': 0.005144994240254164}, {'label': 'POSITIVE', 'score': 0.9948549270629883}]\n",
            "[{'label': 'NEGATIVE', 'score': 0.0012539081508293748}, {'label': 'POSITIVE', 'score': 0.9987460374832153}]\n",
            "[{'label': 'NEGATIVE', 'score': 0.0012314756168052554}, {'label': 'POSITIVE', 'score': 0.9987685084342957}]\n"
          ]
        }
      ]
    },
    {
      "cell_type": "markdown",
      "source": [
        "Vizualisation Using Altair & UMAP for dimensionality reduction"
      ],
      "metadata": {
        "id": "IxE7KnyMa5yW"
      }
    },
    {
      "cell_type": "code",
      "source": [
        "%%capture\n",
        "!pip install altair\n",
        "!pip install umap-learn"
      ],
      "metadata": {
        "id": "acLI1auXekHD"
      },
      "execution_count": null,
      "outputs": []
    },
    {
      "cell_type": "code",
      "source": [
        "import umap.umap_ as umap\n",
        "import altair as alt"
      ],
      "metadata": {
        "id": "KTdRR1afbC1E"
      },
      "execution_count": 19,
      "outputs": []
    },
    {
      "cell_type": "code",
      "source": [
        "reducer = umap.UMAP(n_neighbors=20,n_components=2) \n",
        "umap_embeds = reducer.fit_transform(emb_texts)"
      ],
      "metadata": {
        "id": "pXgyUkuUbpQn"
      },
      "execution_count": 34,
      "outputs": []
    },
    {
      "cell_type": "code",
      "source": [
        "distilled_texts = [' '.join(item) for item in distilled_docs]"
      ],
      "metadata": {
        "id": "pRyKS7P-qeD6"
      },
      "execution_count": 13,
      "outputs": []
    },
    {
      "cell_type": "code",
      "source": [
        "#creating groupings to be colored by a different color\n",
        "text_search=[True if item.find('IPA') != -1 else False for item in distilled_texts]"
      ],
      "metadata": {
        "id": "aEpn_9SX00uG"
      },
      "execution_count": 40,
      "outputs": []
    },
    {
      "cell_type": "code",
      "source": [
        "# Prepare the data to plot and interactive visualization\n",
        "# using Altair\n",
        "df_explore = pd.DataFrame(data={'text': distilled_texts, 'groups':text_search})\n",
        "df_explore['x'] = umap_embeds[:,0]\n",
        "df_explore['y'] = umap_embeds[:,1]\n",
        "\n",
        "# Plot\n",
        "chart = alt.Chart(df_explore).mark_circle(size=60).encode(\n",
        "    x=alt.X('x',scale=alt.Scale(zero=False)),\n",
        "    y=alt.Y('y',scale=alt.Scale(zero=False)),\n",
        "    tooltip=['text'],\n",
        "    color=alt.condition(alt.datum.groups == True, alt.value('red'),alt.value('blue'))\n",
        ").properties(\n",
        "    width=700,\n",
        "    height=400\n",
        ")\n",
        "chart.interactive()"
      ],
      "metadata": {
        "colab": {
          "base_uri": "https://localhost:8080/",
          "height": 468
        },
        "id": "ymAXJi1ja4Qf",
        "outputId": "76663714-fe75-4920-a958-f7899c7c72c9"
      },
      "execution_count": 41,
      "outputs": [
        {
          "output_type": "execute_result",
          "data": {
            "text/html": [
              "\n",
              "<div id=\"altair-viz-09ab4ae74f9c48179df77ffba2c0e008\"></div>\n",
              "<script type=\"text/javascript\">\n",
              "  var VEGA_DEBUG = (typeof VEGA_DEBUG == \"undefined\") ? {} : VEGA_DEBUG;\n",
              "  (function(spec, embedOpt){\n",
              "    let outputDiv = document.currentScript.previousElementSibling;\n",
              "    if (outputDiv.id !== \"altair-viz-09ab4ae74f9c48179df77ffba2c0e008\") {\n",
              "      outputDiv = document.getElementById(\"altair-viz-09ab4ae74f9c48179df77ffba2c0e008\");\n",
              "    }\n",
              "    const paths = {\n",
              "      \"vega\": \"https://cdn.jsdelivr.net/npm//vega@5?noext\",\n",
              "      \"vega-lib\": \"https://cdn.jsdelivr.net/npm//vega-lib?noext\",\n",
              "      \"vega-lite\": \"https://cdn.jsdelivr.net/npm//vega-lite@4.17.0?noext\",\n",
              "      \"vega-embed\": \"https://cdn.jsdelivr.net/npm//vega-embed@6?noext\",\n",
              "    };\n",
              "\n",
              "    function maybeLoadScript(lib, version) {\n",
              "      var key = `${lib.replace(\"-\", \"\")}_version`;\n",
              "      return (VEGA_DEBUG[key] == version) ?\n",
              "        Promise.resolve(paths[lib]) :\n",
              "        new Promise(function(resolve, reject) {\n",
              "          var s = document.createElement('script');\n",
              "          document.getElementsByTagName(\"head\")[0].appendChild(s);\n",
              "          s.async = true;\n",
              "          s.onload = () => {\n",
              "            VEGA_DEBUG[key] = version;\n",
              "            return resolve(paths[lib]);\n",
              "          };\n",
              "          s.onerror = () => reject(`Error loading script: ${paths[lib]}`);\n",
              "          s.src = paths[lib];\n",
              "        });\n",
              "    }\n",
              "\n",
              "    function showError(err) {\n",
              "      outputDiv.innerHTML = `<div class=\"error\" style=\"color:red;\">${err}</div>`;\n",
              "      throw err;\n",
              "    }\n",
              "\n",
              "    function displayChart(vegaEmbed) {\n",
              "      vegaEmbed(outputDiv, spec, embedOpt)\n",
              "        .catch(err => showError(`Javascript Error: ${err.message}<br>This usually means there's a typo in your chart specification. See the javascript console for the full traceback.`));\n",
              "    }\n",
              "\n",
              "    if(typeof define === \"function\" && define.amd) {\n",
              "      requirejs.config({paths});\n",
              "      require([\"vega-embed\"], displayChart, err => showError(`Error loading script: ${err.message}`));\n",
              "    } else {\n",
              "      maybeLoadScript(\"vega\", \"5\")\n",
              "        .then(() => maybeLoadScript(\"vega-lite\", \"4.17.0\"))\n",
              "        .then(() => maybeLoadScript(\"vega-embed\", \"6\"))\n",
              "        .catch(showError)\n",
              "        .then(() => displayChart(vegaEmbed));\n",
              "    }\n",
              "  })({\"config\": {\"view\": {\"continuousWidth\": 400, \"continuousHeight\": 300}}, \"data\": {\"name\": \"data-593bfcee7e5a44f20eb2814fad79fb11\"}, \"mark\": {\"type\": \"circle\", \"size\": 60}, \"encoding\": {\"color\": {\"condition\": {\"value\": \"red\", \"test\": \"(datum.groups === true)\"}, \"value\": \"blue\"}, \"tooltip\": [{\"field\": \"text\", \"type\": \"nominal\"}], \"x\": {\"field\": \"x\", \"scale\": {\"zero\": false}, \"type\": \"quantitative\"}, \"y\": {\"field\": \"y\", \"scale\": {\"zero\": false}, \"type\": \"quantitative\"}}, \"height\": 400, \"selection\": {\"selector008\": {\"type\": \"interval\", \"bind\": \"scales\", \"encodings\": [\"x\", \"y\"]}}, \"width\": 700, \"$schema\": \"https://vega.github.io/schema/vega-lite/v4.17.0.json\", \"datasets\": {\"data-593bfcee7e5a44f20eb2814fad79fb11\": [{\"text\": \"lot foam banana lactic tart good start start color carbonation visible\", \"groups\": false, \"x\": 15.140803337097168, \"y\": 5.784190654754639}, {\"text\": \"beige foam Dark red red color light light beige malt Dark color foam average\", \"groups\": false, \"x\": 17.224075317382812, \"y\": 8.855908393859863}, {\"text\": \"totally black bit Light roast black drinkable bad totally Beige foam Beige\", \"groups\": false, \"x\": 16.189350128173828, \"y\": 8.995573997497559}, {\"text\": \"Golden yellow yellow color Golden color Good hop sweet yellow compact foam Fresh\", \"groups\": false, \"x\": 17.549612045288086, \"y\": 8.745758056640625}, {\"text\": \"Caldera Cauldron Cauldron Caldera years back DIPA Horse Brass website IPA style IPA goodness\", \"groups\": true, \"x\": 15.654923439025879, \"y\": 4.637264728546143}, {\"text\": \"Chimay goblet Chimay Poured goblet bottle cloudy yellow orange color white head head slightly cloudy\", \"groups\": false, \"x\": 16.130821228027344, \"y\": 8.31206226348877}, {\"text\": \"Lifesource Salem Nice ginger simple Taste bottle sized frothy creamy white white head\", \"groups\": false, \"x\": 17.609880447387695, \"y\": 4.2178215980529785}, {\"text\": \"Sounds redundant beverage brewed ginger added Sounds Malt beverage Malt Ginger light Bottle added\", \"groups\": false, \"x\": 16.20895767211914, \"y\": 8.35340690612793}, {\"text\": \"bit ginger picked cheap compared smallish head bit fizzy pale golden golden color largely uneventful normal lager\", \"groups\": false, \"x\": 14.7102689743042, \"y\": 6.73342227935791}, {\"text\": \"Drie Fonteinen Fonteinen tumbler Drie Fonteinen Poured bomber tumbler Pale malt Hazy titanium yellow body\", \"groups\": false, \"x\": 17.619186401367188, \"y\": 8.980184555053711}, {\"text\": \"ginger ALE ginger beer beer ALE Foods ginger site reason bought shopping\", \"groups\": false, \"x\": 14.83415699005127, \"y\": 6.973015785217285}, {\"text\": \"Indian dinner Bright golden golden glowing lively white white head feathery fluff glowing beer beer feel Nice clear Bright\", \"groups\": false, \"x\": 15.004229545593262, \"y\": 7.030351161956787}, {\"text\": \"white head mild white good retention Pours Great nose clear yellow bomber head retention good\", \"groups\": false, \"x\": 14.526456832885742, \"y\": 6.8377275466918945}, {\"text\": \"novelty product Belgium Tulip bottle product novelty Caldera review Clear golden Tulip Clear\", \"groups\": false, \"x\": 15.511506080627441, \"y\": 5.205262184143066}, {\"text\": \"brown ale Brown color ale Lacking porter lacking flavor flavors Caldera complexity\", \"groups\": false, \"x\": 15.024778366088867, \"y\": 5.673709392547607}, {\"text\": \"Caldera presents doesnt bottle Creek Bar Ashland Ashland Creek Caldera brewpub doesnt located home\", \"groups\": false, \"x\": 15.817611694335938, \"y\": 4.558503150939941}, {\"text\": \"Oregon Brewers Brewers Festival Oregon Festival Brewers dry Orange color lager tasted Orange\", \"groups\": false, \"x\": 15.355252265930176, \"y\": 7.70526647567749}, {\"text\": \"inch fizzy murky light light brown fizzy tan tan head smoked meat campfire smoke beer smoked smoke\", \"groups\": false, \"x\": 13.895623207092285, \"y\": 8.28600025177002}, {\"text\": \"fine surface sudsy head dissipating fine Faint sudsy surface Faint sudsy head dissipating fine\", \"groups\": false, \"x\": 17.998382568359375, \"y\": 9.173943519592285}, {\"text\": \"West area arrival bit lighter Smoky brown ale sweet Pours expecting Good head\", \"groups\": false, \"x\": 14.07829475402832, \"y\": 8.951065063476562}, {\"text\": \"Transferring Sampled notes half finger white head ruby pour smoky finger head Opaque\", \"groups\": false, \"x\": 13.492837905883789, \"y\": 8.560155868530273}, {\"text\": \"meat smoked meat smoked nose burnt amber rauchbier Good head Pours amber Holy smoked\", \"groups\": false, \"x\": 13.338988304138184, \"y\": 8.690324783325195}, {\"text\": \"ruby color Pours clear rich ruby color Smoked off-white head Smoked meat caramel\", \"groups\": false, \"x\": 13.933151245117188, \"y\": 8.770946502685547}, {\"text\": \"mahogany color tan head rich Pours color head bacon rich caramel sided mahogany\", \"groups\": false, \"x\": 13.836674690246582, \"y\": 8.759040832519531}, {\"text\": \"Pours light reddish highlights light caramel caramel brown Pours highlights thin ring light brown reddish\", \"groups\": false, \"x\": 14.452277183532715, \"y\": 9.045032501220703}, {\"text\": \"deep amber red color slightly cloudy cloudy deep thin soap soap ring Rauch goodness pork Rauch Poured amber\", \"groups\": false, \"x\": 13.35571575164795, \"y\": 8.692544937133789}, {\"text\": \"buddy Ryan knocking Ryan stone nonic carbonation Big taste smoke Nice Poured\", \"groups\": false, \"x\": 13.749424934387207, \"y\": 8.195980072021484}, {\"text\": \"Caldera Tap Tap House tap Caldera charred wood night brown color white head wood House\", \"groups\": false, \"x\": 13.658576011657715, \"y\": 8.237318992614746}, {\"text\": \"Oak Park Chicago Binny Binny Oak Park Solid style Chicago Binny Oak peat\", \"groups\": false, \"x\": 17.801883697509766, \"y\": 4.189639568328857}, {\"text\": \"liter stein rich amber time fading.Sweet deep rich finger head sweetish,I found appetizing.Cherry wood wood sweetness light peppery peppery spice\", \"groups\": false, \"x\": 13.78943157196045, \"y\": 8.529293060302734}, {\"text\": \"Semi aggressive nice clarity aggressive pour pour produces light brown brown head rests atop deep copper copper colored Semi\", \"groups\": false, \"x\": 13.693440437316895, \"y\": 8.317695617675781}, {\"text\": \"beer smells Burnt orange lacing Smell burnt oak inch head oak chips Burnt smoked salmon beer salmon Taste\", \"groups\": false, \"x\": 14.037947654724121, \"y\": 7.996427536010742}, {\"text\": \"bubbly head Pours hazy reddish reddish brown quick dissipating dissipating bubbly Darthkostrizer BHOBS Holy shit Bottleshare\", \"groups\": false, \"x\": 14.019289016723633, \"y\": 8.037442207336426}, {\"text\": \"expecting darker good degree Amber yeloowcolored darker kind expecting good degree clarity\", \"groups\": false, \"x\": 13.640175819396973, \"y\": 8.37279224395752}, {\"text\": \"tan head brilliant black ruby tones Pours tan head malty brew Weak retention brilliant black\", \"groups\": false, \"x\": 14.28123664855957, \"y\": 8.85231876373291}, {\"text\": \"bbq Taste slight smoke malt smoke deep red deep deep lot smell peated malt bit smoke lot\", \"groups\": false, \"x\": 13.383194923400879, \"y\": 8.671852111816406}, {\"text\": \"intense smoke smoke flavor Warning flavor intense smoke beer ounce bottle cuz overdose\", \"groups\": false, \"x\": 13.404948234558105, \"y\": 8.626462936401367}, {\"text\": \"crystal clear light lace medium tan tan head slowly fades thin cap leaves light A-Bright crystal clear\", \"groups\": false, \"x\": 13.904009819030762, \"y\": 8.918623924255371}, {\"text\": \"interesting nice beer nice beer looked interesting interesting beer shelf brewery looked Figured\", \"groups\": false, \"x\": 15.36518669128418, \"y\": 6.696125507354736}, {\"text\": \"Amber brown nice ring Amber ring Nicely carbonated good brown color head nice\", \"groups\": false, \"x\": 14.369607925415039, \"y\": 8.390942573547363}, {\"text\": \"shaker pint pint glass Poured glass Clear bomber shaker pint dark amber foam head\", \"groups\": false, \"x\": 14.476127624511719, \"y\": 8.338805198669434}, {\"text\": \"Complex enjoyable enjoyable smoked Complex smoked woody,spicey enjoyable Tasty rich rich malt,caramel Tasty malt,caramel\", \"groups\": false, \"x\": 14.226714134216309, \"y\": 8.834005355834961}, {\"text\": \"amber color dispate quickly dark amber perfect size size head beer pours color quickly smoked strongly\", \"groups\": false, \"x\": 13.997875213623047, \"y\": 8.409085273742676}, {\"text\": \"Bier Stein Rauchbier flavor smoky flavor reviewed smoky Eugene Bier Stein smoked bacon\", \"groups\": false, \"x\": 13.41845417022705, \"y\": 8.612669944763184}, {\"text\": \"amber hues deep amber caramel hue burnt caramel rich burnt Pours hue hues burnt deep\", \"groups\": false, \"x\": 13.635632514953613, \"y\": 8.890599250793457}, {\"text\": \"Beer Stein chestnut brown small off-white off-white head Stein Rauch Beer Bock lace cherry\", \"groups\": false, \"x\": 13.442296981811523, \"y\": 8.609292984008789}, {\"text\": \"ounce bomber beer ounce bomber small head deep bright bright brown pretty pretty small smoked kielba\", \"groups\": false, \"x\": 14.4491605758667, \"y\": 6.999673366546631}, {\"text\": \"usual assortment Porters IPA Rauchbier smoked dominance smoked mood usual assortment smoked beer\", \"groups\": true, \"x\": 13.670917510986328, \"y\": 8.348278045654297}, {\"text\": \"bottle Pours clear half inch crisp malt clear amber inch head plenty smoke smoked malts\", \"groups\": false, \"x\": 14.228042602539062, \"y\": 8.52629566192627}, {\"text\": \"tulip glass Poured smoke glass rust-red color bottle tulip Smoky malt smoke smoke\", \"groups\": false, \"x\": 13.903328895568848, \"y\": 8.312092781066895}, {\"text\": \"Deep cherry cherry body faint beige beige head Deep wisp ring cherry body faint beige\", \"groups\": false, \"x\": 17.777353286743164, \"y\": 9.358043670654297}, {\"text\": \"Ayinger Celebrator Celebrator Doppelbock Doppelbock glass Ayinger Celebrator Doppelbock Poured bomber glass Brilliantly clear\", \"groups\": false, \"x\": 17.94976043701172, \"y\": 9.003684997558594}, {\"text\": \"Hampden picked Poured chilled shared bottle ruby highlights mild haziness translucent clarity woody smokiness aroma\", \"groups\": false, \"x\": 16.03203773498535, \"y\": 8.54576587677002}, {\"text\": \"brown bomber freshness date brown date dry bomber freshness Decent sized sticky lace bright amber\", \"groups\": false, \"x\": 14.274352073669434, \"y\": 7.000603199005127}, {\"text\": \"red hue ruby red soft glow hue ruby red sandy colour laced poorly deep rich\", \"groups\": false, \"x\": 13.289361000061035, \"y\": 8.625529289245605}, {\"text\": \"Pours dark fades fast dark amber short white white fizzy fizzy head smoked pork sweet malt Pours fast\", \"groups\": false, \"x\": 13.85203742980957, \"y\": 8.449029922485352}, {\"text\": \"attractive shade beer pours ruby brown Traverse City attractive head attractive nice lace beer pours clear\", \"groups\": false, \"x\": 14.034582138061523, \"y\": 8.38048267364502}, {\"text\": \"Pours coppery solid retention medium head Pours Beautiful sweet bomber head solid retention lace\", \"groups\": false, \"x\": 14.452908515930176, \"y\": 9.059897422790527}, {\"text\": \"Bailey Deep auburn surprise finest haziness ivory head nice tap grabbed pour Deep\", \"groups\": false, \"x\": 15.329754829406738, \"y\": 9.328241348266602}, {\"text\": \"Pale Ale Ale Picked Light golden white head Gourmet golden orange small fluffy fluffy white Light Pale\", \"groups\": false, \"x\": 15.342242240905762, \"y\": 5.574791431427002}, {\"text\": \"glass pint glass pint poured pale ales Cool green SoCal green tab beers pale\", \"groups\": false, \"x\": 17.756792068481445, \"y\": 4.968419075012207}, {\"text\": \"head layer cloudy orange crisp white finger head Pours Slightly citrusy layer cloudy orange crisp\", \"groups\": false, \"x\": 17.399585723876953, \"y\": 7.324138641357422}, {\"text\": \"Beer Powerball Powerball Beer Received nice straw-colored beer drinking beer nice half records half centimeter\", \"groups\": false, \"x\": 16.970138549804688, \"y\": 5.3738861083984375}, {\"text\": \"Beersofeurope.com light good bought slight haze Poured golden yellow yellow colour grassy light covering\", \"groups\": false, \"x\": 18.697633743286133, \"y\": 8.505704879760742}, {\"text\": \"BIF recently Friday BIF Served cold received recently thing grabbed fridge home\", \"groups\": false, \"x\": 17.685102462768555, \"y\": 4.819077968597412}, {\"text\": \"peach head hoppy Orangeish head peach alot Smell Taste Good flavor\", \"groups\": false, \"x\": 17.246501922607422, \"y\": 7.64707612991333}, {\"text\": \"pint glass clear pint Wine Warehouse Poured glass freshness date clear pint Charlottesville Warehouse\", \"groups\": false, \"x\": 16.97270393371582, \"y\": 8.006145477294922}, {\"text\": \"flavor bore bad beer aroma beer flavor bore strength bad nice lacing hop aroma\", \"groups\": false, \"x\": 15.855949401855469, \"y\": 7.451226234436035}, {\"text\": \"Northern California quality brews California Northern Castle lake enjoying variety quality brews finding\", \"groups\": false, \"x\": 16.551000595092773, \"y\": 5.2736921310424805}, {\"text\": \"poured tulip See-thru deep off-white head deep gold gold body finger worth creamy off-white bit Pretty good\", \"groups\": false, \"x\": 18.133312225341797, \"y\": 4.402469635009766}, {\"text\": \"ecru head deep shade fluffy ecru Pours head hops deep shade gold fluffy\", \"groups\": false, \"x\": 16.06658172607422, \"y\": 7.625364780426025}, {\"text\": \"orange hue clear golden golden color slight orange slight slight hop hop presence presence giving nice presence\", \"groups\": false, \"x\": 15.805081367492676, \"y\": 8.094091415405273}, {\"text\": \"gold highlights orange color Poured ale clear highlights pale ale orange color gold\", \"groups\": false, \"x\": 15.359709739685059, \"y\": 5.814504623413086}, {\"text\": \"Liquid Solutions Solutions Liquid pale ale appropriately pale light golden pale golden hue light light color\", \"groups\": false, \"x\": 18.353517532348633, \"y\": 4.746683597564697}, {\"text\": \"pint glass good carbonation hop blast good body Poured glass pretty bitter beer store good pint\", \"groups\": false, \"x\": 15.442572593688965, \"y\": 4.9089531898498535}, {\"text\": \"finger head pale straw straw gold frothy light Pours finger head Decent retention pale straw\", \"groups\": false, \"x\": 16.64875602722168, \"y\": 8.775055885314941}, {\"text\": \"crisp clear clear pale pale gold gold color small head Pours quickly citrus smell crisp clear\", \"groups\": false, \"x\": 16.110980987548828, \"y\": 8.153626441955566}, {\"text\": \"State Line Clear light white head Clear State Line Citrus orange light light orange\", \"groups\": false, \"x\": 18.3990535736084, \"y\": 8.069623947143555}, {\"text\": \"white head clear golden golden hue bright white Poured head Good lacing clear golden hue\", \"groups\": false, \"x\": 16.301841735839844, \"y\": 5.728794097900391}, {\"text\": \"amber hues clear gold Pours hues spotty lacing clear gold amber finger width honey\", \"groups\": false, \"x\": 18.760574340820312, \"y\": 8.559354782104492}, {\"text\": \"straw highlights golden hue crystal-clear light light golden light light foamy pours highlights crystal-clear golden\", \"groups\": false, \"x\": 18.658353805541992, \"y\": 8.498854637145996}, {\"text\": \"pint glass Pours clear Poured glass golden color quickly leaves pint Aroma one-finger off-white off-white head\", \"groups\": false, \"x\": 18.838111877441406, \"y\": 6.990273952484131}, {\"text\": \"Caldera IPA subsequent trade IPA Caldera Lost Abbey thirstyhophead threw trade Abbey chalice introduced\", \"groups\": true, \"x\": 15.668749809265137, \"y\": 4.858964920043945}, {\"text\": \"moderate bitterness clear golden white head average retention primarily tropical pretty nice light-medium carbonation simple pale clean citrus citrus bite\", \"groups\": false, \"x\": 17.242353439331055, \"y\": 8.152544975280762}, {\"text\": \"Tidewater Virginia Virginia area Grape Tidewater Virginia Gourmet area average fairly hops\", \"groups\": false, \"x\": 16.047679901123047, \"y\": 7.185004234313965}, {\"text\": \"finger deep white head pale straw deep white Cascade hoppiness flowery Cascade Pours bubbly finger head\", \"groups\": false, \"x\": 16.478925704956055, \"y\": 7.808475971221924}, {\"text\": \"pint glass glass colored head pint clear gold foamy cream cream colored stays strong back smooth retention\", \"groups\": false, \"x\": 19.168777465820312, \"y\": 6.2707743644714355}, {\"text\": \"Beer Run Bowl Sunday Super Bowl Charlottesville Run Sunday Beer Super Bowl traditional American\", \"groups\": false, \"x\": 17.55512237548828, \"y\": 5.4852142333984375}, {\"text\": \"hopped background pale golden golden hue substantial fluffy fluffy head appetizing sweet sweet spicy spicy malts floral hopped Pours\", \"groups\": false, \"x\": 16.272247314453125, \"y\": 8.58952522277832}, {\"text\": \"light nonic slight haze pale golden golden hue hops light hop flavor light spiciness provide light\", \"groups\": false, \"x\": 18.507373809814453, \"y\": 4.97935152053833}, {\"text\": \"yellowish amber Rolling Rock pale yellowish amber pale yellowish Tropical fruit Rock kinda Rolling\", \"groups\": false, \"x\": 17.91059684753418, \"y\": 8.140871047973633}, {\"text\": \"light white head slightly hazy hazy golden golden color smaller sized citrus wet hay light honey light grapefruit\", \"groups\": false, \"x\": 18.749277114868164, \"y\": 5.187985420227051}, {\"text\": \"Reino poured pint glass Reino glass light good lacing courtesy poured pint decent creamy\", \"groups\": false, \"x\": 17.976173400878906, \"y\": 4.558884620666504}, {\"text\": \"Football LIF Survival Football LIF Survival Football flexabull sending McChouffe tulip golden yellow citrus\", \"groups\": false, \"x\": 15.731718063354492, \"y\": 7.88943338394165}, {\"text\": \"imperial pint Pretty simple Poured imperial pint Pretty bright golden Pours golden color lazy trails\", \"groups\": false, \"x\": 18.414281845092773, \"y\": 5.41726541519165}, {\"text\": \"Ashland beer wanted unique Oregon noticed creative spirit alright boiled vegetables Blech\", \"groups\": false, \"x\": 15.66578483581543, \"y\": 6.726944446563721}, {\"text\": \"Caldera Pale Pale Ale grocery store Caldera Pale Ale store bought six-pack grocery\", \"groups\": false, \"x\": 15.47348403930664, \"y\": 5.010045528411865}, {\"text\": \"Yum craft brews canned craft package beer cools faster brews Decent head Golden color chill hazed events\", \"groups\": false, \"x\": 16.254093170166016, \"y\": 5.9209370613098145}, {\"text\": \"golden color Nice golden color golden Nice pale ale slimy hops nice maltyness Feels\", \"groups\": false, \"x\": 16.8623046875, \"y\": 7.644486427307129}, {\"text\": \"Golden amber finger head slightest haze nice sticky Golden Appearance head Juicy citrus cascade aroma Pale Ale\", \"groups\": false, \"x\": 17.615577697753906, \"y\": 8.05447006225586}, {\"text\": \"Caldera Pale foam head clear orange orange hue finger foam Pale Ale Ale poured Caldera Pale Ale\", \"groups\": false, \"x\": 15.253244400024414, \"y\": 5.495987415313721}, {\"text\": \"Town Pizza pint glass Town Pizza Portland pale ale Solid amber glass Drank pale\", \"groups\": false, \"x\": 15.591510772705078, \"y\": 5.762900352478027}, {\"text\": \"UGLY BIF BIF UGLY flexabull Gotta love canned beers hops pale love craft craft canned\", \"groups\": false, \"x\": 16.621191024780273, \"y\": 6.641402244567871}, {\"text\": \"Slightly dinged-up Bottles Millwood Nigel Tufnel slightly bronzy big fingers Slightly dinged-up fingers white foam\", \"groups\": false, \"x\": 16.559682846069336, \"y\": 4.714999198913574}, {\"text\": \"Oregon Oregon brewed Vacationing aroma nice hop caramel malt bubbles good\", \"groups\": false, \"x\": 16.51366424560547, \"y\": 5.799442291259766}, {\"text\": \"yellow color white head dark golden golden yellow finger creamy creamy white sticky lacing nice nice carbonation lots\", \"groups\": false, \"x\": 16.573665618896484, \"y\": 8.386690139770508}, {\"text\": \"lightly sweet sweet malt,solid caramel base.An standard pint pint glass thinner white white head minmimal lace settled quickly.Fresh quickly.Fresh cascade\", \"groups\": false, \"x\": 18.24237823486328, \"y\": 6.990697860717773}, {\"text\": \"pint glass good citrus notes Poured notes pint glass liquid yellow citrus\", \"groups\": false, \"x\": 18.495149612426758, \"y\": 5.499847412109375}, {\"text\": \"Caldera Pale Pale Ale moderate size tight white white head long lasting leaves thick thick hunks golden yellow Caldera\", \"groups\": false, \"x\": 16.445905685424805, \"y\": 4.4388108253479}, {\"text\": \"opens biscuity taste makes quickly fades pithy grapefrui slightly hazy hazy golden golden color modest head pale ale cat litter\", \"groups\": false, \"x\": 17.081579208374023, \"y\": 6.565768241882324}, {\"text\": \"Clear golden-orange golden-orange color small white white head Clear golden-orange color small white head\", \"groups\": false, \"x\": 17.455692291259766, \"y\": 8.950894355773926}, {\"text\": \"Pours golden eggshell white Slight lemony white head lemony Pours finger good head head retention bit\", \"groups\": false, \"x\": 17.53244400024414, \"y\": 6.515419960021973}, {\"text\": \"glass tumbler Poured tumbler Nice Nice aroma glass yellow appearance Nice fluffy pale yellow appearance\", \"groups\": false, \"x\": 16.911081314086914, \"y\": 5.697129726409912}, {\"text\": \"Hazy yellow Hazy taste bad yellow wouldnt great Light mass-marketed yellow yellow brews\", \"groups\": false, \"x\": 15.894896507263184, \"y\": 6.3557586669921875}, {\"text\": \"yellow-orange body wispy white white head Pours Appearance hazy yellow-orange thin wispy head\", \"groups\": false, \"x\": 15.290460586547852, \"y\": 5.714680194854736}, {\"text\": \"CEO BIF pale ale classic pale BIF CEO ale classic pale courtesy unclejedi\", \"groups\": false, \"x\": 15.959574699401855, \"y\": 5.461418628692627}, {\"text\": \"Golden amber white head amber body solid finger thick white hops Pale Golden head tart\", \"groups\": false, \"x\": 17.384885787963867, \"y\": 8.319514274597168}, {\"text\": \"Pale Ale Dale Pale road trip recent road time yesterday Dale Pale Ale yesterday trip\", \"groups\": false, \"x\": 15.46513843536377, \"y\": 6.2293267250061035}, {\"text\": \"Thoughtfully provided Boston Lager Thoughtfully flexabull provided Aroma floral Re-review Boston Lager\", \"groups\": false, \"x\": 17.01873207092285, \"y\": 5.635554790496826}, {\"text\": \"gold color white head clear gold big impressive impressive white light Pours color head APA\", \"groups\": false, \"x\": 15.907195091247559, \"y\": 7.194639682769775}, {\"text\": \"great trade msbulldog great trade nice hsss nice average nice carbonation trust man\", \"groups\": false, \"x\": 15.765003204345703, \"y\": 6.592555999755859}, {\"text\": \"ounces surface covering carbonation covering oxidation whatsoever sloshed short-filled measured affect flavor\", \"groups\": false, \"x\": 18.381038665771484, \"y\": 6.112267971038818}, {\"text\": \"Hops flavor Wow hops Czech hops time drank beer flavor Pretty crystal sticking lacing\", \"groups\": false, \"x\": 16.38262367248535, \"y\": 6.002875328063965}, {\"text\": \"simple classy classy labeling hop flowers cascade hop beer movement Presentation craft beer simple including beer\", \"groups\": false, \"x\": 17.004629135131836, \"y\": 4.860462188720703}, {\"text\": \"golden color-very color-very clear-a clear-a tad tad deeper Great golden Good pales Great golden color-very\", \"groups\": false, \"x\": 16.12393569946289, \"y\": 6.735253810882568}, {\"text\": \"white head clear golden foamy white nice clear golden pale nice Smells nice Pours head hop aroma\", \"groups\": false, \"x\": 15.626916885375977, \"y\": 6.067673683166504}, {\"text\": \"white white white head thin white head white nice head pour thin bitter sweet malt\", \"groups\": false, \"x\": 16.63957405090332, \"y\": 8.121034622192383}, {\"text\": \"camping beer review sake deep golden foamy cap perfect camping active carbonation lovely white white foamy Pours British IPA\", \"groups\": true, \"x\": 17.354583740234375, \"y\": 5.823814868927002}, {\"text\": \"Pale Ale Caldera Pale Pale Ale nice pale Caldera nice beer neighbor collects\", \"groups\": false, \"x\": 15.788840293884277, \"y\": 5.550076484680176}, {\"text\": \"Craft brew Craft floral hops brew floral hops malt caramel nice reason\", \"groups\": false, \"x\": 17.051143646240234, \"y\": 5.810453414916992}, {\"text\": \"Dark honey slightest suggestion criminal offense Dark orange cream colored honey slightest suggestion colored head\", \"groups\": false, \"x\": 16.43741798400879, \"y\": 5.865415096282959}, {\"text\": \"simple silver calderon surrounded hop leafs excellent lacing simple front coloured ale sizeable chunky white head silver\", \"groups\": false, \"x\": 17.925640106201172, \"y\": 4.437932968139648}, {\"text\": \"light oily piny oily gold yellow shiny body earthy malt grapefruit lemon peel sticky bitter sticky mouth light orange\", \"groups\": false, \"x\": 17.731727600097656, \"y\": 8.977516174316406}, {\"text\": \"pint glass bottle glass off-white head pint slightly hazy hazy deep deep gold gold color notes\", \"groups\": false, \"x\": 16.727773666381836, \"y\": 8.107353210449219}, {\"text\": \"Wine Cellars Costa Mesa Hi-Time Wine past weekend Caldera IPA Wine Cellars Costa Mesa Picked\", \"groups\": true, \"x\": 17.155014038085938, \"y\": 5.175301551818848}, {\"text\": \"copper color clean white white head thick Zombie Dust nice golden copper float. fruity hop\", \"groups\": false, \"x\": 16.660070419311523, \"y\": 7.192902565002441}, {\"text\": \"pint Pours white head hazy golden golden color fluffy white Pours pine head earthy poured\", \"groups\": false, \"x\": 17.753894805908203, \"y\": 5.024686813354492}, {\"text\": \"spotty lacing excellent clarity off-white foam solid sheet pours honey strong spotty sweet malts Canned herbal hops citric hops\", \"groups\": false, \"x\": 18.773019790649414, \"y\": 8.568697929382324}, {\"text\": \"Duvel tulip Duvel tulip in-person trade DLD nice orange body date today Oops\", \"groups\": false, \"x\": 18.255653381347656, \"y\": 4.40376091003418}, {\"text\": \"Glowing orange frothy ring pint glass white head Glowing amber color Poured orange amber ring\", \"groups\": false, \"x\": 18.932985305786133, \"y\": 7.430944442749023}, {\"text\": \"Deschutes Becker pint glass Becker style pale ale Deschutes Becker style pint pale ale Poured\", \"groups\": false, \"x\": 17.744171142578125, \"y\": 5.241405010223389}, {\"text\": \"perfect clarity big foamy foamy white white head Orange-yellow top pine hops citrus color perfect\", \"groups\": false, \"x\": 18.13296127319336, \"y\": 7.986005783081055}, {\"text\": \"Standard lighter foamy head lighter yellow good foamy yellow pale pale ale Standard head good lighter\", \"groups\": false, \"x\": 15.79594898223877, \"y\": 6.1382951736450195}, {\"text\": \"Hazy apricot apricot color solid frothy frothy eggshell eggshell colored colored head great retention hop notes Hazy lacing\", \"groups\": false, \"x\": 16.521493911743164, \"y\": 6.577090740203857}, {\"text\": \"Good pale pale ale Good ale pale great golfing fare Tastes great great choice craft beer\", \"groups\": false, \"x\": 15.706103324890137, \"y\": 5.910407066345215}, {\"text\": \"pint glass Clear copper Slightly nutty glass Slightly poured pint Clear nutty floral\", \"groups\": false, \"x\": 18.243410110473633, \"y\": 4.919648170471191}, {\"text\": \"Aggressive pour pour yields Aggressive white head pour yields inch white head Bright citrus\", \"groups\": false, \"x\": 17.730220794677734, \"y\": 7.035606384277344}, {\"text\": \"small snifter Poured snifter small Slightly hazed drops slowly leaving film honking cream-colored cream-colored head big walls\", \"groups\": false, \"x\": 16.71748161315918, \"y\": 8.789406776428223}, {\"text\": \"Virginia Beach Beach Virginia Purchased caramel malts pint glass perfect pint Pale orange nose caramel\", \"groups\": false, \"x\": 19.17721939086914, \"y\": 6.906053066253662}, {\"text\": \"hazy pale pale orange hazy orange pale white head fluffy white slightly bitterness reasonable retention\", \"groups\": false, \"x\": 17.552188873291016, \"y\": 8.513665199279785}, {\"text\": \"Sam Adams Sam Adams Pours straw-colored Pale Ale glass chill haze hops Pours Pleasantly surprised\", \"groups\": false, \"x\": 17.718048095703125, \"y\": 6.88645076751709}, {\"text\": \"pale golden pint glass straw liquid white head Nice pale Poured golden head Nice pint\", \"groups\": false, \"x\": 17.01643180847168, \"y\": 5.797588348388672}, {\"text\": \"BBQ beer Mild sweetness crisp grassy summer BBQ golden color piney type medium bodied decent pale hop scent herbal hop\", \"groups\": false, \"x\": 16.661352157592773, \"y\": 7.3270978927612305}, {\"text\": \"pours clear pale orange head pours clear pale yellow white head orange palate\", \"groups\": false, \"x\": 17.146360397338867, \"y\": 8.368639945983887}, {\"text\": \"excellent retention lasting cap hazy dark dark golden golden yellow yellow color finger off-white off-white head slowly fading Pours\", \"groups\": false, \"x\": 18.015193939208984, \"y\": 8.800116539001465}, {\"text\": \"DFH pint DFH pint glass Poured pint nose canning date glass nice pale\", \"groups\": false, \"x\": 17.9012451171875, \"y\": 5.248419761657715}, {\"text\": \"pours straw white head straw gold thick white pine slight pine pours head aroma sugar\", \"groups\": false, \"x\": 16.487144470214844, \"y\": 7.380681037902832}, {\"text\": \"bit schmoopsbeer sending good grassy hops Pour yields good off-white bit grainy transparent golden-hued\", \"groups\": false, \"x\": 16.263341903686523, \"y\": 8.390045166015625}, {\"text\": \"Pint App Light yellow light orange orange highlights Light App Pint review highlights medium\", \"groups\": false, \"x\": 17.647628784179688, \"y\": 5.59779691696167}, {\"text\": \"pour great love Sierra Nevada Sierra malt big head vanishes quickly pour Pours HAIR darker\", \"groups\": false, \"x\": 16.60312843322754, \"y\": 5.353132724761963}, {\"text\": \"finger thick white head Pours body Pink grapefruit Slightly hazy grapefruit Nice hazy body dry\", \"groups\": false, \"x\": 17.8875732421875, \"y\": 4.547237873077393}, {\"text\": \"Dark yellow Review notes Hops good head visiting family Dark Bitter great pour malt balances\", \"groups\": false, \"x\": 16.401071548461914, \"y\": 7.182246208190918}, {\"text\": \"style nicely Pale Ale Ale style beer exemplifies caramel maltiness citrusy hops beer pour Pale Ale nicely\", \"groups\": false, \"x\": 16.494495391845703, \"y\": 7.794770240783691}, {\"text\": \"weeks back couple weeks Live Product Calderas times undated buddy back number fresh\", \"groups\": false, \"x\": 16.6572208404541, \"y\": 4.733102798461914}, {\"text\": \"exceptionally creamy cloudy golden yellow body golden yellow creamy head head atop yellow closer lemon yellow yellow body\", \"groups\": false, \"x\": 19.22962188720703, \"y\": 7.4178338050842285}, {\"text\": \"pint pot young pint Bright gold Bright pot suspended half gold half poured young\", \"groups\": false, \"x\": 18.104530334472656, \"y\": 5.913553237915039}, {\"text\": \"Love IPA guys give golden yellow light golden IPA available. bit hops malts\", \"groups\": true, \"x\": 16.61016845703125, \"y\": 6.935356616973877}, {\"text\": \"clear golden overly-agressive pour golden color filled half massive head Bright head clear pour Head settles\", \"groups\": false, \"x\": 17.902753829956055, \"y\": 8.291874885559082}, {\"text\": \"LIF pale malt malt putting brought Clear straw yellow body straw yellow head pale\", \"groups\": false, \"x\": 19.28911018371582, \"y\": 7.305408000946045}, {\"text\": \"pint glass imperial pint glass poured imperial pint Sweet canned beer forward citrus\", \"groups\": false, \"x\": 18.267078399658203, \"y\": 6.144611358642578}, {\"text\": \"Ohio Toledo Andersons Grabbed single Pours Bright hop brilliant deep deep straw straw color\", \"groups\": false, \"x\": 19.013547897338867, \"y\": 6.173842906951904}, {\"text\": \"unknown date unknown date orange oranges Pours semi-hazy semi-hazy golden fair cap finger fluffy fluffy white\", \"groups\": false, \"x\": 19.203155517578125, \"y\": 6.439196586608887}, {\"text\": \"care Full Sail pale Sail Pale Pale Ale good decent head good lace orange beer\", \"groups\": false, \"x\": 17.55278968811035, \"y\": 4.255612850189209}, {\"text\": \"golden orange slightly fizzy fizzy brew fluffy off-white off-white head constricts slowly outright fading slight fluffy slight caramel slight\", \"groups\": false, \"x\": 18.53630828857422, \"y\": 8.389880180358887}, {\"text\": \"apricot orange clear apricot Pours honey orange Bready caramel clear apricot hops finger sticky-looking\", \"groups\": false, \"x\": 18.783227920532227, \"y\": 7.918844699859619}, {\"text\": \"fingers foamy white head foamy white Pours clear light light yellow fingers head Lots light\", \"groups\": false, \"x\": 18.824968338012695, \"y\": 7.72752046585083}, {\"text\": \"Floral notes light booze golden color white head biscuity notes Nice feel Floral nice golden Caramel West Coast\", \"groups\": false, \"x\": 16.83355140686035, \"y\": 8.29511547088623}, {\"text\": \"long lasting hazy amber finger offwhite offwhite head head thst amber body lasting Abundant patchy dispenses hazy\", \"groups\": false, \"x\": 19.17201042175293, \"y\": 6.342190265655518}, {\"text\": \"grey market Ohio imported market beer surfaced stumbled surfaced grey beer fresh\", \"groups\": false, \"x\": 16.16935920715332, \"y\": 6.006687641143799}, {\"text\": \"Poured snifter golden body off-white head crystal clear finger worth rest atop head Faint streams sticky crown\", \"groups\": false, \"x\": 18.26878547668457, \"y\": 5.81282901763916}, {\"text\": \"Brewing Company Caldera Brewing Caldera Pale Caldera Company Brewing ABV Pale Ale IBU\", \"groups\": false, \"x\": 16.02493667602539, \"y\": 4.565822124481201}, {\"text\": \"solid APA bit non-descript APA cleanest flavor flavor profile hops bittering non-descript style Nice carbonation hops\", \"groups\": false, \"x\": 16.388742446899414, \"y\": 7.902346134185791}, {\"text\": \"degrees caramel Poured bit tumbler Medium yellow eggshell white finger width width head yellow body\", \"groups\": false, \"x\": 18.76163673400879, \"y\": 5.921692371368408}, {\"text\": \"Mag Oct Beer review Oct Mag craft beers canned beer Beer review surrounds canned color\", \"groups\": false, \"x\": 16.88088607788086, \"y\": 5.22266149520874}, {\"text\": \"nice citrus crisp mouthfeel light bodied citrus hop bready malts hop aroma malt backbone clear orangish orangish rust rust color\", \"groups\": false, \"x\": 18.096261978149414, \"y\": 7.956024169921875}, {\"text\": \"date Poured clear orange white head slightly shown freshness date half-inch white refreshing Poured quickly\", \"groups\": false, \"x\": 17.720272064208984, \"y\": 4.31825590133667}, {\"text\": \"golden color slow dissipating dissipating head leaves decent decent lacing Pours light golden Toasted bready hop profile Appearance\", \"groups\": false, \"x\": 19.142717361450195, \"y\": 7.331650733947754}, {\"text\": \"American West West Coast Light caramel Coast IPA floral notes amber color pale amber nice white white head good carbonation\", \"groups\": true, \"x\": 16.954442977905273, \"y\": 7.067840099334717}, {\"text\": \"vet BIF BIF Flexabull sending vet canned brews brew glass pint glass glass produced\", \"groups\": false, \"x\": 16.629798889160156, \"y\": 5.733526229858398}, {\"text\": \"Pale amber beutifully clear white head nice white Pale Sweet fruit fruit flavor Sweet caramel flavor Sweet\", \"groups\": false, \"x\": 17.513195037841797, \"y\": 8.234323501586914}, {\"text\": \"Golden amber big foamy foamy head Golden top amber big foamy head floats\", \"groups\": false, \"x\": 17.78392791748047, \"y\": 8.381211280822754}, {\"text\": \"received dogfish head head signature lasting head extra remember hazy gold signature glass short lasting interestingly left\", \"groups\": false, \"x\": 17.055450439453125, \"y\": 5.385469436645508}, {\"text\": \"Abe Cold Thai curry good combo couple bucks Cold Beer Abe Cold Thai Picked curry\", \"groups\": false, \"x\": 16.17045021057129, \"y\": 6.005500316619873}, {\"text\": \"dark golden light-colored pale Pour dark golden light-colored pale frothy half half inch bubbly white\", \"groups\": false, \"x\": 17.871580123901367, \"y\": 8.565641403198242}, {\"text\": \"Sam Adams Adams glass Sam Adams Poured glass pale body pale gold date\", \"groups\": false, \"x\": 17.87403106689453, \"y\": 4.743459701538086}, {\"text\": \"received today great trader russpowell received today great trader good Russ Caldera\", \"groups\": false, \"x\": 16.797958374023438, \"y\": 4.644429683685303}, {\"text\": \"Bright golden notes Taste-biscuit glass Bright Poured dense head grapefruit peel drinkable APA-out citrus rind subtle hop hop bite\", \"groups\": false, \"x\": 17.90499496459961, \"y\": 5.52558708190918}, {\"text\": \"Pours golden white foam sized white medium sized Pours foam golden sized white bready\", \"groups\": false, \"x\": 15.945470809936523, \"y\": 7.992397785186768}, {\"text\": \"dense white white head massive cascading carbonation rising herbal hops Golden surface West Coast Pale Ale dense\", \"groups\": false, \"x\": 15.47790241241455, \"y\": 5.591732978820801}, {\"text\": \"nice gold gold color thick frothy frothy white white head slowly fades good beer pours lacing pale\", \"groups\": false, \"x\": 15.462010383605957, \"y\": 7.361536502838135}, {\"text\": \"straight glass Poured IPA light straight glass cloudy yellow pineapple juice minimal lacing thin cap white head\", \"groups\": true, \"x\": 17.9733943939209, \"y\": 6.034585475921631}, {\"text\": \"mixed sixer Abe Tregs shaker ounce sixer Cracked open picked part mixed Tregs\", \"groups\": false, \"x\": 17.60374641418457, \"y\": 4.532366752624512}, {\"text\": \"bronze Big eggshell eggshell head beer bitterness Brilliantly clear malt nice Big head\", \"groups\": false, \"x\": 17.469343185424805, \"y\": 8.678961753845215}, {\"text\": \"regular kitchen kitchen glass Bright white snowstorm Bright nice bright white golden regular kitchen glass\", \"groups\": false, \"x\": 17.173694610595703, \"y\": 4.46370792388916}, {\"text\": \"gold color clear bright bright gold color APA clear bright gold Nice relax\", \"groups\": false, \"x\": 17.221649169921875, \"y\": 8.235945701599121}, {\"text\": \"mark point find limit wondered CANQuest breached realize sky unsolicited BeerMails\", \"groups\": false, \"x\": 16.70783233642578, \"y\": 5.0276336669921875}, {\"text\": \"basic blonde decent lacing mild white white head basic blonde mild head decent lacing\", \"groups\": false, \"x\": 17.16905403137207, \"y\": 7.579345703125}, {\"text\": \"white head quickly dicipating decent lacing yello color frothy white straw yello pale straw Pours head quickly\", \"groups\": false, \"x\": 15.54462718963623, \"y\": 6.66772985458374}, {\"text\": \"home tonight Brewforia tonight Delirium goblet picked home paid Delirium Nose descent\", \"groups\": false, \"x\": 17.329862594604492, \"y\": 4.344753265380859}, {\"text\": \"amazingly clear golden pour fluffy white white head pale ale refreshing citrus clear golden top pale\", \"groups\": false, \"x\": 15.744460105895996, \"y\": 5.70205020904541}, {\"text\": \"Hazy golden golden orange huge off-white off-white head Hazy finger head head slowly head Big citrus golden\", \"groups\": false, \"x\": 18.446985244750977, \"y\": 8.05112361907959}, {\"text\": \"moderate carbonation moderate citrusy golden amber nice backbone biscuity maltiness alcohol evident bright golden perfectly clear two-finger white white head\", \"groups\": false, \"x\": 17.55563735961914, \"y\": 7.841501712799072}, {\"text\": \"Great pale Great pale ale pale ale balanced blahh category category refreshing sticks\", \"groups\": false, \"x\": 15.533187866210938, \"y\": 6.229727268218994}, {\"text\": \"orange side beer pours extremely clear clear yellow yellow leaning Appearance golden orange side clouds forming\", \"groups\": false, \"x\": 15.107511520385742, \"y\": 7.496274471282959}, {\"text\": \"clear gold sticky white white head complex malts glass leafy hop equally bold pours clear gold\", \"groups\": false, \"x\": 15.986929893493652, \"y\": 7.2975029945373535}, {\"text\": \"pint glass Poured glass pint Pretty foamy head nice slightly earthy cloudy golden-straw\", \"groups\": false, \"x\": 16.1109619140625, \"y\": 7.716862678527832}, {\"text\": \"glass Pours pint glass bright yellow nice head Pours head lacing Smells slightly slightly hoppy wet greens\", \"groups\": false, \"x\": 18.0978946685791, \"y\": 4.860047817230225}, {\"text\": \"great retention bright orange modest head showed great hops Appearance grain retention light bright\", \"groups\": false, \"x\": 18.393714904785156, \"y\": 7.961392402648926}, {\"text\": \"Outlet Liquors Rehoboth Beach poured chilled half pint Outlet Liquors Rehoboth Beach poured pint\", \"groups\": false, \"x\": 17.91102409362793, \"y\": 7.660482883453369}, {\"text\": \"white head compact fizzy fizzy white head finger compact fizzy white slightly Moderate retention\", \"groups\": false, \"x\": 18.528621673583984, \"y\": 8.257930755615234}, {\"text\": \"Kegatron bite Phoenix Pal Sly Fox Fox Phoenix A-Bright golden spotty lace hop bite hops hop\", \"groups\": false, \"x\": 17.90762710571289, \"y\": 8.416973114013672}, {\"text\": \"Oregon brewer solid lace dark yellow white head guys finally finally showed Southland Pours Oregon yellow\", \"groups\": false, \"x\": 16.356271743774414, \"y\": 4.444499492645264}, {\"text\": \"minimal head opaque deep deep sable head pour Pacific Northwest coffee high-quality coffee Smoky aroma tap\", \"groups\": false, \"x\": 14.979060173034668, \"y\": 8.687820434570312}, {\"text\": \"Red Star Star Tavern Roast House downtown Portland Served on-tap Red Tavern Roast Portland Star\", \"groups\": false, \"x\": 15.390295028686523, \"y\": 9.273048400878906}, {\"text\": \"tan head thin tan black head roasted malt style thin tan nose Good lace\", \"groups\": false, \"x\": 17.308677673339844, \"y\": 8.661494255065918}, {\"text\": \"Horse Brass Brass Pub Portland Horse Brass Pub deep brown tap Slight coffee tan head\", \"groups\": false, \"x\": 15.20414924621582, \"y\": 9.385159492492676}, {\"text\": \"Bailey Taproom Oregon Portland August Bailey Taproom roasted malt coffee tap tan head\", \"groups\": false, \"x\": 15.267125129699707, \"y\": 9.308753967285156}, {\"text\": \"Wonderful fluffy headed porter fluffy full full headed Wonderful porter Great fluffy full headed\", \"groups\": false, \"x\": 15.468985557556152, \"y\": 9.092070579528809}, {\"text\": \"deep black tan colored colored head Appearance deep tan roasted black colored head\", \"groups\": false, \"x\": 15.624263763427734, \"y\": 8.843128204345703}, {\"text\": \"Southeast Portland Pilot Rock Rock Porter Night Light Light Lounge Clinton Street Street Theater Portland Rock Night\", \"groups\": false, \"x\": 14.212566375732422, \"y\": 8.380171775817871}, {\"text\": \"Pilot Rock ruby highlights Rock thin head Pilot lace Siskiyou Pub brown ruby highlights\", \"groups\": false, \"x\": 14.316418647766113, \"y\": 8.277583122253418}, {\"text\": \"pint glass Poured bottle glass dark fruits pint Sweet dark Pours clear garnet garnet color\", \"groups\": false, \"x\": 15.151399612426758, \"y\": 7.355401992797852}, {\"text\": \"khaki head thin ring dark mahogany pours lacing roasted malt mahogany finger khaki head\", \"groups\": false, \"x\": 16.201316833496094, \"y\": 9.238229751586914}, {\"text\": \"cheers John Pours chestnut Nashvillian John Pours tan head Rich dark Average head head retention cheers\", \"groups\": false, \"x\": 17.410972595214844, \"y\": 9.029031753540039}, {\"text\": \"amber hue slightly reddish reddish amber dissipates quickly Drank hue completely good orange chocolate slightly\", \"groups\": false, \"x\": 15.036227226257324, \"y\": 6.143147945404053}, {\"text\": \"tulip glass Roasted malt Deep mahogany chocolate Roasted Poured glass orange malt Deep\", \"groups\": false, \"x\": 17.153362274169922, \"y\": 9.197750091552734}, {\"text\": \"Piraat tulip Piraat dark fruits dark brown body dark copper Poured bottle tulip lazy tan\", \"groups\": false, \"x\": 18.137060165405273, \"y\": 7.181625843048096}, {\"text\": \"left atop bronze type type color nice thin thin layer lace left coppery atop dark Malty\", \"groups\": false, \"x\": 17.360273361206055, \"y\": 8.78503704071045}, {\"text\": \"pint glass Malty Poured glass bottle pint Smell Pours dark redish redish amber\", \"groups\": false, \"x\": 18.58318519592285, \"y\": 8.363358497619629}, {\"text\": \"pours clear clear dark dark brown pours ruby clear dark brown hint hops\", \"groups\": false, \"x\": 17.520238876342773, \"y\": 8.493791580200195}, {\"text\": \"amber highlights dark brown highlights lacing dark malts brown amber head medicine\", \"groups\": false, \"x\": 17.966276168823242, \"y\": 9.291206359863281}, {\"text\": \"taster glasses hard candy poured bottle buddy fading carbonation Dark amber couple taster glasses\", \"groups\": false, \"x\": 18.412446975708008, \"y\": 8.693221092224121}, {\"text\": \"based label give orange glass touch head bit disturbing bit brown\", \"groups\": false, \"x\": 17.79168701171875, \"y\": 9.356698989868164}, {\"text\": \"Grabbed store Belgian yeast orange brown brown color murky orange fluffy tan tan colored colored head bottle\", \"groups\": false, \"x\": 15.006807327270508, \"y\": 7.639199256896973}, {\"text\": \"reddish brown Pours brown reddish Fairly clear white head dark orange Brown sugar Fairly\", \"groups\": false, \"x\": 18.051963806152344, \"y\": 8.839482307434082}, {\"text\": \"dark amber Smell non-existent amber light light head trapped effervescent surface dark head tops\", \"groups\": false, \"x\": 14.829757690429688, \"y\": 7.843404769897461}, {\"text\": \"awesome color small amounts dark brown small amount color edges slight amount awesome dark\", \"groups\": false, \"x\": 14.89755630493164, \"y\": 7.902409553527832}, {\"text\": \"awesome label pie crust Poured label Blood orange brown sugar sugar brown pie crust\", \"groups\": false, \"x\": 17.834287643432617, \"y\": 9.138949394226074}, {\"text\": \"great extra caramel month yeast inflatablechair sending great extra saturday night toasted malt\", \"groups\": false, \"x\": 17.865222930908203, \"y\": 9.215127944946289}, {\"text\": \"BIF Lazerlobe pretty good back good beer orange dark pretty flavors\", \"groups\": false, \"x\": 15.819823265075684, \"y\": 8.520212173461914}, {\"text\": \"Pecan shell cherry red burnt orange Belgian yeast shell dark dark brown dark cherry Pecan backlighting dark\", \"groups\": false, \"x\": 17.621427536010742, \"y\": 9.415412902832031}, {\"text\": \"Magazine Issue BeerAdvocate Magazine disturbing label Jul Issue Crazy Magazine WTF Review disturbing\", \"groups\": false, \"x\": 14.977949142456055, \"y\": 7.736430644989014}, {\"text\": \"Beer beer mug Beer poured citrus mug flavors poured bottle blended beer pours\", \"groups\": false, \"x\": 15.10754108428955, \"y\": 7.897200107574463}, {\"text\": \"brown head dark brown light brown medium light brown head yeast beer flavor dark\", \"groups\": false, \"x\": 14.903099060058594, \"y\": 7.985001564025879}, {\"text\": \"deep ruby brown highlights frothy head Dark fruits Pours Dark translucent deep highlights capped\", \"groups\": false, \"x\": 18.733888626098633, \"y\": 7.922179222106934}, {\"text\": \"brought home Roommates brought home bottle spice green Clear label. tangy Belgian-like\", \"groups\": false, \"x\": 18.505155563354492, \"y\": 8.709986686706543}, {\"text\": \"glass Pours pint glass rich reddish-brown Pours murky amply carbonated bomber pint glass rich\", \"groups\": false, \"x\": 18.107454299926758, \"y\": 5.456659317016602}, {\"text\": \"Chilled bottle Chilled glass bottle generous gift Frank Pours ramnuts tan head generous\", \"groups\": false, \"x\": 17.554141998291016, \"y\": 5.738476753234863}, {\"text\": \"Vas Deferens scattered lace Bomber poured large goblet leaves light dark garnet garnet brown small eggshell eggshell head Vas\", \"groups\": false, \"x\": 14.777525901794434, \"y\": 7.521139621734619}, {\"text\": \"bottle Pours mahogany amber hue half inch inch head malt chocolate-laced malt raisins lacing thoughout Plump malt\", \"groups\": false, \"x\": 17.938919067382812, \"y\": 4.859194278717041}, {\"text\": \"pretty excited Caldera limited Chocolate Orange light end M-watery pretty excited chocolate-Terry Chocolate Orange\", \"groups\": false, \"x\": 15.049776077270508, \"y\": 5.88812255859375}, {\"text\": \"Westmalle chalice partial cover perfectly clear short off-white off-white head falls quickly Westmalle ruby pour chalice\", \"groups\": false, \"x\": 15.827383041381836, \"y\": 8.126654624938965}, {\"text\": \"bottle sharing tan head clear brown brown color toffee beer Medium beer pours head\", \"groups\": false, \"x\": 15.220704078674316, \"y\": 7.761173248291016}, {\"text\": \"time brew rotating beer Kettle Series Seasonal Release Limited Small Caldera Kettle Small Batch Batch Seasonal limited sweet cherry\", \"groups\": false, \"x\": 15.54973316192627, \"y\": 7.714705944061279}, {\"text\": \"Vas Deferens equally interesting Deferens pours bit interesting beer interesting chocolate nice retention equally nice\", \"groups\": false, \"x\": 14.873448371887207, \"y\": 7.550517559051514}, {\"text\": \"Vas Deferens devil ripping vasa deferentia hilarious label Vas Deferens label states label vasectomy snip\", \"groups\": false, \"x\": 14.829343795776367, \"y\": 7.6036834716796875}, {\"text\": \"white head ale brewed medium white Pours dark burnt orange orange bitters Definite orange blood orange orange zest\", \"groups\": false, \"x\": 18.290504455566406, \"y\": 9.135061264038086}, {\"text\": \"Strong hop hop bittering bittering married coffee-enhanced roastiness surprising malt malt turnaround Strong finish hop bittering\", \"groups\": false, \"x\": 15.668621063232422, \"y\": 8.055493354797363}, {\"text\": \"bomber poured bomber snifter Dark motor oil poured thick motor Pours licorice tobacco\", \"groups\": false, \"x\": 14.36884880065918, \"y\": 6.999902248382568}, {\"text\": \"roasted malts Received ArchEnemyBrew dark malts trade deep black mahogany head roasted bitter\", \"groups\": false, \"x\": 15.866015434265137, \"y\": 9.16890811920166}, {\"text\": \"snifters Pours Pours black bottle split large snifters Pours bottle head split large snifters\", \"groups\": false, \"x\": 15.573941230773926, \"y\": 8.880257606506348}, {\"text\": \"dark fruit nice American American impy Pours jet fruit dominate jet black retained deep deep mocha mocha colored colored head,even\", \"groups\": false, \"x\": 15.361726760864258, \"y\": 8.744887351989746}, {\"text\": \"cheers John charred grain Nashvillian John charred Imp Stout Baker chocolate grain Chocolate cheers\", \"groups\": false, \"x\": 15.939126014709473, \"y\": 9.193596839904785}, {\"text\": \"Mud black colored head leather colored Mud frothy tan tan leather thick frothy head black\", \"groups\": false, \"x\": 16.25298500061035, \"y\": 9.170804977416992}, {\"text\": \"Pours black good retention tan head Dark chocolate medium frothy frothy tan Pours solid lace Dark RIS\", \"groups\": false, \"x\": 14.622649192810059, \"y\": 7.138577461242676}, {\"text\": \"inch puffy small cap opaque black puffy khaki khaki head roasted malt dark roasted dark Pours inch\", \"groups\": false, \"x\": 15.389369010925293, \"y\": 8.800909996032715}, {\"text\": \"Imperial stout dark beer Imperial stout dark beer black light light brown brown colored\", \"groups\": false, \"x\": 15.237445831298828, \"y\": 8.51771068572998}, {\"text\": \"brown head Pours pitch pitch black roasted malts Pours foamy brown head Great retention pitch\", \"groups\": false, \"x\": 15.587943077087402, \"y\": 8.890501022338867}, {\"text\": \"Black black strap strap molasses abv Light molasses strap black berry Pleasant licorice hints\", \"groups\": false, \"x\": 16.398283004760742, \"y\": 9.3347806930542}, {\"text\": \"Opaque black Poured bottle tulip licorice licorice flavor Opaque Roasted malt Bitter chocolate Dark\", \"groups\": false, \"x\": 16.368982315063477, \"y\": 8.882284164428711}, {\"text\": \"Founders tulip Founders Poured tulip dark read good good things cocoa nibs licorice rich\", \"groups\": false, \"x\": 15.618249893188477, \"y\": 8.431587219238281}, {\"text\": \"absolutely heavenly quality coffee sweet chocolate firm tones molasses licorice Aroma heavenly quality coffee\", \"groups\": false, \"x\": 15.291373252868652, \"y\": 8.571014404296875}, {\"text\": \"bottle split Duvel tulip top oglmcdgl great retention bottle split khaki colored firm inch colored foam\", \"groups\": false, \"x\": 16.66828155517578, \"y\": 8.757916450500488}, {\"text\": \"duvel tulips bottle split big tulips big swath big seam big island bottle split poured\", \"groups\": false, \"x\": 15.761955261230469, \"y\": 9.032156944274902}, {\"text\": \"Pours dark dark brown amber edges decent lacing tan head quickly falls leave decent light tan slight coffee Pours\", \"groups\": false, \"x\": 15.4478759765625, \"y\": 8.574853897094727}, {\"text\": \"tasty jet black black color light light brown nice beer jet black color\", \"groups\": false, \"x\": 15.417619705200195, \"y\": 7.739894866943359}, {\"text\": \"Delicious full full bodied bodied stout sugary fruit Delicious trimmings full bodied stout end\", \"groups\": false, \"x\": 15.593226432800293, \"y\": 4.980156421661377}, {\"text\": \"massive snifter poured snifter thing massive inky black Pours dark burnt dark coffee\", \"groups\": false, \"x\": 15.179642677307129, \"y\": 8.902161598205566}, {\"text\": \"Quarter finger Vintage Good Coffee cocoa Quarter Beer Extra roasty malt dark\", \"groups\": false, \"x\": 15.979434967041016, \"y\": 9.016179084777832}, {\"text\": \"foam head pint glass beige foam beer pours Served head coffee pint glass pours\", \"groups\": false, \"x\": 15.354665756225586, \"y\": 8.6434907913208}, {\"text\": \"glass mug roasted malts light Served mug roasted glass malts good coffee\", \"groups\": false, \"x\": 16.160375595092773, \"y\": 8.765953063964844}, {\"text\": \"bottle snifter notes aroma licorice fairly cocoa fairly quickly Pours black dissipates fairly\", \"groups\": false, \"x\": 15.490912437438965, \"y\": 9.076207160949707}, {\"text\": \"big body Bitter chocolate coffee beans good carbonation booze sting bakers powder light funk nice brown brown cap dark black\", \"groups\": false, \"x\": 16.732351303100586, \"y\": 9.220010757446289}, {\"text\": \"Growth Imperial Imperial Stout scattered lace leaves light tan collar Bailey Growth Imperial Stout light\", \"groups\": false, \"x\": 15.424722671508789, \"y\": 9.072985649108887}, {\"text\": \"Bailey Taproom elusive brew Taproom Bailey Crude oil edition Snagged snifter elusive brew\", \"groups\": false, \"x\": 15.380133628845215, \"y\": 9.243982315063477}, {\"text\": \"Bailey Taproom VINTAGE found delicious glory VINTAGE Taproom Bailey rich rich rich sugars BOOYA found\", \"groups\": false, \"x\": 15.380044937133789, \"y\": 9.252272605895996}, {\"text\": \"drinking Growth imperial stout pepper corns helpful advance Growth suffered pink pepper honey chocolate\", \"groups\": false, \"x\": 15.181268692016602, \"y\": 8.799592971801758}, {\"text\": \"standard head red pour light red Copper pour standard red light head ordinary\", \"groups\": false, \"x\": 17.601743698120117, \"y\": 7.579224586486816}, {\"text\": \"Red mahagonny Red mahagonny thick fruit Yellow tinted tinted head stern authority berry Sticky lacing\", \"groups\": false, \"x\": 17.665008544921875, \"y\": 8.943099021911621}, {\"text\": \"Hop Red finger white white head pint glass tap handle orangish amber thick skim skim leaving leaving lots stated Dry\", \"groups\": false, \"x\": 16.918216705322266, \"y\": 7.457895755767822}, {\"text\": \"sturdy head dark clear Ashland Amber clear amber amber color nice sturdy amber Beer pours nice Ashland\", \"groups\": false, \"x\": 16.29082679748535, \"y\": 6.942927837371826}, {\"text\": \"Decidedly crimson lowish retention off-white head slightly off-white clear Decidedly crimson retention finger off-white\", \"groups\": false, \"x\": 17.212406158447266, \"y\": 8.095725059509277}, {\"text\": \"Cascade hop hop smell expect brew ordered hop hop aroma supreme incarnation aroma stripped Cascade\", \"groups\": false, \"x\": 15.818119049072266, \"y\": 7.491849899291992}, {\"text\": \"Wonderful crisp fresh ale dignified brewery Dry Hop hop Hop Orange Dry Wonderful crisp fresh\", \"groups\": false, \"x\": 18.099489212036133, \"y\": 7.137236595153809}, {\"text\": \"Dry Hop Tap handle handle red Dry Orange Juice Tap red alas Hop Orange Orange\", \"groups\": false, \"x\": 18.195545196533203, \"y\": 7.240839958190918}, {\"text\": \"Caldera brew brew Ive fine Caldera Caldera Ive Siskiyou Pub beer fine brew waiting\", \"groups\": false, \"x\": 15.734737396240234, \"y\": 4.646608352661133}, {\"text\": \"Hop Orange Dry Hop tap pull Orange Dry hop aroma Hop citrus hop site thing\", \"groups\": false, \"x\": 18.397680282592773, \"y\": 7.485751628875732}, {\"text\": \"Hawthorne Hophouse opened Hawthorne recently opened Hophouse Hawthorne tap recently opened beer beer tastes\", \"groups\": false, \"x\": 15.226602554321289, \"y\": 7.660095691680908}, {\"text\": \"Bailey Taproom brown sugar Taproom Bailey Sampled golden highlights creamy white sugar pint light brown\", \"groups\": false, \"x\": 19.08305549621582, \"y\": 7.285985946655273}, {\"text\": \"active beer Wow appearance smell Taste active beer haze white lace top forever Smell\", \"groups\": false, \"x\": 15.242274284362793, \"y\": 7.7772369384765625}, {\"text\": \"Magazine Issue BeerAdvocate Magazine Jul Issue Magazine Review BeerAdvocate craft brewers flavor bit\", \"groups\": false, \"x\": 15.660111427307129, \"y\": 7.546046257019043}, {\"text\": \"Imperial Pint Shorts Imperial Brewforia big Shorts picked work Pint Kevin home Shorts\", \"groups\": false, \"x\": 17.053485870361328, \"y\": 4.329935550689697}, {\"text\": \"Bomber pours scattered lacing clear straw straw yellow yellow body small vanilla vanilla head quickly drops Bomber lacing\", \"groups\": false, \"x\": 14.840472221374512, \"y\": 7.294686317443848}, {\"text\": \"white head big chunky chunky fizzy fizzy effervescent effervescent pure pure white Adjunct Lager Lager standards head Cracker\", \"groups\": false, \"x\": 18.90549659729004, \"y\": 8.655525207519531}, {\"text\": \"pale golden golden color quickly dissipating dissipating head Pours Light hops Appearance Light grainy malts glass\", \"groups\": false, \"x\": 15.838728904724121, \"y\": 8.391430854797363}, {\"text\": \"bomber poured pint glass Pours yellow lager Smells decent Lawnmower Lager bomber glass poured pint\", \"groups\": false, \"x\": 14.430121421813965, \"y\": 6.974535942077637}, {\"text\": \"weak head strong carbonation light yellow Pours head clear yellow strong carbonation weak\", \"groups\": false, \"x\": 15.750822067260742, \"y\": 8.006880760192871}, {\"text\": \"soft white white head Pours fairly good pale yellow bomber yellow soft head fairly\", \"groups\": false, \"x\": 14.470398902893066, \"y\": 6.937996864318848}, {\"text\": \"great price bottle price bucks style store great picked clear straw yellow\", \"groups\": false, \"x\": 15.170951843261719, \"y\": 7.3534722328186035}, {\"text\": \"pale yellow light beer Poured yellow light beer pale head whatsoever ABV whatsoever\", \"groups\": false, \"x\": 15.086726188659668, \"y\": 7.448437213897705}, {\"text\": \"bomber bread Slight aroma light whiffs Taste papery insipid pee pee colour. Macro-lager palate Slight light\", \"groups\": false, \"x\": 14.357173919677734, \"y\": 7.013642311096191}, {\"text\": \"Pours clear white head clear gold fluffy white Pours head Minor lacing clear gold finger\", \"groups\": false, \"x\": 16.05678939819336, \"y\": 7.416107654571533}, {\"text\": \"bottle beer fizzy start sharing side people afraid washing dirt yellow\", \"groups\": false, \"x\": 15.31131649017334, \"y\": 6.956387519836426}, {\"text\": \"head whatsoever pale golden golden color whatsoever Lots pale golden color pretty head\", \"groups\": false, \"x\": 15.27936840057373, \"y\": 7.505122184753418}, {\"text\": \"light winter light glassy winter pine glassy goldeness pine needles delicate floral light small delicate floral hints winter\", \"groups\": false, \"x\": 16.25250816345215, \"y\": 7.21546745300293}, {\"text\": \"Split floral bomber girlfriend picked clear gold white head small white roses rose\", \"groups\": false, \"x\": 14.847189903259277, \"y\": 6.9937424659729}, {\"text\": \"Interesting beer Interesting beer Weird feel taste light cloudy orange white head decent white\", \"groups\": false, \"x\": 14.66414737701416, \"y\": 6.953900337219238}, {\"text\": \"pint glass Pours orange Imperial Golden orange golden golden color Poured bottle glass died instantly golden\", \"groups\": false, \"x\": 18.26797103881836, \"y\": 5.34014892578125}, {\"text\": \"beautiful beer tone beautiful beer floral Pours Pours crystal crystal clear glowing golden Head pours\", \"groups\": false, \"x\": 15.560906410217285, \"y\": 7.2808308601379395}, {\"text\": \"drive home work tonight Brewforia Imperial Blonde rose picked rose petals rose water Guardian goblet drive\", \"groups\": false, \"x\": 15.534561157226562, \"y\": 7.2549543380737305}, {\"text\": \"Appearance Slightly hazy off-white head good hoppy finish deep amber earthyness Taste Bitter hoppy finish\", \"groups\": false, \"x\": 18.121952056884766, \"y\": 8.680461883544922}, {\"text\": \"Clear light light copper Clear copper Pine floral light Thick offwhite offwhite head sweet caramel\", \"groups\": false, \"x\": 17.679697036743164, \"y\": 7.842097759246826}, {\"text\": \"head sticks cat piss thing strangely nice malt malt back mild carbonation day long bad thing Orange Smells\", \"groups\": false, \"x\": 15.297345161437988, \"y\": 5.604394435882568}, {\"text\": \"sending white head dark amber amber color nice beer pours beer flavor grapefruit pine\", \"groups\": false, \"x\": 16.35135841369629, \"y\": 6.918452739715576}, {\"text\": \"Slightly cloudy cloudy dark cream colored Slightly colored head dark orange Appearance cloudy dark finger\", \"groups\": false, \"x\": 18.2399845123291, \"y\": 8.67022705078125}, {\"text\": \"Midtown Wine Wine Spirits Nashville Midtown quality IPA Purchased IPA hazy caramel caramel color\", \"groups\": true, \"x\": 16.555253982543945, \"y\": 6.199456691741943}, {\"text\": \"Light copper copper color Light Pour red Strong grapefruit front copper color glass nicely\", \"groups\": false, \"x\": 18.5116024017334, \"y\": 8.20817756652832}, {\"text\": \"sunburnt orange nice sunburnt Flavor Pours orange Lots good sunburnt Subtle head nice\", \"groups\": false, \"x\": 17.708961486816406, \"y\": 7.538776397705078}, {\"text\": \"hops citrus hops Good light amber golden clear white head clear color medium sized sized frothy frothy white\", \"groups\": false, \"x\": 17.193174362182617, \"y\": 6.831601142883301}, {\"text\": \"Gotta love Massive pillowy Gotta pint glass love IPA standard pint Big Big hoppy hoppy\", \"groups\": true, \"x\": 17.31366539001465, \"y\": 6.2747650146484375}, {\"text\": \"Augustgarage trade head glass Taste heavy pine hop mellow dogfish head\", \"groups\": false, \"x\": 18.399105072021484, \"y\": 6.4804487228393555}, {\"text\": \"half-inch thick foamy head slightly hazy hazy golden-amber Caldera IPA IPA pours IPA Caldera thick foamy\", \"groups\": true, \"x\": 15.679710388183594, \"y\": 4.730869770050049}, {\"text\": \"Lovely orange-tan orange-tan color lasting head great lasting fresh hops Lovely color head lacing orange-tan\", \"groups\": false, \"x\": 16.6627254486084, \"y\": 8.524996757507324}, {\"text\": \"golden copper amber color off-white head dark golden dark ruby ruby red red edges edges hen hen held massive frothy\", \"groups\": false, \"x\": 18.434324264526367, \"y\": 8.016119003295898}, {\"text\": \"American Amber Amber Ale sweet side beer definately American Ale firm amber amber color Amber IPA\", \"groups\": true, \"x\": 16.829248428344727, \"y\": 6.780673503875732}, {\"text\": \"big Acquired pint glass TheManiacalOne glass hop notes pineapple Big sticky nice copper\", \"groups\": false, \"x\": 18.015092849731445, \"y\": 6.185678958892822}, {\"text\": \"Reviewed Decent IPA hops citrus bitter IPA off-white head Pours head Aroma\", \"groups\": true, \"x\": 18.374954223632812, \"y\": 7.28532075881958}, {\"text\": \"copper color large offwhite offwhite head dies slow immense ring great copper citric notes citric Pours glass\", \"groups\": false, \"x\": 18.908008575439453, \"y\": 7.743451118469238}, {\"text\": \"Nice amber amber color great head Nice lacing amber color great head outstanding IPA\", \"groups\": true, \"x\": 16.708776473999023, \"y\": 7.566517353057861}, {\"text\": \"pint glass Poured glass pint copper color small head good hazy copper hop drinkable IPA\", \"groups\": true, \"x\": 17.908573150634766, \"y\": 6.076793193817139}, {\"text\": \"HOPS hoppy beer citrus fruity notes beer foamy head Pours head hoppy\", \"groups\": false, \"x\": 17.197978973388672, \"y\": 7.078596115112305}, {\"text\": \"date Pours american pint dusty lace clouded orange deposits sheets inch head Pours Crackery caramel american lace\", \"groups\": false, \"x\": 18.98268699645996, \"y\": 6.453861713409424}, {\"text\": \"creamy foam creamy hop aroma oozed foam poured needledd head soft cloudy caramel\", \"groups\": false, \"x\": 18.411344528198242, \"y\": 6.43327522277832}, {\"text\": \"imperial pint pint glass nice Delicious grassy poured Pours Delicious imperial pint glass\", \"groups\": false, \"x\": 18.690109252929688, \"y\": 6.6160149574279785}, {\"text\": \"tan head copper color light tan clean orange-ish Pours head faint pine orange-ish copper color\", \"groups\": false, \"x\": 18.04095458984375, \"y\": 7.221712589263916}, {\"text\": \"Young pint pint pot Young Copper coloured pot poured pint Copper head Buttery\", \"groups\": false, \"x\": 16.22361946105957, \"y\": 4.532515048980713}, {\"text\": \"Hometown BIF Tiklmelmo courtesy BIF Tiklmelmo Hometown pint glass Acquired big glass courtesy\", \"groups\": false, \"x\": 17.708389282226562, \"y\": 5.587553977966309}, {\"text\": \"Northwest Beer Pacific Northwest Alchemist Brewery Beer Micah Pacific Northwest Pours clear Consumed Brewery pint\", \"groups\": false, \"x\": 17.509584426879883, \"y\": 5.343581676483154}, {\"text\": \"tasty brew glass wine glass brew supplying tasty Poured large wine nice Appearance\", \"groups\": false, \"x\": 17.415115356445312, \"y\": 5.294619083404541}, {\"text\": \"whit head nice amber amber color Pours malt finish malt Hops head finish citrus tone\", \"groups\": false, \"x\": 17.305557250976562, \"y\": 7.611587047576904}, {\"text\": \"boastful head high carbonation medium body true oregon highly carbonated transparent golden amber smell slightly dry finish drinkability nice big\", \"groups\": false, \"x\": 17.466794967651367, \"y\": 7.8511552810668945}, {\"text\": \"Copper colored orange hues nice sticky sticky off-white off-white head Classic Western Western IPA colored beer Copper hues\", \"groups\": true, \"x\": 16.375469207763672, \"y\": 6.26100492477417}, {\"text\": \"beer Jason citrus rind citrus rind pint glass standard pint slightly hazed bitter citrus glass\", \"groups\": false, \"x\": 17.78189468383789, \"y\": 5.125543117523193}, {\"text\": \"Olive Tree Tree Market Ocean Beach canned beer kinda steep Olive Tree Market Ocean Beach\", \"groups\": false, \"x\": 16.676237106323242, \"y\": 6.29771614074707}, {\"text\": \"frothy head leaving plenty ring formations pint glass hazed burnt burnt orange finger high high frothy Pours BIF\", \"groups\": false, \"x\": 17.967836380004883, \"y\": 5.437533378601074}, {\"text\": \"Wierd tasting tasting IPA Wierd thrown trade IPA tasting hop flavours AMerican IPA residual odd\", \"groups\": true, \"x\": 16.779991149902344, \"y\": 6.623435020446777}, {\"text\": \"uneven lacing tan foamy foamy head big tan big good retention good Amber lacing IPA\", \"groups\": true, \"x\": 17.32064437866211, \"y\": 6.82407283782959}, {\"text\": \"flavor yellow white head bitterness clear amber soapy lookign lookign white nice smell head\", \"groups\": false, \"x\": 18.689844131469727, \"y\": 5.171360492706299}, {\"text\": \"recent trade Picked trade pack recent smallish head nice orange color enjoyable nice orange\", \"groups\": false, \"x\": 17.195615768432617, \"y\": 6.448572635650635}, {\"text\": \"IPA IPA dose good retention dense head thirst quench good grapefruit iron orange nose\", \"groups\": true, \"x\": 17.414167404174805, \"y\": 6.664529323577881}, {\"text\": \"finger head fine layer leaving lots deep gold sticky lacing Pours finger layer leaving glass\", \"groups\": false, \"x\": 16.459768295288086, \"y\": 8.049954414367676}, {\"text\": \"white foam dark orange orange color large amount foam dark orange color large amount\", \"groups\": false, \"x\": 16.927480697631836, \"y\": 8.079522132873535}, {\"text\": \"beige head chill hazed finger beige hazed medium medium amber amber body head pours chill hazed\", \"groups\": false, \"x\": 18.193212509155273, \"y\": 7.93888521194458}, {\"text\": \"Jul Adambrau becker Adambrau Moderate buttery Poured becker Light carbonation Extra large beige head\", \"groups\": false, \"x\": 17.910099029541016, \"y\": 4.481269359588623}, {\"text\": \"Belgium globe Belgium Poured globe Deep amber finger Vince Deep completely translucent orange\", \"groups\": false, \"x\": 18.123146057128906, \"y\": 5.527714252471924}, {\"text\": \"batch code date batch code good foamy orange citrus foamy cap Good strength\", \"groups\": false, \"x\": 18.28846549987793, \"y\": 4.712431907653809}, {\"text\": \"5-10 minutes amber color finder head good 5-10 pours minutes amber color finder head\", \"groups\": false, \"x\": 16.820436477661133, \"y\": 7.0948662757873535}, {\"text\": \"bubbly head retention s-nice aroma t-nice grapefruit lingering decent retention slightly hoppy citrus bitterness hoppy aroma s-nice citrus a-light\", \"groups\": false, \"x\": 17.21254539489746, \"y\": 7.339247703552246}, {\"text\": \"corporate programming meh beer Meh Miller associate beer Bud Coors Beer Caldera IPA year\", \"groups\": true, \"x\": 16.858205795288086, \"y\": 5.115605354309082}, {\"text\": \"copperish orange orange color white head light booze nose pretty nice white good carbonation good caramel Poured Taste\", \"groups\": false, \"x\": 16.978357315063477, \"y\": 8.752752304077148}, {\"text\": \"IPA Poured tulip Nice Nice pour Aroma nice medium perfect perfect IPA medium head\", \"groups\": true, \"x\": 17.46116828918457, \"y\": 6.064417362213135}, {\"text\": \"Poured chalice head rind grapefruit citrus copper inch retaining off-white head retaining head\", \"groups\": false, \"x\": 18.78102684020996, \"y\": 5.782556533813477}, {\"text\": \"jamdugan Medium Medium amber amber color tangerine highlights Courtesy Medium Poured highlights inch head snifter\", \"groups\": false, \"x\": 18.94199562072754, \"y\": 8.080374717712402}, {\"text\": \"amber color finger head pillowy white A-Pours orange amber dense head IPA\", \"groups\": true, \"x\": 17.508710861206055, \"y\": 7.06524658203125}, {\"text\": \"burnt orange hazy burnt Pours Big citrus orange finger head malt hazy burnt citrus\", \"groups\": false, \"x\": 18.650203704833984, \"y\": 7.639438629150391}, {\"text\": \"sticky head surprisingly murky bright caramel caramel color Pour aggressive sticky head bit surprisingly\", \"groups\": false, \"x\": 16.273141860961914, \"y\": 7.938005447387695}, {\"text\": \"nice retention hazy tawny amber coloring white head tawny amber pine pint retention hazy coloring\", \"groups\": false, \"x\": 17.419952392578125, \"y\": 6.6259541511535645}, {\"text\": \"bubbly head nice clear clear copper copper hue white bubbly Pours pine malt finger head\", \"groups\": false, \"x\": 18.99047088623047, \"y\": 7.868702411651611}, {\"text\": \"off-white head pint glass Amber hop aroma hop bit Poured off-white head pint\", \"groups\": false, \"x\": 17.248598098754883, \"y\": 6.277108192443848}, {\"text\": \"pint glass glass nice light tan head forms poured pint thick nice clarity crisp dark\", \"groups\": false, \"x\": 18.509071350097656, \"y\": 6.046008110046387}, {\"text\": \"San Jose Jose Sharks Sharks tumbler degrees fahrenheit San Jose Sharks Poured degrees fahrenheit\", \"groups\": false, \"x\": 15.844517707824707, \"y\": 6.826582431793213}, {\"text\": \"Uber Tavern standard pint Tavern Uber poured pint nice Amber-gold tap standard\", \"groups\": false, \"x\": 17.701955795288086, \"y\": 6.079136371612549}, {\"text\": \"Sam Adams Adams Sensory Sensory glass Sam Adams Sensory glass Pours clear bright copper ruby hues\", \"groups\": false, \"x\": 18.355634689331055, \"y\": 6.305418014526367}, {\"text\": \"Pale Ale India Pale Brewed India Brewing Company Caldera Brewing Oregon Brewed Ale Caldera Caldera IPA India\", \"groups\": true, \"x\": 15.864089965820312, \"y\": 4.557052135467529}, {\"text\": \"Woody IPA Drinkability copper brew decent lacing faded quickly quickly leaving leaving decent citrus Mouthfeel pine light citrusy\", \"groups\": true, \"x\": 17.846532821655273, \"y\": 6.367496967315674}, {\"text\": \"pint glass glass still-impressive thin copper body poured pint thick mat nearly-white head head collapses dense cap\", \"groups\": false, \"x\": 18.427906036376953, \"y\": 6.3736252784729}, {\"text\": \"Caldera IPA price tag perfect combination Deep orange-amber ABV IPA session beer Caldera found bit\", \"groups\": true, \"x\": 15.716965675354004, \"y\": 4.80018424987793}, {\"text\": \"leathery hue dark orange-brown orange-brown leathery Piney hops pours hue hops dark orange-brown leathery\", \"groups\": false, \"x\": 17.812448501586914, \"y\": 7.215555191040039}, {\"text\": \"IPA Avery IPA canned IPA great IPA Myrtle Beach great smell score beach ABV\", \"groups\": true, \"x\": 16.377145767211914, \"y\": 6.078103065490723}, {\"text\": \"Myrtle Beach piggly wiggly Beach Tasted great Myrtle Found pleasnt treat IPA wich vacation piggly\", \"groups\": true, \"x\": 16.917715072631836, \"y\": 6.268823623657227}, {\"text\": \"solid IPA IPA solid citrus hops orange citrus hops beer brilliantly clear coppery orange\", \"groups\": true, \"x\": 17.73979377746582, \"y\": 6.758537769317627}, {\"text\": \"Good ipa amount Orange color shooting empty empty bottles Great desert Orange color\", \"groups\": false, \"x\": 17.280929565429688, \"y\": 6.622775554656982}, {\"text\": \"canned beer hatch fingered head funny review canned beer appearance directly amber orange\", \"groups\": false, \"x\": 16.86760902404785, \"y\": 5.288198471069336}, {\"text\": \"Grand Cru Europe Cru glass purchased Hoegaarden Beers beer Grand Cru head\", \"groups\": false, \"x\": 18.569202423095703, \"y\": 5.635875701904297}, {\"text\": \"finger head. sweet malts. floral hops copper slight slight haze haze color malts.a bitter bitter finish pretty tasty pney crisp\", \"groups\": false, \"x\": 17.16533851623535, \"y\": 7.012254238128662}, {\"text\": \"Mag Oct Beer review Oct Mag review Beer great craft beer glass canned craft\", \"groups\": false, \"x\": 16.815549850463867, \"y\": 5.181296348571777}, {\"text\": \"Fourth Corner Finally starting hyped brewery brewery show Corner Fourth Finally starting hyped brewery\", \"groups\": false, \"x\": 16.235639572143555, \"y\": 6.52170991897583}, {\"text\": \"moderate head dark amber Pours head nice dark amber moderate Pine pretty\", \"groups\": false, \"x\": 18.061309814453125, \"y\": 6.593006610870361}, {\"text\": \"nice IPA overpoweringly bitter medium bodied decent carbonation slightly citrus major piney deep rust rust orange white foam tasty treat\", \"groups\": true, \"x\": 17.79581069946289, \"y\": 7.377486705780029}, {\"text\": \"Delerium Tremens Tremens tulip Delerium Tremens Served tulip IPA hops hazy red-orange finger off-white\", \"groups\": true, \"x\": 17.183855056762695, \"y\": 6.137927532196045}, {\"text\": \"great retention incredibly large white head retention poured incredibly large white head great\", \"groups\": false, \"x\": 17.576391220092773, \"y\": 6.321815490722656}, {\"text\": \"clear amber dissipates quickly IPA pours amber orange quickly Columbus hops malt nice roasted pours\", \"groups\": true, \"x\": 16.927204132080078, \"y\": 7.498011112213135}, {\"text\": \"Premium Two-Row Amarillo hops Simcoe Centennial Munich Crystal Amarillo Premium hops Two-Row\", \"groups\": false, \"x\": 17.365346908569336, \"y\": 8.128972053527832}, {\"text\": \"slightly off-white off-white head beer pours lovely copper copper amber amber color American IPA caramel malt typical American sticky\", \"groups\": true, \"x\": 16.93724822998047, \"y\": 7.226274490356445}, {\"text\": \"good friend Rich amber stemmed glass good friend mine leaving beer head Rich\", \"groups\": false, \"x\": 17.23114013671875, \"y\": 5.603061199188232}, {\"text\": \"good carbonation citrus notes piney resin carbonation leaving nice white pine notes nice sharp dark amber white head sharp hop\", \"groups\": false, \"x\": 17.952795028686523, \"y\": 6.829675197601318}, {\"text\": \"Duvel tulip Poured Duvel tulip light brown Dark orange Smells fantastic orange Reddish tones Good hop\", \"groups\": false, \"x\": 18.152873992919922, \"y\": 8.280043601989746}, {\"text\": \"Appearance-Deep amber amber orange orange color Rich Orange orange Appearance-Deep sediment hops Grapefruit hops amber\", \"groups\": false, \"x\": 18.238910675048828, \"y\": 8.299579620361328}, {\"text\": \"copper color semi-transparent amber Amarillo hops Simcoe Centennial Pours Amarillo Specs IBUs amber\", \"groups\": false, \"x\": 18.31316375732422, \"y\": 7.456380367279053}, {\"text\": \"tulip glass Poured glass tulip orange color orange light citrus caramel golden orange\", \"groups\": false, \"x\": 17.81443977355957, \"y\": 6.651474952697754}, {\"text\": \"white head amber color light orange orange amber heavy pours head citrus orange good retention\", \"groups\": false, \"x\": 18.343807220458984, \"y\": 7.854615688323975}, {\"text\": \"shimmering honey honey color Pours brilliant shimmering color honey good lacing head fresh\", \"groups\": false, \"x\": 15.869120597839355, \"y\": 7.687088489532471}, {\"text\": \"amber-copper hue off-white head hazy amber-copper rocky off-white Pours West Coast Big hue head share\", \"groups\": false, \"x\": 16.99224090576172, \"y\": 6.937074661254883}, {\"text\": \"tulip glass hops Poured glass tulip lots orange finally rate citrus floral\", \"groups\": false, \"x\": 18.425914764404297, \"y\": 6.760830402374268}, {\"text\": \"Great nose finger creamy golden body spotty cap good lacing combining citrus white head flavors start showed nice nice retention\", \"groups\": false, \"x\": 19.1386775970459, \"y\": 7.351795673370361}, {\"text\": \"canned IPAs Famously Hot South Carolina Pacific Northwest Caldera IPA Wow Caldera canned coming continue\", \"groups\": true, \"x\": 15.790276527404785, \"y\": 4.691476345062256}, {\"text\": \"glass appearance good ruby strawlike color heavy headiness carbonated smell balanced undertones duvel tulip tulip glass malty balanced orange\", \"groups\": false, \"x\": 17.094539642333984, \"y\": 4.578530788421631}, {\"text\": \"Belgium tulip tulip glass Belgium glass tulip Poured cloudy orange-gold slightly appearance hops\", \"groups\": false, \"x\": 17.68787384033203, \"y\": 5.187952995300293}, {\"text\": \"size beer hoppy Enjoy nice drinkable smell moderate IPA Hazy\", \"groups\": true, \"x\": 17.224672317504883, \"y\": 4.97548770904541}, {\"text\": \"Slightly hazy heavy lacing hazy golden golden amber off-white head nice off-white Slightly nice mild Nice mix\", \"groups\": false, \"x\": 17.369470596313477, \"y\": 7.323281288146973}, {\"text\": \"colored head minutes ago nice translucent nice finger nice layer translucent darker nice head Pours caramel colored\", \"groups\": false, \"x\": 18.44448471069336, \"y\": 8.026082038879395}, {\"text\": \"DFH pint pint glass DFH hop IPA glass IPA DIPA pint IPA scents copper poured\", \"groups\": true, \"x\": 17.68753433227539, \"y\": 5.932808876037598}, {\"text\": \"chilled Founders Founders pint pint glass Founders glass scent orange Pours poured chilled\", \"groups\": false, \"x\": 18.099872589111328, \"y\": 5.4113874435424805}, {\"text\": \"absolutely amazing deep amber large white huge citrus citrus notes amazing IPA duvel snifter white head citrusy grapefruits perfectly balanced\", \"groups\": true, \"x\": 17.294130325317383, \"y\": 6.124814987182617}, {\"text\": \"tea leaves Deep apricot hop-forward IPA sudsy cream-colored cream-colored head touch thin apricot hue slightly grassy grainy malt malt undertone\", \"groups\": true, \"x\": 18.310510635375977, \"y\": 7.558950901031494}, {\"text\": \"pint glass glass poured pint bottle store bad awhile White inch head Thick\", \"groups\": false, \"x\": 17.93637466430664, \"y\": 5.451600551605225}, {\"text\": \"Poured tulip colored heading lighter golden white colored Color nice malty Taste nice lively\", \"groups\": false, \"x\": 16.626733779907227, \"y\": 8.864202499389648}, {\"text\": \"partners BIF BIF Huge psiweaver hitting perma-want partners colored head fantastic fluffy fluffy cream\", \"groups\": false, \"x\": 17.898351669311523, \"y\": 8.027861595153809}, {\"text\": \"Sam Adams Adams glass bottle poured Sam Adams glass bottle poured Good head deep amber\", \"groups\": false, \"x\": 17.90839385986328, \"y\": 6.204037189483643}, {\"text\": \"cool lookin HOPS cool great lookin beer Picked HOPS HOPS Pours smell\", \"groups\": false, \"x\": 15.881455421447754, \"y\": 6.988069534301758}, {\"text\": \"white head honey golden thick creamy good IPA Pours head West Coast citrusy honey golden\", \"groups\": true, \"x\": 17.656936645507812, \"y\": 7.130908012390137}, {\"text\": \"Jerry Garcia Garcia lives lives inside bright copper bone white white head good retention Jerry Garcia Poured\", \"groups\": false, \"x\": 17.043190002441406, \"y\": 7.33075475692749}, {\"text\": \"pint glass Poured glass cloudy texture pint orangey color citrus hops beer long-lasting head\", \"groups\": false, \"x\": 16.861173629760742, \"y\": 5.380362510681152}, {\"text\": \"Grateful Dead colored Grateful Dead concert deep orange pint glass snowy white pretty quickly brightly colored concert poster-esque shaker pint\", \"groups\": false, \"x\": 19.27933692932129, \"y\": 6.715036869049072}, {\"text\": \"Recently picked day tailgate boss dollar company opening opening day good Recently tailgate time good lace\", \"groups\": false, \"x\": 18.41570281982422, \"y\": 5.685810565948486}, {\"text\": \"Dark amber Dark color amazing head white head amber citrus piney Lots\", \"groups\": false, \"x\": 16.829458236694336, \"y\": 5.456821441650391}, {\"text\": \"nonic pint pint glass Citrus Poured Citrus smells nonic pint glass white head glass lacing\", \"groups\": false, \"x\": 18.735912322998047, \"y\": 7.45623254776001}, {\"text\": \"West Coast Coast BAs awesome West West Coast nice BAs extra awesome smells\", \"groups\": false, \"x\": 16.050931930541992, \"y\": 6.31716775894165}, {\"text\": \"bright glowing orange Pour glowing color yellow orange Wow tropical mandarin orange\", \"groups\": false, \"x\": 18.134021759033203, \"y\": 7.697539329528809}, {\"text\": \"caramel malt malt kicking beer tastes copper color white head medium body higher carbonation nose full hops upfront nose hops\", \"groups\": false, \"x\": 17.666362762451172, \"y\": 6.442214488983154}, {\"text\": \"Sam Adams Adams glass Sam Adams Poured glass bright hops butterscotch yellow date\", \"groups\": false, \"x\": 18.067094802856445, \"y\": 4.844008445739746}, {\"text\": \"Reddish copper pumpkin highlights dense cream leaves sticky sticky lace orange head minty C-hops Reddish glass plenty\", \"groups\": false, \"x\": 18.24332046508789, \"y\": 7.467175006866455}, {\"text\": \"Corsedonk snifter small bright Corsedonk Poured snifter small bright nice head bitter\", \"groups\": false, \"x\": 17.521621704101562, \"y\": 6.174454212188721}, {\"text\": \"great lookin lookin IPA IPA guess great lookin trend hops coast IPA fresh\", \"groups\": true, \"x\": 17.215850830078125, \"y\": 6.401059150695801}, {\"text\": \"Wow added Gil nice Wow SwillinBrew added extra brew canned nice brew\", \"groups\": false, \"x\": 16.51829719543457, \"y\": 6.131156921386719}, {\"text\": \"dark golden amber color hazy dark thick frothy frothy white white head slowly fades beer pours golden amber\", \"groups\": false, \"x\": 15.479960441589355, \"y\": 7.7463884353637695}, {\"text\": \"hopped grapefruit pretty nice sounds terrible Tastes grapefruit nice drinks pretty hopped sounds terrible\", \"groups\": false, \"x\": 18.405363082885742, \"y\": 6.861523151397705}, {\"text\": \"bronze-amber body Medium bronze-amber body Medium Large frothy off-white head bitterness bronze-amber finish Moderate\", \"groups\": false, \"x\": 17.42142677307129, \"y\": 8.794975280761719}, {\"text\": \"copper body frothey tan tan head beautiful copper Pours body Excellent lacing frothey tan head\", \"groups\": false, \"x\": 17.39594841003418, \"y\": 7.418813228607178}, {\"text\": \"deep color desert mountainside honey painted sunrise icky lace stunner deep color desert\", \"groups\": false, \"x\": 18.224594116210938, \"y\": 8.824974060058594}, {\"text\": \"Abe Ithaca shaker ounce shaker glass sixer picked Ithaca white foam super clear golden\", \"groups\": false, \"x\": 17.1253604888916, \"y\": 4.593236923217773}, {\"text\": \"white head slightly hazy hazy copper copper orange creamy white Pours head huge slightly hazy\", \"groups\": false, \"x\": 19.07292366027832, \"y\": 7.855704307556152}, {\"text\": \"beer arena canned beer great beer beer arena canned pine great pine flavors nice scent\", \"groups\": false, \"x\": 16.584693908691406, \"y\": 6.15045166015625}, {\"text\": \"A-Full bronze A-Full bronze hop bitterness flavor malt aroma light tan head\", \"groups\": false, \"x\": 17.160078048706055, \"y\": 7.580852508544922}, {\"text\": \"regular kitchen kitchen glass Caldera IPA IPA boasts regular kitchen forward IPA glass kinda bright\", \"groups\": true, \"x\": 16.14519500732422, \"y\": 4.703304767608643}, {\"text\": \"Surly pint pint glass Surly Standard pour Poured cool glass patchy white finger fluffy poor retention\", \"groups\": false, \"x\": 17.743751525878906, \"y\": 5.742430686950684}, {\"text\": \"Stone Levitation Levitation tulip Served Nice aroma Stone Levitation bitter Pours citrus hops\", \"groups\": false, \"x\": 17.710227966308594, \"y\": 8.199968338012695}, {\"text\": \"in-person trade recent in-person pint glass trade glass kels hooking recent in-person pretty full\", \"groups\": false, \"x\": 17.783056259155273, \"y\": 5.836421489715576}, {\"text\": \"Dogfish Head Head shaped original review pint glass server ate shaped pint Poured SAE amber Dogfish Head\", \"groups\": false, \"x\": 18.343164443969727, \"y\": 6.776272296905518}, {\"text\": \"Pours copper off-white head rich off-white Pours head caramel backing copper rich off-white Trailing lace\", \"groups\": false, \"x\": 18.526084899902344, \"y\": 7.498228073120117}, {\"text\": \"beer sticky green love color guy sticky green gave feels good green herbals\", \"groups\": false, \"x\": 15.863716125488281, \"y\": 6.520140647888184}, {\"text\": \"pint glass Poured glass pint nice hoppy sweetness light coast IPA IPA\", \"groups\": true, \"x\": 17.44841766357422, \"y\": 5.7465996742248535}, {\"text\": \"Dales Pale Pale Ale augustgarage nice canned IPA good trade FWIW Floral Copper\", \"groups\": true, \"x\": 17.03780174255371, \"y\": 6.5153656005859375}, {\"text\": \"Poured light hops Pours semi-hazy Tropical fruit Pours Tropical reddish color life start putting\", \"groups\": false, \"x\": 17.602468490600586, \"y\": 5.139873027801514}, {\"text\": \"Irvine Tustin Foods Hop Stoopid Found Caldera IPA IPA beer Sculpin Racer\", \"groups\": true, \"x\": 15.925336837768555, \"y\": 5.136954307556152}, {\"text\": \"orange malt grapefruit reddish orange golden orange familiar yellowish surprised rating Pours copper\", \"groups\": false, \"x\": 17.729049682617188, \"y\": 7.284797668457031}, {\"text\": \"pint glass Poured glass Tons Pours pint head beautiful fresh golden honey\", \"groups\": false, \"x\": 17.99734115600586, \"y\": 5.9633026123046875}, {\"text\": \"white head clear amber amber color fluffy white nice fluffy head clear amber color fluffy\", \"groups\": false, \"x\": 16.55351448059082, \"y\": 7.707666873931885}, {\"text\": \"Stunning clarity defect free amber color white head suddy lacing absolutely defect wonderful amber Stunning lemon grass clarity\", \"groups\": false, \"x\": 17.999114990234375, \"y\": 8.289834022521973}, {\"text\": \"past summer summer beer vacation past color grapefruit pine Pours carrot cake\", \"groups\": false, \"x\": 16.556907653808594, \"y\": 6.984293460845947}, {\"text\": \"ruby tint hazy ruby slight hazy deep copper slight citrus slight pour tint copper hazy\", \"groups\": false, \"x\": 17.803163528442383, \"y\": 7.814381122589111}, {\"text\": \"Yellow clear IPA finger white white head Slight Cascade Cascade hops Nice hops refreshing IPA\", \"groups\": true, \"x\": 17.108022689819336, \"y\": 7.576030254364014}, {\"text\": \"COOP Delirium goblet picked today Delirium CCC hops smelling CCC nice eggshell amber brew. hops\", \"groups\": false, \"x\": 17.89483642578125, \"y\": 4.371578693389893}, {\"text\": \"Caldera brews heard good good things Caldera slightly hazy toasted ruby-brown ruby-brown color brews heard good\", \"groups\": false, \"x\": 15.619269371032715, \"y\": 4.786412239074707}, {\"text\": \"amber color interested deep copper hops Smell malt nice Appearance copper amber\", \"groups\": false, \"x\": 17.836715698242188, \"y\": 8.48420524597168}, {\"text\": \"dig phenomenal CANQuest Ashland Amber Amber included Roots Whoops Ashland Amber trading\", \"groups\": false, \"x\": 16.666461944580078, \"y\": 5.160980701446533}, {\"text\": \"amber color cream head Pours nice nice amber Nice Pine IPA average cream Pine Grapefruit hops\", \"groups\": true, \"x\": 17.306903839111328, \"y\": 7.240407943725586}, {\"text\": \"40-45 degrees standard pint pint glass Poured degrees pint white froth standard 40-45 glass\", \"groups\": false, \"x\": 18.65287208557129, \"y\": 6.997222423553467}, {\"text\": \"Super clear impressive appearance clear orange orange body frothy sticky sticky head Super beer appearance Smells sweet\", \"groups\": false, \"x\": 17.086652755737305, \"y\": 7.637651443481445}, {\"text\": \"orange gold light orange modest tightly tightly knit knit bit Nice piney grapefruit bite Medium bodied west coast gold\", \"groups\": false, \"x\": 17.271421432495117, \"y\": 7.128821849822998}, {\"text\": \"standard pint pint glass glass Poured standard pint Beer Aroma good Tight white\", \"groups\": false, \"x\": 15.877681732177734, \"y\": 7.2561726570129395}, {\"text\": \"amber color finger head Pours IPA Crisp IPA back end Pretty Good Pine Citrus canned IPA\", \"groups\": true, \"x\": 17.38518714904785, \"y\": 7.117201328277588}, {\"text\": \"Redwood City City Redwood lasting off-white good lacing malt Pours amber color off-white head sweet malt\", \"groups\": false, \"x\": 17.439146041870117, \"y\": 6.79158353805542}, {\"text\": \"Brickskeller Washington hop flavors malt flavors leafy hop pale caramel head malt\", \"groups\": false, \"x\": 18.986331939697266, \"y\": 7.561099529266357}, {\"text\": \"shiny bronze modest head nice lattice lattice work showed good good retention good malty Appearance good glass\", \"groups\": false, \"x\": 17.406606674194336, \"y\": 8.085406303405762}, {\"text\": \"Received adamharbaugh pint glass extra perfect pint Heavy grapefruit head frothy head Heavy nice copper\", \"groups\": false, \"x\": 17.881052017211914, \"y\": 6.16859245300293}, {\"text\": \"pretty lacing pretty amber-golden glass Pours Pours pretty pint glass nice head hoppy lacing Smells delicious\", \"groups\": false, \"x\": 17.74148178100586, \"y\": 5.041230201721191}, {\"text\": \"Kegatron biscuit malt sweet biscuit hooking hop malt A-Bright golden off-white head copious lace biscuit\", \"groups\": false, \"x\": 18.17521858215332, \"y\": 7.911097526550293}, {\"text\": \"PREMISE Oregon IPA Pale Ale Dales Pale beer canned beer edge Dales moving\", \"groups\": true, \"x\": 16.66796875, \"y\": 5.261009216308594}, {\"text\": \"Rehoboth Beach Arena Cafe Beach Arena Cafe Rehoboth pint glass crisp rocky headed good lacing\", \"groups\": false, \"x\": 18.08607292175293, \"y\": 7.448062419891357}]}}, {\"mode\": \"vega-lite\"});\n",
              "</script>"
            ],
            "text/plain": [
              "alt.Chart(...)"
            ]
          },
          "metadata": {},
          "execution_count": 41
        }
      ]
    },
    {
      "cell_type": "markdown",
      "source": [
        "SetFit Model - Neural Compression"
      ],
      "metadata": {
        "id": "CG1jS3ldPF_M"
      }
    },
    {
      "cell_type": "code",
      "source": [
        "from transformers import pipeline\n",
        "%%capture\n",
        "model = SentenceTransformer('all-MiniLM-L6-v2')"
      ],
      "metadata": {
        "id": "tzAtEAgC4ZB8"
      },
      "execution_count": null,
      "outputs": []
    },
    {
      "cell_type": "code",
      "source": [
        "!pip install setfit neural_compressor optimum[onnxruntime]==1.5.0 onnxruntime_extensions"
      ],
      "metadata": {
        "id": "iOpnFOhxOkcg"
      },
      "execution_count": null,
      "outputs": []
    },
    {
      "cell_type": "markdown",
      "source": [
        "# Useful Code Snippets"
      ],
      "metadata": {
        "id": "6vkDkW16kjmM"
      }
    },
    {
      "cell_type": "markdown",
      "source": [
        "Utilities"
      ],
      "metadata": {
        "id": "fGlEzADmm27f"
      }
    },
    {
      "cell_type": "code",
      "source": [
        "import pprint\n",
        "pp = pprint.PrettyPrinter(width = 80)"
      ],
      "metadata": {
        "id": "BtLiEm6_m2Hk"
      },
      "execution_count": null,
      "outputs": []
    },
    {
      "cell_type": "code",
      "source": [
        "pp.pprint(texts[:4])"
      ],
      "metadata": {
        "id": "MFpUGdvvnMe1",
        "outputId": "dd29f942-6e1a-4bec-fdcc-f26c5a0d764e",
        "colab": {
          "base_uri": "https://localhost:8080/"
        }
      },
      "execution_count": null,
      "outputs": [
        {
          "output_type": "stream",
          "name": "stdout",
          "text": [
            "['A lot of foam. But a lot. In the smell some banana, and then lactic and '\n",
            " 'tart. Not a good start. Quite dark orange in color, with a lively '\n",
            " 'carbonation (now visible, under the foam). Again tending to lactic sourness. '\n",
            " 'Same for the taste. With some yeast and banana.',\n",
            " 'Dark red color, light beige foam, average. In the smell malt and caramel, '\n",
            " 'not really light. Again malt and caramel in the taste, not bad in the end. '\n",
            " 'Maybe a note of honey in teh back, and a light fruitiness. Average body. In '\n",
            " 'the aftertaste a light bitterness, with the malt and red fruit. Nothing '\n",
            " 'exceptional, but not bad, drinkable beer.',\n",
            " 'Almost totally black. Beige foam, quite compact, not bad. Light smell, just '\n",
            " 'a bit of roast, and some hop. A bit too light. The taste is light oo, and '\n",
            " 'drinkable, with some malt, roast, hints of coffee. Nothing exceptional, but '\n",
            " 'after all drinkable and pleasant. Light to average body. In the aftertaste '\n",
            " 'some dust, somr roast, hint of caramel, and a bit of bitterness. No defect, '\n",
            " 'drinkable, not bad.',\n",
            " 'Golden yellow color. White, compact foam, quite creamy. Good appearance. '\n",
            " 'Fresh smell, with good hop. Quite dry, with a good grassy note. Hay. Fresh '\n",
            " 'and pleasant. More sweet in the mouth, with honey. The hop comes back in the '\n",
            " 'end, and in the aftertaste. Not bad, but a bit too sweet for a pils. In the '\n",
            " 'end some vanilla and camomile note. In the aftertaste, too. Though the hop, '\n",
            " 'a bit too sweet. Honest.']\n"
          ]
        }
      ]
    },
    {
      "cell_type": "markdown",
      "source": [
        "Visualization"
      ],
      "metadata": {
        "id": "u3I8Dlw0M6RR"
      }
    },
    {
      "cell_type": "code",
      "source": [
        "import matplotlib.pyplot as plt\n",
        "%matplotlib inline"
      ],
      "metadata": {
        "id": "c3D6_dZqOC1v"
      },
      "execution_count": 32,
      "outputs": []
    },
    {
      "cell_type": "code",
      "source": [
        "# visualization code - PCA\n",
        "from sklearn.decomposition import PCA\n",
        "def PCA_plot(emb):\n",
        "  pca = PCA(n_components=2)\n",
        "  #Creates and PCA model and plots it\n",
        "  principal_comp = pca.fit_transform(emb)\n",
        "\n",
        "  x = []\n",
        "  y = []\n",
        "  for value in principal_comp:\n",
        "    x.append(value[0])\n",
        "    y.append(value[1])\n",
        "        \n",
        "  plt.figure(figsize=(16, 16)) \n",
        "  #Outputting all the embeddings\n",
        "  for i in range(len(x)):\n",
        "    plt.scatter(x[i],y[i])\n",
        "  plt.show()"
      ],
      "metadata": {
        "id": "dHq_Fr14N_Un"
      },
      "execution_count": null,
      "outputs": []
    },
    {
      "cell_type": "code",
      "source": [
        "# visualization code - PCA - 3D\n",
        "from sklearn.decomposition import PCA\n",
        "def PCA_plot_3D(emb):\n",
        "  pca = PCA(n_components=3)\n",
        "  #Creates and PCA model and plots it\n",
        "  principal_comp = pca.fit_transform(emb)\n",
        "\n",
        "  x = []\n",
        "  y = []\n",
        "  z = []\n",
        "  for value in principal_comp:\n",
        "    x.append(value[0])\n",
        "    y.append(value[1])\n",
        "    z.append(value[2])\n",
        "        \n",
        "  plt.figure(figsize=(16, 16)) \n",
        "  # Creating figure\n",
        "  fig = plt.figure(figsize = (16, 16))\n",
        "  ax = plt.axes(projection =\"3d\")\n",
        "  \n",
        "  # Creating plot\n",
        "  ax.scatter3D(x, y, z, color = \"blue\")\n",
        "  plt.title(\"simple 3D scatter plot\")\n",
        "\n",
        "  #Outputting all the embeddings\n",
        "  #for i in range(len(x)):\n",
        "    #plt.scatter(x[i],y[i])\n",
        "  plt.show()"
      ],
      "metadata": {
        "id": "TMYp83xSOOHi"
      },
      "execution_count": 33,
      "outputs": []
    },
    {
      "cell_type": "code",
      "source": [
        "PCA_plot_3D(emb_distilled)"
      ],
      "metadata": {
        "colab": {
          "base_uri": "https://localhost:8080/",
          "height": 918
        },
        "id": "yhM2CVXCm4_S",
        "outputId": "23a25af0-410f-46d5-975c-4aaabe26f339"
      },
      "execution_count": 34,
      "outputs": [
        {
          "output_type": "display_data",
          "data": {
            "text/plain": [
              "<Figure size 1152x1152 with 0 Axes>"
            ]
          },
          "metadata": {}
        },
        {
          "output_type": "display_data",
          "data": {
            "text/plain": [
              "<Figure size 1152x1152 with 1 Axes>"
            ],
            "image/png": "[encoded data removed]"
          },
          "metadata": {
            "needs_background": "light"
          }
        }
      ]
    },
    {
      "cell_type": "markdown",
      "source": [
        "SetFit test code using Hugginface Datasets"
      ],
      "metadata": {
        "id": "O3NRQ7cQdHnl"
      }
    },
    {
      "cell_type": "code",
      "source": [
        "# Load a dataset from the Hugging Face Hub\n",
        "dataset = load_dataset(\"sst2\")\n",
        "\n",
        "# Simulate the few-shot regime by sampling 8 examples per class\n",
        "num_classes = 2\n",
        "train_dataset = dataset[\"train\"].shuffle(seed=42).select(range(8 * num_classes))\n",
        "eval_dataset = dataset[\"validation\"]"
      ],
      "metadata": {
        "id": "NIr20EhKQ6fP"
      },
      "execution_count": null,
      "outputs": []
    },
    {
      "cell_type": "code",
      "source": [
        "# Load a SetFit model from Hub\n",
        "model = SetFitModel.from_pretrained(\"sentence-transformers/paraphrase-mpnet-base-v2\")\n",
        "\n",
        "# Create trainer\n",
        "trainer = SetFitTrainer(\n",
        "    model=model,\n",
        "    train_dataset=train_dataset,\n",
        "    eval_dataset=eval_dataset,\n",
        "    loss_class=CosineSimilarityLoss,\n",
        "    metric=\"accuracy\",\n",
        "    batch_size=16,\n",
        "    num_iterations=20, # The number of text pairs to generate for contrastive learning\n",
        "    num_epochs=1, # The number of epochs to use for contrastive learning\n",
        "    column_mapping={\"sentence\": \"text\", \"label\": \"label\"} # Map dataset columns to text/label expected by trainer\n",
        ")"
      ],
      "metadata": {
        "id": "1ibAd_AY7fTv"
      },
      "execution_count": null,
      "outputs": []
    },
    {
      "cell_type": "code",
      "source": [
        "# Train and evaluate\n",
        "trainer.train()\n",
        "metrics = trainer.evaluate()"
      ],
      "metadata": {
        "id": "gg5kvT5KKOqV"
      },
      "execution_count": null,
      "outputs": []
    },
    {
      "cell_type": "code",
      "source": [
        "metrics"
      ],
      "metadata": {
        "colab": {
          "base_uri": "https://localhost:8080/"
        },
        "id": "Qy2BOOQ9OgWf",
        "outputId": "3816bf9f-1f8c-4dc7-e68e-3306e43b4af4"
      },
      "execution_count": null,
      "outputs": [
        {
          "output_type": "execute_result",
          "data": {
            "text/plain": [
              "{'accuracy': 0.6559633027522935}"
            ]
          },
          "metadata": {},
          "execution_count": 39
        }
      ]
    },
    {
      "cell_type": "markdown",
      "source": [
        "TF-IDF"
      ],
      "metadata": {
        "id": "6kOpJvRkk2Rp"
      }
    },
    {
      "cell_type": "code",
      "source": [
        "from sklearn.feature_extraction.text import TfidfVectorizer\n",
        "dataset = [\n",
        "    \"I enjoy reading about Machine Learning and Machine Learning is my PhD subject\",\n",
        "    \"I would enjoy a walk in the park\",\n",
        "    \"I was reading in the library\"\n",
        "]"
      ],
      "metadata": {
        "id": "O2T2ACPox-M9"
      },
      "execution_count": null,
      "outputs": []
    },
    {
      "cell_type": "code",
      "source": [
        "tfIdfVectorizer=TfidfVectorizer(use_idf=True)\n",
        "tfIdf = tfIdfVectorizer.fit_transform(dataset)\n",
        "df = pd.DataFrame(tfIdf[0].T.todense(), index=tfIdfVectorizer.get_feature_names(), columns=[\"TF-IDF\"])\n",
        "df = df.sort_values('TF-IDF', ascending=False)\n",
        "print (df.head(25))"
      ],
      "metadata": {
        "id": "IPYabjR4xPmV"
      },
      "execution_count": null,
      "outputs": []
    },
    {
      "cell_type": "markdown",
      "source": [
        "spaCY"
      ],
      "metadata": {
        "id": "TLnb9htglChT"
      }
    },
    {
      "cell_type": "code",
      "source": [
        "import spacy \n",
        "from spacy.language import Language "
      ],
      "metadata": {
        "id": "snv20Lm1lQV9"
      },
      "execution_count": null,
      "outputs": []
    },
    {
      "cell_type": "code",
      "source": [
        "# text processing      \n",
        "nlp = spacy.load('en_core_web_sm')        \n",
        "#df['Tokens'] = df.Sumcription.apply(lambda x: nlp(x))    \n",
        "spacy_stopwords = spacy.lang.en.stop_words.STOP_WORDS        \n",
        "#spacy_stopwords.add('attach')\n",
        "#df['Lema_Token']  = df.Tokens.apply(lambda x: \" \".join([token.lemma_ for token in x if token not in spacy_stopwords]))"
      ],
      "metadata": {
        "id": "-Wqd8CBGP0Gu"
      },
      "execution_count": null,
      "outputs": []
    },
    {
      "cell_type": "code",
      "source": [
        "@Language.component(\"info_component\")\n",
        "def my_component(doc):\n",
        "    #print(f\"After tokenization, this doc has {len(doc)} tokens.\")\n",
        "    print(\"The lemmatized tokens are:\", [token.lemma_ for token in doc])\n",
        "    return doc\n",
        "\n",
        "nlp = spacy.load(\"en_core_web_sm\", disable = ['ner'])\n",
        "pipeline = [\"tok2vec\", \"parser\", \"lemmatizer\"]\n",
        "\n",
        "nlp.add_pipe(\"info_component\", name=\"print_info\",last=True)\n",
        "print(nlp.pipe_names)  # ['tagger', 'parser', 'ner', 'print_info']\n",
        "doc = nlp(\"This is a sentence.\")"
      ],
      "metadata": {
        "id": "_nmLg6LYSl2u"
      },
      "execution_count": null,
      "outputs": []
    },
    {
      "cell_type": "code",
      "source": [
        "spacy_stopwords = spacy.lang.en.stop_words.STOP_WORDS\n",
        "tokens = [token.lemma_ for token in doc if token.lemma_ not in spacy_stopwords and not token.is_punct]  "
      ],
      "metadata": {
        "id": "w8linSTQjg75"
      },
      "execution_count": null,
      "outputs": []
    },
    {
      "cell_type": "code",
      "source": [
        "#tensors\n",
        "vectors = [item.tensor for item in doc]\n",
        "# not lemmatized tokens\n",
        "tokens = [item.text for item in doc]"
      ],
      "metadata": {
        "id": "VwKExqIUqq6m"
      },
      "execution_count": null,
      "outputs": []
    },
    {
      "cell_type": "code",
      "source": [
        "# NLP Pipelien\n",
        "nlp = spacy.load(\"en_core_web_sm\")\n",
        "doc = nlp(\"This is a sentence.\")\n",
        "print(nlp.pipe_names)"
      ],
      "metadata": {
        "colab": {
          "base_uri": "https://localhost:8080/"
        },
        "id": "HPFNVjurFTeX",
        "outputId": "10f1f49d-894b-4648-892d-68ab4f7ee606"
      },
      "execution_count": null,
      "outputs": [
        {
          "output_type": "stream",
          "name": "stdout",
          "text": [
            "['tok2vec', 'tagger', 'parser', 'attribute_ruler', 'lemmatizer', 'ner']\n"
          ]
        }
      ]
    },
    {
      "cell_type": "code",
      "source": [
        "for doc in nlp.pipe(texts[:20]):\n",
        "  print(doc.ents)"
      ],
      "metadata": {
        "id": "fcY6o5n4PKni"
      },
      "execution_count": null,
      "outputs": []
    },
    {
      "cell_type": "code",
      "source": [
        "texts_spacy = []\n",
        "for doc in nlp.pipe(texts[:3000]):\n",
        "  tokens = [token.lemma_ for token in doc if token.lemma_ not in spacy_stopwords and not token.is_punct]\n",
        "\n",
        "  texts_spacy.append(' '.join(tokens))"
      ],
      "metadata": {
        "id": "p7SAKBhjHJid"
      },
      "execution_count": null,
      "outputs": []
    },
    {
      "cell_type": "code",
      "source": [
        "texts_spacy_texts = []\n",
        "for doc in nlp.pipe(texts[:3000]):\n",
        "  tokens = [token.text for token in doc if token.text not in spacy_stopwords and not token.is_punct]\n",
        "  texts_spacy_texts.append(' '.join(tokens))"
      ],
      "metadata": {
        "id": "Wsu5MkrxKWUy"
      },
      "execution_count": null,
      "outputs": []
    },
    {
      "cell_type": "code",
      "source": [
        "tfIdfVectorizer=TfidfVectorizer(use_idf=True)\n",
        "tfIdf = tfIdfVectorizer.fit_transform(texts[:3000])\n",
        "df = pd.DataFrame(tfIdf[0].T.todense(), index=tfIdfVectorizer.get_feature_names(), columns=[\"TF-IDF\"])\n",
        "df = df.sort_values('TF-IDF', ascending=False)\n",
        "print (df.head(50))"
      ],
      "metadata": {
        "id": "UiEfZnrZDf1f"
      },
      "execution_count": null,
      "outputs": []
    },
    {
      "cell_type": "markdown",
      "source": [
        "Rake-NLTK"
      ],
      "metadata": {
        "id": "yTyQ6IXhnU8C"
      }
    },
    {
      "cell_type": "code",
      "source": [
        "%%capture\n",
        "!pip install rake_nltk"
      ],
      "metadata": {
        "id": "qrG-IMrhZXJ_"
      },
      "execution_count": null,
      "outputs": []
    },
    {
      "cell_type": "code",
      "source": [
        "from rake_nltk import Rake\n",
        "import nltk\n",
        "%%capture\n",
        "nltk.download('stopwords')\n",
        "nltk.download('punkt')"
      ],
      "metadata": {
        "id": "tbjc8ScxY_y6"
      },
      "execution_count": null,
      "outputs": []
    },
    {
      "cell_type": "code",
      "source": [
        "rake_nltk_var = Rake(include_repeated_phrases=False, min_length=1, max_length=3)\n",
        "rake_nltk_var.extract_keywords_from_text(long_text)\n",
        "keyword_extracted = rake_nltk_var.get_ranked_phrases_with_scores()\n",
        "#print(keyword_extracted)"
      ],
      "metadata": {
        "id": "p6u7oC4xZeHn"
      },
      "execution_count": null,
      "outputs": []
    },
    {
      "cell_type": "markdown",
      "source": [
        "Higging Face SetFit training block (alternative to the above)"
      ],
      "metadata": {
        "id": "Oi_tKI3r-56T"
      }
    },
    {
      "cell_type": "code",
      "source": [
        "# Load a SetFit model from Hub\n",
        "model = SetFitModel.from_pretrained(\n",
        "    \"sentence-transformers/paraphrase-mpnet-base-v2\",\n",
        "    use_differentiable_head=True,\n",
        "    head_params={\"out_features\": num_classes},\n",
        ")\n",
        "\n",
        "# Create trainer\n",
        "trainer = SetFitTrainer(\n",
        "    model=model,\n",
        "    train_dataset=train_dataset,\n",
        "    eval_dataset=eval_dataset,\n",
        "    loss_class=CosineSimilarityLoss,\n",
        "    metric=\"accuracy\",\n",
        "    batch_size=16,\n",
        "    num_iterations=20, # The number of text pairs to generate for contrastive learning\n",
        "    num_epochs=1, # The number of epochs to use for contrastive learning\n",
        "    column_mapping={\"sentence\": \"text\", \"label\": \"label\"} # Map dataset columns to text/label expected by trainer\n",
        ")\n",
        "\n",
        "# Train and evaluate\n",
        "trainer.freeze() # Freeze the head\n",
        "trainer.train() # Train only the body\n",
        "\n",
        "# Unfreeze the head and freeze the body -> head-only training\n",
        "trainer.unfreeze(keep_body_frozen=True)\n",
        "# or\n",
        "# Unfreeze the head and unfreeze the body -> end-to-end training\n",
        "trainer.unfreeze(keep_body_frozen=False)\n",
        "\n",
        "trainer.train(\n",
        "    num_epochs=25, # The number of epochs to train the head or the whole model (body and head)\n",
        "    batch_size=16,\n",
        "    body_learning_rate=1e-5, # The body's learning rate\n",
        "    learning_rate=1e-2, # The head's learning rate\n",
        "    l2_weight=0.0, # Weight decay on **both** the body and head. If `None`, will use 0.01.\n",
        ")\n",
        "metrics = trainer.evaluate()\n",
        "\n",
        "# Push model to the Hub\n",
        "trainer.push_to_hub(\"my-awesome-setfit-model\")\n",
        "\n",
        "# Download from Hub and run inference\n",
        "model = SetFitModel.from_pretrained(\"lewtun/my-awesome-setfit-model\")\n",
        "# Run inference\n",
        "preds = model([\"i loved the spiderman movie!\", \"pineapple on pizza is the worst 🤮\"]) "
      ],
      "metadata": {
        "id": "d-Hdtde-RK2s"
      },
      "execution_count": null,
      "outputs": []
    }
  ]
}