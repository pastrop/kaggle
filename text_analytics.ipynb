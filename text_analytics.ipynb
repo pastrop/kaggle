{
  "nbformat": 4,
  "nbformat_minor": 0,
  "metadata": {
    "colab": {
      "provenance": [],
      "authorship_tag": "ABX9TyP5s9IISJXIT2bZgVnLt+TR",
      "include_colab_link": true
    },
    "kernelspec": {
      "name": "python3",
      "display_name": "Python 3"
    },
    "language_info": {
      "name": "python"
    }
  },
  "cells": [
    {
      "cell_type": "markdown",
      "metadata": {
        "id": "view-in-github",
        "colab_type": "text"
      },
      "source": [
        "<a href=\"https://colab.research.google.com/github/pastrop/kaggle/blob/master/text_analytics.ipynb\" target=\"_parent\"><img src=\"https://colab.research.google.com/assets/colab-badge.svg\" alt=\"Open In Colab\"/></a>"
      ]
    },
    {
      "cell_type": "markdown",
      "source": [
        "# Key Words & Documents Clusters"
      ],
      "metadata": {
        "id": "kNC0lDkrwkV2"
      }
    },
    {
      "cell_type": "code",
      "execution_count": null,
      "metadata": {
        "id": "Jbb9e0newipE"
      },
      "outputs": [],
      "source": [
        "import pandas as pd\n",
        "from sklearn.feature_extraction.text import TfidfVectorizer\n",
        "import spacy \n",
        "from spacy.language import Language "
      ]
    },
    {
      "cell_type": "code",
      "source": [
        "# file upload while using Google Colab\n",
        "from google.colab import files\n",
        "uploaded = files.upload()"
      ],
      "metadata": {
        "colab": {
          "base_uri": "https://localhost:8080/",
          "height": 73
        },
        "id": "LpW1-Jk2xKO0",
        "outputId": "98b226d0-0f4b-4dd0-f2e4-360d0f2bcf2f"
      },
      "execution_count": 49,
      "outputs": [
        {
          "output_type": "display_data",
          "data": {
            "text/plain": [
              "<IPython.core.display.HTML object>"
            ],
            "text/html": [
              "\n",
              "     <input type=\"file\" id=\"files-ce179302-ce82-47e2-bf71-2cd7108cc4cf\" name=\"files[]\" multiple disabled\n",
              "        style=\"border:none\" />\n",
              "     <output id=\"result-ce179302-ce82-47e2-bf71-2cd7108cc4cf\">\n",
              "      Upload widget is only available when the cell has been executed in the\n",
              "      current browser session. Please rerun this cell to enable.\n",
              "      </output>\n",
              "      <script>// Copyright 2017 Google LLC\n",
              "//\n",
              "// Licensed under the Apache License, Version 2.0 (the \"License\");\n",
              "// you may not use this file except in compliance with the License.\n",
              "// You may obtain a copy of the License at\n",
              "//\n",
              "//      http://www.apache.org/licenses/LICENSE-2.0\n",
              "//\n",
              "// Unless required by applicable law or agreed to in writing, software\n",
              "// distributed under the License is distributed on an \"AS IS\" BASIS,\n",
              "// WITHOUT WARRANTIES OR CONDITIONS OF ANY KIND, either express or implied.\n",
              "// See the License for the specific language governing permissions and\n",
              "// limitations under the License.\n",
              "\n",
              "/**\n",
              " * @fileoverview Helpers for google.colab Python module.\n",
              " */\n",
              "(function(scope) {\n",
              "function span(text, styleAttributes = {}) {\n",
              "  const element = document.createElement('span');\n",
              "  element.textContent = text;\n",
              "  for (const key of Object.keys(styleAttributes)) {\n",
              "    element.style[key] = styleAttributes[key];\n",
              "  }\n",
              "  return element;\n",
              "}\n",
              "\n",
              "// Max number of bytes which will be uploaded at a time.\n",
              "const MAX_PAYLOAD_SIZE = 100 * 1024;\n",
              "\n",
              "function _uploadFiles(inputId, outputId) {\n",
              "  const steps = uploadFilesStep(inputId, outputId);\n",
              "  const outputElement = document.getElementById(outputId);\n",
              "  // Cache steps on the outputElement to make it available for the next call\n",
              "  // to uploadFilesContinue from Python.\n",
              "  outputElement.steps = steps;\n",
              "\n",
              "  return _uploadFilesContinue(outputId);\n",
              "}\n",
              "\n",
              "// This is roughly an async generator (not supported in the browser yet),\n",
              "// where there are multiple asynchronous steps and the Python side is going\n",
              "// to poll for completion of each step.\n",
              "// This uses a Promise to block the python side on completion of each step,\n",
              "// then passes the result of the previous step as the input to the next step.\n",
              "function _uploadFilesContinue(outputId) {\n",
              "  const outputElement = document.getElementById(outputId);\n",
              "  const steps = outputElement.steps;\n",
              "\n",
              "  const next = steps.next(outputElement.lastPromiseValue);\n",
              "  return Promise.resolve(next.value.promise).then((value) => {\n",
              "    // Cache the last promise value to make it available to the next\n",
              "    // step of the generator.\n",
              "    outputElement.lastPromiseValue = value;\n",
              "    return next.value.response;\n",
              "  });\n",
              "}\n",
              "\n",
              "/**\n",
              " * Generator function which is called between each async step of the upload\n",
              " * process.\n",
              " * @param {string} inputId Element ID of the input file picker element.\n",
              " * @param {string} outputId Element ID of the output display.\n",
              " * @return {!Iterable<!Object>} Iterable of next steps.\n",
              " */\n",
              "function* uploadFilesStep(inputId, outputId) {\n",
              "  const inputElement = document.getElementById(inputId);\n",
              "  inputElement.disabled = false;\n",
              "\n",
              "  const outputElement = document.getElementById(outputId);\n",
              "  outputElement.innerHTML = '';\n",
              "\n",
              "  const pickedPromise = new Promise((resolve) => {\n",
              "    inputElement.addEventListener('change', (e) => {\n",
              "      resolve(e.target.files);\n",
              "    });\n",
              "  });\n",
              "\n",
              "  const cancel = document.createElement('button');\n",
              "  inputElement.parentElement.appendChild(cancel);\n",
              "  cancel.textContent = 'Cancel upload';\n",
              "  const cancelPromise = new Promise((resolve) => {\n",
              "    cancel.onclick = () => {\n",
              "      resolve(null);\n",
              "    };\n",
              "  });\n",
              "\n",
              "  // Wait for the user to pick the files.\n",
              "  const files = yield {\n",
              "    promise: Promise.race([pickedPromise, cancelPromise]),\n",
              "    response: {\n",
              "      action: 'starting',\n",
              "    }\n",
              "  };\n",
              "\n",
              "  cancel.remove();\n",
              "\n",
              "  // Disable the input element since further picks are not allowed.\n",
              "  inputElement.disabled = true;\n",
              "\n",
              "  if (!files) {\n",
              "    return {\n",
              "      response: {\n",
              "        action: 'complete',\n",
              "      }\n",
              "    };\n",
              "  }\n",
              "\n",
              "  for (const file of files) {\n",
              "    const li = document.createElement('li');\n",
              "    li.append(span(file.name, {fontWeight: 'bold'}));\n",
              "    li.append(span(\n",
              "        `(${file.type || 'n/a'}) - ${file.size} bytes, ` +\n",
              "        `last modified: ${\n",
              "            file.lastModifiedDate ? file.lastModifiedDate.toLocaleDateString() :\n",
              "                                    'n/a'} - `));\n",
              "    const percent = span('0% done');\n",
              "    li.appendChild(percent);\n",
              "\n",
              "    outputElement.appendChild(li);\n",
              "\n",
              "    const fileDataPromise = new Promise((resolve) => {\n",
              "      const reader = new FileReader();\n",
              "      reader.onload = (e) => {\n",
              "        resolve(e.target.result);\n",
              "      };\n",
              "      reader.readAsArrayBuffer(file);\n",
              "    });\n",
              "    // Wait for the data to be ready.\n",
              "    let fileData = yield {\n",
              "      promise: fileDataPromise,\n",
              "      response: {\n",
              "        action: 'continue',\n",
              "      }\n",
              "    };\n",
              "\n",
              "    // Use a chunked sending to avoid message size limits. See b/62115660.\n",
              "    let position = 0;\n",
              "    do {\n",
              "      const length = Math.min(fileData.byteLength - position, MAX_PAYLOAD_SIZE);\n",
              "      const chunk = new Uint8Array(fileData, position, length);\n",
              "      position += length;\n",
              "\n",
              "      const base64 = btoa(String.fromCharCode.apply(null, chunk));\n",
              "      yield {\n",
              "        response: {\n",
              "          action: 'append',\n",
              "          file: file.name,\n",
              "          data: base64,\n",
              "        },\n",
              "      };\n",
              "\n",
              "      let percentDone = fileData.byteLength === 0 ?\n",
              "          100 :\n",
              "          Math.round((position / fileData.byteLength) * 100);\n",
              "      percent.textContent = `${percentDone}% done`;\n",
              "\n",
              "    } while (position < fileData.byteLength);\n",
              "  }\n",
              "\n",
              "  // All done.\n",
              "  yield {\n",
              "    response: {\n",
              "      action: 'complete',\n",
              "    }\n",
              "  };\n",
              "}\n",
              "\n",
              "scope.google = scope.google || {};\n",
              "scope.google.colab = scope.google.colab || {};\n",
              "scope.google.colab._files = {\n",
              "  _uploadFiles,\n",
              "  _uploadFilesContinue,\n",
              "};\n",
              "})(self);\n",
              "</script> "
            ]
          },
          "metadata": {}
        },
        {
          "output_type": "stream",
          "name": "stdout",
          "text": [
            "Saving beer_5k.csv to beer_5k.csv\n"
          ]
        }
      ]
    },
    {
      "cell_type": "code",
      "source": [
        "dataset = [\n",
        "    \"I enjoy reading about Machine Learning and Machine Learning is my PhD subject\",\n",
        "    \"I would enjoy a walk in the park\",\n",
        "    \"I was reading in the library\"\n",
        "]"
      ],
      "metadata": {
        "id": "O2T2ACPox-M9"
      },
      "execution_count": 8,
      "outputs": []
    },
    {
      "cell_type": "code",
      "source": [
        "tfIdfVectorizer=TfidfVectorizer(use_idf=True)\n",
        "tfIdf = tfIdfVectorizer.fit_transform(dataset)\n",
        "df = pd.DataFrame(tfIdf[0].T.todense(), index=tfIdfVectorizer.get_feature_names(), columns=[\"TF-IDF\"])\n",
        "df = df.sort_values('TF-IDF', ascending=False)\n",
        "print (df.head(25))"
      ],
      "metadata": {
        "id": "IPYabjR4xPmV"
      },
      "execution_count": null,
      "outputs": []
    },
    {
      "cell_type": "code",
      "source": [
        "# text processing      \n",
        "nlp = spacy.load('en_core_web_sm')        \n",
        "#df['Tokens'] = df.Sumcription.apply(lambda x: nlp(x))    \n",
        "spacy_stopwords = spacy.lang.en.stop_words.STOP_WORDS        \n",
        "#spacy_stopwords.add('attach')\n",
        "#df['Lema_Token']  = df.Tokens.apply(lambda x: \" \".join([token.lemma_ for token in x if token not in spacy_stopwords]))"
      ],
      "metadata": {
        "id": "-Wqd8CBGP0Gu"
      },
      "execution_count": 13,
      "outputs": []
    },
    {
      "cell_type": "code",
      "source": [
        "@Language.component(\"info_component\")\n",
        "def my_component(doc):\n",
        "    #print(f\"After tokenization, this doc has {len(doc)} tokens.\")\n",
        "    print(\"The lemmatized tokens are:\", [token.lemma_ for token in doc])\n",
        "    return doc\n",
        "\n",
        "nlp = spacy.load(\"en_core_web_sm\", disable = ['ner'])\n",
        "pipeline = [\"tok2vec\", \"parser\", \"lemmatizer\"]\n",
        "\n",
        "nlp.add_pipe(\"info_component\", name=\"print_info\",last=True)\n",
        "print(nlp.pipe_names)  # ['tagger', 'parser', 'ner', 'print_info']\n",
        "doc = nlp(\"This is a sentence.\")"
      ],
      "metadata": {
        "colab": {
          "base_uri": "https://localhost:8080/"
        },
        "id": "_nmLg6LYSl2u",
        "outputId": "dbec8a9d-5fbd-4c7e-ebcc-bb573dfe6977"
      },
      "execution_count": 32,
      "outputs": [
        {
          "output_type": "stream",
          "name": "stdout",
          "text": [
            "['tok2vec', 'tagger', 'parser', 'attribute_ruler', 'lemmatizer', 'print_info']\n",
            "The lemmatized tokens are: ['this', 'be', 'a', 'sentence', '.']\n"
          ]
        }
      ]
    },
    {
      "cell_type": "code",
      "source": [
        "spacy_stopwords = spacy.lang.en.stop_words.STOP_WORDS\n",
        "tokens = [token.lemma_ for token in doc if token.lemma_ not in spacy_stopwords and not token.is_punct]  "
      ],
      "metadata": {
        "id": "w8linSTQjg75"
      },
      "execution_count": 40,
      "outputs": []
    },
    {
      "cell_type": "code",
      "source": [
        "tokens"
      ],
      "metadata": {
        "colab": {
          "base_uri": "https://localhost:8080/"
        },
        "id": "WeB6SRaPouQW",
        "outputId": "9bb4ad55-0d11-4987-d81c-adaf690cbb8b"
      },
      "execution_count": 41,
      "outputs": [
        {
          "output_type": "execute_result",
          "data": {
            "text/plain": [
              "['sentence']"
            ]
          },
          "metadata": {},
          "execution_count": 41
        }
      ]
    },
    {
      "cell_type": "code",
      "source": [
        "#tensors\n",
        "vectors = [item.tensor for item in doc]\n",
        "# not lemmatized tokens\n",
        "tokens = [item.text for item in doc]"
      ],
      "metadata": {
        "id": "VwKExqIUqq6m"
      },
      "execution_count": 42,
      "outputs": []
    },
    {
      "cell_type": "code",
      "source": [
        "tokens = [item.text for item in doc]"
      ],
      "metadata": {
        "id": "tok0dsyxq_tJ"
      },
      "execution_count": 47,
      "outputs": []
    },
    {
      "cell_type": "code",
      "source": [
        "# beer dataset investigation\n"
      ],
      "metadata": {
        "id": "f7nyQoAIDJmf"
      },
      "execution_count": null,
      "outputs": []
    },
    {
      "cell_type": "code",
      "source": [
        "# Dataframe processing\n",
        "df = pd.read_csv('beer_5k.csv')\n",
        "texts = [item.replace(\"\\t\", \" \")[:3000] for item in df['text'] [:3000]]\n",
        "#df.head(2)"
      ],
      "metadata": {
        "id": "egPk0LY4x7-g"
      },
      "execution_count": null,
      "outputs": []
    },
    {
      "cell_type": "code",
      "source": [
        "# NLP Pipelien\n",
        "nlp = spacy.load(\"en_core_web_sm\", disable = ['ner'])\n",
        "doc = nlp(\"This is a sentence.\")\n",
        "print(nlp.pipe_names)"
      ],
      "metadata": {
        "colab": {
          "base_uri": "https://localhost:8080/"
        },
        "id": "HPFNVjurFTeX",
        "outputId": "8bea22fe-0fe4-49d5-9f05-814ee3b99f5a"
      },
      "execution_count": 65,
      "outputs": [
        {
          "output_type": "stream",
          "name": "stdout",
          "text": [
            "['tok2vec', 'tagger', 'parser', 'attribute_ruler', 'lemmatizer']\n"
          ]
        }
      ]
    },
    {
      "cell_type": "code",
      "source": [
        "texts_spacy = []\n",
        "for doc in nlp.pipe(texts[:3000]):\n",
        "  tokens = [token.lemma_ for token in doc if token.lemma_ not in spacy_stopwords and not token.is_punct]\n",
        "\n",
        "  texts_spacy.append(' '.join(tokens))"
      ],
      "metadata": {
        "id": "p7SAKBhjHJid"
      },
      "execution_count": 74,
      "outputs": []
    },
    {
      "cell_type": "code",
      "source": [
        "texts_spacy_texts = []\n",
        "for doc in nlp.pipe(texts[:3000]):\n",
        "  tokens = [token.text for token in doc if token.text not in spacy_stopwords and not token.is_punct]\n",
        "  texts_spacy_texts.append(' '.join(tokens))"
      ],
      "metadata": {
        "id": "Wsu5MkrxKWUy"
      },
      "execution_count": 81,
      "outputs": []
    },
    {
      "cell_type": "code",
      "source": [
        "texts_spacy_texts[1]"
      ],
      "metadata": {
        "colab": {
          "base_uri": "https://localhost:8080/",
          "height": 53
        },
        "id": "E64Q5wqmJJao",
        "outputId": "cb4e141a-fbf4-4d07-a65f-82d75b2f6151"
      },
      "execution_count": 82,
      "outputs": [
        {
          "output_type": "execute_result",
          "data": {
            "text/plain": [
              "'Dark red color light beige foam average In smell malt caramel light Again malt caramel taste bad end Maybe note honey teh light fruitiness Average body In aftertaste light bitterness malt red fruit Nothing exceptional bad drinkable beer'"
            ],
            "application/vnd.google.colaboratory.intrinsic+json": {
              "type": "string"
            }
          },
          "metadata": {},
          "execution_count": 82
        }
      ]
    },
    {
      "cell_type": "code",
      "source": [
        "tfIdfVectorizer=TfidfVectorizer(use_idf=True)\n",
        "tfIdf = tfIdfVectorizer.fit_transform(texts[:3000])\n",
        "df = pd.DataFrame(tfIdf[0].T.todense(), index=tfIdfVectorizer.get_feature_names(), columns=[\"TF-IDF\"])\n",
        "df = df.sort_values('TF-IDF', ascending=False)\n",
        "print (df.head(50))"
      ],
      "metadata": {
        "colab": {
          "base_uri": "https://localhost:8080/"
        },
        "id": "UiEfZnrZDf1f",
        "outputId": "07c88e51-dcde-456d-ef1a-0523676b3b17"
      },
      "execution_count": 85,
      "outputs": [
        {
          "output_type": "stream",
          "name": "stdout",
          "text": [
            "               TF-IDF\n",
            "lactic       0.512715\n",
            "banana       0.337124\n",
            "tending      0.262836\n",
            "foam         0.262121\n",
            "lot          0.247671\n",
            "sourness     0.199172\n",
            "visible      0.191720\n",
            "lively       0.190773\n",
            "under        0.181739\n",
            "tart         0.175140\n",
            "start        0.162588\n",
            "now          0.157843\n",
            "same         0.141515\n",
            "yeast        0.139252\n",
            "some         0.133016\n",
            "then         0.123412\n",
            "and          0.116488\n",
            "the          0.115634\n",
            "again        0.112186\n",
            "quite        0.104319\n",
            "in           0.102690\n",
            "dark         0.096210\n",
            "orange       0.093811\n",
            "with         0.082831\n",
            "smell        0.080186\n",
            "color        0.071451\n",
            "carbonation  0.068577\n",
            "good         0.066593\n",
            "for          0.062094\n",
            "taste        0.059912\n",
            "not          0.059191\n",
            "but          0.050996\n",
            "to           0.048420\n",
            "of           0.041068\n",
            "posture      0.000000\n",
            "polite       0.000000\n",
            "polotmavy    0.000000\n",
            "polymer      0.000000\n",
            "pond         0.000000\n",
            "ponder       0.000000\n",
            "poo          0.000000\n",
            "posting      0.000000\n",
            "pony         0.000000\n",
            "postiive     0.000000\n",
            "polished     0.000000\n",
            "posterous    0.000000\n",
            "poster       0.000000\n",
            "poofy        0.000000\n",
            "pool         0.000000\n",
            "pot          0.000000\n"
          ]
        },
        {
          "output_type": "stream",
          "name": "stderr",
          "text": [
            "/usr/local/lib/python3.8/dist-packages/sklearn/utils/deprecation.py:87: FutureWarning: Function get_feature_names is deprecated; get_feature_names is deprecated in 1.0 and will be removed in 1.2. Please use get_feature_names_out instead.\n",
            "  warnings.warn(msg, category=FutureWarning)\n"
          ]
        }
      ]
    },
    {
      "cell_type": "code",
      "source": [
        "tfIdfVectorizer=TfidfVectorizer(use_idf=True)\n",
        "tfIdf = tfIdfVectorizer.fit_transform(texts_spacy_texts[:3000])\n",
        "df = pd.DataFrame(tfIdf[0].T.todense(), index=tfIdfVectorizer.get_feature_names(), columns=[\"TF-IDF\"])\n",
        "df = df.sort_values('TF-IDF', ascending=False)\n",
        "print (df.head(50))"
      ],
      "metadata": {
        "colab": {
          "base_uri": "https://localhost:8080/"
        },
        "id": "FD66-Uo3r_py",
        "outputId": "b3c7fbe6-ad55-4500-9d98-227e57b9ed88"
      },
      "execution_count": 83,
      "outputs": [
        {
          "output_type": "stream",
          "name": "stdout",
          "text": [
            "               TF-IDF\n",
            "lactic       0.507803\n",
            "banana       0.333894\n",
            "tending      0.260318\n",
            "foam         0.259610\n",
            "lot          0.245299\n",
            "same         0.239633\n",
            "sourness     0.197264\n",
            "visible      0.189883\n",
            "again        0.189883\n",
            "lively       0.188945\n",
            "with         0.184595\n",
            "tart         0.173463\n",
            "quite        0.165491\n",
            "start        0.161030\n",
            "in           0.153514\n",
            "but          0.142803\n",
            "yeast        0.137918\n",
            "not          0.095876\n",
            "dark         0.095289\n",
            "orange       0.092913\n",
            "smell        0.079418\n",
            "color        0.070767\n",
            "carbonation  0.067920\n",
            "good         0.065955\n",
            "taste        0.059338\n",
            "pond         0.000000\n",
            "polite       0.000000\n",
            "polotmavy    0.000000\n",
            "polymer      0.000000\n",
            "poo          0.000000\n",
            "ponder       0.000000\n",
            "pony         0.000000\n",
            "pooling      0.000000\n",
            "poofy        0.000000\n",
            "pool         0.000000\n",
            "polished     0.000000\n",
            "poolside     0.000000\n",
            "poke         0.000000\n",
            "polish       0.000000\n",
            "point        0.000000\n",
            "plunging     0.000000\n",
            "plus         0.000000\n",
            "plush        0.000000\n",
            "plymouth     0.000000\n",
            "pney         0.000000\n",
            "pnw          0.000000\n",
            "poet         0.000000\n",
            "pointed      0.000000\n",
            "polarizing   0.000000\n",
            "points       0.000000\n"
          ]
        },
        {
          "output_type": "stream",
          "name": "stderr",
          "text": [
            "/usr/local/lib/python3.8/dist-packages/sklearn/utils/deprecation.py:87: FutureWarning: Function get_feature_names is deprecated; get_feature_names is deprecated in 1.0 and will be removed in 1.2. Please use get_feature_names_out instead.\n",
            "  warnings.warn(msg, category=FutureWarning)\n"
          ]
        }
      ]
    }
  ]
}