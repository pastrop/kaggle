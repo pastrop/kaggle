{
  "nbformat": 4,
  "nbformat_minor": 0,
  "metadata": {
    "colab": {
      "provenance": [],
      "authorship_tag": "ABX9TyOFqfwDKGJqppo9hSkgJT5S",
      "include_colab_link": true
    },
    "kernelspec": {
      "name": "python3",
      "display_name": "Python 3"
    },
    "language_info": {
      "name": "python"
    },
    "accelerator": "GPU",
    "gpuClass": "standard",
    "widgets": {
      "application/vnd.jupyter.widget-state+json": {
        "5219c6d1a97a41a5b836225f4bce4ecc": {
          "model_module": "@jupyter-widgets/controls",
          "model_name": "HBoxModel",
          "model_module_version": "1.5.0",
          "state": {
            "_dom_classes": [],
            "_model_module": "@jupyter-widgets/controls",
            "_model_module_version": "1.5.0",
            "_model_name": "HBoxModel",
            "_view_count": null,
            "_view_module": "@jupyter-widgets/controls",
            "_view_module_version": "1.5.0",
            "_view_name": "HBoxView",
            "box_style": "",
            "children": [
              "IPY_MODEL_e324ae1f56ab48b58f202ba0248b46c2",
              "IPY_MODEL_28f62e2acc1f46ebb6750fab386ae586",
              "IPY_MODEL_0d09bc73cce842119c3a64bde63ad49d"
            ],
            "layout": "IPY_MODEL_9e93c1c0cc03404c96ed530b11d51415"
          }
        },
        "e324ae1f56ab48b58f202ba0248b46c2": {
          "model_module": "@jupyter-widgets/controls",
          "model_name": "HTMLModel",
          "model_module_version": "1.5.0",
          "state": {
            "_dom_classes": [],
            "_model_module": "@jupyter-widgets/controls",
            "_model_module_version": "1.5.0",
            "_model_name": "HTMLModel",
            "_view_count": null,
            "_view_module": "@jupyter-widgets/controls",
            "_view_module_version": "1.5.0",
            "_view_name": "HTMLView",
            "description": "",
            "description_tooltip": null,
            "layout": "IPY_MODEL_f20db5a526dd44a69b321406f535ef0f",
            "placeholder": "​",
            "style": "IPY_MODEL_00d82f3c8aa04a189368fc6ade7b3de8",
            "value": "Epoch: 100%"
          }
        },
        "28f62e2acc1f46ebb6750fab386ae586": {
          "model_module": "@jupyter-widgets/controls",
          "model_name": "FloatProgressModel",
          "model_module_version": "1.5.0",
          "state": {
            "_dom_classes": [],
            "_model_module": "@jupyter-widgets/controls",
            "_model_module_version": "1.5.0",
            "_model_name": "FloatProgressModel",
            "_view_count": null,
            "_view_module": "@jupyter-widgets/controls",
            "_view_module_version": "1.5.0",
            "_view_name": "ProgressView",
            "bar_style": "success",
            "description": "",
            "description_tooltip": null,
            "layout": "IPY_MODEL_46ce5dc97431472ba0f2cd3681adde03",
            "max": 1,
            "min": 0,
            "orientation": "horizontal",
            "style": "IPY_MODEL_fb444675e2bb46bcac60ead080c48f9d",
            "value": 1
          }
        },
        "0d09bc73cce842119c3a64bde63ad49d": {
          "model_module": "@jupyter-widgets/controls",
          "model_name": "HTMLModel",
          "model_module_version": "1.5.0",
          "state": {
            "_dom_classes": [],
            "_model_module": "@jupyter-widgets/controls",
            "_model_module_version": "1.5.0",
            "_model_name": "HTMLModel",
            "_view_count": null,
            "_view_module": "@jupyter-widgets/controls",
            "_view_module_version": "1.5.0",
            "_view_name": "HTMLView",
            "description": "",
            "description_tooltip": null,
            "layout": "IPY_MODEL_50b04ab4764742699f2bcde85fc9504c",
            "placeholder": "​",
            "style": "IPY_MODEL_7a0a01e12b3b455dbb05534881e78d83",
            "value": " 1/1 [01:12&lt;00:00, 72.34s/it]"
          }
        },
        "9e93c1c0cc03404c96ed530b11d51415": {
          "model_module": "@jupyter-widgets/base",
          "model_name": "LayoutModel",
          "model_module_version": "1.2.0",
          "state": {
            "_model_module": "@jupyter-widgets/base",
            "_model_module_version": "1.2.0",
            "_model_name": "LayoutModel",
            "_view_count": null,
            "_view_module": "@jupyter-widgets/base",
            "_view_module_version": "1.2.0",
            "_view_name": "LayoutView",
            "align_content": null,
            "align_items": null,
            "align_self": null,
            "border": null,
            "bottom": null,
            "display": null,
            "flex": null,
            "flex_flow": null,
            "grid_area": null,
            "grid_auto_columns": null,
            "grid_auto_flow": null,
            "grid_auto_rows": null,
            "grid_column": null,
            "grid_gap": null,
            "grid_row": null,
            "grid_template_areas": null,
            "grid_template_columns": null,
            "grid_template_rows": null,
            "height": null,
            "justify_content": null,
            "justify_items": null,
            "left": null,
            "margin": null,
            "max_height": null,
            "max_width": null,
            "min_height": null,
            "min_width": null,
            "object_fit": null,
            "object_position": null,
            "order": null,
            "overflow": null,
            "overflow_x": null,
            "overflow_y": null,
            "padding": null,
            "right": null,
            "top": null,
            "visibility": null,
            "width": null
          }
        },
        "f20db5a526dd44a69b321406f535ef0f": {
          "model_module": "@jupyter-widgets/base",
          "model_name": "LayoutModel",
          "model_module_version": "1.2.0",
          "state": {
            "_model_module": "@jupyter-widgets/base",
            "_model_module_version": "1.2.0",
            "_model_name": "LayoutModel",
            "_view_count": null,
            "_view_module": "@jupyter-widgets/base",
            "_view_module_version": "1.2.0",
            "_view_name": "LayoutView",
            "align_content": null,
            "align_items": null,
            "align_self": null,
            "border": null,
            "bottom": null,
            "display": null,
            "flex": null,
            "flex_flow": null,
            "grid_area": null,
            "grid_auto_columns": null,
            "grid_auto_flow": null,
            "grid_auto_rows": null,
            "grid_column": null,
            "grid_gap": null,
            "grid_row": null,
            "grid_template_areas": null,
            "grid_template_columns": null,
            "grid_template_rows": null,
            "height": null,
            "justify_content": null,
            "justify_items": null,
            "left": null,
            "margin": null,
            "max_height": null,
            "max_width": null,
            "min_height": null,
            "min_width": null,
            "object_fit": null,
            "object_position": null,
            "order": null,
            "overflow": null,
            "overflow_x": null,
            "overflow_y": null,
            "padding": null,
            "right": null,
            "top": null,
            "visibility": null,
            "width": null
          }
        },
        "00d82f3c8aa04a189368fc6ade7b3de8": {
          "model_module": "@jupyter-widgets/controls",
          "model_name": "DescriptionStyleModel",
          "model_module_version": "1.5.0",
          "state": {
            "_model_module": "@jupyter-widgets/controls",
            "_model_module_version": "1.5.0",
            "_model_name": "DescriptionStyleModel",
            "_view_count": null,
            "_view_module": "@jupyter-widgets/base",
            "_view_module_version": "1.2.0",
            "_view_name": "StyleView",
            "description_width": ""
          }
        },
        "46ce5dc97431472ba0f2cd3681adde03": {
          "model_module": "@jupyter-widgets/base",
          "model_name": "LayoutModel",
          "model_module_version": "1.2.0",
          "state": {
            "_model_module": "@jupyter-widgets/base",
            "_model_module_version": "1.2.0",
            "_model_name": "LayoutModel",
            "_view_count": null,
            "_view_module": "@jupyter-widgets/base",
            "_view_module_version": "1.2.0",
            "_view_name": "LayoutView",
            "align_content": null,
            "align_items": null,
            "align_self": null,
            "border": null,
            "bottom": null,
            "display": null,
            "flex": null,
            "flex_flow": null,
            "grid_area": null,
            "grid_auto_columns": null,
            "grid_auto_flow": null,
            "grid_auto_rows": null,
            "grid_column": null,
            "grid_gap": null,
            "grid_row": null,
            "grid_template_areas": null,
            "grid_template_columns": null,
            "grid_template_rows": null,
            "height": null,
            "justify_content": null,
            "justify_items": null,
            "left": null,
            "margin": null,
            "max_height": null,
            "max_width": null,
            "min_height": null,
            "min_width": null,
            "object_fit": null,
            "object_position": null,
            "order": null,
            "overflow": null,
            "overflow_x": null,
            "overflow_y": null,
            "padding": null,
            "right": null,
            "top": null,
            "visibility": null,
            "width": null
          }
        },
        "fb444675e2bb46bcac60ead080c48f9d": {
          "model_module": "@jupyter-widgets/controls",
          "model_name": "ProgressStyleModel",
          "model_module_version": "1.5.0",
          "state": {
            "_model_module": "@jupyter-widgets/controls",
            "_model_module_version": "1.5.0",
            "_model_name": "ProgressStyleModel",
            "_view_count": null,
            "_view_module": "@jupyter-widgets/base",
            "_view_module_version": "1.2.0",
            "_view_name": "StyleView",
            "bar_color": null,
            "description_width": ""
          }
        },
        "50b04ab4764742699f2bcde85fc9504c": {
          "model_module": "@jupyter-widgets/base",
          "model_name": "LayoutModel",
          "model_module_version": "1.2.0",
          "state": {
            "_model_module": "@jupyter-widgets/base",
            "_model_module_version": "1.2.0",
            "_model_name": "LayoutModel",
            "_view_count": null,
            "_view_module": "@jupyter-widgets/base",
            "_view_module_version": "1.2.0",
            "_view_name": "LayoutView",
            "align_content": null,
            "align_items": null,
            "align_self": null,
            "border": null,
            "bottom": null,
            "display": null,
            "flex": null,
            "flex_flow": null,
            "grid_area": null,
            "grid_auto_columns": null,
            "grid_auto_flow": null,
            "grid_auto_rows": null,
            "grid_column": null,
            "grid_gap": null,
            "grid_row": null,
            "grid_template_areas": null,
            "grid_template_columns": null,
            "grid_template_rows": null,
            "height": null,
            "justify_content": null,
            "justify_items": null,
            "left": null,
            "margin": null,
            "max_height": null,
            "max_width": null,
            "min_height": null,
            "min_width": null,
            "object_fit": null,
            "object_position": null,
            "order": null,
            "overflow": null,
            "overflow_x": null,
            "overflow_y": null,
            "padding": null,
            "right": null,
            "top": null,
            "visibility": null,
            "width": null
          }
        },
        "7a0a01e12b3b455dbb05534881e78d83": {
          "model_module": "@jupyter-widgets/controls",
          "model_name": "DescriptionStyleModel",
          "model_module_version": "1.5.0",
          "state": {
            "_model_module": "@jupyter-widgets/controls",
            "_model_module_version": "1.5.0",
            "_model_name": "DescriptionStyleModel",
            "_view_count": null,
            "_view_module": "@jupyter-widgets/base",
            "_view_module_version": "1.2.0",
            "_view_name": "StyleView",
            "description_width": ""
          }
        },
        "0ec9b6f53cfa40d9878df59956840c43": {
          "model_module": "@jupyter-widgets/controls",
          "model_name": "HBoxModel",
          "model_module_version": "1.5.0",
          "state": {
            "_dom_classes": [],
            "_model_module": "@jupyter-widgets/controls",
            "_model_module_version": "1.5.0",
            "_model_name": "HBoxModel",
            "_view_count": null,
            "_view_module": "@jupyter-widgets/controls",
            "_view_module_version": "1.5.0",
            "_view_name": "HBoxView",
            "box_style": "",
            "children": [
              "IPY_MODEL_1389910761d348c991766bd059717868",
              "IPY_MODEL_f54806014a1e4b80a64f627cbee7dc3b",
              "IPY_MODEL_18eeab46acb94194a5ed42647a3b5475"
            ],
            "layout": "IPY_MODEL_f7e0533bc5d0408dbc919d306300b9d7"
          }
        },
        "1389910761d348c991766bd059717868": {
          "model_module": "@jupyter-widgets/controls",
          "model_name": "HTMLModel",
          "model_module_version": "1.5.0",
          "state": {
            "_dom_classes": [],
            "_model_module": "@jupyter-widgets/controls",
            "_model_module_version": "1.5.0",
            "_model_name": "HTMLModel",
            "_view_count": null,
            "_view_module": "@jupyter-widgets/controls",
            "_view_module_version": "1.5.0",
            "_view_name": "HTMLView",
            "description": "",
            "description_tooltip": null,
            "layout": "IPY_MODEL_28b2c60aa35249a0ba5d6237857e089d",
            "placeholder": "​",
            "style": "IPY_MODEL_83e062bfcab941b98b40dcca6073e5ea",
            "value": "Iteration: 100%"
          }
        },
        "f54806014a1e4b80a64f627cbee7dc3b": {
          "model_module": "@jupyter-widgets/controls",
          "model_name": "FloatProgressModel",
          "model_module_version": "1.5.0",
          "state": {
            "_dom_classes": [],
            "_model_module": "@jupyter-widgets/controls",
            "_model_module_version": "1.5.0",
            "_model_name": "FloatProgressModel",
            "_view_count": null,
            "_view_module": "@jupyter-widgets/controls",
            "_view_module_version": "1.5.0",
            "_view_name": "ProgressView",
            "bar_style": "success",
            "description": "",
            "description_tooltip": null,
            "layout": "IPY_MODEL_b6612e9d659a4016b34077eff7c76f8d",
            "max": 40,
            "min": 0,
            "orientation": "horizontal",
            "style": "IPY_MODEL_603f3628ff0b4cc4901145912617281d",
            "value": 40
          }
        },
        "18eeab46acb94194a5ed42647a3b5475": {
          "model_module": "@jupyter-widgets/controls",
          "model_name": "HTMLModel",
          "model_module_version": "1.5.0",
          "state": {
            "_dom_classes": [],
            "_model_module": "@jupyter-widgets/controls",
            "_model_module_version": "1.5.0",
            "_model_name": "HTMLModel",
            "_view_count": null,
            "_view_module": "@jupyter-widgets/controls",
            "_view_module_version": "1.5.0",
            "_view_name": "HTMLView",
            "description": "",
            "description_tooltip": null,
            "layout": "IPY_MODEL_3316fe6347fb47858a527b8e679e5368",
            "placeholder": "​",
            "style": "IPY_MODEL_0d13d25566a940d6a97a75df88914ca4",
            "value": " 40/40 [01:12&lt;00:00,  1.77s/it]"
          }
        },
        "f7e0533bc5d0408dbc919d306300b9d7": {
          "model_module": "@jupyter-widgets/base",
          "model_name": "LayoutModel",
          "model_module_version": "1.2.0",
          "state": {
            "_model_module": "@jupyter-widgets/base",
            "_model_module_version": "1.2.0",
            "_model_name": "LayoutModel",
            "_view_count": null,
            "_view_module": "@jupyter-widgets/base",
            "_view_module_version": "1.2.0",
            "_view_name": "LayoutView",
            "align_content": null,
            "align_items": null,
            "align_self": null,
            "border": null,
            "bottom": null,
            "display": null,
            "flex": null,
            "flex_flow": null,
            "grid_area": null,
            "grid_auto_columns": null,
            "grid_auto_flow": null,
            "grid_auto_rows": null,
            "grid_column": null,
            "grid_gap": null,
            "grid_row": null,
            "grid_template_areas": null,
            "grid_template_columns": null,
            "grid_template_rows": null,
            "height": null,
            "justify_content": null,
            "justify_items": null,
            "left": null,
            "margin": null,
            "max_height": null,
            "max_width": null,
            "min_height": null,
            "min_width": null,
            "object_fit": null,
            "object_position": null,
            "order": null,
            "overflow": null,
            "overflow_x": null,
            "overflow_y": null,
            "padding": null,
            "right": null,
            "top": null,
            "visibility": null,
            "width": null
          }
        },
        "28b2c60aa35249a0ba5d6237857e089d": {
          "model_module": "@jupyter-widgets/base",
          "model_name": "LayoutModel",
          "model_module_version": "1.2.0",
          "state": {
            "_model_module": "@jupyter-widgets/base",
            "_model_module_version": "1.2.0",
            "_model_name": "LayoutModel",
            "_view_count": null,
            "_view_module": "@jupyter-widgets/base",
            "_view_module_version": "1.2.0",
            "_view_name": "LayoutView",
            "align_content": null,
            "align_items": null,
            "align_self": null,
            "border": null,
            "bottom": null,
            "display": null,
            "flex": null,
            "flex_flow": null,
            "grid_area": null,
            "grid_auto_columns": null,
            "grid_auto_flow": null,
            "grid_auto_rows": null,
            "grid_column": null,
            "grid_gap": null,
            "grid_row": null,
            "grid_template_areas": null,
            "grid_template_columns": null,
            "grid_template_rows": null,
            "height": null,
            "justify_content": null,
            "justify_items": null,
            "left": null,
            "margin": null,
            "max_height": null,
            "max_width": null,
            "min_height": null,
            "min_width": null,
            "object_fit": null,
            "object_position": null,
            "order": null,
            "overflow": null,
            "overflow_x": null,
            "overflow_y": null,
            "padding": null,
            "right": null,
            "top": null,
            "visibility": null,
            "width": null
          }
        },
        "83e062bfcab941b98b40dcca6073e5ea": {
          "model_module": "@jupyter-widgets/controls",
          "model_name": "DescriptionStyleModel",
          "model_module_version": "1.5.0",
          "state": {
            "_model_module": "@jupyter-widgets/controls",
            "_model_module_version": "1.5.0",
            "_model_name": "DescriptionStyleModel",
            "_view_count": null,
            "_view_module": "@jupyter-widgets/base",
            "_view_module_version": "1.2.0",
            "_view_name": "StyleView",
            "description_width": ""
          }
        },
        "b6612e9d659a4016b34077eff7c76f8d": {
          "model_module": "@jupyter-widgets/base",
          "model_name": "LayoutModel",
          "model_module_version": "1.2.0",
          "state": {
            "_model_module": "@jupyter-widgets/base",
            "_model_module_version": "1.2.0",
            "_model_name": "LayoutModel",
            "_view_count": null,
            "_view_module": "@jupyter-widgets/base",
            "_view_module_version": "1.2.0",
            "_view_name": "LayoutView",
            "align_content": null,
            "align_items": null,
            "align_self": null,
            "border": null,
            "bottom": null,
            "display": null,
            "flex": null,
            "flex_flow": null,
            "grid_area": null,
            "grid_auto_columns": null,
            "grid_auto_flow": null,
            "grid_auto_rows": null,
            "grid_column": null,
            "grid_gap": null,
            "grid_row": null,
            "grid_template_areas": null,
            "grid_template_columns": null,
            "grid_template_rows": null,
            "height": null,
            "justify_content": null,
            "justify_items": null,
            "left": null,
            "margin": null,
            "max_height": null,
            "max_width": null,
            "min_height": null,
            "min_width": null,
            "object_fit": null,
            "object_position": null,
            "order": null,
            "overflow": null,
            "overflow_x": null,
            "overflow_y": null,
            "padding": null,
            "right": null,
            "top": null,
            "visibility": null,
            "width": null
          }
        },
        "603f3628ff0b4cc4901145912617281d": {
          "model_module": "@jupyter-widgets/controls",
          "model_name": "ProgressStyleModel",
          "model_module_version": "1.5.0",
          "state": {
            "_model_module": "@jupyter-widgets/controls",
            "_model_module_version": "1.5.0",
            "_model_name": "ProgressStyleModel",
            "_view_count": null,
            "_view_module": "@jupyter-widgets/base",
            "_view_module_version": "1.2.0",
            "_view_name": "StyleView",
            "bar_color": null,
            "description_width": ""
          }
        },
        "3316fe6347fb47858a527b8e679e5368": {
          "model_module": "@jupyter-widgets/base",
          "model_name": "LayoutModel",
          "model_module_version": "1.2.0",
          "state": {
            "_model_module": "@jupyter-widgets/base",
            "_model_module_version": "1.2.0",
            "_model_name": "LayoutModel",
            "_view_count": null,
            "_view_module": "@jupyter-widgets/base",
            "_view_module_version": "1.2.0",
            "_view_name": "LayoutView",
            "align_content": null,
            "align_items": null,
            "align_self": null,
            "border": null,
            "bottom": null,
            "display": null,
            "flex": null,
            "flex_flow": null,
            "grid_area": null,
            "grid_auto_columns": null,
            "grid_auto_flow": null,
            "grid_auto_rows": null,
            "grid_column": null,
            "grid_gap": null,
            "grid_row": null,
            "grid_template_areas": null,
            "grid_template_columns": null,
            "grid_template_rows": null,
            "height": null,
            "justify_content": null,
            "justify_items": null,
            "left": null,
            "margin": null,
            "max_height": null,
            "max_width": null,
            "min_height": null,
            "min_width": null,
            "object_fit": null,
            "object_position": null,
            "order": null,
            "overflow": null,
            "overflow_x": null,
            "overflow_y": null,
            "padding": null,
            "right": null,
            "top": null,
            "visibility": null,
            "width": null
          }
        },
        "0d13d25566a940d6a97a75df88914ca4": {
          "model_module": "@jupyter-widgets/controls",
          "model_name": "DescriptionStyleModel",
          "model_module_version": "1.5.0",
          "state": {
            "_model_module": "@jupyter-widgets/controls",
            "_model_module_version": "1.5.0",
            "_model_name": "DescriptionStyleModel",
            "_view_count": null,
            "_view_module": "@jupyter-widgets/base",
            "_view_module_version": "1.2.0",
            "_view_name": "StyleView",
            "description_width": ""
          }
        },
        "7d456299de5b43cf9618d74d91dd3549": {
          "model_module": "@jupyter-widgets/controls",
          "model_name": "HBoxModel",
          "model_module_version": "1.5.0",
          "state": {
            "_dom_classes": [],
            "_model_module": "@jupyter-widgets/controls",
            "_model_module_version": "1.5.0",
            "_model_name": "HBoxModel",
            "_view_count": null,
            "_view_module": "@jupyter-widgets/controls",
            "_view_module_version": "1.5.0",
            "_view_name": "HBoxView",
            "box_style": "",
            "children": [
              "IPY_MODEL_2d971284f1a84cea803f4d536dc54530",
              "IPY_MODEL_5d047da4734441a4adc0ff5ac8d3bfdc",
              "IPY_MODEL_1479e3d3afcc453889291b2f51550d5d"
            ],
            "layout": "IPY_MODEL_626743adfe2d473fbe8ee330f50e85c3"
          }
        },
        "2d971284f1a84cea803f4d536dc54530": {
          "model_module": "@jupyter-widgets/controls",
          "model_name": "HTMLModel",
          "model_module_version": "1.5.0",
          "state": {
            "_dom_classes": [],
            "_model_module": "@jupyter-widgets/controls",
            "_model_module_version": "1.5.0",
            "_model_name": "HTMLModel",
            "_view_count": null,
            "_view_module": "@jupyter-widgets/controls",
            "_view_module_version": "1.5.0",
            "_view_name": "HTMLView",
            "description": "",
            "description_tooltip": null,
            "layout": "IPY_MODEL_f09e1c1a289c455da6a4837de5d5a6d4",
            "placeholder": "​",
            "style": "IPY_MODEL_24f7ac6b4c83468eabaab2376104e92b",
            "value": "Downloading builder script: 100%"
          }
        },
        "5d047da4734441a4adc0ff5ac8d3bfdc": {
          "model_module": "@jupyter-widgets/controls",
          "model_name": "FloatProgressModel",
          "model_module_version": "1.5.0",
          "state": {
            "_dom_classes": [],
            "_model_module": "@jupyter-widgets/controls",
            "_model_module_version": "1.5.0",
            "_model_name": "FloatProgressModel",
            "_view_count": null,
            "_view_module": "@jupyter-widgets/controls",
            "_view_module_version": "1.5.0",
            "_view_name": "ProgressView",
            "bar_style": "success",
            "description": "",
            "description_tooltip": null,
            "layout": "IPY_MODEL_1bc7a45b36d44f24bb4b92e6da417218",
            "max": 4203,
            "min": 0,
            "orientation": "horizontal",
            "style": "IPY_MODEL_5b7ab18dad764063899f1b22e9366c8e",
            "value": 4203
          }
        },
        "1479e3d3afcc453889291b2f51550d5d": {
          "model_module": "@jupyter-widgets/controls",
          "model_name": "HTMLModel",
          "model_module_version": "1.5.0",
          "state": {
            "_dom_classes": [],
            "_model_module": "@jupyter-widgets/controls",
            "_model_module_version": "1.5.0",
            "_model_name": "HTMLModel",
            "_view_count": null,
            "_view_module": "@jupyter-widgets/controls",
            "_view_module_version": "1.5.0",
            "_view_name": "HTMLView",
            "description": "",
            "description_tooltip": null,
            "layout": "IPY_MODEL_8b37a843feed4b9896d33cda9ec56588",
            "placeholder": "​",
            "style": "IPY_MODEL_be15de349eb245cc88b78802daffeb7c",
            "value": " 4.20k/4.20k [00:00&lt;00:00, 247kB/s]"
          }
        },
        "626743adfe2d473fbe8ee330f50e85c3": {
          "model_module": "@jupyter-widgets/base",
          "model_name": "LayoutModel",
          "model_module_version": "1.2.0",
          "state": {
            "_model_module": "@jupyter-widgets/base",
            "_model_module_version": "1.2.0",
            "_model_name": "LayoutModel",
            "_view_count": null,
            "_view_module": "@jupyter-widgets/base",
            "_view_module_version": "1.2.0",
            "_view_name": "LayoutView",
            "align_content": null,
            "align_items": null,
            "align_self": null,
            "border": null,
            "bottom": null,
            "display": null,
            "flex": null,
            "flex_flow": null,
            "grid_area": null,
            "grid_auto_columns": null,
            "grid_auto_flow": null,
            "grid_auto_rows": null,
            "grid_column": null,
            "grid_gap": null,
            "grid_row": null,
            "grid_template_areas": null,
            "grid_template_columns": null,
            "grid_template_rows": null,
            "height": null,
            "justify_content": null,
            "justify_items": null,
            "left": null,
            "margin": null,
            "max_height": null,
            "max_width": null,
            "min_height": null,
            "min_width": null,
            "object_fit": null,
            "object_position": null,
            "order": null,
            "overflow": null,
            "overflow_x": null,
            "overflow_y": null,
            "padding": null,
            "right": null,
            "top": null,
            "visibility": null,
            "width": null
          }
        },
        "f09e1c1a289c455da6a4837de5d5a6d4": {
          "model_module": "@jupyter-widgets/base",
          "model_name": "LayoutModel",
          "model_module_version": "1.2.0",
          "state": {
            "_model_module": "@jupyter-widgets/base",
            "_model_module_version": "1.2.0",
            "_model_name": "LayoutModel",
            "_view_count": null,
            "_view_module": "@jupyter-widgets/base",
            "_view_module_version": "1.2.0",
            "_view_name": "LayoutView",
            "align_content": null,
            "align_items": null,
            "align_self": null,
            "border": null,
            "bottom": null,
            "display": null,
            "flex": null,
            "flex_flow": null,
            "grid_area": null,
            "grid_auto_columns": null,
            "grid_auto_flow": null,
            "grid_auto_rows": null,
            "grid_column": null,
            "grid_gap": null,
            "grid_row": null,
            "grid_template_areas": null,
            "grid_template_columns": null,
            "grid_template_rows": null,
            "height": null,
            "justify_content": null,
            "justify_items": null,
            "left": null,
            "margin": null,
            "max_height": null,
            "max_width": null,
            "min_height": null,
            "min_width": null,
            "object_fit": null,
            "object_position": null,
            "order": null,
            "overflow": null,
            "overflow_x": null,
            "overflow_y": null,
            "padding": null,
            "right": null,
            "top": null,
            "visibility": null,
            "width": null
          }
        },
        "24f7ac6b4c83468eabaab2376104e92b": {
          "model_module": "@jupyter-widgets/controls",
          "model_name": "DescriptionStyleModel",
          "model_module_version": "1.5.0",
          "state": {
            "_model_module": "@jupyter-widgets/controls",
            "_model_module_version": "1.5.0",
            "_model_name": "DescriptionStyleModel",
            "_view_count": null,
            "_view_module": "@jupyter-widgets/base",
            "_view_module_version": "1.2.0",
            "_view_name": "StyleView",
            "description_width": ""
          }
        },
        "1bc7a45b36d44f24bb4b92e6da417218": {
          "model_module": "@jupyter-widgets/base",
          "model_name": "LayoutModel",
          "model_module_version": "1.2.0",
          "state": {
            "_model_module": "@jupyter-widgets/base",
            "_model_module_version": "1.2.0",
            "_model_name": "LayoutModel",
            "_view_count": null,
            "_view_module": "@jupyter-widgets/base",
            "_view_module_version": "1.2.0",
            "_view_name": "LayoutView",
            "align_content": null,
            "align_items": null,
            "align_self": null,
            "border": null,
            "bottom": null,
            "display": null,
            "flex": null,
            "flex_flow": null,
            "grid_area": null,
            "grid_auto_columns": null,
            "grid_auto_flow": null,
            "grid_auto_rows": null,
            "grid_column": null,
            "grid_gap": null,
            "grid_row": null,
            "grid_template_areas": null,
            "grid_template_columns": null,
            "grid_template_rows": null,
            "height": null,
            "justify_content": null,
            "justify_items": null,
            "left": null,
            "margin": null,
            "max_height": null,
            "max_width": null,
            "min_height": null,
            "min_width": null,
            "object_fit": null,
            "object_position": null,
            "order": null,
            "overflow": null,
            "overflow_x": null,
            "overflow_y": null,
            "padding": null,
            "right": null,
            "top": null,
            "visibility": null,
            "width": null
          }
        },
        "5b7ab18dad764063899f1b22e9366c8e": {
          "model_module": "@jupyter-widgets/controls",
          "model_name": "ProgressStyleModel",
          "model_module_version": "1.5.0",
          "state": {
            "_model_module": "@jupyter-widgets/controls",
            "_model_module_version": "1.5.0",
            "_model_name": "ProgressStyleModel",
            "_view_count": null,
            "_view_module": "@jupyter-widgets/base",
            "_view_module_version": "1.2.0",
            "_view_name": "StyleView",
            "bar_color": null,
            "description_width": ""
          }
        },
        "8b37a843feed4b9896d33cda9ec56588": {
          "model_module": "@jupyter-widgets/base",
          "model_name": "LayoutModel",
          "model_module_version": "1.2.0",
          "state": {
            "_model_module": "@jupyter-widgets/base",
            "_model_module_version": "1.2.0",
            "_model_name": "LayoutModel",
            "_view_count": null,
            "_view_module": "@jupyter-widgets/base",
            "_view_module_version": "1.2.0",
            "_view_name": "LayoutView",
            "align_content": null,
            "align_items": null,
            "align_self": null,
            "border": null,
            "bottom": null,
            "display": null,
            "flex": null,
            "flex_flow": null,
            "grid_area": null,
            "grid_auto_columns": null,
            "grid_auto_flow": null,
            "grid_auto_rows": null,
            "grid_column": null,
            "grid_gap": null,
            "grid_row": null,
            "grid_template_areas": null,
            "grid_template_columns": null,
            "grid_template_rows": null,
            "height": null,
            "justify_content": null,
            "justify_items": null,
            "left": null,
            "margin": null,
            "max_height": null,
            "max_width": null,
            "min_height": null,
            "min_width": null,
            "object_fit": null,
            "object_position": null,
            "order": null,
            "overflow": null,
            "overflow_x": null,
            "overflow_y": null,
            "padding": null,
            "right": null,
            "top": null,
            "visibility": null,
            "width": null
          }
        },
        "be15de349eb245cc88b78802daffeb7c": {
          "model_module": "@jupyter-widgets/controls",
          "model_name": "DescriptionStyleModel",
          "model_module_version": "1.5.0",
          "state": {
            "_model_module": "@jupyter-widgets/controls",
            "_model_module_version": "1.5.0",
            "_model_name": "DescriptionStyleModel",
            "_view_count": null,
            "_view_module": "@jupyter-widgets/base",
            "_view_module_version": "1.2.0",
            "_view_name": "StyleView",
            "description_width": ""
          }
        },
        "1698603d39874a87814b6aef6d7078cb": {
          "model_module": "@jupyter-widgets/controls",
          "model_name": "DropdownModel",
          "model_module_version": "1.5.0",
          "state": {
            "_dom_classes": [],
            "_model_module": "@jupyter-widgets/controls",
            "_model_module_version": "1.5.0",
            "_model_name": "DropdownModel",
            "_options_labels": [
              "head",
              "hops",
              "white head",
              "IPA",
              "Nice",
              "Pale Ale",
              "hop",
              "malt",
              "pours",
              "beer"
            ],
            "_view_count": null,
            "_view_module": "@jupyter-widgets/controls",
            "_view_module_version": "1.5.0",
            "_view_name": "DropdownView",
            "description": "Number:",
            "description_tooltip": null,
            "disabled": false,
            "index": 2,
            "layout": "IPY_MODEL_8e0990d974eb47848c321a112815bd6b",
            "style": "IPY_MODEL_02150c9c4b16411b9d1fec61ae21d8ed"
          }
        },
        "8e0990d974eb47848c321a112815bd6b": {
          "model_module": "@jupyter-widgets/base",
          "model_name": "LayoutModel",
          "model_module_version": "1.2.0",
          "state": {
            "_model_module": "@jupyter-widgets/base",
            "_model_module_version": "1.2.0",
            "_model_name": "LayoutModel",
            "_view_count": null,
            "_view_module": "@jupyter-widgets/base",
            "_view_module_version": "1.2.0",
            "_view_name": "LayoutView",
            "align_content": null,
            "align_items": null,
            "align_self": null,
            "border": null,
            "bottom": null,
            "display": null,
            "flex": null,
            "flex_flow": null,
            "grid_area": null,
            "grid_auto_columns": null,
            "grid_auto_flow": null,
            "grid_auto_rows": null,
            "grid_column": null,
            "grid_gap": null,
            "grid_row": null,
            "grid_template_areas": null,
            "grid_template_columns": null,
            "grid_template_rows": null,
            "height": null,
            "justify_content": null,
            "justify_items": null,
            "left": null,
            "margin": null,
            "max_height": null,
            "max_width": null,
            "min_height": null,
            "min_width": null,
            "object_fit": null,
            "object_position": null,
            "order": null,
            "overflow": null,
            "overflow_x": null,
            "overflow_y": null,
            "padding": null,
            "right": null,
            "top": null,
            "visibility": null,
            "width": null
          }
        },
        "02150c9c4b16411b9d1fec61ae21d8ed": {
          "model_module": "@jupyter-widgets/controls",
          "model_name": "DescriptionStyleModel",
          "model_module_version": "1.5.0",
          "state": {
            "_model_module": "@jupyter-widgets/controls",
            "_model_module_version": "1.5.0",
            "_model_name": "DescriptionStyleModel",
            "_view_count": null,
            "_view_module": "@jupyter-widgets/base",
            "_view_module_version": "1.2.0",
            "_view_name": "StyleView",
            "description_width": ""
          }
        },
        "097a0a2b00954e18a11f5e1bd66d856c": {
          "model_module": "@jupyter-widgets/controls",
          "model_name": "TextareaModel",
          "model_module_version": "1.5.0",
          "state": {
            "_dom_classes": [],
            "_model_module": "@jupyter-widgets/controls",
            "_model_module_version": "1.5.0",
            "_model_name": "TextareaModel",
            "_view_count": null,
            "_view_module": "@jupyter-widgets/controls",
            "_view_module_version": "1.5.0",
            "_view_name": "TextareaView",
            "continuous_update": true,
            "description": "String:",
            "description_tooltip": null,
            "disabled": false,
            "layout": "IPY_MODEL_a0d992c52b324c1ea83ea9ce6712f4b4",
            "placeholder": "Type a key word you want to select documents by",
            "rows": null,
            "style": "IPY_MODEL_4c7910da7dcc45f39ac5aef128287b2a",
            "value": "Pale Ale"
          }
        },
        "a0d992c52b324c1ea83ea9ce6712f4b4": {
          "model_module": "@jupyter-widgets/base",
          "model_name": "LayoutModel",
          "model_module_version": "1.2.0",
          "state": {
            "_model_module": "@jupyter-widgets/base",
            "_model_module_version": "1.2.0",
            "_model_name": "LayoutModel",
            "_view_count": null,
            "_view_module": "@jupyter-widgets/base",
            "_view_module_version": "1.2.0",
            "_view_name": "LayoutView",
            "align_content": null,
            "align_items": null,
            "align_self": null,
            "border": null,
            "bottom": null,
            "display": null,
            "flex": null,
            "flex_flow": null,
            "grid_area": null,
            "grid_auto_columns": null,
            "grid_auto_flow": null,
            "grid_auto_rows": null,
            "grid_column": null,
            "grid_gap": null,
            "grid_row": null,
            "grid_template_areas": null,
            "grid_template_columns": null,
            "grid_template_rows": null,
            "height": null,
            "justify_content": null,
            "justify_items": null,
            "left": null,
            "margin": null,
            "max_height": null,
            "max_width": null,
            "min_height": null,
            "min_width": null,
            "object_fit": null,
            "object_position": null,
            "order": null,
            "overflow": null,
            "overflow_x": null,
            "overflow_y": null,
            "padding": null,
            "right": null,
            "top": null,
            "visibility": null,
            "width": null
          }
        },
        "4c7910da7dcc45f39ac5aef128287b2a": {
          "model_module": "@jupyter-widgets/controls",
          "model_name": "DescriptionStyleModel",
          "model_module_version": "1.5.0",
          "state": {
            "_model_module": "@jupyter-widgets/controls",
            "_model_module_version": "1.5.0",
            "_model_name": "DescriptionStyleModel",
            "_view_count": null,
            "_view_module": "@jupyter-widgets/base",
            "_view_module_version": "1.2.0",
            "_view_name": "StyleView",
            "description_width": ""
          }
        },
        "a812ae90b5044809a8a3f131a3d19918": {
          "model_module": "@jupyter-widgets/controls",
          "model_name": "SelectMultipleModel",
          "model_module_version": "1.5.0",
          "state": {
            "_dom_classes": [],
            "_model_module": "@jupyter-widgets/controls",
            "_model_module_version": "1.5.0",
            "_model_name": "SelectMultipleModel",
            "_options_labels": [
              "white head",
              "head",
              "pours",
              "hops",
              "Nice",
              "light",
              "malt",
              "beer",
              "Pale Ale",
              "hop"
            ],
            "_view_count": null,
            "_view_module": "@jupyter-widgets/controls",
            "_view_module_version": "1.5.0",
            "_view_name": "SelectMultipleView",
            "description": "Concepts",
            "description_tooltip": null,
            "disabled": false,
            "index": [
              0,
              2,
              4
            ],
            "layout": "IPY_MODEL_d934c915c844482d819b39490638e411",
            "rows": 5,
            "style": "IPY_MODEL_18f676db3cc1423e8105a8a19b0689d0"
          }
        },
        "d934c915c844482d819b39490638e411": {
          "model_module": "@jupyter-widgets/base",
          "model_name": "LayoutModel",
          "model_module_version": "1.2.0",
          "state": {
            "_model_module": "@jupyter-widgets/base",
            "_model_module_version": "1.2.0",
            "_model_name": "LayoutModel",
            "_view_count": null,
            "_view_module": "@jupyter-widgets/base",
            "_view_module_version": "1.2.0",
            "_view_name": "LayoutView",
            "align_content": null,
            "align_items": null,
            "align_self": null,
            "border": null,
            "bottom": null,
            "display": null,
            "flex": null,
            "flex_flow": null,
            "grid_area": null,
            "grid_auto_columns": null,
            "grid_auto_flow": null,
            "grid_auto_rows": null,
            "grid_column": null,
            "grid_gap": null,
            "grid_row": null,
            "grid_template_areas": null,
            "grid_template_columns": null,
            "grid_template_rows": null,
            "height": null,
            "justify_content": null,
            "justify_items": null,
            "left": null,
            "margin": null,
            "max_height": null,
            "max_width": null,
            "min_height": null,
            "min_width": null,
            "object_fit": null,
            "object_position": null,
            "order": null,
            "overflow": null,
            "overflow_x": null,
            "overflow_y": null,
            "padding": null,
            "right": null,
            "top": null,
            "visibility": null,
            "width": null
          }
        },
        "18f676db3cc1423e8105a8a19b0689d0": {
          "model_module": "@jupyter-widgets/controls",
          "model_name": "DescriptionStyleModel",
          "model_module_version": "1.5.0",
          "state": {
            "_model_module": "@jupyter-widgets/controls",
            "_model_module_version": "1.5.0",
            "_model_name": "DescriptionStyleModel",
            "_view_count": null,
            "_view_module": "@jupyter-widgets/base",
            "_view_module_version": "1.2.0",
            "_view_name": "StyleView",
            "description_width": ""
          }
        },
        "ac234adcd3844f5e83814ab723375c6b": {
          "model_module": "@jupyter-widgets/controls",
          "model_name": "BoundedIntTextModel",
          "model_module_version": "1.5.0",
          "state": {
            "_dom_classes": [],
            "_model_module": "@jupyter-widgets/controls",
            "_model_module_version": "1.5.0",
            "_model_name": "BoundedIntTextModel",
            "_view_count": null,
            "_view_module": "@jupyter-widgets/controls",
            "_view_module_version": "1.5.0",
            "_view_name": "IntTextView",
            "continuous_update": false,
            "description": "# of docs to process:",
            "description_tooltip": null,
            "disabled": false,
            "layout": "IPY_MODEL_aca495c23dc642f1aa9ef2ab54f209f7",
            "max": 4998,
            "min": 1,
            "step": 10,
            "style": "IPY_MODEL_e37948d40f584dc5bbe8ace4ef5258d0",
            "value": 500
          }
        },
        "aca495c23dc642f1aa9ef2ab54f209f7": {
          "model_module": "@jupyter-widgets/base",
          "model_name": "LayoutModel",
          "model_module_version": "1.2.0",
          "state": {
            "_model_module": "@jupyter-widgets/base",
            "_model_module_version": "1.2.0",
            "_model_name": "LayoutModel",
            "_view_count": null,
            "_view_module": "@jupyter-widgets/base",
            "_view_module_version": "1.2.0",
            "_view_name": "LayoutView",
            "align_content": null,
            "align_items": null,
            "align_self": null,
            "border": null,
            "bottom": null,
            "display": null,
            "flex": null,
            "flex_flow": null,
            "grid_area": null,
            "grid_auto_columns": null,
            "grid_auto_flow": null,
            "grid_auto_rows": null,
            "grid_column": null,
            "grid_gap": null,
            "grid_row": null,
            "grid_template_areas": null,
            "grid_template_columns": null,
            "grid_template_rows": null,
            "height": null,
            "justify_content": null,
            "justify_items": null,
            "left": null,
            "margin": null,
            "max_height": null,
            "max_width": null,
            "min_height": null,
            "min_width": null,
            "object_fit": null,
            "object_position": null,
            "order": null,
            "overflow": null,
            "overflow_x": null,
            "overflow_y": null,
            "padding": null,
            "right": null,
            "top": null,
            "visibility": null,
            "width": null
          }
        },
        "e37948d40f584dc5bbe8ace4ef5258d0": {
          "model_module": "@jupyter-widgets/controls",
          "model_name": "DescriptionStyleModel",
          "model_module_version": "1.5.0",
          "state": {
            "_model_module": "@jupyter-widgets/controls",
            "_model_module_version": "1.5.0",
            "_model_name": "DescriptionStyleModel",
            "_view_count": null,
            "_view_module": "@jupyter-widgets/base",
            "_view_module_version": "1.2.0",
            "_view_name": "StyleView",
            "description_width": "initial"
          }
        },
        "ce3f01d906184cad97c0e61e904c92d0": {
          "model_module": "@jupyter-widgets/controls",
          "model_name": "DropdownModel",
          "model_module_version": "1.5.0",
          "state": {
            "_dom_classes": [],
            "_model_module": "@jupyter-widgets/controls",
            "_model_module_version": "1.5.0",
            "_model_name": "DropdownModel",
            "_options_labels": [
              "BLACK",
              "flavors Syrupy",
              "Tastes malty",
              "beer",
              "alcohol Tastes",
              "Syrupy",
              "light",
              "Tastes",
              "alcohol",
              "malty good"
            ],
            "_view_count": null,
            "_view_module": "@jupyter-widgets/controls",
            "_view_module_version": "1.5.0",
            "_view_name": "DropdownView",
            "description": "Pick a concept:",
            "description_tooltip": null,
            "disabled": false,
            "index": 1,
            "layout": "IPY_MODEL_38fb012490c84c73a3d5aefbbd231c38",
            "style": "IPY_MODEL_8787c1d57bad453a94c64852ed9f2879"
          }
        },
        "38fb012490c84c73a3d5aefbbd231c38": {
          "model_module": "@jupyter-widgets/base",
          "model_name": "LayoutModel",
          "model_module_version": "1.2.0",
          "state": {
            "_model_module": "@jupyter-widgets/base",
            "_model_module_version": "1.2.0",
            "_model_name": "LayoutModel",
            "_view_count": null,
            "_view_module": "@jupyter-widgets/base",
            "_view_module_version": "1.2.0",
            "_view_name": "LayoutView",
            "align_content": null,
            "align_items": null,
            "align_self": null,
            "border": null,
            "bottom": null,
            "display": null,
            "flex": null,
            "flex_flow": null,
            "grid_area": null,
            "grid_auto_columns": null,
            "grid_auto_flow": null,
            "grid_auto_rows": null,
            "grid_column": null,
            "grid_gap": null,
            "grid_row": null,
            "grid_template_areas": null,
            "grid_template_columns": null,
            "grid_template_rows": null,
            "height": null,
            "justify_content": null,
            "justify_items": null,
            "left": null,
            "margin": null,
            "max_height": null,
            "max_width": null,
            "min_height": null,
            "min_width": null,
            "object_fit": null,
            "object_position": null,
            "order": null,
            "overflow": null,
            "overflow_x": null,
            "overflow_y": null,
            "padding": null,
            "right": null,
            "top": null,
            "visibility": null,
            "width": null
          }
        },
        "8787c1d57bad453a94c64852ed9f2879": {
          "model_module": "@jupyter-widgets/controls",
          "model_name": "DescriptionStyleModel",
          "model_module_version": "1.5.0",
          "state": {
            "_model_module": "@jupyter-widgets/controls",
            "_model_module_version": "1.5.0",
            "_model_name": "DescriptionStyleModel",
            "_view_count": null,
            "_view_module": "@jupyter-widgets/base",
            "_view_module_version": "1.2.0",
            "_view_name": "StyleView",
            "description_width": "initial"
          }
        },
        "4fb28b04b53645cca5d165b6d0c25f84": {
          "model_module": "@jupyter-widgets/controls",
          "model_name": "HBoxModel",
          "model_module_version": "1.5.0",
          "state": {
            "_dom_classes": [],
            "_model_module": "@jupyter-widgets/controls",
            "_model_module_version": "1.5.0",
            "_model_name": "HBoxModel",
            "_view_count": null,
            "_view_module": "@jupyter-widgets/controls",
            "_view_module_version": "1.5.0",
            "_view_name": "HBoxView",
            "box_style": "",
            "children": [
              "IPY_MODEL_f2461948241d4f36914a712b4648a6aa",
              "IPY_MODEL_fecb8383ab6e48288a651d8c6d978f3b",
              "IPY_MODEL_fa55098cf944499ab7cec091e47d56de"
            ],
            "layout": "IPY_MODEL_edc0f6234fbe44ddbd89cba4bc841201"
          }
        },
        "f2461948241d4f36914a712b4648a6aa": {
          "model_module": "@jupyter-widgets/controls",
          "model_name": "HTMLModel",
          "model_module_version": "1.5.0",
          "state": {
            "_dom_classes": [],
            "_model_module": "@jupyter-widgets/controls",
            "_model_module_version": "1.5.0",
            "_model_name": "HTMLModel",
            "_view_count": null,
            "_view_module": "@jupyter-widgets/controls",
            "_view_module_version": "1.5.0",
            "_view_name": "HTMLView",
            "description": "",
            "description_tooltip": null,
            "layout": "IPY_MODEL_98d70273a0a3447c986013739c926b54",
            "placeholder": "​",
            "style": "IPY_MODEL_9d87f09e574d46ff8262b2358a21a6bf",
            "value": ""
          }
        },
        "fecb8383ab6e48288a651d8c6d978f3b": {
          "model_module": "@jupyter-widgets/controls",
          "model_name": "FloatProgressModel",
          "model_module_version": "1.5.0",
          "state": {
            "_dom_classes": [],
            "_model_module": "@jupyter-widgets/controls",
            "_model_module_version": "1.5.0",
            "_model_name": "FloatProgressModel",
            "_view_count": null,
            "_view_module": "@jupyter-widgets/controls",
            "_view_module_version": "1.5.0",
            "_view_name": "ProgressView",
            "bar_style": "success",
            "description": "",
            "description_tooltip": null,
            "layout": "IPY_MODEL_6071298e46de41759e288eba1a4c0e54",
            "max": 125,
            "min": 0,
            "orientation": "horizontal",
            "style": "IPY_MODEL_8d4d7b8416fe4c0aaa0d37c4cf473684",
            "value": 125
          }
        },
        "fa55098cf944499ab7cec091e47d56de": {
          "model_module": "@jupyter-widgets/controls",
          "model_name": "HTMLModel",
          "model_module_version": "1.5.0",
          "state": {
            "_dom_classes": [],
            "_model_module": "@jupyter-widgets/controls",
            "_model_module_version": "1.5.0",
            "_model_name": "HTMLModel",
            "_view_count": null,
            "_view_module": "@jupyter-widgets/controls",
            "_view_module_version": "1.5.0",
            "_view_name": "HTMLView",
            "description": "",
            "description_tooltip": null,
            "layout": "IPY_MODEL_2919987536bd4b2da86d95e8e9317da3",
            "placeholder": "​",
            "style": "IPY_MODEL_7fb43324d5f34d8a8e886a67ddda5bbd",
            "value": " 500/? [00:28&lt;00:00, 15.25it/s]"
          }
        },
        "edc0f6234fbe44ddbd89cba4bc841201": {
          "model_module": "@jupyter-widgets/base",
          "model_name": "LayoutModel",
          "model_module_version": "1.2.0",
          "state": {
            "_model_module": "@jupyter-widgets/base",
            "_model_module_version": "1.2.0",
            "_model_name": "LayoutModel",
            "_view_count": null,
            "_view_module": "@jupyter-widgets/base",
            "_view_module_version": "1.2.0",
            "_view_name": "LayoutView",
            "align_content": null,
            "align_items": null,
            "align_self": null,
            "border": null,
            "bottom": null,
            "display": null,
            "flex": null,
            "flex_flow": null,
            "grid_area": null,
            "grid_auto_columns": null,
            "grid_auto_flow": null,
            "grid_auto_rows": null,
            "grid_column": null,
            "grid_gap": null,
            "grid_row": null,
            "grid_template_areas": null,
            "grid_template_columns": null,
            "grid_template_rows": null,
            "height": null,
            "justify_content": null,
            "justify_items": null,
            "left": null,
            "margin": null,
            "max_height": null,
            "max_width": null,
            "min_height": null,
            "min_width": null,
            "object_fit": null,
            "object_position": null,
            "order": null,
            "overflow": null,
            "overflow_x": null,
            "overflow_y": null,
            "padding": null,
            "right": null,
            "top": null,
            "visibility": null,
            "width": null
          }
        },
        "98d70273a0a3447c986013739c926b54": {
          "model_module": "@jupyter-widgets/base",
          "model_name": "LayoutModel",
          "model_module_version": "1.2.0",
          "state": {
            "_model_module": "@jupyter-widgets/base",
            "_model_module_version": "1.2.0",
            "_model_name": "LayoutModel",
            "_view_count": null,
            "_view_module": "@jupyter-widgets/base",
            "_view_module_version": "1.2.0",
            "_view_name": "LayoutView",
            "align_content": null,
            "align_items": null,
            "align_self": null,
            "border": null,
            "bottom": null,
            "display": null,
            "flex": null,
            "flex_flow": null,
            "grid_area": null,
            "grid_auto_columns": null,
            "grid_auto_flow": null,
            "grid_auto_rows": null,
            "grid_column": null,
            "grid_gap": null,
            "grid_row": null,
            "grid_template_areas": null,
            "grid_template_columns": null,
            "grid_template_rows": null,
            "height": null,
            "justify_content": null,
            "justify_items": null,
            "left": null,
            "margin": null,
            "max_height": null,
            "max_width": null,
            "min_height": null,
            "min_width": null,
            "object_fit": null,
            "object_position": null,
            "order": null,
            "overflow": null,
            "overflow_x": null,
            "overflow_y": null,
            "padding": null,
            "right": null,
            "top": null,
            "visibility": null,
            "width": null
          }
        },
        "9d87f09e574d46ff8262b2358a21a6bf": {
          "model_module": "@jupyter-widgets/controls",
          "model_name": "DescriptionStyleModel",
          "model_module_version": "1.5.0",
          "state": {
            "_model_module": "@jupyter-widgets/controls",
            "_model_module_version": "1.5.0",
            "_model_name": "DescriptionStyleModel",
            "_view_count": null,
            "_view_module": "@jupyter-widgets/base",
            "_view_module_version": "1.2.0",
            "_view_name": "StyleView",
            "description_width": ""
          }
        },
        "6071298e46de41759e288eba1a4c0e54": {
          "model_module": "@jupyter-widgets/base",
          "model_name": "LayoutModel",
          "model_module_version": "1.2.0",
          "state": {
            "_model_module": "@jupyter-widgets/base",
            "_model_module_version": "1.2.0",
            "_model_name": "LayoutModel",
            "_view_count": null,
            "_view_module": "@jupyter-widgets/base",
            "_view_module_version": "1.2.0",
            "_view_name": "LayoutView",
            "align_content": null,
            "align_items": null,
            "align_self": null,
            "border": null,
            "bottom": null,
            "display": null,
            "flex": null,
            "flex_flow": null,
            "grid_area": null,
            "grid_auto_columns": null,
            "grid_auto_flow": null,
            "grid_auto_rows": null,
            "grid_column": null,
            "grid_gap": null,
            "grid_row": null,
            "grid_template_areas": null,
            "grid_template_columns": null,
            "grid_template_rows": null,
            "height": null,
            "justify_content": null,
            "justify_items": null,
            "left": null,
            "margin": null,
            "max_height": null,
            "max_width": null,
            "min_height": null,
            "min_width": null,
            "object_fit": null,
            "object_position": null,
            "order": null,
            "overflow": null,
            "overflow_x": null,
            "overflow_y": null,
            "padding": null,
            "right": null,
            "top": null,
            "visibility": null,
            "width": null
          }
        },
        "8d4d7b8416fe4c0aaa0d37c4cf473684": {
          "model_module": "@jupyter-widgets/controls",
          "model_name": "ProgressStyleModel",
          "model_module_version": "1.5.0",
          "state": {
            "_model_module": "@jupyter-widgets/controls",
            "_model_module_version": "1.5.0",
            "_model_name": "ProgressStyleModel",
            "_view_count": null,
            "_view_module": "@jupyter-widgets/base",
            "_view_module_version": "1.2.0",
            "_view_name": "StyleView",
            "bar_color": null,
            "description_width": ""
          }
        },
        "2919987536bd4b2da86d95e8e9317da3": {
          "model_module": "@jupyter-widgets/base",
          "model_name": "LayoutModel",
          "model_module_version": "1.2.0",
          "state": {
            "_model_module": "@jupyter-widgets/base",
            "_model_module_version": "1.2.0",
            "_model_name": "LayoutModel",
            "_view_count": null,
            "_view_module": "@jupyter-widgets/base",
            "_view_module_version": "1.2.0",
            "_view_name": "LayoutView",
            "align_content": null,
            "align_items": null,
            "align_self": null,
            "border": null,
            "bottom": null,
            "display": null,
            "flex": null,
            "flex_flow": null,
            "grid_area": null,
            "grid_auto_columns": null,
            "grid_auto_flow": null,
            "grid_auto_rows": null,
            "grid_column": null,
            "grid_gap": null,
            "grid_row": null,
            "grid_template_areas": null,
            "grid_template_columns": null,
            "grid_template_rows": null,
            "height": null,
            "justify_content": null,
            "justify_items": null,
            "left": null,
            "margin": null,
            "max_height": null,
            "max_width": null,
            "min_height": null,
            "min_width": null,
            "object_fit": null,
            "object_position": null,
            "order": null,
            "overflow": null,
            "overflow_x": null,
            "overflow_y": null,
            "padding": null,
            "right": null,
            "top": null,
            "visibility": null,
            "width": null
          }
        },
        "7fb43324d5f34d8a8e886a67ddda5bbd": {
          "model_module": "@jupyter-widgets/controls",
          "model_name": "DescriptionStyleModel",
          "model_module_version": "1.5.0",
          "state": {
            "_model_module": "@jupyter-widgets/controls",
            "_model_module_version": "1.5.0",
            "_model_name": "DescriptionStyleModel",
            "_view_count": null,
            "_view_module": "@jupyter-widgets/base",
            "_view_module_version": "1.2.0",
            "_view_name": "StyleView",
            "description_width": ""
          }
        },
        "f1545062a02b4bdd8ccbb897bf3e0e32": {
          "model_module": "@jupyter-widgets/controls",
          "model_name": "DropdownModel",
          "model_module_version": "1.5.0",
          "state": {
            "_dom_classes": [],
            "_model_module": "@jupyter-widgets/controls",
            "_model_module_version": "1.5.0",
            "_model_name": "DropdownModel",
            "_options_labels": [
              "Pale Ale",
              "IPA",
              "hops",
              "beer",
              "Caldera IPA",
              "nice",
              "head",
              "hop",
              "malt",
              "good",
              "white head",
              "light",
              "pale",
              "hop flavor",
              "pours",
              "flavor",
              "hop aroma",
              "citrus",
              "taste",
              "Citrus hops",
              "Medium",
              "nice IPA",
              "orange",
              "ale",
              "good beer",
              "aroma",
              "caramel malt",
              "Pale malt",
              "Caldera",
              "Medium bodied",
              "Good IPA",
              "bit",
              "carbonation",
              "beer pours",
              "hop bitterness",
              "malts",
              "sweet malt",
              "sweet",
              "medium body",
              "finish",
              "bitter",
              "Poured",
              "caramel",
              "Great IPA",
              "lacing",
              "pretty good",
              "Caldera Pale",
              "glass",
              "pale malts",
              "smell"
            ],
            "_view_count": null,
            "_view_module": "@jupyter-widgets/controls",
            "_view_module_version": "1.5.0",
            "_view_name": "DropdownView",
            "description": "Pick a concept:",
            "description_tooltip": null,
            "disabled": false,
            "index": 11,
            "layout": "IPY_MODEL_e0c674628951469e868957e31b93da74",
            "style": "IPY_MODEL_2909ac7170c944bdabb1cc0b73b62f1e"
          }
        },
        "e0c674628951469e868957e31b93da74": {
          "model_module": "@jupyter-widgets/base",
          "model_name": "LayoutModel",
          "model_module_version": "1.2.0",
          "state": {
            "_model_module": "@jupyter-widgets/base",
            "_model_module_version": "1.2.0",
            "_model_name": "LayoutModel",
            "_view_count": null,
            "_view_module": "@jupyter-widgets/base",
            "_view_module_version": "1.2.0",
            "_view_name": "LayoutView",
            "align_content": null,
            "align_items": null,
            "align_self": null,
            "border": null,
            "bottom": null,
            "display": null,
            "flex": null,
            "flex_flow": null,
            "grid_area": null,
            "grid_auto_columns": null,
            "grid_auto_flow": null,
            "grid_auto_rows": null,
            "grid_column": null,
            "grid_gap": null,
            "grid_row": null,
            "grid_template_areas": null,
            "grid_template_columns": null,
            "grid_template_rows": null,
            "height": null,
            "justify_content": null,
            "justify_items": null,
            "left": null,
            "margin": null,
            "max_height": null,
            "max_width": null,
            "min_height": null,
            "min_width": null,
            "object_fit": null,
            "object_position": null,
            "order": null,
            "overflow": null,
            "overflow_x": null,
            "overflow_y": null,
            "padding": null,
            "right": null,
            "top": null,
            "visibility": null,
            "width": null
          }
        },
        "2909ac7170c944bdabb1cc0b73b62f1e": {
          "model_module": "@jupyter-widgets/controls",
          "model_name": "DescriptionStyleModel",
          "model_module_version": "1.5.0",
          "state": {
            "_model_module": "@jupyter-widgets/controls",
            "_model_module_version": "1.5.0",
            "_model_name": "DescriptionStyleModel",
            "_view_count": null,
            "_view_module": "@jupyter-widgets/base",
            "_view_module_version": "1.2.0",
            "_view_name": "StyleView",
            "description_width": ""
          }
        }
      }
    }
  },
  "cells": [
    {
      "cell_type": "markdown",
      "metadata": {
        "id": "view-in-github",
        "colab_type": "text"
      },
      "source": [
        "<a href=\"https://colab.research.google.com/github/pastrop/kaggle/blob/master/text_analytics.ipynb\" target=\"_parent\"><img src=\"https://colab.research.google.com/assets/colab-badge.svg\" alt=\"Open In Colab\"/></a>"
      ]
    },
    {
      "cell_type": "markdown",
      "source": [
        "# Key Words & Documents Clusters"
      ],
      "metadata": {
        "id": "kNC0lDkrwkV2"
      }
    },
    {
      "cell_type": "markdown",
      "source": [
        "Open-source based set of capabilities allowing to analyze text datasets.  Currently Implemented Functionality:\n",
        "1. Key words indentification for a text corpus (YAKE algorithm)\n",
        "2. Key words identification for each document in the corpus (YAKE algorithms)\n",
        "3. Basic sentiment analysis (currently using Sienbert or J-Hartman models from the Huggingface Hub)\n",
        "4. Advanced Sentiment analysis & text classification (Using SetFit model with few shot training)\n",
        "5. Semantic Search & Clustering (Approximate Nearest Neighbours, ANNOY package)\n",
        "6. Basic vizualization (UMAP or PCA for the dimensionality reduction, Altair or Matplotlib for plotting)\n",
        "\n",
        "**Work in Progress!**"
      ],
      "metadata": {
        "id": "2LXo_hZs4PXs"
      }
    },
    {
      "cell_type": "code",
      "execution_count": null,
      "metadata": {
        "id": "Jbb9e0newipE"
      },
      "outputs": [],
      "source": [
        "import pandas as pd"
      ]
    },
    {
      "cell_type": "code",
      "source": [
        "%%capture\n",
        "!pip install ipywidgets"
      ],
      "metadata": {
        "id": "mJp4I9ZFBR3h"
      },
      "execution_count": null,
      "outputs": []
    },
    {
      "cell_type": "code",
      "source": [
        "import ipywidgets as widgets\n",
        "from IPython.display import display\n",
        "layout = widgets.Layout(width='auto', height='40px')"
      ],
      "metadata": {
        "id": "8znHJfbRBb-1"
      },
      "execution_count": null,
      "outputs": []
    },
    {
      "cell_type": "code",
      "source": [
        "# file upload while using Google Colab\n",
        "from google.colab import files\n",
        "uploaded = files.upload()"
      ],
      "metadata": {
        "id": "LpW1-Jk2xKO0",
        "colab": {
          "base_uri": "https://localhost:8080/",
          "height": 73
        },
        "outputId": "4621e59e-df71-4191-c2bb-d8da77e14262"
      },
      "execution_count": null,
      "outputs": [
        {
          "output_type": "display_data",
          "data": {
            "text/plain": [
              "<IPython.core.display.HTML object>"
            ],
            "text/html": [
              "\n",
              "     <input type=\"file\" id=\"files-f6cf3a67-0990-47e7-9f73-ccfba2620703\" name=\"files[]\" multiple disabled\n",
              "        style=\"border:none\" />\n",
              "     <output id=\"result-f6cf3a67-0990-47e7-9f73-ccfba2620703\">\n",
              "      Upload widget is only available when the cell has been executed in the\n",
              "      current browser session. Please rerun this cell to enable.\n",
              "      </output>\n",
              "      <script>// Copyright 2017 Google LLC\n",
              "//\n",
              "// Licensed under the Apache License, Version 2.0 (the \"License\");\n",
              "// you may not use this file except in compliance with the License.\n",
              "// You may obtain a copy of the License at\n",
              "//\n",
              "//      http://www.apache.org/licenses/LICENSE-2.0\n",
              "//\n",
              "// Unless required by applicable law or agreed to in writing, software\n",
              "// distributed under the License is distributed on an \"AS IS\" BASIS,\n",
              "// WITHOUT WARRANTIES OR CONDITIONS OF ANY KIND, either express or implied.\n",
              "// See the License for the specific language governing permissions and\n",
              "// limitations under the License.\n",
              "\n",
              "/**\n",
              " * @fileoverview Helpers for google.colab Python module.\n",
              " */\n",
              "(function(scope) {\n",
              "function span(text, styleAttributes = {}) {\n",
              "  const element = document.createElement('span');\n",
              "  element.textContent = text;\n",
              "  for (const key of Object.keys(styleAttributes)) {\n",
              "    element.style[key] = styleAttributes[key];\n",
              "  }\n",
              "  return element;\n",
              "}\n",
              "\n",
              "// Max number of bytes which will be uploaded at a time.\n",
              "const MAX_PAYLOAD_SIZE = 100 * 1024;\n",
              "\n",
              "function _uploadFiles(inputId, outputId) {\n",
              "  const steps = uploadFilesStep(inputId, outputId);\n",
              "  const outputElement = document.getElementById(outputId);\n",
              "  // Cache steps on the outputElement to make it available for the next call\n",
              "  // to uploadFilesContinue from Python.\n",
              "  outputElement.steps = steps;\n",
              "\n",
              "  return _uploadFilesContinue(outputId);\n",
              "}\n",
              "\n",
              "// This is roughly an async generator (not supported in the browser yet),\n",
              "// where there are multiple asynchronous steps and the Python side is going\n",
              "// to poll for completion of each step.\n",
              "// This uses a Promise to block the python side on completion of each step,\n",
              "// then passes the result of the previous step as the input to the next step.\n",
              "function _uploadFilesContinue(outputId) {\n",
              "  const outputElement = document.getElementById(outputId);\n",
              "  const steps = outputElement.steps;\n",
              "\n",
              "  const next = steps.next(outputElement.lastPromiseValue);\n",
              "  return Promise.resolve(next.value.promise).then((value) => {\n",
              "    // Cache the last promise value to make it available to the next\n",
              "    // step of the generator.\n",
              "    outputElement.lastPromiseValue = value;\n",
              "    return next.value.response;\n",
              "  });\n",
              "}\n",
              "\n",
              "/**\n",
              " * Generator function which is called between each async step of the upload\n",
              " * process.\n",
              " * @param {string} inputId Element ID of the input file picker element.\n",
              " * @param {string} outputId Element ID of the output display.\n",
              " * @return {!Iterable<!Object>} Iterable of next steps.\n",
              " */\n",
              "function* uploadFilesStep(inputId, outputId) {\n",
              "  const inputElement = document.getElementById(inputId);\n",
              "  inputElement.disabled = false;\n",
              "\n",
              "  const outputElement = document.getElementById(outputId);\n",
              "  outputElement.innerHTML = '';\n",
              "\n",
              "  const pickedPromise = new Promise((resolve) => {\n",
              "    inputElement.addEventListener('change', (e) => {\n",
              "      resolve(e.target.files);\n",
              "    });\n",
              "  });\n",
              "\n",
              "  const cancel = document.createElement('button');\n",
              "  inputElement.parentElement.appendChild(cancel);\n",
              "  cancel.textContent = 'Cancel upload';\n",
              "  const cancelPromise = new Promise((resolve) => {\n",
              "    cancel.onclick = () => {\n",
              "      resolve(null);\n",
              "    };\n",
              "  });\n",
              "\n",
              "  // Wait for the user to pick the files.\n",
              "  const files = yield {\n",
              "    promise: Promise.race([pickedPromise, cancelPromise]),\n",
              "    response: {\n",
              "      action: 'starting',\n",
              "    }\n",
              "  };\n",
              "\n",
              "  cancel.remove();\n",
              "\n",
              "  // Disable the input element since further picks are not allowed.\n",
              "  inputElement.disabled = true;\n",
              "\n",
              "  if (!files) {\n",
              "    return {\n",
              "      response: {\n",
              "        action: 'complete',\n",
              "      }\n",
              "    };\n",
              "  }\n",
              "\n",
              "  for (const file of files) {\n",
              "    const li = document.createElement('li');\n",
              "    li.append(span(file.name, {fontWeight: 'bold'}));\n",
              "    li.append(span(\n",
              "        `(${file.type || 'n/a'}) - ${file.size} bytes, ` +\n",
              "        `last modified: ${\n",
              "            file.lastModifiedDate ? file.lastModifiedDate.toLocaleDateString() :\n",
              "                                    'n/a'} - `));\n",
              "    const percent = span('0% done');\n",
              "    li.appendChild(percent);\n",
              "\n",
              "    outputElement.appendChild(li);\n",
              "\n",
              "    const fileDataPromise = new Promise((resolve) => {\n",
              "      const reader = new FileReader();\n",
              "      reader.onload = (e) => {\n",
              "        resolve(e.target.result);\n",
              "      };\n",
              "      reader.readAsArrayBuffer(file);\n",
              "    });\n",
              "    // Wait for the data to be ready.\n",
              "    let fileData = yield {\n",
              "      promise: fileDataPromise,\n",
              "      response: {\n",
              "        action: 'continue',\n",
              "      }\n",
              "    };\n",
              "\n",
              "    // Use a chunked sending to avoid message size limits. See b/62115660.\n",
              "    let position = 0;\n",
              "    do {\n",
              "      const length = Math.min(fileData.byteLength - position, MAX_PAYLOAD_SIZE);\n",
              "      const chunk = new Uint8Array(fileData, position, length);\n",
              "      position += length;\n",
              "\n",
              "      const base64 = btoa(String.fromCharCode.apply(null, chunk));\n",
              "      yield {\n",
              "        response: {\n",
              "          action: 'append',\n",
              "          file: file.name,\n",
              "          data: base64,\n",
              "        },\n",
              "      };\n",
              "\n",
              "      let percentDone = fileData.byteLength === 0 ?\n",
              "          100 :\n",
              "          Math.round((position / fileData.byteLength) * 100);\n",
              "      percent.textContent = `${percentDone}% done`;\n",
              "\n",
              "    } while (position < fileData.byteLength);\n",
              "  }\n",
              "\n",
              "  // All done.\n",
              "  yield {\n",
              "    response: {\n",
              "      action: 'complete',\n",
              "    }\n",
              "  };\n",
              "}\n",
              "\n",
              "scope.google = scope.google || {};\n",
              "scope.google.colab = scope.google.colab || {};\n",
              "scope.google.colab._files = {\n",
              "  _uploadFiles,\n",
              "  _uploadFilesContinue,\n",
              "};\n",
              "})(self);\n",
              "</script> "
            ]
          },
          "metadata": {}
        },
        {
          "output_type": "stream",
          "name": "stdout",
          "text": [
            "Saving alpha_test.csv to alpha_test.csv\n"
          ]
        }
      ]
    },
    {
      "cell_type": "code",
      "source": [
        "# Dataframe processing (CSV format is expected, minimal text pre-processing at the moment (write you own if you needed it :) ), change the file name as needed)\n",
        "df = pd.read_csv('alpha_test.csv')"
      ],
      "metadata": {
        "id": "egPk0LY4x7-g"
      },
      "execution_count": null,
      "outputs": []
    },
    {
      "cell_type": "code",
      "source": [
        "df_clean = df[df['text'].apply(lambda x: isinstance(x, str))]"
      ],
      "metadata": {
        "id": "EKzlW_LUtoLF"
      },
      "execution_count": null,
      "outputs": []
    },
    {
      "cell_type": "code",
      "source": [
        "#above code wrapped in a function\n",
        "def text_input(file = 'alpha_test.csv'):\n",
        "  df = pd.read_csv(file)\n",
        "  df_clean = df[df['text'].apply(lambda x: isinstance(x, str))]\n",
        "  texts = [item.replace(\"\\t\", \" \") for item in df_clean['text']]\n",
        "  return texts"
      ],
      "metadata": {
        "id": "icPChnjm1i_b"
      },
      "execution_count": null,
      "outputs": []
    },
    {
      "cell_type": "code",
      "source": [
        "texts_raw = text_input()"
      ],
      "metadata": {
        "id": "0Ym4UlIEurHR"
      },
      "execution_count": null,
      "outputs": []
    },
    {
      "cell_type": "code",
      "source": [
        "#Widget to pick the number of documents to process\n",
        "style = {'description_width': 'initial'}\n",
        "box = widgets.BoundedIntText(\n",
        "    min=1,\n",
        "    max=4998,\n",
        "    step=10,\n",
        "    description='# of docs to process:',\n",
        "    value=len(texts_raw),\n",
        "    style = style\n",
        ")\n",
        "display(box)"
      ],
      "metadata": {
        "colab": {
          "base_uri": "https://localhost:8080/",
          "height": 49,
          "referenced_widgets": [
            "ac234adcd3844f5e83814ab723375c6b",
            "aca495c23dc642f1aa9ef2ab54f209f7",
            "e37948d40f584dc5bbe8ace4ef5258d0"
          ]
        },
        "id": "62Gn0ocfB1rN",
        "outputId": "bb5fa4a2-9322-4307-8f5c-0e71b099b882"
      },
      "execution_count": null,
      "outputs": [
        {
          "output_type": "display_data",
          "data": {
            "text/plain": [
              "BoundedIntText(value=4998, description='# of docs to process:', max=4998, min=1, step=10, style=DescriptionSty…"
            ],
            "application/vnd.jupyter.widget-view+json": {
              "version_major": 2,
              "version_minor": 0,
              "model_id": "ac234adcd3844f5e83814ab723375c6b"
            }
          },
          "metadata": {}
        }
      ]
    },
    {
      "cell_type": "code",
      "source": [
        "#texts_raw contains all the document being ingested.  You may want to limit the number of docs to analyze\n",
        "texts = texts_raw[:box.value]"
      ],
      "metadata": {
        "id": "o4ohKBtnB9oF"
      },
      "execution_count": null,
      "outputs": []
    },
    {
      "cell_type": "code",
      "source": [
        "#Create a single blob of text\n",
        "corpus = ' '.join(texts)"
      ],
      "metadata": {
        "id": "lqd4MqVqoI3h"
      },
      "execution_count": null,
      "outputs": []
    },
    {
      "cell_type": "markdown",
      "source": [
        "# Keywords"
      ],
      "metadata": {
        "id": "s47pzHo3cxVF"
      }
    },
    {
      "cell_type": "code",
      "source": [
        "%%capture\n",
        "!pip install yake"
      ],
      "metadata": {
        "id": "X0jkZhcypKU4"
      },
      "execution_count": null,
      "outputs": []
    },
    {
      "cell_type": "code",
      "source": [
        "import yake"
      ],
      "metadata": {
        "id": "Y0bDoBIin77D"
      },
      "execution_count": null,
      "outputs": []
    },
    {
      "cell_type": "code",
      "source": [
        "# YAKE Config\n",
        "kw_extractor = yake.KeywordExtractor()\n",
        "language = 'en'\n",
        "max_ngram_size = 2\n",
        "deduplication_threshold = 0.9\n",
        "numOfKeywords = 50"
      ],
      "metadata": {
        "id": "bnfpdRJcpUKo"
      },
      "execution_count": null,
      "outputs": []
    },
    {
      "cell_type": "code",
      "source": [
        "#Keyword for the corpus a.k.a Global Concepts\n",
        "custom_kw_extractor = yake.KeywordExtractor(lan=language, n=max_ngram_size, dedupLim=deduplication_threshold, top=numOfKeywords, features=None)\n",
        "keywords = custom_kw_extractor.extract_keywords(corpus)\n",
        "keywords"
      ],
      "metadata": {
        "id": "dDHYClMGpH-E"
      },
      "execution_count": null,
      "outputs": []
    },
    {
      "cell_type": "code",
      "source": [
        "#select a number of keywords to work with\n",
        "def keywords_number(n = len(keywords), input=keywords):\n",
        "  return [item[0] for item in input[:n]]"
      ],
      "metadata": {
        "id": "lGxT2PjcMKeQ"
      },
      "execution_count": null,
      "outputs": []
    },
    {
      "cell_type": "code",
      "source": [
        "top_10 = keywords_number(10)\n",
        "all_keywords = keywords_number()"
      ],
      "metadata": {
        "id": "kf8BEajENbKh"
      },
      "execution_count": null,
      "outputs": []
    },
    {
      "cell_type": "code",
      "source": [
        "#Keyword for the individual documents\n",
        "custom_kw_extractor_docs = yake.KeywordExtractor(lan=language, n=max_ngram_size, dedupLim=deduplication_threshold, top=10, features=None)"
      ],
      "metadata": {
        "id": "CjK3E1ldKbaM"
      },
      "execution_count": null,
      "outputs": []
    },
    {
      "cell_type": "code",
      "source": [
        "#Summarizing each document to a set of keywords\n",
        "distilled_docs = []\n",
        "for item in texts:\n",
        "  keywrds = custom_kw_extractor_docs.extract_keywords(item)\n",
        "  tmp = [item[0] for item in keywrds]\n",
        "  distilled_docs.append(tmp)"
      ],
      "metadata": {
        "id": "IK3f5af_oyub"
      },
      "execution_count": null,
      "outputs": []
    },
    {
      "cell_type": "markdown",
      "source": [
        "Counting number of documents that include global concepts being found"
      ],
      "metadata": {
        "id": "lrXzk3pYI4Xd"
      }
    },
    {
      "cell_type": "code",
      "source": [
        "count_dict = {}\n",
        "concepts_doc = {}\n",
        "for item in all_keywords:\n",
        "    count_dict[item]=0\n",
        "    concepts_doc[item] =[]\n",
        "    for index, doc in enumerate(texts):\n",
        "        if doc.find(item) != -1:\n",
        "            count_dict[item] +=1\n",
        "            concepts_doc[item].append(index)\n",
        "counts= list(count_dict.values()) "
      ],
      "metadata": {
        "id": "myX_WleNI3GH"
      },
      "execution_count": null,
      "outputs": []
    },
    {
      "cell_type": "markdown",
      "source": [
        "# Embeddings for original Documents & Summarized Documents distilled Using S-Bert"
      ],
      "metadata": {
        "id": "8YBMTAcxcpRH"
      }
    },
    {
      "cell_type": "code",
      "source": [
        "%%capture\n",
        "!pip install -U sentence-transformers"
      ],
      "metadata": {
        "id": "1DeF6ttk-CgQ"
      },
      "execution_count": null,
      "outputs": []
    },
    {
      "cell_type": "code",
      "source": [
        "%%capture\n",
        "from sentence_transformers import SentenceTransformer, util\n",
        "model = SentenceTransformer('all-MiniLM-L6-v2', device = None)\n",
        "model.max_seq_length = 300"
      ],
      "metadata": {
        "id": "XAv1IOWMESgP"
      },
      "execution_count": null,
      "outputs": []
    },
    {
      "cell_type": "code",
      "source": [
        "# Embeddings for Distilled Docs\n",
        "emb_distilled_input = [' '.join(item) for item in distilled_docs]\n",
        "emb_distilled = model.encode(emb_distilled_input)"
      ],
      "metadata": {
        "id": "aHSLPBwtdNWv"
      },
      "execution_count": null,
      "outputs": []
    },
    {
      "cell_type": "code",
      "source": [
        "# Embeddings for Original Docs\n",
        "emb_texts = model.encode(texts)"
      ],
      "metadata": {
        "id": "_7xJO_8Wx1MC"
      },
      "execution_count": null,
      "outputs": []
    },
    {
      "cell_type": "markdown",
      "source": [
        "Find keywords most closely associated with a given global concept"
      ],
      "metadata": {
        "id": "-IYF-17LTHvN"
      }
    },
    {
      "cell_type": "code",
      "source": [
        "#Selecting a concept from the top 10 concept for the classifier training (work in progress, not completely implemented, code below is POC)\n",
        "select_target = widgets.Dropdown(options=all_keywords,\n",
        "                            description='Pick a concept:',\n",
        "                            disabled=False,\n",
        "                            value = all_keywords[1],\n",
        "                            style = style\n",
        "                            )\n",
        "display(select_target)"
      ],
      "metadata": {
        "colab": {
          "base_uri": "https://localhost:8080/",
          "height": 49,
          "referenced_widgets": [
            "ce3f01d906184cad97c0e61e904c92d0",
            "38fb012490c84c73a3d5aefbbd231c38",
            "8787c1d57bad453a94c64852ed9f2879"
          ]
        },
        "id": "wi_A_oHMlDQW",
        "outputId": "3998f69f-7245-4547-eb36-e8bf479f1c19"
      },
      "execution_count": null,
      "outputs": [
        {
          "output_type": "display_data",
          "data": {
            "text/plain": [
              "Dropdown(description='Pick a concept:', index=1, options=('BLACK', 'flavors Syrupy', 'Tastes malty', 'beer', '…"
            ],
            "application/vnd.jupyter.widget-view+json": {
              "version_major": 2,
              "version_minor": 0,
              "model_id": "ce3f01d906184cad97c0e61e904c92d0"
            }
          },
          "metadata": {}
        }
      ]
    },
    {
      "cell_type": "code",
      "source": [
        "trg = select_target.value\n",
        "target = model.encode(trg)\n",
        "#Find closest documents\n",
        "cosine_score = util.cos_sim(target, emb_distilled)"
      ],
      "metadata": {
        "id": "H-AQKtYVWsoT"
      },
      "execution_count": null,
      "outputs": []
    },
    {
      "cell_type": "code",
      "source": [
        "final_scores = list(enumerate(cosine_score.flatten().tolist()))"
      ],
      "metadata": {
        "id": "4Bp45SSnaV5Y"
      },
      "execution_count": null,
      "outputs": []
    },
    {
      "cell_type": "code",
      "source": [
        "res = sorted(final_scores, key = lambda x:x[1], reverse=True)\n",
        "res[:5]"
      ],
      "metadata": {
        "id": "hhAgWpasdCVD"
      },
      "execution_count": null,
      "outputs": []
    },
    {
      "cell_type": "code",
      "source": [
        "out_distilled = []\n",
        "out_original = []\n",
        "for item in res[:5]:\n",
        "  print(distilled_docs[item[0]])\n",
        "  out_distilled.append(distilled_docs[item[0]])\n",
        "  out_original.append(texts[item[0]]) "
      ],
      "metadata": {
        "id": "Gn9L_NX-iAzd",
        "colab": {
          "base_uri": "https://localhost:8080/"
        },
        "outputId": "d45b7fa5-a40b-4d7d-a42d-85c11a84e6b4"
      },
      "execution_count": null,
      "outputs": [
        {
          "output_type": "stream",
          "name": "stdout",
          "text": [
            "['BLACK', 'flavors Syrupy', 'Tastes malty', 'beer', 'alcohol Tastes', 'Syrupy', 'light', 'Tastes', 'alcohol', 'malty good']\n",
            "['malt Taste', 'boring Mouthfeel', 'thin Drinkability', 'moderate carbonation', 'bitter finish', 'thin head', 'grain hop', 'slight bitter', 'easy drinking', 'alot macros']\n",
            "['malt', 'pretty good', 'good', 'bit', 'BORIS', 'pretty', 'dark body', 'black malt', 'chocolate', 'flavor']\n",
            "['Poured', 'brown', 'bottle', 'malt', 'malts', 'Smell', 'mild', 'hints', 'Taste', 'crisp']\n",
            "['Roasted malts', 'Tastes sweet', 'Completely black', 'great beer', 'malts', 'Roasted', 'sweet', 'Completely', 'taste', 'beer']\n"
          ]
        }
      ]
    },
    {
      "cell_type": "code",
      "source": [
        "#(1)keywords co-occuring with with the target concept, \n",
        "#(2)kewords from the documents that are close in meaning yet doesn't include the target concept\n",
        "closest = set()\n",
        "associated = set()\n",
        "for item in res[:10]:\n",
        "  if ' '.join(distilled_docs[item[0]]).find(trg) != -1:\n",
        "    closest.update(distilled_docs[item[0]]) \n",
        "  else:\n",
        "    associated.update(distilled_docs[item[0]]) \n",
        "closest.remove(trg)  "
      ],
      "metadata": {
        "id": "obnIK6SmLDnY"
      },
      "execution_count": null,
      "outputs": []
    },
    {
      "cell_type": "markdown",
      "source": [
        "# Clusterning using ANNOY Package (Approximate K-nearest neighbours)"
      ],
      "metadata": {
        "id": "DiQ6YByu4UBz"
      }
    },
    {
      "cell_type": "code",
      "source": [
        "!pip install annoy"
      ],
      "metadata": {
        "id": "bejFfN374odO"
      },
      "execution_count": null,
      "outputs": []
    },
    {
      "cell_type": "code",
      "source": [
        "from annoy import AnnoyIndex"
      ],
      "metadata": {
        "id": "cPkY6FuN4eT9"
      },
      "execution_count": null,
      "outputs": []
    },
    {
      "cell_type": "code",
      "source": [
        "#Template Code\n",
        "# Create the search index, pass the size of embedding\n",
        "search_index = AnnoyIndex(768, 'angular')\n",
        "# Add all the vectors to the search index\n",
        "for i in range(len(embeds)):\n",
        "    search_index.add_item(i, embeds[i])\n",
        "\n",
        "search_index.build(10) # 10 trees\n",
        "#search_index.save('askhn.ann')"
      ],
      "metadata": {
        "id": "QkCIWqiO4wK0"
      },
      "execution_count": null,
      "outputs": []
    },
    {
      "cell_type": "code",
      "source": [
        "#search index using AnnoyIndex function wrapper\n",
        "def search_AnnoyIndex(embeds):\n",
        "  for i in range(len(embeds)):\n",
        "    search_index.add_item(i, embeds[i])\n",
        "  search_index.build(10)\n",
        "  return search_index"
      ],
      "metadata": {
        "id": "JoXQa2OG1zrw"
      },
      "execution_count": null,
      "outputs": []
    },
    {
      "cell_type": "code",
      "source": [
        "#Use Example\n",
        "# Choose an example (we'll retrieve others similar to it)\n",
        "example_id = 50\n",
        "\n",
        "# Retrieve nearest neighbors\n",
        "similar_item_ids = search_index.get_nns_by_item(example_id,\n",
        "                                                10, # Number of results to retrieve\n",
        "                                                include_distances=True)\n",
        "# Format and print the text and distances\n",
        "results = pd.DataFrame(data={'texts': texts[similar_item_ids[0]], \n",
        "                             'distance': similar_item_ids[1]}).drop(example_id)\n",
        "\n",
        "#print(f\"Query post:'{df.iloc[example_id]['title']}'\\nNearest neighbors:\")\n",
        "results"
      ],
      "metadata": {
        "id": "Bm3rVR4L462J"
      },
      "execution_count": null,
      "outputs": []
    },
    {
      "cell_type": "markdown",
      "source": [
        "# SetFit Model (Idea: a classifier tuned up for a given dataset (8 examples per class))"
      ],
      "metadata": {
        "id": "9JJSWp_mb0UT"
      }
    },
    {
      "cell_type": "code",
      "source": [
        "%%capture\n",
        "!pip install setfit\n",
        "!pip install datasets"
      ],
      "metadata": {
        "id": "MI3u34lRPLEF"
      },
      "execution_count": null,
      "outputs": []
    },
    {
      "cell_type": "code",
      "source": [
        "from datasets import Dataset, load_dataset\n",
        "from sentence_transformers.losses import CosineSimilarityLoss\n",
        "from setfit import SetFitModel, SetFitTrainer"
      ],
      "metadata": {
        "id": "EfxPILB1cdgf"
      },
      "execution_count": null,
      "outputs": []
    },
    {
      "cell_type": "markdown",
      "source": [
        "Data for a classifier POC (currently binary classification is implemented, multiclass is coming soon!)"
      ],
      "metadata": {
        "id": "Hu6B9GuIc92J"
      }
    },
    {
      "cell_type": "code",
      "source": [
        "#Selecting a concept from the top 10 concept for the classifier training (work in progress, not completely implemented, code below is POC)\n",
        "dropdown = widgets.Dropdown(options=top_10,\n",
        "                            description='Pick a concept:',\n",
        "                            disabled=False)\n",
        "display(dropdown)"
      ],
      "metadata": {
        "colab": {
          "base_uri": "https://localhost:8080/",
          "height": 49,
          "referenced_widgets": [
            "1698603d39874a87814b6aef6d7078cb",
            "8e0990d974eb47848c321a112815bd6b",
            "02150c9c4b16411b9d1fec61ae21d8ed"
          ]
        },
        "id": "ewr4hIyjaT4a",
        "outputId": "cdfd1378-42c4-4f85-fded-9d4f6ea4b42e"
      },
      "execution_count": null,
      "outputs": [
        {
          "output_type": "display_data",
          "data": {
            "text/plain": [
              "Dropdown(description='Number:', options=('head', 'hops', 'white head', 'IPA', 'Nice', 'Pale Ale', 'hop', 'malt…"
            ],
            "application/vnd.jupyter.widget-view+json": {
              "version_major": 2,
              "version_minor": 0,
              "model_id": "1698603d39874a87814b6aef6d7078cb"
            }
          },
          "metadata": {}
        }
      ]
    },
    {
      "cell_type": "code",
      "source": [
        "ipa_class = []\n",
        "for ind, item in enumerate(distilled_docs):\n",
        "  if dropdown.value in item:\n",
        "    ipa_class.append((ind,item))\n",
        "if len(ipa_class) < 20 and len(ipa_class) > 10:\n",
        "  print(f\"this class has only: {len(ipa_class)} examples, are you sure you want to train the model for this?\")  \n",
        "if len(ipa_class) < 10:\n",
        "  print(f\"this class has only: {len(ipa_class)} examples, proceed at you own risk, it probably won't end up well...?\") \n",
        "print(f'there are {len(ipa_class)} examples in the selected class')    "
      ],
      "metadata": {
        "id": "XfiFUVkxLU5F",
        "colab": {
          "base_uri": "https://localhost:8080/"
        },
        "outputId": "d5fe831e-68e5-4f7e-c1ce-3962a8dbd794"
      },
      "execution_count": null,
      "outputs": [
        {
          "output_type": "stream",
          "name": "stdout",
          "text": [
            "there are 91 examples in the selected class\n"
          ]
        }
      ]
    },
    {
      "cell_type": "code",
      "source": [
        "other = []\n",
        "for ind, item in enumerate(distilled_docs):\n",
        "  if dropdown.value not in item:\n",
        "    other.append((ind,item))\n",
        "print(f'there are {len(other)} examples in the selected class')      "
      ],
      "metadata": {
        "id": "PYWB3pxpNJrx",
        "colab": {
          "base_uri": "https://localhost:8080/"
        },
        "outputId": "34f81313-e8a6-4aeb-b66f-0dee12dde856"
      },
      "execution_count": null,
      "outputs": [
        {
          "output_type": "stream",
          "name": "stdout",
          "text": [
            "there are 509 examples in the selected class\n"
          ]
        }
      ]
    },
    {
      "cell_type": "code",
      "source": [
        "texts_IPA = []\n",
        "for item in ipa_class:\n",
        "  texts_IPA.append(texts[item[0]])"
      ],
      "metadata": {
        "id": "_pcCx7eoYf3n"
      },
      "execution_count": null,
      "outputs": []
    },
    {
      "cell_type": "markdown",
      "source": [
        "Dicts to be used for classification finetuning & sentiment analysis using SetFit Model - POC using 2 classes using the test dataset"
      ],
      "metadata": {
        "id": "7zrT0rH5zmS5"
      }
    },
    {
      "cell_type": "code",
      "source": [
        "dict_IPA = {'idx': [item for item in range(len(texts_IPA))], 'sentence': texts_IPA, 'label': [0]*len(texts_IPA)}"
      ],
      "metadata": {
        "id": "iCXRpcm4NZn7"
      },
      "execution_count": null,
      "outputs": []
    },
    {
      "cell_type": "code",
      "source": [
        "texts_other = []\n",
        "for item in other[:170]:\n",
        "  texts_other.append(texts[item[0]])"
      ],
      "metadata": {
        "id": "DUE05pcPb_D8"
      },
      "execution_count": null,
      "outputs": []
    },
    {
      "cell_type": "code",
      "source": [
        "dict_other = {'idx': [item for item in range(len(texts_other))], 'sentence': texts_other, 'label': [1]*len(texts_other)}"
      ],
      "metadata": {
        "id": "-RxoVPx2xDS_"
      },
      "execution_count": null,
      "outputs": []
    },
    {
      "cell_type": "code",
      "source": [
        "dict_train = {'idx': [item for item in range(len(texts_other))]+[item for item in range(len(texts_IPA))], \n",
        "              'sentence': texts_other+texts_IPA, 'label': [1]*len(texts_other)+[0]*len(texts_IPA)}"
      ],
      "metadata": {
        "id": "GoeTq5ZhxX6U"
      },
      "execution_count": null,
      "outputs": []
    },
    {
      "cell_type": "code",
      "source": [
        "dataset_train = Dataset.from_dict(dict_train)\n",
        "dataset_train_few = dataset_train.shuffle(seed = 42).select(range(16))"
      ],
      "metadata": {
        "id": "bSdWjgyPyu7v"
      },
      "execution_count": null,
      "outputs": []
    },
    {
      "cell_type": "code",
      "source": [
        "#test print\n",
        "for i in range(10):\n",
        "  print(dataset_train_few[i])"
      ],
      "metadata": {
        "id": "UWRc88tCHqob"
      },
      "execution_count": null,
      "outputs": []
    },
    {
      "cell_type": "code",
      "source": [
        "# Load a SetFit model from Hub\n",
        "model = SetFitModel.from_pretrained(\"sentence-transformers/paraphrase-mpnet-base-v2\")\n",
        "\n",
        "# Create trainer\n",
        "trainer = SetFitTrainer(\n",
        "    model=model,\n",
        "    train_dataset=dataset_train_few,\n",
        "    eval_dataset=dataset_train,\n",
        "    loss_class=CosineSimilarityLoss,\n",
        "    metric=\"accuracy\",\n",
        "    batch_size=16,\n",
        "    num_iterations=20, # The number of text pairs to generate for contrastive learning\n",
        "    num_epochs=1, # The number of epochs to use for contrastive learning\n",
        "    column_mapping={\"sentence\": \"text\", \"label\": \"label\"} # Map dataset columns to text/label expected by trainer\n",
        ")"
      ],
      "metadata": {
        "id": "RqSeXUfEPeba"
      },
      "execution_count": null,
      "outputs": []
    },
    {
      "cell_type": "code",
      "source": [
        "trainer.train()\n",
        "#metrics = trainer.evaluate()"
      ],
      "metadata": {
        "colab": {
          "base_uri": "https://localhost:8080/",
          "height": 185,
          "referenced_widgets": [
            "5219c6d1a97a41a5b836225f4bce4ecc",
            "e324ae1f56ab48b58f202ba0248b46c2",
            "28f62e2acc1f46ebb6750fab386ae586",
            "0d09bc73cce842119c3a64bde63ad49d",
            "9e93c1c0cc03404c96ed530b11d51415",
            "f20db5a526dd44a69b321406f535ef0f",
            "00d82f3c8aa04a189368fc6ade7b3de8",
            "46ce5dc97431472ba0f2cd3681adde03",
            "fb444675e2bb46bcac60ead080c48f9d",
            "50b04ab4764742699f2bcde85fc9504c",
            "7a0a01e12b3b455dbb05534881e78d83",
            "0ec9b6f53cfa40d9878df59956840c43",
            "1389910761d348c991766bd059717868",
            "f54806014a1e4b80a64f627cbee7dc3b",
            "18eeab46acb94194a5ed42647a3b5475",
            "f7e0533bc5d0408dbc919d306300b9d7",
            "28b2c60aa35249a0ba5d6237857e089d",
            "83e062bfcab941b98b40dcca6073e5ea",
            "b6612e9d659a4016b34077eff7c76f8d",
            "603f3628ff0b4cc4901145912617281d",
            "3316fe6347fb47858a527b8e679e5368",
            "0d13d25566a940d6a97a75df88914ca4"
          ]
        },
        "id": "ue7ctwKaP66a",
        "outputId": "626042ee-4784-4533-90a1-7b9d3bc15a9b"
      },
      "execution_count": null,
      "outputs": [
        {
          "output_type": "stream",
          "name": "stderr",
          "text": [
            "Applying column mapping to training dataset\n",
            "***** Running training *****\n",
            "  Num examples = 640\n",
            "  Num epochs = 1\n",
            "  Total optimization steps = 40\n",
            "  Total train batch size = 16\n"
          ]
        },
        {
          "output_type": "display_data",
          "data": {
            "text/plain": [
              "Epoch:   0%|          | 0/1 [00:00<?, ?it/s]"
            ],
            "application/vnd.jupyter.widget-view+json": {
              "version_major": 2,
              "version_minor": 0,
              "model_id": "5219c6d1a97a41a5b836225f4bce4ecc"
            }
          },
          "metadata": {}
        },
        {
          "output_type": "display_data",
          "data": {
            "text/plain": [
              "Iteration:   0%|          | 0/40 [00:00<?, ?it/s]"
            ],
            "application/vnd.jupyter.widget-view+json": {
              "version_major": 2,
              "version_minor": 0,
              "model_id": "0ec9b6f53cfa40d9878df59956840c43"
            }
          },
          "metadata": {}
        }
      ]
    },
    {
      "cell_type": "code",
      "source": [
        "metrics = trainer.evaluate()"
      ],
      "metadata": {
        "colab": {
          "base_uri": "https://localhost:8080/",
          "height": 84,
          "referenced_widgets": [
            "7d456299de5b43cf9618d74d91dd3549",
            "2d971284f1a84cea803f4d536dc54530",
            "5d047da4734441a4adc0ff5ac8d3bfdc",
            "1479e3d3afcc453889291b2f51550d5d",
            "626743adfe2d473fbe8ee330f50e85c3",
            "f09e1c1a289c455da6a4837de5d5a6d4",
            "24f7ac6b4c83468eabaab2376104e92b",
            "1bc7a45b36d44f24bb4b92e6da417218",
            "5b7ab18dad764063899f1b22e9366c8e",
            "8b37a843feed4b9896d33cda9ec56588",
            "be15de349eb245cc88b78802daffeb7c"
          ]
        },
        "id": "wrSZO-DBWlGE",
        "outputId": "f033d2cf-618d-432d-d004-4041d7049612"
      },
      "execution_count": null,
      "outputs": [
        {
          "output_type": "stream",
          "name": "stderr",
          "text": [
            "Applying column mapping to evaluation dataset\n",
            "***** Running evaluation *****\n"
          ]
        },
        {
          "output_type": "display_data",
          "data": {
            "text/plain": [
              "Downloading builder script:   0%|          | 0.00/4.20k [00:00<?, ?B/s]"
            ],
            "application/vnd.jupyter.widget-view+json": {
              "version_major": 2,
              "version_minor": 0,
              "model_id": "7d456299de5b43cf9618d74d91dd3549"
            }
          },
          "metadata": {}
        }
      ]
    },
    {
      "cell_type": "code",
      "source": [
        "metrics"
      ],
      "metadata": {
        "colab": {
          "base_uri": "https://localhost:8080/"
        },
        "id": "u8zdxA79WxrR",
        "outputId": "8eb8c9bd-416c-4642-a7f4-abb6bc22d5e6"
      },
      "execution_count": null,
      "outputs": [
        {
          "output_type": "execute_result",
          "data": {
            "text/plain": [
              "{'accuracy': 0.9670658682634731}"
            ]
          },
          "metadata": {},
          "execution_count": 30
        }
      ]
    },
    {
      "cell_type": "code",
      "source": [
        "# Push model to the Hub\n",
        "#trainer.push_to_hub(\"my-awesome-setfit-model\")\n",
        "\n",
        "# Download from Hub and run inference\n",
        "#model = SetFitModel.from_pretrained(\"lewtun/my-awesome-setfit-model\")\n",
        "# Run inference\n",
        "preds = trainer.model.predict([\"Pours a clear deep orange with a thick off-white head. Aroma of piney, grassy hops, some citrus and tropical fruits. Flavor of caramel malt and light citrus upfront with a bitter hops finish. Decent IPA, rather on the bitter side.\"])"
      ],
      "metadata": {
        "id": "R0FMLGYv8gEE"
      },
      "execution_count": null,
      "outputs": []
    },
    {
      "cell_type": "markdown",
      "source": [
        "Multiclass classification(work in progress)"
      ],
      "metadata": {
        "id": "hHXF1EuZPpMn"
      }
    },
    {
      "cell_type": "code",
      "source": [
        "multi_concept = widgets.SelectMultiple(\n",
        "                                      options=top_10,\n",
        "                                      value=top_10[0],\n",
        "                                      #rows=10,\n",
        "                                      description='Concepts',\n",
        "                                      disabled=False\n",
        "                                  )\n",
        "display(multi_concept)"
      ],
      "metadata": {
        "id": "eAwGQwANPoo1"
      },
      "execution_count": null,
      "outputs": []
    },
    {
      "cell_type": "code",
      "source": [
        "classes = multi_concept.value\n",
        "classes_dict = {}\n",
        "for item in classes:\n",
        "  classes_dict[item] = []\n",
        "\n",
        "for concept in classes:\n",
        "  for ind, item in enumerate(distilled_docs):\n",
        "    if concept in item: classes_dict[concept].append((ind,item))\n",
        "  if len(classes_dict[concept]) < 20 and len(classes_dict[concept]) > 10:\n",
        "    print(f\"{concept} class has only: {len(classes_dict[concept]} examples, are you sure you want to train the model for this?\")  \n",
        "  if len(classes_dict[concept]) < 10:\n",
        "    print(f\"{concept} class has only: {len(classes_dict[concept])} examples, proceed at you own risk, it probably won't end up well...?\") \n",
        "  print(f'there are {len(classes_dict[concept])} examples in the {concepet} class')     "
      ],
      "metadata": {
        "id": "nlwsLOMIQq7o"
      },
      "execution_count": null,
      "outputs": []
    },
    {
      "cell_type": "code",
      "source": [
        "array_class_dict=[]\n",
        "total_len = 0\n",
        "for ind, concept in enumerate(classes):\n",
        "  tmp = []\n",
        "  for item in classes_dict[concept]:\n",
        "    tmp.append(texts[item[]0]) \n",
        "  array_class_dict.append({'sentence':tmp}, 'label':[ind]*len(tmp)})\n",
        "  total_len += len(tmp)"
      ],
      "metadata": {
        "id": "doltBUvXSfwl"
      },
      "execution_count": null,
      "outputs": []
    },
    {
      "cell_type": "code",
      "source": [
        "train_dict = {'idx':[item for item in range(len(total_len))], 'sentence':[], 'label':[]}\n",
        "for dict in array_class_dict:\n",
        "  train_dict['sentence'] +=array_class_dict['sentence']\n",
        "  train_dict['label'] +=array_class_dict['lable']"
      ],
      "metadata": {
        "id": "fGBopzPwWzm6"
      },
      "execution_count": null,
      "outputs": []
    },
    {
      "cell_type": "markdown",
      "source": [
        "# Basic Sentiment Analysis"
      ],
      "metadata": {
        "id": "jkMwPEXtbsUS"
      }
    },
    {
      "cell_type": "code",
      "source": [
        "%%capture\n",
        "!pip install transformers\n",
        "!pip install datasets"
      ],
      "metadata": {
        "id": "wZKjgIWwh_Qx"
      },
      "execution_count": null,
      "outputs": []
    },
    {
      "cell_type": "code",
      "source": [
        "from datasets import Dataset\n",
        "from transformers import pipeline\n",
        "from transformers.pipelines.pt_utils import KeyDataset\n",
        "from tqdm.auto import tqdm"
      ],
      "metadata": {
        "id": "MnKHImFax2u2"
      },
      "execution_count": null,
      "outputs": []
    },
    {
      "cell_type": "code",
      "source": [
        "#dataset for the sentiment analysis POC\n",
        "dict_sentiment = {'idx':list(range(500)), \"text\":texts[:500]}\n",
        "dataset_sentiment = Dataset.from_dict(dict_sentiment)"
      ],
      "metadata": {
        "id": "e66d9gWDih8i"
      },
      "execution_count": null,
      "outputs": []
    },
    {
      "cell_type": "code",
      "source": [
        "%%capture\n",
        "pipe_hartman = pipeline(\"sentiment-analysis\",  model=\"j-hartmann/sentiment-roberta-large-english-3-classes\", return_all_scores=True, device=0)\n",
        "pipe = pipeline(\"sentiment-analysis\",  model=\"siebert/sentiment-roberta-large-english\", return_all_scores=True, device=0)"
      ],
      "metadata": {
        "id": "FzkBDvj5oPfP"
      },
      "execution_count": null,
      "outputs": []
    },
    {
      "cell_type": "code",
      "source": [
        "# KeyDataset (only *pt*) will simply return the item in the dict returned by the dataset item\n",
        "# as we're not interested in the *target* part of the dataset. For sentence pair use KeyPairDataset\n",
        "texts_sentiments = []\n",
        "for out in tqdm(pipe(KeyDataset(dataset_sentiment, \"text\"), batch_size=4, truncation=\"longest_first\")): #May or maynot need tto use Key Dataset\n",
        "    texts_sentiments.append(out)"
      ],
      "metadata": {
        "colab": {
          "base_uri": "https://localhost:8080/",
          "height": 49,
          "referenced_widgets": [
            "4fb28b04b53645cca5d165b6d0c25f84",
            "f2461948241d4f36914a712b4648a6aa",
            "fecb8383ab6e48288a651d8c6d978f3b",
            "fa55098cf944499ab7cec091e47d56de",
            "edc0f6234fbe44ddbd89cba4bc841201",
            "98d70273a0a3447c986013739c926b54",
            "9d87f09e574d46ff8262b2358a21a6bf",
            "6071298e46de41759e288eba1a4c0e54",
            "8d4d7b8416fe4c0aaa0d37c4cf473684",
            "2919987536bd4b2da86d95e8e9317da3",
            "7fb43324d5f34d8a8e886a67ddda5bbd"
          ]
        },
        "id": "4Cg_Ayamx4KQ",
        "outputId": "ecf42b1e-11d5-4e1b-eff8-238366d23dc8"
      },
      "execution_count": null,
      "outputs": [
        {
          "output_type": "display_data",
          "data": {
            "text/plain": [
              "  0%|          | 0/125 [00:00<?, ?it/s]"
            ],
            "application/vnd.jupyter.widget-view+json": {
              "version_major": 2,
              "version_minor": 0,
              "model_id": "4fb28b04b53645cca5d165b6d0c25f84"
            }
          },
          "metadata": {}
        }
      ]
    },
    {
      "cell_type": "code",
      "source": [
        "texts_sentiments_hartman = []\n",
        "for out in tqdm(pipe_hartman(KeyDataset(dataset_sentiment, \"text\"), batch_size=4, truncation=\"longest_first\")): #May or maynot need tto use Key Dataset\n",
        "    texts_sentiments_hartman.append(out)"
      ],
      "metadata": {
        "id": "DXnGilxTmq3s"
      },
      "execution_count": null,
      "outputs": []
    },
    {
      "cell_type": "code",
      "source": [
        "#Selecting a concept from the top 10 concept for the classifier training (work in progress, not completely implemented, code below is POC)\n",
        "dropdown_sentiment = widgets.Dropdown(options=all_keywords,\n",
        "                            description='Pick a concept:',\n",
        "                            disabled=False)\n",
        "display(dropdown_sentiment)"
      ],
      "metadata": {
        "colab": {
          "base_uri": "https://localhost:8080/",
          "height": 49,
          "referenced_widgets": [
            "f1545062a02b4bdd8ccbb897bf3e0e32",
            "e0c674628951469e868957e31b93da74",
            "2909ac7170c944bdabb1cc0b73b62f1e"
          ]
        },
        "id": "gAXo9mP5eOZ-",
        "outputId": "5ea8de66-157e-4ecd-a677-5558a7664552"
      },
      "execution_count": null,
      "outputs": [
        {
          "output_type": "display_data",
          "data": {
            "text/plain": [
              "Dropdown(description='Pick a concept:', options=('Pale Ale', 'IPA', 'hops', 'beer', 'Caldera IPA', 'nice', 'he…"
            ],
            "application/vnd.jupyter.widget-view+json": {
              "version_major": 2,
              "version_minor": 0,
              "model_id": "f1545062a02b4bdd8ccbb897bf3e0e32"
            }
          },
          "metadata": {}
        }
      ]
    },
    {
      "cell_type": "code",
      "source": [
        "#find sentiment by concept POC for one concept for now\n",
        "sentiment = []\n",
        "for index, item in enumerate(texts_sentiments):\n",
        "  if index in concepts_doc[dropdown_sentiment.value]:\n",
        "    sentiment.append(item)"
      ],
      "metadata": {
        "id": "Mv_PAZR5aSVn"
      },
      "execution_count": null,
      "outputs": []
    },
    {
      "cell_type": "code",
      "source": [
        "sentiment"
      ],
      "metadata": {
        "id": "dAtPcAgtdsf9"
      },
      "execution_count": null,
      "outputs": []
    },
    {
      "cell_type": "code",
      "source": [
        "positive, negative = 0,0\n",
        "for outcome in sentiment:\n",
        "  for item in outcome:    \n",
        "    if item['label'] =='NEGATIVE' and item['score']>0.5: negative +=1\n",
        "    if item['label'] =='POSITIVE' and item['score']>0.5: positive +=1"
      ],
      "metadata": {
        "id": "Iy_gc-CTbdVG"
      },
      "execution_count": null,
      "outputs": []
    },
    {
      "cell_type": "code",
      "source": [
        "print(f'positive score - {positive};  negative score = {negative}')"
      ],
      "metadata": {
        "colab": {
          "base_uri": "https://localhost:8080/"
        },
        "id": "qKLnrMeqdVT9",
        "outputId": "9c74e500-947f-4300-8173-9130cb20025f"
      },
      "execution_count": null,
      "outputs": [
        {
          "output_type": "stream",
          "name": "stdout",
          "text": [
            "positive score - 289;  negative score = 20\n"
          ]
        }
      ]
    },
    {
      "cell_type": "code",
      "source": [
        "positive, negative, neutral = 0,0,0\n",
        "for outcome in sentiment:\n",
        "  for item in outcome:    \n",
        "    if item['label'] =='NEGATIVE' and item['score']>0.5: negative +=1\n",
        "    if item['label'] =='POSITIVE' and item['score']>0.5: positive +=1\n",
        "    if item['label'] =='NEUTRAL' and item['score']>0.5: neutral +=1"
      ],
      "metadata": {
        "id": "t_ULunRAm7qg"
      },
      "execution_count": null,
      "outputs": []
    },
    {
      "cell_type": "code",
      "source": [
        "print(f'positive score - {positive};  negative score = {negative}; neutral score - {neutral}')"
      ],
      "metadata": {
        "id": "Z4WO7AwEnO4E"
      },
      "execution_count": null,
      "outputs": []
    },
    {
      "cell_type": "markdown",
      "source": [
        "# Vizualisation Using Altair & UMAP for dimensionality reduction"
      ],
      "metadata": {
        "id": "IxE7KnyMa5yW"
      }
    },
    {
      "cell_type": "code",
      "source": [
        "%%capture\n",
        "!pip install altair\n",
        "!pip install umap-learn"
      ],
      "metadata": {
        "id": "acLI1auXekHD"
      },
      "execution_count": null,
      "outputs": []
    },
    {
      "cell_type": "code",
      "source": [
        "import umap.umap_ as umap\n",
        "import altair as alt"
      ],
      "metadata": {
        "id": "KTdRR1afbC1E"
      },
      "execution_count": null,
      "outputs": []
    },
    {
      "cell_type": "code",
      "source": [
        "reducer = umap.UMAP(n_neighbors=20,n_components=2) \n",
        "umap_embeds = reducer.fit_transform(emb_texts)"
      ],
      "metadata": {
        "id": "pXgyUkuUbpQn"
      },
      "execution_count": null,
      "outputs": []
    },
    {
      "cell_type": "code",
      "source": [
        "distilled_texts = [' '.join(item) for item in distilled_docs]"
      ],
      "metadata": {
        "id": "pRyKS7P-qeD6"
      },
      "execution_count": null,
      "outputs": []
    },
    {
      "cell_type": "code",
      "source": [
        "#Widget to pick the documents that you want to display in a different color\n",
        "selector = widgets.Textarea(\n",
        "                            value='Select a keyword to interest',\n",
        "                            placeholder='Type a key word you want to select documents by',\n",
        "                            description='String:',\n",
        "                            disabled=False\n",
        "                            )\n",
        "display(selector)"
      ],
      "metadata": {
        "colab": {
          "base_uri": "https://localhost:8080/",
          "height": 62,
          "referenced_widgets": [
            "097a0a2b00954e18a11f5e1bd66d856c",
            "a0d992c52b324c1ea83ea9ce6712f4b4",
            "4c7910da7dcc45f39ac5aef128287b2a"
          ]
        },
        "id": "jLozKCeS1Q8r",
        "outputId": "280b1110-986b-46b4-c71d-a8dfb28e8f8a"
      },
      "execution_count": null,
      "outputs": [
        {
          "output_type": "display_data",
          "data": {
            "text/plain": [
              "Textarea(value='Select a keyword to interest', description='String:', placeholder='Type a key word you want to…"
            ],
            "application/vnd.jupyter.widget-view+json": {
              "version_major": 2,
              "version_minor": 0,
              "model_id": "097a0a2b00954e18a11f5e1bd66d856c"
            }
          },
          "metadata": {}
        }
      ]
    },
    {
      "cell_type": "code",
      "source": [
        "#creating groupings to be colored by a different color\n",
        "text_search=[True if item.find(selector.value) != -1 or item.find(selector.value.lower()) != -1 else False for item in distilled_texts]"
      ],
      "metadata": {
        "id": "aEpn_9SX00uG"
      },
      "execution_count": null,
      "outputs": []
    },
    {
      "cell_type": "code",
      "source": [
        "# Prepare the data to plot and interactive visualization\n",
        "# using Altair\n",
        "df_explore = pd.DataFrame(data={'text': distilled_texts, 'groups':text_search})\n",
        "df_explore['x'] = umap_embeds[:,0]\n",
        "df_explore['y'] = umap_embeds[:,1]\n",
        "\n",
        "# Plot\n",
        "chart = alt.Chart(df_explore).mark_circle(size=60).encode(\n",
        "    x=alt.X('x',scale=alt.Scale(zero=False)),\n",
        "    y=alt.Y('y',scale=alt.Scale(zero=False)),\n",
        "    tooltip=['text'],\n",
        "    color=alt.condition(alt.datum.groups == True, alt.value('red'),alt.value('blue'))\n",
        ").properties(\n",
        "    width=700,\n",
        "    height=400\n",
        ")\n",
        "chart.interactive()"
      ],
      "metadata": {
        "colab": {
          "base_uri": "https://localhost:8080/",
          "height": 468
        },
        "id": "ymAXJi1ja4Qf",
        "outputId": "feac48c8-a8f2-498e-aed6-ac7513b76495"
      },
      "execution_count": null,
      "outputs": [
        {
          "output_type": "execute_result",
          "data": {
            "text/html": [
              "\n",
              "<div id=\"altair-viz-1696f364ccb74cfa94ecd09eea19c29c\"></div>\n",
              "<script type=\"text/javascript\">\n",
              "  var VEGA_DEBUG = (typeof VEGA_DEBUG == \"undefined\") ? {} : VEGA_DEBUG;\n",
              "  (function(spec, embedOpt){\n",
              "    let outputDiv = document.currentScript.previousElementSibling;\n",
              "    if (outputDiv.id !== \"altair-viz-1696f364ccb74cfa94ecd09eea19c29c\") {\n",
              "      outputDiv = document.getElementById(\"altair-viz-1696f364ccb74cfa94ecd09eea19c29c\");\n",
              "    }\n",
              "    const paths = {\n",
              "      \"vega\": \"https://cdn.jsdelivr.net/npm//vega@5?noext\",\n",
              "      \"vega-lib\": \"https://cdn.jsdelivr.net/npm//vega-lib?noext\",\n",
              "      \"vega-lite\": \"https://cdn.jsdelivr.net/npm//vega-lite@4.17.0?noext\",\n",
              "      \"vega-embed\": \"https://cdn.jsdelivr.net/npm//vega-embed@6?noext\",\n",
              "    };\n",
              "\n",
              "    function maybeLoadScript(lib, version) {\n",
              "      var key = `${lib.replace(\"-\", \"\")}_version`;\n",
              "      return (VEGA_DEBUG[key] == version) ?\n",
              "        Promise.resolve(paths[lib]) :\n",
              "        new Promise(function(resolve, reject) {\n",
              "          var s = document.createElement('script');\n",
              "          document.getElementsByTagName(\"head\")[0].appendChild(s);\n",
              "          s.async = true;\n",
              "          s.onload = () => {\n",
              "            VEGA_DEBUG[key] = version;\n",
              "            return resolve(paths[lib]);\n",
              "          };\n",
              "          s.onerror = () => reject(`Error loading script: ${paths[lib]}`);\n",
              "          s.src = paths[lib];\n",
              "        });\n",
              "    }\n",
              "\n",
              "    function showError(err) {\n",
              "      outputDiv.innerHTML = `<div class=\"error\" style=\"color:red;\">${err}</div>`;\n",
              "      throw err;\n",
              "    }\n",
              "\n",
              "    function displayChart(vegaEmbed) {\n",
              "      vegaEmbed(outputDiv, spec, embedOpt)\n",
              "        .catch(err => showError(`Javascript Error: ${err.message}<br>This usually means there's a typo in your chart specification. See the javascript console for the full traceback.`));\n",
              "    }\n",
              "\n",
              "    if(typeof define === \"function\" && define.amd) {\n",
              "      requirejs.config({paths});\n",
              "      require([\"vega-embed\"], displayChart, err => showError(`Error loading script: ${err.message}`));\n",
              "    } else {\n",
              "      maybeLoadScript(\"vega\", \"5\")\n",
              "        .then(() => maybeLoadScript(\"vega-lite\", \"4.17.0\"))\n",
              "        .then(() => maybeLoadScript(\"vega-embed\", \"6\"))\n",
              "        .catch(showError)\n",
              "        .then(() => displayChart(vegaEmbed));\n",
              "    }\n",
              "  })({\"config\": {\"view\": {\"continuousWidth\": 400, \"continuousHeight\": 300}}, \"data\": {\"name\": \"data-902e8f22ecc4e6fe2aa97a6f5a0910ef\"}, \"mark\": {\"type\": \"circle\", \"size\": 60}, \"encoding\": {\"color\": {\"condition\": {\"value\": \"red\", \"test\": \"(datum.groups === true)\"}, \"value\": \"blue\"}, \"tooltip\": [{\"field\": \"text\", \"type\": \"nominal\"}], \"x\": {\"field\": \"x\", \"scale\": {\"zero\": false}, \"type\": \"quantitative\"}, \"y\": {\"field\": \"y\", \"scale\": {\"zero\": false}, \"type\": \"quantitative\"}}, \"height\": 400, \"selection\": {\"selector012\": {\"type\": \"interval\", \"bind\": \"scales\", \"encodings\": [\"x\", \"y\"]}}, \"width\": 700, \"$schema\": \"https://vega.github.io/schema/vega-lite/v4.17.0.json\", \"datasets\": {\"data-902e8f22ecc4e6fe2aa97a6f5a0910ef\": [{\"text\": \"lot foam banana lactic tart good start start color carbonation visible\", \"groups\": false, \"x\": 13.33500862121582, \"y\": 4.995855808258057}, {\"text\": \"beige foam Dark red red color light light beige malt Dark color foam average\", \"groups\": false, \"x\": 12.846878051757812, \"y\": 9.2057466506958}, {\"text\": \"totally black bit Light roast black drinkable bad totally Beige foam Beige\", \"groups\": false, \"x\": 12.194621086120605, \"y\": 8.42373275756836}, {\"text\": \"Golden yellow yellow color Golden color Good hop sweet yellow compact foam Fresh\", \"groups\": false, \"x\": 12.837648391723633, \"y\": 8.980127334594727}, {\"text\": \"Caldera Cauldron Cauldron Caldera DIPA years back Horse Brass IPA website West Coast style\", \"groups\": false, \"x\": 14.199910163879395, \"y\": 4.791413307189941}, {\"text\": \"Chimay goblet Chimay Poured goblet finish white head bottle cloudy yellow orange color head\", \"groups\": false, \"x\": 12.00317668914795, \"y\": 5.8114166259765625}, {\"text\": \"Lifesource Salem Nice ginger simple Taste bottle sized frothy creamy white white head\", \"groups\": false, \"x\": 16.719215393066406, \"y\": 6.994838714599609}, {\"text\": \"Sounds redundant beverage brewed Sounds ginger added Malt beverage light Malt Ginger Bottle added\", \"groups\": false, \"x\": 11.995074272155762, \"y\": 5.816956043243408}, {\"text\": \"bit ginger picked cheap compared smallish head bit fizzy pale golden golden color largely uneventful normal lager\", \"groups\": false, \"x\": 11.740755081176758, \"y\": 5.804146766662598}, {\"text\": \"Drie Fonteinen Fonteinen tumbler Drie Fonteinen Poured bomber tumbler Pale malt Hazy titanium yellow body\", \"groups\": false, \"x\": 12.799935340881348, \"y\": 9.022469520568848}, {\"text\": \"ginger ALE ginger beer beer ALE Foods ginger site reason bought shopping\", \"groups\": false, \"x\": 12.147802352905273, \"y\": 5.7331647872924805}, {\"text\": \"Indian dinner Bright golden golden glowing lively white white head feathery fluff glowing beer beer feel Nice clear light beer\", \"groups\": false, \"x\": 11.816826820373535, \"y\": 5.867853164672852}, {\"text\": \"white head mild white good retention Pours Great nose clear yellow bomber head retention good\", \"groups\": false, \"x\": 11.665227890014648, \"y\": 5.925044059753418}, {\"text\": \"novelty product Belgium Tulip bottle product novelty Caldera review Clear golden ginger fades\", \"groups\": false, \"x\": 13.388542175292969, \"y\": 5.902638912200928}, {\"text\": \"brown ale Brown color ale Lacking porter lacking flavor flavors Caldera complexity\", \"groups\": false, \"x\": 13.334488868713379, \"y\": 4.94684362411499}, {\"text\": \"Creek Bar Caldera presents doesnt bottle Ashland Creek Oatmeal Stout Ashland Grill Ashland Amber Creek Bar\", \"groups\": false, \"x\": 14.015360832214355, \"y\": 4.701703071594238}, {\"text\": \"Oregon Brewers Brewers Festival Oregon Festival Brewers dry Orange color lager tasted Orange\", \"groups\": false, \"x\": 12.586173057556152, \"y\": 6.545953750610352}, {\"text\": \"inch fizzy murky light light brown fizzy tan tan head smoked meat campfire smoke beer smoked smoke\", \"groups\": false, \"x\": 9.980831146240234, \"y\": 7.58974552154541}, {\"text\": \"fine surface sudsy head dissipating fine Faint sudsy surface Faint sudsy head dissipating fine\", \"groups\": false, \"x\": 12.822833061218262, \"y\": 9.55942153930664}, {\"text\": \"West area arrival bit lighter Smoky brown ale sweet meat smoke Pours\", \"groups\": false, \"x\": 10.613729476928711, \"y\": 7.560336112976074}, {\"text\": \"Transferring Sampled notes half finger white head ruby pour smoky finger head Opaque\", \"groups\": false, \"x\": 10.032662391662598, \"y\": 7.631067276000977}, {\"text\": \"meat smoked meat smoked nose burnt amber rauchbier Good head Pours amber Holy smoked\", \"groups\": false, \"x\": 10.012516021728516, \"y\": 7.628254413604736}, {\"text\": \"ruby color Pours clear rich ruby color Smoked off-white head Smoked meat caramel\", \"groups\": false, \"x\": 10.494816780090332, \"y\": 7.493282794952393}, {\"text\": \"mahogany color tan head rich Pours color head bacon rich caramel sided mahogany\", \"groups\": false, \"x\": 10.421065330505371, \"y\": 7.548532009124756}, {\"text\": \"Pours light reddish highlights light caramel caramel brown Pours highlights thin ring light brown reddish\", \"groups\": false, \"x\": 10.823274612426758, \"y\": 7.664866924285889}, {\"text\": \"deep amber red color slightly cloudy cloudy deep thin soap soap ring Rauch goodness pork Rauch Poured amber\", \"groups\": false, \"x\": 10.013279914855957, \"y\": 7.6153483390808105}, {\"text\": \"buddy Ryan knocking Ryan delicious stone nonic carbonation Big taste savory smoke\", \"groups\": false, \"x\": 10.496467590332031, \"y\": 6.997966766357422}, {\"text\": \"Caldera Tap Tap House tap Caldera charred wood night brown color white head House wood\", \"groups\": false, \"x\": 10.33088493347168, \"y\": 7.336695194244385}, {\"text\": \"Oak Park Chicago Binny Binny Oak Park Solid style Chicago Binny Oak peat\", \"groups\": false, \"x\": 15.868339538574219, \"y\": 7.82622766494751}, {\"text\": \"liter stein rich amber time fading.Sweet deep rich finger head sweetish,I found appetizing.Cherry wood wood sweetness light peppery peppery spice\", \"groups\": false, \"x\": 10.455275535583496, \"y\": 7.491097927093506}, {\"text\": \"Semi aggressive nice clarity aggressive pour pour produces light brown brown head rests atop deep copper copper colored Semi\", \"groups\": false, \"x\": 10.218017578125, \"y\": 7.2515997886657715}, {\"text\": \"Burnt orange lacing Smell burnt oak inch head oak chips beer smells Burnt smoked salmon salmon Taste flavor Mouthfeel\", \"groups\": false, \"x\": 10.35411548614502, \"y\": 7.185140609741211}, {\"text\": \"bubbly head hazy reddish reddish brown quick dissipating dissipating bubbly Pours Darthkostrizer BHOBS Holy shit Good\", \"groups\": false, \"x\": 10.205984115600586, \"y\": 7.065438270568848}, {\"text\": \"expecting darker good degree Amber yeloowcolored darker kind Holy cherry expecting good degree\", \"groups\": false, \"x\": 10.205635070800781, \"y\": 7.1848907470703125}, {\"text\": \"tan head brilliant black ruby tones malty brew Pours tan head Weak retention brilliant black\", \"groups\": false, \"x\": 15.034041404724121, \"y\": 9.65054702758789}, {\"text\": \"slight smoke malt smoke deep red lot smell deep deep bbq Taste peated malt bit smoke lot\", \"groups\": false, \"x\": 9.957362174987793, \"y\": 7.601799011230469}, {\"text\": \"intense smoke smoke flavor Warning flavor beer intense smoke ounce bottle Loads cuz\", \"groups\": false, \"x\": 10.074850082397461, \"y\": 7.502572536468506}, {\"text\": \"crystal clear light lace medium tan tan head slowly fades thin cap leaves light A-Bright crystal clear\", \"groups\": false, \"x\": 10.666726112365723, \"y\": 7.651439666748047}, {\"text\": \"interesting nice beer nice beer looked interesting interesting beer shelf brewery looked Figured\", \"groups\": false, \"x\": 12.782739639282227, \"y\": 5.770988464355469}, {\"text\": \"Amber brown nice ring Amber ring Nicely carbonated good brown color head nice\", \"groups\": false, \"x\": 10.806509017944336, \"y\": 7.2707343101501465}, {\"text\": \"shaker pint pint glass Poured glass Clear dark amber foam head bomber shaker pint\", \"groups\": false, \"x\": 11.383228302001953, \"y\": 7.917322635650635}, {\"text\": \"Complex enjoyable enjoyable smoked Complex smoked woody,spicey enjoyable Tasty rich rich malt,caramel Tasty malt,caramel\", \"groups\": false, \"x\": 10.7747220993042, \"y\": 7.695241451263428}, {\"text\": \"amber color dispate quickly dark amber perfect size size head beer pours color quickly smoked strongly\", \"groups\": false, \"x\": 10.331517219543457, \"y\": 7.203787803649902}, {\"text\": \"Bier Stein Rauchbier smoky flavor flavor reviewed smoky Eugene Bier Stein flavor remains\", \"groups\": false, \"x\": 9.981027603149414, \"y\": 7.614614009857178}, {\"text\": \"amber hues deep amber caramel hue burnt caramel rich burnt smoke hue hues Pours malt\", \"groups\": false, \"x\": 10.303894996643066, \"y\": 7.755257606506348}, {\"text\": \"Beer Stein chestnut brown small off-white off-white head Stein Rauch Beer Bock lace sweetness\", \"groups\": false, \"x\": 10.007497787475586, \"y\": 7.613407135009766}, {\"text\": \"ounce bomber beer ounce bomber small head deep bright bright brown pretty style pretty small\", \"groups\": false, \"x\": 11.232768058776855, \"y\": 6.302109718322754}, {\"text\": \"usual assortment Porters IPA Rauchbier smoked dominance smoked mood usual assortment smoke\", \"groups\": false, \"x\": 10.114102363586426, \"y\": 7.371494770050049}, {\"text\": \"bottle malt smoke Pours clear half inch crisp clear amber inch head plenty Beechwood smoke\", \"groups\": false, \"x\": 11.017516136169434, \"y\": 7.421809673309326}, {\"text\": \"tulip glass Poured smoke glass rust-red color bottle tulip Smoky malt smoke smoke\", \"groups\": false, \"x\": 10.35142707824707, \"y\": 7.294201374053955}, {\"text\": \"Deep cherry cherry body faint beige beige head Deep wisp ring cherry body faint beige\", \"groups\": false, \"x\": 10.569305419921875, \"y\": 7.329805850982666}, {\"text\": \"Ayinger Celebrator Celebrator Doppelbock Doppelbock glass Ayinger Celebrator Doppelbock Poured bomber glass Brilliantly clear\", \"groups\": false, \"x\": 12.851286888122559, \"y\": 9.506067276000977}, {\"text\": \"Hampden picked Poured chilled shared bottle ruby highlights mild aroma malt translucent clarity\", \"groups\": false, \"x\": 11.068730354309082, \"y\": 7.743076324462891}, {\"text\": \"brown bomber freshness date brown date bomber freshness Decent sized sticky lace bright amber amber color\", \"groups\": false, \"x\": 10.90074348449707, \"y\": 7.02816915512085}, {\"text\": \"red hue ruby red soft glow hue ruby red sandy colour laced poorly deep rich\", \"groups\": false, \"x\": 10.0261812210083, \"y\": 7.656834602355957}, {\"text\": \"Pours dark fades fast dark amber short white white fizzy fizzy head smoked pork sweet malt Pours fast\", \"groups\": false, \"x\": 10.441705703735352, \"y\": 7.335445404052734}, {\"text\": \"attractive shade beer pours Traverse City ruby brown brown sugar nice attractive brown beer attractive head\", \"groups\": false, \"x\": 10.526718139648438, \"y\": 7.285844802856445}, {\"text\": \"Pours coppery solid retention medium head Pours Beautiful sweet BBQ bomber head solid retention\", \"groups\": false, \"x\": 11.092411994934082, \"y\": 7.471100807189941}, {\"text\": \"Bailey Deep auburn surprise finest haziness ivory head nice tap grabbed pour Deep\", \"groups\": false, \"x\": 11.280817985534668, \"y\": 7.43802547454834}, {\"text\": \"Pale Ale Ale Picked Light golden white head Gourmet golden orange small fluffy fluffy white Light Pale\", \"groups\": true, \"x\": 13.89948558807373, \"y\": 5.375001907348633}, {\"text\": \"pint glass glass pint poured pale ales Cool green SoCal green tab Slow pour grows excessively\", \"groups\": true, \"x\": 16.455442428588867, \"y\": 6.6605916023254395}, {\"text\": \"head layer cloudy orange crisp white finger head Pours Slightly citrusy layer cloudy orange crisp\", \"groups\": false, \"x\": 13.374872207641602, \"y\": 7.594944953918457}, {\"text\": \"Beer Powerball Powerball Beer Received nice straw-colored beer drinking beer nice half records half centimeter\", \"groups\": false, \"x\": 15.793457984924316, \"y\": 6.149468898773193}, {\"text\": \"Beersofeurope.com light tart fruits good apples bought tart fruits Poured slight haze\", \"groups\": false, \"x\": 14.005147933959961, \"y\": 9.831719398498535}, {\"text\": \"BIF recently Friday BIF Served cold received recently thing grabbed fridge home\", \"groups\": false, \"x\": 16.05915641784668, \"y\": 6.670764446258545}, {\"text\": \"peach head hoppy Orangeish head peach alot Smell Taste Good flavor\", \"groups\": false, \"x\": 13.233116149902344, \"y\": 8.440817832946777}, {\"text\": \"pint glass clear pint Wine Warehouse Poured glass freshness date clear pint Charlottesville Warehouse\", \"groups\": false, \"x\": 15.221734046936035, \"y\": 8.993949890136719}, {\"text\": \"flavor bore bad beer aroma hop aroma beer nice lacing flavor bore strength bad\", \"groups\": false, \"x\": 13.691611289978027, \"y\": 6.845256805419922}, {\"text\": \"Northern California quality brews California Northern Castle lake enjoying variety quality brews finding\", \"groups\": false, \"x\": 15.280342102050781, \"y\": 5.853057861328125}, {\"text\": \"poured tulip See-thru deep off-white head sweetness deep gold gold body finger worth creamy off-white bit\", \"groups\": false, \"x\": 15.7561616897583, \"y\": 8.395401000976562}, {\"text\": \"ecru head deep shade fluffy ecru Pours head hops deep shade gold fluffy\", \"groups\": false, \"x\": 12.943194389343262, \"y\": 6.804983139038086}, {\"text\": \"orange hue clear golden golden color slight orange slight slight hop decent hop presence presence giving nice\", \"groups\": false, \"x\": 12.326754570007324, \"y\": 6.196451187133789}, {\"text\": \"gold highlights orange color Poured ale clear highlights pale ale orange color gold\", \"groups\": true, \"x\": 13.410317420959473, \"y\": 5.355390548706055}, {\"text\": \"Liquid Solutions Solutions Liquid Hops pale ale appropriately pale light golden pale golden hue light\", \"groups\": true, \"x\": 15.789267539978027, \"y\": 7.960847854614258}, {\"text\": \"pint glass good carbonation hop blast good body Poured glass pretty bitter beer store good pint\", \"groups\": false, \"x\": 14.575654029846191, \"y\": 5.246685981750488}, {\"text\": \"finger head pale straw straw gold frothy light Pours finger head Decent retention pale straw\", \"groups\": false, \"x\": 12.62964916229248, \"y\": 8.362604141235352}, {\"text\": \"crisp clear clear pale pale gold gold color small head Pours quickly citrus smell crisp clear\", \"groups\": false, \"x\": 12.883184432983398, \"y\": 7.087709903717041}, {\"text\": \"State Line Clear light white head Clear State Line Citrus orange light light orange\", \"groups\": false, \"x\": 13.809728622436523, \"y\": 8.865703582763672}, {\"text\": \"white head clear golden golden hue bright white Poured head Good lacing clear golden hue\", \"groups\": false, \"x\": 14.93438720703125, \"y\": 5.66137170791626}, {\"text\": \"amber hues clear gold Pours hues finger width spotty lacing clear gold amber honey\", \"groups\": false, \"x\": 12.874470710754395, \"y\": 8.058682441711426}, {\"text\": \"straw highlights golden hue crystal-clear light light golden light light foamy pours highlights crystal-clear golden\", \"groups\": false, \"x\": 13.5899658203125, \"y\": 9.212712287902832}, {\"text\": \"pint glass Pours clear Poured glass golden color quickly leaves pint Aroma one-finger off-white off-white head\", \"groups\": false, \"x\": 14.774805068969727, \"y\": 5.372422695159912}, {\"text\": \"Caldera IPA subsequent trade IPA Caldera Lost Abbey thirstyhophead threw trade Abbey chalice Coors Light\", \"groups\": false, \"x\": 13.71968936920166, \"y\": 4.894012451171875}, {\"text\": \"moderate bitterness clear golden white head average retention primarily tropical pretty nice light-medium carbonation simple pale clean citrus citrus bite\", \"groups\": false, \"x\": 15.022579193115234, \"y\": 9.10922908782959}, {\"text\": \"Tidewater Virginia Virginia area Grape Tidewater Virginia Gourmet area average fairly hops\", \"groups\": false, \"x\": 14.693610191345215, \"y\": 5.814969539642334}, {\"text\": \"finger deep white head pale straw deep white Cascade hoppiness flowery Cascade Pours bubbly finger head\", \"groups\": false, \"x\": 12.77574634552002, \"y\": 7.37598180770874}, {\"text\": \"pint glass glass colored head pint clear gold foamy cream cream colored stays strong back lacing back\", \"groups\": false, \"x\": 16.135465621948242, \"y\": 8.473705291748047}, {\"text\": \"Beer Run Bowl Sunday Super Bowl Charlottesville Run Sunday Beer Super Bowl traditional American\", \"groups\": false, \"x\": 15.14775562286377, \"y\": 5.71731424331665}, {\"text\": \"hopped background pale golden golden hue substantial fluffy fluffy head appetizing sweet sweet spicy spicy malts floral hopped Pours\", \"groups\": false, \"x\": 14.338215827941895, \"y\": 9.473258018493652}, {\"text\": \"light nonic slight haze Pale Ale pale golden golden hue light hop pale Bell Hopslam hops\", \"groups\": true, \"x\": 15.611458778381348, \"y\": 7.885181903839111}, {\"text\": \"yellowish amber Rolling Rock pale yellowish amber pale yellowish Rock Tropical fruit Rolling kinda\", \"groups\": false, \"x\": 13.601826667785645, \"y\": 9.197214126586914}, {\"text\": \"light white head slightly hazy hazy golden golden color smaller sized citrus wet hay light honey light grapefruit\", \"groups\": false, \"x\": 16.393295288085938, \"y\": 7.993168354034424}, {\"text\": \"Reino poured pint glass Reino glass light good lacing courtesy poured pint decent creamy\", \"groups\": false, \"x\": 16.57183074951172, \"y\": 7.446865558624268}, {\"text\": \"Football LIF Survival Football LIF Survival Football McChouffe tulip golden yellow flexabull sending citrus\", \"groups\": false, \"x\": 15.00911808013916, \"y\": 5.709660053253174}, {\"text\": \"imperial pint Pretty simple Poured imperial pint Pretty bright golden golden color lazy trails Pours\", \"groups\": false, \"x\": 16.248165130615234, \"y\": 8.071277618408203}, {\"text\": \"Ashland beer flavor wanted unique hop flavor Oregon hop noticed creative spirit\", \"groups\": false, \"x\": 14.868667602539062, \"y\": 6.099935054779053}, {\"text\": \"grocery store Caldera Pale Pale Ale Caldera Ale store pint glass bought six-pack grocery\", \"groups\": true, \"x\": 13.686245918273926, \"y\": 4.986259937286377}, {\"text\": \"Yum craft brews canned craft package beer cools faster brews Decent head Golden color chill hazed love\", \"groups\": false, \"x\": 14.28834056854248, \"y\": 6.116865158081055}, {\"text\": \"golden color Nice golden color golden Nice pale ale slimy hops nice maltyness Feels\", \"groups\": true, \"x\": 13.321661949157715, \"y\": 7.347817420959473}, {\"text\": \"Golden amber finger head slightest haze nice sticky Golden Appearance head Juicy citrus cascade aroma Pale Ale\", \"groups\": true, \"x\": 13.649313926696777, \"y\": 9.493178367614746}, {\"text\": \"Caldera Pale foam head clear orange orange hue finger foam Pale Ale Ale poured Caldera Pale Ale\", \"groups\": true, \"x\": 13.509847640991211, \"y\": 4.985377311706543}, {\"text\": \"Town Pizza pint glass Town Pizza Portland pale ale Solid amber glass Drank pale\", \"groups\": true, \"x\": 13.553570747375488, \"y\": 5.3803300857543945}, {\"text\": \"UGLY BIF BIF UGLY Gotta love canned beers flexabull hops love craft craft canned pale\", \"groups\": false, \"x\": 14.649483680725098, \"y\": 6.438682556152344}, {\"text\": \"Slightly dinged-up Bottles Millwood Nigel Tufnel slightly bronzy big fingers Slightly fingers dinged-up white foam\", \"groups\": false, \"x\": 15.09177017211914, \"y\": 8.211971282958984}, {\"text\": \"Oregon Oregon brewed Vacationing aroma nice hop caramel malt citrus bubbles\", \"groups\": false, \"x\": 15.0348482131958, \"y\": 5.909678936004639}, {\"text\": \"yellow color white head dark golden golden yellow finger creamy creamy white sticky lacing nice nice carbonation lots\", \"groups\": false, \"x\": 12.592938423156738, \"y\": 8.257317543029785}, {\"text\": \"lightly sweet sweet malt,solid caramel base.An standard pint pint glass thinner white white head minmimal lace settled quickly.Fresh quickly.Fresh cascade\", \"groups\": false, \"x\": 15.199196815490723, \"y\": 8.90226936340332}, {\"text\": \"pint glass good citrus notes Poured notes pint glass liquid yellow citrus\", \"groups\": false, \"x\": 16.296207427978516, \"y\": 7.4204511642456055}, {\"text\": \"Caldera Pale Pale Ale moderate size tight white white head long lasting leaves thick thick hunks golden yellow Caldera\", \"groups\": true, \"x\": 13.666398048400879, \"y\": 5.079705715179443}, {\"text\": \"taste makes opens biscuity quickly fades ale aroma poor aroma slightly hazy hazy golden golden color modest head pale ale\", \"groups\": true, \"x\": 14.799484252929688, \"y\": 6.610343933105469}, {\"text\": \"Clear golden-orange golden-orange color small white white head Clear golden-orange color small white head\", \"groups\": false, \"x\": 13.000597953796387, \"y\": 9.524981498718262}, {\"text\": \"Pours golden eggshell white Slight lemony white head lemony Pours finger bit good head head retention\", \"groups\": false, \"x\": 13.51627254486084, \"y\": 6.9776835441589355}, {\"text\": \"glass tumbler Poured tumbler Nice Nice aroma glass yellow appearance Nice fluffy pale yellow appearance\", \"groups\": false, \"x\": 15.514069557189941, \"y\": 6.020452976226807}, {\"text\": \"Hazy yellow Hazy taste bad yellow wouldnt great Light mass-marketed yellow yellow brews\", \"groups\": false, \"x\": 13.452963829040527, \"y\": 5.896050453186035}, {\"text\": \"yellow-orange body wispy white white head Pours Appearance hazy yellow-orange thin wispy head\", \"groups\": false, \"x\": 13.818842887878418, \"y\": 5.129689693450928}, {\"text\": \"CEO BIF pale ale classic pale BIF CEO ale classic pale courtesy unclejedi\", \"groups\": true, \"x\": 13.486605644226074, \"y\": 5.489409923553467}, {\"text\": \"Golden amber white head amber body solid finger thick white hops Pale Golden head tart\", \"groups\": false, \"x\": 13.289207458496094, \"y\": 9.499706268310547}, {\"text\": \"Pale Ale Dale Pale road trip recent road Dale Pale Ale trip time yesterday bit lighter\", \"groups\": true, \"x\": 12.842879295349121, \"y\": 5.449666976928711}, {\"text\": \"Thoughtfully provided Boston Lager Thoughtfully flexabull provided Aroma floral hops Boston Lager\", \"groups\": false, \"x\": 15.407952308654785, \"y\": 7.458026885986328}, {\"text\": \"gold color white head clear gold big impressive impressive white light Pours color head APA\", \"groups\": false, \"x\": 13.208453178405762, \"y\": 6.1339030265808105}, {\"text\": \"great trade msbulldog nice great trade average nice hsss nice carbonation trust man\", \"groups\": false, \"x\": 15.371304512023926, \"y\": 5.577704906463623}, {\"text\": \"surface covering ounces oxidation whatsoever sloshed short-filled measured affect flavor covering sweetish\", \"groups\": false, \"x\": 14.90949821472168, \"y\": 9.088338851928711}, {\"text\": \"Hops flavor Wow hops Czech hops time drank beer flavor pine hops Pretty crystal\", \"groups\": false, \"x\": 15.019506454467773, \"y\": 5.9497389793396}, {\"text\": \"simple classy classy labeling hop flowers beer movement craft beer Presentation beer simple including classy\", \"groups\": false, \"x\": 15.894015312194824, \"y\": 6.026259899139404}, {\"text\": \"golden color-very color-very clear-a clear-a tad tad deeper Great golden Good pales Great golden color-very\", \"groups\": false, \"x\": 13.491609573364258, \"y\": 6.338710784912109}, {\"text\": \"white head clear golden foamy white nice clear golden pale nice Smells nice Pours head hop aroma\", \"groups\": false, \"x\": 13.101716041564941, \"y\": 5.393131256103516}, {\"text\": \"white white white head thin white head white nice head bitter pour thin Pale Ale\", \"groups\": true, \"x\": 12.898029327392578, \"y\": 5.486538410186768}, {\"text\": \"camping beer review sake deep golden foamy cap perfect camping active carbonation lovely white white foamy Pours British IPA\", \"groups\": false, \"x\": 12.912899017333984, \"y\": 5.920846462249756}, {\"text\": \"Pale Ale Caldera Pale nice pale Pale Ale Caldera nice beer good neighbor\", \"groups\": true, \"x\": 13.433008193969727, \"y\": 5.1444315910339355}, {\"text\": \"Craft brew Craft floral hops brew floral hops malt caramel nice caramel malt\", \"groups\": false, \"x\": 15.461134910583496, \"y\": 6.117949962615967}, {\"text\": \"Dark honey slightest suggestion criminal offense Dark orange cream colored honey slightest suggestion colored head\", \"groups\": false, \"x\": 13.92190933227539, \"y\": 6.235814094543457}, {\"text\": \"simple silver calderon surrounded hop leafs simple front excellent lacing silver calderon surrounded hop\", \"groups\": false, \"x\": 16.658958435058594, \"y\": 6.669097423553467}, {\"text\": \"light oily piny oily gold yellow shiny body earthy malt grapefruit lemon peel sticky bitter sticky mouth light orange\", \"groups\": false, \"x\": 12.902359008789062, \"y\": 9.368128776550293}, {\"text\": \"pint glass bottle glass off-white head pint slightly hazy hazy deep deep gold gold color notes\", \"groups\": false, \"x\": 12.941317558288574, \"y\": 8.310720443725586}, {\"text\": \"Wine Cellars Costa Mesa Hi-Time Wine past weekend Caldera IPA Wine Cellars Costa Mesa Picked\", \"groups\": false, \"x\": 15.318669319152832, \"y\": 8.04949951171875}, {\"text\": \"copper color clean white white head thick Zombie Dust golden copper float. Dust tonight nice\", \"groups\": false, \"x\": 13.402972221374512, \"y\": 7.385924339294434}, {\"text\": \"pint Pours white head hazy golden golden color fluffy white Pours pine head earthy poured\", \"groups\": false, \"x\": 16.182193756103516, \"y\": 7.2520036697387695}, {\"text\": \"spotty lacing excellent clarity off-white foam solid sheet pours honey strong spotty sweet malts Canned herbal hops citric hops\", \"groups\": false, \"x\": 14.940073013305664, \"y\": 8.464077949523926}, {\"text\": \"Duvel tulip Duvel tulip in-person trade DLD bit nice orange body date today\", \"groups\": false, \"x\": 14.379758834838867, \"y\": 9.20244026184082}, {\"text\": \"Glowing orange frothy ring pint glass white head Glowing amber color Poured orange amber ring\", \"groups\": false, \"x\": 14.651097297668457, \"y\": 9.203577995300293}, {\"text\": \"Deschutes Becker Becker style pint glass pale ale Deschutes Becker style pint pale ale Poured\", \"groups\": true, \"x\": 13.235445976257324, \"y\": 5.223163604736328}, {\"text\": \"perfect clarity big foamy foamy white white head Orange-yellow top taste citrus pine hops color\", \"groups\": false, \"x\": 13.439905166625977, \"y\": 8.747447967529297}, {\"text\": \"Standard lighter foamy head lighter yellow good foamy yellow pale pale ale Standard head good lighter\", \"groups\": true, \"x\": 13.764152526855469, \"y\": 5.539231300354004}, {\"text\": \"Hazy apricot apricot color solid frothy frothy eggshell eggshell colored colored head great retention hop notes Hazy lacing\", \"groups\": false, \"x\": 13.570015907287598, \"y\": 6.6662468910217285}, {\"text\": \"Good pale pale ale Good pale ale great golfing fare Tastes great great choice craft beer\", \"groups\": true, \"x\": 13.378687858581543, \"y\": 5.187152862548828}, {\"text\": \"pint glass Clear copper Slightly nutty glass Slightly poured pint Clear nutty floral\", \"groups\": false, \"x\": 16.468795776367188, \"y\": 7.308856964111328}, {\"text\": \"Aggressive pour pour yields Aggressive white head pour yields inch white head Bright citrus\", \"groups\": false, \"x\": 13.349251747131348, \"y\": 7.254720211029053}, {\"text\": \"small snifter Poured snifter small Slightly hazed drops slowly leaving film honking cream-colored cream-colored head big walls\", \"groups\": false, \"x\": 14.681358337402344, \"y\": 9.479615211486816}, {\"text\": \"Virginia Beach Beach Virginia caramel malts Purchased pint glass perfect pint nose Pale orange caramel\", \"groups\": false, \"x\": 15.423203468322754, \"y\": 9.15615463256836}, {\"text\": \"hazy pale pale orange hazy orange pale white head fluffy white slightly bitterness reasonable retention\", \"groups\": false, \"x\": 13.279640197753906, \"y\": 9.322037696838379}, {\"text\": \"Sam Adams Sam Adams Pours straw-colored Pale Ale crisp glass hops Pours chill haze\", \"groups\": true, \"x\": 13.278158187866211, \"y\": 7.274855136871338}, {\"text\": \"pint glass straw liquid white head pale golden Poured golden head Nice pint glass\", \"groups\": false, \"x\": 14.657662391662598, \"y\": 5.6494879722595215}, {\"text\": \"BBQ beer Mild sweetness crisp grassy summer BBQ golden color piney type medium bodied decent pale hop scent herbal hop\", \"groups\": false, \"x\": 13.429553031921387, \"y\": 7.255879878997803}, {\"text\": \"pours clear pale orange head pours clear pale yellow white head orange palate\", \"groups\": false, \"x\": 14.643913269042969, \"y\": 9.565274238586426}, {\"text\": \"excellent retention lasting cap hazy dark dark golden golden yellow yellow color finger off-white off-white head slowly fading hints\", \"groups\": false, \"x\": 13.41156005859375, \"y\": 9.251978874206543}, {\"text\": \"DFH pint DFH pint glass Poured pint nose glass canning date nice pale\", \"groups\": false, \"x\": 16.050811767578125, \"y\": 6.669146537780762}, {\"text\": \"pours straw white head straw gold thick white pine slight pine pours head aroma sugar\", \"groups\": false, \"x\": 13.399680137634277, \"y\": 6.7759175300598145}, {\"text\": \"bit schmoopsbeer sending good grassy hops light Pour yields good off-white bit grainy\", \"groups\": false, \"x\": 12.5829439163208, \"y\": 7.882140636444092}, {\"text\": \"Pint App Light yellow light orange orange highlights Light App Pint medium review highlights\", \"groups\": false, \"x\": 13.665717124938965, \"y\": 6.256378650665283}, {\"text\": \"pour great sweet love Sierra Nevada Sierra smells malt amber pour Pours\", \"groups\": false, \"x\": 15.167180061340332, \"y\": 6.113444805145264}, {\"text\": \"finger thick white head Pours body Pink grapefruit Slightly hazy grapefruit Nice hazy body dry\", \"groups\": false, \"x\": 13.697071075439453, \"y\": 5.274848937988281}, {\"text\": \"Dark yellow Review notes Hops good head visiting family Dark Bitter great pour malt balances\", \"groups\": false, \"x\": 13.049528121948242, \"y\": 7.497933387756348}, {\"text\": \"style nicely Pale Ale Ale style beer exemplifies citrusy hops beer pour Pale Ale beer Ale appearance\", \"groups\": true, \"x\": 14.747786521911621, \"y\": 8.824667930603027}, {\"text\": \"weeks back couple weeks Live Product Calderas times undated buddy back number fresh\", \"groups\": false, \"x\": 14.904175758361816, \"y\": 5.486705780029297}, {\"text\": \"exceptionally creamy cloudy golden yellow body golden yellow creamy head head atop yellow closer lemon yellow yellow body\", \"groups\": false, \"x\": 15.240889549255371, \"y\": 9.503061294555664}, {\"text\": \"pint pot young pint Bright gold Bright pot gold half poured young pint\", \"groups\": false, \"x\": 15.298137664794922, \"y\": 5.374380588531494}, {\"text\": \"Love IPA guys give golden yellow light golden IPA available. bit hops malts\", \"groups\": false, \"x\": 13.860910415649414, \"y\": 6.951428413391113}, {\"text\": \"clear golden overly-agressive pour golden color filled half massive head Bright head clear pour Head settles\", \"groups\": false, \"x\": 13.15531063079834, \"y\": 7.1175055503845215}, {\"text\": \"LIF malt pale malt putting brought Clear straw yellow body straw yellow head pale\", \"groups\": false, \"x\": 15.097183227539062, \"y\": 9.578771591186523}, {\"text\": \"pint glass imperial pint glass citrus Sweet poured imperial pint forward canned beer\", \"groups\": false, \"x\": 15.535479545593262, \"y\": 8.194707870483398}, {\"text\": \"Ohio Toledo Andersons Grabbed single burnt sugar Pours Bright hop brilliant deep deep straw\", \"groups\": false, \"x\": 14.94460678100586, \"y\": 8.182351112365723}, {\"text\": \"unknown date unknown date Pours semi-hazy semi-hazy golden fair cap orange oranges finger fluffy fluffy white\", \"groups\": false, \"x\": 15.994658470153809, \"y\": 8.68901538848877}, {\"text\": \"care Full Sail pale Sail Pale Pale Ale good decent head good lace orange beer\", \"groups\": true, \"x\": 16.624744415283203, \"y\": 6.740933895111084}, {\"text\": \"golden orange slightly fizzy fizzy brew fluffy off-white off-white head constricts slowly outright fading slight fluffy slight caramel slight\", \"groups\": false, \"x\": 13.187071800231934, \"y\": 9.219429969787598}, {\"text\": \"apricot orange clear apricot Pours honey orange Bready caramel clear apricot hops finger sticky-looking\", \"groups\": false, \"x\": 14.254133224487305, \"y\": 9.523005485534668}, {\"text\": \"fingers foamy white head foamy white Pours clear light light yellow fingers head Lots light\", \"groups\": false, \"x\": 14.583560943603516, \"y\": 9.410686492919922}, {\"text\": \"Floral notes light booze golden color white head biscuity notes Nice feel Floral nice golden Caramel West Coast\", \"groups\": false, \"x\": 13.289917945861816, \"y\": 7.79182767868042}, {\"text\": \"hazy amber finger offwhite offwhite head head thst amber body long lasting dispenses hazy amber attractive\", \"groups\": false, \"x\": 15.979940414428711, \"y\": 8.688014030456543}, {\"text\": \"grey market Ohio imported beer surfaced market stumbled surfaced grey beer orange\", \"groups\": false, \"x\": 12.850200653076172, \"y\": 7.891422271728516}, {\"text\": \"Poured snifter golden body off-white head crystal clear finger worth rest atop Simcoe head Faint streams\", \"groups\": false, \"x\": 15.389582633972168, \"y\": 6.805125713348389}, {\"text\": \"Brewing Company Caldera Brewing Caldera Pale Caldera Company Brewing ABV Pale Ale IBU\", \"groups\": true, \"x\": 14.017224311828613, \"y\": 4.775578022003174}, {\"text\": \"solid APA bit non-descript APA cleanest flavor flavor profile hops bittering non-descript style Nice carbonation hops\", \"groups\": false, \"x\": 13.192676544189453, \"y\": 7.294989585876465}, {\"text\": \"bit degrees caramel Poured tumbler Medium yellow eggshell white finger width width head yellow body\", \"groups\": false, \"x\": 15.892627716064453, \"y\": 6.702357292175293}, {\"text\": \"Mag Oct Beer review Oct Mag craft beers canned beer Beer review surrounds canned bottle color\", \"groups\": false, \"x\": 15.760822296142578, \"y\": 5.795783519744873}, {\"text\": \"nice citrus crisp mouthfeel light bodied citrus hop bready malts hop aroma malt backbone clear orangish orangish rust rust color\", \"groups\": false, \"x\": 13.855287551879883, \"y\": 8.991183280944824}, {\"text\": \"date Poured refreshing slightly shown clear orange white head Poured freshness date half-inch white quickly\", \"groups\": false, \"x\": 16.724346160888672, \"y\": 7.05954647064209}, {\"text\": \"golden color slow dissipating dissipating head leaves decent decent lacing Pours Toasted bready Appearance light golden floral hops\", \"groups\": false, \"x\": 15.05134391784668, \"y\": 9.545266151428223}, {\"text\": \"American West West Coast Light caramel Coast IPA floral notes amber color pale amber nice white white head good carbonation\", \"groups\": false, \"x\": 14.202359199523926, \"y\": 7.290806293487549}, {\"text\": \"vet BIF BIF Flexabull brew sending vet canned brews glass APA heading pint glass\", \"groups\": false, \"x\": 14.127225875854492, \"y\": 5.78489875793457}, {\"text\": \"Pale amber beutifully clear white head nice white Pale Sweet fruit fruit flavor Sweet caramel flavor Sweet\", \"groups\": false, \"x\": 13.73218822479248, \"y\": 9.449250221252441}, {\"text\": \"Golden amber big foamy foamy head Golden top amber big foamy head floats\", \"groups\": false, \"x\": 13.469422340393066, \"y\": 9.404997825622559}, {\"text\": \"received dogfish head head signature lasting head extra remember hazy gold signature glass short lasting interestingly left\", \"groups\": false, \"x\": 15.748835563659668, \"y\": 5.9583587646484375}, {\"text\": \"Abe Cold Thai curry good combo couple bucks Cold Beer Abe Cold Thai Picked curry\", \"groups\": false, \"x\": 14.836003303527832, \"y\": 8.371777534484863}, {\"text\": \"dark golden light-colored pale Pour dark golden frothy half half inch bubbly white white goodness light-colored\", \"groups\": false, \"x\": 13.391176223754883, \"y\": 8.822518348693848}, {\"text\": \"Sam Adams Adams glass Sam Adams Poured glass pale body pale gold date\", \"groups\": false, \"x\": 16.206295013427734, \"y\": 6.756550312042236}, {\"text\": \"received today great trader good russpowell received today great trader Russ hops\", \"groups\": false, \"x\": 15.903578758239746, \"y\": 6.413811683654785}, {\"text\": \"Bright golden notes Taste-biscuit glass Bright Poured dense head grapefruit peel drinkable APA-out citrus rind subtle hop hop bite\", \"groups\": false, \"x\": 16.341461181640625, \"y\": 6.846902847290039}, {\"text\": \"Pours golden white foam sized white medium sized Pours foam golden sized white bready\", \"groups\": false, \"x\": 12.205997467041016, \"y\": 6.437567710876465}, {\"text\": \"dense white white head massive cascading carbonation rising herbal hops Golden surface West Coast Pale Ale dense\", \"groups\": true, \"x\": 13.793879508972168, \"y\": 5.3620781898498535}, {\"text\": \"nice gold gold color thick frothy frothy white white head slowly fades good beer pours lacing pale\", \"groups\": false, \"x\": 12.548471450805664, \"y\": 5.886697769165039}, {\"text\": \"straight glass Poured IPA light straight glass cloudy yellow pineapple juice minimal lacing thin cap white head\", \"groups\": false, \"x\": 15.47392749786377, \"y\": 6.671356678009033}, {\"text\": \"mixed sixer Abe Tregs shaker ounce sixer Cracked open picked part mixed Tregs\", \"groups\": false, \"x\": 16.558795928955078, \"y\": 6.487705230712891}, {\"text\": \"bronze Big eggshell eggshell head beer bitterness Brilliantly clear malt nice Big head\", \"groups\": false, \"x\": 13.191781044006348, \"y\": 9.688167572021484}, {\"text\": \"regular kitchen kitchen glass Bright white Bright nice bright snowstorm white golden regular kitchen glass\", \"groups\": false, \"x\": 13.829913139343262, \"y\": 5.33144474029541}, {\"text\": \"gold color clear bright bright gold color APA hop clear bright gold Nice\", \"groups\": false, \"x\": 13.23973560333252, \"y\": 7.5200982093811035}, {\"text\": \"mark point find limit wondered CANQuest breached realize sky unsolicited BeerMails\", \"groups\": false, \"x\": 15.738866806030273, \"y\": 5.789412021636963}, {\"text\": \"basic blonde decent lacing mild white white head basic blonde mild head decent lacing\", \"groups\": false, \"x\": 13.673785209655762, \"y\": 7.57990026473999}, {\"text\": \"white head quickly dicipating decent lacing yello color frothy white straw yello pale straw Pours head quickly\", \"groups\": false, \"x\": 12.829316139221191, \"y\": 5.602348804473877}, {\"text\": \"home tonight Brewforia tonight Delirium goblet picked home paid Delirium Nose descent\", \"groups\": false, \"x\": 13.318568229675293, \"y\": 5.339597225189209}, {\"text\": \"amazingly clear golden pour fluffy white white head pale ale refreshing citrus pale clear golden top\", \"groups\": true, \"x\": 13.163267135620117, \"y\": 5.386120796203613}, {\"text\": \"Hazy golden golden orange huge off-white off-white head Hazy finger head head slowly head Big citrus pale ale\", \"groups\": true, \"x\": 13.476668357849121, \"y\": 8.626595497131348}, {\"text\": \"moderate carbonation moderate citrusy golden amber nice backbone sessionable beer pretty easy biscuity maltiness alcohol evident bright golden perfectly clear\", \"groups\": false, \"x\": 14.15857982635498, \"y\": 7.713404655456543}, {\"text\": \"Great pale Great pale ale pale ale balanced blahh category category refreshing sticks\", \"groups\": true, \"x\": 13.052116394042969, \"y\": 5.367429256439209}, {\"text\": \"orange side beer pours extremely clear clear yellow yellow leaning Appearance golden orange side clouds forming\", \"groups\": false, \"x\": 12.774492263793945, \"y\": 5.727004528045654}, {\"text\": \"clear gold sticky white white head complex malts glass leafy hop equally bold pours clear gold\", \"groups\": false, \"x\": 12.97467041015625, \"y\": 6.233327865600586}, {\"text\": \"pint glass Poured glass pint Pretty foamy head nice beer cloudy golden-straw golden-straw hue\", \"groups\": false, \"x\": 12.460515975952148, \"y\": 6.098943710327148}, {\"text\": \"glass Pours pint glass bright yellow nice head Pours head lacing Smells slightly slightly hoppy wet greens\", \"groups\": false, \"x\": 16.505029678344727, \"y\": 7.3187642097473145}, {\"text\": \"great retention bright orange modest head showed great hops grain Appearance retention bright orange\", \"groups\": false, \"x\": 13.463744163513184, \"y\": 9.015928268432617}, {\"text\": \"Outlet Liquors Rehoboth Beach poured chilled half pint Outlet Liquors Rehoboth Beach poured pint\", \"groups\": false, \"x\": 14.058560371398926, \"y\": 6.586373329162598}, {\"text\": \"white head compact fizzy fizzy white head finger compact fizzy white slightly Moderate retention\", \"groups\": false, \"x\": 13.757412910461426, \"y\": 9.089080810546875}, {\"text\": \"Kegatron hop bite Nice bite Sly Fox Fox Phoenix A-Bright golden spotty lace hops hop\", \"groups\": false, \"x\": 13.301589012145996, \"y\": 9.012322425842285}, {\"text\": \"Oregon brewer solid lace dark yellow white head guys finally finally showed Southland Pours Oregon yellow\", \"groups\": false, \"x\": 14.059992790222168, \"y\": 4.789149761199951}, {\"text\": \"minimal head opaque deep deep sable head pour Pacific Northwest coffee high-quality coffee Smoky aroma tap\", \"groups\": false, \"x\": 11.660354614257812, \"y\": 7.72493839263916}, {\"text\": \"Red Star Star Tavern Roast House downtown Portland Served on-tap Red Tavern Roast Portland Star\", \"groups\": false, \"x\": 11.7014799118042, \"y\": 7.380517482757568}, {\"text\": \"tan head thin tan black head roasted malt style thin tan nose Good lace\", \"groups\": false, \"x\": 13.248954772949219, \"y\": 9.633399963378906}, {\"text\": \"Horse Brass Brass Pub Portland Horse Brass Pub tap deep brown Slight coffee head\", \"groups\": false, \"x\": 11.609885215759277, \"y\": 7.35361385345459}, {\"text\": \"Bailey Taproom Oregon Portland August Bailey Taproom roasted malt coffee tap tan head\", \"groups\": false, \"x\": 11.585149765014648, \"y\": 7.13803768157959}, {\"text\": \"Wonderful fluffy headed porter fluffy full full headed Wonderful porter Great fluffy full headed\", \"groups\": false, \"x\": 11.639365196228027, \"y\": 6.487645149230957}, {\"text\": \"deep black tan colored colored head Appearance deep tan roasted roasted malts black colored\", \"groups\": false, \"x\": 11.809248924255371, \"y\": 6.485149383544922}, {\"text\": \"Southeast Portland Pilot Rock Rock Porter Night Light Light Lounge Clinton Street Street Theater Portland Rock Night\", \"groups\": false, \"x\": 10.684992790222168, \"y\": 7.185072898864746}, {\"text\": \"Pilot Rock ruby highlights Rock thin head Pilot lace Siskiyou Pub brown ruby highlights\", \"groups\": false, \"x\": 10.792074203491211, \"y\": 7.16419792175293}, {\"text\": \"pint glass belgian yeast Poured bottle glass dark fruits pint Sweet dark clear garnet garnet color\", \"groups\": false, \"x\": 13.275433540344238, \"y\": 8.73153305053711}, {\"text\": \"khaki head thin ring dark mahogany pours lacing roasted malt mahogany finger khaki head\", \"groups\": false, \"x\": 13.42252254486084, \"y\": 9.531991004943848}, {\"text\": \"cheers John Pours chestnut tan head Nashvillian John Pours Rich dark Average head head retention cheers\", \"groups\": false, \"x\": 12.514612197875977, \"y\": 8.460084915161133}, {\"text\": \"amber hue slightly reddish reddish amber dissipates quickly Drank hue completely good orange chocolate slightly\", \"groups\": false, \"x\": 13.36652946472168, \"y\": 6.4372453689575195}, {\"text\": \"tulip glass Roasted malt Deep mahogany chocolate Roasted Poured glass orange malt Deep\", \"groups\": false, \"x\": 12.560904502868652, \"y\": 8.551396369934082}, {\"text\": \"Piraat tulip Piraat dark fruits dark dark copper Poured bottle tulip brown body lazy tan\", \"groups\": false, \"x\": 13.443800926208496, \"y\": 7.929266929626465}, {\"text\": \"left atop bronze type type color nice thin thin layer lace left coppery atop dark Malty\", \"groups\": false, \"x\": 13.137700080871582, \"y\": 9.659246444702148}, {\"text\": \"pint glass Malty Poured glass bottle pint Pours Smell dark redish redish amber\", \"groups\": false, \"x\": 14.459863662719727, \"y\": 9.479022026062012}, {\"text\": \"pours clear clear dark dark brown barley malt malt pours ruby barley hops clear\", \"groups\": false, \"x\": 14.62763500213623, \"y\": 9.460281372070312}, {\"text\": \"amber highlights dark brown highlights lacing dark malts brown amber head medicine\", \"groups\": false, \"x\": 12.99167251586914, \"y\": 9.474320411682129}, {\"text\": \"taster glasses hard candy poured bottle buddy couple taster glasses fading carbonation Dark amber\", \"groups\": false, \"x\": 13.254609107971191, \"y\": 9.016705513000488}, {\"text\": \"touch orange based label give glass head bit brown bit disturbing\", \"groups\": false, \"x\": 12.614449501037598, \"y\": 8.784747123718262}, {\"text\": \"Grabbed Belgian yeast store orange brown brown color murky orange fluffy tan tan colored colored head bottle\", \"groups\": false, \"x\": 12.356522560119629, \"y\": 6.859739303588867}, {\"text\": \"reddish brown Pours brown reddish Fairly clear white head dark orange Brown sugar Fairly\", \"groups\": false, \"x\": 12.731690406799316, \"y\": 8.79068374633789}, {\"text\": \"dark amber Smell non-existent amber light light head trapped effervescent surface dark head tops\", \"groups\": false, \"x\": 12.231151580810547, \"y\": 7.201366901397705}, {\"text\": \"awesome color small amounts dark brown small amount color edges slight amount awesome dark\", \"groups\": false, \"x\": 12.209185600280762, \"y\": 7.0997395515441895}, {\"text\": \"pie crust awesome label brown sugar Poured Blood orange sugar awesome brown pie crust\", \"groups\": false, \"x\": 12.310768127441406, \"y\": 8.006532669067383}, {\"text\": \"great extra caramel month yeast inflatablechair sending great extra saturday night toasted malt\", \"groups\": false, \"x\": 12.667428970336914, \"y\": 8.7028226852417}, {\"text\": \"BIF Lazerlobe beer good back pretty good dark orange pretty flavors\", \"groups\": false, \"x\": 11.991997718811035, \"y\": 7.300739288330078}, {\"text\": \"Pecan shell cherry red burnt orange Belgian yeast shell dark dark brown dark cherry dark Pecan backlighting\", \"groups\": false, \"x\": 12.407919883728027, \"y\": 7.422967910766602}, {\"text\": \"Magazine Issue BeerAdvocate Magazine Jul Issue Crazy disturbing label Magazine Review disturbing WTF\", \"groups\": false, \"x\": 12.296592712402344, \"y\": 7.292880058288574}, {\"text\": \"Beer beer mug Beer poured citrus mug flavors poured bottle beer pours blended\", \"groups\": false, \"x\": 12.626709938049316, \"y\": 6.21994686126709}, {\"text\": \"brown head dark brown light brown brown beer orange medium light yeast head flavor\", \"groups\": false, \"x\": 12.268824577331543, \"y\": 7.374070167541504}, {\"text\": \"deep ruby brown highlights frothy head Dark fruits Pours Dark translucent deep highlights capped\", \"groups\": false, \"x\": 13.313061714172363, \"y\": 8.590536117553711}, {\"text\": \"brought home green olive Roommates green brought home bottle olive spice Clear\", \"groups\": false, \"x\": 12.941591262817383, \"y\": 8.04440689086914}, {\"text\": \"glass Pours pint glass rich reddish-brown Pours murky amply carbonated bomber pint glass rich\", \"groups\": false, \"x\": 15.970534324645996, \"y\": 7.2053728103637695}, {\"text\": \"Chilled bottle Chilled glass bottle generous gift Frank orange nuts flavors Pours\", \"groups\": false, \"x\": 13.854537963867188, \"y\": 8.107763290405273}, {\"text\": \"Vas Deferens scattered lace Bomber poured large goblet leaves light dark garnet garnet brown small eggshell eggshell head Vas\", \"groups\": false, \"x\": 12.374902725219727, \"y\": 7.290153503417969}, {\"text\": \"bottle Pours mahogany amber hue half inch inch head malt Hints chocolate-laced malt raisins lacing thoughout\", \"groups\": false, \"x\": 15.198652267456055, \"y\": 9.311476707458496}, {\"text\": \"pretty excited Caldera Chocolate Orange light limited end M-watery pretty excited chocolate-Terry Chocolate Orange\", \"groups\": false, \"x\": 13.76109504699707, \"y\": 4.960450172424316}, {\"text\": \"Westmalle chalice partial cover perfectly clear short off-white off-white head falls quickly Westmalle ruby pour chalice\", \"groups\": false, \"x\": 12.308903694152832, \"y\": 6.170236587524414}, {\"text\": \"bottle sharing tan head clear brown brown color toffee beer Medium beer pours head\", \"groups\": false, \"x\": 12.477646827697754, \"y\": 6.145297527313232}, {\"text\": \"time brew rotating beer Limited Small Kettle Series Seasonal Release Caldera Kettle Small Batch Batch Seasonal limited sweet\", \"groups\": false, \"x\": 12.889538764953613, \"y\": 6.396778583526611}, {\"text\": \"equally interesting Vas Deferens Deferens pours interesting beer bit interesting nice chocolate equally Deferens\", \"groups\": false, \"x\": 12.40329360961914, \"y\": 6.284682750701904}, {\"text\": \"Vas Deferens devil ripping vasa deferentia hilarious label Vas Deferens label states label snip vasectomy\", \"groups\": false, \"x\": 13.197099685668945, \"y\": 7.871984004974365}, {\"text\": \"white head ale brewed medium white Pours dark burnt orange orange bitters Definite orange orange zest burnt orange\", \"groups\": false, \"x\": 12.567622184753418, \"y\": 7.575808048248291}, {\"text\": \"Strong hop hop bittering bittering married coffee-enhanced roastiness surprising malt malt turnaround Strong finish hop bittering\", \"groups\": false, \"x\": 12.187590599060059, \"y\": 6.405095100402832}, {\"text\": \"bomber poured bomber snifter Dark smokey char motor oil poured Pours thick motor smokey\", \"groups\": false, \"x\": 11.121185302734375, \"y\": 7.282479286193848}, {\"text\": \"roasted malts Received ArchEnemyBrew dark malts trade deep black mahogany head roasted bitter\", \"groups\": false, \"x\": 11.99709701538086, \"y\": 6.982131004333496}, {\"text\": \"snifters Pours Pours black bottle split large snifters Pours bottle head split large snifters\", \"groups\": false, \"x\": 11.808684349060059, \"y\": 6.724451541900635}, {\"text\": \"dark fruit nice American American impy Pours jet fruit dominate jet black retained deep deep mocha mocha colored colored head,even\", \"groups\": false, \"x\": 11.835036277770996, \"y\": 6.457108974456787}, {\"text\": \"cheers John charred grain Nashvillian John charred Baker chocolate Imp Stout grain Chocolate cheers\", \"groups\": false, \"x\": 12.206786155700684, \"y\": 8.262950897216797}, {\"text\": \"Mud black colored head leather colored Mud frothy tan tan leather thick frothy head good\", \"groups\": false, \"x\": 12.297226905822754, \"y\": 8.602910995483398}, {\"text\": \"Pours black tan head Dark chocolate medium frothy frothy tan Pours solid lace Dark good retention RIS\", \"groups\": false, \"x\": 11.356621742248535, \"y\": 6.390673637390137}, {\"text\": \"inch puffy small cap opaque black puffy khaki khaki head roasted malt dark roasted dark Pours inch\", \"groups\": false, \"x\": 11.636054992675781, \"y\": 6.5946784019470215}, {\"text\": \"Imperial stout dark beer Imperial stout dark black light light brown brown colored quick sucka\", \"groups\": false, \"x\": 13.167280197143555, \"y\": 5.1256422996521}, {\"text\": \"brown head Pours pitch pitch black roasted malts Pours foamy brown head Great retention pitch\", \"groups\": false, \"x\": 11.887160301208496, \"y\": 6.5296711921691895}, {\"text\": \"Black black strap strap molasses abv Light molasses black berry Pleasant licorice strap hints\", \"groups\": false, \"x\": 12.98924732208252, \"y\": 7.933691024780273}, {\"text\": \"Opaque black licorice Poured bottle tulip licorice flavor Opaque Roasted malt Leaves Bitter chocolate\", \"groups\": false, \"x\": 11.680310249328613, \"y\": 7.074905872344971}, {\"text\": \"Founders tulip Founders Poured tulip dark read good good things cocoa nibs licorice rich\", \"groups\": false, \"x\": 12.514869689941406, \"y\": 7.647740840911865}, {\"text\": \"absolutely heavenly quality coffee sweet chocolate firm tones molasses licorice Aroma heavenly quality coffee\", \"groups\": false, \"x\": 11.921011924743652, \"y\": 7.915890693664551}, {\"text\": \"bottle split Duvel tulip top oglmcdgl great retention bottle split khaki colored Growth Duvel\", \"groups\": false, \"x\": 12.572905540466309, \"y\": 7.609964370727539}, {\"text\": \"duvel tulips bottle split big coffee tulips big swath big seam big island bottle split\", \"groups\": false, \"x\": 11.66710376739502, \"y\": 6.450267791748047}, {\"text\": \"Pours dark dark brown amber edges decent lacing tan head quickly falls leave decent light tan slight coffee Pours\", \"groups\": false, \"x\": 11.950329780578613, \"y\": 6.406362056732178}, {\"text\": \"tasty jet black black color light light brown nice beer jet black color\", \"groups\": false, \"x\": 12.534955978393555, \"y\": 6.057509899139404}, {\"text\": \"Delicious full full bodied bodied stout sugary fruit Delicious trimmings full bodied stout end\", \"groups\": false, \"x\": 13.904095649719238, \"y\": 4.847854137420654}, {\"text\": \"massive snifter poured snifter thing massive inky black Pours dark burnt dark coffee\", \"groups\": false, \"x\": 11.652962684631348, \"y\": 6.847817897796631}, {\"text\": \"Quarter finger Vintage Good Beer Good beer Quarter Coffee cocoa Extra roasty malt\", \"groups\": false, \"x\": 11.496047973632812, \"y\": 6.218893527984619}, {\"text\": \"foam head pint glass beige foam beer pours Served head coffee pint glass pours\", \"groups\": false, \"x\": 11.806944847106934, \"y\": 6.661359786987305}, {\"text\": \"glass mug roasted malts light roasted Served mug glass malts good coffee\", \"groups\": false, \"x\": 11.668947219848633, \"y\": 6.981266498565674}, {\"text\": \"bottle snifter notes aroma licorice fairly cocoa fairly quickly Pours black dissipates fairly\", \"groups\": false, \"x\": 11.76576042175293, \"y\": 6.724966526031494}, {\"text\": \"big body Bitter chocolate coffee beans good carbonation booze sting bakers powder light funk nice brown brown cap dark black\", \"groups\": false, \"x\": 13.24284553527832, \"y\": 8.153459548950195}, {\"text\": \"Growth Imperial Imperial Stout scattered lace leaves light tan collar Bailey Growth Imperial Stout light\", \"groups\": false, \"x\": 11.621150970458984, \"y\": 6.950979709625244}, {\"text\": \"Bailey Taproom elusive brew Taproom Bailey Crude oil edition Snagged snifter elusive brew\", \"groups\": false, \"x\": 11.542357444763184, \"y\": 7.121747970581055}, {\"text\": \"Bailey Taproom VINTAGE found delicious glory VINTAGE Taproom Bailey rich rich rich notes sugars BOOYA\", \"groups\": false, \"x\": 11.56046199798584, \"y\": 7.106353759765625}, {\"text\": \"drinking Growth imperial stout pepper corns helpful advance Growth suffered pink pepper peculiar tapestry honey\", \"groups\": false, \"x\": 11.757524490356445, \"y\": 6.796324253082275}, {\"text\": \"standard head red pour red light red Copper pour standard ordinary light head\", \"groups\": false, \"x\": 13.594583511352539, \"y\": 7.6394147872924805}, {\"text\": \"Red mahagonny Red mahagonny thick fruit Yellow tinted tinted head stern authority berry Sticky lacing\", \"groups\": false, \"x\": 13.037557601928711, \"y\": 9.330124855041504}, {\"text\": \"Hop Red finger white white head pint glass tap handle orangish amber thick skim skim leaving stated Dry Red\", \"groups\": false, \"x\": 14.851505279541016, \"y\": 8.820990562438965}, {\"text\": \"sturdy head dark clear Ashland Amber clear amber amber color nice sturdy amber Beer pours nice Ashland\", \"groups\": false, \"x\": 13.58896541595459, \"y\": 6.496638298034668}, {\"text\": \"Decidedly crimson lowish retention off-white head slightly off-white clear Decidedly crimson retention finger off-white\", \"groups\": false, \"x\": 13.251260757446289, \"y\": 8.82595443725586}, {\"text\": \"Cascade hop hop smell expect brew ordered hop hop aroma supreme incarnation aroma stripped Cascade\", \"groups\": false, \"x\": 13.435676574707031, \"y\": 7.469775676727295}, {\"text\": \"Wonderful crisp dignified brewery Dry Hop Hop Orange hop Dry Orange fresh ale Wonderful crisp\", \"groups\": false, \"x\": 13.318059921264648, \"y\": 7.672265529632568}, {\"text\": \"Dry Hop Tap handle handle red Dry Orange Juice Tap red alas Hop Orange Orange\", \"groups\": false, \"x\": 13.268658638000488, \"y\": 7.845918655395508}, {\"text\": \"Caldera brew brew Ive fine Caldera Caldera Ive Siskiyou Pub beer fine brew waiting\", \"groups\": false, \"x\": 14.027016639709473, \"y\": 4.893149375915527}, {\"text\": \"Hop Orange Dry Hop tap pull Orange Dry hop aroma citrus hop Hop Wonderfully rich site\", \"groups\": false, \"x\": 13.414441108703613, \"y\": 7.9517035484313965}, {\"text\": \"Hawthorne Hophouse opened Hawthorne recently opened Hophouse Hawthorne tap recently opened beer intense\", \"groups\": false, \"x\": 13.321564674377441, \"y\": 6.426174640655518}, {\"text\": \"Bailey Taproom brown sugar Taproom Bailey mild Sampled golden highlights creamy white light brown pint\", \"groups\": false, \"x\": 14.902578353881836, \"y\": 9.462302207946777}, {\"text\": \"active beer Wow appearance smell Taste active beer haze white lace top forever Smell\", \"groups\": false, \"x\": 12.874680519104004, \"y\": 6.001108169555664}, {\"text\": \"Magazine Issue BeerAdvocate Magazine Jul Issue Magazine Review BeerAdvocate craft brewers bit beer\", \"groups\": false, \"x\": 12.659777641296387, \"y\": 6.1993560791015625}, {\"text\": \"Imperial Pint Shorts Imperial Brewforia big Shorts picked work Pint Kevin home Shorts\", \"groups\": false, \"x\": 13.152413368225098, \"y\": 5.357569217681885}, {\"text\": \"Bomber pours scattered lacing clear straw straw yellow yellow body small vanilla vanilla head quickly drops Bomber lacing\", \"groups\": false, \"x\": 12.054909706115723, \"y\": 6.269554615020752}, {\"text\": \"white head big chunky chunky fizzy fizzy effervescent effervescent pure pure white Adjunct Lager Lager standards Cracker head\", \"groups\": false, \"x\": 14.201725006103516, \"y\": 9.811487197875977}, {\"text\": \"pale golden golden color quickly dissipating dissipating head Pours Light hops Appearance Light grainy malts glass\", \"groups\": false, \"x\": 12.094243049621582, \"y\": 6.458709239959717}, {\"text\": \"bomber poured pint glass Pours yellow lager Lawnmower Lager Smells decent bomber glass Oregon Honey Honey Beer\", \"groups\": false, \"x\": 11.59557819366455, \"y\": 6.060990810394287}, {\"text\": \"weak head strong carbonation light yellow Pours head clear yellow strong carbonation weak\", \"groups\": false, \"x\": 12.215537071228027, \"y\": 6.143370628356934}, {\"text\": \"soft white white head Pours fairly good pale yellow bomber yellow soft head fairly\", \"groups\": false, \"x\": 11.579432487487793, \"y\": 6.047266006469727}, {\"text\": \"great price bottle price bucks style smell store great picked clear\", \"groups\": false, \"x\": 12.481218338012695, \"y\": 5.825087547302246}, {\"text\": \"pale yellow light beer Poured yellow light beer pale head whatsoever ABV whatsoever\", \"groups\": false, \"x\": 12.760802268981934, \"y\": 5.908567905426025}, {\"text\": \"bomber bread Slight aroma light whiffs Taste papery insipid pee pee colour. Macro-lager palate Slight light\", \"groups\": false, \"x\": 11.369063377380371, \"y\": 6.183850288391113}, {\"text\": \"Pours clear white head clear gold fluffy white Pours head Minor lacing clear gold finger\", \"groups\": false, \"x\": 13.131199836730957, \"y\": 5.872347354888916}, {\"text\": \"bottle beer fizzy start sharing side people afraid Bud Light washing dirt\", \"groups\": false, \"x\": 13.313346862792969, \"y\": 5.8716325759887695}, {\"text\": \"head whatsoever pale golden golden color whatsoever Lots pale golden color pretty head\", \"groups\": false, \"x\": 12.477336883544922, \"y\": 6.016084671020508}, {\"text\": \"glassy goldeness pine needles delicate floral small delicate floral hints small hints easy light glassy winter pine light\", \"groups\": false, \"x\": 13.580852508544922, \"y\": 6.5774006843566895}, {\"text\": \"Split floral bomber girlfriend picked clear gold white head small white roses rose\", \"groups\": false, \"x\": 12.394983291625977, \"y\": 6.5815629959106445}, {\"text\": \"Interesting beer Interesting beer Weird feel taste light cloudy orange white head decent white\", \"groups\": false, \"x\": 11.666019439697266, \"y\": 6.094162464141846}, {\"text\": \"pint glass Imperial Golden Pours orange orange golden golden color Poured bottle glass died instantly golden\", \"groups\": false, \"x\": 12.772893905639648, \"y\": 6.741760730743408}, {\"text\": \"beautiful beer tone beautiful floral Pours Pours crystal crystal clear glowing golden Head pours Nose\", \"groups\": false, \"x\": 12.553648948669434, \"y\": 6.4717183113098145}, {\"text\": \"drive home work tonight Brewforia Imperial Blonde rose picked rose petals rose water Guardian goblet drive\", \"groups\": false, \"x\": 12.662293434143066, \"y\": 6.571842670440674}, {\"text\": \"Appearance Slightly hazy off-white head good hoppy finish deep amber earthyness Taste Bitter hoppy finish\", \"groups\": false, \"x\": 13.214780807495117, \"y\": 9.376163482666016}, {\"text\": \"Clear light light copper Clear copper Pine floral light Thick offwhite offwhite head sweet caramel\", \"groups\": false, \"x\": 13.95291519165039, \"y\": 8.00105094909668}, {\"text\": \"head sticks cat piss thing strangely nice malt malt back mild carbonation day long bad thing Orange Smells\", \"groups\": false, \"x\": 14.382365226745605, \"y\": 5.233520030975342}, {\"text\": \"sending white head dark amber amber color nice beer pours beer flavor grapefruit pine\", \"groups\": false, \"x\": 13.733448028564453, \"y\": 6.527185440063477}, {\"text\": \"Slightly cloudy cloudy dark cream colored colored head Slightly dark orange Appearance Bready malt cloudy dark\", \"groups\": false, \"x\": 13.359318733215332, \"y\": 9.289207458496094}, {\"text\": \"Midtown Wine Wine Spirits Nashville Midtown quality IPA Purchased IPA hazy caramel caramel color\", \"groups\": false, \"x\": 14.556411743164062, \"y\": 6.083050727844238}, {\"text\": \"Light copper copper color Light Pour red Strong grapefruit front copper color glass nicely\", \"groups\": false, \"x\": 13.5935697555542, \"y\": 9.380983352661133}, {\"text\": \"sunburnt orange nice sunburnt Flavor Pours orange Lots good sunburnt Subtle head nice\", \"groups\": false, \"x\": 14.099071502685547, \"y\": 8.119475364685059}, {\"text\": \"Good hops citrus hops light amber golden clear white head citrus Good IPA piney clear color\", \"groups\": false, \"x\": 14.307090759277344, \"y\": 6.935817718505859}, {\"text\": \"Gotta love Massive pillowy Gotta pint glass love IPA standard pint Big Big hoppy hoppy\", \"groups\": false, \"x\": 15.138318061828613, \"y\": 7.2395405769348145}, {\"text\": \"Augustgarage trade head glass Taste heavy pine hop mellow nice\", \"groups\": false, \"x\": 15.383591651916504, \"y\": 7.357746601104736}, {\"text\": \"half-inch thick foamy head slightly hazy hazy golden-amber Caldera IPA IPA pours IPA Caldera thick foamy\", \"groups\": false, \"x\": 14.29483699798584, \"y\": 4.859281539916992}, {\"text\": \"Lovely orange-tan orange-tan color lasting head great lasting fresh hops Lovely color head lacing orange-tan\", \"groups\": false, \"x\": 12.598533630371094, \"y\": 8.656590461730957}, {\"text\": \"golden copper amber color off-white head dark golden dark ruby ruby red red edges edges hen hen held massive frothy\", \"groups\": false, \"x\": 13.746156692504883, \"y\": 9.039995193481445}, {\"text\": \"American Amber Amber Ale sweet side beer definately American Ale firm amber amber color Amber IPA\", \"groups\": false, \"x\": 14.554386138916016, \"y\": 7.373208045959473}, {\"text\": \"big Acquired pint glass TheManiacalOne glass hop notes beer nice pineapple\", \"groups\": false, \"x\": 15.127498626708984, \"y\": 8.654446601867676}, {\"text\": \"Reviewed Decent IPA hops citrus bitter IPA off-white head Pours head Aroma\", \"groups\": false, \"x\": 14.46561336517334, \"y\": 8.342025756835938}, {\"text\": \"copper color large offwhite offwhite head dies slow immense ring great copper citric notes citric great citric Pours\", \"groups\": false, \"x\": 14.017784118652344, \"y\": 9.21141529083252}, {\"text\": \"Nice amber amber color great head Nice lacing amber color great head outstanding IPA\", \"groups\": false, \"x\": 13.257911682128906, \"y\": 6.873940944671631}, {\"text\": \"pint glass Poured glass pint copper color small head good hazy copper hop drinkable IPA\", \"groups\": false, \"x\": 15.593612670898438, \"y\": 7.042265892028809}, {\"text\": \"HOPS hoppy beer citrus fruity notes beer foamy head Pours head hoppy\", \"groups\": false, \"x\": 13.80778980255127, \"y\": 7.350611686706543}, {\"text\": \"date Pours american pint dusty lace clouded orange deposits sheets inch head Pours Crackery caramel american lace\", \"groups\": false, \"x\": 15.860297203063965, \"y\": 7.383906841278076}, {\"text\": \"creamy foam creamy hop aroma cloudy caramel orange body oozed foam poured needledd head\", \"groups\": false, \"x\": 14.658255577087402, \"y\": 8.613592147827148}, {\"text\": \"imperial pint pint glass nice Delicious notes grassy hop poured Delicious grassy Pours\", \"groups\": false, \"x\": 14.759260177612305, \"y\": 9.134607315063477}, {\"text\": \"tan head copper color light tan clean orange-ish Pours head faint pine orange-ish copper color\", \"groups\": false, \"x\": 14.251009941101074, \"y\": 8.076906204223633}, {\"text\": \"Young pint pint pot Young Copper coloured pot poured pint Copper head Buttery\", \"groups\": false, \"x\": 14.468710899353027, \"y\": 4.901689052581787}, {\"text\": \"Hometown BIF Tiklmelmo courtesy BIF Tiklmelmo Hometown pint glass Acquired big glass courtesy\", \"groups\": false, \"x\": 15.255393981933594, \"y\": 8.554070472717285}, {\"text\": \"Northwest Beer Pacific Northwest Alchemist Brewery Beer Micah Pacific Northwest Pours clear Consumed Brewery pint\", \"groups\": false, \"x\": 15.697157859802246, \"y\": 7.31060791015625}, {\"text\": \"tasty brew glass wine glass brew supplying tasty Poured large wine nice malt\", \"groups\": false, \"x\": 15.365462303161621, \"y\": 8.511492729187012}, {\"text\": \"whit head nice amber amber color Pours malt finish malt Hops head finish citrus tone\", \"groups\": false, \"x\": 13.84677791595459, \"y\": 7.873481750488281}, {\"text\": \"boastful head high carbonation medium body true oregon highly carbonated transparent golden amber smell slightly dry finish drinkability nice big\", \"groups\": false, \"x\": 13.648927688598633, \"y\": 8.243143081665039}, {\"text\": \"Copper colored orange hues nice sticky sticky off-white off-white head Classic Western Western IPA colored beer Copper hues\", \"groups\": false, \"x\": 13.882884979248047, \"y\": 6.265693664550781}, {\"text\": \"beer Jason citrus rind citrus rind pint glass standard pint slightly hazed bitter citrus glass\", \"groups\": false, \"x\": 16.11419677734375, \"y\": 6.919094085693359}, {\"text\": \"Olive Tree Tree Market Ocean Beach canned beer kinda steep Olive Tree Market Ocean Beach\", \"groups\": false, \"x\": 15.092312812805176, \"y\": 7.614809513092041}, {\"text\": \"frothy head leaving plenty ring formations pint glass hazed burnt burnt orange finger high high frothy Pours BIF\", \"groups\": false, \"x\": 16.119142532348633, \"y\": 6.811813831329346}, {\"text\": \"Wierd tasting tasting IPA Wierd thrown trade IPA tasting hop flavours AMerican IPA residual odd\", \"groups\": false, \"x\": 14.386930465698242, \"y\": 6.76751184463501}, {\"text\": \"uneven lacing tan foamy foamy head big tan big good retention good Amber lacing IPA\", \"groups\": false, \"x\": 14.833979606628418, \"y\": 7.615018844604492}, {\"text\": \"flavor yellow white head bitterness clear amber soapy lookign lookign white nice smell head\", \"groups\": false, \"x\": 16.364582061767578, \"y\": 7.830304145812988}, {\"text\": \"recent trade Picked trade pack recent smallish head nice orange color enjoyable nice orange\", \"groups\": false, \"x\": 13.743579864501953, \"y\": 6.836141586303711}, {\"text\": \"IPA IPA dose good retention dense head thirst quench good grapefruit respectable IPA nose\", \"groups\": false, \"x\": 14.356013298034668, \"y\": 5.108157157897949}, {\"text\": \"finger head fine layer leaving lots deep gold sticky lacing Pours finger layer leaving glass\", \"groups\": false, \"x\": 12.955801963806152, \"y\": 7.220884323120117}, {\"text\": \"white foam dark orange orange color large amount foam dark orange color large amount\", \"groups\": false, \"x\": 13.58492374420166, \"y\": 7.949113368988037}, {\"text\": \"beige head chill hazed finger beige hazed medium medium amber amber body head pours chill hazed\", \"groups\": false, \"x\": 13.66839599609375, \"y\": 9.441636085510254}, {\"text\": \"Jul Adambrau becker Adambrau Moderate buttery Poured becker Light carbonation Extra large beige head\", \"groups\": false, \"x\": 16.60468101501465, \"y\": 7.470369338989258}, {\"text\": \"Belgium globe Belgium Poured globe Deep amber finger Vince Deep completely translucent pine\", \"groups\": false, \"x\": 16.070947647094727, \"y\": 7.2136006355285645}, {\"text\": \"batch code bready malt sweet bready good date batch code foamy malt pine\", \"groups\": false, \"x\": 16.11421012878418, \"y\": 8.448345184326172}, {\"text\": \"5-10 minutes amber color finder head good 5-10 pours minutes amber color finder head\", \"groups\": false, \"x\": 14.199348449707031, \"y\": 6.29671573638916}, {\"text\": \"bubbly head retention s-nice aroma t-nice grapefruit lingering decent retention slightly hoppy citrus bitterness hoppy aroma s-nice citrus a-light\", \"groups\": false, \"x\": 14.2575044631958, \"y\": 7.054056644439697}, {\"text\": \"corporate programming meh beer Meh associate beer Miller Bud Coors Beer Caldera IPA year\", \"groups\": false, \"x\": 15.664584159851074, \"y\": 5.861323356628418}, {\"text\": \"copperish orange orange color white head light booze nose pretty nice white good carbonation good caramel Poured Taste\", \"groups\": false, \"x\": 13.507180213928223, \"y\": 8.429093360900879}, {\"text\": \"IPA Poured tulip Nice Nice pour Aroma nice medium perfect perfect IPA medium head\", \"groups\": false, \"x\": 15.02525520324707, \"y\": 6.763072967529297}, {\"text\": \"Poured chalice head rind grapefruit citrus inch retaining off-white head retaining head Low ABV\", \"groups\": false, \"x\": 16.176897048950195, \"y\": 7.691303253173828}, {\"text\": \"jamdugan Medium Medium amber amber color tangerine highlights Courtesy Medium Poured highlights inch head snifter\", \"groups\": false, \"x\": 14.2347993850708, \"y\": 9.37244701385498}, {\"text\": \"amber color finger head pillowy white A-Pours orange amber dense head IPA\", \"groups\": false, \"x\": 14.461393356323242, \"y\": 7.264022350311279}, {\"text\": \"burnt orange hazy burnt Pours Big citrus orange finger head malt hazy burnt citrus\", \"groups\": false, \"x\": 14.009807586669922, \"y\": 8.571703910827637}, {\"text\": \"sticky head surprisingly murky bright caramel caramel color Pour aggressive sticky head bit surprisingly\", \"groups\": false, \"x\": 14.693868637084961, \"y\": 8.85142707824707}, {\"text\": \"nice retention hazy tawny amber coloring white head tawny amber pine pint retention hazy coloring\", \"groups\": false, \"x\": 14.798316955566406, \"y\": 7.226212024688721}, {\"text\": \"bubbly head Pours nice clear clear copper copper hue white bubbly pine malt flavor finger\", \"groups\": false, \"x\": 14.786373138427734, \"y\": 9.399151802062988}, {\"text\": \"off-white head pint glass Amber hop aroma hop bit Poured off-white head pint\", \"groups\": false, \"x\": 14.941549301147461, \"y\": 6.784257411956787}, {\"text\": \"pint glass glass nice poured pint light tan head forms thick nice clarity crisp dark\", \"groups\": false, \"x\": 15.639446258544922, \"y\": 8.69947338104248}, {\"text\": \"San Jose Jose Sharks Sharks tumbler degrees fahrenheit San Jose Sharks Poured degrees fahrenheit\", \"groups\": false, \"x\": 14.203721046447754, \"y\": 6.214489936828613}, {\"text\": \"Uber Tavern standard pint Tavern Uber poured pint nice Amber-gold tap standard\", \"groups\": false, \"x\": 15.184073448181152, \"y\": 7.277585506439209}, {\"text\": \"Sam Adams Adams Sensory Sensory glass Sam Adams Sensory glass Pours clear bright copper ruby hues\", \"groups\": false, \"x\": 15.775605201721191, \"y\": 7.417551517486572}, {\"text\": \"Brewing Company Oregon Brewed Pale Ale Caldera Brewing Brewed India India Pale Caldera Caldera IPA ABV Company\", \"groups\": true, \"x\": 14.051751136779785, \"y\": 4.640528678894043}, {\"text\": \"Woody IPA Drinkability copper brew decent lacing faded quickly quickly leaving leaving decent citrus Mouthfeel pine light citrusy\", \"groups\": false, \"x\": 15.114874839782715, \"y\": 6.887564182281494}, {\"text\": \"pint glass glass still-impressive thin copper body poured pint malt beer Munich malt toasted Munich\", \"groups\": false, \"x\": 15.655048370361328, \"y\": 7.705323696136475}, {\"text\": \"Caldera IPA price tag perfect combination Deep orange-amber ABV IPA session beer Caldera found bit\", \"groups\": false, \"x\": 14.204819679260254, \"y\": 4.895775318145752}, {\"text\": \"leathery hue dark orange-brown orange-brown leathery hops Piney hops pours hue dark orange-brown leathery\", \"groups\": false, \"x\": 13.671090126037598, \"y\": 7.799918174743652}, {\"text\": \"IPA canned IPA Avery IPA great IPA Myrtle Beach great beach smell score canned\", \"groups\": false, \"x\": 14.408617973327637, \"y\": 6.048334121704102}, {\"text\": \"Myrtle Beach piggly wiggly Beach Tasted great Myrtle Found pleasnt treat IPA wich vacation piggly\", \"groups\": false, \"x\": 14.040294647216797, \"y\": 6.539280891418457}, {\"text\": \"solid IPA IPA citrus hops solid orange beer citrus hops resiny finish\", \"groups\": false, \"x\": 14.948043823242188, \"y\": 7.274758338928223}, {\"text\": \"Good ipa amount Orange color shooting empty empty bottles Great desert Orange color\", \"groups\": false, \"x\": 14.863398551940918, \"y\": 7.202749252319336}, {\"text\": \"canned beer hatch fingered head funny review canned beer appearance directly caramel\", \"groups\": false, \"x\": 15.436272621154785, \"y\": 5.967724323272705}, {\"text\": \"Grand Cru Europe Cru glass purchased Hoegaarden Beers beer Grand Cru head\", \"groups\": false, \"x\": 14.943761825561523, \"y\": 6.78572940826416}, {\"text\": \"finger head. sweet malts. floral hops copper slight slight haze haze color malts.a bitter bitter finish pretty tasty pney crisp\", \"groups\": false, \"x\": 14.418083190917969, \"y\": 6.926889419555664}, {\"text\": \"Mag Oct Beer review Oct Mag Beer review great craft beer glass canned craft\", \"groups\": false, \"x\": 15.58670425415039, \"y\": 5.793981552124023}, {\"text\": \"Fourth Corner Finally starting hyped brewery brewery show Corner Fourth Finally starting hyped brewery\", \"groups\": false, \"x\": 13.822249412536621, \"y\": 6.1490068435668945}, {\"text\": \"moderate head dark amber Pours head nice dark amber moderate Pine pretty\", \"groups\": false, \"x\": 15.586134910583496, \"y\": 7.826972961425781}, {\"text\": \"nice IPA overpoweringly bitter medium bodied decent carbonation slightly citrus major piney deep rust rust orange white foam tasty treat\", \"groups\": false, \"x\": 13.92553424835205, \"y\": 8.319064140319824}, {\"text\": \"Delerium Tremens Tremens tulip Delerium Tremens Served tulip IPA hops hazy red-orange finger off-white\", \"groups\": false, \"x\": 14.660367965698242, \"y\": 6.384434700012207}, {\"text\": \"great retention incredibly large white head retention poured incredibly large white head great\", \"groups\": false, \"x\": 14.975975036621094, \"y\": 6.91719388961792}, {\"text\": \"clear amber dissipates quickly IPA pours hop bitterness malt Columbus hops hop toasted amber orange\", \"groups\": false, \"x\": 13.87369155883789, \"y\": 7.351038932800293}, {\"text\": \"Premium Two-Row Amarillo hops Simcoe Centennial Munich Crystal Amarillo Premium hops malts\", \"groups\": false, \"x\": 14.255236625671387, \"y\": 9.555024147033691}, {\"text\": \"slightly off-white off-white head beer pours lovely copper copper amber amber color American IPA caramel malt typical American orange\", \"groups\": false, \"x\": 14.027985572814941, \"y\": 6.984374523162842}, {\"text\": \"good friend Rich amber good friend mine leaving stemmed glass malt beer head\", \"groups\": false, \"x\": 15.201559066772461, \"y\": 8.052844047546387}, {\"text\": \"good carbonation citrus notes piney resin carbonation leaving nice white pine notes nice sharp dark amber white head sharp hop\", \"groups\": false, \"x\": 13.815711975097656, \"y\": 7.7870564460754395}, {\"text\": \"Duvel tulip Poured Duvel tulip light brown Dark orange Smells fantastic orange Reddish tones bit\", \"groups\": false, \"x\": 13.868585586547852, \"y\": 9.11591625213623}, {\"text\": \"Appearance-Deep amber amber orange orange color Rich Orange orange Appearance-Deep sediment Grapefruit hops hops amber\", \"groups\": false, \"x\": 13.550185203552246, \"y\": 9.210082054138184}, {\"text\": \"copper color Amarillo hops semi-transparent amber Simcoe Centennial Pours Amarillo Specs IBUs amber\", \"groups\": false, \"x\": 14.251213073730469, \"y\": 9.313188552856445}, {\"text\": \"tulip glass Poured glass tulip notes orange color orange light citrus caramel\", \"groups\": false, \"x\": 13.886650085449219, \"y\": 7.981301784515381}, {\"text\": \"white head amber color light orange orange amber bit heavy citrus pours head orange\", \"groups\": false, \"x\": 13.831670761108398, \"y\": 8.805188179016113}, {\"text\": \"shimmering honey honey color Pours brilliant shimmering color fresh honey head good lacing\", \"groups\": false, \"x\": 12.552830696105957, \"y\": 6.135581016540527}, {\"text\": \"amber-copper hue off-white head hazy amber-copper rocky off-white Pours West Coast Big hue head share\", \"groups\": false, \"x\": 14.15530014038086, \"y\": 7.261011123657227}, {\"text\": \"tulip glass hops Poured glass tulip orange lots finally rate Taste citrus\", \"groups\": false, \"x\": 13.84662914276123, \"y\": 8.485065460205078}, {\"text\": \"Great nose finger creamy white head golden body good lacing flavors start head showed spotty cap combining citrus caramel malts\", \"groups\": false, \"x\": 14.24606704711914, \"y\": 9.337647438049316}, {\"text\": \"canned IPAs Famously Hot South Carolina Pacific Northwest Caldera IPA Wow Caldera canned coming continue\", \"groups\": false, \"x\": 14.163915634155273, \"y\": 4.7097954750061035}, {\"text\": \"glass appearance good ruby strawlike color heavy headiness carbonated smell balanced undertones duvel tulip tulip glass malty balanced orange\", \"groups\": false, \"x\": 15.756608963012695, \"y\": 6.301501274108887}, {\"text\": \"Belgium tulip tulip glass Belgium glass tulip Poured cloudy orange-gold slightly off-white head hops\", \"groups\": false, \"x\": 16.053571701049805, \"y\": 6.6340227127075195}, {\"text\": \"size beer hoppy Enjoy nice drinkable smell moderate IPA Hazy\", \"groups\": false, \"x\": 16.3241024017334, \"y\": 6.639179229736328}, {\"text\": \"Slightly hazy heavy lacing hazy golden golden amber off-white head nice off-white Slightly nice Nice mix mild\", \"groups\": false, \"x\": 14.049620628356934, \"y\": 7.449092864990234}, {\"text\": \"colored head nice translucent nice finger nice layer minutes ago translucent darker nice head Pours caramel colored\", \"groups\": false, \"x\": 13.812291145324707, \"y\": 8.289039611816406}, {\"text\": \"DFH pint pint glass DFH hop IPA IPA glass DIPA IPA scents Poured copper poured\", \"groups\": false, \"x\": 15.437637329101562, \"y\": 6.789204120635986}, {\"text\": \"chilled Founders Founders pint pint glass Founders glass scent orange Pours poured chilled\", \"groups\": false, \"x\": 16.042346954345703, \"y\": 7.096210479736328}, {\"text\": \"absolutely amazing deep amber large white huge citrus citrus notes amazing IPA duvel snifter white head citrusy grapefruits perfectly balanced\", \"groups\": false, \"x\": 15.356277465820312, \"y\": 7.053558349609375}, {\"text\": \"tea leaves Deep apricot hop-forward IPA sudsy cream-colored cream-colored head touch thin apricot hue slightly grassy grainy malt malt undertone\", \"groups\": false, \"x\": 14.450053215026855, \"y\": 8.354435920715332}, {\"text\": \"pint glass glass poured pint bottle store bad awhile White inch head Thick\", \"groups\": false, \"x\": 16.239152908325195, \"y\": 6.76038932800293}, {\"text\": \"Poured tulip colored heading nice lighter golden white colored Color malty bit Taste\", \"groups\": false, \"x\": 12.74528694152832, \"y\": 8.775635719299316}, {\"text\": \"partners BIF BIF Huge psiweaver hitting perma-want partners colored head fantastic fluffy fluffy cream\", \"groups\": false, \"x\": 15.137731552124023, \"y\": 5.7362380027771}, {\"text\": \"Sam Adams Adams glass bottle poured Sam Adams glass bottle poured Good head deep amber\", \"groups\": false, \"x\": 15.726123809814453, \"y\": 7.234939098358154}, {\"text\": \"cool lookin HOPS cool great smell hop lookin Picked beer Pours\", \"groups\": false, \"x\": 14.846518516540527, \"y\": 6.445304870605469}, {\"text\": \"white head honey golden thick creamy Pours head West Coast IPA citrusy grapefruit honey\", \"groups\": false, \"x\": 14.528141975402832, \"y\": 7.477303981781006}, {\"text\": \"Jerry Garcia Garcia lives lives inside bright copper bone white white head good retention Jerry Garcia Poured\", \"groups\": false, \"x\": 14.812848091125488, \"y\": 7.71815824508667}, {\"text\": \"pint glass Poured glass cloudy texture pint orangey color citrus hops beer long-lasting head\", \"groups\": false, \"x\": 15.482721328735352, \"y\": 5.8701863288879395}, {\"text\": \"Grateful Dead colored Grateful Dead concert deep orange pint glass snowy white pretty quickly brightly colored concert poster-esque shaker pint\", \"groups\": false, \"x\": 14.663064002990723, \"y\": 8.219225883483887}, {\"text\": \"Recently picked day tailgate boss dollar company opening opening day good Recently tailgate time good lace\", \"groups\": false, \"x\": 16.00661277770996, \"y\": 8.02370548248291}, {\"text\": \"Dark amber Dark color amazing head white head amber citrus piney Lots\", \"groups\": false, \"x\": 14.019914627075195, \"y\": 6.176769733428955}, {\"text\": \"nonic pint pint glass Citrus Poured Citrus smells nonic pint glass white head glass lacing\", \"groups\": false, \"x\": 14.609006881713867, \"y\": 8.964251518249512}, {\"text\": \"West Coast Coast BAs awesome West West Coast nice BAs extra awesome smells\", \"groups\": false, \"x\": 15.320084571838379, \"y\": 5.6104021072387695}, {\"text\": \"bright glowing orange Pour glowing color IPA yellow orange inducing IPA mandarin orange\", \"groups\": false, \"x\": 14.943961143493652, \"y\": 7.807450771331787}, {\"text\": \"caramel malt malt kicking beer tastes nose hops nose full hops upfront copper color white head medium body higher carbonation\", \"groups\": false, \"x\": 15.142888069152832, \"y\": 7.176999092102051}, {\"text\": \"Sam Adams Adams glass Sam Adams Poured glass bright hops butterscotch yellow date\", \"groups\": false, \"x\": 16.14879035949707, \"y\": 7.2024359703063965}, {\"text\": \"Reddish copper pumpkin highlights dense cream leaves sticky sticky lace orange head minty C-hops Reddish glass plenty\", \"groups\": false, \"x\": 14.356117248535156, \"y\": 8.526139259338379}, {\"text\": \"Corsedonk snifter small bright Corsedonk Poured snifter small bright taste nice hops\", \"groups\": false, \"x\": 15.157689094543457, \"y\": 6.712969779968262}, {\"text\": \"great lookin lookin IPA hops IPA guess Lots fresh hop great lookin\", \"groups\": false, \"x\": 14.803918838500977, \"y\": 6.9703240394592285}, {\"text\": \"Wow added Gil nice Wow SwillinBrew added extra brew canned nice brew\", \"groups\": false, \"x\": 15.151617050170898, \"y\": 5.822016716003418}, {\"text\": \"dark golden amber color hazy dark thick frothy frothy white white head slowly fades beer pours golden amber\", \"groups\": false, \"x\": 12.706828117370605, \"y\": 6.068944931030273}, {\"text\": \"hopped grapefruit pretty nice sounds terrible Tastes grapefruit nice drinks pretty hopped sounds terrible\", \"groups\": false, \"x\": 14.220870971679688, \"y\": 8.053702354431152}, {\"text\": \"bronze-amber body Medium bronze-amber finish body Medium Nice bitterness malts bronze-amber Large frothy\", \"groups\": false, \"x\": 13.255924224853516, \"y\": 9.591205596923828}, {\"text\": \"copper body frothey tan tan head beautiful copper Pours body Excellent lacing frothey tan head\", \"groups\": false, \"x\": 14.342491149902344, \"y\": 7.025545597076416}, {\"text\": \"deep color desert mountainside honey painted sunrise icky lace stunner deep color desert\", \"groups\": false, \"x\": 13.25374984741211, \"y\": 9.018383026123047}, {\"text\": \"Abe Ithaca shaker ounce shaker glass sixer picked Ithaca white foam bit super\", \"groups\": false, \"x\": 16.326175689697266, \"y\": 6.3983893394470215}, {\"text\": \"white head slightly hazy hazy copper copper orange creamy white Pours head huge slightly hazy\", \"groups\": false, \"x\": 14.606252670288086, \"y\": 9.685991287231445}, {\"text\": \"beer arena canned beer great beer beer arena canned pine great pine flavors nice scent\", \"groups\": false, \"x\": 14.916463851928711, \"y\": 6.178405284881592}, {\"text\": \"A-Full bronze A-Full bronze hop bitterness flavor malt aroma light tan head\", \"groups\": false, \"x\": 13.828211784362793, \"y\": 7.6556901931762695}, {\"text\": \"regular kitchen kitchen glass Caldera IPA IPA boasts IPA regular kitchen forward glass kinda bright\", \"groups\": false, \"x\": 14.741400718688965, \"y\": 5.110668182373047}, {\"text\": \"Surly pint pint glass Surly Standard pour Cane sugar Poured cool glass patchy white Beer\", \"groups\": false, \"x\": 15.413004875183105, \"y\": 6.7331318855285645}, {\"text\": \"Stone Levitation Levitation tulip Served Nice aroma Stone Levitation bitter Pours citrus hops\", \"groups\": false, \"x\": 13.9548921585083, \"y\": 9.340940475463867}, {\"text\": \"in-person trade recent in-person pint glass trade Caldera Pale glass Pale Ale kels hooking recent\", \"groups\": true, \"x\": 15.220396041870117, \"y\": 6.338929653167725}, {\"text\": \"Dogfish Head Head shaped original review pint glass server ate shaped pint Poured SAE amber Dogfish Head\", \"groups\": false, \"x\": 15.15988826751709, \"y\": 8.10660457611084}, {\"text\": \"Pours copper off-white head rich off-white Pours head caramel backing Slight metallic Slight copper rich\", \"groups\": false, \"x\": 14.31583023071289, \"y\": 8.51566219329834}, {\"text\": \"beer sticky green love color guy sticky green gave feels good green herbals\", \"groups\": false, \"x\": 13.724512100219727, \"y\": 5.985973358154297}, {\"text\": \"pint glass Poured glass IPA pint nice hoppy sweetness light Good\", \"groups\": false, \"x\": 15.38873291015625, \"y\": 6.7323408126831055}, {\"text\": \"Dales Pale Pale Ale augustgarage nice canned IPA good trade hops FWIW Floral\", \"groups\": true, \"x\": 14.613109588623047, \"y\": 7.628948211669922}, {\"text\": \"Poured light Nice Pours semi-hazy Tropical fruit Pours hops Tropical Nice soapy Nice bitter\", \"groups\": false, \"x\": 15.699752807617188, \"y\": 6.7332940101623535}, {\"text\": \"Irvine Tustin Foods Hop Stoopid Found Caldera IPA IPA beer Sculpin Racer\", \"groups\": false, \"x\": 14.17551040649414, \"y\": 4.913814067840576}, {\"text\": \"malt orange grapefruit touch reddish orange citrus golden orange surprised rating familiar yellowish\", \"groups\": false, \"x\": 13.768062591552734, \"y\": 7.841761589050293}, {\"text\": \"pint glass Poured glass Tons Pours pint hops head beautiful fresh\", \"groups\": false, \"x\": 15.535305976867676, \"y\": 7.502327919006348}, {\"text\": \"white head clear amber amber color fluffy white nice fluffy head absolutely incredible clear amber color\", \"groups\": false, \"x\": 14.923125267028809, \"y\": 6.9678120613098145}, {\"text\": \"Stunning clarity defect free amber color white head suddy lacing absolutely defect wonderful amber Stunning lemon grass clarity\", \"groups\": false, \"x\": 13.871855735778809, \"y\": 6.094212532043457}, {\"text\": \"past summer summer grapefruit pine beer vacation past color Pours carrot cake\", \"groups\": false, \"x\": 15.130156517028809, \"y\": 7.9011993408203125}, {\"text\": \"ruby tint hazy ruby slight hazy deep copper slight slight citrus pour tint copper hazy\", \"groups\": false, \"x\": 14.447360038757324, \"y\": 7.779448509216309}, {\"text\": \"Yellow clear IPA finger white white head Slight Cascade Cascade hops Nice hops refreshing IPA\", \"groups\": false, \"x\": 13.524701118469238, \"y\": 7.488339424133301}, {\"text\": \"COOP Delirium goblet picked today Delirium CCC hops smelling CCC hops malts nice eggshell\", \"groups\": false, \"x\": 16.166746139526367, \"y\": 7.8056321144104}, {\"text\": \"Caldera brews heard good good things Caldera slightly hazy toasted ruby-brown ruby-brown color brews heard good\", \"groups\": false, \"x\": 13.861166954040527, \"y\": 4.920804500579834}, {\"text\": \"amber color interested hops deep copper nice Smell malt Appearance Pretty decent nice hops\", \"groups\": false, \"x\": 13.954192161560059, \"y\": 6.816029071807861}, {\"text\": \"phenomenal CANQuest Ashland Amber dig Amber included Roots Ashland Amber trading Whoops\", \"groups\": false, \"x\": 15.67633056640625, \"y\": 5.740985870361328}, {\"text\": \"amber color cream head Pours nice nice amber Nice Pine IPA average cream Pine Grapefruit hops\", \"groups\": false, \"x\": 14.395990371704102, \"y\": 7.106700897216797}, {\"text\": \"40-45 degrees standard pint pint glass Poured degrees pint standard 40-45 white froth glass\", \"groups\": false, \"x\": 15.50159740447998, \"y\": 7.081644058227539}, {\"text\": \"Super clear impressive appearance clear orange orange body frothy sticky sticky head Super beer appearance Smells sweet\", \"groups\": false, \"x\": 13.382044792175293, \"y\": 8.01961612701416}, {\"text\": \"orange gold light orange modest tightly tightly knit knit bit Nice piney grapefruit bite Medium bodied west coast gold\", \"groups\": false, \"x\": 14.94665241241455, \"y\": 7.735167026519775}, {\"text\": \"standard pint pint glass glass Poured standard pint Beer medium Aroma good\", \"groups\": false, \"x\": 14.532782554626465, \"y\": 6.452012538909912}, {\"text\": \"amber color finger head Pours IPA Crisp IPA back end Pretty Good Pine Citrus canned IPA\", \"groups\": false, \"x\": 14.619620323181152, \"y\": 7.142787456512451}, {\"text\": \"Redwood City City Redwood lasting off-white good lacing Surly Furious malt Pours amber color off-white head\", \"groups\": false, \"x\": 14.780385971069336, \"y\": 7.329962253570557}, {\"text\": \"Brickskeller Washington malt flavors hop leafy hop flavors head malt pale caramel\", \"groups\": false, \"x\": 15.150678634643555, \"y\": 9.169939994812012}, {\"text\": \"shiny bronze modest head nice lattice lattice work showed good good retention good malty Appearance good glass\", \"groups\": false, \"x\": 13.836970329284668, \"y\": 9.128808975219727}, {\"text\": \"Received adamharbaugh pint glass extra perfect pint Heavy grapefruit head frothy head Heavy nice copper\", \"groups\": false, \"x\": 15.475677490234375, \"y\": 7.01184606552124}, {\"text\": \"pretty lacing pretty amber-golden glass Pours Pours pretty pint glass nice head hoppy lacing Smells delicious\", \"groups\": false, \"x\": 16.46718406677246, \"y\": 6.936253070831299}, {\"text\": \"Kegatron biscuit malt sweet biscuit hooking hop malt A-Bright golden off-white head copious lace biscuit\", \"groups\": false, \"x\": 14.22342300415039, \"y\": 8.265007019042969}, {\"text\": \"PREMISE Oregon IPA Pale Ale Dales Pale beer canned beer edge Dales moving\", \"groups\": true, \"x\": 15.23261833190918, \"y\": 5.793495178222656}, {\"text\": \"Rehoboth Beach Arena Cafe Beach Arena Cafe Rehoboth pint glass crisp medium mild\", \"groups\": false, \"x\": 14.629484176635742, \"y\": 8.64747142791748}, {\"text\": \"hoppy taste Suprised hoppy taste Louis Tin bar called Citrus notes Consumed initial smell\", \"groups\": false, \"x\": 15.117374420166016, \"y\": 6.55558443069458}, {\"text\": \"Trippy Graphic Graphic Yellow Sam Adams Adams glass Trippy Graphic Yellow Sam Adams citric hops\", \"groups\": false, \"x\": 15.175191879272461, \"y\": 6.297738552093506}, {\"text\": \"big amounts orange color two-finger off-white grainy aromas pretty strong high carbonation substantial amount deep burnt burnt orange off-white head\", \"groups\": false, \"x\": 13.891042709350586, \"y\": 8.415847778320312}, {\"text\": \"amber color rich amber Pours Canned Date color piney IPA Sweet hoppy Completely clear\", \"groups\": false, \"x\": 14.512892723083496, \"y\": 6.985317230224609}, {\"text\": \"Pours amber nice finger solid lace good head head retention white head finger sized sized white nice Pours\", \"groups\": false, \"x\": 15.201478004455566, \"y\": 7.778266429901123}, {\"text\": \"white colored great retention slightly hazy hazy copper copper color half fingers herbal hops Pours creamy white\", \"groups\": false, \"x\": 13.760987281799316, \"y\": 6.860269546508789}, {\"text\": \"pint glass Poured half glass pint Pours clear deep golden white head glass bubbly half half inch\", \"groups\": false, \"x\": 15.122758865356445, \"y\": 8.895383834838867}, {\"text\": \"Beersofeurope.com Poured bought online nice golden golden coppery Beersofeurope.com orange colour light Poured tinges poured coppery orange\", \"groups\": false, \"x\": 13.975275993347168, \"y\": 9.789189338684082}, {\"text\": \"pint glass glass poured pint hops lot Good Pours light white head West Coast\", \"groups\": false, \"x\": 15.777388572692871, \"y\": 7.874845027923584}, {\"text\": \"glass torn face Nice hops give IPA Drink drank die hard\", \"groups\": false, \"x\": 15.196222305297852, \"y\": 6.441551208496094}, {\"text\": \"ivory head nice golden golden peach peach color frothy long long lasting lasting ivory grassy hops Pours head\", \"groups\": false, \"x\": 14.937397003173828, \"y\": 7.771180629730225}, {\"text\": \"Bear Creek Creek Beers ounce snifter poure Medford Bear Creek Beers fast\", \"groups\": false, \"x\": 15.720467567443848, \"y\": 6.8613176345825195}, {\"text\": \"foamy head hazy orange Pours orange reddish soapy foamy head small carbonation hops\", \"groups\": false, \"x\": 14.70251750946045, \"y\": 9.360127449035645}, {\"text\": \"hearing good good things picked six-pack hearing good things Wow dont drank\", \"groups\": false, \"x\": 14.396079063415527, \"y\": 6.341614246368408}, {\"text\": \"fully support hops-adorned label bronze-rust color root-beer float support lovely toasty toasty bronze-rust crazy-fluffy head hops-adorned label\", \"groups\": false, \"x\": 15.146432876586914, \"y\": 8.646759033203125}, {\"text\": \"Poured Cooper Cooper colored sweet Carmel finger head Cooper Carmel sweet hop Poured withe\", \"groups\": false, \"x\": 14.187980651855469, \"y\": 7.195370197296143}, {\"text\": \"Sierra Nevada Purchased BevMo Nevada Nevada beers Caldera IPA beer Sierra six-pack glass\", \"groups\": false, \"x\": 14.494514465332031, \"y\": 5.350542068481445}, {\"text\": \"Brooklyn imperial pint glass imperial pint Poured Brooklyn hop glass Blue Dot imperial pint\", \"groups\": false, \"x\": 15.133705139160156, \"y\": 5.9943623542785645}, {\"text\": \"pint glass clear pint Poured glass freshness date clear pint Single purchased date local health\", \"groups\": false, \"x\": 15.861832618713379, \"y\": 6.35469388961792}, {\"text\": \"pint glass clear pint Wine Warehouse Poured glass clear freshness date pint Charlottesville Clear amber-orange\", \"groups\": false, \"x\": 15.718025207519531, \"y\": 8.457752227783203}, {\"text\": \"local Vancouver Vancouver Bottle bit Crystal clear Snagged Crystal sweet local head\", \"groups\": false, \"x\": 14.302897453308105, \"y\": 8.81016731262207}, {\"text\": \"copper color golden copper bright golden Great pine grapefruit hop bright grapefruit hop Poured color\", \"groups\": false, \"x\": 13.977160453796387, \"y\": 9.203516006469727}, {\"text\": \"malt-forward IPA beer struck caramel IPA color beer struck malt-forward evident start\", \"groups\": false, \"x\": 13.861281394958496, \"y\": 7.104121208190918}, {\"text\": \"hop aroma malt Lots aroma hop caramel malt hint Nice caramel Started\", \"groups\": false, \"x\": 14.7525053024292, \"y\": 9.111170768737793}, {\"text\": \"splotchy lacing white head leaves moderate amber thick Pours clear orange white moderate\", \"groups\": false, \"x\": 14.566740989685059, \"y\": 9.452513694763184}, {\"text\": \"tulip poured off-white head Smells tasty bright see-thru see-thru amber pretty fluffy fluffy off-white good Smells amber orange\", \"groups\": false, \"x\": 15.829235076904297, \"y\": 8.466912269592285}, {\"text\": \"tan head clear orange big tan Pours head nice clear orange big tan\", \"groups\": false, \"x\": 14.199772834777832, \"y\": 8.086284637451172}, {\"text\": \"Pours clear moderate lacing clear copper robust head IPA aroma conventional IPA Amarillo hops Amarillo Pours lacing\", \"groups\": false, \"x\": 14.270574569702148, \"y\": 7.8296637535095215}, {\"text\": \"Big rocky tan head rocky batter light tan Big head caramel rocky batter light\", \"groups\": false, \"x\": 14.167876243591309, \"y\": 9.81633472442627}, {\"text\": \"Nice bright foamy head bright red red color pretty foamy Nice Heavy citrus head allready showing bright\", \"groups\": false, \"x\": 13.900860786437988, \"y\": 6.996171951293945}, {\"text\": \"bright orangish-brown Clear bright color Strong orangish-brown foamy off-white off-white head nose citrusy\", \"groups\": false, \"x\": 14.11682415008545, \"y\": 9.366418838500977}, {\"text\": \"ass extra kick ass extra awesome kick ass huge Deep glass nice\", \"groups\": false, \"x\": 15.814752578735352, \"y\": 6.941547870635986}, {\"text\": \"brew goodie translucent amber beer off-white head head lingers head head lives delicious IPA good amount\", \"groups\": false, \"x\": 13.858617782592773, \"y\": 6.0791168212890625}, {\"text\": \"glass Chilled extra courtesy Citrus hops citrus hops pine earthy resiny Pours\", \"groups\": false, \"x\": 15.645936012268066, \"y\": 8.835677146911621}, {\"text\": \"State Line Maryland Pale Ale State Line Dale Pale Picked white head Dale golden amber\", \"groups\": true, \"x\": 14.207717895507812, \"y\": 6.020873546600342}, {\"text\": \"exceptional lacing white head orange body finger slowly slowly dissapating dissapating white Light orange head exceptional lacing\", \"groups\": false, \"x\": 14.360391616821289, \"y\": 9.174239158630371}, {\"text\": \"copper color amber pretty clear pine citrus resins pretty top off-white hop\", \"groups\": false, \"x\": 13.754189491271973, \"y\": 8.868143081665039}, {\"text\": \"Dark golden pint mug Dark golden amber Poured mug color Citrus,pine off-white head Clear\", \"groups\": false, \"x\": 16.296701431274414, \"y\": 7.260890960693359}, {\"text\": \"half inch white head head sitting Good clear amber amber color nice hop hop presence nice Pours\", \"groups\": false, \"x\": 13.170951843261719, \"y\": 6.54604959487915}, {\"text\": \"amber tinting dark golden subtle amber golden orange tinting careful pour dark golden subtle amber\", \"groups\": false, \"x\": 13.544594764709473, \"y\": 7.567131996154785}, {\"text\": \"Bruges hybrid hybrid glass lovely darker darker shade Bruges amber-orange decent lacing hybrid glass notes\", \"groups\": false, \"x\": 15.317952156066895, \"y\": 6.334104061126709}, {\"text\": \"Rhettroactive Pours nice extra sweet Big burst Pours hop flavors hop flavors coming\", \"groups\": false, \"x\": 14.701488494873047, \"y\": 9.222447395324707}, {\"text\": \"extra robbrandes tulip glass Citrus glass fruit Smarties Dark IPA head grapefruit\", \"groups\": false, \"x\": 13.751801490783691, \"y\": 7.83632230758667}, {\"text\": \"Bruery snifter Bruery snifter smooth Pours copper caramel Pretty docile hint hop Pours\", \"groups\": false, \"x\": 16.057037353515625, \"y\": 6.842480659484863}, {\"text\": \"white head great retention hazy orangish orangish amber foamy Pours dense white retention pineapple\", \"groups\": false, \"x\": 14.825077056884766, \"y\": 8.08179759979248}, {\"text\": \"hazey orange thin film rocky white white head quickly dissipates hazey film piney orange color\", \"groups\": false, \"x\": 13.696027755737305, \"y\": 8.672910690307617}, {\"text\": \"orange highlights amber colored colored body highlights poured pint amber colored orange body\", \"groups\": false, \"x\": 16.07455825805664, \"y\": 8.338591575622559}, {\"text\": \"Beer Dispensary Echte Bierkultur Bierkultur Geniessen Apex Beer Dispensary Ayinger glass nice Picked place\", \"groups\": false, \"x\": 16.021127700805664, \"y\": 6.349430561065674}, {\"text\": \"copper amber Good copper balanced IPA IPA Good tropical fruit good fruity Pine pleasant IPA Decent carbonation\", \"groups\": false, \"x\": 14.36800765991211, \"y\": 7.447816371917725}, {\"text\": \"lumpy foam Slightly hazed hazed orange-amber towering head green pine Slightly persistent lumpy foam Sugary citrus\", \"groups\": false, \"x\": 13.302085876464844, \"y\": 9.040996551513672}, {\"text\": \"orange highlights golden orange orange color head soars ivory hue Appearance Pours orange fridge goblet\", \"groups\": false, \"x\": 16.19945526123047, \"y\": 8.482221603393555}, {\"text\": \"nice orange creamy head copper Pours orange goldish-amber tumbler hop finger head\", \"groups\": false, \"x\": 14.551807403564453, \"y\": 7.397947788238525}, {\"text\": \"pint glass glass poured pint crisp orange-tinted orange-tinted amber balance citrus pine clear\", \"groups\": false, \"x\": 14.349531173706055, \"y\": 5.037863731384277}, {\"text\": \"Deep dark dark orange one-finger tan tan head small specks Deep lace hops dark orange\", \"groups\": false, \"x\": 14.723209381103516, \"y\": 8.201692581176758}, {\"text\": \"Liquid Solutions Solutions Liquid amber color orange hue IPA full amber dull orange aroma pine\", \"groups\": false, \"x\": 15.230844497680664, \"y\": 7.548573970794678}, {\"text\": \"word WOW WOW word hop hops preseved inside hop profile hoppiest beers hoppiest profile\", \"groups\": false, \"x\": 14.944256782531738, \"y\": 6.24874210357666}, {\"text\": \"Lazy Magnolia Magnolia glass Lazy Magnolia glass sweet malt malt backbone Poured hazy amber golden tones\", \"groups\": false, \"x\": 15.50623893737793, \"y\": 7.653120040893555}, {\"text\": \"good retention clear gold thin white white head A-Pours retention clear gold thin white\", \"groups\": false, \"x\": 13.993720054626465, \"y\": 9.140811920166016}, {\"text\": \"Pours orange-gold two-finger head Nice Pours head orange-gold two-finger Decent retention Slightly pine\", \"groups\": false, \"x\": 12.705731391906738, \"y\": 8.450298309326172}, {\"text\": \"two-finger head slightly hazy amber color Poured auburn foamy tan hazy amber thick\", \"groups\": false, \"x\": 13.678079605102539, \"y\": 6.720514297485352}, {\"text\": \"kinda copper caldera baby kinda copper stare ipa moderate amount smelling ipa nice smelling baby\", \"groups\": false, \"x\": 14.160533905029297, \"y\": 6.781228065490723}, {\"text\": \"dinner appearance blackistopheles served served appropriately single light shipped appearance cool good canned blackistopheles\", \"groups\": false, \"x\": 16.466176986694336, \"y\": 6.706338405609131}, {\"text\": \"reddish hue finger head deep copperish copperish golden golden color slight reddish sweet malt slight twinge slight malt backbone\", \"groups\": false, \"x\": 15.385128021240234, \"y\": 5.849105358123779}, {\"text\": \"Chouffe Flute Flute A-Very dark copper A-Very deep copper laces laces thick glass nice amber deep nice Chouffe\", \"groups\": false, \"x\": 14.373910903930664, \"y\": 7.786879539489746}, {\"text\": \"EOU faculty faculty lounge Big EOU exceptional lacing tap faculty lounge white head Light\", \"groups\": false, \"x\": 14.339554786682129, \"y\": 9.046931266784668}, {\"text\": \"pint glass glass poured pint IPA Great golden amber amber color frothy head Taste\", \"groups\": false, \"x\": 15.412625312805176, \"y\": 6.9411211013793945}, {\"text\": \"Ohh Baby Ohh Baby Reviewed caramel Floral citrus Love reviewing canned beer Floral citrus\", \"groups\": false, \"x\": 14.457671165466309, \"y\": 6.125856876373291}, {\"text\": \"amber color color off-white color malt earthy malt Pours clear amber American IPA strong hops\", \"groups\": false, \"x\": 14.468634605407715, \"y\": 6.517575263977051}, {\"text\": \"off-white head slightly-hazed amber amber gold huge frothy frothy off-white Poured head pine hops Juicy aroma slightly-hazed\", \"groups\": false, \"x\": 15.086398124694824, \"y\": 7.427436351776123}, {\"text\": \"Kegatron hooking off-white head caramel finish clear amber amber color tall foamy foamy off-white spicy\", \"groups\": false, \"x\": 14.530657768249512, \"y\": 5.512735843658447}, {\"text\": \"State Line past weekend State Line Duvel glass IPA sits weekend picked past gorgeous lacework\", \"groups\": false, \"x\": 15.46351432800293, \"y\": 7.579395294189453}, {\"text\": \"Coast IPA West Coast friends aroma swap hippy art Lots grass grapefruit medium\", \"groups\": false, \"x\": 14.095287322998047, \"y\": 6.666646957397461}, {\"text\": \"Dark gold nice lacing leaves nice descends slowly bubbly head Dark nice amber ale dense head revives\", \"groups\": false, \"x\": 13.745250701904297, \"y\": 5.795375347137451}, {\"text\": \"pint glass Light rust glass Poured pint Ganja hued head Light copper color one-finger white\", \"groups\": false, \"x\": 14.451412200927734, \"y\": 8.524412155151367}, {\"text\": \"nice off-white nice nose colored beer good retention pretty weak grapefruit bitterne pale base medium body flavor complexity off-white head\", \"groups\": false, \"x\": 14.851768493652344, \"y\": 9.179896354675293}, {\"text\": \"Sam Adams unclederby head glass Sam Adams Pours honey honey color good amount nice show\", \"groups\": false, \"x\": 15.777868270874023, \"y\": 7.349735736846924}, {\"text\": \"pint glass glass Clear amber pint nice yellowish yellowish head Piney citrusy hops sold Clear\", \"groups\": false, \"x\": 14.270389556884766, \"y\": 7.170557975769043}, {\"text\": \"nonic hops Crystal clear Pale Ale bit amber hue finger head honey clear honey honey amber\", \"groups\": true, \"x\": 16.077314376831055, \"y\": 7.912870407104492}, {\"text\": \"finger deep deep head Pours rust bubbly finger head orange color deep\", \"groups\": false, \"x\": 12.966976165771484, \"y\": 8.096049308776855}, {\"text\": \"pint glass off-white head glass crystal clear clear caramel caramel amber couple fingers poofy off-white pint spice\", \"groups\": false, \"x\": 15.871431350708008, \"y\": 8.591019630432129}, {\"text\": \"Davis Co-Op pack fine bubbles head white head reddish amber nice nice reddish strong\", \"groups\": false, \"x\": 15.067572593688965, \"y\": 8.338374137878418}, {\"text\": \"Bright yellowish yellowish amber nice stickiness Bright head recede Woody yellowish amber nice\", \"groups\": false, \"x\": 13.825589179992676, \"y\": 7.673947334289551}, {\"text\": \"nice burnt pretty lace burnt orange white head holds fairly nice lace caramelly backbone burnt orange\", \"groups\": false, \"x\": 14.320718765258789, \"y\": 7.891744136810303}, {\"text\": \"pine citrus white head Nice earthy floral medium amber amber color averagd sized Poured\", \"groups\": false, \"x\": 16.40863609313965, \"y\": 7.680464267730713}, {\"text\": \"Reino poured pint glass Reino glass hops sporadic lacing courtesy poured pint crystal clear\", \"groups\": false, \"x\": 15.928380012512207, \"y\": 8.364154815673828}, {\"text\": \"Public House Public Spokane pint glass House nice brought glass poured burnt orange\", \"groups\": false, \"x\": 15.303973197937012, \"y\": 8.343008041381836}, {\"text\": \"homebrew meeting Grass Pours light Shared meeting fingered head friends homebrew Pours light golden\", \"groups\": false, \"x\": 14.373448371887207, \"y\": 7.239377498626709}, {\"text\": \"recent trade ThirstyHopHead agree Caldera IPA Abyss Including Caldera Flying Fish heard trade extras ThirstyHopHead\", \"groups\": false, \"x\": 14.480803489685059, \"y\": 4.925837516784668}, {\"text\": \"amber color white head light amber orange pith orange hue Beer poured light large light caramel orange\", \"groups\": false, \"x\": 13.472358703613281, \"y\": 6.636359691619873}, {\"text\": \"Djeucalyptus Fairly great piney Poured tulip Fairly clear long lasting lasting head sticky\", \"groups\": false, \"x\": 14.609783172607422, \"y\": 6.524727821350098}, {\"text\": \"Unclejedi nice orange nice sticky white white head courtesy orange color Smells hoppy resin catty\", \"groups\": false, \"x\": 16.528507232666016, \"y\": 6.648506164550781}, {\"text\": \"Tripel Karmeliet Karmeliet tulip large Tripel three-finger thick decent pour tan colored colored head light tan Tripel Karmeliet\", \"groups\": false, \"x\": 13.934529304504395, \"y\": 8.182284355163574}, {\"text\": \"Awsome yellow Sacramento Co-op Nectar IPA Awsome eye yellow caught IPA Sacramento Co-op\", \"groups\": false, \"x\": 14.401884078979492, \"y\": 6.665057182312012}, {\"text\": \"finger beige bright white golden pumpkin pumpkin color beige creamy rocky whipped whipped cream creamy head Pale golden Appearance\", \"groups\": false, \"x\": 13.21398639678955, \"y\": 8.75737476348877}, {\"text\": \"clear golden golden color pale clear color golden sticky head Big Fabulous carbonation hop\", \"groups\": false, \"x\": 13.800909996032715, \"y\": 7.381271839141846}, {\"text\": \"imperial pint Poured imperial pint firm off-white light-orange cap puffy foam Big completely clear clear golden\", \"groups\": false, \"x\": 16.070972442626953, \"y\": 8.119606971740723}, {\"text\": \"American pint traditional American trade pint glass glass extra flexabull American Great sticky\", \"groups\": false, \"x\": 15.963237762451172, \"y\": 7.526604175567627}, {\"text\": \"nice clear nice fluffy clear orange light amber white head amber color fluffy white Caldera IPA IPA flows nice\", \"groups\": false, \"x\": 14.084481239318848, \"y\": 4.873829364776611}, {\"text\": \"Dropped hard imperial pint pint produces big white white fine hazy apple apple juice Dropped fine head fluid\", \"groups\": false, \"x\": 15.622174263000488, \"y\": 6.165651321411133}, {\"text\": \"AKA McLargeHuge golden yellow orange hue fizzy head light bright bright golden small fizzy AKA Pours nice light\", \"groups\": false, \"x\": 14.89046573638916, \"y\": 7.644989490509033}]}}, {\"mode\": \"vega-lite\"});\n",
              "</script>"
            ],
            "text/plain": [
              "alt.Chart(...)"
            ]
          },
          "metadata": {},
          "execution_count": 90
        }
      ]
    },
    {
      "cell_type": "code",
      "source": [
        "# visualization code - UMAP - 3D\n",
        "import matplotlib.pyplot as plt\n",
        "%matplotlib inline\n",
        "def UMAP_plot_3D(emb,groups):\n",
        "  reducer = umap.UMAP(n_neighbors=20,n_components=3) \n",
        "  principal_comp = reducer.fit_transform(emb)\n",
        "\n",
        "  x = []\n",
        "  y = []\n",
        "  z = []\n",
        "  \n",
        "  for value in principal_comp:\n",
        "    x.append(value[0])\n",
        "    y.append(value[1])\n",
        "    z.append(value[2])\n",
        "        \n",
        "  plt.figure(figsize=(16, 16)) \n",
        "  # Creating figure\n",
        "  fig = plt.figure(figsize = (16, 16))\n",
        "  ax = plt.axes(projection =\"3d\")\n",
        "  \n",
        "  # Creating plot\n",
        "  ax.scatter3D(x, y, z, c=groups)\n",
        "  plt.title(\"simple 3D scatter plot\")\n",
        "\n",
        "  plt.show()"
      ],
      "metadata": {
        "id": "oUfSLO60v5Kh"
      },
      "execution_count": null,
      "outputs": []
    },
    {
      "cell_type": "code",
      "source": [
        "UMAP_plot_3D(emb_distilled,text_search)"
      ],
      "metadata": {
        "colab": {
          "base_uri": "https://localhost:8080/",
          "height": 918
        },
        "id": "tDuEhYMZ1Ez8",
        "outputId": "daee81fb-f58a-42b6-c055-ea2501f4a160"
      },
      "execution_count": null,
      "outputs": [
        {
          "output_type": "display_data",
          "data": {
            "text/plain": [
              "<Figure size 1152x1152 with 0 Axes>"
            ]
          },
          "metadata": {}
        },
        {
          "output_type": "display_data",
          "data": {
            "text/plain": [
              "<Figure size 1152x1152 with 1 Axes>"
            ],
            "image/png": "[encoded data removed]"
          },
          "metadata": {
            "needs_background": "light"
          }
        }
      ]
    },
    {
      "cell_type": "markdown",
      "source": [
        "# Useful Code Snippets"
      ],
      "metadata": {
        "id": "6vkDkW16kjmM"
      }
    },
    {
      "cell_type": "markdown",
      "source": [
        "counting documents including a concept"
      ],
      "metadata": {
        "id": "JrKkvOLFN04G"
      }
    },
    {
      "cell_type": "code",
      "source": [
        "distilled_counter, original_counter = 0,0\n",
        "trg = 'beer'\n",
        "for item in distilled_docs:\n",
        "  if ' '.join(item).find(trg) != -1:\n",
        "    distilled_counter +=1 \n",
        "for item in texts:\n",
        "  if item.find(trg) != -1:\n",
        "    original_counter +=1 "
      ],
      "metadata": {
        "id": "iMiFAYVvNz7P"
      },
      "execution_count": null,
      "outputs": []
    },
    {
      "cell_type": "code",
      "source": [
        "print(f\"original docs  - {original_counter} --- distilled docs - {distilled_counter}\")"
      ],
      "metadata": {
        "colab": {
          "base_uri": "https://localhost:8080/"
        },
        "id": "evmTKD2PQbyb",
        "outputId": "b75083d7-9fd8-4108-923a-2591b38d5904"
      },
      "execution_count": null,
      "outputs": [
        {
          "output_type": "stream",
          "name": "stdout",
          "text": [
            "original docs  - 3032 --- distilled docs - 1175\n"
          ]
        }
      ]
    },
    {
      "cell_type": "markdown",
      "source": [
        "SetFit Model - Neural Compression"
      ],
      "metadata": {
        "id": "CG1jS3ldPF_M"
      }
    },
    {
      "cell_type": "code",
      "source": [
        "!pip install setfit neural_compressor optimum[onnxruntime]==1.5.0 onnxruntime_extensions"
      ],
      "metadata": {
        "id": "iOpnFOhxOkcg"
      },
      "execution_count": null,
      "outputs": []
    },
    {
      "cell_type": "code",
      "source": [
        "from transformers import pipeline\n",
        "%%capture\n",
        "model = SentenceTransformer('all-MiniLM-L6-v2')"
      ],
      "metadata": {
        "id": "tzAtEAgC4ZB8"
      },
      "execution_count": null,
      "outputs": []
    },
    {
      "cell_type": "markdown",
      "source": [
        "Utilities"
      ],
      "metadata": {
        "id": "fGlEzADmm27f"
      }
    },
    {
      "cell_type": "markdown",
      "source": [
        "The below is the data prep for th multiclass classification"
      ],
      "metadata": {
        "id": "GyvCNoAvleFR"
      }
    },
    {
      "cell_type": "code",
      "source": [
        "#Multiple values can be selected with shift and/or ctrl (or command) pressed and mouse clicks or arrow keys.\n",
        "picker = widgets.SelectMultiple(\n",
        "    options=top_10,\n",
        "    #value=['Oranges'],\n",
        "    #rows=10,\n",
        "    description='Concepts',\n",
        "    disabled=False\n",
        ")\n",
        "display(picker)"
      ],
      "metadata": {
        "colab": {
          "base_uri": "https://localhost:8080/",
          "height": 111,
          "referenced_widgets": [
            "a812ae90b5044809a8a3f131a3d19918",
            "d934c915c844482d819b39490638e411",
            "18f676db3cc1423e8105a8a19b0689d0"
          ]
        },
        "id": "DaeoP608ZQZy",
        "outputId": "373daf1b-8e71-4487-ec40-d92a78044986"
      },
      "execution_count": null,
      "outputs": [
        {
          "output_type": "display_data",
          "data": {
            "text/plain": [
              "SelectMultiple(description='Concepts', options=('white head', 'head', 'pours', 'hops', 'Nice', 'light', 'malt'…"
            ],
            "application/vnd.jupyter.widget-view+json": {
              "version_major": 2,
              "version_minor": 0,
              "model_id": "a812ae90b5044809a8a3f131a3d19918"
            }
          },
          "metadata": {}
        }
      ]
    },
    {
      "cell_type": "code",
      "source": [
        "input = list(picker.value)"
      ],
      "metadata": {
        "id": "lc8L8Npoizz8"
      },
      "execution_count": null,
      "outputs": []
    },
    {
      "cell_type": "code",
      "source": [
        "def groups(concepts, docs):\n",
        "  targets = {}\n",
        "  for item in concepts:\n",
        "    targets[item] = []\n",
        "  for key in targets:\n",
        "    for ind, item in enumerate(docs):\n",
        "      if key in item:\n",
        "        targets[key].append((ind,item))\n",
        "    if len(targets[key]) < 20 and len(targets[key]) > 10:\n",
        "      print(f\"this class has only: {len(targets[key])} examples, are you sure you want to train the model for this?\")  \n",
        "    if len(targets[key]) < 10:\n",
        "      print(f\"this class has only: {len(targets[key])} examples, proceed at you own risk, it probably won't end up well...?\") \n",
        "    print(f'there are {len(targets[key])} examples in the selected class') \n",
        "  return targets"
      ],
      "metadata": {
        "id": "j-xMnWBhm2M4"
      },
      "execution_count": null,
      "outputs": []
    },
    {
      "cell_type": "code",
      "source": [
        "out = groups(input, distilled_docs)"
      ],
      "metadata": {
        "colab": {
          "base_uri": "https://localhost:8080/"
        },
        "id": "w6Dgx7Xrj3o_",
        "outputId": "09b13958-ef99-4be2-fc3d-2e19056e8ae3"
      },
      "execution_count": null,
      "outputs": [
        {
          "output_type": "stream",
          "name": "stdout",
          "text": [
            "there are 66 examples in the selected class\n",
            "there are 10 examples in the selected class\n",
            "this class has only: 8 examples, proceed at you own risk, it probably won't end up well...?\n",
            "there are 8 examples in the selected class\n"
          ]
        }
      ]
    },
    {
      "cell_type": "markdown",
      "source": [
        "PPrint Ulitily"
      ],
      "metadata": {
        "id": "yE56UAC0lqjC"
      }
    },
    {
      "cell_type": "code",
      "source": [
        "import pprint\n",
        "pp = pprint.PrettyPrinter(width = 80)"
      ],
      "metadata": {
        "id": "BtLiEm6_m2Hk"
      },
      "execution_count": null,
      "outputs": []
    },
    {
      "cell_type": "code",
      "source": [
        "pp.pprint(texts[:4])"
      ],
      "metadata": {
        "id": "MFpUGdvvnMe1",
        "outputId": "dd29f942-6e1a-4bec-fdcc-f26c5a0d764e",
        "colab": {
          "base_uri": "https://localhost:8080/"
        }
      },
      "execution_count": null,
      "outputs": [
        {
          "output_type": "stream",
          "name": "stdout",
          "text": [
            "['A lot of foam. But a lot. In the smell some banana, and then lactic and '\n",
            " 'tart. Not a good start. Quite dark orange in color, with a lively '\n",
            " 'carbonation (now visible, under the foam). Again tending to lactic sourness. '\n",
            " 'Same for the taste. With some yeast and banana.',\n",
            " 'Dark red color, light beige foam, average. In the smell malt and caramel, '\n",
            " 'not really light. Again malt and caramel in the taste, not bad in the end. '\n",
            " 'Maybe a note of honey in teh back, and a light fruitiness. Average body. In '\n",
            " 'the aftertaste a light bitterness, with the malt and red fruit. Nothing '\n",
            " 'exceptional, but not bad, drinkable beer.',\n",
            " 'Almost totally black. Beige foam, quite compact, not bad. Light smell, just '\n",
            " 'a bit of roast, and some hop. A bit too light. The taste is light oo, and '\n",
            " 'drinkable, with some malt, roast, hints of coffee. Nothing exceptional, but '\n",
            " 'after all drinkable and pleasant. Light to average body. In the aftertaste '\n",
            " 'some dust, somr roast, hint of caramel, and a bit of bitterness. No defect, '\n",
            " 'drinkable, not bad.',\n",
            " 'Golden yellow color. White, compact foam, quite creamy. Good appearance. '\n",
            " 'Fresh smell, with good hop. Quite dry, with a good grassy note. Hay. Fresh '\n",
            " 'and pleasant. More sweet in the mouth, with honey. The hop comes back in the '\n",
            " 'end, and in the aftertaste. Not bad, but a bit too sweet for a pils. In the '\n",
            " 'end some vanilla and camomile note. In the aftertaste, too. Though the hop, '\n",
            " 'a bit too sweet. Honest.']\n"
          ]
        }
      ]
    },
    {
      "cell_type": "markdown",
      "source": [
        "Visualization"
      ],
      "metadata": {
        "id": "u3I8Dlw0M6RR"
      }
    },
    {
      "cell_type": "code",
      "source": [
        "import matplotlib.pyplot as plt\n",
        "%matplotlib inline"
      ],
      "metadata": {
        "id": "c3D6_dZqOC1v"
      },
      "execution_count": null,
      "outputs": []
    },
    {
      "cell_type": "code",
      "source": [
        "# visualization code - PCA\n",
        "from sklearn.decomposition import PCA\n",
        "def PCA_plot(emb):\n",
        "  pca = PCA(n_components=2)\n",
        "  #Creates and PCA model and plots it\n",
        "  principal_comp = pca.fit_transform(emb)\n",
        "\n",
        "  x = []\n",
        "  y = []\n",
        "  for value in principal_comp:\n",
        "    x.append(value[0])\n",
        "    y.append(value[1])\n",
        "        \n",
        "  plt.figure(figsize=(16, 16)) \n",
        "  #Outputting all the embeddings\n",
        "  for i in range(len(x)):\n",
        "    plt.scatter(x[i],y[i])\n",
        "  plt.show()"
      ],
      "metadata": {
        "id": "dHq_Fr14N_Un"
      },
      "execution_count": null,
      "outputs": []
    },
    {
      "cell_type": "code",
      "source": [
        "# visualization code - PCA - 3D\n",
        "from sklearn.decomposition import PCA\n",
        "def PCA_plot_3D(emb):\n",
        "  pca = PCA(n_components=3)\n",
        "  #Creates and PCA model and plots it\n",
        "  principal_comp = pca.fit_transform(emb)\n",
        "\n",
        "  x = []\n",
        "  y = []\n",
        "  z = []\n",
        "  for value in principal_comp:\n",
        "    x.append(value[0])\n",
        "    y.append(value[1])\n",
        "    z.append(value[2])\n",
        "        \n",
        "  plt.figure(figsize=(16, 16)) \n",
        "  # Creating figure\n",
        "  fig = plt.figure(figsize = (16, 16))\n",
        "  ax = plt.axes(projection =\"3d\")\n",
        "  \n",
        "  # Creating plot\n",
        "  ax.scatter3D(x, y, z, color = \"blue\")\n",
        "  plt.title(\"simple 3D scatter plot\")\n",
        "\n",
        "  #Outputting all the embeddings\n",
        "  #for i in range(len(x)):\n",
        "    #plt.scatter(x[i],y[i])\n",
        "  plt.show()"
      ],
      "metadata": {
        "id": "TMYp83xSOOHi"
      },
      "execution_count": null,
      "outputs": []
    },
    {
      "cell_type": "code",
      "source": [
        "PCA_plot_3D(emb_distilled)"
      ],
      "metadata": {
        "colab": {
          "base_uri": "https://localhost:8080/",
          "height": 918
        },
        "id": "yhM2CVXCm4_S",
        "outputId": "23a25af0-410f-46d5-975c-4aaabe26f339"
      },
      "execution_count": null,
      "outputs": [
        {
          "output_type": "display_data",
          "data": {
            "text/plain": [
              "<Figure size 1152x1152 with 0 Axes>"
            ]
          },
          "metadata": {}
        },
        {
          "output_type": "display_data",
          "data": {
            "text/plain": [
              "<Figure size 1152x1152 with 1 Axes>"
            ],
            "image/png": "[encoded data removed]"
          },
          "metadata": {
            "needs_background": "light"
          }
        }
      ]
    },
    {
      "cell_type": "markdown",
      "source": [
        "SetFit test code using Hugginface Datasets"
      ],
      "metadata": {
        "id": "O3NRQ7cQdHnl"
      }
    },
    {
      "cell_type": "code",
      "source": [
        "# Load a dataset from the Hugging Face Hub\n",
        "dataset = load_dataset(\"sst2\")\n",
        "\n",
        "# Simulate the few-shot regime by sampling 8 examples per class\n",
        "num_classes = 2\n",
        "train_dataset = dataset[\"train\"].shuffle(seed=42).select(range(8 * num_classes))\n",
        "eval_dataset = dataset[\"validation\"]"
      ],
      "metadata": {
        "id": "NIr20EhKQ6fP"
      },
      "execution_count": null,
      "outputs": []
    },
    {
      "cell_type": "code",
      "source": [
        "# Load a SetFit model from Hub\n",
        "model = SetFitModel.from_pretrained(\"sentence-transformers/paraphrase-mpnet-base-v2\")\n",
        "\n",
        "# Create trainer\n",
        "trainer = SetFitTrainer(\n",
        "    model=model,\n",
        "    train_dataset=train_dataset,\n",
        "    eval_dataset=eval_dataset,\n",
        "    loss_class=CosineSimilarityLoss,\n",
        "    metric=\"accuracy\",\n",
        "    batch_size=16,\n",
        "    num_iterations=20, # The number of text pairs to generate for contrastive learning\n",
        "    num_epochs=1, # The number of epochs to use for contrastive learning\n",
        "    column_mapping={\"sentence\": \"text\", \"label\": \"label\"} # Map dataset columns to text/label expected by trainer\n",
        ")"
      ],
      "metadata": {
        "id": "1ibAd_AY7fTv"
      },
      "execution_count": null,
      "outputs": []
    },
    {
      "cell_type": "code",
      "source": [
        "# Train and evaluate\n",
        "trainer.train()\n",
        "metrics = trainer.evaluate()"
      ],
      "metadata": {
        "id": "gg5kvT5KKOqV"
      },
      "execution_count": null,
      "outputs": []
    },
    {
      "cell_type": "code",
      "source": [
        "metrics"
      ],
      "metadata": {
        "colab": {
          "base_uri": "https://localhost:8080/"
        },
        "id": "Qy2BOOQ9OgWf",
        "outputId": "3816bf9f-1f8c-4dc7-e68e-3306e43b4af4"
      },
      "execution_count": null,
      "outputs": [
        {
          "output_type": "execute_result",
          "data": {
            "text/plain": [
              "{'accuracy': 0.6559633027522935}"
            ]
          },
          "metadata": {},
          "execution_count": 39
        }
      ]
    },
    {
      "cell_type": "markdown",
      "source": [
        "TF-IDF"
      ],
      "metadata": {
        "id": "6kOpJvRkk2Rp"
      }
    },
    {
      "cell_type": "code",
      "source": [
        "from sklearn.feature_extraction.text import TfidfVectorizer\n",
        "dataset = [\n",
        "    \"I enjoy reading about Machine Learning and Machine Learning is my PhD subject\",\n",
        "    \"I would enjoy a walk in the park\",\n",
        "    \"I was reading in the library\"\n",
        "]"
      ],
      "metadata": {
        "id": "O2T2ACPox-M9"
      },
      "execution_count": null,
      "outputs": []
    },
    {
      "cell_type": "code",
      "source": [
        "tfIdfVectorizer=TfidfVectorizer(use_idf=True)\n",
        "tfIdf = tfIdfVectorizer.fit_transform(dataset)\n",
        "df = pd.DataFrame(tfIdf[0].T.todense(), index=tfIdfVectorizer.get_feature_names(), columns=[\"TF-IDF\"])\n",
        "df = df.sort_values('TF-IDF', ascending=False)\n",
        "print (df.head(25))"
      ],
      "metadata": {
        "id": "IPYabjR4xPmV"
      },
      "execution_count": null,
      "outputs": []
    },
    {
      "cell_type": "markdown",
      "source": [
        "spaCY"
      ],
      "metadata": {
        "id": "TLnb9htglChT"
      }
    },
    {
      "cell_type": "code",
      "source": [
        "import spacy \n",
        "from spacy.language import Language "
      ],
      "metadata": {
        "id": "snv20Lm1lQV9"
      },
      "execution_count": null,
      "outputs": []
    },
    {
      "cell_type": "code",
      "source": [
        "# text processing      \n",
        "nlp = spacy.load('en_core_web_sm')        \n",
        "#df['Tokens'] = df.Sumcription.apply(lambda x: nlp(x))    \n",
        "spacy_stopwords = spacy.lang.en.stop_words.STOP_WORDS        \n",
        "#spacy_stopwords.add('attach')\n",
        "#df['Lema_Token']  = df.Tokens.apply(lambda x: \" \".join([token.lemma_ for token in x if token not in spacy_stopwords]))"
      ],
      "metadata": {
        "id": "-Wqd8CBGP0Gu"
      },
      "execution_count": null,
      "outputs": []
    },
    {
      "cell_type": "code",
      "source": [
        "@Language.component(\"info_component\")\n",
        "def my_component(doc):\n",
        "    #print(f\"After tokenization, this doc has {len(doc)} tokens.\")\n",
        "    print(\"The lemmatized tokens are:\", [token.lemma_ for token in doc])\n",
        "    return doc\n",
        "\n",
        "nlp = spacy.load(\"en_core_web_sm\", disable = ['ner'])\n",
        "pipeline = [\"tok2vec\", \"parser\", \"lemmatizer\"]\n",
        "\n",
        "nlp.add_pipe(\"info_component\", name=\"print_info\",last=True)\n",
        "print(nlp.pipe_names)  # ['tagger', 'parser', 'ner', 'print_info']\n",
        "doc = nlp(\"This is a sentence.\")"
      ],
      "metadata": {
        "id": "_nmLg6LYSl2u"
      },
      "execution_count": null,
      "outputs": []
    },
    {
      "cell_type": "code",
      "source": [
        "spacy_stopwords = spacy.lang.en.stop_words.STOP_WORDS\n",
        "tokens = [token.lemma_ for token in doc if token.lemma_ not in spacy_stopwords and not token.is_punct]  "
      ],
      "metadata": {
        "id": "w8linSTQjg75"
      },
      "execution_count": null,
      "outputs": []
    },
    {
      "cell_type": "code",
      "source": [
        "#tensors\n",
        "vectors = [item.tensor for item in doc]\n",
        "# not lemmatized tokens\n",
        "tokens = [item.text for item in doc]"
      ],
      "metadata": {
        "id": "VwKExqIUqq6m"
      },
      "execution_count": null,
      "outputs": []
    },
    {
      "cell_type": "code",
      "source": [
        "# NLP Pipelien\n",
        "nlp = spacy.load(\"en_core_web_sm\")\n",
        "doc = nlp(\"This is a sentence.\")\n",
        "print(nlp.pipe_names)"
      ],
      "metadata": {
        "colab": {
          "base_uri": "https://localhost:8080/"
        },
        "id": "HPFNVjurFTeX",
        "outputId": "10f1f49d-894b-4648-892d-68ab4f7ee606"
      },
      "execution_count": null,
      "outputs": [
        {
          "output_type": "stream",
          "name": "stdout",
          "text": [
            "['tok2vec', 'tagger', 'parser', 'attribute_ruler', 'lemmatizer', 'ner']\n"
          ]
        }
      ]
    },
    {
      "cell_type": "code",
      "source": [
        "for doc in nlp.pipe(texts[:20]):\n",
        "  print(doc.ents)"
      ],
      "metadata": {
        "id": "fcY6o5n4PKni"
      },
      "execution_count": null,
      "outputs": []
    },
    {
      "cell_type": "code",
      "source": [
        "texts_spacy = []\n",
        "for doc in nlp.pipe(texts[:3000]):\n",
        "  tokens = [token.lemma_ for token in doc if token.lemma_ not in spacy_stopwords and not token.is_punct]\n",
        "\n",
        "  texts_spacy.append(' '.join(tokens))"
      ],
      "metadata": {
        "id": "p7SAKBhjHJid"
      },
      "execution_count": null,
      "outputs": []
    },
    {
      "cell_type": "code",
      "source": [
        "texts_spacy_texts = []\n",
        "for doc in nlp.pipe(texts[:3000]):\n",
        "  tokens = [token.text for token in doc if token.text not in spacy_stopwords and not token.is_punct]\n",
        "  texts_spacy_texts.append(' '.join(tokens))"
      ],
      "metadata": {
        "id": "Wsu5MkrxKWUy"
      },
      "execution_count": null,
      "outputs": []
    },
    {
      "cell_type": "code",
      "source": [
        "tfIdfVectorizer=TfidfVectorizer(use_idf=True)\n",
        "tfIdf = tfIdfVectorizer.fit_transform(texts[:3000])\n",
        "df = pd.DataFrame(tfIdf[0].T.todense(), index=tfIdfVectorizer.get_feature_names(), columns=[\"TF-IDF\"])\n",
        "df = df.sort_values('TF-IDF', ascending=False)\n",
        "print (df.head(50))"
      ],
      "metadata": {
        "id": "UiEfZnrZDf1f"
      },
      "execution_count": null,
      "outputs": []
    },
    {
      "cell_type": "markdown",
      "source": [
        "Rake-NLTK"
      ],
      "metadata": {
        "id": "yTyQ6IXhnU8C"
      }
    },
    {
      "cell_type": "code",
      "source": [
        "%%capture\n",
        "!pip install rake_nltk"
      ],
      "metadata": {
        "id": "qrG-IMrhZXJ_"
      },
      "execution_count": null,
      "outputs": []
    },
    {
      "cell_type": "code",
      "source": [
        "from rake_nltk import Rake\n",
        "import nltk\n",
        "%%capture\n",
        "nltk.download('stopwords')\n",
        "nltk.download('punkt')"
      ],
      "metadata": {
        "id": "tbjc8ScxY_y6"
      },
      "execution_count": null,
      "outputs": []
    },
    {
      "cell_type": "code",
      "source": [
        "rake_nltk_var = Rake(include_repeated_phrases=False, min_length=1, max_length=3)\n",
        "rake_nltk_var.extract_keywords_from_text(long_text)\n",
        "keyword_extracted = rake_nltk_var.get_ranked_phrases_with_scores()\n",
        "#print(keyword_extracted)"
      ],
      "metadata": {
        "id": "p6u7oC4xZeHn"
      },
      "execution_count": null,
      "outputs": []
    },
    {
      "cell_type": "markdown",
      "source": [
        "Higging Face SetFit training block (alternative to the above)"
      ],
      "metadata": {
        "id": "Oi_tKI3r-56T"
      }
    },
    {
      "cell_type": "code",
      "source": [
        "# Load a SetFit model from Hub\n",
        "model = SetFitModel.from_pretrained(\n",
        "    \"sentence-transformers/paraphrase-mpnet-base-v2\",\n",
        "    use_differentiable_head=True,\n",
        "    head_params={\"out_features\": num_classes},\n",
        ")\n",
        "\n",
        "# Create trainer\n",
        "trainer = SetFitTrainer(\n",
        "    model=model,\n",
        "    train_dataset=train_dataset,\n",
        "    eval_dataset=eval_dataset,\n",
        "    loss_class=CosineSimilarityLoss,\n",
        "    metric=\"accuracy\",\n",
        "    batch_size=16,\n",
        "    num_iterations=20, # The number of text pairs to generate for contrastive learning\n",
        "    num_epochs=1, # The number of epochs to use for contrastive learning\n",
        "    column_mapping={\"sentence\": \"text\", \"label\": \"label\"} # Map dataset columns to text/label expected by trainer\n",
        ")\n",
        "\n",
        "# Train and evaluate\n",
        "trainer.freeze() # Freeze the head\n",
        "trainer.train() # Train only the body\n",
        "\n",
        "# Unfreeze the head and freeze the body -> head-only training\n",
        "trainer.unfreeze(keep_body_frozen=True)\n",
        "# or\n",
        "# Unfreeze the head and unfreeze the body -> end-to-end training\n",
        "trainer.unfreeze(keep_body_frozen=False)\n",
        "\n",
        "trainer.train(\n",
        "    num_epochs=25, # The number of epochs to train the head or the whole model (body and head)\n",
        "    batch_size=16,\n",
        "    body_learning_rate=1e-5, # The body's learning rate\n",
        "    learning_rate=1e-2, # The head's learning rate\n",
        "    l2_weight=0.0, # Weight decay on **both** the body and head. If `None`, will use 0.01.\n",
        ")\n",
        "metrics = trainer.evaluate()\n",
        "\n",
        "# Push model to the Hub\n",
        "trainer.push_to_hub(\"my-awesome-setfit-model\")\n",
        "\n",
        "# Download from Hub and run inference\n",
        "model = SetFitModel.from_pretrained(\"lewtun/my-awesome-setfit-model\")\n",
        "# Run inference\n",
        "preds = model([\"i loved the spiderman movie!\", \"pineapple on pizza is the worst 🤮\"]) "
      ],
      "metadata": {
        "id": "d-Hdtde-RK2s"
      },
      "execution_count": null,
      "outputs": []
    },
    {
      "cell_type": "markdown",
      "source": [
        "SBERT Testing Code"
      ],
      "metadata": {
        "id": "LGAFqmHI1Wsq"
      }
    },
    {
      "cell_type": "code",
      "source": [
        "#Embedding Demo code (how to calculate distances btw vectors)\n",
        "#Compute embedding \n",
        "embeddings1 = model.encode([texts[0]], convert_to_tensor=True)\n",
        "embeddings2 = model.encode([' '.join(distilled_docs[0])], convert_to_tensor=True)\n",
        "\n",
        "#Compute cosine-similarities\n",
        "cosine_score = util.cos_sim(embeddings1, embeddings2)"
      ],
      "metadata": {
        "id": "Bp0ide2CE3-i"
      },
      "execution_count": null,
      "outputs": []
    },
    {
      "cell_type": "code",
      "source": [
        "embeddings1 = model.encode([texts[5]], convert_to_tensor=True)\n",
        "cosine_score = util.cos_sim(embeddings1, embeddings2)"
      ],
      "metadata": {
        "id": "84Qo6FeaGApG"
      },
      "execution_count": null,
      "outputs": []
    },
    {
      "cell_type": "markdown",
      "source": [
        "Setfit creating training dataset for multilable classfier"
      ],
      "metadata": {
        "id": "UFdBzmTw0s7I"
      }
    },
    {
      "cell_type": "code",
      "source": [
        "!pip install datasets"
      ],
      "metadata": {
        "id": "Xyw6bjxV06Hu"
      },
      "execution_count": null,
      "outputs": []
    },
    {
      "cell_type": "code",
      "source": [
        "from datasets import load_dataset\n",
        "\n",
        "dataset = load_dataset(\"ethos\", \"multilabel\")"
      ],
      "metadata": {
        "id": "A2WlyW8L09ek"
      },
      "execution_count": null,
      "outputs": []
    },
    {
      "cell_type": "code",
      "source": [
        "dataset['train'][382]"
      ],
      "metadata": {
        "id": "IN1ErQY11B7d"
      },
      "execution_count": null,
      "outputs": []
    },
    {
      "cell_type": "code",
      "source": [
        "import numpy as np\n",
        "\n",
        "features = dataset[\"train\"].column_names\n",
        "features.remove(\"text\")\n",
        "#features\n",
        "\n",
        "num_samples = 2\n",
        "samples = np.concatenate(\n",
        "    [np.random.choice(np.where(dataset[\"train\"][f])[0], num_samples) for f in features]\n",
        ")\n",
        "\n",
        "def encode_labels(record):\n",
        "    return {\"labels\": [record[feature] for feature in features]}\n",
        "dataset = dataset.map(encode_labels)\n",
        "\n",
        "train_dataset = dataset[\"train\"].select(samples)"
      ],
      "metadata": {
        "id": "cgIgIJhf1FHJ"
      },
      "execution_count": null,
      "outputs": []
    },
    {
      "cell_type": "markdown",
      "source": [
        "KeyBert"
      ],
      "metadata": {
        "id": "Mva8SwiG7kRY"
      }
    },
    {
      "cell_type": "code",
      "source": [
        "%%capture\n",
        "!pip install keybert"
      ],
      "metadata": {
        "id": "xYxhtwAe7m78"
      },
      "execution_count": null,
      "outputs": []
    },
    {
      "cell_type": "code",
      "source": [
        "from keybert import KeyBERT\n",
        "kw_model = KeyBERT()"
      ],
      "metadata": {
        "id": "3zGwUEYC7rLV"
      },
      "execution_count": null,
      "outputs": []
    },
    {
      "cell_type": "code",
      "source": [
        "keywords = kw_model.extract_keywords(corpus, keyphrase_ngram_range=(1, 3), top_n=50, stop_words=None)\n",
        "keywords"
      ],
      "metadata": {
        "id": "B6tr9gQe9X3E",
        "outputId": "ee9f7e32-2ec4-48a4-c65c-ea3b95016a7d",
        "colab": {
          "base_uri": "https://localhost:8080/"
        }
      },
      "execution_count": null,
      "outputs": [
        {
          "output_type": "execute_result",
          "data": {
            "text/plain": [
              "[('tasting pale ale', 0.6007),\n",
              " ('ale fruitiness', 0.5896),\n",
              " ('yeastiness flavor nice', 0.5848),\n",
              " ('yeastiness flavor', 0.5824),\n",
              " ('like yeastiness flavor', 0.5817),\n",
              " ('pale ale aroma', 0.5811),\n",
              " ('pale ale taste', 0.5769),\n",
              " ('of ale fruitiness', 0.5728),\n",
              " ('roasted malt aromas', 0.5674),\n",
              " ('aftertaste this beer', 0.5672),\n",
              " ('light beer aftertaste', 0.5657),\n",
              " ('tasty pale ale', 0.5647),\n",
              " ('typical pale ale', 0.56),\n",
              " ('pale ale smell', 0.5581),\n",
              " ('caramel malt aroma', 0.5579),\n",
              " ('good pale ale', 0.5543),\n",
              " ('beer aftertaste', 0.5536),\n",
              " ('beer aftertaste this', 0.5518),\n",
              " ('dark brown ale', 0.5466),\n",
              " ('after taste weird', 0.5459),\n",
              " ('decent pale ale', 0.5441),\n",
              " ('yeasty fruitiness greeted', 0.5433),\n",
              " ('creaminess and roast', 0.5433),\n",
              " ('tasty brew appearance', 0.5425),\n",
              " ('some pale ale', 0.5424),\n",
              " ('ale with foamy', 0.5411),\n",
              " ('yeasty fruitiness', 0.5405),\n",
              " ('pale ale appears', 0.5403),\n",
              " ('roasty brown ale', 0.54),\n",
              " ('brown ale good', 0.5399),\n",
              " ('taste very light', 0.5399),\n",
              " ('astringent taste that', 0.539),\n",
              " ('roasted aroma and', 0.5379),\n",
              " ('describe the flavor', 0.5374),\n",
              " ('slightly bitter aftertaste', 0.5373),\n",
              " ('ale taste', 0.5373),\n",
              " ('slightly fruity taste', 0.5371),\n",
              " ('astringent taste', 0.5362),\n",
              " ('ale light aromas', 0.5359),\n",
              " ('flavor the aftertaste', 0.5359),\n",
              " ('aroma caramel malt', 0.5347),\n",
              " ('fruity aromas', 0.5334),\n",
              " ('aromas of roasted', 0.5319),\n",
              " ('great pale ale', 0.5318),\n",
              " ('pale ale appearance', 0.5316),\n",
              " ('nice pale ale', 0.5314),\n",
              " ('brown ale lacking', 0.5297),\n",
              " ('astringent coffee roast', 0.5296),\n",
              " ('the yeast taste', 0.5293),\n",
              " ('malt flavors taste', 0.5292)]"
            ]
          },
          "metadata": {},
          "execution_count": 24
        }
      ]
    },
    {
      "cell_type": "code",
      "source": [
        "# changing cell value based on the condition\n",
        "import pandas as pd\n",
        "import numpy as np\n",
        "  \n",
        "# data\n",
        "Student = {\n",
        "    'Name': ['John', 'Jay', 'sachin', 'Geetha', 'Amutha', 'ganesh'],\n",
        "    'gender': ['male', 'male', 'male', 'female', 'female', 'male'],\n",
        "    'math score': [50, 100, 70, 80, 75, 40],\n",
        "    'test preparation': ['none', 'completed', 'none', 'completed',\n",
        "                         'completed', 'none'],\n",
        "}\n",
        "  \n",
        "# creating a Dataframe object\n",
        "df = pd.DataFrame(Student)\n",
        "  \n",
        "# Applying the condition\n",
        "df.loc[df[\"gender\"] == \"male\", \"gender\"] = 1\n",
        "# change column type to str\n",
        "df['Age'] = df['Age'].apply(str)\n",
        "# select rows by type:\n",
        "df[df['A'].apply(lambda x: isinstance(x, str))]"
      ],
      "metadata": {
        "id": "2GzLMPhOf49F"
      },
      "execution_count": null,
      "outputs": []
    }
  ]
}