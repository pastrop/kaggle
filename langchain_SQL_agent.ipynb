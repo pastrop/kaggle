{
  "nbformat": 4,
  "nbformat_minor": 0,
  "metadata": {
    "colab": {
      "provenance": [],
      "authorship_tag": "ABX9TyMF09HlOtO6dbhzLpzdDx5R",
      "include_colab_link": true
    },
    "kernelspec": {
      "name": "python3",
      "display_name": "Python 3"
    },
    "language_info": {
      "name": "python"
    }
  },
  "cells": [
    {
      "cell_type": "markdown",
      "metadata": {
        "id": "view-in-github",
        "colab_type": "text"
      },
      "source": [
        "<a href=\"https://colab.research.google.com/github/pastrop/kaggle/blob/master/langchain_SQL_agent.ipynb\" target=\"_parent\"><img src=\"https://colab.research.google.com/assets/colab-badge.svg\" alt=\"Open In Colab\"/></a>"
      ]
    },
    {
      "cell_type": "markdown",
      "source": [
        "Create a database"
      ],
      "metadata": {
        "id": "gEKhiEZa8iTg"
      }
    },
    {
      "cell_type": "code",
      "execution_count": null,
      "metadata": {
        "id": "JkHtErif8Rul"
      },
      "outputs": [],
      "source": [
        "from sqlalchemy import MetaData\n",
        "\n",
        "metadata_obj = MetaData()"
      ]
    },
    {
      "cell_type": "code",
      "source": [
        "from sqlalchemy import Column, Integer, String, Table, Float\n",
        "\n",
        "luminoso = Table(\n",
        "    \"luminoso\",\n",
        "    metadata_obj,\n",
        "    Column(\"obs_id\", Integer, primary_key=True),\n",
        "    Column(\"concept\", String(20), nullable=False),\n",
        "    Column(\"positive_sentiment\", Float, nullable=False),\n",
        "    Column(\"Docs\", Integer, nullable=False),\n",
        ")"
      ],
      "metadata": {
        "id": "-VBm50Bk8pBc"
      },
      "execution_count": null,
      "outputs": []
    },
    {
      "cell_type": "code",
      "source": [
        "from sqlalchemy import create_engine\n",
        "\n",
        "engine = create_engine(\"sqlite:///:memory:\")\n",
        "metadata_obj.create_all(engine)"
      ],
      "metadata": {
        "id": "MVmAhn2W8tcy"
      },
      "execution_count": null,
      "outputs": []
    },
    {
      "cell_type": "code",
      "source": [
        "observations_lumi = [\n",
        "    [1, 'laptop', 0.64, 1435],\n",
        "    [2, 'appearance', 0.95, 1327],\n",
        "    [3, 'smooth', 0.97, 601],\n",
        "    [4, 'keyboard', 0.66, 687],\n",
        "    [5, 'packaging protection', 0.83, 513],\n",
        "    [6, 'screen', 0.55, 1320],\n",
        "    [7, 'packaging', 0.80, 958],\n",
        "    [8, 'computer', 0.66, 1454],\n",
        "    [9, 'notebook', 0.67, 481],\n",
        "    [10, 'satisfied', .99, 433],\n",
        "]"
      ],
      "metadata": {
        "id": "DsoEbdRY8yax"
      },
      "execution_count": null,
      "outputs": []
    },
    {
      "cell_type": "code",
      "source": [
        "from sqlalchemy import insert\n",
        "\n",
        "def insert_obs_lumi(obs):\n",
        "    stmt = insert(luminoso).values(\n",
        "    obs_id=obs[0],\n",
        "    concept=obs[1],\n",
        "    positive_sentiment=obs[2],\n",
        "    Docs=obs[3]\n",
        "    )\n",
        "\n",
        "    with engine.begin() as conn:\n",
        "        conn.execute(stmt)"
      ],
      "metadata": {
        "id": "A-qZU7sI8zqw"
      },
      "execution_count": null,
      "outputs": []
    },
    {
      "cell_type": "code",
      "source": [
        "for obs in observations_lumi:\n",
        "    insert_obs_lumi(obs)"
      ],
      "metadata": {
        "id": "m3UBMCoC83tH"
      },
      "execution_count": null,
      "outputs": []
    },
    {
      "cell_type": "markdown",
      "source": [
        "Create Langchain SQL Agent"
      ],
      "metadata": {
        "id": "SMItLTsG88PR"
      }
    },
    {
      "cell_type": "code",
      "source": [
        "%%capture\n",
        "!pip install langchain_openai"
      ],
      "metadata": {
        "id": "3NjmygRq9BTw"
      },
      "execution_count": null,
      "outputs": []
    },
    {
      "cell_type": "code",
      "source": [
        "from getpass import getpass\n",
        "\n",
        "OPENAI_API_KEY = getpass()"
      ],
      "metadata": {
        "id": "IK9e4RAl9RrP"
      },
      "execution_count": null,
      "outputs": []
    },
    {
      "cell_type": "code",
      "source": [
        "from langchain_community.agent_toolkits import create_sql_agent\n",
        "from langchain_openai import ChatOpenAI\n",
        "from langchain.agents import create_openai_tools_agent\n",
        "from langchain.agents.agent import AgentExecutor"
      ],
      "metadata": {
        "id": "w-sSKX6U9GPJ"
      },
      "execution_count": null,
      "outputs": []
    },
    {
      "cell_type": "code",
      "source": [
        "llm_chat = llm = ChatOpenAI(model=\"gpt-3.5-turbo\",openai_api_key=OPENAI_API_KEY, temperature=0)\n",
        "\n",
        "agent_executor_chat = create_sql_agent(llm_chat, db=db, agent_type=\"openai-tools\", verbose=True)"
      ],
      "metadata": {
        "id": "3-nskpek9M7j"
      },
      "execution_count": null,
      "outputs": []
    },
    {
      "cell_type": "code",
      "source": [
        "agent_executor_chat.invoke(\n",
        "    \"In the luminoso table what is the number of docs for the concept laptop\"\n",
        ")"
      ],
      "metadata": {
        "id": "Rw6ZoAF39OCr"
      },
      "execution_count": null,
      "outputs": []
    }
  ]
}