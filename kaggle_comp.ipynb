{
  "nbformat": 4,
  "nbformat_minor": 0,
  "metadata": {
    "colab": {
      "name": "kaggle_comp.ipynb",
      "provenance": [],
      "authorship_tag": "ABX9TyNQ+j+rSw7I5Jz+rLQV19Rh",
      "include_colab_link": true
    },
    "kernelspec": {
      "name": "python3",
      "display_name": "Python 3"
    }
  },
  "cells": [
    {
      "cell_type": "markdown",
      "metadata": {
        "id": "view-in-github",
        "colab_type": "text"
      },
      "source": [
        "<a href=\"https://colab.research.google.com/github/pastrop/kaggle/blob/develop/kaggle_comp.ipynb\" target=\"_parent\"><img src=\"https://colab.research.google.com/assets/colab-badge.svg\" alt=\"Open In Colab\"/></a>"
      ]
    },
    {
      "cell_type": "code",
      "metadata": {
        "id": "yBUSd14UTHcn",
        "colab_type": "code",
        "colab": {}
      },
      "source": [
        "# Use seaborn for the correlation heatmap\n",
        "!pip install seaborn"
      ],
      "execution_count": 0,
      "outputs": []
    },
    {
      "cell_type": "code",
      "metadata": {
        "id": "3Pnuzx8dwokT",
        "colab_type": "code",
        "colab": {}
      },
      "source": [
        "import warnings\n",
        "import numpy as np\n",
        "import pandas as pd\n",
        "import seaborn as sns\n",
        "import matplotlib.pyplot as plt\n",
        "\n",
        "from sklearn.preprocessing import StandardScaler\n",
        "from sklearn.model_selection import train_test_split\n",
        "\n",
        "from sklearn.svm import SVC\n",
        "from sklearn.tree import DecisionTreeClassifier\n",
        "from sklearn.ensemble import RandomForestClassifier\n",
        "from sklearn.linear_model import LogisticRegression\n",
        "\n",
        "from sklearn.metrics import accuracy_score, confusion_matrix, classification_report"
      ],
      "execution_count": 0,
      "outputs": []
    },
    {
      "cell_type": "code",
      "metadata": {
        "id": "GOvcFBNc7-tC",
        "colab_type": "code",
        "colab": {}
      },
      "source": [
        "# file upload while using Google Colab\n",
        "from google.colab import files\n",
        "uploaded = files.upload()"
      ],
      "execution_count": 0,
      "outputs": []
    },
    {
      "cell_type": "code",
      "metadata": {
        "id": "V3wdo-kg8im5",
        "colab_type": "code",
        "colab": {}
      },
      "source": [
        "#Unzipping if needed\n",
        "!unzip creditcard.zip"
      ],
      "execution_count": 0,
      "outputs": []
    },
    {
      "cell_type": "code",
      "metadata": {
        "id": "GMq1sQ4n8q--",
        "colab_type": "code",
        "colab": {}
      },
      "source": [
        "#read file & check the upload\n",
        "df = pd.read_csv('indicators_joined_csv')\n",
        "df.head()"
      ],
      "execution_count": 0,
      "outputs": []
    },
    {
      "cell_type": "code",
      "metadata": {
        "id": "xzvsmxlw8zNP",
        "colab_type": "code",
        "colab": {}
      },
      "source": [
        "data_shape = df.shape\n",
        "print(data_shape)"
      ],
      "execution_count": 0,
      "outputs": []
    },
    {
      "cell_type": "code",
      "metadata": {
        "id": "JsRZvzEI9Mia",
        "colab_type": "code",
        "colab": {}
      },
      "source": [
        "#data cleaning & exploration\n",
        "unknown_count = df.isna().sum().drop_duplicates()\n",
        "unknown_count[unknown_count>0]"
      ],
      "execution_count": 0,
      "outputs": []
    },
    {
      "cell_type": "code",
      "metadata": {
        "id": "iv8wzu2sRDUJ",
        "colab_type": "code",
        "colab": {}
      },
      "source": [
        "measurements = df.select_dtypes(include=[np.number])\n",
        "categories = df.select_dtypes(exclude=[np.number])\n",
        "list(categories.columns)"
      ],
      "execution_count": 0,
      "outputs": []
    },
    {
      "cell_type": "code",
      "metadata": {
        "id": "MAyC5fT_RNkQ",
        "colab_type": "code",
        "colab": {}
      },
      "source": [
        "# CORRELATIONS\n",
        "\n",
        "# Correlation Plots\n",
        "# Parameters\n",
        "THRESHOLD = 0.7 # Correlation Coefficient Threshold of Interest\n",
        "#printing formats\n",
        "pd.set_option('display.max_rows', 500)\n",
        "pd.set_option('display.max_columns', 500)\n",
        "pd.set_option('display.width', 1000)\n",
        "\n",
        "# Sample to calculate correlations (using filtered set of column, run exlusion calculation first)\n",
        "#df_model1_sample = measurements_filtered.sample(frac=0.3, random_state=42)\n",
        "df_sample = measurements(frac=0.3, random_state=42)\n",
        "\n",
        "start = time.time()\n",
        "\n",
        "# Correlations, positive and negative. Round to 2 decimals and filling NaN with O\n",
        "df_corr = round(df_sample.corr(),6).fillna(0)\n",
        "\n",
        "print(\"CORRELATION MATRIX\")\n",
        "print(df_model1_corr)\n",
        "\n",
        "column_list = list(df_model1_corr.columns)\n",
        "\n",
        "#Upper triangle matrix of correlation coefficients\n",
        "corr_matrix = df_model1_corr.values\n",
        "triu_corr_matrix = np.triu(corr_matrix, k=1)\n",
        "\n",
        "#printing technical data that is used in follow-up calculations or/and troubleshooting\n",
        "print(\"TRIANGILATED CORRELATION MATRIX\")\n",
        "print(triu_corr_matrix)\n",
        "\n",
        "#Selecting corr coeff within the range of interest\n",
        "i=0\n",
        "corr_ranking=[] # initializing array of highly correlated pairs\n",
        "for i in range(n_columns):\n",
        "  for j in range(i):\n",
        "    if abs(triu_corr_matrix[j][i]) > THRESHOLD:\n",
        "      temp=triu_corr_matrix[j][i],column_list[i], column_list[j]\n",
        "      corr_ranking.append(temp)\n",
        "\n",
        "#Ranked Correlation Coeff Array - High to Low\n",
        "corr_ranking.sort(reverse=True)\n",
        "print(\"ranked correlation array\")\n",
        "print(corr_ranking)\n",
        "\n",
        "#Selecting least correlated columns\n",
        "l=0\n",
        "corr_ranking_smallest=[] #initializing array of least correlated pairs\n",
        "for l in range(n_columns):\n",
        "  for k in range(l):\n",
        "    if abs(triu_corr_matrix[k][l]) < THRESHOLD:\n",
        "      temp=triu_corr_matrix[k][l],column_list[l], column_list[k]\n",
        "      corr_ranking_smallest.append(temp)\n",
        "sorted(corr_ranking_smallest,key=lambda item: abs(item[0]))\n",
        "if len(corr_ranking_smallest) == 0:\n",
        "  corr_ranking_smallest = corr_ranking[:]\n",
        "\n",
        "#printing technical data that is used in follow-up calculations or/and troubleshooting\n",
        "print(\"most uncorrelated\")\n",
        "print(corr_ranking_smallest)\n",
        "\n",
        "#Select top 10 correlated set by absolute value of the correlation coefficient\n",
        "top_10_corr = [(abs(item[0]),item[1],item[2]) for item in corr_ranking]\n",
        "\n",
        "#printing technical data that is used in follow-up calculations or/and troubleshooting\n",
        "print(\"top 10 coeff by value - {}\".format(top_10_corr))  \n",
        "print(\"Running time in seconds =\", time.time() - start)"
      ],
      "execution_count": 0,
      "outputs": []
    }
  ]
}