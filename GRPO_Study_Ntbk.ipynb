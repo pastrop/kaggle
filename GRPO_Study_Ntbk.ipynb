{
  "nbformat": 4,
  "nbformat_minor": 0,
  "metadata": {
    "colab": {
      "provenance": [],
      "authorship_tag": "ABX9TyPLPk5ekOiBDs5ypILqvhb2",
      "include_colab_link": true
    },
    "kernelspec": {
      "name": "python3",
      "display_name": "Python 3"
    },
    "language_info": {
      "name": "python"
    }
  },
  "cells": [
    {
      "cell_type": "markdown",
      "metadata": {
        "id": "view-in-github",
        "colab_type": "text"
      },
      "source": [
        "<a href=\"https://colab.research.google.com/github/pastrop/kaggle/blob/master/GRPO_Study_Ntbk.ipynb\" target=\"_parent\"><img src=\"https://colab.research.google.com/assets/colab-badge.svg\" alt=\"Open In Colab\"/></a>"
      ]
    },
    {
      "cell_type": "markdown",
      "source": [
        "# GRPO Study Notebook"
      ],
      "metadata": {
        "id": "HOHFwsLQ2koP"
      }
    },
    {
      "cell_type": "markdown",
      "source": [
        "Generate Mulptiple responses from the model for the reward model training"
      ],
      "metadata": {
        "id": "wbrNI1Mu28mW"
      }
    },
    {
      "cell_type": "code",
      "execution_count": null,
      "metadata": {
        "id": "ptbLfhlE2dsM"
      },
      "outputs": [],
      "source": [
        "# Load GPT model & tokenizer\n",
        "model = AutoModelForCausalLM.from_pretrained(\"gpt2\")\n",
        "tokenizer = AutoTokenizer.from_pretrained(\"gpt2\")\n",
        "\n",
        "# Define a question (prompt)\n",
        "prompt = \"What are the benefits of exercise?\"\n",
        "\n",
        "# Tokenize the input\n",
        "input_ids = tokenizer(prompt, return_tensors=\"pt\").input_ids\n",
        "\n",
        "# Generate multiple responses using sampling\n",
        "num_responses = 5  # Generate 5 different completions\n",
        "responses = model.generate(\n",
        "    input_ids,\n",
        "    max_length=50,\n",
        "    do_sample=True,  # Enables sampling instead of greedy decoding\n",
        "    top_k=50,  # Consider top 50 tokens at each step\n",
        "    top_p=0.9,  # Nucleus sampling: keeps top tokens contributing to 90% probability\n",
        "    temperature=0.7,  # Controls randomness (lower = more deterministic)\n",
        "    num_return_sequences=num_responses  # Generates multiple responses\n",
        ")\n",
        "\n",
        "# Decode and print responses\n",
        "decoded_responses = [tokenizer.decode(output, skip_special_tokens=True) for output in responses]\n",
        "for i, response in enumerate(decoded_responses):\n",
        "    print(f\"Response {i+1}: {response}\")"
      ]
    },
    {
      "cell_type": "markdown",
      "source": [
        "Example: Using a Reward Model to Score Responses\n",
        "Assume we have a pretrained reward model that scores responses from 0 to 1, where:\n",
        "\n",
        "1.0 = Excellent\n",
        "0.0 = Poor"
      ],
      "metadata": {
        "id": "GP6_8i_W3PPl"
      }
    },
    {
      "cell_type": "code",
      "source": [
        "class RewardModel(nn.Module):\n",
        "    \"\"\"Simple reward model that scores responses.\"\"\"\n",
        "    def __init__(self, embedding_dim):\n",
        "        super().__init__()\n",
        "        self.fc = nn.Sequential(\n",
        "            nn.Linear(embedding_dim, 128),\n",
        "            nn.ReLU(),\n",
        "            nn.Linear(128, 1),  # Output: a single score per response\n",
        "            nn.Sigmoid()  # Normalize score between 0 and 1\n",
        "        )\n",
        "\n",
        "    def forward(self, response_embedding):\n",
        "        return self.fc(response_embedding)\n",
        "\n",
        "# Instantiate reward model\n",
        "reward_model = RewardModel(embedding_dim=768)  # Assuming GPT's embeddings\n",
        "\n",
        "# Convert responses to embeddings\n",
        "response_inputs = tokenizer(decoded_responses, return_tensors=\"pt\", padding=True, truncation=True)\n",
        "response_embeddings = model.transformer.wte(response_inputs[\"input_ids\"]).mean(dim=1)  # Averaging token embeddings\n",
        "\n",
        "# Score each response\n",
        "reward_scores = reward_model(response_embeddings).squeeze()\n",
        "\n",
        "# Print scores\n",
        "for i, (response, score) in enumerate(zip(decoded_responses, reward_scores.tolist())):\n",
        "    print(f\"Response {i+1}: {response} | Score: {score:.3f}\")\n"
      ],
      "metadata": {
        "id": "dzNTOCh-3YnU"
      },
      "execution_count": null,
      "outputs": []
    }
  ]
}