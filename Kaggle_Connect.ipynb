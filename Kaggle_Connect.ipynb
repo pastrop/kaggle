{
  "nbformat": 4,
  "nbformat_minor": 0,
  "metadata": {
    "colab": {
      "name": "Kaggle_Connect.ipynb",
      "provenance": [],
      "authorship_tag": "ABX9TyOhIOHLrPATIZEWGHYVQ/9R",
      "include_colab_link": true
    },
    "kernelspec": {
      "name": "python3",
      "display_name": "Python 3"
    }
  },
  "cells": [
    {
      "cell_type": "markdown",
      "metadata": {
        "id": "view-in-github",
        "colab_type": "text"
      },
      "source": [
        "<a href=\"https://colab.research.google.com/github/pastrop/kaggle/blob/master/Kaggle_Connect.ipynb\" target=\"_parent\"><img src=\"https://colab.research.google.com/assets/colab-badge.svg\" alt=\"Open In Colab\"/></a>"
      ]
    },
    {
      "cell_type": "markdown",
      "metadata": {
        "id": "UG0-rVcWqqC3",
        "colab_type": "text"
      },
      "source": [
        "# Code Snippet for connecting to Kaggle"
      ]
    },
    {
      "cell_type": "code",
      "metadata": {
        "id": "izF-ZDPjGP9i",
        "colab_type": "code",
        "colab": {}
      },
      "source": [
        "%%capture\n",
        "!pip install kaggle"
      ],
      "execution_count": null,
      "outputs": []
    },
    {
      "cell_type": "code",
      "metadata": {
        "id": "EK2f-rHhHQ4o",
        "colab_type": "code",
        "colab": {}
      },
      "source": [
        "!cd .kaggle/"
      ],
      "execution_count": null,
      "outputs": []
    },
    {
      "cell_type": "code",
      "metadata": {
        "id": "KT7jB1x6EZKS",
        "colab_type": "code",
        "colab": {}
      },
      "source": [
        "import json\n",
        "token = \n",
        "with open(\"/content/.kaggle/kaggle.json\", \"w\") as file:\n",
        "    json.dump(token, file)"
      ],
      "execution_count": null,
      "outputs": []
    },
    {
      "cell_type": "code",
      "metadata": {
        "id": "LgTUY3T2EvHT",
        "colab_type": "code",
        "colab": {}
      },
      "source": [
        "!cp /content/.kaggle/kaggle.json ~/.kaggle/kaggle.json\n",
        "!kaggle config set -n path -v{/content}\n",
        "!chmod 600 /root/.kaggle/kaggle.json"
      ],
      "execution_count": null,
      "outputs": []
    },
    {
      "cell_type": "code",
      "metadata": {
        "id": "MnJVlproFG1x",
        "colab_type": "code",
        "colab": {}
      },
      "source": [
        "!kaggle competitions download -c contradictory-my-dear-watson -p /content"
      ],
      "execution_count": null,
      "outputs": []
    }
  ]
}