{
  "cells": [
    {
      "cell_type": "markdown",
      "metadata": {
        "id": "view-in-github",
        "colab_type": "text"
      },
      "source": [
        "<a href=\"https://colab.research.google.com/github/pastrop/kaggle/blob/master/Llama_index.ipynb\" target=\"_parent\"><img src=\"https://colab.research.google.com/assets/colab-badge.svg\" alt=\"Open In Colab\"/></a>"
      ]
    },
    {
      "cell_type": "code",
      "execution_count": null,
      "id": "11538fa3-97e7-47b8-9cb0-78fb74fc537f",
      "metadata": {
        "tags": [],
        "id": "11538fa3-97e7-47b8-9cb0-78fb74fc537f"
      },
      "outputs": [],
      "source": [
        "%%capture\n",
        "!pip install llama-index"
      ]
    },
    {
      "cell_type": "code",
      "execution_count": null,
      "id": "1eb25880-9704-4aa7-b1f5-2aebbb1a496b",
      "metadata": {
        "tags": [],
        "id": "1eb25880-9704-4aa7-b1f5-2aebbb1a496b"
      },
      "outputs": [],
      "source": [
        "%%capture\n",
        "!pip install transformers"
      ]
    },
    {
      "cell_type": "code",
      "execution_count": null,
      "id": "e02f234e-2ea9-4045-bc9e-4160e135820d",
      "metadata": {
        "tags": [],
        "id": "e02f234e-2ea9-4045-bc9e-4160e135820d"
      },
      "outputs": [],
      "source": [
        "%%capture\n",
        "!pip install sentence_transformers"
      ]
    },
    {
      "cell_type": "code",
      "execution_count": null,
      "id": "42c6f33c-2902-4602-9bc0-c147a87dc202",
      "metadata": {
        "tags": [],
        "id": "42c6f33c-2902-4602-9bc0-c147a87dc202"
      },
      "outputs": [],
      "source": [
        "%%capture\n",
        "!pip install llama-cpp-python"
      ]
    },
    {
      "cell_type": "code",
      "execution_count": null,
      "id": "166e9c52-0167-49b6-891c-f9f179d2dfe3",
      "metadata": {
        "tags": [],
        "id": "166e9c52-0167-49b6-891c-f9f179d2dfe3"
      },
      "outputs": [],
      "source": [
        "%%capture\n",
        "!pip install accelerate"
      ]
    },
    {
      "cell_type": "code",
      "execution_count": null,
      "id": "13060ec4-1938-4ba6-9c93-52e7072b3c98",
      "metadata": {
        "tags": [],
        "id": "13060ec4-1938-4ba6-9c93-52e7072b3c98",
        "outputId": "26ff9f59-28ca-4532-8001-0c8335161b28"
      },
      "outputs": [
        {
          "name": "stdout",
          "output_type": "stream",
          "text": [
            "Collecting nltk\n",
            "  Downloading nltk-3.8.1-py3-none-any.whl (1.5 MB)\n",
            "\u001b[2K     \u001b[90m━━━━━━━━━━━━━━━━━━━━━━━━━━━━━━━━━━━━━━━━\u001b[0m \u001b[32m1.5/1.5 MB\u001b[0m \u001b[31m45.6 MB/s\u001b[0m eta \u001b[36m0:00:00\u001b[0m\n",
            "\u001b[?25hRequirement already satisfied: click in /home/ec2-user/anaconda3/envs/pytorch_p310/lib/python3.10/site-packages (from nltk) (8.1.6)\n",
            "Requirement already satisfied: joblib in /home/ec2-user/anaconda3/envs/pytorch_p310/lib/python3.10/site-packages (from nltk) (1.3.1)\n",
            "Requirement already satisfied: regex>=2021.8.3 in /home/ec2-user/anaconda3/envs/pytorch_p310/lib/python3.10/site-packages (from nltk) (2023.8.8)\n",
            "Requirement already satisfied: tqdm in /home/ec2-user/anaconda3/envs/pytorch_p310/lib/python3.10/site-packages (from nltk) (4.65.0)\n",
            "Installing collected packages: nltk\n",
            "Successfully installed nltk-3.8.1\n"
          ]
        }
      ],
      "source": [
        "!pip install nltk"
      ]
    },
    {
      "cell_type": "code",
      "execution_count": null,
      "id": "0d0fad6d-1bee-474d-ab1a-a4ca10e94b62",
      "metadata": {
        "tags": [],
        "id": "0d0fad6d-1bee-474d-ab1a-a4ca10e94b62"
      },
      "outputs": [],
      "source": [
        "import torch\n",
        "import pandas as pd\n",
        "from llama_index import Document\n",
        "from llama_index.node_parser import SimpleNodeParser\n",
        "from llama_index import VectorStoreIndex\n",
        "from llama_index.llms import HuggingFaceLLM"
      ]
    },
    {
      "cell_type": "code",
      "execution_count": null,
      "id": "bc2e8bac-33e3-42de-89b5-84a8899536ea",
      "metadata": {
        "tags": [],
        "id": "bc2e8bac-33e3-42de-89b5-84a8899536ea"
      },
      "outputs": [],
      "source": [
        "from llama_index.llms import HuggingFaceLLM\n",
        "from llama_index import VectorStoreIndex, ServiceContext\n",
        "from llama_index.prompts import PromptTemplate\n",
        "import accelerate"
      ]
    },
    {
      "cell_type": "code",
      "execution_count": null,
      "id": "53763a01-e2fb-4b61-b053-78a63aec0072",
      "metadata": {
        "tags": [],
        "id": "53763a01-e2fb-4b61-b053-78a63aec0072",
        "outputId": "54339a56-1ebd-41f4-c883-3016b66293b5"
      },
      "outputs": [
        {
          "data": {
            "text/plain": [
              "True"
            ]
          },
          "execution_count": 48,
          "metadata": {},
          "output_type": "execute_result"
        }
      ],
      "source": [
        "torch.cuda.is_available()"
      ]
    },
    {
      "cell_type": "code",
      "execution_count": null,
      "id": "0213d97c-3996-4022-8eb1-de59018b9e27",
      "metadata": {
        "tags": [],
        "id": "0213d97c-3996-4022-8eb1-de59018b9e27"
      },
      "outputs": [],
      "source": [
        "system_prompt = \"\"\"<|SYSTEM|># StableLM Tuned (Alpha version)\n",
        "- StableLM is a helpful and harmless open-source AI language model developed by StabilityAI.\n",
        "- StableLM is excited to be able to help the user, but will refuse to do anything that could be considered harmful to the user.\n",
        "- StableLM is more than just an information source, StableLM is also able to write poetry, short stories, and make jokes.\n",
        "- StableLM will refuse to participate in anything that could harm a human.\n",
        "\"\"\"\n",
        "\n",
        "# This will wrap the default prompts that are internal to llama-index\n",
        "query_wrapper_prompt = PromptTemplate(\"<|USER|>{query_str}<|ASSISTANT|>\")\n",
        "\n",
        "llm = HuggingFaceLLM(\n",
        "    context_window=4096,\n",
        "    max_new_tokens=256,\n",
        "    generate_kwargs={\"temperature\": 0.7, \"do_sample\": False},\n",
        "    system_prompt=system_prompt,\n",
        "    query_wrapper_prompt=query_wrapper_prompt,\n",
        "    tokenizer_name=\"StabilityAI/stablelm-tuned-alpha-3b\",\n",
        "    model_name=\"StabilityAI/stablelm-tuned-alpha-3b\",\n",
        "    device_map=\"auto\",\n",
        "    stopping_ids=[50278, 50279, 50277, 1, 0],\n",
        "    tokenizer_kwargs={\"max_length\": 4096},\n",
        "    # uncomment this if using CUDA to reduce memory usage\n",
        "    model_kwargs={\"torch_dtype\": torch.float16}\n",
        ")"
      ]
    },
    {
      "cell_type": "code",
      "execution_count": null,
      "id": "0fa6d9d0-981f-4668-a1b0-5abc9a399964",
      "metadata": {
        "tags": [],
        "id": "0fa6d9d0-981f-4668-a1b0-5abc9a399964"
      },
      "outputs": [],
      "source": [
        "%%capture\n",
        "service_context = ServiceContext.from_defaults(chunk_size=1024, llm=llm, embed_model = 'local')"
      ]
    },
    {
      "cell_type": "code",
      "execution_count": null,
      "id": "141ff7b2-9f87-42c8-87df-156f3a0de4e7",
      "metadata": {
        "tags": [],
        "id": "141ff7b2-9f87-42c8-87df-156f3a0de4e7"
      },
      "outputs": [],
      "source": [
        "# Dataframe processing\n",
        "df_acct = pd.read_csv('accnt_issues.csv')"
      ]
    },
    {
      "cell_type": "code",
      "execution_count": null,
      "id": "d4f53f6d-e398-4dfe-a2d9-67c8c256e8d0",
      "metadata": {
        "tags": [],
        "id": "d4f53f6d-e398-4dfe-a2d9-67c8c256e8d0"
      },
      "outputs": [],
      "source": [
        "#input cleanup\n",
        "def text_input(file = 'alpha_test.csv'):\n",
        "  df = pd.read_csv(file)\n",
        "  df_clean = df[df['text'].apply(lambda x: isinstance(x, str))]\n",
        "  texts = [item.replace(\"\\t\", \" \") for item in df_clean['text']]\n",
        "  return texts"
      ]
    },
    {
      "cell_type": "code",
      "execution_count": null,
      "id": "b5f0fc0b-46e4-4c75-90e0-ef18148beef4",
      "metadata": {
        "tags": [],
        "id": "b5f0fc0b-46e4-4c75-90e0-ef18148beef4"
      },
      "outputs": [],
      "source": [
        "texts = text_input('accnt_issues.csv')"
      ]
    },
    {
      "cell_type": "code",
      "execution_count": null,
      "id": "6c0a6a3b-d212-4190-bb29-e1a0fc9f4454",
      "metadata": {
        "tags": [],
        "id": "6c0a6a3b-d212-4190-bb29-e1a0fc9f4454"
      },
      "outputs": [],
      "source": [
        "#test cell\n",
        "texts[:10]"
      ]
    },
    {
      "cell_type": "code",
      "execution_count": null,
      "id": "6ddb5820-4e00-4d9f-b88c-684dcc883a4c",
      "metadata": {
        "tags": [],
        "id": "6ddb5820-4e00-4d9f-b88c-684dcc883a4c"
      },
      "outputs": [],
      "source": [
        "#document list\n",
        "documents = [Document(text=t) for t in texts]"
      ]
    },
    {
      "cell_type": "code",
      "execution_count": null,
      "id": "d1d7391a-484d-4af8-b6bb-9110880316e4",
      "metadata": {
        "tags": [],
        "id": "d1d7391a-484d-4af8-b6bb-9110880316e4"
      },
      "outputs": [],
      "source": [
        "%%capture\n",
        "parser = SimpleNodeParser.from_defaults()\n",
        "nodes = parser.get_nodes_from_documents(documents)"
      ]
    },
    {
      "cell_type": "code",
      "execution_count": null,
      "id": "744107d4-79aa-4508-a88b-ee38ead8d82e",
      "metadata": {
        "tags": [],
        "id": "744107d4-79aa-4508-a88b-ee38ead8d82e"
      },
      "outputs": [],
      "source": [
        "index = VectorStoreIndex.from_documents(documents,service_context=service_context)"
      ]
    },
    {
      "cell_type": "code",
      "execution_count": null,
      "id": "7eeb0974-4ca4-47a4-8c9e-cda4c745390f",
      "metadata": {
        "tags": [],
        "id": "7eeb0974-4ca4-47a4-8c9e-cda4c745390f"
      },
      "outputs": [],
      "source": [
        "query_engine = index.as_query_engine()\n",
        "#response = query_engine.query(\"What did the author do growing up?\")"
      ]
    },
    {
      "cell_type": "code",
      "execution_count": null,
      "id": "64face08-b602-4afc-8517-c06a9e6d3780",
      "metadata": {
        "tags": [],
        "id": "64face08-b602-4afc-8517-c06a9e6d3780",
        "outputId": "44f9ecda-ebe2-4791-b9d5-9250fd8b2313"
      },
      "outputs": [
        {
          "name": "stderr",
          "output_type": "stream",
          "text": [
            "/home/ec2-user/anaconda3/envs/pytorch_p310/lib/python3.10/site-packages/transformers/generation/configuration_utils.py:362: UserWarning: `do_sample` is set to `False`. However, `temperature` is set to `0.7` -- this flag is only used in sample-based generation modes. You should set `do_sample=True` or unset `temperature`.\n",
            "  warnings.warn(\n",
            "Setting `pad_token_id` to `eos_token_id`:0 for open-end generation.\n"
          ]
        },
        {
          "data": {
            "text/plain": [
              "Response(response='Based on the context information provided, it seems that the document you are referring to is likely a game or achievement that was released for the Xbox platform. The game or achievement may have been a free downloadable game or a paid downloadable game.\\n\\nThe document you are referring to is likely a game or achievement that was released for the Xbox platform. The game or achievement may have been a free downloadable game or a paid downloadable game.\\n\\nIt is unclear from the context whether the document you are referring to is about a specific game or achievement or whether it is about a general document. If it is about a specific game or achievement, then the document you are referring to is likely a game or achievement that was released for the Xbox platform.\\n\\nIf it is about a general document, then the document you are referring to is likely a game or achievement that was released for the Xbox platform. The document you are referring to is likely a game or achievement that was released for the Xbox platform.\\n\\nIf it is about a general document, then the document you are referring to is likely a game or achievement that was released for the Xbox platform. The document you are referring to is likely a game or achievement that was released for the Xbox platform.\\n\\n', source_nodes=[NodeWithScore(node=TextNode(id_='85db1e19-33f7-4146-b4d5-ee608731a10f', embedding=None, metadata={}, excluded_embed_metadata_keys=[], excluded_llm_metadata_keys=[], relationships={<NodeRelationship.SOURCE: '1'>: RelatedNodeInfo(node_id='ea8664ef-8664-4463-8953-6cf3ecddcc29', node_type=None, metadata={}, hash='bcebc6175fcff55b0a80161b0ab8d16a0e3af34dc6e504f3f80f38c3889bc7da')}, hash='bcebc6175fcff55b0a80161b0ab8d16a0e3af34dc6e504f3f80f38c3889bc7da', text='I recentlt linke my xbox profile to an epic account and lost all purchases, progress, and items on xbox in both Battle Royale and Save The World modes in Fortnite.\\n\\nThe epic account i linked to: TravelledLeaf2\\nThe upgraded ghost account i had to make to even be able to link my xbox in the first place: TravelledLeaf23\\nXbox gamertag:TravelledLeaf2\\n\\n\\nI originally upgraded the ghost account to be able to unlink my xbox from it. Then I linked my xbox to the epic account, TravelledLeaf2. After this I went to play Fortnite on my xbox and found that i lost everything, like my account had been reset.\\nSo I looked for information online and then tried unlinking my xbox account from the epic account. \\n\\nI did this to try and link it back to my upgraded ghost account, TravelledLeaf23, but Iould not link it to this account. Now my account is neither linked to the normal epic account or the upgraded ghost account.\\n\\nAfter this I played through the Save The World tutorial to see if it would help but all my stuff is still gone. \\n\\nNow I am left with everything on my account gone. I hope that you can help me at least get some of my stuff back. I can prove some vbucks and starter pack purchases. For Save The World i at least hope that you could get me back my 2 hero recruitment vouchers. I had a few good weapons but I at least want my recruitmebt vouchers back.\\n\\nSorry if this is a jumbled mess. This was difficult to explain and i just hope that you can help me get my stuff back.', start_char_idx=None, end_char_idx=None, text_template='{metadata_str}\\n\\n{content}', metadata_template='{key}: {value}', metadata_seperator='\\n'), score=0.7619296646696522), NodeWithScore(node=TextNode(id_='68831e61-4879-47c7-9c2e-583c269ff443', embedding=None, metadata={}, excluded_embed_metadata_keys=[], excluded_llm_metadata_keys=[], relationships={<NodeRelationship.SOURCE: '1'>: RelatedNodeInfo(node_id='9e00dcec-425b-4212-b85f-99d321bf15f8', node_type=None, metadata={}, hash='dea17541b50109638aa0860071edfd4e7016b5b49ab59a069d915e79965119a0')}, hash='dea17541b50109638aa0860071edfd4e7016b5b49ab59a069d915e79965119a0', text=\"Hello i was wondering if i could get any help at all i just got back from a 9 month deployment and didn't realize that the account merge would be going away while i was deployed . so when i got back today to upgrade my ghost account so i could merge it i couldn't...and now its disconnected from my xbox account and i cant put it on my psn account because i have two epic id accounts one was for ps4 and one was for the xbox is there anyway yall could merge them for me?\", start_char_idx=None, end_char_idx=None, text_template='{metadata_str}\\n\\n{content}', metadata_template='{key}: {value}', metadata_seperator='\\n'), score=0.7593371350062426)], metadata={'85db1e19-33f7-4146-b4d5-ee608731a10f': {}, '68831e61-4879-47c7-9c2e-583c269ff443': {}})"
            ]
          },
          "execution_count": 35,
          "metadata": {},
          "output_type": "execute_result"
        }
      ],
      "source": [
        "query_engine.query(\"what was this document set is about?\")"
      ]
    },
    {
      "cell_type": "code",
      "execution_count": null,
      "id": "3fdf8e53-f02f-4595-b5ea-fdd7e94ef50d",
      "metadata": {
        "tags": [],
        "id": "3fdf8e53-f02f-4595-b5ea-fdd7e94ef50d",
        "outputId": "04897c3f-336c-4178-e4b2-745583f60321"
      },
      "outputs": [
        {
          "name": "stderr",
          "output_type": "stream",
          "text": [
            "Setting `pad_token_id` to `eos_token_id`:0 for open-end generation.\n"
          ]
        },
        {
          "data": {
            "text/plain": [
              "Response(response='Yes, it is possible to connect your Xbox account to your Epic Games account. However, it is not possible to link your Xbox account to your Epic Games account directly. Instead, you will need to link your Xbox account to your Epic Games account using the email address provided in the context information.\\n\\nTo link your Xbox account to your Epic Games account, you will need to follow these steps:\\n\\n1. Log in to your Xbox account using the email address provided in the context information.\\n2. Click on the \"Settings\" tab in the top left corner of the screen.\\n3. Select \"Accounts\" from the drop-down menu.\\n4. Click on \"Add Account\" and follow the prompts to create a new account.\\n5. Once the account is created, you will see a list of your Xbox accounts. Select the account you want to link to.\\n6. Click on the \"Link\" button to add the account to your account.\\n\\nOnce you have linked your Xbox account to your Epic Games account, you will be able to access your Xbox live account on the website lampentimothy42@gmail.com.', source_nodes=[NodeWithScore(node=TextNode(id_='00e2f04c-d277-4238-b578-e09a01a79ae1', embedding=None, metadata={}, excluded_embed_metadata_keys=[], excluded_llm_metadata_keys=[], relationships={<NodeRelationship.SOURCE: '1'>: RelatedNodeInfo(node_id='523824e5-c7b7-45c7-ac17-11e40653dd35', node_type=None, metadata={}, hash='24ff4d30708335b8152e0e48676c8f35ad5d8b55318658b3b9f6e9a09c19afb6')}, hash='24ff4d30708335b8152e0e48676c8f35ad5d8b55318658b3b9f6e9a09c19afb6', text=\"I am trying to link my XBOX Live account to my Epic Games account, however it keeps saying it's already connected to another Epic Games account. This is not possible. Is there anyway you can help me?\", start_char_idx=None, end_char_idx=None, text_template='{metadata_str}\\n\\n{content}', metadata_template='{key}: {value}', metadata_seperator='\\n'), score=0.9233746390328099), NodeWithScore(node=TextNode(id_='937e38f6-ef24-4e05-8e27-cef9f5b89295', embedding=None, metadata={}, excluded_embed_metadata_keys=[], excluded_llm_metadata_keys=[], relationships={<NodeRelationship.SOURCE: '1'>: RelatedNodeInfo(node_id='e1cacb5b-37fe-48d3-8a18-3dcb997d9805', node_type=None, metadata={}, hash='8bbd389a04cf52fd92c22b49a9381f9bcd41bc307be2b07a3db2404fb675b983')}, hash='8bbd389a04cf52fd92c22b49a9381f9bcd41bc307be2b07a3db2404fb675b983', text=\"I've been trying to connect my Xbox live account to the epic games account lampentimothy42@gmail.com, but when I try to link it, it says that it has already been linked to a different account, however I have never linked it to a different account. Is it possible to get my Xbox account (Microsoft email timothylampen7@gmail.com) to my epic account (lampentimothy42@gmail.com)\", start_char_idx=None, end_char_idx=None, text_template='{metadata_str}\\n\\n{content}', metadata_template='{key}: {value}', metadata_seperator='\\n'), score=0.9134772949008532)], metadata={'00e2f04c-d277-4238-b578-e09a01a79ae1': {}, '937e38f6-ef24-4e05-8e27-cef9f5b89295': {}})"
            ]
          },
          "execution_count": 39,
          "metadata": {},
          "output_type": "execute_result"
        }
      ],
      "source": [
        "query_engine.query(\"is it possible to connect Xbox to Epic?\")"
      ]
    },
    {
      "cell_type": "code",
      "execution_count": null,
      "id": "cb6d8062-a451-4062-8b2e-dd2d48eb0e99",
      "metadata": {
        "id": "cb6d8062-a451-4062-8b2e-dd2d48eb0e99"
      },
      "outputs": [],
      "source": [
        "# beer dataset"
      ]
    },
    {
      "cell_type": "code",
      "execution_count": null,
      "id": "1665de0c-cb95-46d9-a1c0-9419edd4e780",
      "metadata": {
        "id": "1665de0c-cb95-46d9-a1c0-9419edd4e780"
      },
      "outputs": [],
      "source": [
        "# Dataframe processing\n",
        "df = pd.read_csv('alpha_test.csv')"
      ]
    },
    {
      "cell_type": "code",
      "execution_count": null,
      "id": "0679cb90-7bdf-4ced-a020-1ecb53588f28",
      "metadata": {
        "tags": [],
        "id": "0679cb90-7bdf-4ced-a020-1ecb53588f28"
      },
      "outputs": [],
      "source": [
        "df.head()"
      ]
    },
    {
      "cell_type": "code",
      "execution_count": null,
      "id": "4af8c163-b20a-4b50-8b18-e9b88dc0b66d",
      "metadata": {
        "tags": [],
        "id": "4af8c163-b20a-4b50-8b18-e9b88dc0b66d"
      },
      "outputs": [],
      "source": [
        "texts_beer = text_input()"
      ]
    },
    {
      "cell_type": "code",
      "execution_count": null,
      "id": "47c2d552-5854-4c81-9eb0-985d8a33223f",
      "metadata": {
        "tags": [],
        "id": "47c2d552-5854-4c81-9eb0-985d8a33223f",
        "outputId": "284e76e8-86b6-4942-bb72-1c1a17175c3e"
      },
      "outputs": [
        {
          "data": {
            "text/plain": [
              "4998"
            ]
          },
          "execution_count": 44,
          "metadata": {},
          "output_type": "execute_result"
        }
      ],
      "source": [
        "len(texts_beer)"
      ]
    },
    {
      "cell_type": "code",
      "execution_count": null,
      "id": "ac74afce-9aff-46d6-8fc6-99758d3bb730",
      "metadata": {
        "tags": [],
        "id": "ac74afce-9aff-46d6-8fc6-99758d3bb730"
      },
      "outputs": [],
      "source": [
        "%%capture\n",
        "documents_beer = [Document(text=t) for t in texts_beer]\n",
        "\n",
        "parser = SimpleNodeParser.from_defaults()\n",
        "nodes = parser.get_nodes_from_documents(documents_beer)\n",
        "\n",
        "index_beer = VectorStoreIndex.from_documents(documents_beer,service_context=service_context)\n",
        "query_engine_beer = index_beer.as_query_engine()"
      ]
    },
    {
      "cell_type": "code",
      "execution_count": null,
      "id": "dd4b658c-9bd3-4609-a294-4143e6f32fad",
      "metadata": {
        "tags": [],
        "id": "dd4b658c-9bd3-4609-a294-4143e6f32fad",
        "outputId": "0f5a043e-7c8e-4056-ae3d-ffa766809a6d"
      },
      "outputs": [
        {
          "name": "stderr",
          "output_type": "stream",
          "text": [
            "Setting `pad_token_id` to `eos_token_id`:0 for open-end generation.\n"
          ]
        },
        {
          "data": {
            "text/plain": [
              "Response(response='Based on the context information, it is unclear what people say about the IPA. However, based on the information provided, it can be inferred that the IPA is a highly hoppy and flavorful beer with a smooth, dry finish. The IPA has a light, delicate flavor with a hint of bitterness, which is typical of American West Coast IPA beers. The IPA is also light bodied with a good amount of hop bitterness, which is typical of American IPAs. The IPA is also a highly drinkable, with a smooth, dry finish. Overall, it seems that the IPA is a well-crafted and highly regarded beer with a unique flavor profile.', source_nodes=[NodeWithScore(node=TextNode(id_='9e808a68-f8ad-46a1-b5ed-46c2f7675a57', embedding=None, metadata={}, excluded_embed_metadata_keys=[], excluded_llm_metadata_keys=[], relationships={<NodeRelationship.SOURCE: '1'>: RelatedNodeInfo(node_id='f2e6226f-c730-40bc-b823-8c791516bdd5', node_type=None, metadata={}, hash='824c270e86fed94409d16c0088802c03fdf9233e025023117121c57cacd9b4c8')}, hash='824c270e86fed94409d16c0088802c03fdf9233e025023117121c57cacd9b4c8', text='A: Poured from a bomber to a pint glass. Had an amber color and a thick consistency. Lots of sediment floating around. Not a whole lot of head, but some good lacing.  S: A very hoppy smell, with traces of malt.  T: Tasted of sharp hops, with a tinge of malt and some citrus. A big, robust flavor.  M: A highly carbonated beer with a smooth, dry finish. Medium-bodied.  D: This is a very drinkable IPA. Granted, it reminds of other very beers of the style, but still very easy to like.', start_char_idx=None, end_char_idx=None, text_template='{metadata_str}\\n\\n{content}', metadata_template='{key}: {value}', metadata_seperator='\\n'), score=0.8347610013733706), NodeWithScore(node=TextNode(id_='990307c2-cb32-45be-829a-6fccd73768fc', embedding=None, metadata={}, excluded_embed_metadata_keys=[], excluded_llm_metadata_keys=[], relationships={<NodeRelationship.SOURCE: '1'>: RelatedNodeInfo(node_id='1272bf95-face-4ea1-97b2-02b55343b3fa', node_type=None, metadata={}, hash='b6c50b9d52a1ce9621183a20a84e04192e5d5cb790df22fbb8313670afce49c2')}, hash='b6c50b9d52a1ce9621183a20a84e04192e5d5cb790df22fbb8313670afce49c2', text='A: Poured a pale amber color, clear with good carbonation leaving a nice white head  S: Light caramel, hops, bitterness, some citrus and floral notes   T: Floral and citrus with impressive hops, def a American West Coast IPA here.   M: Lighter bodied with hop bitterness leaving a crisp, bitterness  D: Good. I actually thought this could have been a modest single IPA as well', start_char_idx=None, end_char_idx=None, text_template='{metadata_str}\\n\\n{content}', metadata_template='{key}: {value}', metadata_seperator='\\n'), score=0.8295415912841241)], metadata={'9e808a68-f8ad-46a1-b5ed-46c2f7675a57': {}, '990307c2-cb32-45be-829a-6fccd73768fc': {}})"
            ]
          },
          "execution_count": 47,
          "metadata": {},
          "output_type": "execute_result"
        }
      ],
      "source": [
        "query_engine_beer.query(\"based on the set of documents provided what people say about IPA?\")"
      ]
    },
    {
      "cell_type": "code",
      "execution_count": null,
      "id": "23bbb302-a56e-4411-8e4e-699861b10c97",
      "metadata": {
        "id": "23bbb302-a56e-4411-8e4e-699861b10c97",
        "outputId": "55a25856-f4d5-4222-985a-18a8dccaabe4"
      },
      "outputs": [
        {
          "name": "stderr",
          "output_type": "stream",
          "text": [
            "Setting `pad_token_id` to `eos_token_id`:0 for open-end generation.\n"
          ]
        },
        {
          "data": {
            "text/plain": [
              "Response(response='Based on the context information provided, I would recommend the following beers:\\n\\n1. Bluegrass Brewing Co. American Pale Ale\\n2. Willamette Hop\\n3. Centennial and Willamette Hop\\n4. Centennial and Willamette Hop\\n5. Centennial and Willamette Hop\\n6. Centennial and Willamette Hop\\n7. Centennial and Willamette Hop\\n8. Centennial and Willamette Hop\\n9. Centennial and Willamette Hop\\n10. Centennial and Willamette Hop\\n\\nIt is important to note that this is not an exhaustive list and there are many other great beers out there, so it is worth trying a few to see what you like.', source_nodes=[NodeWithScore(node=TextNode(id_='295d18ab-5a04-4f46-81da-9c622ad26728', embedding=None, metadata={}, excluded_embed_metadata_keys=[], excluded_llm_metadata_keys=[], relationships={<NodeRelationship.SOURCE: '1'>: RelatedNodeInfo(node_id='eb23560a-28f1-4226-9323-bce3a252b193', node_type=None, metadata={}, hash='a0d1f7d0e4c74cc43c3248b2a484e87ee47505b0e2821291479b27a253d08989')}, hash='a0d1f7d0e4c74cc43c3248b2a484e87ee47505b0e2821291479b27a253d08989', text='Can to Sam Adams PP glass.  A: Pours straw-colored with shades of orange and some chill haze. Carbonation looks good, and the head/lacing are on par for an APA.  S: Pleasantly surprised by the quantity of hops, for a Pale Ale I get lots of grassy, earthy hops, some citrus, a crisp sweetness and some malt backbone.  T: More balanced than the nose, the malt subdues the hops somewhat but the crisp bitterness is really the thing that hits first. There is some pine in there, and maybe some ginger. Still hop forward in a nice way.  MF: Crisp and prickly with carbonation, refreshing and light and wet.  O: Pretty good, a nice summer beer that should be sought out to try.', start_char_idx=None, end_char_idx=None, text_template='{metadata_str}\\n\\n{content}', metadata_template='{key}: {value}', metadata_seperator='\\n'), score=0.8550082321236356), NodeWithScore(node=TextNode(id_='f38e68f4-342e-48fa-afe8-01047bf036b3', embedding=None, metadata={}, excluded_embed_metadata_keys=[], excluded_llm_metadata_keys=[], relationships={<NodeRelationship.SOURCE: '1'>: RelatedNodeInfo(node_id='eade41c4-0587-4004-8be3-f7f43e2e4bf6', node_type=None, metadata={}, hash='37e28d4dc946f8264875a1cec315f7fdf5ccf525b451e16ae67fdc3d7603df70')}, hash='37e28d4dc946f8264875a1cec315f7fdf5ccf525b451e16ae67fdc3d7603df70', text='I had a bottle of Bluegrass Brewing Co. American Pale Ale fresh off the line at the BBC Brewery on Clay and Main in Downtown Louisville. It had a rich amber color, nice creamy head, and good lacing in the glass. The pungent, woody and citrus aromas prepared you for this monster of an APA. mmm mmm... The Centennial and Willamette Hop aromas were strong and enticing. This medium-bodied beer had a creamy mouthfeel and a big, sweet malt body to balance the vibrant hoppiness. So good, I had to have another, and another, and...', start_char_idx=None, end_char_idx=None, text_template='{metadata_str}\\n\\n{content}', metadata_template='{key}: {value}', metadata_seperator='\\n'), score=0.8517601946165863)], metadata={'295d18ab-5a04-4f46-81da-9c622ad26728': {}, 'f38e68f4-342e-48fa-afe8-01047bf036b3': {}})"
            ]
          },
          "execution_count": 52,
          "metadata": {},
          "output_type": "execute_result"
        }
      ],
      "source": [
        "query_engine_beer.query(\"based on the document set provided what beers people like the best?\")"
      ]
    },
    {
      "cell_type": "code",
      "execution_count": null,
      "id": "69c4e856-f725-434c-81f7-0f4587f461b7",
      "metadata": {
        "tags": [],
        "id": "69c4e856-f725-434c-81f7-0f4587f461b7",
        "outputId": "61126b1b-6ff0-4d49-cf54-e72d029a563e"
      },
      "outputs": [
        {
          "name": "stderr",
          "output_type": "stream",
          "text": [
            "Setting `pad_token_id` to `eos_token_id`:0 for open-end generation.\n"
          ]
        },
        {
          "data": {
            "text/plain": [
              "Response(response='Based on the context information, the most popular beer flavors are:\\n\\n1. American Pale Ale\\n2. Bluegrass Brewing Co. American Pale Ale\\n3. Willamette Hop\\n4. Centennial and Willamette Hop\\n5. Centennial and Willamette Hop\\n6. Centennial and Willamette Hop\\n7. Centennial and Willamette Hop\\n8. Centennial and Willamette Hop\\n9. Centennial and Willamette Hop\\n10. Centennial and Willamette Hop\\n\\nIt is important to note that this is not an exhaustive list and there may be other beer flavors that are more popular than others. Additionally, the popularity of certain beers can change over time and may not be reflected in the provided document.', source_nodes=[NodeWithScore(node=TextNode(id_='bc2c39d5-417a-4ee8-9865-f84280c157e4', embedding=None, metadata={}, excluded_embed_metadata_keys=[], excluded_llm_metadata_keys=[], relationships={<NodeRelationship.SOURCE: '1'>: RelatedNodeInfo(node_id='a67e8540-8500-451f-93cb-dbc631ec83a0', node_type=None, metadata={}, hash='6af98142e133bacf037b0f5bfb7022706bea39caaffb1d3ae4481315fc92d410')}, hash='6af98142e133bacf037b0f5bfb7022706bea39caaffb1d3ae4481315fc92d410', text='Clear red colored ale with a good sized light brown head with some staying power.  Smell is all about spices. Lemon peel, vanilla, allspice and cinnamon are the strongest scents. Little bit of spruce and cookie dough scent, but it is much milder.  Starts out a little sweet with a STRONG spice flavor, pretty much allspice and vanilla with some apple pie. Tastes something like Pumpkin pie spice mix. Little bit of bread and cookie flavor but this is mostly spice.  Mouthfeel is good.  Interesting beer, but you had BETTER want lots of spice. Most of the beer flavors are obscured. Just about the most heavily spiced beer I have yet tasted excluding Cave Creek Chile Beer.', start_char_idx=None, end_char_idx=None, text_template='{metadata_str}\\n\\n{content}', metadata_template='{key}: {value}', metadata_seperator='\\n'), score=0.8483757759633765), NodeWithScore(node=TextNode(id_='f38e68f4-342e-48fa-afe8-01047bf036b3', embedding=None, metadata={}, excluded_embed_metadata_keys=[], excluded_llm_metadata_keys=[], relationships={<NodeRelationship.SOURCE: '1'>: RelatedNodeInfo(node_id='eade41c4-0587-4004-8be3-f7f43e2e4bf6', node_type=None, metadata={}, hash='37e28d4dc946f8264875a1cec315f7fdf5ccf525b451e16ae67fdc3d7603df70')}, hash='37e28d4dc946f8264875a1cec315f7fdf5ccf525b451e16ae67fdc3d7603df70', text='I had a bottle of Bluegrass Brewing Co. American Pale Ale fresh off the line at the BBC Brewery on Clay and Main in Downtown Louisville. It had a rich amber color, nice creamy head, and good lacing in the glass. The pungent, woody and citrus aromas prepared you for this monster of an APA. mmm mmm... The Centennial and Willamette Hop aromas were strong and enticing. This medium-bodied beer had a creamy mouthfeel and a big, sweet malt body to balance the vibrant hoppiness. So good, I had to have another, and another, and...', start_char_idx=None, end_char_idx=None, text_template='{metadata_str}\\n\\n{content}', metadata_template='{key}: {value}', metadata_seperator='\\n'), score=0.8481491541380984)], metadata={'bc2c39d5-417a-4ee8-9865-f84280c157e4': {}, 'f38e68f4-342e-48fa-afe8-01047bf036b3': {}})"
            ]
          },
          "execution_count": 53,
          "metadata": {},
          "output_type": "execute_result"
        }
      ],
      "source": [
        "query_engine_beer.query(\"based on the document set provided what beers flavors are the most popular?\")"
      ]
    },
    {
      "cell_type": "code",
      "execution_count": null,
      "id": "6a69d2ec-346f-419d-aad7-aefc1ed78628",
      "metadata": {
        "id": "6a69d2ec-346f-419d-aad7-aefc1ed78628"
      },
      "outputs": [],
      "source": [
        "#experimenting with the query indices"
      ]
    },
    {
      "cell_type": "code",
      "execution_count": null,
      "id": "0cea33d1-71f5-4b67-bf21-df9438becc9b",
      "metadata": {
        "tags": [],
        "id": "0cea33d1-71f5-4b67-bf21-df9438becc9b"
      },
      "outputs": [],
      "source": [
        "nodes_beer = parser.get_nodes_from_documents(documents_beer)"
      ]
    },
    {
      "cell_type": "code",
      "execution_count": null,
      "id": "ef400861-0897-49e7-9073-d2b2b487e112",
      "metadata": {
        "tags": [],
        "id": "ef400861-0897-49e7-9073-d2b2b487e112"
      },
      "outputs": [],
      "source": [
        "index_beer_other = VectorStoreIndex(nodes_beer, service_context=service_context)\n",
        "#keyword_index = SimpleKeywordTableIndex(nodes_beer, service_context=service_context)"
      ]
    },
    {
      "cell_type": "code",
      "execution_count": null,
      "id": "f86976c7-f0bc-43a1-878e-7211b4e218e1",
      "metadata": {
        "tags": [],
        "id": "f86976c7-f0bc-43a1-878e-7211b4e218e1"
      },
      "outputs": [],
      "source": [
        "query_engine_beer_other = index_beer_other.as_query_engine()"
      ]
    },
    {
      "cell_type": "code",
      "execution_count": null,
      "id": "60e929ab-d604-415c-8647-242d1a4a3b34",
      "metadata": {
        "tags": [],
        "id": "60e929ab-d604-415c-8647-242d1a4a3b34",
        "outputId": "40a29471-88f9-4d7b-df11-ad151b703e6f"
      },
      "outputs": [
        {
          "name": "stderr",
          "output_type": "stream",
          "text": [
            "Setting `pad_token_id` to `eos_token_id`:0 for open-end generation.\n"
          ]
        },
        {
          "data": {
            "text/plain": [
              "Response(response='Based on the context information, the most popular beer flavors are:\\n\\n1. American Pale Ale\\n2. Bluegrass Brewing Co. American Pale Ale\\n3. Willamette Hop\\n4. Centennial and Willamette Hop\\n5. Centennial and Willamette Hop\\n6. Bluegrass Brewing Co. American Pale Ale\\n7. American Pale Ale\\n8. Centennial and Willamette Hop\\n9. Bluegrass Brewing Co. American Pale Ale\\n10. Willamette Hop\\n\\nNote: The popularity of these beers can vary depending on location and time of year.', source_nodes=[NodeWithScore(node=TextNode(id_='47966790-64e1-4db8-9471-1a9cb30e8e0e', embedding=None, metadata={}, excluded_embed_metadata_keys=[], excluded_llm_metadata_keys=[], relationships={<NodeRelationship.SOURCE: '1'>: RelatedNodeInfo(node_id='a67e8540-8500-451f-93cb-dbc631ec83a0', node_type=None, metadata={}, hash='6af98142e133bacf037b0f5bfb7022706bea39caaffb1d3ae4481315fc92d410')}, hash='6af98142e133bacf037b0f5bfb7022706bea39caaffb1d3ae4481315fc92d410', text='Clear red colored ale with a good sized light brown head with some staying power.  Smell is all about spices. Lemon peel, vanilla, allspice and cinnamon are the strongest scents. Little bit of spruce and cookie dough scent, but it is much milder.  Starts out a little sweet with a STRONG spice flavor, pretty much allspice and vanilla with some apple pie. Tastes something like Pumpkin pie spice mix. Little bit of bread and cookie flavor but this is mostly spice.  Mouthfeel is good.  Interesting beer, but you had BETTER want lots of spice. Most of the beer flavors are obscured. Just about the most heavily spiced beer I have yet tasted excluding Cave Creek Chile Beer.', start_char_idx=None, end_char_idx=None, text_template='{metadata_str}\\n\\n{content}', metadata_template='{key}: {value}', metadata_seperator='\\n'), score=0.8611172758985605), NodeWithScore(node=TextNode(id_='9e07317e-d9c4-4af3-a882-d73f9c955e56', embedding=None, metadata={}, excluded_embed_metadata_keys=[], excluded_llm_metadata_keys=[], relationships={<NodeRelationship.SOURCE: '1'>: RelatedNodeInfo(node_id='eade41c4-0587-4004-8be3-f7f43e2e4bf6', node_type=None, metadata={}, hash='37e28d4dc946f8264875a1cec315f7fdf5ccf525b451e16ae67fdc3d7603df70')}, hash='37e28d4dc946f8264875a1cec315f7fdf5ccf525b451e16ae67fdc3d7603df70', text='I had a bottle of Bluegrass Brewing Co. American Pale Ale fresh off the line at the BBC Brewery on Clay and Main in Downtown Louisville. It had a rich amber color, nice creamy head, and good lacing in the glass. The pungent, woody and citrus aromas prepared you for this monster of an APA. mmm mmm... The Centennial and Willamette Hop aromas were strong and enticing. This medium-bodied beer had a creamy mouthfeel and a big, sweet malt body to balance the vibrant hoppiness. So good, I had to have another, and another, and...', start_char_idx=None, end_char_idx=None, text_template='{metadata_str}\\n\\n{content}', metadata_template='{key}: {value}', metadata_seperator='\\n'), score=0.8550887037407615)], metadata={'47966790-64e1-4db8-9471-1a9cb30e8e0e': {}, '9e07317e-d9c4-4af3-a882-d73f9c955e56': {}})"
            ]
          },
          "execution_count": 112,
          "metadata": {},
          "output_type": "execute_result"
        }
      ],
      "source": [
        "query_engine_beer_other.query(\"based on the document set provided, what beers flavors are the most popular?\")"
      ]
    },
    {
      "cell_type": "code",
      "execution_count": null,
      "id": "1502ad6f-841f-4e66-bb30-aeb2d879e66d",
      "metadata": {
        "tags": [],
        "id": "1502ad6f-841f-4e66-bb30-aeb2d879e66d"
      },
      "outputs": [],
      "source": [
        "#pandas query engine (don't wor with the current model)\n",
        "from llama_index.query_engine import PandasQueryEngine"
      ]
    },
    {
      "cell_type": "code",
      "execution_count": null,
      "id": "d892a3ec-2fd4-4070-a3ae-4b1398865700",
      "metadata": {
        "tags": [],
        "id": "d892a3ec-2fd4-4070-a3ae-4b1398865700"
      },
      "outputs": [],
      "source": [
        "query_engine = PandasQueryEngine(df=df['text'], verbose=True, service_context=service_context)"
      ]
    },
    {
      "cell_type": "code",
      "execution_count": null,
      "id": "d4a4e977-cbf0-4a09-8b98-2f4e44c9a377",
      "metadata": {
        "tags": [],
        "id": "d4a4e977-cbf0-4a09-8b98-2f4e44c9a377"
      },
      "outputs": [],
      "source": [
        "response = query_engine.query(\n",
        "    \"are their any beer related documents?\",\n",
        ")"
      ]
    },
    {
      "cell_type": "code",
      "execution_count": null,
      "id": "c963afe4-2ecd-435b-822b-67757e8e8c66",
      "metadata": {
        "tags": [],
        "id": "c963afe4-2ecd-435b-822b-67757e8e8c66"
      },
      "outputs": [],
      "source": [
        "#query filter investigation\n",
        "#from llama_index.vector_stores.types import ExactMatchFilter, MetadataFilters\n",
        "\n",
        "query_engine_custom = index_beer.as_query_engine(\n",
        "    similarity_top_k=2,\n",
        "    vector_store_query_mode=\"default\",\n",
        "    #filters=MetadataFilters(\n",
        "        #filters=[\n",
        "            #ExactMatchFilter(key=\"name\", value=\"paul graham\"),\n",
        "        #]\n",
        "    #),\n",
        "    alpha=None,\n",
        "    doc_ids=None,\n",
        ")"
      ]
    },
    {
      "cell_type": "code",
      "execution_count": null,
      "id": "264ba620-a008-4956-a26d-11a818b68fb2",
      "metadata": {
        "tags": [],
        "id": "264ba620-a008-4956-a26d-11a818b68fb2",
        "outputId": "0892fbd2-098d-40b2-936b-93f37ef3f35b"
      },
      "outputs": [
        {
          "name": "stderr",
          "output_type": "stream",
          "text": [
            "Setting `pad_token_id` to `eos_token_id`:0 for open-end generation.\n"
          ]
        }
      ],
      "source": [
        "response = query_engine_custom.query(\" based on the documens provided what beers people like the most?\")"
      ]
    },
    {
      "cell_type": "code",
      "execution_count": null,
      "id": "12e7127b-034a-4da0-9525-c181df69e3bd",
      "metadata": {
        "tags": [],
        "id": "12e7127b-034a-4da0-9525-c181df69e3bd",
        "outputId": "2376bb3b-d74d-42bf-fab8-914e8039c3fe"
      },
      "outputs": [
        {
          "name": "stdout",
          "output_type": "stream",
          "text": [
            "Based on the context information, I would say that the beer that people like the most is likely to be Centennial and Willamette Hop. Centennial and Willamette Hop are both strong and creamy beers that have a lot of smoky and meaty flavor to them. They are also both located in downtown Louisville and have a rich amber color, creamy head, and good lacing in the glass. Additionally, they are both medium bodied and have a creamy mouthfeel, which is a nice characteristic. Overall, these beers are interesting and enjoyable to drink, and I would recommend them to others.\n"
          ]
        }
      ],
      "source": [
        "print(response)"
      ]
    },
    {
      "cell_type": "code",
      "execution_count": null,
      "id": "71ba01fc-e987-400b-b519-6af8f94161f8",
      "metadata": {
        "tags": [],
        "id": "71ba01fc-e987-400b-b519-6af8f94161f8",
        "outputId": "202d7b4c-d905-4fa4-98af-92db6fa1cb3d"
      },
      "outputs": [
        {
          "name": "stderr",
          "output_type": "stream",
          "text": [
            "Setting `pad_token_id` to `eos_token_id`:0 for open-end generation.\n"
          ]
        }
      ],
      "source": [
        "summary = query_engine_custom.query(\" based on the documents provided summarize opinions about IPA?\")"
      ]
    },
    {
      "cell_type": "code",
      "execution_count": null,
      "id": "15d1bb3d-96ab-4176-97ae-7070ad28d6d8",
      "metadata": {
        "id": "15d1bb3d-96ab-4176-97ae-7070ad28d6d8",
        "outputId": "594aef9a-1269-492c-f9ab-4af29287abc7"
      },
      "outputs": [
        {
          "name": "stdout",
          "output_type": "stream",
          "text": [
            "Based on the context information, it is unclear whether or not the documents provided opinions about the IPA. However, based on the information provided, it can be inferred that the IPA is a highly hoppy and flavorful beer with a smooth, dry finish. The amber color and sedimentation of the beer suggest that it may have been brewed with a lot of hops, which gives it a unique flavor profile. The IPA is also described as having a light, hoppy flavor with a tinge of malt and citrus, which could be due to the use of hops in the brewing process. Overall, the documents provide a good summary of the beer's flavor profile and characteristics.\n"
          ]
        }
      ],
      "source": [
        "print(summary)"
      ]
    },
    {
      "cell_type": "code",
      "execution_count": null,
      "id": "26df7096-5035-45e3-a511-f9890a4d0615",
      "metadata": {
        "id": "26df7096-5035-45e3-a511-f9890a4d0615"
      },
      "outputs": [],
      "source": []
    }
  ],
  "metadata": {
    "kernelspec": {
      "display_name": "conda_pytorch_p310",
      "language": "python",
      "name": "conda_pytorch_p310"
    },
    "language_info": {
      "codemirror_mode": {
        "name": "ipython",
        "version": 3
      },
      "file_extension": ".py",
      "mimetype": "text/x-python",
      "name": "python",
      "nbconvert_exporter": "python",
      "pygments_lexer": "ipython3",
      "version": "3.10.12"
    },
    "colab": {
      "provenance": [],
      "include_colab_link": true
    }
  },
  "nbformat": 4,
  "nbformat_minor": 5
}