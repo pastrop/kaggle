{
  "nbformat": 4,
  "nbformat_minor": 0,
  "metadata": {
    "colab": {
      "provenance": [],
      "authorship_tag": "ABX9TyNQgnx248xHfobUcb3qhkqN",
      "include_colab_link": true
    },
    "kernelspec": {
      "name": "python3",
      "display_name": "Python 3"
    },
    "language_info": {
      "name": "python"
    }
  },
  "cells": [
    {
      "cell_type": "markdown",
      "metadata": {
        "id": "view-in-github",
        "colab_type": "text"
      },
      "source": [
        "<a href=\"https://colab.research.google.com/github/pastrop/kaggle/blob/master/File_format_cnoverter.ipynb\" target=\"_parent\"><img src=\"https://colab.research.google.com/assets/colab-badge.svg\" alt=\"Open In Colab\"/></a>"
      ]
    },
    {
      "cell_type": "code",
      "execution_count": 1,
      "metadata": {
        "colab": {
          "base_uri": "https://localhost:8080/"
        },
        "id": "CptlZC_hw58r",
        "outputId": "1ab03863-4652-4635-885b-a5e406d70153"
      },
      "outputs": [
        {
          "output_type": "stream",
          "name": "stdout",
          "text": [
            "CSV data has been converted to JSON and saved to laptop_review_json.json\n"
          ]
        }
      ],
      "source": [
        "import csv\n",
        "import json\n",
        "\n",
        "# Input and output file paths\n",
        "csv_file_path = \"/content/Laptop_Reviews_Doc.csv\"\n",
        "json_file_path = \"laptop_review_json.json\"\n",
        "\n",
        "# Read the CSV file and convert to JSON\n",
        "def csv_to_json(csv_file, json_file):\n",
        "    with open(csv_file, mode='r') as csv_file:\n",
        "        # Create a CSV reader object\n",
        "        csv_reader = csv.DictReader(csv_file)\n",
        "\n",
        "        # Convert each row into a dictionary\n",
        "        # Add all rows to a list\n",
        "        data = [row for row in csv_reader]\n",
        "\n",
        "    # Write data to a JSON file\n",
        "    with open(json_file, mode='w', encoding='utf-8') as json_file:\n",
        "        json.dump(data, json_file, indent=4)\n",
        "\n",
        "# Convert the CSV to JSON\n",
        "csv_to_json(csv_file_path, json_file_path)\n",
        "print(f\"CSV data has been converted to JSON and saved to {json_file_path}\")"
      ]
    },
    {
      "cell_type": "code",
      "source": [
        "import csv\n",
        "import json\n",
        "\n",
        "# Input and output file paths\n",
        "csv_file_path = \"/content/Laptop_Reviews_Doc.csv\"\n",
        "jsonl_file_path = \"laptop_review_json.jsonl\"\n",
        "\n",
        "# Convert CSV to JSONL\n",
        "def csv_to_jsonl(csv_file, jsonl_file):\n",
        "    with open(csv_file, mode='r') as csv_file:\n",
        "        # Create a CSV reader object\n",
        "        csv_reader = csv.DictReader(csv_file)\n",
        "\n",
        "        # Open the JSONL file for writing\n",
        "        with open(jsonl_file, mode='w', encoding='utf-8') as jsonl_file:\n",
        "            for row in csv_reader:\n",
        "                # Write each row as a JSON object on a new line\n",
        "                jsonl_file.write(json.dumps(row) + '\\n')\n",
        "\n",
        "# Convert the CSV to JSONL\n",
        "csv_to_jsonl(csv_file_path, jsonl_file_path)\n",
        "print(f\"CSV data has been converted to JSONL and saved to {jsonl_file_path}\")"
      ],
      "metadata": {
        "colab": {
          "base_uri": "https://localhost:8080/"
        },
        "id": "HOMfxhicyd6I",
        "outputId": "6938b2dc-616f-435b-d37c-5b90e466a9e0"
      },
      "execution_count": 3,
      "outputs": [
        {
          "output_type": "stream",
          "name": "stdout",
          "text": [
            "CSV data has been converted to JSONL and saved to laptop_review_json.jsonl\n"
          ]
        }
      ]
    }
  ]
}