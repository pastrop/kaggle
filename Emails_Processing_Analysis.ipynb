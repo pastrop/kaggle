{
  "nbformat": 4,
  "nbformat_minor": 0,
  "metadata": {
    "colab": {
      "name": "Emails_Processing_Analysis.ipynb",
      "provenance": [],
      "authorship_tag": "ABX9TyM5Kj2VVwtEENCwvapGMQxc",
      "include_colab_link": true
    },
    "kernelspec": {
      "name": "python3",
      "display_name": "Python 3"
    }
  },
  "cells": [
    {
      "cell_type": "markdown",
      "metadata": {
        "id": "view-in-github",
        "colab_type": "text"
      },
      "source": [
        "<a href=\"https://colab.research.google.com/github/pastrop/kaggle/blob/master/Emails_Processing_Analysis.ipynb\" target=\"_parent\"><img src=\"https://colab.research.google.com/assets/colab-badge.svg\" alt=\"Open In Colab\"/></a>"
      ]
    },
    {
      "cell_type": "markdown",
      "metadata": {
        "id": "pBHO1WA3jDpO"
      },
      "source": [
        "# Email Analysis Notebook"
      ]
    },
    {
      "cell_type": "markdown",
      "metadata": {
        "id": "AOe5vxuq2OBq"
      },
      "source": [
        "\n",
        "\n",
        "*   Word Embeddings are used for the email text analysis\n",
        "*   TSNE and Enbedding Projector are used for data visual analysis of the data\n",
        "*   LDA - Latent Dirichle Allocation is used for the Topic Modelling\n",
        "*   K-means is used for clustering (embeddings base) <br>\n",
        "\n",
        "*Findings*\n",
        "\n",
        "\n",
        "*   There is no clear clustering for the date\n",
        "*   There is a significant differences in groupings based on the LDA topics vs K-means (based on PCA embedding transform)\n",
        "*   Embeddings Projector is cool :)\n",
        "\n",
        "\n",
        "\n",
        "\n",
        "\n",
        "\n",
        "\n",
        "\n",
        "\n",
        "\n",
        "\n"
      ]
    },
    {
      "cell_type": "markdown",
      "metadata": {
        "id": "XvjmrujijLvu"
      },
      "source": [
        "# Email Parsing & Initial Processing"
      ]
    },
    {
      "cell_type": "code",
      "metadata": {
        "id": "QxSgKp_EjV_t"
      },
      "source": [
        "#Imports\n",
        "import pandas as pd\n",
        "import numpy as np\n",
        "import re\n",
        "import io\n",
        "from pathlib import Path"
      ],
      "execution_count": 23,
      "outputs": []
    },
    {
      "cell_type": "code",
      "metadata": {
        "id": "n3Upxf32XKyB"
      },
      "source": [
        "!rm -rf all_documents"
      ],
      "execution_count": 62,
      "outputs": []
    },
    {
      "cell_type": "code",
      "metadata": {
        "colab": {
          "resources": {
            "http://localhost:8080/nbextensions/google.colab/files.js": {
              "data": "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",
              "ok": true,
              "headers": [
                [
                  "content-type",
                  "application/javascript"
                ]
              ],
              "status": 200,
              "status_text": ""
            }
          },
          "base_uri": "https://localhost:8080/",
          "height": 72
        },
        "id": "ajubm5VujA--",
        "outputId": "38a58ed7-3e8a-4eef-8f86-7b3f15fbb57d"
      },
      "source": [
        "# file upload while using Google Colab\n",
        "from google.colab import files\n",
        "uploaded = files.upload()"
      ],
      "execution_count": 63,
      "outputs": [
        {
          "output_type": "display_data",
          "data": {
            "text/html": [
              "\n",
              "     <input type=\"file\" id=\"files-5ba89899-a207-488c-8e87-f476c3217a1a\" name=\"files[]\" multiple disabled\n",
              "        style=\"border:none\" />\n",
              "     <output id=\"result-5ba89899-a207-488c-8e87-f476c3217a1a\">\n",
              "      Upload widget is only available when the cell has been executed in the\n",
              "      current browser session. Please rerun this cell to enable.\n",
              "      </output>\n",
              "      <script src=\"/nbextensions/google.colab/files.js\"></script> "
            ],
            "text/plain": [
              "<IPython.core.display.HTML object>"
            ]
          },
          "metadata": {
            "tags": []
          }
        },
        {
          "output_type": "stream",
          "text": [
            "Saving all_documents.zip to all_documents.zip\n"
          ],
          "name": "stdout"
        }
      ]
    },
    {
      "cell_type": "code",
      "metadata": {
        "id": "diNDswxMklKI"
      },
      "source": [
        "# files unzipping\n",
        "!unzip all_documents.zip"
      ],
      "execution_count": null,
      "outputs": []
    },
    {
      "cell_type": "code",
      "metadata": {
        "id": "T9H-vIu5lZzh"
      },
      "source": [
        "with open('./contacts/1462.copy', 'r',encoding='utf-8-sig') as file:\n",
        "    data = file.read()"
      ],
      "execution_count": null,
      "outputs": []
    },
    {
      "cell_type": "code",
      "metadata": {
        "id": "Og-cUIX5nodD"
      },
      "source": [
        "#paths = Path('/content/contacts').glob('**/[!.]*')\n",
        "paths = Path('/content/all_documents').glob('**/[!.]*')\n",
        "msg = []\n",
        "file_path = []\n",
        "\n",
        "#For whatever reason this is the only way Pathlib works with CoLab, sad... \n",
        "for path in paths:\n",
        "    path_in_str = str(path)\n",
        "    file_path.append(path_in_str)\n",
        "for item in file_path:    \n",
        "    with io.open(item, 'r', errors='ignore') as file:\n",
        "      msg.append(file.read())"
      ],
      "execution_count": 199,
      "outputs": []
    },
    {
      "cell_type": "code",
      "metadata": {
        "id": "PXpF2uMpjjh_"
      },
      "source": [
        "#message processing\n",
        "def parse_raw_message(raw_message):\n",
        "    lines = raw_message.split('\\n')\n",
        "    email = {}\n",
        "    message = ''\n",
        "    keys_to_extract = ['from', 'to']\n",
        "    for line in lines:\n",
        "        if ':' not in line:\n",
        "            if not re.findall(r\"[a-z0-9\\.\\-+_]+@[a-z0-9\\.\\-+_]+\\.[a-z]+\", line) and \\\n",
        "            not re.findall(r\"(\\.com|\\.org|IMAP|ESMTP|(EDT)|(ICT))\", line): \n",
        "              message += line.strip()\n",
        "              email['body'] = message\n",
        "        else:\n",
        "            pairs = line.split(':')\n",
        "            key = pairs[0].lower()\n",
        "            val = pairs[1].strip()\n",
        "            if key in keys_to_extract:\n",
        "                email[key] = val+' ' # to make combined labels readable\n",
        "    return email\n",
        "\n",
        "def parse_into_emails(messages):\n",
        "  emails = [parse_raw_message(message) for message in messages]\n",
        "  return {'body': map_to_list(emails, 'body'), \n",
        "          'to': map_to_list(emails, 'to'), \n",
        "          'from': map_to_list(emails, 'from')\n",
        "          }\n",
        "\n",
        "def map_to_list(dct, key):\n",
        "  tmp = []\n",
        "  for item in dct:\n",
        "    try:\n",
        "      tmp.append(item[key])\n",
        "    except Exception:\n",
        "      tmp.append('empty_field')  \n",
        "  return tmp "
      ],
      "execution_count": 67,
      "outputs": []
    },
    {
      "cell_type": "code",
      "metadata": {
        "id": "PGFMw4lNuzB7"
      },
      "source": [
        "#test\n",
        "res = parse_into_emails(msg)\n",
        "# lst of labels for the Embedding Projector\n",
        "labels = [str(x)+str(y) for x,y in zip(res['from'], res['to'])] # str()  is just to make sure bcs the data is pretty dirty"
      ],
      "execution_count": 203,
      "outputs": []
    },
    {
      "cell_type": "code",
      "metadata": {
        "id": "IYv98u6O0c6t",
        "outputId": "f8266fd9-259b-427f-f06b-204a11da0948",
        "colab": {
          "base_uri": "https://localhost:8080/"
        }
      },
      "source": [
        "#text processing\n",
        "import string\n",
        "import nltk\n",
        "nltk.download('punkt')\n",
        "nltk.download('wordnet')\n",
        "nltk.download('stopwords')\n",
        "from nltk.stem import WordNetLemmatizer\n",
        "wordnet_lemmatizer = WordNetLemmatizer()\n",
        "#from nltk.stem.porter import PorterStemmer\n",
        "from nltk.corpus import stopwords"
      ],
      "execution_count": 69,
      "outputs": [
        {
          "output_type": "stream",
          "text": [
            "[nltk_data] Downloading package punkt to /root/nltk_data...\n",
            "[nltk_data]   Package punkt is already up-to-date!\n",
            "[nltk_data] Downloading package wordnet to /root/nltk_data...\n",
            "[nltk_data]   Package wordnet is already up-to-date!\n",
            "[nltk_data] Downloading package stopwords to /root/nltk_data...\n",
            "[nltk_data]   Package stopwords is already up-to-date!\n"
          ],
          "name": "stdout"
        }
      ]
    },
    {
      "cell_type": "code",
      "metadata": {
        "id": "_AQpfcgJ18jU"
      },
      "source": [
        "#dealing with punctions while preventing word merging the words(people don't put blanks where they should...)\n",
        "tmp = []\n",
        "for item in res['body']:\n",
        "  temp = item.translate(str.maketrans(',.', '  '))\n",
        "  tmp.append(temp.translate(str.maketrans('', '', string.punctuation)))\n",
        "res['body'] = tmp  "
      ],
      "execution_count": 204,
      "outputs": []
    },
    {
      "cell_type": "markdown",
      "metadata": {
        "id": "Ei1TZxFfZhk6"
      },
      "source": [
        "# Modelling & Analysis"
      ]
    },
    {
      "cell_type": "markdown",
      "metadata": {
        "id": "LTe1VFxHbWN3"
      },
      "source": [
        "**Clustering - Visual Analysis**"
      ]
    },
    {
      "cell_type": "code",
      "metadata": {
        "id": "NP3Zv-nLbVgF"
      },
      "source": [
        "!pip install -q tensorflow-hub\n",
        "import tensorflow_hub as hub"
      ],
      "execution_count": 72,
      "outputs": []
    },
    {
      "cell_type": "code",
      "metadata": {
        "id": "Xx_pL2rik2YV"
      },
      "source": [
        "# data visualization:\n",
        "from sklearn.manifold import TSNE\n",
        "import matplotlib.pyplot as plt\n",
        "import random\n",
        "%matplotlib inline"
      ],
      "execution_count": 37,
      "outputs": []
    },
    {
      "cell_type": "code",
      "metadata": {
        "colab": {
          "base_uri": "https://localhost:8080/"
        },
        "id": "GvRv-Qoibd5P",
        "outputId": "ac916a1a-977b-47ff-c7c9-e5a63f495d70"
      },
      "source": [
        "#using universal sentence encoder to get sentence encodings\n",
        "#Load the Universal Sentence Encoder's TF Hub module\n",
        "#param [\"https://tfhub.dev/google/universal-sentence-encoder/4\", \"https://tfhub.dev/google/universal-sentence-encoder-large/5\"]\n",
        "module_url = \"https://tfhub.dev/google/universal-sentence-encoder/4\" # Using DAN\n",
        "print (\"module {} loaded\".format(module_url))\n",
        "model = hub.load(module_url)\n",
        "def embed(input):\n",
        "  return model(input)"
      ],
      "execution_count": 38,
      "outputs": [
        {
          "output_type": "stream",
          "text": [
            "module https://tfhub.dev/google/universal-sentence-encoder/4 loaded\n"
          ],
          "name": "stdout"
        }
      ]
    },
    {
      "cell_type": "code",
      "metadata": {
        "id": "5iljNs57bllM"
      },
      "source": [
        "embedding_tuples = []\n",
        "for item, label in zip(res['body'], labels):\n",
        "  tmp = embed([item])[0].numpy(),label\n",
        "  embedding_tuples.append(tmp)"
      ],
      "execution_count": 209,
      "outputs": []
    },
    {
      "cell_type": "code",
      "metadata": {
        "id": "sHs6fHWyb0iW"
      },
      "source": [
        "# visualization code\n",
        "def tsne_plot(emb):\n",
        "    \"Creates and TSNE model and plots it\"\n",
        "    labels = []\n",
        "    tokens = []\n",
        "\n",
        "    for i in range(len(emb)):\n",
        "        tokens.append(emb[i][0])\n",
        "        labels.append(emb[i][1])\n",
        "    \n",
        "    tsne_model = TSNE(perplexity=30, n_components=2, init='pca', n_iter=2500, random_state=23)\n",
        "    new_values = tsne_model.fit_transform(tokens)\n",
        "\n",
        "    x = []\n",
        "    y = []\n",
        "    for value in new_values:\n",
        "        x.append(value[0])\n",
        "        y.append(value[1])\n",
        "\n",
        "    print(f'number of points - {len(x)}')\n",
        "\n",
        "    plt.figure(figsize=(16, 16)) \n",
        "\n",
        "    for i in range(len(x)):\n",
        "        plt.scatter(x[i],y[i])\n",
        "    plt.show()\n",
        "    return x,y"
      ],
      "execution_count": 247,
      "outputs": []
    },
    {
      "cell_type": "code",
      "metadata": {
        "colab": {
          "base_uri": "https://localhost:8080/",
          "height": 952
        },
        "id": "NCGM2Xabb6ln",
        "outputId": "9c294c8c-1715-48db-d65f-a5a90aca62a9"
      },
      "source": [
        "# The goal here is to see whether the data has any structure whatever\n",
        "dim_x, dim_y = tsne_plot(embedding_tuples)"
      ],
      "execution_count": 248,
      "outputs": [
        {
          "output_type": "stream",
          "text": [
            "number of points - 834\n",
            "number of points - 834\n"
          ],
          "name": "stdout"
        },
        {
          "output_type": "display_data",
          "data": {
            "image/png": "[encoded data removed]",
            "text/plain": [
              "<Figure size 1152x1152 with 1 Axes>"
            ]
          },
          "metadata": {
            "tags": [],
            "needs_background": "light"
          }
        }
      ]
    },
    {
      "cell_type": "markdown",
      "metadata": {
        "id": "pE5TbcsmcBWi"
      },
      "source": [
        "**Tensorflow Embedding Projector**"
      ]
    },
    {
      "cell_type": "code",
      "metadata": {
        "id": "kYOchTgJb7ga"
      },
      "source": [
        "try:\n",
        "  # %tensorflow_version only exists in Colab.\n",
        "  %tensorflow_version 2.x\n",
        "except Exception:\n",
        "  pass\n",
        "%load_ext tensorboard"
      ],
      "execution_count": 50,
      "outputs": []
    },
    {
      "cell_type": "code",
      "metadata": {
        "id": "9sPPJBiTcL70"
      },
      "source": [
        "import os\n",
        "from tensorboard.plugins import projector\n",
        "import tensorflow as tf"
      ],
      "execution_count": 51,
      "outputs": []
    },
    {
      "cell_type": "code",
      "metadata": {
        "id": "sqvSAofecMwc"
      },
      "source": [
        "# Set up a logs directory, so Tensorboard knows where to look for files\n",
        "log_dir='/logs/emb/'\n",
        "if not os.path.exists(log_dir):\n",
        "    os.makedirs(log_dir)\n",
        "\n",
        "# Save Labels separately line-by-line\n",
        "with open(os.path.join(log_dir, 'metadata.tsv'), \"w\") as f:\n",
        "  for label in embedding_tuples:\n",
        "    f.write(\"{}\\n\".format(label[1]))\n",
        "\n",
        "# Save embeddings in tsv file.\n",
        "\n",
        "with open(os.path.join(log_dir, 'vectors.tsv'), \"w\") as f:\n",
        "  for vec in embedding_tuples:\n",
        "    tmp = '\\t'.join(str(x) for x in vec[0])\n",
        "    f.write(\"{}\\n\".format(tmp))"
      ],
      "execution_count": 92,
      "outputs": []
    },
    {
      "cell_type": "code",
      "metadata": {
        "id": "th3waaB5cclX"
      },
      "source": [
        "# all embeddings as numpy array of shape [n_words, embedding_size]\n",
        "arrays = [vec[0] for vec in embedding_tuples]\n",
        "embeddings_vectors = np.stack(arrays, axis=0)"
      ],
      "execution_count": 93,
      "outputs": []
    },
    {
      "cell_type": "code",
      "metadata": {
        "id": "ZcgF71z8cpXk"
      },
      "source": [
        "# Save embeddings in TF variable.\n",
        "emb = tf.Variable(embeddings_vectors, name='word_embeddings')\n",
        "\n",
        "# Add ops to save and restore all the variables.\n",
        "checkpoint = tf.train.Checkpoint(embedding=emb)"
      ],
      "execution_count": 94,
      "outputs": []
    },
    {
      "cell_type": "code",
      "metadata": {
        "colab": {
          "base_uri": "https://localhost:8080/",
          "height": 35
        },
        "id": "AUSTRdZWcuHc",
        "outputId": "6be25f43-3c2d-455f-d1e0-2013fa2fb293"
      },
      "source": [
        "checkpoint.save(os.path.join(log_dir, \"embedding.ckpt\"))"
      ],
      "execution_count": 95,
      "outputs": [
        {
          "output_type": "execute_result",
          "data": {
            "application/vnd.google.colaboratory.intrinsic+json": {
              "type": "string"
            },
            "text/plain": [
              "'/logs/emb/embedding.ckpt-1'"
            ]
          },
          "metadata": {
            "tags": []
          },
          "execution_count": 95
        }
      ]
    },
    {
      "cell_type": "code",
      "metadata": {
        "id": "q6Yb_Qoucx3Z"
      },
      "source": [
        "# Set up config\n",
        "config = projector.ProjectorConfig()\n",
        "embedding = config.embeddings.add()\n",
        "# The name of the tensor will be suffixed by `/.ATTRIBUTES/VARIABLE_VALUE`\n",
        "embedding.tensor_name = \"embedding/.ATTRIBUTES/VARIABLE_VALUE\"\n",
        "embedding.metadata_path = 'metadata.tsv'\n",
        "projector.visualize_embeddings(log_dir, config)"
      ],
      "execution_count": 96,
      "outputs": []
    },
    {
      "cell_type": "code",
      "metadata": {
        "id": "VboNCesIl4bQ",
        "outputId": "a30ed85c-d8cd-4244-b57f-cce96e6cb3bb",
        "colab": {
          "base_uri": "https://localhost:8080/"
        }
      },
      "source": [
        "!kill 285"
      ],
      "execution_count": 60,
      "outputs": [
        {
          "output_type": "stream",
          "text": [
            "/bin/bash: line 0: kill: (285) - No such process\n"
          ],
          "name": "stdout"
        }
      ]
    },
    {
      "cell_type": "code",
      "metadata": {
        "id": "s7x6TfgSc9JE"
      },
      "source": [
        "%tensorboard --logdir /logs/emb/\n",
        "#Don't forget to select PROJECTOR from the TensorBoard dropdown"
      ],
      "execution_count": null,
      "outputs": []
    },
    {
      "cell_type": "markdown",
      "metadata": {
        "id": "bmUGq_tudLe6"
      },
      "source": [
        "**LDA - Latent Dirichle Allocation**<br>*Let's find out which topics emails are getting classified into*"
      ]
    },
    {
      "cell_type": "code",
      "metadata": {
        "id": "Nd8tTa1FOyAh"
      },
      "source": [
        "import gensim\n",
        "from gensim.utils import simple_preprocess\n",
        "from gensim.parsing.preprocessing import STOPWORDS"
      ],
      "execution_count": 212,
      "outputs": []
    },
    {
      "cell_type": "code",
      "metadata": {
        "id": "7gGswTh91OJw"
      },
      "source": [
        "#exlude stop words\n",
        "stop_words = stopwords.words('english')\n",
        "msgs_for_lde = [] \n",
        "for item in res['body']:\n",
        "  tmp = [w for w in item.split() if w not in stop_words]\n",
        "  msgs_for_lde.append(tmp)"
      ],
      "execution_count": 213,
      "outputs": []
    },
    {
      "cell_type": "code",
      "metadata": {
        "id": "8mO6QqaFLHsu"
      },
      "source": [
        "#Lemmatizing\n",
        "lemmatized = []\n",
        "for item in msgs_for_lde:\n",
        "  tmp = [wordnet_lemmatizer.lemmatize(w) for w in item]\n",
        "  lemmatized.append(tmp)"
      ],
      "execution_count": 214,
      "outputs": []
    },
    {
      "cell_type": "code",
      "metadata": {
        "id": "tzlzsGknN2Am"
      },
      "source": [
        "dictionary = gensim.corpora.Dictionary(lemmatized)\n",
        "bow_corpus = [dictionary.doc2bow(doc) for doc in lemmatized]"
      ],
      "execution_count": 215,
      "outputs": []
    },
    {
      "cell_type": "code",
      "metadata": {
        "id": "ENcN0rzLVl2r"
      },
      "source": [
        "#preview - for testing only\n",
        "for i in range(len(bow_corpus[1])):\n",
        "  print(\"Word {} (\\\"{}\\\") appears {} time.\".format(bow_corpus[1][i][0],dictionary[bow_corpus[1][i][0]],bow_corpus[1][i][1]))"
      ],
      "execution_count": null,
      "outputs": []
    },
    {
      "cell_type": "code",
      "metadata": {
        "id": "4HJG7L_9N22z"
      },
      "source": [
        "lda_model = gensim.models.LdaMulticore(bow_corpus, num_topics=10, id2word=dictionary, passes=10, workers=2)"
      ],
      "execution_count": 216,
      "outputs": []
    },
    {
      "cell_type": "code",
      "metadata": {
        "colab": {
          "base_uri": "https://localhost:8080/"
        },
        "id": "FUA082thOWir",
        "outputId": "0da413e0-524d-47cc-eadb-da90bcbd3b22"
      },
      "source": [
        "#getting a List of topics\n",
        "for idx, topic in lda_model.print_topics():\n",
        "  print(f'Topic: {idx} \\n Top 10 Topics Words & Probabilities {topic}')"
      ],
      "execution_count": 217,
      "outputs": [
        {
          "output_type": "stream",
          "text": [
            "Topic: 0 \n",
            " Top 10 Topics Words & Probabilities 0.018*\"I\" + 0.006*\"Enron\" + 0.005*\"Jeff\" + 0.004*\"would\" + 0.004*\"The\" + 0.004*\"know\" + 0.003*\"We\" + 0.003*\"like\" + 0.003*\"If\" + 0.003*\"time\"\n",
            "Topic: 1 \n",
            " Top 10 Topics Words & Probabilities 0.013*\"Jeff\" + 0.013*\"I\" + 0.006*\"time\" + 0.005*\"company\" + 0.005*\"Enron\" + 0.005*\"Transactions\" + 0.004*\"Notional\" + 0.004*\"forward\" + 0.004*\"Value\" + 0.004*\"1\"\n",
            "Topic: 2 \n",
            " Top 10 Topics Words & Probabilities 0.004*\"I\" + 0.004*\"The\" + 0.003*\"Houston\" + 0.003*\"SMU\" + 0.003*\"In\" + 0.003*\"member\" + 0.003*\"Enron\" + 0.002*\"Energy\" + 0.002*\"u\" + 0.002*\"A\"\n",
            "Topic: 3 \n",
            " Top 10 Topics Words & Probabilities 0.028*\"I\" + 0.005*\"Mark\" + 0.004*\"The\" + 0.004*\"get\" + 0.004*\"one\" + 0.003*\"see\" + 0.003*\"time\" + 0.003*\"know\" + 0.003*\"thing\" + 0.003*\"think\"\n",
            "Topic: 4 \n",
            " Top 10 Topics Words & Probabilities 0.011*\"Enron\" + 0.009*\"Chairman\" + 0.007*\"I\" + 0.004*\"Executive\" + 0.004*\"Chief\" + 0.004*\"business\" + 0.004*\"market\" + 0.004*\"CEO\" + 0.004*\"new\" + 0.003*\"also\"\n",
            "Topic: 5 \n",
            " Top 10 Topics Words & Probabilities 0.019*\"I\" + 0.008*\"Jeff\" + 0.008*\"message\" + 0.007*\"would\" + 0.006*\"The\" + 0.006*\"If\" + 0.005*\"Mr\" + 0.005*\"Enron\" + 0.004*\"know\" + 0.004*\"like\"\n",
            "Topic: 6 \n",
            " Top 10 Topics Words & Probabilities 0.007*\"E\" + 0.007*\"Unterberg\" + 0.006*\"3\" + 0.006*\"Towbin\" + 0.005*\"C\" + 0.005*\"2\" + 0.005*\"security\" + 0.004*\"12\" + 0.004*\"buy\" + 0.004*\"email\"\n",
            "Topic: 7 \n",
            " Top 10 Topics Words & Probabilities 0.010*\"I\" + 0.006*\"The\" + 0.006*\"01\" + 0.004*\"We\" + 0.003*\"Communications\" + 0.003*\"company\" + 0.003*\"would\" + 0.003*\"EWS\" + 0.003*\"year\" + 0.002*\"Enron\"\n",
            "Topic: 8 \n",
            " Top 10 Topics Words & Probabilities 0.032*\"I\" + 0.006*\"Jeff\" + 0.006*\"time\" + 0.005*\"know\" + 0.004*\"The\" + 0.004*\"would\" + 0.004*\"one\" + 0.003*\"year\" + 0.003*\"Im\" + 0.003*\"let\"\n",
            "Topic: 9 \n",
            " Top 10 Topics Words & Probabilities 0.006*\"day\" + 0.005*\"I\" + 0.004*\"3\" + 0.004*\"information\" + 0.003*\"intended\" + 0.003*\"The\" + 0.003*\"candidate\" + 0.003*\"work\" + 0.003*\"Transactions\" + 0.002*\"Daily\"\n"
          ],
          "name": "stdout"
        }
      ]
    },
    {
      "cell_type": "code",
      "metadata": {
        "id": "weuMF94WYtm9"
      },
      "source": [
        "topic_dict = {}\n",
        "for item in bow_corpus:\n",
        "  topic_id, prob = sorted(lda_model[item], key=lambda tup: -1*tup[1])[0]\n",
        "  #print(f'topic id - {topic_id}, probability of being in the topic - {prob}')\n",
        "  if topic_id not in topic_dict.keys():\n",
        "    topic_dict[topic_id] = 1\n",
        "  else:\n",
        "    topic_dict[topic_id] +=1     \n",
        "  topic_words =re.findall(r'\\\"(.+?)\\\"',lda_model.print_topic(topic_id, 5))\n",
        "  #print(f'Top 5 words in topic - {topic_words}')"
      ],
      "execution_count": 218,
      "outputs": []
    },
    {
      "cell_type": "code",
      "metadata": {
        "id": "3IZ6FYZfnbJh",
        "outputId": "1f89d864-0356-4d14-84e0-63a38d025860",
        "colab": {
          "base_uri": "https://localhost:8080/"
        }
      },
      "source": [
        "#Split words into the topics\n",
        "for key, val in topic_dict.items():\n",
        "  print(f'Topic ID - {key} -- Number of Docs in Topic - {val}')"
      ],
      "execution_count": 219,
      "outputs": [
        {
          "output_type": "stream",
          "text": [
            "Topic ID - 1 -- Number of Docs in Topic - 146\n",
            "Topic ID - 5 -- Number of Docs in Topic - 164\n",
            "Topic ID - 4 -- Number of Docs in Topic - 47\n",
            "Topic ID - 8 -- Number of Docs in Topic - 134\n",
            "Topic ID - 7 -- Number of Docs in Topic - 64\n",
            "Topic ID - 3 -- Number of Docs in Topic - 68\n",
            "Topic ID - 0 -- Number of Docs in Topic - 95\n",
            "Topic ID - 9 -- Number of Docs in Topic - 29\n",
            "Topic ID - 2 -- Number of Docs in Topic - 35\n",
            "Topic ID - 6 -- Number of Docs in Topic - 52\n"
          ],
          "name": "stdout"
        }
      ]
    },
    {
      "cell_type": "markdown",
      "metadata": {
        "id": "MenFJrxqB1o5"
      },
      "source": [
        "**K clustering**"
      ]
    },
    {
      "cell_type": "code",
      "metadata": {
        "id": "qtrJp5F4CmiC"
      },
      "source": [
        "from sklearn.decomposition import PCA\n",
        "from sklearn.cluster import KMeans\n",
        "from gensim import corpora\n",
        "from sklearn.feature_extraction.text import TfidfVectorizer"
      ],
      "execution_count": 184,
      "outputs": []
    },
    {
      "cell_type": "code",
      "metadata": {
        "id": "cnnfXuQmgb6U"
      },
      "source": [
        "#TF-IDF Calculation\n",
        "vectorizer = TfidfVectorizer()\n",
        "X = vectorizer.fit_transform(res['body'])"
      ],
      "execution_count": 225,
      "outputs": []
    },
    {
      "cell_type": "code",
      "metadata": {
        "id": "i7o9JtJ6h6IU",
        "outputId": "9462ea47-3439-4ba2-f23d-fce9725f00b4",
        "colab": {
          "base_uri": "https://localhost:8080/"
        }
      },
      "source": [
        "X.shape"
      ],
      "execution_count": 226,
      "outputs": [
        {
          "output_type": "execute_result",
          "data": {
            "text/plain": [
              "(834, 23355)"
            ]
          },
          "metadata": {
            "tags": []
          },
          "execution_count": 226
        }
      ]
    },
    {
      "cell_type": "code",
      "metadata": {
        "id": "XJR0c-wtGHyc"
      },
      "source": [
        "X = [list(x[0]) for x in embedding_tuples]"
      ],
      "execution_count": 154,
      "outputs": []
    },
    {
      "cell_type": "code",
      "metadata": {
        "id": "6r-8yD8LB0vH"
      },
      "source": [
        "X = [list(x[0]) for x in embedding_tuples]\n",
        "X = np.array(X)\n",
        "pca = PCA(n_components=2)\n",
        "coords = pca.fit_transform(X)"
      ],
      "execution_count": 221,
      "outputs": []
    },
    {
      "cell_type": "code",
      "metadata": {
        "id": "TtR9qesSDhGX",
        "outputId": "347e3ed3-6efc-442a-c7ff-e53e22291596",
        "colab": {
          "base_uri": "https://localhost:8080/",
          "height": 265
        }
      },
      "source": [
        "plt.scatter(coords[:, 0], coords[:, 1], c='m')\n",
        "plt.show()"
      ],
      "execution_count": 242,
      "outputs": [
        {
          "output_type": "display_data",
          "data": {
            "image/png": "[encoded data removed]",
            "text/plain": [
              "<Figure size 432x288 with 1 Axes>"
            ]
          },
          "metadata": {
            "tags": [],
            "needs_background": "light"
          }
        }
      ]
    },
    {
      "cell_type": "code",
      "metadata": {
        "id": "I4Zx6fcoR4tA"
      },
      "source": [
        "# no elbow method is used, mostly because it is clear that the data doesn't have much of a structure is so it is mostly to compare results to LDA\n",
        "n_clusters = 10 \n",
        "clf = KMeans(n_clusters=n_clusters, max_iter=100, init='k-means++', n_init=1)\n",
        "labels = clf.fit_predict(list(zip(dim_x,dim_y)))"
      ],
      "execution_count": 237,
      "outputs": []
    },
    {
      "cell_type": "code",
      "metadata": {
        "id": "FesOOtzFtDdL"
      },
      "source": [
        "clust_dict = {}\n",
        "for cluster in labels:\n",
        "  if cluster not in clust_dict.keys():\n",
        "    clust_dict[cluster] = 1\n",
        "  else:\n",
        "    clust_dict[cluster] += 1"
      ],
      "execution_count": 244,
      "outputs": []
    },
    {
      "cell_type": "markdown",
      "metadata": {
        "id": "oPH_hTIk1DgF"
      },
      "source": [
        "**Comparing the grouping by DLA and K-Clustering**"
      ]
    },
    {
      "cell_type": "code",
      "metadata": {
        "id": "bpOckSdB0DoY"
      },
      "source": [
        "k_means_tuples = []\n",
        "for key, value in clust_dict.items():\n",
        "  k_means_tuples.append((value, key))"
      ],
      "execution_count": 250,
      "outputs": []
    },
    {
      "cell_type": "code",
      "metadata": {
        "id": "7Lf1SLgU2Ak5",
        "outputId": "f4a83440-167c-41ff-9546-bbd828775c29",
        "colab": {
          "base_uri": "https://localhost:8080/"
        }
      },
      "source": [
        "print(sorted(k_means_tuples))"
      ],
      "execution_count": 253,
      "outputs": [
        {
          "output_type": "stream",
          "text": [
            "[(22, 3), (59, 9), (68, 0), (69, 2), (83, 8), (95, 4), (106, 1), (107, 5), (108, 6), (117, 7)]\n"
          ],
          "name": "stdout"
        }
      ]
    },
    {
      "cell_type": "code",
      "metadata": {
        "id": "5cr-i_PT0Olr"
      },
      "source": [
        "DLA_tuples = []\n",
        "for key, value in topic_dict.items():\n",
        "  DLA_tuples.append((value, key))"
      ],
      "execution_count": 254,
      "outputs": []
    },
    {
      "cell_type": "code",
      "metadata": {
        "id": "hUFYDZh52dhe",
        "outputId": "081c7650-26e9-4f53-d6a4-ef5ce95772b2",
        "colab": {
          "base_uri": "https://localhost:8080/"
        }
      },
      "source": [
        "print(sorted(DLA_tuples))"
      ],
      "execution_count": 255,
      "outputs": [
        {
          "output_type": "stream",
          "text": [
            "[(29, 9), (35, 2), (47, 4), (52, 6), (64, 7), (68, 3), (95, 0), (134, 8), (146, 1), (164, 5)]\n"
          ],
          "name": "stdout"
        }
      ]
    }
  ]
}