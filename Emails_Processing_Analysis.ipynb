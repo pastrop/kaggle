{
  "nbformat": 4,
  "nbformat_minor": 0,
  "metadata": {
    "colab": {
      "name": "Emails_Processing_Analysis.ipynb",
      "provenance": [],
      "authorship_tag": "ABX9TyOkgNihHGJfDbG2247zJBKo",
      "include_colab_link": true
    },
    "kernelspec": {
      "name": "python3",
      "display_name": "Python 3"
    }
  },
  "cells": [
    {
      "cell_type": "markdown",
      "metadata": {
        "id": "view-in-github",
        "colab_type": "text"
      },
      "source": [
        "<a href=\"https://colab.research.google.com/github/pastrop/kaggle/blob/master/Emails_Processing_Analysis.ipynb\" target=\"_parent\"><img src=\"https://colab.research.google.com/assets/colab-badge.svg\" alt=\"Open In Colab\"/></a>"
      ]
    },
    {
      "cell_type": "markdown",
      "metadata": {
        "id": "pBHO1WA3jDpO"
      },
      "source": [
        "# Email Analysis Notebook"
      ]
    },
    {
      "cell_type": "markdown",
      "metadata": {
        "id": "XvjmrujijLvu"
      },
      "source": [
        "# Email Parsing & Initial Processing"
      ]
    },
    {
      "cell_type": "code",
      "metadata": {
        "id": "QxSgKp_EjV_t"
      },
      "source": [
        "#Imports\n",
        "import pandas as pd\n",
        "import numpy as np\n",
        "import re\n",
        "import io\n",
        "from pathlib import Path"
      ],
      "execution_count": 1,
      "outputs": []
    },
    {
      "cell_type": "code",
      "metadata": {
        "colab": {
          "resources": {
            "http://localhost:8080/nbextensions/google.colab/files.js": {
              "data": "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",
              "ok": true,
              "headers": [
                [
                  "content-type",
                  "application/javascript"
                ]
              ],
              "status": 200,
              "status_text": ""
            }
          },
          "base_uri": "https://localhost:8080/",
          "height": 72
        },
        "id": "ajubm5VujA--",
        "outputId": "6930fc1e-6434-4bb2-f34b-33feb9fd2520"
      },
      "source": [
        "# file upload while using Google Colab\n",
        "from google.colab import files\n",
        "uploaded = files.upload()"
      ],
      "execution_count": 2,
      "outputs": [
        {
          "output_type": "display_data",
          "data": {
            "text/html": [
              "\n",
              "     <input type=\"file\" id=\"files-bc49ed94-8caa-47d3-95aa-56e5e8ad7d10\" name=\"files[]\" multiple disabled\n",
              "        style=\"border:none\" />\n",
              "     <output id=\"result-bc49ed94-8caa-47d3-95aa-56e5e8ad7d10\">\n",
              "      Upload widget is only available when the cell has been executed in the\n",
              "      current browser session. Please rerun this cell to enable.\n",
              "      </output>\n",
              "      <script src=\"/nbextensions/google.colab/files.js\"></script> "
            ],
            "text/plain": [
              "<IPython.core.display.HTML object>"
            ]
          },
          "metadata": {
            "tags": []
          }
        },
        {
          "output_type": "stream",
          "text": [
            "Saving contacts.zip to contacts.zip\n"
          ],
          "name": "stdout"
        }
      ]
    },
    {
      "cell_type": "code",
      "metadata": {
        "id": "diNDswxMklKI",
        "colab": {
          "base_uri": "https://localhost:8080/"
        },
        "outputId": "7882d60b-6865-4aa5-dc02-e408c6d41db4"
      },
      "source": [
        "# files unzipping\n",
        "!unzip contacts.zip"
      ],
      "execution_count": 3,
      "outputs": [
        {
          "output_type": "stream",
          "text": [
            "Archive:  contacts.zip\n",
            "   creating: contacts/\n",
            "  inflating: __MACOSX/._contacts     \n",
            "  inflating: contacts/1515. copy     \n",
            "  inflating: __MACOSX/contacts/._1515. copy  \n",
            "  inflating: contacts/.DS_Store      \n",
            "  inflating: __MACOSX/contacts/._.DS_Store  \n",
            "  inflating: contacts/318. copy      \n",
            "  inflating: __MACOSX/contacts/._318. copy  \n",
            "  inflating: contacts/351. copy      \n",
            "  inflating: __MACOSX/contacts/._351. copy  \n",
            "  inflating: contacts/1462. copy     \n",
            "  inflating: __MACOSX/contacts/._1462. copy  \n"
          ],
          "name": "stdout"
        }
      ]
    },
    {
      "cell_type": "code",
      "metadata": {
        "id": "T9H-vIu5lZzh"
      },
      "source": [
        "with open('./contacts/1462.copy', 'r',encoding='utf-8-sig') as file:\n",
        "    data = file.read()"
      ],
      "execution_count": null,
      "outputs": []
    },
    {
      "cell_type": "code",
      "metadata": {
        "colab": {
          "base_uri": "https://localhost:8080/"
        },
        "id": "Og-cUIX5nodD",
        "outputId": "8ad0c1a4-0dbe-4cdc-f805-98366d95c9bc"
      },
      "source": [
        "paths = Path('/content/contacts').glob('**/[!.]*')\n",
        "msg = []\n",
        "for path in paths:\n",
        "    # because path is object not string\n",
        "    path_in_str = str(path)\n",
        "    # Do thing with the path\n",
        "    print(path_in_str)\n",
        "    with io.open(path, 'r') as file:\n",
        "      msg.append(file.read())"
      ],
      "execution_count": 8,
      "outputs": [
        {
          "output_type": "stream",
          "text": [
            "/content/contacts/1462. copy\n",
            "/content/contacts/318. copy\n",
            "/content/contacts/351. copy\n",
            "/content/contacts/1515. copy\n"
          ],
          "name": "stdout"
        }
      ]
    },
    {
      "cell_type": "code",
      "metadata": {
        "id": "PXpF2uMpjjh_"
      },
      "source": [
        "#message processing\n",
        "def parse_raw_message(raw_message):\n",
        "    lines = raw_message.split('\\n')\n",
        "    email = {}\n",
        "    message = ''\n",
        "    keys_to_extract = ['from', 'to']\n",
        "    for line in lines:\n",
        "        if ':' not in line:\n",
        "            if not re.findall(r\"[a-z0-9\\.\\-+_]+@[a-z0-9\\.\\-+_]+\\.[a-z]+\", line) and \\\n",
        "            not re.findall(r\"(\\.com|\\.org|IMAP|ESMTP|(EDT)|(ICT))\", line): \n",
        "              message += line.strip()\n",
        "              email['body'] = message\n",
        "        else:\n",
        "            pairs = line.split(':')\n",
        "            key = pairs[0].lower()\n",
        "            val = pairs[1].strip()\n",
        "            if key in keys_to_extract:\n",
        "                email[key] = val+' '\n",
        "    return email\n",
        "\n",
        "def parse_into_emails(messages):\n",
        "  emails = [parse_raw_message(message) for message in messages]\n",
        "  return {'body': map_to_list(emails, 'body'), \n",
        "          'to': map_to_list(emails, 'to'), \n",
        "          'from_': map_to_list(emails, 'from')\n",
        "          }\n",
        "\n",
        "def map_to_list(dct, key):\n",
        "  tmp = []\n",
        "  for item in dct:\n",
        "    tmp.append(item[key])\n",
        "  return tmp "
      ],
      "execution_count": 26,
      "outputs": []
    },
    {
      "cell_type": "code",
      "metadata": {
        "id": "PGFMw4lNuzB7"
      },
      "source": [
        "#test\n",
        "res = parse_into_emails(msg)"
      ],
      "execution_count": 49,
      "outputs": []
    },
    {
      "cell_type": "code",
      "metadata": {
        "id": "jBLyazmx2IRN",
        "outputId": "0f2fd42a-ce56-443f-971c-37bacfb0bcbd",
        "colab": {
          "base_uri": "https://localhost:8080/"
        }
      },
      "source": [
        "res['body']"
      ],
      "execution_count": 53,
      "outputs": [
        {
          "output_type": "execute_result",
          "data": {
            "text/plain": [
              "['Jeff My sister is a Vice President for JPMorgan Chase Bank  and she supervisesconstruction and management of new buildings in Texas  She sent me thefollowing note regarding Enron Energy Services handling of their utilitya national basis  including Texas   We are building a call center in SanAntonio  and the City of San Antonio municipal electric wants to chargeus a 50 000 deposit for new power because 11 out of the last 12 paymentsmade by Enron have been late  and late fees have been paid   I am now goingto do an analysis on all of my regions   I would like a local Enroncontact  if one exists   Any ideasWhom in Enron should I tell her to contactThanks Steve BaileyEnron Global EP  Inc 7136467865',\n",
              " 'Hi  Kristin   I guess we got our wires crossed last Friday about lunch Sorry about that   He told me that you guys have rescheduled for tomorrowreservation at Carrabas on Kirby in your Dads name at that time   Please letme know if you have a conflict   Thanks  SRSPS  I also have you down for lunch with your Dad on Friday  November 10  doyou have it down  too',\n",
              " 'If you want to add smubetas egroup to your other email addresseshome or work simply sign into egroups with the new email address Type smubetas into the group name box in the upper right handcorner  then click on subscribe Since this group is controlled membership  eGroup sends messages tome and Beek asking for approval of your new email address  If wedont get the message or you arent getting a response in a couple ofat the pending list and approve it kaiShack eGroups Sponsor eGroups eLertsIts Easy  Its Fun  Best of All  its Free',\n",
              " 'I write on behalf of Jerry Murdock  who is currently in Europe   Mr  Murdockasked me to pass on the following information regarding your telephone callInsight Capital hosts a quarterly dinner with Robert Rubin and SteveFriedman and other selected guests   Our next dinner is scheduled for July19 and will be held in Aspen  Colorado   The Current State of the GlobalMarket will be one of the topics under discussion and Jack Welch of GE isone of your fellow invitees The purpose of your conversation with Mr  Murdock is to discuss the above inmore detail and to more fully brief you on the purpose of these dinners Please do not hesitate to contact me should you require any furtherinformation Erica HarrisInsight Capital Partners680 Fifth Avenue8th FloorNew York  NY  10019212 2309276This message may contain confidential andor legally privileged information If it has been sent to you in error  please reply immediately to advise thesender of the error and then destroy this message  any copies of thismessage and any printout of this message   If you are not the intendedrecipient of the message  any unauthorized dissemination  distribution orcopying of the material in this message  and any attachments to the message is strictly forbidden ']"
            ]
          },
          "metadata": {
            "tags": []
          },
          "execution_count": 53
        }
      ]
    },
    {
      "cell_type": "code",
      "metadata": {
        "id": "zWnAobFewxzo"
      },
      "source": [
        "email_df = pd.DataFrame(res)"
      ],
      "execution_count": 28,
      "outputs": []
    },
    {
      "cell_type": "code",
      "metadata": {
        "id": "lRCA6jTHw4Nb",
        "outputId": "bb0f295e-e7b9-490a-fa53-a3644b1274b8",
        "colab": {
          "base_uri": "https://localhost:8080/"
        }
      },
      "source": [
        "email_df['body'].values"
      ],
      "execution_count": 35,
      "outputs": [
        {
          "output_type": "execute_result",
          "data": {
            "text/plain": [
              "array(['Jeff,My sister is a Vice President for JPMorgan Chase Bank, and she supervisesconstruction and management of new buildings in Texas. She sent me thefollowing note regarding Enron Energy Services\\' handling of their utilitya national basis, including Texas.  We are building a call center in SanAntonio, and the City of San Antonio (municipal electric) wants to chargeus a $50,000 deposit for new power because 11 out of the last 12 paymentsmade by Enron have been late, and late fees have been paid.  I am now goingto do an analysis on all of my regions.  I would like a local Enroncontact, if one exists.  Any ideas?\"Whom in Enron should I tell her to contact?Thanks,Steve BaileyEnron Global E&P, Inc.713-646-7865',\n",
              "       \"Hi, Kristin.  I guess we got our wires crossed last Friday about lunch.Sorry about that.  He told me that you guys have rescheduled for tomorrowreservation at Carrabas on Kirby in your Dad's name at that time.  Please letme know if you have a conflict.  Thanks, SRSPS - I also have you down for lunch with your Dad on Friday, November 10 - doyou have it down, too?\",\n",
              "       'If you want to add smu-betas egroup to your other email addresses(home or work) simply sign into egroups with the new email address.Type \"smu-betas\" into the group name box in the upper right handcorner, then click on subscribe.Since this group is controlled membership, eGroup sends messages tome and Beek asking for approval of your new email address. If wedon\\'t get the message or you aren\\'t getting a response in a couple ofat the pending list and approve it.-kai-Shack-------------------------- eGroups Sponsor -------------------------~-~>eGroups eLertsIt\\'s Easy. It\\'s Fun. Best of All, it\\'s Free!---------------------------------------------------------------------_->',\n",
              "       'I write on behalf of Jerry Murdock, who is currently in Europe.  Mr. Murdockasked me to pass on the following information regarding your telephone callInsight Capital hosts a quarterly dinner with Robert Rubin and SteveFriedman and other selected guests.  Our next dinner is scheduled for July19 and will be held in Aspen, Colorado.  The Current State of the GlobalMarket will be one of the topics under discussion and Jack Welch of GE isone of your fellow invitees.The purpose of your conversation with Mr. Murdock is to discuss the above inmore detail and to more fully brief you on the purpose of these dinners.Please do not hesitate to contact me should you require any furtherinformation.Erica HarrisInsight Capital Partners680 Fifth Avenue8th FloorNew York, NY  10019(212) 230-9276_______________________________________________________This message may contain confidential and/or legally privileged information.If it has been sent to you in error, please reply immediately to advise thesender of the error and then destroy this message, any copies of thismessage and any printout of this message.  If you are not the intendedrecipient of the message, any unauthorized dissemination, distribution orcopying of the material in this message, and any attachments to the message,is strictly forbidden.'],\n",
              "      dtype=object)"
            ]
          },
          "metadata": {
            "tags": []
          },
          "execution_count": 35
        }
      ]
    },
    {
      "cell_type": "code",
      "metadata": {
        "id": "IYv98u6O0c6t"
      },
      "source": [
        "#text processing\n",
        "import string\n",
        "import nltk\n",
        "#nltk.download('punkt')\n",
        "#nltk.download('wordnet')\n",
        "nltk.download('stopwords')\n",
        "#from nltk.stem import WordNetLemmatizer\n",
        "#wordnet_lemmatizer = WordNetLemmatizer()\n",
        "#from nltk.stem.porter import PorterStemmer\n",
        "from nltk.corpus import stopwords"
      ],
      "execution_count": null,
      "outputs": []
    },
    {
      "cell_type": "code",
      "metadata": {
        "id": "_AQpfcgJ18jU"
      },
      "source": [
        "import string\n",
        "tmp = []\n",
        "for item in res['body']:\n",
        "  temp = item.translate(str.maketrans(',.', '  '))\n",
        "  tmp.append(temp.translate(str.maketrans('', '', string.punctuation)))\n",
        "res['body'] = tmp  "
      ],
      "execution_count": 52,
      "outputs": []
    },
    {
      "cell_type": "code",
      "metadata": {
        "id": "7gGswTh91OJw"
      },
      "source": [
        "#exlude stop words\n",
        "stop_words = stopwords.words('english')\n",
        "tokens = [w for w in tokens if not w in stop_words]"
      ],
      "execution_count": null,
      "outputs": []
    }
  ]
}