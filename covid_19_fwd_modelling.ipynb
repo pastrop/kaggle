{
  "nbformat": 4,
  "nbformat_minor": 0,
  "metadata": {
    "kernelspec": {
      "name": "python3",
      "display_name": "Python 3",
      "language": "python"
    },
    "language_info": {
      "name": "python",
      "version": "3.6.6",
      "mimetype": "text/x-python",
      "codemirror_mode": {
        "name": "ipython",
        "version": 3
      },
      "pygments_lexer": "ipython3",
      "nbconvert_exporter": "python",
      "file_extension": ".py"
    },
    "colab": {
      "name": "covid_19_fwd_modelling.ipynb",
      "provenance": [],
      "include_colab_link": true
    }
  },
  "cells": [
    {
      "cell_type": "markdown",
      "metadata": {
        "id": "view-in-github",
        "colab_type": "text"
      },
      "source": [
        "<a href=\"https://colab.research.google.com/github/pastrop/kaggle/blob/master/covid_19_fwd_modelling.ipynb\" target=\"_parent\"><img src=\"https://colab.research.google.com/assets/colab-badge.svg\" alt=\"Open In Colab\"/></a>"
      ]
    },
    {
      "cell_type": "markdown",
      "metadata": {
        "id": "fvf1gCUTJVnh",
        "colab_type": "text"
      },
      "source": [
        "if you want to run the belo with the real data, go here: https://www.kaggle.com/pastrop/covid-19-fwd-modelling"
      ]
    },
    {
      "cell_type": "markdown",
      "metadata": {
        "id": "gBbkybSOI4Z2",
        "colab_type": "text"
      },
      "source": [
        "# **Comparative Analysis of the Hubei, Italy, NY State,Spain and Russia Data**<br>\n",
        "Statement of the problem: Both \"confirmed\" and \"death\" curves exhibit very high level variability although Italian pattern for the infection rate is becoming prevalent.  In my opinion only China and Italy have enough data to for any model training.  The below notebook consists of 2 parts:\n",
        "1. Comparative Analysis of the Infection spread in Hubei China, Italy, New York State, Spain and Russia.  Russia is included in the mix because it seems to show the confirmed cases growth rate that exceeds Italy at the same stage.  \n",
        "2. Sandbox: An attempt to fit a linear regression prediction model.  The idea: Predict a number of cases on day N as a function of a number of cases over 9 previous days assuming that the infected person spreads virus for 9 days before the transmission is arrested by testing, hospitalization, etc., I trained 2 predictors using Hubei and Italy data. This a just an experiment.  Interestingly, the aproach is surprisingly acurate for short term predictions.  This is not completely unexpected, there is an bvious dependency between infection level today from the infection level over in the past yet, the model trained on data from Italy and China works very well for all other geographies<br><br>\n",
        "**Findings as of April 4th (NY State, Spain, Russia) for the Confirmed Cases:**<br><br>\n",
        "NY State Confirmed Cases Curve is in btw Italy's and Hubei scenarios.  It seems to accelerate getting very close to Italy<br>  \n",
        "Russia Confirmed Cases growth rate exceeds Italy<br>"
      ]
    },
    {
      "cell_type": "code",
      "metadata": {
        "_uuid": "8f2839f25d086af736a60e9eeb907d3b93b6e0e5",
        "_cell_guid": "b1076dfc-b9ad-4769-8c92-a6c4dae69d19",
        "trusted": true,
        "id": "jd2-1c6gI4Z9",
        "colab_type": "code",
        "colab": {}
      },
      "source": [
        "# This Python 3 environment comes with many helpful analytics libraries installed\n",
        "# It is defined by the kaggle/python docker image: https://github.com/kaggle/docker-python\n",
        "# For example, here's several helpful packages to load in \n",
        "\n",
        "import numpy as np # linear algebra\n",
        "import pandas as pd # data processing, CSV file I/O (e.g. pd.read_csv)\n",
        "\n",
        "# Input data files are available in the \"../input/\" directory.\n",
        "# For example, running this (by clicking run or pressing Shift+Enter) will list all files under the input directory\n",
        "\n",
        "import os\n",
        "for dirname, _, filenames in os.walk('/kaggle/input'):\n",
        "    for filename in filenames:\n",
        "        print(os.path.join(dirname, filename))\n",
        "\n",
        "# Any results you write to the current directory are saved as output."
      ],
      "execution_count": null,
      "outputs": []
    },
    {
      "cell_type": "code",
      "metadata": {
        "trusted": true,
        "id": "ekB3VZckI4aU",
        "colab_type": "code",
        "colab": {}
      },
      "source": [
        "import warnings\n",
        "import numpy as np\n",
        "import pandas as pd\n",
        "#import seaborn as sns\n",
        "import matplotlib.pyplot as plt\n",
        "import itertools\n",
        "import math\n",
        "from sklearn import linear_model\n",
        "\n",
        "import copy\n",
        "\n",
        "import datetime\n",
        "from dateutil.parser import parse"
      ],
      "execution_count": null,
      "outputs": []
    },
    {
      "cell_type": "code",
      "metadata": {
        "_uuid": "d629ff2d2480ee46fbb7e2d37f6b5fab8052498a",
        "_cell_guid": "79c7e3d0-c299-4dcb-8224-4455121ee9b0",
        "trusted": true,
        "id": "1BXD6_rZI4aj",
        "colab_type": "code",
        "colab": {}
      },
      "source": [
        "#read file & check the upload\n",
        "df = pd.read_csv('/kaggle/input/novel-corona-virus-2019-dataset/covid_19_data.csv')\n",
        "#df.tail(40)"
      ],
      "execution_count": null,
      "outputs": []
    },
    {
      "cell_type": "code",
      "metadata": {
        "trusted": true,
        "id": "lircYFp6I4ap",
        "colab_type": "code",
        "colab": {}
      },
      "source": [
        "#read file & check the upload US Only\n",
        "df_us = pd.read_csv('/kaggle/input/novel-corona-virus-2019-dataset/time_series_covid_19_confirmed_US.csv')\n",
        "#df_us.head(50)"
      ],
      "execution_count": null,
      "outputs": []
    },
    {
      "cell_type": "markdown",
      "metadata": {
        "id": "XsXMcmyUI4aw",
        "colab_type": "text"
      },
      "source": [
        "# US Metro Areas"
      ]
    },
    {
      "cell_type": "code",
      "metadata": {
        "trusted": true,
        "id": "_rFRjI1cI4ax",
        "colab_type": "code",
        "colab": {}
      },
      "source": [
        "cols = [0,1,2,3,4,5,6,7,8,9,10]\n",
        "df_nyc = df_us.loc[df_us['Admin2'] =='New York'].drop(df_us.columns[cols],axis=1)\n",
        "df_la = df_us.loc[df_us['Admin2'] =='Los Angeles'].drop(df_us.columns[cols],axis=1)\n",
        "df_houston = df_us.loc[(df_us['Admin2'] =='Harris') & (df_us['Province_State']=='Texas')].drop(df_us.columns[cols],axis=1)\n",
        "df_chicago = df_us.loc[(df_us['Admin2'] =='Cook') & (df_us['Province_State']=='Illinois')].drop(df_us.columns[cols],axis=1)\n",
        "df_phoenix = df_us.loc[df_us['Admin2'] =='Maricopa'].drop(df_us.columns[cols],axis=1) \n",
        "df_philly = df_us.loc[df_us['Admin2'] =='Philadelphia'].drop(df_us.columns[cols],axis=1)\n",
        "df_sanant = df_us.loc[(df_us['Admin2'] =='Bexar') & (df_us['Province_State']=='Texas')].drop(df_us.columns[cols],axis=1)\n",
        "df_dallas = df_us.loc[(df_us['Admin2'] =='Dallas') & (df_us['Province_State']=='Texas')].drop(df_us.columns[cols],axis=1)\n",
        "df_sanjose = df_us.loc[(df_us['Admin2'] =='Santa Clara') & (df_us['Province_State']=='California')].drop(df_us.columns[cols],axis=1)\n",
        "df_sandiego = df_us.loc[(df_us['Admin2'] =='San Diego') & (df_us['Province_State']=='California')].drop(df_us.columns[cols],axis=1)"
      ],
      "execution_count": null,
      "outputs": []
    },
    {
      "cell_type": "code",
      "metadata": {
        "trusted": true,
        "id": "uG0SJdOUI4a6",
        "colab_type": "code",
        "colab": {},
        "outputId": "c2279477-d318-4919-de95-f6b1ceec63d5"
      },
      "source": [
        "fig, ax = plt.subplots(figsize=(20, 10)) \n",
        "ax.plot(list(df_la),\n",
        "        list(df_la.values.flatten()),\n",
        "          color='purple')\n",
        "\n",
        "ax.plot(list(df_la),\n",
        "        list(df_chicago.values.flatten()),\n",
        "          color='red')\n",
        "\n",
        "# Set title and labels for axes\n",
        "ax.set(xlabel=\"Date\",\n",
        "       ylabel=\"ConfirmedCases\",\n",
        "       title=\"LA & Chicago\")\n",
        "plt.xticks(rotation=90)\n",
        "#plt.legend(loc='upper left')\n",
        "plt.show()"
      ],
      "execution_count": null,
      "outputs": [
        {
          "output_type": "display_data",
          "data": {
            "text/plain": [
              "<Figure size 1440x720 with 1 Axes>"
            ],
            "image/png": "[encoded data removed]"
          },
          "metadata": {
            "tags": [],
            "needs_background": "light"
          }
        }
      ]
    },
    {
      "cell_type": "code",
      "metadata": {
        "trusted": true,
        "id": "XPlBIrDhI4bD",
        "colab_type": "code",
        "colab": {},
        "outputId": "192a382b-0a79-4225-e1c1-46f49966596c"
      },
      "source": [
        "fig, ax = plt.subplots(figsize=(20, 10)) \n",
        "\n",
        "ax.plot(list(df_la),\n",
        "        list(df_houston.values.flatten()),\n",
        "          color='orange')\n",
        "\n",
        "ax.plot(list(df_la),\n",
        "        list(df_phoenix.values.flatten()),\n",
        "          color='blue')\n",
        "\n",
        "# Set title and labels for axes\n",
        "ax.set(xlabel=\"Date\",\n",
        "       ylabel=\"ConfirmedCases\",\n",
        "       title=\"Houston & Phoenix\")\n",
        "plt.xticks(rotation=90)\n",
        "#plt.legend(loc='upper left')\n",
        "plt.show()"
      ],
      "execution_count": null,
      "outputs": [
        {
          "output_type": "display_data",
          "data": {
            "text/plain": [
              "<Figure size 1440x720 with 1 Axes>"
            ],
            "image/png": "[encoded data removed]"
          },
          "metadata": {
            "tags": [],
            "needs_background": "light"
          }
        }
      ]
    },
    {
      "cell_type": "code",
      "metadata": {
        "trusted": true,
        "id": "RsIDiH2rI4bL",
        "colab_type": "code",
        "colab": {}
      },
      "source": [
        "NYC_norm = [item//26 for item in list(df_nyc.values.flatten())]\n",
        "LA_norm = [round(item/7.5) for item in list(df_la.values.flatten())]\n",
        "Houston_norm = [round(item/3.6) for item in list(df_houston.values.flatten())]\n",
        "Chicago_norm = [item//12 for item in list(df_chicago.values.flatten())]\n",
        "Phoenix_norm = [round(item/1.55) for item in list(df_phoenix.values.flatten())]\n",
        "Philly_norm = [round(item/4.9) for item in list(df_philly.values.flatten())]\n",
        "Sanant_norm = [round(item/3.2) for item in list(df_sanant.values.flatten())]\n",
        "Dallas_norm = [round(item/3.65) for item in list(df_dallas.values.flatten())]\n",
        "Sanjose_norm = [round(item/1.3) for item in list(df_sanjose.values.flatten())]\n",
        "Sandiego_norm = [round(item/0.8) for item in list(df_sandiego.values.flatten())]"
      ],
      "execution_count": null,
      "outputs": []
    },
    {
      "cell_type": "code",
      "metadata": {
        "trusted": true,
        "id": "EbJginUvI4bS",
        "colab_type": "code",
        "colab": {},
        "outputId": "0d7ce4e4-f817-43e9-c6f5-bf515a7ed47c"
      },
      "source": [
        "fig, ax = plt.subplots(figsize=(20, 8)) \n",
        "ax.plot(list(df_la),\n",
        "        LA_norm, label = 'LA',\n",
        "          color='purple')\n",
        "\n",
        "ax.plot(list(df_la),\n",
        "        Chicago_norm, label = 'Chicago',\n",
        "          color='red')\n",
        "\n",
        "ax.plot(list(df_la),\n",
        "        NYC_norm, label = 'NYC',\n",
        "          color='blue')\n",
        "\n",
        "ax.plot(list(df_la),\n",
        "        Houston_norm, label = 'Houston',\n",
        "          color='orange')\n",
        "\n",
        "ax.plot(list(df_la),\n",
        "        Phoenix_norm, label = 'Phoenix',\n",
        "          color='yellow')\n",
        "\n",
        "ax.plot(list(df_la),\n",
        "        Philly_norm, label = 'Philadelphia',\n",
        "          color='tan')\n",
        "\n",
        "ax.plot(list(df_la),\n",
        "        Sanant_norm, label = 'San Antonio',\n",
        "          color='violet')\n",
        "\n",
        "ax.plot(list(df_la),\n",
        "       Dallas_norm, label = 'Dallas',\n",
        "          color='darkcyan')\n",
        "\n",
        "ax.plot(list(df_la),\n",
        "       Sanjose_norm, label = 'San Jose',\n",
        "          color='tomato')\n",
        "\n",
        "ax.plot(list(df_la),\n",
        "       Sandiego_norm, label = 'San Diego',\n",
        "          color='darkgreen')\n",
        "\n",
        "# Set title and labels for axes\n",
        "ax.set(xlabel=\"Date\",\n",
        "       ylabel=\"ConfirmedCases\",\n",
        "       title=\"10 Largest US Metro Areas Confirmed Cases Normalized by Population Density\")\n",
        "plt.xticks(rotation=90)\n",
        "plt.legend(loc='upper left')\n",
        "plt.show()"
      ],
      "execution_count": null,
      "outputs": [
        {
          "output_type": "display_data",
          "data": {
            "text/plain": [
              "<Figure size 1440x576 with 1 Axes>"
            ],
            "image/png": "[encoded data removed]"
          },
          "metadata": {
            "tags": [],
            "needs_background": "light"
          }
        }
      ]
    },
    {
      "cell_type": "markdown",
      "metadata": {
        "id": "tVJRA2ATI4bY",
        "colab_type": "text"
      },
      "source": [
        "Hubei Province Confirmed Cases. I am using Hubei is one of the benchmarks (the other being Italy) bcs they have the most data for analysis while experience a high number of cases.  Only South Korea and Japan has about the same amount of the data yet those countries are, unfortunately for the rest of the world, exceptions to the current rule"
      ]
    },
    {
      "cell_type": "code",
      "metadata": {
        "trusted": true,
        "id": "mYw0PafXI4bZ",
        "colab_type": "code",
        "colab": {}
      },
      "source": [
        "fig, ax = plt.subplots(figsize=(20, 10)) \n",
        "# Add x-axis and y-axis\n",
        "\n",
        "ax.plot(df.loc[df['Province/State'] == 'Hubei', 'ObservationDate'],\n",
        "          df.loc[df['Province/State'] == 'Hubei', 'Confirmed'],\n",
        "          color='purple')\n",
        "\n",
        "# Set title and labels for axes\n",
        "ax.set(xlabel=\"Date\",\n",
        "       ylabel=\"ConfirmedCases\",\n",
        "       title=\"Hubei Only\")\n",
        "plt.xticks(rotation=90)\n",
        "#plt.legend(loc='upper left')\n",
        "plt.show()"
      ],
      "execution_count": null,
      "outputs": []
    },
    {
      "cell_type": "code",
      "metadata": {
        "trusted": true,
        "id": "vhgZIk1tI4bg",
        "colab_type": "code",
        "colab": {}
      },
      "source": [
        "fig, ax = plt.subplots(figsize=(20, 10)) \n",
        "# Add x-axis and y-axis\n",
        "\n",
        "ax.plot(df.loc[df['Province/State'] == 'District of Columbia', 'ObservationDate'],\n",
        "          df.loc[df['Province/State'] == 'District of Columbia', 'Confirmed'],label = 'District of Columbia - Confirmed',\n",
        "          color='green')\n",
        "\n",
        "ax.plot(df.loc[df['Province/State'] == 'District of Columbia', 'ObservationDate'],\n",
        "          df.loc[df['Province/State'] == 'District of Columbia', 'Deaths'],label = 'District of Columbia - Deaths',\n",
        "          color='black')\n",
        "\n",
        "\n",
        "# Set title and labels for axes\n",
        "ax.set(xlabel=\"Date\",\n",
        "       ylabel=\"ConfirmedCases & Deaths\",\n",
        "       title=\"DC\")\n",
        "plt.xticks(rotation=90)\n",
        "plt.legend(loc='upper left')\n",
        "plt.show()"
      ],
      "execution_count": null,
      "outputs": []
    },
    {
      "cell_type": "markdown",
      "metadata": {
        "id": "4IqKwPC-I4bp",
        "colab_type": "text"
      },
      "source": [
        "# Infection Rate Analysis<br>\n",
        "A bunch of chart for the Infection Daily rates for Confirmed and Lethal cases.I considered both daily rates and normalized daily rates.  Both are interesting yet the I believe that daily rates are more useful"
      ]
    },
    {
      "cell_type": "markdown",
      "metadata": {
        "id": "NZmruH-ZI4bq",
        "colab_type": "text"
      },
      "source": [
        "*Italy*"
      ]
    },
    {
      "cell_type": "code",
      "metadata": {
        "trusted": true,
        "id": "jPFODbBEI4br",
        "colab_type": "code",
        "colab": {}
      },
      "source": [
        "frame_Italy = {'ObservationDate': df.loc[df['Country/Region'] == 'Italy', 'ObservationDate'],\n",
        "         'Confirmed':df.loc[df['Country/Region'] == 'Italy', 'Confirmed'],\n",
        "         'Deaths':df.loc[df['Country/Region'] == 'Italy', 'Deaths']}\n",
        "frame_Italy = pd.DataFrame(frame_Italy)\n",
        "frame_Italy_grouped_confirmed = frame_Italy.groupby(['ObservationDate'])['Confirmed'].sum()\n",
        "frame_Italy_grouped_death = frame_Italy.groupby(['ObservationDate'])['Deaths'].sum()"
      ],
      "execution_count": null,
      "outputs": []
    },
    {
      "cell_type": "code",
      "metadata": {
        "trusted": true,
        "id": "ORzVgDdUI4by",
        "colab_type": "code",
        "colab": {}
      },
      "source": [
        "plot_Italy = []\n",
        "rate_Italy = frame_Italy_grouped_confirmed.values\n",
        "for item in zip(rate_Italy[::],rate_Italy[1:]):\n",
        "    plot_Italy.append((item[1]-item[0]))\n",
        "plt.plot(plot_Italy)\n",
        "plt.title('Infection Rate')"
      ],
      "execution_count": null,
      "outputs": []
    },
    {
      "cell_type": "code",
      "metadata": {
        "trusted": true,
        "id": "CFdiJfCZI4b5",
        "colab_type": "code",
        "colab": {}
      },
      "source": [
        "plot_Italy = []\n",
        "rate_Italy = frame_Italy_grouped_death.values\n",
        "for item in zip(rate_Italy[::],rate_Italy[1:]):\n",
        "    plot_Italy.append((item[1]-item[0]))\n",
        "plt.plot(plot_Italy)\n",
        "plt.title('Death Rate')"
      ],
      "execution_count": null,
      "outputs": []
    },
    {
      "cell_type": "code",
      "metadata": {
        "trusted": true,
        "id": "Xjhl2UEtI4b_",
        "colab_type": "code",
        "colab": {}
      },
      "source": [
        "frame_NY = {'ObservationDate': df.loc[df['Province/State'] == 'New York', 'ObservationDate'],\n",
        "         'Confirmed':df.loc[df['Province/State'] == 'New York', 'Confirmed'],\n",
        "         'Deaths':df.loc[df['Province/State'] == 'New York', 'Deaths']}\n",
        "frame_NY = pd.DataFrame(frame_NY)\n",
        "frame_NY_grouped_confirmed = frame_NY.groupby(['ObservationDate'])['Confirmed'].sum()\n",
        "frame_NY_grouped_death = frame_NY.groupby(['ObservationDate'])['Deaths'].sum()"
      ],
      "execution_count": null,
      "outputs": []
    },
    {
      "cell_type": "code",
      "metadata": {
        "trusted": true,
        "id": "iQCwHfLJI4cF",
        "colab_type": "code",
        "colab": {}
      },
      "source": [
        "plot_NY = []\n",
        "plot_NY_conf = []\n",
        "rate_NY = frame_NY_grouped_confirmed.values\n",
        "#print(rate_NY)\n",
        "plot_NY = [round(sum(rate_NY[i:i+3]/3)) for i in range(len(rate_NY)-3)]\n",
        "x_pos = np.arange(len(plot_NY))\n",
        "plt.title('Infection Rate-NY - 3 days average')\n",
        "plt.bar(x_pos,plot_NY, align='center')"
      ],
      "execution_count": null,
      "outputs": []
    },
    {
      "cell_type": "code",
      "metadata": {
        "trusted": true,
        "id": "_wPLEnFnI4cK",
        "colab_type": "code",
        "colab": {}
      },
      "source": [
        "plot_NY = []\n",
        "plot_NY_conf = []\n",
        "rate_NY = frame_NY_grouped_confirmed.values\n",
        "for item in zip(rate_NY[::],rate_NY[1:]):\n",
        "    plot_NY.append((item[1]-item[0]))   \n",
        "print(plot_NY)\n",
        "plt.plot(list(frame_NY['ObservationDate'])[31:],plot_NY[30:])\n",
        "plt.xticks(rotation='vertical')\n",
        "plt.title('Infection Rate-NY-Daily')"
      ],
      "execution_count": null,
      "outputs": []
    },
    {
      "cell_type": "code",
      "metadata": {
        "trusted": true,
        "id": "hCEqIY4YI4cS",
        "colab_type": "code",
        "colab": {}
      },
      "source": [
        "plot_NY = []\n",
        "rate_NY = frame_NY_grouped_death.values\n",
        "rate_NY_filtered = list(filter(lambda x: x != 0, rate_NY))        \n",
        "for item in zip(rate_NY_filtered[::],rate_NY_filtered[1:]):\n",
        "    plot_NY.append((item[1]-item[0]))\n",
        "plt.plot(plot_NY)\n",
        "plt.title('Death Rate')"
      ],
      "execution_count": null,
      "outputs": []
    },
    {
      "cell_type": "code",
      "metadata": {
        "trusted": true,
        "id": "7MlbTDn4I4cZ",
        "colab_type": "code",
        "colab": {}
      },
      "source": [
        "plot_NY = []\n",
        "rate_NY = frame_NY_grouped_death.values\n",
        "rate_NY_filtered = list(filter(lambda x: x != 0, rate_NY))        \n",
        "for item in zip(rate_NY_filtered[::],rate_NY_filtered[1:]):\n",
        "    plot_NY.append((item[1]-item[0])/item[0])\n",
        "plt.plot(plot_NY)\n",
        "plt.title('Normalized Death Rate')"
      ],
      "execution_count": null,
      "outputs": []
    },
    {
      "cell_type": "code",
      "metadata": {
        "trusted": true,
        "id": "fBspM4mfI4cf",
        "colab_type": "code",
        "colab": {}
      },
      "source": [
        "frame_Hubei = {'ObservationDate': df.loc[df['Province/State'] == 'Hubei', 'ObservationDate'],\n",
        "         'Confirmed':df.loc[df['Province/State'] == 'Hubei', 'Confirmed'],\n",
        "         'Deaths':df.loc[df['Province/State'] == 'Hubei', 'Deaths']}\n",
        "frame_Hubei = pd.DataFrame(frame_Hubei)\n",
        "frame_Hubei_grouped_confirmed = frame_Hubei.groupby(['ObservationDate'])['Confirmed'].sum()\n",
        "frame_Hubei_grouped_death = frame_Hubei.groupby(['ObservationDate'])['Deaths'].sum()"
      ],
      "execution_count": null,
      "outputs": []
    },
    {
      "cell_type": "code",
      "metadata": {
        "trusted": true,
        "id": "9trdKrboI4ck",
        "colab_type": "code",
        "colab": {}
      },
      "source": [
        "plot_Hubei = []\n",
        "rate_Hubei = frame_Hubei_grouped_confirmed.values\n",
        "for item in zip(rate_Hubei[::],rate_Hubei[1:]):\n",
        "    plot_Hubei.append((item[1]-item[0])) \n",
        "plt.plot(plot_Hubei)\n",
        "plt.title('Infection Rate-Hubei')"
      ],
      "execution_count": null,
      "outputs": []
    },
    {
      "cell_type": "code",
      "metadata": {
        "trusted": true,
        "id": "cYZcE3I6I4cp",
        "colab_type": "code",
        "colab": {}
      },
      "source": [
        "plot_Hubei = []\n",
        "rate_Hubei = frame_Hubei_grouped_confirmed.values\n",
        "for item in zip(rate_Hubei[::],rate_Hubei[1:]):\n",
        "    plot_Hubei.append((item[1]-item[0])/item[0])   \n",
        "plot_Hubei_conf = copy.deepcopy(plot_Hubei)\n",
        "print(plot_Hubei[:40])\n",
        "count = 0\n",
        "for item in reversed(plot_Hubei[:40]):\n",
        "    if item>0.1:\n",
        "        break\n",
        "    count += 1\n",
        "print(count)\n",
        "plt.plot(plot_Hubei)\n",
        "plt.title('Normalized Infection Rate')"
      ],
      "execution_count": null,
      "outputs": []
    },
    {
      "cell_type": "code",
      "metadata": {
        "trusted": true,
        "id": "f5GwlPhgI4cu",
        "colab_type": "code",
        "colab": {}
      },
      "source": [
        "plot_Hubei = []\n",
        "rate_Hubei = frame_Hubei_grouped_death.values\n",
        "for item in zip(rate_Hubei[::],rate_Hubei[1:]):\n",
        "    plot_Hubei.append((item[1]-item[0]))   \n",
        "plt.plot(plot_Hubei)\n",
        "plt.title('Death Rate')"
      ],
      "execution_count": null,
      "outputs": []
    },
    {
      "cell_type": "code",
      "metadata": {
        "trusted": true,
        "id": "pMN-XPGKI4dT",
        "colab_type": "code",
        "colab": {}
      },
      "source": [
        "plot_Hubei = []\n",
        "rate_Hubei = frame_Hubei_grouped_death.values\n",
        "for item in zip(rate_Hubei[::],rate_Hubei[1:]):\n",
        "    plot_Hubei.append((item[1]-item[0])/item[0])   \n",
        "plt.plot(plot_Hubei)\n",
        "plt.title('Normalized Death Rate')"
      ],
      "execution_count": null,
      "outputs": []
    },
    {
      "cell_type": "code",
      "metadata": {
        "trusted": true,
        "id": "77braZLSI4dk",
        "colab_type": "code",
        "colab": {}
      },
      "source": [
        "frame_DC = {'ObservationDate': df.loc[df['Province/State'] == 'District of Columbia', 'ObservationDate'],\n",
        "         'Confirmed':df.loc[df['Province/State'] == 'District of Columbia', 'Confirmed'],\n",
        "         'Deaths':df.loc[df['Province/State'] == 'District of Columbia', 'Deaths']}\n",
        "frame_DC = pd.DataFrame(frame_DC)\n",
        "frame_DC_grouped_confirmed = frame_DC.groupby(['ObservationDate'])['Confirmed'].sum()\n",
        "frame_DC_grouped_death = frame_DC.groupby(['ObservationDate'])['Deaths'].sum()"
      ],
      "execution_count": null,
      "outputs": []
    },
    {
      "cell_type": "code",
      "metadata": {
        "trusted": true,
        "id": "xctAWJ1hI4dw",
        "colab_type": "code",
        "colab": {}
      },
      "source": [
        "plot_DC = []\n",
        "rate_DC = frame_DC_grouped_confirmed.values\n",
        "for item in zip(rate_DC[::],rate_DC[1:]):\n",
        "    plot_DC.append((item[1]-item[0]))   \n",
        "plot_DC_conf = copy.deepcopy(plot_DC)\n",
        "plt.plot(plot_DC)\n",
        "plt.title('Infection Rate')"
      ],
      "execution_count": null,
      "outputs": []
    },
    {
      "cell_type": "code",
      "metadata": {
        "trusted": true,
        "id": "SclEaRL4I4eA",
        "colab_type": "code",
        "colab": {}
      },
      "source": [
        "frame_Russia = {'ObservationDate': df.loc[df['Country/Region'] == 'Russia', 'ObservationDate'],\n",
        "         'Confirmed':df.loc[df['Country/Region'] == 'Russia', 'Confirmed'],\n",
        "         'Deaths':df.loc[df['Country/Region'] == 'Russia', 'Deaths']}\n",
        "frame_Russia = pd.DataFrame(frame_Russia)\n",
        "frame_Russia_grouped_confirmed = frame_Russia.groupby(['ObservationDate'])['Confirmed'].sum()\n",
        "frame_Russia_grouped_death = frame_Russia.groupby(['ObservationDate'])['Deaths'].sum()\n",
        "#frame_Russia.tail(5)"
      ],
      "execution_count": null,
      "outputs": []
    },
    {
      "cell_type": "code",
      "metadata": {
        "trusted": true,
        "id": "LcCSRRaDI4eK",
        "colab_type": "code",
        "colab": {}
      },
      "source": [
        "plot_Russia = []\n",
        "frame_Russia_grouped = frame_Russia.groupby(['ObservationDate'])['Confirmed'].sum()\n",
        "rate_Russia = frame_Russia_grouped.values\n",
        "rate_Russia_filtered = list(filter(lambda x: x != 0, rate_Russia))        \n",
        "#print(rate_Russia_filtered)\n",
        "for item in zip(rate_Russia_filtered[::],rate_Russia_filtered[1:]):\n",
        "    plot_Russia.append((item[1]-item[0]))\n",
        "plt.plot(plot_Russia)\n",
        "plt.title('Infection Rate')"
      ],
      "execution_count": null,
      "outputs": []
    },
    {
      "cell_type": "code",
      "metadata": {
        "trusted": true,
        "id": "YXURJmNRI4eS",
        "colab_type": "code",
        "colab": {}
      },
      "source": [
        "plot_Russia = []\n",
        "frame_Russia_grouped = frame_Russia.groupby(['ObservationDate'])['Confirmed'].sum()\n",
        "rate_Russia = frame_Russia_grouped.values\n",
        "rate_Russia_filtered = list(filter(lambda x: x != 0, rate_Russia))        \n",
        "#print(rate_Russia_filtered)\n",
        "for item in zip(rate_Russia_filtered[::],rate_Russia_filtered[1:]):\n",
        "    tmp = (item[1]-item[0])/item[0]\n",
        "    if tmp >=0:\n",
        "        plot_Russia.append((item[1]-item[0])/item[0])\n",
        "    else:\n",
        "        plot_Russia.append(0)\n",
        "plot_Russia_conf = copy.deepcopy(plot_Russia)\n",
        "plt.plot(plot_Russia)\n",
        "plt.title('Normalized Infection Rate')"
      ],
      "execution_count": null,
      "outputs": []
    },
    {
      "cell_type": "markdown",
      "metadata": {
        "id": "5Udad6p-I4eZ",
        "colab_type": "text"
      },
      "source": [
        "**Spain**"
      ]
    },
    {
      "cell_type": "code",
      "metadata": {
        "trusted": true,
        "id": "uCFxk4XXI4eb",
        "colab_type": "code",
        "colab": {}
      },
      "source": [
        "frame_Spain = {'ObservationDate': df.loc[df['Country/Region'] == 'Spain', 'ObservationDate'],\n",
        "         'Confirmed':df.loc[df['Country/Region'] == 'Spain', 'Confirmed'],\n",
        "         'Deaths':df.loc[df['Country/Region'] == 'Spain', 'Deaths']}\n",
        "frame_Spain = pd.DataFrame(frame_Spain)\n",
        "frame_Spain_grouped_confirmed = frame_Spain.groupby(['ObservationDate'])['Confirmed'].sum()\n",
        "frame_Spain_grouped_death = frame_Spain.groupby(['ObservationDate'])['Deaths'].sum()"
      ],
      "execution_count": null,
      "outputs": []
    },
    {
      "cell_type": "code",
      "metadata": {
        "trusted": true,
        "id": "tge4m7GTI4ek",
        "colab_type": "code",
        "colab": {}
      },
      "source": [
        "rate_Spain = frame_Spain_grouped_confirmed.values\n",
        "rate_Spain_filtered = list(filter(lambda x: x != 0, rate_Spain)) \n",
        "print(rate_Spain_filtered)"
      ],
      "execution_count": null,
      "outputs": []
    },
    {
      "cell_type": "code",
      "metadata": {
        "trusted": true,
        "id": "I1Nz9gONI4er",
        "colab_type": "code",
        "colab": {}
      },
      "source": [
        "plot_Spain = []\n",
        "#print(list(zip(rate_Spain_filtered[::],rate_Spain_filtered[1:])))\n",
        "for item in zip(rate_Spain_filtered[::],rate_Spain_filtered[1:]):\n",
        "    plot_Spain.append((item[1]-item[0]))\n",
        "plot_Spain_conf = copy.deepcopy(plot_Spain)\n",
        "print(plot_Spain)\n",
        "count = 0\n",
        "for item in reversed(plot_Spain):\n",
        "    if item>0.1:\n",
        "        break\n",
        "    count += 1\n",
        "print(count)\n",
        "plt.plot(plot_Spain)\n",
        "plt.title('Infection Rate')"
      ],
      "execution_count": null,
      "outputs": []
    },
    {
      "cell_type": "code",
      "metadata": {
        "trusted": true,
        "id": "P-GfRyC9I4ez",
        "colab_type": "code",
        "colab": {}
      },
      "source": [
        "rate_Spain_d = frame_Spain_grouped_death.values\n",
        "rate_Spain_filtered_d = list(filter(lambda x: x != 0, rate_Spain_d)) \n",
        "#print(rate_Spain_filtered_d)"
      ],
      "execution_count": null,
      "outputs": []
    },
    {
      "cell_type": "code",
      "metadata": {
        "trusted": true,
        "id": "-Jj_Q0obI4e6",
        "colab_type": "code",
        "colab": {}
      },
      "source": [
        "plot_Spain_d = []\n",
        "#print(list(zip(rate_Spain_filtered_d[::],rate_Spain_filtered_d[1:])))\n",
        "for item in zip(rate_Spain_filtered_d[::],rate_Spain_filtered_d[1:]):\n",
        "    plot_Spain_d.append((item[1]-item[0])/item[0])\n",
        "#print(plot_Spain_d)\n",
        "plt.plot(plot_Spain_d)\n",
        "plt.title('Normalised Death Rate')"
      ],
      "execution_count": null,
      "outputs": []
    },
    {
      "cell_type": "code",
      "metadata": {
        "trusted": true,
        "id": "8bpqL3EtI4e-",
        "colab_type": "code",
        "colab": {}
      },
      "source": [
        "frame_France = {'ObservationDate': df.loc[df['Country/Region'] == 'France', 'ObservationDate'],\n",
        "         'Confirmed':df.loc[df['Country/Region'] == 'France', 'Confirmed'],\n",
        "         'Deaths':df.loc[df['Country/Region'] == 'France', 'Deaths']}\n",
        "frame_France = pd.DataFrame(frame_France)\n",
        "frame_France_grouped_confirmed = frame_France.groupby(['ObservationDate'])['Confirmed'].sum()\n",
        "frame_France_grouped_death = frame_France.groupby(['ObservationDate'])['Deaths'].sum()"
      ],
      "execution_count": null,
      "outputs": []
    },
    {
      "cell_type": "code",
      "metadata": {
        "trusted": true,
        "id": "98POUlxyI4fD",
        "colab_type": "code",
        "colab": {}
      },
      "source": [
        "rate_France = frame_France_grouped_confirmed.values\n",
        "rate_France_filtered = list(filter(lambda x: x != 0, rate_France)) \n",
        "print(rate_France_filtered)"
      ],
      "execution_count": null,
      "outputs": []
    },
    {
      "cell_type": "markdown",
      "metadata": {
        "id": "6o40CzAOI4fK",
        "colab_type": "text"
      },
      "source": [
        "# Sandbox"
      ]
    },
    {
      "cell_type": "markdown",
      "metadata": {
        "id": "Jcdhb7FkI4fL",
        "colab_type": "text"
      },
      "source": [
        "# Model Training on the Hubey Data"
      ]
    },
    {
      "cell_type": "code",
      "metadata": {
        "trusted": true,
        "id": "nOFUgP2CI4fM",
        "colab_type": "code",
        "colab": {}
      },
      "source": [
        "Hubei_conf = df.loc[df['Province/State'] == 'Hubei', 'Confirmed']\n",
        "hubei_data = list(Hubei_conf.values)\n",
        "print(len(hubei_data))"
      ],
      "execution_count": null,
      "outputs": []
    },
    {
      "cell_type": "code",
      "metadata": {
        "trusted": true,
        "id": "qewzz3RHI4fR",
        "colab_type": "code",
        "colab": {}
      },
      "source": [
        "temp = []\n",
        "j=0\n",
        "for i in range(0,len(hubei_data),10):\n",
        "    if i > 0:\n",
        "        tmp = hubei_data[j:i]\n",
        "        temp.append(tmp)\n",
        "        j = i\n",
        "df_regr = pd.DataFrame(temp, columns = ['x1', 'x2', 'x3', 'x4', 'x5', 'x6', 'x7','x8','x9','y'])\n",
        "df_regr"
      ],
      "execution_count": null,
      "outputs": []
    },
    {
      "cell_type": "code",
      "metadata": {
        "trusted": true,
        "id": "X3YCEb_eI4fV",
        "colab_type": "code",
        "colab": {}
      },
      "source": [
        "x=pd.DataFrame(df_regr.iloc[:,:-1]) #features\n",
        "y=pd.DataFrame(df_regr.iloc[:,-1]) # projected variable"
      ],
      "execution_count": null,
      "outputs": []
    },
    {
      "cell_type": "code",
      "metadata": {
        "trusted": true,
        "id": "xD6f-fkzI4fc",
        "colab_type": "code",
        "colab": {}
      },
      "source": [
        "#fitting linear regression\n",
        "from sklearn import linear_model\n",
        "predictor_hb = linear_model.LinearRegression()"
      ],
      "execution_count": null,
      "outputs": []
    },
    {
      "cell_type": "code",
      "metadata": {
        "trusted": true,
        "id": "xLkcNYfpI4fp",
        "colab_type": "code",
        "colab": {}
      },
      "source": [
        "Predictor_Hubei=predictor_hb.fit(x,y)"
      ],
      "execution_count": null,
      "outputs": []
    },
    {
      "cell_type": "code",
      "metadata": {
        "trusted": true,
        "id": "ieP_q3YqI4fv",
        "colab_type": "code",
        "colab": {}
      },
      "source": [
        "v=pd.DataFrame(Predictor_Hubei.coef_,index = ['Co-efficient']).transpose()\n",
        "w = pd.DataFrame(x.columns, columns = ['Attribute'])"
      ],
      "execution_count": null,
      "outputs": []
    },
    {
      "cell_type": "code",
      "metadata": {
        "trusted": true,
        "id": "tRLP0rVRI4f4",
        "colab_type": "code",
        "colab": {}
      },
      "source": [
        "coeff_df = pd.concat([v,w],axis=1,join='inner'); coeff_df"
      ],
      "execution_count": null,
      "outputs": []
    },
    {
      "cell_type": "markdown",
      "metadata": {
        "id": "AO-7-UvcI4gA",
        "colab_type": "text"
      },
      "source": [
        "**Projections using Hubei Model**"
      ]
    },
    {
      "cell_type": "markdown",
      "metadata": {
        "id": "nO4o3IdFI4gC",
        "colab_type": "text"
      },
      "source": [
        "**New York State**"
      ]
    },
    {
      "cell_type": "code",
      "metadata": {
        "trusted": true,
        "id": "kiYtRFs9I4gD",
        "colab_type": "code",
        "colab": {}
      },
      "source": [
        "NY_conf = df.loc[df['Province/State'] == 'New York', 'Confirmed']\n",
        "NY_data = list(NY_conf.values);\n",
        "print(len(NY_data))"
      ],
      "execution_count": null,
      "outputs": []
    },
    {
      "cell_type": "code",
      "metadata": {
        "trusted": true,
        "id": "xT852E1mI4gP",
        "colab_type": "code",
        "colab": {}
      },
      "source": [
        "temp = []\n",
        "j=0\n",
        "for i in range(len(NY_data)-9):\n",
        "    tmp = NY_data[i:i+10]\n",
        "    temp.append(tmp)\n",
        "\n",
        "df_regr_NY = pd.DataFrame(temp, columns = ['x1', 'x2', 'x3', 'x4', 'x5', 'x6', 'x7','x8','x9','y'])\n",
        "df_regr_NY"
      ],
      "execution_count": null,
      "outputs": []
    },
    {
      "cell_type": "code",
      "metadata": {
        "trusted": true,
        "id": "Nx2rbRz_I4gX",
        "colab_type": "code",
        "colab": {}
      },
      "source": [
        "dim = df_regr_NY.shape[0]\n",
        "x_dates_ny = list(df.loc[df['Province/State'] == 'New York', 'ObservationDate'])[-dim:]"
      ],
      "execution_count": null,
      "outputs": []
    },
    {
      "cell_type": "code",
      "metadata": {
        "trusted": true,
        "id": "aM5qrBGfI4gb",
        "colab_type": "code",
        "colab": {}
      },
      "source": [
        "x_NY = pd.DataFrame(df_regr_NY.iloc[:,:-1]) #features\n",
        "y_NY = pd.DataFrame(df_regr_NY.iloc[:,-1]) # ground truth\n",
        "y_predicted_hubei_NY = Predictor_Hubei.predict(x_NY).flatten()"
      ],
      "execution_count": null,
      "outputs": []
    },
    {
      "cell_type": "code",
      "metadata": {
        "trusted": true,
        "id": "k9Xn_2nJI4gg",
        "colab_type": "code",
        "colab": {}
      },
      "source": [
        "#plotting\n",
        "n_points = df_regr_NY.shape[0]\n",
        "x = np.arange(n_points)\n",
        "y_NY_ground_truth = y_NY.values\n",
        "plt.plot(x_dates_ny,y_NY_ground_truth, label = 'Ground Truth')\n",
        "plt.plot(x_dates_ny,y_predicted_hubei_NY, label = 'Predicted - Hubei Model')\n",
        "ax = plt.axes()\n",
        "ax.xaxis.set_major_locator(plt.MaxNLocator(12))\n",
        "plt.xticks(rotation='vertical')\n",
        "plt.legend(loc='upper left')\n",
        "plt.title(' NY True Confirmed Cases vs Predicted ')\n",
        "plt.show()"
      ],
      "execution_count": null,
      "outputs": []
    },
    {
      "cell_type": "markdown",
      "metadata": {
        "id": "FipowY6bI4gl",
        "colab_type": "raw"
      },
      "source": [
        "Predictions below require some manual intervention, the data in arr variable is the last 9 days of data.  I am working on automating this step"
      ]
    },
    {
      "cell_type": "markdown",
      "metadata": {
        "id": "APn1FeSkI4gm",
        "colab_type": "text"
      },
      "source": [
        "***NY State Forward Predictions: Hubei Model***<br>\n",
        "Below are the rolling 30 days predictions Starting April 04.  The goal is to see where the daily forecasts start converging: <br>\n",
        "Starting with 04/04: 109667, 116966, 123041, 128422, 132820, 136662, 140770, 144519, 147503, 150912, 153916, 156577, 158829, 161008, 162966, 164501, 165869, 167248, 168344, 169268, 170102, 170880, 171460, 171895, 172291, 172593, 172739, 172821, 172857, 172811<br><br>\n",
        "Starting with 04/05: 121004, 128863, 135848, 141593, 145728, 150190, 154731, 158406, 161560, 165356, 168626, 171268, 173652, 176139, 178119, 179617, 181113, 182598, 183659, 184552, 185465, 186264, 186766, 187185, 187599, 187849, 187913, 187959, 187962, 187830<br><br>\n",
        "Starting with 04/06 forward 30 days: 130928, 138826, 145390, 150214, 154826, 159547, 163627, 167135, 170800, 174475, 177428, 180012, 182604, 184854, 186580, 188143, 189688, 190948, 191911, 192854, 193721, 194336, 194789, 195214, 195522, 195640, 195677, 195684, 195577, 195354<br><br>\n",
        "Starting with 04/07 forward 30 days: 139675, 146615, 151777, 156672, 161455, 165609, 169283, 173094, 176715, 179835, 182547, 185221, 187515, 189352, 191008, 192580, 193865, 194910, 195882, 196762, 197405, 197904, 198343, 198656, 198797, 198856, 198860, 198754, 198541, 198285<br><br>\n",
        "Starting with 04/08 forward 30 days: 146807, 152053, 157023, 161871, 166038, 169730, 173578, 177232, 180340, 183089, 185792, 188104, 189951, 191632, 193226, 194516, 195567, 196557, 197444, 198089, 198595, 199045, 199360, 199503, 199567, 199576, 199470, 199257, 199003, 198694"
      ]
    },
    {
      "cell_type": "code",
      "metadata": {
        "trusted": true,
        "id": "LteBWuezI4go",
        "colab_type": "code",
        "colab": {}
      },
      "source": [
        "pred = []\n",
        "arr = [139875.0,151061.0,161779.0,172348.0,181026.0,189033.0,195749.0,203020.0,214454.0]\n",
        "for i in range(30):\n",
        "    x_new = list(Predictor_Hubei.predict(np.array([arr])).flatten())\n",
        "    #print(x_new)\n",
        "    pred.extend(x_new)\n",
        "    arr.pop(0)\n",
        "    arr.extend(x_new)\n",
        "pred = [int(round(item)) for item in pred]\n",
        "print(pred)"
      ],
      "execution_count": null,
      "outputs": []
    },
    {
      "cell_type": "code",
      "metadata": {
        "trusted": true,
        "id": "ACcVzJctI4gx",
        "colab_type": "code",
        "colab": {}
      },
      "source": [
        "#Forward Projections\n",
        "hist_pred = [146807,152053, 157023, 161871, 166038, 169730, 173578, 177232, 180340, 183089, 185792, 188104, 189951, 191632, 193226, 194516, 195567, 196557, 197444, 198089, 198595, 199045, 199360, 199503, 199567, 199576, 199470, 199257, 199003, 198694]\n",
        "n_points_SP = df_regr_NY.shape[0]\n",
        "x = list(np.arange(n_points_SP))\n",
        "x_pred_h = list(np.arange(n_points_SP-13+30))\n",
        "print(len(x_pred_h))\n",
        "#x_pred_c = list(np.arange(n_points_SP-13+30))\n",
        "y_pred_c = list(y_predicted_hubei_NY)\n",
        "y_pred_h = copy.deepcopy(y_pred_c[:-13])\n",
        "print(len(y_pred_h))\n",
        "#y_pred_c.extend(pred)\n",
        "y_pred_h.extend(hist_pred)\n",
        "y_NY_ground_truth = y_NY.values\n",
        "plt.plot(x,y_NY_ground_truth, label = 'Ground Truth', linewidth=4.0)\n",
        "#plt.plot(x_pred_c,y_pred_c, label = 'Predicted as of 04/09')\n",
        "plt.plot(x_pred_h,y_pred_h, label = 'Predicted as of 04/09)')\n",
        "plt.legend(loc='upper left')\n",
        "plt.title(' NY States True Confirmed Cases vs Predicted - Hubei Based Model ')\n",
        "plt.show()"
      ],
      "execution_count": null,
      "outputs": []
    },
    {
      "cell_type": "markdown",
      "metadata": {
        "id": "1yxcH_ZiI4g5",
        "colab_type": "text"
      },
      "source": [
        "**Spain Data**"
      ]
    },
    {
      "cell_type": "code",
      "metadata": {
        "trusted": true,
        "id": "zNYfABm3I4g7",
        "colab_type": "code",
        "colab": {}
      },
      "source": [
        "Spain_conf = df.loc[df['Country/Region'] == 'Spain', 'Confirmed']\n",
        "Spain_data = list(Spain_conf.values);\n",
        "print(Spain_data[-1])\n",
        "print(len(Spain_data))"
      ],
      "execution_count": null,
      "outputs": []
    },
    {
      "cell_type": "code",
      "metadata": {
        "trusted": true,
        "id": "7Nj3wNB1I4hD",
        "colab_type": "code",
        "colab": {}
      },
      "source": [
        "temp = []\n",
        "j=0\n",
        "for i in range(len(Spain_data)-9):\n",
        "    tmp = Spain_data[i:i+10]\n",
        "    temp.append(tmp)\n",
        "\n",
        "df_regr_Spain = pd.DataFrame(temp, columns = ['x1', 'x2', 'x3', 'x4', 'x5', 'x6', 'x7','x8','x9','y'])\n",
        "df_regr_Spain"
      ],
      "execution_count": null,
      "outputs": []
    },
    {
      "cell_type": "code",
      "metadata": {
        "trusted": true,
        "id": "HCafc87DI4hL",
        "colab_type": "code",
        "colab": {}
      },
      "source": [
        "dim = df_regr_Spain.shape[0]\n",
        "x_dates_spain = list(df.loc[df['Country/Region'] == 'Spain', 'ObservationDate'])[-dim:]"
      ],
      "execution_count": null,
      "outputs": []
    },
    {
      "cell_type": "code",
      "metadata": {
        "trusted": true,
        "id": "PPf_VX-yI4hX",
        "colab_type": "code",
        "colab": {}
      },
      "source": [
        "x_Spain = pd.DataFrame(df_regr_Spain.iloc[:,:-1]) #features\n",
        "y_Spain = pd.DataFrame(df_regr_Spain.iloc[:,-1]) # ground truth\n",
        "y_predicted_hubei = Predictor_Hubei.predict(x_Spain).flatten()"
      ],
      "execution_count": null,
      "outputs": []
    },
    {
      "cell_type": "code",
      "metadata": {
        "trusted": true,
        "id": "LbVfQIanI4hg",
        "colab_type": "code",
        "colab": {}
      },
      "source": [
        "#plotting\n",
        "n_points_SP = df_regr_Spain.shape[0]\n",
        "x = np.arange(n_points_SP)\n",
        "y_Spain_ground_truth = y_Spain.values\n",
        "plt.plot(x_dates_spain,y_Spain_ground_truth, label = 'Ground Truth')\n",
        "plt.plot(x_dates_spain,y_predicted_hubei, label = 'Predicted - Hubei Model')\n",
        "ax = plt.axes()\n",
        "ax.xaxis.set_major_locator(plt.MaxNLocator(12))\n",
        "plt.xticks(rotation='vertical')\n",
        "plt.legend(loc='upper left')\n",
        "plt.title(' Spain True Confirmed Cases vs Predicted ')\n",
        "plt.show()"
      ],
      "execution_count": null,
      "outputs": []
    },
    {
      "cell_type": "markdown",
      "metadata": {
        "id": "Q8BYJ3AqI4hp",
        "colab_type": "raw"
      },
      "source": [
        ""
      ]
    },
    {
      "cell_type": "markdown",
      "metadata": {
        "id": "dIzdHGaQI4hr",
        "colab_type": "text"
      },
      "source": [
        "*Spain Forward Predictions: Hubei Model*<br>\n",
        "Below are the rolling 30 days predictions Starting April 04. The goal is to see where the daily forecasts start converging:<br>\n",
        "04/04 30 days forward 30 days: 125697, 131341, 136144, 140465, 144287, 147852, 151137, 154218, 157125, 159764, 162150, 164302, 166190, 167847, 169283, 170549, 171650, 172595, 173415, 174114, 174690, 175152, 175509, 175768, 175928, 176002, 176000, 175925, 175781, 175578 <br>\n",
        "04/05 30 days forward 30 days: 131792, 136794, 141294, 145266, 148864, 152188, 155358, 158342, 160952, 163427, 165647, 167578, 169258, 170754, 172069, 173185, 174143, 175006, 175721, 176303, 176780, 177161, 177428, 177591, 177677, 177687, 177610, 177467, 177269, 177012 <br>"
      ]
    },
    {
      "cell_type": "code",
      "metadata": {
        "trusted": true,
        "id": "MZuS2P5MI4ht",
        "colab_type": "code",
        "colab": {}
      },
      "source": [
        "pred = []\n",
        "arr = [73235.0,80110.0,87956.0,95923.0,104118.0,112065.0,119199.0, 126168.0,141942.0] #last 9 days ending Apr.03\n",
        "for i in range(30):\n",
        "    x_new = list(Predictor_Hubei.predict(np.array([arr])).flatten())\n",
        "    pred.extend(x_new)\n",
        "    arr.pop(0)\n",
        "    arr.extend(x_new)\n",
        "pred = [int(round(item)) for item in pred]\n",
        "print(pred)"
      ],
      "execution_count": null,
      "outputs": []
    },
    {
      "cell_type": "markdown",
      "metadata": {
        "id": "rVeZFWneI4hy",
        "colab_type": "text"
      },
      "source": [
        "**Russia Data**"
      ]
    },
    {
      "cell_type": "code",
      "metadata": {
        "trusted": true,
        "id": "IbvEKbUlI4hz",
        "colab_type": "code",
        "colab": {}
      },
      "source": [
        "Russia_conf = df.loc[df['Country/Region'] == 'Russia', 'Confirmed']\n",
        "Russia_data = list(Russia_conf.values);\n",
        "print(Russia_data[-1])\n",
        "print(len(Russia_data))"
      ],
      "execution_count": null,
      "outputs": []
    },
    {
      "cell_type": "code",
      "metadata": {
        "trusted": true,
        "id": "-SldqewLI4h6",
        "colab_type": "code",
        "colab": {}
      },
      "source": [
        "temp = []\n",
        "j=0\n",
        "for i in range(len(Russia_data)-9):\n",
        "    tmp = Russia_data[i:i+10]\n",
        "    temp.append(tmp)\n",
        "\n",
        "df_regr_Russia = pd.DataFrame(temp, columns = ['x1', 'x2', 'x3', 'x4', 'x5', 'x6', 'x7','x8','x9','y'])\n",
        "df_regr_Russia"
      ],
      "execution_count": null,
      "outputs": []
    },
    {
      "cell_type": "code",
      "metadata": {
        "trusted": true,
        "id": "CViRXzsPI4h_",
        "colab_type": "code",
        "colab": {}
      },
      "source": [
        "dim = df_regr_Russia.shape[0]\n",
        "x_dates_rus = list(df.loc[df['Country/Region'] == 'Russia', 'ObservationDate'])[-dim:]"
      ],
      "execution_count": null,
      "outputs": []
    },
    {
      "cell_type": "code",
      "metadata": {
        "trusted": true,
        "id": "pXwtPmmOI4iF",
        "colab_type": "code",
        "colab": {}
      },
      "source": [
        "x_Russia = pd.DataFrame(df_regr_Russia.iloc[:,:-1]) #features\n",
        "y_Russia = pd.DataFrame(df_regr_Russia.iloc[:,-1]) # ground truth\n",
        "y_predicted_hubei = Predictor_Hubei.predict(x_Russia).flatten()"
      ],
      "execution_count": null,
      "outputs": []
    },
    {
      "cell_type": "code",
      "metadata": {
        "trusted": true,
        "id": "QtNDq1lkI4iN",
        "colab_type": "code",
        "colab": {}
      },
      "source": [
        "#plotting\n",
        "n_points = df_regr_Russia.shape[0]\n",
        "x = np.arange(n_points)\n",
        "y_Russia_ground_truth = y_Russia.values\n",
        "plt.plot(x_dates_rus,y_Russia_ground_truth, label = 'Ground Truth')\n",
        "plt.plot(x_dates_rus,y_predicted_hubei, label = 'Predicted - Hubei Model')\n",
        "ax = plt.axes()\n",
        "ax.xaxis.set_major_locator(plt.MaxNLocator(12))\n",
        "plt.xticks(rotation='vertical')\n",
        "plt.legend(loc='upper left')\n",
        "plt.title(' Russia True Confirmed Cases vs Predicted ')\n",
        "plt.show()"
      ],
      "execution_count": null,
      "outputs": []
    },
    {
      "cell_type": "markdown",
      "metadata": {
        "id": "ACT17LvCI4iU",
        "colab_type": "text"
      },
      "source": [
        "**Russia Forward Predictions** <br>\n",
        "Starting 04/04 30 days forward: 4027, 4653, 5228, 5774, 6265, 6777, 7292, 7830, 8317, 8880, 9422, 9960, 10491, 11036, 11570, 12091, 12609, 13141, 13656, 14170, 14686, 15203, 15711, 16215, 16721, 17222, 17715, 18208, 18698, 19183"
      ]
    },
    {
      "cell_type": "code",
      "metadata": {
        "trusted": true,
        "id": "frpT3upbI4iV",
        "colab_type": "code",
        "colab": {}
      },
      "source": [
        "pred = []\n",
        "arr = [ 658.0,840.0,1036.0,1264.0,1534.0,1836.0,2337.0,2777.0,3548.0]\n",
        "for i in range(30):\n",
        "    x_new = list(Predictor_Hubei.predict(np.array([arr])).flatten())\n",
        "    pred.extend(x_new)\n",
        "    arr.pop(0)\n",
        "    arr.extend(x_new)\n",
        "pred = [int(round(item)) for item in pred]\n",
        "print(pred)"
      ],
      "execution_count": null,
      "outputs": []
    },
    {
      "cell_type": "markdown",
      "metadata": {
        "id": "0yCPo3jXI4ib",
        "colab_type": "text"
      },
      "source": [
        "# Model Training on the Italy's Data"
      ]
    },
    {
      "cell_type": "code",
      "metadata": {
        "trusted": true,
        "id": "c6uLf-yOI4ic",
        "colab_type": "code",
        "colab": {}
      },
      "source": [
        "Italy_conf = df.loc[df['Country/Region'] == 'Italy', 'Confirmed']\n",
        "italy_data = list(Italy_conf.values)\n",
        "print(italy_data[-5:])\n",
        "italy_data.extend([143000,143000])#data padding experiment\n",
        "print(len(italy_data))"
      ],
      "execution_count": null,
      "outputs": []
    },
    {
      "cell_type": "code",
      "metadata": {
        "trusted": true,
        "id": "BJh4rPX6I4ii",
        "colab_type": "code",
        "colab": {}
      },
      "source": [
        "temp = []\n",
        "j=0\n",
        "for i in range(0,len(italy_data),10):\n",
        "    if i > 0:\n",
        "        tmp = italy_data[j:i]\n",
        "        temp.append(tmp)\n",
        "        j = i\n",
        "df_regr_italy = pd.DataFrame(temp, columns = ['x1', 'x2', 'x3', 'x4', 'x5', 'x6', 'x7','x8','x9','y'])\n",
        "df_regr_italy.head(10)"
      ],
      "execution_count": null,
      "outputs": []
    },
    {
      "cell_type": "code",
      "metadata": {
        "trusted": true,
        "id": "jHGegBP4I4in",
        "colab_type": "code",
        "colab": {}
      },
      "source": [
        "x_italy=pd.DataFrame(df_regr_italy.iloc[:,:-1]) #features\n",
        "y_italy=pd.DataFrame(df_regr_italy.iloc[:,-1]) # projected variable"
      ],
      "execution_count": null,
      "outputs": []
    },
    {
      "cell_type": "code",
      "metadata": {
        "trusted": true,
        "id": "U1j8zQ0HI4ir",
        "colab_type": "code",
        "colab": {}
      },
      "source": [
        "#fitting linear regression\n",
        "predictor_it = linear_model.LinearRegression()"
      ],
      "execution_count": null,
      "outputs": []
    },
    {
      "cell_type": "code",
      "metadata": {
        "trusted": true,
        "id": "VKTrihVJI4iw",
        "colab_type": "code",
        "colab": {}
      },
      "source": [
        "Predictor_Italy = predictor_it.fit(x_italy,y_italy)"
      ],
      "execution_count": null,
      "outputs": []
    },
    {
      "cell_type": "code",
      "metadata": {
        "trusted": true,
        "id": "y0aY8ZUBI4i5",
        "colab_type": "code",
        "colab": {}
      },
      "source": [
        "v_italy=pd.DataFrame(Predictor_Italy.coef_,index = ['Co-efficient']).transpose()\n",
        "w_italy = pd.DataFrame(x_italy.columns, columns = ['Attribute'])"
      ],
      "execution_count": null,
      "outputs": []
    },
    {
      "cell_type": "code",
      "metadata": {
        "trusted": true,
        "id": "01U9JTETI4i-",
        "colab_type": "code",
        "colab": {}
      },
      "source": [
        "coeff_df_italy = pd.concat([v_italy,w_italy],axis=1,join='inner'); coeff_df_italy"
      ],
      "execution_count": null,
      "outputs": []
    },
    {
      "cell_type": "markdown",
      "metadata": {
        "id": "JffNOIqKI4jD",
        "colab_type": "text"
      },
      "source": [
        "**Testing prediction model on NY State Data**<br>"
      ]
    },
    {
      "cell_type": "code",
      "metadata": {
        "trusted": true,
        "id": "wmEwtau0I4jF",
        "colab_type": "code",
        "colab": {}
      },
      "source": [
        "NY_conf = df.loc[df['Province/State'] == 'New York', 'Confirmed']\n",
        "NY_data = list(NY_conf.values);\n",
        "print(NY_data[-3:])\n",
        "print(len(NY_data))"
      ],
      "execution_count": null,
      "outputs": []
    },
    {
      "cell_type": "code",
      "metadata": {
        "trusted": true,
        "id": "cnZ7Nlc1I4jL",
        "colab_type": "code",
        "colab": {}
      },
      "source": [
        "temp = []\n",
        "j=0\n",
        "for i in range(len(NY_data)-9):\n",
        "    tmp = NY_data[i:i+10]\n",
        "    temp.append(tmp)\n",
        "\n",
        "df_regr_NY = pd.DataFrame(temp, columns = ['x1', 'x2', 'x3', 'x4', 'x5', 'x6', 'x7','x8','x9','y'])\n",
        "df_regr_NY"
      ],
      "execution_count": null,
      "outputs": []
    },
    {
      "cell_type": "code",
      "metadata": {
        "trusted": true,
        "id": "5ocaYPEiI4jP",
        "colab_type": "code",
        "colab": {}
      },
      "source": [
        "dim = df_regr_NY.shape[0]\n",
        "x_dates_ny = list(df.loc[df['Province/State'] == 'New York', 'ObservationDate'])[-dim:]"
      ],
      "execution_count": null,
      "outputs": []
    },
    {
      "cell_type": "code",
      "metadata": {
        "trusted": true,
        "id": "ivaURnfrI4jT",
        "colab_type": "code",
        "colab": {}
      },
      "source": [
        "x_NY = pd.DataFrame(df_regr_NY.iloc[:,:-1]) #features\n",
        "y_NY = pd.DataFrame(df_regr_NY.iloc[:,-1]) # ground truth\n",
        "y_predicted_NY = Predictor_Italy.predict(x_NY).flatten()"
      ],
      "execution_count": null,
      "outputs": []
    },
    {
      "cell_type": "code",
      "metadata": {
        "trusted": true,
        "id": "M8qrSpGnI4jg",
        "colab_type": "code",
        "colab": {}
      },
      "source": [
        "#plotting\n",
        "n_points = df_regr_NY.shape[0]\n",
        "x = np.arange(n_points)\n",
        "y_NY_ground_truth = y_NY.values\n",
        "plt.plot(x_dates_ny,y_NY_ground_truth, label = 'Ground Truth')\n",
        "plt.plot(x_dates_ny,y_predicted_NY, label = 'Predicted - Italian Model')\n",
        "ax = plt.axes()\n",
        "ax.xaxis.set_major_locator(plt.MaxNLocator(12))\n",
        "plt.xticks(rotation='vertical')\n",
        "plt.legend(loc='upper left')\n",
        "plt.title(' NY True Confirmed Cases vs Predicted ')\n",
        "plt.show()"
      ],
      "execution_count": null,
      "outputs": []
    },
    {
      "cell_type": "markdown",
      "metadata": {
        "id": "nEgvcUJNI4jl",
        "colab_type": "text"
      },
      "source": [
        "*New State Forward Predictions (Italy Data Trained Predictor): <br>\n",
        "Since the Italian epidemics in still in the growth stage, the model based on the Italy predictor seems to be fairly unstable The below predictions are mostly to track the model performance<br>\n",
        "Starting 04/06 9 days: 132485, 138266, 143706, 153380, 169844, 184386, 193584, 183346, 164890 <br>\n",
        "Starting 04/07 9 days: 137102, 142186, 152415, 169684, 185056, 192324, 179031, 157561, 155884<br>\n",
        "Starting 04/08 9days: 146414, 157350, 171611, 183936, 189180, 186009, 176754, 183940, 218598<br>\n",
        "Starting 04/09 9 days: 166034, 183424, 192821, 191423, 180337, 181689, 211254, 271087, 309271<br>"
      ]
    },
    {
      "cell_type": "code",
      "metadata": {
        "trusted": true,
        "id": "jfIxmQT7I4jm",
        "colab_type": "code",
        "colab": {}
      },
      "source": [
        "pred = []\n",
        "arr = [75833.0,83948.0,92506.0,102987.0,113833.0,123160.0,131815.0,139875.0,151061.0]\n",
        "for i in range(10):\n",
        "    x_new = list(Predictor_Italy.predict(np.array([arr])).flatten())\n",
        "    #print(x_new)\n",
        "    pred.extend(x_new)\n",
        "    arr.pop(0)\n",
        "    arr.extend(x_new)\n",
        "pred = [int(round(item)) for item in pred]\n",
        "print(pred)"
      ],
      "execution_count": null,
      "outputs": []
    },
    {
      "cell_type": "markdown",
      "metadata": {
        "id": "uYMoP0XGI4js",
        "colab_type": "text"
      },
      "source": [
        "*Model Testing - Spain's Data*"
      ]
    },
    {
      "cell_type": "code",
      "metadata": {
        "trusted": true,
        "id": "A04BJz2bI4jt",
        "colab_type": "code",
        "colab": {}
      },
      "source": [
        "Spain_conf = df.loc[df['Country/Region'] == 'Spain', 'Confirmed']\n",
        "Spain_data = list(Spain_conf.values);\n",
        "print(Spain_data[-1])\n",
        "print(len(Spain_data))"
      ],
      "execution_count": null,
      "outputs": []
    },
    {
      "cell_type": "code",
      "metadata": {
        "trusted": true,
        "id": "gbWzNpbnI4jx",
        "colab_type": "code",
        "colab": {}
      },
      "source": [
        "temp = []\n",
        "j=0\n",
        "for i in range(len(Spain_data)-9):\n",
        "    tmp = Spain_data[i:i+10]\n",
        "    temp.append(tmp)\n",
        "\n",
        "df_regr_Spain = pd.DataFrame(temp, columns = ['x1', 'x2', 'x3', 'x4', 'x5', 'x6', 'x7','x8','x9','y'])\n",
        "df_regr_Spain"
      ],
      "execution_count": null,
      "outputs": []
    },
    {
      "cell_type": "code",
      "metadata": {
        "trusted": true,
        "id": "epIaZkhdI4j2",
        "colab_type": "code",
        "colab": {}
      },
      "source": [
        "x_Spain = pd.DataFrame(df_regr_Spain.iloc[:,:-1]) #features\n",
        "y_Spain = pd.DataFrame(df_regr_Spain.iloc[:,-1]) # ground truth\n",
        "y_predicted = Predictor_Italy.predict(x_Spain).flatten()"
      ],
      "execution_count": null,
      "outputs": []
    },
    {
      "cell_type": "code",
      "metadata": {
        "trusted": true,
        "id": "ZqQd5cOpI4j8",
        "colab_type": "code",
        "colab": {}
      },
      "source": [
        "#plotting\n",
        "n_points_SP = df_regr_Spain.shape[0]\n",
        "x = np.arange(n_points_SP)\n",
        "y_Spain_ground_truth = y_Spain.values\n",
        "plt.plot(x,y_Spain_ground_truth, label = 'Ground Truth')\n",
        "plt.plot(x,y_predicted, label = 'Predicted - Italian Model')\n",
        "plt.legend(loc='upper left')\n",
        "plt.title(' Spain True Confirmed Cases vs Predicted ')\n",
        "plt.show()"
      ],
      "execution_count": null,
      "outputs": []
    },
    {
      "cell_type": "markdown",
      "metadata": {
        "id": "q9R8dW0MI4kE",
        "colab_type": "text"
      },
      "source": [
        "*Spain  Forward Predictions (Italy Trained Predictor)*<br>\n",
        "Starting 04/04 10 days forward (model seems unstable passed 10 days, I believe it is bcs we don't know when Italy's growth rate levels up): 124528, 131989, 140533, 150170, 154839, 153917, 145798, 147881, 160009, 179577"
      ]
    },
    {
      "cell_type": "code",
      "metadata": {
        "trusted": true,
        "id": "xC3be6OEI4kF",
        "colab_type": "code",
        "colab": {}
      },
      "source": [
        "pred = []\n",
        "arr = [57786.0,65719.0,73235.0,80110.0,87956.0,95923.0,104118.0,112065.0,119199.0]\n",
        "for i in range(10):\n",
        "    x_new = list(Predictor_Italy.predict(np.array([arr])).flatten())\n",
        "    pred.extend(x_new)\n",
        "    arr.pop(0)\n",
        "    arr.extend(x_new)\n",
        "pred = [int(round(item)) for item in pred]\n",
        "print(pred)"
      ],
      "execution_count": null,
      "outputs": []
    },
    {
      "cell_type": "markdown",
      "metadata": {
        "id": "o8b0tB_MI4kJ",
        "colab_type": "text"
      },
      "source": [
        "**Prediction: Russia**"
      ]
    },
    {
      "cell_type": "code",
      "metadata": {
        "trusted": true,
        "id": "gnoeqnADI4kK",
        "colab_type": "code",
        "colab": {}
      },
      "source": [
        "Russia_conf = df.loc[df['Country/Region'] == 'Russia', 'Confirmed']\n",
        "Russia_data = list(Russia_conf.values);\n",
        "print(Russia_data[-1])\n",
        "print(len(Russia_data))"
      ],
      "execution_count": null,
      "outputs": []
    },
    {
      "cell_type": "code",
      "metadata": {
        "trusted": true,
        "id": "gGvPFwl5I4kP",
        "colab_type": "code",
        "colab": {}
      },
      "source": [
        "temp = []\n",
        "j=0\n",
        "for i in range(len(Russia_data)-9):\n",
        "    tmp = Russia_data[i:i+10]\n",
        "    temp.append(tmp)\n",
        "\n",
        "df_regr_Russia = pd.DataFrame(temp, columns = ['x1', 'x2', 'x3', 'x4', 'x5', 'x6', 'x7','x8','x9','y'])\n",
        "df_regr_Russia"
      ],
      "execution_count": null,
      "outputs": []
    },
    {
      "cell_type": "code",
      "metadata": {
        "trusted": true,
        "id": "fhMCN02yI4kT",
        "colab_type": "code",
        "colab": {}
      },
      "source": [
        "x_Russia = pd.DataFrame(df_regr_Russia.iloc[:,:-1]) #features\n",
        "y_Russia = pd.DataFrame(df_regr_Russia.iloc[:,-1]) # ground truth\n",
        "y_predicted_Russia = Predictor_Italy.predict(x_Russia).flatten()"
      ],
      "execution_count": null,
      "outputs": []
    },
    {
      "cell_type": "code",
      "metadata": {
        "trusted": true,
        "id": "J2TIsGaAI4kY",
        "colab_type": "code",
        "colab": {}
      },
      "source": [
        "#plotting\n",
        "n_points = df_regr_Russia.shape[0]\n",
        "x = np.arange(n_points)\n",
        "y_Russia_ground_truth = y_Russia.values\n",
        "plt.plot(x,y_Russia_ground_truth, label = 'Ground Truth')\n",
        "plt.plot(x,y_predicted_Russia, label = 'Predicted - Italian Model')\n",
        "plt.legend(loc='upper left')\n",
        "plt.title(' Russia True Confirmed Cases vs Predicted ')\n",
        "plt.show()"
      ],
      "execution_count": null,
      "outputs": []
    },
    {
      "cell_type": "markdown",
      "metadata": {
        "id": "6AElvBQ_I4kd",
        "colab_type": "text"
      },
      "source": [
        "*Russia  Forward Predictions (Italy Trained Predictor)*<br>\n",
        "Starting 04/04 10 days forward (model seems unstable passed 10 days, I believe it is bcs we don't know when Italy's growth rate levels up):4682, 4880, 5802, 6790, 8854, 9670, 9869"
      ]
    },
    {
      "cell_type": "code",
      "metadata": {
        "trusted": true,
        "id": "-ywCheOyI4ke",
        "colab_type": "code",
        "colab": {}
      },
      "source": [
        "pred = []\n",
        "arr = [840.0,1036.0,1264.0,1534.0,1836.0,2337.0,2777.0,3548.0,4149.0]\n",
        "for i in range(7):\n",
        "    x_new = list(Predictor_Italy.predict(np.array([arr])).flatten())\n",
        "    #print(x_new)\n",
        "    pred.extend(x_new)\n",
        "    arr.pop(0)\n",
        "    arr.extend(x_new)\n",
        "pred = [int(round(item)) for item in pred]\n",
        "print(pred)"
      ],
      "execution_count": null,
      "outputs": []
    },
    {
      "cell_type": "markdown",
      "metadata": {
        "id": "PU3PKjPbI4ki",
        "colab_type": "text"
      },
      "source": [
        "**Researching the distribution of daily relative growth rates for confirmed cases**"
      ]
    },
    {
      "cell_type": "code",
      "metadata": {
        "trusted": true,
        "id": "VduwomLSI4kj",
        "colab_type": "code",
        "colab": {}
      },
      "source": [
        "#Distribution on the normalized daily confirmed cases rate for Italy\n",
        "plot_Italy_conf = [item for item in plot_Italy_conf if item<1.5 and item>0]\n",
        "print(plot_Italy_conf)\n",
        "plt.hist(plot_Italy_conf, bins=20)"
      ],
      "execution_count": null,
      "outputs": []
    },
    {
      "cell_type": "code",
      "metadata": {
        "trusted": true,
        "id": "yuN9jxCuI4ko",
        "colab_type": "code",
        "colab": {}
      },
      "source": [
        "#Distribution on the normalized daily confirmed cases rate for NY State\n",
        "plot_NY_conf = [item for item in plot_NY_conf if item<1.5 and item>0]\n",
        "plt.title('Normalized Daily Confirmed Cases Growth Distribtuion - NY State ')\n",
        "plt.hist(plot_NY_conf, bins=20)"
      ],
      "execution_count": null,
      "outputs": []
    },
    {
      "cell_type": "code",
      "metadata": {
        "trusted": true,
        "id": "GhZ6UN5-I4kt",
        "colab_type": "code",
        "colab": {}
      },
      "source": [
        "#Distribution on the normalized daily confirmed cases rate for Spain\n",
        "plot_Spain_conf = [item for item in plot_Spain_conf if item<2.5 and item>0]\n",
        "plt.title('Normalized Daily Confirmed Cases Growth Distribtuion - Spain ')\n",
        "plt.hist(plot_Spain_conf, bins=20)"
      ],
      "execution_count": null,
      "outputs": []
    },
    {
      "cell_type": "code",
      "metadata": {
        "trusted": true,
        "id": "ZgPWtuIgI4kx",
        "colab_type": "code",
        "colab": {}
      },
      "source": [
        "#Distribution on the normalized daily confirmed cases rate for Hubei\n",
        "plot_Hubei_conf = [item for item in plot_Hubei_conf if item<1.5 and item > 0]\n",
        "plt.hist(plot_Hubei_conf, bins=20)"
      ],
      "execution_count": null,
      "outputs": []
    },
    {
      "cell_type": "code",
      "metadata": {
        "trusted": true,
        "id": "iEZkYU40I4k1",
        "colab_type": "code",
        "colab": {}
      },
      "source": [
        "#Distribution on the normalized daily confirmed cases rate for Hubei\n",
        "plot_DC_conf = [item for item in plot_DC_conf if item<1.5 and item > 0]\n",
        "plt.hist(plot_DC_conf, bins=20)"
      ],
      "execution_count": null,
      "outputs": []
    },
    {
      "cell_type": "code",
      "metadata": {
        "trusted": true,
        "id": "1nRN_7IzI4k8",
        "colab_type": "code",
        "colab": {}
      },
      "source": [
        "#Distribution on the normalized daily confirmed cases rate for Russia\n",
        "plot_Russia_conf = [item for item in plot_Russia_conf if item<1.5 and item>0]\n",
        "plt.hist(plot_Russia_conf, bins=20)"
      ],
      "execution_count": null,
      "outputs": []
    },
    {
      "cell_type": "markdown",
      "metadata": {
        "id": "YGL7SGNxI4lA",
        "colab_type": "text"
      },
      "source": [
        "*Service code & New Features*"
      ]
    },
    {
      "cell_type": "code",
      "metadata": {
        "trusted": true,
        "id": "HnuIuSeBI4lB",
        "colab_type": "code",
        "colab": {}
      },
      "source": [
        "arr = [67801., 67801., 67801., 67801., 67801., 67801., 67801., 67802., 67802.]\n",
        "x_new = list(Predictor_Hubei.predict(np.array([arr])).flatten())\n",
        "print(x_new)"
      ],
      "execution_count": null,
      "outputs": []
    },
    {
      "cell_type": "code",
      "metadata": {
        "trusted": true,
        "id": "jYt7hzq5I4lJ",
        "colab_type": "code",
        "colab": {}
      },
      "source": [
        "arr = [67801., 67801., 67801., 67801., 67801., 67801., 67801., 67802., 67802.]\n",
        "x_new = list(Predictor_Italy.predict(np.array([arr])).flatten())\n",
        "print(x_new)"
      ],
      "execution_count": null,
      "outputs": []
    },
    {
      "cell_type": "code",
      "metadata": {
        "trusted": true,
        "id": "ZoMrXmzpI4lO",
        "colab_type": "code",
        "colab": {}
      },
      "source": [
        "date = df.loc[df['Country/Region'] == 'Spain', 'ObservationDate']\n",
        "confirmed = df.loc[df['Country/Region'] == 'Spain', 'Confirmed']\n",
        "frame = { 'Date': date, 'Confirmed': confirmed } \n",
        "result = pd.DataFrame(frame); list(result['Confirmed'])"
      ],
      "execution_count": null,
      "outputs": []
    },
    {
      "cell_type": "code",
      "metadata": {
        "trusted": true,
        "id": "vQLYQ9o4I4lT",
        "colab_type": "code",
        "colab": {}
      },
      "source": [
        "from scipy.stats import poisson\n",
        "from scipy.stats import expon\n",
        "counts, bins = np.histogram(plot_NY_conf)\n",
        "#data_expon = expon.pdf([0,0.2,0.4,0.8,1.,1.2])\n",
        "plt.hist(bins[:-1], bins, weights=counts/sum(counts))\n",
        "#plt.plot(data_expon)\n",
        "#plt.show()"
      ],
      "execution_count": null,
      "outputs": []
    },
    {
      "cell_type": "code",
      "metadata": {
        "trusted": true,
        "id": "x6RBNSbcI4lX",
        "colab_type": "code",
        "colab": {}
      },
      "source": [
        "#fitting Normal Distribution\n",
        "from scipy.stats import norm\n",
        "from numpy import linspace\n",
        "\n",
        "# picking 150 of from a normal distrubution\n",
        "# with mean 0 and standard deviation 1\n",
        "samp = norm.rvs(loc=0.26,scale=0.065,size=150) \n",
        "\n",
        "param = norm.fit(samp) # distribution fitting\n",
        "\n",
        "# now, param[0] and param[1] are the mean and \n",
        "# the standard deviation of the fitted distribution\n",
        "x = linspace(0,1,50)\n",
        "# fitted distribution\n",
        "pdf_fitted = norm.pdf(x,loc=param[0],scale=param[1])\n",
        "# original distribution\n",
        "pdf = norm.pdf(x)\n",
        "plt.plot(x,pdf_fitted)\n",
        "plt.hist(plot_Russia_conf, bins=20)\n",
        "plt.show()"
      ],
      "execution_count": null,
      "outputs": []
    },
    {
      "cell_type": "code",
      "metadata": {
        "trusted": true,
        "id": "A-XINKd3I4la",
        "colab_type": "code",
        "colab": {}
      },
      "source": [
        "#Poisson & Exponential Distrbutions fitting\n",
        "from scipy.stats import poisson\n",
        "from scipy.stats import expon\n",
        "import matplotlib.pyplot as plt\n",
        "plt.ylabel('Total of ')\n",
        "plt.xlabel('Number of data points in range')\n",
        "plt.title('Total Numbers Distribution - NY Normalize growth rate of Confirmed Cases')\n",
        "arr = []\n",
        "data_expon = []\n",
        "rv = poisson(2)\n",
        "for num in range(0,10):\n",
        " arr.append(rv.pmf(num))\n",
        "data_poisson = poisson.rvs(mu=3, size=25)\n",
        "data_expon = expon.rvs(scale=1,loc=1,size=25)\n",
        "#print(data_expon)\n",
        "plot_NY_conf_scaled = [item*10 for item in plot_NY_conf if item<1.5 and item>0]\n",
        "\n",
        "# print(rv.pmf(28))\n",
        "#prob = rv.pmf(28)\n",
        "plt.grid(True)\n",
        "#plt.hist(data_poisson, linewidth=2.0)\n",
        "#plt.hist(data_expon, linewidth=2.0)\n",
        "plt.hist(plot_NY_conf_scaled, bins=20)\n",
        "#plt.plot([28], [prob], marker='o', markersize=6, color=\"red\")\n",
        "plt.show()\n",
        "#data_expon.clear()"
      ],
      "execution_count": null,
      "outputs": []
    },
    {
      "cell_type": "code",
      "metadata": {
        "trusted": true,
        "id": "GxO5xjtBI4ld",
        "colab_type": "code",
        "colab": {}
      },
      "source": [
        "'''data_poisson = poisson.rvs(mu=1, size=25)\n",
        "plt.hist(data_poisson, linewidth=2.0)'''"
      ],
      "execution_count": null,
      "outputs": []
    },
    {
      "cell_type": "code",
      "metadata": {
        "trusted": true,
        "id": "mYWVCTygI4li",
        "colab_type": "code",
        "colab": {}
      },
      "source": [
        "#data ranges\n",
        "''' from datetime import date, timedelta\n",
        "\n",
        "sdate = date(2008, 8, 15)   # start date\n",
        "edate = date(2008, 9, 15)   # end date\n",
        "\n",
        "delta = edate - sdate       # as timedelta\n",
        "\n",
        "for i in range(delta.days + 1):\n",
        "    day = sdate + timedelta(days=i)\n",
        "    print(day)'''"
      ],
      "execution_count": null,
      "outputs": []
    }
  ]
}